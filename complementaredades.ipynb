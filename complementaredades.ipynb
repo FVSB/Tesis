{
 "cells": [
  {
   "cell_type": "code",
   "execution_count": 1,
   "metadata": {},
   "outputs": [
    {
     "name": "stdout",
     "output_type": "stream",
     "text": [
      "\n",
      "******************************************************************************\n",
      "This program contains Ipopt, a library for large-scale nonlinear optimization.\n",
      " Ipopt is released as open source code under the Eclipse Public License (EPL).\n",
      "         For more information visit https://github.com/coin-or/Ipopt\n",
      "******************************************************************************\n",
      "\n",
      "This is Ipopt version 3.14.16, running with linear solver MUMPS 5.7.3.\n",
      "\n",
      "Number of nonzeros in equality constraint Jacobian...:       49\n",
      "Number of nonzeros in inequality constraint Jacobian.:       41\n",
      "Number of nonzeros in Lagrangian Hessian.............:       77\n",
      "\n",
      "Total number of variables............................:       22\n",
      "                     variables with only lower bounds:        0\n",
      "                variables with lower and upper bounds:        0\n",
      "                     variables with only upper bounds:        0\n",
      "Total number of equality constraints.................:       18\n",
      "Total number of inequality constraints...............:       27\n",
      "        inequality constraints with only lower bounds:       12\n",
      "   inequality constraints with lower and upper bounds:        0\n",
      "        inequality constraints with only upper bounds:       15\n",
      "\n",
      "iter    objective    inf_pr   inf_du lg(mu)  ||d||  lg(rg) alpha_du alpha_pr  ls\n",
      "   0  4.0000000e+00 1.00e+00 3.24e-01  -1.0 0.00e+00    -  0.00e+00 0.00e+00   0\n",
      "   1  3.7146221e+00 9.70e-01 3.19e+01  -1.7 1.71e+00   2.0 1.00e+00 3.01e-02h  1\n",
      "   2  2.8826168e-01 4.49e-01 1.80e+02  -1.7 1.75e+00   1.5 1.00e+00 5.37e-01h  1\n",
      "   3  2.3837739e-03 1.42e-01 1.38e+02  -1.7 7.26e-01   1.9 3.24e-01 6.84e-01h  1\n",
      "   4  5.3559882e-07 5.17e-03 7.88e+02  -1.7 2.11e-01   1.5 8.80e-01 9.64e-01h  1\n",
      "   5  5.7089605e-11 5.61e-05 2.06e+02  -1.7 1.40e+00    -  7.52e-01 9.89e-01h  1\n",
      "   6  4.6403853e-15 6.94e-07 1.29e+03  -1.7 1.59e+00    -  9.18e-01 9.91e-01H  1\n",
      "   7  4.3680337e-15 6.77e-07 3.17e+05  -1.7 1.48e+01    -  3.65e-01 2.45e-02f  6\n",
      "   8  3.3705677e-15 6.14e-07 4.67e+05  -1.7 1.43e+01    -  3.26e-01 1.06e-01f  4\n",
      "   9  3.3150566e-15 6.09e-07 7.40e+05  -1.7 1.63e+01    -  3.64e-01 7.53e-03f  8\n",
      "iter    objective    inf_pr   inf_du lg(mu)  ||d||  lg(rg) alpha_du alpha_pr  ls\n",
      "  10  1.8388069e-15 4.99e-07 6.12e+05  -1.7 2.28e+01    -  2.85e-01 2.27e-01f  3\n",
      "  11  1.8075819e-15 4.95e-07 8.26e+05  -1.7 3.15e+01    -  3.73e-01 7.81e-03f  8\n",
      "  12 -5.5511151e-17 1.65e-07 3.41e+05  -1.7 5.76e+01    -  2.32e-01 1.00e+00F  1\n",
      "  13  0.0000000e+00 8.37e-08 1.15e+06  -1.7 8.29e+01    -  6.21e-01 1.00e+00f  1\n",
      "  14  2.2204460e-16 4.29e-08 4.39e+05  -1.7 2.25e+02    -  5.67e-01 1.00e+00f  1\n",
      "  15  0.0000000e+00 2.22e-08 1.16e+05  -1.7 5.35e+02    -  5.82e-01 1.00e+00f  1\n",
      "  16  0.0000000e+00 1.14e-08 2.09e+05  -1.7 1.28e+03    -  5.87e-01 1.00e+00f  1\n",
      "  17  0.0000000e+00 5.57e-09 2.60e+05  -1.7 3.03e+03    -  5.97e-01 1.00e+00f  1\n",
      "  18  2.2204460e-16 2.47e-09 1.88e+05  -1.7 6.98e+03    -  6.13e-01 1.00e+00f  1\n",
      "  19  0.0000000e+00 1.04e-09 1.03e+06  -2.5 2.12e+03    -  5.13e-01 1.00e+00f  1\n",
      "iter    objective    inf_pr   inf_du lg(mu)  ||d||  lg(rg) alpha_du alpha_pr  ls\n",
      "  20  0.0000000e+00 4.57e-10 2.36e+05  -2.5 4.42e+03    -  7.49e-01 1.00e+00f  1\n",
      "  21  0.0000000e+00 2.12e-10 6.17e+04  -2.5 1.78e+04    -  7.23e-01 1.00e+00f  1\n",
      "  22  0.0000000e+00 1.02e-10 1.60e+05  -3.8 2.06e+03    -  5.13e-01 1.00e+00f  1\n",
      "  23  2.2204460e-16 7.26e-11 3.01e-04  -3.8 3.05e-05   1.0 1.00e+00 1.00e+00h  1\n",
      "  24  0.0000000e+00 7.13e-11 7.18e+03  -8.6 1.16e+06    -  3.16e-02 5.00e-01h  2\n",
      "  25  0.0000000e+00 2.63e-09 1.95e-04  -8.6 5.91e-05   0.5 1.00e+00 1.00e+00s 22\n",
      "  26  2.2204460e-16 5.02e-09 1.95e-04  -8.6 1.77e-04   0.0 1.00e+00 1.00e+00s 22\n",
      "  27  2.2204460e-16 5.04e-09 1.95e-04  -9.0 5.32e-04  -0.4 1.00e+00 1.00e+00s 22\n",
      "\n",
      "Number of Iterations....: 27\n",
      "\n",
      "                                   (scaled)                 (unscaled)\n",
      "Objective...............:  -2.2204460492503131e-16    2.2204460492503131e-16\n",
      "Dual infeasibility......:   1.9477835091386895e-04    1.9477835091386895e-04\n",
      "Constraint violation....:   5.0372221949146478e-09    5.0372221949146478e-09\n",
      "Variable bound violation:   0.0000000000000000e+00    0.0000000000000000e+00\n",
      "Complementarity.........:   5.0840545083967396e-09    5.0840545083967396e-09\n",
      "Overall NLP error.......:   5.0372221949146478e-09    1.9477835091386895e-04\n",
      "\n",
      "\n",
      "Number of objective function evaluations             = 120\n",
      "Number of objective gradient evaluations             = 28\n",
      "Number of equality constraint evaluations            = 120\n",
      "Number of inequality constraint evaluations          = 120\n",
      "Number of equality constraint Jacobian evaluations   = 28\n",
      "Number of inequality constraint Jacobian evaluations = 28\n",
      "Number of Lagrangian Hessian evaluations             = 27\n",
      "Total seconds in IPOPT                               = 4.569\n",
      "\n",
      "EXIT: Optimal Solution Found.\n"
     ]
    },
    {
     "data": {
      "text/plain": [
       "2-dimensional DenseAxisArray{Float64,2,...} with index sets:\n",
       "    Dimension 1, 1:4\n",
       "    Dimension 2, 1:3\n",
       "And data, a 4×3 Matrix{Float64}:\n",
       " 216.269      13978.7     22454.7\n",
       "   6.19579e5     96.0735     95.0755\n",
       " 217.269      13978.4     22454.7\n",
       "   6.19578e5     95.0735     96.0755"
      ]
     },
     "metadata": {},
     "output_type": "display_data"
    }
   ],
   "source": [
    "using JuMP, Ipopt, Complementarity\n",
    "I = 1:4\n",
    "J = 1:2\n",
    "K = 1:3\n",
    "L = 1:4\n",
    "x0 = [1, 1, -1, -1]\n",
    "y0 = zeros(length(J), length(K))\n",
    "ll0 = ones(length(L), length(K))\n",
    "model = Model(Ipopt.Optimizer)\n",
    "@variable(model, x[i in I], start = x0[i])\n",
    "@variable(model, y[j in J, k in K], start = y0[j, k])\n",
    "@variable(model, ll[l in L, k in K], start = ll0[l, k])\n",
    "@objective(model, Max, (x[1] - x[3]) * (x[2] - x[4]))\n",
    "@constraints(model, begin\n",
    "    -y[1,1] - y[2,1]^2  <= 0\n",
    "    y[1,2]/4 + y[2,2] - 3/4 <= 0\n",
    "    -y[2,3] - 1 <= 0\n",
    "    1        + ll[1,1] - ll[3,1] == 0\n",
    "    2*y[2,1] + ll[2,1] - ll[4,1] == 0\n",
    "    -1/4     + ll[1,2] - ll[3,2] == 0\n",
    "     -1      + ll[2,2] - ll[4,2] == 0\n",
    "    0        + ll[1,3] - ll[3,3] == 0\n",
    "    1        + ll[2,3] - ll[4,3] == 0\n",
    "end)\n",
    "for k in K\n",
    "    @complements(model, 0 >=   y[1,k] - x[1], ll[1,k] >= 0)\n",
    "    @complements(model, 0 >=   y[2,k] - x[2], ll[2,k] >= 0)\n",
    "    @complements(model, 0 >= - y[1,k] + x[3], ll[3,k] >= 0)\n",
    "    @complements(model, 0 >= - y[2,k] + x[4], ll[4,k] >= 0)\n",
    "end\n",
    "optimize!(model)\n",
    "solution_summary(model)\n",
    "value.(x)\n",
    "value.(y)\n",
    "value.(ll)"
   ]
  },
  {
   "cell_type": "code",
   "execution_count": 2,
   "metadata": {},
   "outputs": [
    {
     "name": "stdout",
     "output_type": "stream",
     "text": [
      "This is Ipopt version 3.14.16, running with linear solver MUMPS 5.7.3.\n",
      "\n",
      "Number of nonzeros in equality constraint Jacobian...:       33\n",
      "Number of nonzeros in inequality constraint Jacobian.:       10\n",
      "Number of nonzeros in Lagrangian Hessian.............:       15\n",
      "\n",
      "Total number of variables............................:       13\n",
      "                     variables with only lower bounds:       11\n",
      "                variables with lower and upper bounds:        0\n",
      "                     variables with only upper bounds:        0\n",
      "Total number of equality constraints.................:       12\n",
      "Total number of inequality constraints...............:       10\n",
      "        inequality constraints with only lower bounds:       10\n",
      "   inequality constraints with lower and upper bounds:        0\n",
      "        inequality constraints with only upper bounds:        0\n",
      "\n",
      "iter    objective    inf_pr   inf_du lg(mu)  ||d||  lg(rg) alpha_du alpha_pr  ls\n",
      "   0 -9.9999900e-03 4.79e+01 2.80e-03  -1.0 0.00e+00    -  0.00e+00 0.00e+00   0\n",
      "   1 -3.4802873e-02 4.78e+01 5.23e+02  -1.0 6.71e+00   4.0 1.50e-03 1.47e-03h  1\n",
      "   2 -7.6388573e-02 4.77e+01 5.22e+02  -1.0 1.51e+01   3.5 9.26e-04 2.97e-03h  1\n",
      "   3 -8.5243919e-02 4.77e+01 6.05e+02  -1.0 5.28e+01   3.0 3.16e-04 6.52e-04h  1\n",
      "   4 -7.9947621e+00 1.83e+01 1.05e+03  -1.0 1.38e+01    -  7.27e-03 6.15e-01f  1\n",
      "   5 -1.2876879e+01 1.83e-01 1.44e+03  -1.0 5.30e+00    -  1.00e+00 9.90e-01h  1\n",
      "   6 -1.2820066e+01 1.77e-03 5.58e+04  -1.0 4.28e-01    -  1.00e+00 9.90e-01h  1\n",
      "   7 -1.2908956e+01 1.06e-03 4.11e+06  -1.0 8.92e-01    -  6.21e-01 3.98e-01f  2\n",
      "   8 -1.2781743e+01 6.02e-06 9.56e+05  -1.0 5.09e-01    -  7.38e-01 1.00e+00h  1\n",
      "   9 -1.2781401e+01 3.00e-06 1.48e+07  -1.0 8.34e-04   2.6 4.92e-01 1.00e+00f  1\n",
      "iter    objective    inf_pr   inf_du lg(mu)  ||d||  lg(rg) alpha_du alpha_pr  ls\n",
      "  10 -1.2922876e+01 1.50e-06 2.00e+05  -1.0 5.69e-01    -  9.68e-01 1.00e+00f  1\n",
      "  11 -1.2921749e+01 7.44e-07 2.38e+01  -1.0 3.30e-03   2.1 1.00e+00 1.00e+00f  1\n",
      "  12 -1.2919751e+01 3.69e-07 4.79e+06  -5.7 6.52e-03   1.6 5.04e-01 1.00e+00h  1\n",
      "  13 -1.2946842e+01 1.78e-07 1.06e+06  -5.7 1.34e-01    -  7.78e-01 1.00e+00f  1\n",
      "  14 -1.2947381e+01 7.77e-08 2.96e+05  -5.7 4.66e-02    -  7.22e-01 1.00e+00h  1\n",
      "  15 -1.2972474e+01 9.97e-05 1.09e+05  -5.7 1.93e-01    -  6.32e-01 5.93e-01f  1\n",
      "  16 -1.2999988e+01 9.97e-05 1.09e+05  -5.7 1.13e-01    -  2.92e-03 4.88e-01f  1\n",
      "  17 -1.2999931e+01 3.06e-05 1.08e+05  -5.7 1.14e-04   7.5 9.82e-03 1.00e+00h  1\n",
      "  18 -1.2999882e+01 3.40e-05 2.80e+04  -5.7 2.30e-04    -  7.39e-01 1.00e+00H  1\n",
      "  19 -1.2999902e+01 1.85e-05 7.24e+03  -5.7 1.62e-04   7.0 1.00e+00 1.00e+00h  1\n",
      "iter    objective    inf_pr   inf_du lg(mu)  ||d||  lg(rg) alpha_du alpha_pr  ls\n",
      "  20 -1.2999803e+01 9.72e-06 4.19e+03  -5.7 1.41e-04   6.5 8.71e-01 1.00e+00H  1\n",
      "  21 -1.2999347e+01 8.38e-06 2.44e+03  -5.7 5.47e-04    -  1.00e+00 9.52e-01H  1\n",
      "  22 -1.2999455e+01 2.53e-07 1.55e+03  -5.7 2.15e-04    -  1.00e+00 1.00e+00f  1\n",
      "  23 -1.2999452e+01 3.08e-09 3.64e+02  -5.7 1.02e-05   6.0 9.71e-01 1.00e+00h  1\n",
      "  24 -1.2999475e+01 1.56e-08 2.05e+00  -5.7 4.48e-05    -  1.00e+00 1.00e+00h  1\n",
      "  25 -1.2999475e+01 1.74e-12 1.35e-01  -5.7 3.80e-07   5.6 1.00e+00 1.00e+00h  1\n",
      "  26 -1.2999987e+01 8.23e-05 1.70e+00  -5.7 1.39e-01    -  6.08e-03 6.41e-03F  1\n",
      "  27 -1.2999979e+01 8.00e-05 2.57e+00  -5.7 8.50e-04    -  1.00e+00 4.23e-02f  2\n",
      "  28 -1.2999963e+01 2.39e-05 1.87e+00  -5.7 2.78e-04    -  1.48e-01 1.00e+00h  1\n",
      "  29 -1.2999968e+01 4.29e-06 5.32e-01  -5.7 1.84e-04    -  8.38e-01 1.00e+00h  1\n",
      "iter    objective    inf_pr   inf_du lg(mu)  ||d||  lg(rg) alpha_du alpha_pr  ls\n",
      "  30 -1.2999976e+01 2.88e-06 7.15e-02  -5.7 1.80e-04    -  1.00e+00 1.00e+00h  1\n",
      "  31 -1.2999989e+01 7.54e-06 5.74e-02  -5.7 4.13e-04    -  1.00e+00 1.00e+00h  1\n",
      "  32 -1.2999992e+01 3.67e-06 1.85e-02  -5.7 5.72e-04    -  1.00e+00 1.00e+00h  1\n",
      "  33 -1.2999995e+01 2.86e-06 9.56e-03  -5.7 8.91e-04    -  1.00e+00 1.00e+00h  1\n",
      "  34 -1.2999996e+01 1.70e-06 3.43e-03  -5.7 1.26e-03    -  1.00e+00 1.00e+00h  1\n",
      "  35 -1.2999998e+01 1.26e-06 1.31e-03  -5.7 1.98e-03    -  1.00e+00 1.00e+00h  1\n",
      "  36 -1.2999998e+01 7.59e-07 4.40e-04  -5.7 2.84e-03    -  1.00e+00 1.00e+00h  1\n",
      "  37 -1.2999999e+01 5.58e-07 2.22e-04  -5.7 4.46e-03    -  1.00e+00 1.00e+00h  1\n",
      "  38 -1.2999999e+01 3.52e-07 1.49e-04  -5.7 6.59e-03    -  1.00e+00 1.00e+00h  1\n",
      "  39 -1.3000000e+01 2.42e-07 1.21e-04  -5.7 1.01e-02    -  1.00e+00 1.00e+00h  1\n",
      "iter    objective    inf_pr   inf_du lg(mu)  ||d||  lg(rg) alpha_du alpha_pr  ls\n",
      "  40 -1.3000000e+01 1.83e-07 1.03e-04  -5.7 1.65e-02    -  1.00e+00 1.00e+00h  1\n",
      "  41 -1.3000000e+01 9.75e-08 6.67e-05  -5.7 2.30e-02    -  1.00e+00 1.00e+00h  1\n",
      "  42 -1.3000000e+01 9.05e-08 3.03e+00  -5.7 5.28e-02    -  1.00e+00 5.00e-01h  2\n",
      "  43 -1.3000000e+01 8.41e-08 1.29e+01  -5.7 1.04e-01    -  1.00e+00 2.33e-01h  3\n",
      "  44 -1.3000000e+01 3.62e-08 2.96e-05  -5.7 5.81e-02    -  1.00e+00 1.00e+00h  1\n",
      "  45 -1.3000000e+01 3.58e-08 2.09e+01  -5.7 4.29e-01    -  4.10e-01 2.39e-02h  5\n",
      "  46 -1.3000000e+01 3.55e-08 3.44e+01  -5.7 2.14e-01    -  1.00e+00 2.31e-01h  3\n",
      "  47 -1.3000000e+01 1.20e-08 3.26e-05  -5.7 8.99e-02    -  1.00e+00 1.00e+00h  1\n",
      "  48 -1.3000000e+01 3.55e-15 1.85e-03  -5.7 1.57e-08   5.1 1.00e+00 1.00e+00h  1\n",
      "  49 -1.3000000e+01 5.09e-11 1.70e-07  -5.7 1.19e-02    -  1.00e+00 1.00e+00H  1\n",
      "iter    objective    inf_pr   inf_du lg(mu)  ||d||  lg(rg) alpha_du alpha_pr  ls\n",
      "  50 -1.3000000e+01 7.23e-10 1.54e+01  -8.6 3.05e-02    -  9.14e-01 1.00e+00h  1\n",
      "  51 -1.3000000e+01 1.22e-08 1.32e+00  -8.6 1.68e-01    -  9.14e-01 1.00e+00h  1\n",
      "  52 -1.3000000e+01 1.71e-08 7.02e-01  -8.6 9.72e-01    -  4.67e-01 2.49e-01h  2\n",
      "  53 -1.3000000e+01 2.02e-10 1.26e+00  -8.6 2.27e-02    -  6.63e-01 1.00e+00h  1\n",
      "  54 -1.3000000e+01 1.21e-09 2.29e-02  -8.6 5.65e-02    -  9.03e-01 1.00e+00h  1\n",
      "  55 -1.3000000e+01 1.61e-09 2.64e-08  -8.6 9.53e-02    -  1.00e+00 1.00e+00h  1\n",
      "  56 -1.3000000e+01 1.73e-10 2.17e-09  -8.6 3.84e-02    -  1.00e+00 1.00e+00h  1\n",
      "\n",
      "Number of Iterations....: 56\n",
      "\n",
      "                                   (scaled)                 (unscaled)\n",
      "Objective...............:  -1.2999999947930817e+01   -1.2999999947930817e+01\n",
      "Dual infeasibility......:   2.1675870023420898e-09    2.1675870023420898e-09\n",
      "Constraint violation....:   1.7349130465582618e-10    1.7349130465582618e-10\n",
      "Variable bound violation:   0.0000000000000000e+00    0.0000000000000000e+00\n",
      "Complementarity.........:   2.5067343034906478e-09    2.5067343034906478e-09\n",
      "Overall NLP error.......:   2.5067343034906478e-09    2.5067343034906478e-09\n",
      "\n",
      "\n",
      "Number of objective function evaluations             = 83\n",
      "Number of objective gradient evaluations             = 57\n",
      "Number of equality constraint evaluations            = 83\n",
      "Number of inequality constraint evaluations          = 83\n",
      "Number of equality constraint Jacobian evaluations   = 57\n",
      "Number of inequality constraint Jacobian evaluations = 57\n",
      "Number of Lagrangian Hessian evaluations             = 56\n",
      "Total seconds in IPOPT                               = 1.316\n",
      "\n",
      "EXIT: Optimal Solution Found.\n",
      "Estado de la solución: LOCALLY_SOLVED\n",
      "Valor óptimo de x: 5.000000003022365\n",
      "Valor óptimo de y1: 3.999999987910544\n",
      "Valor óptimo de y2: 2.0000000094115897\n",
      "Valores óptimos de s: 1-dimensional DenseAxisArray{Float64,1,...} with index sets:\n",
      "    Dimension 1, 1:5\n",
      "And data, a 5-element Vector{Float64}:\n",
      " 13.999999980487827\n",
      "  3.091263601705656e-8\n",
      "  4.6368953985208054e-8\n",
      "  3.999999987910544\n",
      "  1.2089456414931052e-8\n",
      "Valores óptimos de l: 1-dimensional DenseAxisArray{Float64,1,...} with index sets:\n",
      "    Dimension 1, 1:5\n",
      "And data, a 5-element Vector{Float64}:\n",
      " 3.5714313545977994e-10\n",
      " 0.16114323047008824\n",
      " 0.10742882031339215\n",
      " 1.2500000289671432e-9\n",
      " 0.4091414891692001\n"
     ]
    }
   ],
   "source": [
    "using JuMP, Ipopt, Complementarity\n",
    "\n",
    "# Crear el modelo\n",
    "model = Model(Ipopt.Optimizer)\n",
    "# Definir el conjunto I\n",
    "I = 1:5\n",
    "\n",
    "# Definir las variables\n",
    "@variable(model, y1)\n",
    "@variable(model, y2)\n",
    "@variable(model, x >= 0)\n",
    "@variable(model, s[i in I] >= 0)  # Variables s[i] no negativas\n",
    "@variable(model, l[i in I] >= 0)  # Variables l[i] no negativas\n",
    "\n",
    "# Definir la función objetivo\n",
    "@objective(model, Min, -x - 3*y1 + 2*y2)\n",
    "\n",
    "# Agregar restricciones del problema interno\n",
    "@constraint(model, c1, -2*x + y1 + 4*y2 + s[1] == 16)\n",
    "@constraint(model, c2, 8*x + 3*y1 - 2*y2 + s[2] == 48)\n",
    "@constraint(model, c3, -2*x + y1 - 3*y2 + s[3] == -12)\n",
    "@constraint(model, c4, -y1 + s[4] == 0)\n",
    "@constraint(model, c5, y1 + s[5] == 4)\n",
    "\n",
    "# Agregar condiciones KKT para el óptimo del problema interno\n",
    "@constraint(model, kt1, -1 + l[1] + 3*l[2] + l[3] - l[4] + l[5] == 0)\n",
    "@constraint(model, kt2, 4*l[2] - 2*l[2] - 3*l[3] == 0)\n",
    "\n",
    "# Restricciones de complementariedad\n",
    "\n",
    "for i in I\n",
    "    @complements(model, 0<=l[i],s[i]>=0) # Complementariedad entre l[i] y s[i]\n",
    "end\n",
    "\n",
    "# Resolver el modelo\n",
    "optimize!(model)\n",
    "\n",
    "# Mostrar resultados\n",
    "println(\"Estado de la solución: \", termination_status(model))\n",
    "println(\"Valor óptimo de x: \", value(x))\n",
    "println(\"Valor óptimo de y1: \", value(y1))\n",
    "println(\"Valor óptimo de y2: \", value(y2))\n",
    "println(\"Valores óptimos de s: \", value.(s))\n",
    "println(\"Valores óptimos de l: \", value.(l))\n"
   ]
  },
  {
   "cell_type": "code",
   "execution_count": 28,
   "metadata": {},
   "outputs": [
    {
     "data": {
      "text/plain": [
       "(x[1] + x[2] + y[1] - 2 y[2] <= 40, -2 x[1] + 2 y[1] - l[1] + l[2] + 2 l[5] == -40, -2 x[2] + 2 y[2] - l[3] + l[4] + 2 l[6] == -40)"
      ]
     },
     "metadata": {},
     "output_type": "display_data"
    }
   ],
   "source": [
    "using JuMP, Ipopt, Complementarity\n",
    "\n",
    "# Crear el modelo\n",
    "model = Model(Ipopt.Optimizer)\n",
    "@variable(model,0<=x[1:2]<=50)\n",
    "@variable(model,y[1:2])\n",
    "@variable(model,0<=l[1:6])\n",
    "@objective(model,Min,2x[1]+2x[2]-3y[1]-3y[2]-60)\n",
    "@constraints(model,begin\n",
    "x[1]+x[2]+y[1]-2y[2]-40<=0\n",
    "2y[1]-2x[1]+40-(l[1]-l[2]-2l[5])==0\n",
    "2y[2]-2x[2]+40-(l[3]-l[4]-2l[6])==0\n",
    "\n",
    "end)\n",
    "\n",
    "\n"
   ]
  },
  {
   "cell_type": "code",
   "execution_count": 29,
   "metadata": {},
   "outputs": [
    {
     "data": {
      "text/latex": [
       "$$ (sqrt(l[1] ^ {2.0} + (10.0 + y[1]) ^ {2.0} + 1.0e-8) - (l[1] + (10.0 + y[1]))) - 0.0 = 0 $$"
      ],
      "text/plain": [
       "(sqrt(l[1] ^ 2.0 + (10.0 + y[1]) ^ 2.0 + 1.0e-8) - (l[1] + (10.0 + y[1]))) - 0.0 == 0"
      ]
     },
     "metadata": {},
     "output_type": "display_data"
    }
   ],
   "source": [
    "@complements(model,0<=y[1]+10,l[1]>=0)"
   ]
  },
  {
   "cell_type": "code",
   "execution_count": 30,
   "metadata": {},
   "outputs": [
    {
     "data": {
      "text/latex": [
       "$$ (sqrt(l[2] ^ {2.0} + (20.0 + -1.0 * y[1]) ^ {2.0} + 1.0e-8) - (l[2] + (20.0 + -1.0 * y[1]))) - 0.0 = 0 $$"
      ],
      "text/plain": [
       "(sqrt(l[2] ^ 2.0 + (20.0 + -1.0 * y[1]) ^ 2.0 + 1.0e-8) - (l[2] + (20.0 + -1.0 * y[1]))) - 0.0 == 0"
      ]
     },
     "metadata": {},
     "output_type": "display_data"
    }
   ],
   "source": [
    "@complements(model,\n",
    "0 <= -y[1] + 20,           l[2] >= 0\n",
    "\n",
    "\n",
    ")"
   ]
  },
  {
   "cell_type": "code",
   "execution_count": 31,
   "metadata": {},
   "outputs": [
    {
     "data": {
      "text/latex": [
       "$$ (sqrt(l[6] ^ {2.0} + (-10.0 + x[2] + -2.0 * y[2]) ^ {2.0} + 1.0e-8) - (l[6] + (-10.0 + x[2] + -2.0 * y[2]))) - 0.0 = 0 $$"
      ],
      "text/plain": [
       "(sqrt(l[6] ^ 2.0 + (-10.0 + x[2] + -2.0 * y[2]) ^ 2.0 + 1.0e-8) - (l[6] + (-10.0 + x[2] + -2.0 * y[2]))) - 0.0 == 0"
      ]
     },
     "metadata": {},
     "output_type": "display_data"
    }
   ],
   "source": [
    "@complements(model,0<=y[2]+10,l[3]>=0)\n",
    "@complements(model,0<=-y[2]+20,l[4]>=0)\n",
    "@complements(model,0<=x[1]-2y[1]-10,l[5]>=0)\n",
    "@complements(model,0<=x[2]-2y[2]-10,l[6]>=0)\n"
   ]
  },
  {
   "cell_type": "code",
   "execution_count": 32,
   "metadata": {},
   "outputs": [
    {
     "name": "stdout",
     "output_type": "stream",
     "text": [
      "This is Ipopt version 3.14.16, running with linear solver MUMPS 5.7.3.\n",
      "\n",
      "Number of nonzeros in equality constraint Jacobian...:       24\n",
      "Number of nonzeros in inequality constraint Jacobian.:       18\n",
      "Number of nonzeros in Lagrangian Hessian.............:       24\n",
      "\n",
      "Total number of variables............................:       10\n",
      "                     variables with only lower bounds:        6\n",
      "                variables with lower and upper bounds:        2\n",
      "                     variables with only upper bounds:        0\n",
      "Total number of equality constraints.................:        8\n",
      "Total number of inequality constraints...............:       13\n",
      "        inequality constraints with only lower bounds:       12\n",
      "   inequality constraints with lower and upper bounds:        0\n",
      "        inequality constraints with only upper bounds:        1\n",
      "\n",
      "iter    objective    inf_pr   inf_du lg(mu)  ||d||  lg(rg) alpha_du alpha_pr  ls\n",
      "   0 -5.9960000e+01 4.00e+01 4.05e-01  -1.0 0.00e+00    -  0.00e+00 0.00e+00   0\n",
      "   1 -5.9902334e+01 4.00e+01 4.04e-01  -1.0 1.93e+01    -  1.24e-03 1.13e-03h  1\n",
      "   2 -3.6801925e+01 2.46e+01 7.45e+00  -1.0 5.01e+01    -  9.03e-04 3.85e-01h  1\n",
      "   3 -3.4828715e+01 2.32e+01 1.10e+02  -1.0 2.96e+01    -  7.06e-01 5.41e-02h  1\n",
      "   4 -1.2226116e+01 8.16e+00 4.81e+01  -1.0 2.91e+01    -  9.34e-01 6.49e-01h  1\n",
      "   5 -1.1999350e+01 8.00e+00 1.45e+02  -1.0 1.02e+01    -  7.51e-01 1.86e-02h  1\n",
      "   6 -1.1987748e+01 8.00e+00 2.91e+02  -1.0 7.27e+00    -  2.11e-03 1.03e-03h  1\n",
      "   7 -1.1985548e+01 8.00e+00 4.76e+02  -1.0 4.90e+01    -  1.49e-04 1.08e-04h  1\n",
      "   8 -1.1983875e+01 8.00e+00 2.69e+03  -1.0 5.60e+01    -  2.25e-04 7.60e-05h  1\n",
      "   9r-1.1983875e+01 8.00e+00 1.00e+03   0.9 0.00e+00    -  0.00e+00 3.82e-07R  2\n",
      "iter    objective    inf_pr   inf_du lg(mu)  ||d||  lg(rg) alpha_du alpha_pr  ls\n",
      "  10r-4.3768246e+00 6.46e+00 1.00e+03   0.9 7.55e+03    -  3.90e-05 1.19e-03f  1\n",
      "  11r-4.3768246e+00 6.46e+00 9.99e+02   0.8 0.00e+00    -  0.00e+00 3.17e-07R  5\n",
      "  12r-2.7082440e+00 6.43e+00 9.95e+02   0.8 5.16e+02    -  1.95e-02 3.50e-03f  1\n",
      "  13r-2.3260456e+00 6.56e+00 9.76e+02   0.8 1.96e+01    -  2.22e-01 2.03e-02f  1\n",
      "  14r-1.9593800e+00 6.57e+00 7.30e+02   0.8 2.47e+00    -  3.36e-01 2.51e-01f  1\n",
      "  15r-1.2496754e+00 6.58e+00 4.95e+03   0.8 1.83e+00    -  2.14e-01 6.32e-01f  1\n",
      "  16r-1.2392128e+00 6.58e+00 5.44e+03   0.8 2.44e-02   6.0 2.61e-01 2.39e-01f  1\n",
      "  17r-1.1904869e+00 6.58e+00 1.01e+04   0.8 3.04e-02   5.5 1.00e+00 1.00e+00f  1\n",
      "  18r-1.1544043e+00 6.51e+00 8.57e+03   0.8 7.93e-01    -  5.14e-01 1.63e-01f  1\n",
      "  19r 6.9301463e+00 6.26e-02 7.44e+03   0.8 5.02e+01    -  1.97e-03 1.28e-01f  1\n",
      "iter    objective    inf_pr   inf_du lg(mu)  ||d||  lg(rg) alpha_du alpha_pr  ls\n",
      "  20  6.3278915e+00 1.09e-03 8.74e+01  -1.0 1.56e+00    -  9.07e-01 9.82e-01h  1\n",
      "  21  5.9998466e+00 8.45e-04 6.62e+02  -1.0 2.92e+00    -  9.96e-01 2.25e-01f  3\n",
      "  22  5.8093649e+00 6.36e-04 1.33e+03  -1.0 1.66e+00    -  1.00e+00 2.47e-01f  3\n",
      "  23  5.3044914e+00 6.36e-06 2.80e+01  -1.0 1.20e+00    -  1.00e+00 9.90e-01h  1\n",
      "  24  5.2971944e+00 5.21e-08 1.19e+03  -1.0 1.64e-02    -  1.00e+00 9.92e-01h  1\n",
      "  25  5.2386491e+00 3.27e-09 1.17e+00  -1.0 1.17e-01    -  1.00e+00 1.00e+00h  1\n",
      "  26  5.0369311e+00 9.97e-05 1.36e+06  -5.7 4.37e-01    -  4.13e-01 6.26e-01f  1\n",
      "  27  5.0001237e+00 2.30e-05 3.70e+06  -5.7 7.46e-02    -  1.65e-03 9.90e-01f  1\n",
      "  28  5.0001739e+00 1.81e-06 9.10e+05  -5.7 1.94e-05    -  7.55e-01 1.00e+00h  1\n",
      "  29  5.0001783e+00 1.16e-08 1.45e+03  -5.7 1.79e-06    -  1.00e+00 1.00e+00h  1\n",
      "iter    objective    inf_pr   inf_du lg(mu)  ||d||  lg(rg) alpha_du alpha_pr  ls\n",
      "  30  5.0001783e+00 5.04e-12 4.02e-01  -5.7 8.78e-08    -  1.00e+00 1.00e+00h  1\n",
      "  31  5.0001714e+00 1.39e-06 2.56e-02  -5.7 4.22e-05    -  1.00e+00 1.00e+00f  1\n",
      "  32  5.0001748e+00 1.30e-08 4.53e-04  -5.7 4.50e-06    -  1.00e+00 1.00e+00h  1\n",
      "  33  5.0001749e+00 2.01e-12 9.78e-08  -5.7 6.02e-08    -  1.00e+00 1.00e+00h  1\n",
      "  34  5.0001730e+00 3.92e-09 1.65e+00  -8.6 3.68e-06    -  9.91e-01 1.00e+00h  1\n",
      "  35  5.0001730e+00 5.96e-14 2.15e-10  -8.6 6.54e-09    -  1.00e+00 1.00e+00h  1\n",
      "\n",
      "Number of Iterations....: 35\n",
      "\n",
      "                                   (scaled)                 (unscaled)\n",
      "Objective...............:   5.0001730102115118e+00    5.0001730102115118e+00\n",
      "Dual infeasibility......:   2.1476109779428043e-10    2.1476109779428043e-10\n",
      "Constraint violation....:   5.9578400156065636e-14    5.9578400156065636e-14\n",
      "Variable bound violation:   0.0000000000000000e+00    0.0000000000000000e+00\n",
      "Complementarity.........:   2.5060452280623006e-09    2.5060452280623006e-09\n",
      "Overall NLP error.......:   2.5060452280623006e-09    2.5060452280623006e-09\n",
      "\n",
      "\n",
      "Number of objective function evaluations             = 47\n",
      "Number of objective gradient evaluations             = 29\n",
      "Number of equality constraint evaluations            = 47\n",
      "Number of inequality constraint evaluations          = 47\n",
      "Number of equality constraint Jacobian evaluations   = 38\n",
      "Number of inequality constraint Jacobian evaluations = 38\n",
      "Number of Lagrangian Hessian evaluations             = 35\n",
      "Total seconds in IPOPT                               = 0.037\n",
      "\n",
      "EXIT: Optimal Solution Found.\n"
     ]
    }
   ],
   "source": [
    "optimize!(model)\n",
    "#solution_summary(model)\n"
   ]
  },
  {
   "cell_type": "code",
   "execution_count": 33,
   "metadata": {},
   "outputs": [],
   "source": []
  },
  {
   "cell_type": "code",
   "execution_count": 34,
   "metadata": {},
   "outputs": [
    {
     "data": {
      "text/plain": [
       "6-element Vector{Float64}:\n",
       " 3.333346297150919e-10\n",
       " 3.3333281843553245e-10\n",
       " 2.5000069959560875e-10\n",
       " 5.000014825635611e-10\n",
       " 9.999935658919406e-10\n",
       " 8.660379107315982e-5"
      ]
     },
     "metadata": {},
     "output_type": "display_data"
    }
   ],
   "source": [
    "value.(x)\n",
    "value.(y)\n",
    "value.(l)"
   ]
  },
  {
   "cell_type": "code",
   "execution_count": 35,
   "metadata": {},
   "outputs": [
    {
     "data": {
      "text/plain": [
       "* Solver : Ipopt\n",
       "\n",
       "* Status\n",
       "  Result count       : 1\n",
       "  Termination status : LOCALLY_SOLVED\n",
       "  Message from the solver:\n",
       "  \"Solve_Succeeded\"\n",
       "\n",
       "* Candidate solution (result #1)\n",
       "  Primal status      : FEASIBLE_POINT\n",
       "  Dual status        : FEASIBLE_POINT\n",
       "  Objective value    : 5.00017e+00\n",
       "  Dual objective value : -1.00000e+01\n",
       "\n",
       "* Work counters\n",
       "  Solve time (sec)   : 3.79999e-02\n",
       "  Barrier iterations : 35\n"
      ]
     },
     "metadata": {},
     "output_type": "display_data"
    }
   ],
   "source": [
    "solution_summary(model)"
   ]
  },
  {
   "cell_type": "code",
   "execution_count": 36,
   "metadata": {},
   "outputs": [],
   "source": []
  }
 ],
 "metadata": {
  "kernelspec": {
   "display_name": "Julia 1.10.5",
   "language": "julia",
   "name": "julia-1.10"
  },
  "language_info": {
   "file_extension": ".jl",
   "mimetype": "application/julia",
   "name": "julia",
   "version": "1.10.5"
  }
 },
 "nbformat": 4,
 "nbformat_minor": 2
}
