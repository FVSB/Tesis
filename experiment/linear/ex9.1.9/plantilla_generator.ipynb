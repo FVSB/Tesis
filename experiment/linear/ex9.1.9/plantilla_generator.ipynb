{
 "cells": [
  {
   "cell_type": "markdown",
   "metadata": {},
   "source": [
    "## Importar el módulo\n"
   ]
  },
  {
   "cell_type": "code",
   "execution_count": 1,
   "metadata": {},
   "outputs": [
    {
     "data": {
      "text/plain": [
       "RunExperiment"
      ]
     },
     "metadata": {},
     "output_type": "display_data"
    }
   ],
   "source": [
    "include(\"../../new_experiment.jl\")"
   ]
  },
  {
   "cell_type": "code",
   "execution_count": 2,
   "metadata": {},
   "outputs": [
    {
     "data": {
      "text/plain": [
       "TaskLocalRNG()"
      ]
     },
     "metadata": {},
     "output_type": "display_data"
    }
   ],
   "source": [
    "using Random\n",
    "\n",
    "# Random seed\n",
    "Random.seed!(4)"
   ]
  },
  {
   "cell_type": "markdown",
   "metadata": {},
   "source": [
    "Crear un experimento\n"
   ]
  },
  {
   "cell_type": "code",
   "execution_count": 3,
   "metadata": {},
   "outputs": [
    {
     "data": {
      "text/plain": [
       "Experiment(OptimizationModel(Problem(Any[], nothing), LeaderRestrictionProblem[], Problem(Any[], nothing), FollowerRestrictionProblem[], Dict{Any, Any}(), Number[1], false), OptimizationModel(Problem(Any[], nothing), LeaderRestrictionProblem[], Problem(Any[], nothing), FollowerRestrictionProblem[], Dict{Any, Any}(), Number[], true), Any[], Any[])"
      ]
     },
     "metadata": {},
     "output_type": "display_data"
    }
   ],
   "source": [
    "experiment=CreateExperiment()"
   ]
  },
  {
   "cell_type": "markdown",
   "metadata": {},
   "source": [
    "### Declarar variables del líder\n"
   ]
  },
  {
   "cell_type": "code",
   "execution_count": 4,
   "metadata": {},
   "outputs": [
    {
     "data": {
      "text/latex": [
       "$$ \\begin{equation}\n",
       "\\left[\n",
       "\\begin{array}{c}\n",
       "x \\\\\n",
       "\\end{array}\n",
       "\\right]\n",
       "\\end{equation}\n",
       " $$"
      ],
      "text/plain": [
       "1-element Vector{Num}:\n",
       " x"
      ]
     },
     "metadata": {},
     "output_type": "display_data"
    }
   ],
   "source": [
    "@leader_vars experiment x"
   ]
  },
  {
   "cell_type": "markdown",
   "metadata": {},
   "source": [
    "### Declarar Variables del Follower"
   ]
  },
  {
   "cell_type": "code",
   "execution_count": 5,
   "metadata": {},
   "outputs": [
    {
     "data": {
      "text/latex": [
       "$$ \\begin{equation}\n",
       "\\left[\n",
       "\\begin{array}{c}\n",
       "y \\\\\n",
       "\\end{array}\n",
       "\\right]\n",
       "\\end{equation}\n",
       " $$"
      ],
      "text/plain": [
       "1-element Vector{Num}:\n",
       " y"
      ]
     },
     "metadata": {},
     "output_type": "display_data"
    }
   ],
   "source": [
    "@follower_vars experiment y"
   ]
  },
  {
   "cell_type": "markdown",
   "metadata": {},
   "source": [
    "### Declarar Función Objetivo del Líder"
   ]
  },
  {
   "cell_type": "code",
   "execution_count": 6,
   "metadata": {},
   "outputs": [
    {
     "data": {
      "text/latex": [
       "$$ \\begin{equation}\n",
       "x + y\n",
       "\\end{equation}\n",
       " $$"
      ],
      "text/plain": [
       "x + y"
      ]
     },
     "metadata": {},
     "output_type": "display_data"
    }
   ],
   "source": [
    "SetLeaderFunction(experiment,x+y)"
   ]
  },
  {
   "cell_type": "markdown",
   "metadata": {},
   "source": [
    "## Función Objetivo del Follower"
   ]
  },
  {
   "cell_type": "code",
   "execution_count": 7,
   "metadata": {},
   "outputs": [
    {
     "data": {
      "text/latex": [
       "$$ \\begin{equation}\n",
       " - 5 x - y\n",
       "\\end{equation}\n",
       " $$"
      ],
      "text/plain": [
       "-5x - y"
      ]
     },
     "metadata": {},
     "output_type": "display_data"
    }
   ],
   "source": [
    "SetFollowerFunction(experiment,-5x-y)"
   ]
  },
  {
   "cell_type": "markdown",
   "metadata": {},
   "source": [
    "### Restricciones del Follower"
   ]
  },
  {
   "cell_type": "code",
   "execution_count": 8,
   "metadata": {},
   "outputs": [
    {
     "data": {
      "text/plain": [
       "1-element Vector{FollowerRestrictionProblem}:\n",
       " FollowerRestrictionProblem((-x - 0.5y) <= -2, J_0_LP_v, 0.85, 0.93, 0.68)"
      ]
     },
     "metadata": {},
     "output_type": "display_data"
    }
   ],
   "source": [
    "SetFollowerRestriction(experiment,-x-0.5y<=-2)"
   ]
  },
  {
   "cell_type": "code",
   "execution_count": 9,
   "metadata": {},
   "outputs": [
    {
     "data": {
      "text/plain": [
       "2-element Vector{FollowerRestrictionProblem}:\n",
       " FollowerRestrictionProblem((-x - 0.5y) <= -2, J_0_LP_v, 0.85, 0.93, 0.68)\n",
       " FollowerRestrictionProblem((-0.25x + y) <= 2, J_0_LP_v, 0.5, 0.41, 0.31)"
      ]
     },
     "metadata": {},
     "output_type": "display_data"
    }
   ],
   "source": [
    "SetFollowerRestriction(experiment,-0.25x+y<=2)"
   ]
  },
  {
   "cell_type": "code",
   "execution_count": 10,
   "metadata": {},
   "outputs": [
    {
     "data": {
      "text/plain": [
       "3-element Vector{FollowerRestrictionProblem}:\n",
       " FollowerRestrictionProblem((-x - 0.5y) <= -2, J_0_LP_v, 0.85, 0.93, 0.68)\n",
       " FollowerRestrictionProblem((-0.25x + y) <= 2, J_0_LP_v, 0.5, 0.41, 0.31)\n",
       " FollowerRestrictionProblem((x + 0.5y) <= 8, J_0_LP_v, 0.21, 0.7, 0.54)"
      ]
     },
     "metadata": {},
     "output_type": "display_data"
    }
   ],
   "source": [
    "SetFollowerRestriction(experiment,x+0.5y<=8)"
   ]
  },
  {
   "cell_type": "code",
   "execution_count": 11,
   "metadata": {},
   "outputs": [
    {
     "data": {
      "text/plain": [
       "4-element Vector{FollowerRestrictionProblem}:\n",
       " FollowerRestrictionProblem((-x - 0.5y) <= -2, J_0_LP_v, 0.85, 0.93, 0.68)\n",
       " FollowerRestrictionProblem((-0.25x + y) <= 2, J_0_LP_v, 0.5, 0.41, 0.31)\n",
       " FollowerRestrictionProblem((x + 0.5y) <= 8, J_0_LP_v, 0.21, 0.7, 0.54)\n",
       " FollowerRestrictionProblem((x - 2y) <= 2, J_0_LP_v, 0.73, 0.36, 0.86)"
      ]
     },
     "metadata": {},
     "output_type": "display_data"
    }
   ],
   "source": [
    "SetFollowerRestriction(experiment,x-2y<=2)"
   ]
  },
  {
   "cell_type": "code",
   "execution_count": 12,
   "metadata": {},
   "outputs": [
    {
     "data": {
      "text/plain": [
       "5-element Vector{FollowerRestrictionProblem}:\n",
       " FollowerRestrictionProblem((-x - 0.5y) <= -2, J_0_LP_v, 0.85, 0.93, 0.68)\n",
       " FollowerRestrictionProblem((-0.25x + y) <= 2, J_0_LP_v, 0.5, 0.41, 0.31)\n",
       " FollowerRestrictionProblem((x + 0.5y) <= 8, J_0_LP_v, 0.21, 0.7, 0.54)\n",
       " FollowerRestrictionProblem((x - 2y) <= 2, J_0_LP_v, 0.73, 0.36, 0.86)\n",
       " FollowerRestrictionProblem((-y) <= 0, J_0_LP_v, 0.12, 0.79, 0.03)"
      ]
     },
     "metadata": {},
     "output_type": "display_data"
    }
   ],
   "source": [
    "SetFollowerRestriction(experiment,-y<=0)"
   ]
  },
  {
   "cell_type": "markdown",
   "metadata": {},
   "source": [
    "### Poner el Punto Optimo"
   ]
  },
  {
   "cell_type": "code",
   "execution_count": 13,
   "metadata": {},
   "outputs": [
    {
     "data": {
      "text/plain": [
       "Dict{Any, Any} with 2 entries:\n",
       "  y => 6.17\n",
       "  x => 4.78"
      ]
     },
     "metadata": {},
     "output_type": "display_data"
    }
   ],
   "source": [
    "SetPoint(experiment,Dict(x=>0.88,y=>2.22))"
   ]
  },
  {
   "cell_type": "markdown",
   "metadata": {},
   "source": [
    "## Iniciar el Experimento\n"
   ]
  },
  {
   "cell_type": "code",
   "execution_count": 14,
   "metadata": {},
   "outputs": [
    {
     "name": "stdout",
     "output_type": "stream",
     "text": [
      "Va a retornar correctamente\n",
      "Leader's Objective Function:\n",
      "Variable names: [:y, :x]\n",
      "Expression (string): x + y\n",
      "Parsed expression: x + y\n",
      "Evaluation point: Dict{Any, Any}(\"x\" => 4.78, \"y\" => 6.17)\n",
      "Evaluation value: 10.95\n",
      "Is leader function: true\n",
      "------------------------------\n",
      "Leader's Restrictions:\n",
      "------------------------------\n",
      "Follower's Objective Function:\n",
      "Variable names: [:y, :x]\n",
      "Expression (string): -5x - y\n",
      "Parsed expression: -5x - y\n",
      "Evaluation point: Dict{Any, Any}(\"x\" => 4.78, \"y\" => 6.17)\n",
      "Evaluation value: -30.07\n",
      "Is leader function: false\n",
      "------------------------------\n",
      "Follower's Restrictions:\n",
      "++++++++++++++++++++++++++++++\n",
      "Restriction 1\n",
      "Variable names: [:y, :x]\n",
      "Expression (string): (-x - 0.5y) == -2\n",
      "Parsed expression: 30.03274261603375 - x - 4.092827004219409y\n",
      "Evaluation point: Dict{Any, Any}(\"x\" => 4.78, \"y\" => 6.17)\n",
      "Evaluation value: -28.03274261603375\n",
      "Additional constant: 28.03274261603375\n",
      "Restriction type: LtEq\n",
      "Restriction set type: J_0_L0_v\n",
      "Value of miu: 0\n",
      "Value of beta: -9.8\n",
      "Value of lambda: 0.93\n",
      "Value of gamma: -9.7\n",
      "++++++++++++++++++++++++++++++\n",
      "++++++++++++++++++++++++++++++\n",
      "Restriction 2\n",
      "Variable names: [:y, :x]\n",
      "Expression (string): (-0.25x + y) == 2\n",
      "Parsed expression: 1.1950000000000003 - 0.25x\n",
      "Evaluation point: Dict{Any, Any}(\"x\" => 4.78, \"y\" => 6.17)\n",
      "Evaluation value: -3.1950000000000003\n",
      "Additional constant: 3.1950000000000003\n",
      "Restriction type: LtEq\n",
      "Restriction set type: J_0_L0_v\n",
      "Value of miu: 0\n",
      "Value of beta: 0\n",
      "Value of lambda: 0.41\n",
      "Value of gamma: 0\n",
      "++++++++++++++++++++++++++++++\n",
      "++++++++++++++++++++++++++++++\n",
      "Restriction 3\n",
      "Variable names: [:y, :x]\n",
      "Expression (string): (x + 0.5y) == 8\n",
      "Parsed expression: -4.78 + x\n",
      "Evaluation point: Dict{Any, Any}(\"x\" => 4.78, \"y\" => 6.17)\n",
      "Evaluation value: -3.2199999999999998\n",
      "Additional constant: 3.2199999999999998\n",
      "Restriction type: LtEq\n",
      "Restriction set type: J_0_LP_v\n",
      "Value of miu: 0\n",
      "Value of beta: 0\n",
      "Value of lambda: 0.7\n",
      "Value of gamma: 0\n",
      "++++++++++++++++++++++++++++++\n",
      "++++++++++++++++++++++++++++++\n",
      "Restriction 4\n",
      "Variable names: [:y, :x]\n",
      "Expression (string): (x - 2y) == 2\n",
      "Parsed expression: -5.6 + x\n",
      "Evaluation point: Dict{Any, Any}(\"x\" => 4.78, \"y\" => 6.17)\n",
      "Evaluation value: 2.7800000000000002\n",
      "Additional constant: -3.6\n",
      "Restriction type: LtEq\n",
      "Restriction set type: J_Ne_L0_v\n",
      "Value of miu: 0\n",
      "Value of beta: 0\n",
      "Value of lambda: 0.36\n",
      "Value of gamma: 0\n",
      "++++++++++++++++++++++++++++++\n",
      "++++++++++++++++++++++++++++++\n",
      "Restriction 5\n",
      "Variable names: [:y]\n",
      "Expression (string): (-y) == 0\n",
      "Parsed expression: -16.40126582278481 - 2.6582278481012658y\n",
      "Evaluation point: Dict{Any, Any}(\"x\" => 4.78, \"y\" => 6.17)\n",
      "Evaluation value: -16.40126582278481\n",
      "Additional constant: -16.40126582278481\n",
      "Restriction type: LtEq\n",
      "Restriction set type: J_Ne_L0_v\n",
      "Value of miu: 0\n",
      "Value of beta: -4.0\n",
      "Value of lambda: 0.79\n",
      "Value of gamma: -6.3\n",
      "++++++++++++++++++++++++++++++\n",
      "------------------------------\n",
      "Evaluation Point:\n",
      "Dict{Any, Any}(\"x\" => 4.78, \"y\" => 6.17)\n",
      "------------------------------\n",
      "_\n",
      "\n",
      "Num[-10.8, -51.74261603375527]\n",
      "Va a retornar correctamente\n",
      "Leader's Objective Function:\n",
      "Variable names: [:y, :x]\n",
      "Expression (string): x + y\n",
      "Parsed expression: x + y\n",
      "Evaluation point: Dict{Any, Any}(\"x\" => 4.78, \"y\" => 6.17)\n",
      "Evaluation value: 10.95\n",
      "Is leader function: true\n",
      "------------------------------\n",
      "Leader's Restrictions:\n",
      "------------------------------\n",
      "Follower's Objective Function:\n",
      "Variable names: [:y, :x]\n",
      "Expression (string): -5x - y\n",
      "Parsed expression: -5x - y\n",
      "Evaluation point: Dict{Any, Any}(\"x\" => 4.78, \"y\" => 6.17)\n",
      "Evaluation value: -30.07\n",
      "Is leader function: false\n",
      "------------------------------\n",
      "Follower's Restrictions:\n",
      "++++++++++++++++++++++++++++++\n",
      "Restriction 1\n",
      "Variable names: [:y, :x]\n",
      "Expression (string): (-x - 0.5y) == -2\n",
      "Parsed expression: 7.865 - x - 0.5y\n",
      "Evaluation point: Dict{Any, Any}(\"x\" => 4.78, \"y\" => 6.17)\n",
      "Evaluation value: -5.865\n",
      "Additional constant: 5.865\n",
      "Restriction type: LtEq\n",
      "Restriction set type: J_0_L0_v\n",
      "Value of miu: 0\n",
      "Value of beta: 0\n",
      "Value of lambda: 0.93\n",
      "Value of gamma: 0\n",
      "++++++++++++++++++++++++++++++\n",
      "++++++++++++++++++++++++++++++\n",
      "Restriction 2\n",
      "Variable names: [:y, :x]\n",
      "Expression (string): (-0.25x + y) == 2\n",
      "Parsed expression: -4.975 - 0.25x + y\n",
      "Evaluation point: Dict{Any, Any}(\"x\" => 4.78, \"y\" => 6.17)\n",
      "Evaluation value: 2.9749999999999996\n",
      "Additional constant: -2.9749999999999996\n",
      "Restriction type: LtEq\n",
      "Restriction set type: J_0_L0_v\n",
      "Value of miu: 0\n",
      "Value of beta: -0.8\n",
      "Value of lambda: 0.41\n",
      "Value of gamma: -1.2\n",
      "++++++++++++++++++++++++++++++\n",
      "++++++++++++++++++++++++++++++\n",
      "Restriction 3\n",
      "Variable names: [:y, :x]\n",
      "Expression (string): (x + 0.5y) == 8\n",
      "Parsed expression: -7.865 + x + 0.5y\n",
      "Evaluation point: Dict{Any, Any}(\"x\" => 4.78, \"y\" => 6.17)\n",
      "Evaluation value: -0.1349999999999998\n",
      "Additional constant: 0.1349999999999998\n",
      "Restriction type: LtEq\n",
      "Restriction set type: J_0_LP_v\n",
      "Value of miu: 0\n",
      "Value of beta: 0\n",
      "Value of lambda: 0.7\n",
      "Value of gamma: 0\n",
      "++++++++++++++++++++++++++++++\n",
      "++++++++++++++++++++++++++++++\n",
      "Restriction 4\n",
      "Variable names: [:y, :x]\n",
      "Expression (string): (x - 2y) == 2\n",
      "Parsed expression: -11.559999999999999 + x - 2y\n",
      "Evaluation point: Dict{Any, Any}(\"x\" => 4.78, \"y\" => 6.17)\n",
      "Evaluation value: -9.559999999999999\n",
      "Additional constant: -9.559999999999999\n",
      "Restriction type: LtEq\n",
      "Restriction set type: J_Ne_L0_v\n",
      "Value of miu: 0\n",
      "Value of beta: 0\n",
      "Value of lambda: 0.36\n",
      "Value of gamma: 0\n",
      "++++++++++++++++++++++++++++++\n",
      "++++++++++++++++++++++++++++++\n",
      "Restriction 5\n",
      "Variable names: [:y]\n",
      "Expression (string): (-y) == 0\n",
      "Parsed expression: -6.17 - y\n",
      "Evaluation point: Dict{Any, Any}(\"x\" => 4.78, \"y\" => 6.17)\n",
      "Evaluation value: -6.17\n",
      "Additional constant: -6.17\n",
      "Restriction type: LtEq\n",
      "Restriction set type: J_Ne_L0_v\n",
      "Value of miu: 0\n",
      "Value of beta: 0\n",
      "Value of lambda: 0.79\n",
      "Value of gamma: 0\n",
      "++++++++++++++++++++++++++++++\n",
      "------------------------------\n",
      "Evaluation Point:\n",
      "Dict{Any, Any}(\"x\" => 4.78, \"y\" => 6.17)\n",
      "------------------------------\n",
      "_\n",
      "\n",
      "Num[-1.2, -0.19999999999999996]\n",
      "Se va a crear el DataFrame\n",
      "Se va a crear el DataFrame\n",
      "Carpeta creada: d:\\GitHub\\Tesis\\experiment\\linear\\ex9.1.9\\Experimentos_Generador\n",
      "Se va a crear el DataFrame\n",
      "La carpeta ya existe: d:\\GitHub\\Tesis\\experiment\\linear\\ex9.1.9\\Experimentos_Generador\n",
      "Experimento Completado\n",
      "Va a retornar correctamente\n",
      "Leader's Objective Function:\n",
      "Variable names: [:y, :x]\n",
      "Expression (string): x + y\n",
      "Parsed expression: x + y\n",
      "Evaluation point: Dict{Any, Any}(\"x\" => 4.78, \"y\" => 6.17)\n",
      "Evaluation value: 10.95\n",
      "Is leader function: true\n",
      "------------------------------\n",
      "Leader's Restrictions:\n",
      "------------------------------\n",
      "Follower's Objective Function:\n",
      "Variable names: [:y, :x]\n",
      "Expression (string): -5x - y\n",
      "Parsed expression: -5x - y\n",
      "Evaluation point: Dict{Any, Any}(\"x\" => 4.78, \"y\" => 6.17)\n",
      "Evaluation value: -30.07\n",
      "Is leader function: false\n",
      "------------------------------\n",
      "Follower's Restrictions:\n",
      "++++++++++++++++++++++++++++++\n",
      "Restriction 1\n",
      "Variable names: [:y, :x]\n",
      "Expression (string): (-x - 0.5y) == -2\n",
      "Parsed expression: -2.666551724137933 - x + 1.2068965517241381y\n",
      "Evaluation point: Dict{Any, Any}(\"x\" => 4.78, \"y\" => 6.17)\n",
      "Evaluation value: 4.666551724137933\n",
      "Additional constant: -4.666551724137933\n",
      "Restriction type: LtEq\n",
      "Restriction set type: J_0_L0_v\n",
      "Value of miu: 0\n",
      "Value of beta: 0\n",
      "Value of lambda: 0.93\n",
      "Value of gamma: 2.1\n",
      "++++++++++++++++++++++++++++++\n",
      "++++++++++++++++++++++++++++++\n",
      "Restriction 2\n",
      "Variable names: [:y, :x]\n",
      "Expression (string): (-0.25x + y) == 2\n",
      "Parsed expression: -19.01706896551724 - 0.25x + 3.275862068965517y\n",
      "Evaluation point: Dict{Any, Any}(\"x\" => 4.78, \"y\" => 6.17)\n",
      "Evaluation value: 17.01706896551724\n",
      "Additional constant: -17.01706896551724\n",
      "Restriction type: LtEq\n",
      "Restriction set type: J_0_L0_v\n",
      "Value of miu: 0\n",
      "Value of beta: 0\n",
      "Value of lambda: 0.41\n",
      "Value of gamma: 5.699999999999999\n",
      "++++++++++++++++++++++++++++++\n",
      "++++++++++++++++++++++++++++++\n",
      "Restriction 3\n",
      "Variable names: [:y, :x]\n",
      "Expression (string): (x + 0.5y) == 8\n",
      "Parsed expression: -4.78 + x\n",
      "Evaluation point: Dict{Any, Any}(\"x\" => 4.78, \"y\" => 6.17)\n",
      "Evaluation value: -3.2199999999999998\n",
      "Additional constant: 3.2199999999999998\n",
      "Restriction type: LtEq\n",
      "Restriction set type: J_0_LP_v\n",
      "Value of miu: 0\n",
      "Value of beta: 0\n",
      "Value of lambda: 0.7\n",
      "Value of gamma: 10.0\n",
      "++++++++++++++++++++++++++++++\n",
      "++++++++++++++++++++++++++++++\n",
      "Restriction 4\n",
      "Variable names: [:y, :x]\n",
      "Expression (string): (x - 2y) == 2\n",
      "Parsed expression: -16.69172413793104 + x + 1.8965517241379315y\n",
      "Evaluation point: Dict{Any, Any}(\"x\" => 4.78, \"y\" => 6.17)\n",
      "Evaluation value: 14.481724137931039\n",
      "Additional constant: -14.69172413793104\n",
      "Restriction type: LtEq\n",
      "Restriction set type: J_Ne_L0_v\n",
      "Value of miu: 0\n",
      "Value of beta: 0\n",
      "Value of lambda: 0.36\n",
      "Value of gamma: 3.3000000000000003\n",
      "++++++++++++++++++++++++++++++\n",
      "++++++++++++++++++++++++++++++\n",
      "Restriction 5\n",
      "Variable names: [:y]\n",
      "Expression (string): (-y) == 0\n",
      "Parsed expression: -0.17\n",
      "Evaluation point: Dict{Any, Any}(\"x\" => 4.78, \"y\" => 6.17)\n",
      "Evaluation value: 0\n",
      "Additional constant: -0.17\n",
      "Restriction type: LtEq\n",
      "Restriction set type: J_Ne_L0_v\n",
      "Value of miu: 0\n",
      "Value of beta: 8.299999999999999\n",
      "Value of lambda: 0.79\n",
      "Value of gamma: 0\n",
      "++++++++++++++++++++++++++++++\n",
      "------------------------------\n",
      "Evaluation Point:\n",
      "Dict{Any, Any}(\"x\" => 4.78, \"y\" => 6.17)\n",
      "------------------------------\n",
      "_\n",
      "\n",
      "Num[-1.0, -1.0]\n",
      "Va a retornar correctamente\n",
      "Leader's Objective Function:\n",
      "Variable names: [:y, :x]\n",
      "Expression (string): x + y\n",
      "Parsed expression: x + y\n",
      "Evaluation point: Dict{Any, Any}(\"x\" => 4.78, \"y\" => 6.17)\n",
      "Evaluation value: 10.95\n",
      "Is leader function: true\n",
      "------------------------------\n",
      "Leader's Restrictions:\n",
      "------------------------------\n",
      "Follower's Objective Function:\n",
      "Variable names: [:y, :x]\n",
      "Expression (string): -5x - y\n",
      "Parsed expression: -5x - y\n",
      "Evaluation point: Dict{Any, Any}(\"x\" => 4.78, \"y\" => 6.17)\n",
      "Evaluation value: -30.07\n",
      "Is leader function: false\n",
      "------------------------------\n",
      "Follower's Restrictions:\n",
      "++++++++++++++++++++++++++++++\n",
      "Restriction 1\n",
      "Variable names: [:y, :x]\n",
      "Expression (string): (-x - 0.5y) == -2\n",
      "Parsed expression: 7.865 - x - 0.5y\n",
      "Evaluation point: Dict{Any, Any}(\"x\" => 4.78, \"y\" => 6.17)\n",
      "Evaluation value: -5.865\n",
      "Additional constant: 5.865\n",
      "Restriction type: LtEq\n",
      "Restriction set type: J_0_L0_v\n",
      "Value of miu: 0\n",
      "Value of beta: 0\n",
      "Value of lambda: 0.93\n",
      "Value of gamma: 3.4000000000000004\n",
      "++++++++++++++++++++++++++++++\n",
      "++++++++++++++++++++++++++++++\n",
      "Restriction 2\n",
      "Variable names: [:y, :x]\n",
      "Expression (string): (-0.25x + y) == 2\n",
      "Parsed expression: -4.975 - 0.25x + y\n",
      "Evaluation point: Dict{Any, Any}(\"x\" => 4.78, \"y\" => 6.17)\n",
      "Evaluation value: 2.9749999999999996\n",
      "Additional constant: -2.9749999999999996\n",
      "Restriction type: LtEq\n",
      "Restriction set type: J_0_L0_v\n",
      "Value of miu: 0\n",
      "Value of beta: 5.0\n",
      "Value of lambda: 0.41\n",
      "Value of gamma: 0\n",
      "++++++++++++++++++++++++++++++\n",
      "++++++++++++++++++++++++++++++\n",
      "Restriction 3\n",
      "Variable names: [:y, :x]\n",
      "Expression (string): (x + 0.5y) == 8\n",
      "Parsed expression: -7.865 + x + 0.5y\n",
      "Evaluation point: Dict{Any, Any}(\"x\" => 4.78, \"y\" => 6.17)\n",
      "Evaluation value: -0.1349999999999998\n",
      "Additional constant: 0.1349999999999998\n",
      "Restriction type: LtEq\n",
      "Restriction set type: J_0_LP_v\n",
      "Value of miu: 0\n",
      "Value of beta: 0\n",
      "Value of lambda: 0.7\n",
      "Value of gamma: 6.6000000000000005\n",
      "++++++++++++++++++++++++++++++\n",
      "++++++++++++++++++++++++++++++\n",
      "Restriction 4\n",
      "Variable names: [:y, :x]\n",
      "Expression (string): (x - 2y) == 2\n",
      "Parsed expression: -11.559999999999999 + x - 2y\n",
      "Evaluation point: Dict{Any, Any}(\"x\" => 4.78, \"y\" => 6.17)\n",
      "Evaluation value: -9.559999999999999\n",
      "Additional constant: -9.559999999999999\n",
      "Restriction type: LtEq\n",
      "Restriction set type: J_Ne_L0_v\n",
      "Value of miu: 0\n",
      "Value of beta: 7.9\n",
      "Value of lambda: 0.36\n",
      "Value of gamma: 0\n",
      "++++++++++++++++++++++++++++++\n",
      "++++++++++++++++++++++++++++++\n",
      "Restriction 5\n",
      "Variable names: [:y]\n",
      "Expression (string): (-y) == 0\n",
      "Parsed expression: -6.17 - y\n",
      "Evaluation point: Dict{Any, Any}(\"x\" => 4.78, \"y\" => 6.17)\n",
      "Evaluation value: -6.17\n",
      "Additional constant: -6.17\n",
      "Restriction type: LtEq\n",
      "Restriction set type: J_Ne_L0_v\n",
      "Value of miu: 0\n",
      "Value of beta: 0\n",
      "Value of lambda: 0.79\n",
      "Value of gamma: 2.9\n",
      "++++++++++++++++++++++++++++++\n",
      "------------------------------\n",
      "Evaluation Point:\n",
      "Dict{Any, Any}(\"x\" => 4.78, \"y\" => 6.17)\n",
      "------------------------------\n",
      "_\n",
      "\n",
      "Num[-7.65, 9.8]\n",
      "Se va a crear el DataFrame\n",
      "Se va a crear el DataFrame\n",
      "La carpeta ya existe: d:\\GitHub\\Tesis\\experiment\\linear\\ex9.1.9\\Experimentos_Generador\n",
      "Se va a crear el DataFrame\n",
      "La carpeta ya existe: d:\\GitHub\\Tesis\\experiment\\linear\\ex9.1.9\\Experimentos_Generador\n",
      "Experimento Completado\n",
      "Va a retornar correctamente\n",
      "Leader's Objective Function:\n",
      "Variable names: [:y, :x]\n",
      "Expression (string): x + y\n",
      "Parsed expression: x + y\n",
      "Evaluation point: Dict{Any, Any}(\"x\" => 4.78, \"y\" => 6.17)\n",
      "Evaluation value: 10.95\n",
      "Is leader function: true\n",
      "------------------------------\n",
      "Leader's Restrictions:\n",
      "------------------------------\n",
      "Follower's Objective Function:\n",
      "Variable names: [:y, :x]\n",
      "Expression (string): -5x - y\n",
      "Parsed expression: -5x - y\n",
      "Evaluation point: Dict{Any, Any}(\"x\" => 4.78, \"y\" => 6.17)\n",
      "Evaluation value: -30.07\n",
      "Is leader function: false\n",
      "------------------------------\n",
      "Follower's Restrictions:\n",
      "++++++++++++++++++++++++++++++\n",
      "Restriction 1\n",
      "Variable names: [:y, :x]\n",
      "Expression (string): (-x - 0.5y) == -2\n",
      "Parsed expression: -15.454946236559138 - x + 3.2795698924731185y\n",
      "Evaluation point: Dict{Any, Any}(\"x\" => 4.78, \"y\" => 6.17)\n",
      "Evaluation value: 17.454946236559138\n",
      "Additional constant: -17.454946236559138\n",
      "Restriction type: LtEq\n",
      "Restriction set type: J_0_L0_v\n",
      "Value of miu: 0\n",
      "Value of beta: 4.5\n",
      "Value of lambda: 0.93\n",
      "Value of gamma: 6.1\n",
      "++++++++++++++++++++++++++++++\n",
      "++++++++++++++++++++++++++++++\n",
      "Restriction 2\n",
      "Variable names: [:y, :x]\n",
      "Expression (string): (-0.25x + y) == 2\n",
      "Parsed expression: -21.030268817204302 - 0.25x + 3.602150537634409y\n",
      "Evaluation point: Dict{Any, Any}(\"x\" => 4.78, \"y\" => 6.17)\n",
      "Evaluation value: 19.030268817204302\n",
      "Additional constant: -19.030268817204302\n",
      "Restriction type: LtEq\n",
      "Restriction set type: J_0_L0_v\n",
      "Value of miu: 0\n",
      "Value of beta: 4.9\n",
      "Value of lambda: 0.41\n",
      "Value of gamma: 6.7\n",
      "++++++++++++++++++++++++++++++\n",
      "++++++++++++++++++++++++++++++\n",
      "Restriction 3\n",
      "Variable names: [:y, :x]\n",
      "Expression (string): (x + 0.5y) == 8\n",
      "Parsed expression: -4.78 + x\n",
      "Evaluation point: Dict{Any, Any}(\"x\" => 4.78, \"y\" => 6.17)\n",
      "Evaluation value: -3.2199999999999998\n",
      "Additional constant: 3.2199999999999998\n",
      "Restriction type: LtEq\n",
      "Restriction set type: J_0_LP_v\n",
      "Value of miu: 0\n",
      "Value of beta: 8.5\n",
      "Value of lambda: 0.7\n",
      "Value of gamma: 2.9\n",
      "++++++++++++++++++++++++++++++\n",
      "++++++++++++++++++++++++++++++\n",
      "Restriction 4\n",
      "Variable names: [:y, :x]\n",
      "Expression (string): (x - 2y) == 2\n",
      "Parsed expression: -28.19043010752688 + x + 3.763440860215053y\n",
      "Evaluation point: Dict{Any, Any}(\"x\" => 4.78, \"y\" => 6.17)\n",
      "Evaluation value: 26.000430107526878\n",
      "Additional constant: -26.19043010752688\n",
      "Restriction type: LtEq\n",
      "Restriction set type: J_Ne_L0_v\n",
      "Value of miu: 0\n",
      "Value of beta: 7.3\n",
      "Value of lambda: 0.36\n",
      "Value of gamma: 7.0\n",
      "++++++++++++++++++++++++++++++\n",
      "++++++++++++++++++++++++++++++\n",
      "Restriction 5\n",
      "Variable names: [:y]\n",
      "Expression (string): (-y) == 0\n",
      "Parsed expression: -17.55774193548387 + 2.741935483870968y\n",
      "Evaluation point: Dict{Any, Any}(\"x\" => 4.78, \"y\" => 6.17)\n",
      "Evaluation value: 16.91774193548387\n",
      "Additional constant: -17.55774193548387\n",
      "Restriction type: LtEq\n",
      "Restriction set type: J_Ne_L0_v\n",
      "Value of miu: 0\n",
      "Value of beta: 7.4\n",
      "Value of lambda: 0.79\n",
      "Value of gamma: 5.1\n",
      "++++++++++++++++++++++++++++++\n",
      "------------------------------\n",
      "Evaluation Point:\n",
      "Dict{Any, Any}(\"x\" => 4.78, \"y\" => 6.17)\n",
      "------------------------------\n",
      "_\n",
      "\n",
      "Num[-11.075, -81.17204301075269]\n",
      "Va a retornar correctamente\n",
      "Leader's Objective Function:\n",
      "Variable names: [:y, :x]\n",
      "Expression (string): x + y\n",
      "Parsed expression: x + y\n",
      "Evaluation point: Dict{Any, Any}(\"x\" => 4.78, \"y\" => 6.17)\n",
      "Evaluation value: 10.95\n",
      "Is leader function: true\n",
      "------------------------------\n",
      "Leader's Restrictions:\n",
      "------------------------------\n",
      "Follower's Objective Function:\n",
      "Variable names: [:y, :x]\n",
      "Expression (string): -5x - y\n",
      "Parsed expression: -5x - y\n",
      "Evaluation point: Dict{Any, Any}(\"x\" => 4.78, \"y\" => 6.17)\n",
      "Evaluation value: -30.07\n",
      "Is leader function: false\n",
      "------------------------------\n",
      "Follower's Restrictions:\n",
      "++++++++++++++++++++++++++++++\n",
      "Restriction 1\n",
      "Variable names: [:y, :x]\n",
      "Expression (string): (-x - 0.5y) == -2\n",
      "Parsed expression: 7.865 - x - 0.5y\n",
      "Evaluation point: Dict{Any, Any}(\"x\" => 4.78, \"y\" => 6.17)\n",
      "Evaluation value: -5.865\n",
      "Additional constant: 5.865\n",
      "Restriction type: LtEq\n",
      "Restriction set type: J_0_L0_v\n",
      "Value of miu: 0\n",
      "Value of beta: 4.3\n",
      "Value of lambda: 0.93\n",
      "Value of gamma: 3.4000000000000004\n",
      "++++++++++++++++++++++++++++++\n",
      "++++++++++++++++++++++++++++++\n",
      "Restriction 2\n",
      "Variable names: [:y, :x]\n",
      "Expression (string): (-0.25x + y) == 2\n",
      "Parsed expression: -4.975 - 0.25x + y\n",
      "Evaluation point: Dict{Any, Any}(\"x\" => 4.78, \"y\" => 6.17)\n",
      "Evaluation value: 2.9749999999999996\n",
      "Additional constant: -2.9749999999999996\n",
      "Restriction type: LtEq\n",
      "Restriction set type: J_0_L0_v\n",
      "Value of miu: 0\n",
      "Value of beta: 4.699999999999999\n",
      "Value of lambda: 0.41\n",
      "Value of gamma: 1.0\n",
      "++++++++++++++++++++++++++++++\n",
      "++++++++++++++++++++++++++++++\n",
      "Restriction 3\n",
      "Variable names: [:y, :x]\n",
      "Expression (string): (x + 0.5y) == 8\n",
      "Parsed expression: -7.865 + x + 0.5y\n",
      "Evaluation point: Dict{Any, Any}(\"x\" => 4.78, \"y\" => 6.17)\n",
      "Evaluation value: -0.1349999999999998\n",
      "Additional constant: 0.1349999999999998\n",
      "Restriction type: LtEq\n",
      "Restriction set type: J_0_LP_v\n",
      "Value of miu: 0\n",
      "Value of beta: 8.5\n",
      "Value of lambda: 0.7\n",
      "Value of gamma: 4.1\n",
      "++++++++++++++++++++++++++++++\n",
      "++++++++++++++++++++++++++++++\n",
      "Restriction 4\n",
      "Variable names: [:y, :x]\n",
      "Expression (string): (x - 2y) == 2\n",
      "Parsed expression: -11.559999999999999 + x - 2y\n",
      "Evaluation point: Dict{Any, Any}(\"x\" => 4.78, \"y\" => 6.17)\n",
      "Evaluation value: -9.559999999999999\n",
      "Additional constant: -9.559999999999999\n",
      "Restriction type: LtEq\n",
      "Restriction set type: J_Ne_L0_v\n",
      "Value of miu: 0\n",
      "Value of beta: 5.1\n",
      "Value of lambda: 0.36\n",
      "Value of gamma: 2.5\n",
      "++++++++++++++++++++++++++++++\n",
      "++++++++++++++++++++++++++++++\n",
      "Restriction 5\n",
      "Variable names: [:y]\n",
      "Expression (string): (-y) == 0\n",
      "Parsed expression: -6.17 - y\n",
      "Evaluation point: Dict{Any, Any}(\"x\" => 4.78, \"y\" => 6.17)\n",
      "Evaluation value: -6.17\n",
      "Additional constant: -6.17\n",
      "Restriction type: LtEq\n",
      "Restriction set type: J_Ne_L0_v\n",
      "Value of miu: 0\n",
      "Value of beta: 9.5\n",
      "Value of lambda: 0.79\n",
      "Value of gamma: 5.1\n",
      "++++++++++++++++++++++++++++++\n",
      "------------------------------\n",
      "Evaluation Point:\n",
      "Dict{Any, Any}(\"x\" => 4.78, \"y\" => 6.17)\n",
      "------------------------------\n",
      "_\n",
      "\n",
      "Num[-9.125, 11.9]\n",
      "Se va a crear el DataFrame\n",
      "Se va a crear el DataFrame\n",
      "La carpeta ya existe: d:\\GitHub\\Tesis\\experiment\\linear\\ex9.1.9\\Experimentos_Generador\n",
      "Se va a crear el DataFrame\n",
      "La carpeta ya existe: d:\\GitHub\\Tesis\\experiment\\linear\\ex9.1.9\\Experimentos_Generador\n",
      "Experimento Completado\n",
      "Finilizado el experimento completo\n"
     ]
    }
   ],
   "source": [
    "RunExperiment(experiment,\"ex9.1.9(Linear)\",true)"
   ]
  }
 ],
 "metadata": {
  "kernelspec": {
   "display_name": "Julia 1.11.3",
   "language": "julia",
   "name": "julia-1.11"
  },
  "language_info": {
   "file_extension": ".jl",
   "mimetype": "application/julia",
   "name": "julia",
   "version": "1.11.3"
  }
 },
 "nbformat": 4,
 "nbformat_minor": 2
}
