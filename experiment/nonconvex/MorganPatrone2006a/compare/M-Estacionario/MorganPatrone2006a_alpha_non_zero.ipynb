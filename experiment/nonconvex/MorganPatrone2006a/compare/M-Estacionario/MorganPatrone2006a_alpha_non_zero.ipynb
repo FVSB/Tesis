{
 "cells": [
  {
   "cell_type": "markdown",
   "metadata": {},
   "source": [
    "## Importaciones necesarias"
   ]
  },
  {
   "cell_type": "code",
   "execution_count": 1,
   "metadata": {},
   "outputs": [],
   "source": [
    "using JuMP, Ipopt, Complementarity"
   ]
  },
  {
   "cell_type": "markdown",
   "metadata": {},
   "source": [
    "# Crear el modelo"
   ]
  },
  {
   "cell_type": "code",
   "execution_count": 2,
   "metadata": {},
   "outputs": [
    {
     "data": {
      "text/plain": [
       "A JuMP Model\n",
       "├ solver: Ipopt\n",
       "├ objective_sense: FEASIBILITY_SENSE\n",
       "├ num_variables: 0\n",
       "├ num_constraints: 0\n",
       "└ Names registered in the model: none"
      ]
     },
     "metadata": {},
     "output_type": "display_data"
    }
   ],
   "source": [
    "# Crear el modelo\n",
    "model = Model(Ipopt.Optimizer)"
   ]
  },
  {
   "cell_type": "markdown",
   "metadata": {},
   "source": [
    "## Definir Variables\n"
   ]
  },
  {
   "cell_type": "code",
   "execution_count": 3,
   "metadata": {},
   "outputs": [
    {
     "data": {
      "text/plain": [
       "2-element Vector{VariableRef}:\n",
       " l[1]\n",
       " l[2]"
      ]
     },
     "metadata": {},
     "output_type": "display_data"
    }
   ],
   "source": [
    "# Nivel superior\n",
    "@variable(model,x)\n",
    "# Nivel Inferior\n",
    "@variable(model,y)\n",
    "# Complementariedad\n",
    "@variable(model,l[1:2])"
   ]
  },
  {
   "cell_type": "markdown",
   "metadata": {},
   "source": [
    "## Definir Objetivo\n"
   ]
  },
  {
   "cell_type": "code",
   "execution_count": 4,
   "metadata": {},
   "outputs": [
    {
     "data": {
      "text/latex": [
       "$ -x - y $"
      ],
      "text/plain": [
       "-x - y"
      ]
     },
     "metadata": {},
     "output_type": "display_data"
    }
   ],
   "source": [
    "@objective(model,Min,-(x+y))"
   ]
  },
  {
   "cell_type": "markdown",
   "metadata": {},
   "source": [
    "## Definir Restricciones\n"
   ]
  },
  {
   "cell_type": "code",
   "execution_count": 5,
   "metadata": {},
   "outputs": [
    {
     "data": {
      "text/plain": [
       "(x - 3.25 l[1] + 1.49 l[2] == 0, -x <= -4.5, x <= 4.5, 3.25 y <= 9.1, -1.49 y <= -4.17)"
      ]
     },
     "metadata": {},
     "output_type": "display_data"
    }
   ],
   "source": [
    "@constraints(model,begin\n",
    "x-3.25l[1]+1.49l[2]==0 # kkt\n",
    "4.5 - x<=0 #gs\n",
    "-4.5 + x<=0   #gs\n",
    "-9.1 + 3.25y<=0\n",
    "4.17 - 1.49y<=0\n",
    "end)"
   ]
  },
  {
   "cell_type": "markdown",
   "metadata": {},
   "source": [
    "## Definir variables Complementarias"
   ]
  },
  {
   "cell_type": "code",
   "execution_count": 6,
   "metadata": {},
   "outputs": [
    {
     "ename": "MethodError",
     "evalue": "MethodError: no method matching isless(::AffExpr, ::Int64)\n\nClosest candidates are:\n  isless(!Matched::Missing, ::Any)\n   @ Base missing.jl:87\n  isless(::Any, !Matched::Missing)\n   @ Base missing.jl:88\n  isless(!Matched::ForwardDiff.Dual{Tx}, ::Integer) where Tx\n   @ ForwardDiff C:\\Users\\dell\\.julia\\packages\\ForwardDiff\\UBbGT\\src\\dual.jl:148\n  ...\n",
     "output_type": "error",
     "traceback": [
      "MethodError: no method matching isless(::AffExpr, ::Int64)\n",
      "\n",
      "Closest candidates are:\n",
      "  isless(!Matched::Missing, ::Any)\n",
      "   @ Base missing.jl:87\n",
      "  isless(::Any, !Matched::Missing)\n",
      "   @ Base missing.jl:88\n",
      "  isless(!Matched::ForwardDiff.Dual{Tx}, ::Integer) where Tx\n",
      "   @ ForwardDiff C:\\Users\\dell\\.julia\\packages\\ForwardDiff\\UBbGT\\src\\dual.jl:148\n",
      "  ...\n",
      "\n",
      "\n",
      "Stacktrace:\n",
      " [1] <(x::AffExpr, y::Int64)\n",
      "   @ Base .\\operators.jl:352\n",
      " [2] <=(x::AffExpr, y::Int64)\n",
      "   @ Base .\\operators.jl:401\n",
      " [3] macro expansion\n",
      "   @ C:\\Users\\dell\\.julia\\packages\\Complementarity\\NbsQM\\src\\mpec.jl:271 [inlined]\n",
      " [4] top-level scope\n",
      "   @ d:\\GitHub\\Tesis\\experiment\\nonconvex\\MorganPatrone2006a\\compare\\M-Estacionario\\jl_notebook_cell_df34fa98e69747e1a8f8a730347b8e2f_X14sZmlsZQ==.jl:1"
     ]
    }
   ],
   "source": [
    "@complements(model,0<=-(-9.1 + 3.25y<=0),l[1]>=0)\n",
    "@complements(model,0<=-(4.17 - 1.49y<=0),l[2]>=0)"
   ]
  },
  {
   "cell_type": "markdown",
   "metadata": {},
   "source": [
    "## Optimizar"
   ]
  },
  {
   "cell_type": "code",
   "execution_count": 7,
   "metadata": {},
   "outputs": [
    {
     "name": "stdout",
     "output_type": "stream",
     "text": [
      "\n",
      "******************************************************************************\n",
      "This program contains Ipopt, a library for large-scale nonlinear optimization.\n",
      " Ipopt is released as open source code under the Eclipse Public License (EPL).\n",
      "         For more information visit https://github.com/coin-or/Ipopt\n",
      "******************************************************************************\n",
      "\n",
      "This is Ipopt version 3.14.16, running with linear solver MUMPS 5.7.3.\n",
      "\n",
      "Number of nonzeros in equality constraint Jacobian...:        3\n",
      "Number of nonzeros in inequality constraint Jacobian.:        4\n",
      "Number of nonzeros in Lagrangian Hessian.............:        0\n",
      "\n",
      "Total number of variables............................:        4\n",
      "                     variables with only lower bounds:        0\n",
      "                variables with lower and upper bounds:        0\n",
      "                     variables with only upper bounds:        0\n",
      "Total number of equality constraints.................:        1\n",
      "Total number of inequality constraints...............:        4\n",
      "        inequality constraints with only lower bounds:        0\n",
      "   inequality constraints with lower and upper bounds:        0\n",
      "        inequality constraints with only upper bounds:        4\n",
      "\n",
      "iter    objective    inf_pr   inf_du lg(mu)  ||d||  lg(rg) alpha_du alpha_pr  ls\n",
      "   0 -0.0000000e+00 4.50e+00 3.25e-01  -1.0 0.00e+00    -  0.00e+00 0.00e+00   0\n",
      "   1 -7.1895707e+00 9.55e-02 2.50e-02  -1.0 9.26e+00  -4.0 1.00e+00 9.60e-01f  1\n",
      "   2 -7.2961404e+00 2.40e-03 4.61e-04  -2.5 2.11e-01  -4.5 1.00e+00 9.85e-01h  1\n",
      "   3 -7.2993142e+00 2.71e-07 1.28e-01  -3.8 3.05e-03  -5.0 1.00e+00 8.27e-01h  1\n",
      "   4 -7.2994597e+00 8.97e-05 1.60e-01  -3.8 9.39e-04  -5.4 1.00e+00 8.14e-01h  1\n",
      "   5 -7.2995515e+00 4.48e-05 4.75e+00  -3.8 9.76e-04  -5.9 1.00e+00 1.56e-01f  2\n",
      "   6 -7.2998466e+00 6.66e-16 7.30e-01  -3.8 8.87e-04  -6.4 1.00e+00 9.17e-01h  1\n",
      "   7 -7.2998477e+00 2.08e-06 3.81e+01  -3.8 6.38e-05  -6.9 1.00e+00 1.63e-01f  2\n",
      "   8 -7.2998635e+00 6.66e-07 1.18e+01  -3.8 5.35e-05  -7.3 1.00e+00 8.74e-01h  1\n",
      "   9 -7.2998642e+00 2.88e-07 3.24e+02  -3.8 6.75e-06  -7.8 1.00e+00 1.86e-01f  2\n",
      "iter    objective    inf_pr   inf_du lg(mu)  ||d||  lg(rg) alpha_du alpha_pr  ls\n",
      "  10 -7.2998663e+00 4.44e-16 1.05e+01  -3.8 5.49e-06  -8.3 1.00e+00 9.86e-01h  1\n",
      "  11 -7.2998662e+00 2.22e-16 1.62e+03  -3.8 1.74e-07  -8.8 1.00e+00 2.80e-01f  2\n",
      "  12 -7.2998663e+00 1.11e-16 1.50e-09  -3.8 5.71e-08  -9.2 1.00e+00 1.00e+00h  1\n",
      "  13 -7.2999838e+00 4.44e-16 2.95e+02  -8.6 3.82e-04  -9.7 9.11e-01 1.00e+00f  1\n",
      "  14 -7.3000000e+00 0.00e+00 4.44e-01  -8.6 5.28e-05 -10.2 9.98e-01 1.00e+00f  1\n",
      "  15 -7.3000001e+00 1.11e-16 2.51e-14  -8.6 4.50e-08 -10.7 1.00e+00 1.00e+00f  1\n",
      "\n",
      "Number of Iterations....: 15\n",
      "\n",
      "                                   (scaled)                 (unscaled)\n",
      "Objective...............:  -7.3000000704910697e+00   -7.3000000704910697e+00\n",
      "Dual infeasibility......:   2.5091040356528538e-14    2.5091040356528538e-14\n",
      "Constraint violation....:   1.1102230246251565e-16    1.1102230246251565e-16\n",
      "Variable bound violation:   0.0000000000000000e+00    0.0000000000000000e+00\n",
      "Complementarity.........:   5.0086067912021996e-09    5.0086067912021996e-09\n",
      "Overall NLP error.......:   5.0086067912021996e-09    5.0086067912021996e-09\n",
      "\n",
      "\n",
      "Number of objective function evaluations             = 20\n",
      "Number of objective gradient evaluations             = 16\n",
      "Number of equality constraint evaluations            = 20\n",
      "Number of inequality constraint evaluations          = 20\n",
      "Number of equality constraint Jacobian evaluations   = 1\n",
      "Number of inequality constraint Jacobian evaluations = 1\n",
      "Number of Lagrangian Hessian evaluations             = 1\n",
      "Total seconds in IPOPT                               = 0.032\n",
      "\n",
      "EXIT: Optimal Solution Found.\n"
     ]
    }
   ],
   "source": [
    "# Resolver el modelo\n",
    "optimize!(model)"
   ]
  },
  {
   "cell_type": "markdown",
   "metadata": {},
   "source": [
    "# Mostrar resultados"
   ]
  },
  {
   "cell_type": "code",
   "execution_count": 8,
   "metadata": {},
   "outputs": [
    {
     "name": "stdout",
     "output_type": "stream",
     "text": [
      "Estado de la solución: LOCALLY_SOLVED\n",
      "Valor óptimo de x: 4.500000044996969\n",
      "Valor óptimo de y1: 2.8000000254941013\n",
      "Valores óptimos de l: [1.1441334428238572, -0.524541178402304]\n"
     ]
    }
   ],
   "source": [
    "# Mostrar resultados\n",
    "println(\"Estado de la solución: \", termination_status(model))\n",
    "println(\"Valor óptimo de x: \", value(x))\n",
    "println(\"Valor óptimo de y1: \", value(y))\n",
    "println(\"Valores óptimos de l: \", value.(l))"
   ]
  },
  {
   "cell_type": "code",
   "execution_count": 9,
   "metadata": {},
   "outputs": [
    {
     "data": {
      "text/plain": [
       "-7.30000007049107"
      ]
     },
     "metadata": {},
     "output_type": "display_data"
    }
   ],
   "source": [
    "objective_value(model)"
   ]
  },
  {
   "cell_type": "code",
   "execution_count": 10,
   "metadata": {},
   "outputs": [],
   "source": []
  }
 ],
 "metadata": {
  "kernelspec": {
   "display_name": "Julia 1.10.5",
   "language": "julia",
   "name": "julia-1.10"
  },
  "language_info": {
   "file_extension": ".jl",
   "mimetype": "application/julia",
   "name": "julia",
   "version": "1.10.5"
  }
 },
 "nbformat": 4,
 "nbformat_minor": 2
}
