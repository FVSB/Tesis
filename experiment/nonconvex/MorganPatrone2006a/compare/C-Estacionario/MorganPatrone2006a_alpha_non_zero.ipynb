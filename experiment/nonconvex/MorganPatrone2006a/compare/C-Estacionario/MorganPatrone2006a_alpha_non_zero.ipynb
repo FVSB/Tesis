{
 "cells": [
  {
   "cell_type": "markdown",
   "metadata": {},
   "source": [
    "## Importaciones necesarias"
   ]
  },
  {
   "cell_type": "code",
   "execution_count": 1,
   "metadata": {},
   "outputs": [],
   "source": [
    "using JuMP, Ipopt, Complementarity"
   ]
  },
  {
   "cell_type": "markdown",
   "metadata": {},
   "source": [
    "# Crear el modelo"
   ]
  },
  {
   "cell_type": "code",
   "execution_count": 2,
   "metadata": {},
   "outputs": [
    {
     "data": {
      "text/plain": [
       "A JuMP Model\n",
       "├ solver: Ipopt\n",
       "├ objective_sense: FEASIBILITY_SENSE\n",
       "├ num_variables: 0\n",
       "├ num_constraints: 0\n",
       "└ Names registered in the model: none"
      ]
     },
     "metadata": {},
     "output_type": "display_data"
    }
   ],
   "source": [
    "# Crear el modelo\n",
    "model = Model(Ipopt.Optimizer)"
   ]
  },
  {
   "cell_type": "markdown",
   "metadata": {},
   "source": [
    "## Definir Variables\n"
   ]
  },
  {
   "cell_type": "code",
   "execution_count": 3,
   "metadata": {},
   "outputs": [
    {
     "data": {
      "text/plain": [
       "2-element Vector{VariableRef}:\n",
       " l[1]\n",
       " l[2]"
      ]
     },
     "metadata": {},
     "output_type": "display_data"
    }
   ],
   "source": [
    "# Nivel superior\n",
    "@variable(model,x)\n",
    "# Nivel Inferior\n",
    "@variable(model,y)\n",
    "# Complementariedad\n",
    "@variable(model,l[1:2])"
   ]
  },
  {
   "cell_type": "markdown",
   "metadata": {},
   "source": [
    "## Definir Objetivo\n"
   ]
  },
  {
   "cell_type": "code",
   "execution_count": 4,
   "metadata": {},
   "outputs": [
    {
     "data": {
      "text/latex": [
       "$ -x - y $"
      ],
      "text/plain": [
       "-x - y"
      ]
     },
     "metadata": {},
     "output_type": "display_data"
    }
   ],
   "source": [
    "@objective(model,Min,-(x+y))"
   ]
  },
  {
   "cell_type": "markdown",
   "metadata": {},
   "source": [
    "## Definir Restricciones\n"
   ]
  },
  {
   "cell_type": "code",
   "execution_count": 5,
   "metadata": {},
   "outputs": [
    {
     "data": {
      "text/plain": [
       "(x - 3.17 l[1] + 1.43 l[2] == 0, -x <= -4.5, x <= 4.5, -3.17 y <= -8.88, -1.43 y <= -4)"
      ]
     },
     "metadata": {},
     "output_type": "display_data"
    }
   ],
   "source": [
    "@constraints(model,begin\n",
    "x-3.17l[1]+1.43l[2]==0 # kkt\n",
    "4.5 - x<=0 #gs\n",
    "-4.5 + x<=0   #gs\n",
    "8.88 - 3.17y<=0\n",
    "4.0 - 1.43y<=0\n",
    "end)"
   ]
  },
  {
   "cell_type": "markdown",
   "metadata": {},
   "source": [
    "## Definir variables Complementarias"
   ]
  },
  {
   "cell_type": "code",
   "execution_count": 6,
   "metadata": {},
   "outputs": [
    {
     "data": {
      "text/latex": [
       "$$ (sqrt(l[2] ^ {2.0} + (-4.0 + 1.43 * y) ^ {2.0} + 1.0e-8) - (l[2] + (-4.0 + 1.43 * y))) - 0.0 = 0 $$"
      ],
      "text/plain": [
       "(sqrt(l[2] ^ 2.0 + (-4.0 + 1.43 * y) ^ 2.0 + 1.0e-8) - (l[2] + (-4.0 + 1.43 * y))) - 0.0 == 0"
      ]
     },
     "metadata": {},
     "output_type": "display_data"
    }
   ],
   "source": [
    "@complements(model,0<=-(8.88 - 3.17y),l[1]>=0)\n",
    "@complements(model,0<=-(4.0 - 1.43y),l[2]>=0)"
   ]
  },
  {
   "cell_type": "markdown",
   "metadata": {},
   "source": [
    "## Optimizar"
   ]
  },
  {
   "cell_type": "code",
   "execution_count": 7,
   "metadata": {},
   "outputs": [
    {
     "name": "stdout",
     "output_type": "stream",
     "text": [
      "\n",
      "******************************************************************************\n",
      "This program contains Ipopt, a library for large-scale nonlinear optimization.\n",
      " Ipopt is released as open source code under the Eclipse Public License (EPL).\n",
      "         For more information visit https://github.com/coin-or/Ipopt\n",
      "******************************************************************************\n",
      "\n",
      "This is Ipopt version 3.14.16, running with linear solver MUMPS 5.7.3.\n",
      "\n",
      "Number of nonzeros in equality constraint Jacobian...:        7\n",
      "Number of nonzeros in inequality constraint Jacobian.:        8\n",
      "Number of nonzeros in Lagrangian Hessian.............:        6\n",
      "\n",
      "Total number of variables............................:        4\n",
      "                     variables with only lower bounds:        0\n",
      "                variables with lower and upper bounds:        0\n",
      "                     variables with only upper bounds:        0\n",
      "Total number of equality constraints.................:        3\n",
      "Total number of inequality constraints...............:        8\n",
      "        inequality constraints with only lower bounds:        4\n",
      "   inequality constraints with lower and upper bounds:        0\n",
      "        inequality constraints with only upper bounds:        4\n",
      "\n",
      "iter    objective    inf_pr   inf_du lg(mu)  ||d||  lg(rg) alpha_du alpha_pr  ls\n",
      "   0 -0.0000000e+00 1.78e+01 2.70e-01  -1.0 0.00e+00    -  0.00e+00 0.00e+00   0\n",
      "   1 -9.8314495e-02 1.74e+01 7.09e-01  -1.0 2.66e+00    -  1.23e-02 1.98e-02h  1\n",
      "   2 -1.0482879e-01 1.74e+01 5.03e+01  -1.0 4.41e+00    -  2.80e-02 9.47e-04h  1\n",
      "   3 -1.0510721e-01 1.74e+01 6.21e+05  -1.0 4.01e+00    -  1.00e+00 8.81e-05h  1\n",
      "   4 -1.0528987e-01 1.74e+01 2.81e+08  -1.0 2.84e+00    -  1.51e-02 3.31e-05h  1\n",
      "   5r-1.0528987e-01 1.74e+01 1.00e+03   1.2 0.00e+00    -  0.00e+00 1.21e-07R  2\n",
      "   6r-3.1580806e+00 4.10e+00 9.99e+02   1.2 6.56e+03    -  8.41e-04 2.62e-03f  1\n",
      "   7 -3.1586934e+00 4.10e+00 8.44e+02  -1.0 4.17e+00    -  9.55e-02 1.49e-04h  1\n",
      "   8 -3.1586954e+00 4.10e+00 6.07e+07  -1.0 3.99e+00    -  1.00e+00 1.38e-05h  1\n",
      "   9r-3.1586954e+00 4.10e+00 1.00e+03   0.6 0.00e+00    -  0.00e+00 1.99e-07R  2\n",
      "iter    objective    inf_pr   inf_du lg(mu)  ||d||  lg(rg) alpha_du alpha_pr  ls\n",
      "  10r-5.3580431e+00 1.89e+00 9.93e+02   0.6 2.89e+02    -  1.66e-03 7.62e-03f  1\n",
      "  11 -5.3609634e+00 1.89e+00 2.40e+03  -1.0 1.99e+00    -  6.17e-01 1.43e-03h  1\n",
      "  12 -5.3608984e+00 1.89e+00 2.80e+07  -1.0 3.20e+00    -  6.03e-01 5.17e-05h  1\n",
      "  13r-5.3608984e+00 1.89e+00 1.00e+03   0.3 0.00e+00    -  0.00e+00 3.05e-07R  4\n",
      "  14r-7.2382278e+00 1.47e-01 9.98e+02   0.3 1.13e+03    -  2.52e-03 1.65e-03f  1\n",
      "  15 -7.2383066e+00 1.47e-01 3.40e+04  -1.0 1.18e-01    -  1.00e+00 4.91e-04h  1\n",
      "  16 -7.2382573e+00 1.47e-01 1.25e+07  -1.0 3.09e+00    -  6.06e-03 1.63e-05h  1\n",
      "  17r-7.2382573e+00 1.47e-01 1.00e+03  -0.8 0.00e+00    -  0.00e+00 3.37e-07R  4\n",
      "  18r-7.2752152e+00 2.99e-02 7.98e+02  -0.8 1.26e+02    -  3.17e-01 9.57e-04f  1\n",
      "  19 -7.2752775e+00 2.99e-02 6.83e+05  -1.0 1.83e-01    -  1.00e+00 4.97e-04h  1\n",
      "iter    objective    inf_pr   inf_du lg(mu)  ||d||  lg(rg) alpha_du alpha_pr  ls\n",
      "  20 -7.2752296e+00 2.99e-02 2.32e+08  -1.0 2.95e+00    -  5.61e-03 1.64e-05h  1\n",
      "  21r-7.2752296e+00 2.99e-02 1.00e+03  -1.0 0.00e+00    -  0.00e+00 3.89e-07R  4\n",
      "  22r-7.2871088e+00 1.50e-02 9.71e+02  -1.0 1.32e+01    -  4.66e-01 2.67e-03f  1\n",
      "  23 -7.2871990e+00 1.50e-02 8.07e+02  -1.0 7.93e+00    -  2.94e-03 7.94e-04H  1\n",
      "  24 -7.2877656e+00 1.49e-02 2.00e+05  -1.0 1.47e+01    -  1.43e-05 2.62e-03f  1\n",
      "  25 -7.2881707e+00 1.49e-02 3.38e+05  -1.0 8.51e-02    -  1.00e+00 4.51e-03h  2\n",
      "  26 -7.2881709e+00 1.49e-02 2.98e+07  -1.0 1.62e-02    -  1.00e+00 1.47e-04h  6\n",
      "  27 -7.2873032e+00 1.48e-02 2.96e+07  -1.0 1.96e-01    -  4.76e-03 4.76e-03s 15\n",
      "  28r-7.2873032e+00 1.48e-02 1.00e+03  -1.0 0.00e+00    -  0.00e+00 0.00e+00R  1\n",
      "  29r-7.2952387e+00 6.76e-03 6.38e+02  -1.0 3.30e+00    -  6.99e-01 4.73e-03f  1\n",
      "iter    objective    inf_pr   inf_du lg(mu)  ||d||  lg(rg) alpha_du alpha_pr  ls\n",
      "  30 -7.3011519e+00 6.39e-03 1.98e+05  -1.0 1.05e-01    -  1.00e+00 5.62e-02f  1\n",
      "  31 -7.3004378e+00 4.77e-03 3.09e+05  -1.0 9.59e-03    -  1.00e+00 2.61e-01h  1\n",
      "  32 -7.3004374e+00 4.75e-03 5.95e+05  -1.0 7.09e-03    -  1.00e+00 4.76e-03h  1\n",
      "  33 -7.3004374e+00 4.75e-03 6.84e+09  -1.0 7.06e-03    -  1.00e+00 4.81e-05h  1\n",
      "  34r-7.3004374e+00 4.75e-03 1.00e+03  -1.0 0.00e+00    -  0.00e+00 2.40e-07R  2\n",
      "  35r-7.3005204e+00 7.07e-04 8.76e+02  -1.0 3.12e-01    -  6.93e-01 2.18e-02f  1\n",
      "  36 -7.2977199e+00 3.51e-03 4.38e+04  -1.0 6.41e-02    -  1.00e+00 4.64e-02h  1\n",
      "  37 -7.2979024e+00 3.33e-03 1.40e+06  -1.0 5.31e-03    -  1.00e+00 3.42e-02h  1\n",
      "  38 -7.2979040e+00 3.33e-03 3.80e+09  -1.0 4.18e-03    -  1.00e+00 3.78e-04h  1\n",
      "  39r-7.2979040e+00 3.33e-03 1.00e+03  -1.0 0.00e+00    -  0.00e+00 4.73e-07R  4\n",
      "iter    objective    inf_pr   inf_du lg(mu)  ||d||  lg(rg) alpha_du alpha_pr  ls\n",
      "  40r-7.2994715e+00 1.77e-03 7.83e+02  -1.0 4.18e-02    -  8.07e-01 9.79e-02f  1\n",
      "  41 -7.3003570e+00 8.83e-04 1.01e+04  -1.0 9.09e-02    -  1.00e+00 9.75e-03f  2\n",
      "  42 -7.3009640e+00 2.91e-04 7.50e+03  -1.0 1.01e-03    -  1.00e+00 6.97e-01h  1\n",
      "  43 -7.3012589e+00 6.56e-06 7.51e+04  -1.0 3.20e-04    -  1.00e+00 9.21e-01h  1\n",
      "  44 -7.3012428e+00 1.85e-05 6.62e+05  -1.0 1.95e-04    -  4.46e-01 1.06e-01f  2\n",
      "  45 -7.3012580e+00 3.77e-06 4.75e+04  -1.0 2.34e-05    -  1.00e+00 9.00e-01h  1\n",
      "  46 -7.3012599e+00 1.84e-06 2.11e+06  -1.0 1.57e-05    -  1.00e+00 1.23e-01f  2\n",
      "  47 -7.3012619e+00 3.20e-08 2.34e+05  -1.0 2.08e-06    -  1.00e+00 9.38e-01h  1\n",
      "  48 -7.3012617e+00 3.91e-08 2.38e+06  -1.0 9.97e-07    -  1.00e+00 1.43e-01f  2\n",
      "  49 -7.3012618e+00 6.48e-14 4.31e-02  -1.0 1.00e-07    -  1.00e+00 1.00e+00h  1\n",
      "iter    objective    inf_pr   inf_du lg(mu)  ||d||  lg(rg) alpha_du alpha_pr  ls\n",
      "  50 -7.3012618e+00 4.86e-14 5.53e+06  -8.6 1.20e-08    -  1.00e+00 2.50e-01h  3\n",
      "  51 -7.3012619e+00 9.93e-16 9.68e+04  -8.6 6.21e-09    -  6.64e-01 1.00e+00H  1\n",
      "In iteration 51, 1 Slack too small, adjusting variable bound\n",
      "  52 -7.3012619e+00 3.51e-10 5.43e+02  -8.6 7.94e-08    -  1.00e+00 9.94e-01h  1\n",
      "  53 -7.3012619e+00 4.44e-16 6.32e-14  -8.6 2.77e-09    -  1.00e+00 1.00e+00h  1\n",
      "\n",
      "Number of Iterations....: 53\n",
      "\n",
      "                                   (scaled)                 (unscaled)\n",
      "Objective...............:  -7.3012618733577099e+00   -7.3012618733577099e+00\n",
      "Dual infeasibility......:   6.3171690101171407e-14    6.3171690101171407e-14\n",
      "Constraint violation....:   4.4408920985006262e-16    4.4408920985006262e-16\n",
      "Variable bound violation:   0.0000000000000000e+00    0.0000000000000000e+00\n",
      "Complementarity.........:   2.5302360260412460e-09    2.5302360260412460e-09\n",
      "Overall NLP error.......:   2.5302360260412460e-09    2.5302360260412460e-09\n",
      "\n",
      "\n",
      "Number of objective function evaluations             = 106\n",
      "Number of objective gradient evaluations             = 54\n",
      "Number of equality constraint evaluations            = 106\n",
      "Number of inequality constraint evaluations          = 106\n",
      "Number of equality constraint Jacobian evaluations   = 62\n",
      "Number of inequality constraint Jacobian evaluations = 62\n",
      "Number of Lagrangian Hessian evaluations             = 53\n",
      "Total seconds in IPOPT                               = 4.080\n",
      "\n",
      "EXIT: Optimal Solution Found.\n"
     ]
    }
   ],
   "source": [
    "# Resolver el modelo\n",
    "optimize!(model)"
   ]
  },
  {
   "cell_type": "markdown",
   "metadata": {},
   "source": [
    "# Mostrar resultados"
   ]
  },
  {
   "cell_type": "code",
   "execution_count": 8,
   "metadata": {},
   "outputs": [
    {
     "name": "stdout",
     "output_type": "stream",
     "text": [
      "Estado de la solución: LOCALLY_SOLVED\n",
      "Valor óptimo de x: 4.5000000425936015\n",
      "Valor óptimo de y1: 2.801261830764108\n",
      "Valores óptimos de l: [1.4195587616447687, 8.614128076762788e-7]\n"
     ]
    }
   ],
   "source": [
    "# Mostrar resultados\n",
    "println(\"Estado de la solución: \", termination_status(model))\n",
    "println(\"Valor óptimo de x: \", value(x))\n",
    "println(\"Valor óptimo de y1: \", value(y))\n",
    "println(\"Valores óptimos de l: \", value.(l))"
   ]
  },
  {
   "cell_type": "code",
   "execution_count": 9,
   "metadata": {},
   "outputs": [
    {
     "data": {
      "text/plain": [
       "-7.30126187335771"
      ]
     },
     "metadata": {},
     "output_type": "display_data"
    }
   ],
   "source": [
    "objective_value(model)"
   ]
  },
  {
   "cell_type": "code",
   "execution_count": 10,
   "metadata": {},
   "outputs": [],
   "source": []
  }
 ],
 "metadata": {
  "kernelspec": {
   "display_name": "Julia 1.10.5",
   "language": "julia",
   "name": "julia-1.10"
  },
  "language_info": {
   "file_extension": ".jl",
   "mimetype": "application/julia",
   "name": "julia",
   "version": "1.10.5"
  }
 },
 "nbformat": 4,
 "nbformat_minor": 2
}
