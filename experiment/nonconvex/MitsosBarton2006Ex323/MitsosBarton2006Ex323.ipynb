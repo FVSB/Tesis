{
 "cells": [
  {
   "cell_type": "markdown",
   "metadata": {},
   "source": [
    "## Importaciones necesarias"
   ]
  },
  {
   "cell_type": "code",
   "execution_count": 1,
   "metadata": {},
   "outputs": [],
   "source": [
    "using JuMP, Ipopt, Complementarity"
   ]
  },
  {
   "cell_type": "markdown",
   "metadata": {},
   "source": [
    "# Crear el modelo"
   ]
  },
  {
   "cell_type": "code",
   "execution_count": 2,
   "metadata": {},
   "outputs": [
    {
     "data": {
      "text/plain": [
       "A JuMP Model\n",
       "├ solver: Ipopt\n",
       "├ objective_sense: FEASIBILITY_SENSE\n",
       "├ num_variables: 0\n",
       "├ num_constraints: 0\n",
       "└ Names registered in the model: none"
      ]
     },
     "metadata": {},
     "output_type": "display_data"
    }
   ],
   "source": [
    "# Crear el modelo\n",
    "model = Model(Ipopt.Optimizer)"
   ]
  },
  {
   "cell_type": "markdown",
   "metadata": {},
   "source": [
    "## Definir Variables\n"
   ]
  },
  {
   "cell_type": "code",
   "execution_count": 3,
   "metadata": {},
   "outputs": [
    {
     "data": {
      "text/plain": [
       "3-element Vector{VariableRef}:\n",
       " l[1]\n",
       " l[2]\n",
       " l[3]"
      ]
     },
     "metadata": {},
     "output_type": "display_data"
    }
   ],
   "source": [
    "# Nivel superior\n",
    "@variable(model,x)\n",
    "# Nivel Inferior\n",
    "@variable(model,y)\n",
    "# Complementariedad\n",
    "@variable(model,l[1:3])"
   ]
  },
  {
   "cell_type": "markdown",
   "metadata": {},
   "source": [
    "## Definir Objetivo\n"
   ]
  },
  {
   "cell_type": "code",
   "execution_count": 4,
   "metadata": {},
   "outputs": [
    {
     "data": {
      "text/latex": [
       "$ x^2 $"
      ],
      "text/plain": [
       "x²"
      ]
     },
     "metadata": {},
     "output_type": "display_data"
    }
   ],
   "source": [
    "@objective(model,Min,x^2)"
   ]
  },
  {
   "cell_type": "markdown",
   "metadata": {},
   "source": [
    "## Definir Restricciones\n"
   ]
  },
  {
   "cell_type": "code",
   "execution_count": 5,
   "metadata": {},
   "outputs": [
    {
     "data": {
      "text/latex": [
       "$$ y ^ {2.0} * (x - 0.5) - 0.0 \\leq 0 $$"
      ],
      "text/plain": [
       "y ^ 2.0 * (x - 0.5) - 0.0 <= 0"
      ]
     },
     "metadata": {},
     "output_type": "display_data"
    }
   ],
   "source": [
    "@NLconstraint(model,1+(-l[1]+l[2]+(l[3]*(2*y*(x-0.25))))==0) # Obj nivel inferior\n",
    "@NLconstraint(model,(y^2)*(x-0.5)<=0 )#vs"
   ]
  },
  {
   "cell_type": "code",
   "execution_count": 6,
   "metadata": {},
   "outputs": [
    {
     "data": {
      "text/plain": [
       "(-x <= 1, x <= 1, -9 x² + x - y <= -1, -y <= 1, y <= 1)"
      ]
     },
     "metadata": {},
     "output_type": "display_data"
    }
   ],
   "source": [
    "@constraints(model,begin\n",
    "-x-1<=0  #gs\n",
    "x-1<=0  #gs\n",
    "1+x-(9*(x^2))-y<=0 #gs\n",
    "-y-1<=0  #vs\n",
    "y-1<=0 #vs\n",
    "\n",
    "end)"
   ]
  },
  {
   "cell_type": "markdown",
   "metadata": {},
   "source": [
    "## Definir variables Complementarias"
   ]
  },
  {
   "cell_type": "code",
   "execution_count": 7,
   "metadata": {},
   "outputs": [
    {
     "data": {
      "text/latex": [
       "$$ (sqrt(l[3] ^ {2.0} + ((y * y * -1.0) * (-0.25 + x) - 0.0) ^ {2.0} + 1.0e-8) - (l[3] + ((y * y * -1.0) * (-0.25 + x) - 0.0))) - 0.0 = 0 $$"
      ],
      "text/plain": [
       "(sqrt(l[3] ^ 2.0 + ((y * y * -1.0) * (-0.25 + x) - 0.0) ^ 2.0 + 1.0e-8) - (l[3] + ((y * y * -1.0) * (-0.25 + x) - 0.0))) - 0.0 == 0"
      ]
     },
     "metadata": {},
     "output_type": "display_data"
    }
   ],
   "source": [
    "@complements(model,0<=y+1,l[1]>=0)\n",
    "@complements(model,0<=-y+1,l[2]>=0)\n",
    "@complements(model,0<=-(y^2)*(x-0.25),l[3]>=0)"
   ]
  },
  {
   "cell_type": "markdown",
   "metadata": {},
   "source": [
    "## Optimizar"
   ]
  },
  {
   "cell_type": "code",
   "execution_count": 8,
   "metadata": {},
   "outputs": [
    {
     "name": "stdout",
     "output_type": "stream",
     "text": [
      "\n",
      "******************************************************************************\n",
      "This program contains Ipopt, a library for large-scale nonlinear optimization.\n",
      " Ipopt is released as open source code under the Eclipse Public License (EPL).\n",
      "         For more information visit https://github.com/coin-or/Ipopt\n",
      "******************************************************************************\n",
      "\n",
      "This is Ipopt version 3.14.16, running with linear solver MUMPS 5.7.3.\n",
      "\n",
      "Number of nonzeros in equality constraint Jacobian...:       12\n",
      "Number of nonzeros in inequality constraint Jacobian.:       16\n",
      "Number of nonzeros in Lagrangian Hessian.............:       26\n",
      "\n",
      "Total number of variables............................:        5\n",
      "                     variables with only lower bounds:        0\n",
      "                variables with lower and upper bounds:        0\n",
      "                     variables with only upper bounds:        0\n",
      "Total number of equality constraints.................:        4\n",
      "Total number of inequality constraints...............:       12\n",
      "        inequality constraints with only lower bounds:        6\n",
      "   inequality constraints with lower and upper bounds:        0\n",
      "        inequality constraints with only upper bounds:        6\n",
      "\n",
      "iter    objective    inf_pr   inf_du lg(mu)  ||d||  lg(rg) alpha_du alpha_pr  ls\n",
      "   0  0.0000000e+00 1.00e+00 1.00e+00  -1.0 0.00e+00    -  0.00e+00 0.00e+00   0\n",
      "   1  6.1256254e-02 1.00e+00 5.17e+07  -1.0 1.00e+08    -  9.90e-09 2.57e-09h  1\n",
      "   2  9.9164108e-02 1.00e+00 2.00e+08  -1.0 3.04e+06    -  8.19e-09 1.21e-07f  2\n",
      "   3  1.0103020e-01 1.00e+00 2.00e+08  -1.0 1.56e+06    -  9.71e-08 1.36e-08f  4\n",
      "   4  1.0917192e-01 1.00e+00 1.96e+08  -1.0 1.60e+06    -  1.08e-07 5.90e-08f  3\n",
      "   5  1.1238331e-01 1.00e+00 1.96e+08  -1.0 1.73e+06    -  1.52e-07 2.49e-08f  4\n",
      "   6  1.1378757e-01 1.00e+00 1.96e+08  -1.0 1.76e+06    -  2.23e-07 1.13e-08f  5\n",
      "   7  1.1643226e-01 1.00e+00 1.95e+08  -1.0 1.77e+06    -  3.13e-07 2.16e-08f  4\n",
      "   8  1.2687204e-01 1.00e+00 1.79e+08  -1.0 1.75e+06    -  1.07e-09 8.04e-08f  2\n",
      "   9  4.5545825e-01 1.00e+00 1.37e+08  -1.0 8.42e+06    -  1.23e-09 2.80e-07f  2\n",
      "iter    objective    inf_pr   inf_du lg(mu)  ||d||  lg(rg) alpha_du alpha_pr  ls\n",
      "  10  7.3023966e-01 1.00e+00 1.22e+08  -1.0 1.30e+07    -  1.80e-07 1.80e-07s  2\n",
      "  11  9.9709295e-01 1.00e+00 1.11e+08  -1.0 1.40e+07    -  1.67e-07 1.67e-07s  2\n",
      "  12  9.9997093e-01 1.00e+00 1.11e+08  -1.0 1.02e+06    -  2.11e-08 2.11e-08s  2\n",
      "  13  9.9999973e-01 1.00e+00 1.10e+08  -1.0 8.81e+05    -  4.56e-08 4.56e-08s  2\n",
      "  14  9.9999997e-01 1.00e+00 1.07e+08  -1.0 5.62e+05    -  1.82e-07 1.82e-07s  2\n",
      "  15r 9.9999997e-01 1.00e+00 9.99e+02  -0.0 0.00e+00    -  0.00e+00 0.00e+00R  1\n",
      "  16r 9.9996410e-01 1.00e+00 9.98e+02  -0.0 9.55e+02    -  4.15e-01 1.01e-03f  1\n",
      "  17r 9.9657894e-01 9.75e-01 9.39e+02  -0.0 5.12e-01    -  1.55e-02 5.95e-02f  1\n",
      "  18r 9.7323471e-01 9.70e-01 5.39e+02  -0.0 4.99e-01    -  3.80e-01 4.25e-01f  1\n",
      "  19r 9.7307357e-01 9.70e-01 5.34e+02  -0.0 5.52e-04   6.0 1.00e+00 1.00e+00f  1\n",
      "iter    objective    inf_pr   inf_du lg(mu)  ||d||  lg(rg) alpha_du alpha_pr  ls\n",
      "  20r 9.7304953e-01 9.68e-01 4.55e+02  -0.0 1.34e-03   5.5 1.00e+00 1.00e+00f  1\n",
      "  21r 9.7304554e-01 9.65e-01 3.77e+02  -0.0 3.83e-03   5.0 1.00e+00 1.00e+00f  1\n",
      "  22r 9.7308502e-01 9.56e-01 4.14e+02  -0.0 1.12e-02   4.6 9.59e-01 1.00e+00f  1\n",
      "  23r 9.7314265e-01 9.31e-01 3.89e+02  -0.0 3.15e-02   4.1 1.00e+00 1.00e+00f  1\n",
      "  24r 9.6663400e-01 2.89e-02 9.26e+02  -0.0 1.09e+00    -  4.70e-02 8.44e-01f  1\n",
      "  25  6.2980256e-01 3.00e-03 2.34e+02  -1.0 3.95e+00    -  3.29e-01 8.98e-01H  1\n",
      "  26  6.0170050e-01 2.92e-03 1.22e+04  -1.0 1.12e+01    -  1.00e+00 2.44e-02h  5\n",
      "  27  5.6656219e-01 2.67e-03 2.44e+04  -1.0 3.82e+00    -  8.26e-01 8.85e-02h  4\n",
      "  28  5.4600307e-01 2.54e-03 4.69e+04  -1.0 4.35e+00    -  1.00e+00 4.55e-02h  5\n",
      "  29  3.3701865e-01 3.61e-04 1.00e+04  -1.0 2.54e+00    -  1.00e+00 8.58e-01H  1\n",
      "iter    objective    inf_pr   inf_du lg(mu)  ||d||  lg(rg) alpha_du alpha_pr  ls\n",
      "  30  2.9496444e-01 1.70e-04 7.76e+05  -1.0 7.45e-01    -  1.00e+00 5.30e-01h  1\n",
      "  31  2.3956788e-01 1.44e-04 1.13e+08  -1.0 3.86e+00    -  1.00e+00 1.48e-01f  2\n",
      "  32  2.4836604e-01 1.45e-06 2.26e+04  -1.0 1.50e-01    -  1.00e+00 9.92e-01h  1\n",
      "  33  3.5840317e-01 3.41e-10 5.94e+07  -1.0 1.07e+00    -  2.31e-01 1.00e+00H  1\n",
      "  34  2.6586679e-01 1.28e-12 1.41e-01  -1.0 9.41e-01    -  1.00e+00 1.00e+00F  1\n",
      "  35  1.8255755e-01 1.33e-10 7.23e+05  -5.7 9.81e-01    -  8.35e-01 9.26e-01f  1\n",
      "  36  1.7571404e-01 3.02e-12 1.39e+04  -5.7 8.08e-03    -  9.89e-01 1.00e+00h  1\n",
      "  37  1.7565614e-01 2.22e-16 3.07e-07  -5.7 6.91e-05    -  1.00e+00 1.00e+00h  1\n",
      "  38  1.7565430e-01 2.22e-16 2.67e-11  -8.6 1.88e-05    -  1.00e+00 1.00e+00h  1\n",
      "\n",
      "Number of Iterations....: 38\n",
      "\n",
      "                                   (scaled)                 (unscaled)\n",
      "Objective...............:   1.7565429890342829e-01    1.7565429890342829e-01\n",
      "Dual infeasibility......:   2.6668889319125810e-11    2.6668889319125810e-11\n",
      "Constraint violation....:   2.2204460492503131e-16    2.2204460492503131e-16\n",
      "Variable bound violation:   0.0000000000000000e+00    0.0000000000000000e+00\n",
      "Complementarity.........:   2.5121456891895291e-09    2.5121456891895291e-09\n",
      "Overall NLP error.......:   2.5121456891895291e-09    2.5121456891895291e-09\n",
      "\n",
      "\n",
      "Number of objective function evaluations             = 103\n",
      "Number of objective gradient evaluations             = 31\n",
      "Number of equality constraint evaluations            = 103\n",
      "Number of inequality constraint evaluations          = 103\n",
      "Number of equality constraint Jacobian evaluations   = 40\n",
      "Number of inequality constraint Jacobian evaluations = 40\n",
      "Number of Lagrangian Hessian evaluations             = 38\n",
      "Total seconds in IPOPT                               = 3.965\n",
      "\n",
      "EXIT: Optimal Solution Found.\n"
     ]
    }
   ],
   "source": [
    "# Resolver el modelo\n",
    "optimize!(model)"
   ]
  },
  {
   "cell_type": "markdown",
   "metadata": {},
   "source": [
    "# Mostrar resultados"
   ]
  },
  {
   "cell_type": "code",
   "execution_count": 9,
   "metadata": {},
   "outputs": [
    {
     "name": "stdout",
     "output_type": "stream",
     "text": [
      "Estado de la solución: LOCALLY_SOLVED\n",
      "Valor óptimo de x: -0.4191113204190842\n",
      "Valor óptimo de y1: -0.9999999950000001\n",
      "Valores óptimos de l: [1.0000000125, 2.499999927605212e-9, 7.472598143739105e-9]\n"
     ]
    }
   ],
   "source": [
    "# Mostrar resultados\n",
    "println(\"Estado de la solución: \", termination_status(model))\n",
    "println(\"Valor óptimo de x: \", value(x))\n",
    "println(\"Valor óptimo de y1: \", value(y))\n",
    "#println(\"Valor óptimo de y2: \", value(y2))\n",
    "#println(\"Valores óptimos de s: \", value.(s))\n",
    "println(\"Valores óptimos de l: \", value.(l))"
   ]
  },
  {
   "cell_type": "code",
   "execution_count": null,
   "metadata": {},
   "outputs": [],
   "source": [
    "objective_value(model)"
   ]
  },
  {
   "cell_type": "code",
   "execution_count": null,
   "metadata": {},
   "outputs": [],
   "source": []
  }
 ],
 "metadata": {
  "kernelspec": {
   "display_name": "Julia 1.10.5",
   "language": "julia",
   "name": "julia-1.10"
  },
  "language_info": {
   "file_extension": ".jl",
   "mimetype": "application/julia",
   "name": "julia",
   "version": "1.10.5"
  }
 },
 "nbformat": 4,
 "nbformat_minor": 2
}
