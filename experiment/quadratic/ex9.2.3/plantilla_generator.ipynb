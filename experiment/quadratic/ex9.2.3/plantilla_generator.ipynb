{
 "cells": [
  {
   "cell_type": "markdown",
   "metadata": {},
   "source": [
    "## Importar el módulo\n"
   ]
  },
  {
   "cell_type": "code",
   "execution_count": 1,
   "metadata": {},
   "outputs": [
    {
     "data": {
      "text/plain": [
       "RunExperiment (generic function with 1 method)"
      ]
     },
     "metadata": {},
     "output_type": "display_data"
    }
   ],
   "source": [
    "include(\"../../new_experiment.jl\")"
   ]
  },
  {
   "cell_type": "markdown",
   "metadata": {},
   "source": [
    "Crear un experimento\n"
   ]
  },
  {
   "cell_type": "code",
   "execution_count": 2,
   "metadata": {},
   "outputs": [
    {
     "data": {
      "text/plain": [
       "Experiment(OptimizationModel(Problem(Any[], nothing), LeaderRestrictionProblem[], Problem(Any[], nothing), FollowerRestrictionProblem[], Dict{Any, Any}(), Number[1], false), OptimizationModel(Problem(Any[], nothing), LeaderRestrictionProblem[], Problem(Any[], nothing), FollowerRestrictionProblem[], Dict{Any, Any}(), Number[], true), Any[], Any[])"
      ]
     },
     "metadata": {},
     "output_type": "display_data"
    }
   ],
   "source": [
    "experiment=CreateExperiment()"
   ]
  },
  {
   "cell_type": "markdown",
   "metadata": {},
   "source": [
    "### Declarar variables del líder\n"
   ]
  },
  {
   "cell_type": "code",
   "execution_count": 3,
   "metadata": {},
   "outputs": [
    {
     "data": {
      "text/latex": [
       "$$ \\begin{equation}\n",
       "\\left[\n",
       "\\begin{array}{c}\n",
       "\\mathtt{x\\_1} \\\\\n",
       "\\mathtt{x\\_2} \\\\\n",
       "\\end{array}\n",
       "\\right]\n",
       "\\end{equation}\n",
       " $$"
      ],
      "text/plain": [
       "2-element Vector{Num}:\n",
       " x_1\n",
       " x_2"
      ]
     },
     "metadata": {},
     "output_type": "display_data"
    }
   ],
   "source": [
    "@leader_vars experiment x_1,x_2"
   ]
  },
  {
   "cell_type": "markdown",
   "metadata": {},
   "source": [
    "### Declarar Variables del Follower"
   ]
  },
  {
   "cell_type": "code",
   "execution_count": 4,
   "metadata": {},
   "outputs": [
    {
     "data": {
      "text/latex": [
       "$$ \\begin{equation}\n",
       "\\left[\n",
       "\\begin{array}{c}\n",
       "\\mathtt{y\\_1} \\\\\n",
       "\\mathtt{y\\_2} \\\\\n",
       "\\end{array}\n",
       "\\right]\n",
       "\\end{equation}\n",
       " $$"
      ],
      "text/plain": [
       "2-element Vector{Num}:\n",
       " y_1\n",
       " y_2"
      ]
     },
     "metadata": {},
     "output_type": "display_data"
    }
   ],
   "source": [
    "@follower_vars experiment y_1,y_2"
   ]
  },
  {
   "cell_type": "markdown",
   "metadata": {},
   "source": [
    "### Declarar Función Objetivo del Líder"
   ]
  },
  {
   "cell_type": "code",
   "execution_count": 5,
   "metadata": {},
   "outputs": [
    {
     "data": {
      "text/latex": [
       "$$ \\begin{equation}\n",
       "-60 + 2 \\mathtt{x\\_1} + 2 \\mathtt{x\\_2} - 3 \\mathtt{y\\_1} - 3 \\mathtt{y\\_2}\n",
       "\\end{equation}\n",
       " $$"
      ],
      "text/plain": [
       "-60 + 2x_1 + 2x_2 - 3y_1 - 3y_2"
      ]
     },
     "metadata": {},
     "output_type": "display_data"
    }
   ],
   "source": [
    "SetLeaderFunction(experiment,2x_1+2x_2-3y_1-3y_2-60)"
   ]
  },
  {
   "cell_type": "markdown",
   "metadata": {},
   "source": [
    "Restricciones del Líder"
   ]
  },
  {
   "cell_type": "code",
   "execution_count": 6,
   "metadata": {},
   "outputs": [
    {
     "data": {
      "text/plain": [
       "1-element Vector{LeaderRestrictionProblem}:\n",
       " LeaderRestrictionProblem((-40 + x_1 + x_2 + y_1 - 2y_2) <= 0, 0.12404476726564549, J_0_g)"
      ]
     },
     "metadata": {},
     "output_type": "display_data"
    }
   ],
   "source": [
    "SetLeaderRestriction(experiment,x_1+x_2+y_1-2y_2-40<=0)"
   ]
  },
  {
   "cell_type": "markdown",
   "metadata": {},
   "source": [
    "### Función objetivo del Follower"
   ]
  },
  {
   "cell_type": "code",
   "execution_count": 7,
   "metadata": {},
   "outputs": [
    {
     "data": {
      "text/latex": [
       "$$ \\begin{equation}\n",
       "\\left( 20 - \\mathtt{x\\_1} + \\mathtt{y\\_1} \\right)^{2} + \\left( 20 - \\mathtt{x\\_2} + \\mathtt{y\\_2} \\right)^{2}\n",
       "\\end{equation}\n",
       " $$"
      ],
      "text/plain": [
       "(20 - x_1 + y_1)^2 + (20 - x_2 + y_2)^2"
      ]
     },
     "metadata": {},
     "output_type": "display_data"
    }
   ],
   "source": [
    "SetFollowerFunction(experiment,(y_1-x_1+20)^2+(y_2-x_2+20)^2)"
   ]
  },
  {
   "cell_type": "markdown",
   "metadata": {},
   "source": [
    "### Restricciones del Follower"
   ]
  },
  {
   "cell_type": "code",
   "execution_count": 8,
   "metadata": {},
   "outputs": [
    {
     "data": {
      "text/plain": [
       "1-element Vector{FollowerRestrictionProblem}:\n",
       " FollowerRestrictionProblem((-x_1 + 2y_2) <= -10, J_0_LP_v, 0.2554305724658922, 0.3224910788407883, 0.2523893636732434)"
      ]
     },
     "metadata": {},
     "output_type": "display_data"
    }
   ],
   "source": [
    "SetFollowerRestriction(experiment,-x_1+2y_2<=-10)"
   ]
  },
  {
   "cell_type": "code",
   "execution_count": 9,
   "metadata": {},
   "outputs": [
    {
     "data": {
      "text/plain": [
       "2-element Vector{FollowerRestrictionProblem}:\n",
       " FollowerRestrictionProblem((-x_1 + 2y_2) <= -10, J_0_LP_v, 0.2554305724658922, 0.3224910788407883, 0.2523893636732434)\n",
       " FollowerRestrictionProblem((-x_2 + 2y_2) <= -10, J_0_LP_v, 0.7527522132000222, 0.346731825296692, 0.9966062778126654)"
      ]
     },
     "metadata": {},
     "output_type": "display_data"
    }
   ],
   "source": [
    "SetFollowerRestriction(experiment,-x_2+2y_2<=-10)"
   ]
  },
  {
   "cell_type": "code",
   "execution_count": 10,
   "metadata": {},
   "outputs": [
    {
     "data": {
      "text/plain": [
       "3-element Vector{FollowerRestrictionProblem}:\n",
       " FollowerRestrictionProblem((-x_1 + 2y_2) <= -10, J_0_LP_v, 0.2554305724658922, 0.3224910788407883, 0.2523893636732434)\n",
       " FollowerRestrictionProblem((-x_2 + 2y_2) <= -10, J_0_LP_v, 0.7527522132000222, 0.346731825296692, 0.9966062778126654)\n",
       " FollowerRestrictionProblem((-y_1) <= 10, J_0_LP_v, 0.910235945283345, 0.19418772291650643, 0.8015092418594162)"
      ]
     },
     "metadata": {},
     "output_type": "display_data"
    }
   ],
   "source": [
    "SetFollowerRestriction(experiment,-y_1<=10)"
   ]
  },
  {
   "cell_type": "code",
   "execution_count": 11,
   "metadata": {},
   "outputs": [
    {
     "data": {
      "text/plain": [
       "4-element Vector{FollowerRestrictionProblem}:\n",
       " FollowerRestrictionProblem((-x_1 + 2y_2) <= -10, J_0_LP_v, 0.2554305724658922, 0.3224910788407883, 0.2523893636732434)\n",
       " FollowerRestrictionProblem((-x_2 + 2y_2) <= -10, J_0_LP_v, 0.7527522132000222, 0.346731825296692, 0.9966062778126654)\n",
       " FollowerRestrictionProblem((-y_1) <= 10, J_0_LP_v, 0.910235945283345, 0.19418772291650643, 0.8015092418594162)\n",
       " FollowerRestrictionProblem(y_1 <= 20, J_0_LP_v, 0.9008383459992154, 0.7455220820070667, 0.15574016358177722)"
      ]
     },
     "metadata": {},
     "output_type": "display_data"
    }
   ],
   "source": [
    "SetFollowerRestriction(experiment,y_1<=20)"
   ]
  },
  {
   "cell_type": "code",
   "execution_count": 12,
   "metadata": {},
   "outputs": [
    {
     "data": {
      "text/plain": [
       "5-element Vector{FollowerRestrictionProblem}:\n",
       " FollowerRestrictionProblem((-x_1 + 2y_2) <= -10, J_0_LP_v, 0.2554305724658922, 0.3224910788407883, 0.2523893636732434)\n",
       " FollowerRestrictionProblem((-x_2 + 2y_2) <= -10, J_0_LP_v, 0.7527522132000222, 0.346731825296692, 0.9966062778126654)\n",
       " FollowerRestrictionProblem((-y_1) <= 10, J_0_LP_v, 0.910235945283345, 0.19418772291650643, 0.8015092418594162)\n",
       " FollowerRestrictionProblem(y_1 <= 20, J_0_LP_v, 0.9008383459992154, 0.7455220820070667, 0.15574016358177722)\n",
       " FollowerRestrictionProblem((-y_2) <= 10, J_0_LP_v, 0.23643806038706305, 0.46749005258665777, 0.7293619876789104)"
      ]
     },
     "metadata": {},
     "output_type": "display_data"
    }
   ],
   "source": [
    "SetFollowerRestriction(experiment,-y_2<=10)"
   ]
  },
  {
   "cell_type": "code",
   "execution_count": 13,
   "metadata": {},
   "outputs": [
    {
     "data": {
      "text/plain": [
       "6-element Vector{FollowerRestrictionProblem}:\n",
       " FollowerRestrictionProblem((-x_1 + 2y_2) <= -10, J_0_LP_v, 0.2554305724658922, 0.3224910788407883, 0.2523893636732434)\n",
       " FollowerRestrictionProblem((-x_2 + 2y_2) <= -10, J_0_LP_v, 0.7527522132000222, 0.346731825296692, 0.9966062778126654)\n",
       " FollowerRestrictionProblem((-y_1) <= 10, J_0_LP_v, 0.910235945283345, 0.19418772291650643, 0.8015092418594162)\n",
       " FollowerRestrictionProblem(y_1 <= 20, J_0_LP_v, 0.9008383459992154, 0.7455220820070667, 0.15574016358177722)\n",
       " FollowerRestrictionProblem((-y_2) <= 10, J_0_LP_v, 0.23643806038706305, 0.46749005258665777, 0.7293619876789104)\n",
       " FollowerRestrictionProblem(y_2 <= 20, J_0_LP_v, 0.6999062333757992, 0.04488486728289064, 0.400893776302507)"
      ]
     },
     "metadata": {},
     "output_type": "display_data"
    }
   ],
   "source": [
    "SetFollowerRestriction(experiment,y_2<=20)"
   ]
  },
  {
   "cell_type": "markdown",
   "metadata": {},
   "source": [
    "### Poner el Punto Optimo"
   ]
  },
  {
   "cell_type": "code",
   "execution_count": 14,
   "metadata": {},
   "outputs": [
    {
     "data": {
      "text/plain": [
       "Dict{Any, Any} with 4 entries:\n",
       "  x_1 => 0.279656\n",
       "  x_2 => 0.79949\n",
       "  y_1 => -9.06318\n",
       "  y_2 => -9.21736"
      ]
     },
     "metadata": {},
     "output_type": "display_data"
    }
   ],
   "source": [
    "SetPoint(experiment,Dict(x_1=>0,x_2=>0,y_1=>-10,y_2=>-10))"
   ]
  },
  {
   "cell_type": "markdown",
   "metadata": {},
   "source": [
    "## Iniciar el Experimento\n"
   ]
  },
  {
   "cell_type": "code",
   "execution_count": 15,
   "metadata": {},
   "outputs": [
    {
     "name": "stdout",
     "output_type": "stream",
     "text": [
      "Va a retornar correctamente\n",
      "Leader's Objective Function:\n",
      "Variable names: [:x_1, :y_1, :x_2, :y_2]\n",
      "Expression (string): -60 + 2x_1 + 2x_2 - 3y_1 - 3y_2\n",
      "Parsed expression: -60 + 2x_1 + 2x_2 - 3y_1 - 3y_2\n",
      "Evaluation point: Dict{Any, Any}(\"x_1\" => 0.27965616167005936, \"x_2\" => 0.7994899242682605, \"y_2\" => -9.217363413586348, \"y_1\" => -9.063184743389316)\n",
      "Evaluation value: -3.0000633571963675\n",
      "Is leader function: true\n",
      "------------------------------\n",
      "Leader's Restrictions:\n",
      "++++++++++++++++++++++++++++++\n",
      "Restriction 1\n",
      "Variable names: [:x_1, :y_1, :x_2, :y_2]\n",
      "Expression (string): (-40 + x_1 + x_2 + y_1 - 2y_2) == 0\n",
      "Parsed expression: -40 + x_1 + x_2 + y_1 - 2y_2\n",
      "Evaluation point: Dict{Any, Any}(\"x_1\" => 0.27965616167005936, \"x_2\" => 0.7994899242682605, \"y_2\" => -9.217363413586348, \"y_1\" => -9.063184743389316)\n",
      "Evaluation value: -29.5493118302783\n",
      "Additional constant: 29.5493118302783\n",
      "Restriction type: LtEq\n",
      "Restriction set type: J_0_g\n",
      "Value of miu: 0.12404476726564549\n",
      "Value of beta: 0\n",
      "Value of lambda: 0\n",
      "Value of gamma: 0\n",
      "++++++++++++++++++++++++++++++\n",
      "------------------------------\n",
      "Follower's Objective Function:\n",
      "Variable names: [:x_1, :y_1, :x_2, :y_2]\n",
      "Expression (string): (20 - x_1 + y_1)^2 + (20 - x_2 + y_2)^2\n",
      "Parsed expression: (20 - x_1 + y_1)^2 + (20 - x_2 + y_2)^2\n",
      "Evaluation point: Dict{Any, Any}(\"x_1\" => 0.27965616167005936, \"x_2\" => 0.7994899242682605, \"y_2\" => -9.217363413586348, \"y_1\" => -9.063184743389316)\n",
      "Evaluation value: 213.23825725278036\n",
      "Is leader function: false\n",
      "------------------------------\n",
      "Follower's Restrictions:\n",
      "++++++++++++++++++++++++++++++\n",
      "Restriction 1\n",
      "Variable names: [:x_1, :y_2]\n",
      "Expression (string): (-x_1 + 2y_2) == -10\n",
      "Parsed expression: 10 - x_1 - 0.2631967754277709y_1 + 1.810218525292091y_2\n",
      "Evaluation point: Dict{Any, Any}(\"x_1\" => 0.27965616167005936, \"x_2\" => 0.7994899242682605, \"y_2\" => -9.217363413586348, \"y_1\" => -9.063184743389316)\n",
      "Evaluation value: -4.579697167727375\n",
      "Additional constant: 4.579697167727375\n",
      "Restriction type: LtEq\n",
      "Restriction set type: J_0_LP_v\n",
      "Value of miu: 0\n",
      "Value of beta: 0.2554305724658922\n",
      "Value of lambda: 0.3224910788407883\n",
      "Value of gamma: 0.2523893636732434\n",
      "++++++++++++++++++++++++++++++\n",
      "++++++++++++++++++++++++++++++\n",
      "Restriction 2\n",
      "Variable names: [:x_2, :y_2]\n",
      "Expression (string): (-x_2 + 2y_2) == -10\n",
      "Parsed expression: 10 - x_2 - 0.2631967754277709y_1 + 1.810218525292091y_2\n",
      "Evaluation point: Dict{Any, Any}(\"x_1\" => 0.27965616167005936, \"x_2\" => 0.7994899242682605, \"y_2\" => -9.217363413586348, \"y_1\" => -9.063184743389316)\n",
      "Evaluation value: -5.099530930325578\n",
      "Additional constant: 5.099530930325578\n",
      "Restriction type: LtEq\n",
      "Restriction set type: J_0_LP_v\n",
      "Value of miu: 0\n",
      "Value of beta: 0.7527522132000222\n",
      "Value of lambda: 0.346731825296692\n",
      "Value of gamma: 0.9966062778126654\n",
      "++++++++++++++++++++++++++++++\n",
      "++++++++++++++++++++++++++++++\n",
      "Restriction 3\n",
      "Variable names: [:y_1]\n",
      "Expression (string): (-y_1) == 10\n",
      "Parsed expression: -10 - 0.8174939289986201y_1 + 0.13159838771388543y_2\n",
      "Evaluation point: Dict{Any, Any}(\"x_1\" => 0.27965616167005936, \"x_2\" => 0.7994899242682605, \"y_2\" => -9.217363413586348, \"y_1\" => -9.063184743389316)\n",
      "Evaluation value: -3.8038916590872374\n",
      "Additional constant: 3.8038916590872374\n",
      "Restriction type: LtEq\n",
      "Restriction set type: J_0_LP_v\n",
      "Value of miu: 0\n",
      "Value of beta: 0.910235945283345\n",
      "Value of lambda: 0.19418772291650643\n",
      "Value of gamma: 0.8015092418594162\n",
      "++++++++++++++++++++++++++++++\n",
      "++++++++++++++++++++++++++++++\n",
      "Restriction 4\n",
      "Variable names: [:y_1]\n",
      "Expression (string): y_1 == 20\n",
      "Parsed expression: -20 + 0.8174939289986201y_1 - 0.13159838771388543y_2\n",
      "Evaluation point: Dict{Any, Any}(\"x_1\" => 0.27965616167005936, \"x_2\" => 0.7994899242682605, \"y_2\" => -9.217363413586348, \"y_1\" => -9.063184743389316)\n",
      "Evaluation value: -26.196108340912765\n",
      "Additional constant: 26.196108340912765\n",
      "Restriction type: LtEq\n",
      "Restriction set type: J_0_LP_v\n",
      "Value of miu: 0\n",
      "Value of beta: 0.9008383459992154\n",
      "Value of lambda: 0.7455220820070667\n",
      "Value of gamma: 0.15574016358177722\n",
      "++++++++++++++++++++++++++++++\n",
      "++++++++++++++++++++++++++++++\n",
      "Restriction 5\n",
      "Variable names: [:y_2]\n",
      "Expression (string): (-y_2) == 10\n",
      "Parsed expression: -10 + 0.13159838771388546y_1 - 0.9051092626460455y_2\n",
      "Evaluation point: Dict{Any, Any}(\"x_1\" => 0.27965616167005936, \"x_2\" => 0.7994899242682605, \"y_2\" => -9.217363413586348, \"y_1\" => -9.063184743389316)\n",
      "Evaluation value: -2.8499794969713417\n",
      "Additional constant: 2.8499794969713417\n",
      "Restriction type: LtEq\n",
      "Restriction set type: J_0_LP_v\n",
      "Value of miu: 0\n",
      "Value of beta: 0.23643806038706305\n",
      "Value of lambda: 0.46749005258665777\n",
      "Value of gamma: 0.7293619876789104\n",
      "++++++++++++++++++++++++++++++\n",
      "++++++++++++++++++++++++++++++\n",
      "Restriction 6\n",
      "Variable names: [:y_2]\n",
      "Expression (string): y_2 == 20\n",
      "Parsed expression: -20 - 0.13159838771388546y_1 + 0.9051092626460455y_2\n",
      "Evaluation point: Dict{Any, Any}(\"x_1\" => 0.27965616167005936, \"x_2\" => 0.7994899242682605, \"y_2\" => -9.217363413586348, \"y_1\" => -9.063184743389316)\n",
      "Evaluation value: -27.150020503028657\n",
      "Additional constant: 27.150020503028657\n",
      "Restriction type: LtEq\n",
      "Restriction set type: J_0_LP_v\n",
      "Value of miu: 0\n",
      "Value of beta: 0.6999062333757992\n",
      "Value of lambda: 0.04488486728289064\n",
      "Value of gamma: 0.400893776302507\n",
      "++++++++++++++++++++++++++++++\n",
      "------------------------------\n",
      "Evaluation Point:\n",
      "Dict{Any, Any}(\"x_1\" => 0.27965616167005936, \"x_2\" => 0.7994899242682605, \"y_2\" => -9.217363413586348, \"y_1\" => -9.063184743389316)\n",
      "------------------------------\n",
      "_\n",
      "\n",
      "Num[-1.418607076628252, -1.046809040250383, 2.7599727174758653, 0.6778488199951096]\n",
      "Va a retornar correctamente\n",
      "Leader's Objective Function:\n",
      "Variable names: [:x_1, :y_1, :x_2, :y_2]\n",
      "Expression (string): -60 + 2x_1 + 2x_2 - 3y_1 - 3y_2\n",
      "Parsed expression: -60 + 2x_1 + 2x_2 - 3y_1 - 3y_2\n",
      "Evaluation point: Dict{Any, Any}(\"x_1\" => 0.27965616167005936, \"x_2\" => 0.7994899242682605, \"y_2\" => -9.217363413586348, \"y_1\" => -9.063184743389316)\n",
      "Evaluation value: -3.0000633571963675\n",
      "Is leader function: true\n",
      "------------------------------\n",
      "Leader's Restrictions:\n",
      "++++++++++++++++++++++++++++++\n",
      "Restriction 1\n",
      "Variable names: [:x_1, :y_1, :x_2, :y_2]\n",
      "Expression (string): (-40 + x_1 + x_2 + y_1 - 2y_2) == 0\n",
      "Parsed expression: -40 + x_1 + x_2 + y_1 - 2y_2\n",
      "Evaluation point: Dict{Any, Any}(\"x_1\" => 0.27965616167005936, \"x_2\" => 0.7994899242682605, \"y_2\" => -9.217363413586348, \"y_1\" => -9.063184743389316)\n",
      "Evaluation value: -29.5493118302783\n",
      "Additional constant: 29.5493118302783\n",
      "Restriction type: LtEq\n",
      "Restriction set type: J_0_g\n",
      "Value of miu: 0.12404476726564549\n",
      "Value of beta: 0\n",
      "Value of lambda: 0\n",
      "Value of gamma: 0\n",
      "++++++++++++++++++++++++++++++\n",
      "------------------------------\n",
      "Follower's Objective Function:\n",
      "Variable names: [:x_1, :y_1, :x_2, :y_2]\n",
      "Expression (string): (20 - x_1 + y_1)^2 + (20 - x_2 + y_2)^2\n",
      "Parsed expression: (20 - x_1 + y_1)^2 + (20 - x_2 + y_2)^2\n",
      "Evaluation point: Dict{Any, Any}(\"x_1\" => 0.27965616167005936, \"x_2\" => 0.7994899242682605, \"y_2\" => -9.217363413586348, \"y_1\" => -9.063184743389316)\n",
      "Evaluation value: 213.23825725278036\n",
      "Is leader function: false\n",
      "------------------------------\n",
      "Follower's Restrictions:\n",
      "++++++++++++++++++++++++++++++\n",
      "Restriction 1\n",
      "Variable names: [:x_1, :y_2]\n",
      "Expression (string): (-x_1 + 2y_2) == -10\n",
      "Parsed expression: 10 - x_1 + 2y_2\n",
      "Evaluation point: Dict{Any, Any}(\"x_1\" => 0.27965616167005936, \"x_2\" => 0.7994899242682605, \"y_2\" => -9.217363413586348, \"y_1\" => -9.063184743389316)\n",
      "Evaluation value: -8.714382988842756\n",
      "Additional constant: 8.714382988842756\n",
      "Restriction type: LtEq\n",
      "Restriction set type: J_0_LP_v\n",
      "Value of miu: 0\n",
      "Value of beta: 0.2554305724658922\n",
      "Value of lambda: 0.3224910788407883\n",
      "Value of gamma: 0.2523893636732434\n",
      "++++++++++++++++++++++++++++++\n",
      "++++++++++++++++++++++++++++++\n",
      "Restriction 2\n",
      "Variable names: [:x_2, :y_2]\n",
      "Expression (string): (-x_2 + 2y_2) == -10\n",
      "Parsed expression: 10 - x_2 + 2y_2\n",
      "Evaluation point: Dict{Any, Any}(\"x_1\" => 0.27965616167005936, \"x_2\" => 0.7994899242682605, \"y_2\" => -9.217363413586348, \"y_1\" => -9.063184743389316)\n",
      "Evaluation value: -9.234216751440957\n",
      "Additional constant: 9.234216751440957\n",
      "Restriction type: LtEq\n",
      "Restriction set type: J_0_LP_v\n",
      "Value of miu: 0\n",
      "Value of beta: 0.7527522132000222\n",
      "Value of lambda: 0.346731825296692\n",
      "Value of gamma: 0.9966062778126654\n",
      "++++++++++++++++++++++++++++++\n",
      "++++++++++++++++++++++++++++++\n",
      "Restriction 3\n",
      "Variable names: [:y_1]\n",
      "Expression (string): (-y_1) == 10\n",
      "Parsed expression: -10 - y_1\n",
      "Evaluation point: Dict{Any, Any}(\"x_1\" => 0.27965616167005936, \"x_2\" => 0.7994899242682605, \"y_2\" => -9.217363413586348, \"y_1\" => -9.063184743389316)\n",
      "Evaluation value: -0.936815256610684\n",
      "Additional constant: 0.936815256610684\n",
      "Restriction type: LtEq\n",
      "Restriction set type: J_0_LP_v\n",
      "Value of miu: 0\n",
      "Value of beta: 0.910235945283345\n",
      "Value of lambda: 0.19418772291650643\n",
      "Value of gamma: 0.8015092418594162\n",
      "++++++++++++++++++++++++++++++\n",
      "++++++++++++++++++++++++++++++\n",
      "Restriction 4\n",
      "Variable names: [:y_1]\n",
      "Expression (string): y_1 == 20\n",
      "Parsed expression: -20 + y_1\n",
      "Evaluation point: Dict{Any, Any}(\"x_1\" => 0.27965616167005936, \"x_2\" => 0.7994899242682605, \"y_2\" => -9.217363413586348, \"y_1\" => -9.063184743389316)\n",
      "Evaluation value: -29.063184743389314\n",
      "Additional constant: 29.063184743389314\n",
      "Restriction type: LtEq\n",
      "Restriction set type: J_0_LP_v\n",
      "Value of miu: 0\n",
      "Value of beta: 0.9008383459992154\n",
      "Value of lambda: 0.7455220820070667\n",
      "Value of gamma: 0.15574016358177722\n",
      "++++++++++++++++++++++++++++++\n",
      "++++++++++++++++++++++++++++++\n",
      "Restriction 5\n",
      "Variable names: [:y_2]\n",
      "Expression (string): (-y_2) == 10\n",
      "Parsed expression: -10 - y_2\n",
      "Evaluation point: Dict{Any, Any}(\"x_1\" => 0.27965616167005936, \"x_2\" => 0.7994899242682605, \"y_2\" => -9.217363413586348, \"y_1\" => -9.063184743389316)\n",
      "Evaluation value: -0.782636586413652\n",
      "Additional constant: 0.782636586413652\n",
      "Restriction type: LtEq\n",
      "Restriction set type: J_0_LP_v\n",
      "Value of miu: 0\n",
      "Value of beta: 0.23643806038706305\n",
      "Value of lambda: 0.46749005258665777\n",
      "Value of gamma: 0.7293619876789104\n",
      "++++++++++++++++++++++++++++++\n",
      "++++++++++++++++++++++++++++++\n",
      "Restriction 6\n",
      "Variable names: [:y_2]\n",
      "Expression (string): y_2 == 20\n",
      "Parsed expression: -20 + y_2\n",
      "Evaluation point: Dict{Any, Any}(\"x_1\" => 0.27965616167005936, \"x_2\" => 0.7994899242682605, \"y_2\" => -9.217363413586348, \"y_1\" => -9.063184743389316)\n",
      "Evaluation value: -29.217363413586348\n",
      "Additional constant: 29.217363413586348\n",
      "Restriction type: LtEq\n",
      "Restriction set type: J_0_LP_v\n",
      "Value of miu: 0\n",
      "Value of beta: 0.6999062333757992\n",
      "Value of lambda: 0.04488486728289064\n",
      "Value of gamma: 0.400893776302507\n",
      "++++++++++++++++++++++++++++++\n",
      "------------------------------\n",
      "Evaluation Point:\n",
      "Dict{Any, Any}(\"x_1\" => 0.27965616167005936, \"x_2\" => 0.7994899242682605, \"y_2\" => -9.217363413586348, \"y_1\" => -9.063184743389316)\n",
      "------------------------------\n",
      "_\n",
      "\n",
      "Num[-1.8686141947997532, -1.3712925540656231, 2.8853528320184845, 0.7682557902107265]\n",
      "Se va a crear el DataFrame\n",
      "Se va a crear el DataFrame\n",
      "Se va a crear el DataFrame\n",
      "Experimento Completado\n"
     ]
    }
   ],
   "source": [
    "RunExperiment(experiment,\"ex9.2.3(Quadratic)\")"
   ]
  }
 ],
 "metadata": {
  "kernelspec": {
   "display_name": "Julia 1.10.5",
   "language": "julia",
   "name": "julia-1.10"
  },
  "language_info": {
   "file_extension": ".jl",
   "mimetype": "application/julia",
   "name": "julia",
   "version": "1.10.5"
  }
 },
 "nbformat": 4,
 "nbformat_minor": 2
}
