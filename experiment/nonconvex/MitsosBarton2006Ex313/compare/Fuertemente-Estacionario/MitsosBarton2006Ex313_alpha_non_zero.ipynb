{
 "cells": [
  {
   "cell_type": "markdown",
   "metadata": {},
   "source": [
    "## Importaciones necesarias"
   ]
  },
  {
   "cell_type": "code",
   "execution_count": 1,
   "metadata": {},
   "outputs": [],
   "source": [
    "using JuMP, Ipopt, Complementarity"
   ]
  },
  {
   "cell_type": "markdown",
   "metadata": {},
   "source": [
    "# Crear el modelo"
   ]
  },
  {
   "cell_type": "code",
   "execution_count": 2,
   "metadata": {},
   "outputs": [
    {
     "data": {
      "text/plain": [
       "A JuMP Model\n",
       "├ solver: Ipopt\n",
       "├ objective_sense: FEASIBILITY_SENSE\n",
       "├ num_variables: 0\n",
       "├ num_constraints: 0\n",
       "└ Names registered in the model: none"
      ]
     },
     "metadata": {},
     "output_type": "display_data"
    }
   ],
   "source": [
    "# Crear el modelo\n",
    "model = Model(Ipopt.Optimizer)"
   ]
  },
  {
   "cell_type": "markdown",
   "metadata": {},
   "source": [
    "## Definir Variables\n"
   ]
  },
  {
   "cell_type": "code",
   "execution_count": 3,
   "metadata": {},
   "outputs": [
    {
     "data": {
      "text/plain": [
       "2-element Vector{VariableRef}:\n",
       " l[1]\n",
       " l[2]"
      ]
     },
     "metadata": {},
     "output_type": "display_data"
    }
   ],
   "source": [
    "# Nivel superior\n",
    "@variable(model,x)\n",
    "# Nivel Inferior\n",
    "@variable(model,y)\n",
    "# Complementariedad\n",
    "@variable(model,l[1:2])"
   ]
  },
  {
   "cell_type": "markdown",
   "metadata": {},
   "source": [
    "## Definir Objetivo\n"
   ]
  },
  {
   "cell_type": "code",
   "execution_count": 4,
   "metadata": {},
   "outputs": [
    {
     "data": {
      "text/latex": [
       "$ x - y $"
      ],
      "text/plain": [
       "x - y"
      ]
     },
     "metadata": {},
     "output_type": "display_data"
    }
   ],
   "source": [
    "@objective(model,Min,x-y)"
   ]
  },
  {
   "cell_type": "markdown",
   "metadata": {},
   "source": [
    "## Definir Restricciones\n"
   ]
  },
  {
   "cell_type": "code",
   "execution_count": 5,
   "metadata": {},
   "outputs": [
    {
     "data": {
      "text/latex": [
       "$$ ((x * y - x ^ {3.0}) + 2.44 * l[1] + 1.25 * l[2]) - 0.0 = 0 $$"
      ],
      "text/plain": [
       "((x * y - x ^ 3.0) + 2.44 * l[1] + 1.25 * l[2]) - 0.0 == 0"
      ]
     },
     "metadata": {},
     "output_type": "display_data"
    }
   ],
   "source": [
    "@NLconstraint(model,x*y-x^3+(2.44*l[1])+(1.25*l[2])==0) # Obj nivel inferior"
   ]
  },
  {
   "cell_type": "code",
   "execution_count": 6,
   "metadata": {},
   "outputs": [
    {
     "data": {
      "text/plain": [
       "(-x <= -2.3, x <= 2.3, 2.44 y <= 10.88, 1.25 y <= 5.56)"
      ]
     },
     "metadata": {},
     "output_type": "display_data"
    }
   ],
   "source": [
    "@constraints(model,begin\n",
    "2.3 - x<=0  #gs\n",
    "-2.3 + x<=0  #gs\n",
    "-10.88 + 2.44y<=0  #vs\n",
    "-5.56 + 1.25y<=0 #vs\n",
    "end)"
   ]
  },
  {
   "cell_type": "markdown",
   "metadata": {},
   "source": [
    "## Definir restricciones Complementarias"
   ]
  },
  {
   "cell_type": "code",
   "execution_count": 7,
   "metadata": {},
   "outputs": [
    {
     "data": {
      "text/latex": [
       "$$ (sqrt(l[2] ^ {2.0} + (-5.56 + 1.25 * y) ^ {2.0} + 1.0e-8) - (l[2] + (-5.56 + 1.25 * y))) - 0.0 = 0 $$"
      ],
      "text/plain": [
       "(sqrt(l[2] ^ 2.0 + (-5.56 + 1.25 * y) ^ 2.0 + 1.0e-8) - (l[2] + (-5.56 + 1.25 * y))) - 0.0 == 0"
      ]
     },
     "metadata": {},
     "output_type": "display_data"
    }
   ],
   "source": [
    "@complements(model,0<=(-10.88 + 2.44y),l[1]>=0)\n",
    "@complements(model,0<=(-5.56 + 1.25y),l[2]>=0)"
   ]
  },
  {
   "cell_type": "markdown",
   "metadata": {},
   "source": [
    "## Optimizar"
   ]
  },
  {
   "cell_type": "code",
   "execution_count": 8,
   "metadata": {},
   "outputs": [
    {
     "name": "stdout",
     "output_type": "stream",
     "text": [
      "\n",
      "******************************************************************************\n",
      "This program contains Ipopt, a library for large-scale nonlinear optimization.\n",
      " Ipopt is released as open source code under the Eclipse Public License (EPL).\n",
      "         For more information visit https://github.com/coin-or/Ipopt\n",
      "******************************************************************************\n",
      "\n",
      "This is Ipopt version 3.14.16, running with linear solver MUMPS 5.7.3.\n",
      "\n",
      "Number of nonzeros in equality constraint Jacobian...:        8\n",
      "Number of nonzeros in inequality constraint Jacobian.:        8\n",
      "Number of nonzeros in Lagrangian Hessian.............:        9\n",
      "\n",
      "Total number of variables............................:        4\n",
      "                     variables with only lower bounds:        0\n",
      "                variables with lower and upper bounds:        0\n",
      "                     variables with only upper bounds:        0\n",
      "Total number of equality constraints.................:        3\n",
      "Total number of inequality constraints...............:        8\n",
      "        inequality constraints with only lower bounds:        4\n",
      "   inequality constraints with lower and upper bounds:        0\n",
      "        inequality constraints with only upper bounds:        4\n",
      "\n",
      "iter    objective    inf_pr   inf_du lg(mu)  ||d||  lg(rg) alpha_du alpha_pr  ls\n",
      "   0  0.0000000e+00 2.18e+01 3.33e-01  -1.0 0.00e+00    -  0.00e+00 0.00e+00   0\n",
      "   1 -6.6109408e-01 1.50e+01 8.39e+00  -1.0 1.09e+01    -  1.00e+00 3.11e-01h  1\n",
      "   2 -6.5857593e-01 1.50e+01 1.03e+02  -1.0 8.81e+00    -  3.55e-03 4.45e-04h  1\n",
      "   3 -6.8884090e-01 1.50e+01 6.71e+02  -1.0 1.43e+01    -  5.55e-02 1.02e-03H  1\n",
      "   4 -6.8756914e-01 1.50e+01 1.25e+02  -1.0 3.02e+01    -  1.01e-05 4.68e-05h  1\n",
      "   5 -6.8922022e-01 1.50e+01 5.72e+04  -1.0 3.07e+01    -  2.82e-02 2.47e-05H  1\n",
      "   6 -6.8873439e-01 1.50e+01 1.54e+03  -1.0 3.29e+01    -  5.16e-07 1.63e-05h  1\n",
      "   7  2.6763810e-02 1.46e+01 2.08e+06  -1.0 3.22e+01    -  1.72e-05 2.46e-02f  2\n",
      "   8 -2.9720668e-01 1.26e+01 1.94e+06  -1.0 7.27e+00    -  2.78e-01 1.40e-01h  1\n",
      "   9 -3.0044937e-01 1.25e+01 2.40e+06  -1.0 6.26e+00    -  1.00e+00 1.62e-03h  1\n",
      "iter    objective    inf_pr   inf_du lg(mu)  ||d||  lg(rg) alpha_du alpha_pr  ls\n",
      "  10 -3.0048225e-01 1.25e+01 9.78e+08  -1.0 6.25e+00    -  4.84e-01 1.65e-05h  1\n",
      "  11r-3.0048225e-01 1.25e+01 1.00e+03   1.1 0.00e+00    -  0.00e+00 3.45e-07R  5\n",
      "  12r-1.7673953e+00 2.00e+00 9.96e+02   1.1 5.37e+03    -  4.01e-03 2.03e-03f  1\n",
      "  13 -1.7683758e+00 1.99e+00 5.40e+02  -1.0 1.18e+00    -  1.22e-01 1.80e-03h  1\n",
      "  14 -1.7684205e+00 1.99e+00 6.76e+06  -1.0 1.18e+00    -  1.00e+00 8.08e-05h  1\n",
      "  15r-1.7684205e+00 1.99e+00 1.00e+03   0.3 0.00e+00    -  0.00e+00 3.23e-07R  3\n",
      "  16r-2.0634571e+00 3.11e-01 9.99e+02   0.3 1.04e+03    -  1.27e-03 1.65e-03f  1\n",
      "  17 -2.0635055e+00 3.11e-01 1.39e+03  -1.7 6.04e-01    -  1.37e-01 2.41e-04h  1\n",
      "  18r-2.0635055e+00 3.11e-01 1.00e+03  -0.3 0.00e+00    -  0.00e+00 4.90e-07R  5\n",
      "  19r-2.1160441e+00 1.12e-01 9.97e+02  -0.3 2.49e+02    -  3.07e-03 1.56e-03f  1\n",
      "iter    objective    inf_pr   inf_du lg(mu)  ||d||  lg(rg) alpha_du alpha_pr  ls\n",
      "  20 -2.1160442e+00 1.12e-01 3.88e+04  -1.7 1.60e-01    -  8.49e-01 4.63e-05h  1\n",
      "  21 -2.1160310e+00 1.12e-01 2.37e+08  -1.7 2.76e+00    -  2.03e-01 2.37e-05h  1\n",
      "  22r-2.1160310e+00 1.12e-01 1.00e+03  -0.9 0.00e+00    -  0.00e+00 1.64e-07R  2\n",
      "  23r-2.1374609e+00 5.47e-02 9.90e+02  -0.9 1.16e+02    -  8.35e-01 9.99e-04f  1\n",
      "  24r-2.1374609e+00 5.47e-02 9.99e+02  -1.3 0.00e+00    -  0.00e+00 4.09e-07R  5\n",
      "  25r-2.1480947e+00 2.76e-02 9.29e+02  -1.3 2.58e+01    -  1.00e+00 1.07e-03f  1\n",
      "  26 -2.1483102e+00 2.73e-02 4.57e+02  -1.7 7.93e-02    -  1.00e+00 8.30e-03h  1\n",
      "  27 -2.1483090e+00 2.73e-02 2.11e+05  -1.7 1.13e-01    -  3.95e-02 8.59e-05h  1\n",
      "  28 -2.1480519e+00 2.73e-02 7.83e+05  -1.7 4.57e+01    -  9.80e-05 2.63e-05h  1\n",
      "  29r-2.1480519e+00 2.73e-02 1.00e+03  -1.6 0.00e+00    -  0.00e+00 4.22e-07R  3\n",
      "iter    objective    inf_pr   inf_du lg(mu)  ||d||  lg(rg) alpha_du alpha_pr  ls\n",
      "  30r-2.1480527e+00 2.73e-02 1.49e+03  -1.6 5.68e+00    -  1.36e-01 2.17e-03f  1\n",
      "  31r-2.1502444e+00 2.18e-02 1.12e+03  -1.6 5.98e-02    -  1.89e-03 9.24e-02f  1\n",
      "  32 -2.1502751e+00 2.18e-02 6.50e+03  -1.7 9.39e-02    -  1.00e+00 1.15e-03h  1\n",
      "  33 -2.1502744e+00 2.18e-02 1.12e+06  -1.7 3.10e-01    -  6.10e-03 1.15e-05h  1\n",
      "  34r-2.1502744e+00 2.18e-02 1.00e+03  -1.7 0.00e+00    -  0.00e+00 3.38e-07R  4\n",
      "  35r-2.1559393e+00 9.84e-03 9.94e+02  -1.7 1.34e+00    -  4.10e-03 1.06e-02f  1\n",
      "  36 -2.1559396e+00 9.84e-03 1.45e+05  -1.7 7.23e-02    -  1.00e+00 1.67e-05h  1\n",
      "  37r-2.1559396e+00 9.84e-03 1.00e+03  -1.7 0.00e+00    -  0.00e+00 1.03e-07R  2\n",
      "  38r-2.1590383e+00 1.37e-02 9.95e+02  -1.7 1.21e+00    -  1.58e-02 6.29e-03f  1\n",
      "  39r-2.1590666e+00 1.38e-02 9.70e+02  -1.7 1.51e-02    -  1.00e+00 2.21e-02f  1\n",
      "iter    objective    inf_pr   inf_du lg(mu)  ||d||  lg(rg) alpha_du alpha_pr  ls\n",
      "  40r-2.1590331e+00 1.38e-02 5.49e+02  -1.7 8.11e-04    -  6.90e-01 4.34e-01f  1\n",
      "  41r-2.1590198e+00 1.38e-02 3.47e+02  -1.7 9.50e-04    -  1.00e+00 3.68e-01f  1\n",
      "  42r-2.1590105e+00 1.38e-02 1.40e+02  -1.7 4.32e-04    -  1.00e+00 5.97e-01f  1\n",
      "  43r-2.1590089e+00 1.38e-02 3.36e+01  -1.7 1.86e-04    -  1.00e+00 7.63e-01f  1\n",
      "  44r-2.1590099e+00 1.38e-02 1.06e+00  -1.7 7.51e-05    -  1.00e+00 1.00e+00f  1\n",
      "  45r-2.1590155e+00 1.38e-02 5.02e-04  -2.5 5.25e-05    -  1.00e+00 1.00e+00f  1\n",
      "  46r-2.1590164e+00 1.38e-02 2.09e-01  -5.7 8.24e-06    -  1.00e+00 9.80e-01f  1\n",
      "  47r-2.1590164e+00 1.38e-02 1.83e+01  -5.7 1.60e-07    -  8.12e-01 7.81e-01f  1\n",
      "  48r-2.1590164e+00 1.38e-02 3.83e+01  -5.7 5.46e-08    -  9.01e-01 8.04e-01f  1\n",
      "  49r-2.1590164e+00 1.38e-02 5.34e-06  -5.7 1.12e-08    -  1.00e+00 1.00e+00f  1\n",
      "iter    objective    inf_pr   inf_du lg(mu)  ||d||  lg(rg) alpha_du alpha_pr  ls\n",
      "  50r-2.1590164e+00 1.38e-02 2.06e+01  -8.6 3.74e-09    -  1.00e+00 8.57e-01f  1\n",
      "\n",
      "Number of Iterations....: 50\n",
      "\n",
      "                                   (scaled)                 (unscaled)\n",
      "Objective...............:  -2.1590163960700837e+00   -2.1590163960700837e+00\n",
      "Dual infeasibility......:   9.9999999938224549e-01    9.9999999938224549e-01\n",
      "Constraint violation....:   1.3770439472095219e-02    1.3770439472095219e-02\n",
      "Variable bound violation:   0.0000000000000000e+00    0.0000000000000000e+00\n",
      "Complementarity.........:   2.8398001239210968e-09    2.8398001239210968e-09\n",
      "Overall NLP error.......:   7.5606851517084395e-01    9.9999999938224549e-01\n",
      "\n",
      "\n",
      "Number of objective function evaluations             = 86\n",
      "Number of objective gradient evaluations             = 38\n",
      "Number of equality constraint evaluations            = 86\n",
      "Number of inequality constraint evaluations          = 86\n",
      "Number of equality constraint Jacobian evaluations   = 60\n",
      "Number of inequality constraint Jacobian evaluations = 60\n",
      "Number of Lagrangian Hessian evaluations             = 51\n",
      "Total seconds in IPOPT                               = 1.693\n",
      "\n",
      "EXIT: Converged to a point of local infeasibility. Problem may be infeasible.\n"
     ]
    }
   ],
   "source": [
    "# Resolver el modelo\n",
    "optimize!(model)"
   ]
  },
  {
   "cell_type": "markdown",
   "metadata": {},
   "source": [
    "# Mostrar resultados"
   ]
  },
  {
   "cell_type": "code",
   "execution_count": 9,
   "metadata": {},
   "outputs": [
    {
     "name": "stdout",
     "output_type": "stream",
     "text": [
      "Estado de la solución: LOCALLY_INFEASIBLE\n",
      "Valor óptimo de x: 2.299999999987592\n",
      "Valor óptimo de y1: 4.459016396057676\n",
      "Valores óptimos de l: [0.7833040307609908, 3.6309515145055186e-7]\n"
     ]
    }
   ],
   "source": [
    "# Mostrar resultados\n",
    "println(\"Estado de la solución: \", termination_status(model))\n",
    "println(\"Valor óptimo de x: \", value(x))\n",
    "println(\"Valor óptimo de y1: \", value(y))\n",
    "#println(\"Valor óptimo de y2: \", value(y))\n",
    "#println(\"Valores óptimos de s: \", value.(s))\n",
    "println(\"Valores óptimos de l: \", value.(l))"
   ]
  },
  {
   "cell_type": "code",
   "execution_count": 10,
   "metadata": {},
   "outputs": [
    {
     "data": {
      "text/plain": [
       "-2.1590163960700837"
      ]
     },
     "metadata": {},
     "output_type": "display_data"
    }
   ],
   "source": [
    "objective_value(model)"
   ]
  }
 ],
 "metadata": {
  "kernelspec": {
   "display_name": "Julia 1.10.5",
   "language": "julia",
   "name": "julia-1.10"
  },
  "language_info": {
   "file_extension": ".jl",
   "mimetype": "application/julia",
   "name": "julia",
   "version": "1.10.5"
  }
 },
 "nbformat": 4,
 "nbformat_minor": 2
}
