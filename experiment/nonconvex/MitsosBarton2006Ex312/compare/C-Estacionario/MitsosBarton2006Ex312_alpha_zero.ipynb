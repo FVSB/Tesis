{
 "cells": [
  {
   "cell_type": "markdown",
   "metadata": {},
   "source": [
    "## Importaciones necesarias"
   ]
  },
  {
   "cell_type": "code",
   "execution_count": 1,
   "metadata": {},
   "outputs": [],
   "source": [
    "using JuMP, Ipopt, Complementarity"
   ]
  },
  {
   "cell_type": "markdown",
   "metadata": {},
   "source": [
    "# Crear el modelo"
   ]
  },
  {
   "cell_type": "code",
   "execution_count": 2,
   "metadata": {},
   "outputs": [
    {
     "data": {
      "text/plain": [
       "A JuMP Model\n",
       "├ solver: Ipopt\n",
       "├ objective_sense: FEASIBILITY_SENSE\n",
       "├ num_variables: 0\n",
       "├ num_constraints: 0\n",
       "└ Names registered in the model: none"
      ]
     },
     "metadata": {},
     "output_type": "display_data"
    }
   ],
   "source": [
    "# Crear el modelo\n",
    "model = Model(Ipopt.Optimizer)"
   ]
  },
  {
   "cell_type": "markdown",
   "metadata": {},
   "source": [
    "## Definir Variables\n"
   ]
  },
  {
   "cell_type": "code",
   "execution_count": 3,
   "metadata": {},
   "outputs": [
    {
     "data": {
      "text/plain": [
       "2-element Vector{VariableRef}:\n",
       " l[1]\n",
       " l[2]"
      ]
     },
     "metadata": {},
     "output_type": "display_data"
    }
   ],
   "source": [
    "# Definir la x\n",
    "@variable(model,x)\n",
    "# Definir la y\n",
    "@variable(model,y)\n",
    "#Definir las l como variables de complementariedad\n",
    "@variable(model,l[1:2])"
   ]
  },
  {
   "cell_type": "markdown",
   "metadata": {},
   "source": [
    "## Definir Objetivo\n"
   ]
  },
  {
   "cell_type": "code",
   "execution_count": 4,
   "metadata": {},
   "outputs": [
    {
     "data": {
      "text/latex": [
       "$ x\\times y + 10 y^2 - x $"
      ],
      "text/plain": [
       "x*y + 10 y² - x"
      ]
     },
     "metadata": {},
     "output_type": "display_data"
    }
   ],
   "source": [
    "@objective(model,Min,-x+x*y+10y^2)"
   ]
  },
  {
   "cell_type": "markdown",
   "metadata": {},
   "source": [
    "## Definir Restricciones\n"
   ]
  },
  {
   "cell_type": "code",
   "execution_count": 5,
   "metadata": {},
   "outputs": [
    {
     "data": {
      "text/latex": [
       "$$ ((((-2.0 * x) * y + 2.0 * y ^ {3.0}) - l[1]) + l[2]) - 0.0 = 0 $$"
      ],
      "text/plain": [
       "((((-2.0 * x) * y + 2.0 * y ^ 3.0) - l[1]) + l[2]) - 0.0 == 0"
      ]
     },
     "metadata": {},
     "output_type": "display_data"
    }
   ],
   "source": [
    "@NLconstraint(model,-2x*y+2y^3-l[1]+l[2]==0) # Obj nivel inferior"
   ]
  },
  {
   "cell_type": "code",
   "execution_count": 6,
   "metadata": {},
   "outputs": [
    {
     "data": {
      "text/plain": [
       "(-x <= -0.8, x <= 0.8, -y <= -1.85, y <= 1.85)"
      ]
     },
     "metadata": {},
     "output_type": "display_data"
    }
   ],
   "source": [
    "@constraints(model,begin\n",
    "\n",
    "0.8 - x<=0  #gs\n",
    "-0.8 + x<=0  #gs\n",
    "1.85 - y<=0  #vs\n",
    "-1.85 + y<=0 #vs\n",
    "end)"
   ]
  },
  {
   "cell_type": "markdown",
   "metadata": {},
   "source": [
    "## Definir variables Complementarias"
   ]
  },
  {
   "cell_type": "code",
   "execution_count": 7,
   "metadata": {},
   "outputs": [
    {
     "data": {
      "text/latex": [
       "$$ (sqrt(l[2] ^ {2.0} + (1.85 + -1.0 * y) ^ {2.0} + 1.0e-8) - (l[2] + (1.85 + -1.0 * y))) - 0.0 = 0 $$"
      ],
      "text/plain": [
       "(sqrt(l[2] ^ 2.0 + (1.85 + -1.0 * y) ^ 2.0 + 1.0e-8) - (l[2] + (1.85 + -1.0 * y))) - 0.0 == 0"
      ]
     },
     "metadata": {},
     "output_type": "display_data"
    }
   ],
   "source": [
    "@complements(model,0<=-(1.85 - y),l[1]>=0)\n",
    "@complements(model,0<=-(-1.85 + y),l[2]>=0)"
   ]
  },
  {
   "cell_type": "markdown",
   "metadata": {},
   "source": [
    "## Optimizar"
   ]
  },
  {
   "cell_type": "code",
   "execution_count": 8,
   "metadata": {},
   "outputs": [
    {
     "name": "stdout",
     "output_type": "stream",
     "text": [
      "\n",
      "******************************************************************************\n",
      "This program contains Ipopt, a library for large-scale nonlinear optimization.\n",
      " Ipopt is released as open source code under the Eclipse Public License (EPL).\n",
      "         For more information visit https://github.com/coin-or/Ipopt\n",
      "******************************************************************************\n",
      "\n",
      "This is Ipopt version 3.14.16, running with linear solver MUMPS 5.7.3.\n",
      "\n",
      "Number of nonzeros in equality constraint Jacobian...:        8\n",
      "Number of nonzeros in inequality constraint Jacobian.:        8\n",
      "Number of nonzeros in Lagrangian Hessian.............:       11\n",
      "\n",
      "Total number of variables............................:        4\n",
      "                     variables with only lower bounds:        0\n",
      "                variables with lower and upper bounds:        0\n",
      "                     variables with only upper bounds:        0\n",
      "Total number of equality constraints.................:        3\n",
      "Total number of inequality constraints...............:        8\n",
      "        inequality constraints with only lower bounds:        4\n",
      "   inequality constraints with lower and upper bounds:        0\n",
      "        inequality constraints with only upper bounds:        4\n",
      "\n",
      "iter    objective    inf_pr   inf_du lg(mu)  ||d||  lg(rg) alpha_du alpha_pr  ls\n",
      "   0  0.0000000e+00 3.70e+00 3.33e-01  -1.0 0.00e+00    -  0.00e+00 0.00e+00   0\n",
      "   1  3.0102286e+01 7.43e+00 3.49e+02  -1.0 1.85e+00    -  1.00e+00 9.29e-01h  1\n",
      "   2  3.0117398e+01 7.41e+00 3.48e+02  -1.0 2.54e+00    -  8.56e-03 3.12e-03h  1\n",
      "   3  3.0102755e+01 7.40e+00 3.48e+02  -1.0 1.03e+00    -  7.86e-03 1.08e-03h  1\n",
      "   4  3.0102659e+01 7.40e+00 4.02e+05  -1.0 1.17e+00    -  4.98e-02 1.85e-05h  1\n",
      "   5r 3.0102659e+01 7.40e+00 1.00e+03   0.9 0.00e+00    -  0.00e+00 2.71e-07R  4\n",
      "   6r 1.6611060e+01 1.88e+00 9.59e+02   0.9 1.80e+02    -  6.63e-04 4.07e-02f  1\n",
      "   7  1.6611077e+01 1.88e+00 3.24e+02  -1.0 1.61e+00    -  1.46e-01 5.23e-04h  1\n",
      "   8  1.6612127e+01 1.88e+00 8.19e+04  -1.0 2.48e+00    -  1.81e-02 7.17e-05h  1\n",
      "   9  1.6612539e+01 1.88e+00 3.12e+09  -1.0 2.67e+00    -  1.00e+00 2.62e-05h  1\n",
      "iter    objective    inf_pr   inf_du lg(mu)  ||d||  lg(rg) alpha_du alpha_pr  ls\n",
      "  10r 1.6612539e+01 1.88e+00 1.00e+03   0.3 0.00e+00    -  0.00e+00 1.69e-07R  2\n",
      "  11r 1.3280545e+01 9.19e-01 9.97e+02   0.3 8.52e+02    -  7.43e-04 2.19e-03f  1\n",
      "  12  1.3280633e+01 9.19e-01 3.60e+04  -1.0 2.29e+00    -  3.17e-01 1.11e-05h  1\n",
      "  13r 1.3280633e+01 9.19e-01 1.00e+03  -0.0 0.00e+00    -  0.00e+00 2.74e-07R  4\n",
      "  14r 2.2506435e+01 9.68e-01 9.97e+02  -0.0 5.83e+02    -  2.08e-03 3.76e-03f  1\n",
      "  15r 2.2750056e+01 9.55e-01 9.60e+02  -0.0 9.77e+01    -  1.00e+00 1.09e-03f  1\n",
      "  16r 3.2531663e+01 8.81e-01 4.15e+02  -0.0 4.71e+00    -  4.77e-01 9.21e-01f  1\n",
      "  17r 3.4882523e+01 7.48e-01 3.53e+02  -0.0 6.42e+00    -  3.77e-02 2.00e-01f  1\n",
      "  18  3.4890798e+01 5.09e-01 9.54e+01  -1.0 7.36e-01    -  9.24e-01 3.19e-01h  1\n",
      "  19  3.4897792e+01 2.25e-01 1.44e+02  -1.0 5.23e-01    -  1.00e+00 5.57e-01h  1\n",
      "iter    objective    inf_pr   inf_du lg(mu)  ||d||  lg(rg) alpha_du alpha_pr  ls\n",
      "  20  3.4902436e+01 9.17e-02 2.70e+02  -1.0 2.22e-01    -  1.00e+00 5.93e-01h  1\n",
      "  21  3.4903780e+01 3.82e-02 6.44e+02  -1.0 9.43e-02    -  1.00e+00 5.84e-01h  1\n",
      "  22  3.4904559e+01 1.58e-02 1.53e+03  -1.0 3.79e-02    -  1.00e+00 5.87e-01h  1\n",
      "  23  3.4904791e+01 6.54e-03 3.71e+03  -1.0 1.67e-02    -  1.00e+00 5.86e-01h  1\n",
      "  24  3.4904924e+01 2.71e-03 8.92e+03  -1.0 7.27e-03    -  1.00e+00 5.86e-01h  1\n",
      "  25  3.4904964e+01 1.12e-03 2.15e+04  -1.0 4.10e-03    -  1.00e+00 5.86e-01h  1\n",
      "  26  3.4904987e+01 4.62e-04 3.92e+04  -1.0 3.20e-03    -  8.82e-01 5.87e-01h  1\n",
      "  27  3.4904990e+01 3.30e-04 2.02e+05  -1.0 3.80e-03    -  1.00e+00 2.86e-01f  2\n",
      "  28  3.4904998e+01 6.19e-05 4.01e+04  -1.0 4.61e-03    -  8.19e-01 8.12e-01h  1\n",
      "  29  3.4904997e+01 5.82e-07 9.91e-01  -1.0 9.84e-05   4.0 1.00e+00 1.00e+00f  1\n",
      "iter    objective    inf_pr   inf_du lg(mu)  ||d||  lg(rg) alpha_du alpha_pr  ls\n",
      "  30  3.4904995e+01 6.84e-07 6.79e+00  -5.7 1.42e-03   3.5 1.00e+00 9.99e-01h  1\n",
      "  31  3.4904995e+01 7.05e-07 3.34e+02  -5.7 8.13e-04   3.9 1.00e+00 2.50e-01h  3\n",
      "  32  3.4904374e+01 1.66e-05 1.24e+04  -5.7 6.71e-03   3.5 7.27e-01 1.00e+00H  1\n",
      "  33  3.4905000e+01 4.00e-07 4.30e+01  -5.7 4.30e-03    -  1.00e+00 1.00e+00h  1\n",
      "  34  3.4904999e+01 2.40e-07 6.95e-01  -5.7 6.20e-03    -  1.00e+00 1.00e+00h  1\n",
      "  35  3.4905000e+01 1.36e-07 3.12e+09  -5.7 1.85e-02    -  1.81e-04 1.00e+00f  1\n",
      "  36  3.4902219e+01 7.36e-05 3.12e+09  -5.7 1.18e+02    -  1.33e-08 3.25e-04f  1\n",
      "  37  3.4902217e+01 7.36e-05 3.12e+09  -5.7 6.06e+00    -  4.24e-05 1.90e-07h  2\n",
      "  38  3.4902216e+01 7.36e-05 3.12e+09  -5.7 2.33e+00    -  2.68e-07 2.47e-07h  2\n",
      "  39  3.4902216e+01 7.37e-05 3.12e+09  -5.7 2.33e+00    -  7.21e-05 3.10e-08h  4\n",
      "iter    objective    inf_pr   inf_du lg(mu)  ||d||  lg(rg) alpha_du alpha_pr  ls\n",
      "  40  3.4902215e+01 7.37e-05 3.12e+09  -5.7 1.12e+01    -  3.06e-08 2.58e-08h  2\n",
      "  41r 3.4902215e+01 7.37e-05 1.00e+03  -3.4 0.00e+00    -  0.00e+00 2.04e-12R 15\n",
      "  42r 3.4902201e+01 7.40e-05 1.00e+03  -3.4 3.65e-01    -  4.23e-03 2.16e-05f  1\n",
      "  43r 3.4903523e+01 6.78e-05 1.00e+03  -3.4 1.28e-01    -  2.46e-03 5.18e-03f  1\n",
      "  44  3.4904262e+01 4.56e-05 4.74e+02  -5.7 8.33e-04    -  5.51e-03 5.00e-01h  2\n",
      "  45  3.4904569e+01 3.32e-05 1.02e+02  -5.7 4.76e-04    -  1.00e+00 4.16e-01h  1\n",
      "  46  3.4904583e+01 3.22e-05 1.76e+02  -5.7 3.49e-04    -  5.15e-01 3.12e-02f  6\n",
      "  47  3.4904791e+01 2.27e-05 1.13e+02  -5.7 3.45e-04    -  1.00e+00 5.00e-01h  2\n",
      "  48  3.4904896e+01 1.59e-05 5.49e+01  -5.7 2.95e-04    -  6.32e-01 5.00e-01h  2\n",
      "  49  3.4904948e+01 1.10e-05 2.57e+01  -5.7 3.29e-04    -  1.00e+00 5.00e-01h  2\n",
      "iter    objective    inf_pr   inf_du lg(mu)  ||d||  lg(rg) alpha_du alpha_pr  ls\n",
      "  50  3.4904961e+01 8.88e-06 2.12e+01  -5.7 4.36e-04    -  7.25e-01 2.50e-01h  3\n",
      "  51  3.4904966e+01 7.90e-06 4.17e+01  -5.7 5.29e-04    -  1.00e+00 1.25e-01h  4\n",
      "  52  3.4905000e+01 4.40e-06 3.16e+00  -5.7 5.89e-04    -  8.86e-01 1.00e+00h  1\n",
      "  53  3.4905000e+01 2.20e-06 1.58e+00  -5.7 1.14e-03    -  1.00e+00 1.00e+00h  1\n",
      "  54  3.4905000e+01 1.10e-06 7.89e-01  -5.7 2.28e-03    -  6.66e-01 1.00e+00h  1\n",
      "  55  3.4905000e+01 5.49e-07 3.95e-01  -5.7 4.56e-03    -  1.00e+00 1.00e+00h  1\n",
      "  56  3.4905000e+01 2.75e-07 1.97e-01  -5.7 9.12e-03    -  6.66e-01 1.00e+00h  1\n",
      "  57  3.4905000e+01 1.38e-07 9.88e-02  -5.7 1.83e-02    -  1.00e+00 1.00e+00h  1\n",
      "  58  3.4905000e+01 6.89e-08 4.93e-02  -5.7 3.66e-02    -  6.65e-01 1.00e+00h  1\n",
      "  59  3.4905000e+01 3.46e-08 2.47e-02  -5.7 7.37e-02    -  1.00e+00 1.00e+00h  1\n",
      "iter    objective    inf_pr   inf_du lg(mu)  ||d||  lg(rg) alpha_du alpha_pr  ls\n",
      "  60  3.4905000e+01 1.74e-08 5.33e-02  -5.7 1.49e-01    -  6.59e-01 1.00e+00h  1\n",
      "  61  3.4905000e+01 8.82e-09 6.19e-03  -5.7 3.04e-01    -  1.00e+00 1.00e+00h  1\n",
      "  62  3.4905000e+01 4.51e-09 9.97e+01  -8.6 6.33e-01    -  4.87e-01 1.00e+00h  1\n",
      "  63  3.4905000e+01 2.33e-09 1.08e+01  -8.6 1.35e+00    -  8.92e-01 1.00e+00h  1\n",
      "  64  3.4905000e+01 1.20e-09 3.96e+00  -8.6 3.00e+00    -  6.15e-01 1.00e+00h  1\n",
      "  65  3.4905000e+01 5.89e-10 1.13e-01  -8.6 6.73e+00    -  9.71e-01 1.00e+00h  1\n",
      "  66  3.4905000e+01 2.62e-10 9.15e-02  -8.6 1.46e+01    -  5.81e-01 1.00e+00h  1\n",
      "  67  3.4905000e+01 1.11e-10 9.80e-05  -8.6 3.03e+01    -  1.00e+00 1.00e+00h  1\n",
      "\n",
      "Number of Iterations....: 67\n",
      "\n",
      "                                   (scaled)                 (unscaled)\n",
      "Objective...............:   3.4904999994556263e+01    3.4904999994556263e+01\n",
      "Dual infeasibility......:   9.8040518851090987e-05    9.8040518851090987e-05\n",
      "Constraint violation....:   1.1074519079556921e-10    1.1074519079556921e-10\n",
      "Variable bound violation:   0.0000000000000000e+00    0.0000000000000000e+00\n",
      "Complementarity.........:   5.3285033113845180e-09    5.3285033113845180e-09\n",
      "Overall NLP error.......:   5.3285033113845180e-09    9.8040518851090987e-05\n",
      "\n",
      "\n",
      "Number of objective function evaluations             = 123\n",
      "Number of objective gradient evaluations             = 64\n",
      "Number of equality constraint evaluations            = 123\n",
      "Number of inequality constraint evaluations          = 123\n",
      "Number of equality constraint Jacobian evaluations   = 72\n",
      "Number of inequality constraint Jacobian evaluations = 72\n",
      "Number of Lagrangian Hessian evaluations             = 67\n",
      "Total seconds in IPOPT                               = 3.072\n",
      "\n",
      "EXIT: Optimal Solution Found.\n"
     ]
    }
   ],
   "source": [
    "# Resolver el modelo\n",
    "optimize!(model)"
   ]
  },
  {
   "cell_type": "markdown",
   "metadata": {},
   "source": [
    "# Mostrar resultados"
   ]
  },
  {
   "cell_type": "code",
   "execution_count": 9,
   "metadata": {},
   "outputs": [
    {
     "name": "stdout",
     "output_type": "stream",
     "text": [
      "Estado de la solución: LOCALLY_SOLVED\n",
      "Valor óptimo de x: 0.7999999925525002\n",
      "Valor óptimo de y1: 1.850000000023456\n",
      "Valores óptimos de l: [66.98557294145544, 57.28232291345556]\n"
     ]
    }
   ],
   "source": [
    "# Mostrar resultados\n",
    "println(\"Estado de la solución: \", termination_status(model))\n",
    "println(\"Valor óptimo de x: \", value(x))\n",
    "println(\"Valor óptimo de y1: \", value(y))\n",
    "#println(\"Valor óptimo de y2: \", value(y2))\n",
    "#println(\"Valores óptimos de s: \", value.(s))\n",
    "println(\"Valores óptimos de l: \", value.(l))"
   ]
  },
  {
   "cell_type": "code",
   "execution_count": 10,
   "metadata": {},
   "outputs": [
    {
     "data": {
      "text/plain": [
       "34.90499999455626"
      ]
     },
     "metadata": {},
     "output_type": "display_data"
    }
   ],
   "source": [
    "objective_value(model)"
   ]
  },
  {
   "cell_type": "code",
   "execution_count": 11,
   "metadata": {},
   "outputs": [],
   "source": []
  }
 ],
 "metadata": {
  "kernelspec": {
   "display_name": "Julia 1.10.5",
   "language": "julia",
   "name": "julia-1.10"
  },
  "language_info": {
   "file_extension": ".jl",
   "mimetype": "application/julia",
   "name": "julia",
   "version": "1.10.5"
  }
 },
 "nbformat": 4,
 "nbformat_minor": 2
}
