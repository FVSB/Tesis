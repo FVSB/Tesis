{
 "cells": [
  {
   "cell_type": "markdown",
   "metadata": {},
   "source": [
    "## Importar el módulo\n"
   ]
  },
  {
   "cell_type": "code",
   "execution_count": 1,
   "metadata": {},
   "outputs": [
    {
     "data": {
      "text/plain": [
       "RunExperiment"
      ]
     },
     "metadata": {},
     "output_type": "display_data"
    }
   ],
   "source": [
    "include(\"../../new_experiment.jl\")"
   ]
  },
  {
   "cell_type": "markdown",
   "metadata": {},
   "source": [
    "Crear un experimento\n"
   ]
  },
  {
   "cell_type": "code",
   "execution_count": 2,
   "metadata": {},
   "outputs": [
    {
     "data": {
      "text/plain": [
       "Experiment(OptimizationModel(Problem(Any[], nothing), LeaderRestrictionProblem[], Problem(Any[], nothing), FollowerRestrictionProblem[], Dict{Any, Any}(), Number[1], false), OptimizationModel(Problem(Any[], nothing), LeaderRestrictionProblem[], Problem(Any[], nothing), FollowerRestrictionProblem[], Dict{Any, Any}(), Number[], true), Any[], Any[])"
      ]
     },
     "metadata": {},
     "output_type": "display_data"
    }
   ],
   "source": [
    "experiment=CreateExperiment()"
   ]
  },
  {
   "cell_type": "markdown",
   "metadata": {},
   "source": [
    "### Declarar variables del líder\n"
   ]
  },
  {
   "cell_type": "code",
   "execution_count": 3,
   "metadata": {},
   "outputs": [
    {
     "data": {
      "text/latex": [
       "$$ \\begin{equation}\n",
       "\\left[\n",
       "\\begin{array}{c}\n",
       "x \\\\\n",
       "\\end{array}\n",
       "\\right]\n",
       "\\end{equation}\n",
       " $$"
      ],
      "text/plain": [
       "1-element Vector{Num}:\n",
       " x"
      ]
     },
     "metadata": {},
     "output_type": "display_data"
    }
   ],
   "source": [
    "@leader_vars experiment x"
   ]
  },
  {
   "cell_type": "markdown",
   "metadata": {},
   "source": [
    "### Declarar Variables del Follower"
   ]
  },
  {
   "cell_type": "code",
   "execution_count": 4,
   "metadata": {},
   "outputs": [
    {
     "data": {
      "text/latex": [
       "$$ \\begin{equation}\n",
       "\\left[\n",
       "\\begin{array}{c}\n",
       "y \\\\\n",
       "\\end{array}\n",
       "\\right]\n",
       "\\end{equation}\n",
       " $$"
      ],
      "text/plain": [
       "1-element Vector{Num}:\n",
       " y"
      ]
     },
     "metadata": {},
     "output_type": "display_data"
    }
   ],
   "source": [
    "@follower_vars experiment y"
   ]
  },
  {
   "cell_type": "markdown",
   "metadata": {},
   "source": [
    "### Declarar Función Objetivo del Líder"
   ]
  },
  {
   "cell_type": "code",
   "execution_count": 5,
   "metadata": {},
   "outputs": [
    {
     "data": {
      "text/latex": [
       "$$ \\begin{equation}\n",
       " - x - 3 y\n",
       "\\end{equation}\n",
       " $$"
      ],
      "text/plain": [
       "-x - 3y"
      ]
     },
     "metadata": {},
     "output_type": "display_data"
    }
   ],
   "source": [
    "SetLeaderFunction(experiment,-x-3y)"
   ]
  },
  {
   "cell_type": "markdown",
   "metadata": {},
   "source": [
    "### Función objetivo del Follower"
   ]
  },
  {
   "cell_type": "code",
   "execution_count": 6,
   "metadata": {},
   "outputs": [
    {
     "data": {
      "text/latex": [
       "$$ \\begin{equation}\n",
       "y\n",
       "\\end{equation}\n",
       " $$"
      ],
      "text/plain": [
       "y"
      ]
     },
     "metadata": {},
     "output_type": "display_data"
    }
   ],
   "source": [
    "SetFollowerFunction(experiment,y)"
   ]
  },
  {
   "cell_type": "markdown",
   "metadata": {},
   "source": [
    "### Restricciones del Follower\n"
   ]
  },
  {
   "cell_type": "code",
   "execution_count": 7,
   "metadata": {},
   "outputs": [
    {
     "data": {
      "text/plain": [
       "1-element Vector{FollowerRestrictionProblem}:\n",
       " FollowerRestrictionProblem((-y) <= 0, J_0_LP_v, 0.7126848815194647, 0.9216433883592792, 0.08070952673937302)"
      ]
     },
     "metadata": {},
     "output_type": "display_data"
    }
   ],
   "source": [
    "SetFollowerRestriction(experiment,-y<=0)"
   ]
  },
  {
   "cell_type": "code",
   "execution_count": 8,
   "metadata": {},
   "outputs": [
    {
     "data": {
      "text/plain": [
       "2-element Vector{FollowerRestrictionProblem}:\n",
       " FollowerRestrictionProblem((-y) <= 0, J_0_LP_v, 0.7126848815194647, 0.9216433883592792, 0.08070952673937302)\n",
       " FollowerRestrictionProblem((-x + y) <= 3, J_0_LP_v, 0.9560560242650418, 0.23190969850965648, 0.0640786873073884)"
      ]
     },
     "metadata": {},
     "output_type": "display_data"
    }
   ],
   "source": [
    "SetFollowerRestriction(experiment,-x+y<=3)"
   ]
  },
  {
   "cell_type": "code",
   "execution_count": 9,
   "metadata": {},
   "outputs": [
    {
     "data": {
      "text/plain": [
       "3-element Vector{FollowerRestrictionProblem}:\n",
       " FollowerRestrictionProblem((-y) <= 0, J_0_LP_v, 0.7126848815194647, 0.9216433883592792, 0.08070952673937302)\n",
       " FollowerRestrictionProblem((-x + y) <= 3, J_0_LP_v, 0.9560560242650418, 0.23190969850965648, 0.0640786873073884)\n",
       " FollowerRestrictionProblem((x + 2y) <= 12, J_0_LP_v, 0.3659405141290256, 0.9637500450473929, 0.14328598237623813)"
      ]
     },
     "metadata": {},
     "output_type": "display_data"
    }
   ],
   "source": [
    "SetFollowerRestriction(experiment,x+2y<=12)"
   ]
  },
  {
   "cell_type": "code",
   "execution_count": 10,
   "metadata": {},
   "outputs": [
    {
     "data": {
      "text/plain": [
       "4-element Vector{FollowerRestrictionProblem}:\n",
       " FollowerRestrictionProblem((-y) <= 0, J_0_LP_v, 0.7126848815194647, 0.9216433883592792, 0.08070952673937302)\n",
       " FollowerRestrictionProblem((-x + y) <= 3, J_0_LP_v, 0.9560560242650418, 0.23190969850965648, 0.0640786873073884)\n",
       " FollowerRestrictionProblem((x + 2y) <= 12, J_0_LP_v, 0.3659405141290256, 0.9637500450473929, 0.14328598237623813)\n",
       " FollowerRestrictionProblem((4x - y) <= 12, J_0_LP_v, 0.9731418765912537, 0.9062712352416179, 0.2920278369596522)"
      ]
     },
     "metadata": {},
     "output_type": "display_data"
    }
   ],
   "source": [
    "SetFollowerRestriction(experiment,4x-y<=12)"
   ]
  },
  {
   "cell_type": "markdown",
   "metadata": {},
   "source": [
    "### Poner el Punto Optimo"
   ]
  },
  {
   "cell_type": "code",
   "execution_count": 11,
   "metadata": {},
   "outputs": [
    {
     "data": {
      "text/plain": [
       "Dict{Any, Any} with 2 entries:\n",
       "  y => 4.53163\n",
       "  x => 4.69004"
      ]
     },
     "metadata": {},
     "output_type": "display_data"
    }
   ],
   "source": [
    "SetPoint(experiment,Dict(x=>4,y=>4))"
   ]
  },
  {
   "cell_type": "markdown",
   "metadata": {},
   "source": [
    "## Iniciar el Experimento\n"
   ]
  },
  {
   "cell_type": "code",
   "execution_count": 12,
   "metadata": {},
   "outputs": [
    {
     "name": "stdout",
     "output_type": "stream",
     "text": [
      "Empiezo en para el intermedio en uno mas de 2\n",
      "Termino en 3\n",
      "Va a retornar correctamente\n",
      "Leader's Objective Function:\n",
      "Variable names: [:y, :x]\n",
      "Expression (string): -x - 3y\n",
      "Parsed expression: -x - 3y\n",
      "Evaluation point: Dict{Any, Any}(\"x\" => 4.690038292195491, \"y\" => 4.531632408573915)\n",
      "Evaluation value: -18.284935517917237\n",
      "Is leader function: true\n",
      "------------------------------\n",
      "Leader's Restrictions:\n",
      "------------------------------\n",
      "Follower's Objective Function:\n",
      "Variable names: [:y]\n",
      "Expression (string): y\n",
      "Parsed expression: y\n",
      "Evaluation point: Dict{Any, Any}(\"x\" => 4.690038292195491, \"y\" => 4.531632408573915)\n",
      "Evaluation value: 4.531632408573915\n",
      "Is leader function: false\n",
      "------------------------------\n",
      "Follower's Restrictions:\n",
      "++++++++++++++++++++++++++++++\n",
      "Restriction 1\n",
      "Variable names: [:y]\n",
      "Expression (string): (-y) == 0\n",
      "Parsed expression: -0.771687034137102y\n",
      "Evaluation point: Dict{Any, Any}(\"x\" => 4.690038292195491, \"y\" => 4.531632408573915)\n",
      "Evaluation value: -3.497001973171977\n",
      "Additional constant: 3.497001973171977\n",
      "Restriction type: LtEq\n",
      "Restriction set type: J_0_LP_v\n",
      "Value of miu: 0\n",
      "Value of beta: 0.7126848815194647\n",
      "Value of lambda: 0.9216433883592792\n",
      "Value of gamma: 0.08070952673937302\n",
      "++++++++++++++++++++++++++++++\n",
      "++++++++++++++++++++++++++++++\n",
      "Restriction 2\n",
      "Variable names: [:y, :x]\n",
      "Expression (string): (-x + y) == 3\n",
      "Parsed expression: -3 - x + 0.771687034137102y\n",
      "Evaluation point: Dict{Any, Any}(\"x\" => 4.690038292195491, \"y\" => 4.531632408573915)\n",
      "Evaluation value: -4.1930363190235145\n",
      "Additional constant: 4.1930363190235145\n",
      "Restriction type: LtEq\n",
      "Restriction set type: J_0_LP_v\n",
      "Value of miu: 0\n",
      "Value of beta: 0.9560560242650418\n",
      "Value of lambda: 0.23190969850965648\n",
      "Value of gamma: 0.0640786873073884\n",
      "++++++++++++++++++++++++++++++\n",
      "++++++++++++++++++++++++++++++\n",
      "Restriction 3\n",
      "Variable names: [:y, :x]\n",
      "Expression (string): (x + 2y) == 12\n",
      "Parsed expression: -12 + x + 1.543374068274204y\n",
      "Evaluation point: Dict{Any, Any}(\"x\" => 4.690038292195491, \"y\" => 4.531632408573915)\n",
      "Evaluation value: -0.3159577614605551\n",
      "Additional constant: 0.3159577614605551\n",
      "Restriction type: LtEq\n",
      "Restriction set type: J_0_LP_v\n",
      "Value of miu: 0\n",
      "Value of beta: 0.3659405141290256\n",
      "Value of lambda: 0.9637500450473929\n",
      "Value of gamma: 0.14328598237623813\n",
      "++++++++++++++++++++++++++++++\n",
      "++++++++++++++++++++++++++++++\n",
      "Restriction 4\n",
      "Variable names: [:y, :x]\n",
      "Expression (string): (4x - y) == 12\n",
      "Parsed expression: -12 + 4x - 0.771687034137102y\n",
      "Evaluation point: Dict{Any, Any}(\"x\" => 4.690038292195491, \"y\" => 4.531632408573915)\n",
      "Evaluation value: 3.2631511956099892\n",
      "Additional constant: -3.2631511956099892\n",
      "Restriction type: LtEq\n",
      "Restriction set type: J_0_LP_v\n",
      "Value of miu: 0\n",
      "Value of beta: 0.9731418765912537\n",
      "Value of lambda: 0.9062712352416179\n",
      "Value of gamma: 0.2920278369596522\n",
      "++++++++++++++++++++++++++++++\n",
      "------------------------------\n",
      "Evaluation Point:\n",
      "Dict{Any, Any}(\"x\" => 4.690038292195491, \"y\" => 4.531632408573915)\n",
      "------------------------------\n",
      "_\n",
      "\n",
      "Num[-2.302451996228999, 2.9983715131637583]\n",
      "Va a retornar correctamente\n",
      "Leader's Objective Function:\n",
      "Variable names: [:y, :x]\n",
      "Expression (string): -x - 3y\n",
      "Parsed expression: -x - 3y\n",
      "Evaluation point: Dict{Any, Any}(\"x\" => 4.690038292195491, \"y\" => 4.531632408573915)\n",
      "Evaluation value: -18.284935517917237\n",
      "Is leader function: true\n",
      "------------------------------\n",
      "Leader's Restrictions:\n",
      "------------------------------\n",
      "Follower's Objective Function:\n",
      "Variable names: [:y]\n",
      "Expression (string): y\n",
      "Parsed expression: y\n",
      "Evaluation point: Dict{Any, Any}(\"x\" => 4.690038292195491, \"y\" => 4.531632408573915)\n",
      "Evaluation value: 4.531632408573915\n",
      "Is leader function: false\n",
      "------------------------------\n",
      "Follower's Restrictions:\n",
      "++++++++++++++++++++++++++++++\n",
      "Restriction 1\n",
      "Variable names: [:y]\n",
      "Expression (string): (-y) == 0\n",
      "Parsed expression: -y\n",
      "Evaluation point: Dict{Any, Any}(\"x\" => 4.690038292195491, \"y\" => 4.531632408573915)\n",
      "Evaluation value: -4.531632408573915\n",
      "Additional constant: 4.531632408573915\n",
      "Restriction type: LtEq\n",
      "Restriction set type: J_0_L0_v\n",
      "Value of miu: 0\n",
      "Value of beta: 0\n",
      "Value of lambda: 0.9216433883592792\n",
      "Value of gamma: 0.14009442085208357\n",
      "++++++++++++++++++++++++++++++\n",
      "++++++++++++++++++++++++++++++\n",
      "Restriction 2\n",
      "Variable names: [:y, :x]\n",
      "Expression (string): (-x + y) == 3\n",
      "Parsed expression: -3 - x + y\n",
      "Evaluation point: Dict{Any, Any}(\"x\" => 4.690038292195491, \"y\" => 4.531632408573915)\n",
      "Evaluation value: -3.158405883621576\n",
      "Additional constant: 3.158405883621576\n",
      "Restriction type: LtEq\n",
      "Restriction set type: J_0_L0_v\n",
      "Value of miu: 0\n",
      "Value of beta: 0\n",
      "Value of lambda: 0.23190969850965648\n",
      "Value of gamma: 0.6763395298366142\n",
      "++++++++++++++++++++++++++++++\n",
      "++++++++++++++++++++++++++++++\n",
      "Restriction 3\n",
      "Variable names: [:y, :x]\n",
      "Expression (string): (x + 2y) == 12\n",
      "Parsed expression: -12 + x + 2y\n",
      "Evaluation point: Dict{Any, Any}(\"x\" => 4.690038292195491, \"y\" => 4.531632408573915)\n",
      "Evaluation value: 1.7533031093433218\n",
      "Additional constant: -1.7533031093433218\n",
      "Restriction type: LtEq\n",
      "Restriction set type: J_0_LP_v\n",
      "Value of miu: 0\n",
      "Value of beta: -0.3149099456312311\n",
      "Value of lambda: 0.9637500450473929\n",
      "Value of gamma: -0.9213620155730495\n",
      "++++++++++++++++++++++++++++++\n",
      "++++++++++++++++++++++++++++++\n",
      "Restriction 4\n",
      "Variable names: [:y, :x]\n",
      "Expression (string): (4x - y) == 12\n",
      "Parsed expression: -12 + 4x - y\n",
      "Evaluation point: Dict{Any, Any}(\"x\" => 4.690038292195491, \"y\" => 4.531632408573915)\n",
      "Evaluation value: 2.228520760208049\n",
      "Additional constant: -2.4126309851529477\n",
      "Restriction type: LtEq\n",
      "Restriction set type: J_Ne_L0_v\n",
      "Value of miu: 0\n",
      "Value of beta: -0.2842137645875309\n",
      "Value of lambda: 0.9062712352416179\n",
      "Value of gamma: -0.35182320789006705\n",
      "++++++++++++++++++++++++++++++\n",
      "------------------------------\n",
      "Evaluation Point:\n",
      "Dict{Any, Any}(\"x\" => 4.690038292195491, \"y\" => 4.531632408573915)\n",
      "------------------------------\n",
      "_\n",
      "\n",
      "Num[2.4517650039813548, 3.345606126674931]\n",
      "Se va a crear el DataFrame\n",
      "Se va a crear el DataFrame\n",
      "La carpeta ya existe: d:\\GitHub\\Tesis\\experiment\\linear\\ex9.1.2\\Experimentos_Generador\n",
      "La carpeta ya existe: d:\\GitHub\\Tesis\\experiment\\linear\\ex9.1.2\\Experimentos_Generador\n",
      "Se va a crear el DataFrame\n",
      "La carpeta ya existe: d:\\GitHub\\Tesis\\experiment\\linear\\ex9.1.2\\Experimentos_Generador\n",
      "La carpeta ya existe: d:\\GitHub\\Tesis\\experiment\\linear\\ex9.1.2\\Experimentos_Generador\n",
      "Experimento Completado\n",
      "Empiezo en para el intermedio en uno mas de 2\n",
      "Termino en 3\n",
      "Va a retornar correctamente\n",
      "Leader's Objective Function:\n",
      "Variable names: [:y, :x]\n",
      "Expression (string): -x - 3y\n",
      "Parsed expression: -x - 3y\n",
      "Evaluation point: Dict{Any, Any}(\"x\" => 4.690038292195491, \"y\" => 4.531632408573915)\n",
      "Evaluation value: -18.284935517917237\n",
      "Is leader function: true\n",
      "------------------------------\n",
      "Leader's Restrictions:\n",
      "------------------------------\n",
      "Follower's Objective Function:\n",
      "Variable names: [:y]\n",
      "Expression (string): y\n",
      "Parsed expression: y\n",
      "Evaluation point: Dict{Any, Any}(\"x\" => 4.690038292195491, \"y\" => 4.531632408573915)\n",
      "Evaluation value: 4.531632408573915\n",
      "Is leader function: false\n",
      "------------------------------\n",
      "Follower's Restrictions:\n",
      "++++++++++++++++++++++++++++++\n",
      "Restriction 1\n",
      "Variable names: [:y]\n",
      "Expression (string): (-y) == 0\n",
      "Parsed expression: -0.07014053966344347y\n",
      "Evaluation point: Dict{Any, Any}(\"x\" => 4.690038292195491, \"y\" => 4.531632408573915)\n",
      "Evaluation value: -0.31785114269372455\n",
      "Additional constant: 0.31785114269372455\n",
      "Restriction type: LtEq\n",
      "Restriction set type: J_0_LP_v\n",
      "Value of miu: 0\n",
      "Value of beta: 0.7126848815194647\n",
      "Value of lambda: 0.9216433883592792\n",
      "Value of gamma: 0.08070952673937302\n",
      "++++++++++++++++++++++++++++++\n",
      "++++++++++++++++++++++++++++++\n",
      "Restriction 2\n",
      "Variable names: [:y, :x]\n",
      "Expression (string): (-x + y) == 3\n",
      "Parsed expression: -3 - x + 0.07014053966344347y\n",
      "Evaluation point: Dict{Any, Any}(\"x\" => 4.690038292195491, \"y\" => 4.531632408573915)\n",
      "Evaluation value: -7.372187149501767\n",
      "Additional constant: 7.372187149501767\n",
      "Restriction type: LtEq\n",
      "Restriction set type: J_0_LP_v\n",
      "Value of miu: 0\n",
      "Value of beta: 0.9560560242650418\n",
      "Value of lambda: 0.23190969850965648\n",
      "Value of gamma: 0.0640786873073884\n",
      "++++++++++++++++++++++++++++++\n",
      "++++++++++++++++++++++++++++++\n",
      "Restriction 3\n",
      "Variable names: [:y, :x]\n",
      "Expression (string): (x + 2y) == 12\n",
      "Parsed expression: -12 + x + 0.14028107932688694y\n",
      "Evaluation point: Dict{Any, Any}(\"x\" => 4.690038292195491, \"y\" => 4.531632408573915)\n",
      "Evaluation value: -6.67425942241706\n",
      "Additional constant: 6.67425942241706\n",
      "Restriction type: LtEq\n",
      "Restriction set type: J_0_LP_v\n",
      "Value of miu: 0\n",
      "Value of beta: 0.3659405141290256\n",
      "Value of lambda: 0.9637500450473929\n",
      "Value of gamma: 0.14328598237623813\n",
      "++++++++++++++++++++++++++++++\n",
      "++++++++++++++++++++++++++++++\n",
      "Restriction 4\n",
      "Variable names: [:y, :x]\n",
      "Expression (string): (4x - y) == 12\n",
      "Parsed expression: -12 + 4x - 0.07014053966344347y\n",
      "Evaluation point: Dict{Any, Any}(\"x\" => 4.690038292195491, \"y\" => 4.531632408573915)\n",
      "Evaluation value: 6.442302026088241\n",
      "Additional constant: -6.442302026088241\n",
      "Restriction type: LtEq\n",
      "Restriction set type: J_0_LP_v\n",
      "Value of miu: 0\n",
      "Value of beta: 0.9731418765912537\n",
      "Value of lambda: 0.9062712352416179\n",
      "Value of gamma: 0.2920278369596522\n",
      "++++++++++++++++++++++++++++++\n",
      "------------------------------\n",
      "Evaluation Point:\n",
      "Dict{Any, Any}(\"x\" => 4.690038292195491, \"y\" => 4.531632408573915)\n",
      "------------------------------\n",
      "_\n",
      "\n",
      "Num[-2.302451996228999, 2.9998519828110672]\n",
      "Va a retornar correctamente\n",
      "Leader's Objective Function:\n",
      "Variable names: [:y, :x]\n",
      "Expression (string): -x - 3y\n",
      "Parsed expression: -x - 3y\n",
      "Evaluation point: Dict{Any, Any}(\"x\" => 4.690038292195491, \"y\" => 4.531632408573915)\n",
      "Evaluation value: -18.284935517917237\n",
      "Is leader function: true\n",
      "------------------------------\n",
      "Leader's Restrictions:\n",
      "------------------------------\n",
      "Follower's Objective Function:\n",
      "Variable names: [:y]\n",
      "Expression (string): y\n",
      "Parsed expression: y\n",
      "Evaluation point: Dict{Any, Any}(\"x\" => 4.690038292195491, \"y\" => 4.531632408573915)\n",
      "Evaluation value: 4.531632408573915\n",
      "Is leader function: false\n",
      "------------------------------\n",
      "Follower's Restrictions:\n",
      "++++++++++++++++++++++++++++++\n",
      "Restriction 1\n",
      "Variable names: [:y]\n",
      "Expression (string): (-y) == 0\n",
      "Parsed expression: -y\n",
      "Evaluation point: Dict{Any, Any}(\"x\" => 4.690038292195491, \"y\" => 4.531632408573915)\n",
      "Evaluation value: -4.531632408573915\n",
      "Additional constant: 4.531632408573915\n",
      "Restriction type: LtEq\n",
      "Restriction set type: J_0_L0_v\n",
      "Value of miu: 0\n",
      "Value of beta: 0.6529768925065589\n",
      "Value of lambda: 0.9216433883592792\n",
      "Value of gamma: 0.9976225040673725\n",
      "++++++++++++++++++++++++++++++\n",
      "++++++++++++++++++++++++++++++\n",
      "Restriction 2\n",
      "Variable names: [:y, :x]\n",
      "Expression (string): (-x + y) == 3\n",
      "Parsed expression: -3 - x + y\n",
      "Evaluation point: Dict{Any, Any}(\"x\" => 4.690038292195491, \"y\" => 4.531632408573915)\n",
      "Evaluation value: -3.158405883621576\n",
      "Additional constant: 3.158405883621576\n",
      "Restriction type: LtEq\n",
      "Restriction set type: J_0_L0_v\n",
      "Value of miu: 0\n",
      "Value of beta: 0\n",
      "Value of lambda: 0.23190969850965648\n",
      "Value of gamma: 0.842491389095321\n",
      "++++++++++++++++++++++++++++++\n",
      "++++++++++++++++++++++++++++++\n",
      "Restriction 3\n",
      "Variable names: [:y, :x]\n",
      "Expression (string): (x + 2y) == 12\n",
      "Parsed expression: -12 + x + 2y\n",
      "Evaluation point: Dict{Any, Any}(\"x\" => 4.690038292195491, \"y\" => 4.531632408573915)\n",
      "Evaluation value: 1.7533031093433218\n",
      "Additional constant: -1.7533031093433218\n",
      "Restriction type: LtEq\n",
      "Restriction set type: J_0_LP_v\n",
      "Value of miu: 0\n",
      "Value of beta: 0.4573922570502391\n",
      "Value of lambda: 0.9637500450473929\n",
      "Value of gamma: 0\n",
      "++++++++++++++++++++++++++++++\n",
      "++++++++++++++++++++++++++++++\n",
      "Restriction 4\n",
      "Variable names: [:y, :x]\n",
      "Expression (string): (4x - y) == 12\n",
      "Parsed expression: -12 + 4x - y\n",
      "Evaluation point: Dict{Any, Any}(\"x\" => 4.690038292195491, \"y\" => 4.531632408573915)\n",
      "Evaluation value: 2.228520760208049\n",
      "Additional constant: -2.654159639093019\n",
      "Restriction type: LtEq\n",
      "Restriction set type: J_Ne_L0_v\n",
      "Value of miu: 0\n",
      "Value of beta: 0\n",
      "Value of lambda: 0.9062712352416179\n",
      "Value of gamma: 0.4093740456984749\n",
      "++++++++++++++++++++++++++++++\n",
      "------------------------------\n",
      "Evaluation Point:\n",
      "Dict{Any, Any}(\"x\" => 4.690038292195491, \"y\" => 4.531632408573915)\n",
      "------------------------------\n",
      "_\n",
      "\n",
      "Num[0.5426077429497609, 2.7381923784060804]\n",
      "Se va a crear el DataFrame\n",
      "Se va a crear el DataFrame\n",
      "La carpeta ya existe: d:\\GitHub\\Tesis\\experiment\\linear\\ex9.1.2\\Experimentos_Generador\n",
      "La carpeta ya existe: d:\\GitHub\\Tesis\\experiment\\linear\\ex9.1.2\\Experimentos_Generador\n",
      "Se va a crear el DataFrame\n",
      "La carpeta ya existe: d:\\GitHub\\Tesis\\experiment\\linear\\ex9.1.2\\Experimentos_Generador\n",
      "La carpeta ya existe: d:\\GitHub\\Tesis\\experiment\\linear\\ex9.1.2\\Experimentos_Generador\n",
      "Experimento Completado\n",
      "Empiezo en para el intermedio en uno mas de 2\n",
      "Termino en 3\n",
      "Va a retornar correctamente\n",
      "Leader's Objective Function:\n",
      "Variable names: [:y, :x]\n",
      "Expression (string): -x - 3y\n",
      "Parsed expression: -x - 3y\n",
      "Evaluation point: Dict{Any, Any}(\"x\" => 4.690038292195491, \"y\" => 4.531632408573915)\n",
      "Evaluation value: -18.284935517917237\n",
      "Is leader function: true\n",
      "------------------------------\n",
      "Leader's Restrictions:\n",
      "------------------------------\n",
      "Follower's Objective Function:\n",
      "Variable names: [:y]\n",
      "Expression (string): y\n",
      "Parsed expression: y\n",
      "Evaluation point: Dict{Any, Any}(\"x\" => 4.690038292195491, \"y\" => 4.531632408573915)\n",
      "Evaluation value: 4.531632408573915\n",
      "Is leader function: false\n",
      "------------------------------\n",
      "Follower's Restrictions:\n",
      "++++++++++++++++++++++++++++++\n",
      "Restriction 1\n",
      "Variable names: [:y]\n",
      "Expression (string): (-y) == 0\n",
      "Parsed expression: -0.24607014176119368y\n",
      "Evaluation point: Dict{Any, Any}(\"x\" => 4.690038292195491, \"y\" => 4.531632408573915)\n",
      "Evaluation value: -1.1150994291874028\n",
      "Additional constant: 1.1150994291874028\n",
      "Restriction type: LtEq\n",
      "Restriction set type: J_0_LP_v\n",
      "Value of miu: 0\n",
      "Value of beta: 0.7126848815194647\n",
      "Value of lambda: 0.9216433883592792\n",
      "Value of gamma: 0.08070952673937302\n",
      "++++++++++++++++++++++++++++++\n",
      "++++++++++++++++++++++++++++++\n",
      "Restriction 2\n",
      "Variable names: [:y, :x]\n",
      "Expression (string): (-x + y) == 3\n",
      "Parsed expression: -3 - x + 0.24607014176119368y\n",
      "Evaluation point: Dict{Any, Any}(\"x\" => 4.690038292195491, \"y\" => 4.531632408573915)\n",
      "Evaluation value: -6.5749388630080885\n",
      "Additional constant: 6.5749388630080885\n",
      "Restriction type: LtEq\n",
      "Restriction set type: J_0_LP_v\n",
      "Value of miu: 0\n",
      "Value of beta: 0.9560560242650418\n",
      "Value of lambda: 0.23190969850965648\n",
      "Value of gamma: 0.0640786873073884\n",
      "++++++++++++++++++++++++++++++\n",
      "++++++++++++++++++++++++++++++\n",
      "Restriction 3\n",
      "Variable names: [:y, :x]\n",
      "Expression (string): (x + 2y) == 12\n",
      "Parsed expression: -12 + x + 0.49214028352238737y\n",
      "Evaluation point: Dict{Any, Any}(\"x\" => 4.690038292195491, \"y\" => 4.531632408573915)\n",
      "Evaluation value: -5.079762849429703\n",
      "Additional constant: 5.079762849429703\n",
      "Restriction type: LtEq\n",
      "Restriction set type: J_0_LP_v\n",
      "Value of miu: 0\n",
      "Value of beta: 0.3659405141290256\n",
      "Value of lambda: 0.9637500450473929\n",
      "Value of gamma: 0.14328598237623813\n",
      "++++++++++++++++++++++++++++++\n",
      "++++++++++++++++++++++++++++++\n",
      "Restriction 4\n",
      "Variable names: [:y, :x]\n",
      "Expression (string): (4x - y) == 12\n",
      "Parsed expression: -12 + 4x - 0.24607014176119368y\n",
      "Evaluation point: Dict{Any, Any}(\"x\" => 4.690038292195491, \"y\" => 4.531632408573915)\n",
      "Evaluation value: 5.645053739594562\n",
      "Additional constant: -5.645053739594562\n",
      "Restriction type: LtEq\n",
      "Restriction set type: J_0_LP_v\n",
      "Value of miu: 0\n",
      "Value of beta: 0.9731418765912537\n",
      "Value of lambda: 0.9062712352416179\n",
      "Value of gamma: 0.2920278369596522\n",
      "++++++++++++++++++++++++++++++\n",
      "------------------------------\n",
      "Evaluation Point:\n",
      "Dict{Any, Any}(\"x\" => 4.690038292195491, \"y\" => 4.531632408573915)\n",
      "------------------------------\n",
      "_\n",
      "\n",
      "Num[-2.302451996228999, 2.9994807195547892]\n",
      "Va a retornar correctamente\n",
      "Leader's Objective Function:\n",
      "Variable names: [:y, :x]\n",
      "Expression (string): -x - 3y\n",
      "Parsed expression: -x - 3y\n",
      "Evaluation point: Dict{Any, Any}(\"x\" => 4.690038292195491, \"y\" => 4.531632408573915)\n",
      "Evaluation value: -18.284935517917237\n",
      "Is leader function: true\n",
      "------------------------------\n",
      "Leader's Restrictions:\n",
      "------------------------------\n",
      "Follower's Objective Function:\n",
      "Variable names: [:y]\n",
      "Expression (string): y\n",
      "Parsed expression: y\n",
      "Evaluation point: Dict{Any, Any}(\"x\" => 4.690038292195491, \"y\" => 4.531632408573915)\n",
      "Evaluation value: 4.531632408573915\n",
      "Is leader function: false\n",
      "------------------------------\n",
      "Follower's Restrictions:\n",
      "++++++++++++++++++++++++++++++\n",
      "Restriction 1\n",
      "Variable names: [:y]\n",
      "Expression (string): (-y) == 0\n",
      "Parsed expression: -y\n",
      "Evaluation point: Dict{Any, Any}(\"x\" => 4.690038292195491, \"y\" => 4.531632408573915)\n",
      "Evaluation value: -4.531632408573915\n",
      "Additional constant: 4.531632408573915\n",
      "Restriction type: LtEq\n",
      "Restriction set type: J_0_L0_v\n",
      "Value of miu: 0\n",
      "Value of beta: 0.4922114102075521\n",
      "Value of lambda: 0.9216433883592792\n",
      "Value of gamma: 0.43871546041170484\n",
      "++++++++++++++++++++++++++++++\n",
      "++++++++++++++++++++++++++++++\n",
      "Restriction 2\n",
      "Variable names: [:y, :x]\n",
      "Expression (string): (-x + y) == 3\n",
      "Parsed expression: -3 - x + y\n",
      "Evaluation point: Dict{Any, Any}(\"x\" => 4.690038292195491, \"y\" => 4.531632408573915)\n",
      "Evaluation value: -3.158405883621576\n",
      "Additional constant: 3.158405883621576\n",
      "Restriction type: LtEq\n",
      "Restriction set type: J_0_L0_v\n",
      "Value of miu: 0\n",
      "Value of beta: 0.08241778333488313\n",
      "Value of lambda: 0.23190969850965648\n",
      "Value of gamma: 0.9308917247730278\n",
      "++++++++++++++++++++++++++++++\n",
      "++++++++++++++++++++++++++++++\n",
      "Restriction 3\n",
      "Variable names: [:y, :x]\n",
      "Expression (string): (x + 2y) == 12\n",
      "Parsed expression: -12 + x + 2y\n",
      "Evaluation point: Dict{Any, Any}(\"x\" => 4.690038292195491, \"y\" => 4.531632408573915)\n",
      "Evaluation value: 1.7533031093433218\n",
      "Additional constant: -1.7533031093433218\n",
      "Restriction type: LtEq\n",
      "Restriction set type: J_0_LP_v\n",
      "Value of miu: 0\n",
      "Value of beta: 0.9540846764560849\n",
      "Value of lambda: 0.9637500450473929\n",
      "Value of gamma: 0.4536350075721791\n",
      "++++++++++++++++++++++++++++++\n",
      "++++++++++++++++++++++++++++++\n",
      "Restriction 4\n",
      "Variable names: [:y, :x]\n",
      "Expression (string): (4x - y) == 12\n",
      "Parsed expression: -12 + 4x - y\n",
      "Evaluation point: Dict{Any, Any}(\"x\" => 4.690038292195491, \"y\" => 4.531632408573915)\n",
      "Evaluation value: 2.228520760208049\n",
      "Additional constant: -2.5593406939328514\n",
      "Restriction type: LtEq\n",
      "Restriction set type: J_Ne_L0_v\n",
      "Value of miu: 0\n",
      "Value of beta: 0.16453013619782075\n",
      "Value of lambda: 0.9062712352416179\n",
      "Value of gamma: 0.20699827481932687\n",
      "++++++++++++++++++++++++++++++\n",
      "------------------------------\n",
      "Evaluation Point:\n",
      "Dict{Any, Any}(\"x\" => 4.690038292195491, \"y\" => 4.531632408573915)\n",
      "------------------------------\n",
      "_\n",
      "\n",
      "Num[-0.5297874379124847, 1.6661544101583199]\n",
      "Se va a crear el DataFrame\n",
      "Se va a crear el DataFrame\n",
      "La carpeta ya existe: d:\\GitHub\\Tesis\\experiment\\linear\\ex9.1.2\\Experimentos_Generador\n",
      "La carpeta ya existe: d:\\GitHub\\Tesis\\experiment\\linear\\ex9.1.2\\Experimentos_Generador\n",
      "Se va a crear el DataFrame\n",
      "La carpeta ya existe: d:\\GitHub\\Tesis\\experiment\\linear\\ex9.1.2\\Experimentos_Generador\n",
      "La carpeta ya existe: d:\\GitHub\\Tesis\\experiment\\linear\\ex9.1.2\\Experimentos_Generador\n",
      "Experimento Completado\n",
      "Finilizado el experimento completo\n"
     ]
    }
   ],
   "source": [
    "RunExperiment(experiment,\"ex9.1.2(Linear)\",true)"
   ]
  },
  {
   "cell_type": "code",
   "execution_count": 13,
   "metadata": {},
   "outputs": [],
   "source": []
  }
 ],
 "metadata": {
  "kernelspec": {
   "display_name": "Julia 1.10.5",
   "language": "julia",
   "name": "julia-1.10"
  },
  "language_info": {
   "file_extension": ".jl",
   "mimetype": "application/julia",
   "name": "julia",
   "version": "1.10.5"
  }
 },
 "nbformat": 4,
 "nbformat_minor": 2
}
