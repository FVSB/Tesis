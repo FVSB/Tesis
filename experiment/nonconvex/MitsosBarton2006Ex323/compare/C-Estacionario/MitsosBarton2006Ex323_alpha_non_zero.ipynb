{
 "cells": [
  {
   "cell_type": "markdown",
   "metadata": {},
   "source": [
    "## Importaciones necesarias"
   ]
  },
  {
   "cell_type": "code",
   "execution_count": 1,
   "metadata": {},
   "outputs": [],
   "source": [
    "using JuMP, Ipopt, Complementarity"
   ]
  },
  {
   "cell_type": "markdown",
   "metadata": {},
   "source": [
    "# Crear el modelo"
   ]
  },
  {
   "cell_type": "code",
   "execution_count": 2,
   "metadata": {},
   "outputs": [
    {
     "data": {
      "text/plain": [
       "A JuMP Model\n",
       "├ solver: Ipopt\n",
       "├ objective_sense: FEASIBILITY_SENSE\n",
       "├ num_variables: 0\n",
       "├ num_constraints: 0\n",
       "└ Names registered in the model: none"
      ]
     },
     "metadata": {},
     "output_type": "display_data"
    }
   ],
   "source": [
    "# Crear el modelo\n",
    "model = Model(Ipopt.Optimizer)"
   ]
  },
  {
   "cell_type": "markdown",
   "metadata": {},
   "source": [
    "## Definir Variables\n"
   ]
  },
  {
   "cell_type": "code",
   "execution_count": 3,
   "metadata": {},
   "outputs": [
    {
     "data": {
      "text/plain": [
       "2-element Vector{VariableRef}:\n",
       " l[1]\n",
       " l[2]"
      ]
     },
     "metadata": {},
     "output_type": "display_data"
    }
   ],
   "source": [
    "# Nivel superior\n",
    "@variable(model,x)\n",
    "# Nivel Inferior\n",
    "@variable(model,y)\n",
    "# Complementariedad\n",
    "@variable(model,l[1:2])"
   ]
  },
  {
   "cell_type": "markdown",
   "metadata": {},
   "source": [
    "## Definir Objetivo\n"
   ]
  },
  {
   "cell_type": "code",
   "execution_count": 4,
   "metadata": {},
   "outputs": [
    {
     "data": {
      "text/latex": [
       "$ x^2 $"
      ],
      "text/plain": [
       "x²"
      ]
     },
     "metadata": {},
     "output_type": "display_data"
    }
   ],
   "source": [
    "@objective(model,Min,x^2)"
   ]
  },
  {
   "cell_type": "markdown",
   "metadata": {},
   "source": [
    "## Definir Restricciones\n"
   ]
  },
  {
   "cell_type": "code",
   "execution_count": 5,
   "metadata": {},
   "outputs": [
    {
     "data": {
      "text/latex": [
       "$$ ((0.22 - 1.43 * y) + (-0.5 + x) * y ^ {2.0}) - 0.0 \\leq 0 $$"
      ],
      "text/plain": [
       "((0.22 - 1.43 * y) + (-0.5 + x) * y ^ 2.0) - 0.0 <= 0"
      ]
     },
     "metadata": {},
     "output_type": "display_data"
    }
   ],
   "source": [
    "@NLconstraint(model,1+(-0.97l[1]+(l[2]*(2*y*(x-0.25)+1.43l[2])))==0) # Obj nivel inferior\n",
    "@NLconstraint(model,0.22 - 1.43y + (-0.5 + x)*(y^2)<=0 )#vs"
   ]
  },
  {
   "cell_type": "code",
   "execution_count": 6,
   "metadata": {},
   "outputs": [
    {
     "data": {
      "text/plain": [
       "(-x <= -2.89, x <= 2.89, -9 x² + x - y <= -72.58, 0.162 y <= 0.048)"
      ]
     },
     "metadata": {},
     "output_type": "display_data"
    }
   ],
   "source": [
    "@constraints(model,begin\n",
    "2.89 - x<=0  #gs\n",
    "-2.89 + x<=0  #gs\n",
    "72.58 + x - y - 9(x^2)<=0 #gs\n",
    "-0.048 + 0.162y<=0  #vs\n",
    "#-671.96 + 176.67y<=0 #vs\n",
    "end)"
   ]
  },
  {
   "cell_type": "markdown",
   "metadata": {},
   "source": [
    "## Definir variables Complementarias"
   ]
  },
  {
   "cell_type": "code",
   "execution_count": 7,
   "metadata": {},
   "outputs": [
    {
     "data": {
      "text/latex": [
       "$$ (sqrt(l[2] ^ {2.0} + (-(((0.22 + -1.43 * y) + (-0.5 + x) * (y * y))) - 0.0) ^ {2.0} + 1.0e-8) - (l[2] + (-(((0.22 + -1.43 * y) + (-0.5 + x) * (y * y))) - 0.0))) - 0.0 = 0 $$"
      ],
      "text/plain": [
       "(sqrt(l[2] ^ 2.0 + (-(((0.22 + -1.43 * y) + (-0.5 + x) * (y * y))) - 0.0) ^ 2.0 + 1.0e-8) - (l[2] + (-(((0.22 + -1.43 * y) + (-0.5 + x) * (y * y))) - 0.0))) - 0.0 == 0"
      ]
     },
     "metadata": {},
     "output_type": "display_data"
    }
   ],
   "source": [
    "@complements(model,0<=-(-0.048 + 0.162y),l[1]>=0)\n",
    "@complements(model,0<=-(0.22 - 1.43y + (-0.5 + x)*(y^2)),l[2]>=0)\n",
    "#@complements(model,0<=-(98.96 - 32.08y + (-0.5 + x)*(y^2)),l[3]>=0)"
   ]
  },
  {
   "cell_type": "markdown",
   "metadata": {},
   "source": [
    "## Optimizar"
   ]
  },
  {
   "cell_type": "code",
   "execution_count": 8,
   "metadata": {},
   "outputs": [
    {
     "name": "stdout",
     "output_type": "stream",
     "text": [
      "\n",
      "******************************************************************************\n",
      "This program contains Ipopt, a library for large-scale nonlinear optimization.\n",
      " Ipopt is released as open source code under the Eclipse Public License (EPL).\n",
      "         For more information visit https://github.com/coin-or/Ipopt\n",
      "******************************************************************************\n",
      "\n",
      "This is Ipopt version 3.14.16, running with linear solver MUMPS 5.7.3.\n",
      "\n",
      "Number of nonzeros in equality constraint Jacobian...:        9\n",
      "Number of nonzeros in inequality constraint Jacobian.:       13\n",
      "Number of nonzeros in Lagrangian Hessian.............:       23\n",
      "\n",
      "Total number of variables............................:        4\n",
      "                     variables with only lower bounds:        0\n",
      "                variables with lower and upper bounds:        0\n",
      "                     variables with only upper bounds:        0\n",
      "Total number of equality constraints.................:        3\n",
      "Total number of inequality constraints...............:        9\n",
      "        inequality constraints with only lower bounds:        4\n",
      "   inequality constraints with lower and upper bounds:        0\n",
      "        inequality constraints with only upper bounds:        5\n",
      "\n",
      "iter    objective    inf_pr   inf_du lg(mu)  ||d||  lg(rg) alpha_du alpha_pr  ls\n",
      "   0  0.0000000e+00 7.26e+01 1.00e+00  -1.0 0.00e+00    -  0.00e+00 0.00e+00   0\n",
      "   1r 0.0000000e+00 7.26e+01 9.99e+02   1.9 0.00e+00    -  0.00e+00 5.90e-10R  2\n",
      "   2r 3.5246875e-04 7.26e+01 9.97e+02   1.9 6.46e+02    -  4.96e-02 1.11e-03f  1\n",
      "   3r 1.1599044e-02 7.25e+01 8.99e+02   1.2 1.72e+00   2.0 8.83e-01 1.04e-01f  1\n",
      "   4r 1.0063021e-01 7.19e+01 8.41e+02   0.5 3.87e-01   3.3 1.00e+00 7.74e-01f  1\n",
      "   5r 9.2712575e-02 7.19e+01 9.61e+02   0.5 2.19e-01   3.8 6.58e-01 2.97e-01f  1\n",
      "   6r 1.3138339e-01 7.16e+01 1.13e+03   0.5 5.91e-01   3.3 5.37e-01 7.52e-01f  1\n",
      "   7r 1.2516847e-01 7.16e+01 1.30e+03   0.5 3.43e-02   4.6 1.00e+00 7.11e-01f  1\n",
      "   8r 1.2342512e-01 7.17e+01 1.33e+03   0.5 1.24e-02   5.0 1.00e+00 1.00e+00f  1\n",
      "   9r 1.4188755e-01 7.15e+01 1.30e+03   0.5 2.46e+01    -  9.58e-03 2.39e-02f  1\n",
      "iter    objective    inf_pr   inf_du lg(mu)  ||d||  lg(rg) alpha_du alpha_pr  ls\n",
      "  10r 1.4690507e-01 7.15e+01 1.29e+03   0.5 3.82e+01    -  5.35e-02 5.26e-03f  1\n",
      "  11r 9.7524442e-01 6.46e+01 6.39e+03   0.5 7.75e+00    -  3.62e-01 4.63e-01f  1\n",
      "  12  1.2096897e+00 6.26e+01 2.66e+01  -1.0 3.83e+00    -  1.39e-03 2.94e-02h  1\n",
      "  13  1.6593434e+00 5.87e+01 2.30e+02  -1.0 3.33e+00    -  2.20e-01 5.66e-02h  1\n",
      "  14  1.6716031e+00 5.86e+01 2.06e+01  -1.0 1.61e+01    -  8.09e-04 1.41e-03h  1\n",
      "  15  8.2575925e+00 9.08e-01 8.02e+04  -1.0 3.84e+01    -  2.96e-03 3.63e-01h  1\n",
      "  16  8.2581221e+00 9.03e-01 8.28e+04  -1.0 1.39e+01    -  1.00e+00 5.40e-03h  1\n",
      "  17  8.3490020e+00 9.21e-02 1.11e+05  -1.0 8.29e+00    -  1.00e+00 1.24e-01h  1\n",
      "  18  8.3499176e+00 8.38e-02 2.99e+05  -1.0 1.05e+01    -  1.00e+00 3.42e-03h  1\n",
      "  19  8.3499283e+00 8.37e-02 2.75e+08  -1.0 1.27e+01    -  1.00e+00 7.37e-04h  1\n",
      "iter    objective    inf_pr   inf_du lg(mu)  ||d||  lg(rg) alpha_du alpha_pr  ls\n",
      "  20  8.3499287e+00 8.36e-02 2.40e+12  -1.0 1.28e+01    -  1.00e+00 1.14e-04h  1\n",
      "  21r 8.3499287e+00 8.36e-02 1.00e+03   1.1 0.00e+00    -  0.00e+00 2.90e-07R  3\n",
      "  22r 8.3501423e+00 8.16e-02 1.47e+03   1.1 1.24e+04    -  5.28e-01 1.02e-03f  1\n",
      "  23  8.3496661e+00 8.57e-02 8.40e+03  -1.0 3.68e+00    -  1.00e+00 1.19e-03h  1\n",
      "  24  8.3498711e+00 8.38e-02 6.15e+05  -1.0 1.99e+00    -  5.82e-02 8.47e-04h  1\n",
      "  25  8.3502215e+00 8.07e-02 2.97e+07  -1.0 2.05e+00    -  6.77e-02 1.41e-03h  1\n",
      "  26  8.3502250e+00 8.06e-02 2.10e+12  -1.0 2.01e+00    -  1.00e+00 1.43e-05h  1\n",
      "  27r 8.3502250e+00 8.06e-02 1.00e+03  -0.1 0.00e+00    -  0.00e+00 7.43e-08R  2\n",
      "  28r 8.3505034e+00 7.44e-02 2.02e+03  -0.1 3.95e+02    -  1.01e-01 2.23e-03f  1\n",
      "  29  8.3504146e+00 7.52e-02 5.54e+04  -1.0 4.14e+00    -  1.00e+00 1.93e-04h  1\n",
      "iter    objective    inf_pr   inf_du lg(mu)  ||d||  lg(rg) alpha_du alpha_pr  ls\n",
      "  30  8.3504719e+00 7.47e-02 5.40e+06  -1.0 1.09e+00    -  4.13e-02 4.36e-04h  1\n",
      "  31  8.3505160e+00 7.43e-02 7.43e+08  -1.0 1.11e+00    -  4.55e-02 3.31e-04h  1\n",
      "  32r 8.3505160e+00 7.43e-02 1.00e+03  -0.9 0.00e+00    -  0.00e+00 4.16e-07R  4\n",
      "  33r 8.3505215e+00 7.13e-02 1.23e+03  -0.9 1.20e+02    -  3.69e-01 4.24e-04f  1\n",
      "  34  8.3505203e+00 7.14e-02 2.02e+06  -1.0 2.19e+00    -  1.00e+00 4.88e-06f  2\n",
      "  35  8.3505212e+00 7.13e-02 1.26e+08  -1.0 1.73e-01    -  2.71e-03 4.31e-05h  1\n",
      "  36  8.3505223e+00 7.13e-02 6.47e+09  -1.0 4.70e-01    -  1.01e-03 1.99e-05h  1\n",
      "  37r 8.3505223e+00 7.13e-02 1.00e+03  -1.0 0.00e+00    -  0.00e+00 1.00e-07R  2\n",
      "  38r 8.3507475e+00 5.90e-02 2.57e+03  -1.0 1.42e+01    -  4.41e-02 9.02e-04f  1\n",
      "  39  8.3507486e+00 5.90e-02 1.09e+06  -1.0 4.24e-02    -  1.00e+00 4.20e-04h  1\n",
      "iter    objective    inf_pr   inf_du lg(mu)  ||d||  lg(rg) alpha_du alpha_pr  ls\n",
      "  40  8.3507508e+00 5.89e-02 3.85e+06  -1.0 4.24e-02    -  4.47e-04 1.61e-03h  1\n",
      "  41  8.3507508e+00 5.89e-02 1.10e+08  -1.0 4.23e-02    -  2.03e-03 2.26e-05h  1\n",
      "  42r 8.3507508e+00 5.89e-02 1.00e+03  -1.0 0.00e+00    -  0.00e+00 1.22e-07R  2\n",
      "  43r 8.3518177e+00 1.43e-02 2.37e+03  -1.0 9.53e+00    -  4.32e-02 5.42e-03f  1\n",
      "  44  8.3518209e+00 1.43e-02 1.88e+05  -1.0 9.80e-02    -  1.00e+00 2.66e-04h  1\n",
      "  45  8.3518224e+00 1.42e-02 5.48e+04  -1.0 2.10e-02    -  1.48e-03 5.49e-03h  1\n",
      "  46  8.3518224e+00 1.42e-02 2.13e+07  -1.0 2.10e-02    -  7.91e-03 8.71e-05h  1\n",
      "  47r 8.3518224e+00 1.42e-02 1.00e+03  -1.0 0.00e+00    -  0.00e+00 2.58e-07R  3\n",
      "  48r 8.3524327e+00 9.57e-03 9.91e+02  -1.0 5.30e-01    -  7.51e-04 1.94e-02f  1\n",
      "  49  8.3524434e+00 9.56e-03 5.27e+04  -1.0 9.80e-02    -  1.00e+00 9.50e-04h  1\n",
      "iter    objective    inf_pr   inf_du lg(mu)  ||d||  lg(rg) alpha_du alpha_pr  ls\n",
      "  50  8.3524396e+00 9.45e-03 6.41e+05  -1.0 3.40e-02    -  2.27e-01 1.11e-02h  1\n",
      "  51  8.3524395e+00 9.45e-03 2.62e+08  -1.0 3.52e-02    -  1.00e+00 1.13e-04h  1\n",
      "  52r 8.3524395e+00 9.45e-03 1.00e+03  -1.0 0.00e+00    -  0.00e+00 4.06e-07R  3\n",
      "  53r 8.3526504e+00 7.88e-03 9.52e+02  -1.0 1.75e-01    -  4.75e-02 6.08e-02f  1\n",
      "  54  8.3526594e+00 7.87e-03 1.75e+04  -1.0 8.82e-02    -  1.00e+00 9.60e-04h  1\n",
      "  55  8.3526579e+00 7.87e-03 2.97e+05  -1.0 9.73e-01    -  2.32e-04 1.35e-05h  1\n",
      "  56  8.3526454e+00 7.87e-03 6.66e+05  -1.0 3.55e+00    -  6.77e-05 3.11e-05h  1\n",
      "  57r 8.3526454e+00 7.87e-03 1.00e+03  -1.0 0.00e+00    -  0.00e+00 1.56e-07R  2\n",
      "  58r 8.3526358e+00 6.55e-03 1.01e+03  -1.0 5.27e-01    -  3.25e-02 1.08e-01f  1\n",
      "  59  8.3526549e+00 6.54e-03 6.44e+02  -1.0 1.25e+00    -  6.67e-02 1.69e-03h  1\n",
      "iter    objective    inf_pr   inf_du lg(mu)  ||d||  lg(rg) alpha_du alpha_pr  ls\n",
      "  60  8.3526408e+00 6.53e-03 1.63e+05  -1.0 2.38e+00    -  1.22e-02 5.24e-05h  1\n",
      "  61  8.3526346e+00 6.53e-03 1.04e+10  -1.0 3.52e+00    -  1.00e+00 1.56e-05h  1\n",
      "  62r 8.3526346e+00 6.53e-03 1.00e+03  -1.0 0.00e+00    -  0.00e+00 7.87e-08R  2\n",
      "  63r 8.3526414e+00 6.45e-03 9.44e+02  -1.0 4.25e-01    -  2.04e-01 5.31e-02f  1\n",
      "  64r 8.3527217e+00 2.52e-01 2.95e+02  -1.0 1.09e+00    -  8.09e-01 6.86e-01f  1\n",
      "  65r 8.3528187e+00 9.35e-03 9.61e-01  -1.0 8.05e-02    -  1.00e+00 1.00e+00h  1\n",
      "  66r 8.3526848e+00 1.57e-02 1.91e+01  -2.5 3.25e-01    -  1.00e+00 8.31e-01f  1\n",
      "  67r 8.3526548e+00 6.18e-03 4.86e+01  -2.5 1.65e-01    -  8.82e-01 1.00e+00f  1\n",
      "  68r 8.3526602e+00 6.17e-03 2.51e-02  -2.5 1.36e-01    -  1.00e+00 1.00e+00h  1\n",
      "  69r 8.3526444e+00 6.17e-03 2.71e-02  -3.8 1.06e-02    -  1.00e+00 1.00e+00h  1\n",
      "iter    objective    inf_pr   inf_du lg(mu)  ||d||  lg(rg) alpha_du alpha_pr  ls\n",
      "  70r 8.3526449e+00 1.92e-02 8.53e-02  -3.8 3.24e-01    -  1.00e+00 1.00e+00f  1\n",
      "  71r 8.3526449e+00 6.74e-03 1.63e-02  -3.8 2.35e-01    -  1.00e+00 1.00e+00h  1\n",
      "  72r 8.3526449e+00 6.16e-03 1.28e-04  -3.8 3.01e-02    -  1.00e+00 1.00e+00h  1\n",
      "  73r 8.3526441e+00 6.16e-03 5.21e-02  -5.7 4.13e-03    -  1.00e+00 9.95e-01h  1\n",
      "  74r 8.3526441e+00 5.82e-02 7.74e-02  -5.7 6.77e-01    -  1.00e+00 1.00e+00f  1\n",
      "  75r 8.3526441e+00 5.34e-02 3.25e-02  -5.7 8.24e-01    -  1.00e+00 1.00e+00h  1\n",
      "  76r 8.3526441e+00 6.14e-03 1.05e-03  -5.7 2.54e-01    -  1.00e+00 1.00e+00h  1\n",
      "  77r 8.3526441e+00 6.14e-03 3.32e-07  -5.7 6.65e-03    -  1.00e+00 1.00e+00h  1\n",
      "  78r 8.3526441e+00 6.14e-03 5.34e+01  -8.6 2.28e-04    -  1.00e+00 8.02e-01h  1\n",
      "  79r 8.3526441e+00 1.95e-01 1.46e+00  -8.6 1.74e+00    -  9.51e-01 9.88e-01f  1\n",
      "iter    objective    inf_pr   inf_du lg(mu)  ||d||  lg(rg) alpha_du alpha_pr  ls\n",
      "  80r 8.3526441e+00 3.97e-01 3.95e-02  -8.6 3.23e+00    -  1.00e+00 1.00e+00h  1\n",
      "  81r 8.3526441e+00 1.17e-01 5.37e-03  -8.6 2.50e+00    -  1.00e+00 1.00e+00h  1\n",
      "  82r 8.3526441e+00 6.13e-03 2.03e-05  -8.6 2.85e-01    -  1.00e+00 1.00e+00h  1\n",
      "\n",
      "Number of Iterations....: 82\n",
      "\n",
      "                                   (scaled)                 (unscaled)\n",
      "Objective...............:   8.3526441242415128e+00    8.3526441242415128e+00\n",
      "Dual infeasibility......:   5.7801882752102314e+00    5.7801882752102314e+00\n",
      "Constraint violation....:   6.1346388931844409e-03    6.1346388931844409e-03\n",
      "Variable bound violation:   0.0000000000000000e+00    0.0000000000000000e+00\n",
      "Complementarity.........:   2.5059953444548765e-09    2.5059953444548765e-09\n",
      "Overall NLP error.......:   1.6280409358669099e+00    5.7801882752102314e+00\n",
      "\n",
      "\n",
      "Number of objective function evaluations             = 111\n",
      "Number of objective gradient evaluations             = 55\n",
      "Number of equality constraint evaluations            = 111\n",
      "Number of inequality constraint evaluations          = 111\n",
      "Number of equality constraint Jacobian evaluations   = 94\n",
      "Number of inequality constraint Jacobian evaluations = 94\n",
      "Number of Lagrangian Hessian evaluations             = 83\n",
      "Total seconds in IPOPT                               = 2.519\n",
      "\n",
      "EXIT: Converged to a point of local infeasibility. Problem may be infeasible.\n"
     ]
    }
   ],
   "source": [
    "# Resolver el modelo\n",
    "optimize!(model)"
   ]
  },
  {
   "cell_type": "markdown",
   "metadata": {},
   "source": [
    "# Mostrar resultados"
   ]
  },
  {
   "cell_type": "code",
   "execution_count": 9,
   "metadata": {},
   "outputs": [
    {
     "name": "stdout",
     "output_type": "stream",
     "text": [
      "Estado de la solución: LOCALLY_INFEASIBLE\n",
      "Valor óptimo de x: 2.8900941376089313\n",
      "Valor óptimo de y1: 0.29629629373635424\n",
      "Valores óptimos de l: [11.986318504826443, 2.2333529821570544]\n"
     ]
    }
   ],
   "source": [
    "# Mostrar resultados\n",
    "println(\"Estado de la solución: \", termination_status(model))\n",
    "println(\"Valor óptimo de x: \", value(x))\n",
    "println(\"Valor óptimo de y1: \", value(y))\n",
    "#println(\"Valor óptimo de y2: \", value(y2))\n",
    "#println(\"Valores óptimos de s: \", value.(s))\n",
    "println(\"Valores óptimos de l: \", value.(l))"
   ]
  },
  {
   "cell_type": "code",
   "execution_count": 10,
   "metadata": {},
   "outputs": [
    {
     "data": {
      "text/plain": [
       "8.352644124241513"
      ]
     },
     "metadata": {},
     "output_type": "display_data"
    }
   ],
   "source": [
    "objective_value(model)"
   ]
  }
 ],
 "metadata": {
  "kernelspec": {
   "display_name": "Julia 1.10.5",
   "language": "julia",
   "name": "julia-1.10"
  },
  "language_info": {
   "file_extension": ".jl",
   "mimetype": "application/julia",
   "name": "julia",
   "version": "1.10.5"
  }
 },
 "nbformat": 4,
 "nbformat_minor": 2
}
