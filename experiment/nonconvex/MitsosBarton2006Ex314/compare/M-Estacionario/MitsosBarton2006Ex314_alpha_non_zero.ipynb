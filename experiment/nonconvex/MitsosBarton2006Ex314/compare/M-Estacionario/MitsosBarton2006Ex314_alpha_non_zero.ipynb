{
 "cells": [
  {
   "cell_type": "markdown",
   "metadata": {},
   "source": [
    "## Importaciones necesarias"
   ]
  },
  {
   "cell_type": "code",
   "execution_count": 1,
   "metadata": {},
   "outputs": [],
   "source": [
    "using JuMP, Ipopt, Complementarity"
   ]
  },
  {
   "cell_type": "markdown",
   "metadata": {},
   "source": [
    "# Crear el modelo"
   ]
  },
  {
   "cell_type": "code",
   "execution_count": 2,
   "metadata": {},
   "outputs": [
    {
     "data": {
      "text/plain": [
       "A JuMP Model\n",
       "├ solver: Ipopt\n",
       "├ objective_sense: FEASIBILITY_SENSE\n",
       "├ num_variables: 0\n",
       "├ num_constraints: 0\n",
       "└ Names registered in the model: none"
      ]
     },
     "metadata": {},
     "output_type": "display_data"
    }
   ],
   "source": [
    "# Crear el modelo\n",
    "model = Model(Ipopt.Optimizer)"
   ]
  },
  {
   "cell_type": "markdown",
   "metadata": {},
   "source": [
    "## Definir Variables\n"
   ]
  },
  {
   "cell_type": "code",
   "execution_count": 3,
   "metadata": {},
   "outputs": [
    {
     "data": {
      "text/plain": [
       "2-element Vector{VariableRef}:\n",
       " l[1]\n",
       " l[2]"
      ]
     },
     "metadata": {},
     "output_type": "display_data"
    }
   ],
   "source": [
    "# Nivel superior\n",
    "@variable(model,x)\n",
    "# Nivel Inferior\n",
    "@variable(model,y)\n",
    "# Complementariedad\n",
    "@variable(model,l[1:2])"
   ]
  },
  {
   "cell_type": "markdown",
   "metadata": {},
   "source": [
    "## Definir Objetivo\n"
   ]
  },
  {
   "cell_type": "code",
   "execution_count": 4,
   "metadata": {},
   "outputs": [
    {
     "data": {
      "text/latex": [
       "$ x^2 + y^2 - 0.5 x + 0.0625 $"
      ],
      "text/plain": [
       "x² + y² - 0.5 x + 0.0625"
      ]
     },
     "metadata": {},
     "output_type": "display_data"
    }
   ],
   "source": [
    "@objective(model,Min,((x-0.25)^2)+(y^2))"
   ]
  },
  {
   "cell_type": "markdown",
   "metadata": {},
   "source": [
    "## Definir Restricciones\n"
   ]
  },
  {
   "cell_type": "code",
   "execution_count": 5,
   "metadata": {},
   "outputs": [
    {
     "data": {
      "text/latex": [
       "$$ ((y ^ {2.0} - x) + 0.25 * l[1] + 1.37 * l[2]) - 0.0 = 0 $$"
      ],
      "text/plain": [
       "((y ^ 2.0 - x) + 0.25 * l[1] + 1.37 * l[2]) - 0.0 == 0"
      ]
     },
     "metadata": {},
     "output_type": "display_data"
    }
   ],
   "source": [
    "@NLconstraint(model,(y^2)-x+(0.25l[1])+(1.37l[2])==0) # Obj nivel inferior"
   ]
  },
  {
   "cell_type": "code",
   "execution_count": 6,
   "metadata": {},
   "outputs": [
    {
     "data": {
      "text/plain": [
       "(x <= 2.1, -x <= -2.1, 0.25 y <= 0.84, 1.37 y <= 4.52)"
      ]
     },
     "metadata": {},
     "output_type": "display_data"
    }
   ],
   "source": [
    "@constraints(model,begin\n",
    "-2.1 + x<=0  #gs\n",
    "2.1 - x<=0  #gs\n",
    "-0.84 + 0.25y<=0  #vs\n",
    "-4.52 + 1.37y<=0 #vs\n",
    "end)"
   ]
  },
  {
   "cell_type": "markdown",
   "metadata": {},
   "source": [
    "## Definir variables Complementarias"
   ]
  },
  {
   "cell_type": "code",
   "execution_count": 7,
   "metadata": {},
   "outputs": [
    {
     "data": {
      "text/latex": [
       "$$ (sqrt(l[2] ^ {2.0} + (4.52 + -1.37 * y) ^ {2.0} + 1.0e-8) - (l[2] + (4.52 + -1.37 * y))) - 0.0 = 0 $$"
      ],
      "text/plain": [
       "(sqrt(l[2] ^ 2.0 + (4.52 + -1.37 * y) ^ 2.0 + 1.0e-8) - (l[2] + (4.52 + -1.37 * y))) - 0.0 == 0"
      ]
     },
     "metadata": {},
     "output_type": "display_data"
    }
   ],
   "source": [
    "@complements(model,0<=-(-0.84 + 0.25y),l[1]>=0)\n",
    "@complements(model,0<=-(-4.52 + 1.37y),l[2]>=0)"
   ]
  },
  {
   "cell_type": "markdown",
   "metadata": {},
   "source": [
    "## Optimizar"
   ]
  },
  {
   "cell_type": "code",
   "execution_count": 8,
   "metadata": {},
   "outputs": [
    {
     "name": "stdout",
     "output_type": "stream",
     "text": [
      "\n",
      "******************************************************************************\n",
      "This program contains Ipopt, a library for large-scale nonlinear optimization.\n",
      " Ipopt is released as open source code under the Eclipse Public License (EPL).\n",
      "         For more information visit https://github.com/coin-or/Ipopt\n",
      "******************************************************************************\n",
      "\n",
      "This is Ipopt version 3.14.16, running with linear solver MUMPS 5.7.3.\n",
      "\n",
      "Number of nonzeros in equality constraint Jacobian...:        8\n",
      "Number of nonzeros in inequality constraint Jacobian.:        8\n",
      "Number of nonzeros in Lagrangian Hessian.............:        9\n",
      "\n",
      "Total number of variables............................:        4\n",
      "                     variables with only lower bounds:        0\n",
      "                variables with lower and upper bounds:        0\n",
      "                     variables with only upper bounds:        0\n",
      "Total number of equality constraints.................:        3\n",
      "Total number of inequality constraints...............:        8\n",
      "        inequality constraints with only lower bounds:        4\n",
      "   inequality constraints with lower and upper bounds:        0\n",
      "        inequality constraints with only upper bounds:        4\n",
      "\n",
      "iter    objective    inf_pr   inf_du lg(mu)  ||d||  lg(rg) alpha_du alpha_pr  ls\n",
      "   0  6.2500000e-02 2.10e+00 9.10e-01  -1.0 0.00e+00    -  0.00e+00 0.00e+00   0\n",
      "   1  6.2500354e-02 2.10e+00 1.03e+02  -1.0 2.12e+00    -  9.94e-01 9.80e-03h  1\n",
      "   2r 6.2500354e-02 2.10e+00 9.99e+02   0.3 0.00e+00   0.0 0.00e+00 4.58e-07R  9\n",
      "   3r 6.8998192e-01 2.09e+00 6.84e+02   0.3 3.45e+00    -  6.15e-01 3.15e-01f  1\n",
      "   4r 6.9143429e+00 1.49e+00 5.28e+02   0.3 3.90e+00   2.0 4.63e-01 5.32e-01f  1\n",
      "   5  6.6254445e+00 1.11e+00 2.11e+01  -1.0 5.10e-01    -  1.00e+00 2.66e-01h  1\n",
      "   6  6.0698866e+00 5.93e-01 2.32e+01  -1.0 4.29e-01    -  1.00e+00 4.85e-01f  1\n",
      "   7  5.7127559e+00 1.91e-01 2.06e+01  -1.0 2.41e-01    -  1.00e+00 7.04e-01h  1\n",
      "   8  5.6063113e+00 9.01e-02 8.27e+01  -1.0 8.71e-02    -  1.00e+00 5.34e-01h  1\n",
      "   9  5.5578884e+00 3.55e-02 1.64e+02  -1.0 4.06e-02    -  1.00e+00 6.10e-01h  1\n",
      "iter    objective    inf_pr   inf_du lg(mu)  ||d||  lg(rg) alpha_du alpha_pr  ls\n",
      "  10  5.5365649e+00 1.51e-02 4.35e+02  -1.0 1.67e-02    -  1.00e+00 5.76e-01h  1\n",
      "  11  5.5286824e+00 6.20e-03 1.01e+03  -1.0 6.91e-03    -  1.00e+00 5.90e-01h  1\n",
      "  12  5.5249028e+00 2.58e-03 2.48e+03  -1.0 2.94e-03    -  1.00e+00 5.84e-01h  1\n",
      "  13  5.5235628e+00 1.07e-03 5.95e+03  -1.0 1.18e-03    -  1.00e+00 5.87e-01h  1\n",
      "  14  5.5229105e+00 4.41e-04 1.43e+04  -1.0 5.07e-04    -  1.00e+00 5.86e-01h  1\n",
      "  15  5.5226811e+00 1.82e-04 3.43e+04  -1.0 2.02e-04    -  1.00e+00 5.88e-01h  1\n",
      "  16  5.5226250e+00 1.28e-04 1.40e+05  -1.0 8.63e-05    -  1.00e+00 2.96e-01f  2\n",
      "  17  5.5225217e+00 2.34e-05 6.73e+04  -1.0 6.01e-05    -  1.00e+00 8.17e-01h  1\n",
      "  18  5.5225168e+00 1.76e-05 8.69e+05  -1.0 1.07e-05    -  1.00e+00 2.48e-01f  2\n",
      "  19  5.5225010e+00 9.38e-07 1.11e+05  -1.0 8.19e-06    -  1.00e+00 9.47e-01h  1\n",
      "iter    objective    inf_pr   inf_du lg(mu)  ||d||  lg(rg) alpha_du alpha_pr  ls\n",
      "  20  5.5225006e+00 6.46e-07 3.55e+06  -1.0 4.76e-07    -  1.00e+00 3.11e-01f  2\n",
      "  21  5.5225000e+00 4.88e-14 4.58e-03  -1.0 3.03e-07    -  1.00e+00 1.00e+00h  1\n",
      "  22  5.5225000e+00 3.84e-17 1.55e-09  -8.6 5.69e-13    -  1.00e+00 1.00e+00h  1\n",
      "  23  5.5225000e+00 4.82e-16 1.45e+00  -8.6 6.69e-09    -  7.75e-01 1.00e+00h  1\n",
      "  24  5.5224999e+00 2.22e-16 2.51e-14  -8.6 1.38e-08    -  1.00e+00 1.00e+00h  1\n",
      "\n",
      "Number of Iterations....: 24\n",
      "\n",
      "                                   (scaled)                 (unscaled)\n",
      "Objective...............:   5.5224999004540862e+00    5.5224999004540862e+00\n",
      "Dual infeasibility......:   2.5146551507759796e-14    2.5146551507759796e-14\n",
      "Constraint violation....:   2.2204460492503131e-16    2.2204460492503131e-16\n",
      "Variable bound violation:   0.0000000000000000e+00    0.0000000000000000e+00\n",
      "Complementarity.........:   3.7412720315095173e-09    3.7412720315095173e-09\n",
      "Overall NLP error.......:   3.7412720315095173e-09    3.7412720315095173e-09\n",
      "\n",
      "\n",
      "Number of objective function evaluations             = 38\n",
      "Number of objective gradient evaluations             = 24\n",
      "Number of equality constraint evaluations            = 38\n",
      "Number of inequality constraint evaluations          = 38\n",
      "Number of equality constraint Jacobian evaluations   = 26\n",
      "Number of inequality constraint Jacobian evaluations = 26\n",
      "Number of Lagrangian Hessian evaluations             = 24\n",
      "Total seconds in IPOPT                               = 3.830\n",
      "\n",
      "EXIT: Optimal Solution Found.\n"
     ]
    }
   ],
   "source": [
    "# Resolver el modelo\n",
    "optimize!(model)"
   ]
  },
  {
   "cell_type": "markdown",
   "metadata": {},
   "source": [
    "# Mostrar resultados"
   ]
  },
  {
   "cell_type": "code",
   "execution_count": 9,
   "metadata": {},
   "outputs": [
    {
     "name": "stdout",
     "output_type": "stream",
     "text": [
      "Estado de la solución: LOCALLY_SOLVED\n",
      "Valor óptimo de x: 2.0999999792652675\n",
      "Valor óptimo de y1: -1.4491376667427411\n",
      "Valores óptimos de l: [4.158749844378814e-9, 7.686016913728771e-10]\n"
     ]
    }
   ],
   "source": [
    "# Mostrar resultados\n",
    "println(\"Estado de la solución: \", termination_status(model))\n",
    "println(\"Valor óptimo de x: \", value(x))\n",
    "println(\"Valor óptimo de y1: \", value(y))\n",
    "#println(\"Valor óptimo de y2: \", value(y2))\n",
    "#println(\"Valores óptimos de s: \", value.(s))\n",
    "println(\"Valores óptimos de l: \", value.(l))"
   ]
  },
  {
   "cell_type": "code",
   "execution_count": 10,
   "metadata": {},
   "outputs": [
    {
     "data": {
      "text/plain": [
       "5.522499900454086"
      ]
     },
     "metadata": {},
     "output_type": "display_data"
    }
   ],
   "source": [
    "objective_value(model)"
   ]
  },
  {
   "cell_type": "code",
   "execution_count": 11,
   "metadata": {},
   "outputs": [],
   "source": []
  }
 ],
 "metadata": {
  "kernelspec": {
   "display_name": "Julia 1.10.5",
   "language": "julia",
   "name": "julia-1.10"
  },
  "language_info": {
   "file_extension": ".jl",
   "mimetype": "application/julia",
   "name": "julia",
   "version": "1.10.5"
  }
 },
 "nbformat": 4,
 "nbformat_minor": 2
}
