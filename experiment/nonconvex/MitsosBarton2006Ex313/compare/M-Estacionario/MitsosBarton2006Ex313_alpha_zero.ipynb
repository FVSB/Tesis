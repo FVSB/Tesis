{
 "cells": [
  {
   "cell_type": "markdown",
   "metadata": {},
   "source": [
    "## Importaciones necesarias"
   ]
  },
  {
   "cell_type": "code",
   "execution_count": 1,
   "metadata": {},
   "outputs": [],
   "source": [
    "using JuMP, Ipopt, Complementarity"
   ]
  },
  {
   "cell_type": "markdown",
   "metadata": {},
   "source": [
    "# Crear el modelo"
   ]
  },
  {
   "cell_type": "code",
   "execution_count": 2,
   "metadata": {},
   "outputs": [
    {
     "data": {
      "text/plain": [
       "A JuMP Model\n",
       "├ solver: Ipopt\n",
       "├ objective_sense: FEASIBILITY_SENSE\n",
       "├ num_variables: 0\n",
       "├ num_constraints: 0\n",
       "└ Names registered in the model: none"
      ]
     },
     "metadata": {},
     "output_type": "display_data"
    }
   ],
   "source": [
    "# Crear el modelo\n",
    "model = Model(Ipopt.Optimizer)"
   ]
  },
  {
   "cell_type": "markdown",
   "metadata": {},
   "source": [
    "## Definir Variables\n"
   ]
  },
  {
   "cell_type": "code",
   "execution_count": 3,
   "metadata": {},
   "outputs": [
    {
     "data": {
      "text/plain": [
       "2-element Vector{VariableRef}:\n",
       " l[1]\n",
       " l[2]"
      ]
     },
     "metadata": {},
     "output_type": "display_data"
    }
   ],
   "source": [
    "# Nivel superior\n",
    "@variable(model,x)\n",
    "# Nivel Inferior\n",
    "@variable(model,y)\n",
    "# Complementariedad\n",
    "@variable(model,l[1:2])"
   ]
  },
  {
   "cell_type": "markdown",
   "metadata": {},
   "source": [
    "## Definir Objetivo\n"
   ]
  },
  {
   "cell_type": "code",
   "execution_count": 4,
   "metadata": {},
   "outputs": [
    {
     "data": {
      "text/latex": [
       "$ x - y $"
      ],
      "text/plain": [
       "x - y"
      ]
     },
     "metadata": {},
     "output_type": "display_data"
    }
   ],
   "source": [
    "@objective(model,Min,x-y)"
   ]
  },
  {
   "cell_type": "markdown",
   "metadata": {},
   "source": [
    "## Definir Restricciones\n"
   ]
  },
  {
   "cell_type": "code",
   "execution_count": 5,
   "metadata": {},
   "outputs": [
    {
     "data": {
      "text/latex": [
       "$$ (((x * y - x ^ {3.0}) + l[1]) - l[2]) - 0.0 = 0 $$"
      ],
      "text/plain": [
       "(((x * y - x ^ 3.0) + l[1]) - l[2]) - 0.0 == 0"
      ]
     },
     "metadata": {},
     "output_type": "display_data"
    }
   ],
   "source": [
    "@NLconstraint(model,x*y-x^3+l[1]-l[2]==0) # Obj nivel inferior"
   ]
  },
  {
   "cell_type": "code",
   "execution_count": 6,
   "metadata": {},
   "outputs": [
    {
     "data": {
      "text/plain": [
       "(-x <= -2.3, x <= 2.3, y <= 4.45, -y <= -4.45)"
      ]
     },
     "metadata": {},
     "output_type": "display_data"
    }
   ],
   "source": [
    "@constraints(model,begin\n",
    "2.3 - x<=0  #gs\n",
    "-2.3 + x<=0  #gs\n",
    "-4.45 + y<=0  #vs\n",
    "4.45 - y<=0 #vs\n",
    "end)"
   ]
  },
  {
   "cell_type": "markdown",
   "metadata": {},
   "source": [
    "## Definir restricciones Complementarias"
   ]
  },
  {
   "cell_type": "code",
   "execution_count": 7,
   "metadata": {},
   "outputs": [
    {
     "data": {
      "text/latex": [
       "$$ (sqrt(l[2] ^ {2.0} + (-4.45 + y) ^ {2.0} + 1.0e-8) - (l[2] + (-4.45 + y))) - 0.0 = 0 $$"
      ],
      "text/plain": [
       "(sqrt(l[2] ^ 2.0 + (-4.45 + y) ^ 2.0 + 1.0e-8) - (l[2] + (-4.45 + y))) - 0.0 == 0"
      ]
     },
     "metadata": {},
     "output_type": "display_data"
    }
   ],
   "source": [
    "@complements(model,0<=-(-4.45 + y),l[1]>=0)\n",
    "@complements(model,0<=-(4.45 - y),l[2]>=0)"
   ]
  },
  {
   "cell_type": "markdown",
   "metadata": {},
   "source": [
    "## Optimizar"
   ]
  },
  {
   "cell_type": "code",
   "execution_count": 8,
   "metadata": {},
   "outputs": [
    {
     "name": "stdout",
     "output_type": "stream",
     "text": [
      "\n",
      "******************************************************************************\n",
      "This program contains Ipopt, a library for large-scale nonlinear optimization.\n",
      " Ipopt is released as open source code under the Eclipse Public License (EPL).\n",
      "         For more information visit https://github.com/coin-or/Ipopt\n",
      "******************************************************************************\n",
      "\n",
      "This is Ipopt version 3.14.16, running with linear solver MUMPS 5.7.3.\n",
      "\n",
      "Number of nonzeros in equality constraint Jacobian...:        8\n",
      "Number of nonzeros in inequality constraint Jacobian.:        8\n",
      "Number of nonzeros in Lagrangian Hessian.............:        9\n",
      "\n",
      "Total number of variables............................:        4\n",
      "                     variables with only lower bounds:        0\n",
      "                variables with lower and upper bounds:        0\n",
      "                     variables with only upper bounds:        0\n",
      "Total number of equality constraints.................:        3\n",
      "Total number of inequality constraints...............:        8\n",
      "        inequality constraints with only lower bounds:        4\n",
      "   inequality constraints with lower and upper bounds:        0\n",
      "        inequality constraints with only upper bounds:        4\n",
      "\n",
      "iter    objective    inf_pr   inf_du lg(mu)  ||d||  lg(rg) alpha_du alpha_pr  ls\n",
      "   0  0.0000000e+00 8.90e+00 3.33e-01  -1.0 0.00e+00    -  0.00e+00 0.00e+00   0\n",
      "   1 -1.8998350e+00 2.29e+00 4.30e+01  -1.0 4.45e+00    -  8.79e-01 9.39e-01h  1\n",
      "   2 -2.0134748e+00 1.69e+00 3.18e+01  -1.0 2.90e-01    -  2.90e-01 2.71e-01h  1\n",
      "   3 -2.0719838e+00 1.38e+00 2.46e+02  -1.0 2.19e-01    -  1.00e+00 1.85e-01h  1\n",
      "   4 -2.0725621e+00 1.37e+00 1.37e+03  -1.0 1.82e-01    -  7.08e-01 2.22e-03h  1\n",
      "   5 -2.0726898e+00 1.37e+00 3.74e+03  -1.0 8.22e-01    -  6.93e-04 2.53e-04h  1\n",
      "   6 -2.0728673e+00 1.37e+00 1.28e+04  -1.0 9.00e-01    -  9.16e-04 3.37e-04h  1\n",
      "   7r-2.0728673e+00 1.37e+00 1.00e+03   0.1 0.00e+00    -  0.00e+00 4.23e-07R  4\n",
      "   8r-2.3006606e+00 1.89e-01 9.97e+02   0.1 4.27e+02    -  2.58e-03 3.18e-03f  1\n",
      "   9 -2.3006620e+00 1.89e-01 9.88e+03  -1.7 1.77e-01    -  2.19e-01 2.44e-05h  1\n",
      "iter    objective    inf_pr   inf_du lg(mu)  ||d||  lg(rg) alpha_du alpha_pr  ls\n",
      "  10r-2.3006620e+00 1.89e-01 1.00e+03  -0.7 0.00e+00    -  0.00e+00 4.66e-07R  5\n",
      "  11r-2.3342220e+00 1.92e-01 9.99e+02  -0.7 5.46e+01    -  1.11e-01 2.18e-03f  1\n",
      "  12r-2.3403906e+00 1.90e-01 8.84e+02  -0.7 1.95e-01    -  9.76e-01 1.13e-01f  1\n",
      "  13r-2.3403434e+00 1.90e-01 7.86e+02  -0.7 4.07e-03    -  1.97e-01 1.11e-01f  2\n",
      "  14r-2.3403351e+00 1.91e-01 3.57e+02  -0.7 4.30e-04   6.0 1.00e+00 1.00e+00f  1\n",
      "  15r-2.3403225e+00 1.90e-01 3.46e+02  -0.7 1.60e-02    -  4.48e-02 3.40e-02f  2\n",
      "  16r-2.3404696e+00 1.90e-01 3.06e+02  -0.7 5.64e-04   5.5 1.00e+00 1.00e+00f  1\n",
      "  17r-2.3403023e+00 1.90e-01 1.16e+02  -0.7 1.60e-03    -  6.57e-01 1.00e+00f  1\n",
      "  18r-2.3159971e+00 1.66e-01 1.21e+02  -0.7 2.17e-01    -  2.15e-02 1.00e+00f  1\n",
      "  19 -2.1516625e+00 8.05e-03 6.27e+01  -1.7 1.60e+00    -  1.11e-01 9.56e-01H  1\n",
      "iter    objective    inf_pr   inf_du lg(mu)  ||d||  lg(rg) alpha_du alpha_pr  ls\n",
      "  20 -2.1507153e+00 8.48e-04 1.49e+02  -1.7 2.28e-02    -  1.00e+00 8.95e-01h  1\n",
      "  21 -2.1503613e+00 6.96e-04 8.67e+03  -1.7 2.84e-02    -  7.87e-01 1.80e-01f  2\n",
      "  22 -2.1500036e+00 9.64e-05 3.53e+03  -1.7 1.15e-02    -  1.00e+00 8.63e-01h  1\n",
      "  23 -2.1500301e+00 8.00e-05 6.11e+04  -1.7 1.14e-02    -  6.78e-01 1.70e-01f  2\n",
      "  24 -2.1500114e+00 1.31e-05 3.13e+04  -1.7 1.37e-02    -  1.00e+00 8.36e-01h  1\n",
      "  25 -2.1500058e+00 1.07e-05 3.01e+05  -1.7 2.50e-02    -  6.79e-01 1.87e-01f  2\n",
      "  26 -2.1500000e+00 1.90e-06 1.52e+05  -1.7 2.95e-02    -  1.00e+00 8.22e-01h  1\n",
      "  27 -2.1500005e+00 1.52e-06 6.02e+05  -1.7 5.46e-02    -  6.74e-01 2.01e-01f  2\n",
      "  28 -2.1500002e+00 2.53e-07 1.98e+05  -1.7 6.62e-02    -  1.00e+00 8.33e-01h  1\n",
      "  29 -2.1500001e+00 1.97e-07 2.26e+05  -1.7 1.26e-01    -  6.58e-01 2.21e-01f  2\n",
      "iter    objective    inf_pr   inf_du lg(mu)  ||d||  lg(rg) alpha_du alpha_pr  ls\n",
      "  30 -2.1500000e+00 1.88e-08 4.10e+03  -1.7 1.57e-01    -  1.00e+00 9.85e-01h  1\n",
      "  31 -2.1500000e+00 1.41e-08 1.48e+05  -1.7 3.36e-01    -  6.13e-01 3.46e-01f  2\n",
      "  32 -2.1500000e+00 7.28e-09 1.20e-02  -1.7 4.77e-01    -  1.00e+00 1.00e+00f  1\n",
      "  33 -2.1500000e+00 3.64e-09 1.40e+06  -8.6 1.07e+00    -  4.55e-01 1.00e+00h  1\n",
      "  34 -2.1500000e+00 1.66e-09 4.95e+05  -8.6 2.36e+00    -  6.23e-01 1.00e+00h  1\n",
      "  35 -2.1500000e+00 7.06e-10 1.16e+05  -8.6 4.95e+00    -  7.28e-01 1.00e+00h  1\n",
      "  36 -2.1500000e+00 3.04e-10 1.30e+04  -8.6 1.01e+01    -  8.88e-01 1.00e+00h  1\n",
      "  37 -2.1500000e+00 1.38e-10 4.81e+03  -8.6 2.02e+01    -  6.64e-01 1.00e+00h  1\n",
      "  38 -2.1500000e+00 6.55e-11 8.22e+02  -8.6 4.04e+01    -  8.31e-01 1.00e+00h  1\n",
      "  39 -2.1500000e+00 3.18e-11 2.43e+02  -8.6 8.09e+01    -  7.06e-01 1.00e+00h  1\n",
      "iter    objective    inf_pr   inf_du lg(mu)  ||d||  lg(rg) alpha_du alpha_pr  ls\n",
      "  40 -2.1500000e+00 1.56e-11 5.33e+01  -8.6 1.62e+02    -  7.81e-01 1.00e+00h  1\n",
      "  41 -2.1500000e+00 7.84e-12 1.43e+01  -8.6 3.24e+02    -  7.32e-01 1.00e+00h  1\n",
      "  42 -2.1500000e+00 3.87e-12 3.42e+00  -8.6 6.48e+02    -  7.60e-01 1.00e+00h  1\n",
      "  43 -2.1500000e+00 2.27e-12 8.67e-01  -8.6 1.29e+03    -  7.47e-01 1.00e+00h  1\n",
      "  44 -2.1500000e+00 9.09e-13 2.59e-01  -8.6 2.84e+03    -  7.02e-01 1.00e+00h  1\n",
      "\n",
      "Number of Iterations....: 44\n",
      "\n",
      "                                   (scaled)                 (unscaled)\n",
      "Objective...............:  -2.1500000199958080e+00   -2.1500000199958080e+00\n",
      "Dual infeasibility......:   2.5859183428471677e-01    2.5859183428471677e-01\n",
      "Constraint violation....:   9.0949470177292824e-13    9.0949470177292824e-13\n",
      "Variable bound violation:   0.0000000000000000e+00    0.0000000000000000e+00\n",
      "Complementarity.........:   5.0917754595071919e-09    5.0917754595071919e-09\n",
      "Overall NLP error.......:   7.7371711541628816e-09    2.5859183428471677e-01\n",
      "\n",
      "\n",
      "Number of objective function evaluations             = 67\n",
      "Number of objective gradient evaluations             = 38\n",
      "Number of equality constraint evaluations            = 67\n",
      "Number of inequality constraint evaluations          = 67\n",
      "Number of equality constraint Jacobian evaluations   = 47\n",
      "Number of inequality constraint Jacobian evaluations = 47\n",
      "Number of Lagrangian Hessian evaluations             = 44\n",
      "Total seconds in IPOPT                               = 3.335\n",
      "\n",
      "EXIT: Optimal Solution Found.\n"
     ]
    }
   ],
   "source": [
    "# Resolver el modelo\n",
    "optimize!(model)"
   ]
  },
  {
   "cell_type": "markdown",
   "metadata": {},
   "source": [
    "# Mostrar resultados"
   ]
  },
  {
   "cell_type": "code",
   "execution_count": 9,
   "metadata": {},
   "outputs": [
    {
     "name": "stdout",
     "output_type": "stream",
     "text": [
      "Estado de la solución: LOCALLY_SOLVED\n",
      "Valor óptimo de x: 2.299999980004137\n",
      "Valor óptimo de y1: 4.449999999999945\n",
      "Valores óptimos de l: [5421.570307094356, 5419.638307322709]\n"
     ]
    }
   ],
   "source": [
    "# Mostrar resultados\n",
    "println(\"Estado de la solución: \", termination_status(model))\n",
    "println(\"Valor óptimo de x: \", value(x))\n",
    "println(\"Valor óptimo de y1: \", value(y))\n",
    "#println(\"Valor óptimo de y2: \", value(y))\n",
    "#println(\"Valores óptimos de s: \", value.(s))\n",
    "println(\"Valores óptimos de l: \", value.(l))"
   ]
  },
  {
   "cell_type": "code",
   "execution_count": 10,
   "metadata": {},
   "outputs": [
    {
     "data": {
      "text/plain": [
       "-2.150000019995808"
      ]
     },
     "metadata": {},
     "output_type": "display_data"
    }
   ],
   "source": [
    "objective_value(model)"
   ]
  }
 ],
 "metadata": {
  "kernelspec": {
   "display_name": "Julia 1.10.5",
   "language": "julia",
   "name": "julia-1.10"
  },
  "language_info": {
   "file_extension": ".jl",
   "mimetype": "application/julia",
   "name": "julia",
   "version": "1.10.5"
  }
 },
 "nbformat": 4,
 "nbformat_minor": 2
}
