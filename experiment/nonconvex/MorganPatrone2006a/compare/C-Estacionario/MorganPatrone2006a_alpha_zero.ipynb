{
 "cells": [
  {
   "cell_type": "markdown",
   "metadata": {},
   "source": [
    "## Importaciones necesarias"
   ]
  },
  {
   "cell_type": "code",
   "execution_count": 1,
   "metadata": {},
   "outputs": [],
   "source": [
    "using JuMP, Ipopt, Complementarity"
   ]
  },
  {
   "cell_type": "markdown",
   "metadata": {},
   "source": [
    "# Crear el modelo"
   ]
  },
  {
   "cell_type": "code",
   "execution_count": 2,
   "metadata": {},
   "outputs": [
    {
     "data": {
      "text/plain": [
       "A JuMP Model\n",
       "├ solver: Ipopt\n",
       "├ objective_sense: FEASIBILITY_SENSE\n",
       "├ num_variables: 0\n",
       "├ num_constraints: 0\n",
       "└ Names registered in the model: none"
      ]
     },
     "metadata": {},
     "output_type": "display_data"
    }
   ],
   "source": [
    "# Crear el modelo\n",
    "model = Model(Ipopt.Optimizer)"
   ]
  },
  {
   "cell_type": "markdown",
   "metadata": {},
   "source": [
    "## Definir Variables\n"
   ]
  },
  {
   "cell_type": "code",
   "execution_count": 3,
   "metadata": {},
   "outputs": [
    {
     "data": {
      "text/plain": [
       "2-element Vector{VariableRef}:\n",
       " l[1]\n",
       " l[2]"
      ]
     },
     "metadata": {},
     "output_type": "display_data"
    }
   ],
   "source": [
    "# Nivel superior\n",
    "@variable(model,x)\n",
    "# Nivel Inferior\n",
    "@variable(model,y)\n",
    "# Complementariedad\n",
    "@variable(model,l[1:2])"
   ]
  },
  {
   "cell_type": "markdown",
   "metadata": {},
   "source": [
    "## Definir Objetivo\n"
   ]
  },
  {
   "cell_type": "code",
   "execution_count": 4,
   "metadata": {},
   "outputs": [
    {
     "data": {
      "text/latex": [
       "$ -x - y $"
      ],
      "text/plain": [
       "-x - y"
      ]
     },
     "metadata": {},
     "output_type": "display_data"
    }
   ],
   "source": [
    "@objective(model,Min,-(x+y))"
   ]
  },
  {
   "cell_type": "markdown",
   "metadata": {},
   "source": [
    "## Definir Restricciones\n"
   ]
  },
  {
   "cell_type": "code",
   "execution_count": 5,
   "metadata": {},
   "outputs": [
    {
     "data": {
      "text/plain": [
       "(x - l[1] + l[2] == 0, -x <= -4.5, x <= 4.5, -y <= -2.8, y <= 2.8)"
      ]
     },
     "metadata": {},
     "output_type": "display_data"
    }
   ],
   "source": [
    "@constraints(model,begin\n",
    "x-l[1]+l[2]==0 # kkt\n",
    "4.5-x<=0 #gs\n",
    "x-4.5<=0   #gs\n",
    "2.8 - y<=0\n",
    "-2.8 + y<=0\n",
    "end)"
   ]
  },
  {
   "cell_type": "markdown",
   "metadata": {},
   "source": [
    "## Definir variables Complementarias"
   ]
  },
  {
   "cell_type": "code",
   "execution_count": 6,
   "metadata": {},
   "outputs": [
    {
     "data": {
      "text/latex": [
       "$$ (sqrt(l[2] ^ {2.0} + (2.8 + -1.0 * y) ^ {2.0} + 1.0e-8) - (l[2] + (2.8 + -1.0 * y))) - 0.0 = 0 $$"
      ],
      "text/plain": [
       "(sqrt(l[2] ^ 2.0 + (2.8 + -1.0 * y) ^ 2.0 + 1.0e-8) - (l[2] + (2.8 + -1.0 * y))) - 0.0 == 0"
      ]
     },
     "metadata": {},
     "output_type": "display_data"
    }
   ],
   "source": [
    "@complements(model,0<=-(2.8 - y),l[1]>=0)\n",
    "@complements(model,0<=-(-2.8 + y),l[2]>=0)"
   ]
  },
  {
   "cell_type": "markdown",
   "metadata": {},
   "source": [
    "## Optimizar"
   ]
  },
  {
   "cell_type": "code",
   "execution_count": 7,
   "metadata": {},
   "outputs": [
    {
     "name": "stdout",
     "output_type": "stream",
     "text": [
      "\n",
      "******************************************************************************\n",
      "This program contains Ipopt, a library for large-scale nonlinear optimization.\n",
      " Ipopt is released as open source code under the Eclipse Public License (EPL).\n",
      "         For more information visit https://github.com/coin-or/Ipopt\n",
      "******************************************************************************\n",
      "\n",
      "This is Ipopt version 3.14.16, running with linear solver MUMPS 5.7.3.\n",
      "\n",
      "Number of nonzeros in equality constraint Jacobian...:        7\n",
      "Number of nonzeros in inequality constraint Jacobian.:        8\n",
      "Number of nonzeros in Lagrangian Hessian.............:        6\n",
      "\n",
      "Total number of variables............................:        4\n",
      "                     variables with only lower bounds:        0\n",
      "                variables with lower and upper bounds:        0\n",
      "                     variables with only upper bounds:        0\n",
      "Total number of equality constraints.................:        3\n",
      "Total number of inequality constraints...............:        8\n",
      "        inequality constraints with only lower bounds:        4\n",
      "   inequality constraints with lower and upper bounds:        0\n",
      "        inequality constraints with only upper bounds:        4\n",
      "\n",
      "iter    objective    inf_pr   inf_du lg(mu)  ||d||  lg(rg) alpha_du alpha_pr  ls\n",
      "   0 -0.0000000e+00 5.60e+00 2.40e-01  -1.0 0.00e+00    -  0.00e+00 0.00e+00   0\n",
      "   1 -3.6357258e-02 5.54e+00 6.89e-01  -1.0 3.85e+00    -  1.68e-02 1.16e-02h  1\n",
      "   2 -4.9425160e-02 5.52e+00 6.76e+02  -1.0 4.46e+00    -  1.00e+00 2.61e-03h  1\n",
      "   3 -4.9745238e-02 5.52e+00 1.72e+05  -1.0 3.26e+00    -  2.42e-02 9.49e-05h  1\n",
      "   4 -4.9781238e-02 5.52e+00 1.32e+10  -1.0 4.41e+00    -  1.00e+00 1.29e-05h  1\n",
      "   5r-4.9781238e-02 5.52e+00 1.00e+03   0.7 0.00e+00    -  0.00e+00 7.29e-08R  2\n",
      "   6r-2.8095344e+00 4.43e+00 9.98e+02   0.7 1.71e+03    -  2.04e-03 3.19e-03f  1\n",
      "   7 -2.8096348e+00 4.43e+00 7.87e+02  -1.0 4.41e+00    -  1.82e-02 2.64e-05h  1\n",
      "   8r-2.8096348e+00 4.43e+00 9.99e+02   0.6 0.00e+00    -  0.00e+00 2.57e-07R  5\n",
      "   9r-3.0288958e+00 4.19e+00 9.94e+02   0.6 5.35e+01    -  1.78e-02 4.39e-03f  1\n",
      "iter    objective    inf_pr   inf_du lg(mu)  ||d||  lg(rg) alpha_du alpha_pr  ls\n",
      "  10r-7.0057703e+00 1.64e-01 9.82e+02   0.6 1.76e+02    -  1.82e-03 2.29e-02f  1\n",
      "  11 -7.0252817e+00 1.53e-01 7.65e+02  -1.0 1.66e-01    -  9.99e-01 6.64e-02h  1\n",
      "  12 -7.0253097e+00 1.53e-01 8.53e+05  -1.0 2.42e-01    -  8.45e-01 8.62e-04h  1\n",
      "  13 -7.0246053e+00 1.54e-01 4.81e+09  -1.0 4.29e+00    -  1.00e+00 1.75e-04h  1\n",
      "  14r-7.0246053e+00 1.54e-01 1.00e+03  -0.8 0.00e+00    -  0.00e+00 4.44e-07R  3\n",
      "  15r-7.2219042e+00 7.72e-02 9.86e+02  -0.8 1.25e+02    -  3.42e-02 1.21e-03f  1\n",
      "  16 -7.2219537e+00 7.72e-02 5.36e+05  -1.0 1.00e-01    -  9.92e-01 2.82e-04h  1\n",
      "  17r-7.2219537e+00 7.72e-02 1.00e+03  -1.0 0.00e+00    -  0.00e+00 3.59e-07R  5\n",
      "  18r-7.2971722e+00 1.48e-03 8.25e+02  -1.0 2.81e+01    -  1.00e+00 2.72e-03f  1\n",
      "  19 -7.2986656e+00 1.33e-03 3.57e+05  -1.0 9.69e-02    -  9.92e-01 1.52e-02h  1\n",
      "iter    objective    inf_pr   inf_du lg(mu)  ||d||  lg(rg) alpha_du alpha_pr  ls\n",
      "  20 -7.2990083e+00 5.54e-04 4.09e+05  -1.0 7.64e-03    -  1.00e+00 5.84e-01h  1\n",
      "  21 -7.2991268e+00 4.97e-04 4.17e+07  -1.0 3.17e-03    -  1.00e+00 1.03e-01h  1\n",
      "  22 -7.2991283e+00 4.96e-04 3.25e+10  -1.0 2.84e-03    -  1.00e+00 1.62e-03h  1\n",
      "  23 -7.2991039e+00 4.96e-04 4.96e+11  -1.0 9.48e-01    -  3.98e-04 2.58e-05h  1\n",
      "  24 -7.2989505e+00 5.54e-04 1.35e+12  -1.0 2.56e+00    -  1.57e-04 6.00e-05h  1\n",
      "In iteration 24, 1 Slack too small, adjusting variable bound\n",
      "  25 -7.2989490e+00 5.55e-04 1.25e+18  -1.0 1.02e+00    -  1.00e+00 1.50e-06h  1\n",
      "  26 -7.2990146e+00 5.21e-04 1.86e+19  -1.0 2.84e-03    -  1.00e+00 6.26e-02h  1\n",
      "  27 -7.2990264e+00 5.21e-04 1.18e+13  -1.0 1.18e-05  18.0 1.00e+00 1.00e+00h  1\n",
      "  28r-7.2990264e+00 5.21e-04 1.00e+03  -2.6 0.00e+00    -  0.00e+00 3.08e-07R  3\n",
      "  29r-7.2990340e+00 5.17e-04 9.96e+02  -2.6 1.58e+00    -  2.67e-01 1.29e-03f  1\n",
      "iter    objective    inf_pr   inf_du lg(mu)  ||d||  lg(rg) alpha_du alpha_pr  ls\n",
      "  30r-7.2995838e+00 4.13e-04 9.20e+02  -2.6 1.15e-02    -  5.81e-03 8.26e-02f  1\n",
      "  31 -7.3000003e+00 4.63e-05 1.75e+02  -3.8 1.76e-03    -  1.00e+00 7.35e-01h  1\n",
      "  32 -7.2999758e+00 3.59e-05 1.63e+03  -3.8 3.68e-04    -  1.00e+00 2.80e-01f  2\n",
      "  33 -7.2999810e+00 2.01e-05 9.35e+02  -3.8 2.65e-04    -  1.00e+00 7.61e-01h  1\n",
      "  34 -7.2999905e+00 1.64e-05 4.24e+03  -3.8 3.02e-04    -  1.00e+00 2.21e-01f  2\n",
      "  35 -7.3000001e+00 8.90e-06 1.02e+03  -3.8 3.23e-04    -  1.00e+00 8.46e-01h  1\n",
      "  36 -7.2999993e+00 7.36e-06 1.70e+03  -3.8 5.66e-04    -  8.11e-01 2.09e-01f  2\n",
      "  37 -7.2999997e+00 3.97e-06 3.11e+02  -3.8 6.83e-04    -  1.00e+00 8.52e-01h  1\n",
      "  38 -7.2999999e+00 3.23e-06 3.75e+02  -3.8 1.26e-03    -  6.86e-01 2.30e-01f  2\n",
      "  39 -7.3000000e+00 1.61e-06 1.33e-02  -3.8 1.55e-03    -  1.00e+00 1.00e+00h  1\n",
      "iter    objective    inf_pr   inf_du lg(mu)  ||d||  lg(rg) alpha_du alpha_pr  ls\n",
      "  40 -7.3000000e+00 8.09e-07 5.49e+01  -5.7 3.08e-03    -  5.03e-01 1.00e+00h  1\n",
      "  41 -7.3000000e+00 4.06e-07 9.35e+05  -5.7 6.19e-03    -  1.43e-02 1.00e+00h  1\n",
      "  42 -7.3000000e+00 2.03e-07 7.38e+02  -5.7 1.24e-02    -  6.53e-01 1.00e+00h  1\n",
      "  43 -7.3000000e+00 1.92e-07 7.15e+02  -5.7 2.49e-02    -  8.13e-01 5.98e-02h  1\n",
      "  44 -7.3000000e+00 9.61e-08 2.09e-03  -5.7 2.64e-02    -  1.00e+00 1.00e+00f  1\n",
      "  45 -7.3000000e+00 4.83e-08 1.10e-01  -5.7 5.33e-02    -  6.61e-01 1.00e+00h  1\n",
      "  46 -7.3000000e+00 2.44e-08 5.24e-04  -5.7 1.08e-01    -  1.00e+00 1.00e+00h  1\n",
      "  47 -7.3000000e+00 1.24e-08 4.06e-01  -5.7 2.23e-01    -  6.46e-01 1.00e+00h  1\n",
      "  48 -7.3000000e+00 6.41e-09 1.33e-04  -5.7 4.73e-01    -  1.00e+00 1.00e+00h  1\n",
      "  49 -7.3000000e+00 3.32e-09 1.10e+02  -8.6 1.03e+00    -  4.68e-01 1.00e+00h  1\n",
      "iter    objective    inf_pr   inf_du lg(mu)  ||d||  lg(rg) alpha_du alpha_pr  ls\n",
      "  50 -7.3000000e+00 1.67e-09 2.87e+01  -8.6 2.32e+00    -  7.37e-01 1.00e+00h  1\n",
      "  51 -7.3000000e+00 7.69e-10 9.77e+00  -8.6 5.13e+00    -  6.32e-01 1.00e+00h  1\n",
      "  52 -7.3000000e+00 3.28e-10 1.32e+00  -8.6 1.08e+01    -  8.63e-01 1.00e+00h  1\n",
      "  53 -7.3000000e+00 1.41e-10 5.18e-01  -8.6 2.20e+01    -  6.45e-01 1.00e+00h  1\n",
      "  54 -7.3000000e+00 6.36e-11 1.57e-06  -8.6 4.42e+01    -  1.00e+00 1.00e+00h  1\n",
      "\n",
      "Number of Iterations....: 54\n",
      "\n",
      "                                   (scaled)                 (unscaled)\n",
      "Objective...............:  -7.3000000425673290e+00   -7.3000000425673290e+00\n",
      "Dual infeasibility......:   1.5704794116851662e-06    1.5704794116851662e-06\n",
      "Constraint violation....:   6.3550942286383361e-11    6.3550942286383361e-11\n",
      "Variable bound violation:   0.0000000000000000e+00    0.0000000000000000e+00\n",
      "Complementarity.........:   5.1319842797691541e-09    5.1319842797691541e-09\n",
      "Overall NLP error.......:   5.1319842797691541e-09    1.5704794116851662e-06\n",
      "\n",
      "\n",
      "Number of objective function evaluations             = 77\n",
      "Number of objective gradient evaluations             = 53\n",
      "Number of equality constraint evaluations            = 77\n",
      "Number of inequality constraint evaluations          = 77\n",
      "Number of equality constraint Jacobian evaluations   = 60\n",
      "Number of inequality constraint Jacobian evaluations = 60\n",
      "Number of Lagrangian Hessian evaluations             = 54\n",
      "Total seconds in IPOPT                               = 3.194\n",
      "\n",
      "EXIT: Optimal Solution Found.\n"
     ]
    }
   ],
   "source": [
    "# Resolver el modelo\n",
    "optimize!(model)"
   ]
  },
  {
   "cell_type": "markdown",
   "metadata": {},
   "source": [
    "# Mostrar resultados"
   ]
  },
  {
   "cell_type": "code",
   "execution_count": 8,
   "metadata": {},
   "outputs": [
    {
     "name": "stdout",
     "output_type": "stream",
     "text": [
      "Estado de la solución: LOCALLY_SOLVED\n",
      "Valor óptimo de x: 4.500000042561648\n",
      "Valor óptimo de y1: 2.8000000000056806\n",
      "Valores óptimos de l: [90.90518892792844, 86.40518888536678]\n"
     ]
    }
   ],
   "source": [
    "# Mostrar resultados\n",
    "println(\"Estado de la solución: \", termination_status(model))\n",
    "println(\"Valor óptimo de x: \", value(x))\n",
    "println(\"Valor óptimo de y1: \", value(y))\n",
    "println(\"Valores óptimos de l: \", value.(l))"
   ]
  },
  {
   "cell_type": "code",
   "execution_count": 9,
   "metadata": {},
   "outputs": [
    {
     "data": {
      "text/plain": [
       "-7.300000042567329"
      ]
     },
     "metadata": {},
     "output_type": "display_data"
    }
   ],
   "source": [
    "objective_value(model)"
   ]
  },
  {
   "cell_type": "code",
   "execution_count": 10,
   "metadata": {},
   "outputs": [],
   "source": []
  }
 ],
 "metadata": {
  "kernelspec": {
   "display_name": "Julia 1.10.5",
   "language": "julia",
   "name": "julia-1.10"
  },
  "language_info": {
   "file_extension": ".jl",
   "mimetype": "application/julia",
   "name": "julia",
   "version": "1.10.5"
  }
 },
 "nbformat": 4,
 "nbformat_minor": 2
}
