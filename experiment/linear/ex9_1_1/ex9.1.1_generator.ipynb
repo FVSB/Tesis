{
 "cells": [
  {
   "cell_type": "markdown",
   "metadata": {},
   "source": [
    "## Importar el módulo\n"
   ]
  },
  {
   "cell_type": "code",
   "execution_count": 1,
   "metadata": {},
   "outputs": [
    {
     "data": {
      "text/plain": [
       "RunExperiment"
      ]
     },
     "metadata": {},
     "output_type": "display_data"
    }
   ],
   "source": [
    "include(\"../../new_experiment.jl\")"
   ]
  },
  {
   "cell_type": "code",
   "execution_count": 2,
   "metadata": {},
   "outputs": [
    {
     "data": {
      "text/plain": [
       "TaskLocalRNG()"
      ]
     },
     "metadata": {},
     "output_type": "display_data"
    }
   ],
   "source": [
    "using Random\n",
    "\n",
    "# Random seed\n",
    "Random.seed!(20)"
   ]
  },
  {
   "cell_type": "markdown",
   "metadata": {},
   "source": [
    "Crear un experimento\n"
   ]
  },
  {
   "cell_type": "code",
   "execution_count": 3,
   "metadata": {},
   "outputs": [
    {
     "data": {
      "text/plain": [
       "Experiment(OptimizationModel(Problem(Any[], nothing), LeaderRestrictionProblem[], Problem(Any[], nothing), FollowerRestrictionProblem[], Dict{Any, Any}(), Number[1], false), OptimizationModel(Problem(Any[], nothing), LeaderRestrictionProblem[], Problem(Any[], nothing), FollowerRestrictionProblem[], Dict{Any, Any}(), Number[], true), Any[], Any[])"
      ]
     },
     "metadata": {},
     "output_type": "display_data"
    }
   ],
   "source": [
    "experiment=CreateExperiment()"
   ]
  },
  {
   "cell_type": "markdown",
   "metadata": {},
   "source": [
    "### Declarar variables del líder\n"
   ]
  },
  {
   "cell_type": "code",
   "execution_count": 4,
   "metadata": {},
   "outputs": [
    {
     "data": {
      "text/latex": [
       "$$ \\begin{equation}\n",
       "\\left[\n",
       "\\begin{array}{c}\n",
       "x \\\\\n",
       "\\end{array}\n",
       "\\right]\n",
       "\\end{equation}\n",
       " $$"
      ],
      "text/plain": [
       "1-element Vector{Num}:\n",
       " x"
      ]
     },
     "metadata": {},
     "output_type": "display_data"
    }
   ],
   "source": [
    "@leader_vars experiment x"
   ]
  },
  {
   "cell_type": "markdown",
   "metadata": {},
   "source": [
    "### Declarar Variables del Follower"
   ]
  },
  {
   "cell_type": "code",
   "execution_count": 5,
   "metadata": {},
   "outputs": [
    {
     "data": {
      "text/latex": [
       "$$ \\begin{equation}\n",
       "\\left[\n",
       "\\begin{array}{c}\n",
       "\\mathtt{y\\_1} \\\\\n",
       "\\mathtt{y\\_2} \\\\\n",
       "\\end{array}\n",
       "\\right]\n",
       "\\end{equation}\n",
       " $$"
      ],
      "text/plain": [
       "2-element Vector{Num}:\n",
       " y_1\n",
       " y_2"
      ]
     },
     "metadata": {},
     "output_type": "display_data"
    }
   ],
   "source": [
    "@follower_vars experiment y_1,y_2"
   ]
  },
  {
   "cell_type": "markdown",
   "metadata": {},
   "source": [
    "### Declarar Función Objetivo del Líder"
   ]
  },
  {
   "cell_type": "code",
   "execution_count": 6,
   "metadata": {},
   "outputs": [
    {
     "data": {
      "text/latex": [
       "$$ \\begin{equation}\n",
       " - x - 3 \\mathtt{y\\_1} + 2 \\mathtt{y\\_2}\n",
       "\\end{equation}\n",
       " $$"
      ],
      "text/plain": [
       "-x - 3y_1 + 2y_2"
      ]
     },
     "metadata": {},
     "output_type": "display_data"
    }
   ],
   "source": [
    "SetLeaderFunction(experiment,-x-3y_1+2y_2)"
   ]
  },
  {
   "cell_type": "markdown",
   "metadata": {},
   "source": [
    "### Función objetivo del Follower"
   ]
  },
  {
   "cell_type": "code",
   "execution_count": 7,
   "metadata": {},
   "outputs": [
    {
     "data": {
      "text/latex": [
       "$$ \\begin{equation}\n",
       " - \\mathtt{y\\_1}\n",
       "\\end{equation}\n",
       " $$"
      ],
      "text/plain": [
       "-y_1"
      ]
     },
     "metadata": {},
     "output_type": "display_data"
    }
   ],
   "source": [
    "SetFollowerFunction(experiment,-y_1)"
   ]
  },
  {
   "cell_type": "markdown",
   "metadata": {},
   "source": [
    "### Restricciones del Follower"
   ]
  },
  {
   "cell_type": "code",
   "execution_count": 8,
   "metadata": {},
   "outputs": [
    {
     "data": {
      "text/plain": [
       "1-element Vector{FollowerRestrictionProblem}:\n",
       " FollowerRestrictionProblem((-y_1) <= 0, J_0_LP_v, 0.28, 0.78, 0.72)"
      ]
     },
     "metadata": {},
     "output_type": "display_data"
    }
   ],
   "source": [
    "SetFollowerRestriction(experiment,-y_1<=0)"
   ]
  },
  {
   "cell_type": "code",
   "execution_count": 9,
   "metadata": {},
   "outputs": [
    {
     "data": {
      "text/plain": [
       "2-element Vector{FollowerRestrictionProblem}:\n",
       " FollowerRestrictionProblem((-y_1) <= 0, J_0_LP_v, 0.28, 0.78, 0.72)\n",
       " FollowerRestrictionProblem(y_1 <= 4, J_0_LP_v, 0.67, 0.32, 0.81)"
      ]
     },
     "metadata": {},
     "output_type": "display_data"
    }
   ],
   "source": [
    "SetFollowerRestriction(experiment,y_1<=4)"
   ]
  },
  {
   "cell_type": "code",
   "execution_count": 10,
   "metadata": {},
   "outputs": [
    {
     "data": {
      "text/plain": [
       "3-element Vector{FollowerRestrictionProblem}:\n",
       " FollowerRestrictionProblem((-y_1) <= 0, J_0_LP_v, 0.28, 0.78, 0.72)\n",
       " FollowerRestrictionProblem(y_1 <= 4, J_0_LP_v, 0.67, 0.32, 0.81)\n",
       " FollowerRestrictionProblem((-2x + y_1 + 4y_2) <= 16, J_0_LP_v, 0.11, 0.65, 0.5)"
      ]
     },
     "metadata": {},
     "output_type": "display_data"
    }
   ],
   "source": [
    "SetFollowerRestriction(experiment,-2x+y_1+4y_2<=16)"
   ]
  },
  {
   "cell_type": "code",
   "execution_count": 11,
   "metadata": {},
   "outputs": [
    {
     "data": {
      "text/plain": [
       "4-element Vector{FollowerRestrictionProblem}:\n",
       " FollowerRestrictionProblem((-y_1) <= 0, J_0_LP_v, 0.28, 0.78, 0.72)\n",
       " FollowerRestrictionProblem(y_1 <= 4, J_0_LP_v, 0.67, 0.32, 0.81)\n",
       " FollowerRestrictionProblem((-2x + y_1 + 4y_2) <= 16, J_0_LP_v, 0.11, 0.65, 0.5)\n",
       " FollowerRestrictionProblem((8x + y_1) <= 48, J_0_LP_v, 0.78, 0.83, 0.22)"
      ]
     },
     "metadata": {},
     "output_type": "display_data"
    }
   ],
   "source": [
    "SetFollowerRestriction(experiment,8x+3y_1-2y_1<=48)"
   ]
  },
  {
   "cell_type": "code",
   "execution_count": 12,
   "metadata": {},
   "outputs": [
    {
     "data": {
      "text/plain": [
       "5-element Vector{FollowerRestrictionProblem}:\n",
       " FollowerRestrictionProblem((-y_1) <= 0, J_0_LP_v, 0.28, 0.78, 0.72)\n",
       " FollowerRestrictionProblem(y_1 <= 4, J_0_LP_v, 0.67, 0.32, 0.81)\n",
       " FollowerRestrictionProblem((-2x + y_1 + 4y_2) <= 16, J_0_LP_v, 0.11, 0.65, 0.5)\n",
       " FollowerRestrictionProblem((8x + y_1) <= 48, J_0_LP_v, 0.78, 0.83, 0.22)\n",
       " FollowerRestrictionProblem((-2x - 2y_1) <= -12, J_0_LP_v, 0.9, 0.21, 0.39)"
      ]
     },
     "metadata": {},
     "output_type": "display_data"
    }
   ],
   "source": [
    "SetFollowerRestriction(experiment,-2x+y_1-3y_1<=-12)"
   ]
  },
  {
   "cell_type": "markdown",
   "metadata": {},
   "source": [
    "### Poner el Punto Optimo"
   ]
  },
  {
   "cell_type": "code",
   "execution_count": 13,
   "metadata": {},
   "outputs": [
    {
     "data": {
      "text/plain": [
       "Dict{Any, Any} with 3 entries:\n",
       "  x   => 6.05\n",
       "  y_1 => 6.85\n",
       "  y_2 => 3.1"
      ]
     },
     "metadata": {},
     "output_type": "display_data"
    }
   ],
   "source": [
    "SetPoint(experiment,Dict(x=>5,y_1=>4,y_2=>2))"
   ]
  },
  {
   "cell_type": "markdown",
   "metadata": {},
   "source": [
    "## Iniciar el Experimento\n"
   ]
  },
  {
   "cell_type": "code",
   "execution_count": 14,
   "metadata": {},
   "outputs": [
    {
     "name": "stdout",
     "output_type": "stream",
     "text": [
      "Va a retornar correctamente\n",
      "Leader's Objective Function:\n",
      "Variable names: [:y_1, :y_2, :x]\n",
      "Expression (string): -x - 3y_1 + 2y_2\n",
      "Parsed expression: -x - 3y_1 + 2y_2\n",
      "Evaluation point: Dict{Any, Any}(\"x\" => 6.05, \"y_2\" => 3.1, \"y_1\" => 6.85)\n",
      "Evaluation value: -20.4\n",
      "Is leader function: true\n",
      "------------------------------\n",
      "Leader's Restrictions:\n",
      "------------------------------\n",
      "Follower's Objective Function:\n",
      "Variable names: [:y_1]\n",
      "Expression (string): -y_1\n",
      "Parsed expression: -y_1\n",
      "Evaluation point: Dict{Any, Any}(\"x\" => 6.05, \"y_2\" => 3.1, \"y_1\" => 6.85)\n",
      "Evaluation value: -6.85\n",
      "Is leader function: false\n",
      "------------------------------\n",
      "Follower's Restrictions:\n",
      "++++++++++++++++++++++++++++++\n",
      "Restriction 1\n",
      "Variable names: [:y_1]\n",
      "Expression (string): (-y_1) == 0\n",
      "Parsed expression: 1.8749999999999998 - 0.5y_1 + 0.5y_2\n",
      "Evaluation point: Dict{Any, Any}(\"x\" => 6.05, \"y_2\" => 3.1, \"y_1\" => 6.85)\n",
      "Evaluation value: -1.8749999999999998\n",
      "Additional constant: 1.8749999999999998\n",
      "Restriction type: LtEq\n",
      "Restriction set type: J_0_L0_v\n",
      "Value of miu: 0\n",
      "Value of beta: 0\n",
      "Value of lambda: 0.78\n",
      "Value of gamma: 0\n",
      "++++++++++++++++++++++++++++++\n",
      "++++++++++++++++++++++++++++++\n",
      "Restriction 2\n",
      "Variable names: [:y_1]\n",
      "Expression (string): y_1 == 4\n",
      "Parsed expression: -1.875 + 0.5y_1 - 0.5y_2\n",
      "Evaluation point: Dict{Any, Any}(\"x\" => 6.05, \"y_2\" => 3.1, \"y_1\" => 6.85)\n",
      "Evaluation value: -2.125\n",
      "Additional constant: 2.125\n",
      "Restriction type: LtEq\n",
      "Restriction set type: J_0_L0_v\n",
      "Value of miu: 0\n",
      "Value of beta: 0\n",
      "Value of lambda: 0.32\n",
      "Value of gamma: 0\n",
      "++++++++++++++++++++++++++++++\n",
      "++++++++++++++++++++++++++++++\n",
      "Restriction 3\n",
      "Variable names: [:y_1, :y_2, :x]\n",
      "Expression (string): (-2x + y_1 + 4y_2) == 16\n",
      "Parsed expression: 17.725 - 2x - 1.5y_1 + 1.5y_2\n",
      "Evaluation point: Dict{Any, Any}(\"x\" => 6.05, \"y_2\" => 3.1, \"y_1\" => 6.85)\n",
      "Evaluation value: -33.725\n",
      "Additional constant: 33.725\n",
      "Restriction type: LtEq\n",
      "Restriction set type: J_0_LP_v\n",
      "Value of miu: 0\n",
      "Value of beta: 0\n",
      "Value of lambda: 0.65\n",
      "Value of gamma: 0\n",
      "++++++++++++++++++++++++++++++\n",
      "++++++++++++++++++++++++++++++\n",
      "Restriction 4\n",
      "Variable names: [:y_1, :x]\n",
      "Expression (string): (8x + y_1) == 48\n",
      "Parsed expression: -79.70060975609758 + 8x - 2.9146341463414642y_1 - 3.9146341463414642y_2\n",
      "Evaluation point: Dict{Any, Any}(\"x\" => 6.05, \"y_2\" => 3.1, \"y_1\" => 6.85)\n",
      "Evaluation value: -31.70060975609757\n",
      "Additional constant: -31.70060975609757\n",
      "Restriction type: LtEq\n",
      "Restriction set type: J_Ne_L0_v\n",
      "Value of miu: 0\n",
      "Value of beta: -4.6000000000000005\n",
      "Value of lambda: 0.83\n",
      "Value of gamma: -8.4\n",
      "++++++++++++++++++++++++++++++\n",
      "++++++++++++++++++++++++++++++\n",
      "Restriction 5\n",
      "Variable names: [:y_1, :x]\n",
      "Expression (string): (-2x - 2y_1) == -12\n",
      "Parsed expression: 8.15 - 2x - y_1 + y_2\n",
      "Evaluation point: Dict{Any, Any}(\"x\" => 6.05, \"y_2\" => 3.1, \"y_1\" => 6.85)\n",
      "Evaluation value: -3.849999999999999\n",
      "Additional constant: -3.849999999999999\n",
      "Restriction type: LtEq\n",
      "Restriction set type: J_Ne_L0_v\n",
      "Value of miu: 0\n",
      "Value of beta: 0\n",
      "Value of lambda: 0.21\n",
      "Value of gamma: 0\n",
      "++++++++++++++++++++++++++++++\n",
      "------------------------------\n",
      "Evaluation Point:\n",
      "Dict{Any, Any}(\"x\" => 6.05, \"y_2\" => 3.1, \"y_1\" => 6.85)\n",
      "------------------------------\n",
      "_\n",
      "\n",
      "Num[37.800000000000004, -10.407317073170738, -20.00731707317074]\n",
      "Va a retornar correctamente\n",
      "Leader's Objective Function:\n",
      "Variable names: [:y_1, :y_2, :x]\n",
      "Expression (string): -x - 3y_1 + 2y_2\n",
      "Parsed expression: -x - 3y_1 + 2y_2\n",
      "Evaluation point: Dict{Any, Any}(\"x\" => 6.05, \"y_2\" => 3.1, \"y_1\" => 6.85)\n",
      "Evaluation value: -20.4\n",
      "Is leader function: true\n",
      "------------------------------\n",
      "Leader's Restrictions:\n",
      "------------------------------\n",
      "Follower's Objective Function:\n",
      "Variable names: [:y_1]\n",
      "Expression (string): -y_1\n",
      "Parsed expression: -y_1\n",
      "Evaluation point: Dict{Any, Any}(\"x\" => 6.05, \"y_2\" => 3.1, \"y_1\" => 6.85)\n",
      "Evaluation value: -6.85\n",
      "Is leader function: false\n",
      "------------------------------\n",
      "Follower's Restrictions:\n",
      "++++++++++++++++++++++++++++++\n",
      "Restriction 1\n",
      "Variable names: [:y_1]\n",
      "Expression (string): (-y_1) == 0\n",
      "Parsed expression: 6.85 - y_1\n",
      "Evaluation point: Dict{Any, Any}(\"x\" => 6.05, \"y_2\" => 3.1, \"y_1\" => 6.85)\n",
      "Evaluation value: -6.85\n",
      "Additional constant: 6.85\n",
      "Restriction type: LtEq\n",
      "Restriction set type: J_0_L0_v\n",
      "Value of miu: 0\n",
      "Value of beta: 0\n",
      "Value of lambda: 0.78\n",
      "Value of gamma: 0\n",
      "++++++++++++++++++++++++++++++\n",
      "++++++++++++++++++++++++++++++\n",
      "Restriction 2\n",
      "Variable names: [:y_1]\n",
      "Expression (string): y_1 == 4\n",
      "Parsed expression: -6.85 + y_1\n",
      "Evaluation point: Dict{Any, Any}(\"x\" => 6.05, \"y_2\" => 3.1, \"y_1\" => 6.85)\n",
      "Evaluation value: 2.8499999999999996\n",
      "Additional constant: -2.8499999999999996\n",
      "Restriction type: LtEq\n",
      "Restriction set type: J_0_L0_v\n",
      "Value of miu: 0\n",
      "Value of beta: 0\n",
      "Value of lambda: 0.32\n",
      "Value of gamma: 0\n",
      "++++++++++++++++++++++++++++++\n",
      "++++++++++++++++++++++++++++++\n",
      "Restriction 3\n",
      "Variable names: [:y_1, :y_2, :x]\n",
      "Expression (string): (-2x + y_1 + 4y_2) == 16\n",
      "Parsed expression: -7.15 - 2x + y_1 + 4y_2\n",
      "Evaluation point: Dict{Any, Any}(\"x\" => 6.05, \"y_2\" => 3.1, \"y_1\" => 6.85)\n",
      "Evaluation value: -8.85\n",
      "Additional constant: 8.85\n",
      "Restriction type: LtEq\n",
      "Restriction set type: J_0_LP_v\n",
      "Value of miu: 0\n",
      "Value of beta: -2.6\n",
      "Value of lambda: 0.65\n",
      "Value of gamma: -9.9\n",
      "++++++++++++++++++++++++++++++\n",
      "++++++++++++++++++++++++++++++\n",
      "Restriction 4\n",
      "Variable names: [:y_1, :x]\n",
      "Expression (string): (8x + y_1) == 48\n",
      "Parsed expression: -55.89 + 8x + y_1\n",
      "Evaluation point: Dict{Any, Any}(\"x\" => 6.05, \"y_2\" => 3.1, \"y_1\" => 6.85)\n",
      "Evaluation value: 7.249999999999998\n",
      "Additional constant: -7.889999999999998\n",
      "Restriction type: LtEq\n",
      "Restriction set type: J_Ne_L0_v\n",
      "Value of miu: 0\n",
      "Value of beta: 0\n",
      "Value of lambda: 0.83\n",
      "Value of gamma: 0\n",
      "++++++++++++++++++++++++++++++\n",
      "++++++++++++++++++++++++++++++\n",
      "Restriction 5\n",
      "Variable names: [:y_1, :x]\n",
      "Expression (string): (-2x - 2y_1) == -12\n",
      "Parsed expression: -1.799999999999999 - 2x - 2y_1\n",
      "Evaluation point: Dict{Any, Any}(\"x\" => 6.05, \"y_2\" => 3.1, \"y_1\" => 6.85)\n",
      "Evaluation value: -13.799999999999999\n",
      "Additional constant: -13.799999999999999\n",
      "Restriction type: LtEq\n",
      "Restriction set type: J_Ne_L0_v\n",
      "Value of miu: 0\n",
      "Value of beta: 0\n",
      "Value of lambda: 0.21\n",
      "Value of gamma: 0\n",
      "++++++++++++++++++++++++++++++\n",
      "------------------------------\n",
      "Evaluation Point:\n",
      "Dict{Any, Any}(\"x\" => 6.05, \"y_2\" => 3.1, \"y_1\" => 6.85)\n",
      "------------------------------\n",
      "_\n",
      "\n",
      "Num[-4.2, 5.6, 8.4]\n",
      "Se va a crear el DataFrame\n",
      "Se va a crear el DataFrame\n",
      "La carpeta ya existe: /workspaces/Tesis/experiment/linear/ex9_1_1/Experimentos_Generador\n",
      "Se va a crear el DataFrame\n",
      "La carpeta ya existe: /workspaces/Tesis/experiment/linear/ex9_1_1/Experimentos_Generador\n",
      "Experimento Completado\n",
      "Va a retornar correctamente\n",
      "Leader's Objective Function:\n",
      "Variable names: [:y_1, :y_2, :x]\n",
      "Expression (string): -x - 3y_1 + 2y_2\n",
      "Parsed expression: -x - 3y_1 + 2y_2\n",
      "Evaluation point: Dict{Any, Any}(\"x\" => 6.05, \"y_2\" => 3.1, \"y_1\" => 6.85)\n",
      "Evaluation value: -20.4\n",
      "Is leader function: true\n",
      "------------------------------\n",
      "Leader's Restrictions:\n",
      "------------------------------\n",
      "Follower's Objective Function:\n",
      "Variable names: [:y_1]\n",
      "Expression (string): -y_1\n",
      "Parsed expression: -y_1\n",
      "Evaluation point: Dict{Any, Any}(\"x\" => 6.05, \"y_2\" => 3.1, \"y_1\" => 6.85)\n",
      "Evaluation value: -6.85\n",
      "Is leader function: false\n",
      "------------------------------\n",
      "Follower's Restrictions:\n",
      "++++++++++++++++++++++++++++++\n",
      "Restriction 1\n",
      "Variable names: [:y_1]\n",
      "Expression (string): (-y_1) == 0\n",
      "Parsed expression: 0.7328737368967793 - 0.3176881669657191y_1 + 0.46557748607045046y_2\n",
      "Evaluation point: Dict{Any, Any}(\"x\" => 6.05, \"y_2\" => 3.1, \"y_1\" => 6.85)\n",
      "Evaluation value: -0.7328737368967793\n",
      "Additional constant: 0.7328737368967793\n",
      "Restriction type: LtEq\n",
      "Restriction set type: J_0_L0_v\n",
      "Value of miu: 0\n",
      "Value of beta: 6.7\n",
      "Value of lambda: 0.78\n",
      "Value of gamma: 0\n",
      "++++++++++++++++++++++++++++++\n",
      "++++++++++++++++++++++++++++++\n",
      "Restriction 2\n",
      "Variable names: [:y_1]\n",
      "Expression (string): y_1 == 4\n",
      "Parsed expression: -0.7328737368967793 + 0.3176881669657191y_1 - 0.46557748607045046y_2\n",
      "Evaluation point: Dict{Any, Any}(\"x\" => 6.05, \"y_2\" => 3.1, \"y_1\" => 6.85)\n",
      "Evaluation value: -3.2671262631032207\n",
      "Additional constant: 3.2671262631032207\n",
      "Restriction type: LtEq\n",
      "Restriction set type: J_0_L0_v\n",
      "Value of miu: 0\n",
      "Value of beta: 5.8999999999999995\n",
      "Value of lambda: 0.32\n",
      "Value of gamma: 0\n",
      "++++++++++++++++++++++++++++++\n",
      "++++++++++++++++++++++++++++++\n",
      "Restriction 3\n",
      "Variable names: [:y_1, :y_2, :x]\n",
      "Expression (string): (-2x + y_1 + 4y_2) == 16\n",
      "Parsed expression: 15.66328265180848 - 2x - 1.5446217773160824y_1 + 2.2636698460666733y_2\n",
      "Evaluation point: Dict{Any, Any}(\"x\" => 6.05, \"y_2\" => 3.1, \"y_1\" => 6.85)\n",
      "Evaluation value: -31.66328265180848\n",
      "Additional constant: 31.66328265180848\n",
      "Restriction type: LtEq\n",
      "Restriction set type: J_0_LP_v\n",
      "Value of miu: 0\n",
      "Value of beta: 0.8\n",
      "Value of lambda: 0.65\n",
      "Value of gamma: 0\n",
      "++++++++++++++++++++++++++++++\n",
      "++++++++++++++++++++++++++++++\n",
      "Restriction 4\n",
      "Variable names: [:y_1, :x]\n",
      "Expression (string): (8x + y_1) == 48\n",
      "Parsed expression: -49.83287373689678 + 8x + 0.3176881669657191y_1 - 0.46557748607045046y_2\n",
      "Evaluation point: Dict{Any, Any}(\"x\" => 6.05, \"y_2\" => 3.1, \"y_1\" => 6.85)\n",
      "Evaluation value: 1.1328737368967778\n",
      "Additional constant: -1.8328737368967778\n",
      "Restriction type: LtEq\n",
      "Restriction set type: J_Ne_L0_v\n",
      "Value of miu: 0\n",
      "Value of beta: 8.5\n",
      "Value of lambda: 0.83\n",
      "Value of gamma: 0\n",
      "++++++++++++++++++++++++++++++\n",
      "++++++++++++++++++++++++++++++\n",
      "Restriction 5\n",
      "Variable names: [:y_1, :x]\n",
      "Expression (string): (-2x - 2y_1) == -12\n",
      "Parsed expression: 10.434252526206443 - 2x - 0.6353763339314382y_1 + 0.9311549721409009y_2\n",
      "Evaluation point: Dict{Any, Any}(\"x\" => 6.05, \"y_2\" => 3.1, \"y_1\" => 6.85)\n",
      "Evaluation value: -1.5657474737935582\n",
      "Additional constant: -1.5657474737935582\n",
      "Restriction type: LtEq\n",
      "Restriction set type: J_Ne_L0_v\n",
      "Value of miu: 0\n",
      "Value of beta: 4.0\n",
      "Value of lambda: 0.21\n",
      "Value of gamma: 0\n",
      "++++++++++++++++++++++++++++++\n",
      "------------------------------\n",
      "Evaluation Point:\n",
      "Dict{Any, Any}(\"x\" => 6.05, \"y_2\" => 3.1, \"y_1\" => 6.85)\n",
      "------------------------------\n",
      "_\n",
      "\n",
      "Num[-57.400000000000006, 4.331003871942582, -3.9506091226744746]\n",
      "Va a retornar correctamente\n",
      "Leader's Objective Function:\n",
      "Variable names: [:y_1, :y_2, :x]\n",
      "Expression (string): -x - 3y_1 + 2y_2\n",
      "Parsed expression: -x - 3y_1 + 2y_2\n",
      "Evaluation point: Dict{Any, Any}(\"x\" => 6.05, \"y_2\" => 3.1, \"y_1\" => 6.85)\n",
      "Evaluation value: -20.4\n",
      "Is leader function: true\n",
      "------------------------------\n",
      "Leader's Restrictions:\n",
      "------------------------------\n",
      "Follower's Objective Function:\n",
      "Variable names: [:y_1]\n",
      "Expression (string): -y_1\n",
      "Parsed expression: -y_1\n",
      "Evaluation point: Dict{Any, Any}(\"x\" => 6.05, \"y_2\" => 3.1, \"y_1\" => 6.85)\n",
      "Evaluation value: -6.85\n",
      "Is leader function: false\n",
      "------------------------------\n",
      "Follower's Restrictions:\n",
      "++++++++++++++++++++++++++++++\n",
      "Restriction 1\n",
      "Variable names: [:y_1]\n",
      "Expression (string): (-y_1) == 0\n",
      "Parsed expression: 6.85 - y_1\n",
      "Evaluation point: Dict{Any, Any}(\"x\" => 6.05, \"y_2\" => 3.1, \"y_1\" => 6.85)\n",
      "Evaluation value: -6.85\n",
      "Additional constant: 6.85\n",
      "Restriction type: LtEq\n",
      "Restriction set type: J_0_L0_v\n",
      "Value of miu: 0\n",
      "Value of beta: 0\n",
      "Value of lambda: 0.78\n",
      "Value of gamma: 4.0\n",
      "++++++++++++++++++++++++++++++\n",
      "++++++++++++++++++++++++++++++\n",
      "Restriction 2\n",
      "Variable names: [:y_1]\n",
      "Expression (string): y_1 == 4\n",
      "Parsed expression: -6.85 + y_1\n",
      "Evaluation point: Dict{Any, Any}(\"x\" => 6.05, \"y_2\" => 3.1, \"y_1\" => 6.85)\n",
      "Evaluation value: 2.8499999999999996\n",
      "Additional constant: -2.8499999999999996\n",
      "Restriction type: LtEq\n",
      "Restriction set type: J_0_L0_v\n",
      "Value of miu: 0\n",
      "Value of beta: 7.3\n",
      "Value of lambda: 0.32\n",
      "Value of gamma: 0\n",
      "++++++++++++++++++++++++++++++\n",
      "++++++++++++++++++++++++++++++\n",
      "Restriction 3\n",
      "Variable names: [:y_1, :y_2, :x]\n",
      "Expression (string): (-2x + y_1 + 4y_2) == 16\n",
      "Parsed expression: -7.15 - 2x + y_1 + 4y_2\n",
      "Evaluation point: Dict{Any, Any}(\"x\" => 6.05, \"y_2\" => 3.1, \"y_1\" => 6.85)\n",
      "Evaluation value: -8.85\n",
      "Additional constant: 8.85\n",
      "Restriction type: LtEq\n",
      "Restriction set type: J_0_LP_v\n",
      "Value of miu: 0\n",
      "Value of beta: 0\n",
      "Value of lambda: 0.65\n",
      "Value of gamma: 9.200000000000001\n",
      "++++++++++++++++++++++++++++++\n",
      "++++++++++++++++++++++++++++++\n",
      "Restriction 4\n",
      "Variable names: [:y_1, :x]\n",
      "Expression (string): (8x + y_1) == 48\n",
      "Parsed expression: -55.36 + 8x + y_1\n",
      "Evaluation point: Dict{Any, Any}(\"x\" => 6.05, \"y_2\" => 3.1, \"y_1\" => 6.85)\n",
      "Evaluation value: 7.249999999999998\n",
      "Additional constant: -7.3599999999999985\n",
      "Restriction type: LtEq\n",
      "Restriction set type: J_Ne_L0_v\n",
      "Value of miu: 0\n",
      "Value of beta: 0\n",
      "Value of lambda: 0.83\n",
      "Value of gamma: 5.699999999999999\n",
      "++++++++++++++++++++++++++++++\n",
      "++++++++++++++++++++++++++++++\n",
      "Restriction 5\n",
      "Variable names: [:y_1, :x]\n",
      "Expression (string): (-2x - 2y_1) == -12\n",
      "Parsed expression: -1.799999999999999 - 2x - 2y_1\n",
      "Evaluation point: Dict{Any, Any}(\"x\" => 6.05, \"y_2\" => 3.1, \"y_1\" => 6.85)\n",
      "Evaluation value: -13.799999999999999\n",
      "Additional constant: -13.799999999999999\n",
      "Restriction type: LtEq\n",
      "Restriction set type: J_Ne_L0_v\n",
      "Value of miu: 0\n",
      "Value of beta: 3.5999999999999996\n",
      "Value of lambda: 0.21\n",
      "Value of gamma: 0\n",
      "++++++++++++++++++++++++++++++\n",
      "------------------------------\n",
      "Evaluation Point:\n",
      "Dict{Any, Any}(\"x\" => 6.05, \"y_2\" => 3.1, \"y_1\" => 6.85)\n",
      "------------------------------\n",
      "_\n",
      "\n",
      "Num[8.2, 2.8999999999999995, -2.0]\n",
      "Se va a crear el DataFrame\n",
      "Se va a crear el DataFrame\n",
      "La carpeta ya existe: /workspaces/Tesis/experiment/linear/ex9_1_1/Experimentos_Generador\n",
      "Se va a crear el DataFrame\n",
      "La carpeta ya existe: /workspaces/Tesis/experiment/linear/ex9_1_1/Experimentos_Generador\n",
      "Experimento Completado\n",
      "Va a retornar correctamente\n",
      "Leader's Objective Function:\n",
      "Variable names: [:y_1, :y_2, :x]\n",
      "Expression (string): -x - 3y_1 + 2y_2\n",
      "Parsed expression: -x - 3y_1 + 2y_2\n",
      "Evaluation point: Dict{Any, Any}(\"x\" => 6.05, \"y_2\" => 3.1, \"y_1\" => 6.85)\n",
      "Evaluation value: -20.4\n",
      "Is leader function: true\n",
      "------------------------------\n",
      "Leader's Restrictions:\n",
      "------------------------------\n",
      "Follower's Objective Function:\n",
      "Variable names: [:y_1]\n",
      "Expression (string): -y_1\n",
      "Parsed expression: -y_1\n",
      "Evaluation point: Dict{Any, Any}(\"x\" => 6.05, \"y_2\" => 3.1, \"y_1\" => 6.85)\n",
      "Evaluation value: -6.85\n",
      "Is leader function: false\n",
      "------------------------------\n",
      "Follower's Restrictions:\n",
      "++++++++++++++++++++++++++++++\n",
      "Restriction 1\n",
      "Variable names: [:y_1]\n",
      "Expression (string): (-y_1) == 0\n",
      "Parsed expression: -14.234761259225785 + 0.6946226841391774y_1 + 3.0569664106040064y_2\n",
      "Evaluation point: Dict{Any, Any}(\"x\" => 6.05, \"y_2\" => 3.1, \"y_1\" => 6.85)\n",
      "Evaluation value: 14.234761259225785\n",
      "Additional constant: -14.234761259225785\n",
      "Restriction type: LtEq\n",
      "Restriction set type: J_0_L0_v\n",
      "Value of miu: 0\n",
      "Value of beta: 0.1\n",
      "Value of lambda: 0.78\n",
      "Value of gamma: 9.5\n",
      "++++++++++++++++++++++++++++++\n",
      "++++++++++++++++++++++++++++++\n",
      "Restriction 2\n",
      "Variable names: [:y_1]\n",
      "Expression (string): y_1 == 4\n",
      "Parsed expression: -19.79141738213586 + 2.040126525079078y_1 + 1.8763066726916702y_2\n",
      "Evaluation point: Dict{Any, Any}(\"x\" => 6.05, \"y_2\" => 3.1, \"y_1\" => 6.85)\n",
      "Evaluation value: 15.79141738213586\n",
      "Additional constant: -15.79141738213586\n",
      "Restriction type: LtEq\n",
      "Restriction set type: J_0_L0_v\n",
      "Value of miu: 0\n",
      "Value of beta: 9.200000000000001\n",
      "Value of lambda: 0.32\n",
      "Value of gamma: 8.299999999999999\n",
      "++++++++++++++++++++++++++++++\n",
      "++++++++++++++++++++++++++++++\n",
      "Restriction 3\n",
      "Variable names: [:y_1, :y_2, :x]\n",
      "Expression (string): (-2x + y_1 + 4y_2) == 16\n",
      "Parsed expression: 16.8785991866245 - 2x - 0.9312245820153637y_1 + 0.5162223226389515y_2\n",
      "Evaluation point: Dict{Any, Any}(\"x\" => 6.05, \"y_2\" => 3.1, \"y_1\" => 6.85)\n",
      "Evaluation value: -32.8785991866245\n",
      "Additional constant: 32.8785991866245\n",
      "Restriction type: LtEq\n",
      "Restriction set type: J_0_LP_v\n",
      "Value of miu: 0\n",
      "Value of beta: 1.1\n",
      "Value of lambda: 0.65\n",
      "Value of gamma: 5.1\n",
      "++++++++++++++++++++++++++++++\n",
      "++++++++++++++++++++++++++++++\n",
      "Restriction 4\n",
      "Variable names: [:y_1, :x]\n",
      "Expression (string): (8x + y_1) == 48\n",
      "Parsed expression: -54.93686097303811 + 8x + 0.9185720741075463y_1 - 0.1468895918059949y_2\n",
      "Evaluation point: Dict{Any, Any}(\"x\" => 6.05, \"y_2\" => 3.1, \"y_1\" => 6.85)\n",
      "Evaluation value: 6.236860973038106\n",
      "Additional constant: -6.936860973038106\n",
      "Restriction type: LtEq\n",
      "Restriction set type: J_Ne_L0_v\n",
      "Value of miu: 0\n",
      "Value of beta: 0.7000000000000001\n",
      "Value of lambda: 0.83\n",
      "Value of gamma: 1.0\n",
      "++++++++++++++++++++++++++++++\n",
      "++++++++++++++++++++++++++++++\n",
      "Restriction 5\n",
      "Variable names: [:y_1, :x]\n",
      "Expression (string): (-2x - 2y_1) == -12\n",
      "Parsed expression: 2.4174664859165524 - 2x - 0.16249435155896963y_1 + 3.314716071697545y_2\n",
      "Evaluation point: Dict{Any, Any}(\"x\" => 6.05, \"y_2\" => 3.1, \"y_1\" => 6.85)\n",
      "Evaluation value: 9.062533514083448\n",
      "Additional constant: -9.582533514083448\n",
      "Restriction type: LtEq\n",
      "Restriction set type: J_Ne_L0_v\n",
      "Value of miu: 0\n",
      "Value of beta: 2.5\n",
      "Value of lambda: 0.21\n",
      "Value of gamma: 8.9\n",
      "++++++++++++++++++++++++++++++\n",
      "------------------------------\n",
      "Evaluation Point:\n",
      "Dict{Any, Any}(\"x\" => 6.05, \"y_2\" => 3.1, \"y_1\" => 6.85)\n",
      "------------------------------\n",
      "_\n",
      "\n",
      "Num[2.5999999999999996, -15.051043831902398, -28.319530049706284]\n",
      "Va a retornar correctamente\n",
      "Leader's Objective Function:\n",
      "Variable names: [:y_1, :y_2, :x]\n",
      "Expression (string): -x - 3y_1 + 2y_2\n",
      "Parsed expression: -x - 3y_1 + 2y_2\n",
      "Evaluation point: Dict{Any, Any}(\"x\" => 6.05, \"y_2\" => 3.1, \"y_1\" => 6.85)\n",
      "Evaluation value: -20.4\n",
      "Is leader function: true\n",
      "------------------------------\n",
      "Leader's Restrictions:\n",
      "------------------------------\n",
      "Follower's Objective Function:\n",
      "Variable names: [:y_1]\n",
      "Expression (string): -y_1\n",
      "Parsed expression: -y_1\n",
      "Evaluation point: Dict{Any, Any}(\"x\" => 6.05, \"y_2\" => 3.1, \"y_1\" => 6.85)\n",
      "Evaluation value: -6.85\n",
      "Is leader function: false\n",
      "------------------------------\n",
      "Follower's Restrictions:\n",
      "++++++++++++++++++++++++++++++\n",
      "Restriction 1\n",
      "Variable names: [:y_1]\n",
      "Expression (string): (-y_1) == 0\n",
      "Parsed expression: 6.85 - y_1\n",
      "Evaluation point: Dict{Any, Any}(\"x\" => 6.05, \"y_2\" => 3.1, \"y_1\" => 6.85)\n",
      "Evaluation value: -6.85\n",
      "Additional constant: 6.85\n",
      "Restriction type: LtEq\n",
      "Restriction set type: J_0_L0_v\n",
      "Value of miu: 0\n",
      "Value of beta: 2.5\n",
      "Value of lambda: 0.78\n",
      "Value of gamma: 9.5\n",
      "++++++++++++++++++++++++++++++\n",
      "++++++++++++++++++++++++++++++\n",
      "Restriction 2\n",
      "Variable names: [:y_1]\n",
      "Expression (string): y_1 == 4\n",
      "Parsed expression: -6.85 + y_1\n",
      "Evaluation point: Dict{Any, Any}(\"x\" => 6.05, \"y_2\" => 3.1, \"y_1\" => 6.85)\n",
      "Evaluation value: 2.8499999999999996\n",
      "Additional constant: -2.8499999999999996\n",
      "Restriction type: LtEq\n",
      "Restriction set type: J_0_L0_v\n",
      "Value of miu: 0\n",
      "Value of beta: 8.9\n",
      "Value of lambda: 0.32\n",
      "Value of gamma: 9.3\n",
      "++++++++++++++++++++++++++++++\n",
      "++++++++++++++++++++++++++++++\n",
      "Restriction 3\n",
      "Variable names: [:y_1, :y_2, :x]\n",
      "Expression (string): (-2x + y_1 + 4y_2) == 16\n",
      "Parsed expression: -7.15 - 2x + y_1 + 4y_2\n",
      "Evaluation point: Dict{Any, Any}(\"x\" => 6.05, \"y_2\" => 3.1, \"y_1\" => 6.85)\n",
      "Evaluation value: -8.85\n",
      "Additional constant: 8.85\n",
      "Restriction type: LtEq\n",
      "Restriction set type: J_0_LP_v\n",
      "Value of miu: 0\n",
      "Value of beta: 0.2\n",
      "Value of lambda: 0.65\n",
      "Value of gamma: 8.0\n",
      "++++++++++++++++++++++++++++++\n",
      "++++++++++++++++++++++++++++++\n",
      "Restriction 4\n",
      "Variable names: [:y_1, :x]\n",
      "Expression (string): (8x + y_1) == 48\n",
      "Parsed expression: -55.39 + 8x + y_1\n",
      "Evaluation point: Dict{Any, Any}(\"x\" => 6.05, \"y_2\" => 3.1, \"y_1\" => 6.85)\n",
      "Evaluation value: 7.249999999999998\n",
      "Additional constant: -7.389999999999998\n",
      "Restriction type: LtEq\n",
      "Restriction set type: J_Ne_L0_v\n",
      "Value of miu: 0\n",
      "Value of beta: 0.2\n",
      "Value of lambda: 0.83\n",
      "Value of gamma: 4.9\n",
      "++++++++++++++++++++++++++++++\n",
      "++++++++++++++++++++++++++++++\n",
      "Restriction 5\n",
      "Variable names: [:y_1, :x]\n",
      "Expression (string): (-2x - 2y_1) == -12\n",
      "Parsed expression: -1.799999999999999 - 2x - 2y_1\n",
      "Evaluation point: Dict{Any, Any}(\"x\" => 6.05, \"y_2\" => 3.1, \"y_1\" => 6.85)\n",
      "Evaluation value: -13.799999999999999\n",
      "Additional constant: -13.799999999999999\n",
      "Restriction type: LtEq\n",
      "Restriction set type: J_Ne_L0_v\n",
      "Value of miu: 0\n",
      "Value of beta: 3.0\n",
      "Value of lambda: 0.21\n",
      "Value of gamma: 0.5\n",
      "++++++++++++++++++++++++++++++\n",
      "------------------------------\n",
      "Evaluation Point:\n",
      "Dict{Any, Any}(\"x\" => 6.05, \"y_2\" => 3.1, \"y_1\" => 6.85)\n",
      "------------------------------\n",
      "_\n",
      "\n",
      "Num[5.8, 2.1999999999999993, -2.8]\n",
      "Se va a crear el DataFrame\n",
      "Se va a crear el DataFrame\n",
      "La carpeta ya existe: /workspaces/Tesis/experiment/linear/ex9_1_1/Experimentos_Generador\n",
      "Se va a crear el DataFrame\n",
      "La carpeta ya existe: /workspaces/Tesis/experiment/linear/ex9_1_1/Experimentos_Generador\n",
      "Experimento Completado\n",
      "Finilizado el experimento completo\n"
     ]
    }
   ],
   "source": [
    "RunExperiment(experiment,\"(ex9.1.1(Linear))\",true)"
   ]
  }
 ],
 "metadata": {
  "kernelspec": {
   "display_name": "Julia 1.11.2",
   "language": "julia",
   "name": "julia-1.11"
  },
  "language_info": {
   "file_extension": ".jl",
   "mimetype": "application/julia",
   "name": "julia",
   "version": "1.11.2"
  }
 },
 "nbformat": 4,
 "nbformat_minor": 2
}
