{
 "cells": [
  {
   "cell_type": "markdown",
   "metadata": {},
   "source": [
    "# Imports\n"
   ]
  },
  {
   "cell_type": "code",
   "execution_count": 1,
   "metadata": {},
   "outputs": [],
   "source": [
    "using BenchmarkTools\n",
    "using XLSX\n",
    "using DataFrames\n",
    "using BilevelJuMP, HiGHS, Ipopt, SCIP\n",
    "using BenchmarkTools"
   ]
  },
  {
   "cell_type": "markdown",
   "metadata": {},
   "source": [
    "### Funcion que crea o sobrescribe el xlsx"
   ]
  },
  {
   "cell_type": "code",
   "execution_count": 2,
   "metadata": {},
   "outputs": [
    {
     "data": {
      "text/plain": [
       "serialize_in_xlsx (generic function with 1 method)"
      ]
     },
     "metadata": {},
     "output_type": "display_data"
    }
   ],
   "source": [
    "function serialize_in_xlsx(df,file_name::String)\n",
    "    sheet_name=\"Data\"\n",
    "    all_name=\"$file_name.xlsx\"\n",
    "    if !isfile(all_name) # Si no existe creo y lo guardo\n",
    "        \n",
    "        XLSX.writetable(all_name, sheet_name =>df; overwrite=true )\n",
    "        return all_name\n",
    "    end\n",
    "    \n",
    "        # Si existe el archivo\n",
    "        # Leer la tabla desde el archivo Excel\n",
    "        tabla = XLSX.readtable(all_name,sheet_name)\n",
    "        # Convertir en un DataFrame\n",
    "        old_df=DataFrame(tabla)\n",
    "        # Concatenar los Dataframes\n",
    "        new_df=vcat(old_df, df)\n",
    "        # Reescribir y guardar el nuevo xlsx\n",
    "        XLSX.writetable(all_name, sheet_name => new_df; overwrite=true )\n",
    "        return all_name\n",
    "        \n",
    "end\n",
    "    \n",
    "    \n"
   ]
  },
  {
   "cell_type": "markdown",
   "metadata": {},
   "source": [
    "Funcion que despues escribe en un excel el ejemplo"
   ]
  },
  {
   "cell_type": "code",
   "execution_count": 3,
   "metadata": {},
   "outputs": [
    {
     "data": {
      "text/plain": [
       "add_to_dataframe_vars_value (generic function with 1 method)"
      ]
     },
     "metadata": {},
     "output_type": "display_data"
    }
   ],
   "source": [
    "function add_to_dataframe_vars_value(df,var_vector::Vector,var_name::String)\n",
    "    # Insertar una nueva columna al final\n",
    "    for i in 1:length(var_vector)\n",
    "        insertcols!(df, ncol(df) + 1,\"$var_name: $i\"=>BilevelJuMP.value(var_vector[i]) )\n",
    "    end\n",
    "    return df\n",
    "end"
   ]
  },
  {
   "cell_type": "code",
   "execution_count": 4,
   "metadata": {},
   "outputs": [
    {
     "data": {
      "text/plain": [
       "create_dataframe (generic function with 1 method)"
      ]
     },
     "metadata": {},
     "output_type": "display_data"
    }
   ],
   "source": [
    "function create_dataframe(model,x,y,name_optimize_method::String)\n",
    "    println(\"optimize Method: $name_optimize_method\")\n",
    "    # Escribir el resultado de la solucion primal\n",
    "    p_s=string(BilevelJuMP.primal_status(model))\n",
    "    println(\"Primal Status: $p_s\")\n",
    "    # Escribir el codigo y tipo de terminacion\n",
    "    t_s=string(BilevelJuMP.termination_status(model))\n",
    "    println(\"Termination Status: $t_s\")\n",
    "    # Objetive value\n",
    "    o_v=BilevelJuMP.objective_value(model)\n",
    "    # Objetive value Upper Level\n",
    "    o_v_u=BilevelJuMP.objective_value(Upper(model))\n",
    "    \n",
    "    println(\"Objetive Value $o_v\")\n",
    "    # Lider Vars Value\n",
    "    l_vars=BilevelJuMP.value.(x)\n",
    "    println(\"Lider Vars: $l_vars\")\n",
    "    # Follower Vars Value\n",
    "    f_vars=BilevelJuMP.value.(y)\n",
    "    println(\"Followers Vars Value $f_vars\")\n",
    "\n",
    "    resultado=@benchmark optimize!(model)\n",
    "    # Extraer los tiempos y otros datos relevantes\n",
    "    tiempos = resultado.times  # Tiempos en nanosegundos\n",
    "    min_tiempo = minimum(tiempos) / 1e9  # Tiempo mínimo en segundos\n",
    "    max_tiempo = maximum(tiempos) / 1e9  # Tiempo máximo en segundos\n",
    "    promedio_tiempo = mean(tiempos) / 1e9  # Tiempo promedio en segundos\n",
    "    \n",
    "    # Extraer el uso de recursos\n",
    "    num_asignaciones = sum(resultado.allocs)  # Total de asignaciones de memoria\n",
    "    memoria_usada = maximum(resultado.memory) / (1024^2)  # Memoria máxima usada en MB\n",
    "\n",
    "    # Crear un DataFrame para almacenar los resultados\n",
    "    df_resultados = DataFrame(\n",
    "    Optimize_Method=name_optimize_method,\n",
    "    Estatus_Primal=p_s,\n",
    "    Estatus_Terminación=t_s,\n",
    "    Valor_Objetivo=o_v,\n",
    "    \n",
    "    Tiempo_Mínimo=min_tiempo,\n",
    "    Tiempo_Máximo=max_tiempo,\n",
    "    Tiempo_Promedio=promedio_tiempo,\n",
    "    Asignaciones_Memoria=num_asignaciones,\n",
    "    Memoria_MB=memoria_usada\n",
    "    )\n",
    "    # Añadir el valor de las x_s \n",
    "    df_resultados=add_to_dataframe_vars_value(df_resultados,x,\"X_s\")\n",
    "    # Anadir el valor de las y_s\n",
    "    df_resultados=add_to_dataframe_vars_value(df_resultados,y,\"Y_s\")\n",
    "\n",
    "    return df_resultados\n",
    "\n",
    "end"
   ]
  },
  {
   "cell_type": "code",
   "execution_count": 5,
   "metadata": {},
   "outputs": [
    {
     "data": {
      "text/plain": [
       "make_experiment (generic function with 1 method)"
      ]
     },
     "metadata": {},
     "output_type": "display_data"
    }
   ],
   "source": [
    "function make_experiment(model_with_optimizer,x_s,y_s,optimizer_name::String,problem_name::String)\n",
    "    # Mandar a optimizar el modelo \n",
    "    optimize!(model)\n",
    "    # Crear el dataframe de respuesta\n",
    "    df= create_dataframe(model,x_s,y_s,optimizer_name)\n",
    "    # Ahora serializar en un xlxs los datos con el nombre del modelo\n",
    "    # Guardar el DataFrame en un archivo Excel\n",
    "    file_name=serialize_in_xlsx(df,problem_name)\n",
    "\n",
    " \n",
    "\n",
    "    # Mostrar mensaje de confirmación\n",
    "    println(\"El DataFrame ha sido guardado en $file_name en la hoja $problem_name.\")\n",
    "end"
   ]
  },
  {
   "cell_type": "markdown",
   "metadata": {},
   "source": [
    "Sacar el tiempo y uso de memoria"
   ]
  },
  {
   "cell_type": "markdown",
   "metadata": {},
   "source": [
    "# Crear el modelo del experimento"
   ]
  },
  {
   "cell_type": "code",
   "execution_count": 6,
   "metadata": {},
   "outputs": [
    {
     "data": {
      "text/plain": [
       "An Abstract JuMP Model\n",
       "Feasibility problem with:\n",
       "Variables: 0\n",
       "Upper Constraints: 0\n",
       "Lower Constraints: 0\n",
       "Bilevel Model\n",
       "Solution method: BilevelJuMP.NoMode{Float64}\n",
       "No solver attached"
      ]
     },
     "metadata": {},
     "output_type": "display_data"
    }
   ],
   "source": [
    "model = BilevelModel()"
   ]
  },
  {
   "cell_type": "code",
   "execution_count": 7,
   "metadata": {},
   "outputs": [
    {
     "data": {
      "text/latex": [
       "$ y $"
      ],
      "text/plain": [
       "y"
      ]
     },
     "metadata": {},
     "output_type": "display_data"
    }
   ],
   "source": [
    "BilevelJuMP.@variable(Lower(model), x)\n",
    "BilevelJuMP.@variable(Upper(model), y)"
   ]
  },
  {
   "cell_type": "code",
   "execution_count": 8,
   "metadata": {},
   "outputs": [
    {
     "data": {
      "text/latex": [
       "$ 3 x + y $"
      ],
      "text/plain": [
       "3 x + y"
      ]
     },
     "metadata": {},
     "output_type": "display_data"
    }
   ],
   "source": [
    "BilevelJuMP.@objective(Upper(model), Min, 3x + y)"
   ]
  },
  {
   "cell_type": "code",
   "execution_count": 9,
   "metadata": {},
   "outputs": [
    {
     "data": {
      "text/plain": [
       "(x ≤ 5, y ≤ 8, y ≥ 0)"
      ]
     },
     "metadata": {},
     "output_type": "display_data"
    }
   ],
   "source": [
    "BilevelJuMP.@constraints(Upper(model), begin\n",
    "    x <= 5\n",
    "    y <= 8\n",
    "    y >= 0\n",
    "end)"
   ]
  },
  {
   "cell_type": "code",
   "execution_count": 10,
   "metadata": {},
   "outputs": [
    {
     "data": {
      "text/latex": [
       "$ -x $"
      ],
      "text/plain": [
       "-x"
      ]
     },
     "metadata": {},
     "output_type": "display_data"
    }
   ],
   "source": [
    "BilevelJuMP.@objective(Lower(model), Min, -x)"
   ]
  },
  {
   "cell_type": "code",
   "execution_count": 11,
   "metadata": {},
   "outputs": [
    {
     "data": {
      "text/latex": [
       "$ -x + 9.0 \\times 10^{-6} $"
      ],
      "text/plain": [
       "-x + 9.0e-6"
      ]
     },
     "metadata": {},
     "output_type": "display_data"
    }
   ],
   "source": [
    "BilevelJuMP.@objective(Lower(model), Max, -x+0.000009)"
   ]
  },
  {
   "cell_type": "code",
   "execution_count": 12,
   "metadata": {},
   "outputs": [
    {
     "data": {
      "text/plain": [
       "(c1 : x + y ≤ 8, c2 : 4 x + y ≥ 8, c3 : 2 x + y ≤ 13, c4 : 2 x - 7 y ≤ 0)"
      ]
     },
     "metadata": {},
     "output_type": "display_data"
    }
   ],
   "source": [
    "\n",
    "\n",
    "\n",
    "\n",
    "\n",
    "\n",
    "BilevelJuMP.@constraints(Lower(model), begin\n",
    "    c1,  x +  y <= 8\n",
    "    c2, 4x +  y >= 8\n",
    "    c3, 2x +  y <= 13\n",
    "    c4, 2x - 7y <= 0\n",
    "end)"
   ]
  },
  {
   "cell_type": "code",
   "execution_count": 13,
   "metadata": {},
   "outputs": [
    {
     "data": {
      "text/plain": [
       "An Abstract JuMP Model\n",
       "Maximization problem with:\n",
       "Variables: 2\n",
       "Lower objective function type: \n",
       "GenericAffExpr{Float64, BilevelVariableRef}\n",
       "Lower Constraints: 4Bilevel Model\n",
       "Solution method: BilevelJuMP.NoMode{Float64}\n",
       "No solver attached\n",
       "Names registered in the model: c1, c2, c3, c4, x, y"
      ]
     },
     "metadata": {},
     "output_type": "display_data"
    }
   ],
   "source": [
    "Lower(model)"
   ]
  },
  {
   "cell_type": "markdown",
   "metadata": {},
   "source": [
    "## Using HiGHS Optimizer"
   ]
  },
  {
   "cell_type": "markdown",
   "metadata": {},
   "source": [
    "### SOS1"
   ]
  },
  {
   "cell_type": "markdown",
   "metadata": {},
   "source": [
    "### Product Mode"
   ]
  },
  {
   "cell_type": "code",
   "execution_count": 14,
   "metadata": {},
   "outputs": [],
   "source": []
  }
 ],
 "metadata": {
  "kernelspec": {
   "display_name": "Julia 1.8.5",
   "language": "julia",
   "name": "julia-1.8"
  },
  "language_info": {
   "file_extension": ".jl",
   "mimetype": "application/julia",
   "name": "julia",
   "version": "1.8.5"
  }
 },
 "nbformat": 4,
 "nbformat_minor": 2
}
