{
 "cells": [
  {
   "cell_type": "markdown",
   "metadata": {},
   "source": [
    "## Importaciones necesarias"
   ]
  },
  {
   "cell_type": "code",
   "execution_count": 1,
   "metadata": {},
   "outputs": [],
   "source": [
    "using JuMP, Ipopt, Complementarity"
   ]
  },
  {
   "cell_type": "markdown",
   "metadata": {},
   "source": [
    "# Crear el modelo"
   ]
  },
  {
   "cell_type": "code",
   "execution_count": 2,
   "metadata": {},
   "outputs": [
    {
     "data": {
      "text/plain": [
       "A JuMP Model\n",
       "├ solver: Ipopt\n",
       "├ objective_sense: FEASIBILITY_SENSE\n",
       "├ num_variables: 0\n",
       "├ num_constraints: 0\n",
       "└ Names registered in the model: none"
      ]
     },
     "metadata": {},
     "output_type": "display_data"
    }
   ],
   "source": [
    "# Crear el modelo\n",
    "model = Model(Ipopt.Optimizer)"
   ]
  },
  {
   "cell_type": "markdown",
   "metadata": {},
   "source": [
    "## Definir Variables\n"
   ]
  },
  {
   "cell_type": "code",
   "execution_count": 3,
   "metadata": {},
   "outputs": [
    {
     "data": {
      "text/plain": [
       "3-element Vector{VariableRef}:\n",
       " l[1]\n",
       " l[2]\n",
       " l[3]"
      ]
     },
     "metadata": {},
     "output_type": "display_data"
    }
   ],
   "source": [
    "# Nivel superior\n",
    "@variable(model,x)\n",
    "# Nivel Inferior\n",
    "@variable(model,y)\n",
    "# Complementariedad\n",
    "@variable(model,l[1:3])"
   ]
  },
  {
   "cell_type": "markdown",
   "metadata": {},
   "source": [
    "## Definir Objetivo\n"
   ]
  },
  {
   "cell_type": "code",
   "execution_count": 4,
   "metadata": {},
   "outputs": [
    {
     "data": {
      "text/latex": [
       "$ x^2 $"
      ],
      "text/plain": [
       "x²"
      ]
     },
     "metadata": {},
     "output_type": "display_data"
    }
   ],
   "source": [
    "@objective(model,Min,x^2)"
   ]
  },
  {
   "cell_type": "markdown",
   "metadata": {},
   "source": [
    "## Definir Restricciones\n"
   ]
  },
  {
   "cell_type": "code",
   "execution_count": 5,
   "metadata": {},
   "outputs": [
    {
     "data": {
      "text/latex": [
       "$$ ((0.21 - 1.43 * y) + (-0.5 + x) * y ^ {2.0}) - 0.0 \\leq 0 $$"
      ],
      "text/plain": [
       "((0.21 - 1.43 * y) + (-0.5 + x) * y ^ 2.0) - 0.0 <= 0"
      ]
     },
     "metadata": {},
     "output_type": "display_data"
    }
   ],
   "source": [
    "@NLconstraint(model,1+(-0.26l[1]+3.17l[2]+(l[3]*(2*y*(x-0.25))-1.43l[3]))==0) # Obj nivel inferior\n",
    "@NLconstraint(model,(0.21 - 1.43y + (-0.5 + x)*(y^2))<=0 )#vs"
   ]
  },
  {
   "cell_type": "code",
   "execution_count": 6,
   "metadata": {},
   "outputs": [
    {
     "data": {
      "text/plain": [
       "(-x <= -2.89, x <= 2.89, -9 x² + x - y <= -72.57, -0.26 y <= -0.08, 3.17 y <= 1.05)"
      ]
     },
     "metadata": {},
     "output_type": "display_data"
    }
   ],
   "source": [
    "@constraints(model,begin\n",
    "2.89 - x<=0  #gs\n",
    "-2.89 + x<=0  #gs\n",
    "72.57 + x - y - 9(x^2)<=0 #gs\n",
    "0.08 - 0.26y<=0  #vs\n",
    "-1.05 + 3.17y<=0 #vs\n",
    "\n",
    "end)"
   ]
  },
  {
   "cell_type": "markdown",
   "metadata": {},
   "source": [
    "## Definir variables Complementarias"
   ]
  },
  {
   "cell_type": "code",
   "execution_count": 7,
   "metadata": {},
   "outputs": [
    {
     "data": {
      "text/latex": [
       "$$ (sqrt(l[3] ^ {2.0} + (-(((0.21 + -1.43 * y) + (-0.5 + x) * (y * y))) - 0.0) ^ {2.0} + 1.0e-8) - (l[3] + (-(((0.21 + -1.43 * y) + (-0.5 + x) * (y * y))) - 0.0))) - 0.0 = 0 $$"
      ],
      "text/plain": [
       "(sqrt(l[3] ^ 2.0 + (-(((0.21 + -1.43 * y) + (-0.5 + x) * (y * y))) - 0.0) ^ 2.0 + 1.0e-8) - (l[3] + (-(((0.21 + -1.43 * y) + (-0.5 + x) * (y * y))) - 0.0))) - 0.0 == 0"
      ]
     },
     "metadata": {},
     "output_type": "display_data"
    }
   ],
   "source": [
    "@complements(model,0<=-(0.08 - 0.26y),l[1]>=0)\n",
    "@complements(model,0<=-(-1.05 + 3.17),l[2]>=0)\n",
    "@complements(model,0<=-(0.21 - 1.43y + (-0.5 + x)*(y^2)),l[3]>=0)"
   ]
  },
  {
   "cell_type": "markdown",
   "metadata": {},
   "source": [
    "## Optimizar"
   ]
  },
  {
   "cell_type": "code",
   "execution_count": 8,
   "metadata": {},
   "outputs": [
    {
     "name": "stdout",
     "output_type": "stream",
     "text": [
      "\n",
      "******************************************************************************\n",
      "This program contains Ipopt, a library for large-scale nonlinear optimization.\n",
      " Ipopt is released as open source code under the Eclipse Public License (EPL).\n",
      "         For more information visit https://github.com/coin-or/Ipopt\n",
      "******************************************************************************\n",
      "\n",
      "This is Ipopt version 3.14.16, running with linear solver MUMPS 5.7.3.\n",
      "\n",
      "Number of nonzeros in equality constraint Jacobian...:       11\n",
      "Number of nonzeros in inequality constraint Jacobian.:       15\n",
      "Number of nonzeros in Lagrangian Hessian.............:       24\n",
      "\n",
      "Total number of variables............................:        5\n",
      "                     variables with only lower bounds:        0\n",
      "                variables with lower and upper bounds:        0\n",
      "                     variables with only upper bounds:        0\n",
      "Total number of equality constraints.................:        4\n",
      "Total number of inequality constraints...............:       12\n",
      "        inequality constraints with only lower bounds:        6\n",
      "   inequality constraints with lower and upper bounds:        0\n",
      "        inequality constraints with only upper bounds:        6\n",
      "\n",
      "iter    objective    inf_pr   inf_du lg(mu)  ||d||  lg(rg) alpha_du alpha_pr  ls\n",
      "   0  0.0000000e+00 7.26e+01 2.50e-01  -1.0 0.00e+00    -  0.00e+00 0.00e+00   0\n",
      "   1  9.7771823e-09 7.26e+01 9.66e-01  -1.0 7.65e+01    -  1.02e-03 2.02e-03h  1\n",
      "   2  8.7583614e-09 7.26e+01 3.08e+02  -1.0 7.64e+01    -  4.50e-03 2.20e-05h  1\n",
      "   3r 8.7583614e-09 7.26e+01 9.99e+02   1.9 0.00e+00    -  0.00e+00 1.18e-07R  2\n",
      "   4r 4.7850281e-04 7.26e+01 9.97e+02   1.9 2.79e+02    -  6.35e-02 2.02e-03f  1\n",
      "   5r 2.5142108e-02 7.25e+01 8.80e+02   1.2 1.73e+00   2.0 3.18e-01 1.27e-01f  1\n",
      "   6r 8.8250698e-02 7.20e+01 1.11e+03   0.5 5.50e-01   3.3 7.23e-01 8.02e-01f  1\n",
      "   7r 9.3110697e-02 7.19e+01 1.11e+03   0.5 2.38e+01    -  1.26e-02 4.05e-03f  1\n",
      "   8r 1.3447753e-01 7.16e+01 1.08e+03   0.5 1.95e+01    -  1.46e-01 2.74e-02f  1\n",
      "   9r 4.2538783e+00 3.62e+01 1.20e+04   0.5 2.61e+01    -  2.67e-01 3.69e-01f  1\n",
      "iter    objective    inf_pr   inf_du lg(mu)  ||d||  lg(rg) alpha_du alpha_pr  ls\n",
      "  10  4.2585816e+00 3.62e+01 1.17e+02  -1.0 1.37e+01    -  3.93e-02 1.14e-03h  1\n",
      "  11  4.2586286e+00 3.62e+01 1.02e+05  -1.0 1.37e+01    -  9.71e-03 1.14e-05h  1\n",
      "  12r 4.2586286e+00 3.62e+01 1.00e+03   1.6 0.00e+00    -  0.00e+00 5.69e-08R  2\n",
      "  13r 8.3731013e+00 4.23e+00 9.99e+02   1.6 2.35e+04    -  1.95e-05 1.28e-03f  1\n",
      "  14  8.3731014e+00 4.23e+00 1.11e+02  -1.0 1.83e+01    -  2.31e-03 2.17e-05h  1\n",
      "  15r 8.3731014e+00 4.23e+00 9.99e+02   0.6 0.00e+00    -  0.00e+00 1.08e-07R  2\n",
      "  16r 8.3775858e+00 3.98e+00 9.90e+02   0.6 1.24e+02    -  8.92e-03 8.94e-03f  1\n",
      "  17r 8.3911203e+00 3.51e+00 9.58e+02   0.6 7.48e+01    -  1.56e-02 3.44e-02f  1\n",
      "  18  8.3911419e+00 3.51e+00 6.67e+01  -1.0 2.35e+01    -  3.95e-02 6.81e-04h  1\n",
      "  19r 8.3911419e+00 3.51e+00 9.99e+02   0.5 0.00e+00    -  0.00e+00 4.26e-07R  5\n",
      "iter    objective    inf_pr   inf_du lg(mu)  ||d||  lg(rg) alpha_du alpha_pr  ls\n",
      "  20r 8.3933080e+00 3.16e+00 9.92e+02   0.5 3.90e+02    -  1.21e-02 6.69e-03f  1\n",
      "  21  8.3933134e+00 3.16e+00 2.29e+02  -1.0 2.90e+01    -  3.71e-02 1.68e-04h  1\n",
      "  22r 8.3933134e+00 3.16e+00 9.99e+02   0.5 0.00e+00    -  0.00e+00 4.19e-07R  3\n",
      "  23r 8.3946965e+00 2.64e+00 9.78e+02   0.5 4.51e+02    -  1.43e-02 2.11e-02f  1\n",
      "  24  8.3947120e+00 2.64e+00 2.09e+02  -1.0 8.78e+01    -  2.76e-02 1.37e-04h  1\n",
      "  25r 8.3947120e+00 2.64e+00 9.99e+02   0.4 0.00e+00    -  0.00e+00 3.42e-07R  3\n",
      "  26r 8.3945589e+00 2.57e+00 9.90e+02   0.4 4.06e+02    -  3.99e-02 8.78e-03f  1\n",
      "  27r 8.3884462e+00 3.07e+01 9.21e+02   0.4 7.54e+02    -  3.31e-02 9.31e-02f  1\n",
      "  28r 8.3888068e+00 2.70e+01 7.94e+02   0.4 4.36e+01    -  1.00e+00 1.17e-01h  1\n",
      "  29r 8.3824498e+00 6.53e+00 5.15e+02   0.4 3.56e+01    -  1.00e+00 1.00e+00h  1\n",
      "iter    objective    inf_pr   inf_du lg(mu)  ||d||  lg(rg) alpha_du alpha_pr  ls\n",
      "  30r 8.3818731e+00 2.31e+00 2.69e+02   0.4 6.49e+00    -  6.61e-01 1.00e+00h  1\n",
      "  31  8.3802302e+00 2.31e+00 5.79e+00  -1.0 1.05e+03    -  3.36e-03 1.23e-03h  1\n",
      "  32  8.3802199e+00 2.31e+00 4.21e+03  -1.0 1.71e+03    -  6.60e-03 1.23e-05h  1\n",
      "  33r 8.3802199e+00 2.31e+00 1.00e+03   0.4 0.00e+00    -  0.00e+00 6.16e-08R  2\n",
      "  34r 8.3802996e+00 2.30e+00 9.97e+02   0.4 2.59e+02    -  1.04e-01 2.96e-03f  1\n",
      "  35r 8.3806364e+00 9.22e+00 8.47e+02   0.4 2.53e+02    -  1.14e-01 1.50e-01f  1\n",
      "  36r 8.3799769e+00 2.34e+00 5.59e+02   0.4 8.82e+01    -  6.74e-01 3.40e-01f  1\n",
      "  37r 8.3902305e+00 2.41e+01 1.89e+03   0.4 1.97e+02    -  5.04e-01 1.00e+00f  1\n",
      "  38r 8.3815608e+00 2.19e+00 3.91e+02   0.4 1.45e+01  -2.0 1.00e+00 1.00e+00h  1\n",
      "  39r 8.3793881e+00 7.38e+00 4.19e+02   0.4 2.00e+02    -  1.00e+00 1.00e+00f  1\n",
      "iter    objective    inf_pr   inf_du lg(mu)  ||d||  lg(rg) alpha_du alpha_pr  ls\n",
      "  40r 8.3791064e+00 4.39e+00 2.87e+01   0.4 1.82e+02    -  1.00e+00 1.00e+00h  1\n",
      "  41r 8.3584343e+00 2.18e+00 2.58e+01  -1.0 1.47e+01    -  1.00e+00 8.92e-01f  1\n",
      "  42r 8.3575123e+00 1.29e+01 3.22e+02  -1.0 3.91e+02    -  1.00e+00 1.00e+00f  1\n",
      "  43r 8.3573471e+00 2.16e+00 1.25e+01  -1.0 3.08e+02    -  1.00e+00 1.00e+00h  1\n",
      "  44r 8.3574069e+00 2.16e+00 1.91e-01  -1.0 1.44e+01    -  1.00e+00 1.00e+00h  1\n",
      "  45r 8.3569138e+00 2.16e+00 8.38e+00  -2.6 5.41e+00    -  1.00e+00 8.98e-01f  1\n",
      "  46r 8.3563864e+00 1.88e+01 3.97e+02  -2.6 7.51e+02    -  7.23e-01 1.00e+00f  1\n",
      "  47r 8.3561996e+00 6.47e+00 8.70e+00  -2.6 7.46e+02    -  1.00e+00 1.00e+00h  1\n",
      "  48r 8.3562748e+00 2.15e+00 5.41e-01  -2.6 5.95e+01    -  1.00e+00 1.00e+00h  1\n",
      "  49r 8.3562761e+00 2.15e+00 8.19e-05  -2.6 5.33e-01    -  1.00e+00 1.00e+00h  1\n",
      "iter    objective    inf_pr   inf_du lg(mu)  ||d||  lg(rg) alpha_du alpha_pr  ls\n",
      "  50r 8.3562639e+00 2.15e+00 2.55e-02  -5.9 7.45e-01    -  1.00e+00 9.95e-01f  1\n",
      "  51r 8.3557659e+00 3.41e+01 3.61e+02  -5.9 1.80e+03    -  1.65e-01 8.20e-01f  1\n",
      "  52r 8.3557659e+00 3.41e+01 1.00e+03  -5.9 3.11e+03    -  8.65e-01 2.02e-04h  1\n",
      "  53r 8.3557630e+00 3.06e+01 1.44e+03  -5.9 3.10e+03    -  1.00e+00 1.06e-01h  1\n",
      "  54r 8.3557390e+00 3.45e+00 5.00e+02  -5.9 3.09e+03    -  1.00e+00 1.00e+00f  1\n",
      "  55r 8.3557390e+00 2.13e+00 4.44e+02  -5.9 2.49e+03    -  6.61e-01 9.24e-01h  1\n",
      "  56r 8.3557389e+00 2.13e+00 3.53e+02  -5.9 1.42e+03    -  4.85e-01 1.00e+00h  1\n",
      "  57r 8.3557390e+00 2.13e+00 5.79e+01  -5.9 2.43e+02    -  1.00e+00 5.94e-01h  1\n",
      "  58r 8.3557390e+00 2.13e+00 5.58e-02  -5.9 1.03e+02    -  1.00e+00 1.00e+00h  1\n",
      "  59r 8.3557390e+00 2.13e+00 4.37e-06  -5.9 9.09e-01    -  1.00e+00 1.00e+00h  1\n",
      "iter    objective    inf_pr   inf_du lg(mu)  ||d||  lg(rg) alpha_du alpha_pr  ls\n",
      "  60r 8.3557390e+00 2.13e+00 3.71e+01  -8.8 6.10e-03    -  1.00e+00 7.54e-01h  1\n",
      "  61r 8.3557390e+00 2.13e+00 1.81e+02  -8.8 5.67e+03    -  3.52e-01 4.44e-01f  1\n",
      "  62r 8.3557388e+00 2.13e+00 5.74e+02  -8.8 6.59e+03    -  1.40e-02 3.92e-01f  1\n",
      "  63r 8.3557234e+00 5.29e+00 1.85e+03  -8.8 7.39e+03    -  1.04e-02 1.00e+00f  1\n",
      "  64r 8.3521002e+00 8.95e+03 1.35e+03  -8.8 7.35e+04    -  3.11e-03 7.22e-01f  1\n",
      "  65r 8.3533427e+00 4.47e+03 6.60e+02  -8.8 3.92e+00  -2.5 1.00e+00 5.00e-01h  2\n",
      "In iteration 65, 1 Slack too small, adjusting variable bound\n",
      "  66r 8.3538269e+00 2.74e+03 4.02e+02  -8.8 1.06e+01  -3.0 4.99e-01 3.87e-01h  1\n",
      "In iteration 66, 1 Slack too small, adjusting variable bound\n",
      "  67r 8.3533304e+00 5.21e+02 1.08e+03  -8.8 4.95e+05    -  3.59e-01 1.57e-01h  1\n",
      "In iteration 67, 1 Slack too small, adjusting variable bound\n",
      "  68r 8.3533304e+00 5.21e+02 1.10e+03  -8.8 1.63e+02   6.9 7.89e-07 7.89e-07h  1\n",
      "  69r 8.3533304e+00 5.21e+02 1.10e+03  -8.8 1.63e+02   6.4 0.00e+00 4.94e-07R  5\n",
      "In iteration 69, 1 Slack too small, adjusting variable bound\n",
      "iter    objective    inf_pr   inf_du lg(mu)  ||d||  lg(rg) alpha_du alpha_pr  ls\n",
      "  70r 8.3533304e+00 5.21e+02 1.10e+03  -8.8 9.25e-04   5.9 1.00e+00 2.46e-08f  1\n",
      "In iteration 70, 1 Slack too small, adjusting variable bound\n",
      "  71r 8.3533303e+00 5.21e+02 1.09e+03  -8.8 2.92e-03   5.5 1.00e+00 3.89e-03f  5\n",
      "In iteration 71, 1 Slack too small, adjusting variable bound\n",
      "  72r 8.3533301e+00 5.21e+02 1.08e+03  -8.8 1.09e-03   5.9 1.00e+00 1.45e-02f  5\n",
      "In iteration 72, 1 Slack too small, adjusting variable bound\n",
      "  73r 8.3533301e+00 5.21e+02 1.08e+03  -8.8 3.29e-03   5.4 1.00e+00 6.92e-04f  7\n",
      "In iteration 73, 1 Slack too small, adjusting variable bound\n",
      "  74r 8.3533301e+00 5.21e+02 1.08e+03  -8.8 1.23e-03   5.8 1.00e+00 7.27e-04f  9\n",
      "In iteration 74, 1 Slack too small, adjusting variable bound\n",
      "  75r 8.3533301e+00 5.21e+02 1.08e+03  -8.8 3.70e-03   5.4 1.00e+00 6.69e-05f 10\n",
      "In iteration 75, 1 Slack too small, adjusting variable bound\n",
      "  76r 8.3533277e+00 5.21e+02 9.65e+02  -8.8 1.38e-03   5.8 1.00e+00 1.67e-01f  1\n",
      "In iteration 76, 1 Slack too small, adjusting variable bound\n",
      "  77r 8.3533269e+00 2.13e+00 9.65e+02  -8.8 1.49e+08    -  7.15e-06 7.00e-06f  1\n",
      "In iteration 77, 1 Slack too small, adjusting variable bound\n",
      "  78r 8.3533269e+00 2.13e+00 9.65e+02  -8.8 1.09e+08    -  6.09e-03 2.38e-14f  1\n",
      "In iteration 78, 1 Slack too small, adjusting variable bound\n",
      "  79r 8.3521002e+00 2.13e+00 9.57e+02  -8.8 3.27e+02    -  3.25e-02 8.34e-03f  1\n",
      "In iteration 79, 1 Slack too small, adjusting variable bound\n",
      "iter    objective    inf_pr   inf_du lg(mu)  ||d||  lg(rg) alpha_du alpha_pr  ls\n",
      "  80r 8.3521002e+00 2.13e+00 1.03e+03  -8.8 3.26e+02    -  2.47e-02 9.16e-10h  2\n",
      "In iteration 80, 2 Slacks too small, adjusting variable bounds\n",
      "  81r 8.3520998e+00 2.13e+00 1.03e+03  -8.8 3.26e+02    -  9.69e-11 4.37e-06f  1\n",
      "In iteration 81, 2 Slacks too small, adjusting variable bounds\n",
      "  82r 8.3520998e+00 2.13e+00 1.03e+03  -8.8 3.26e+02    -  1.36e-03 1.57e-07h  1\n",
      "In iteration 82, 1 Slack too small, adjusting variable bound\n",
      "  83r 8.3520998e+00 2.13e+00 1.01e+03  -8.8 3.26e+02    -  4.23e-10 1.32e-02f  1\n",
      "In iteration 83, 1 Slack too small, adjusting variable bound\n",
      "  84r 8.3520998e+00 2.13e+00 1.65e+03  -8.8 3.23e+02    -  5.94e-01 1.49e-10h  2\n",
      "In iteration 84, 1 Slack too small, adjusting variable bound\n",
      "  85r 8.3520998e+00 2.13e+00 1.99e+03  -8.8 1.49e-03   5.3 2.74e-01 9.85e-04h  1\n",
      "In iteration 85, 1 Slack too small, adjusting variable bound\n",
      "  86r 8.3520998e+00 2.13e+00 1.01e+03  -8.8 3.23e+02    -  6.70e-01 1.48e-03f  1\n",
      "  87r 8.3520998e+00 2.13e+00 1.20e+03  -8.8 3.22e+02    -  5.73e-01 2.67e-01f  1\n",
      "  88r 8.3520998e+00 2.13e+00 9.09e+02  -8.8 2.63e+02    -  6.77e-01 2.41e-01f  1\n",
      "  89r 8.3520998e+00 2.13e+00 6.18e+02  -8.8 2.15e+02    -  8.94e-01 3.20e-01f  1\n",
      "iter    objective    inf_pr   inf_du lg(mu)  ||d||  lg(rg) alpha_du alpha_pr  ls\n",
      "  90r 8.3520998e+00 2.13e+00 7.55e+02  -8.8 1.58e+02    -  2.72e-01 1.83e-06h  1\n",
      "  91r 8.3520999e+00 2.13e+00 1.55e+03  -8.8 1.58e+02    -  3.20e-01 9.99e-01f  1\n",
      "  92r 8.3521000e+00 2.13e+00 4.66e-04  -8.8 1.22e+01    -  1.00e+00 1.00e+00h  1\n",
      "\n",
      "Number of Iterations....: 92\n",
      "\n",
      "                                   (scaled)                 (unscaled)\n",
      "Objective...............:   8.3521000155591878e+00    8.3521000155591878e+00\n",
      "Dual infeasibility......:   5.7800000290987930e+00    5.7800000290987930e+00\n",
      "Constraint violation....:   2.1309335213359191e+00    2.1309335213359191e+00\n",
      "Variable bound violation:   0.0000000000000000e+00    0.0000000000000000e+00\n",
      "Complementarity.........:   1.8277606321923029e-09    1.8277606321923029e-09\n",
      "Overall NLP error.......:   5.3924102147906803e+00    5.7800000290987930e+00\n",
      "\n",
      "\n",
      "Number of objective function evaluations             = 162\n",
      "Number of objective gradient evaluations             = 25\n",
      "Number of equality constraint evaluations            = 163\n",
      "Number of inequality constraint evaluations          = 163\n",
      "Number of equality constraint Jacobian evaluations   = 102\n",
      "Number of inequality constraint Jacobian evaluations = 102\n",
      "Number of Lagrangian Hessian evaluations             = 93\n",
      "Total seconds in IPOPT                               = 2.538\n",
      "\n",
      "EXIT: Converged to a point of local infeasibility. Problem may be infeasible.\n"
     ]
    }
   ],
   "source": [
    "# Resolver el modelo\n",
    "optimize!(model)"
   ]
  },
  {
   "cell_type": "markdown",
   "metadata": {},
   "source": [
    "# Mostrar resultados"
   ]
  },
  {
   "cell_type": "code",
   "execution_count": 9,
   "metadata": {},
   "outputs": [
    {
     "name": "stdout",
     "output_type": "stream",
     "text": [
      "Estado de la solución: LOCALLY_INFEASIBLE\n",
      "Valor óptimo de x: 2.890000002691901\n",
      "Valor óptimo de y1: 0.3076923076985558\n",
      "Valores óptimos de l: [2509.701708572126, 205.5275848478615, 1.3412699330516602e-6]\n"
     ]
    }
   ],
   "source": [
    "# Mostrar resultados\n",
    "println(\"Estado de la solución: \", termination_status(model))\n",
    "println(\"Valor óptimo de x: \", value(x))\n",
    "println(\"Valor óptimo de y1: \", value(y))\n",
    "#println(\"Valor óptimo de y2: \", value(y2))\n",
    "#println(\"Valores óptimos de s: \", value.(s))\n",
    "println(\"Valores óptimos de l: \", value.(l))"
   ]
  },
  {
   "cell_type": "code",
   "execution_count": 10,
   "metadata": {},
   "outputs": [
    {
     "data": {
      "text/plain": [
       "8.352100015559188"
      ]
     },
     "metadata": {},
     "output_type": "display_data"
    }
   ],
   "source": [
    "objective_value(model)"
   ]
  }
 ],
 "metadata": {
  "kernelspec": {
   "display_name": "Julia 1.10.5",
   "language": "julia",
   "name": "julia-1.10"
  },
  "language_info": {
   "file_extension": ".jl",
   "mimetype": "application/julia",
   "name": "julia",
   "version": "1.10.5"
  }
 },
 "nbformat": 4,
 "nbformat_minor": 2
}
