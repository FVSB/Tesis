{
 "cells": [
  {
   "cell_type": "markdown",
   "metadata": {},
   "source": [
    "## Importaciones necesarias"
   ]
  },
  {
   "cell_type": "code",
   "execution_count": 1,
   "metadata": {},
   "outputs": [],
   "source": [
    "using JuMP, Ipopt, Complementarity"
   ]
  },
  {
   "cell_type": "markdown",
   "metadata": {},
   "source": [
    "# Crear el modelo"
   ]
  },
  {
   "cell_type": "code",
   "execution_count": 2,
   "metadata": {},
   "outputs": [
    {
     "data": {
      "text/plain": [
       "A JuMP Model\n",
       "├ solver: Ipopt\n",
       "├ objective_sense: FEASIBILITY_SENSE\n",
       "├ num_variables: 0\n",
       "├ num_constraints: 0\n",
       "└ Names registered in the model: none"
      ]
     },
     "metadata": {},
     "output_type": "display_data"
    }
   ],
   "source": [
    "# Crear el modelo\n",
    "model = Model(Ipopt.Optimizer)"
   ]
  },
  {
   "cell_type": "markdown",
   "metadata": {},
   "source": [
    "## Definir Variables\n"
   ]
  },
  {
   "cell_type": "code",
   "execution_count": 3,
   "metadata": {},
   "outputs": [
    {
     "data": {
      "text/plain": [
       "2-element Vector{VariableRef}:\n",
       " l[1]\n",
       " l[2]"
      ]
     },
     "metadata": {},
     "output_type": "display_data"
    }
   ],
   "source": [
    "# Definir la x\n",
    "@variable(model,x)\n",
    "# Definir la y\n",
    "@variable(model,y)\n",
    "#Definir las l como variables de complementariedad\n",
    "@variable(model,l[1:2])"
   ]
  },
  {
   "cell_type": "markdown",
   "metadata": {},
   "source": [
    "## Definir Objetivo\n"
   ]
  },
  {
   "cell_type": "code",
   "execution_count": 4,
   "metadata": {},
   "outputs": [
    {
     "data": {
      "text/latex": [
       "$ x\\times y + 10 y^2 - x $"
      ],
      "text/plain": [
       "x*y + 10 y² - x"
      ]
     },
     "metadata": {},
     "output_type": "display_data"
    }
   ],
   "source": [
    "@objective(model,Min,-x+x*y+10y^2)"
   ]
  },
  {
   "cell_type": "markdown",
   "metadata": {},
   "source": [
    "## Definir Restricciones\n"
   ]
  },
  {
   "cell_type": "code",
   "execution_count": 5,
   "metadata": {},
   "outputs": [
    {
     "data": {
      "text/latex": [
       "$$ ((-2.0 * x) * y + 2.0 * y ^ {3.0} + 2.41 * l[1] + -0.53 * l[2]) - 0.0 = 0 $$"
      ],
      "text/plain": [
       "((-2.0 * x) * y + 2.0 * y ^ 3.0 + 2.41 * l[1] + -0.53 * l[2]) - 0.0 == 0"
      ]
     },
     "metadata": {},
     "output_type": "display_data"
    }
   ],
   "source": [
    "@NLconstraint(model,-2x*y+2y^3+(2.41*l[1])+(- 0.53*l[2])==0) # Obj nivel inferior"
   ]
  },
  {
   "cell_type": "code",
   "execution_count": 6,
   "metadata": {},
   "outputs": [
    {
     "data": {
      "text/plain": [
       "(-x <= -0.8, x <= 0.8, 2.41 y <= 4.48, -0.53 y <= -0.98)"
      ]
     },
     "metadata": {},
     "output_type": "display_data"
    }
   ],
   "source": [
    "@constraints(model,begin\n",
    "\n",
    "0.8 - x<=0  #gs\n",
    "-0.8 + x<=0  #gs\n",
    "-4.48 + 2.41y<=0  #vs\n",
    "0.98 - 0.53y<=0 #vs\n",
    "end)"
   ]
  },
  {
   "cell_type": "markdown",
   "metadata": {},
   "source": [
    "## Definir variables Complementarias"
   ]
  },
  {
   "cell_type": "code",
   "execution_count": 7,
   "metadata": {},
   "outputs": [
    {
     "data": {
      "text/latex": [
       "$$ (sqrt(l[2] ^ {2.0} + (-0.98 + 0.53 * y) ^ {2.0} + 1.0e-8) - (l[2] + (-0.98 + 0.53 * y))) - 0.0 = 0 $$"
      ],
      "text/plain": [
       "(sqrt(l[2] ^ 2.0 + (-0.98 + 0.53 * y) ^ 2.0 + 1.0e-8) - (l[2] + (-0.98 + 0.53 * y))) - 0.0 == 0"
      ]
     },
     "metadata": {},
     "output_type": "display_data"
    }
   ],
   "source": [
    "@complements(model,0<=-(-4.48 + 2.41y),l[1]>=0)\n",
    "@complements(model,0<=-(0.98 - 0.53y),l[2]>=0)"
   ]
  },
  {
   "cell_type": "markdown",
   "metadata": {},
   "source": [
    "## Optimizar"
   ]
  },
  {
   "cell_type": "code",
   "execution_count": 8,
   "metadata": {},
   "outputs": [
    {
     "name": "stdout",
     "output_type": "stream",
     "text": [
      "\n",
      "******************************************************************************\n",
      "This program contains Ipopt, a library for large-scale nonlinear optimization.\n",
      " Ipopt is released as open source code under the Eclipse Public License (EPL).\n",
      "         For more information visit https://github.com/coin-or/Ipopt\n",
      "******************************************************************************\n",
      "\n",
      "This is Ipopt version 3.14.16, running with linear solver MUMPS 5.7.3.\n",
      "\n",
      "Number of nonzeros in equality constraint Jacobian...:        8\n",
      "Number of nonzeros in inequality constraint Jacobian.:        8\n",
      "Number of nonzeros in Lagrangian Hessian.............:       11\n",
      "\n",
      "Total number of variables............................:        4\n",
      "                     variables with only lower bounds:        0\n",
      "                variables with lower and upper bounds:        0\n",
      "                     variables with only upper bounds:        0\n",
      "Total number of equality constraints.................:        3\n",
      "Total number of inequality constraints...............:        8\n",
      "        inequality constraints with only lower bounds:        4\n",
      "   inequality constraints with lower and upper bounds:        0\n",
      "        inequality constraints with only upper bounds:        4\n",
      "\n",
      "iter    objective    inf_pr   inf_du lg(mu)  ||d||  lg(rg) alpha_du alpha_pr  ls\n",
      "   0  0.0000000e+00 1.96e+00 3.33e-01  -1.0 0.00e+00    -  0.00e+00 0.00e+00   0\n",
      "   1  3.8648442e-02 1.88e+00 3.14e+01  -1.0 4.46e+00    -  1.00e+00 4.23e-02h  1\n",
      "   2  1.6649716e-01 1.82e+00 3.73e+01  -1.0 4.91e+00    -  7.21e-02 3.26e-02h  1\n",
      "   3  1.6858291e-01 1.82e+00 8.74e+04  -1.0 4.65e+00    -  1.00e+00 4.01e-04h  1\n",
      "   4  1.6944359e-01 1.81e+00 4.97e+08  -1.0 4.12e+00    -  1.00e+00 1.74e-04h  1\n",
      "   5r 1.6944359e-01 1.81e+00 1.00e+03   0.3 0.00e+00    -  0.00e+00 4.38e-07R  3\n",
      "   6r 3.4090966e+01 1.17e+01 9.81e+02   0.3 8.05e+02    -  1.38e-01 5.08e-03f  1\n",
      "   7r 3.4916349e+01 1.13e+01 8.99e+02   0.3 5.71e+00    -  3.40e-01 3.76e-02f  1\n",
      "   8r 3.5261714e+01 1.12e+01 1.44e+03   0.3 9.55e+01    -  1.18e-04 5.66e-03f  1\n",
      "   9r 3.5253166e+01 9.89e+00 9.23e+02   0.3 4.63e+00    -  1.00e+00 1.18e-01f  1\n",
      "iter    objective    inf_pr   inf_du lg(mu)  ||d||  lg(rg) alpha_du alpha_pr  ls\n",
      "  10r 3.5247493e+01 9.88e+00 8.00e+02   0.3 8.05e+00   4.0 1.61e-03 6.93e-04h  1\n",
      "  11r 3.5239532e+01 9.86e+00 7.96e+02   0.3 1.80e+00    -  6.14e-03 2.16e-03h  1\n",
      "  12r 3.5211711e+01 9.85e+00 7.87e+02   0.3 1.04e+00    -  2.66e-03 1.69e-03h  1\n",
      "  13r 3.4837431e+01 9.63e+00 1.54e+03   0.3 1.09e+00    -  2.04e-02 2.19e-02f  1\n",
      "  14r 3.4148369e+01 9.28e+00 1.42e+03   0.3 1.19e+00    -  2.44e-02 3.69e-02h  1\n",
      "  15r 3.3954469e+01 9.18e+00 1.42e+03   0.3 1.15e+00    -  5.89e-03 1.09e-02h  1\n",
      "  16r 3.3165801e+01 8.77e+00 1.55e+03   0.3 1.15e+00    -  2.06e-02 4.47e-02h  1\n",
      "  17r 1.7770512e+01 2.27e+00 2.01e+03   0.3 1.16e+00    -  4.80e-02 1.00e+00h  1\n",
      "  18r 1.2217123e+01 4.72e-01 2.39e+02   0.3 6.00e-01    -  7.33e-01 1.00e+00h  1\n",
      "  19  1.2262972e+01 4.69e-01 4.17e+01  -1.0 3.71e+00    -  2.13e-01 7.02e-03h  1\n",
      "iter    objective    inf_pr   inf_du lg(mu)  ||d||  lg(rg) alpha_du alpha_pr  ls\n",
      "  20  1.2272878e+01 4.69e-01 2.15e+02  -1.0 2.07e+00    -  2.94e-03 6.17e-04h  1\n",
      "  21  1.2277641e+01 4.69e-01 9.49e+05  -1.0 2.34e+00    -  1.00e+00 2.76e-04h  1\n",
      "  22r 1.2277641e+01 4.69e-01 1.00e+03  -0.3 0.00e+00    -  0.00e+00 3.98e-07R  4\n",
      "  23r 1.2005394e+01 4.51e-01 9.98e+02  -0.3 3.04e+02    -  3.34e-03 1.84e-03f  1\n",
      "  24r 1.4667586e+01 3.63e-01 9.61e+02  -0.3 2.12e+02    -  1.00e+00 5.56e-03f  1\n",
      "  25  1.4668244e+01 3.63e-01 1.28e+04  -1.0 7.42e+00    -  2.71e-01 5.14e-05h  1\n",
      "  26r 1.4668244e+01 3.63e-01 1.00e+03  -0.4 0.00e+00    -  0.00e+00 3.64e-07R  5\n",
      "  27r 2.3922330e+01 8.51e-01 9.95e+02  -0.4 9.39e+02    -  3.01e-03 4.85e-03f  1\n",
      "  28r 3.2081548e+01 1.40e+00 8.98e+02  -0.4 4.52e+02    -  1.00e+00 1.26e-02f  1\n",
      "  29r 3.2366472e+01 1.30e+00 7.91e+02  -0.4 6.19e+00    -  1.00e+00 7.32e-02f  1\n",
      "iter    objective    inf_pr   inf_du lg(mu)  ||d||  lg(rg) alpha_du alpha_pr  ls\n",
      "  30r 3.4886282e+01 9.42e-02 2.62e+01  -0.4 4.81e+00    -  1.00e+00 9.67e-01f  1\n",
      "  31  3.4875476e+01 3.22e-02 3.76e+02  -1.0 1.54e-01    -  1.00e+00 6.59e-01h  1\n",
      "  32  3.4870348e+01 5.56e-03 1.47e+02  -1.0 5.76e-02    -  1.00e+00 8.27e-01h  1\n",
      "  33  3.4869820e+01 2.48e-03 1.92e+03  -1.0 8.97e-03    -  1.00e+00 5.55e-01h  1\n",
      "  34  3.4869532e+01 1.02e-03 4.67e+03  -1.0 4.55e-03    -  1.00e+00 5.87e-01h  1\n",
      "  35  3.4869429e+01 4.23e-04 1.13e+04  -1.0 1.65e-03    -  1.00e+00 5.86e-01h  1\n",
      "  36  3.4869404e+01 2.99e-04 4.65e+04  -1.0 7.78e-04    -  1.00e+00 2.93e-01f  2\n",
      "  37  3.4869359e+01 5.82e-05 2.39e+04  -1.0 5.27e-04    -  1.00e+00 8.05e-01h  1\n",
      "  38  3.4869357e+01 4.43e-05 3.06e+05  -1.0 9.17e-05    -  1.00e+00 2.38e-01f  2\n",
      "  39  3.4869350e+01 6.58e-06 1.15e+05  -1.0 7.55e-05    -  1.00e+00 8.51e-01h  1\n",
      "iter    objective    inf_pr   inf_du lg(mu)  ||d||  lg(rg) alpha_du alpha_pr  ls\n",
      "  40  3.4869349e+01 5.07e-06 1.88e+06  -1.0 1.27e-05    -  1.00e+00 2.30e-01f  2\n",
      "  41  3.4869349e+01 7.60e-15 1.19e-01  -1.0 8.87e-06    -  1.00e+00 1.00e+00h  1\n",
      "  42  3.4869348e+01 1.01e-07 6.27e-02  -8.6 7.32e-07    -  1.00e+00 1.00e+00h  1\n",
      "  43  3.4869349e+01 0.00e+00 2.67e+06  -8.6 7.32e-07    -  4.52e-01 1.00e+00h  1\n",
      "  44  3.4869349e+01 1.78e-15 1.02e-10  -8.6 7.12e-09    -  1.00e+00 1.00e+00h  1\n",
      "\n",
      "Number of Iterations....: 44\n",
      "\n",
      "                                   (scaled)                 (unscaled)\n",
      "Objective...............:   3.4869348535622713e+01    3.4869348535622713e+01\n",
      "Dual infeasibility......:   1.0233991432073708e-10    1.0233991432073708e-10\n",
      "Constraint violation....:   1.7763568394002505e-15    1.7763568394002505e-15\n",
      "Variable bound violation:   0.0000000000000000e+00    0.0000000000000000e+00\n",
      "Complementarity.........:   2.6537744032241968e-09    2.6537744032241968e-09\n",
      "Overall NLP error.......:   2.6537744032241968e-09    2.6537744032241968e-09\n",
      "\n",
      "\n",
      "Number of objective function evaluations             = 60\n",
      "Number of objective gradient evaluations             = 29\n",
      "Number of equality constraint evaluations            = 60\n",
      "Number of inequality constraint evaluations          = 60\n",
      "Number of equality constraint Jacobian evaluations   = 48\n",
      "Number of inequality constraint Jacobian evaluations = 48\n",
      "Number of Lagrangian Hessian evaluations             = 44\n",
      "Total seconds in IPOPT                               = 1.754\n",
      "\n",
      "EXIT: Optimal Solution Found.\n"
     ]
    }
   ],
   "source": [
    "# Resolver el modelo\n",
    "optimize!(model)"
   ]
  },
  {
   "cell_type": "markdown",
   "metadata": {},
   "source": [
    "# Mostrar resultados"
   ]
  },
  {
   "cell_type": "code",
   "execution_count": 9,
   "metadata": {},
   "outputs": [
    {
     "name": "stdout",
     "output_type": "stream",
     "text": [
      "Estado de la solución: LOCALLY_SOLVED\n",
      "Valor óptimo de x: 0.799999992359234\n",
      "Valor óptimo de y1: 1.849056604289828\n",
      "Valores óptimos de l: [2.1031747132252008e-7, 18.274334367207274]\n"
     ]
    }
   ],
   "source": [
    "# Mostrar resultados\n",
    "println(\"Estado de la solución: \", termination_status(model))\n",
    "println(\"Valor óptimo de x: \", value(x))\n",
    "println(\"Valor óptimo de y1: \", value(y))\n",
    "#println(\"Valor óptimo de y2: \", value(y2))\n",
    "#println(\"Valores óptimos de s: \", value.(s))\n",
    "println(\"Valores óptimos de l: \", value.(l))"
   ]
  },
  {
   "cell_type": "code",
   "execution_count": 10,
   "metadata": {},
   "outputs": [
    {
     "data": {
      "text/plain": [
       "34.86934853562271"
      ]
     },
     "metadata": {},
     "output_type": "display_data"
    }
   ],
   "source": [
    "objective_value(model)"
   ]
  },
  {
   "cell_type": "code",
   "execution_count": null,
   "metadata": {},
   "outputs": [],
   "source": []
  }
 ],
 "metadata": {
  "kernelspec": {
   "display_name": "Julia 1.10.5",
   "language": "julia",
   "name": "julia-1.10"
  },
  "language_info": {
   "file_extension": ".jl",
   "mimetype": "application/julia",
   "name": "julia",
   "version": "1.10.5"
  }
 },
 "nbformat": 4,
 "nbformat_minor": 2
}
