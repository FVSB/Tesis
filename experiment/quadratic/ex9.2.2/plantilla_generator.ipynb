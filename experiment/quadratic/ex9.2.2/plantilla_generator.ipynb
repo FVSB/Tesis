{
 "cells": [
  {
   "cell_type": "markdown",
   "metadata": {},
   "source": [
    "## Importar el módulo\n"
   ]
  },
  {
   "cell_type": "code",
   "execution_count": 13,
   "metadata": {},
   "outputs": [
    {
     "data": {
      "text/plain": [
       "RunExperiment (generic function with 1 method)"
      ]
     },
     "metadata": {},
     "output_type": "display_data"
    }
   ],
   "source": [
    "include(\"../../new_experiment.jl\")"
   ]
  },
  {
   "cell_type": "markdown",
   "metadata": {},
   "source": [
    "Crear un experimento\n"
   ]
  },
  {
   "cell_type": "code",
   "execution_count": 14,
   "metadata": {},
   "outputs": [
    {
     "data": {
      "text/plain": [
       "Experiment(OptimizationModel(Problem(Any[], nothing), LeaderRestrictionProblem[], Problem(Any[], nothing), FollowerRestrictionProblem[], Dict{Any, Any}(), Number[1], false), OptimizationModel(Problem(Any[], nothing), LeaderRestrictionProblem[], Problem(Any[], nothing), FollowerRestrictionProblem[], Dict{Any, Any}(), Number[], true), Any[], Any[])"
      ]
     },
     "metadata": {},
     "output_type": "display_data"
    }
   ],
   "source": [
    "experiment=CreateExperiment()"
   ]
  },
  {
   "cell_type": "markdown",
   "metadata": {},
   "source": [
    "### Declarar variables del líder\n"
   ]
  },
  {
   "cell_type": "code",
   "execution_count": 15,
   "metadata": {},
   "outputs": [
    {
     "data": {
      "text/latex": [
       "$$ \\begin{equation}\n",
       "\\left[\n",
       "\\begin{array}{c}\n",
       "x \\\\\n",
       "\\end{array}\n",
       "\\right]\n",
       "\\end{equation}\n",
       " $$"
      ],
      "text/plain": [
       "1-element Vector{Num}:\n",
       " x"
      ]
     },
     "metadata": {},
     "output_type": "display_data"
    }
   ],
   "source": [
    "@leader_vars experiment x"
   ]
  },
  {
   "cell_type": "markdown",
   "metadata": {},
   "source": [
    "### Declarar Variables del Follower"
   ]
  },
  {
   "cell_type": "code",
   "execution_count": 16,
   "metadata": {},
   "outputs": [
    {
     "data": {
      "text/latex": [
       "$$ \\begin{equation}\n",
       "\\left[\n",
       "\\begin{array}{c}\n",
       "y \\\\\n",
       "\\end{array}\n",
       "\\right]\n",
       "\\end{equation}\n",
       " $$"
      ],
      "text/plain": [
       "1-element Vector{Num}:\n",
       " y"
      ]
     },
     "metadata": {},
     "output_type": "display_data"
    }
   ],
   "source": [
    "@follower_vars experiment y"
   ]
  },
  {
   "cell_type": "markdown",
   "metadata": {},
   "source": [
    "### Declarar Función Objetivo del Líder"
   ]
  },
  {
   "cell_type": "code",
   "execution_count": 17,
   "metadata": {},
   "outputs": [
    {
     "data": {
      "text/latex": [
       "$$ \\begin{equation}\n",
       "x^{2} + \\left( -10 + y \\right)^{2}\n",
       "\\end{equation}\n",
       " $$"
      ],
      "text/plain": [
       "x^2 + (-10 + y)^2"
      ]
     },
     "metadata": {},
     "output_type": "display_data"
    }
   ],
   "source": [
    "SetLeaderFunction(experiment,x^2+(y-10)^2)"
   ]
  },
  {
   "cell_type": "markdown",
   "metadata": {},
   "source": [
    "Restricciones del Líder"
   ]
  },
  {
   "cell_type": "code",
   "execution_count": 18,
   "metadata": {},
   "outputs": [
    {
     "data": {
      "text/plain": [
       "1-element Vector{LeaderRestrictionProblem}:\n",
       " LeaderRestrictionProblem((-x + y) <= 0, 0.17976045027651766, J_0_g)"
      ]
     },
     "metadata": {},
     "output_type": "display_data"
    }
   ],
   "source": [
    "SetLeaderRestriction(experiment,-x+y<=0)"
   ]
  },
  {
   "cell_type": "markdown",
   "metadata": {},
   "source": [
    "### Función objetivo del Follower"
   ]
  },
  {
   "cell_type": "code",
   "execution_count": 19,
   "metadata": {},
   "outputs": [
    {
     "data": {
      "text/latex": [
       "$$ \\begin{equation}\n",
       "\\left( -30 + x + 2 y \\right)^{2}\n",
       "\\end{equation}\n",
       " $$"
      ],
      "text/plain": [
       "(-30 + x + 2y)^2"
      ]
     },
     "metadata": {},
     "output_type": "display_data"
    }
   ],
   "source": [
    "SetFollowerFunction(experiment,(x+2y-30)^2)"
   ]
  },
  {
   "cell_type": "markdown",
   "metadata": {},
   "source": [
    "### Restricciones del Follower"
   ]
  },
  {
   "cell_type": "code",
   "execution_count": 20,
   "metadata": {},
   "outputs": [
    {
     "data": {
      "text/plain": [
       "1-element Vector{FollowerRestrictionProblem}:\n",
       " FollowerRestrictionProblem((x + y) <= 20, J_0_LP_v, 0.11353622531856065, 0.8606991291851255, 0.5013086417917627)"
      ]
     },
     "metadata": {},
     "output_type": "display_data"
    }
   ],
   "source": [
    "SetFollowerRestriction(experiment,x+y<=20)"
   ]
  },
  {
   "cell_type": "code",
   "execution_count": 21,
   "metadata": {},
   "outputs": [
    {
     "data": {
      "text/plain": [
       "2-element Vector{FollowerRestrictionProblem}:\n",
       " FollowerRestrictionProblem((x + y) <= 20, J_0_LP_v, 0.11353622531856065, 0.8606991291851255, 0.5013086417917627)\n",
       " FollowerRestrictionProblem((-y) <= 0, J_0_LP_v, 0.4899157340367575, 0.5105100791494529, 0.10035489629149306)"
      ]
     },
     "metadata": {},
     "output_type": "display_data"
    }
   ],
   "source": [
    "SetFollowerRestriction(experiment,-y<=0)"
   ]
  },
  {
   "cell_type": "code",
   "execution_count": 22,
   "metadata": {},
   "outputs": [
    {
     "data": {
      "text/plain": [
       "3-element Vector{FollowerRestrictionProblem}:\n",
       " FollowerRestrictionProblem((x + y) <= 20, J_0_LP_v, 0.11353622531856065, 0.8606991291851255, 0.5013086417917627)\n",
       " FollowerRestrictionProblem((-y) <= 0, J_0_LP_v, 0.4899157340367575, 0.5105100791494529, 0.10035489629149306)\n",
       " FollowerRestrictionProblem(y <= 20, J_0_LP_v, 0.7079756684103534, 0.23816337673879429, 0.5389908440495451)"
      ]
     },
     "metadata": {},
     "output_type": "display_data"
    }
   ],
   "source": [
    "SetFollowerRestriction(experiment,y<=20)"
   ]
  },
  {
   "cell_type": "markdown",
   "metadata": {},
   "source": [
    "### Poner el Punto Optimo"
   ]
  },
  {
   "cell_type": "code",
   "execution_count": 23,
   "metadata": {},
   "outputs": [
    {
     "data": {
      "text/plain": [
       "Dict{Any, Any} with 2 entries:\n",
       "  y => 10.1395\n",
       "  x => 10.7895"
      ]
     },
     "metadata": {},
     "output_type": "display_data"
    }
   ],
   "source": [
    "SetPoint(experiment,Dict(x=>10,y=>10))"
   ]
  },
  {
   "cell_type": "markdown",
   "metadata": {},
   "source": [
    "## Iniciar el Experimento\n"
   ]
  },
  {
   "cell_type": "code",
   "execution_count": 24,
   "metadata": {},
   "outputs": [
    {
     "name": "stdout",
     "output_type": "stream",
     "text": [
      "Va a retornar correctamente\n",
      "Leader's Objective Function:\n",
      "Variable names: [:y, :x]\n",
      "Expression (string): x^2 + (-10 + y)^2\n",
      "Parsed expression: x^2 + (-10 + y)^2\n",
      "Evaluation point: Dict{Any, Any}(\"x\" => 10.789501912783109, \"y\" => 10.139484429842094)\n",
      "Evaluation value: 116.43280743211875\n",
      "Is leader function: true\n",
      "------------------------------\n",
      "Leader's Restrictions:\n",
      "++++++++++++++++++++++++++++++\n",
      "Restriction 1\n",
      "Variable names: [:y, :x]\n",
      "Expression (string): (-x + y) == 0\n",
      "Parsed expression: -x + y\n",
      "Evaluation point: Dict{Any, Any}(\"x\" => 10.789501912783109, \"y\" => 10.139484429842094)\n",
      "Evaluation value: -0.6500174829410152\n",
      "Additional constant: 0.6500174829410152\n",
      "Restriction type: LtEq\n",
      "Restriction set type: J_0_g\n",
      "Value of miu: 0.17976045027651766\n",
      "Value of beta: 0\n",
      "Value of lambda: 0\n",
      "Value of gamma: 0\n",
      "++++++++++++++++++++++++++++++\n",
      "------------------------------\n",
      "Follower's Objective Function:\n",
      "Variable names: [:y, :x]\n",
      "Expression (string): (-30 + x + 2y)^2\n",
      "Parsed expression: (-30 + x + 2y)^2\n",
      "Evaluation point: Dict{Any, Any}(\"x\" => 10.789501912783109, \"y\" => 10.139484429842094)\n",
      "Evaluation value: 1.141629791616862\n",
      "Is leader function: false\n",
      "------------------------------\n",
      "Follower's Restrictions:\n",
      "++++++++++++++++++++++++++++++\n",
      "Restriction 1\n",
      "Variable names: [:y, :x]\n",
      "Expression (string): (x + y) == 20\n",
      "Parsed expression: -20 + x + 0.9801532142070933y\n",
      "Evaluation point: Dict{Any, Any}(\"x\" => 10.789501912783109, \"y\" => 10.139484429842094)\n",
      "Evaluation value: 0.7277501670956141\n",
      "Additional constant: -0.7277501670956141\n",
      "Restriction type: LtEq\n",
      "Restriction set type: J_0_LP_v\n",
      "Value of miu: 0\n",
      "Value of beta: 0.11353622531856065\n",
      "Value of lambda: 0.8606991291851255\n",
      "Value of gamma: 0.5013086417917627\n",
      "++++++++++++++++++++++++++++++\n",
      "++++++++++++++++++++++++++++++\n",
      "Restriction 2\n",
      "Variable names: [:y]\n",
      "Expression (string): (-y) == 0\n",
      "Parsed expression: -0.9801532142070933y\n",
      "Evaluation point: Dict{Any, Any}(\"x\" => 10.789501912783109, \"y\" => 10.139484429842094)\n",
      "Evaluation value: -9.938248254312505\n",
      "Additional constant: 9.938248254312505\n",
      "Restriction type: LtEq\n",
      "Restriction set type: J_0_LP_v\n",
      "Value of miu: 0\n",
      "Value of beta: 0.4899157340367575\n",
      "Value of lambda: 0.5105100791494529\n",
      "Value of gamma: 0.10035489629149306\n",
      "++++++++++++++++++++++++++++++\n",
      "++++++++++++++++++++++++++++++\n",
      "Restriction 3\n",
      "Variable names: [:y]\n",
      "Expression (string): y == 20\n",
      "Parsed expression: -20 + 0.9801532142070933y\n",
      "Evaluation point: Dict{Any, Any}(\"x\" => 10.789501912783109, \"y\" => 10.139484429842094)\n",
      "Evaluation value: -10.061751745687495\n",
      "Additional constant: 10.061751745687495\n",
      "Restriction type: LtEq\n",
      "Restriction set type: J_0_LP_v\n",
      "Value of miu: 0\n",
      "Value of beta: 0.7079756684103534\n",
      "Value of lambda: 0.23816337673879429\n",
      "Value of gamma: 0.5389908440495451\n",
      "++++++++++++++++++++++++++++++\n",
      "------------------------------\n",
      "Evaluation Point:\n",
      "Dict{Any, Any}(\"x\" => 10.789501912783109, \"y\" => 10.139484429842094)\n",
      "------------------------------\n",
      "_\n",
      "\n",
      "Num[-21.592166743779888, -0.9425186380449546]\n",
      "Va a retornar correctamente\n",
      "Leader's Objective Function:\n",
      "Variable names: [:y, :x]\n",
      "Expression (string): x^2 + (-10 + y)^2\n",
      "Parsed expression: x^2 + (-10 + y)^2\n",
      "Evaluation point: Dict{Any, Any}(\"x\" => 10.789501912783109, \"y\" => 10.139484429842094)\n",
      "Evaluation value: 116.43280743211875\n",
      "Is leader function: true\n",
      "------------------------------\n",
      "Leader's Restrictions:\n",
      "++++++++++++++++++++++++++++++\n",
      "Restriction 1\n",
      "Variable names: [:y, :x]\n",
      "Expression (string): (-x + y) == 0\n",
      "Parsed expression: -x + y\n",
      "Evaluation point: Dict{Any, Any}(\"x\" => 10.789501912783109, \"y\" => 10.139484429842094)\n",
      "Evaluation value: -0.6500174829410152\n",
      "Additional constant: 0.6500174829410152\n",
      "Restriction type: LtEq\n",
      "Restriction set type: J_0_g\n",
      "Value of miu: 0.17976045027651766\n",
      "Value of beta: 0\n",
      "Value of lambda: 0\n",
      "Value of gamma: 0\n",
      "++++++++++++++++++++++++++++++\n",
      "------------------------------\n",
      "Follower's Objective Function:\n",
      "Variable names: [:y, :x]\n",
      "Expression (string): (-30 + x + 2y)^2\n",
      "Parsed expression: (-30 + x + 2y)^2\n",
      "Evaluation point: Dict{Any, Any}(\"x\" => 10.789501912783109, \"y\" => 10.139484429842094)\n",
      "Evaluation value: 1.141629791616862\n",
      "Is leader function: false\n",
      "------------------------------\n",
      "Follower's Restrictions:\n",
      "++++++++++++++++++++++++++++++\n",
      "Restriction 1\n",
      "Variable names: [:y, :x]\n",
      "Expression (string): (x + y) == 20\n",
      "Parsed expression: -20 + x + y\n",
      "Evaluation point: Dict{Any, Any}(\"x\" => 10.789501912783109, \"y\" => 10.139484429842094)\n",
      "Evaluation value: 0.928986342625203\n",
      "Additional constant: -0.928986342625203\n",
      "Restriction type: LtEq\n",
      "Restriction set type: J_0_LP_v\n",
      "Value of miu: 0\n",
      "Value of beta: 0.11353622531856065\n",
      "Value of lambda: 0.8606991291851255\n",
      "Value of gamma: 0.5013086417917627\n",
      "++++++++++++++++++++++++++++++\n",
      "++++++++++++++++++++++++++++++\n",
      "Restriction 2\n",
      "Variable names: [:y]\n",
      "Expression (string): (-y) == 0\n",
      "Parsed expression: -y\n",
      "Evaluation point: Dict{Any, Any}(\"x\" => 10.789501912783109, \"y\" => 10.139484429842094)\n",
      "Evaluation value: -10.139484429842094\n",
      "Additional constant: 10.139484429842094\n",
      "Restriction type: LtEq\n",
      "Restriction set type: J_0_LP_v\n",
      "Value of miu: 0\n",
      "Value of beta: 0.4899157340367575\n",
      "Value of lambda: 0.5105100791494529\n",
      "Value of gamma: 0.10035489629149306\n",
      "++++++++++++++++++++++++++++++\n",
      "++++++++++++++++++++++++++++++\n",
      "Restriction 3\n",
      "Variable names: [:y]\n",
      "Expression (string): y == 20\n",
      "Parsed expression: -20 + y\n",
      "Evaluation point: Dict{Any, Any}(\"x\" => 10.789501912783109, \"y\" => 10.139484429842094)\n",
      "Evaluation value: -9.860515570157906\n",
      "Additional constant: 9.860515570157906\n",
      "Restriction type: LtEq\n",
      "Restriction set type: J_0_LP_v\n",
      "Value of miu: 0\n",
      "Value of beta: 0.7079756684103534\n",
      "Value of lambda: 0.23816337673879429\n",
      "Value of gamma: 0.5389908440495451\n",
      "++++++++++++++++++++++++++++++\n",
      "------------------------------\n",
      "Evaluation Point:\n",
      "Dict{Any, Any}(\"x\" => 10.789501912783109, \"y\" => 10.139484429842094)\n",
      "------------------------------\n",
      "_\n",
      "\n",
      "Num[-21.512779600608262, -0.790325469652862]\n",
      "Se va a crear el DataFrame\n",
      "Se va a crear el DataFrame\n",
      "Se va a crear el DataFrame\n",
      "Experimento Completado\n"
     ]
    }
   ],
   "source": [
    "RunExperiment(experiment,\"ex9.2.2(Quadratic)\")"
   ]
  }
 ],
 "metadata": {
  "kernelspec": {
   "display_name": "Julia 1.10.5",
   "language": "julia",
   "name": "julia-1.10"
  },
  "language_info": {
   "file_extension": ".jl",
   "mimetype": "application/julia",
   "name": "julia",
   "version": "1.10.5"
  }
 },
 "nbformat": 4,
 "nbformat_minor": 2
}
