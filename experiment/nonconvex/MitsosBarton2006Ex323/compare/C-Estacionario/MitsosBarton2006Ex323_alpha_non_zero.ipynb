{
 "cells": [
  {
   "cell_type": "markdown",
   "metadata": {},
   "source": [
    "## Importaciones necesarias"
   ]
  },
  {
   "cell_type": "code",
   "execution_count": 1,
   "metadata": {},
   "outputs": [],
   "source": [
    "using JuMP, Ipopt, Complementarity"
   ]
  },
  {
   "cell_type": "markdown",
   "metadata": {},
   "source": [
    "# Crear el modelo"
   ]
  },
  {
   "cell_type": "code",
   "execution_count": 2,
   "metadata": {},
   "outputs": [
    {
     "data": {
      "text/plain": [
       "A JuMP Model\n",
       "├ solver: Ipopt\n",
       "├ objective_sense: FEASIBILITY_SENSE\n",
       "├ num_variables: 0\n",
       "├ num_constraints: 0\n",
       "└ Names registered in the model: none"
      ]
     },
     "metadata": {},
     "output_type": "display_data"
    }
   ],
   "source": [
    "# Crear el modelo\n",
    "model = Model(Ipopt.Optimizer)"
   ]
  },
  {
   "cell_type": "markdown",
   "metadata": {},
   "source": [
    "## Definir Variables\n"
   ]
  },
  {
   "cell_type": "code",
   "execution_count": 3,
   "metadata": {},
   "outputs": [
    {
     "data": {
      "text/plain": [
       "3-element Vector{VariableRef}:\n",
       " l[1]\n",
       " l[2]\n",
       " l[3]"
      ]
     },
     "metadata": {},
     "output_type": "display_data"
    }
   ],
   "source": [
    "# Nivel superior\n",
    "@variable(model,x)\n",
    "# Nivel Inferior\n",
    "@variable(model,y)\n",
    "# Complementariedad\n",
    "@variable(model,l[1:3])"
   ]
  },
  {
   "cell_type": "markdown",
   "metadata": {},
   "source": [
    "## Definir Objetivo\n"
   ]
  },
  {
   "cell_type": "code",
   "execution_count": 4,
   "metadata": {},
   "outputs": [
    {
     "data": {
      "text/latex": [
       "$ x^2 $"
      ],
      "text/plain": [
       "x²"
      ]
     },
     "metadata": {},
     "output_type": "display_data"
    }
   ],
   "source": [
    "@objective(model,Min,x^2)"
   ]
  },
  {
   "cell_type": "markdown",
   "metadata": {},
   "source": [
    "## Definir Restricciones\n"
   ]
  },
  {
   "cell_type": "code",
   "execution_count": 5,
   "metadata": {},
   "outputs": [
    {
     "data": {
      "text/latex": [
       "$$ ((1.39 - 3.05 * y) + y ^ {2.0} * (x - 0.5)) - 0.0 \\leq 0 $$"
      ],
      "text/plain": [
       "((1.39 - 3.05 * y) + y ^ 2.0 * (x - 0.5)) - 0.0 <= 0"
      ]
     },
     "metadata": {},
     "output_type": "display_data"
    }
   ],
   "source": [
    "@NLconstraint(model,1+(-1.1l[1]+1.67l[2]+(l[3]*(2*y*(x-0.25)+3.05l[3])))==0) # Obj nivel inferior\n",
    "@NLconstraint(model,1.39-3.05y+(y^2)*(x-0.5)<=0 )#vs"
   ]
  },
  {
   "cell_type": "code",
   "execution_count": 6,
   "metadata": {},
   "outputs": [
    {
     "data": {
      "text/plain": [
       "(-x <= -1.19, x <= 1.19, -9 x² + x - y <= -15.45, -1.1 y <= -4.29, -1.67 y <= 8.5)"
      ]
     },
     "metadata": {},
     "output_type": "display_data"
    }
   ],
   "source": [
    "@constraints(model,begin\n",
    "1.19 - x<=0  #gs\n",
    "-1.19 + x<=0  #gs\n",
    "15.45+x-(9*(x^2))-y<=0 #gs\n",
    "4.29 - 1.1y<=0  #vs\n",
    "-8.5- 1.67y<=0 #vs\n",
    "\n",
    "end)"
   ]
  },
  {
   "cell_type": "markdown",
   "metadata": {},
   "source": [
    "## Definir variables Complementarias"
   ]
  },
  {
   "cell_type": "code",
   "execution_count": 7,
   "metadata": {},
   "outputs": [
    {
     "data": {
      "text/latex": [
       "$$ (sqrt(l[3] ^ {2.0} + (-(((1.39 + -3.05 * y) + (y * y) * (-0.5 + x))) - 0.0) ^ {2.0} + 1.0e-8) - (l[3] + (-(((1.39 + -3.05 * y) + (y * y) * (-0.5 + x))) - 0.0))) - 0.0 = 0 $$"
      ],
      "text/plain": [
       "(sqrt(l[3] ^ 2.0 + (-(((1.39 + -3.05 * y) + (y * y) * (-0.5 + x))) - 0.0) ^ 2.0 + 1.0e-8) - (l[3] + (-(((1.39 + -3.05 * y) + (y * y) * (-0.5 + x))) - 0.0))) - 0.0 == 0"
      ]
     },
     "metadata": {},
     "output_type": "display_data"
    }
   ],
   "source": [
    "@complements(model,0<=-(4.29 - 1.1y),l[1]>=0)\n",
    "@complements(model,0<=-(-8.5- 1.67y),l[2]>=0)\n",
    "@complements(model,0<=-(1.39-3.05y+(y^2)*(x-0.5)),l[3]>=0)"
   ]
  },
  {
   "cell_type": "markdown",
   "metadata": {},
   "source": [
    "## Optimizar"
   ]
  },
  {
   "cell_type": "code",
   "execution_count": 8,
   "metadata": {},
   "outputs": [
    {
     "name": "stdout",
     "output_type": "stream",
     "text": [
      "\n",
      "******************************************************************************\n",
      "This program contains Ipopt, a library for large-scale nonlinear optimization.\n",
      " Ipopt is released as open source code under the Eclipse Public License (EPL).\n",
      "         For more information visit https://github.com/coin-or/Ipopt\n",
      "******************************************************************************\n",
      "\n",
      "This is Ipopt version 3.14.16, running with linear solver MUMPS 5.7.3.\n",
      "\n",
      "Number of nonzeros in equality constraint Jacobian...:       12\n",
      "Number of nonzeros in inequality constraint Jacobian.:       16\n",
      "Number of nonzeros in Lagrangian Hessian.............:       26\n",
      "\n",
      "Total number of variables............................:        5\n",
      "                     variables with only lower bounds:        0\n",
      "                variables with lower and upper bounds:        0\n",
      "                     variables with only upper bounds:        0\n",
      "Total number of equality constraints.................:        4\n",
      "Total number of inequality constraints...............:       12\n",
      "        inequality constraints with only lower bounds:        6\n",
      "   inequality constraints with lower and upper bounds:        0\n",
      "        inequality constraints with only upper bounds:        6\n",
      "\n",
      "iter    objective    inf_pr   inf_du lg(mu)  ||d||  lg(rg) alpha_du alpha_pr  ls\n",
      "   0  0.0000000e+00 1.54e+01 2.50e-01  -1.0 0.00e+00    -  0.00e+00 0.00e+00   0\n",
      "   1  4.1078690e-08 1.54e+01 1.02e+00  -1.0 1.85e+01    -  1.08e-03 5.35e-04h  1\n",
      "   2r 4.1078690e-08 1.54e+01 9.99e+02   1.2 0.00e+00    -  0.00e+00 3.89e-07R  5\n",
      "   3r 1.0818562e-05 1.52e+01 9.98e+02   1.2 1.15e+03    -  7.05e-04 1.23e-03f  1\n",
      "   4r 1.3576010e-03 1.51e+01 1.18e+03   1.2 1.44e+01   2.0 5.71e-01 3.26e-02f  1\n",
      "   5r 1.4941498e-02 1.48e+01 1.01e+03   1.2 4.45e+00   2.4 2.14e-01 1.99e-01f  1\n",
      "   6r 1.8940735e-02 1.47e+01 8.86e+02   1.2 9.88e-01   2.9 3.90e-01 5.94e-02f  1\n",
      "   7r 1.8971141e-02 1.46e+01 2.77e+03   0.5 7.62e-01   3.3 3.56e-02 4.87e-01f  1\n",
      "   8r 3.1113889e-02 1.44e+01 2.29e+03   0.5 1.20e+00   2.8 5.09e-01 1.64e-01f  1\n",
      "   9r 5.4855707e-02 1.41e+01 6.77e+02   0.5 4.01e-01   3.2 1.00e+00 1.00e+00f  1\n",
      "iter    objective    inf_pr   inf_du lg(mu)  ||d||  lg(rg) alpha_du alpha_pr  ls\n",
      "  10r 8.2863623e-02 1.37e+01 7.29e+02   0.5 1.74e+00   2.7 9.93e-01 1.74e-01f  1\n",
      "  11  8.2861897e-02 1.37e+01 5.63e+01  -1.0 1.20e+01    -  8.36e-02 1.85e-03h  1\n",
      "  12  8.0296865e-02 1.38e+01 9.28e+03  -1.0 2.00e+01    -  6.63e-01 3.05e-03h  1\n",
      "  13  8.0271485e-02 1.38e+01 1.81e+07  -1.0 1.98e+01    -  9.86e-02 3.06e-05h  1\n",
      "  14r 8.0271485e-02 1.38e+01 1.00e+03   1.1 0.00e+00    -  0.00e+00 1.59e-07R  2\n",
      "  15r 3.5296984e+00 3.07e+00 9.96e+02   1.1 2.87e+03    -  4.05e-03 4.41e-03f  1\n",
      "  16r 3.6484151e+00 3.10e+00 9.92e+02   1.1 6.31e+02    -  4.75e-02 1.84e-03f  1\n",
      "  17r 3.5131607e+00 3.06e+00 9.33e+02   1.1 2.82e+01    -  4.59e-01 5.40e-02f  1\n",
      "  18r 1.6847752e+00 2.49e+00 7.00e+02   1.1 2.21e+01    -  5.24e-01 9.14e-01f  1\n",
      "  19  1.6820117e+00 2.49e+00 2.58e+00  -1.0 5.69e+00    -  8.67e-03 5.43e-03h  1\n",
      "iter    objective    inf_pr   inf_du lg(mu)  ||d||  lg(rg) alpha_du alpha_pr  ls\n",
      "  20  1.6813625e+00 2.49e+00 1.81e+04  -1.0 3.58e+01    -  1.00e+00 1.51e-04h  1\n",
      "  21  1.6762616e+00 2.48e+00 1.47e+05  -1.0 5.60e+01    -  6.51e-03 7.92e-04h  1\n",
      "  22r 1.6762616e+00 2.48e+00 1.00e+03   0.7 0.00e+00    -  0.00e+00 4.97e-07R  5\n",
      "  23r 1.2064820e+00 2.29e+00 9.98e+02   0.7 4.52e+03    -  8.76e-03 1.06e-03f  1\n",
      "  24r 1.2064820e+00 2.29e+00 9.99e+02   0.4 0.00e+00    -  0.00e+00 3.37e-07R  4\n",
      "  25r 1.1870611e+00 2.28e+00 9.96e+02   0.4 3.12e+02    -  8.71e-03 2.69e-03f  1\n",
      "  26r 1.1797025e+00 2.28e+00 9.90e+02   0.4 2.83e+01    -  8.71e-01 6.15e-03f  1\n",
      "  27r 1.1741684e+00 2.27e+00 6.98e+02   0.4 1.16e+00    -  4.08e-01 2.95e-01f  1\n",
      "  28r 1.1708044e+00 2.27e+00 3.28e+02   0.4 1.02e+00    -  1.00e+00 5.29e-01f  1\n",
      "  29r 1.1685413e+00 2.27e+00 1.91e+02   0.4 3.21e-02    -  1.00e+00 7.77e-01f  1\n",
      "iter    objective    inf_pr   inf_du lg(mu)  ||d||  lg(rg) alpha_du alpha_pr  ls\n",
      "  30r 1.1681528e+00 2.27e+00 9.15e+01   0.4 1.16e-01    -  1.00e+00 5.85e-01f  1\n",
      "  31r 1.1643468e+00 2.27e+00 7.30e-01  -0.3 8.52e-02    -  1.00e+00 1.00e+00f  1\n",
      "  32r 1.1634879e+00 2.27e+00 5.55e-01  -2.6 2.13e-02    -  9.96e-01 9.99e-01f  1\n",
      "  33r 1.1634882e+00 2.27e+00 1.07e-05  -2.6 3.44e-05    -  1.00e+00 1.00e+00h  1\n",
      "  34r 1.1634835e+00 2.27e+00 4.31e-02  -5.9 1.19e-04    -  1.00e+00 9.98e-01f  1\n",
      "  35r 1.1634834e+00 2.27e+00 2.60e+01  -5.9 9.54e-08    -  9.67e-01 9.18e-01f  1\n",
      "  36r 1.1634834e+00 2.27e+00 4.02e-08  -5.9 1.97e-08    -  1.00e+00 1.00e+00f  1\n",
      "  37r 1.1634834e+00 2.27e+00 1.13e+01  -8.8 3.03e-08    -  1.00e+00 8.91e-01f  1\n",
      "  38r 1.1634834e+00 2.27e+00 2.16e-01  -8.8 3.04e-09    -  9.79e-01 1.00e+00f  1\n",
      "\n",
      "Number of Iterations....: 38\n",
      "\n",
      "                                   (scaled)                 (unscaled)\n",
      "Objective...............:   1.1634834384068038e+00    1.1634834384068038e+00\n",
      "Dual infeasibility......:   2.1572984448747601e+00    2.1572984448747601e+00\n",
      "Constraint violation....:   2.2686488829711733e+00    2.2686488829711733e+00\n",
      "Variable bound violation:   0.0000000000000000e+00    0.0000000000000000e+00\n",
      "Complementarity.........:   1.6023883852548093e-09    1.6023883852548093e-09\n",
      "Overall NLP error.......:   2.2686488829711733e+00    2.2686488829711733e+00\n",
      "\n",
      "\n",
      "Number of objective function evaluations             = 56\n",
      "Number of objective gradient evaluations             = 16\n",
      "Number of equality constraint evaluations            = 56\n",
      "Number of inequality constraint evaluations          = 56\n",
      "Number of equality constraint Jacobian evaluations   = 44\n",
      "Number of inequality constraint Jacobian evaluations = 44\n",
      "Number of Lagrangian Hessian evaluations             = 39\n",
      "Total seconds in IPOPT                               = 4.742\n",
      "\n",
      "EXIT: Converged to a point of local infeasibility. Problem may be infeasible.\n"
     ]
    }
   ],
   "source": [
    "# Resolver el modelo\n",
    "optimize!(model)"
   ]
  },
  {
   "cell_type": "markdown",
   "metadata": {},
   "source": [
    "# Mostrar resultados"
   ]
  },
  {
   "cell_type": "code",
   "execution_count": 9,
   "metadata": {},
   "outputs": [
    {
     "name": "stdout",
     "output_type": "stream",
     "text": [
      "Estado de la solución: LOCALLY_INFEASIBLE\n",
      "Valor óptimo de x: -1.0786488948711734\n",
      "Valor óptimo de y1: 3.90000000500013\n",
      "Valores óptimos de l: [0.9090909082317349, 3.3304423274421707e-10, 1.4486236061331384e-10]\n"
     ]
    }
   ],
   "source": [
    "# Mostrar resultados\n",
    "println(\"Estado de la solución: \", termination_status(model))\n",
    "println(\"Valor óptimo de x: \", value(x))\n",
    "println(\"Valor óptimo de y1: \", value(y))\n",
    "#println(\"Valor óptimo de y2: \", value(y2))\n",
    "#println(\"Valores óptimos de s: \", value.(s))\n",
    "println(\"Valores óptimos de l: \", value.(l))"
   ]
  },
  {
   "cell_type": "code",
   "execution_count": 10,
   "metadata": {},
   "outputs": [
    {
     "data": {
      "text/plain": [
       "1.1634834384068038"
      ]
     },
     "metadata": {},
     "output_type": "display_data"
    }
   ],
   "source": [
    "objective_value(model)"
   ]
  },
  {
   "cell_type": "code",
   "execution_count": 11,
   "metadata": {},
   "outputs": [],
   "source": []
  }
 ],
 "metadata": {
  "kernelspec": {
   "display_name": "Julia 1.10.5",
   "language": "julia",
   "name": "julia-1.10"
  },
  "language_info": {
   "file_extension": ".jl",
   "mimetype": "application/julia",
   "name": "julia",
   "version": "1.10.5"
  }
 },
 "nbformat": 4,
 "nbformat_minor": 2
}
