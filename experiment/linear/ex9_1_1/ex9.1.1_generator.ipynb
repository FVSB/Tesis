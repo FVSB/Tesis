{
 "cells": [
  {
   "cell_type": "markdown",
   "metadata": {},
   "source": [
    "## Importar el módulo\n"
   ]
  },
  {
   "cell_type": "code",
   "execution_count": 1,
   "metadata": {},
   "outputs": [
    {
     "data": {
      "text/plain": [
       "RunExperiment"
      ]
     },
     "metadata": {},
     "output_type": "display_data"
    }
   ],
   "source": [
    "include(\"../../new_experiment.jl\")"
   ]
  },
  {
   "cell_type": "code",
   "execution_count": 2,
   "metadata": {},
   "outputs": [
    {
     "data": {
      "text/plain": [
       "TaskLocalRNG()"
      ]
     },
     "metadata": {},
     "output_type": "display_data"
    }
   ],
   "source": [
    "using Random\n",
    "\n",
    "# Random seed\n",
    "Random.seed!(1)"
   ]
  },
  {
   "cell_type": "markdown",
   "metadata": {},
   "source": [
    "Crear un experimento\n"
   ]
  },
  {
   "cell_type": "code",
   "execution_count": 3,
   "metadata": {},
   "outputs": [
    {
     "data": {
      "text/plain": [
       "Experiment(OptimizationModel(Problem(Any[], nothing), LeaderRestrictionProblem[], Problem(Any[], nothing), FollowerRestrictionProblem[], Dict{Any, Any}(), Number[1], false), OptimizationModel(Problem(Any[], nothing), LeaderRestrictionProblem[], Problem(Any[], nothing), FollowerRestrictionProblem[], Dict{Any, Any}(), Number[], true), Any[], Any[])"
      ]
     },
     "metadata": {},
     "output_type": "display_data"
    }
   ],
   "source": [
    "experiment=CreateExperiment()"
   ]
  },
  {
   "cell_type": "markdown",
   "metadata": {},
   "source": [
    "### Declarar variables del líder\n"
   ]
  },
  {
   "cell_type": "code",
   "execution_count": 4,
   "metadata": {},
   "outputs": [
    {
     "data": {
      "text/latex": [
       "$$ \\begin{equation}\n",
       "\\left[\n",
       "\\begin{array}{c}\n",
       "x \\\\\n",
       "\\end{array}\n",
       "\\right]\n",
       "\\end{equation}\n",
       " $$"
      ],
      "text/plain": [
       "1-element Vector{Num}:\n",
       " x"
      ]
     },
     "metadata": {},
     "output_type": "display_data"
    }
   ],
   "source": [
    "@leader_vars experiment x"
   ]
  },
  {
   "cell_type": "markdown",
   "metadata": {},
   "source": [
    "### Declarar Variables del Follower"
   ]
  },
  {
   "cell_type": "code",
   "execution_count": 5,
   "metadata": {},
   "outputs": [
    {
     "data": {
      "text/latex": [
       "$$ \\begin{equation}\n",
       "\\left[\n",
       "\\begin{array}{c}\n",
       "\\mathtt{y\\_1} \\\\\n",
       "\\mathtt{y\\_2} \\\\\n",
       "\\end{array}\n",
       "\\right]\n",
       "\\end{equation}\n",
       " $$"
      ],
      "text/plain": [
       "2-element Vector{Num}:\n",
       " y_1\n",
       " y_2"
      ]
     },
     "metadata": {},
     "output_type": "display_data"
    }
   ],
   "source": [
    "@follower_vars experiment y_1,y_2"
   ]
  },
  {
   "cell_type": "markdown",
   "metadata": {},
   "source": [
    "### Declarar Función Objetivo del Líder"
   ]
  },
  {
   "cell_type": "code",
   "execution_count": 6,
   "metadata": {},
   "outputs": [
    {
     "data": {
      "text/latex": [
       "$$ \\begin{equation}\n",
       " - x - 3 \\mathtt{y\\_1} + 2 \\mathtt{y\\_2}\n",
       "\\end{equation}\n",
       " $$"
      ],
      "text/plain": [
       "-x - 3y_1 + 2y_2"
      ]
     },
     "metadata": {},
     "output_type": "display_data"
    }
   ],
   "source": [
    "SetLeaderFunction(experiment,-x-3y_1+2y_2)"
   ]
  },
  {
   "cell_type": "markdown",
   "metadata": {},
   "source": [
    "### Función objetivo del Follower"
   ]
  },
  {
   "cell_type": "code",
   "execution_count": 7,
   "metadata": {},
   "outputs": [
    {
     "data": {
      "text/latex": [
       "$$ \\begin{equation}\n",
       " - \\mathtt{y\\_1}\n",
       "\\end{equation}\n",
       " $$"
      ],
      "text/plain": [
       "-y_1"
      ]
     },
     "metadata": {},
     "output_type": "display_data"
    }
   ],
   "source": [
    "SetFollowerFunction(experiment,-y_1)"
   ]
  },
  {
   "cell_type": "markdown",
   "metadata": {},
   "source": [
    "### Restricciones del Follower"
   ]
  },
  {
   "cell_type": "code",
   "execution_count": 8,
   "metadata": {},
   "outputs": [
    {
     "data": {
      "text/plain": [
       "1-element Vector{FollowerRestrictionProblem}:\n",
       " FollowerRestrictionProblem((-y_1) <= 0, J_0_LP_v, 0.07, 0.35, 0.7)"
      ]
     },
     "metadata": {},
     "output_type": "display_data"
    }
   ],
   "source": [
    "SetFollowerRestriction(experiment,-y_1<=0)"
   ]
  },
  {
   "cell_type": "code",
   "execution_count": 9,
   "metadata": {},
   "outputs": [
    {
     "data": {
      "text/plain": [
       "2-element Vector{FollowerRestrictionProblem}:\n",
       " FollowerRestrictionProblem((-y_1) <= 0, J_0_LP_v, 0.07, 0.35, 0.7)\n",
       " FollowerRestrictionProblem(y_1 <= 4, J_0_LP_v, 0.63, 0.91, 0.19)"
      ]
     },
     "metadata": {},
     "output_type": "display_data"
    }
   ],
   "source": [
    "SetFollowerRestriction(experiment,y_1<=4)"
   ]
  },
  {
   "cell_type": "code",
   "execution_count": 10,
   "metadata": {},
   "outputs": [
    {
     "data": {
      "text/plain": [
       "3-element Vector{FollowerRestrictionProblem}:\n",
       " FollowerRestrictionProblem((-y_1) <= 0, J_0_LP_v, 0.07, 0.35, 0.7)\n",
       " FollowerRestrictionProblem(y_1 <= 4, J_0_LP_v, 0.63, 0.91, 0.19)\n",
       " FollowerRestrictionProblem((-2x + y_1 + 4y_2) <= 16, J_0_LP_v, 0.77, 0.78, 0.67)"
      ]
     },
     "metadata": {},
     "output_type": "display_data"
    }
   ],
   "source": [
    "SetFollowerRestriction(experiment,-2x+y_1+4y_2<=16)"
   ]
  },
  {
   "cell_type": "code",
   "execution_count": 11,
   "metadata": {},
   "outputs": [
    {
     "data": {
      "text/plain": [
       "4-element Vector{FollowerRestrictionProblem}:\n",
       " FollowerRestrictionProblem((-y_1) <= 0, J_0_LP_v, 0.07, 0.35, 0.7)\n",
       " FollowerRestrictionProblem(y_1 <= 4, J_0_LP_v, 0.63, 0.91, 0.19)\n",
       " FollowerRestrictionProblem((-2x + y_1 + 4y_2) <= 16, J_0_LP_v, 0.77, 0.78, 0.67)\n",
       " FollowerRestrictionProblem((8x + y_1) <= 48, J_0_LP_v, 0.17, 0.57, 0.45)"
      ]
     },
     "metadata": {},
     "output_type": "display_data"
    }
   ],
   "source": [
    "SetFollowerRestriction(experiment,8x+3y_1-2y_1<=48)"
   ]
  },
  {
   "cell_type": "code",
   "execution_count": 12,
   "metadata": {},
   "outputs": [
    {
     "data": {
      "text/plain": [
       "5-element Vector{FollowerRestrictionProblem}:\n",
       " FollowerRestrictionProblem((-y_1) <= 0, J_0_LP_v, 0.07, 0.35, 0.7)\n",
       " FollowerRestrictionProblem(y_1 <= 4, J_0_LP_v, 0.63, 0.91, 0.19)\n",
       " FollowerRestrictionProblem((-2x + y_1 + 4y_2) <= 16, J_0_LP_v, 0.77, 0.78, 0.67)\n",
       " FollowerRestrictionProblem((8x + y_1) <= 48, J_0_LP_v, 0.17, 0.57, 0.45)\n",
       " FollowerRestrictionProblem((-2x - 2y_1) <= -12, J_0_LP_v, 0.3, 0.0, 0.57)"
      ]
     },
     "metadata": {},
     "output_type": "display_data"
    }
   ],
   "source": [
    "SetFollowerRestriction(experiment,-2x+y_1-3y_1<=-12)"
   ]
  },
  {
   "cell_type": "markdown",
   "metadata": {},
   "source": [
    "### Poner el Punto Optimo"
   ]
  },
  {
   "cell_type": "code",
   "execution_count": 13,
   "metadata": {},
   "outputs": [
    {
     "data": {
      "text/plain": [
       "Dict{Any, Any} with 3 entries:\n",
       "  x   => 8.1\n",
       "  y_1 => 5.0\n",
       "  y_2 => 2.05"
      ]
     },
     "metadata": {},
     "output_type": "display_data"
    }
   ],
   "source": [
    "SetPoint(experiment,Dict(x=>5,y_1=>4,y_2=>2))"
   ]
  },
  {
   "cell_type": "markdown",
   "metadata": {},
   "source": [
    "## Iniciar el Experimento\n"
   ]
  },
  {
   "cell_type": "code",
   "execution_count": 14,
   "metadata": {},
   "outputs": [
    {
     "name": "stdout",
     "output_type": "stream",
     "text": [
      "Va a retornar correctamente\n",
      "Leader's Objective Function:\n",
      "Variable names: [:y_1, :y_2, :x]\n",
      "Expression (string): -x - 3y_1 + 2y_2\n",
      "Parsed expression: -x - 3y_1 + 2y_2\n",
      "Evaluation point: Dict{Any, Any}(\"x\" => 8.1, \"y_2\" => 2.05, \"y_1\" => 5.0)\n",
      "Evaluation value: -19.0\n",
      "Is leader function: true\n",
      "------------------------------\n",
      "Leader's Restrictions:\n",
      "------------------------------\n",
      "Follower's Objective Function:\n",
      "Variable names: [:y_1]\n",
      "Expression (string): -y_1\n",
      "Parsed expression: -y_1\n",
      "Evaluation point: Dict{Any, Any}(\"x\" => 8.1, \"y_2\" => 2.05, \"y_1\" => 5.0)\n",
      "Evaluation value: -5.0\n",
      "Is leader function: false\n",
      "------------------------------\n",
      "Follower's Restrictions:\n",
      "++++++++++++++++++++++++++++++\n",
      "Restriction 1\n",
      "Variable names: [:y_1]\n",
      "Expression (string): (-y_1) == 0\n",
      "Parsed expression: 1.4164683088845837 - 0.4882369222252976y_1 + 0.49986161084970937y_2\n",
      "Evaluation point: Dict{Any, Any}(\"x\" => 8.1, \"y_2\" => 2.05, \"y_1\" => 5.0)\n",
      "Evaluation value: -1.4164683088845837\n",
      "Additional constant: 1.4164683088845837\n",
      "Restriction type: LtEq\n",
      "Restriction set type: J_0_L0_v\n",
      "Value of miu: 0\n",
      "Value of beta: 0\n",
      "Value of lambda: 0.35\n",
      "Value of gamma: 0\n",
      "++++++++++++++++++++++++++++++\n",
      "++++++++++++++++++++++++++++++\n",
      "Restriction 2\n",
      "Variable names: [:y_1]\n",
      "Expression (string): y_1 == 4\n",
      "Parsed expression: -1.4164683088845837 + 0.4882369222252976y_1 - 0.49986161084970937y_2\n",
      "Evaluation point: Dict{Any, Any}(\"x\" => 8.1, \"y_2\" => 2.05, \"y_1\" => 5.0)\n",
      "Evaluation value: -2.5835316911154163\n",
      "Additional constant: 2.5835316911154163\n",
      "Restriction type: LtEq\n",
      "Restriction set type: J_0_L0_v\n",
      "Value of miu: 0\n",
      "Value of beta: 0\n",
      "Value of lambda: 0.91\n",
      "Value of gamma: 0\n",
      "++++++++++++++++++++++++++++++\n",
      "++++++++++++++++++++++++++++++\n",
      "Restriction 3\n",
      "Variable names: [:y_1, :y_2, :x]\n",
      "Expression (string): (-2x + y_1 + 4y_2) == 16\n",
      "Parsed expression: 20.584306670357044 - 2x - 1.51120952117354y_1 + 1.5471907002491005y_2\n",
      "Evaluation point: Dict{Any, Any}(\"x\" => 8.1, \"y_2\" => 2.05, \"y_1\" => 5.0)\n",
      "Evaluation value: -36.584306670357044\n",
      "Additional constant: 36.584306670357044\n",
      "Restriction type: LtEq\n",
      "Restriction set type: J_0_LP_v\n",
      "Value of miu: 0\n",
      "Value of beta: 0\n",
      "Value of lambda: 0.78\n",
      "Value of gamma: 0\n",
      "++++++++++++++++++++++++++++++\n",
      "++++++++++++++++++++++++++++++\n",
      "Restriction 4\n",
      "Variable names: [:y_1, :x]\n",
      "Expression (string): (8x + y_1) == 48\n",
      "Parsed expression: -67.01646830888458 + 8x + 0.4882369222252976y_1 - 0.49986161084970937y_2\n",
      "Evaluation point: Dict{Any, Any}(\"x\" => 8.1, \"y_2\" => 2.05, \"y_1\" => 5.0)\n",
      "Evaluation value: 18.21646830888458\n",
      "Additional constant: -19.01646830888458\n",
      "Restriction type: LtEq\n",
      "Restriction set type: J_Ne_L0_v\n",
      "Value of miu: 0\n",
      "Value of beta: 0\n",
      "Value of lambda: 0.57\n",
      "Value of gamma: 0\n",
      "++++++++++++++++++++++++++++++\n",
      "++++++++++++++++++++++++++++++\n",
      "Restriction 5\n",
      "Variable names: [:y_1, :x]\n",
      "Expression (string): (-2x - 2y_1) == -12\n",
      "Parsed expression: 4.967063382230833 - 2x - 0.9764738444505952y_1 + 0.9997232216994187y_2\n",
      "Evaluation point: Dict{Any, Any}(\"x\" => 8.1, \"y_2\" => 2.05, \"y_1\" => 5.0)\n",
      "Evaluation value: -7.032936617769167\n",
      "Additional constant: -7.032936617769167\n",
      "Restriction type: LtEq\n",
      "Restriction set type: J_Ne_L0_v\n",
      "Value of miu: 0\n",
      "Value of beta: 0\n",
      "Value of lambda: 0.0\n",
      "Value of gamma: 0\n",
      "++++++++++++++++++++++++++++++\n",
      "------------------------------\n",
      "Evaluation Point:\n",
      "Dict{Any, Any}(\"x\" => 8.1, \"y_2\" => 2.05, \"y_1\" => 5.0)\n",
      "------------------------------\n",
      "_\n",
      "\n",
      "Num[1.0, 3.0, -2.0]\n",
      "Va a retornar correctamente\n",
      "Leader's Objective Function:\n",
      "Variable names: [:y_1, :y_2, :x]\n",
      "Expression (string): -x - 3y_1 + 2y_2\n",
      "Parsed expression: -x - 3y_1 + 2y_2\n",
      "Evaluation point: Dict{Any, Any}(\"x\" => 8.1, \"y_2\" => 2.05, \"y_1\" => 5.0)\n",
      "Evaluation value: -19.0\n",
      "Is leader function: true\n",
      "------------------------------\n",
      "Leader's Restrictions:\n",
      "------------------------------\n",
      "Follower's Objective Function:\n",
      "Variable names: [:y_1]\n",
      "Expression (string): -y_1\n",
      "Parsed expression: -y_1\n",
      "Evaluation point: Dict{Any, Any}(\"x\" => 8.1, \"y_2\" => 2.05, \"y_1\" => 5.0)\n",
      "Evaluation value: -5.0\n",
      "Is leader function: false\n",
      "------------------------------\n",
      "Follower's Restrictions:\n",
      "++++++++++++++++++++++++++++++\n",
      "Restriction 1\n",
      "Variable names: [:y_1]\n",
      "Expression (string): (-y_1) == 0\n",
      "Parsed expression: 5.0 - y_1\n",
      "Evaluation point: Dict{Any, Any}(\"x\" => 8.1, \"y_2\" => 2.05, \"y_1\" => 5.0)\n",
      "Evaluation value: -5.0\n",
      "Additional constant: 5.0\n",
      "Restriction type: LtEq\n",
      "Restriction set type: J_0_L0_v\n",
      "Value of miu: 0\n",
      "Value of beta: 0\n",
      "Value of lambda: 0.35\n",
      "Value of gamma: 0\n",
      "++++++++++++++++++++++++++++++\n",
      "++++++++++++++++++++++++++++++\n",
      "Restriction 2\n",
      "Variable names: [:y_1]\n",
      "Expression (string): y_1 == 4\n",
      "Parsed expression: -5.0 + y_1\n",
      "Evaluation point: Dict{Any, Any}(\"x\" => 8.1, \"y_2\" => 2.05, \"y_1\" => 5.0)\n",
      "Evaluation value: 1.0\n",
      "Additional constant: -1.0\n",
      "Restriction type: LtEq\n",
      "Restriction set type: J_0_L0_v\n",
      "Value of miu: 0\n",
      "Value of beta: -5.5\n",
      "Value of lambda: 0.91\n",
      "Value of gamma: -6.2\n",
      "++++++++++++++++++++++++++++++\n",
      "++++++++++++++++++++++++++++++\n",
      "Restriction 3\n",
      "Variable names: [:y_1, :y_2, :x]\n",
      "Expression (string): (-2x + y_1 + 4y_2) == 16\n",
      "Parsed expression: 3.0000000000000036 - 2x + y_1 + 4y_2\n",
      "Evaluation point: Dict{Any, Any}(\"x\" => 8.1, \"y_2\" => 2.05, \"y_1\" => 5.0)\n",
      "Evaluation value: -19.000000000000004\n",
      "Additional constant: 19.000000000000004\n",
      "Restriction type: LtEq\n",
      "Restriction set type: J_0_LP_v\n",
      "Value of miu: 0\n",
      "Value of beta: 0\n",
      "Value of lambda: 0.78\n",
      "Value of gamma: 0\n",
      "++++++++++++++++++++++++++++++\n",
      "++++++++++++++++++++++++++++++\n",
      "Restriction 4\n",
      "Variable names: [:y_1, :x]\n",
      "Expression (string): (8x + y_1) == 48\n",
      "Parsed expression: -70.46 + 8x + y_1\n",
      "Evaluation point: Dict{Any, Any}(\"x\" => 8.1, \"y_2\" => 2.05, \"y_1\" => 5.0)\n",
      "Evaluation value: 21.799999999999997\n",
      "Additional constant: -22.459999999999997\n",
      "Restriction type: LtEq\n",
      "Restriction set type: J_Ne_L0_v\n",
      "Value of miu: 0\n",
      "Value of beta: 0\n",
      "Value of lambda: 0.57\n",
      "Value of gamma: 0\n",
      "++++++++++++++++++++++++++++++\n",
      "++++++++++++++++++++++++++++++\n",
      "Restriction 5\n",
      "Variable names: [:y_1, :x]\n",
      "Expression (string): (-2x - 2y_1) == -12\n",
      "Parsed expression: -2.1999999999999993 - 2x - 2y_1\n",
      "Evaluation point: Dict{Any, Any}(\"x\" => 8.1, \"y_2\" => 2.05, \"y_1\" => 5.0)\n",
      "Evaluation value: -14.2\n",
      "Additional constant: -14.2\n",
      "Restriction type: LtEq\n",
      "Restriction set type: J_Ne_L0_v\n",
      "Value of miu: 0\n",
      "Value of beta: 0\n",
      "Value of lambda: 0.0\n",
      "Value of gamma: 0\n",
      "++++++++++++++++++++++++++++++\n",
      "------------------------------\n",
      "Evaluation Point:\n",
      "Dict{Any, Any}(\"x\" => 8.1, \"y_2\" => 2.05, \"y_1\" => 5.0)\n",
      "------------------------------\n",
      "_\n",
      "\n",
      "Num[1.0, 8.5, -2.0]\n",
      "Se va a crear el DataFrame\n",
      "Se va a crear el DataFrame\n",
      "Carpeta creada: d:\\GitHub\\Tesis\\experiment\\linear\\ex9.1.1\\Experimentos_Generador\n",
      "Se va a crear el DataFrame\n",
      "La carpeta ya existe: d:\\GitHub\\Tesis\\experiment\\linear\\ex9.1.1\\Experimentos_Generador\n",
      "Experimento Completado\n",
      "Va a retornar correctamente\n",
      "Leader's Objective Function:\n",
      "Variable names: [:y_1, :y_2, :x]\n",
      "Expression (string): -x - 3y_1 + 2y_2\n",
      "Parsed expression: -x - 3y_1 + 2y_2\n",
      "Evaluation point: Dict{Any, Any}(\"x\" => 8.1, \"y_2\" => 2.05, \"y_1\" => 5.0)\n",
      "Evaluation value: -19.0\n",
      "Is leader function: true\n",
      "------------------------------\n",
      "Leader's Restrictions:\n",
      "------------------------------\n",
      "Follower's Objective Function:\n",
      "Variable names: [:y_1]\n",
      "Expression (string): -y_1\n",
      "Parsed expression: -y_1\n",
      "Evaluation point: Dict{Any, Any}(\"x\" => 8.1, \"y_2\" => 2.05, \"y_1\" => 5.0)\n",
      "Evaluation value: -5.0\n",
      "Is leader function: false\n",
      "------------------------------\n",
      "Follower's Restrictions:\n",
      "++++++++++++++++++++++++++++++\n",
      "Restriction 1\n",
      "Variable names: [:y_1]\n",
      "Expression (string): (-y_1) == 0\n",
      "Parsed expression: 0.6691555555555564 - 0.45600000000000007y_1 + 0.7857777777777776y_2\n",
      "Evaluation point: Dict{Any, Any}(\"x\" => 8.1, \"y_2\" => 2.05, \"y_1\" => 5.0)\n",
      "Evaluation value: -0.6691555555555564\n",
      "Additional constant: 0.6691555555555564\n",
      "Restriction type: LtEq\n",
      "Restriction set type: J_0_L0_v\n",
      "Value of miu: 0\n",
      "Value of beta: 0\n",
      "Value of lambda: 0.35\n",
      "Value of gamma: 1.1\n",
      "++++++++++++++++++++++++++++++\n",
      "++++++++++++++++++++++++++++++\n",
      "Restriction 2\n",
      "Variable names: [:y_1]\n",
      "Expression (string): y_1 == 4\n",
      "Parsed expression: -2.4206000000000003 + 0.6759999999999999y_1 - 0.4679999999999999y_2\n",
      "Evaluation point: Dict{Any, Any}(\"x\" => 8.1, \"y_2\" => 2.05, \"y_1\" => 5.0)\n",
      "Evaluation value: -1.5793999999999997\n",
      "Additional constant: 1.5793999999999997\n",
      "Restriction type: LtEq\n",
      "Restriction set type: J_0_L0_v\n",
      "Value of miu: 0\n",
      "Value of beta: 9.7\n",
      "Value of lambda: 0.91\n",
      "Value of gamma: 0\n",
      "++++++++++++++++++++++++++++++\n",
      "++++++++++++++++++++++++++++++\n",
      "Restriction 3\n",
      "Variable names: [:y_1, :y_2, :x]\n",
      "Expression (string): (-2x + y_1 + 4y_2) == 16\n",
      "Parsed expression: 20.482599999999998 - 2x - 1.1959999999999997y_1 + 0.8280000000000007y_2\n",
      "Evaluation point: Dict{Any, Any}(\"x\" => 8.1, \"y_2\" => 2.05, \"y_1\" => 5.0)\n",
      "Evaluation value: -36.4826\n",
      "Additional constant: 36.4826\n",
      "Restriction type: LtEq\n",
      "Restriction set type: J_0_LP_v\n",
      "Value of miu: 0\n",
      "Value of beta: 6.3\n",
      "Value of lambda: 0.78\n",
      "Value of gamma: 0\n",
      "++++++++++++++++++++++++++++++\n",
      "++++++++++++++++++++++++++++++\n",
      "Restriction 4\n",
      "Variable names: [:y_1, :x]\n",
      "Expression (string): (8x + y_1) == 48\n",
      "Parsed expression: -69.3236 + 8x + 0.856y_1 - 0.208y_2\n",
      "Evaluation point: Dict{Any, Any}(\"x\" => 8.1, \"y_2\" => 2.05, \"y_1\" => 5.0)\n",
      "Evaluation value: 20.653599999999997\n",
      "Additional constant: -21.3236\n",
      "Restriction type: LtEq\n",
      "Restriction set type: J_Ne_L0_v\n",
      "Value of miu: 0\n",
      "Value of beta: 0\n",
      "Value of lambda: 0.57\n",
      "Value of gamma: 0.8999999999999999\n",
      "++++++++++++++++++++++++++++++\n",
      "++++++++++++++++++++++++++++++\n",
      "Restriction 5\n",
      "Variable names: [:y_1, :x]\n",
      "Expression (string): (-2x - 2y_1) == -12\n",
      "Parsed expression: 5.187911111111112 - 2x - 1.072y_1 + 1.3404444444444443y_2\n",
      "Evaluation point: Dict{Any, Any}(\"x\" => 8.1, \"y_2\" => 2.05, \"y_1\" => 5.0)\n",
      "Evaluation value: -6.812088888888888\n",
      "Additional constant: -6.812088888888888\n",
      "Restriction type: LtEq\n",
      "Restriction set type: J_Ne_L0_v\n",
      "Value of miu: 0\n",
      "Value of beta: 0\n",
      "Value of lambda: 0.0\n",
      "Value of gamma: 1.4000000000000001\n",
      "++++++++++++++++++++++++++++++\n",
      "------------------------------\n",
      "Evaluation Point:\n",
      "Dict{Any, Any}(\"x\" => 8.1, \"y_2\" => 2.05, \"y_1\" => 5.0)\n",
      "------------------------------\n",
      "_\n",
      "\n",
      "Num[13.6, 3.977599999999999, -2.6768000000000054]\n",
      "Va a retornar correctamente\n",
      "Leader's Objective Function:\n",
      "Variable names: [:y_1, :y_2, :x]\n",
      "Expression (string): -x - 3y_1 + 2y_2\n",
      "Parsed expression: -x - 3y_1 + 2y_2\n",
      "Evaluation point: Dict{Any, Any}(\"x\" => 8.1, \"y_2\" => 2.05, \"y_1\" => 5.0)\n",
      "Evaluation value: -19.0\n",
      "Is leader function: true\n",
      "------------------------------\n",
      "Leader's Restrictions:\n",
      "------------------------------\n",
      "Follower's Objective Function:\n",
      "Variable names: [:y_1]\n",
      "Expression (string): -y_1\n",
      "Parsed expression: -y_1\n",
      "Evaluation point: Dict{Any, Any}(\"x\" => 8.1, \"y_2\" => 2.05, \"y_1\" => 5.0)\n",
      "Evaluation value: -5.0\n",
      "Is leader function: false\n",
      "------------------------------\n",
      "Follower's Restrictions:\n",
      "++++++++++++++++++++++++++++++\n",
      "Restriction 1\n",
      "Variable names: [:y_1]\n",
      "Expression (string): (-y_1) == 0\n",
      "Parsed expression: 5.0 - y_1\n",
      "Evaluation point: Dict{Any, Any}(\"x\" => 8.1, \"y_2\" => 2.05, \"y_1\" => 5.0)\n",
      "Evaluation value: -5.0\n",
      "Additional constant: 5.0\n",
      "Restriction type: LtEq\n",
      "Restriction set type: J_0_L0_v\n",
      "Value of miu: 0\n",
      "Value of beta: 0\n",
      "Value of lambda: 0.35\n",
      "Value of gamma: 7.800000000000001\n",
      "++++++++++++++++++++++++++++++\n",
      "++++++++++++++++++++++++++++++\n",
      "Restriction 2\n",
      "Variable names: [:y_1]\n",
      "Expression (string): y_1 == 4\n",
      "Parsed expression: -5.0 + y_1\n",
      "Evaluation point: Dict{Any, Any}(\"x\" => 8.1, \"y_2\" => 2.05, \"y_1\" => 5.0)\n",
      "Evaluation value: 1.0\n",
      "Additional constant: -1.0\n",
      "Restriction type: LtEq\n",
      "Restriction set type: J_0_L0_v\n",
      "Value of miu: 0\n",
      "Value of beta: 4.4\n",
      "Value of lambda: 0.91\n",
      "Value of gamma: 0\n",
      "++++++++++++++++++++++++++++++\n",
      "++++++++++++++++++++++++++++++\n",
      "Restriction 3\n",
      "Variable names: [:y_1, :y_2, :x]\n",
      "Expression (string): (-2x + y_1 + 4y_2) == 16\n",
      "Parsed expression: 3.0000000000000036 - 2x + y_1 + 4y_2\n",
      "Evaluation point: Dict{Any, Any}(\"x\" => 8.1, \"y_2\" => 2.05, \"y_1\" => 5.0)\n",
      "Evaluation value: -19.000000000000004\n",
      "Additional constant: 19.000000000000004\n",
      "Restriction type: LtEq\n",
      "Restriction set type: J_0_LP_v\n",
      "Value of miu: 0\n",
      "Value of beta: 10.0\n",
      "Value of lambda: 0.78\n",
      "Value of gamma: 0\n",
      "++++++++++++++++++++++++++++++\n",
      "++++++++++++++++++++++++++++++\n",
      "Restriction 4\n",
      "Variable names: [:y_1, :x]\n",
      "Expression (string): (8x + y_1) == 48\n",
      "Parsed expression: -70.47999999999999 + 8x + y_1\n",
      "Evaluation point: Dict{Any, Any}(\"x\" => 8.1, \"y_2\" => 2.05, \"y_1\" => 5.0)\n",
      "Evaluation value: 21.799999999999997\n",
      "Additional constant: -22.479999999999997\n",
      "Restriction type: LtEq\n",
      "Restriction set type: J_Ne_L0_v\n",
      "Value of miu: 0\n",
      "Value of beta: 0\n",
      "Value of lambda: 0.57\n",
      "Value of gamma: 4.3\n",
      "++++++++++++++++++++++++++++++\n",
      "++++++++++++++++++++++++++++++\n",
      "Restriction 5\n",
      "Variable names: [:y_1, :x]\n",
      "Expression (string): (-2x - 2y_1) == -12\n",
      "Parsed expression: -2.1999999999999993 - 2x - 2y_1\n",
      "Evaluation point: Dict{Any, Any}(\"x\" => 8.1, \"y_2\" => 2.05, \"y_1\" => 5.0)\n",
      "Evaluation value: -14.2\n",
      "Additional constant: -14.2\n",
      "Restriction type: LtEq\n",
      "Restriction set type: J_Ne_L0_v\n",
      "Value of miu: 0\n",
      "Value of beta: 0\n",
      "Value of lambda: 0.0\n",
      "Value of gamma: 4.0\n",
      "++++++++++++++++++++++++++++++\n",
      "------------------------------\n",
      "Evaluation Point:\n",
      "Dict{Any, Any}(\"x\" => 8.1, \"y_2\" => 2.05, \"y_1\" => 5.0)\n",
      "------------------------------\n",
      "_\n",
      "\n",
      "Num[21.0, -11.4, -42.0]\n",
      "Se va a crear el DataFrame\n",
      "Se va a crear el DataFrame\n",
      "La carpeta ya existe: d:\\GitHub\\Tesis\\experiment\\linear\\ex9.1.1\\Experimentos_Generador\n",
      "Se va a crear el DataFrame\n",
      "La carpeta ya existe: d:\\GitHub\\Tesis\\experiment\\linear\\ex9.1.1\\Experimentos_Generador\n",
      "Experimento Completado\n",
      "Va a retornar correctamente\n",
      "Leader's Objective Function:\n",
      "Variable names: [:y_1, :y_2, :x]\n",
      "Expression (string): -x - 3y_1 + 2y_2\n",
      "Parsed expression: -x - 3y_1 + 2y_2\n",
      "Evaluation point: Dict{Any, Any}(\"x\" => 8.1, \"y_2\" => 2.05, \"y_1\" => 5.0)\n",
      "Evaluation value: -19.0\n",
      "Is leader function: true\n",
      "------------------------------\n",
      "Leader's Restrictions:\n",
      "------------------------------\n",
      "Follower's Objective Function:\n",
      "Variable names: [:y_1]\n",
      "Expression (string): -y_1\n",
      "Parsed expression: -y_1\n",
      "Evaluation point: Dict{Any, Any}(\"x\" => 8.1, \"y_2\" => 2.05, \"y_1\" => 5.0)\n",
      "Evaluation value: -5.0\n",
      "Is leader function: false\n",
      "------------------------------\n",
      "Follower's Restrictions:\n",
      "++++++++++++++++++++++++++++++\n",
      "Restriction 1\n",
      "Variable names: [:y_1]\n",
      "Expression (string): (-y_1) == 0\n",
      "Parsed expression: -11.536615846038488 + 1.47796384237274y_1 + 2.022827626426727y_2\n",
      "Evaluation point: Dict{Any, Any}(\"x\" => 8.1, \"y_2\" => 2.05, \"y_1\" => 5.0)\n",
      "Evaluation value: 11.536615846038488\n",
      "Additional constant: -11.536615846038488\n",
      "Restriction type: LtEq\n",
      "Restriction set type: J_0_L0_v\n",
      "Value of miu: 0\n",
      "Value of beta: 2.9\n",
      "Value of lambda: 0.35\n",
      "Value of gamma: 9.200000000000001\n",
      "++++++++++++++++++++++++++++++\n",
      "++++++++++++++++++++++++++++++\n",
      "Restriction 2\n",
      "Variable names: [:y_1]\n",
      "Expression (string): y_1 == 4\n",
      "Parsed expression: -11.892526868282928 + 2.0328251270515705y_1 + 0.8431225526951597y_2\n",
      "Evaluation point: Dict{Any, Any}(\"x\" => 8.1, \"y_2\" => 2.05, \"y_1\" => 5.0)\n",
      "Evaluation value: 7.892526868282929\n",
      "Additional constant: -7.892526868282929\n",
      "Restriction type: LtEq\n",
      "Restriction set type: J_0_L0_v\n",
      "Value of miu: 0\n",
      "Value of beta: 9.9\n",
      "Value of lambda: 0.91\n",
      "Value of gamma: 8.0\n",
      "++++++++++++++++++++++++++++++\n",
      "++++++++++++++++++++++++++++++\n",
      "Restriction 3\n",
      "Variable names: [:y_1, :y_2, :x]\n",
      "Expression (string): (-2x + y_1 + 4y_2) == 16\n",
      "Parsed expression: 20.08147963009248 - 2x - 1.5596100974756308y_1 + 1.9105223694076479y_2\n",
      "Evaluation point: Dict{Any, Any}(\"x\" => 8.1, \"y_2\" => 2.05, \"y_1\" => 5.0)\n",
      "Evaluation value: -36.08147963009248\n",
      "Additional constant: 36.08147963009248\n",
      "Restriction type: LtEq\n",
      "Restriction set type: J_0_LP_v\n",
      "Value of miu: 0\n",
      "Value of beta: 0.4\n",
      "Value of lambda: 0.78\n",
      "Value of gamma: 4.1\n",
      "++++++++++++++++++++++++++++++\n",
      "++++++++++++++++++++++++++++++\n",
      "Restriction 4\n",
      "Variable names: [:y_1, :x]\n",
      "Expression (string): (8x + y_1) == 48\n",
      "Parsed expression: -77.59739065233691 + 8x + 2.1144713821544614y_1 + 0.9097725568607851y_2\n",
      "Evaluation point: Dict{Any, Any}(\"x\" => 8.1, \"y_2\" => 2.05, \"y_1\" => 5.0)\n",
      "Evaluation value: 29.237390652336913\n",
      "Additional constant: -29.597390652336912\n",
      "Restriction type: LtEq\n",
      "Restriction set type: J_Ne_L0_v\n",
      "Value of miu: 0\n",
      "Value of beta: 7.199999999999999\n",
      "Value of lambda: 0.57\n",
      "Value of gamma: 8.4\n",
      "++++++++++++++++++++++++++++++\n",
      "++++++++++++++++++++++++++++++\n",
      "Restriction 5\n",
      "Variable names: [:y_1, :x]\n",
      "Expression (string): (-2x - 2y_1) == -12\n",
      "Parsed expression: 6.26836290927268 - 2x + 0.9147713071732069y_1 + 2.3794051487128223y_2\n",
      "Evaluation point: Dict{Any, Any}(\"x\" => 8.1, \"y_2\" => 2.05, \"y_1\" => 5.0)\n",
      "Evaluation value: 5.25163709072732\n",
      "Additional constant: -5.73163709072732\n",
      "Restriction type: LtEq\n",
      "Restriction set type: J_Ne_L0_v\n",
      "Value of miu: 0\n",
      "Value of beta: 0.7000000000000001\n",
      "Value of lambda: 0.0\n",
      "Value of gamma: 8.4\n",
      "++++++++++++++++++++++++++++++\n",
      "------------------------------\n",
      "Evaluation Point:\n",
      "Dict{Any, Any}(\"x\" => 8.1, \"y_2\" => 2.05, \"y_1\" => 5.0)\n",
      "------------------------------\n",
      "_\n",
      "\n",
      "Num[-54.4, -36.65175372823461, -25.193268349579277]\n",
      "Va a retornar correctamente\n",
      "Leader's Objective Function:\n",
      "Variable names: [:y_1, :y_2, :x]\n",
      "Expression (string): -x - 3y_1 + 2y_2\n",
      "Parsed expression: -x - 3y_1 + 2y_2\n",
      "Evaluation point: Dict{Any, Any}(\"x\" => 8.1, \"y_2\" => 2.05, \"y_1\" => 5.0)\n",
      "Evaluation value: -19.0\n",
      "Is leader function: true\n",
      "------------------------------\n",
      "Leader's Restrictions:\n",
      "------------------------------\n",
      "Follower's Objective Function:\n",
      "Variable names: [:y_1]\n",
      "Expression (string): -y_1\n",
      "Parsed expression: -y_1\n",
      "Evaluation point: Dict{Any, Any}(\"x\" => 8.1, \"y_2\" => 2.05, \"y_1\" => 5.0)\n",
      "Evaluation value: -5.0\n",
      "Is leader function: false\n",
      "------------------------------\n",
      "Follower's Restrictions:\n",
      "++++++++++++++++++++++++++++++\n",
      "Restriction 1\n",
      "Variable names: [:y_1]\n",
      "Expression (string): (-y_1) == 0\n",
      "Parsed expression: 5.0 - y_1\n",
      "Evaluation point: Dict{Any, Any}(\"x\" => 8.1, \"y_2\" => 2.05, \"y_1\" => 5.0)\n",
      "Evaluation value: -5.0\n",
      "Additional constant: 5.0\n",
      "Restriction type: LtEq\n",
      "Restriction set type: J_0_L0_v\n",
      "Value of miu: 0\n",
      "Value of beta: 9.1\n",
      "Value of lambda: 0.35\n",
      "Value of gamma: 8.0\n",
      "++++++++++++++++++++++++++++++\n",
      "++++++++++++++++++++++++++++++\n",
      "Restriction 2\n",
      "Variable names: [:y_1]\n",
      "Expression (string): y_1 == 4\n",
      "Parsed expression: -5.0 + y_1\n",
      "Evaluation point: Dict{Any, Any}(\"x\" => 8.1, \"y_2\" => 2.05, \"y_1\" => 5.0)\n",
      "Evaluation value: 1.0\n",
      "Additional constant: -1.0\n",
      "Restriction type: LtEq\n",
      "Restriction set type: J_0_L0_v\n",
      "Value of miu: 0\n",
      "Value of beta: 7.800000000000001\n",
      "Value of lambda: 0.91\n",
      "Value of gamma: 6.4\n",
      "++++++++++++++++++++++++++++++\n",
      "++++++++++++++++++++++++++++++\n",
      "Restriction 3\n",
      "Variable names: [:y_1, :y_2, :x]\n",
      "Expression (string): (-2x + y_1 + 4y_2) == 16\n",
      "Parsed expression: 3.0000000000000036 - 2x + y_1 + 4y_2\n",
      "Evaluation point: Dict{Any, Any}(\"x\" => 8.1, \"y_2\" => 2.05, \"y_1\" => 5.0)\n",
      "Evaluation value: -19.000000000000004\n",
      "Additional constant: 19.000000000000004\n",
      "Restriction type: LtEq\n",
      "Restriction set type: J_0_LP_v\n",
      "Value of miu: 0\n",
      "Value of beta: 1.2\n",
      "Value of lambda: 0.78\n",
      "Value of gamma: 4.0\n",
      "++++++++++++++++++++++++++++++\n",
      "++++++++++++++++++++++++++++++\n",
      "Restriction 4\n",
      "Variable names: [:y_1, :x]\n",
      "Expression (string): (8x + y_1) == 48\n",
      "Parsed expression: -70.1 + 8x + y_1\n",
      "Evaluation point: Dict{Any, Any}(\"x\" => 8.1, \"y_2\" => 2.05, \"y_1\" => 5.0)\n",
      "Evaluation value: 21.799999999999997\n",
      "Additional constant: -22.099999999999998\n",
      "Restriction type: LtEq\n",
      "Restriction set type: J_Ne_L0_v\n",
      "Value of miu: 0\n",
      "Value of beta: 6.0\n",
      "Value of lambda: 0.57\n",
      "Value of gamma: 7.9\n",
      "++++++++++++++++++++++++++++++\n",
      "++++++++++++++++++++++++++++++\n",
      "Restriction 5\n",
      "Variable names: [:y_1, :x]\n",
      "Expression (string): (-2x - 2y_1) == -12\n",
      "Parsed expression: -2.1999999999999993 - 2x - 2y_1\n",
      "Evaluation point: Dict{Any, Any}(\"x\" => 8.1, \"y_2\" => 2.05, \"y_1\" => 5.0)\n",
      "Evaluation value: -14.2\n",
      "Additional constant: -14.2\n",
      "Restriction type: LtEq\n",
      "Restriction set type: J_Ne_L0_v\n",
      "Value of miu: 0\n",
      "Value of beta: 2.1\n",
      "Value of lambda: 0.0\n",
      "Value of gamma: 2.5\n",
      "++++++++++++++++++++++++++++++\n",
      "------------------------------\n",
      "Evaluation Point:\n",
      "Dict{Any, Any}(\"x\" => 8.1, \"y_2\" => 2.05, \"y_1\" => 5.0)\n",
      "------------------------------\n",
      "_\n",
      "\n",
      "Num[-40.4, 1.299999999999999, -6.8]\n",
      "Se va a crear el DataFrame\n",
      "Se va a crear el DataFrame\n",
      "La carpeta ya existe: d:\\GitHub\\Tesis\\experiment\\linear\\ex9.1.1\\Experimentos_Generador\n",
      "Se va a crear el DataFrame\n",
      "La carpeta ya existe: d:\\GitHub\\Tesis\\experiment\\linear\\ex9.1.1\\Experimentos_Generador\n",
      "Experimento Completado\n",
      "Finilizado el experimento completo\n"
     ]
    }
   ],
   "source": [
    "RunExperiment(experiment,\"(ex9.1.1(Linear))\",true)"
   ]
  }
 ],
 "metadata": {
  "kernelspec": {
   "display_name": "Julia 1.11.3",
   "language": "julia",
   "name": "julia-1.11"
  },
  "language_info": {
   "file_extension": ".jl",
   "mimetype": "application/julia",
   "name": "julia",
   "version": "1.11.3"
  }
 },
 "nbformat": 4,
 "nbformat_minor": 2
}
