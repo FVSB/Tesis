{
 "cells": [
  {
   "cell_type": "code",
   "execution_count": 2,
   "metadata": {},
   "outputs": [
    {
     "ename": "ArgumentError",
     "evalue": "ArgumentError: Package GLPK not found in current path.\n- Run `import Pkg; Pkg.add(\"GLPK\")` to install the GLPK package.",
     "output_type": "error",
     "traceback": [
      "ArgumentError: Package GLPK not found in current path.\n",
      "- Run `import Pkg; Pkg.add(\"GLPK\")` to install the GLPK package.\n",
      "\n",
      "Stacktrace:\n",
      "  [1] macro expansion\n",
      "    @ ./loading.jl:1163 [inlined]\n",
      "  [2] macro expansion\n",
      "    @ ./lock.jl:223 [inlined]\n",
      "  [3] require(into::Module, mod::Symbol)\n",
      "    @ Base ./loading.jl:1144\n",
      "  [4] eval\n",
      "    @ ./boot.jl:368 [inlined]\n",
      "  [5] include_string(mapexpr::typeof(REPL.softscope), mod::Module, code::String, filename::String)\n",
      "    @ Base ./loading.jl:1428\n",
      "  [6] #invokelatest#2\n",
      "    @ ./essentials.jl:729 [inlined]\n",
      "  [7] invokelatest\n",
      "    @ ./essentials.jl:726 [inlined]\n",
      "  [8] (::VSCodeServer.var\"#217#218\"{VSCodeServer.NotebookRunCellArguments, String})()\n",
      "    @ VSCodeServer ~/.vscode-server/extensions/julialang.language-julia-1.127.2/scripts/packages/VSCodeServer/src/serve_notebook.jl:24\n",
      "  [9] withpath(f::VSCodeServer.var\"#217#218\"{VSCodeServer.NotebookRunCellArguments, String}, path::String)\n",
      "    @ VSCodeServer ~/.vscode-server/extensions/julialang.language-julia-1.127.2/scripts/packages/VSCodeServer/src/repl.jl:276\n",
      " [10] notebook_runcell_request(conn::VSCodeServer.JSONRPC.JSONRPCEndpoint{Base.PipeEndpoint, Base.PipeEndpoint}, params::VSCodeServer.NotebookRunCellArguments)\n",
      "    @ VSCodeServer ~/.vscode-server/extensions/julialang.language-julia-1.127.2/scripts/packages/VSCodeServer/src/serve_notebook.jl:13\n",
      " [11] dispatch_msg(x::VSCodeServer.JSONRPC.JSONRPCEndpoint{Base.PipeEndpoint, Base.PipeEndpoint}, dispatcher::VSCodeServer.JSONRPC.MsgDispatcher, msg::Dict{String, Any})\n",
      "    @ VSCodeServer.JSONRPC ~/.vscode-server/extensions/julialang.language-julia-1.127.2/scripts/packages/JSONRPC/src/typed.jl:67\n",
      " [12] serve_notebook(pipename::String, debugger_pipename::String, outputchannel_logger::Base.CoreLogging.SimpleLogger; error_handler::var\"#5#10\"{String})\n",
      "    @ VSCodeServer ~/.vscode-server/extensions/julialang.language-julia-1.127.2/scripts/packages/VSCodeServer/src/serve_notebook.jl:147\n",
      " [13] top-level scope\n",
      "    @ ~/.vscode-server/extensions/julialang.language-julia-1.127.2/scripts/notebook/notebook.jl:35"
     ]
    }
   ],
   "source": [
    "\n",
    "using BilevelJuMP\n",
    "using GLPK\n",
    "\n",
    "# Crear el modelo bilevel\n",
    "model = BilevelModel(GLPK.Optimizer)\n",
    "\n",
    "# Variables del nivel superior\n",
    "@variable(model.upper, x >= 0)\n",
    "\n",
    "# Variables del nivel inferior\n",
    "@variable(model.lower, y >= 0)\n",
    "\n",
    "# Definir las funciones objetivo en el nivel inferior\n",
    "@objective(model.lower, Max, 3y - (y^2))  # Primera función objetivo: f1(y)\n",
    "@objective(model.lower, Max, 2y - (y^2) + x)  # Segunda función objetivo: f2(y)\n",
    "\n",
    "# Agregar restricciones al nivel inferior\n",
    "@constraint(model.lower, y <= x)  # Restricción del nivel inferior\n",
    "\n",
    "# Definir la función objetivo en el nivel superior\n",
    "@objective(model.upper, Min, x)  # Función objetivo: minimizar x\n",
    "\n",
    "# Agregar restricciones al nivel superior\n",
    "@constraint(model.upper, x <= 10)  # Restricción del nivel superior\n",
    "\n",
    "# Resolver el modelo\n",
    "optimize!(model)\n",
    "\n",
    "# Obtener resultados\n",
    "optimal_x = value(x)\n",
    "optimal_y = value(y)\n",
    "\n",
    "println(\"Valor óptimo de x (nivel superior): \", optimal_x)\n",
    "println(\"Valor óptimo de y (nivel inferior): \", optimal_y)"
   ]
  },
  {
   "cell_type": "code",
   "execution_count": null,
   "metadata": {},
   "outputs": [],
   "source": []
  }
 ],
 "metadata": {
  "kernelspec": {
   "display_name": "Julia 1.8.5",
   "language": "julia",
   "name": "julia-1.8"
  },
  "language_info": {
   "file_extension": ".jl",
   "mimetype": "application/julia",
   "name": "julia",
   "version": "1.8.5"
  }
 },
 "nbformat": 4,
 "nbformat_minor": 2
}
