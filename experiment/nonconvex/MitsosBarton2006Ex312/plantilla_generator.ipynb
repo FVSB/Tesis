{
 "cells": [
  {
   "cell_type": "markdown",
   "metadata": {},
   "source": [
    "## Importar el módulo\n"
   ]
  },
  {
   "cell_type": "code",
   "execution_count": 1,
   "metadata": {},
   "outputs": [
    {
     "data": {
      "text/plain": [
       "RunExperiment"
      ]
     },
     "metadata": {},
     "output_type": "display_data"
    }
   ],
   "source": [
    "include(\"../../new_experiment.jl\")"
   ]
  },
  {
   "cell_type": "code",
   "execution_count": 2,
   "metadata": {},
   "outputs": [
    {
     "data": {
      "text/plain": [
       "TaskLocalRNG()"
      ]
     },
     "metadata": {},
     "output_type": "display_data"
    }
   ],
   "source": [
    "using Random\n",
    "\n",
    "# Random seed\n",
    "Random.seed!(6)"
   ]
  },
  {
   "cell_type": "markdown",
   "metadata": {},
   "source": [
    "Crear un experimento\n"
   ]
  },
  {
   "cell_type": "code",
   "execution_count": 3,
   "metadata": {},
   "outputs": [
    {
     "data": {
      "text/plain": [
       "Experiment(OptimizationModel(Problem(Any[], nothing), LeaderRestrictionProblem[], Problem(Any[], nothing), FollowerRestrictionProblem[], Dict{Any, Any}(), Number[1], false), OptimizationModel(Problem(Any[], nothing), LeaderRestrictionProblem[], Problem(Any[], nothing), FollowerRestrictionProblem[], Dict{Any, Any}(), Number[], true), Any[], Any[])"
      ]
     },
     "metadata": {},
     "output_type": "display_data"
    }
   ],
   "source": [
    "experiment=CreateExperiment()"
   ]
  },
  {
   "cell_type": "markdown",
   "metadata": {},
   "source": [
    "### Declarar variables del líder\n"
   ]
  },
  {
   "cell_type": "code",
   "execution_count": 4,
   "metadata": {},
   "outputs": [
    {
     "data": {
      "text/latex": [
       "$$ \\begin{equation}\n",
       "\\left[\n",
       "\\begin{array}{c}\n",
       "x \\\\\n",
       "\\end{array}\n",
       "\\right]\n",
       "\\end{equation}\n",
       " $$"
      ],
      "text/plain": [
       "1-element Vector{Num}:\n",
       " x"
      ]
     },
     "metadata": {},
     "output_type": "display_data"
    }
   ],
   "source": [
    "@leader_vars experiment x"
   ]
  },
  {
   "cell_type": "markdown",
   "metadata": {},
   "source": [
    "### Declarar Variables del Follower"
   ]
  },
  {
   "cell_type": "code",
   "execution_count": 5,
   "metadata": {},
   "outputs": [
    {
     "data": {
      "text/latex": [
       "$$ \\begin{equation}\n",
       "\\left[\n",
       "\\begin{array}{c}\n",
       "y \\\\\n",
       "\\end{array}\n",
       "\\right]\n",
       "\\end{equation}\n",
       " $$"
      ],
      "text/plain": [
       "1-element Vector{Num}:\n",
       " y"
      ]
     },
     "metadata": {},
     "output_type": "display_data"
    }
   ],
   "source": [
    "@follower_vars experiment y"
   ]
  },
  {
   "cell_type": "markdown",
   "metadata": {},
   "source": [
    "### Declarar Función Objetivo del Líder"
   ]
  },
  {
   "cell_type": "code",
   "execution_count": 6,
   "metadata": {},
   "outputs": [
    {
     "data": {
      "text/latex": [
       "$$ \\begin{equation}\n",
       " - x + x y + 10 y^{2}\n",
       "\\end{equation}\n",
       " $$"
      ],
      "text/plain": [
       "-x + x*y + 10(y^2)"
      ]
     },
     "metadata": {},
     "output_type": "display_data"
    }
   ],
   "source": [
    "SetLeaderFunction(experiment,-x+x*y+10y^2)"
   ]
  },
  {
   "cell_type": "markdown",
   "metadata": {},
   "source": [
    "Restricciones del Líder"
   ]
  },
  {
   "cell_type": "code",
   "execution_count": 7,
   "metadata": {},
   "outputs": [
    {
     "data": {
      "text/plain": [
       "1-element Vector{LeaderRestrictionProblem}:\n",
       " LeaderRestrictionProblem((-1 - x) <= 0, 0.83, J_0_g)"
      ]
     },
     "metadata": {},
     "output_type": "display_data"
    }
   ],
   "source": [
    "SetLeaderRestriction(experiment,-x-1<=0)"
   ]
  },
  {
   "cell_type": "code",
   "execution_count": 8,
   "metadata": {},
   "outputs": [
    {
     "data": {
      "text/plain": [
       "2-element Vector{LeaderRestrictionProblem}:\n",
       " LeaderRestrictionProblem((-1 - x) <= 0, 0.83, J_0_g)\n",
       " LeaderRestrictionProblem((-1 + x) <= 0, 0.08, J_0_g)"
      ]
     },
     "metadata": {},
     "output_type": "display_data"
    }
   ],
   "source": [
    "SetLeaderRestriction(experiment,x-1<=0)"
   ]
  },
  {
   "cell_type": "markdown",
   "metadata": {},
   "source": [
    "### Función objetivo del Follower"
   ]
  },
  {
   "cell_type": "code",
   "execution_count": 9,
   "metadata": {},
   "outputs": [
    {
     "data": {
      "text/latex": [
       "$$ \\begin{equation}\n",
       " - y^{2} x + 0.5 y^{4}\n",
       "\\end{equation}\n",
       " $$"
      ],
      "text/plain": [
       "-x*(y^2) + 0.5(y^4)"
      ]
     },
     "metadata": {},
     "output_type": "display_data"
    }
   ],
   "source": [
    "SetFollowerFunction(experiment,(-x*(y^2))+(0.5*(y^4)))"
   ]
  },
  {
   "cell_type": "markdown",
   "metadata": {},
   "source": [
    "### Restricciones del Follower"
   ]
  },
  {
   "cell_type": "code",
   "execution_count": 10,
   "metadata": {},
   "outputs": [
    {
     "data": {
      "text/plain": [
       "1-element Vector{FollowerRestrictionProblem}:\n",
       " FollowerRestrictionProblem((-1 - y) <= 0, J_0_LP_v, 0.56, 0.01, 0.1)"
      ]
     },
     "metadata": {},
     "output_type": "display_data"
    }
   ],
   "source": [
    "SetFollowerRestriction(experiment,-y-1<=0)"
   ]
  },
  {
   "cell_type": "code",
   "execution_count": 11,
   "metadata": {},
   "outputs": [
    {
     "data": {
      "text/plain": [
       "2-element Vector{FollowerRestrictionProblem}:\n",
       " FollowerRestrictionProblem((-1 - y) <= 0, J_0_LP_v, 0.56, 0.01, 0.1)\n",
       " FollowerRestrictionProblem((-1 + y) <= 0, J_0_LP_v, 0.18, 0.97, 0.38)"
      ]
     },
     "metadata": {},
     "output_type": "display_data"
    }
   ],
   "source": [
    "SetFollowerRestriction(experiment,y-1<=0)"
   ]
  },
  {
   "cell_type": "markdown",
   "metadata": {},
   "source": [
    "### Poner el Punto Optimo"
   ]
  },
  {
   "cell_type": "code",
   "execution_count": 12,
   "metadata": {},
   "outputs": [
    {
     "data": {
      "text/plain": [
       "Dict{Any, Any} with 2 entries:\n",
       "  y => 0.15\n",
       "  x => 1.9"
      ]
     },
     "metadata": {},
     "output_type": "display_data"
    }
   ],
   "source": [
    "SetPoint(experiment,Dict(x=>0,y=>0))"
   ]
  },
  {
   "cell_type": "markdown",
   "metadata": {},
   "source": [
    "## Iniciar el Experimento\n"
   ]
  },
  {
   "cell_type": "code",
   "execution_count": 13,
   "metadata": {},
   "outputs": [
    {
     "name": "stdout",
     "output_type": "stream",
     "text": [
      "Va a retornar correctamente\n",
      "Leader's Objective Function:\n",
      "Variable names: [:y, :x]\n",
      "Expression (string): -x + x*y + 10(y^2)\n",
      "Parsed expression: -x + x*y + 10(y^2)\n",
      "Evaluation point: Dict{Any, Any}(\"x\" => 1.9, \"y\" => 0.15)\n",
      "Evaluation value: -1.3900000000000001\n",
      "Is leader function: true\n",
      "------------------------------\n",
      "Leader's Restrictions:\n",
      "++++++++++++++++++++++++++++++\n",
      "Restriction 1\n",
      "Variable names: [:x]\n",
      "Expression (string): (-1 - x) == 0\n",
      "Parsed expression: 1.9 - x\n",
      "Evaluation point: Dict{Any, Any}(\"x\" => 1.9, \"y\" => 0.15)\n",
      "Evaluation value: -2.9\n",
      "Additional constant: 2.9\n",
      "Restriction type: LtEq\n",
      "Restriction set type: J_0_g\n",
      "Value of miu: 0.83\n",
      "Value of beta: 0\n",
      "Value of lambda: 0\n",
      "Value of gamma: 0\n",
      "++++++++++++++++++++++++++++++\n",
      "++++++++++++++++++++++++++++++\n",
      "Restriction 2\n",
      "Variable names: [:x]\n",
      "Expression (string): (-1 + x) == 0\n",
      "Parsed expression: -1.9 + x\n",
      "Evaluation point: Dict{Any, Any}(\"x\" => 1.9, \"y\" => 0.15)\n",
      "Evaluation value: 0.8999999999999999\n",
      "Additional constant: -0.8999999999999999\n",
      "Restriction type: LtEq\n",
      "Restriction set type: J_0_g\n",
      "Value of miu: 0.08\n",
      "Value of beta: 0\n",
      "Value of lambda: 0\n",
      "Value of gamma: 0\n",
      "++++++++++++++++++++++++++++++\n",
      "------------------------------\n",
      "Follower's Objective Function:\n",
      "Variable names: [:y, :x]\n",
      "Expression (string): -x*(y^2) + 0.5(y^4)\n",
      "Parsed expression: -x*(y^2) + 0.5(y^4)\n",
      "Evaluation point: Dict{Any, Any}(\"x\" => 1.9, \"y\" => 0.15)\n",
      "Evaluation value: -0.042496874999999996\n",
      "Is leader function: false\n",
      "------------------------------\n",
      "Follower's Restrictions:\n",
      "++++++++++++++++++++++++++++++\n",
      "Restriction 1\n",
      "Variable names: [:y]\n",
      "Expression (string): (-1 - y) == 0\n",
      "Parsed expression: 0.5062500000000001 - 3.375y\n",
      "Evaluation point: Dict{Any, Any}(\"x\" => 1.9, \"y\" => 0.15)\n",
      "Evaluation value: -1.50625\n",
      "Additional constant: 1.50625\n",
      "Restriction type: LtEq\n",
      "Restriction set type: J_0_L0_v\n",
      "Value of miu: 0\n",
      "Value of beta: -4.6000000000000005\n",
      "Value of lambda: 0.01\n",
      "Value of gamma: -8.100000000000001\n",
      "++++++++++++++++++++++++++++++\n",
      "++++++++++++++++++++++++++++++\n",
      "Restriction 2\n",
      "Variable names: [:y]\n",
      "Expression (string): (-1 + y) == 0\n",
      "Parsed expression: 0\n",
      "Evaluation point: Dict{Any, Any}(\"x\" => 1.9, \"y\" => 0.15)\n",
      "Evaluation value: -1\n",
      "Additional constant: 1\n",
      "Restriction type: LtEq\n",
      "Restriction set type: J_0_LP_v\n",
      "Value of miu: 0\n",
      "Value of beta: 0\n",
      "Value of lambda: 0.97\n",
      "Value of gamma: 0\n",
      "++++++++++++++++++++++++++++++\n",
      "------------------------------\n",
      "Evaluation Point:\n",
      "Dict{Any, Any}(\"x\" => 1.9, \"y\" => 0.15)\n",
      "------------------------------\n",
      "_\n",
      "\n",
      "Num[2.3200000000000003, -11.629000000000001]\n",
      "Va a retornar correctamente\n",
      "Leader's Objective Function:\n",
      "Variable names: [:y, :x]\n",
      "Expression (string): -x + x*y + 10(y^2)\n",
      "Parsed expression: -x + x*y + 10(y^2)\n",
      "Evaluation point: Dict{Any, Any}(\"x\" => 1.9, \"y\" => 0.15)\n",
      "Evaluation value: -1.3900000000000001\n",
      "Is leader function: true\n",
      "------------------------------\n",
      "Leader's Restrictions:\n",
      "++++++++++++++++++++++++++++++\n",
      "Restriction 1\n",
      "Variable names: [:x]\n",
      "Expression (string): (-1 - x) == 0\n",
      "Parsed expression: 1.9 - x\n",
      "Evaluation point: Dict{Any, Any}(\"x\" => 1.9, \"y\" => 0.15)\n",
      "Evaluation value: -2.9\n",
      "Additional constant: 2.9\n",
      "Restriction type: LtEq\n",
      "Restriction set type: J_0_g\n",
      "Value of miu: 0.83\n",
      "Value of beta: 0\n",
      "Value of lambda: 0\n",
      "Value of gamma: 0\n",
      "++++++++++++++++++++++++++++++\n",
      "++++++++++++++++++++++++++++++\n",
      "Restriction 2\n",
      "Variable names: [:x]\n",
      "Expression (string): (-1 + x) == 0\n",
      "Parsed expression: -1.9 + x\n",
      "Evaluation point: Dict{Any, Any}(\"x\" => 1.9, \"y\" => 0.15)\n",
      "Evaluation value: 0.8999999999999999\n",
      "Additional constant: -0.8999999999999999\n",
      "Restriction type: LtEq\n",
      "Restriction set type: J_0_g\n",
      "Value of miu: 0.08\n",
      "Value of beta: 0\n",
      "Value of lambda: 0\n",
      "Value of gamma: 0\n",
      "++++++++++++++++++++++++++++++\n",
      "------------------------------\n",
      "Follower's Objective Function:\n",
      "Variable names: [:y, :x]\n",
      "Expression (string): -x*(y^2) + 0.5(y^4)\n",
      "Parsed expression: -x*(y^2) + 0.5(y^4)\n",
      "Evaluation point: Dict{Any, Any}(\"x\" => 1.9, \"y\" => 0.15)\n",
      "Evaluation value: -0.042496874999999996\n",
      "Is leader function: false\n",
      "------------------------------\n",
      "Follower's Restrictions:\n",
      "++++++++++++++++++++++++++++++\n",
      "Restriction 1\n",
      "Variable names: [:y]\n",
      "Expression (string): (-1 - y) == 0\n",
      "Parsed expression: 0.1499999999999999 - y\n",
      "Evaluation point: Dict{Any, Any}(\"x\" => 1.9, \"y\" => 0.15)\n",
      "Evaluation value: -1.15\n",
      "Additional constant: 1.15\n",
      "Restriction type: LtEq\n",
      "Restriction set type: J_0_L0_v\n",
      "Value of miu: 0\n",
      "Value of beta: 0\n",
      "Value of lambda: 0.01\n",
      "Value of gamma: 0\n",
      "++++++++++++++++++++++++++++++\n",
      "++++++++++++++++++++++++++++++\n",
      "Restriction 2\n",
      "Variable names: [:y]\n",
      "Expression (string): (-1 + y) == 0\n",
      "Parsed expression: -0.15000000000000002 + y\n",
      "Evaluation point: Dict{Any, Any}(\"x\" => 1.9, \"y\" => 0.15)\n",
      "Evaluation value: -0.85\n",
      "Additional constant: 0.85\n",
      "Restriction type: LtEq\n",
      "Restriction set type: J_0_LP_v\n",
      "Value of miu: 0\n",
      "Value of beta: 0\n",
      "Value of lambda: 0.97\n",
      "Value of gamma: 0\n",
      "++++++++++++++++++++++++++++++\n",
      "------------------------------\n",
      "Evaluation Point:\n",
      "Dict{Any, Any}(\"x\" => 1.9, \"y\" => 0.15)\n",
      "------------------------------\n",
      "_\n",
      "\n",
      "Num[1.6, -4.9]\n",
      "Se va a crear el DataFrame\n",
      "Se va a crear el DataFrame\n",
      "Carpeta creada: d:\\GitHub\\Tesis\\experiment\\nonconvex\\MitsosBarton2006Ex312\\Experimentos_Generador\n",
      "Se va a crear el DataFrame\n",
      "La carpeta ya existe: d:\\GitHub\\Tesis\\experiment\\nonconvex\\MitsosBarton2006Ex312\\Experimentos_Generador\n",
      "Experimento Completado\n",
      "Va a retornar correctamente\n",
      "Leader's Objective Function:\n",
      "Variable names: [:y, :x]\n",
      "Expression (string): -x + x*y + 10(y^2)\n",
      "Parsed expression: -x + x*y + 10(y^2)\n",
      "Evaluation point: Dict{Any, Any}(\"x\" => 1.9, \"y\" => 0.15)\n",
      "Evaluation value: -1.3900000000000001\n",
      "Is leader function: true\n",
      "------------------------------\n",
      "Leader's Restrictions:\n",
      "++++++++++++++++++++++++++++++\n",
      "Restriction 1\n",
      "Variable names: [:x]\n",
      "Expression (string): (-1 - x) == 0\n",
      "Parsed expression: 1.9 - x\n",
      "Evaluation point: Dict{Any, Any}(\"x\" => 1.9, \"y\" => 0.15)\n",
      "Evaluation value: -2.9\n",
      "Additional constant: 2.9\n",
      "Restriction type: LtEq\n",
      "Restriction set type: J_0_g\n",
      "Value of miu: 0.83\n",
      "Value of beta: 0\n",
      "Value of lambda: 0\n",
      "Value of gamma: 0\n",
      "++++++++++++++++++++++++++++++\n",
      "++++++++++++++++++++++++++++++\n",
      "Restriction 2\n",
      "Variable names: [:x]\n",
      "Expression (string): (-1 + x) == 0\n",
      "Parsed expression: -1.9 + x\n",
      "Evaluation point: Dict{Any, Any}(\"x\" => 1.9, \"y\" => 0.15)\n",
      "Evaluation value: 0.8999999999999999\n",
      "Additional constant: -0.8999999999999999\n",
      "Restriction type: LtEq\n",
      "Restriction set type: J_0_g\n",
      "Value of miu: 0.08\n",
      "Value of beta: 0\n",
      "Value of lambda: 0\n",
      "Value of gamma: 0\n",
      "++++++++++++++++++++++++++++++\n",
      "------------------------------\n",
      "Follower's Objective Function:\n",
      "Variable names: [:y, :x]\n",
      "Expression (string): -x*(y^2) + 0.5(y^4)\n",
      "Parsed expression: -x*(y^2) + 0.5(y^4)\n",
      "Evaluation point: Dict{Any, Any}(\"x\" => 1.9, \"y\" => 0.15)\n",
      "Evaluation value: -0.042496874999999996\n",
      "Is leader function: false\n",
      "------------------------------\n",
      "Follower's Restrictions:\n",
      "++++++++++++++++++++++++++++++\n",
      "Restriction 1\n",
      "Variable names: [:y]\n",
      "Expression (string): (-1 - y) == 0\n",
      "Parsed expression: -0.37951807228915646 + 2.5301204819277103y\n",
      "Evaluation point: Dict{Any, Any}(\"x\" => 1.9, \"y\" => 0.15)\n",
      "Evaluation value: -0.6204819277108435\n",
      "Additional constant: 0.6204819277108435\n",
      "Restriction type: LtEq\n",
      "Restriction set type: J_0_L0_v\n",
      "Value of miu: 0\n",
      "Value of beta: 0\n",
      "Value of lambda: 0.01\n",
      "Value of gamma: 6.3\n",
      "++++++++++++++++++++++++++++++\n",
      "++++++++++++++++++++++++++++++\n",
      "Restriction 2\n",
      "Variable names: [:y]\n",
      "Expression (string): (-1 + y) == 0\n",
      "Parsed expression: 1.1102230246251565e-16y\n",
      "Evaluation point: Dict{Any, Any}(\"x\" => 1.9, \"y\" => 0.15)\n",
      "Evaluation value: -1.0\n",
      "Additional constant: 1.0\n",
      "Restriction type: LtEq\n",
      "Restriction set type: J_0_LP_v\n",
      "Value of miu: 0\n",
      "Value of beta: 3.9000000000000004\n",
      "Value of lambda: 0.97\n",
      "Value of gamma: 0\n",
      "++++++++++++++++++++++++++++++\n",
      "------------------------------\n",
      "Evaluation Point:\n",
      "Dict{Any, Any}(\"x\" => 1.9, \"y\" => 0.15)\n",
      "------------------------------\n",
      "_\n",
      "\n",
      "Num[2.347, 4.225849999999999]\n",
      "Va a retornar correctamente\n",
      "Leader's Objective Function:\n",
      "Variable names: [:y, :x]\n",
      "Expression (string): -x + x*y + 10(y^2)\n",
      "Parsed expression: -x + x*y + 10(y^2)\n",
      "Evaluation point: Dict{Any, Any}(\"x\" => 1.9, \"y\" => 0.15)\n",
      "Evaluation value: -1.3900000000000001\n",
      "Is leader function: true\n",
      "------------------------------\n",
      "Leader's Restrictions:\n",
      "++++++++++++++++++++++++++++++\n",
      "Restriction 1\n",
      "Variable names: [:x]\n",
      "Expression (string): (-1 - x) == 0\n",
      "Parsed expression: 1.9 - x\n",
      "Evaluation point: Dict{Any, Any}(\"x\" => 1.9, \"y\" => 0.15)\n",
      "Evaluation value: -2.9\n",
      "Additional constant: 2.9\n",
      "Restriction type: LtEq\n",
      "Restriction set type: J_0_g\n",
      "Value of miu: 0.83\n",
      "Value of beta: 0\n",
      "Value of lambda: 0\n",
      "Value of gamma: 0\n",
      "++++++++++++++++++++++++++++++\n",
      "++++++++++++++++++++++++++++++\n",
      "Restriction 2\n",
      "Variable names: [:x]\n",
      "Expression (string): (-1 + x) == 0\n",
      "Parsed expression: -1.9 + x\n",
      "Evaluation point: Dict{Any, Any}(\"x\" => 1.9, \"y\" => 0.15)\n",
      "Evaluation value: 0.8999999999999999\n",
      "Additional constant: -0.8999999999999999\n",
      "Restriction type: LtEq\n",
      "Restriction set type: J_0_g\n",
      "Value of miu: 0.08\n",
      "Value of beta: 0\n",
      "Value of lambda: 0\n",
      "Value of gamma: 0\n",
      "++++++++++++++++++++++++++++++\n",
      "------------------------------\n",
      "Follower's Objective Function:\n",
      "Variable names: [:y, :x]\n",
      "Expression (string): -x*(y^2) + 0.5(y^4)\n",
      "Parsed expression: -x*(y^2) + 0.5(y^4)\n",
      "Evaluation point: Dict{Any, Any}(\"x\" => 1.9, \"y\" => 0.15)\n",
      "Evaluation value: -0.042496874999999996\n",
      "Is leader function: false\n",
      "------------------------------\n",
      "Follower's Restrictions:\n",
      "++++++++++++++++++++++++++++++\n",
      "Restriction 1\n",
      "Variable names: [:y]\n",
      "Expression (string): (-1 - y) == 0\n",
      "Parsed expression: 0.1499999999999999 - y\n",
      "Evaluation point: Dict{Any, Any}(\"x\" => 1.9, \"y\" => 0.15)\n",
      "Evaluation value: -1.15\n",
      "Additional constant: 1.15\n",
      "Restriction type: LtEq\n",
      "Restriction set type: J_0_L0_v\n",
      "Value of miu: 0\n",
      "Value of beta: 4.2\n",
      "Value of lambda: 0.01\n",
      "Value of gamma: 0\n",
      "++++++++++++++++++++++++++++++\n",
      "++++++++++++++++++++++++++++++\n",
      "Restriction 2\n",
      "Variable names: [:y]\n",
      "Expression (string): (-1 + y) == 0\n",
      "Parsed expression: -0.15000000000000002 + y\n",
      "Evaluation point: Dict{Any, Any}(\"x\" => 1.9, \"y\" => 0.15)\n",
      "Evaluation value: -0.85\n",
      "Additional constant: 0.85\n",
      "Restriction type: LtEq\n",
      "Restriction set type: J_0_LP_v\n",
      "Value of miu: 0\n",
      "Value of beta: 8.5\n",
      "Value of lambda: 0.97\n",
      "Value of gamma: 0\n",
      "++++++++++++++++++++++++++++++\n",
      "------------------------------\n",
      "Evaluation Point:\n",
      "Dict{Any, Any}(\"x\" => 1.9, \"y\" => 0.15)\n",
      "------------------------------\n",
      "_\n",
      "\n",
      "Num[1.6, -9.2]\n",
      "Se va a crear el DataFrame\n",
      "Se va a crear el DataFrame\n",
      "La carpeta ya existe: d:\\GitHub\\Tesis\\experiment\\nonconvex\\MitsosBarton2006Ex312\\Experimentos_Generador\n",
      "Se va a crear el DataFrame\n",
      "La carpeta ya existe: d:\\GitHub\\Tesis\\experiment\\nonconvex\\MitsosBarton2006Ex312\\Experimentos_Generador\n",
      "Experimento Completado\n",
      "Va a retornar correctamente\n",
      "Leader's Objective Function:\n",
      "Variable names: [:y, :x]\n",
      "Expression (string): -x + x*y + 10(y^2)\n",
      "Parsed expression: -x + x*y + 10(y^2)\n",
      "Evaluation point: Dict{Any, Any}(\"x\" => 1.9, \"y\" => 0.15)\n",
      "Evaluation value: -1.3900000000000001\n",
      "Is leader function: true\n",
      "------------------------------\n",
      "Leader's Restrictions:\n",
      "++++++++++++++++++++++++++++++\n",
      "Restriction 1\n",
      "Variable names: [:x]\n",
      "Expression (string): (-1 - x) == 0\n",
      "Parsed expression: 1.9 - x\n",
      "Evaluation point: Dict{Any, Any}(\"x\" => 1.9, \"y\" => 0.15)\n",
      "Evaluation value: -2.9\n",
      "Additional constant: 2.9\n",
      "Restriction type: LtEq\n",
      "Restriction set type: J_0_g\n",
      "Value of miu: 0.83\n",
      "Value of beta: 0\n",
      "Value of lambda: 0\n",
      "Value of gamma: 0\n",
      "++++++++++++++++++++++++++++++\n",
      "++++++++++++++++++++++++++++++\n",
      "Restriction 2\n",
      "Variable names: [:x]\n",
      "Expression (string): (-1 + x) == 0\n",
      "Parsed expression: -1.9 + x\n",
      "Evaluation point: Dict{Any, Any}(\"x\" => 1.9, \"y\" => 0.15)\n",
      "Evaluation value: 0.8999999999999999\n",
      "Additional constant: -0.8999999999999999\n",
      "Restriction type: LtEq\n",
      "Restriction set type: J_0_g\n",
      "Value of miu: 0.08\n",
      "Value of beta: 0\n",
      "Value of lambda: 0\n",
      "Value of gamma: 0\n",
      "++++++++++++++++++++++++++++++\n",
      "------------------------------\n",
      "Follower's Objective Function:\n",
      "Variable names: [:y, :x]\n",
      "Expression (string): -x*(y^2) + 0.5(y^4)\n",
      "Parsed expression: -x*(y^2) + 0.5(y^4)\n",
      "Evaluation point: Dict{Any, Any}(\"x\" => 1.9, \"y\" => 0.15)\n",
      "Evaluation value: -0.042496874999999996\n",
      "Is leader function: false\n",
      "------------------------------\n",
      "Follower's Restrictions:\n",
      "++++++++++++++++++++++++++++++\n",
      "Restriction 1\n",
      "Variable names: [:y]\n",
      "Expression (string): (-1 - y) == 0\n",
      "Parsed expression: -0.30000000000000004 + 2.0y\n",
      "Evaluation point: Dict{Any, Any}(\"x\" => 1.9, \"y\" => 0.15)\n",
      "Evaluation value: -0.7\n",
      "Additional constant: 0.7\n",
      "Restriction type: LtEq\n",
      "Restriction set type: J_0_L0_v\n",
      "Value of miu: 0\n",
      "Value of beta: 1.3\n",
      "Value of lambda: 0.01\n",
      "Value of gamma: 3.9000000000000004\n",
      "++++++++++++++++++++++++++++++\n",
      "++++++++++++++++++++++++++++++\n",
      "Restriction 2\n",
      "Variable names: [:y]\n",
      "Expression (string): (-1 + y) == 0\n",
      "Parsed expression: 0\n",
      "Evaluation point: Dict{Any, Any}(\"x\" => 1.9, \"y\" => 0.15)\n",
      "Evaluation value: -1\n",
      "Additional constant: 1\n",
      "Restriction type: LtEq\n",
      "Restriction set type: J_0_LP_v\n",
      "Value of miu: 0\n",
      "Value of beta: 2.4\n",
      "Value of lambda: 0.97\n",
      "Value of gamma: 3.2\n",
      "++++++++++++++++++++++++++++++\n",
      "------------------------------\n",
      "Evaluation Point:\n",
      "Dict{Any, Any}(\"x\" => 1.9, \"y\" => 0.15)\n",
      "------------------------------\n",
      "_\n",
      "\n",
      "Num[2.185, -0.3532499999999996]\n",
      "Va a retornar correctamente\n",
      "Leader's Objective Function:\n",
      "Variable names: [:y, :x]\n",
      "Expression (string): -x + x*y + 10(y^2)\n",
      "Parsed expression: -x + x*y + 10(y^2)\n",
      "Evaluation point: Dict{Any, Any}(\"x\" => 1.9, \"y\" => 0.15)\n",
      "Evaluation value: -1.3900000000000001\n",
      "Is leader function: true\n",
      "------------------------------\n",
      "Leader's Restrictions:\n",
      "++++++++++++++++++++++++++++++\n",
      "Restriction 1\n",
      "Variable names: [:x]\n",
      "Expression (string): (-1 - x) == 0\n",
      "Parsed expression: 1.9 - x\n",
      "Evaluation point: Dict{Any, Any}(\"x\" => 1.9, \"y\" => 0.15)\n",
      "Evaluation value: -2.9\n",
      "Additional constant: 2.9\n",
      "Restriction type: LtEq\n",
      "Restriction set type: J_0_g\n",
      "Value of miu: 0.83\n",
      "Value of beta: 0\n",
      "Value of lambda: 0\n",
      "Value of gamma: 0\n",
      "++++++++++++++++++++++++++++++\n",
      "++++++++++++++++++++++++++++++\n",
      "Restriction 2\n",
      "Variable names: [:x]\n",
      "Expression (string): (-1 + x) == 0\n",
      "Parsed expression: -1.9 + x\n",
      "Evaluation point: Dict{Any, Any}(\"x\" => 1.9, \"y\" => 0.15)\n",
      "Evaluation value: 0.8999999999999999\n",
      "Additional constant: -0.8999999999999999\n",
      "Restriction type: LtEq\n",
      "Restriction set type: J_0_g\n",
      "Value of miu: 0.08\n",
      "Value of beta: 0\n",
      "Value of lambda: 0\n",
      "Value of gamma: 0\n",
      "++++++++++++++++++++++++++++++\n",
      "------------------------------\n",
      "Follower's Objective Function:\n",
      "Variable names: [:y, :x]\n",
      "Expression (string): -x*(y^2) + 0.5(y^4)\n",
      "Parsed expression: -x*(y^2) + 0.5(y^4)\n",
      "Evaluation point: Dict{Any, Any}(\"x\" => 1.9, \"y\" => 0.15)\n",
      "Evaluation value: -0.042496874999999996\n",
      "Is leader function: false\n",
      "------------------------------\n",
      "Follower's Restrictions:\n",
      "++++++++++++++++++++++++++++++\n",
      "Restriction 1\n",
      "Variable names: [:y]\n",
      "Expression (string): (-1 - y) == 0\n",
      "Parsed expression: 0.1499999999999999 - y\n",
      "Evaluation point: Dict{Any, Any}(\"x\" => 1.9, \"y\" => 0.15)\n",
      "Evaluation value: -1.15\n",
      "Additional constant: 1.15\n",
      "Restriction type: LtEq\n",
      "Restriction set type: J_0_L0_v\n",
      "Value of miu: 0\n",
      "Value of beta: 2.8000000000000003\n",
      "Value of lambda: 0.01\n",
      "Value of gamma: 8.100000000000001\n",
      "++++++++++++++++++++++++++++++\n",
      "++++++++++++++++++++++++++++++\n",
      "Restriction 2\n",
      "Variable names: [:y]\n",
      "Expression (string): (-1 + y) == 0\n",
      "Parsed expression: -0.15000000000000002 + y\n",
      "Evaluation point: Dict{Any, Any}(\"x\" => 1.9, \"y\" => 0.15)\n",
      "Evaluation value: -0.85\n",
      "Additional constant: 0.85\n",
      "Restriction type: LtEq\n",
      "Restriction set type: J_0_LP_v\n",
      "Value of miu: 0\n",
      "Value of beta: 7.1\n",
      "Value of lambda: 0.97\n",
      "Value of gamma: 2.1\n",
      "++++++++++++++++++++++++++++++\n",
      "------------------------------\n",
      "Evaluation Point:\n",
      "Dict{Any, Any}(\"x\" => 1.9, \"y\" => 0.15)\n",
      "------------------------------\n",
      "_\n",
      "\n",
      "Num[1.6, -9.2]\n",
      "Se va a crear el DataFrame\n",
      "Se va a crear el DataFrame\n",
      "La carpeta ya existe: d:\\GitHub\\Tesis\\experiment\\nonconvex\\MitsosBarton2006Ex312\\Experimentos_Generador\n",
      "Se va a crear el DataFrame\n",
      "La carpeta ya existe: d:\\GitHub\\Tesis\\experiment\\nonconvex\\MitsosBarton2006Ex312\\Experimentos_Generador\n",
      "Experimento Completado\n",
      "Finilizado el experimento completo\n"
     ]
    }
   ],
   "source": [
    "RunExperiment(experiment,\"MitsosBarton2006Ex312\",true)"
   ]
  },
  {
   "cell_type": "code",
   "execution_count": 14,
   "metadata": {},
   "outputs": [],
   "source": []
  }
 ],
 "metadata": {
  "kernelspec": {
   "display_name": "Julia 1.11.3",
   "language": "julia",
   "name": "julia-1.11"
  },
  "language_info": {
   "file_extension": ".jl",
   "mimetype": "application/julia",
   "name": "julia",
   "version": "1.11.3"
  }
 },
 "nbformat": 4,
 "nbformat_minor": 2
}
