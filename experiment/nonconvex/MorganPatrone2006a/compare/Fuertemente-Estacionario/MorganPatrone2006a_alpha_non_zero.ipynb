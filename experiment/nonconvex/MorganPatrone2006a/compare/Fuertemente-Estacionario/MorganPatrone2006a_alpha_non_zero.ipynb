{
 "cells": [
  {
   "cell_type": "markdown",
   "metadata": {},
   "source": [
    "## Importaciones necesarias"
   ]
  },
  {
   "cell_type": "code",
   "execution_count": 1,
   "metadata": {},
   "outputs": [],
   "source": [
    "using JuMP, Ipopt, Complementarity"
   ]
  },
  {
   "cell_type": "markdown",
   "metadata": {},
   "source": [
    "# Crear el modelo"
   ]
  },
  {
   "cell_type": "code",
   "execution_count": 2,
   "metadata": {},
   "outputs": [
    {
     "data": {
      "text/plain": [
       "A JuMP Model\n",
       "├ solver: Ipopt\n",
       "├ objective_sense: FEASIBILITY_SENSE\n",
       "├ num_variables: 0\n",
       "├ num_constraints: 0\n",
       "└ Names registered in the model: none"
      ]
     },
     "metadata": {},
     "output_type": "display_data"
    }
   ],
   "source": [
    "# Crear el modelo\n",
    "model = Model(Ipopt.Optimizer)"
   ]
  },
  {
   "cell_type": "markdown",
   "metadata": {},
   "source": [
    "## Definir Variables\n"
   ]
  },
  {
   "cell_type": "code",
   "execution_count": 3,
   "metadata": {},
   "outputs": [
    {
     "data": {
      "text/plain": [
       "2-element Vector{VariableRef}:\n",
       " l[1]\n",
       " l[2]"
      ]
     },
     "metadata": {},
     "output_type": "display_data"
    }
   ],
   "source": [
    "# Nivel superior\n",
    "@variable(model,x)\n",
    "# Nivel Inferior\n",
    "@variable(model,y)\n",
    "# Complementariedad\n",
    "@variable(model,l[1:2])"
   ]
  },
  {
   "cell_type": "markdown",
   "metadata": {},
   "source": [
    "## Definir Objetivo\n"
   ]
  },
  {
   "cell_type": "code",
   "execution_count": 4,
   "metadata": {},
   "outputs": [
    {
     "data": {
      "text/latex": [
       "$ -x - y $"
      ],
      "text/plain": [
       "-x - y"
      ]
     },
     "metadata": {},
     "output_type": "display_data"
    }
   ],
   "source": [
    "@objective(model,Min,-(x+y))"
   ]
  },
  {
   "cell_type": "markdown",
   "metadata": {},
   "source": [
    "## Definir Restricciones\n"
   ]
  },
  {
   "cell_type": "code",
   "execution_count": 5,
   "metadata": {},
   "outputs": [
    {
     "data": {
      "text/plain": [
       "(x + 1.38 l[1] - 1.67 l[2] == 0, -x <= -4.5, x <= 4.5, 1.38 y <= 3.88, -1.67 y <= -4.68)"
      ]
     },
     "metadata": {},
     "output_type": "display_data"
    }
   ],
   "source": [
    "@constraints(model,begin\n",
    "x+1.38l[1]-1.67l[2]==0 # kkt\n",
    "4.5 - x<=0 #gs\n",
    "-4.5 + x<=0   #gs\n",
    "-3.88 + 1.38y<=0\n",
    "4.68 - 1.67y<=0\n",
    "end)"
   ]
  },
  {
   "cell_type": "markdown",
   "metadata": {},
   "source": [
    "## Definir variables Complementarias"
   ]
  },
  {
   "cell_type": "code",
   "execution_count": 6,
   "metadata": {},
   "outputs": [
    {
     "data": {
      "text/latex": [
       "$$ (sqrt(l[2] ^ {2.0} + (-4.68 + 1.67 * y) ^ {2.0} + 1.0e-8) - (l[2] + (-4.68 + 1.67 * y))) - 0.0 = 0 $$"
      ],
      "text/plain": [
       "(sqrt(l[2] ^ 2.0 + (-4.68 + 1.67 * y) ^ 2.0 + 1.0e-8) - (l[2] + (-4.68 + 1.67 * y))) - 0.0 == 0"
      ]
     },
     "metadata": {},
     "output_type": "display_data"
    }
   ],
   "source": [
    "@complements(model,0<=-(-3.88 + 1.38y),l[1]>=0)\n",
    "@complements(model,0<=-(4.68 - 1.67y),l[2]>=0)"
   ]
  },
  {
   "cell_type": "markdown",
   "metadata": {},
   "source": [
    "## Optimizar"
   ]
  },
  {
   "cell_type": "code",
   "execution_count": 7,
   "metadata": {},
   "outputs": [
    {
     "name": "stdout",
     "output_type": "stream",
     "text": [
      "\n",
      "******************************************************************************\n",
      "This program contains Ipopt, a library for large-scale nonlinear optimization.\n",
      " Ipopt is released as open source code under the Eclipse Public License (EPL).\n",
      "         For more information visit https://github.com/coin-or/Ipopt\n",
      "******************************************************************************\n",
      "\n",
      "This is Ipopt version 3.14.16, running with linear solver MUMPS 5.7.3.\n",
      "\n",
      "Number of nonzeros in equality constraint Jacobian...:        7\n",
      "Number of nonzeros in inequality constraint Jacobian.:        8\n",
      "Number of nonzeros in Lagrangian Hessian.............:        6\n",
      "\n",
      "Total number of variables............................:        4\n",
      "                     variables with only lower bounds:        0\n",
      "                variables with lower and upper bounds:        0\n",
      "                     variables with only upper bounds:        0\n",
      "Total number of equality constraints.................:        3\n",
      "Total number of inequality constraints...............:        8\n",
      "        inequality constraints with only lower bounds:        4\n",
      "   inequality constraints with lower and upper bounds:        0\n",
      "        inequality constraints with only upper bounds:        4\n",
      "\n",
      "iter    objective    inf_pr   inf_du lg(mu)  ||d||  lg(rg) alpha_du alpha_pr  ls\n",
      "   0 -0.0000000e+00 9.36e+00 3.25e-01  -1.0 0.00e+00    -  0.00e+00 0.00e+00   0\n",
      "   1 -6.0457620e-02 9.22e+00 4.27e-01  -1.0 3.48e+00    -  1.20e-02 1.49e-02h  1\n",
      "   2 -7.4570668e-02 9.20e+00 7.86e+02  -1.0 4.47e+00    -  1.00e+00 2.19e-03h  1\n",
      "   3 -7.4962933e-02 9.20e+00 4.10e+05  -1.0 3.63e+00    -  5.98e-02 1.14e-04h  1\n",
      "   4r-7.4962933e-02 9.20e+00 1.00e+03   1.0 0.00e+00    -  0.00e+00 3.29e-07R  5\n",
      "   5r-3.5201777e+00 3.59e+00 9.87e+02   1.0 3.17e+03    -  9.21e-01 2.87e-03f  1\n",
      "   6 -3.5205775e+00 3.59e+00 2.68e+03  -1.0 3.66e+00    -  2.08e-01 1.08e-04h  1\n",
      "   7 -3.5205727e+00 3.59e+00 1.75e+08  -1.0 4.13e+00    -  8.82e-01 1.34e-05h  1\n",
      "   8r-3.5205727e+00 3.59e+00 1.00e+03   0.6 0.00e+00    -  0.00e+00 1.18e-07R  2\n",
      "   9r-5.8765722e+00 1.32e+00 9.96e+02   0.6 3.30e+02    -  3.10e-03 6.89e-03f  1\n",
      "iter    objective    inf_pr   inf_du lg(mu)  ||d||  lg(rg) alpha_du alpha_pr  ls\n",
      "  10 -5.8802018e+00 1.32e+00 3.17e+03  -1.0 1.42e+00    -  7.13e-01 2.39e-03h  1\n",
      "  11 -5.8800712e+00 1.32e+00 1.77e+07  -1.0 3.09e+00    -  4.36e-01 7.84e-05h  1\n",
      "  12r-5.8800712e+00 1.32e+00 1.00e+03   0.1 0.00e+00    -  0.00e+00 3.19e-07R  5\n",
      "  13r-7.2028098e+00 1.48e-01 9.97e+02   0.1 1.00e+03    -  3.40e-03 1.31e-03f  1\n",
      "  14 -7.2028988e+00 1.48e-01 6.01e+04  -1.0 1.16e-01    -  1.00e+00 4.54e-04h  1\n",
      "  15 -7.2028485e+00 1.48e-01 1.50e+07  -1.0 3.21e+00    -  4.07e-03 1.62e-05h  1\n",
      "  16r-7.2028485e+00 1.48e-01 1.00e+03  -0.8 0.00e+00    -  0.00e+00 4.64e-07R  4\n",
      "  17r-7.2880359e+00 1.14e-02 7.87e+02  -0.8 8.06e+01    -  1.00e+00 1.82e-03f  1\n",
      "  18 -7.2949572e+00 4.69e-03 3.04e+05  -1.0 1.11e-01    -  1.00e+00 6.07e-02f  1\n",
      "  19 -7.2949173e+00 4.69e-03 3.81e+07  -1.0 6.60e-02    -  8.41e-02 7.61e-04h  1\n",
      "iter    objective    inf_pr   inf_du lg(mu)  ||d||  lg(rg) alpha_du alpha_pr  ls\n",
      "  20 -7.2889795e+00 1.06e-02 3.38e+07  -1.0 4.47e+00    -  1.18e-03 1.33e-03h  1\n",
      "  21 -7.2889201e+00 1.07e-02 4.90e+12  -1.0 4.17e+00    -  1.00e+00 1.43e-05h  1\n",
      "  22r-7.2889201e+00 1.07e-02 1.00e+03  -1.0 0.00e+00    -  0.00e+00 2.54e-07R  5\n",
      "  23r-7.2983047e+00 3.39e-03 7.84e+02  -1.0 1.52e+00    -  7.76e-01 1.25e-02f  1\n",
      "  24 -7.3016869e+00 1.13e-03 7.74e+04  -1.0 1.03e-01    -  1.00e+00 3.25e-02f  1\n",
      "  25 -7.3010764e+00 1.09e-03 6.00e+04  -1.0 5.50e-03    -  1.00e+00 6.59e-01h  1\n",
      "  26 -7.3022862e+00 1.65e-04 1.94e+05  -1.0 1.88e-03    -  1.00e+00 5.74e-01h  1\n",
      "  27 -7.3021628e+00 1.92e-04 4.68e+05  -1.0 8.00e-04    -  1.00e+00 5.88e-01h  1\n",
      "  28 -7.3022697e+00 9.67e-05 1.61e+06  -1.0 3.29e-04    -  1.00e+00 2.93e-01f  2\n",
      "  29 -7.3023886e+00 9.48e-06 6.61e+05  -1.0 2.33e-04    -  1.00e+00 8.03e-01h  1\n",
      "iter    objective    inf_pr   inf_du lg(mu)  ||d||  lg(rg) alpha_du alpha_pr  ls\n",
      "  30 -7.3023833e+00 7.54e-06 2.39e+06  -1.0 5.58e-05    -  1.00e+00 2.36e-01f  2\n",
      "  31 -7.3023910e+00 3.41e-06 5.24e+05  -1.0 3.51e-05    -  1.00e+00 8.31e-01h  1\n",
      "  32 -7.3023929e+00 1.68e-06 5.57e+05  -1.0 8.08e-06    -  1.00e+00 2.15e-01f  2\n",
      "  33 -7.3023952e+00 1.29e-07 7.60e+04  -1.0 4.66e-06    -  1.00e+00 8.66e-01h  1\n",
      "  34 -7.3023950e+00 1.01e-07 3.27e+05  -1.0 1.01e-06    -  1.00e+00 2.18e-01f  2\n",
      "  35 -7.3023952e+00 2.22e-15 4.50e-02  -1.0 4.90e-07    -  1.00e+00 1.00e+00h  1\n",
      "  36 -7.3023952e+00 4.44e-16 1.21e+00  -8.6 6.81e-09    -  1.00e+00 1.00e+00h  1\n",
      "  37 -7.3023952e+00 4.44e-16 4.96e+02  -8.6 8.65e-10    -  9.93e-01 1.00e+00h  1\n",
      "In iteration 37, 1 Slack too small, adjusting variable bound\n",
      "  38 -7.3023953e+00 4.44e-16 3.39e+01  -8.6 7.24e-08    -  1.00e+00 9.32e-01f  1\n",
      "  39 -7.3023953e+00 4.44e-16 2.79e-14  -8.6 2.25e-09    -  1.00e+00 1.00e+00f  1\n",
      "\n",
      "Number of Iterations....: 39\n",
      "\n",
      "                                   (scaled)                 (unscaled)\n",
      "Objective...............:  -7.3023952534432883e+00   -7.3023952534432883e+00\n",
      "Dual infeasibility......:   2.7894353493707058e-14    2.7894353493707058e-14\n",
      "Constraint violation....:   4.4408920985006262e-16    4.4408920985006262e-16\n",
      "Variable bound violation:   0.0000000000000000e+00    0.0000000000000000e+00\n",
      "Complementarity.........:   2.6858838345779419e-09    2.6858838345779419e-09\n",
      "Overall NLP error.......:   2.6858838345779419e-09    2.6858838345779419e-09\n",
      "\n",
      "\n",
      "Number of objective function evaluations             = 65\n",
      "Number of objective gradient evaluations             = 40\n",
      "Number of equality constraint evaluations            = 65\n",
      "Number of inequality constraint evaluations          = 65\n",
      "Number of equality constraint Jacobian evaluations   = 45\n",
      "Number of inequality constraint Jacobian evaluations = 45\n",
      "Number of Lagrangian Hessian evaluations             = 39\n",
      "Total seconds in IPOPT                               = 3.719\n",
      "\n",
      "EXIT: Optimal Solution Found.\n"
     ]
    }
   ],
   "source": [
    "# Resolver el modelo\n",
    "optimize!(model)"
   ]
  },
  {
   "cell_type": "markdown",
   "metadata": {},
   "source": [
    "# Mostrar resultados"
   ]
  },
  {
   "cell_type": "code",
   "execution_count": 8,
   "metadata": {},
   "outputs": [
    {
     "name": "stdout",
     "output_type": "stream",
     "text": [
      "Estado de la solución: LOCALLY_SOLVED\n",
      "Valor óptimo de x: 4.500000042751339\n",
      "Valor óptimo de y1: 2.802395210691949\n",
      "Valores óptimos de l: [3.938679721014727e-7, 2.6946111295144557]\n"
     ]
    }
   ],
   "source": [
    "# Mostrar resultados\n",
    "println(\"Estado de la solución: \", termination_status(model))\n",
    "println(\"Valor óptimo de x: \", value(x))\n",
    "println(\"Valor óptimo de y1: \", value(y))\n",
    "println(\"Valores óptimos de l: \", value.(l))"
   ]
  },
  {
   "cell_type": "code",
   "execution_count": 9,
   "metadata": {},
   "outputs": [
    {
     "data": {
      "text/plain": [
       "-7.302395253443288"
      ]
     },
     "metadata": {},
     "output_type": "display_data"
    }
   ],
   "source": [
    "objective_value(model)"
   ]
  },
  {
   "cell_type": "code",
   "execution_count": 10,
   "metadata": {},
   "outputs": [],
   "source": []
  }
 ],
 "metadata": {
  "kernelspec": {
   "display_name": "Julia 1.10.5",
   "language": "julia",
   "name": "julia-1.10"
  },
  "language_info": {
   "file_extension": ".jl",
   "mimetype": "application/julia",
   "name": "julia",
   "version": "1.10.5"
  }
 },
 "nbformat": 4,
 "nbformat_minor": 2
}
