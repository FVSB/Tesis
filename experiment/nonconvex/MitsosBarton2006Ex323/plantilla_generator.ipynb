{
 "cells": [
  {
   "cell_type": "markdown",
   "metadata": {},
   "source": [
    "## Importar el módulo\n"
   ]
  },
  {
   "cell_type": "code",
   "execution_count": 1,
   "metadata": {},
   "outputs": [
    {
     "data": {
      "text/plain": [
       "RunExperiment"
      ]
     },
     "metadata": {},
     "output_type": "display_data"
    }
   ],
   "source": [
    "include(\"../../new_experiment.jl\")"
   ]
  },
  {
   "cell_type": "code",
   "execution_count": 2,
   "metadata": {},
   "outputs": [
    {
     "data": {
      "text/plain": [
       "TaskLocalRNG()"
      ]
     },
     "metadata": {},
     "output_type": "display_data"
    }
   ],
   "source": [
    "using Random\n",
    "\n",
    "# Random seed\n",
    "Random.seed!(9)"
   ]
  },
  {
   "cell_type": "markdown",
   "metadata": {},
   "source": [
    "Crear un experimento\n"
   ]
  },
  {
   "cell_type": "code",
   "execution_count": 3,
   "metadata": {},
   "outputs": [
    {
     "data": {
      "text/plain": [
       "Experiment(OptimizationModel(Problem(Any[], nothing), LeaderRestrictionProblem[], Problem(Any[], nothing), FollowerRestrictionProblem[], Dict{Any, Any}(), Number[1], false), OptimizationModel(Problem(Any[], nothing), LeaderRestrictionProblem[], Problem(Any[], nothing), FollowerRestrictionProblem[], Dict{Any, Any}(), Number[], true), Any[], Any[])"
      ]
     },
     "metadata": {},
     "output_type": "display_data"
    }
   ],
   "source": [
    "experiment=CreateExperiment()"
   ]
  },
  {
   "cell_type": "markdown",
   "metadata": {},
   "source": [
    "### Declarar variables del líder\n"
   ]
  },
  {
   "cell_type": "code",
   "execution_count": 4,
   "metadata": {},
   "outputs": [
    {
     "data": {
      "text/latex": [
       "$$ \\begin{equation}\n",
       "\\left[\n",
       "\\begin{array}{c}\n",
       "x \\\\\n",
       "\\end{array}\n",
       "\\right]\n",
       "\\end{equation}\n",
       " $$"
      ],
      "text/plain": [
       "1-element Vector{Num}:\n",
       " x"
      ]
     },
     "metadata": {},
     "output_type": "display_data"
    }
   ],
   "source": [
    "@leader_vars experiment x"
   ]
  },
  {
   "cell_type": "markdown",
   "metadata": {},
   "source": [
    "### Declarar Variables del Follower"
   ]
  },
  {
   "cell_type": "code",
   "execution_count": 5,
   "metadata": {},
   "outputs": [
    {
     "data": {
      "text/latex": [
       "$$ \\begin{equation}\n",
       "\\left[\n",
       "\\begin{array}{c}\n",
       "y \\\\\n",
       "\\end{array}\n",
       "\\right]\n",
       "\\end{equation}\n",
       " $$"
      ],
      "text/plain": [
       "1-element Vector{Num}:\n",
       " y"
      ]
     },
     "metadata": {},
     "output_type": "display_data"
    }
   ],
   "source": [
    "@follower_vars experiment y"
   ]
  },
  {
   "cell_type": "markdown",
   "metadata": {},
   "source": [
    "### Declarar Función Objetivo del Líder"
   ]
  },
  {
   "cell_type": "code",
   "execution_count": 6,
   "metadata": {},
   "outputs": [
    {
     "data": {
      "text/latex": [
       "$$ \\begin{equation}\n",
       "x^{2}\n",
       "\\end{equation}\n",
       " $$"
      ],
      "text/plain": [
       "x^2"
      ]
     },
     "metadata": {},
     "output_type": "display_data"
    }
   ],
   "source": [
    "SetLeaderFunction(experiment,x^2)"
   ]
  },
  {
   "cell_type": "markdown",
   "metadata": {},
   "source": [
    "Restricciones del Líder"
   ]
  },
  {
   "cell_type": "code",
   "execution_count": 7,
   "metadata": {},
   "outputs": [
    {
     "data": {
      "text/plain": [
       "1-element Vector{LeaderRestrictionProblem}:\n",
       " LeaderRestrictionProblem((-1 - x) <= 0, 0.32, J_0_g)"
      ]
     },
     "metadata": {},
     "output_type": "display_data"
    }
   ],
   "source": [
    "SetLeaderRestriction(experiment,-x-1<=0)"
   ]
  },
  {
   "cell_type": "code",
   "execution_count": 8,
   "metadata": {},
   "outputs": [
    {
     "data": {
      "text/plain": [
       "2-element Vector{LeaderRestrictionProblem}:\n",
       " LeaderRestrictionProblem((-1 - x) <= 0, 0.32, J_0_g)\n",
       " LeaderRestrictionProblem((-1 + x) <= 0, 0.02, J_0_g)"
      ]
     },
     "metadata": {},
     "output_type": "display_data"
    }
   ],
   "source": [
    "SetLeaderRestriction(experiment,x-1<=0)"
   ]
  },
  {
   "cell_type": "code",
   "execution_count": 9,
   "metadata": {},
   "outputs": [
    {
     "data": {
      "text/plain": [
       "3-element Vector{LeaderRestrictionProblem}:\n",
       " LeaderRestrictionProblem((-1 - x) <= 0, 0.32, J_0_g)\n",
       " LeaderRestrictionProblem((-1 + x) <= 0, 0.02, J_0_g)\n",
       " LeaderRestrictionProblem((1 + x - y - 9(x^2)) <= 0, 0.44, J_0_g)"
      ]
     },
     "metadata": {},
     "output_type": "display_data"
    }
   ],
   "source": [
    "SetLeaderRestriction(experiment,1+x-(9*(x^2))-y<=0)"
   ]
  },
  {
   "cell_type": "markdown",
   "metadata": {},
   "source": [
    "### Función objetivo del Follower"
   ]
  },
  {
   "cell_type": "code",
   "execution_count": 10,
   "metadata": {},
   "outputs": [
    {
     "data": {
      "text/latex": [
       "$$ \\begin{equation}\n",
       "y\n",
       "\\end{equation}\n",
       " $$"
      ],
      "text/plain": [
       "y"
      ]
     },
     "metadata": {},
     "output_type": "display_data"
    }
   ],
   "source": [
    "SetFollowerFunction(experiment,y)"
   ]
  },
  {
   "cell_type": "markdown",
   "metadata": {},
   "source": [
    "### Restricciones del Follower"
   ]
  },
  {
   "cell_type": "code",
   "execution_count": 11,
   "metadata": {},
   "outputs": [
    {
     "data": {
      "text/plain": [
       "1-element Vector{FollowerRestrictionProblem}:\n",
       " FollowerRestrictionProblem(((-0.5 + x)*(y^2)) <= 0, J_0_LP_v, 0.04, 0.36, 0.98)"
      ]
     },
     "metadata": {},
     "output_type": "display_data"
    }
   ],
   "source": [
    "SetFollowerRestriction(experiment,(y^2)*(x-0.5)<=0 )"
   ]
  },
  {
   "cell_type": "code",
   "execution_count": 12,
   "metadata": {},
   "outputs": [
    {
     "data": {
      "text/plain": [
       "2-element Vector{FollowerRestrictionProblem}:\n",
       " FollowerRestrictionProblem(((-0.5 + x)*(y^2)) <= 0, J_0_LP_v, 0.04, 0.36, 0.98)\n",
       " FollowerRestrictionProblem((-1 + y) <= 0, J_0_LP_v, 0.96, 0.43, 0.53)"
      ]
     },
     "metadata": {},
     "output_type": "display_data"
    }
   ],
   "source": [
    "SetFollowerRestriction(experiment,y-1<=0)"
   ]
  },
  {
   "cell_type": "code",
   "execution_count": 13,
   "metadata": {},
   "outputs": [
    {
     "data": {
      "text/plain": [
       "3-element Vector{FollowerRestrictionProblem}:\n",
       " FollowerRestrictionProblem(((-0.5 + x)*(y^2)) <= 0, J_0_LP_v, 0.04, 0.36, 0.98)\n",
       " FollowerRestrictionProblem((-1 + y) <= 0, J_0_LP_v, 0.96, 0.43, 0.53)\n",
       " FollowerRestrictionProblem((-1 - y) <= 0, J_0_LP_v, 0.52, 0.43, 0.59)"
      ]
     },
     "metadata": {},
     "output_type": "display_data"
    }
   ],
   "source": [
    "SetFollowerRestriction(experiment,-y-1<=0)"
   ]
  },
  {
   "cell_type": "markdown",
   "metadata": {},
   "source": [
    "### Poner el Punto Optimo"
   ]
  },
  {
   "cell_type": "code",
   "execution_count": 14,
   "metadata": {},
   "outputs": [
    {
     "data": {
      "text/plain": [
       "Dict{Any, Any} with 2 entries:\n",
       "  y => 3.7\n",
       "  x => 1.94"
      ]
     },
     "metadata": {},
     "output_type": "display_data"
    }
   ],
   "source": [
    "SetPoint(experiment,Dict(x=>-0.41,y=>-1))"
   ]
  },
  {
   "cell_type": "markdown",
   "metadata": {},
   "source": [
    "## Iniciar el Experimento\n"
   ]
  },
  {
   "cell_type": "code",
   "execution_count": 15,
   "metadata": {},
   "outputs": [
    {
     "name": "stdout",
     "output_type": "stream",
     "text": [
      "Va a retornar correctamente\n",
      "Leader's Objective Function:\n",
      "Variable names: [:x]\n",
      "Expression (string): x^2\n",
      "Parsed expression: x^2\n",
      "Evaluation point: Dict{Any, Any}(\"x\" => 1.9399999999999997, \"y\" => 3.6999999999999993)\n",
      "Evaluation value: 3.763599999999999\n",
      "Is leader function: true\n",
      "------------------------------\n",
      "Leader's Restrictions:\n",
      "++++++++++++++++++++++++++++++\n",
      "Restriction 1\n",
      "Variable names: [:x]\n",
      "Expression (string): (-1 - x) == 0\n",
      "Parsed expression: 1.9399999999999995 - x\n",
      "Evaluation point: Dict{Any, Any}(\"x\" => 1.9399999999999997, \"y\" => 3.6999999999999993)\n",
      "Evaluation value: -2.9399999999999995\n",
      "Additional constant: 2.9399999999999995\n",
      "Restriction type: LtEq\n",
      "Restriction set type: J_0_g\n",
      "Value of miu: 0.32\n",
      "Value of beta: 0\n",
      "Value of lambda: 0\n",
      "Value of gamma: 0\n",
      "++++++++++++++++++++++++++++++\n",
      "++++++++++++++++++++++++++++++\n",
      "Restriction 2\n",
      "Variable names: [:x]\n",
      "Expression (string): (-1 + x) == 0\n",
      "Parsed expression: -1.9399999999999997 + x\n",
      "Evaluation point: Dict{Any, Any}(\"x\" => 1.9399999999999997, \"y\" => 3.6999999999999993)\n",
      "Evaluation value: 0.9399999999999997\n",
      "Additional constant: -0.9399999999999997\n",
      "Restriction type: LtEq\n",
      "Restriction set type: J_0_g\n",
      "Value of miu: 0.02\n",
      "Value of beta: 0\n",
      "Value of lambda: 0\n",
      "Value of gamma: 0\n",
      "++++++++++++++++++++++++++++++\n",
      "++++++++++++++++++++++++++++++\n",
      "Restriction 3\n",
      "Variable names: [:y, :x]\n",
      "Expression (string): (1 + x - y - 9(x^2)) == 0\n",
      "Parsed expression: 35.63239999999999 + x - y - 9(x^2)\n",
      "Evaluation point: Dict{Any, Any}(\"x\" => 1.9399999999999997, \"y\" => 3.6999999999999993)\n",
      "Evaluation value: -34.63239999999999\n",
      "Additional constant: 34.63239999999999\n",
      "Restriction type: LtEq\n",
      "Restriction set type: J_0_g\n",
      "Value of miu: 0.44\n",
      "Value of beta: 0\n",
      "Value of lambda: 0\n",
      "Value of gamma: 0\n",
      "++++++++++++++++++++++++++++++\n",
      "------------------------------\n",
      "Follower's Objective Function:\n",
      "Variable names: [:y]\n",
      "Expression (string): y\n",
      "Parsed expression: y\n",
      "Evaluation point: Dict{Any, Any}(\"x\" => 1.9399999999999997, \"y\" => 3.6999999999999993)\n",
      "Evaluation value: 3.6999999999999993\n",
      "Is leader function: false\n",
      "------------------------------\n",
      "Follower's Restrictions:\n",
      "++++++++++++++++++++++++++++++\n",
      "Restriction 1\n",
      "Variable names: [:y, :x]\n",
      "Expression (string): ((-0.5 + x)*(y^2)) == 0\n",
      "Parsed expression: 25.798044444444425 - 12.30044444444444y + (-0.5 + x)*(y^2)\n",
      "Evaluation point: Dict{Any, Any}(\"x\" => 1.9399999999999997, \"y\" => 3.6999999999999993)\n",
      "Evaluation value: -25.798044444444425\n",
      "Additional constant: 25.798044444444425\n",
      "Restriction type: LtEq\n",
      "Restriction set type: J_0_L0_v\n",
      "Value of miu: 0\n",
      "Value of beta: -8.4\n",
      "Value of lambda: 0.36\n",
      "Value of gamma: -3.7\n",
      "++++++++++++++++++++++++++++++\n",
      "++++++++++++++++++++++++++++++\n",
      "Restriction 2\n",
      "Variable names: [:y]\n",
      "Expression (string): (-1 + y) == 0\n",
      "Parsed expression: 0\n",
      "Evaluation point: Dict{Any, Any}(\"x\" => 1.9399999999999997, \"y\" => 3.6999999999999993)\n",
      "Evaluation value: -1\n",
      "Additional constant: 1\n",
      "Restriction type: LtEq\n",
      "Restriction set type: J_0_LP_v\n",
      "Value of miu: 0\n",
      "Value of beta: -9.6\n",
      "Value of lambda: 0.43\n",
      "Value of gamma: -4.1\n",
      "++++++++++++++++++++++++++++++\n",
      "++++++++++++++++++++++++++++++\n",
      "Restriction 3\n",
      "Variable names: [:y]\n",
      "Expression (string): (-1 - y) == 0\n",
      "Parsed expression: -2\n",
      "Evaluation point: Dict{Any, Any}(\"x\" => 1.9399999999999997, \"y\" => 3.6999999999999993)\n",
      "Evaluation value: -1\n",
      "Additional constant: -1\n",
      "Restriction type: LtEq\n",
      "Restriction set type: J_Ne_L0_v\n",
      "Value of miu: 0\n",
      "Value of beta: 0\n",
      "Value of lambda: 0.43\n",
      "Value of gamma: 0\n",
      "++++++++++++++++++++++++++++++\n",
      "------------------------------\n",
      "Evaluation Point:\n",
      "Dict{Any, Any}(\"x\" => 1.9399999999999997, \"y\" => 3.6999999999999993)\n",
      "------------------------------\n",
      "_\n",
      "\n",
      "Num[120.34679999999996, -15.706133333333328]\n",
      "Va a retornar correctamente\n",
      "Leader's Objective Function:\n",
      "Variable names: [:x]\n",
      "Expression (string): x^2\n",
      "Parsed expression: x^2\n",
      "Evaluation point: Dict{Any, Any}(\"x\" => 1.9399999999999997, \"y\" => 3.6999999999999993)\n",
      "Evaluation value: 3.763599999999999\n",
      "Is leader function: true\n",
      "------------------------------\n",
      "Leader's Restrictions:\n",
      "++++++++++++++++++++++++++++++\n",
      "Restriction 1\n",
      "Variable names: [:x]\n",
      "Expression (string): (-1 - x) == 0\n",
      "Parsed expression: 1.9399999999999995 - x\n",
      "Evaluation point: Dict{Any, Any}(\"x\" => 1.9399999999999997, \"y\" => 3.6999999999999993)\n",
      "Evaluation value: -2.9399999999999995\n",
      "Additional constant: 2.9399999999999995\n",
      "Restriction type: LtEq\n",
      "Restriction set type: J_0_g\n",
      "Value of miu: 0.32\n",
      "Value of beta: 0\n",
      "Value of lambda: 0\n",
      "Value of gamma: 0\n",
      "++++++++++++++++++++++++++++++\n",
      "++++++++++++++++++++++++++++++\n",
      "Restriction 2\n",
      "Variable names: [:x]\n",
      "Expression (string): (-1 + x) == 0\n",
      "Parsed expression: -1.9399999999999997 + x\n",
      "Evaluation point: Dict{Any, Any}(\"x\" => 1.9399999999999997, \"y\" => 3.6999999999999993)\n",
      "Evaluation value: 0.9399999999999997\n",
      "Additional constant: -0.9399999999999997\n",
      "Restriction type: LtEq\n",
      "Restriction set type: J_0_g\n",
      "Value of miu: 0.02\n",
      "Value of beta: 0\n",
      "Value of lambda: 0\n",
      "Value of gamma: 0\n",
      "++++++++++++++++++++++++++++++\n",
      "++++++++++++++++++++++++++++++\n",
      "Restriction 3\n",
      "Variable names: [:y, :x]\n",
      "Expression (string): (1 + x - y - 9(x^2)) == 0\n",
      "Parsed expression: 35.63239999999999 + x - y - 9(x^2)\n",
      "Evaluation point: Dict{Any, Any}(\"x\" => 1.9399999999999997, \"y\" => 3.6999999999999993)\n",
      "Evaluation value: -34.63239999999999\n",
      "Additional constant: 34.63239999999999\n",
      "Restriction type: LtEq\n",
      "Restriction set type: J_0_g\n",
      "Value of miu: 0.44\n",
      "Value of beta: 0\n",
      "Value of lambda: 0\n",
      "Value of gamma: 0\n",
      "++++++++++++++++++++++++++++++\n",
      "------------------------------\n",
      "Follower's Objective Function:\n",
      "Variable names: [:y]\n",
      "Expression (string): y\n",
      "Parsed expression: y\n",
      "Evaluation point: Dict{Any, Any}(\"x\" => 1.9399999999999997, \"y\" => 3.6999999999999993)\n",
      "Evaluation value: 3.6999999999999993\n",
      "Is leader function: false\n",
      "------------------------------\n",
      "Follower's Restrictions:\n",
      "++++++++++++++++++++++++++++++\n",
      "Restriction 1\n",
      "Variable names: [:y, :x]\n",
      "Expression (string): ((-0.5 + x)*(y^2)) == 0\n",
      "Parsed expression: -19.71359999999999 + (-0.5 + x)*(y^2)\n",
      "Evaluation point: Dict{Any, Any}(\"x\" => 1.9399999999999997, \"y\" => 3.6999999999999993)\n",
      "Evaluation value: 19.71359999999999\n",
      "Additional constant: -19.71359999999999\n",
      "Restriction type: LtEq\n",
      "Restriction set type: J_0_L0_v\n",
      "Value of miu: 0\n",
      "Value of beta: 0\n",
      "Value of lambda: 0.36\n",
      "Value of gamma: 0\n",
      "++++++++++++++++++++++++++++++\n",
      "++++++++++++++++++++++++++++++\n",
      "Restriction 2\n",
      "Variable names: [:y]\n",
      "Expression (string): (-1 + y) == 0\n",
      "Parsed expression: -3.6999999999999993 + y\n",
      "Evaluation point: Dict{Any, Any}(\"x\" => 1.9399999999999997, \"y\" => 3.6999999999999993)\n",
      "Evaluation value: 2.6999999999999993\n",
      "Additional constant: -2.6999999999999993\n",
      "Restriction type: LtEq\n",
      "Restriction set type: J_0_LP_v\n",
      "Value of miu: 0\n",
      "Value of beta: -9.0\n",
      "Value of lambda: 0.43\n",
      "Value of gamma: -0.1\n",
      "++++++++++++++++++++++++++++++\n",
      "++++++++++++++++++++++++++++++\n",
      "Restriction 3\n",
      "Variable names: [:y]\n",
      "Expression (string): (-1 - y) == 0\n",
      "Parsed expression: -5.699999999999999 - y\n",
      "Evaluation point: Dict{Any, Any}(\"x\" => 1.9399999999999997, \"y\" => 3.6999999999999993)\n",
      "Evaluation value: -4.699999999999999\n",
      "Additional constant: -4.699999999999999\n",
      "Restriction type: LtEq\n",
      "Restriction set type: J_Ne_L0_v\n",
      "Value of miu: 0\n",
      "Value of beta: 0\n",
      "Value of lambda: 0.43\n",
      "Value of gamma: 0\n",
      "++++++++++++++++++++++++++++++\n",
      "------------------------------\n",
      "Evaluation Point:\n",
      "Dict{Any, Any}(\"x\" => 1.9399999999999997, \"y\" => 3.6999999999999993)\n",
      "------------------------------\n",
      "_\n",
      "\n",
      "Num[11.3448, 9.44]\n",
      "Se va a crear el DataFrame\n",
      "Se va a crear el DataFrame\n",
      "Carpeta creada: d:\\GitHub\\Tesis\\experiment\\nonconvex\\MitsosBarton2006Ex323\\Experimentos_Generador\n",
      "Se va a crear el DataFrame\n",
      "La carpeta ya existe: d:\\GitHub\\Tesis\\experiment\\nonconvex\\MitsosBarton2006Ex323\\Experimentos_Generador\n",
      "Experimento Completado\n",
      "Va a retornar correctamente\n",
      "Leader's Objective Function:\n",
      "Variable names: [:x]\n",
      "Expression (string): x^2\n",
      "Parsed expression: x^2\n",
      "Evaluation point: Dict{Any, Any}(\"x\" => 1.9399999999999997, \"y\" => 3.6999999999999993)\n",
      "Evaluation value: 3.763599999999999\n",
      "Is leader function: true\n",
      "------------------------------\n",
      "Leader's Restrictions:\n",
      "++++++++++++++++++++++++++++++\n",
      "Restriction 1\n",
      "Variable names: [:x]\n",
      "Expression (string): (-1 - x) == 0\n",
      "Parsed expression: 1.9399999999999995 - x\n",
      "Evaluation point: Dict{Any, Any}(\"x\" => 1.9399999999999997, \"y\" => 3.6999999999999993)\n",
      "Evaluation value: -2.9399999999999995\n",
      "Additional constant: 2.9399999999999995\n",
      "Restriction type: LtEq\n",
      "Restriction set type: J_0_g\n",
      "Value of miu: 0.32\n",
      "Value of beta: 0\n",
      "Value of lambda: 0\n",
      "Value of gamma: 0\n",
      "++++++++++++++++++++++++++++++\n",
      "++++++++++++++++++++++++++++++\n",
      "Restriction 2\n",
      "Variable names: [:x]\n",
      "Expression (string): (-1 + x) == 0\n",
      "Parsed expression: -1.9399999999999997 + x\n",
      "Evaluation point: Dict{Any, Any}(\"x\" => 1.9399999999999997, \"y\" => 3.6999999999999993)\n",
      "Evaluation value: 0.9399999999999997\n",
      "Additional constant: -0.9399999999999997\n",
      "Restriction type: LtEq\n",
      "Restriction set type: J_0_g\n",
      "Value of miu: 0.02\n",
      "Value of beta: 0\n",
      "Value of lambda: 0\n",
      "Value of gamma: 0\n",
      "++++++++++++++++++++++++++++++\n",
      "++++++++++++++++++++++++++++++\n",
      "Restriction 3\n",
      "Variable names: [:y, :x]\n",
      "Expression (string): (1 + x - y - 9(x^2)) == 0\n",
      "Parsed expression: 35.63239999999999 + x - y - 9(x^2)\n",
      "Evaluation point: Dict{Any, Any}(\"x\" => 1.9399999999999997, \"y\" => 3.6999999999999993)\n",
      "Evaluation value: -34.63239999999999\n",
      "Additional constant: 34.63239999999999\n",
      "Restriction type: LtEq\n",
      "Restriction set type: J_0_g\n",
      "Value of miu: 0.44\n",
      "Value of beta: 0\n",
      "Value of lambda: 0\n",
      "Value of gamma: 0\n",
      "++++++++++++++++++++++++++++++\n",
      "------------------------------\n",
      "Follower's Objective Function:\n",
      "Variable names: [:y]\n",
      "Expression (string): y\n",
      "Parsed expression: y\n",
      "Evaluation point: Dict{Any, Any}(\"x\" => 1.9399999999999997, \"y\" => 3.6999999999999993)\n",
      "Evaluation value: 3.6999999999999993\n",
      "Is leader function: false\n",
      "------------------------------\n",
      "Follower's Restrictions:\n",
      "++++++++++++++++++++++++++++++\n",
      "Restriction 1\n",
      "Variable names: [:y, :x]\n",
      "Expression (string): ((-0.5 + x)*(y^2)) == 0\n",
      "Parsed expression: 17.688724378109445 - 10.108736318407956y + (-0.5 + x)*(y^2)\n",
      "Evaluation point: Dict{Any, Any}(\"x\" => 1.9399999999999997, \"y\" => 3.6999999999999993)\n",
      "Evaluation value: -17.688724378109445\n",
      "Additional constant: 17.688724378109445\n",
      "Restriction type: LtEq\n",
      "Restriction set type: J_0_L0_v\n",
      "Value of miu: 0\n",
      "Value of beta: 0\n",
      "Value of lambda: 0.36\n",
      "Value of gamma: 1.1\n",
      "++++++++++++++++++++++++++++++\n",
      "++++++++++++++++++++++++++++++\n",
      "Restriction 2\n",
      "Variable names: [:y]\n",
      "Expression (string): (-1 + y) == 0\n",
      "Parsed expression: 0\n",
      "Evaluation point: Dict{Any, Any}(\"x\" => 1.9399999999999997, \"y\" => 3.6999999999999993)\n",
      "Evaluation value: -1\n",
      "Additional constant: 1\n",
      "Restriction type: LtEq\n",
      "Restriction set type: J_0_LP_v\n",
      "Value of miu: 0\n",
      "Value of beta: 0\n",
      "Value of lambda: 0.43\n",
      "Value of gamma: 8.7\n",
      "++++++++++++++++++++++++++++++\n",
      "++++++++++++++++++++++++++++++\n",
      "Restriction 3\n",
      "Variable names: [:y]\n",
      "Expression (string): (-1 - y) == 0\n",
      "Parsed expression: -16.260845771144275 + 4.278606965174129y\n",
      "Evaluation point: Dict{Any, Any}(\"x\" => 1.9399999999999997, \"y\" => 3.6999999999999993)\n",
      "Evaluation value: 14.830845771144274\n",
      "Additional constant: -15.260845771144274\n",
      "Restriction type: LtEq\n",
      "Restriction set type: J_Ne_L0_v\n",
      "Value of miu: 0\n",
      "Value of beta: 0\n",
      "Value of lambda: 0.43\n",
      "Value of gamma: 8.6\n",
      "++++++++++++++++++++++++++++++\n",
      "------------------------------\n",
      "Evaluation Point:\n",
      "Dict{Any, Any}(\"x\" => 1.9399999999999997, \"y\" => 3.6999999999999993)\n",
      "------------------------------\n",
      "_\n",
      "\n",
      "Num[5.99016, -1.6439679999999997]\n",
      "Va a retornar correctamente\n",
      "Leader's Objective Function:\n",
      "Variable names: [:x]\n",
      "Expression (string): x^2\n",
      "Parsed expression: x^2\n",
      "Evaluation point: Dict{Any, Any}(\"x\" => 1.9399999999999997, \"y\" => 3.6999999999999993)\n",
      "Evaluation value: 3.763599999999999\n",
      "Is leader function: true\n",
      "------------------------------\n",
      "Leader's Restrictions:\n",
      "++++++++++++++++++++++++++++++\n",
      "Restriction 1\n",
      "Variable names: [:x]\n",
      "Expression (string): (-1 - x) == 0\n",
      "Parsed expression: 1.9399999999999995 - x\n",
      "Evaluation point: Dict{Any, Any}(\"x\" => 1.9399999999999997, \"y\" => 3.6999999999999993)\n",
      "Evaluation value: -2.9399999999999995\n",
      "Additional constant: 2.9399999999999995\n",
      "Restriction type: LtEq\n",
      "Restriction set type: J_0_g\n",
      "Value of miu: 0.32\n",
      "Value of beta: 0\n",
      "Value of lambda: 0\n",
      "Value of gamma: 0\n",
      "++++++++++++++++++++++++++++++\n",
      "++++++++++++++++++++++++++++++\n",
      "Restriction 2\n",
      "Variable names: [:x]\n",
      "Expression (string): (-1 + x) == 0\n",
      "Parsed expression: -1.9399999999999997 + x\n",
      "Evaluation point: Dict{Any, Any}(\"x\" => 1.9399999999999997, \"y\" => 3.6999999999999993)\n",
      "Evaluation value: 0.9399999999999997\n",
      "Additional constant: -0.9399999999999997\n",
      "Restriction type: LtEq\n",
      "Restriction set type: J_0_g\n",
      "Value of miu: 0.02\n",
      "Value of beta: 0\n",
      "Value of lambda: 0\n",
      "Value of gamma: 0\n",
      "++++++++++++++++++++++++++++++\n",
      "++++++++++++++++++++++++++++++\n",
      "Restriction 3\n",
      "Variable names: [:y, :x]\n",
      "Expression (string): (1 + x - y - 9(x^2)) == 0\n",
      "Parsed expression: 35.63239999999999 + x - y - 9(x^2)\n",
      "Evaluation point: Dict{Any, Any}(\"x\" => 1.9399999999999997, \"y\" => 3.6999999999999993)\n",
      "Evaluation value: -34.63239999999999\n",
      "Additional constant: 34.63239999999999\n",
      "Restriction type: LtEq\n",
      "Restriction set type: J_0_g\n",
      "Value of miu: 0.44\n",
      "Value of beta: 0\n",
      "Value of lambda: 0\n",
      "Value of gamma: 0\n",
      "++++++++++++++++++++++++++++++\n",
      "------------------------------\n",
      "Follower's Objective Function:\n",
      "Variable names: [:y]\n",
      "Expression (string): y\n",
      "Parsed expression: y\n",
      "Evaluation point: Dict{Any, Any}(\"x\" => 1.9399999999999997, \"y\" => 3.6999999999999993)\n",
      "Evaluation value: 3.6999999999999993\n",
      "Is leader function: false\n",
      "------------------------------\n",
      "Follower's Restrictions:\n",
      "++++++++++++++++++++++++++++++\n",
      "Restriction 1\n",
      "Variable names: [:y, :x]\n",
      "Expression (string): ((-0.5 + x)*(y^2)) == 0\n",
      "Parsed expression: -19.71359999999999 + (-0.5 + x)*(y^2)\n",
      "Evaluation point: Dict{Any, Any}(\"x\" => 1.9399999999999997, \"y\" => 3.6999999999999993)\n",
      "Evaluation value: 19.71359999999999\n",
      "Additional constant: -19.71359999999999\n",
      "Restriction type: LtEq\n",
      "Restriction set type: J_0_L0_v\n",
      "Value of miu: 0\n",
      "Value of beta: 3.5\n",
      "Value of lambda: 0.36\n",
      "Value of gamma: 0\n",
      "++++++++++++++++++++++++++++++\n",
      "++++++++++++++++++++++++++++++\n",
      "Restriction 2\n",
      "Variable names: [:y]\n",
      "Expression (string): (-1 + y) == 0\n",
      "Parsed expression: -3.6999999999999993 + y\n",
      "Evaluation point: Dict{Any, Any}(\"x\" => 1.9399999999999997, \"y\" => 3.6999999999999993)\n",
      "Evaluation value: 2.6999999999999993\n",
      "Additional constant: -2.6999999999999993\n",
      "Restriction type: LtEq\n",
      "Restriction set type: J_0_LP_v\n",
      "Value of miu: 0\n",
      "Value of beta: 3.2\n",
      "Value of lambda: 0.43\n",
      "Value of gamma: 0\n",
      "++++++++++++++++++++++++++++++\n",
      "++++++++++++++++++++++++++++++\n",
      "Restriction 3\n",
      "Variable names: [:y]\n",
      "Expression (string): (-1 - y) == 0\n",
      "Parsed expression: -5.699999999999999 - y\n",
      "Evaluation point: Dict{Any, Any}(\"x\" => 1.9399999999999997, \"y\" => 3.6999999999999993)\n",
      "Evaluation value: -4.699999999999999\n",
      "Additional constant: -4.699999999999999\n",
      "Restriction type: LtEq\n",
      "Restriction set type: J_Ne_L0_v\n",
      "Value of miu: 0\n",
      "Value of beta: 2.1\n",
      "Value of lambda: 0.43\n",
      "Value of gamma: 0\n",
      "++++++++++++++++++++++++++++++\n",
      "------------------------------\n",
      "Evaluation Point:\n",
      "Dict{Any, Any}(\"x\" => 1.9399999999999997, \"y\" => 3.6999999999999993)\n",
      "------------------------------\n",
      "_\n",
      "\n",
      "Num[-36.57019999999998, -37.95599999999999]\n",
      "Se va a crear el DataFrame\n",
      "Se va a crear el DataFrame\n",
      "La carpeta ya existe: d:\\GitHub\\Tesis\\experiment\\nonconvex\\MitsosBarton2006Ex323\\Experimentos_Generador\n",
      "Se va a crear el DataFrame\n",
      "La carpeta ya existe: d:\\GitHub\\Tesis\\experiment\\nonconvex\\MitsosBarton2006Ex323\\Experimentos_Generador\n",
      "Experimento Completado\n",
      "Va a retornar correctamente\n",
      "Leader's Objective Function:\n",
      "Variable names: [:x]\n",
      "Expression (string): x^2\n",
      "Parsed expression: x^2\n",
      "Evaluation point: Dict{Any, Any}(\"x\" => 1.9399999999999997, \"y\" => 3.6999999999999993)\n",
      "Evaluation value: 3.763599999999999\n",
      "Is leader function: true\n",
      "------------------------------\n",
      "Leader's Restrictions:\n",
      "++++++++++++++++++++++++++++++\n",
      "Restriction 1\n",
      "Variable names: [:x]\n",
      "Expression (string): (-1 - x) == 0\n",
      "Parsed expression: 1.9399999999999995 - x\n",
      "Evaluation point: Dict{Any, Any}(\"x\" => 1.9399999999999997, \"y\" => 3.6999999999999993)\n",
      "Evaluation value: -2.9399999999999995\n",
      "Additional constant: 2.9399999999999995\n",
      "Restriction type: LtEq\n",
      "Restriction set type: J_0_g\n",
      "Value of miu: 0.32\n",
      "Value of beta: 0\n",
      "Value of lambda: 0\n",
      "Value of gamma: 0\n",
      "++++++++++++++++++++++++++++++\n",
      "++++++++++++++++++++++++++++++\n",
      "Restriction 2\n",
      "Variable names: [:x]\n",
      "Expression (string): (-1 + x) == 0\n",
      "Parsed expression: -1.9399999999999997 + x\n",
      "Evaluation point: Dict{Any, Any}(\"x\" => 1.9399999999999997, \"y\" => 3.6999999999999993)\n",
      "Evaluation value: 0.9399999999999997\n",
      "Additional constant: -0.9399999999999997\n",
      "Restriction type: LtEq\n",
      "Restriction set type: J_0_g\n",
      "Value of miu: 0.02\n",
      "Value of beta: 0\n",
      "Value of lambda: 0\n",
      "Value of gamma: 0\n",
      "++++++++++++++++++++++++++++++\n",
      "++++++++++++++++++++++++++++++\n",
      "Restriction 3\n",
      "Variable names: [:y, :x]\n",
      "Expression (string): (1 + x - y - 9(x^2)) == 0\n",
      "Parsed expression: 35.63239999999999 + x - y - 9(x^2)\n",
      "Evaluation point: Dict{Any, Any}(\"x\" => 1.9399999999999997, \"y\" => 3.6999999999999993)\n",
      "Evaluation value: -34.63239999999999\n",
      "Additional constant: 34.63239999999999\n",
      "Restriction type: LtEq\n",
      "Restriction set type: J_0_g\n",
      "Value of miu: 0.44\n",
      "Value of beta: 0\n",
      "Value of lambda: 0\n",
      "Value of gamma: 0\n",
      "++++++++++++++++++++++++++++++\n",
      "------------------------------\n",
      "Follower's Objective Function:\n",
      "Variable names: [:y]\n",
      "Expression (string): y\n",
      "Parsed expression: y\n",
      "Evaluation point: Dict{Any, Any}(\"x\" => 1.9399999999999997, \"y\" => 3.6999999999999993)\n",
      "Evaluation value: 3.6999999999999993\n",
      "Is leader function: false\n",
      "------------------------------\n",
      "Follower's Restrictions:\n",
      "++++++++++++++++++++++++++++++\n",
      "Restriction 1\n",
      "Variable names: [:y, :x]\n",
      "Expression (string): ((-0.5 + x)*(y^2)) == 0\n",
      "Parsed expression: -33.14354285714286 + 3.6297142857142894y + (-0.5 + x)*(y^2)\n",
      "Evaluation point: Dict{Any, Any}(\"x\" => 1.9399999999999997, \"y\" => 3.6999999999999993)\n",
      "Evaluation value: 33.14354285714286\n",
      "Additional constant: -33.14354285714286\n",
      "Restriction type: LtEq\n",
      "Restriction set type: J_0_L0_v\n",
      "Value of miu: 0\n",
      "Value of beta: 3.3000000000000003\n",
      "Value of lambda: 0.36\n",
      "Value of gamma: 9.0\n",
      "++++++++++++++++++++++++++++++\n",
      "++++++++++++++++++++++++++++++\n",
      "Restriction 2\n",
      "Variable names: [:y]\n",
      "Expression (string): (-1 + y) == 0\n",
      "Parsed expression: 0\n",
      "Evaluation point: Dict{Any, Any}(\"x\" => 1.9399999999999997, \"y\" => 3.6999999999999993)\n",
      "Evaluation value: -1\n",
      "Additional constant: 1\n",
      "Restriction type: LtEq\n",
      "Restriction set type: J_0_LP_v\n",
      "Value of miu: 0\n",
      "Value of beta: 2.0\n",
      "Value of lambda: 0.43\n",
      "Value of gamma: 2.7\n",
      "++++++++++++++++++++++++++++++\n",
      "++++++++++++++++++++++++++++++\n",
      "Restriction 3\n",
      "Variable names: [:y]\n",
      "Expression (string): (-1 - y) == 0\n",
      "Parsed expression: -32.2042857142857 + 8.571428571428571y\n",
      "Evaluation point: Dict{Any, Any}(\"x\" => 1.9399999999999997, \"y\" => 3.6999999999999993)\n",
      "Evaluation value: 30.714285714285708\n",
      "Additional constant: -31.204285714285707\n",
      "Restriction type: LtEq\n",
      "Restriction set type: J_Ne_L0_v\n",
      "Value of miu: 0\n",
      "Value of beta: 5.699999999999999\n",
      "Value of lambda: 0.43\n",
      "Value of gamma: 5.4\n",
      "++++++++++++++++++++++++++++++\n",
      "------------------------------\n",
      "Evaluation Point:\n",
      "Dict{Any, Any}(\"x\" => 1.9399999999999997, \"y\" => 3.6999999999999993)\n",
      "------------------------------\n",
      "_\n",
      "\n",
      "Num[-35.510519999999985, -96.213184]\n",
      "Va a retornar correctamente\n",
      "Leader's Objective Function:\n",
      "Variable names: [:x]\n",
      "Expression (string): x^2\n",
      "Parsed expression: x^2\n",
      "Evaluation point: Dict{Any, Any}(\"x\" => 1.9399999999999997, \"y\" => 3.6999999999999993)\n",
      "Evaluation value: 3.763599999999999\n",
      "Is leader function: true\n",
      "------------------------------\n",
      "Leader's Restrictions:\n",
      "++++++++++++++++++++++++++++++\n",
      "Restriction 1\n",
      "Variable names: [:x]\n",
      "Expression (string): (-1 - x) == 0\n",
      "Parsed expression: 1.9399999999999995 - x\n",
      "Evaluation point: Dict{Any, Any}(\"x\" => 1.9399999999999997, \"y\" => 3.6999999999999993)\n",
      "Evaluation value: -2.9399999999999995\n",
      "Additional constant: 2.9399999999999995\n",
      "Restriction type: LtEq\n",
      "Restriction set type: J_0_g\n",
      "Value of miu: 0.32\n",
      "Value of beta: 0\n",
      "Value of lambda: 0\n",
      "Value of gamma: 0\n",
      "++++++++++++++++++++++++++++++\n",
      "++++++++++++++++++++++++++++++\n",
      "Restriction 2\n",
      "Variable names: [:x]\n",
      "Expression (string): (-1 + x) == 0\n",
      "Parsed expression: -1.9399999999999997 + x\n",
      "Evaluation point: Dict{Any, Any}(\"x\" => 1.9399999999999997, \"y\" => 3.6999999999999993)\n",
      "Evaluation value: 0.9399999999999997\n",
      "Additional constant: -0.9399999999999997\n",
      "Restriction type: LtEq\n",
      "Restriction set type: J_0_g\n",
      "Value of miu: 0.02\n",
      "Value of beta: 0\n",
      "Value of lambda: 0\n",
      "Value of gamma: 0\n",
      "++++++++++++++++++++++++++++++\n",
      "++++++++++++++++++++++++++++++\n",
      "Restriction 3\n",
      "Variable names: [:y, :x]\n",
      "Expression (string): (1 + x - y - 9(x^2)) == 0\n",
      "Parsed expression: 35.63239999999999 + x - y - 9(x^2)\n",
      "Evaluation point: Dict{Any, Any}(\"x\" => 1.9399999999999997, \"y\" => 3.6999999999999993)\n",
      "Evaluation value: -34.63239999999999\n",
      "Additional constant: 34.63239999999999\n",
      "Restriction type: LtEq\n",
      "Restriction set type: J_0_g\n",
      "Value of miu: 0.44\n",
      "Value of beta: 0\n",
      "Value of lambda: 0\n",
      "Value of gamma: 0\n",
      "++++++++++++++++++++++++++++++\n",
      "------------------------------\n",
      "Follower's Objective Function:\n",
      "Variable names: [:y]\n",
      "Expression (string): y\n",
      "Parsed expression: y\n",
      "Evaluation point: Dict{Any, Any}(\"x\" => 1.9399999999999997, \"y\" => 3.6999999999999993)\n",
      "Evaluation value: 3.6999999999999993\n",
      "Is leader function: false\n",
      "------------------------------\n",
      "Follower's Restrictions:\n",
      "++++++++++++++++++++++++++++++\n",
      "Restriction 1\n",
      "Variable names: [:y, :x]\n",
      "Expression (string): ((-0.5 + x)*(y^2)) == 0\n",
      "Parsed expression: -19.71359999999999 + (-0.5 + x)*(y^2)\n",
      "Evaluation point: Dict{Any, Any}(\"x\" => 1.9399999999999997, \"y\" => 3.6999999999999993)\n",
      "Evaluation value: 19.71359999999999\n",
      "Additional constant: -19.71359999999999\n",
      "Restriction type: LtEq\n",
      "Restriction set type: J_0_L0_v\n",
      "Value of miu: 0\n",
      "Value of beta: 2.6\n",
      "Value of lambda: 0.36\n",
      "Value of gamma: 6.7\n",
      "++++++++++++++++++++++++++++++\n",
      "++++++++++++++++++++++++++++++\n",
      "Restriction 2\n",
      "Variable names: [:y]\n",
      "Expression (string): (-1 + y) == 0\n",
      "Parsed expression: -3.6999999999999993 + y\n",
      "Evaluation point: Dict{Any, Any}(\"x\" => 1.9399999999999997, \"y\" => 3.6999999999999993)\n",
      "Evaluation value: 2.6999999999999993\n",
      "Additional constant: -2.6999999999999993\n",
      "Restriction type: LtEq\n",
      "Restriction set type: J_0_LP_v\n",
      "Value of miu: 0\n",
      "Value of beta: 7.0\n",
      "Value of lambda: 0.43\n",
      "Value of gamma: 0.7000000000000001\n",
      "++++++++++++++++++++++++++++++\n",
      "++++++++++++++++++++++++++++++\n",
      "Restriction 3\n",
      "Variable names: [:y]\n",
      "Expression (string): (-1 - y) == 0\n",
      "Parsed expression: -5.699999999999999 - y\n",
      "Evaluation point: Dict{Any, Any}(\"x\" => 1.9399999999999997, \"y\" => 3.6999999999999993)\n",
      "Evaluation value: -4.699999999999999\n",
      "Additional constant: -4.699999999999999\n",
      "Restriction type: LtEq\n",
      "Restriction set type: J_Ne_L0_v\n",
      "Value of miu: 0\n",
      "Value of beta: 0.7000000000000001\n",
      "Value of lambda: 0.43\n",
      "Value of gamma: 4.6000000000000005\n",
      "++++++++++++++++++++++++++++++\n",
      "------------------------------\n",
      "Evaluation Point:\n",
      "Dict{Any, Any}(\"x\" => 1.9399999999999997, \"y\" => 3.6999999999999993)\n",
      "------------------------------\n",
      "_\n",
      "\n",
      "Num[-24.249199999999988, -33.56559999999999]\n",
      "Se va a crear el DataFrame\n",
      "Se va a crear el DataFrame\n",
      "La carpeta ya existe: d:\\GitHub\\Tesis\\experiment\\nonconvex\\MitsosBarton2006Ex323\\Experimentos_Generador\n",
      "Se va a crear el DataFrame\n",
      "La carpeta ya existe: d:\\GitHub\\Tesis\\experiment\\nonconvex\\MitsosBarton2006Ex323\\Experimentos_Generador\n",
      "Experimento Completado\n",
      "Finilizado el experimento completo\n"
     ]
    }
   ],
   "source": [
    "RunExperiment(experiment,\"MitsosBarton2006Ex323\",true)"
   ]
  },
  {
   "cell_type": "code",
   "execution_count": 16,
   "metadata": {},
   "outputs": [],
   "source": []
  }
 ],
 "metadata": {
  "kernelspec": {
   "display_name": "Julia 1.11.3",
   "language": "julia",
   "name": "julia-1.11"
  },
  "language_info": {
   "file_extension": ".jl",
   "mimetype": "application/julia",
   "name": "julia",
   "version": "1.11.3"
  }
 },
 "nbformat": 4,
 "nbformat_minor": 2
}
