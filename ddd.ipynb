{
 "cells": [
  {
   "cell_type": "code",
   "execution_count": 1,
   "metadata": {},
   "outputs": [],
   "source": [
    "using XLSX\n",
    "using DataFrames"
   ]
  },
  {
   "cell_type": "code",
   "execution_count": 2,
   "metadata": {},
   "outputs": [
    {
     "data": {
      "text/plain": [
       "true"
      ]
     },
     "metadata": {},
     "output_type": "display_data"
    }
   ],
   "source": [
    "xx=isfile(\"kk.xlsx\")"
   ]
  },
  {
   "cell_type": "code",
   "execution_count": 3,
   "metadata": {},
   "outputs": [
    {
     "data": {
      "text/plain": [
       "Bool"
      ]
     },
     "metadata": {},
     "output_type": "display_data"
    }
   ],
   "source": [
    "typeof(xx)"
   ]
  },
  {
   "cell_type": "code",
   "execution_count": null,
   "metadata": {},
   "outputs": [
    {
     "data": {
      "text/plain": [
       "serialize_in_xlsx (generic function with 1 method)"
      ]
     },
     "metadata": {},
     "output_type": "display_data"
    }
   ],
   "source": [
    "function serialize_in_xlsx(df,file_name::String)\n",
    "    sheet_name=\"Data\"\n",
    "    all_name=\"$file_name.xlsx\"\n",
    "    if !isfile(all_name) # Si no existe creo y lo guardo\n",
    "        \n",
    "        XLSX.writetable(all_name, sheet_name =>df; overwrite=true )\n",
    "        return all_name\n",
    "    end\n",
    "    \n",
    "        # Si existe el archivo\n",
    "        # Leer la tabla desde el archivo Excel\n",
    "        tabla = XLSX.readtable(all_name,sheet_name)\n",
    "        # Convertir en un DataFrame\n",
    "        old_df=DataFrame(tabla)\n",
    "        # Concatenar los Dataframes\n",
    "        new_df=vcat(old_df, df)\n",
    "        # Reescribir y guardar el nuevo xlsx\n",
    "        XLSX.writetable(all_name, sheet_name => new_df; overwrite=true )\n",
    "        return all_name\n",
    "        \n",
    "end\n",
    "    "
   ]
  },
  {
   "cell_type": "code",
   "execution_count": 5,
   "metadata": {},
   "outputs": [
    {
     "data": {
      "text/plain": [
       "\"kk.xlsx\""
      ]
     },
     "metadata": {},
     "output_type": "display_data"
    }
   ],
   "source": [
    "df1 = DataFrames.DataFrame(COL1=[10,20,30], COL2=[\"Fist\", \"Sec\", \"Third\"])\n",
    "serialize_in_xlsx(df1,\"kk\")"
   ]
  },
  {
   "cell_type": "code",
   "execution_count": 6,
   "metadata": {},
   "outputs": [
    {
     "data": {
      "text/plain": [
       "\"kk.xlsx\""
      ]
     },
     "metadata": {},
     "output_type": "display_data"
    }
   ],
   "source": [
    "df2 = DataFrames.DataFrame(COL1=[333], COL2=[\"dd\"])\n",
    "serialize_in_xlsx(df2,\"kk\")"
   ]
  },
  {
   "cell_type": "code",
   "execution_count": 7,
   "metadata": {},
   "outputs": [
    {
     "name": "stdout",
     "output_type": "stream",
     "text": [
      "45\n"
     ]
    }
   ],
   "source": [
    "if isfile(\"kk.xlsx\")\n",
    "    println(45)\n",
    "end"
   ]
  },
  {
   "cell_type": "code",
   "execution_count": 8,
   "metadata": {},
   "outputs": [
    {
     "data": {
      "text/plain": [
       "true"
      ]
     },
     "metadata": {},
     "output_type": "display_data"
    }
   ],
   "source": [
    "!isfile(\"ff.ekdj\")"
   ]
  },
  {
   "cell_type": "code",
   "execution_count": 9,
   "metadata": {},
   "outputs": [],
   "source": []
  }
 ],
 "metadata": {
  "kernelspec": {
   "display_name": "Julia 1.8.5",
   "language": "julia",
   "name": "julia-1.8"
  },
  "language_info": {
   "file_extension": ".jl",
   "mimetype": "application/julia",
   "name": "julia",
   "version": "1.8.5"
  }
 },
 "nbformat": 4,
 "nbformat_minor": 2
}
