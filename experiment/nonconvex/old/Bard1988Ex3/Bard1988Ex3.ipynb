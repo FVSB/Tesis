{
 "cells": [
  {
   "cell_type": "markdown",
   "metadata": {},
   "source": [
    "# Importar las depencias necesarias"
   ]
  },
  {
   "cell_type": "code",
   "execution_count": 1,
   "metadata": {},
   "outputs": [],
   "source": [
    "include(\"../../experiment.jl\")"
   ]
  },
  {
   "cell_type": "code",
   "execution_count": 2,
   "metadata": {},
   "outputs": [],
   "source": [
    "using BilevelJuMP"
   ]
  },
  {
   "cell_type": "code",
   "execution_count": 3,
   "metadata": {},
   "outputs": [
    {
     "data": {
      "text/plain": [
       "An Abstract JuMP Model\n",
       "Feasibility problem with:\n",
       "Variables: 0\n",
       "Upper Constraints: 0\n",
       "Lower Constraints: 0\n",
       "Bilevel Model\n",
       "Solution method: BilevelJuMP.NoMode{Float64}\n",
       "No solver attached"
      ]
     },
     "metadata": {},
     "output_type": "display_data"
    }
   ],
   "source": [
    "model=BilevelModel()"
   ]
  },
  {
   "cell_type": "markdown",
   "metadata": {},
   "source": [
    "## Definir variables"
   ]
  },
  {
   "cell_type": "code",
   "execution_count": 4,
   "metadata": {},
   "outputs": [
    {
     "data": {
      "text/plain": [
       "2-element Vector{BilevelVariableRef}:\n",
       " y[1]\n",
       " y[2]"
      ]
     },
     "metadata": {},
     "output_type": "display_data"
    }
   ],
   "source": [
    "BilevelJuMP.@variable(Upper(model), x[1:2])\n",
    "BilevelJuMP.@variable(Upper(model), y[1:2])\n"
   ]
  },
  {
   "cell_type": "markdown",
   "metadata": {},
   "source": [
    "## Definir nivel superior"
   ]
  },
  {
   "cell_type": "code",
   "execution_count": 5,
   "metadata": {},
   "outputs": [
    {
     "data": {
      "text/latex": [
       "$ -x_{1}^2 + y_{2}^2 - 3 x_{2} - 4 y_{1} $"
      ],
      "text/plain": [
       "-x[1]² + y[2]² - 3 x[2] - 4 y[1]"
      ]
     },
     "metadata": {},
     "output_type": "display_data"
    }
   ],
   "source": [
    "BilevelJuMP.@objective(Upper(model),Min,-x[1]^2-3x[2]-4y[1]+y[2]^2)\n"
   ]
  },
  {
   "cell_type": "code",
   "execution_count": 6,
   "metadata": {},
   "outputs": [
    {
     "data": {
      "text/plain": [
       "(x[1]² + 2 x[2] ≤ 4, [-x[1], -x[2]] ∈ MathOptInterface.Nonpositives(2))"
      ]
     },
     "metadata": {},
     "output_type": "display_data"
    }
   ],
   "source": [
    "BilevelJuMP.@constraints(Upper(model),begin\n",
    "x[1]^2+2x[2]-4<=0\n",
    "-x<=0\n",
    "\n",
    "end)"
   ]
  },
  {
   "cell_type": "markdown",
   "metadata": {},
   "source": [
    "## Definir Nivel inferior"
   ]
  },
  {
   "cell_type": "code",
   "execution_count": 7,
   "metadata": {},
   "outputs": [
    {
     "data": {
      "text/latex": [
       "$ 2 x_{1}^2 + y_{1}^2 - 5 y_{2} $"
      ],
      "text/plain": [
       "2 x[1]² + y[1]² - 5 y[2]"
      ]
     },
     "metadata": {},
     "output_type": "display_data"
    }
   ],
   "source": [
    "BilevelJuMP.@objective(Lower(model),Min,2x[1]^2+y[1]^2-5y[2])"
   ]
  },
  {
   "cell_type": "code",
   "execution_count": 8,
   "metadata": {},
   "outputs": [
    {
     "data": {
      "text/plain": [
       "(-x[1]² - x[2]² + 2 x[1] + 2 y[1] - y[2] ≤ 3, -x[2] - 3 y[1] + 4 y[2] ≤ -4)"
      ]
     },
     "metadata": {},
     "output_type": "display_data"
    }
   ],
   "source": [
    "BilevelJuMP.@constraints(Lower(model),begin\n",
    "-x[1]^2+2x[1]-x[2]^2+2y[1]-y[2]-3<=0\n",
    "-x[2]-3y[1]+4y[2]+4<=0\n",
    "#-y<=0\n",
    "end)"
   ]
  },
  {
   "cell_type": "markdown",
   "metadata": {},
   "source": [
    "## Run"
   ]
  },
  {
   "cell_type": "code",
   "execution_count": 9,
   "metadata": {},
   "outputs": [
    {
     "name": "stdout",
     "output_type": "stream",
     "text": [
      "Resolviendo el problema con HiGHS\n",
      "Ocurrió un error: ErrorException(\"Constraints of the Function MathOptInterface.ScalarQuadraticFunction{Float64} in the set MathOptInterface.LessThan{Float64} are not yet implemented.\")\n",
      "Resolviendo el problema con SOS1\n",
      "Ocurrió un error: ErrorException(\"Constraints of the Function MathOptInterface.ScalarQuadraticFunction{Float64} in the set MathOptInterface.LessThan{Float64} are not yet implemented.\")\n",
      "Resolviendo el problema con Product Mode\n",
      "Ocurrió un error: ErrorException(\"Constraints of the Function MathOptInterface.ScalarQuadraticFunction{Float64} in the set MathOptInterface.LessThan{Float64} are not yet implemented.\")\n"
     ]
    }
   ],
   "source": [
    "\n",
    "start_experiment(model,x,y,\"Bard1988Ex3(nonconvex)\")"
   ]
  },
  {
   "cell_type": "code",
   "execution_count": 10,
   "metadata": {},
   "outputs": [],
   "source": []
  }
 ],
 "metadata": {
  "kernelspec": {
   "display_name": "Julia 1.11.2",
   "language": "julia",
   "name": "julia-1.11"
  },
  "language_info": {
   "file_extension": ".jl",
   "mimetype": "application/julia",
   "name": "julia",
   "version": "1.11.2"
  }
 },
 "nbformat": 4,
 "nbformat_minor": 2
}
