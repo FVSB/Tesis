{
 "cells": [
  {
   "cell_type": "markdown",
   "metadata": {},
   "source": [
    "## Importar el módulo\n"
   ]
  },
  {
   "cell_type": "code",
   "execution_count": 1,
   "metadata": {},
   "outputs": [
    {
     "data": {
      "text/plain": [
       "RunExperiment (generic function with 1 method)"
      ]
     },
     "metadata": {},
     "output_type": "display_data"
    }
   ],
   "source": [
    "include(\"../../new_experiment.jl\")"
   ]
  },
  {
   "cell_type": "markdown",
   "metadata": {},
   "source": [
    "Crear un experimento\n"
   ]
  },
  {
   "cell_type": "code",
   "execution_count": 2,
   "metadata": {},
   "outputs": [
    {
     "data": {
      "text/plain": [
       "Experiment(OptimizationModel(Problem(Any[], nothing), LeaderRestrictionProblem[], Problem(Any[], nothing), FollowerRestrictionProblem[], Dict{Any, Any}(), Number[1], false), OptimizationModel(Problem(Any[], nothing), LeaderRestrictionProblem[], Problem(Any[], nothing), FollowerRestrictionProblem[], Dict{Any, Any}(), Number[], true), Any[], Any[])"
      ]
     },
     "metadata": {},
     "output_type": "display_data"
    }
   ],
   "source": [
    "experiment=CreateExperiment()"
   ]
  },
  {
   "cell_type": "markdown",
   "metadata": {},
   "source": [
    "### Declarar variables del líder\n"
   ]
  },
  {
   "cell_type": "code",
   "execution_count": 3,
   "metadata": {},
   "outputs": [
    {
     "data": {
      "text/latex": [
       "$$ \\begin{equation}\n",
       "\\left[\n",
       "\\begin{array}{c}\n",
       "x \\\\\n",
       "\\end{array}\n",
       "\\right]\n",
       "\\end{equation}\n",
       " $$"
      ],
      "text/plain": [
       "1-element Vector{Num}:\n",
       " x"
      ]
     },
     "metadata": {},
     "output_type": "display_data"
    }
   ],
   "source": [
    "@leader_vars experiment x"
   ]
  },
  {
   "cell_type": "markdown",
   "metadata": {},
   "source": [
    "### Declarar Variables del Follower"
   ]
  },
  {
   "cell_type": "code",
   "execution_count": 4,
   "metadata": {},
   "outputs": [
    {
     "data": {
      "text/latex": [
       "$$ \\begin{equation}\n",
       "\\left[\n",
       "\\begin{array}{c}\n",
       "y \\\\\n",
       "\\end{array}\n",
       "\\right]\n",
       "\\end{equation}\n",
       " $$"
      ],
      "text/plain": [
       "1-element Vector{Num}:\n",
       " y"
      ]
     },
     "metadata": {},
     "output_type": "display_data"
    }
   ],
   "source": [
    "@follower_vars experiment y"
   ]
  },
  {
   "cell_type": "markdown",
   "metadata": {},
   "source": [
    "### Declarar Función Objetivo del Líder"
   ]
  },
  {
   "cell_type": "code",
   "execution_count": 5,
   "metadata": {},
   "outputs": [
    {
     "data": {
      "text/latex": [
       "$$ \\begin{equation}\n",
       " - x - y\n",
       "\\end{equation}\n",
       " $$"
      ],
      "text/plain": [
       "-x - y"
      ]
     },
     "metadata": {},
     "output_type": "display_data"
    }
   ],
   "source": [
    "SetLeaderFunction(experiment,-(x+y))"
   ]
  },
  {
   "cell_type": "markdown",
   "metadata": {},
   "source": [
    "Restricciones del Líder"
   ]
  },
  {
   "cell_type": "code",
   "execution_count": 6,
   "metadata": {},
   "outputs": [
    {
     "data": {
      "text/plain": [
       "1-element Vector{LeaderRestrictionProblem}:\n",
       " LeaderRestrictionProblem((-0.5 - x) <= 0, 0.9587054675071222, J_0_g)"
      ]
     },
     "metadata": {},
     "output_type": "display_data"
    }
   ],
   "source": [
    "SetLeaderRestriction(experiment,-0.5-x<=0)"
   ]
  },
  {
   "cell_type": "code",
   "execution_count": 7,
   "metadata": {},
   "outputs": [
    {
     "data": {
      "text/plain": [
       "2-element Vector{LeaderRestrictionProblem}:\n",
       " LeaderRestrictionProblem((-0.5 - x) <= 0, 0.9587054675071222, J_0_g)\n",
       " LeaderRestrictionProblem((-0.5 + x) <= 0, 0.593673353475241, J_0_g)"
      ]
     },
     "metadata": {},
     "output_type": "display_data"
    }
   ],
   "source": [
    "SetLeaderRestriction(experiment,x-0.5<=0)"
   ]
  },
  {
   "cell_type": "markdown",
   "metadata": {},
   "source": [
    "### Función objetivo del Follower"
   ]
  },
  {
   "cell_type": "code",
   "execution_count": 8,
   "metadata": {},
   "outputs": [
    {
     "data": {
      "text/latex": [
       "$$ \\begin{equation}\n",
       "x y\n",
       "\\end{equation}\n",
       " $$"
      ],
      "text/plain": [
       "x*y"
      ]
     },
     "metadata": {},
     "output_type": "display_data"
    }
   ],
   "source": [
    "SetFollowerFunction(experiment,x*y)"
   ]
  },
  {
   "cell_type": "markdown",
   "metadata": {},
   "source": [
    "### Restricciones del Follower"
   ]
  },
  {
   "cell_type": "code",
   "execution_count": 9,
   "metadata": {},
   "outputs": [
    {
     "data": {
      "text/plain": [
       "1-element Vector{FollowerRestrictionProblem}:\n",
       " FollowerRestrictionProblem((-1 - y) <= 0, J_0_LP_v, 0.031254674833627864, 0.11686978939361546, 0.8140902142604396)"
      ]
     },
     "metadata": {},
     "output_type": "display_data"
    }
   ],
   "source": [
    "SetFollowerRestriction(experiment,-1-y<=0)"
   ]
  },
  {
   "cell_type": "code",
   "execution_count": 10,
   "metadata": {},
   "outputs": [
    {
     "data": {
      "text/plain": [
       "2-element Vector{FollowerRestrictionProblem}:\n",
       " FollowerRestrictionProblem((-1 - y) <= 0, J_0_LP_v, 0.031254674833627864, 0.11686978939361546, 0.8140902142604396)\n",
       " FollowerRestrictionProblem((-1 + y) <= 0, J_0_LP_v, 0.8974828271946381, 0.704729254311097, 0.3616337695378442)"
      ]
     },
     "metadata": {},
     "output_type": "display_data"
    }
   ],
   "source": [
    "SetFollowerRestriction(experiment,y-1<=0)"
   ]
  },
  {
   "cell_type": "markdown",
   "metadata": {},
   "source": [
    "### Poner el Punto Optimo"
   ]
  },
  {
   "cell_type": "code",
   "execution_count": 11,
   "metadata": {},
   "outputs": [
    {
     "data": {
      "text/plain": [
       "Dict{Any, Any} with 2 entries:\n",
       "  y => 1.77606\n",
       "  x => 0.484544"
      ]
     },
     "metadata": {},
     "output_type": "display_data"
    }
   ],
   "source": [
    "SetPoint(experiment,Dict(x=>0,y=>1))"
   ]
  },
  {
   "cell_type": "markdown",
   "metadata": {},
   "source": [
    "## Iniciar el Experimento\n"
   ]
  },
  {
   "cell_type": "code",
   "execution_count": 12,
   "metadata": {},
   "outputs": [
    {
     "name": "stdout",
     "output_type": "stream",
     "text": [
      "Va a retornar correctamente\n",
      "Leader's Objective Function:\n",
      "Variable names: [:y, :x]\n",
      "Expression (string): -x - y\n",
      "Parsed expression: -x - y\n",
      "Evaluation point: Dict{Any, Any}(\"x\" => 0.48454426135702733, \"y\" => 1.776061092712988)\n",
      "Evaluation value: -2.2606053540700155\n",
      "Is leader function: true\n",
      "------------------------------\n",
      "Leader's Restrictions:\n",
      "++++++++++++++++++++++++++++++\n",
      "Restriction 1\n",
      "Variable names: [:x]\n",
      "Expression (string): (-0.5 - x) == 0\n",
      "Parsed expression: -0.5 - x\n",
      "Evaluation point: Dict{Any, Any}(\"x\" => 0.48454426135702733, \"y\" => 1.776061092712988)\n",
      "Evaluation value: -0.9845442613570273\n",
      "Additional constant: 0.9845442613570273\n",
      "Restriction type: LtEq\n",
      "Restriction set type: J_0_g\n",
      "Value of miu: 0.9587054675071222\n",
      "Value of beta: 0\n",
      "Value of lambda: 0\n",
      "Value of gamma: 0\n",
      "++++++++++++++++++++++++++++++\n",
      "++++++++++++++++++++++++++++++\n",
      "Restriction 2\n",
      "Variable names: [:x]\n",
      "Expression (string): (-0.5 + x) == 0\n",
      "Parsed expression: -0.5 + x\n",
      "Evaluation point: Dict{Any, Any}(\"x\" => 0.48454426135702733, \"y\" => 1.776061092712988)\n",
      "Evaluation value: -0.015455738642972672\n",
      "Additional constant: 0.015455738642972672\n",
      "Restriction type: LtEq\n",
      "Restriction set type: J_0_g\n",
      "Value of miu: 0.593673353475241\n",
      "Value of beta: 0\n",
      "Value of lambda: 0\n",
      "Value of gamma: 0\n",
      "++++++++++++++++++++++++++++++\n",
      "------------------------------\n",
      "Follower's Objective Function:\n",
      "Variable names: [:y, :x]\n",
      "Expression (string): x*y\n",
      "Parsed expression: x*y\n",
      "Evaluation point: Dict{Any, Any}(\"x\" => 0.48454426135702733, \"y\" => 1.776061092712988)\n",
      "Evaluation value: 0.8605802102935697\n",
      "Is leader function: false\n",
      "------------------------------\n",
      "Follower's Restrictions:\n",
      "++++++++++++++++++++++++++++++\n",
      "Restriction 1\n",
      "Variable names: [:y]\n",
      "Expression (string): (-1 - y) == 0\n",
      "Parsed expression: -1 - 0.719596423175178y\n",
      "Evaluation point: Dict{Any, Any}(\"x\" => 0.48454426135702733, \"y\" => 1.776061092712988)\n",
      "Evaluation value: -2.2780472096568642\n",
      "Additional constant: 2.2780472096568642\n",
      "Restriction type: LtEq\n",
      "Restriction set type: J_0_LP_v\n",
      "Value of miu: 0\n",
      "Value of beta: 0.031254674833627864\n",
      "Value of lambda: 0.11686978939361546\n",
      "Value of gamma: 0.8140902142604396\n",
      "++++++++++++++++++++++++++++++\n",
      "++++++++++++++++++++++++++++++\n",
      "Restriction 2\n",
      "Variable names: [:y]\n",
      "Expression (string): (-1 + y) == 0\n",
      "Parsed expression: -1 + 0.719596423175178y\n",
      "Evaluation point: Dict{Any, Any}(\"x\" => 0.48454426135702733, \"y\" => 1.776061092712988)\n",
      "Evaluation value: 0.27804720965686447\n",
      "Additional constant: -0.27804720965686447\n",
      "Restriction type: LtEq\n",
      "Restriction set type: J_0_LP_v\n",
      "Value of miu: 0\n",
      "Value of beta: 0.8974828271946381\n",
      "Value of lambda: 0.704729254311097\n",
      "Value of gamma: 0.3616337695378442\n",
      "++++++++++++++++++++++++++++++\n",
      "------------------------------\n",
      "Evaluation Point:\n",
      "Dict{Any, Any}(\"x\" => 0.48454426135702733, \"y\" => 1.776061092712988)\n",
      "------------------------------\n",
      "_\n",
      "\n",
      "Num[1.0846285372070592, 0.37666531990737384]\n",
      "Va a retornar correctamente\n",
      "Leader's Objective Function:\n",
      "Variable names: [:y, :x]\n",
      "Expression (string): -x - y\n",
      "Parsed expression: -x - y\n",
      "Evaluation point: Dict{Any, Any}(\"x\" => 0.48454426135702733, \"y\" => 1.776061092712988)\n",
      "Evaluation value: -2.2606053540700155\n",
      "Is leader function: true\n",
      "------------------------------\n",
      "Leader's Restrictions:\n",
      "++++++++++++++++++++++++++++++\n",
      "Restriction 1\n",
      "Variable names: [:x]\n",
      "Expression (string): (-0.5 - x) == 0\n",
      "Parsed expression: -0.5 - x\n",
      "Evaluation point: Dict{Any, Any}(\"x\" => 0.48454426135702733, \"y\" => 1.776061092712988)\n",
      "Evaluation value: -0.9845442613570273\n",
      "Additional constant: 0.9845442613570273\n",
      "Restriction type: LtEq\n",
      "Restriction set type: J_0_g\n",
      "Value of miu: 0.9587054675071222\n",
      "Value of beta: 0\n",
      "Value of lambda: 0\n",
      "Value of gamma: 0\n",
      "++++++++++++++++++++++++++++++\n",
      "++++++++++++++++++++++++++++++\n",
      "Restriction 2\n",
      "Variable names: [:x]\n",
      "Expression (string): (-0.5 + x) == 0\n",
      "Parsed expression: -0.5 + x\n",
      "Evaluation point: Dict{Any, Any}(\"x\" => 0.48454426135702733, \"y\" => 1.776061092712988)\n",
      "Evaluation value: -0.015455738642972672\n",
      "Additional constant: 0.015455738642972672\n",
      "Restriction type: LtEq\n",
      "Restriction set type: J_0_g\n",
      "Value of miu: 0.593673353475241\n",
      "Value of beta: 0\n",
      "Value of lambda: 0\n",
      "Value of gamma: 0\n",
      "++++++++++++++++++++++++++++++\n",
      "------------------------------\n",
      "Follower's Objective Function:\n",
      "Variable names: [:y, :x]\n",
      "Expression (string): x*y\n",
      "Parsed expression: x*y\n",
      "Evaluation point: Dict{Any, Any}(\"x\" => 0.48454426135702733, \"y\" => 1.776061092712988)\n",
      "Evaluation value: 0.8605802102935697\n",
      "Is leader function: false\n",
      "------------------------------\n",
      "Follower's Restrictions:\n",
      "++++++++++++++++++++++++++++++\n",
      "Restriction 1\n",
      "Variable names: [:y]\n",
      "Expression (string): (-1 - y) == 0\n",
      "Parsed expression: -1 - y\n",
      "Evaluation point: Dict{Any, Any}(\"x\" => 0.48454426135702733, \"y\" => 1.776061092712988)\n",
      "Evaluation value: -2.776061092712988\n",
      "Additional constant: 2.776061092712988\n",
      "Restriction type: LtEq\n",
      "Restriction set type: J_0_LP_v\n",
      "Value of miu: 0\n",
      "Value of beta: 0.031254674833627864\n",
      "Value of lambda: 0.11686978939361546\n",
      "Value of gamma: 0.8140902142604396\n",
      "++++++++++++++++++++++++++++++\n",
      "++++++++++++++++++++++++++++++\n",
      "Restriction 2\n",
      "Variable names: [:y]\n",
      "Expression (string): (-1 + y) == 0\n",
      "Parsed expression: -1 + y\n",
      "Evaluation point: Dict{Any, Any}(\"x\" => 0.48454426135702733, \"y\" => 1.776061092712988)\n",
      "Evaluation value: 0.7760610927129881\n",
      "Additional constant: -0.7760610927129881\n",
      "Restriction type: LtEq\n",
      "Restriction set type: J_0_LP_v\n",
      "Value of miu: 0\n",
      "Value of beta: 0.8974828271946381\n",
      "Value of lambda: 0.704729254311097\n",
      "Value of gamma: 0.3616337695378442\n",
      "++++++++++++++++++++++++++++++\n",
      "------------------------------\n",
      "Evaluation Point:\n",
      "Dict{Any, Any}(\"x\" => 0.48454426135702733, \"y\" => 1.776061092712988)\n",
      "------------------------------\n",
      "_\n",
      "\n",
      "Num[1.365032114031881, 0.13377184763898975]\n",
      "Se va a crear el DataFrame\n",
      "Se va a crear el DataFrame\n",
      "Se va a crear el DataFrame\n",
      "Experimento Completado\n"
     ]
    }
   ],
   "source": [
    "RunExperiment(experiment,\"MorganPatrone2006a\")"
   ]
  }
 ],
 "metadata": {
  "kernelspec": {
   "display_name": "Julia 1.10.5",
   "language": "julia",
   "name": "julia-1.10"
  },
  "language_info": {
   "file_extension": ".jl",
   "mimetype": "application/julia",
   "name": "julia",
   "version": "1.10.5"
  }
 },
 "nbformat": 4,
 "nbformat_minor": 2
}
