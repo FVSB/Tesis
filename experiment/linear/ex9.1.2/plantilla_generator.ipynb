{
 "cells": [
  {
   "cell_type": "markdown",
   "metadata": {},
   "source": [
    "## Importar el módulo\n"
   ]
  },
  {
   "cell_type": "code",
   "execution_count": 1,
   "metadata": {},
   "outputs": [
    {
     "data": {
      "text/plain": [
       "RunExperiment (generic function with 1 method)"
      ]
     },
     "metadata": {},
     "output_type": "display_data"
    }
   ],
   "source": [
    "include(\"../../new_experiment.jl\")"
   ]
  },
  {
   "cell_type": "markdown",
   "metadata": {},
   "source": [
    "Crear un experimento\n"
   ]
  },
  {
   "cell_type": "code",
   "execution_count": 2,
   "metadata": {},
   "outputs": [
    {
     "data": {
      "text/plain": [
       "Experiment(OptimizationModel(Problem(Any[], nothing), LeaderRestrictionProblem[], Problem(Any[], nothing), FollowerRestrictionProblem[], Dict{Any, Any}(), Number[1], false), OptimizationModel(Problem(Any[], nothing), LeaderRestrictionProblem[], Problem(Any[], nothing), FollowerRestrictionProblem[], Dict{Any, Any}(), Number[], true), Any[], Any[])"
      ]
     },
     "metadata": {},
     "output_type": "display_data"
    }
   ],
   "source": [
    "experiment=CreateExperiment()"
   ]
  },
  {
   "cell_type": "markdown",
   "metadata": {},
   "source": [
    "### Declarar variables del líder\n"
   ]
  },
  {
   "cell_type": "code",
   "execution_count": 3,
   "metadata": {},
   "outputs": [
    {
     "data": {
      "text/latex": [
       "$$ \\begin{equation}\n",
       "\\left[\n",
       "\\begin{array}{c}\n",
       "x \\\\\n",
       "\\end{array}\n",
       "\\right]\n",
       "\\end{equation}\n",
       " $$"
      ],
      "text/plain": [
       "1-element Vector{Num}:\n",
       " x"
      ]
     },
     "metadata": {},
     "output_type": "display_data"
    }
   ],
   "source": [
    "@leader_vars experiment x"
   ]
  },
  {
   "cell_type": "markdown",
   "metadata": {},
   "source": [
    "### Declarar Variables del Follower"
   ]
  },
  {
   "cell_type": "code",
   "execution_count": 4,
   "metadata": {},
   "outputs": [
    {
     "data": {
      "text/latex": [
       "$$ \\begin{equation}\n",
       "\\left[\n",
       "\\begin{array}{c}\n",
       "y \\\\\n",
       "\\end{array}\n",
       "\\right]\n",
       "\\end{equation}\n",
       " $$"
      ],
      "text/plain": [
       "1-element Vector{Num}:\n",
       " y"
      ]
     },
     "metadata": {},
     "output_type": "display_data"
    }
   ],
   "source": [
    "@follower_vars experiment y"
   ]
  },
  {
   "cell_type": "markdown",
   "metadata": {},
   "source": [
    "### Declarar Función Objetivo del Líder"
   ]
  },
  {
   "cell_type": "code",
   "execution_count": 5,
   "metadata": {},
   "outputs": [
    {
     "data": {
      "text/latex": [
       "$$ \\begin{equation}\n",
       " - x - 3 y\n",
       "\\end{equation}\n",
       " $$"
      ],
      "text/plain": [
       "-x - 3y"
      ]
     },
     "metadata": {},
     "output_type": "display_data"
    }
   ],
   "source": [
    "SetLeaderFunction(experiment,-x-3y)"
   ]
  },
  {
   "cell_type": "markdown",
   "metadata": {},
   "source": [
    "### Función objetivo del Follower"
   ]
  },
  {
   "cell_type": "code",
   "execution_count": 6,
   "metadata": {},
   "outputs": [
    {
     "data": {
      "text/latex": [
       "$$ \\begin{equation}\n",
       "y\n",
       "\\end{equation}\n",
       " $$"
      ],
      "text/plain": [
       "y"
      ]
     },
     "metadata": {},
     "output_type": "display_data"
    }
   ],
   "source": [
    "SetFollowerFunction(experiment,y)"
   ]
  },
  {
   "cell_type": "markdown",
   "metadata": {},
   "source": [
    "### Restricciones del Follower\n"
   ]
  },
  {
   "cell_type": "code",
   "execution_count": 7,
   "metadata": {},
   "outputs": [
    {
     "data": {
      "text/plain": [
       "1-element Vector{FollowerRestrictionProblem}:\n",
       " FollowerRestrictionProblem((-y) <= 0, J_0_LP_v, 0.4526568674343353, 0.7854175384739247, 0.4608525461046513)"
      ]
     },
     "metadata": {},
     "output_type": "display_data"
    }
   ],
   "source": [
    "SetFollowerRestriction(experiment,-y<=0)"
   ]
  },
  {
   "cell_type": "code",
   "execution_count": 8,
   "metadata": {},
   "outputs": [
    {
     "data": {
      "text/plain": [
       "2-element Vector{FollowerRestrictionProblem}:\n",
       " FollowerRestrictionProblem((-y) <= 0, J_0_LP_v, 0.4526568674343353, 0.7854175384739247, 0.4608525461046513)\n",
       " FollowerRestrictionProblem((-x + y) <= 3, J_0_LP_v, 0.23774382004638195, 0.7594637613161116, 0.16608334369944888)"
      ]
     },
     "metadata": {},
     "output_type": "display_data"
    }
   ],
   "source": [
    "SetFollowerRestriction(experiment,-x+y<=3)"
   ]
  },
  {
   "cell_type": "code",
   "execution_count": 9,
   "metadata": {},
   "outputs": [
    {
     "data": {
      "text/plain": [
       "3-element Vector{FollowerRestrictionProblem}:\n",
       " FollowerRestrictionProblem((-y) <= 0, J_0_LP_v, 0.4526568674343353, 0.7854175384739247, 0.4608525461046513)\n",
       " FollowerRestrictionProblem((-x + y) <= 3, J_0_LP_v, 0.23774382004638195, 0.7594637613161116, 0.16608334369944888)\n",
       " FollowerRestrictionProblem((x + 2y) <= 12, J_0_LP_v, 0.703947137239827, 0.7607332896395524, 0.9223129714351144)"
      ]
     },
     "metadata": {},
     "output_type": "display_data"
    }
   ],
   "source": [
    "SetFollowerRestriction(experiment,x+2y<=12)"
   ]
  },
  {
   "cell_type": "code",
   "execution_count": 10,
   "metadata": {},
   "outputs": [
    {
     "data": {
      "text/plain": [
       "4-element Vector{FollowerRestrictionProblem}:\n",
       " FollowerRestrictionProblem((-y) <= 0, J_0_LP_v, 0.4526568674343353, 0.7854175384739247, 0.4608525461046513)\n",
       " FollowerRestrictionProblem((-x + y) <= 3, J_0_LP_v, 0.23774382004638195, 0.7594637613161116, 0.16608334369944888)\n",
       " FollowerRestrictionProblem((x + 2y) <= 12, J_0_LP_v, 0.703947137239827, 0.7607332896395524, 0.9223129714351144)\n",
       " FollowerRestrictionProblem((4x - y) <= 12, J_0_LP_v, 0.16988321200037282, 0.3155895400047726, 0.10266184858061776)"
      ]
     },
     "metadata": {},
     "output_type": "display_data"
    }
   ],
   "source": [
    "SetFollowerRestriction(experiment,4x-y<=12)"
   ]
  },
  {
   "cell_type": "markdown",
   "metadata": {},
   "source": [
    "### Poner el Punto Optimo"
   ]
  },
  {
   "cell_type": "code",
   "execution_count": 11,
   "metadata": {},
   "outputs": [
    {
     "data": {
      "text/plain": [
       "Dict{Any, Any} with 2 entries:\n",
       "  y => 4.38191\n",
       "  x => 4.3772"
      ]
     },
     "metadata": {},
     "output_type": "display_data"
    }
   ],
   "source": [
    "SetPoint(experiment,Dict(x=>4,y=>4))"
   ]
  },
  {
   "cell_type": "markdown",
   "metadata": {},
   "source": [
    "## Iniciar el Experimento\n"
   ]
  },
  {
   "cell_type": "code",
   "execution_count": 12,
   "metadata": {},
   "outputs": [
    {
     "name": "stdout",
     "output_type": "stream",
     "text": [
      "Va a retornar correctamente\n",
      "Leader's Objective Function:\n",
      "Variable names: [:y, :x]\n",
      "Expression (string): -x - 3y\n",
      "Parsed expression: -x - 3y\n",
      "Evaluation point: Dict{Any, Any}(\"x\" => 4.3772037153772905, \"y\" => 4.3819085754267215)\n",
      "Evaluation value: -17.522929441657457\n",
      "Is leader function: true\n",
      "------------------------------\n",
      "Leader's Restrictions:\n",
      "------------------------------\n",
      "Follower's Objective Function:\n",
      "Variable names: [:y]\n",
      "Expression (string): y\n",
      "Parsed expression: y\n",
      "Evaluation point: Dict{Any, Any}(\"x\" => 4.3772037153772905, \"y\" => 4.3819085754267215)\n",
      "Evaluation value: 4.3819085754267215\n",
      "Is leader function: false\n",
      "------------------------------\n",
      "Follower's Restrictions:\n",
      "++++++++++++++++++++++++++++++\n",
      "Restriction 1\n",
      "Variable names: [:y]\n",
      "Expression (string): (-y) == 0\n",
      "Parsed expression: -0.7386773169229035y\n",
      "Evaluation point: Dict{Any, Any}(\"x\" => 4.3772037153772905, \"y\" => 4.3819085754267215)\n",
      "Evaluation value: -3.236816469497673\n",
      "Additional constant: 3.236816469497673\n",
      "Restriction type: LtEq\n",
      "Restriction set type: J_0_LP_v\n",
      "Value of miu: 0\n",
      "Value of beta: 0.4526568674343353\n",
      "Value of lambda: 0.7854175384739247\n",
      "Value of gamma: 0.4608525461046513\n",
      "++++++++++++++++++++++++++++++\n",
      "++++++++++++++++++++++++++++++\n",
      "Restriction 2\n",
      "Variable names: [:y, :x]\n",
      "Expression (string): (-x + y) == 3\n",
      "Parsed expression: -3 - x + 0.7386773169229035y\n",
      "Evaluation point: Dict{Any, Any}(\"x\" => 4.3772037153772905, \"y\" => 4.3819085754267215)\n",
      "Evaluation value: -4.140387245879618\n",
      "Additional constant: 4.140387245879618\n",
      "Restriction type: LtEq\n",
      "Restriction set type: J_0_LP_v\n",
      "Value of miu: 0\n",
      "Value of beta: 0.23774382004638195\n",
      "Value of lambda: 0.7594637613161116\n",
      "Value of gamma: 0.16608334369944888\n",
      "++++++++++++++++++++++++++++++\n",
      "++++++++++++++++++++++++++++++\n",
      "Restriction 3\n",
      "Variable names: [:y, :x]\n",
      "Expression (string): (x + 2y) == 12\n",
      "Parsed expression: -12 + x + 1.477354633845807y\n",
      "Evaluation point: Dict{Any, Any}(\"x\" => 4.3772037153772905, \"y\" => 4.3819085754267215)\n",
      "Evaluation value: -1.1491633456273638\n",
      "Additional constant: 1.1491633456273638\n",
      "Restriction type: LtEq\n",
      "Restriction set type: J_0_LP_v\n",
      "Value of miu: 0\n",
      "Value of beta: 0.703947137239827\n",
      "Value of lambda: 0.7607332896395524\n",
      "Value of gamma: 0.9223129714351144\n",
      "++++++++++++++++++++++++++++++\n",
      "++++++++++++++++++++++++++++++\n",
      "Restriction 4\n",
      "Variable names: [:y, :x]\n",
      "Expression (string): (4x - y) == 12\n",
      "Parsed expression: -12 + 4x - 0.7386773169229035y\n",
      "Evaluation point: Dict{Any, Any}(\"x\" => 4.3772037153772905, \"y\" => 4.3819085754267215)\n",
      "Evaluation value: 2.27199839201149\n",
      "Additional constant: -2.27199839201149\n",
      "Restriction type: LtEq\n",
      "Restriction set type: J_0_LP_v\n",
      "Value of miu: 0\n",
      "Value of beta: 0.16988321200037282\n",
      "Value of lambda: 0.3155895400047726\n",
      "Value of gamma: 0.10266184858061776\n",
      "++++++++++++++++++++++++++++++\n",
      "------------------------------\n",
      "Evaluation Point:\n",
      "Dict{Any, Any}(\"x\" => 4.3772037153772905, \"y\" => 4.3819085754267215)\n",
      "------------------------------\n",
      "_\n",
      "\n",
      "Num[-0.14573616519493626, 2.2442607032631896]\n",
      "Va a retornar correctamente\n",
      "Leader's Objective Function:\n",
      "Variable names: [:y, :x]\n",
      "Expression (string): -x - 3y\n",
      "Parsed expression: -x - 3y\n",
      "Evaluation point: Dict{Any, Any}(\"x\" => 4.3772037153772905, \"y\" => 4.3819085754267215)\n",
      "Evaluation value: -17.522929441657457\n",
      "Is leader function: true\n",
      "------------------------------\n",
      "Leader's Restrictions:\n",
      "------------------------------\n",
      "Follower's Objective Function:\n",
      "Variable names: [:y]\n",
      "Expression (string): y\n",
      "Parsed expression: y\n",
      "Evaluation point: Dict{Any, Any}(\"x\" => 4.3772037153772905, \"y\" => 4.3819085754267215)\n",
      "Evaluation value: 4.3819085754267215\n",
      "Is leader function: false\n",
      "------------------------------\n",
      "Follower's Restrictions:\n",
      "++++++++++++++++++++++++++++++\n",
      "Restriction 1\n",
      "Variable names: [:y]\n",
      "Expression (string): (-y) == 0\n",
      "Parsed expression: -y\n",
      "Evaluation point: Dict{Any, Any}(\"x\" => 4.3772037153772905, \"y\" => 4.3819085754267215)\n",
      "Evaluation value: -4.3819085754267215\n",
      "Additional constant: 4.3819085754267215\n",
      "Restriction type: LtEq\n",
      "Restriction set type: J_0_LP_v\n",
      "Value of miu: 0\n",
      "Value of beta: 0.4526568674343353\n",
      "Value of lambda: 0.7854175384739247\n",
      "Value of gamma: 0.4608525461046513\n",
      "++++++++++++++++++++++++++++++\n",
      "++++++++++++++++++++++++++++++\n",
      "Restriction 2\n",
      "Variable names: [:y, :x]\n",
      "Expression (string): (-x + y) == 3\n",
      "Parsed expression: -3 - x + y\n",
      "Evaluation point: Dict{Any, Any}(\"x\" => 4.3772037153772905, \"y\" => 4.3819085754267215)\n",
      "Evaluation value: -2.995295139950569\n",
      "Additional constant: 2.995295139950569\n",
      "Restriction type: LtEq\n",
      "Restriction set type: J_0_LP_v\n",
      "Value of miu: 0\n",
      "Value of beta: 0.23774382004638195\n",
      "Value of lambda: 0.7594637613161116\n",
      "Value of gamma: 0.16608334369944888\n",
      "++++++++++++++++++++++++++++++\n",
      "++++++++++++++++++++++++++++++\n",
      "Restriction 3\n",
      "Variable names: [:y, :x]\n",
      "Expression (string): (x + 2y) == 12\n",
      "Parsed expression: -12 + x + 2y\n",
      "Evaluation point: Dict{Any, Any}(\"x\" => 4.3772037153772905, \"y\" => 4.3819085754267215)\n",
      "Evaluation value: 1.1410208662307335\n",
      "Additional constant: -1.1410208662307335\n",
      "Restriction type: LtEq\n",
      "Restriction set type: J_0_LP_v\n",
      "Value of miu: 0\n",
      "Value of beta: 0.703947137239827\n",
      "Value of lambda: 0.7607332896395524\n",
      "Value of gamma: 0.9223129714351144\n",
      "++++++++++++++++++++++++++++++\n",
      "++++++++++++++++++++++++++++++\n",
      "Restriction 4\n",
      "Variable names: [:y, :x]\n",
      "Expression (string): (4x - y) == 12\n",
      "Parsed expression: -12 + 4x - y\n",
      "Evaluation point: Dict{Any, Any}(\"x\" => 4.3772037153772905, \"y\" => 4.3819085754267215)\n",
      "Evaluation value: 1.1269062860824413\n",
      "Additional constant: -1.1269062860824413\n",
      "Restriction type: LtEq\n",
      "Restriction set type: J_0_LP_v\n",
      "Value of miu: 0\n",
      "Value of beta: 0.16988321200037282\n",
      "Value of lambda: 0.3155895400047726\n",
      "Value of gamma: 0.10266184858061776\n",
      "++++++++++++++++++++++++++++++\n",
      "------------------------------\n",
      "Evaluation Point:\n",
      "Dict{Any, Any}(\"x\" => 4.3772037153772905, \"y\" => 4.3819085754267215)\n",
      "------------------------------\n",
      "_\n",
      "\n",
      "Num[-0.14573616519493626, 1.9769019849086722]\n",
      "Se va a crear el DataFrame\n",
      "Se va a crear el DataFrame\n",
      "Se va a crear el DataFrame\n",
      "Experimento Completado\n"
     ]
    }
   ],
   "source": [
    "RunExperiment(experiment,\"ex9.1.2(Linear)\")"
   ]
  }
 ],
 "metadata": {
  "kernelspec": {
   "display_name": "Julia 1.10.5",
   "language": "julia",
   "name": "julia-1.10"
  },
  "language_info": {
   "file_extension": ".jl",
   "mimetype": "application/julia",
   "name": "julia",
   "version": "1.10.5"
  }
 },
 "nbformat": 4,
 "nbformat_minor": 2
}
