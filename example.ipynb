{
 "cells": [
  {
   "cell_type": "markdown",
   "metadata": {},
   "source": [
    "# Importamos los módulos correspondientes"
   ]
  },
  {
   "cell_type": "markdown",
   "metadata": {},
   "source": [
    "### Para usar julia en el notebook"
   ]
  },
  {
   "cell_type": "code",
   "execution_count": 1,
   "metadata": {},
   "outputs": [],
   "source": [
    "import Pkg;\n",
    "#Pkg.add(\"IJulia\")"
   ]
  },
  {
   "cell_type": "markdown",
   "metadata": {},
   "source": [
    "# Añadir estos modulos para correr debidamente el programa"
   ]
  },
  {
   "cell_type": "code",
   "execution_count": 2,
   "metadata": {},
   "outputs": [],
   "source": [
    "import Pkg;\n",
    "#Pkg.add(\"Symbolics\")\n",
    "#Pkg.add(\"LinearAlgebra\")\n"
   ]
  },
  {
   "cell_type": "code",
   "execution_count": 3,
   "metadata": {},
   "outputs": [
    {
     "data": {
      "text/plain": [
       "Make_BF"
      ]
     },
     "metadata": {},
     "output_type": "display_data"
    }
   ],
   "source": [
    "#include(\"solve.jl\")\n",
    "#include(\"parser.jl\")\n",
    "include(\"def_problem/solver.jl\")"
   ]
  },
  {
   "cell_type": "code",
   "execution_count": 4,
   "metadata": {},
   "outputs": [],
   "source": [
    "\n",
    "using Symbolics\n",
    "\n"
   ]
  },
  {
   "cell_type": "markdown",
   "metadata": {},
   "source": [
    "#### Indicar las variables del lider"
   ]
  },
  {
   "cell_type": "code",
   "execution_count": 5,
   "metadata": {},
   "outputs": [
    {
     "data": {
      "text/plain": [
       "2-element Vector{String}:\n",
       " \"x_1\"\n",
       " \"x_2\""
      ]
     },
     "metadata": {},
     "output_type": "display_data"
    }
   ],
   "source": [
    "lider_vars=[\"x_1\",\"x_2\"]"
   ]
  },
  {
   "cell_type": "markdown",
   "metadata": {},
   "source": [
    "#### Indicar las variables del follower"
   ]
  },
  {
   "cell_type": "code",
   "execution_count": 6,
   "metadata": {},
   "outputs": [
    {
     "data": {
      "text/plain": [
       "2-element Vector{String}:\n",
       " \"y_1\"\n",
       " \"y_2\""
      ]
     },
     "metadata": {},
     "output_type": "display_data"
    }
   ],
   "source": [
    "follower_vars=[\"y_1\",\"y_2\"]"
   ]
  },
  {
   "cell_type": "code",
   "execution_count": 7,
   "metadata": {},
   "outputs": [
    {
     "data": {
      "text/latex": [
       "$$ \\begin{equation}\n",
       "\\left[\n",
       "\\begin{array}{c}\n",
       "\\mathtt{y\\_1} \\\\\n",
       "\\mathtt{y\\_2} \\\\\n",
       "\\end{array}\n",
       "\\right]\n",
       "\\end{equation}\n",
       " $$"
      ],
      "text/plain": [
       "2-element Vector{Num}:\n",
       " y_1\n",
       " y_2"
      ]
     },
     "metadata": {},
     "output_type": "display_data"
    }
   ],
   "source": [
    "follower_vars_symbolic=map(convert_Symbol_to_symbolic_num,follower_vars)"
   ]
  },
  {
   "cell_type": "markdown",
   "metadata": {},
   "source": [
    "Concatenar las variables de los dos niveles"
   ]
  },
  {
   "cell_type": "code",
   "execution_count": 8,
   "metadata": {},
   "outputs": [
    {
     "data": {
      "text/plain": [
       "4-element Vector{String}:\n",
       " \"x_1\"\n",
       " \"x_2\"\n",
       " \"y_1\"\n",
       " \"y_2\""
      ]
     },
     "metadata": {},
     "output_type": "display_data"
    }
   ],
   "source": [
    "problem_vars_str=vcat(lider_vars,follower_vars)"
   ]
  },
  {
   "cell_type": "markdown",
   "metadata": {},
   "source": [
    "Convertir a variables de Symbolics"
   ]
  },
  {
   "cell_type": "code",
   "execution_count": 9,
   "metadata": {},
   "outputs": [
    {
     "data": {
      "text/latex": [
       "$$ \\begin{equation}\n",
       "\\left[\n",
       "\\begin{array}{c}\n",
       "\\mathtt{x\\_1} \\\\\n",
       "\\mathtt{x\\_2} \\\\\n",
       "\\mathtt{y\\_1} \\\\\n",
       "\\mathtt{y\\_2} \\\\\n",
       "\\end{array}\n",
       "\\right]\n",
       "\\end{equation}\n",
       " $$"
      ],
      "text/plain": [
       "4-element Vector{Num}:\n",
       " x_1\n",
       " x_2\n",
       " y_1\n",
       " y_2"
      ]
     },
     "metadata": {},
     "output_type": "display_data"
    }
   ],
   "source": [
    "problem_vars=map(convert_Symbol_to_symbolic_num,problem_vars_str)"
   ]
  },
  {
   "cell_type": "markdown",
   "metadata": {},
   "source": [
    "## Declarar la funcion del lider"
   ]
  },
  {
   "cell_type": "code",
   "execution_count": 10,
   "metadata": {},
   "outputs": [
    {
     "data": {
      "text/plain": [
       "\"((x_1^2)*(y_1^2)*(y_2))+x_2\""
      ]
     },
     "metadata": {},
     "output_type": "display_data"
    }
   ],
   "source": [
    "leader_func_str::String=\"((x_1^2)*(y_1^2)*(y_2))+x_2\""
   ]
  },
  {
   "cell_type": "markdown",
   "metadata": {},
   "source": [
    "#### Definir las restricciones del lider"
   ]
  },
  {
   "cell_type": "code",
   "execution_count": 11,
   "metadata": {},
   "outputs": [
    {
     "data": {
      "text/plain": [
       "J_0_g::RestrictionSetType = 1"
      ]
     },
     "metadata": {},
     "output_type": "display_data"
    }
   ],
   "source": [
    "J_0_g"
   ]
  },
  {
   "cell_type": "markdown",
   "metadata": {},
   "source": [
    "miu tendra un valor de 0.3"
   ]
  },
  {
   "cell_type": "code",
   "execution_count": 12,
   "metadata": {},
   "outputs": [
    {
     "data": {
      "text/plain": []
     },
     "metadata": {},
     "output_type": "display_data"
    },
    {
     "name": "stdout",
     "output_type": "stream",
     "text": [
      "Restriction Definition Details\n",
      "------------------------------\n",
      "Restriction type: Gt\n",
      "------------------------------\n",
      "Set type: J_0_g\n",
      "------------------------------\n",
      "Belongs to leader function: true\n",
      "------------------------------\n",
      "Value of miu: 0.3\n",
      "------------------------------\n",
      "Value of beta: 0\n",
      "------------------------------\n",
      "Value of lambda: 0\n",
      "------------------------------\n",
      "Value of gamma: 0\n",
      "------------------------------\n"
     ]
    }
   ],
   "source": [
    "g_1=Def_Restriction_init(\"x_1+y_2-y_1==9\",J_0_g,Gt,true,0.3,0,0,0)"
   ]
  },
  {
   "cell_type": "markdown",
   "metadata": {},
   "source": [
    "Crear un vector con las $g_s$"
   ]
  },
  {
   "cell_type": "code",
   "execution_count": 13,
   "metadata": {},
   "outputs": [
    {
     "data": {
      "text/plain": [
       "1-element Vector{Def_Restriction}:\n",
       " "
      ]
     },
     "metadata": {},
     "output_type": "display_data"
    },
    {
     "name": "stdout",
     "output_type": "stream",
     "text": [
      "Restriction Definition Details\n",
      "------------------------------\n",
      "Restriction type: Gt\n",
      "------------------------------\n",
      "Set type: J_0_g\n",
      "------------------------------\n",
      "Belongs to leader function: true\n",
      "------------------------------\n",
      "Value of miu: 0.3\n",
      "------------------------------\n",
      "Value of beta: 0\n",
      "------------------------------\n",
      "Value of lambda: 0\n",
      "------------------------------\n",
      "Value of gamma: 0\n",
      "------------------------------\n",
      "Restriction Definition Details\n",
      "------------------------------\n",
      "Restriction type: Gt\n",
      "------------------------------\n",
      "Set type: J_0_g\n",
      "------------------------------\n",
      "Belongs to leader function: true\n",
      "------------------------------\n",
      "Value of miu: 0.3\n",
      "------------------------------\n",
      "Value of beta: 0\n",
      "------------------------------\n",
      "Value of lambda: 0\n",
      "------------------------------\n",
      "Value of gamma: 0\n",
      "------------------------------\n",
      "Restriction Definition Details\n",
      "------------------------------\n",
      "Restriction type: Gt\n",
      "------------------------------\n",
      "Set type: J_0_g\n",
      "------------------------------\n",
      "Belongs to leader function: true\n",
      "------------------------------\n",
      "Value of miu: 0.3\n",
      "------------------------------\n",
      "Value of beta: 0\n",
      "------------------------------\n",
      "Value of lambda: 0\n",
      "------------------------------\n",
      "Value of gamma: 0\n",
      "------------------------------\n"
     ]
    }
   ],
   "source": [
    "g_s=[g_1]"
   ]
  },
  {
   "cell_type": "markdown",
   "metadata": {},
   "source": [
    "## Definir el nivel inferior"
   ]
  },
  {
   "cell_type": "code",
   "execution_count": 14,
   "metadata": {},
   "outputs": [
    {
     "data": {
      "text/plain": [
       "\"((x_2^2)*(y_1^2)*(y_2))+x_1\""
      ]
     },
     "metadata": {},
     "output_type": "display_data"
    }
   ],
   "source": [
    "Follower_str_expr=\"((x_2^2)*(y_1^2)*(y_2))+x_1\""
   ]
  },
  {
   "cell_type": "markdown",
   "metadata": {},
   "source": [
    "#### Restricciones del follower"
   ]
  },
  {
   "cell_type": "markdown",
   "metadata": {},
   "source": [
    "$\\beta = 1$,  $\\lambda=0$"
   ]
  },
  {
   "cell_type": "code",
   "execution_count": 15,
   "metadata": {},
   "outputs": [
    {
     "data": {
      "text/plain": []
     },
     "metadata": {},
     "output_type": "display_data"
    },
    {
     "name": "stdout",
     "output_type": "stream",
     "text": [
      "Restriction Definition Details\n",
      "------------------------------\n",
      "Restriction type: Eq\n",
      "------------------------------\n",
      "Set type: J_Ne_L0_v\n",
      "------------------------------\n",
      "Belongs to leader function: false\n",
      "------------------------------\n",
      "Value of miu: 0\n",
      "------------------------------\n",
      "Value of beta: 1\n",
      "------------------------------\n",
      "Value of lambda: 0\n",
      "------------------------------\n",
      "Value of gamma: 1\n",
      "------------------------------\n"
     ]
    }
   ],
   "source": [
    "v_1=Def_Restriction_init(\"((x_1^2)*(y_1^2))+x_2==0\",J_Ne_L0_v,Eq,false,0,1,0,1)"
   ]
  },
  {
   "cell_type": "markdown",
   "metadata": {},
   "source": [
    "$\\beta = 0.5 $, $\\lambda = 1$\n"
   ]
  },
  {
   "cell_type": "code",
   "execution_count": 16,
   "metadata": {},
   "outputs": [
    {
     "data": {
      "text/plain": []
     },
     "metadata": {},
     "output_type": "display_data"
    },
    {
     "name": "stdout",
     "output_type": "stream",
     "text": [
      "Restriction Definition Details\n",
      "------------------------------\n",
      "Restriction type: LtEq\n",
      "------------------------------\n",
      "Set type: J_0_LP_v\n",
      "------------------------------\n",
      "Belongs to leader function: false\n",
      "------------------------------\n",
      "Value of miu: 0\n",
      "------------------------------\n",
      "Value of beta: 0.5\n",
      "------------------------------\n",
      "Value of lambda: 1\n",
      "------------------------------\n",
      "Value of gamma: 1\n",
      "------------------------------\n"
     ]
    }
   ],
   "source": [
    "v_2=Def_Restriction_init(\"((x_1^2)*(y_1^2)*(y_2))+x_2==0\",J_0_LP_v,LtEq,false,0,0.5,1,1)"
   ]
  },
  {
   "cell_type": "markdown",
   "metadata": {},
   "source": [
    "Agrupar las $v_s$ en un vector"
   ]
  },
  {
   "cell_type": "code",
   "execution_count": 17,
   "metadata": {},
   "outputs": [
    {
     "data": {
      "text/plain": [
       "2-element Vector{Def_Restriction}:\n",
       " \n",
       " "
      ]
     },
     "metadata": {},
     "output_type": "display_data"
    },
    {
     "name": "stdout",
     "output_type": "stream",
     "text": [
      "Restriction Definition Details\n",
      "------------------------------\n",
      "Restriction type: Eq\n",
      "------------------------------\n",
      "Set type: J_Ne_L0_v\n",
      "------------------------------\n",
      "Belongs to leader function: false\n",
      "------------------------------\n",
      "Value of miu: 0\n",
      "------------------------------\n",
      "Value of beta: 1\n",
      "------------------------------\n",
      "Value of lambda: 0\n",
      "------------------------------\n",
      "Value of gamma: 1\n",
      "------------------------------\n",
      "Restriction Definition Details\n",
      "------------------------------\n",
      "Restriction type: LtEq\n",
      "------------------------------\n",
      "Set type: J_0_LP_v\n",
      "------------------------------\n",
      "Belongs to leader function: false\n",
      "------------------------------\n",
      "Value of miu: 0\n",
      "------------------------------\n",
      "Value of beta: 0.5\n",
      "------------------------------\n",
      "Value of lambda: 1\n",
      "------------------------------\n",
      "Value of gamma: 1\n",
      "------------------------------\n",
      "Restriction Definition Details\n",
      "------------------------------\n",
      "Restriction type: Eq\n",
      "------------------------------\n",
      "Set type: J_Ne_L0_v\n",
      "------------------------------\n",
      "Belongs to leader function: false\n",
      "------------------------------\n",
      "Value of miu: 0\n",
      "------------------------------\n",
      "Value of beta: 1\n",
      "------------------------------\n",
      "Value of lambda: 0\n",
      "------------------------------\n",
      "Value of gamma: 1\n",
      "------------------------------\n",
      "Restriction Definition Details\n",
      "------------------------------\n",
      "Restriction type: Eq\n",
      "------------------------------\n",
      "Set type: J_Ne_L0_v\n",
      "------------------------------\n",
      "Belongs to leader function: false\n",
      "------------------------------\n",
      "Value of miu: 0\n",
      "------------------------------\n",
      "Value of beta: 1\n",
      "------------------------------\n",
      "Value of lambda: 0\n",
      "------------------------------\n",
      "Value of gamma: 1\n",
      "------------------------------\n",
      "Restriction Definition Details\n",
      "------------------------------\n",
      "Restriction type: LtEq\n",
      "------------------------------\n",
      "Set type: J_0_LP_v\n",
      "------------------------------\n",
      "Belongs to leader function: false\n",
      "------------------------------\n",
      "Value of miu: 0\n",
      "------------------------------\n",
      "Value of beta: 0.5\n",
      "------------------------------\n",
      "Value of lambda: 1\n",
      "------------------------------\n",
      "Value of gamma: 1\n",
      "------------------------------\n",
      "Restriction Definition Details\n",
      "------------------------------\n",
      "Restriction type: LtEq\n",
      "------------------------------\n",
      "Set type: J_0_LP_v\n",
      "------------------------------\n",
      "Belongs to leader function: false\n",
      "------------------------------\n",
      "Value of miu: 0\n",
      "------------------------------\n",
      "Value of beta: 0.5\n",
      "------------------------------\n",
      "Value of lambda: 1\n",
      "------------------------------\n",
      "Value of gamma: 1\n",
      "------------------------------\n"
     ]
    }
   ],
   "source": [
    "v_s=[v_1,v_2]"
   ]
  },
  {
   "cell_type": "markdown",
   "metadata": {},
   "source": [
    "Declarar $\\alpha$ (Dimension de $y_s$)"
   ]
  },
  {
   "cell_type": "code",
   "execution_count": 18,
   "metadata": {},
   "outputs": [
    {
     "data": {
      "text/plain": [
       "2-element Vector{Int64}:\n",
       " 1\n",
       " 2"
      ]
     },
     "metadata": {},
     "output_type": "display_data"
    }
   ],
   "source": [
    "alpha=[1,2]"
   ]
  },
  {
   "cell_type": "markdown",
   "metadata": {},
   "source": [
    "## Ajustar condiciones de factibilidad "
   ]
  },
  {
   "cell_type": "markdown",
   "metadata": {},
   "source": [
    "#### Punto: $x_1 = 1$ $x_2 = 1 $ $y_1=1$ $y_2=1$"
   ]
  },
  {
   "cell_type": "code",
   "execution_count": 19,
   "metadata": {},
   "outputs": [
    {
     "data": {
      "text/plain": [
       "Dict{String, Int64} with 4 entries:\n",
       "  \"x_1\" => 1\n",
       "  \"x_2\" => 1\n",
       "  \"y_2\" => 1\n",
       "  \"y_1\" => 1"
      ]
     },
     "metadata": {},
     "output_type": "display_data"
    }
   ],
   "source": [
    "point=Dict(\"x_1\"=>1,\"x_2\"=>1,\"y_1\"=>1,\"y_2\"=>1)"
   ]
  },
  {
   "cell_type": "markdown",
   "metadata": {},
   "source": [
    "Satisfacer el punto "
   ]
  },
  {
   "cell_type": "markdown",
   "metadata": {},
   "source": [
    "A Fix_Restrictions se le da de entrada:\n",
    "- la funcion del lider como string\n",
    "- un vector que contenga las Def_Restrictions del lider\n",
    "- la funcion del follower como string\n",
    "- un vector con las Def_Restrictions del follower\n",
    "- un diccionario con el punto\n",
    "- un vector con en string el nombre de las variables del lider\n",
    "- un vector con en string el nombre de las variables del follower\n",
    "- el vector alpha\n",
    "- un booleano para saber si alfa es identicamente igual al cero o no (True si alpha es el vector nulo False en otro caso)"
   ]
  },
  {
   "cell_type": "code",
   "execution_count": 20,
   "metadata": {},
   "outputs": [
    {
     "name": "stdout",
     "output_type": "stream",
     "text": [
      "Leader's Objective Function:\n",
      "Variable names: [:x_1, :y_1, :y_2, :x_2]\n",
      "Expression (string): ((x_1^2)*(y_1^2)*(y_2))+x_2\n",
      "Parsed expression: x_2 + (x_1^2)*(y_1^2)*y_2\n",
      "Evaluation point: Dict(\"x_1\" => 1, \"x_2\" => 1, \"y_2\" => 1, \"y_1\" => 1)\n",
      "Evaluation value: 2\n",
      "Is leader function: true\n",
      "------------------------------\n",
      "Leader's Restrictions:\n",
      "++++++++++++++++++++++++++++++\n",
      "Restriction 1\n",
      "Variable names: [:x_1, :y_1, :y_2]\n",
      "Expression (string): x_1+y_2-y_1==9\n",
      "Parsed expression: 9 - x_1 + y_1 - y_2\n",
      "Evaluation point: Dict(\"x_1\" => 1, \"x_2\" => 1, \"y_2\" => 1, \"y_1\" => 1)\n",
      "Evaluation value: 8\n",
      "Additional constant: -8\n",
      "Restriction type: Gt\n",
      "Restriction set type: J_0_g\n",
      "Value of miu: 0.3\n",
      "Value of beta: 0\n",
      "Value of lambda: 0\n",
      "Value of gamma: 0\n",
      "++++++++++++++++++++++++++++++\n",
      "------------------------------\n",
      "Follower's Objective Function:\n",
      "Variable names: [:x_1, :y_1, :x_2, :y_2]\n",
      "Expression (string): ((x_2^2)*(y_1^2)*(y_2))+x_1\n",
      "Parsed expression: x_1 + (x_2^2)*(y_1^2)*y_2\n",
      "Evaluation point: Dict(\"x_1\" => 1, \"x_2\" => 1, \"y_2\" => 1, \"y_1\" => 1)\n",
      "Evaluation value: 2\n",
      "Is leader function: false\n",
      "------------------------------\n",
      "Follower's Restrictions:\n",
      "++++++++++++++++++++++++++++++\n",
      "Restriction 1\n",
      "Variable names: [:x_1, :y_1, :x_2]\n",
      "Expression (string): ((x_1^2)*(y_1^2))+x_2==0\n",
      "Parsed expression: x_2 - 0.4472135954999579y_1 - 0.8944271909999159y_2 + (x_1^2)*(y_1^2)\n",
      "Evaluation point: Dict(\"x_1\" => 1, \"x_2\" => 1, \"y_2\" => 1, \"y_1\" => 1)\n",
      "Evaluation value: 0.6583592135001263\n",
      "Additional constant: -1.3574124137314447\n",
      "Restriction type: Eq\n",
      "Restriction set type: J_Ne_L0_v\n",
      "Value of miu: 0\n",
      "Value of beta: 1\n",
      "Value of lambda: 0\n",
      "Value of gamma: 1\n",
      "++++++++++++++++++++++++++++++\n",
      "++++++++++++++++++++++++++++++\n",
      "Restriction 2\n",
      "Variable names: [:x_1, :y_1, :y_2, :x_2]\n",
      "Expression (string): ((x_1^2)*(y_1^2)*(y_2))+x_2==0\n",
      "Parsed expression: x_2 - 1.7888543819998317y_1 - 3.5777087639996634y_2 + (x_1^2)*(y_1^2)*y_2\n",
      "Evaluation point: Dict(\"x_1\" => 1, \"x_2\" => 1, \"y_2\" => 1, \"y_1\" => 1)\n",
      "Evaluation value: -3.3665631459994954\n",
      "Additional constant: 3.3665631459994954\n",
      "Restriction type: LtEq\n",
      "Restriction set type: J_0_LP_v\n",
      "Value of miu: 0\n",
      "Value of beta: 0.5\n",
      "Value of lambda: 1\n",
      "Value of gamma: 1\n",
      "++++++++++++++++++++++++++++++\n",
      "------------------------------\n",
      "Evaluation Point:\n",
      "Dict(\"x_1\" => 1, \"x_2\" => 1, \"y_2\" => 1, \"y_1\" => 1)\n",
      "------------------------------\n",
      "_\n"
     ]
    },
    {
     "data": {
      "text/plain": []
     },
     "metadata": {},
     "output_type": "display_data"
    }
   ],
   "source": [
    "opt_problem=Fix_Restrictions(leader_func_str,g_s,Follower_str_expr,v_s,point,lider_vars,follower_vars,alpha,false)"
   ]
  },
  {
   "cell_type": "markdown",
   "metadata": {},
   "source": [
    "## Hallar vector $BF$"
   ]
  },
  {
   "cell_type": "markdown",
   "metadata": {},
   "source": [
    " Make_BF recibe el problema de optimizacion satisfacible en el punto, las variables del lider y las del follower ademas del vector alpha y el indice de cual es la vi seleccionada"
   ]
  },
  {
   "cell_type": "code",
   "execution_count": 21,
   "metadata": {},
   "outputs": [
    {
     "data": {
      "text/latex": [
       "$$ \\begin{equation}\n",
       "\\left[\n",
       "\\begin{array}{c}\n",
       "-12.7 \\\\\n",
       "-10.5 \\\\\n",
       "-15.958 \\\\\n",
       "-2.5167 \\\\\n",
       "\\end{array}\n",
       "\\right]\n",
       "\\end{equation}\n",
       " $$"
      ],
      "text/plain": [
       "4-element Vector{Num}:\n",
       "               -12.7\n",
       "               -10.5\n",
       " -15.958359213500128\n",
       " -2.5167184270002525"
      ]
     },
     "metadata": {},
     "output_type": "display_data"
    }
   ],
   "source": [
    "BF_1=Make_BF(opt_problem,lider_vars,follower_vars,alpha)"
   ]
  },
  {
   "cell_type": "markdown",
   "metadata": {},
   "source": [
    "### Ejemplo si $\\alpha$ fuera el vector nulo \n"
   ]
  },
  {
   "cell_type": "code",
   "execution_count": 22,
   "metadata": {},
   "outputs": [
    {
     "data": {
      "text/plain": []
     },
     "metadata": {},
     "output_type": "display_data"
    },
    {
     "name": "stdout",
     "output_type": "stream",
     "text": [
      "Leader's Objective Function:\n",
      "Variable names: [:x_1, :y_1, :y_2, :x_2]\n",
      "Expression (string): ((x_1^2)*(y_1^2)*(y_2))+x_2\n",
      "Parsed expression: x_2 + (x_1^2)*(y_1^2)*y_2\n",
      "Evaluation point: Dict(\"x_1\" => 1, \"x_2\" => 1, \"y_2\" => 1, \"y_1\" => 1)\n",
      "Evaluation value: 2\n",
      "Is leader function: true\n",
      "------------------------------\n",
      "Leader's Restrictions:\n",
      "++++++++++++++++++++++++++++++\n",
      "Restriction 1\n",
      "Variable names: [:x_1, :y_1, :y_2]\n",
      "Expression (string): x_1+y_2-y_1==9\n",
      "Parsed expression: 9 - x_1 + y_1 - y_2\n",
      "Evaluation point: Dict(\"x_1\" => 1, \"x_2\" => 1, \"y_2\" => 1, \"y_1\" => 1)\n",
      "Evaluation value: 8\n",
      "Additional constant: -8\n",
      "Restriction type: Gt\n",
      "Restriction set type: J_0_g\n",
      "Value of miu: 0.3\n",
      "Value of beta: 0\n",
      "Value of lambda: 0\n",
      "Value of gamma: 0\n",
      "++++++++++++++++++++++++++++++\n",
      "------------------------------\n",
      "Follower's Objective Function:\n",
      "Variable names: [:x_1, :y_1, :x_2, :y_2]\n",
      "Expression (string): ((x_2^2)*(y_1^2)*(y_2))+x_1\n",
      "Parsed expression: x_1 + (x_2^2)*(y_1^2)*y_2\n",
      "Evaluation point: Dict(\"x_1\" => 1, \"x_2\" => 1, \"y_2\" => 1, \"y_1\" => 1)\n",
      "Evaluation value: 2\n",
      "Is leader function: false\n",
      "------------------------------\n",
      "Follower's Restrictions:\n",
      "++++++++++++++++++++++++++++++\n",
      "Restriction 1\n",
      "Variable names: [:x_1, :y_1, :x_2]\n",
      "Expression (string): ((x_1^2)*(y_1^2))+x_2==0\n",
      "Parsed expression: x_2 + (x_1^2)*(y_1^2)\n",
      "Evaluation point: Dict(\"x_1\" => 1, \"x_2\" => 1, \"y_2\" => 1, \"y_1\" => 1)\n",
      "Evaluation value: 2\n",
      "Additional constant: -2.626748344018412\n",
      "Restriction type: Eq\n",
      "Restriction set type: J_Ne_L0_v\n",
      "Value of miu: 0\n",
      "Value of beta: 1\n",
      "Value of lambda: 0\n",
      "Value of gamma: 1\n",
      "++++++++++++++++++++++++++++++\n",
      "++++++++++++++++++++++++++++++\n",
      "Restriction 2\n",
      "Variable names: [:x_1, :y_1, :y_2, :x_2]\n",
      "Expression (string): ((x_1^2)*(y_1^2)*(y_2))+x_2==0\n",
      "Parsed expression: x_2 + (x_1^2)*(y_1^2)*y_2\n",
      "Evaluation point: Dict(\"x_1\" => 1, \"x_2\" => 1, \"y_2\" => 1, \"y_1\" => 1)\n",
      "Evaluation value: 2\n",
      "Additional constant: -2\n",
      "Restriction type: LtEq\n",
      "Restriction set type: J_0_LP_v\n",
      "Value of miu: 0\n",
      "Value of beta: 0.5\n",
      "Value of lambda: 1\n",
      "Value of gamma: 1\n",
      "++++++++++++++++++++++++++++++\n",
      "------------------------------\n",
      "Evaluation Point:\n",
      "Dict(\"x_1\" => 1, \"x_2\" => 1, \"y_2\" => 1, \"y_1\" => 1)\n",
      "------------------------------\n",
      "_\n"
     ]
    }
   ],
   "source": [
    "opt_problem_2=Fix_Restrictions(leader_func_str,g_s,Follower_str_expr,v_s,point,lider_vars,follower_vars,alpha,true)"
   ]
  },
  {
   "cell_type": "markdown",
   "metadata": {},
   "source": [
    "### Calcular el vector BF con esta opcion "
   ]
  },
  {
   "cell_type": "code",
   "execution_count": 23,
   "metadata": {},
   "outputs": [
    {
     "data": {
      "text/latex": [
       "$$ \\begin{equation}\n",
       "\\left[\n",
       "\\begin{array}{c}\n",
       "-12.7 \\\\\n",
       "-10.5 \\\\\n",
       "-17.3 \\\\\n",
       "-5.2 \\\\\n",
       "\\end{array}\n",
       "\\right]\n",
       "\\end{equation}\n",
       " $$"
      ],
      "text/plain": [
       "4-element Vector{Num}:\n",
       " -12.7\n",
       " -10.5\n",
       " -17.3\n",
       "  -5.2"
      ]
     },
     "metadata": {},
     "output_type": "display_data"
    }
   ],
   "source": [
    "BF_2=Make_BF(opt_problem_2,lider_vars,follower_vars,alpha)"
   ]
  },
  {
   "cell_type": "code",
   "execution_count": 24,
   "metadata": {},
   "outputs": [
    {
     "data": {
      "text/plain": [
       "false"
      ]
     },
     "metadata": {},
     "output_type": "display_data"
    }
   ],
   "source": [
    "BF_1==BF_2"
   ]
  },
  {
   "cell_type": "markdown",
   "metadata": {},
   "source": [
    "# Para mayor claridad haremos el proceso por partes"
   ]
  },
  {
   "cell_type": "markdown",
   "metadata": {},
   "source": [
    "### Hallar grad xy F"
   ]
  },
  {
   "cell_type": "code",
   "execution_count": 25,
   "metadata": {},
   "outputs": [
    {
     "data": {
      "text/latex": [
       "$$ \\begin{equation}\n",
       "\\left[\n",
       "\\begin{array}{c}\n",
       "2 \\\\\n",
       "1 \\\\\n",
       "2 \\\\\n",
       "1 \\\\\n",
       "\\end{array}\n",
       "\\right]\n",
       "\\end{equation}\n",
       " $$"
      ],
      "text/plain": [
       "4-element Vector{Num}:\n",
       " 2\n",
       " 1\n",
       " 2\n",
       " 1"
      ]
     },
     "metadata": {},
     "output_type": "display_data"
    }
   ],
   "source": [
    "# Calcular y evaluar la F\n",
    "f_grad=calculate_diff_F_xy(opt_problem,problem_vars)"
   ]
  },
  {
   "cell_type": "markdown",
   "metadata": {},
   "source": [
    "## Hallar sumatoria de miu_j * (grad xy Jo_g)"
   ]
  },
  {
   "cell_type": "code",
   "execution_count": 26,
   "metadata": {},
   "outputs": [
    {
     "data": {
      "text/latex": [
       "$$ \\begin{equation}\n",
       "\\left[\n",
       "\\begin{array}{c}\n",
       "-0.3 \\\\\n",
       "0 \\\\\n",
       "0.3 \\\\\n",
       "-0.3 \\\\\n",
       "\\end{array}\n",
       "\\right]\n",
       "\\end{equation}\n",
       " $$"
      ],
      "text/plain": [
       "4-element Vector{Num}:\n",
       " -0.3\n",
       "  0.0\n",
       "  0.3\n",
       " -0.3"
      ]
     },
     "metadata": {},
     "output_type": "display_data"
    }
   ],
   "source": [
    "# Calcular la sumatoria de los gradientes de las gs mult por su miu \n",
    "g_s_sum=calculate_g_s_active_mui_factor(opt_problem,problem_vars)"
   ]
  },
  {
   "cell_type": "markdown",
   "metadata": {},
   "source": [
    "Hallar [grad xy $f$ + SUM grad xy grad y Vi * li] * $\\alpha$"
   ]
  },
  {
   "cell_type": "markdown",
   "metadata": {},
   "source": [
    "Para el $v_i = 2$"
   ]
  },
  {
   "cell_type": "code",
   "execution_count": 27,
   "metadata": {},
   "outputs": [
    {
     "data": {
      "text/latex": [
       "$$ \\begin{equation}\n",
       "\\left[\n",
       "\\begin{array}{c}\n",
       "8 \\\\\n",
       "8 \\\\\n",
       "12 \\\\\n",
       "4 \\\\\n",
       "\\end{array}\n",
       "\\right]\n",
       "\\end{equation}\n",
       " $$"
      ],
      "text/plain": [
       "4-element Vector{Num}:\n",
       "  8.0\n",
       "  8.0\n",
       " 12.0\n",
       "  4.0"
      ]
     },
     "metadata": {},
     "output_type": "display_data"
    }
   ],
   "source": [
    "# Calcular f der por y y despues por xy multiplicado por su lambda y despues por alpha\n",
    "vi_val=calculate_select_vi_der_xy_of_x_dot_lambda_alpha(opt_problem,problem_vars,follower_vars_symbolic,alpha)"
   ]
  },
  {
   "cell_type": "markdown",
   "metadata": {},
   "source": [
    "Hallar sumatoria de los $V_j$ por $B_j$"
   ]
  },
  {
   "cell_type": "code",
   "execution_count": 28,
   "metadata": {},
   "outputs": [
    {
     "data": {
      "text/latex": [
       "$$ \\begin{equation}\n",
       "\\left[\n",
       "\\begin{array}{c}\n",
       "3 \\\\\n",
       "1.5 \\\\\n",
       "1.6584 \\\\\n",
       "-2.1833 \\\\\n",
       "\\end{array}\n",
       "\\right]\n",
       "\\end{equation}\n",
       " $$"
      ],
      "text/plain": [
       "4-element Vector{Num}:\n",
       "                 3.0\n",
       "                 1.5\n",
       "  1.6583592135001264\n",
       " -2.1832815729997477"
      ]
     },
     "metadata": {},
     "output_type": "display_data"
    }
   ],
   "source": [
    "# Calcular la sumatoria de vector de vj \n",
    "vj_bj_sum=calculate_sum_vj_bj(opt_problem,problem_vars)"
   ]
  },
  {
   "cell_type": "markdown",
   "metadata": {},
   "source": [
    "Sumar todo y devolver su contrario"
   ]
  },
  {
   "cell_type": "code",
   "execution_count": 29,
   "metadata": {},
   "outputs": [
    {
     "data": {
      "text/latex": [
       "$$ \\begin{equation}\n",
       "\\left[\n",
       "\\begin{array}{c}\n",
       "-12.7 \\\\\n",
       "-10.5 \\\\\n",
       "-15.958 \\\\\n",
       "-2.5167 \\\\\n",
       "\\end{array}\n",
       "\\right]\n",
       "\\end{equation}\n",
       " $$"
      ],
      "text/plain": [
       "4-element Vector{Num}:\n",
       "               -12.7\n",
       "               -10.5\n",
       " -15.958359213500128\n",
       " -2.5167184270002525"
      ]
     },
     "metadata": {},
     "output_type": "display_data"
    }
   ],
   "source": [
    "BF_3=- (f_grad+g_s_sum+vi_val+vj_bj_sum)"
   ]
  },
  {
   "cell_type": "code",
   "execution_count": 30,
   "metadata": {},
   "outputs": [
    {
     "data": {
      "text/plain": [
       "true"
      ]
     },
     "metadata": {},
     "output_type": "display_data"
    }
   ],
   "source": [
    "BF_1==BF_3"
   ]
  }
 ],
 "metadata": {
  "kernelspec": {
   "display_name": "Julia 1.10.5",
   "language": "julia",
   "name": "julia-1.10"
  },
  "language_info": {
   "file_extension": ".jl",
   "mimetype": "application/julia",
   "name": "julia",
   "version": "1.10.5"
  }
 },
 "nbformat": 4,
 "nbformat_minor": 2
}
