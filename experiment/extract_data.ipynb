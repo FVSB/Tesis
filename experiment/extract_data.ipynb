{
 "cells": [
  {
   "cell_type": "code",
   "execution_count": 35,
   "metadata": {},
   "outputs": [],
   "source": [
    "from experiments import *"
   ]
  },
  {
   "cell_type": "code",
   "execution_count": 36,
   "metadata": {},
   "outputs": [
    {
     "name": "stdout",
     "output_type": "stream",
     "text": [
      "Instancia deserializada desde el archivo 'D:\\GitHub\\Tesis\\experiment\\Resultados_Lineal\\Resultados_Lineal.pkl'.\n"
     ]
    },
    {
     "name": "stderr",
     "output_type": "stream",
     "text": [
      "<>:1: SyntaxWarning: invalid escape sequence '\\G'\n",
      "<>:1: SyntaxWarning: invalid escape sequence '\\G'\n",
      "C:\\Users\\dell\\AppData\\Local\\Temp\\ipykernel_8132\\4281223170.py:1: SyntaxWarning: invalid escape sequence '\\G'\n",
      "  experiment=Experiment.deserializar_desde_archivo(\"Resultados_Lineal.pkl\",\"D:\\GitHub\\Tesis\\experiment\\Resultados_Lineal\")\n"
     ]
    }
   ],
   "source": [
    "experiment=Experiment.deserializar_desde_archivo(\"Resultados_Lineal.pkl\",\"D:\\GitHub\\Tesis\\experiment\\Resultados_Lineal\")"
   ]
  },
  {
   "cell_type": "code",
   "execution_count": 37,
   "metadata": {},
   "outputs": [],
   "source": [
    "a=experiment.results_modify_problems[\"ex9_1_1\"][\"C-Estacionario\"]"
   ]
  },
  {
   "cell_type": "code",
   "execution_count": 38,
   "metadata": {},
   "outputs": [],
   "source": [
    "def extract_from_problem_names(dic_experiment:dict[str,dict[str,ExperimentResultAtomic]],problems_name:list[ExperimentLinearQuadratic]):\n",
    "    # Por cada tipo de problemas\n",
    "    C_names=problems_name[0].ruta_archivo_excel\n",
    "    print(C_names)"
   ]
  },
  {
   "cell_type": "code",
   "execution_count": 39,
   "metadata": {},
   "outputs": [],
   "source": [
    "z=experiment.C_Estacionarios[0]\n"
   ]
  },
  {
   "cell_type": "code",
   "execution_count": 40,
   "metadata": {},
   "outputs": [],
   "source": [
    "url=z.ruta_archivo_excel"
   ]
  },
  {
   "cell_type": "code",
   "execution_count": 41,
   "metadata": {},
   "outputs": [
    {
     "data": {
      "text/plain": [
       "'/workspaces/Tesis/experiment/linear/ex9_1_1/Experimentos_Generador/(ex9.1.1(Linear))__C_Stationarygenerator_alpha_non_zero.xlsx'"
      ]
     },
     "execution_count": 41,
     "metadata": {},
     "output_type": "execute_result"
    }
   ],
   "source": [
    "url"
   ]
  },
  {
   "cell_type": "code",
   "execution_count": 42,
   "metadata": {},
   "outputs": [
    {
     "data": {
      "text/plain": [
       "<bound method ExperimentLinearQuadratic.read_from_excel of <utils.ExperimentLinearQuadratic object at 0x000002039E6254C0>>"
      ]
     },
     "execution_count": 42,
     "metadata": {},
     "output_type": "execute_result"
    }
   ],
   "source": [
    "z.read_from_excel"
   ]
  },
  {
   "cell_type": "code",
   "execution_count": 43,
   "metadata": {},
   "outputs": [
    {
     "data": {
      "text/plain": [
       "dict_keys(['Funciones_Objetivo', 'Restricciones_del_lider', 'Restricciones_del_follower', 'Punto_modificado', 'Vector_bf', 'Vector_BF', 'Vector_Alpha'])"
      ]
     },
     "execution_count": 43,
     "metadata": {},
     "output_type": "execute_result"
    }
   ],
   "source": [
    "z.all_sheets.keys()"
   ]
  },
  {
   "cell_type": "code",
   "execution_count": 44,
   "metadata": {},
   "outputs": [
    {
     "name": "stdout",
     "output_type": "stream",
     "text": [
      "0.0\n",
      "c Highs-BigM (100,100)\n",
      "-27.94\n",
      "c Product_Mode\n"
     ]
    }
   ],
   "source": [
    "for x in a.results:\n",
    "    x:ExperimentResultAtomic=x\n",
    "    print(x.val_obj)\n",
    "    print(f\"c {x.method_name}\")"
   ]
  },
  {
   "cell_type": "code",
   "execution_count": 45,
   "metadata": {},
   "outputs": [
    {
     "data": {
      "text/plain": [
       "[<experiments.ExperimentResultAtomic at 0x2039e6471a0>,\n",
       " <experiments.ExperimentResultAtomic at 0x2039e52c9b0>]"
      ]
     },
     "execution_count": 45,
     "metadata": {},
     "output_type": "execute_result"
    }
   ],
   "source": [
    "a.results"
   ]
  },
  {
   "cell_type": "code",
   "execution_count": 46,
   "metadata": {},
   "outputs": [],
   "source": [
    "import os\n",
    "import pandas as pd\n",
    "\n",
    "def leer_excels_en_directorios(path_principal)->list[pd.DataFrame]:\n",
    "    # Lista para almacenar los DataFrames resultantes\n",
    "    dataframes = []\n",
    "\n",
    "    # Recorrer todos los subdirectorios del directorio principal\n",
    "    for root, dirs, files in os.walk(path_principal):\n",
    "        # Verificar si estamos en un subdirectorio llamado \"compare\"\n",
    "        if os.path.basename(root) == \"compare\":\n",
    "            # Obtener el nombre del subdirectorio padre (el que contiene \"compare\")\n",
    "            subdirectorio_padre = os.path.basename(os.path.dirname(root))\n",
    "\n",
    "            # Iterar sobre los subdirectorios dentro de \"compare\" (Alpha-Zero y C-Estacionario)\n",
    "            for subdir in dirs:\n",
    "                if subdir in [\"Alpha-Zero\", \"C-Estacionario\",\"Fuertemente-Estacionario\",\"M-Estacionario\"]:\n",
    "                    subdir_path = os.path.join(root, subdir)\n",
    "\n",
    "                    # Leer todos los archivos Excel en este subdirectorio\n",
    "                    for file in os.listdir(subdir_path):\n",
    "                        if file.endswith(('.xlsx', '.xls')):\n",
    "                            file_path = os.path.join(subdir_path, file)\n",
    "                            try:\n",
    "                                # Leer el archivo Excel\n",
    "                                df = pd.read_excel(file_path)\n",
    "\n",
    "                                # Agregar una columna con el nombre del subdirectorio padre\n",
    "                                df['Subdirectorio'] = subdirectorio_padre\n",
    "\n",
    "                                # Agregar otra columna con el tipo de subdirectorio (Alpha-Zero o C-Estacionario)\n",
    "                                df['Tipo'] = subdir\n",
    "\n",
    "                                # Agregar el DataFrame a la lista\n",
    "                                dataframes.append(df)\n",
    "                            except Exception as e:\n",
    "                                print(f\"Error al leer el archivo {file_path}: {e}\")\n",
    "\n",
    "    # Combinar todos los DataFrames en uno solo\n",
    "    #if dataframes:\n",
    "    #    resultado = pd.concat(dataframes, ignore_index=True)\n",
    "    #    return resultado\n",
    "    #else:\n",
    "    #    print(\"No se encontraron archivos Excel en los subdirectorios 'Alpha-Zero' o 'C-Estacionario'.\")\n",
    "    #    return None\n",
    "    return dataframes\n",
    "# Ejemplo de uso\n",
    "path_principal = r\"D:\\GitHub\\Tesis\\experiment\\linear\"\n",
    "resultado = leer_excels_en_directorios(path_principal)\n",
    "#\n",
    "#if resultado is not None:\n",
    " #   print(resultado)"
   ]
  },
  {
   "cell_type": "code",
   "execution_count": 47,
   "metadata": {},
   "outputs": [],
   "source": [
    "for df in resultado:\n",
    "    if \"Subdirectorio\" in df[\"Subdirectorio\"][0]:\n",
    "        print(2)"
   ]
  },
  {
   "cell_type": "code",
   "execution_count": 48,
   "metadata": {},
   "outputs": [],
   "source": [
    "def get_point_tupple_string(point_list:list)->str:\n",
    "    \"\"\"\n",
    "    Devuelve el punto en forma de string\n",
    "    \"\"\"\n",
    "    temp=f\"(\"\n",
    "    for key in point_list:\n",
    "        #print(f\"el vcaor {key}\")\n",
    "        val=round(key,2)\n",
    "        temp+=f\" {str(val)},\"\n",
    "    temp+=f\")\"\n",
    "    return convertir_expresion_2_decimales(temp)"
   ]
  },
  {
   "cell_type": "code",
   "execution_count": 49,
   "metadata": {},
   "outputs": [],
   "source": [
    "class ResultadosAtomic:\n",
    "    def __init__(self,problem_name:str,stationary_point_value:list,Val_object_estacionario,punto_optimo:list,valor_obj_punto_optimo,metodo,Estatus_Primal,Estatus_terminacion,tiempo):\n",
    "        self.problem_name:str=problem_name\n",
    "        self.stationary_point_value:list=stationary_point_value\n",
    "        \"\"\"\n",
    "        Punto Estacionario\n",
    "        \"\"\"\n",
    "        self.Val_object_estacionario= Val_object_estacionario\n",
    "        self.punto_optimo:list=punto_optimo\n",
    "        self.valor_obj_punto_optimo=valor_obj_punto_optimo\n",
    "        self.metodo=metodo\n",
    "        self.Estatus_Primal=Estatus_Primal\n",
    "        self.Estatus_terminacion=Estatus_terminacion\n",
    "        self.tiempo=tiempo\n",
    "    \n",
    "    def get_string_form(self)->str:\n",
    "        \"\"\"\n",
    "        Devuelve esto para escribir en latex ese segmento\n",
    "        \"\"\"\n",
    "        temp=f\"\\\\resultroww{{{self.problem_name}}}{{{convertir_expresion_2_decimales(self.stationary_point_value)}}}{{{round(self.Val_object_estacionario,2)}}}{{{get_point_tupple_string(self.punto_optimo)}}}{{{round(self.valor_obj_punto_optimo,2)}}}{{{self.metodo}}}{{{self.Estatus_Primal}}}{{{self.Estatus_terminacion}}}{{{self.tiempo}}}\"\n",
    "        return temp\n",
    "    \n",
    "        "
   ]
  },
  {
   "cell_type": "markdown",
   "metadata": {},
   "source": [
    "# Guardar por Tipo punto:(Problema:Result)"
   ]
  },
  {
   "cell_type": "code",
   "execution_count": 50,
   "metadata": {},
   "outputs": [],
   "source": [
    "# Guardar por Tipo punto:(Problema:Result)\n",
    "dic:dict[str,dict[str:list[ResultadosAtomic]]]={}"
   ]
  },
  {
   "cell_type": "code",
   "execution_count": 51,
   "metadata": {},
   "outputs": [
    {
     "data": {
      "text/plain": [
       "experiments.Experiment"
      ]
     },
     "execution_count": 51,
     "metadata": {},
     "output_type": "execute_result"
    }
   ],
   "source": [
    "type(experiment)"
   ]
  },
  {
   "cell_type": "code",
   "execution_count": 52,
   "metadata": {},
   "outputs": [
    {
     "data": {
      "text/plain": [
       "('( 6.05, 6.85, 3.1,)', 74.95)"
      ]
     },
     "execution_count": 52,
     "metadata": {},
     "output_type": "execute_result"
    }
   ],
   "source": [
    "experiment._get_original_point_string('ex9_1_1',CESTACIONARIO)"
   ]
  },
  {
   "cell_type": "code",
   "execution_count": 53,
   "metadata": {},
   "outputs": [],
   "source": [
    "\n",
    "def get_point(experiment:Experiment,problem_name:str,lis:list)->list[str]:   \n",
    "    point:dict[str,float]={}\n",
    "    point_list:list[float]=[]\n",
    "    leader_vars:list[str]=experiment.results_modify_problems[problem_name][CESTACIONARIO].results[0].leaders_vars\n",
    "    len_vars_leader=len(leader_vars)\n",
    "    follower_vars:list[str]=experiment.results_modify_problems[problem_name][CESTACIONARIO].results[0].follower_vars\n",
    "    len_vars_follower=len(follower_vars)\n",
    "    len_all=len_vars_leader+len_vars_follower\n",
    "    index_start_x=9\n",
    "   \n",
    "    \n",
    "    for i in range(index_start_x,len(lis)):\n",
    "        val=lis[i]\n",
    "        val=round(float(val),2)\n",
    "        point_list.append(val)\n",
    "        \n",
    "    return point_list"
   ]
  },
  {
   "cell_type": "code",
   "execution_count": 54,
   "metadata": {},
   "outputs": [],
   "source": [
    "def crear_results_atomic(experiment:Experiment,nombre_problema:str,tipo_punto:str,df:pd.DataFrame)->list[ResultadosAtomic]:\n",
    "    resultado:list[ResultadosAtomic]=[]\n",
    "    # Obtener el número de filas\n",
    "    num_filas = df.shape[0]\n",
    "    for i in range(num_filas):\n",
    "        fila_dict=df.iloc[i].to_dict()\n",
    "        fila_list=df.iloc[i].values.tolist()\n",
    "        fila_list=fila_list[:-2]\n",
    "        punto_estacionario,val_obj_estacionario=experiment._get_original_point_string(nombre_problema,tipo_punto)\n",
    "        punto_optimo=get_point(experiment,nombre_problema,fila_list)\n",
    "        \n",
    "        resultado.append(ResultadosAtomic(problem_name=nombre_problema,stationary_point_value=punto_estacionario,Val_object_estacionario=val_obj_estacionario,punto_optimo=punto_optimo,metodo=fila_dict[\"Optimize_Method\"],Estatus_Primal=fila_dict[\"Estatus_Primal\"],Estatus_terminacion=fila_dict[\"Estatus_Terminación\"],tiempo=fila_dict[\"Tiempo_Promedio\"],valor_obj_punto_optimo=fila_dict[\"Valor_Objetivo\"]))\n",
    "    return resultado"
   ]
  },
  {
   "cell_type": "markdown",
   "metadata": {},
   "source": [
    "MEtodo que devuelve el diccionario ordenado"
   ]
  },
  {
   "cell_type": "code",
   "execution_count": 55,
   "metadata": {},
   "outputs": [],
   "source": [
    "def save_in_dict_data(resultado:list[pd.DataFrame])->dict[str,dict[str:list[ResultadosAtomic]]]:\n",
    "    \"\"\"\n",
    "    Del dataframe obtenido crea los nuevos ResultadosAtomic\n",
    "    \"\"\"\n",
    "    dic:dict[str,dict[str:list[ResultadosAtomic]]]={}\n",
    "    for excel in resultado:\n",
    "        tipo_punto=excel['Tipo'][0]\n",
    "        nombre_problema=excel['Subdirectorio'][0]\n",
    "        if not tipo_punto in dic:\n",
    "            dic[tipo_punto]={}\n",
    "        problem_dic=dic[tipo_punto]\n",
    "        problem_dic[nombre_problema]=crear_results_atomic(experiment,nombre_problema,tipo_punto,excel)\n",
    "    \n",
    "    return dic\n",
    "    "
   ]
  },
  {
   "cell_type": "markdown",
   "metadata": {},
   "source": [
    "Construir el String respuesta"
   ]
  },
  {
   "cell_type": "code",
   "execution_count": 56,
   "metadata": {},
   "outputs": [],
   "source": [
    "def construir_espacios_tabla(problems_name:list[str],resultado:dict[str,dict[str:list[ResultadosAtomic]]],tipo_punto:str):\n",
    "    \n",
    "    #Por el tipo de punto estacionario\n",
    "    # Con los c_estacionarios\n",
    "    temp=f\"\"\n",
    "    # Diccionario de los problemas a los resultados\n",
    "    problems:dict[str,list[ResultadosAtomic]]=resultado[tipo_punto]\n",
    "    for key in problems_name:\n",
    "        # Por cada problema tomar el result\n",
    "        results_atomis_list:list[ResultadosAtomic]=problems[key]\n",
    "        for result_atomic in results_atomis_list:\n",
    "            # Por result_atomic osea linea del excel\n",
    "            \n",
    "            temp+=f\"{result_atomic.get_string_form()} \\n\"\n",
    "            \n",
    "    return temp"
   ]
  },
  {
   "cell_type": "code",
   "execution_count": 57,
   "metadata": {},
   "outputs": [],
   "source": [
    "def construir_cabezera_de_table_string(point_type:str)->str:\n",
    "    temp:str=f\"\"\"\n",
    "    \\n\n",
    "    \\\\multicolumn{{9}}{{|c|}}{{\\\\textbf{{{point_type}}}}} {\"\\\\\"}\n",
    "    \\\\hline  \\n\n",
    "    \"\"\"\n",
    "    return temp"
   ]
  },
  {
   "cell_type": "markdown",
   "metadata": {},
   "source": [
    "MEtodo crear el string de respuesta"
   ]
  },
  {
   "cell_type": "code",
   "execution_count": 58,
   "metadata": {},
   "outputs": [
    {
     "name": "stderr",
     "output_type": "stream",
     "text": [
      "<>:25: SyntaxWarning: invalid escape sequence '\\e'\n",
      "<>:25: SyntaxWarning: invalid escape sequence '\\e'\n",
      "C:\\Users\\dell\\AppData\\Local\\Temp\\ipykernel_8132\\177133316.py:25: SyntaxWarning: invalid escape sequence '\\e'\n",
      "  temp+=f\"\\n \\end{{resultstablee}} \\n\"\n"
     ]
    }
   ],
   "source": [
    "def crear_string_response(problems_name:list[str],tipo_problemas:str,resultado:dict[str,dict[str:list[ResultadosAtomic]]])->str:\n",
    "    temp=f\"\"\"\n",
    "    \n",
    "\\\\begin{{resultstablee}}{{Resultados de los problemas {tipo_problemas}}} \\n\n",
    "    \"\"\"\n",
    "    \n",
    "    # Ahora con los Alpha-Zero\n",
    "    temp+=construir_cabezera_de_table_string(ALPHAZERO)\n",
    "    temp+=construir_espacios_tabla(problems_name=problems_name,resultado=resultado,tipo_punto=ALPHAZERO)\n",
    "    \n",
    "    #Ahora con los C-Estacionarios\n",
    "    temp+=construir_cabezera_de_table_string(CESTACIONARIO)\n",
    "    temp+=construir_espacios_tabla(problems_name=problems_name,resultado=resultado,tipo_punto=CESTACIONARIO)\n",
    "    \n",
    "    # Ahora con los M-Estacionarios\n",
    "    temp+=construir_cabezera_de_table_string(MESTACIONARIO)\n",
    "    temp+=construir_espacios_tabla(problems_name=problems_name,resultado=resultado,tipo_punto=MESTACIONARIO)\n",
    "    \n",
    "    # Ahora con los Fuertemente  Estacionarios\n",
    "    \n",
    "     #Ahora con los C-Estacionarios\n",
    "    temp+=construir_cabezera_de_table_string(FUERTEMENTEESTACIONARIO)\n",
    "    temp+=construir_espacios_tabla(problems_name=problems_name,resultado=resultado,tipo_punto=FUERTEMENTEESTACIONARIO)\n",
    "    \n",
    "    temp+=f\"\\n \\end{{resultstablee}} \\n\"\n",
    "    \n",
    "    return temp\n",
    "    \n",
    "    \n",
    "    "
   ]
  },
  {
   "cell_type": "code",
   "execution_count": 59,
   "metadata": {},
   "outputs": [
    {
     "name": "stdout",
     "output_type": "stream",
     "text": [
      "Instancia deserializada desde el archivo 'D:\\GitHub\\Tesis\\experiment\\Resultados_Lineal\\Resultados_Lineal.pkl'.\n"
     ]
    },
    {
     "name": "stderr",
     "output_type": "stream",
     "text": [
      "<>:1: SyntaxWarning: invalid escape sequence '\\G'\n",
      "<>:1: SyntaxWarning: invalid escape sequence '\\G'\n",
      "C:\\Users\\dell\\AppData\\Local\\Temp\\ipykernel_8132\\4281223170.py:1: SyntaxWarning: invalid escape sequence '\\G'\n",
      "  experiment=Experiment.deserializar_desde_archivo(\"Resultados_Lineal.pkl\",\"D:\\GitHub\\Tesis\\experiment\\Resultados_Lineal\")\n"
     ]
    }
   ],
   "source": [
    "experiment=Experiment.deserializar_desde_archivo(\"Resultados_Lineal.pkl\",\"D:\\GitHub\\Tesis\\experiment\\Resultados_Lineal\")"
   ]
  },
  {
   "cell_type": "markdown",
   "metadata": {},
   "source": [
    "Serualizar"
   ]
  },
  {
   "cell_type": "code",
   "execution_count": 60,
   "metadata": {},
   "outputs": [],
   "source": [
    "def serialize_to_tex(content: str, file_name: str) -> None:\n",
    "    \"\"\"\n",
    "    Serializa un string en un archivo .tex con el nombre dado.\n",
    "\n",
    "    :param content: El contenido que se escribirá en el archivo .tex.\n",
    "    :param file_name: El nombre del archivo (sin extensión).\n",
    "    \"\"\"\n",
    "    # Asegurarse de que el nombre del archivo tenga la extensión .tex\n",
    "    if not file_name.endswith('.tex'):\n",
    "        file_name += '.tex'\n",
    "    \n",
    "    try:\n",
    "        # Escribir el contenido en el archivo .tex\n",
    "        with open(file_name, 'w', encoding='utf-8') as tex_file:\n",
    "            tex_file.write(content)\n",
    "        print(f\"Archivo '{file_name}' creado exitosamente.\")\n",
    "    except Exception as e:\n",
    "        print(f\"Error al crear el archivo: {e}\")\n",
    "\n",
    "# Ejemplo de uso\n",
    "#contenido = r\"\"\"\n",
    "#documentclass{article}\n",
    "#begin{document}\n",
    "#ola, este es un ejemplo de archivo \\LaTeX{} generado desde Python.\n",
    "#end{document}\n",
    "#\"\"\n",
    "#\n",
    "#ombre_archivo = \"mi_documento\"\n",
    "#erialize_to_tex(contenido, nombre_archivo)"
   ]
  },
  {
   "cell_type": "markdown",
   "metadata": {},
   "source": [
    "Mejorar el string"
   ]
  },
  {
   "cell_type": "code",
   "execution_count": 61,
   "metadata": {},
   "outputs": [
    {
     "name": "stdout",
     "output_type": "stream",
     "text": [
      "\n",
      "Algun texto antes \\resultroww{ex9.1.1} y luego más texto.\n",
      "Otro ejemplo: \\resultroww{abc.def.ghi}.\n",
      "\n"
     ]
    }
   ],
   "source": [
    "import re\n",
    "\n",
    "def reemplazar_guion_por_punto(texto):\n",
    "    # Definimos una función interna para procesar cada coincidencia\n",
    "    def reemplazar_en_coincidencia(match):\n",
    "        contenido = match.group(1)  # Obtenemos el contenido dentro de las llaves\n",
    "        return f\"\\\\resultroww{{{contenido.replace('_', '.')}}}\"  # Reemplazamos _ por .\n",
    "\n",
    "    # Usamos una expresión regular para buscar patrones como \\resultroww{...}\n",
    "    patron = r\"\\\\resultroww\\{([^}]+)\\}\"\n",
    "    # Substituimos usando la función interna\n",
    "    texto_modificado = re.sub(patron, reemplazar_en_coincidencia, texto)\n",
    "    return texto_modificado\n",
    "\n",
    "# Ejemplo de uso\n",
    "texto_original = r\"\"\"\n",
    "Algun texto antes \\resultroww{ex9_1_1} y luego más texto.\n",
    "Otro ejemplo: \\resultroww{abc_def_ghi}.\n",
    "\"\"\"\n",
    "\n",
    "texto_modificado = reemplazar_guion_por_punto(texto_original)\n",
    "print(texto_modificado)"
   ]
  },
  {
   "cell_type": "code",
   "execution_count": 62,
   "metadata": {},
   "outputs": [
    {
     "name": "stderr",
     "output_type": "stream",
     "text": [
      "<>:2: SyntaxWarning: invalid escape sequence '\\G'\n",
      "<>:2: SyntaxWarning: invalid escape sequence '\\G'\n",
      "C:\\Users\\dell\\AppData\\Local\\Temp\\ipykernel_8132\\2101926716.py:2: SyntaxWarning: invalid escape sequence '\\G'\n",
      "  experiment:Experiment=Experiment.deserializar_desde_archivo(f\"Resultados_{type_problem}.pkl\",f\"D:\\GitHub\\Tesis\\experiment\\Resultados_{type_problem}\")\n"
     ]
    }
   ],
   "source": [
    "def run(root_path:str,type_problem:str):\n",
    "    experiment:Experiment=Experiment.deserializar_desde_archivo(f\"Resultados_{type_problem}.pkl\",f\"D:\\GitHub\\Tesis\\experiment\\Resultados_{type_problem}\")\n",
    "    #path_principal = r\"D:\\GitHub\\Tesis\\experiment\\linear\"\n",
    "    df_list:list[pd.DataFrame] = leer_excels_en_directorios(root_path)\n",
    "    # Organizar el list df\n",
    "    dic_sort_info=save_in_dict_data(df_list)\n",
    "    # Crear strinf respuesta\n",
    "    str_info=crear_string_response(experiment.problems_name,type_problem,dic_sort_info)\n",
    "    # VCambiar _ por .\n",
    "    str_info=reemplazar_guion_por_punto(str_info)\n",
    "    # Serializar\n",
    "    serialize_to_tex(str_info,f\"Resultados_{type_problem}\")\n",
    "    "
   ]
  },
  {
   "cell_type": "code",
   "execution_count": 63,
   "metadata": {},
   "outputs": [
    {
     "data": {
      "text/plain": [
       "'Lineal'"
      ]
     },
     "execution_count": 63,
     "metadata": {},
     "output_type": "execute_result"
    }
   ],
   "source": [
    "LINEAL"
   ]
  },
  {
   "cell_type": "code",
   "execution_count": 64,
   "metadata": {},
   "outputs": [
    {
     "name": "stdout",
     "output_type": "stream",
     "text": [
      "Instancia deserializada desde el archivo 'D:\\GitHub\\Tesis\\experiment\\Resultados_Lineal\\Resultados_Lineal.pkl'.\n",
      "Archivo 'Resultados_Lineal.tex' creado exitosamente.\n"
     ]
    },
    {
     "name": "stderr",
     "output_type": "stream",
     "text": [
      "<>:1: SyntaxWarning: invalid escape sequence '\\G'\n",
      "<>:1: SyntaxWarning: invalid escape sequence '\\G'\n",
      "C:\\Users\\dell\\AppData\\Local\\Temp\\ipykernel_8132\\3138368272.py:1: SyntaxWarning: invalid escape sequence '\\G'\n",
      "  run(f\"D:\\GitHub\\Tesis\\experiment\\linear\",LINEAL)\n"
     ]
    }
   ],
   "source": [
    "run(f\"D:\\GitHub\\Tesis\\experiment\\linear\",LINEAL)"
   ]
  },
  {
   "cell_type": "code",
   "execution_count": null,
   "metadata": {},
   "outputs": [],
   "source": []
  }
 ],
 "metadata": {
  "kernelspec": {
   "display_name": "venv",
   "language": "python",
   "name": "python3"
  },
  "language_info": {
   "codemirror_mode": {
    "name": "ipython",
    "version": 3
   },
   "file_extension": ".py",
   "mimetype": "text/x-python",
   "name": "python",
   "nbconvert_exporter": "python",
   "pygments_lexer": "ipython3",
   "version": "3.12.6"
  }
 },
 "nbformat": 4,
 "nbformat_minor": 2
}
