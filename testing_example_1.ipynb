{
 "cells": [
  {
   "cell_type": "markdown",
   "metadata": {},
   "source": [
    "## Importar modulos"
   ]
  },
  {
   "cell_type": "code",
   "execution_count": 1,
   "metadata": {},
   "outputs": [
    {
     "name": "stderr",
     "output_type": "stream",
     "text": [
      "WARNING: Method definition isapprox(IntervalSets.AbstractInterval{T} where T, IntervalSets.AbstractInterval{T} where T) in module IntervalSets at /home/fvsb/.julia/packages/IntervalSets/kyCuf/src/IntervalSets.jl:296 overwritten in module DomainSets at /home/fvsb/.julia/packages/DomainSets/aafhp/src/domains/interval.jl:52.\n",
      "ERROR: Method overwriting is not permitted during Module precompilation. Use `__precompile__(false)` to opt-out of precompilation.\n",
      "WARNING: Method definition isapprox(IntervalSets.AbstractInterval{T} where T, IntervalSets.AbstractInterval{T} where T) in module IntervalSets at /home/fvsb/.julia/packages/IntervalSets/kyCuf/src/IntervalSets.jl:296 overwritten in module DomainSets at /home/fvsb/.julia/packages/DomainSets/aafhp/src/domains/interval.jl:52.\n",
      "ERROR: Method overwriting is not permitted during Module precompilation. Use `__precompile__(false)` to opt-out of precompilation.\n",
      "WARNING: method definition for supremum at /home/fvsb/.julia/packages/Symbolics/HDE84/src/domains.jl:22 declares type variable T but does not use it.\n"
     ]
    },
    {
     "data": {
      "text/plain": [
       "Make_BF"
      ]
     },
     "metadata": {},
     "output_type": "display_data"
    }
   ],
   "source": [
    "include(\"def_problem/solver.jl\")"
   ]
  },
  {
   "cell_type": "code",
   "execution_count": 2,
   "metadata": {},
   "outputs": [],
   "source": [
    "using Symbolics"
   ]
  },
  {
   "cell_type": "markdown",
   "metadata": {},
   "source": [
    "#### Indicar las variables del lider"
   ]
  },
  {
   "cell_type": "code",
   "execution_count": 3,
   "metadata": {},
   "outputs": [
    {
     "data": {
      "text/plain": [
       "1-element Vector{String}:\n",
       " \"x\""
      ]
     },
     "metadata": {},
     "output_type": "display_data"
    }
   ],
   "source": [
    "lider_vars=[\"x\"]"
   ]
  },
  {
   "cell_type": "markdown",
   "metadata": {},
   "source": [
    "#### Indicar las variables del follower"
   ]
  },
  {
   "cell_type": "code",
   "execution_count": 4,
   "metadata": {},
   "outputs": [
    {
     "data": {
      "text/plain": [
       "2-element Vector{String}:\n",
       " \"y_1\"\n",
       " \"y_2\""
      ]
     },
     "metadata": {},
     "output_type": "display_data"
    }
   ],
   "source": [
    "follower_vars=[\"y_1\",\"y_2\"]"
   ]
  },
  {
   "cell_type": "code",
   "execution_count": 5,
   "metadata": {},
   "outputs": [
    {
     "data": {
      "text/latex": [
       "\\begin{equation}\n",
       "\\left[\n",
       "\\begin{array}{c}\n",
       "y_{1} \\\\\n",
       "y_{2} \\\\\n",
       "\\end{array}\n",
       "\\right]\n",
       "\\end{equation}\n"
      ],
      "text/plain": [
       "2-element Vector{Num}:\n",
       " y_1\n",
       " y_2"
      ]
     },
     "metadata": {},
     "output_type": "display_data"
    }
   ],
   "source": [
    "follower_vars_symbolic=map(convert_Symbol_to_symbolic_num,follower_vars)"
   ]
  },
  {
   "cell_type": "markdown",
   "metadata": {},
   "source": [
    "Concatenar las variables de los dos niveles"
   ]
  },
  {
   "cell_type": "code",
   "execution_count": 6,
   "metadata": {},
   "outputs": [
    {
     "data": {
      "text/plain": [
       "3-element Vector{String}:\n",
       " \"x\"\n",
       " \"y_1\"\n",
       " \"y_2\""
      ]
     },
     "metadata": {},
     "output_type": "display_data"
    }
   ],
   "source": [
    "problem_vars_str=vcat(lider_vars,follower_vars)"
   ]
  },
  {
   "cell_type": "markdown",
   "metadata": {},
   "source": [
    "Convertir a variables de Symbolics"
   ]
  },
  {
   "cell_type": "code",
   "execution_count": 7,
   "metadata": {},
   "outputs": [
    {
     "data": {
      "text/latex": [
       "\\begin{equation}\n",
       "\\left[\n",
       "\\begin{array}{c}\n",
       "x \\\\\n",
       "y_{1} \\\\\n",
       "y_{2} \\\\\n",
       "\\end{array}\n",
       "\\right]\n",
       "\\end{equation}\n"
      ],
      "text/plain": [
       "3-element Vector{Num}:\n",
       "   x\n",
       " y_1\n",
       " y_2"
      ]
     },
     "metadata": {},
     "output_type": "display_data"
    }
   ],
   "source": [
    "problem_vars=map(convert_Symbol_to_symbolic_num,problem_vars_str)"
   ]
  },
  {
   "cell_type": "markdown",
   "metadata": {},
   "source": [
    "## Declarar la funcion del lider"
   ]
  },
  {
   "cell_type": "code",
   "execution_count": 8,
   "metadata": {},
   "outputs": [
    {
     "data": {
      "text/plain": [
       "\"-x-3y_1+2y_2\""
      ]
     },
     "metadata": {},
     "output_type": "display_data"
    }
   ],
   "source": [
    "leader_func_str::String=\"-x-3y_1+2y_2\""
   ]
  },
  {
   "cell_type": "markdown",
   "metadata": {},
   "source": [
    "### Declarar restricciones del nivel superior"
   ]
  },
  {
   "cell_type": "code",
   "execution_count": 9,
   "metadata": {},
   "outputs": [],
   "source": [
    "g_s=nothing"
   ]
  },
  {
   "cell_type": "markdown",
   "metadata": {},
   "source": [
    "## Definir el nivel inferior"
   ]
  },
  {
   "cell_type": "code",
   "execution_count": 10,
   "metadata": {},
   "outputs": [
    {
     "data": {
      "text/plain": [
       "\"-y_1\""
      ]
     },
     "metadata": {},
     "output_type": "display_data"
    }
   ],
   "source": [
    "Follower_str_expr=\"-y_1\""
   ]
  },
  {
   "cell_type": "markdown",
   "metadata": {},
   "source": [
    "#### Restricciones del follower"
   ]
  },
  {
   "cell_type": "markdown",
   "metadata": {},
   "source": [
    "$\\beta = 1$,  $\\lambda=0$"
   ]
  },
  {
   "cell_type": "code",
   "execution_count": 11,
   "metadata": {},
   "outputs": [
    {
     "data": {
      "text/plain": []
     },
     "metadata": {},
     "output_type": "display_data"
    },
    {
     "name": "stdout",
     "output_type": "stream",
     "text": [
      "Restriction Definition Details\n",
      "------------------------------\n",
      "Restriction type: LtEq\n",
      "------------------------------\n",
      "Set type: Normal\n",
      "------------------------------\n",
      "Belongs to leader function: false\n",
      "------------------------------\n",
      "Value of miu: 0\n",
      "------------------------------\n",
      "Value of beta: 1\n",
      "------------------------------\n",
      "Value of lambda: 0\n",
      "------------------------------\n",
      "Value of gamma: 1\n",
      "------------------------------\n"
     ]
    }
   ],
   "source": [
    "v_1=Def_Restriction_init(\"-y_1==0\",Normal,LtEq,false,0,1,0,1)"
   ]
  },
  {
   "cell_type": "code",
   "execution_count": 12,
   "metadata": {},
   "outputs": [
    {
     "data": {
      "text/plain": []
     },
     "metadata": {},
     "output_type": "display_data"
    },
    {
     "name": "stdout",
     "output_type": "stream",
     "text": [
      "Restriction Definition Details\n",
      "------------------------------\n",
      "Restriction type: LtEq\n",
      "------------------------------\n",
      "Set type: Normal\n",
      "------------------------------\n",
      "Belongs to leader function: false\n",
      "------------------------------\n",
      "Value of miu: 0\n",
      "------------------------------\n",
      "Value of beta: 1\n",
      "------------------------------\n",
      "Value of lambda: 0\n",
      "------------------------------\n",
      "Value of gamma: 1\n",
      "------------------------------\n"
     ]
    }
   ],
   "source": [
    "v_2=Def_Restriction_init(\"y_1==4\",Normal,LtEq,false,0,1,0,1)"
   ]
  },
  {
   "cell_type": "code",
   "execution_count": 13,
   "metadata": {},
   "outputs": [
    {
     "data": {
      "text/plain": []
     },
     "metadata": {},
     "output_type": "display_data"
    },
    {
     "name": "stdout",
     "output_type": "stream",
     "text": [
      "Restriction Definition Details\n",
      "------------------------------\n",
      "Restriction type: LtEq\n",
      "------------------------------\n",
      "Set type: Normal\n",
      "------------------------------\n",
      "Belongs to leader function: false\n",
      "------------------------------\n",
      "Value of miu: 0\n",
      "------------------------------\n",
      "Value of beta: 1\n",
      "------------------------------\n",
      "Value of lambda: 0\n",
      "------------------------------\n",
      "Value of gamma: 1\n",
      "------------------------------\n"
     ]
    }
   ],
   "source": [
    "v_3=Def_Restriction_init(\"-2x+y_1+4y_2==16\",Normal,LtEq,false,0,1,0,1)"
   ]
  },
  {
   "cell_type": "code",
   "execution_count": 14,
   "metadata": {},
   "outputs": [
    {
     "data": {
      "text/plain": []
     },
     "metadata": {},
     "output_type": "display_data"
    },
    {
     "name": "stdout",
     "output_type": "stream",
     "text": [
      "Restriction Definition Details\n",
      "------------------------------\n",
      "Restriction type: LtEq\n",
      "------------------------------\n",
      "Set type: Normal\n",
      "------------------------------\n",
      "Belongs to leader function: false\n",
      "------------------------------\n",
      "Value of miu: 0\n",
      "------------------------------\n",
      "Value of beta: 1\n",
      "------------------------------\n",
      "Value of lambda: 0\n",
      "------------------------------\n",
      "Value of gamma: 1\n",
      "------------------------------\n"
     ]
    }
   ],
   "source": [
    "v_4=Def_Restriction_init(\"8x+3y_1-2y_2==48\",Normal,LtEq,false,0,1,0,1)"
   ]
  },
  {
   "cell_type": "code",
   "execution_count": 15,
   "metadata": {},
   "outputs": [
    {
     "data": {
      "text/plain": []
     },
     "metadata": {},
     "output_type": "display_data"
    },
    {
     "name": "stdout",
     "output_type": "stream",
     "text": [
      "Restriction Definition Details\n",
      "------------------------------\n",
      "Restriction type: LtEq\n",
      "------------------------------\n",
      "Set type: Normal\n",
      "------------------------------\n",
      "Belongs to leader function: false\n",
      "------------------------------\n",
      "Value of miu: 0\n",
      "------------------------------\n",
      "Value of beta: 1\n",
      "------------------------------\n",
      "Value of lambda: 0\n",
      "------------------------------\n",
      "Value of gamma: 1\n",
      "------------------------------\n"
     ]
    }
   ],
   "source": [
    "v_5=Def_Restriction_init(\"2x+y-1-3y_2==-12\",Normal,LtEq,false,0,1,0,1)"
   ]
  },
  {
   "cell_type": "markdown",
   "metadata": {},
   "source": [
    "Agrupar las $v_s$ en un vector"
   ]
  },
  {
   "cell_type": "code",
   "execution_count": 16,
   "metadata": {},
   "outputs": [
    {
     "data": {
      "text/plain": [
       "5-element Vector{Def_Restriction}:\n",
       " \n",
       " \n",
       " \n",
       " \n",
       " "
      ]
     },
     "metadata": {},
     "output_type": "display_data"
    },
    {
     "name": "stdout",
     "output_type": "stream",
     "text": [
      "Restriction Definition Details\n",
      "------------------------------\n",
      "Restriction type: LtEq\n",
      "------------------------------\n",
      "Set type: Normal\n",
      "------------------------------\n",
      "Belongs to leader function: false\n",
      "------------------------------\n",
      "Value of miu: 0\n",
      "------------------------------\n",
      "Value of beta: 1\n",
      "------------------------------\n",
      "Value of lambda: 0\n",
      "------------------------------\n",
      "Value of gamma: 1\n",
      "------------------------------\n",
      "Restriction Definition Details\n",
      "------------------------------\n",
      "Restriction type: LtEq\n",
      "------------------------------\n",
      "Set type: Normal\n",
      "------------------------------\n",
      "Belongs to leader function: false\n",
      "------------------------------\n",
      "Value of miu: 0\n",
      "------------------------------\n",
      "Value of beta: 1\n",
      "------------------------------\n",
      "Value of lambda: 0\n",
      "------------------------------\n",
      "Value of gamma: 1\n",
      "------------------------------\n",
      "Restriction Definition Details\n",
      "------------------------------\n",
      "Restriction type: LtEq\n",
      "------------------------------\n",
      "Set type: Normal\n",
      "------------------------------\n",
      "Belongs to leader function: false\n",
      "------------------------------\n",
      "Value of miu: 0\n",
      "------------------------------\n",
      "Value of beta: 1\n",
      "------------------------------\n",
      "Value of lambda: 0\n",
      "------------------------------\n",
      "Value of gamma: 1\n",
      "------------------------------\n",
      "Restriction Definition Details\n",
      "------------------------------\n",
      "Restriction type: LtEq\n",
      "------------------------------\n",
      "Set type: Normal\n",
      "------------------------------\n",
      "Belongs to leader function: false\n",
      "------------------------------\n",
      "Value of miu: 0\n",
      "------------------------------\n",
      "Value of beta: 1\n",
      "------------------------------\n",
      "Value of lambda: 0\n",
      "------------------------------\n",
      "Value of gamma: 1\n",
      "------------------------------\n",
      "Restriction Definition Details\n",
      "------------------------------\n",
      "Restriction type: LtEq\n",
      "------------------------------\n",
      "Set type: Normal\n",
      "------------------------------\n",
      "Belongs to leader function: false\n",
      "------------------------------\n",
      "Value of miu: 0\n",
      "------------------------------\n",
      "Value of beta: 1\n",
      "------------------------------\n",
      "Value of lambda: 0\n",
      "------------------------------\n",
      "Value of gamma: 1\n",
      "------------------------------\n",
      "Restriction Definition Details\n",
      "------------------------------\n",
      "Restriction type: LtEq\n",
      "------------------------------\n",
      "Set type: Normal\n",
      "------------------------------\n",
      "Belongs to leader function: false\n",
      "------------------------------\n",
      "Value of miu: 0\n",
      "------------------------------\n",
      "Value of beta: 1\n",
      "------------------------------\n",
      "Value of lambda: 0\n",
      "------------------------------\n",
      "Value of gamma: 1\n",
      "------------------------------\n",
      "Restriction Definition Details\n",
      "------------------------------\n",
      "Restriction type: LtEq\n",
      "------------------------------\n",
      "Set type: Normal\n",
      "------------------------------\n",
      "Belongs to leader function: false\n",
      "------------------------------\n",
      "Value of miu: 0\n",
      "------------------------------\n",
      "Value of beta: 1\n",
      "------------------------------\n",
      "Value of lambda: 0\n",
      "------------------------------\n",
      "Value of gamma: 1\n",
      "------------------------------\n",
      "Restriction Definition Details\n",
      "------------------------------\n",
      "Restriction type: LtEq\n",
      "------------------------------\n",
      "Set type: Normal\n",
      "------------------------------\n",
      "Belongs to leader function: false\n",
      "------------------------------\n",
      "Value of miu: 0\n",
      "------------------------------\n",
      "Value of beta: 1\n",
      "------------------------------\n",
      "Value of lambda: 0\n",
      "------------------------------\n",
      "Value of gamma: 1\n",
      "------------------------------\n",
      "Restriction Definition Details\n",
      "------------------------------\n",
      "Restriction type: LtEq\n",
      "------------------------------\n",
      "Set type: Normal\n",
      "------------------------------\n",
      "Belongs to leader function: false\n",
      "------------------------------\n",
      "Value of miu: 0\n",
      "------------------------------\n",
      "Value of beta: 1\n",
      "------------------------------\n",
      "Value of lambda: 0\n",
      "------------------------------\n",
      "Value of gamma: 1\n",
      "------------------------------\n",
      "Restriction Definition Details\n",
      "------------------------------\n",
      "Restriction type: LtEq\n",
      "------------------------------\n",
      "Set type: Normal\n",
      "------------------------------\n",
      "Belongs to leader function: false\n",
      "------------------------------\n",
      "Value of miu: 0\n",
      "------------------------------\n",
      "Value of beta: 1\n",
      "------------------------------\n",
      "Value of lambda: 0\n",
      "------------------------------\n",
      "Value of gamma: 1\n",
      "------------------------------\n",
      "Restriction Definition Details\n",
      "------------------------------\n",
      "Restriction type: LtEq\n",
      "------------------------------\n",
      "Set type: Normal\n",
      "------------------------------\n",
      "Belongs to leader function: false\n",
      "------------------------------\n",
      "Value of miu: 0\n",
      "------------------------------\n",
      "Value of beta: 1\n",
      "------------------------------\n",
      "Value of lambda: 0\n",
      "------------------------------\n",
      "Value of gamma: 1\n",
      "------------------------------\n",
      "Restriction Definition Details\n",
      "------------------------------\n",
      "Restriction type: LtEq\n",
      "------------------------------\n",
      "Set type: Normal\n",
      "------------------------------\n",
      "Belongs to leader function: false\n",
      "------------------------------\n",
      "Value of miu: 0\n",
      "------------------------------\n",
      "Value of beta: 1\n",
      "------------------------------\n",
      "Value of lambda: 0\n",
      "------------------------------\n",
      "Value of gamma: 1\n",
      "------------------------------\n",
      "Restriction Definition Details\n",
      "------------------------------\n",
      "Restriction type: LtEq\n",
      "------------------------------\n",
      "Set type: Normal\n",
      "------------------------------\n",
      "Belongs to leader function: false\n",
      "------------------------------\n",
      "Value of miu: 0\n",
      "------------------------------\n",
      "Value of beta: 1\n",
      "------------------------------\n",
      "Value of lambda: 0\n",
      "------------------------------\n",
      "Value of gamma: 1\n",
      "------------------------------\n",
      "Restriction Definition Details\n",
      "------------------------------\n",
      "Restriction type: LtEq\n",
      "------------------------------\n",
      "Set type: Normal\n",
      "------------------------------\n",
      "Belongs to leader function: false\n",
      "------------------------------\n",
      "Value of miu: 0\n",
      "------------------------------\n",
      "Value of beta: 1\n",
      "------------------------------\n",
      "Value of lambda: 0\n",
      "------------------------------\n",
      "Value of gamma: 1\n",
      "------------------------------\n",
      "Restriction Definition Details\n",
      "------------------------------\n",
      "Restriction type: LtEq\n",
      "------------------------------\n",
      "Set type: Normal\n",
      "------------------------------\n",
      "Belongs to leader function: false\n",
      "------------------------------\n",
      "Value of miu: 0\n",
      "------------------------------\n",
      "Value of beta: 1\n",
      "------------------------------\n",
      "Value of lambda: 0\n",
      "------------------------------\n",
      "Value of gamma: 1\n",
      "------------------------------\n"
     ]
    }
   ],
   "source": [
    "v_s=[v_1,v_2,v_3,v_4,v_5]"
   ]
  },
  {
   "cell_type": "code",
   "execution_count": 17,
   "metadata": {},
   "outputs": [
    {
     "data": {
      "text/plain": [
       "2-element Vector{Int64}:\n",
       " 1\n",
       " 2"
      ]
     },
     "metadata": {},
     "output_type": "display_data"
    }
   ],
   "source": [
    "alpha=[1,2]"
   ]
  },
  {
   "cell_type": "markdown",
   "metadata": {},
   "source": [
    "## Ajustar condiciones de factibilidad "
   ]
  },
  {
   "cell_type": "markdown",
   "metadata": {},
   "source": [
    "#### Punto: $x_1 = 5$ $y_1=4$ $y_2=2$"
   ]
  },
  {
   "cell_type": "code",
   "execution_count": 18,
   "metadata": {},
   "outputs": [
    {
     "data": {
      "text/plain": [
       "Dict{String, Int64} with 3 entries:\n",
       "  \"x\"   => 5\n",
       "  \"y_2\" => 2\n",
       "  \"y_1\" => 4"
      ]
     },
     "metadata": {},
     "output_type": "display_data"
    }
   ],
   "source": [
    "point=Dict(\"x\"=>5,\"y_1\"=>4,\"y_2\"=>2)"
   ]
  },
  {
   "cell_type": "markdown",
   "metadata": {},
   "source": [
    "### Satisfacer el punto"
   ]
  },
  {
   "cell_type": "code",
   "execution_count": 19,
   "metadata": {},
   "outputs": [
    {
     "name": "stdout",
     "output_type": "stream",
     "text": [
      "Leader's Objective Function:\n",
      "Variable names: [:y_1, :y_2, :x]\n",
      "Expression (string): -x-3y_1+2y_2\n",
      "Parsed expression: 2y_2 - x - 3y_1\n",
      "Evaluation point: Dict(\"x\" => 5, \"y_2\" => 2, \"y_1\" => 4)\n",
      "Evaluation value: -13\n",
      "Is leader function: true\n",
      "------------------------------\n",
      "Leader's Restrictions:\n",
      "------------------------------\n",
      "Follower's Objective Function:\n",
      "Variable names: [:y_1]\n",
      "Expression (string): -y_1\n",
      "Parsed expression: -y_1\n",
      "Evaluation point: Dict(\"x\" => 5, \"y_2\" => 2, \"y_1\" => 4)\n",
      "Evaluation value: -4\n",
      "Is leader function: false\n",
      "------------------------------\n",
      "Follower's Restrictions:\n",
      "++++++++++++++++++++++++++++++\n",
      "Restriction 1\n",
      "Variable names: [:y_1]\n",
      "Expression (string): -y_1==0\n",
      "Parsed expression: -y_1\n",
      "Evaluation point: Dict(\"x\" => 5, \"y_2\" => 2, \"y_1\" => 4)\n",
      "Evaluation value: -4\n",
      "Additional constant: 0\n",
      "Restriction type: LtEq\n",
      "Restriction set type: Normal\n",
      "Value of miu: 0\n",
      "Value of beta: 1\n",
      "Value of lambda: 0\n",
      "Value of gamma: 1\n",
      "++++++++++++++++++++++++++++++\n",
      "++++++++++++++++++++++++++++++\n",
      "Restriction 2\n",
      "Variable names: [:y_1]\n",
      "Expression (string): y_1==4\n",
      "Parsed expression: y_1 - 4\n",
      "Evaluation point: Dict(\"x\" => 5, \"y_2\" => 2, \"y_1\" => 4)\n",
      "Evaluation value: 0\n",
      "Additional constant: 0\n",
      "Restriction type: LtEq\n",
      "Restriction set type: Normal\n",
      "Value of miu: 0\n",
      "Value of beta: 1\n",
      "Value of lambda: 0\n",
      "Value of gamma: 1\n",
      "++++++++++++++++++++++++++++++\n",
      "++++++++++++++++++++++++++++++\n",
      "Restriction 3\n",
      "Variable names: [:y_1, :y_2, :x]\n",
      "Expression (string): -2x+y_1+4y_2==16\n",
      "Parsed expression: y_1 + 4y_2 - 16 - 2x\n",
      "Evaluation point: Dict(\"x\" => 5, \"y_2\" => 2, \"y_1\" => 4)\n",
      "Evaluation value: -14\n",
      "Additional constant: 0\n",
      "Restriction type: LtEq\n",
      "Restriction set type: Normal\n",
      "Value of miu: 0\n",
      "Value of beta: 1\n",
      "Value of lambda: 0\n",
      "Value of gamma: 1\n",
      "++++++++++++++++++++++++++++++\n",
      "++++++++++++++++++++++++++++++\n",
      "Restriction 4\n",
      "Variable names: [:y_1, :y_2, :x]\n",
      "Expression (string): 8x+3y_1-2y_2==48\n",
      "Parsed expression: 3y_1 + 8x - 48 - 2y_2\n",
      "Evaluation point: Dict(\"x\" => 5, \"y_2\" => 2, \"y_1\" => 4)\n",
      "Evaluation value: 0\n",
      "Additional constant: 0\n",
      "Restriction type: LtEq\n",
      "Restriction set type: Normal\n",
      "Value of miu: 0\n",
      "Value of beta: 1\n",
      "Value of lambda: 0\n",
      "Value of gamma: 1\n",
      "++++++++++++++++++++++++++++++\n",
      "++++++++++++++++++++++++++++++\n",
      "Restriction 5\n",
      "Variable names: [:y, :y_2, :x]\n",
      "Expression (string): 2x+y-1-3y_2==-12\n",
      "Parsed expression: 11 + y + 2x - 3y_2\n",
      "Evaluation point: Dict(\"x\" => 5, \"y_2\" => 2, \"y_1\" => 4)\n",
      "Evaluation value: 15 + y\n",
      "Additional constant: 0\n",
      "Restriction type: LtEq\n",
      "Restriction set type: Normal\n",
      "Value of miu: 0\n",
      "Value of beta: 1\n",
      "Value of lambda: 0\n",
      "Value of gamma: 1\n",
      "++++++++++++++++++++++++++++++\n",
      "------------------------------\n",
      "Evaluation Point:\n",
      "Dict(\"x\" => 5, \"y_2\" => 2, \"y_1\" => 4)\n",
      "------------------------------\n",
      "_\n"
     ]
    },
    {
     "data": {
      "text/plain": []
     },
     "metadata": {},
     "output_type": "display_data"
    }
   ],
   "source": [
    "opt_problem=Fix_Restrictions(leader_func_str,g_s,Follower_str_expr,v_s,point,lider_vars,follower_vars,alpha,false)"
   ]
  },
  {
   "cell_type": "markdown",
   "metadata": {},
   "source": [
    "### Hallar vector BF"
   ]
  },
  {
   "cell_type": "code",
   "execution_count": 20,
   "metadata": {},
   "outputs": [
    {
     "data": {
      "text/latex": [
       "\\begin{equation}\n",
       "\\left[\n",
       "\\begin{array}{c}\n",
       "-7.0 \\\\\n",
       "-1.0 \\\\\n",
       "-1.0 \\\\\n",
       "\\end{array}\n",
       "\\right]\n",
       "\\end{equation}\n"
      ],
      "text/plain": [
       "3-element Vector{Num}:\n",
       " -7.0\n",
       " -1.0\n",
       " -1.0"
      ]
     },
     "metadata": {},
     "output_type": "display_data"
    }
   ],
   "source": [
    "BF_1=Make_BF(opt_problem,lider_vars,follower_vars,alpha)"
   ]
  },
  {
   "cell_type": "markdown",
   "metadata": {},
   "source": [
    "### Ejemplo si $\\alpha$ fuera el vector nulo "
   ]
  },
  {
   "cell_type": "code",
   "execution_count": 21,
   "metadata": {},
   "outputs": [
    {
     "data": {
      "text/plain": []
     },
     "metadata": {},
     "output_type": "display_data"
    },
    {
     "name": "stdout",
     "output_type": "stream",
     "text": [
      "Leader's Objective Function:\n",
      "Variable names: [:y_1, :y_2, :x]\n",
      "Expression (string): -x-3y_1+2y_2\n",
      "Parsed expression: 2y_2 - x - 3y_1\n",
      "Evaluation point: Dict(\"x\" => 5, \"y_2\" => 2, \"y_1\" => 4)\n",
      "Evaluation value: -13\n",
      "Is leader function: true\n",
      "------------------------------\n",
      "Leader's Restrictions:\n",
      "------------------------------\n",
      "Follower's Objective Function:\n",
      "Variable names: [:y_1]\n",
      "Expression (string): -y_1\n",
      "Parsed expression: -y_1\n",
      "Evaluation point: Dict(\"x\" => 5, \"y_2\" => 2, \"y_1\" => 4)\n",
      "Evaluation value: -4\n",
      "Is leader function: false\n",
      "------------------------------\n",
      "Follower's Restrictions:\n",
      "++++++++++++++++++++++++++++++\n",
      "Restriction 1\n",
      "Variable names: [:y_1]\n",
      "Expression (string): -y_1==0\n",
      "Parsed expression: -y_1\n",
      "Evaluation point: Dict(\"x\" => 5, \"y_2\" => 2, \"y_1\" => 4)\n",
      "Evaluation value: -4\n",
      "Additional constant: 0\n",
      "Restriction type: LtEq\n",
      "Restriction set type: Normal\n",
      "Value of miu: 0\n",
      "Value of beta: 1\n",
      "Value of lambda: 0\n",
      "Value of gamma: 1\n",
      "++++++++++++++++++++++++++++++\n",
      "++++++++++++++++++++++++++++++\n",
      "Restriction 2\n",
      "Variable names: [:y_1]\n",
      "Expression (string): y_1==4\n",
      "Parsed expression: y_1 - 4\n",
      "Evaluation point: Dict(\"x\" => 5, \"y_2\" => 2, \"y_1\" => 4)\n",
      "Evaluation value: 0\n",
      "Additional constant: 0\n",
      "Restriction type: LtEq\n",
      "Restriction set type: Normal\n",
      "Value of miu: 0\n",
      "Value of beta: 1\n",
      "Value of lambda: 0\n",
      "Value of gamma: 1\n",
      "++++++++++++++++++++++++++++++\n",
      "++++++++++++++++++++++++++++++\n",
      "Restriction 3\n",
      "Variable names: [:y_1, :y_2, :x]\n",
      "Expression (string): -2x+y_1+4y_2==16\n",
      "Parsed expression: y_1 + 4y_2 - 16 - 2x\n",
      "Evaluation point: Dict(\"x\" => 5, \"y_2\" => 2, \"y_1\" => 4)\n",
      "Evaluation value: -14\n",
      "Additional constant: 0\n",
      "Restriction type: LtEq\n",
      "Restriction set type: Normal\n",
      "Value of miu: 0\n",
      "Value of beta: 1\n",
      "Value of lambda: 0\n",
      "Value of gamma: 1\n",
      "++++++++++++++++++++++++++++++\n",
      "++++++++++++++++++++++++++++++\n",
      "Restriction 4\n",
      "Variable names: [:y_1, :y_2, :x]\n",
      "Expression (string): 8x+3y_1-2y_2==48\n",
      "Parsed expression: 3y_1 + 8x - 48 - 2y_2\n",
      "Evaluation point: Dict(\"x\" => 5, \"y_2\" => 2, \"y_1\" => 4)\n",
      "Evaluation value: 0\n",
      "Additional constant: 0\n",
      "Restriction type: LtEq\n",
      "Restriction set type: Normal\n",
      "Value of miu: 0\n",
      "Value of beta: 1\n",
      "Value of lambda: 0\n",
      "Value of gamma: 1\n",
      "++++++++++++++++++++++++++++++\n",
      "++++++++++++++++++++++++++++++\n",
      "Restriction 5\n",
      "Variable names: [:y, :y_2, :x]\n",
      "Expression (string): 2x+y-1-3y_2==-12\n",
      "Parsed expression: 11 + y + 2x - 3y_2\n",
      "Evaluation point: Dict(\"x\" => 5, \"y_2\" => 2, \"y_1\" => 4)\n",
      "Evaluation value: 15 + y\n",
      "Additional constant: 0\n",
      "Restriction type: LtEq\n",
      "Restriction set type: Normal\n",
      "Value of miu: 0\n",
      "Value of beta: 1\n",
      "Value of lambda: 0\n",
      "Value of gamma: 1\n",
      "++++++++++++++++++++++++++++++\n",
      "------------------------------\n",
      "Evaluation Point:\n",
      "Dict(\"x\" => 5, \"y_2\" => 2, \"y_1\" => 4)\n",
      "------------------------------\n",
      "_\n"
     ]
    }
   ],
   "source": [
    "opt_problem_2=Fix_Restrictions(leader_func_str,g_s,Follower_str_expr,v_s,point,lider_vars,follower_vars,alpha,true)"
   ]
  },
  {
   "cell_type": "code",
   "execution_count": 22,
   "metadata": {},
   "outputs": [
    {
     "data": {
      "text/latex": [
       "\\begin{equation}\n",
       "\\left[\n",
       "\\begin{array}{c}\n",
       "-7.0 \\\\\n",
       "-1.0 \\\\\n",
       "-1.0 \\\\\n",
       "\\end{array}\n",
       "\\right]\n",
       "\\end{equation}\n"
      ],
      "text/plain": [
       "3-element Vector{Num}:\n",
       " -7.0\n",
       " -1.0\n",
       " -1.0"
      ]
     },
     "metadata": {},
     "output_type": "display_data"
    }
   ],
   "source": [
    "BF_2=Make_BF(opt_problem_2,lider_vars,follower_vars,alpha)"
   ]
  }
 ],
 "metadata": {
  "kernelspec": {
   "display_name": "Julia 1.10.4",
   "language": "julia",
   "name": "julia-1.10"
  },
  "language_info": {
   "file_extension": ".jl",
   "mimetype": "application/julia",
   "name": "julia",
   "version": "1.10.4"
  }
 },
 "nbformat": 4,
 "nbformat_minor": 2
}
