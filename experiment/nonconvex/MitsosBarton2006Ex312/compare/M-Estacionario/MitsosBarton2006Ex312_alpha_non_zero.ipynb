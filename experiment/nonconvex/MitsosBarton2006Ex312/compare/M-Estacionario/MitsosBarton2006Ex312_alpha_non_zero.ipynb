{
 "cells": [
  {
   "cell_type": "markdown",
   "metadata": {},
   "source": [
    "## Importaciones necesarias"
   ]
  },
  {
   "cell_type": "code",
   "execution_count": 1,
   "metadata": {},
   "outputs": [],
   "source": [
    "using JuMP, Ipopt, Complementarity"
   ]
  },
  {
   "cell_type": "markdown",
   "metadata": {},
   "source": [
    "# Crear el modelo"
   ]
  },
  {
   "cell_type": "code",
   "execution_count": 2,
   "metadata": {},
   "outputs": [
    {
     "data": {
      "text/plain": [
       "A JuMP Model\n",
       "├ solver: Ipopt\n",
       "├ objective_sense: FEASIBILITY_SENSE\n",
       "├ num_variables: 0\n",
       "├ num_constraints: 0\n",
       "└ Names registered in the model: none"
      ]
     },
     "metadata": {},
     "output_type": "display_data"
    }
   ],
   "source": [
    "# Crear el modelo\n",
    "model = Model(Ipopt.Optimizer)"
   ]
  },
  {
   "cell_type": "markdown",
   "metadata": {},
   "source": [
    "## Definir Variables\n"
   ]
  },
  {
   "cell_type": "code",
   "execution_count": 3,
   "metadata": {},
   "outputs": [
    {
     "data": {
      "text/plain": [
       "1-element Vector{VariableRef}:\n",
       " l[1]"
      ]
     },
     "metadata": {},
     "output_type": "display_data"
    }
   ],
   "source": [
    "# Definir la x\n",
    "@variable(model,x)\n",
    "# Definir la y\n",
    "@variable(model,y)\n",
    "#Definir las l como variables de complementariedad\n",
    "@variable(model,l[1:1])"
   ]
  },
  {
   "cell_type": "markdown",
   "metadata": {},
   "source": [
    "## Definir Objetivo\n"
   ]
  },
  {
   "cell_type": "code",
   "execution_count": 4,
   "metadata": {},
   "outputs": [
    {
     "data": {
      "text/latex": [
       "$ x\\times y + 10 y^2 - x $"
      ],
      "text/plain": [
       "x*y + 10 y² - x"
      ]
     },
     "metadata": {},
     "output_type": "display_data"
    }
   ],
   "source": [
    "@objective(model,Min,-x+x*y+10y^2)"
   ]
  },
  {
   "cell_type": "markdown",
   "metadata": {},
   "source": [
    "## Definir Restricciones\n"
   ]
  },
  {
   "cell_type": "code",
   "execution_count": 5,
   "metadata": {},
   "outputs": [
    {
     "data": {
      "text/latex": [
       "$$ ((-2.0 * x) * y + 2.0 * y ^ {3.0} + 0.4 * l[1]) - 0.0 = 0 $$"
      ],
      "text/plain": [
       "((-2.0 * x) * y + 2.0 * y ^ 3.0 + 0.4 * l[1]) - 0.0 == 0"
      ]
     },
     "metadata": {},
     "output_type": "display_data"
    }
   ],
   "source": [
    "@NLconstraint(model,-2x*y+2y^3+(0.4*l[1])==0) # Obj nivel inferior"
   ]
  },
  {
   "cell_type": "code",
   "execution_count": 6,
   "metadata": {},
   "outputs": [
    {
     "data": {
      "text/plain": [
       "(-x <= -0.8, x <= 0.8, 0.4 y <= 0.74)"
      ]
     },
     "metadata": {},
     "output_type": "display_data"
    }
   ],
   "source": [
    "@constraints(model,begin\n",
    "\n",
    "0.8 - x<=0  #gs\n",
    "-0.8 + x<=0  #gs\n",
    "#-1 + 11.18y<=0  #vs\n",
    "-0.74 + 0.4y<=0 #vs\n",
    "end)"
   ]
  },
  {
   "cell_type": "markdown",
   "metadata": {},
   "source": [
    "## Definir variables Complementarias"
   ]
  },
  {
   "cell_type": "code",
   "execution_count": 8,
   "metadata": {},
   "outputs": [
    {
     "data": {
      "text/latex": [
       "$$ (sqrt(l[1] ^ {2.0} + (0.74 + -0.4 * y) ^ {2.0} + 1.0e-8) - (l[1] + (0.74 + -0.4 * y))) - 0.0 = 0 $$"
      ],
      "text/plain": [
       "(sqrt(l[1] ^ 2.0 + (0.74 + -0.4 * y) ^ 2.0 + 1.0e-8) - (l[1] + (0.74 + -0.4 * y))) - 0.0 == 0"
      ]
     },
     "metadata": {},
     "output_type": "display_data"
    }
   ],
   "source": [
    "#@complements(model,0<=-(-1 + 11.18y),l[1]>=0)\n",
    "@complements(model,0<=-(-0.74 + 0.4y),l[1]>=0)"
   ]
  },
  {
   "cell_type": "markdown",
   "metadata": {},
   "source": [
    "## Optimizar"
   ]
  },
  {
   "cell_type": "code",
   "execution_count": 9,
   "metadata": {},
   "outputs": [
    {
     "name": "stdout",
     "output_type": "stream",
     "text": [
      "\n",
      "******************************************************************************\n",
      "This program contains Ipopt, a library for large-scale nonlinear optimization.\n",
      " Ipopt is released as open source code under the Eclipse Public License (EPL).\n",
      "         For more information visit https://github.com/coin-or/Ipopt\n",
      "******************************************************************************\n",
      "\n",
      "This is Ipopt version 3.14.16, running with linear solver MUMPS 5.7.3.\n",
      "\n",
      "Number of nonzeros in equality constraint Jacobian...:        5\n",
      "Number of nonzeros in inequality constraint Jacobian.:        6\n",
      "Number of nonzeros in Lagrangian Hessian.............:        8\n",
      "\n",
      "Total number of variables............................:        3\n",
      "                     variables with only lower bounds:        0\n",
      "                variables with lower and upper bounds:        0\n",
      "                     variables with only upper bounds:        0\n",
      "Total number of equality constraints.................:        2\n",
      "Total number of inequality constraints...............:        6\n",
      "        inequality constraints with only lower bounds:        3\n",
      "   inequality constraints with lower and upper bounds:        0\n",
      "        inequality constraints with only upper bounds:        3\n",
      "\n",
      "iter    objective    inf_pr   inf_du lg(mu)  ||d||  lg(rg) alpha_du alpha_pr  ls\n",
      "   0  0.0000000e+00 8.00e-01 1.00e+00  -1.0 0.00e+00    -  0.00e+00 0.00e+00   0\n",
      "   1  1.5838330e+00 6.02e-01 5.16e+09  -1.7 1.85e+00    -  3.58e-01 2.34e-01h  3\n",
      "   2  1.6538888e+00 5.95e-01 4.86e+09  -1.7 4.43e-01  10.0 9.67e-01 4.20e-02h  1\n",
      "   3  5.3168073e+00 3.00e-01 9.45e+09  -1.7 1.04e+00   9.5 6.92e-04 3.35e-01h  2\n",
      "   4  6.1858838e+00 5.16e-02 3.52e+08  -1.7 2.87e-01    -  1.00e+00 8.67e-01h  1\n",
      "   5  6.1876777e+00 5.10e-02 3.42e+08  -1.7 3.19e-02    -  1.00e+00 2.96e-02h  1\n",
      "   6  6.1876985e+00 5.10e-02 3.42e+08  -1.7 3.00e-02    -  1.00e+00 3.15e-04h  1\n",
      "   7  6.1972271e+00 4.94e-02 3.31e+08  -1.7 5.10e-02    -  1.00e+00 3.23e-02h  1\n",
      "   8  6.4840446e+00 6.30e-04 8.64e+06  -1.7 4.94e-02    -  1.00e+00 9.90e-01h  1\n",
      "   9  6.4844539e+00 6.25e-06 8.67e+04  -1.7 4.94e-04    -  9.90e-01 9.90e-01h  1\n",
      "iter    objective    inf_pr   inf_du lg(mu)  ||d||  lg(rg) alpha_du alpha_pr  ls\n",
      "  10  6.4844582e+00 3.54e-06 1.50e+05  -1.7 5.64e-06    -  1.00e+00 4.34e-01f  2\n",
      "  11  6.4844639e+00 2.84e-06 3.84e+05  -1.7 6.24e-06    -  1.00e+00 1.98e-01f  2\n",
      "  12  6.4844596e+00 2.61e-07 5.99e+04  -1.7 1.37e-06    -  1.00e+00 9.08e-01h  1\n",
      "  13  6.4844589e+00 2.21e-07 4.18e+05  -1.7 6.90e-07    -  1.00e+00 1.53e-01f  2\n",
      "  14  6.4844582e+00 6.01e-10 1.32e+03  -1.7 1.07e-07    -  1.00e+00 9.97e-01h  1\n",
      "  15  6.4844583e+00 4.75e-10 1.24e+06  -1.7 4.59e-08    -  1.00e+00 2.09e-01f  2\n",
      "  16  6.4844583e+00 3.21e-17 5.34e-06  -1.7 5.86e-10    -  1.00e+00 1.00e+00h  1\n",
      "  17  6.4844583e+00 2.54e-16 3.22e+00  -8.6 2.10e-14    -  1.00e+00 1.00e+00h  1\n",
      "  18  6.4844582e+00 4.08e-16 2.51e-14  -8.6 9.98e-09    -  1.00e+00 1.00e+00h  1\n",
      "\n",
      "Number of Iterations....: 18\n",
      "\n",
      "                                   (scaled)                 (unscaled)\n",
      "Objective...............:   6.4844581804491757e+00    6.4844581804491757e+00\n",
      "Dual infeasibility......:   2.5118795932144167e-14    2.5118795932144167e-14\n",
      "Constraint violation....:   4.0828029271253327e-16    4.0828029271253327e-16\n",
      "Variable bound violation:   0.0000000000000000e+00    0.0000000000000000e+00\n",
      "Complementarity.........:   4.9049041361593311e-09    4.9049041361593311e-09\n",
      "Overall NLP error.......:   4.9049041361593311e-09    4.9049041361593311e-09\n",
      "\n",
      "\n",
      "Number of objective function evaluations             = 29\n",
      "Number of objective gradient evaluations             = 19\n",
      "Number of equality constraint evaluations            = 30\n",
      "Number of inequality constraint evaluations          = 30\n",
      "Number of equality constraint Jacobian evaluations   = 19\n",
      "Number of inequality constraint Jacobian evaluations = 19\n",
      "Number of Lagrangian Hessian evaluations             = 18\n",
      "Total seconds in IPOPT                               = 1.765\n",
      "\n",
      "EXIT: Optimal Solution Found.\n"
     ]
    }
   ],
   "source": [
    "# Resolver el modelo\n",
    "optimize!(model)"
   ]
  },
  {
   "cell_type": "markdown",
   "metadata": {},
   "source": [
    "# Mostrar resultados"
   ]
  },
  {
   "cell_type": "code",
   "execution_count": 10,
   "metadata": {},
   "outputs": [
    {
     "name": "stdout",
     "output_type": "stream",
     "text": [
      "Estado de la solución: LOCALLY_SOLVED\n",
      "Valor óptimo de x: 0.7999999900135256\n",
      "Valor óptimo de y1: -0.8944271859866426\n",
      "Valores óptimos de l: [4.554684496931874e-9]\n"
     ]
    }
   ],
   "source": [
    "# Mostrar resultados\n",
    "println(\"Estado de la solución: \", termination_status(model))\n",
    "println(\"Valor óptimo de x: \", value(x))\n",
    "println(\"Valor óptimo de y1: \", value(y))\n",
    "#println(\"Valor óptimo de y2: \", value(y2))\n",
    "#println(\"Valores óptimos de s: \", value.(s))\n",
    "println(\"Valores óptimos de l: \", value.(l))"
   ]
  },
  {
   "cell_type": "code",
   "execution_count": 11,
   "metadata": {},
   "outputs": [
    {
     "data": {
      "text/plain": [
       "6.484458180449176"
      ]
     },
     "metadata": {},
     "output_type": "display_data"
    }
   ],
   "source": [
    "objective_value(model)"
   ]
  },
  {
   "cell_type": "code",
   "execution_count": null,
   "metadata": {},
   "outputs": [],
   "source": []
  }
 ],
 "metadata": {
  "kernelspec": {
   "display_name": "Julia 1.10.5",
   "language": "julia",
   "name": "julia-1.10"
  },
  "language_info": {
   "file_extension": ".jl",
   "mimetype": "application/julia",
   "name": "julia",
   "version": "1.10.5"
  }
 },
 "nbformat": 4,
 "nbformat_minor": 2
}
