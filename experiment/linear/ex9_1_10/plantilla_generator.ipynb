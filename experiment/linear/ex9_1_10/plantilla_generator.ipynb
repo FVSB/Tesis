{
 "cells": [
  {
   "cell_type": "markdown",
   "metadata": {},
   "source": [
    "## Importar el módulo\n"
   ]
  },
  {
   "cell_type": "code",
   "execution_count": 1,
   "metadata": {},
   "outputs": [
    {
     "data": {
      "text/plain": [
       "RunExperiment"
      ]
     },
     "metadata": {},
     "output_type": "display_data"
    }
   ],
   "source": [
    "include(\"../../new_experiment.jl\")"
   ]
  },
  {
   "cell_type": "code",
   "execution_count": 2,
   "metadata": {},
   "outputs": [
    {
     "data": {
      "text/plain": [
       "TaskLocalRNG()"
      ]
     },
     "metadata": {},
     "output_type": "display_data"
    }
   ],
   "source": [
    "using Random\n",
    "\n",
    "# Random seed\n",
    "Random.seed!(5)"
   ]
  },
  {
   "cell_type": "markdown",
   "metadata": {},
   "source": [
    "Crear un experimento\n"
   ]
  },
  {
   "cell_type": "code",
   "execution_count": 3,
   "metadata": {},
   "outputs": [
    {
     "data": {
      "text/plain": [
       "Experiment(OptimizationModel(Problem(Any[], nothing), LeaderRestrictionProblem[], Problem(Any[], nothing), FollowerRestrictionProblem[], Dict{Any, Any}(), Number[1], false), OptimizationModel(Problem(Any[], nothing), LeaderRestrictionProblem[], Problem(Any[], nothing), FollowerRestrictionProblem[], Dict{Any, Any}(), Number[], true), Any[], Any[])"
      ]
     },
     "metadata": {},
     "output_type": "display_data"
    }
   ],
   "source": [
    "experiment=CreateExperiment()"
   ]
  },
  {
   "cell_type": "markdown",
   "metadata": {},
   "source": [
    "### Declarar variables del líder\n"
   ]
  },
  {
   "cell_type": "code",
   "execution_count": 4,
   "metadata": {},
   "outputs": [
    {
     "data": {
      "text/latex": [
       "$$ \\begin{equation}\n",
       "\\left[\n",
       "\\begin{array}{c}\n",
       "\\mathtt{x\\_1} \\\\\n",
       "\\mathtt{x\\_2} \\\\\n",
       "\\end{array}\n",
       "\\right]\n",
       "\\end{equation}\n",
       " $$"
      ],
      "text/plain": [
       "2-element Vector{Num}:\n",
       " x_1\n",
       " x_2"
      ]
     },
     "metadata": {},
     "output_type": "display_data"
    }
   ],
   "source": [
    "@leader_vars experiment x_1,x_2"
   ]
  },
  {
   "cell_type": "markdown",
   "metadata": {},
   "source": [
    "### Declarar Variables del Follower"
   ]
  },
  {
   "cell_type": "code",
   "execution_count": 5,
   "metadata": {},
   "outputs": [
    {
     "data": {
      "text/latex": [
       "$$ \\begin{equation}\n",
       "\\left[\n",
       "\\begin{array}{c}\n",
       "\\mathtt{y\\_1} \\\\\n",
       "\\mathtt{y\\_2} \\\\\n",
       "\\end{array}\n",
       "\\right]\n",
       "\\end{equation}\n",
       " $$"
      ],
      "text/plain": [
       "2-element Vector{Num}:\n",
       " y_1\n",
       " y_2"
      ]
     },
     "metadata": {},
     "output_type": "display_data"
    }
   ],
   "source": [
    "@follower_vars experiment y_1,y_2"
   ]
  },
  {
   "cell_type": "markdown",
   "metadata": {},
   "source": [
    "### Declarar Función Objetivo del Líder"
   ]
  },
  {
   "cell_type": "code",
   "execution_count": 6,
   "metadata": {},
   "outputs": [
    {
     "data": {
      "text/latex": [
       "$$ \\begin{equation}\n",
       " - 2 \\mathtt{x\\_1} + \\mathtt{x\\_2} + 0.5 \\mathtt{y\\_1}\n",
       "\\end{equation}\n",
       " $$"
      ],
      "text/plain": [
       "-2x_1 + x_2 + 0.5y_1"
      ]
     },
     "metadata": {},
     "output_type": "display_data"
    }
   ],
   "source": [
    "SetLeaderFunction(experiment,-2x_1+x_2+0.5y_1)"
   ]
  },
  {
   "cell_type": "markdown",
   "metadata": {},
   "source": [
    "### Función objetivo del Follower"
   ]
  },
  {
   "cell_type": "code",
   "execution_count": 7,
   "metadata": {},
   "outputs": [
    {
     "data": {
      "text/latex": [
       "$$ \\begin{equation}\n",
       "\\mathtt{x\\_1} + \\mathtt{x\\_2} - 4 \\mathtt{y\\_1} + \\mathtt{y\\_2}\n",
       "\\end{equation}\n",
       " $$"
      ],
      "text/plain": [
       "x_1 + x_2 - 4y_1 + y_2"
      ]
     },
     "metadata": {},
     "output_type": "display_data"
    }
   ],
   "source": [
    "SetFollowerFunction(experiment,-4y_1+y_2+x_1+x_2)"
   ]
  },
  {
   "cell_type": "markdown",
   "metadata": {},
   "source": [
    "### Restricciones del Follower"
   ]
  },
  {
   "cell_type": "code",
   "execution_count": 8,
   "metadata": {},
   "outputs": [
    {
     "data": {
      "text/plain": [
       "1-element Vector{FollowerRestrictionProblem}:\n",
       " FollowerRestrictionProblem((-2x_1 + y_1 - y_2) <= -2.5, J_0_LP_v, 0.98, 0.92, 0.01)"
      ]
     },
     "metadata": {},
     "output_type": "display_data"
    }
   ],
   "source": [
    "SetFollowerRestriction(experiment,-2x_1+y_1-y_2<=-2.5)"
   ]
  },
  {
   "cell_type": "code",
   "execution_count": 9,
   "metadata": {},
   "outputs": [
    {
     "data": {
      "text/plain": [
       "2-element Vector{FollowerRestrictionProblem}:\n",
       " FollowerRestrictionProblem((-2x_1 + y_1 - y_2) <= -2.5, J_0_LP_v, 0.98, 0.92, 0.01)\n",
       " FollowerRestrictionProblem((x_1 - 3x_2 + y_2) <= 2, J_0_LP_v, 0.55, 0.36, 0.41)"
      ]
     },
     "metadata": {},
     "output_type": "display_data"
    }
   ],
   "source": [
    "SetFollowerRestriction(experiment,x_1-3x_2+y_2<=2)"
   ]
  },
  {
   "cell_type": "code",
   "execution_count": 10,
   "metadata": {},
   "outputs": [
    {
     "data": {
      "text/plain": [
       "3-element Vector{FollowerRestrictionProblem}:\n",
       " FollowerRestrictionProblem((-2x_1 + y_1 - y_2) <= -2.5, J_0_LP_v, 0.98, 0.92, 0.01)\n",
       " FollowerRestrictionProblem((x_1 - 3x_2 + y_2) <= 2, J_0_LP_v, 0.55, 0.36, 0.41)\n",
       " FollowerRestrictionProblem((-y_1) <= 0, J_0_LP_v, 0.81, 0.49, 0.38)"
      ]
     },
     "metadata": {},
     "output_type": "display_data"
    }
   ],
   "source": [
    "SetFollowerRestriction(experiment,-y_1<=0)"
   ]
  },
  {
   "cell_type": "code",
   "execution_count": 11,
   "metadata": {},
   "outputs": [
    {
     "data": {
      "text/plain": [
       "4-element Vector{FollowerRestrictionProblem}:\n",
       " FollowerRestrictionProblem((-2x_1 + y_1 - y_2) <= -2.5, J_0_LP_v, 0.98, 0.92, 0.01)\n",
       " FollowerRestrictionProblem((x_1 - 3x_2 + y_2) <= 2, J_0_LP_v, 0.55, 0.36, 0.41)\n",
       " FollowerRestrictionProblem((-y_1) <= 0, J_0_LP_v, 0.81, 0.49, 0.38)\n",
       " FollowerRestrictionProblem((-y_2) <= 0, J_0_LP_v, 0.91, 0.75, 0.6)"
      ]
     },
     "metadata": {},
     "output_type": "display_data"
    }
   ],
   "source": [
    "SetFollowerRestriction(experiment,-y_2<=0)"
   ]
  },
  {
   "cell_type": "markdown",
   "metadata": {},
   "source": [
    "### Poner el Punto Optimo"
   ]
  },
  {
   "cell_type": "code",
   "execution_count": 12,
   "metadata": {},
   "outputs": [
    {
     "data": {
      "text/plain": [
       "Dict{Any, Any} with 4 entries:\n",
       "  x_1 => 51.55\n",
       "  x_2 => 18.1\n",
       "  y_1 => 102.2\n",
       "  y_2 => 0.2"
      ]
     },
     "metadata": {},
     "output_type": "display_data"
    }
   ],
   "source": [
    "SetPoint(experiment,Dict(x_1=>51.2,x_2=>16.4,y_1=>100,y_2=>0))"
   ]
  },
  {
   "cell_type": "markdown",
   "metadata": {},
   "source": [
    "## Iniciar el Experimento\n"
   ]
  },
  {
   "cell_type": "code",
   "execution_count": 13,
   "metadata": {},
   "outputs": [
    {
     "name": "stdout",
     "output_type": "stream",
     "text": [
      "Va a retornar correctamente\n",
      "Leader's Objective Function:\n",
      "Variable names: [:x_1, :y_1, :x_2]\n",
      "Expression (string): -2x_1 + x_2 + 0.5y_1\n",
      "Parsed expression: -2x_1 + x_2 + 0.5y_1\n",
      "Evaluation point: Dict{Any, Any}(\"x_1\" => 51.550000000000004, \"x_2\" => 18.099999999999998, \"y_2\" => 0.2, \"y_1\" => 102.2)\n",
      "Evaluation value: -33.90000000000001\n",
      "Is leader function: true\n",
      "------------------------------\n",
      "Leader's Restrictions:\n",
      "------------------------------\n",
      "Follower's Objective Function:\n",
      "Variable names: [:x_1, :y_1, :x_2, :y_2]\n",
      "Expression (string): x_1 + x_2 - 4y_1 + y_2\n",
      "Parsed expression: x_1 + x_2 - 4y_1 + y_2\n",
      "Evaluation point: Dict{Any, Any}(\"x_1\" => 51.550000000000004, \"x_2\" => 18.099999999999998, \"y_2\" => 0.2, \"y_1\" => 102.2)\n",
      "Evaluation value: -338.95\n",
      "Is leader function: false\n",
      "------------------------------\n",
      "Follower's Restrictions:\n",
      "++++++++++++++++++++++++++++++\n",
      "Restriction 1\n",
      "Variable names: [:x_1, :y_1, :y_2]\n",
      "Expression (string): (-2x_1 + y_1 - y_2) == -2.5\n",
      "Parsed expression: -12.217254528122025 - 2x_1 + 1.128693994280267y_1 - 0.1763584366062918y_2\n",
      "Evaluation point: Dict{Any, Any}(\"x_1\" => 51.550000000000004, \"x_2\" => 18.099999999999998, \"y_2\" => 0.2, \"y_1\" => 102.2)\n",
      "Evaluation value: 14.717254528122025\n",
      "Additional constant: -14.717254528122025\n",
      "Restriction type: LtEq\n",
      "Restriction set type: J_0_L0_v\n",
      "Value of miu: 0\n",
      "Value of beta: 0\n",
      "Value of lambda: 0.92\n",
      "Value of gamma: 0\n",
      "++++++++++++++++++++++++++++++\n",
      "++++++++++++++++++++++++++++++\n",
      "Restriction 2\n",
      "Variable names: [:x_1, :x_2, :y_2]\n",
      "Expression (string): (x_1 - 3x_2 + y_2) == 2\n",
      "Parsed expression: 18.33341277407054 + x_1 - 3x_2 - 0.15252621544327932y_1 + 0.023832221163012424y_2\n",
      "Evaluation point: Dict{Any, Any}(\"x_1\" => 51.550000000000004, \"x_2\" => 18.099999999999998, \"y_2\" => 0.2, \"y_1\" => 102.2)\n",
      "Evaluation value: -20.33341277407054\n",
      "Additional constant: 20.33341277407054\n",
      "Restriction type: LtEq\n",
      "Restriction set type: J_0_L0_v\n",
      "Value of miu: 0\n",
      "Value of beta: 0\n",
      "Value of lambda: 0.36\n",
      "Value of gamma: 0\n",
      "++++++++++++++++++++++++++++++\n",
      "++++++++++++++++++++++++++++++\n",
      "Restriction 3\n",
      "Variable names: [:y_1]\n",
      "Expression (string): (-y_1) == 0\n",
      "Parsed expression: 99.73384175405148 - 0.9761677788369876y_1 + 0.15252621544327932y_2\n",
      "Evaluation point: Dict{Any, Any}(\"x_1\" => 51.550000000000004, \"x_2\" => 18.099999999999998, \"y_2\" => 0.2, \"y_1\" => 102.2)\n",
      "Evaluation value: -99.73384175405148\n",
      "Additional constant: 99.73384175405148\n",
      "Restriction type: LtEq\n",
      "Restriction set type: J_0_LP_v\n",
      "Value of miu: 0\n",
      "Value of beta: 0\n",
      "Value of lambda: 0.49\n",
      "Value of gamma: 0\n",
      "++++++++++++++++++++++++++++++\n",
      "++++++++++++++++++++++++++++++\n",
      "Restriction 4\n",
      "Variable names: [:y_2]\n",
      "Expression (string): (-y_2) == 0\n",
      "Parsed expression: -15.753412774070544 + 0.15252621544327932y_1 - 0.023832221163012424y_2\n",
      "Evaluation point: Dict{Any, Any}(\"x_1\" => 51.550000000000004, \"x_2\" => 18.099999999999998, \"y_2\" => 0.2, \"y_1\" => 102.2)\n",
      "Evaluation value: 15.583412774070544\n",
      "Additional constant: -15.753412774070544\n",
      "Restriction type: LtEq\n",
      "Restriction set type: J_Ne_L0_v\n",
      "Value of miu: 0\n",
      "Value of beta: 0\n",
      "Value of lambda: 0.75\n",
      "Value of gamma: 0\n",
      "++++++++++++++++++++++++++++++\n",
      "------------------------------\n",
      "Evaluation Point:\n",
      "Dict{Any, Any}(\"x_1\" => 51.550000000000004, \"x_2\" => 18.099999999999998, \"y_2\" => 0.2, \"y_1\" => 102.2)\n",
      "------------------------------\n",
      "_\n",
      "\n",
      "Num[2.0, -1.0, -0.5, -0.0]\n",
      "Va a retornar correctamente\n",
      "Leader's Objective Function:\n",
      "Variable names: [:x_1, :y_1, :x_2]\n",
      "Expression (string): -2x_1 + x_2 + 0.5y_1\n",
      "Parsed expression: -2x_1 + x_2 + 0.5y_1\n",
      "Evaluation point: Dict{Any, Any}(\"x_1\" => 51.550000000000004, \"x_2\" => 18.099999999999998, \"y_2\" => 0.2, \"y_1\" => 102.2)\n",
      "Evaluation value: -33.90000000000001\n",
      "Is leader function: true\n",
      "------------------------------\n",
      "Leader's Restrictions:\n",
      "------------------------------\n",
      "Follower's Objective Function:\n",
      "Variable names: [:x_1, :y_1, :x_2, :y_2]\n",
      "Expression (string): x_1 + x_2 - 4y_1 + y_2\n",
      "Parsed expression: x_1 + x_2 - 4y_1 + y_2\n",
      "Evaluation point: Dict{Any, Any}(\"x_1\" => 51.550000000000004, \"x_2\" => 18.099999999999998, \"y_2\" => 0.2, \"y_1\" => 102.2)\n",
      "Evaluation value: -338.95\n",
      "Is leader function: false\n",
      "------------------------------\n",
      "Follower's Restrictions:\n",
      "++++++++++++++++++++++++++++++\n",
      "Restriction 1\n",
      "Variable names: [:x_1, :y_1, :y_2]\n",
      "Expression (string): (-2x_1 + y_1 - y_2) == -2.5\n",
      "Parsed expression: 1.1000000000000056 - 2x_1 + y_1 - y_2\n",
      "Evaluation point: Dict{Any, Any}(\"x_1\" => 51.550000000000004, \"x_2\" => 18.099999999999998, \"y_2\" => 0.2, \"y_1\" => 102.2)\n",
      "Evaluation value: 1.3999999999999944\n",
      "Additional constant: -1.3999999999999944\n",
      "Restriction type: LtEq\n",
      "Restriction set type: J_0_L0_v\n",
      "Value of miu: 0\n",
      "Value of beta: 0\n",
      "Value of lambda: 0.92\n",
      "Value of gamma: 0\n",
      "++++++++++++++++++++++++++++++\n",
      "++++++++++++++++++++++++++++++\n",
      "Restriction 2\n",
      "Variable names: [:x_1, :x_2, :y_2]\n",
      "Expression (string): (x_1 - 3x_2 + y_2) == 2\n",
      "Parsed expression: 2.5499999999999927 + x_1 - 3x_2 + y_2\n",
      "Evaluation point: Dict{Any, Any}(\"x_1\" => 51.550000000000004, \"x_2\" => 18.099999999999998, \"y_2\" => 0.2, \"y_1\" => 102.2)\n",
      "Evaluation value: -4.549999999999993\n",
      "Additional constant: 4.549999999999993\n",
      "Restriction type: LtEq\n",
      "Restriction set type: J_0_L0_v\n",
      "Value of miu: 0\n",
      "Value of beta: 0\n",
      "Value of lambda: 0.36\n",
      "Value of gamma: 0\n",
      "++++++++++++++++++++++++++++++\n",
      "++++++++++++++++++++++++++++++\n",
      "Restriction 3\n",
      "Variable names: [:y_1]\n",
      "Expression (string): (-y_1) == 0\n",
      "Parsed expression: 102.2 - y_1\n",
      "Evaluation point: Dict{Any, Any}(\"x_1\" => 51.550000000000004, \"x_2\" => 18.099999999999998, \"y_2\" => 0.2, \"y_1\" => 102.2)\n",
      "Evaluation value: -102.2\n",
      "Additional constant: 102.2\n",
      "Restriction type: LtEq\n",
      "Restriction set type: J_0_LP_v\n",
      "Value of miu: 0\n",
      "Value of beta: 0\n",
      "Value of lambda: 0.49\n",
      "Value of gamma: 0\n",
      "++++++++++++++++++++++++++++++\n",
      "++++++++++++++++++++++++++++++\n",
      "Restriction 4\n",
      "Variable names: [:y_2]\n",
      "Expression (string): (-y_2) == 0\n",
      "Parsed expression: -0.2 - y_2\n",
      "Evaluation point: Dict{Any, Any}(\"x_1\" => 51.550000000000004, \"x_2\" => 18.099999999999998, \"y_2\" => 0.2, \"y_1\" => 102.2)\n",
      "Evaluation value: -0.2\n",
      "Additional constant: -0.2\n",
      "Restriction type: LtEq\n",
      "Restriction set type: J_Ne_L0_v\n",
      "Value of miu: 0\n",
      "Value of beta: -2.4\n",
      "Value of lambda: 0.75\n",
      "Value of gamma: -5.300000000000001\n",
      "++++++++++++++++++++++++++++++\n",
      "------------------------------\n",
      "Evaluation Point:\n",
      "Dict{Any, Any}(\"x_1\" => 51.550000000000004, \"x_2\" => 18.099999999999998, \"y_2\" => 0.2, \"y_1\" => 102.2)\n",
      "------------------------------\n",
      "_\n",
      "\n",
      "Num[2.0, -1.0, -0.5, -2.4]\n",
      "Se va a crear el DataFrame\n",
      "Se va a crear el DataFrame\n",
      "Carpeta creada: d:\\GitHub\\Tesis\\experiment\\linear\\ex9.1.10\\Experimentos_Generador\n",
      "Se va a crear el DataFrame\n",
      "La carpeta ya existe: d:\\GitHub\\Tesis\\experiment\\linear\\ex9.1.10\\Experimentos_Generador\n",
      "Experimento Completado\n",
      "Va a retornar correctamente\n",
      "Leader's Objective Function:\n",
      "Variable names: [:x_1, :y_1, :x_2]\n",
      "Expression (string): -2x_1 + x_2 + 0.5y_1\n",
      "Parsed expression: -2x_1 + x_2 + 0.5y_1\n",
      "Evaluation point: Dict{Any, Any}(\"x_1\" => 51.550000000000004, \"x_2\" => 18.099999999999998, \"y_2\" => 0.2, \"y_1\" => 102.2)\n",
      "Evaluation value: -33.90000000000001\n",
      "Is leader function: true\n",
      "------------------------------\n",
      "Leader's Restrictions:\n",
      "------------------------------\n",
      "Follower's Objective Function:\n",
      "Variable names: [:x_1, :y_1, :x_2, :y_2]\n",
      "Expression (string): x_1 + x_2 - 4y_1 + y_2\n",
      "Parsed expression: x_1 + x_2 - 4y_1 + y_2\n",
      "Evaluation point: Dict{Any, Any}(\"x_1\" => 51.550000000000004, \"x_2\" => 18.099999999999998, \"y_2\" => 0.2, \"y_1\" => 102.2)\n",
      "Evaluation value: -338.95\n",
      "Is leader function: false\n",
      "------------------------------\n",
      "Follower's Restrictions:\n",
      "++++++++++++++++++++++++++++++\n",
      "Restriction 1\n",
      "Variable names: [:x_1, :y_1, :y_2]\n",
      "Expression (string): (-2x_1 + y_1 - y_2) == -2.5\n",
      "Parsed expression: -266.230831769856 - 2x_1 + 3.6141338336460276y_1 - 0.1682301438399002y_2\n",
      "Evaluation point: Dict{Any, Any}(\"x_1\" => 51.550000000000004, \"x_2\" => 18.099999999999998, \"y_2\" => 0.2, \"y_1\" => 102.2)\n",
      "Evaluation value: 268.730831769856\n",
      "Additional constant: -268.730831769856\n",
      "Restriction type: LtEq\n",
      "Restriction set type: J_0_L0_v\n",
      "Value of miu: 0\n",
      "Value of beta: 0\n",
      "Value of lambda: 0.92\n",
      "Value of gamma: 4.699999999999999\n",
      "++++++++++++++++++++++++++++++\n",
      "++++++++++++++++++++++++++++++\n",
      "Restriction 2\n",
      "Variable names: [:x_1, :x_2, :y_2]\n",
      "Expression (string): (x_1 - 3x_2 + y_2) == 2\n",
      "Parsed expression: 32.09709193245777 + x_1 - 3x_2 - 0.28893058161350843y_1 + 0.9080675422138836y_2\n",
      "Evaluation point: Dict{Any, Any}(\"x_1\" => 51.550000000000004, \"x_2\" => 18.099999999999998, \"y_2\" => 0.2, \"y_1\" => 102.2)\n",
      "Evaluation value: -34.09709193245777\n",
      "Additional constant: 34.09709193245777\n",
      "Restriction type: LtEq\n",
      "Restriction set type: J_0_L0_v\n",
      "Value of miu: 0\n",
      "Value of beta: 8.0\n",
      "Value of lambda: 0.36\n",
      "Value of gamma: 0\n",
      "++++++++++++++++++++++++++++++\n",
      "++++++++++++++++++++++++++++++\n",
      "Restriction 3\n",
      "Variable names: [:y_1]\n",
      "Expression (string): (-y_1) == 0\n",
      "Parsed expression: 9.337711069418402 - 0.09193245778611647y_1 + 0.2889305816135084y_2\n",
      "Evaluation point: Dict{Any, Any}(\"x_1\" => 51.550000000000004, \"x_2\" => 18.099999999999998, \"y_2\" => 0.2, \"y_1\" => 102.2)\n",
      "Evaluation value: -9.337711069418402\n",
      "Additional constant: 9.337711069418402\n",
      "Restriction type: LtEq\n",
      "Restriction set type: J_0_LP_v\n",
      "Value of miu: 0\n",
      "Value of beta: 0\n",
      "Value of lambda: 0.49\n",
      "Value of gamma: 9.3\n",
      "++++++++++++++++++++++++++++++\n",
      "++++++++++++++++++++++++++++++\n",
      "Restriction 4\n",
      "Variable names: [:y_2]\n",
      "Expression (string): (-y_2) == 0\n",
      "Parsed expression: -50.92215759849905 + 0.49530956848030006y_1 - 0.8424015009380863y_2\n",
      "Evaluation point: Dict{Any, Any}(\"x_1\" => 51.550000000000004, \"x_2\" => 18.099999999999998, \"y_2\" => 0.2, \"y_1\" => 102.2)\n",
      "Evaluation value: 50.45215759849905\n",
      "Additional constant: -50.92215759849905\n",
      "Restriction type: LtEq\n",
      "Restriction set type: J_Ne_L0_v\n",
      "Value of miu: 0\n",
      "Value of beta: 0\n",
      "Value of lambda: 0.75\n",
      "Value of gamma: 0.3\n",
      "++++++++++++++++++++++++++++++\n",
      "------------------------------\n",
      "Evaluation Point:\n",
      "Dict{Any, Any}(\"x_1\" => 51.550000000000004, \"x_2\" => 18.099999999999998, \"y_2\" => 0.2, \"y_1\" => 102.2)\n",
      "------------------------------\n",
      "_\n",
      "\n",
      "Num[-6.0, 23.0, 1.8114446529080674, -7.264540337711069]\n",
      "Va a retornar correctamente\n",
      "Leader's Objective Function:\n",
      "Variable names: [:x_1, :y_1, :x_2]\n",
      "Expression (string): -2x_1 + x_2 + 0.5y_1\n",
      "Parsed expression: -2x_1 + x_2 + 0.5y_1\n",
      "Evaluation point: Dict{Any, Any}(\"x_1\" => 51.550000000000004, \"x_2\" => 18.099999999999998, \"y_2\" => 0.2, \"y_1\" => 102.2)\n",
      "Evaluation value: -33.90000000000001\n",
      "Is leader function: true\n",
      "------------------------------\n",
      "Leader's Restrictions:\n",
      "------------------------------\n",
      "Follower's Objective Function:\n",
      "Variable names: [:x_1, :y_1, :x_2, :y_2]\n",
      "Expression (string): x_1 + x_2 - 4y_1 + y_2\n",
      "Parsed expression: x_1 + x_2 - 4y_1 + y_2\n",
      "Evaluation point: Dict{Any, Any}(\"x_1\" => 51.550000000000004, \"x_2\" => 18.099999999999998, \"y_2\" => 0.2, \"y_1\" => 102.2)\n",
      "Evaluation value: -338.95\n",
      "Is leader function: false\n",
      "------------------------------\n",
      "Follower's Restrictions:\n",
      "++++++++++++++++++++++++++++++\n",
      "Restriction 1\n",
      "Variable names: [:x_1, :y_1, :y_2]\n",
      "Expression (string): (-2x_1 + y_1 - y_2) == -2.5\n",
      "Parsed expression: 1.1000000000000056 - 2x_1 + y_1 - y_2\n",
      "Evaluation point: Dict{Any, Any}(\"x_1\" => 51.550000000000004, \"x_2\" => 18.099999999999998, \"y_2\" => 0.2, \"y_1\" => 102.2)\n",
      "Evaluation value: 1.3999999999999944\n",
      "Additional constant: -1.3999999999999944\n",
      "Restriction type: LtEq\n",
      "Restriction set type: J_0_L0_v\n",
      "Value of miu: 0\n",
      "Value of beta: 0\n",
      "Value of lambda: 0.92\n",
      "Value of gamma: 0.8999999999999999\n",
      "++++++++++++++++++++++++++++++\n",
      "++++++++++++++++++++++++++++++\n",
      "Restriction 2\n",
      "Variable names: [:x_1, :x_2, :y_2]\n",
      "Expression (string): (x_1 - 3x_2 + y_2) == 2\n",
      "Parsed expression: 2.5499999999999927 + x_1 - 3x_2 + y_2\n",
      "Evaluation point: Dict{Any, Any}(\"x_1\" => 51.550000000000004, \"x_2\" => 18.099999999999998, \"y_2\" => 0.2, \"y_1\" => 102.2)\n",
      "Evaluation value: -4.549999999999993\n",
      "Additional constant: 4.549999999999993\n",
      "Restriction type: LtEq\n",
      "Restriction set type: J_0_L0_v\n",
      "Value of miu: 0\n",
      "Value of beta: 6.5\n",
      "Value of lambda: 0.36\n",
      "Value of gamma: 0\n",
      "++++++++++++++++++++++++++++++\n",
      "++++++++++++++++++++++++++++++\n",
      "Restriction 3\n",
      "Variable names: [:y_1]\n",
      "Expression (string): (-y_1) == 0\n",
      "Parsed expression: 102.2 - y_1\n",
      "Evaluation point: Dict{Any, Any}(\"x_1\" => 51.550000000000004, \"x_2\" => 18.099999999999998, \"y_2\" => 0.2, \"y_1\" => 102.2)\n",
      "Evaluation value: -102.2\n",
      "Additional constant: 102.2\n",
      "Restriction type: LtEq\n",
      "Restriction set type: J_0_LP_v\n",
      "Value of miu: 0\n",
      "Value of beta: 0\n",
      "Value of lambda: 0.49\n",
      "Value of gamma: 2.2\n",
      "++++++++++++++++++++++++++++++\n",
      "++++++++++++++++++++++++++++++\n",
      "Restriction 4\n",
      "Variable names: [:y_2]\n",
      "Expression (string): (-y_2) == 0\n",
      "Parsed expression: -0.2 - y_2\n",
      "Evaluation point: Dict{Any, Any}(\"x_1\" => 51.550000000000004, \"x_2\" => 18.099999999999998, \"y_2\" => 0.2, \"y_1\" => 102.2)\n",
      "Evaluation value: -0.2\n",
      "Additional constant: -0.2\n",
      "Restriction type: LtEq\n",
      "Restriction set type: J_Ne_L0_v\n",
      "Value of miu: 0\n",
      "Value of beta: 0\n",
      "Value of lambda: 0.75\n",
      "Value of gamma: 1.2\n",
      "++++++++++++++++++++++++++++++\n",
      "------------------------------\n",
      "Evaluation Point:\n",
      "Dict{Any, Any}(\"x_1\" => 51.550000000000004, \"x_2\" => 18.099999999999998, \"y_2\" => 0.2, \"y_1\" => 102.2)\n",
      "------------------------------\n",
      "_\n",
      "\n",
      "Num[-4.5, 18.5, -0.5, -6.5]\n",
      "Se va a crear el DataFrame\n",
      "Se va a crear el DataFrame\n",
      "La carpeta ya existe: d:\\GitHub\\Tesis\\experiment\\linear\\ex9.1.10\\Experimentos_Generador\n",
      "Se va a crear el DataFrame\n",
      "La carpeta ya existe: d:\\GitHub\\Tesis\\experiment\\linear\\ex9.1.10\\Experimentos_Generador\n",
      "Experimento Completado\n",
      "Va a retornar correctamente\n",
      "Leader's Objective Function:\n",
      "Variable names: [:x_1, :y_1, :x_2]\n",
      "Expression (string): -2x_1 + x_2 + 0.5y_1\n",
      "Parsed expression: -2x_1 + x_2 + 0.5y_1\n",
      "Evaluation point: Dict{Any, Any}(\"x_1\" => 51.550000000000004, \"x_2\" => 18.099999999999998, \"y_2\" => 0.2, \"y_1\" => 102.2)\n",
      "Evaluation value: -33.90000000000001\n",
      "Is leader function: true\n",
      "------------------------------\n",
      "Leader's Restrictions:\n",
      "------------------------------\n",
      "Follower's Objective Function:\n",
      "Variable names: [:x_1, :y_1, :x_2, :y_2]\n",
      "Expression (string): x_1 + x_2 - 4y_1 + y_2\n",
      "Parsed expression: x_1 + x_2 - 4y_1 + y_2\n",
      "Evaluation point: Dict{Any, Any}(\"x_1\" => 51.550000000000004, \"x_2\" => 18.099999999999998, \"y_2\" => 0.2, \"y_1\" => 102.2)\n",
      "Evaluation value: -338.95\n",
      "Is leader function: false\n",
      "------------------------------\n",
      "Follower's Restrictions:\n",
      "++++++++++++++++++++++++++++++\n",
      "Restriction 1\n",
      "Variable names: [:x_1, :y_1, :y_2]\n",
      "Expression (string): (-2x_1 + y_1 - y_2) == -2.5\n",
      "Parsed expression: -534.0955555555555 - 2x_1 + 6.2333333333333325y_1 + 0.744444444444444y_2\n",
      "Evaluation point: Dict{Any, Any}(\"x_1\" => 51.550000000000004, \"x_2\" => 18.099999999999998, \"y_2\" => 0.2, \"y_1\" => 102.2)\n",
      "Evaluation value: 536.5955555555555\n",
      "Additional constant: -536.5955555555555\n",
      "Restriction type: LtEq\n",
      "Restriction set type: J_0_L0_v\n",
      "Value of miu: 0\n",
      "Value of beta: 4.4\n",
      "Value of lambda: 0.92\n",
      "Value of gamma: 3.5\n",
      "++++++++++++++++++++++++++++++\n",
      "++++++++++++++++++++++++++++++\n",
      "Restriction 2\n",
      "Variable names: [:x_1, :x_2, :y_2]\n",
      "Expression (string): (x_1 - 3x_2 + y_2) == 2\n",
      "Parsed expression: -853.0811111111111 + x_1 - 3x_2 + 8.366666666666667y_1 + 3.7888888888888888y_2\n",
      "Evaluation point: Dict{Any, Any}(\"x_1\" => 51.550000000000004, \"x_2\" => 18.099999999999998, \"y_2\" => 0.2, \"y_1\" => 102.2)\n",
      "Evaluation value: 851.0811111111111\n",
      "Additional constant: -851.0811111111111\n",
      "Restriction type: LtEq\n",
      "Restriction set type: J_0_L0_v\n",
      "Value of miu: 0\n",
      "Value of beta: 10.0\n",
      "Value of lambda: 0.36\n",
      "Value of gamma: 5.2\n",
      "++++++++++++++++++++++++++++++\n",
      "++++++++++++++++++++++++++++++\n",
      "Restriction 3\n",
      "Variable names: [:y_1]\n",
      "Expression (string): (-y_1) == 0\n",
      "Parsed expression: 10.159999999999998 - 0.09999999999999998y_1 + 0.3y_2\n",
      "Evaluation point: Dict{Any, Any}(\"x_1\" => 51.550000000000004, \"x_2\" => 18.099999999999998, \"y_2\" => 0.2, \"y_1\" => 102.2)\n",
      "Evaluation value: -10.159999999999998\n",
      "Additional constant: 10.159999999999998\n",
      "Restriction type: LtEq\n",
      "Restriction set type: J_0_LP_v\n",
      "Value of miu: 0\n",
      "Value of beta: 2.1\n",
      "Value of lambda: 0.49\n",
      "Value of gamma: 5.300000000000001\n",
      "++++++++++++++++++++++++++++++\n",
      "++++++++++++++++++++++++++++++\n",
      "Restriction 4\n",
      "Variable names: [:y_2]\n",
      "Expression (string): (-y_2) == 0\n",
      "Parsed expression: -883.4722222222221 + 8.633333333333331y_1 + 1.8777777777777769y_2\n",
      "Evaluation point: Dict{Any, Any}(\"x_1\" => 51.550000000000004, \"x_2\" => 18.099999999999998, \"y_2\" => 0.2, \"y_1\" => 102.2)\n",
      "Evaluation value: 882.7022222222221\n",
      "Additional constant: -883.4722222222221\n",
      "Restriction type: LtEq\n",
      "Restriction set type: J_Ne_L0_v\n",
      "Value of miu: 0\n",
      "Value of beta: 8.0\n",
      "Value of lambda: 0.75\n",
      "Value of gamma: 5.0\n",
      "++++++++++++++++++++++++++++++\n",
      "------------------------------\n",
      "Evaluation Point:\n",
      "Dict{Any, Any}(\"x_1\" => 51.550000000000004, \"x_2\" => 18.099999999999998, \"y_2\" => 0.2, \"y_1\" => 102.2)\n",
      "------------------------------\n",
      "_\n",
      "\n",
      "Num[0.8000000000000007, 29.0, -180.45, -56.81666666666666]\n",
      "Va a retornar correctamente\n",
      "Leader's Objective Function:\n",
      "Variable names: [:x_1, :y_1, :x_2]\n",
      "Expression (string): -2x_1 + x_2 + 0.5y_1\n",
      "Parsed expression: -2x_1 + x_2 + 0.5y_1\n",
      "Evaluation point: Dict{Any, Any}(\"x_1\" => 51.550000000000004, \"x_2\" => 18.099999999999998, \"y_2\" => 0.2, \"y_1\" => 102.2)\n",
      "Evaluation value: -33.90000000000001\n",
      "Is leader function: true\n",
      "------------------------------\n",
      "Leader's Restrictions:\n",
      "------------------------------\n",
      "Follower's Objective Function:\n",
      "Variable names: [:x_1, :y_1, :x_2, :y_2]\n",
      "Expression (string): x_1 + x_2 - 4y_1 + y_2\n",
      "Parsed expression: x_1 + x_2 - 4y_1 + y_2\n",
      "Evaluation point: Dict{Any, Any}(\"x_1\" => 51.550000000000004, \"x_2\" => 18.099999999999998, \"y_2\" => 0.2, \"y_1\" => 102.2)\n",
      "Evaluation value: -338.95\n",
      "Is leader function: false\n",
      "------------------------------\n",
      "Follower's Restrictions:\n",
      "++++++++++++++++++++++++++++++\n",
      "Restriction 1\n",
      "Variable names: [:x_1, :y_1, :y_2]\n",
      "Expression (string): (-2x_1 + y_1 - y_2) == -2.5\n",
      "Parsed expression: 1.1000000000000056 - 2x_1 + y_1 - y_2\n",
      "Evaluation point: Dict{Any, Any}(\"x_1\" => 51.550000000000004, \"x_2\" => 18.099999999999998, \"y_2\" => 0.2, \"y_1\" => 102.2)\n",
      "Evaluation value: 1.3999999999999944\n",
      "Additional constant: -1.3999999999999944\n",
      "Restriction type: LtEq\n",
      "Restriction set type: J_0_L0_v\n",
      "Value of miu: 0\n",
      "Value of beta: 6.0\n",
      "Value of lambda: 0.92\n",
      "Value of gamma: 1.6\n",
      "++++++++++++++++++++++++++++++\n",
      "++++++++++++++++++++++++++++++\n",
      "Restriction 2\n",
      "Variable names: [:x_1, :x_2, :y_2]\n",
      "Expression (string): (x_1 - 3x_2 + y_2) == 2\n",
      "Parsed expression: 2.5499999999999927 + x_1 - 3x_2 + y_2\n",
      "Evaluation point: Dict{Any, Any}(\"x_1\" => 51.550000000000004, \"x_2\" => 18.099999999999998, \"y_2\" => 0.2, \"y_1\" => 102.2)\n",
      "Evaluation value: -4.549999999999993\n",
      "Additional constant: 4.549999999999993\n",
      "Restriction type: LtEq\n",
      "Restriction set type: J_0_L0_v\n",
      "Value of miu: 0\n",
      "Value of beta: 1.5\n",
      "Value of lambda: 0.36\n",
      "Value of gamma: 0.1\n",
      "++++++++++++++++++++++++++++++\n",
      "++++++++++++++++++++++++++++++\n",
      "Restriction 3\n",
      "Variable names: [:y_1]\n",
      "Expression (string): (-y_1) == 0\n",
      "Parsed expression: 102.2 - y_1\n",
      "Evaluation point: Dict{Any, Any}(\"x_1\" => 51.550000000000004, \"x_2\" => 18.099999999999998, \"y_2\" => 0.2, \"y_1\" => 102.2)\n",
      "Evaluation value: -102.2\n",
      "Additional constant: 102.2\n",
      "Restriction type: LtEq\n",
      "Restriction set type: J_0_LP_v\n",
      "Value of miu: 0\n",
      "Value of beta: 3.5999999999999996\n",
      "Value of lambda: 0.49\n",
      "Value of gamma: 5.0\n",
      "++++++++++++++++++++++++++++++\n",
      "++++++++++++++++++++++++++++++\n",
      "Restriction 4\n",
      "Variable names: [:y_2]\n",
      "Expression (string): (-y_2) == 0\n",
      "Parsed expression: -0.2 - y_2\n",
      "Evaluation point: Dict{Any, Any}(\"x_1\" => 51.550000000000004, \"x_2\" => 18.099999999999998, \"y_2\" => 0.2, \"y_1\" => 102.2)\n",
      "Evaluation value: -0.2\n",
      "Additional constant: -0.2\n",
      "Restriction type: LtEq\n",
      "Restriction set type: J_Ne_L0_v\n",
      "Value of miu: 0\n",
      "Value of beta: 3.5\n",
      "Value of lambda: 0.75\n",
      "Value of gamma: 2.2\n",
      "++++++++++++++++++++++++++++++\n",
      "------------------------------\n",
      "Evaluation Point:\n",
      "Dict{Any, Any}(\"x_1\" => 51.550000000000004, \"x_2\" => 18.099999999999998, \"y_2\" => 0.2, \"y_1\" => 102.2)\n",
      "------------------------------\n",
      "_\n",
      "\n",
      "Num[12.5, 3.5, -2.9000000000000004, 8.0]\n",
      "Se va a crear el DataFrame\n",
      "Se va a crear el DataFrame\n",
      "La carpeta ya existe: d:\\GitHub\\Tesis\\experiment\\linear\\ex9.1.10\\Experimentos_Generador\n",
      "Se va a crear el DataFrame\n",
      "La carpeta ya existe: d:\\GitHub\\Tesis\\experiment\\linear\\ex9.1.10\\Experimentos_Generador\n",
      "Experimento Completado\n",
      "Finilizado el experimento completo\n"
     ]
    }
   ],
   "source": [
    "RunExperiment(experiment,\"ex9.1.10(Linear)\",true)"
   ]
  }
 ],
 "metadata": {
  "kernelspec": {
   "display_name": "Julia 1.11.3",
   "language": "julia",
   "name": "julia-1.11"
  },
  "language_info": {
   "file_extension": ".jl",
   "mimetype": "application/julia",
   "name": "julia",
   "version": "1.11.3"
  }
 },
 "nbformat": 4,
 "nbformat_minor": 2
}
