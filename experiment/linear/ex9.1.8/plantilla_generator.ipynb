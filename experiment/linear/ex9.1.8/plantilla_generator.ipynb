{
 "cells": [
  {
   "cell_type": "markdown",
   "metadata": {},
   "source": [
    "## Importar el módulo\n"
   ]
  },
  {
   "cell_type": "code",
   "execution_count": 1,
   "metadata": {},
   "outputs": [
    {
     "data": {
      "text/plain": [
       "RunExperiment"
      ]
     },
     "metadata": {},
     "output_type": "display_data"
    }
   ],
   "source": [
    "include(\"../../new_experiment.jl\")"
   ]
  },
  {
   "cell_type": "code",
   "execution_count": 2,
   "metadata": {},
   "outputs": [
    {
     "data": {
      "text/plain": [
       "TaskLocalRNG()"
      ]
     },
     "metadata": {},
     "output_type": "display_data"
    }
   ],
   "source": [
    "using Random\n",
    "\n",
    "# Random seed\n",
    "Random.seed!(3)"
   ]
  },
  {
   "cell_type": "markdown",
   "metadata": {},
   "source": [
    "Crear un experimento\n"
   ]
  },
  {
   "cell_type": "code",
   "execution_count": 3,
   "metadata": {},
   "outputs": [
    {
     "data": {
      "text/plain": [
       "Experiment(OptimizationModel(Problem(Any[], nothing), LeaderRestrictionProblem[], Problem(Any[], nothing), FollowerRestrictionProblem[], Dict{Any, Any}(), Number[1], false), OptimizationModel(Problem(Any[], nothing), LeaderRestrictionProblem[], Problem(Any[], nothing), FollowerRestrictionProblem[], Dict{Any, Any}(), Number[], true), Any[], Any[])"
      ]
     },
     "metadata": {},
     "output_type": "display_data"
    }
   ],
   "source": [
    "experiment=CreateExperiment()"
   ]
  },
  {
   "cell_type": "markdown",
   "metadata": {},
   "source": [
    "### Declarar variables del líder\n"
   ]
  },
  {
   "cell_type": "code",
   "execution_count": 4,
   "metadata": {},
   "outputs": [
    {
     "data": {
      "text/latex": [
       "$$ \\begin{equation}\n",
       "\\left[\n",
       "\\begin{array}{c}\n",
       "\\mathtt{x\\_1} \\\\\n",
       "\\mathtt{x\\_2} \\\\\n",
       "\\end{array}\n",
       "\\right]\n",
       "\\end{equation}\n",
       " $$"
      ],
      "text/plain": [
       "2-element Vector{Num}:\n",
       " x_1\n",
       " x_2"
      ]
     },
     "metadata": {},
     "output_type": "display_data"
    }
   ],
   "source": [
    "@leader_vars experiment x_1,x_2"
   ]
  },
  {
   "cell_type": "markdown",
   "metadata": {},
   "source": [
    "### Declarar Variables del Follower"
   ]
  },
  {
   "cell_type": "code",
   "execution_count": 5,
   "metadata": {},
   "outputs": [
    {
     "data": {
      "text/latex": [
       "$$ \\begin{equation}\n",
       "\\left[\n",
       "\\begin{array}{c}\n",
       "\\mathtt{y\\_1} \\\\\n",
       "\\mathtt{y\\_2} \\\\\n",
       "\\end{array}\n",
       "\\right]\n",
       "\\end{equation}\n",
       " $$"
      ],
      "text/plain": [
       "2-element Vector{Num}:\n",
       " y_1\n",
       " y_2"
      ]
     },
     "metadata": {},
     "output_type": "display_data"
    }
   ],
   "source": [
    "@follower_vars experiment y_1,y_2"
   ]
  },
  {
   "cell_type": "markdown",
   "metadata": {},
   "source": [
    "### Declarar Función Objetivo del Líder"
   ]
  },
  {
   "cell_type": "code",
   "execution_count": 6,
   "metadata": {},
   "outputs": [
    {
     "data": {
      "text/latex": [
       "$$ \\begin{equation}\n",
       " - 2 \\mathtt{x\\_1} + \\mathtt{x\\_2} + 0.5 \\mathtt{y\\_1}\n",
       "\\end{equation}\n",
       " $$"
      ],
      "text/plain": [
       "-2x_1 + x_2 + 0.5y_1"
      ]
     },
     "metadata": {},
     "output_type": "display_data"
    }
   ],
   "source": [
    "SetLeaderFunction(experiment,-2x_1+x_2+0.5y_1)"
   ]
  },
  {
   "cell_type": "markdown",
   "metadata": {},
   "source": [
    "### Función objetivo del Follower"
   ]
  },
  {
   "cell_type": "code",
   "execution_count": 7,
   "metadata": {},
   "outputs": [
    {
     "data": {
      "text/latex": [
       "$$ \\begin{equation}\n",
       "\\mathtt{x\\_1} + \\mathtt{x\\_2} - 4 \\mathtt{y\\_1} + \\mathtt{y\\_2}\n",
       "\\end{equation}\n",
       " $$"
      ],
      "text/plain": [
       "x_1 + x_2 - 4y_1 + y_2"
      ]
     },
     "metadata": {},
     "output_type": "display_data"
    }
   ],
   "source": [
    "SetFollowerFunction(experiment,x_1+x_2-4y_1+y_2)"
   ]
  },
  {
   "cell_type": "markdown",
   "metadata": {},
   "source": [
    "### Restricciones del Follower"
   ]
  },
  {
   "cell_type": "code",
   "execution_count": 8,
   "metadata": {},
   "outputs": [
    {
     "data": {
      "text/plain": [
       "1-element Vector{FollowerRestrictionProblem}:\n",
       " FollowerRestrictionProblem((-2x_1 + y_1 - y_2) <= -2.5, J_0_LP_v, 0.34, 0.96, 1.0)"
      ]
     },
     "metadata": {},
     "output_type": "display_data"
    }
   ],
   "source": [
    "SetFollowerRestriction(experiment,-2x_1+y_1-y_2<=-2.5)"
   ]
  },
  {
   "cell_type": "code",
   "execution_count": 9,
   "metadata": {},
   "outputs": [
    {
     "data": {
      "text/plain": [
       "2-element Vector{FollowerRestrictionProblem}:\n",
       " FollowerRestrictionProblem((-2x_1 + y_1 - y_2) <= -2.5, J_0_LP_v, 0.34, 0.96, 1.0)\n",
       " FollowerRestrictionProblem((x_1 - 3x_2 + y_2) <= 2, J_0_LP_v, 0.09, 0.7, 0.5)"
      ]
     },
     "metadata": {},
     "output_type": "display_data"
    }
   ],
   "source": [
    "SetFollowerRestriction(experiment,x_1-3x_2+y_2<=2)"
   ]
  },
  {
   "cell_type": "code",
   "execution_count": 10,
   "metadata": {},
   "outputs": [
    {
     "data": {
      "text/plain": [
       "3-element Vector{FollowerRestrictionProblem}:\n",
       " FollowerRestrictionProblem((-2x_1 + y_1 - y_2) <= -2.5, J_0_LP_v, 0.34, 0.96, 1.0)\n",
       " FollowerRestrictionProblem((x_1 - 3x_2 + y_2) <= 2, J_0_LP_v, 0.09, 0.7, 0.5)\n",
       " FollowerRestrictionProblem((x_1 + x_2) <= 2, J_0_LP_v, 0.95, 0.8, 0.8)"
      ]
     },
     "metadata": {},
     "output_type": "display_data"
    }
   ],
   "source": [
    "SetFollowerRestriction(experiment,x_1+x_2<=2)"
   ]
  },
  {
   "cell_type": "markdown",
   "metadata": {},
   "source": [
    "### Poner el Punto Optimo"
   ]
  },
  {
   "cell_type": "code",
   "execution_count": 11,
   "metadata": {},
   "outputs": [
    {
     "data": {
      "text/plain": [
       "Dict{Any, Any} with 4 entries:\n",
       "  x_1 => 4.5\n",
       "  x_2 => 1.6\n",
       "  y_1 => 6.1\n",
       "  y_2 => 1.55"
      ]
     },
     "metadata": {},
     "output_type": "display_data"
    }
   ],
   "source": [
    "SetPoint(experiment,Dict(x_1=>2,x_2=>0,y_1=>1.5,y_2=>0))"
   ]
  },
  {
   "cell_type": "markdown",
   "metadata": {},
   "source": [
    "## Iniciar el Experimento\n"
   ]
  },
  {
   "cell_type": "code",
   "execution_count": 12,
   "metadata": {},
   "outputs": [
    {
     "name": "stdout",
     "output_type": "stream",
     "text": [
      "Va a retornar correctamente\n",
      "Leader's Objective Function:\n",
      "Variable names: [:x_1, :y_1, :x_2]\n",
      "Expression (string): -2x_1 + x_2 + 0.5y_1\n",
      "Parsed expression: -2x_1 + x_2 + 0.5y_1\n",
      "Evaluation point: Dict{Any, Any}(\"x_1\" => 4.5, \"x_2\" => 1.6, \"y_2\" => 1.55, \"y_1\" => 6.1000000000000005)\n",
      "Evaluation value: -4.35\n",
      "Is leader function: true\n",
      "------------------------------\n",
      "Leader's Restrictions:\n",
      "------------------------------\n",
      "Follower's Objective Function:\n",
      "Variable names: [:x_1, :y_1, :x_2, :y_2]\n",
      "Expression (string): x_1 + x_2 - 4y_1 + y_2\n",
      "Parsed expression: x_1 + x_2 - 4y_1 + y_2\n",
      "Evaluation point: Dict{Any, Any}(\"x_1\" => 4.5, \"x_2\" => 1.6, \"y_2\" => 1.55, \"y_1\" => 6.1000000000000005)\n",
      "Evaluation value: -16.750000000000004\n",
      "Is leader function: false\n",
      "------------------------------\n",
      "Follower's Restrictions:\n",
      "++++++++++++++++++++++++++++++\n",
      "Restriction 1\n",
      "Variable names: [:x_1, :y_1, :y_2]\n",
      "Expression (string): (-2x_1 + y_1 - y_2) == -2.5\n",
      "Parsed expression: 10.077049180327869 - 2x_1 + 0.0983606557377048y_1 - 1.0819672131147542y_2\n",
      "Evaluation point: Dict{Any, Any}(\"x_1\" => 4.5, \"x_2\" => 1.6, \"y_2\" => 1.55, \"y_1\" => 6.1000000000000005)\n",
      "Evaluation value: -7.57704918032787\n",
      "Additional constant: 7.57704918032787\n",
      "Restriction type: LtEq\n",
      "Restriction set type: J_0_L0_v\n",
      "Value of miu: 0\n",
      "Value of beta: 0\n",
      "Value of lambda: 0.96\n",
      "Value of gamma: 0\n",
      "++++++++++++++++++++++++++++++\n",
      "++++++++++++++++++++++++++++++\n",
      "Restriction 2\n",
      "Variable names: [:x_1, :x_2, :y_2]\n",
      "Expression (string): (x_1 - 3x_2 + y_2) == 2\n",
      "Parsed expression: -0.6872950819672126 + x_1 - 3x_2 - 0.0901639344262295y_1 + 0.9918032786885246y_2\n",
      "Evaluation point: Dict{Any, Any}(\"x_1\" => 4.5, \"x_2\" => 1.6, \"y_2\" => 1.55, \"y_1\" => 6.1000000000000005)\n",
      "Evaluation value: -1.3127049180327874\n",
      "Additional constant: 1.3127049180327874\n",
      "Restriction type: LtEq\n",
      "Restriction set type: J_0_LP_v\n",
      "Value of miu: 0\n",
      "Value of beta: 0\n",
      "Value of lambda: 0.7\n",
      "Value of gamma: 0\n",
      "++++++++++++++++++++++++++++++\n",
      "++++++++++++++++++++++++++++++\n",
      "Restriction 3\n",
      "Variable names: [:x_1, :x_2]\n",
      "Expression (string): (x_1 + x_2) == 2\n",
      "Parsed expression: -6.31 + x_1 + x_2\n",
      "Evaluation point: Dict{Any, Any}(\"x_1\" => 4.5, \"x_2\" => 1.6, \"y_2\" => 1.55, \"y_1\" => 6.1000000000000005)\n",
      "Evaluation value: 4.1\n",
      "Additional constant: -4.31\n",
      "Restriction type: LtEq\n",
      "Restriction set type: J_Ne_L0_v\n",
      "Value of miu: 0\n",
      "Value of beta: 0\n",
      "Value of lambda: 0.8\n",
      "Value of gamma: 0\n",
      "++++++++++++++++++++++++++++++\n",
      "------------------------------\n",
      "Evaluation Point:\n",
      "Dict{Any, Any}(\"x_1\" => 4.5, \"x_2\" => 1.6, \"y_2\" => 1.55, \"y_1\" => 6.1000000000000005)\n",
      "------------------------------\n",
      "_\n",
      "\n",
      "Num[2.0, -1.0, -0.5, -0.0]\n",
      "Va a retornar correctamente\n",
      "Leader's Objective Function:\n",
      "Variable names: [:x_1, :y_1, :x_2]\n",
      "Expression (string): -2x_1 + x_2 + 0.5y_1\n",
      "Parsed expression: -2x_1 + x_2 + 0.5y_1\n",
      "Evaluation point: Dict{Any, Any}(\"x_1\" => 4.5, \"x_2\" => 1.6, \"y_2\" => 1.55, \"y_1\" => 6.1000000000000005)\n",
      "Evaluation value: -4.35\n",
      "Is leader function: true\n",
      "------------------------------\n",
      "Leader's Restrictions:\n",
      "------------------------------\n",
      "Follower's Objective Function:\n",
      "Variable names: [:x_1, :y_1, :x_2, :y_2]\n",
      "Expression (string): x_1 + x_2 - 4y_1 + y_2\n",
      "Parsed expression: x_1 + x_2 - 4y_1 + y_2\n",
      "Evaluation point: Dict{Any, Any}(\"x_1\" => 4.5, \"x_2\" => 1.6, \"y_2\" => 1.55, \"y_1\" => 6.1000000000000005)\n",
      "Evaluation value: -16.750000000000004\n",
      "Is leader function: false\n",
      "------------------------------\n",
      "Follower's Restrictions:\n",
      "++++++++++++++++++++++++++++++\n",
      "Restriction 1\n",
      "Variable names: [:x_1, :y_1, :y_2]\n",
      "Expression (string): (-2x_1 + y_1 - y_2) == -2.5\n",
      "Parsed expression: 4.449999999999999 - 2x_1 + y_1 - y_2\n",
      "Evaluation point: Dict{Any, Any}(\"x_1\" => 4.5, \"x_2\" => 1.6, \"y_2\" => 1.55, \"y_1\" => 6.1000000000000005)\n",
      "Evaluation value: -1.9499999999999995\n",
      "Additional constant: 1.9499999999999995\n",
      "Restriction type: LtEq\n",
      "Restriction set type: J_0_L0_v\n",
      "Value of miu: 0\n",
      "Value of beta: 0\n",
      "Value of lambda: 0.96\n",
      "Value of gamma: 0\n",
      "++++++++++++++++++++++++++++++\n",
      "++++++++++++++++++++++++++++++\n",
      "Restriction 2\n",
      "Variable names: [:x_1, :x_2, :y_2]\n",
      "Expression (string): (x_1 - 3x_2 + y_2) == 2\n",
      "Parsed expression: -1.2499999999999993 + x_1 - 3x_2 + y_2\n",
      "Evaluation point: Dict{Any, Any}(\"x_1\" => 4.5, \"x_2\" => 1.6, \"y_2\" => 1.55, \"y_1\" => 6.1000000000000005)\n",
      "Evaluation value: -0.7500000000000007\n",
      "Additional constant: 0.7500000000000007\n",
      "Restriction type: LtEq\n",
      "Restriction set type: J_0_LP_v\n",
      "Value of miu: 0\n",
      "Value of beta: 0\n",
      "Value of lambda: 0.7\n",
      "Value of gamma: 0\n",
      "++++++++++++++++++++++++++++++\n",
      "++++++++++++++++++++++++++++++\n",
      "Restriction 3\n",
      "Variable names: [:x_1, :x_2]\n",
      "Expression (string): (x_1 + x_2) == 2\n",
      "Parsed expression: -6.43 + x_1 + x_2\n",
      "Evaluation point: Dict{Any, Any}(\"x_1\" => 4.5, \"x_2\" => 1.6, \"y_2\" => 1.55, \"y_1\" => 6.1000000000000005)\n",
      "Evaluation value: 4.1\n",
      "Additional constant: -4.43\n",
      "Restriction type: LtEq\n",
      "Restriction set type: J_Ne_L0_v\n",
      "Value of miu: 0\n",
      "Value of beta: 0\n",
      "Value of lambda: 0.8\n",
      "Value of gamma: 0\n",
      "++++++++++++++++++++++++++++++\n",
      "------------------------------\n",
      "Evaluation Point:\n",
      "Dict{Any, Any}(\"x_1\" => 4.5, \"x_2\" => 1.6, \"y_2\" => 1.55, \"y_1\" => 6.1000000000000005)\n",
      "------------------------------\n",
      "_\n",
      "\n",
      "Num[2.0, -1.0, -0.5, -0.0]\n",
      "Se va a crear el DataFrame\n",
      "Se va a crear el DataFrame\n",
      "Carpeta creada: d:\\GitHub\\Tesis\\experiment\\linear\\ex9.1.8\\Experimentos_Generador\n",
      "Se va a crear el DataFrame\n",
      "La carpeta ya existe: d:\\GitHub\\Tesis\\experiment\\linear\\ex9.1.8\\Experimentos_Generador\n",
      "Experimento Completado\n",
      "Va a retornar correctamente\n",
      "Leader's Objective Function:\n",
      "Variable names: [:x_1, :y_1, :x_2]\n",
      "Expression (string): -2x_1 + x_2 + 0.5y_1\n",
      "Parsed expression: -2x_1 + x_2 + 0.5y_1\n",
      "Evaluation point: Dict{Any, Any}(\"x_1\" => 4.5, \"x_2\" => 1.6, \"y_2\" => 1.55, \"y_1\" => 6.1000000000000005)\n",
      "Evaluation value: -4.35\n",
      "Is leader function: true\n",
      "------------------------------\n",
      "Leader's Restrictions:\n",
      "------------------------------\n",
      "Follower's Objective Function:\n",
      "Variable names: [:x_1, :y_1, :x_2, :y_2]\n",
      "Expression (string): x_1 + x_2 - 4y_1 + y_2\n",
      "Parsed expression: x_1 + x_2 - 4y_1 + y_2\n",
      "Evaluation point: Dict{Any, Any}(\"x_1\" => 4.5, \"x_2\" => 1.6, \"y_2\" => 1.55, \"y_1\" => 6.1000000000000005)\n",
      "Evaluation value: -16.750000000000004\n",
      "Is leader function: false\n",
      "------------------------------\n",
      "Follower's Restrictions:\n",
      "++++++++++++++++++++++++++++++\n",
      "Restriction 1\n",
      "Variable names: [:x_1, :y_1, :y_2]\n",
      "Expression (string): (-2x_1 + y_1 - y_2) == -2.5\n",
      "Parsed expression: -3.5801944728761512 - 2x_1 + 1.5730467417263732y_1 + 1.9255544182872733y_2\n",
      "Evaluation point: Dict{Any, Any}(\"x_1\" => 4.5, \"x_2\" => 1.6, \"y_2\" => 1.55, \"y_1\" => 6.1000000000000005)\n",
      "Evaluation value: 6.080194472876151\n",
      "Additional constant: -6.080194472876151\n",
      "Restriction type: LtEq\n",
      "Restriction set type: J_0_L0_v\n",
      "Value of miu: 0\n",
      "Value of beta: 0\n",
      "Value of lambda: 0.96\n",
      "Value of gamma: 6.5\n",
      "++++++++++++++++++++++++++++++\n",
      "++++++++++++++++++++++++++++++\n",
      "Restriction 2\n",
      "Variable names: [:x_1, :x_2, :y_2]\n",
      "Expression (string): (x_1 - 3x_2 + y_2) == 2\n",
      "Parsed expression: 1.3934237461617203 + x_1 - 3x_2 - 0.18863868986693957y_1 + 0.03694984646878219y_2\n",
      "Evaluation point: Dict{Any, Any}(\"x_1\" => 4.5, \"x_2\" => 1.6, \"y_2\" => 1.55, \"y_1\" => 6.1000000000000005)\n",
      "Evaluation value: -3.3934237461617203\n",
      "Additional constant: 3.3934237461617203\n",
      "Restriction type: LtEq\n",
      "Restriction set type: J_0_LP_v\n",
      "Value of miu: 0\n",
      "Value of beta: 0\n",
      "Value of lambda: 0.7\n",
      "Value of gamma: 9.9\n",
      "++++++++++++++++++++++++++++++\n",
      "++++++++++++++++++++++++++++++\n",
      "Restriction 3\n",
      "Variable names: [:x_1, :x_2]\n",
      "Expression (string): (x_1 + x_2) == 2\n",
      "Parsed expression: -6.6 + x_1 + x_2\n",
      "Evaluation point: Dict{Any, Any}(\"x_1\" => 4.5, \"x_2\" => 1.6, \"y_2\" => 1.55, \"y_1\" => 6.1000000000000005)\n",
      "Evaluation value: 4.1\n",
      "Additional constant: -4.6\n",
      "Restriction type: LtEq\n",
      "Restriction set type: J_Ne_L0_v\n",
      "Value of miu: 0\n",
      "Value of beta: 2.9\n",
      "Value of lambda: 0.8\n",
      "Value of gamma: 0\n",
      "++++++++++++++++++++++++++++++\n",
      "------------------------------\n",
      "Evaluation Point:\n",
      "Dict{Any, Any}(\"x_1\" => 4.5, \"x_2\" => 1.6, \"y_2\" => 1.55, \"y_1\" => 6.1000000000000005)\n",
      "------------------------------\n",
      "_\n",
      "\n",
      "Num[-0.8999999999999999, -3.9, -0.5, -0.0]\n",
      "Va a retornar correctamente\n",
      "Leader's Objective Function:\n",
      "Variable names: [:x_1, :y_1, :x_2]\n",
      "Expression (string): -2x_1 + x_2 + 0.5y_1\n",
      "Parsed expression: -2x_1 + x_2 + 0.5y_1\n",
      "Evaluation point: Dict{Any, Any}(\"x_1\" => 4.5, \"x_2\" => 1.6, \"y_2\" => 1.55, \"y_1\" => 6.1000000000000005)\n",
      "Evaluation value: -4.35\n",
      "Is leader function: true\n",
      "------------------------------\n",
      "Leader's Restrictions:\n",
      "------------------------------\n",
      "Follower's Objective Function:\n",
      "Variable names: [:x_1, :y_1, :x_2, :y_2]\n",
      "Expression (string): x_1 + x_2 - 4y_1 + y_2\n",
      "Parsed expression: x_1 + x_2 - 4y_1 + y_2\n",
      "Evaluation point: Dict{Any, Any}(\"x_1\" => 4.5, \"x_2\" => 1.6, \"y_2\" => 1.55, \"y_1\" => 6.1000000000000005)\n",
      "Evaluation value: -16.750000000000004\n",
      "Is leader function: false\n",
      "------------------------------\n",
      "Follower's Restrictions:\n",
      "++++++++++++++++++++++++++++++\n",
      "Restriction 1\n",
      "Variable names: [:x_1, :y_1, :y_2]\n",
      "Expression (string): (-2x_1 + y_1 - y_2) == -2.5\n",
      "Parsed expression: 4.449999999999999 - 2x_1 + y_1 - y_2\n",
      "Evaluation point: Dict{Any, Any}(\"x_1\" => 4.5, \"x_2\" => 1.6, \"y_2\" => 1.55, \"y_1\" => 6.1000000000000005)\n",
      "Evaluation value: -1.9499999999999995\n",
      "Additional constant: 1.9499999999999995\n",
      "Restriction type: LtEq\n",
      "Restriction set type: J_0_L0_v\n",
      "Value of miu: 0\n",
      "Value of beta: 0\n",
      "Value of lambda: 0.96\n",
      "Value of gamma: 7.800000000000001\n",
      "++++++++++++++++++++++++++++++\n",
      "++++++++++++++++++++++++++++++\n",
      "Restriction 2\n",
      "Variable names: [:x_1, :x_2, :y_2]\n",
      "Expression (string): (x_1 - 3x_2 + y_2) == 2\n",
      "Parsed expression: -1.2499999999999993 + x_1 - 3x_2 + y_2\n",
      "Evaluation point: Dict{Any, Any}(\"x_1\" => 4.5, \"x_2\" => 1.6, \"y_2\" => 1.55, \"y_1\" => 6.1000000000000005)\n",
      "Evaluation value: -0.7500000000000007\n",
      "Additional constant: 0.7500000000000007\n",
      "Restriction type: LtEq\n",
      "Restriction set type: J_0_LP_v\n",
      "Value of miu: 0\n",
      "Value of beta: 0\n",
      "Value of lambda: 0.7\n",
      "Value of gamma: 9.0\n",
      "++++++++++++++++++++++++++++++\n",
      "++++++++++++++++++++++++++++++\n",
      "Restriction 3\n",
      "Variable names: [:x_1, :x_2]\n",
      "Expression (string): (x_1 + x_2) == 2\n",
      "Parsed expression: -6.1499999999999995 + x_1 + x_2\n",
      "Evaluation point: Dict{Any, Any}(\"x_1\" => 4.5, \"x_2\" => 1.6, \"y_2\" => 1.55, \"y_1\" => 6.1000000000000005)\n",
      "Evaluation value: 4.1\n",
      "Additional constant: -4.1499999999999995\n",
      "Restriction type: LtEq\n",
      "Restriction set type: J_Ne_L0_v\n",
      "Value of miu: 0\n",
      "Value of beta: 0\n",
      "Value of lambda: 0.8\n",
      "Value of gamma: 6.0\n",
      "++++++++++++++++++++++++++++++\n",
      "------------------------------\n",
      "Evaluation Point:\n",
      "Dict{Any, Any}(\"x_1\" => 4.5, \"x_2\" => 1.6, \"y_2\" => 1.55, \"y_1\" => 6.1000000000000005)\n",
      "------------------------------\n",
      "_\n",
      "\n",
      "Num[2.0, -1.0, -0.5, -0.0]\n",
      "Se va a crear el DataFrame\n",
      "Se va a crear el DataFrame\n",
      "La carpeta ya existe: d:\\GitHub\\Tesis\\experiment\\linear\\ex9.1.8\\Experimentos_Generador\n",
      "Se va a crear el DataFrame\n",
      "La carpeta ya existe: d:\\GitHub\\Tesis\\experiment\\linear\\ex9.1.8\\Experimentos_Generador\n",
      "Experimento Completado\n",
      "Va a retornar correctamente\n",
      "Leader's Objective Function:\n",
      "Variable names: [:x_1, :y_1, :x_2]\n",
      "Expression (string): -2x_1 + x_2 + 0.5y_1\n",
      "Parsed expression: -2x_1 + x_2 + 0.5y_1\n",
      "Evaluation point: Dict{Any, Any}(\"x_1\" => 4.5, \"x_2\" => 1.6, \"y_2\" => 1.55, \"y_1\" => 6.1000000000000005)\n",
      "Evaluation value: -4.35\n",
      "Is leader function: true\n",
      "------------------------------\n",
      "Leader's Restrictions:\n",
      "------------------------------\n",
      "Follower's Objective Function:\n",
      "Variable names: [:x_1, :y_1, :x_2, :y_2]\n",
      "Expression (string): x_1 + x_2 - 4y_1 + y_2\n",
      "Parsed expression: x_1 + x_2 - 4y_1 + y_2\n",
      "Evaluation point: Dict{Any, Any}(\"x_1\" => 4.5, \"x_2\" => 1.6, \"y_2\" => 1.55, \"y_1\" => 6.1000000000000005)\n",
      "Evaluation value: -16.750000000000004\n",
      "Is leader function: false\n",
      "------------------------------\n",
      "Follower's Restrictions:\n",
      "++++++++++++++++++++++++++++++\n",
      "Restriction 1\n",
      "Variable names: [:x_1, :y_1, :y_2]\n",
      "Expression (string): (-2x_1 + y_1 - y_2) == -2.5\n",
      "Parsed expression: -6.89670276412982 - 2x_1 + 2.3621778802767475y_1 + 0.959624318994619y_2\n",
      "Evaluation point: Dict{Any, Any}(\"x_1\" => 4.5, \"x_2\" => 1.6, \"y_2\" => 1.55, \"y_1\" => 6.1000000000000005)\n",
      "Evaluation value: 9.39670276412982\n",
      "Additional constant: -9.39670276412982\n",
      "Restriction type: LtEq\n",
      "Restriction set type: J_0_L0_v\n",
      "Value of miu: 0\n",
      "Value of beta: 3.3000000000000003\n",
      "Value of lambda: 0.96\n",
      "Value of gamma: 6.4\n",
      "++++++++++++++++++++++++++++++\n",
      "++++++++++++++++++++++++++++++\n",
      "Restriction 2\n",
      "Variable names: [:x_1, :x_2, :y_2]\n",
      "Expression (string): (x_1 - 3x_2 + y_2) == 2\n",
      "Parsed expression: 2.653900531434875 + x_1 - 3x_2 - 0.468665396570741y_1 + 0.3257796049333199y_2\n",
      "Evaluation point: Dict{Any, Any}(\"x_1\" => 4.5, \"x_2\" => 1.6, \"y_2\" => 1.55, \"y_1\" => 6.1000000000000005)\n",
      "Evaluation value: -4.653900531434875\n",
      "Additional constant: 4.653900531434875\n",
      "Restriction type: LtEq\n",
      "Restriction set type: J_0_LP_v\n",
      "Value of miu: 0\n",
      "Value of beta: 0.4\n",
      "Value of lambda: 0.7\n",
      "Value of gamma: 7.6\n",
      "++++++++++++++++++++++++++++++\n",
      "++++++++++++++++++++++++++++++\n",
      "Restriction 3\n",
      "Variable names: [:x_1, :x_2]\n",
      "Expression (string): (x_1 + x_2) == 2\n",
      "Parsed expression: -20.705172632775163 + x_1 + x_2 + 1.6765266218790738y_1 + 2.411845315685685y_2\n",
      "Evaluation point: Dict{Any, Any}(\"x_1\" => 4.5, \"x_2\" => 1.6, \"y_2\" => 1.55, \"y_1\" => 6.1000000000000005)\n",
      "Evaluation value: 18.065172632775162\n",
      "Additional constant: -18.705172632775163\n",
      "Restriction type: LtEq\n",
      "Restriction set type: J_Ne_L0_v\n",
      "Value of miu: 0\n",
      "Value of beta: 10.0\n",
      "Value of lambda: 0.8\n",
      "Value of gamma: 8.8\n",
      "++++++++++++++++++++++++++++++\n",
      "------------------------------\n",
      "Evaluation Point:\n",
      "Dict{Any, Any}(\"x_1\" => 4.5, \"x_2\" => 1.6, \"y_2\" => 1.55, \"y_1\" => 6.1000000000000005)\n",
      "------------------------------\n",
      "_\n",
      "\n",
      "Num[-1.7999999999999998, -9.8, -24.872987065075712, -27.41552525151242]\n",
      "Va a retornar correctamente\n",
      "Leader's Objective Function:\n",
      "Variable names: [:x_1, :y_1, :x_2]\n",
      "Expression (string): -2x_1 + x_2 + 0.5y_1\n",
      "Parsed expression: -2x_1 + x_2 + 0.5y_1\n",
      "Evaluation point: Dict{Any, Any}(\"x_1\" => 4.5, \"x_2\" => 1.6, \"y_2\" => 1.55, \"y_1\" => 6.1000000000000005)\n",
      "Evaluation value: -4.35\n",
      "Is leader function: true\n",
      "------------------------------\n",
      "Leader's Restrictions:\n",
      "------------------------------\n",
      "Follower's Objective Function:\n",
      "Variable names: [:x_1, :y_1, :x_2, :y_2]\n",
      "Expression (string): x_1 + x_2 - 4y_1 + y_2\n",
      "Parsed expression: x_1 + x_2 - 4y_1 + y_2\n",
      "Evaluation point: Dict{Any, Any}(\"x_1\" => 4.5, \"x_2\" => 1.6, \"y_2\" => 1.55, \"y_1\" => 6.1000000000000005)\n",
      "Evaluation value: -16.750000000000004\n",
      "Is leader function: false\n",
      "------------------------------\n",
      "Follower's Restrictions:\n",
      "++++++++++++++++++++++++++++++\n",
      "Restriction 1\n",
      "Variable names: [:x_1, :y_1, :y_2]\n",
      "Expression (string): (-2x_1 + y_1 - y_2) == -2.5\n",
      "Parsed expression: 4.449999999999999 - 2x_1 + y_1 - y_2\n",
      "Evaluation point: Dict{Any, Any}(\"x_1\" => 4.5, \"x_2\" => 1.6, \"y_2\" => 1.55, \"y_1\" => 6.1000000000000005)\n",
      "Evaluation value: -1.9499999999999995\n",
      "Additional constant: 1.9499999999999995\n",
      "Restriction type: LtEq\n",
      "Restriction set type: J_0_L0_v\n",
      "Value of miu: 0\n",
      "Value of beta: 3.3000000000000003\n",
      "Value of lambda: 0.96\n",
      "Value of gamma: 3.9000000000000004\n",
      "++++++++++++++++++++++++++++++\n",
      "++++++++++++++++++++++++++++++\n",
      "Restriction 2\n",
      "Variable names: [:x_1, :x_2, :y_2]\n",
      "Expression (string): (x_1 - 3x_2 + y_2) == 2\n",
      "Parsed expression: -1.2499999999999993 + x_1 - 3x_2 + y_2\n",
      "Evaluation point: Dict{Any, Any}(\"x_1\" => 4.5, \"x_2\" => 1.6, \"y_2\" => 1.55, \"y_1\" => 6.1000000000000005)\n",
      "Evaluation value: -0.7500000000000007\n",
      "Additional constant: 0.7500000000000007\n",
      "Restriction type: LtEq\n",
      "Restriction set type: J_0_LP_v\n",
      "Value of miu: 0\n",
      "Value of beta: 7.0\n",
      "Value of lambda: 0.7\n",
      "Value of gamma: 3.0\n",
      "++++++++++++++++++++++++++++++\n",
      "++++++++++++++++++++++++++++++\n",
      "Restriction 3\n",
      "Variable names: [:x_1, :x_2]\n",
      "Expression (string): (x_1 + x_2) == 2\n",
      "Parsed expression: -6.46 + x_1 + x_2\n",
      "Evaluation point: Dict{Any, Any}(\"x_1\" => 4.5, \"x_2\" => 1.6, \"y_2\" => 1.55, \"y_1\" => 6.1000000000000005)\n",
      "Evaluation value: 4.1\n",
      "Additional constant: -4.46\n",
      "Restriction type: LtEq\n",
      "Restriction set type: J_Ne_L0_v\n",
      "Value of miu: 0\n",
      "Value of beta: 6.3\n",
      "Value of lambda: 0.8\n",
      "Value of gamma: 0.4\n",
      "++++++++++++++++++++++++++++++\n",
      "------------------------------\n",
      "Evaluation Point:\n",
      "Dict{Any, Any}(\"x_1\" => 4.5, \"x_2\" => 1.6, \"y_2\" => 1.55, \"y_1\" => 6.1000000000000005)\n",
      "------------------------------\n",
      "_\n",
      "\n",
      "Num[-4.699999999999999, 13.7, -3.8000000000000003, -3.6999999999999997]\n",
      "Se va a crear el DataFrame\n",
      "Se va a crear el DataFrame\n",
      "La carpeta ya existe: d:\\GitHub\\Tesis\\experiment\\linear\\ex9.1.8\\Experimentos_Generador\n",
      "Se va a crear el DataFrame\n",
      "La carpeta ya existe: d:\\GitHub\\Tesis\\experiment\\linear\\ex9.1.8\\Experimentos_Generador\n",
      "Experimento Completado\n",
      "Finilizado el experimento completo\n"
     ]
    }
   ],
   "source": [
    "RunExperiment(experiment,\"ex9.1.9(Linear)\",true)"
   ]
  }
 ],
 "metadata": {
  "kernelspec": {
   "display_name": "Julia 1.11.3",
   "language": "julia",
   "name": "julia-1.11"
  },
  "language_info": {
   "file_extension": ".jl",
   "mimetype": "application/julia",
   "name": "julia",
   "version": "1.11.3"
  }
 },
 "nbformat": 4,
 "nbformat_minor": 2
}
