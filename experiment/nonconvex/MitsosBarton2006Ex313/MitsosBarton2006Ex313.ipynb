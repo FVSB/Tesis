{
 "cells": [
  {
   "cell_type": "markdown",
   "metadata": {},
   "source": [
    "## Importaciones necesarias"
   ]
  },
  {
   "cell_type": "code",
   "execution_count": 1,
   "metadata": {},
   "outputs": [],
   "source": [
    "using JuMP, Ipopt, Complementarity"
   ]
  },
  {
   "cell_type": "markdown",
   "metadata": {},
   "source": [
    "# Crear el modelo"
   ]
  },
  {
   "cell_type": "code",
   "execution_count": 2,
   "metadata": {},
   "outputs": [
    {
     "data": {
      "text/plain": [
       "A JuMP Model\n",
       "├ solver: Ipopt\n",
       "├ objective_sense: FEASIBILITY_SENSE\n",
       "├ num_variables: 0\n",
       "├ num_constraints: 0\n",
       "└ Names registered in the model: none"
      ]
     },
     "metadata": {},
     "output_type": "display_data"
    }
   ],
   "source": [
    "# Crear el modelo\n",
    "model = Model(Ipopt.Optimizer)"
   ]
  },
  {
   "cell_type": "markdown",
   "metadata": {},
   "source": [
    "## Definir Variables\n"
   ]
  },
  {
   "cell_type": "code",
   "execution_count": 3,
   "metadata": {},
   "outputs": [
    {
     "data": {
      "text/plain": [
       "2-element Vector{VariableRef}:\n",
       " l[1]\n",
       " l[2]"
      ]
     },
     "metadata": {},
     "output_type": "display_data"
    }
   ],
   "source": [
    "# Nivel superior\n",
    "@variable(model,x)\n",
    "# Nivel Inferior\n",
    "@variable(model,y)\n",
    "# Complementariedad\n",
    "@variable(model,l[1:2])"
   ]
  },
  {
   "cell_type": "markdown",
   "metadata": {},
   "source": [
    "## Definir Objetivo\n"
   ]
  },
  {
   "cell_type": "code",
   "execution_count": 4,
   "metadata": {},
   "outputs": [
    {
     "data": {
      "text/latex": [
       "$ x - y $"
      ],
      "text/plain": [
       "x - y"
      ]
     },
     "metadata": {},
     "output_type": "display_data"
    }
   ],
   "source": [
    "@objective(model,Min,x-y)"
   ]
  },
  {
   "cell_type": "markdown",
   "metadata": {},
   "source": [
    "## Definir Restricciones\n"
   ]
  },
  {
   "cell_type": "code",
   "execution_count": 5,
   "metadata": {},
   "outputs": [
    {
     "data": {
      "text/latex": [
       "$$ (((x * y - x ^ {3.0}) - l[1]) + l[2]) - 0.0 = 0 $$"
      ],
      "text/plain": [
       "(((x * y - x ^ 3.0) - l[1]) + l[2]) - 0.0 == 0"
      ]
     },
     "metadata": {},
     "output_type": "display_data"
    }
   ],
   "source": [
    "@NLconstraint(model,x*y-x^3-l[1]+l[2]==0) # Obj nivel inferior"
   ]
  },
  {
   "cell_type": "code",
   "execution_count": 6,
   "metadata": {},
   "outputs": [
    {
     "data": {
      "text/plain": [
       "(-x <= 1, x <= 1, -y <= 1, y <= 1)"
      ]
     },
     "metadata": {},
     "output_type": "display_data"
    }
   ],
   "source": [
    "@constraints(model,begin\n",
    "-x-1<=0  #gs\n",
    "x-1<=0  #gs\n",
    "-y-1<=0  #vs\n",
    "y-1<=0 #vs\n",
    "end)"
   ]
  },
  {
   "cell_type": "markdown",
   "metadata": {},
   "source": [
    "## Definir restricciones Complementarias"
   ]
  },
  {
   "cell_type": "code",
   "execution_count": 7,
   "metadata": {},
   "outputs": [
    {
     "data": {
      "text/latex": [
       "$$ (sqrt(l[2] ^ {2.0} + (1.0 + -1.0 * y) ^ {2.0} + 1.0e-8) - (l[2] + (1.0 + -1.0 * y))) - 0.0 = 0 $$"
      ],
      "text/plain": [
       "(sqrt(l[2] ^ 2.0 + (1.0 + -1.0 * y) ^ 2.0 + 1.0e-8) - (l[2] + (1.0 + -1.0 * y))) - 0.0 == 0"
      ]
     },
     "metadata": {},
     "output_type": "display_data"
    }
   ],
   "source": [
    "@complements(model,0<=y+1,l[1]>=0)\n",
    "@complements(model,0<=-y+1,l[2]>=0)"
   ]
  },
  {
   "cell_type": "markdown",
   "metadata": {},
   "source": [
    "## Optimizar"
   ]
  },
  {
   "cell_type": "code",
   "execution_count": 8,
   "metadata": {},
   "outputs": [
    {
     "name": "stdout",
     "output_type": "stream",
     "text": [
      "\n",
      "******************************************************************************\n",
      "This program contains Ipopt, a library for large-scale nonlinear optimization.\n",
      " Ipopt is released as open source code under the Eclipse Public License (EPL).\n",
      "         For more information visit https://github.com/coin-or/Ipopt\n",
      "******************************************************************************\n",
      "\n",
      "This is Ipopt version 3.14.16, running with linear solver MUMPS 5.7.3.\n",
      "\n",
      "Number of nonzeros in equality constraint Jacobian...:        8\n",
      "Number of nonzeros in inequality constraint Jacobian.:        8\n",
      "Number of nonzeros in Lagrangian Hessian.............:        9\n",
      "\n",
      "Total number of variables............................:        4\n",
      "                     variables with only lower bounds:        0\n",
      "                variables with lower and upper bounds:        0\n",
      "                     variables with only upper bounds:        0\n",
      "Total number of equality constraints.................:        3\n",
      "Total number of inequality constraints...............:        8\n",
      "        inequality constraints with only lower bounds:        4\n",
      "   inequality constraints with lower and upper bounds:        0\n",
      "        inequality constraints with only upper bounds:        4\n",
      "\n",
      "iter    objective    inf_pr   inf_du lg(mu)  ||d||  lg(rg) alpha_du alpha_pr  ls\n",
      "   0  0.0000000e+00 5.00e-09 1.00e+00  -1.0 0.00e+00    -  0.00e+00 0.00e+00   0\n",
      "   1 -4.9500075e-01 1.21e-01 7.28e+07  -1.7 5.00e-01    -  6.69e-01 9.90e-01f  1\n",
      "   2 -1.7373759e+00 2.46e-01 2.20e+06  -1.7 2.89e+06   0.0 3.43e-07 2.57e-07f  1\n",
      "   3 -3.8132373e-01 1.85e-01 8.53e+05  -1.7 8.71e-01   4.9 1.02e-02 9.90e-01h  1\n",
      "   4 -6.6530963e-01 2.21e-01 2.51e+05  -1.7 9.81e-01    -  1.00e+00 1.00e+00H  1\n",
      "   5 -1.7539939e+00 2.34e-01 1.36e+05  -1.7 5.46e+00    -  1.84e-01 1.32e-01f  1\n",
      "   6 -1.7715790e+00 2.28e-01 1.32e+05  -1.7 5.79e-01    -  1.00e+00 2.40e-02h  1\n",
      "   7 -1.7719270e+00 2.28e-01 1.84e+05  -1.7 3.11e-01    -  1.00e+00 1.00e-03h  1\n",
      "   8 -1.9977175e+00 2.28e-03 1.46e+04  -1.7 2.28e-01    -  1.00e+00 9.90e-01h  1\n",
      "   9 -1.9999660e+00 7.55e-05 3.11e+07  -1.7 2.26e-03    -  1.23e-02 9.98e-01h  1\n",
      "iter    objective    inf_pr   inf_du lg(mu)  ||d||  lg(rg) alpha_du alpha_pr  ls\n",
      "  10 -1.9998806e+00 1.50e-05 8.78e+06  -1.7 4.65e-05    -  9.45e-02 1.00e+00f  1\n",
      "  11 -1.9998539e+00 7.82e-07 9.08e+05  -1.7 1.36e-05    -  8.36e-01 1.00e+00f  1\n",
      "  12 -1.9998523e+00 2.16e-09 4.86e+03  -1.7 7.92e-07    -  1.00e+00 1.00e+00h  1\n",
      "  13 -1.9998495e+00 4.04e-08 1.56e+02  -1.7 2.61e-06    -  1.00e+00 1.00e+00f  1\n",
      "  14 -1.9998447e+00 9.94e-08 1.97e+01  -2.5 4.28e-06   6.3 1.00e+00 1.00e+00h  1\n",
      "  15 -1.9998329e+00 5.07e-07 6.91e+00  -2.5 1.03e-05   5.8 1.00e+00 1.00e+00h  1\n",
      "  16 -1.9998105e+00 1.11e-06 2.64e+04  -3.8 1.80e-05    -  8.77e-01 1.00e+00h  1\n",
      "  17 -1.9997911e+00 4.14e-07 2.30e-01  -3.8 1.43e-05    -  1.00e+00 1.00e+00h  1\n",
      "  18 -1.9996961e+00 1.09e-06 6.47e-01  -3.8 5.62e-05    -  1.00e+00 1.00e+00H  1\n",
      "  19 -1.9997217e+00 2.43e-07 1.96e-02  -3.8 1.83e-05    -  1.00e+00 1.00e+00h  1\n",
      "iter    objective    inf_pr   inf_du lg(mu)  ||d||  lg(rg) alpha_du alpha_pr  ls\n",
      "  20 -1.9999717e+00 5.83e-05 4.54e+03  -5.7 2.11e-04    -  4.54e-01 8.36e-01h  1\n",
      "  21 -1.9999424e+00 3.71e-05 3.88e+03  -5.7 1.11e-04    -  2.53e-01 5.00e-01f  2\n",
      "  22 -1.9998903e+00 9.97e-06 9.16e+01  -5.7 4.58e-05    -  9.81e-01 1.00e+00h  1\n",
      "  23 -1.9998863e+00 4.43e-06 2.31e-01  -5.7 4.10e-05    -  1.00e+00 1.00e+00h  1\n",
      "  24 -1.9998776e+00 6.44e-08 1.50e-02  -5.7 5.80e-06    -  1.00e+00 1.00e+00h  1\n",
      "  25 -1.9998776e+00 3.68e-08 4.67e-04  -5.7 4.28e-06    -  1.00e+00 1.00e+00h  1\n",
      "  26 -1.9998775e+00 2.76e-11 4.54e-07  -5.7 1.43e-07    -  1.00e+00 1.00e+00h  1\n",
      "  27 -1.9998775e+00 1.81e-09 9.27e-01  -8.6 9.34e-07    -  9.94e-01 1.00e+00h  1\n",
      "  28 -1.9998775e+00 1.72e-13 1.85e-08  -8.6 7.09e-09    -  1.00e+00 1.00e+00h  1\n",
      "  29 -1.9998775e+00 1.31e-15 2.58e-10  -9.0 7.94e-10    -  1.00e+00 1.00e+00h  1\n",
      "\n",
      "Number of Iterations....: 29\n",
      "\n",
      "                                   (scaled)                 (unscaled)\n",
      "Objective...............:  -1.9998775184287156e+00   -1.9998775184287156e+00\n",
      "Dual infeasibility......:   2.5761104360810805e-10    2.5761104360810805e-10\n",
      "Constraint violation....:   1.3116135781643390e-15    1.3116135781643390e-15\n",
      "Variable bound violation:   0.0000000000000000e+00    0.0000000000000000e+00\n",
      "Complementarity.........:   9.0910123747126289e-10    9.0910123747126289e-10\n",
      "Overall NLP error.......:   9.0910123747126289e-10    9.0910123747126289e-10\n",
      "\n",
      "\n",
      "Number of objective function evaluations             = 33\n",
      "Number of objective gradient evaluations             = 30\n",
      "Number of equality constraint evaluations            = 33\n",
      "Number of inequality constraint evaluations          = 33\n",
      "Number of equality constraint Jacobian evaluations   = 30\n",
      "Number of inequality constraint Jacobian evaluations = 30\n",
      "Number of Lagrangian Hessian evaluations             = 29\n",
      "Total seconds in IPOPT                               = 2.962\n",
      "\n",
      "EXIT: Optimal Solution Found.\n"
     ]
    }
   ],
   "source": [
    "# Resolver el modelo\n",
    "optimize!(model)"
   ]
  },
  {
   "cell_type": "markdown",
   "metadata": {},
   "source": [
    "# Mostrar resultados"
   ]
  },
  {
   "cell_type": "code",
   "execution_count": 9,
   "metadata": {},
   "outputs": [
    {
     "name": "stdout",
     "output_type": "stream",
     "text": [
      "Estado de la solución: LOCALLY_SOLVED\n",
      "Valor óptimo de x: -0.9999183470207458\n",
      "Valor óptimo de y1: 0.9999591714079697\n",
      "Valores óptimos de l: [2.500051067903079e-9, 0.0001224631992227702]\n"
     ]
    }
   ],
   "source": [
    "# Mostrar resultados\n",
    "println(\"Estado de la solución: \", termination_status(model))\n",
    "println(\"Valor óptimo de x: \", value(x))\n",
    "println(\"Valor óptimo de y1: \", value(y))\n",
    "#println(\"Valor óptimo de y2: \", value(y))\n",
    "#println(\"Valores óptimos de s: \", value.(s))\n",
    "println(\"Valores óptimos de l: \", value.(l))"
   ]
  },
  {
   "cell_type": "code",
   "execution_count": 10,
   "metadata": {},
   "outputs": [],
   "source": []
  }
 ],
 "metadata": {
  "kernelspec": {
   "display_name": "Julia 1.10.5",
   "language": "julia",
   "name": "julia-1.10"
  },
  "language_info": {
   "file_extension": ".jl",
   "mimetype": "application/julia",
   "name": "julia",
   "version": "1.10.5"
  }
 },
 "nbformat": 4,
 "nbformat_minor": 2
}
