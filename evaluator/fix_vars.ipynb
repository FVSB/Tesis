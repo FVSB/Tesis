{
 "cells": [
  {
   "cell_type": "markdown",
   "metadata": {},
   "source": [
    "## Importar el modulo\n"
   ]
  },
  {
   "cell_type": "code",
   "execution_count": 1,
   "metadata": {},
   "outputs": [
    {
     "data": {
      "text/plain": [
       "Main.ProblemFunction"
      ]
     },
     "metadata": {},
     "output_type": "display_data"
    }
   ],
   "source": [
    "include(\"function.jl\")"
   ]
  },
  {
   "cell_type": "code",
   "execution_count": 2,
   "metadata": {},
   "outputs": [],
   "source": [
    "using .ProblemFunction"
   ]
  },
  {
   "cell_type": "markdown",
   "metadata": {},
   "source": [
    "Variables del lider"
   ]
  },
  {
   "cell_type": "code",
   "execution_count": 3,
   "metadata": {},
   "outputs": [
    {
     "data": {
      "text/plain": [
       "2-element Vector{String}:\n",
       " \"x_1\"\n",
       " \"x_2\""
      ]
     },
     "metadata": {},
     "output_type": "display_data"
    }
   ],
   "source": [
    "lider_vars=[\"x_1\",\"x_2\"]"
   ]
  },
  {
   "cell_type": "markdown",
   "metadata": {},
   "source": [
    "Variables del follower"
   ]
  },
  {
   "cell_type": "code",
   "execution_count": 4,
   "metadata": {},
   "outputs": [
    {
     "data": {
      "text/plain": [
       "2-element Vector{String}:\n",
       " \"y_1\"\n",
       " \"y_2\""
      ]
     },
     "metadata": {},
     "output_type": "display_data"
    }
   ],
   "source": [
    "follower_vars=[\"y_1\",\"y_2\"]"
   ]
  },
  {
   "cell_type": "markdown",
   "metadata": {},
   "source": [
    "Concatenar las variables de los dos niveles"
   ]
  },
  {
   "cell_type": "code",
   "execution_count": 5,
   "metadata": {},
   "outputs": [
    {
     "data": {
      "text/plain": [
       "4-element Vector{String}:\n",
       " \"x_1\"\n",
       " \"x_2\"\n",
       " \"y_1\"\n",
       " \"y_2\""
      ]
     },
     "metadata": {},
     "output_type": "display_data"
    }
   ],
   "source": [
    "problem_vars_str=vcat(lider_vars,follower_vars)"
   ]
  },
  {
   "cell_type": "markdown",
   "metadata": {},
   "source": [
    "convertir a variables de Symbolics"
   ]
  },
  {
   "cell_type": "code",
   "execution_count": 6,
   "metadata": {},
   "outputs": [
    {
     "data": {
      "text/latex": [
       "$$ \\begin{equation}\n",
       "\\left[\n",
       "\\begin{array}{c}\n",
       "x_{1} \\\\\n",
       "x_{2} \\\\\n",
       "y_{1} \\\\\n",
       "y_{2} \\\\\n",
       "\\end{array}\n",
       "\\right]\n",
       "\\end{equation}\n",
       " $$"
      ],
      "text/plain": [
       "4-element Vector{Symbolics.Num}:\n",
       " x_1\n",
       " x_2\n",
       " y_1\n",
       " y_2"
      ]
     },
     "metadata": {},
     "output_type": "display_data"
    }
   ],
   "source": [
    "problem_vars=map(ProblemFunction.convert_Symbol_to_symbolic_num,problem_vars_str)"
   ]
  },
  {
   "cell_type": "markdown",
   "metadata": {},
   "source": [
    "## Declarar la funcion del lider"
   ]
  },
  {
   "cell_type": "code",
   "execution_count": 7,
   "metadata": {},
   "outputs": [
    {
     "data": {
      "text/plain": [
       "\"((x_1^2)*(y_1^2)*(y_2))+x_2\""
      ]
     },
     "metadata": {},
     "output_type": "display_data"
    }
   ],
   "source": [
    "leader_func_str::String=\"((x_1^2)*(y_1^2)*(y_2))+x_2\""
   ]
  },
  {
   "cell_type": "markdown",
   "metadata": {},
   "source": [
    "### Definir restricciones del lider"
   ]
  },
  {
   "cell_type": "code",
   "execution_count": 8,
   "metadata": {},
   "outputs": [
    {
     "data": {
      "text/plain": []
     },
     "metadata": {},
     "output_type": "display_data"
    },
    {
     "name": "stdout",
     "output_type": "stream",
     "text": [
      "Mostrar las definiciones de las restricciones\n",
      "------------------------------\n",
      "Tipo de restriccion Eq\n",
      "------------------------------\n",
      "Conjunto de indices al que pertenece J_0_g \n",
      "------------------------------\n",
      "Es de la funcion lider true\n",
      "------------------------------\n",
      "El valor de miu es 0.3\n",
      "------------------------------\n",
      "El valor de beta es 0\n",
      "------------------------------\n",
      "El valor de lambda es 0\n",
      "------------------------------\n"
     ]
    }
   ],
   "source": [
    "g_1=Def_Restriction_init(\"x_1+y_2-y_1==9\",J_0_g,Eq,true,0.3,0,0)"
   ]
  },
  {
   "cell_type": "markdown",
   "metadata": {},
   "source": [
    "Crear un vector con las G_s"
   ]
  },
  {
   "cell_type": "code",
   "execution_count": 9,
   "metadata": {},
   "outputs": [
    {
     "data": {
      "text/plain": [
       "1-element Vector{Def_Restriction}:\n",
       " "
      ]
     },
     "metadata": {},
     "output_type": "display_data"
    },
    {
     "name": "stdout",
     "output_type": "stream",
     "text": [
      "Mostrar las definiciones de las restricciones\n",
      "------------------------------\n",
      "Tipo de restriccion Eq\n",
      "------------------------------\n",
      "Conjunto de indices al que pertenece J_0_g \n",
      "------------------------------\n",
      "Es de la funcion lider true\n",
      "------------------------------\n",
      "El valor de miu es 0.3\n",
      "------------------------------\n",
      "El valor de beta es 0\n",
      "------------------------------\n",
      "El valor de lambda es 0\n",
      "------------------------------\n",
      "Mostrar las definiciones de las restricciones\n",
      "------------------------------\n",
      "Tipo de restriccion Eq\n",
      "------------------------------\n",
      "Conjunto de indices al que pertenece J_0_g \n",
      "------------------------------\n",
      "Es de la funcion lider true\n",
      "------------------------------\n",
      "El valor de miu es 0.3\n",
      "------------------------------\n",
      "El valor de beta es 0\n",
      "------------------------------\n",
      "El valor de lambda es 0\n",
      "------------------------------\n",
      "Mostrar las definiciones de las restricciones\n",
      "------------------------------\n",
      "Tipo de restriccion Eq\n",
      "------------------------------\n",
      "Conjunto de indices al que pertenece J_0_g \n",
      "------------------------------\n",
      "Es de la funcion lider true\n",
      "------------------------------\n",
      "El valor de miu es 0.3\n",
      "------------------------------\n",
      "El valor de beta es 0\n",
      "------------------------------\n",
      "El valor de lambda es 0\n",
      "------------------------------\n"
     ]
    }
   ],
   "source": [
    "g_s=[g_1]"
   ]
  },
  {
   "cell_type": "markdown",
   "metadata": {},
   "source": [
    "## Definir el nivel inferior"
   ]
  },
  {
   "cell_type": "markdown",
   "metadata": {},
   "source": [
    "### Funcion del follower"
   ]
  },
  {
   "cell_type": "code",
   "execution_count": 10,
   "metadata": {},
   "outputs": [
    {
     "data": {
      "text/plain": [
       "\"((x_1^2)*(y_1^2)*(y_2))+x_2\""
      ]
     },
     "metadata": {},
     "output_type": "display_data"
    }
   ],
   "source": [
    "Follower_str_expr=\"((x_1^2)*(y_1^2)*(y_2))+x_2\""
   ]
  },
  {
   "cell_type": "markdown",
   "metadata": {},
   "source": [
    "#### Restricciones del follower"
   ]
  },
  {
   "cell_type": "code",
   "execution_count": 11,
   "metadata": {},
   "outputs": [
    {
     "data": {
      "text/plain": []
     },
     "metadata": {},
     "output_type": "display_data"
    },
    {
     "name": "stdout",
     "output_type": "stream",
     "text": [
      "Mostrar las definiciones de las restricciones\n",
      "------------------------------\n",
      "Tipo de restriccion Lt\n",
      "------------------------------\n",
      "Conjunto de indices al que pertenece J_Ne_L0_v \n",
      "------------------------------\n",
      "Es de la funcion lider false\n",
      "------------------------------\n",
      "El valor de miu es 0\n",
      "------------------------------\n",
      "El valor de beta es 0\n",
      "------------------------------\n",
      "El valor de lambda es 1\n",
      "------------------------------\n"
     ]
    }
   ],
   "source": [
    "v_1=Def_Restriction_init(\"((x_1^2)*(y_1^2)*(y_2))+x_2==0\",J_Ne_L0_v,Lt,false,0,0,1)"
   ]
  },
  {
   "cell_type": "markdown",
   "metadata": {},
   "source": [
    "Agrupar las $v_s$ en un vector"
   ]
  },
  {
   "cell_type": "code",
   "execution_count": 12,
   "metadata": {},
   "outputs": [
    {
     "data": {
      "text/plain": [
       "1-element Vector{Def_Restriction}:\n",
       " "
      ]
     },
     "metadata": {},
     "output_type": "display_data"
    },
    {
     "name": "stdout",
     "output_type": "stream",
     "text": [
      "Mostrar las definiciones de las restricciones\n",
      "------------------------------\n",
      "Tipo de restriccion Lt\n",
      "------------------------------\n",
      "Conjunto de indices al que pertenece J_Ne_L0_v \n",
      "------------------------------\n",
      "Es de la funcion lider false\n",
      "------------------------------\n",
      "El valor de miu es 0\n",
      "------------------------------\n",
      "El valor de beta es 0\n",
      "------------------------------\n",
      "El valor de lambda es 1\n",
      "------------------------------\n",
      "Mostrar las definiciones de las restricciones\n",
      "------------------------------\n",
      "Tipo de restriccion Lt\n",
      "------------------------------\n",
      "Conjunto de indices al que pertenece J_Ne_L0_v \n",
      "------------------------------\n",
      "Es de la funcion lider false\n",
      "------------------------------\n",
      "El valor de miu es 0\n",
      "------------------------------\n",
      "El valor de beta es 0\n",
      "------------------------------\n",
      "El valor de lambda es 1\n",
      "------------------------------\n",
      "Mostrar las definiciones de las restricciones\n",
      "------------------------------\n",
      "Tipo de restriccion Lt\n",
      "------------------------------\n",
      "Conjunto de indices al que pertenece J_Ne_L0_v \n",
      "------------------------------\n",
      "Es de la funcion lider false\n",
      "------------------------------\n",
      "El valor de miu es 0\n",
      "------------------------------\n",
      "El valor de beta es 0\n",
      "------------------------------\n",
      "El valor de lambda es 1\n",
      "------------------------------\n"
     ]
    }
   ],
   "source": [
    "v_s=[v_1]"
   ]
  },
  {
   "cell_type": "markdown",
   "metadata": {},
   "source": [
    "#### Definir los Lambdas"
   ]
  },
  {
   "cell_type": "code",
   "execution_count": 13,
   "metadata": {},
   "outputs": [
    {
     "data": {
      "text/plain": [
       "Dict{Def_Restriction, Int64} with 1 entry:\n",
       "   => 0"
      ]
     },
     "metadata": {},
     "output_type": "display_data"
    },
    {
     "name": "stdout",
     "output_type": "stream",
     "text": [
      "Mostrar las definiciones de las restricciones\n",
      "------------------------------\n",
      "Tipo de restriccion Lt\n",
      "------------------------------\n",
      "Conjunto de indices al que pertenece J_Ne_L0_v \n",
      "------------------------------\n",
      "Es de la funcion lider false\n",
      "------------------------------\n",
      "El valor de miu es 0\n",
      "------------------------------\n",
      "El valor de beta es 0\n",
      "------------------------------\n",
      "El valor de lambda es 1\n",
      "------------------------------\n"
     ]
    }
   ],
   "source": [
    "lambdas=Dict(v_1=>0)"
   ]
  },
  {
   "cell_type": "markdown",
   "metadata": {},
   "source": [
    "Definir los $\\beta_j$"
   ]
  },
  {
   "cell_type": "code",
   "execution_count": 14,
   "metadata": {},
   "outputs": [
    {
     "data": {
      "text/plain": [
       "Dict{Def_Restriction, Float64} with 1 entry:\n",
       "   => 0.1"
      ]
     },
     "metadata": {},
     "output_type": "display_data"
    },
    {
     "name": "stdout",
     "output_type": "stream",
     "text": [
      "Mostrar las definiciones de las restricciones\n",
      "------------------------------\n",
      "Tipo de restriccion Lt\n",
      "------------------------------\n",
      "Conjunto de indices al que pertenece J_Ne_L0_v \n",
      "------------------------------\n",
      "Es de la funcion lider false\n",
      "------------------------------\n",
      "El valor de miu es 0\n",
      "------------------------------\n",
      "El valor de beta es 0\n",
      "------------------------------\n",
      "El valor de lambda es 1\n",
      "------------------------------\n"
     ]
    }
   ],
   "source": [
    "beta_j=Dict(v_1=>0.1)"
   ]
  },
  {
   "cell_type": "markdown",
   "metadata": {},
   "source": [
    "#### Declarar $\\alpha$  tiene dimension de y"
   ]
  },
  {
   "cell_type": "code",
   "execution_count": 15,
   "metadata": {},
   "outputs": [
    {
     "data": {
      "text/plain": [
       "1-element Vector{Float64}:\n",
       " 0.2"
      ]
     },
     "metadata": {},
     "output_type": "display_data"
    }
   ],
   "source": [
    "alpha=[0.2]"
   ]
  },
  {
   "cell_type": "markdown",
   "metadata": {},
   "source": [
    "## Ver condiciones para la factibilidad"
   ]
  },
  {
   "cell_type": "markdown",
   "metadata": {},
   "source": [
    "#### Punto: $x_1 = 3$ $x_2 = 2 $ $y_1=5$ $y_2=2$"
   ]
  },
  {
   "cell_type": "code",
   "execution_count": 16,
   "metadata": {},
   "outputs": [
    {
     "data": {
      "text/plain": [
       "Dict{String, Int64} with 4 entries:\n",
       "  \"x_1\" => 1\n",
       "  \"x_2\" => 1\n",
       "  \"y_2\" => 1\n",
       "  \"y_1\" => 1"
      ]
     },
     "metadata": {},
     "output_type": "display_data"
    }
   ],
   "source": [
    "point=Dict(\"x_1\"=>1,\"x_2\"=>1,\"y_1\"=>1,\"y_2\"=>1)"
   ]
  },
  {
   "cell_type": "code",
   "execution_count": 17,
   "metadata": {},
   "outputs": [
    {
     "name": "stdout",
     "output_type": "stream",
     "text": [
      "Mostrar la funcion objetivo del lider\n",
      "Nombre de variables: [:x_1, :y_1, :y_2, :x_2] \n",
      "Expresion en str: ((x_1^2)*(y_1^2)*(y_2))+x_2\n",
      "Expresion parseada x_2 + (x_1^2)*(y_1^2)*y_2\n",
      "Punto a evaluar Dict(\"x_1\" => 1, \"x_2\" => 1, \"y_2\" => 1, \"y_1\" => 1)\n",
      "Valor de evaluacion 2\n",
      "Es funcion lider true\n",
      "------------------------------\n",
      "Mostrar las restricciones del lider\n",
      "++++++++++++++++++++++++++++++\n",
      "Restriccion 1\n",
      "Nombre de variables: [:x_1, :y_1, :y_2] \n",
      "Expresion en str: x_1+y_2-y_1==9\n",
      "Expresion parseada -9 + x_1 - y_1 + y_2\n",
      "Punto a evaluar Dict(\"x_1\" => 1, \"x_2\" => 1, \"y_2\" => 1, \"y_1\" => 1)\n",
      "Valor de evaluacion -8\n",
      "Valor constante añadida 8\n",
      "Tipo de restriccion Eq\n",
      "Cjt ind que pertenece J_0_g\n",
      "El valor de miu es 0.3\n",
      "El valor de Beta es 0\n",
      "El valor de lambda es 0\n",
      "++++++++++++++++++++++++++++++\n",
      "------------------------------\n",
      "Mostrar funcion del follower\n",
      "Nombre de variables: [:x_1, :y_1, :y_2, :x_2] \n",
      "Expresion en str: ((x_1^2)*(y_1^2)*(y_2))+x_2\n",
      "Expresion parseada x_2 + (x_1^2)*(y_1^2)*y_2\n",
      "Punto a evaluar Dict(\"x_1\" => 1, \"x_2\" => 1, \"y_2\" => 1, \"y_1\" => 1)\n",
      "Valor de evaluacion 2\n",
      "Es funcion lider false\n",
      "------------------------------\n",
      "Mostrar las restricciones del follower\n",
      "++++++++++++++++++++++++++++++\n",
      "Restriccion 1\n",
      "Nombre de variables: [:x_1, :y_1, :y_2, :x_2] \n",
      "Expresion en str: ((x_1^2)*(y_1^2)*(y_2))+x_2==0\n",
      "Expresion parseada x_2 + (x_1^2)*(y_1^2)*y_2\n",
      "Punto a evaluar Dict(\"x_1\" => 1, \"x_2\" => 1, \"y_2\" => 1, \"y_1\" => 1)\n",
      "Valor de evaluacion 2\n",
      "Valor constante añadida -2.458699970068146\n",
      "Tipo de restriccion Lt\n",
      "Cjt ind que pertenece J_Ne_L0_v\n",
      "El valor de miu es 0\n",
      "El valor de Beta es 0\n",
      "El valor de lambda es 1\n",
      "++++++++++++++++++++++++++++++\n",
      "------------------------------\n",
      "Evaluar en el punto Dict(\"x_1\" => 1, \"x_2\" => 1, \"y_2\" => 1, \"y_1\" => 1)\n",
      "------------------------------\n",
      "_\n"
     ]
    },
    {
     "data": {
      "text/plain": []
     },
     "metadata": {},
     "output_type": "display_data"
    }
   ],
   "source": [
    "opt_problem=Fix_Restrictions(leader_func_str,g_s,Follower_str_expr,v_s,point)"
   ]
  },
  {
   "cell_type": "markdown",
   "metadata": {},
   "source": [
    "Vector Gradiente de $F$"
   ]
  },
  {
   "cell_type": "code",
   "execution_count": 18,
   "metadata": {},
   "outputs": [
    {
     "data": {
      "text/plain": []
     },
     "metadata": {},
     "output_type": "display_data"
    },
    {
     "name": "stdout",
     "output_type": "stream",
     "text": [
      "Nombre de variables: [:x_1, :y_1, :y_2, :x_2] \n",
      "Expresion en str: ((x_1^2)*(y_1^2)*(y_2))+x_2\n",
      "Expresion parseada x_2 + (x_1^2)*(y_1^2)*y_2\n",
      "Punto a evaluar Dict(\"x_1\" => 1, \"x_2\" => 1, \"y_2\" => 1, \"y_1\" => 1)\n",
      "Valor de evaluacion 2\n",
      "Es funcion lider true\n"
     ]
    }
   ],
   "source": [
    "leader_fun=opt_problem.leader_fun"
   ]
  },
  {
   "cell_type": "markdown",
   "metadata": {},
   "source": [
    "expresion parseada del lider"
   ]
  },
  {
   "cell_type": "code",
   "execution_count": 19,
   "metadata": {},
   "outputs": [
    {
     "data": {
      "text/latex": [
       "$$ \\begin{equation}\n",
       "x_{2} + y_{1}^{2} x_{1}^{2} y_{2}\n",
       "\\end{equation}\n",
       " $$"
      ],
      "text/plain": [
       "x_2 + (x_1^2)*(y_1^2)*y_2"
      ]
     },
     "metadata": {},
     "output_type": "display_data"
    }
   ],
   "source": [
    "leader_expr=leader_fun.expr"
   ]
  },
  {
   "cell_type": "code",
   "execution_count": 20,
   "metadata": {},
   "outputs": [],
   "source": [
    "using Symbolics"
   ]
  },
  {
   "cell_type": "code",
   "execution_count": 21,
   "metadata": {},
   "outputs": [
    {
     "data": {
      "text/plain": [
       "Num"
      ]
     },
     "metadata": {},
     "output_type": "display_data"
    }
   ],
   "source": [
    "typeof(leader_expr)"
   ]
  },
  {
   "cell_type": "code",
   "execution_count": 22,
   "metadata": {},
   "outputs": [
    {
     "data": {
      "text/plain": [
       "Vector{Num}\u001b[90m (alias for \u001b[39m\u001b[90mArray{Num, 1}\u001b[39m\u001b[90m)\u001b[39m"
      ]
     },
     "metadata": {},
     "output_type": "display_data"
    }
   ],
   "source": [
    "typeof(problem_vars)"
   ]
  },
  {
   "cell_type": "markdown",
   "metadata": {},
   "source": [
    "#### Calculadora de gradientes de una lista de vectores\n"
   ]
  },
  {
   "cell_type": "code",
   "execution_count": 23,
   "metadata": {},
   "outputs": [
    {
     "data": {
      "text/plain": [
       "gradient_from_vector_func (generic function with 1 method)"
      ]
     },
     "metadata": {},
     "output_type": "display_data"
    }
   ],
   "source": [
    "function gradient_from_vector_func(funcs::Vector{Num},vars::Vector{Num})\n",
    "    resp=[]\n",
    "    for item in funcs\n",
    "        push!(resp,ProblemFunction.Symbolics.gradient(item,vars))\n",
    "    end\n",
    "    return resp\n",
    "end"
   ]
  },
  {
   "cell_type": "code",
   "execution_count": 24,
   "metadata": {},
   "outputs": [
    {
     "data": {
      "text/latex": [
       "$$ \\begin{equation}\n",
       "x_{2} + y_{1}^{2} x_{1}^{2} y_{2}\n",
       "\\end{equation}\n",
       " $$"
      ],
      "text/plain": [
       "x_2 + (x_1^2)*(y_1^2)*y_2"
      ]
     },
     "metadata": {},
     "output_type": "display_data"
    }
   ],
   "source": [
    "leader_expr"
   ]
  },
  {
   "cell_type": "code",
   "execution_count": 25,
   "metadata": {},
   "outputs": [
    {
     "data": {
      "text/latex": [
       "$$ \\begin{equation}\n",
       "\\left[\n",
       "\\begin{array}{c}\n",
       "2 y_{1}^{2} x_{1} y_{2} \\\\\n",
       "1 \\\\\n",
       "2 x_{1}^{2} y_{1} y_{2} \\\\\n",
       "y_{1}^{2} x_{1}^{2} \\\\\n",
       "\\end{array}\n",
       "\\right]\n",
       "\\end{equation}\n",
       " $$"
      ],
      "text/plain": [
       "4-element Vector{Num}:\n",
       " 2x_1*(y_1^2)*y_2\n",
       "                1\n",
       " 2(x_1^2)*y_1*y_2\n",
       "  (x_1^2)*(y_1^2)"
      ]
     },
     "metadata": {},
     "output_type": "display_data"
    }
   ],
   "source": [
    "grad_F=gradient_from_vector_func([leader_expr],problem_vars)[1]"
   ]
  },
  {
   "cell_type": "markdown",
   "metadata": {},
   "source": [
    "### Calcular los gradientes de las $g_s$"
   ]
  },
  {
   "cell_type": "code",
   "execution_count": 26,
   "metadata": {},
   "outputs": [
    {
     "data": {
      "text/latex": [
       "$$ \\begin{equation}\n",
       "\\left[\n",
       "\\begin{array}{c}\n",
       "-9 + x_{1} - y_{1} + y_{2} \\\\\n",
       "\\end{array}\n",
       "\\right]\n",
       "\\end{equation}\n",
       " $$"
      ],
      "text/plain": [
       "1-element Vector{Num}:\n",
       " -9 + x_1 - y_1 + y_2"
      ]
     },
     "metadata": {},
     "output_type": "display_data"
    }
   ],
   "source": [
    "g_s_expr=map(i ->i.expr,opt_problem.leader_restrictions)"
   ]
  },
  {
   "cell_type": "code",
   "execution_count": 27,
   "metadata": {},
   "outputs": [
    {
     "data": {
      "text/plain": [
       "1-element Vector{Any}:\n",
       " Num[1, 0, -1, 1]"
      ]
     },
     "metadata": {},
     "output_type": "display_data"
    }
   ],
   "source": [
    "grad_g_s=gradient_from_vector_func(g_s_expr,problem_vars)"
   ]
  },
  {
   "cell_type": "code",
   "execution_count": 28,
   "metadata": {},
   "outputs": [
    {
     "data": {
      "text/plain": [
       "Vector{Num}\u001b[90m (alias for \u001b[39m\u001b[90mArray{Num, 1}\u001b[39m\u001b[90m)\u001b[39m"
      ]
     },
     "metadata": {},
     "output_type": "display_data"
    }
   ],
   "source": [
    "typeof(problem_vars)"
   ]
  },
  {
   "cell_type": "markdown",
   "metadata": {},
   "source": [
    "Valor de la sumatoria de los vectores de las $g_s$ por su $miu_j$ correspondiente"
   ]
  },
  {
   "cell_type": "code",
   "execution_count": 29,
   "metadata": {},
   "outputs": [
    {
     "data": {
      "text/latex": [
       "$$ \\begin{equation}\n",
       "\\left[\n",
       "\\begin{array}{c}\n",
       "x_{1} \\\\\n",
       "x_{2} \\\\\n",
       "y_{1} \\\\\n",
       "y_{2} \\\\\n",
       "\\end{array}\n",
       "\\right]\n",
       "\\end{equation}\n",
       " $$"
      ],
      "text/plain": [
       "4-element Vector{Num}:\n",
       " x_1\n",
       " x_2\n",
       " y_1\n",
       " y_2"
      ]
     },
     "metadata": {},
     "output_type": "display_data"
    }
   ],
   "source": [
    "problem_vars"
   ]
  },
  {
   "cell_type": "code",
   "execution_count": 30,
   "metadata": {},
   "outputs": [
    {
     "data": {
      "text/latex": [
       "$$ \\begin{equation}\n",
       "\\left[\n",
       "\\begin{array}{c}\n",
       "1 \\\\\n",
       "1 \\\\\n",
       "1 \\\\\n",
       "1 \\\\\n",
       "\\end{array}\n",
       "\\right]\n",
       "\\end{equation}\n",
       " $$"
      ],
      "text/plain": [
       "4-element Vector{Num}:\n",
       " 1\n",
       " 1\n",
       " 1\n",
       " 1"
      ]
     },
     "metadata": {},
     "output_type": "display_data"
    }
   ],
   "source": [
    "ww=MyParser.substitute_point_in_vector(problem_vars,opt_problem.point)"
   ]
  },
  {
   "cell_type": "code",
   "execution_count": 31,
   "metadata": {},
   "outputs": [
    {
     "data": {
      "text/plain": [
       "Vector{Num}\u001b[90m (alias for \u001b[39m\u001b[90mArray{Num, 1}\u001b[39m\u001b[90m)\u001b[39m"
      ]
     },
     "metadata": {},
     "output_type": "display_data"
    }
   ],
   "source": [
    "typeof(ww)"
   ]
  },
  {
   "cell_type": "code",
   "execution_count": 32,
   "metadata": {},
   "outputs": [
    {
     "data": {
      "text/plain": [
       "calculate_g_s_active_mui_factor (generic function with 1 method)"
      ]
     },
     "metadata": {},
     "output_type": "display_data"
    }
   ],
   "source": [
    "function calculate_g_s_active_mui_factor(opt_problem::Optimization_Problem,problem_vars::Vector{Num})::Vector{Num}\n",
    "    vector_value=zeros(length(problem_vars))\n",
    "    for g in opt_problem.leader_restrictions\n",
    "        # Ahora debe sacar su expresion\n",
    "        g_expr=g.expr\n",
    "        grad_g=ProblemFunction.Symbolics.gradient(g_expr,problem_vars)\n",
    "        vector_result=MyParser.substitute_point_in_vector(grad_g,opt_problem.point)\n",
    "        vector_result=vector_result*g.miu\n",
    "        vector_value+=vector_result\n",
    "    end\n",
    "    return vector_value\n",
    "\n",
    "end"
   ]
  },
  {
   "cell_type": "markdown",
   "metadata": {},
   "source": [
    "### Vector de la suma de las $g_s$ cada una multiplicada por su miu"
   ]
  },
  {
   "cell_type": "code",
   "execution_count": 33,
   "metadata": {},
   "outputs": [
    {
     "data": {
      "text/latex": [
       "$$ \\begin{equation}\n",
       "\\left[\n",
       "\\begin{array}{c}\n",
       "0.3 \\\\\n",
       "0 \\\\\n",
       "-0.3 \\\\\n",
       "0.3 \\\\\n",
       "\\end{array}\n",
       "\\right]\n",
       "\\end{equation}\n",
       " $$"
      ],
      "text/plain": [
       "4-element Vector{Num}:\n",
       "  0.3\n",
       "  0.0\n",
       " -0.3\n",
       "  0.3"
      ]
     },
     "metadata": {},
     "output_type": "display_data"
    }
   ],
   "source": [
    "g_s_sum=calculate_g_s_active_mui_factor(opt_problem,problem_vars)"
   ]
  },
  {
   "cell_type": "code",
   "execution_count": 34,
   "metadata": {},
   "outputs": [
    {
     "data": {
      "text/latex": [
       "$$ \\begin{equation}\n",
       "\\left[\n",
       "\\begin{array}{c}\n",
       "0.3 \\\\\n",
       "0 \\\\\n",
       "-0.3 \\\\\n",
       "0.3 \\\\\n",
       "\\end{array}\n",
       "\\right]\n",
       "\\end{equation}\n",
       " $$"
      ],
      "text/plain": [
       "4-element Vector{Num}:\n",
       "  0.3\n",
       "  0.0\n",
       " -0.3\n",
       "  0.3"
      ]
     },
     "metadata": {},
     "output_type": "display_data"
    }
   ],
   "source": [
    "g_s_sum"
   ]
  },
  {
   "cell_type": "code",
   "execution_count": 35,
   "metadata": {},
   "outputs": [
    {
     "data": {
      "text/plain": [
       "Vector{Num}\u001b[90m (alias for \u001b[39m\u001b[90mArray{Num, 1}\u001b[39m\u001b[90m)\u001b[39m"
      ]
     },
     "metadata": {},
     "output_type": "display_data"
    }
   ],
   "source": [
    "typeof(g_s_sum)"
   ]
  },
  {
   "cell_type": "code",
   "execution_count": 36,
   "metadata": {},
   "outputs": [
    {
     "data": {
      "text/plain": [
       "Calculate_diff_ys_xsys (generic function with 1 method)"
      ]
     },
     "metadata": {},
     "output_type": "display_data"
    }
   ],
   "source": [
    "function Calculate_diff_ys_xsys(func_expr::Num,vars::Vector{Num},vars_y::Vector{Num},point::Dict)\n",
    "    A=Symbolics.gradient(func_expr,vars_y)\n",
    "    # Calcular el gradiente de cada expresión en la matriz\n",
    "    grad_matrix = [Symbolics.gradient(A[i, j], vars) for i in 1:size(A, 1), j in 1:size(A, 2)]\n",
    "    concat_matrix= hcat(grad_matrix...)\n",
    "    return MyParser.substitute_point_in_vector(concat_matrix,opt_problem.point)\n",
    "end"
   ]
  },
  {
   "cell_type": "code",
   "execution_count": 37,
   "metadata": {},
   "outputs": [
    {
     "data": {
      "text/latex": [
       "$$ \\begin{equation}\n",
       "\\left[\n",
       "\\begin{array}{c}\n",
       "x_{1} \\\\\n",
       "x_{2} \\\\\n",
       "y_{1} \\\\\n",
       "y_{2} \\\\\n",
       "\\end{array}\n",
       "\\right]\n",
       "\\end{equation}\n",
       " $$"
      ],
      "text/plain": [
       "4-element Vector{Num}:\n",
       " x_1\n",
       " x_2\n",
       " y_1\n",
       " y_2"
      ]
     },
     "metadata": {},
     "output_type": "display_data"
    }
   ],
   "source": [
    "@variables x_1,x_2,y_1,y_2"
   ]
  },
  {
   "cell_type": "code",
   "execution_count": 38,
   "metadata": {},
   "outputs": [
    {
     "data": {
      "text/latex": [
       "$$ \\begin{equation}\n",
       "x_{2} + y_{1}^{2} x_{1}^{2} y_{2}\n",
       "\\end{equation}\n",
       " $$"
      ],
      "text/plain": [
       "x_2 + (x_1^2)*(y_1^2)*y_2"
      ]
     },
     "metadata": {},
     "output_type": "display_data"
    }
   ],
   "source": [
    "func_expr=((x_1^2)*(y_1^2)*y_2)+x_2"
   ]
  },
  {
   "cell_type": "code",
   "execution_count": 39,
   "metadata": {},
   "outputs": [
    {
     "data": {
      "text/latex": [
       "$$ \\begin{equation}\n",
       "\\left[\n",
       "\\begin{array}{cc}\n",
       "4 & 2 \\\\\n",
       "0 & 0 \\\\\n",
       "2 & 2 \\\\\n",
       "2 & 0 \\\\\n",
       "\\end{array}\n",
       "\\right]\n",
       "\\end{equation}\n",
       " $$"
      ],
      "text/plain": [
       "4×2 Matrix{Num}:\n",
       " 4  2\n",
       " 0  0\n",
       " 2  2\n",
       " 2  0"
      ]
     },
     "metadata": {},
     "output_type": "display_data"
    }
   ],
   "source": [
    "A=Calculate_diff_ys_xsys(func_expr,[x_1,x_2,y_1,y_2],[y_1,y_2],opt_problem.point)"
   ]
  },
  {
   "cell_type": "markdown",
   "metadata": {},
   "source": [
    "Cuantas columnas tiene"
   ]
  },
  {
   "cell_type": "code",
   "execution_count": 40,
   "metadata": {},
   "outputs": [
    {
     "data": {
      "text/plain": [
       "2"
      ]
     },
     "metadata": {},
     "output_type": "display_data"
    }
   ],
   "source": [
    "size(A,2)"
   ]
  },
  {
   "cell_type": "markdown",
   "metadata": {},
   "source": [
    "Calcular la der de F "
   ]
  },
  {
   "cell_type": "code",
   "execution_count": 41,
   "metadata": {},
   "outputs": [
    {
     "data": {
      "text/plain": [
       "calculate_diff_F_xy (generic function with 1 method)"
      ]
     },
     "metadata": {},
     "output_type": "display_data"
    }
   ],
   "source": [
    "function calculate_diff_F_xy(opt_problem::Optimization_Problem,problem_vars::Vector{Num})\n",
    "    # Obtener la struct Func del lider\n",
    "    leader_fun=opt_problem.leader_fun\n",
    "    # Obtener la expr de la funcion del lider\n",
    "    leader_expr=leader_fun.expr\n",
    "    # Hallar el gradiente de F\n",
    "    grad_F=gradient_from_vector_func([leader_expr],problem_vars)[1]\n",
    "    # Sustituir el gradiente en el punto\n",
    "    grad_val=MyParser.substitute_point_in_vector(grad_F,opt_problem.point)\n",
    "    return grad_val\n",
    "\n",
    "end"
   ]
  },
  {
   "cell_type": "code",
   "execution_count": 42,
   "metadata": {},
   "outputs": [
    {
     "data": {
      "text/latex": [
       "$$ \\begin{equation}\n",
       "\\left[\n",
       "\\begin{array}{c}\n",
       "2 \\\\\n",
       "1 \\\\\n",
       "2 \\\\\n",
       "1 \\\\\n",
       "\\end{array}\n",
       "\\right]\n",
       "\\end{equation}\n",
       " $$"
      ],
      "text/plain": [
       "4-element Vector{Num}:\n",
       " 2\n",
       " 1\n",
       " 2\n",
       " 1"
      ]
     },
     "metadata": {},
     "output_type": "display_data"
    }
   ],
   "source": [
    "calculate_diff_F_xy(opt_problem,problem_vars)"
   ]
  },
  {
   "cell_type": "markdown",
   "metadata": {},
   "source": [
    "Calcular la zona de la diff x,y de y de f + "
   ]
  },
  {
   "cell_type": "markdown",
   "metadata": {},
   "source": [
    "Calcular la zona que tiene que ver con f y la v_i elegida"
   ]
  },
  {
   "cell_type": "code",
   "execution_count": 43,
   "metadata": {},
   "outputs": [
    {
     "data": {
      "text/plain": [
       "calculate_f_grad_xy_of_x (generic function with 1 method)"
      ]
     },
     "metadata": {},
     "output_type": "display_data"
    }
   ],
   "source": [
    "function calculate_f_grad_xy_of_x(opt_problem::ProblemFunction.Optimization_Problem,problems_vars::Vector{Num},ys_vars::Vector{Num})::Matrix\n",
    "    f_expr=opt_problem.follower_fun.expr\n",
    "    point=opt_problem.point\n",
    "    return Calculate_diff_ys_xsys(f_expr,problems_vars,ys_vars,point)\n",
    "\n",
    "end "
   ]
  },
  {
   "cell_type": "code",
   "execution_count": 44,
   "metadata": {},
   "outputs": [
    {
     "data": {
      "text/latex": [
       "$$ \\begin{equation}\n",
       "\\left[\n",
       "\\begin{array}{cc}\n",
       "4 & 2 \\\\\n",
       "0 & 0 \\\\\n",
       "2 & 2 \\\\\n",
       "2 & 0 \\\\\n",
       "\\end{array}\n",
       "\\right]\n",
       "\\end{equation}\n",
       " $$"
      ],
      "text/plain": [
       "4×2 Matrix{Num}:\n",
       " 4  2\n",
       " 0  0\n",
       " 2  2\n",
       " 2  0"
      ]
     },
     "metadata": {},
     "output_type": "display_data"
    }
   ],
   "source": [
    "calculate_f_grad_xy_of_x(opt_problem,problem_vars,[y_1,y_2])"
   ]
  },
  {
   "cell_type": "markdown",
   "metadata": {},
   "source": [
    "Ahora de la v_i seleccionada hacer el (grad * si lambda )* $\\alpha$"
   ]
  },
  {
   "cell_type": "code",
   "execution_count": 45,
   "metadata": {},
   "outputs": [],
   "source": [
    "\n",
    "y = 0\n",
    "@assert y < 5 \"El valor de y debería ser menor que 5\"  # Lanza un AssertionError con el mensaje especificado."
   ]
  },
  {
   "cell_type": "code",
   "execution_count": 46,
   "metadata": {},
   "outputs": [
    {
     "data": {
      "text/plain": [
       "calculate_select_vi_der_xy_of_x_dot_lambda_alpha (generic function with 1 method)"
      ]
     },
     "metadata": {},
     "output_type": "display_data"
    }
   ],
   "source": [
    "function calculate_select_vi_der_xy_of_x_dot_lambda_alpha(opt_problem::ProblemFunction.Optimization_Problem,index_vi::Int64,problems_vars::Vector{Num},ys_vars::Vector{Num},alpha::Vector)\n",
    "# Ver si la cant de variables y coincide con la dimension de alpha\n",
    "ys_len=length(ys_vars)\n",
    "alpha_len=length(alpha)\n",
    "@assert ys_len==alpha_len \"El length de alpha es $alpha_len y el de las ys es $ys_len y deben ser iguales\"\n",
    "# Tomar la restriccion que se quiere\n",
    "vi=opt_problem.follower_restrictions[index_vi]\n",
    "# Tomar la expresion de la funcion de restriccion\n",
    "vi_expr=vi.expr\n",
    "println(vi_expr)\n",
    "# Tomar el punto a evaluar\n",
    "point=opt_problem.point\n",
    "# Calcular y evaluar el gradiente \n",
    "vi_grad_val=Calculate_diff_ys_xsys(vi_expr,problems_vars,ys_vars,point)\n",
    "# Tomar el lambda de ese restriccion\n",
    "lambda_i=vi.lambda\n",
    "# Multiplicar el gradiente evaluado por lambda\n",
    "vi_lambda=vi_grad_val*lambda_i\n",
    "# Multiplicar Todo por alpha\n",
    "return vi_lambda*alpha\n",
    "\n",
    "\n",
    "end\n"
   ]
  },
  {
   "cell_type": "code",
   "execution_count": 47,
   "metadata": {},
   "outputs": [
    {
     "data": {
      "text/latex": [
       "$$ \\begin{equation}\n",
       "\\left[\n",
       "\\begin{array}{c}\n",
       "y_{1} \\\\\n",
       "y_{2} \\\\\n",
       "\\end{array}\n",
       "\\right]\n",
       "\\end{equation}\n",
       " $$"
      ],
      "text/plain": [
       "2-element Vector{Num}:\n",
       " y_1\n",
       " y_2"
      ]
     },
     "metadata": {},
     "output_type": "display_data"
    }
   ],
   "source": [
    "ys_vars=[y_1,y_2]"
   ]
  },
  {
   "cell_type": "code",
   "execution_count": 48,
   "metadata": {},
   "outputs": [
    {
     "name": "stdout",
     "output_type": "stream",
     "text": [
      "x_2 + (x_1^2)*(y_1^2)*y_2\n"
     ]
    },
    {
     "data": {
      "text/latex": [
       "$$ \\begin{equation}\n",
       "\\left[\n",
       "\\begin{array}{c}\n",
       "16 \\\\\n",
       "0 \\\\\n",
       "12 \\\\\n",
       "4 \\\\\n",
       "\\end{array}\n",
       "\\right]\n",
       "\\end{equation}\n",
       " $$"
      ],
      "text/plain": [
       "4-element Vector{Num}:\n",
       " 16\n",
       "  0\n",
       " 12\n",
       "  4"
      ]
     },
     "metadata": {},
     "output_type": "display_data"
    }
   ],
   "source": [
    "calculate_select_vi_der_xy_of_x_dot_lambda_alpha(opt_problem,1,problem_vars,ys_vars,[2,4])"
   ]
  },
  {
   "cell_type": "markdown",
   "metadata": {},
   "source": [
    "Calcular sumatoria de gradiente en xy de $v_j * \\beta_j$"
   ]
  },
  {
   "cell_type": "code",
   "execution_count": 56,
   "metadata": {},
   "outputs": [],
   "source": [
    "@enum FactorType begin\n",
    "    miu_\n",
    "    lambda_\n",
    "    beta_\n",
    "end"
   ]
  },
  {
   "cell_type": "code",
   "execution_count": 57,
   "metadata": {},
   "outputs": [
    {
     "data": {
      "text/plain": [
       "lambda_::FactorType = 1"
      ]
     },
     "metadata": {},
     "output_type": "display_data"
    }
   ],
   "source": [
    "lambda_"
   ]
  },
  {
   "cell_type": "code",
   "execution_count": 58,
   "metadata": {},
   "outputs": [
    {
     "data": {
      "text/plain": [
       "get_factor_value (generic function with 1 method)"
      ]
     },
     "metadata": {},
     "output_type": "display_data"
    }
   ],
   "source": [
    "function get_factor_value(restr_func::ProblemFunction.Restriction_Func,factor_type::FactorType)\n",
    "if factor_type == miu_\n",
    "    return restr_func.miu\n",
    "elseif factor_type == lambda_\n",
    "    return restr_func.lambda\n",
    "elseif factor_type == beta_\n",
    "    return restr_func.beta\n",
    "else\n",
    "    throw(ArgumentError(\"El tipo de factor $factor_type es inválido\"))\n",
    "\n",
    "end\n",
    "\n",
    "end"
   ]
  },
  {
   "cell_type": "code",
   "execution_count": null,
   "metadata": {},
   "outputs": [],
   "source": [
    "function calculate_g_s_active_mui_factor(restrictions::Vector{ProblemFunction.Restriction_Func},problem_vars::Vector{Num},point::Vector,factor_type::FactorType)::Vector{Num}\n",
    "    vector_value=zeros(length(problem_vars))\n",
    "    for restriction in restrictions\n",
    "        # Ahora debe sacar su expresion\n",
    "        restr_expr=restriction.expr\n",
    "        grad_restriction=ProblemFunction.Symbolics.gradient(restr_expr,problem_vars)\n",
    "        vector_result=MyParser.substitute_point_in_vector(grad_restriction,point)\n",
    "        # Tomar el factor necesario para sumar\n",
    "        factor=get_factor_value(restriction,factor_type)\n",
    "        vector_result=vector_result* factor\n",
    "        vector_value+=vector_result\n",
    "    end\n",
    "    return vector_value\n",
    "\n",
    "end"
   ]
  }
 ],
 "metadata": {
  "kernelspec": {
   "display_name": "Julia 1.10.4",
   "language": "julia",
   "name": "julia-1.10"
  },
  "language_info": {
   "file_extension": ".jl",
   "mimetype": "application/julia",
   "name": "julia",
   "version": "1.10.4"
  }
 },
 "nbformat": 4,
 "nbformat_minor": 2
}
