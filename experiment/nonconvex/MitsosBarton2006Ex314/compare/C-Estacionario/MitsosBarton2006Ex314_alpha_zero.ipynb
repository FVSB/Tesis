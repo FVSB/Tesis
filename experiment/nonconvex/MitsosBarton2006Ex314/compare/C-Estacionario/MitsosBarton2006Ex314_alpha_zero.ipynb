{
 "cells": [
  {
   "cell_type": "markdown",
   "metadata": {},
   "source": [
    "## Importaciones necesarias"
   ]
  },
  {
   "cell_type": "code",
   "execution_count": 1,
   "metadata": {},
   "outputs": [],
   "source": [
    "using JuMP, Ipopt, Complementarity"
   ]
  },
  {
   "cell_type": "markdown",
   "metadata": {},
   "source": [
    "# Crear el modelo"
   ]
  },
  {
   "cell_type": "code",
   "execution_count": 2,
   "metadata": {},
   "outputs": [
    {
     "data": {
      "text/plain": [
       "A JuMP Model\n",
       "├ solver: Ipopt\n",
       "├ objective_sense: FEASIBILITY_SENSE\n",
       "├ num_variables: 0\n",
       "├ num_constraints: 0\n",
       "└ Names registered in the model: none"
      ]
     },
     "metadata": {},
     "output_type": "display_data"
    }
   ],
   "source": [
    "# Crear el modelo\n",
    "model = Model(Ipopt.Optimizer)"
   ]
  },
  {
   "cell_type": "markdown",
   "metadata": {},
   "source": [
    "## Definir Variables\n"
   ]
  },
  {
   "cell_type": "code",
   "execution_count": 3,
   "metadata": {},
   "outputs": [
    {
     "data": {
      "text/plain": [
       "2-element Vector{VariableRef}:\n",
       " l[1]\n",
       " l[2]"
      ]
     },
     "metadata": {},
     "output_type": "display_data"
    }
   ],
   "source": [
    "# Nivel superior\n",
    "@variable(model,x)\n",
    "# Nivel Inferior\n",
    "@variable(model,y)\n",
    "# Complementariedad\n",
    "@variable(model,l[1:2])"
   ]
  },
  {
   "cell_type": "markdown",
   "metadata": {},
   "source": [
    "## Definir Objetivo\n"
   ]
  },
  {
   "cell_type": "code",
   "execution_count": 4,
   "metadata": {},
   "outputs": [
    {
     "data": {
      "text/latex": [
       "$ x^2 + y^2 - 0.5 x + 0.0625 $"
      ],
      "text/plain": [
       "x² + y² - 0.5 x + 0.0625"
      ]
     },
     "metadata": {},
     "output_type": "display_data"
    }
   ],
   "source": [
    "@objective(model,Min,((x-0.25)^2)+(y^2))"
   ]
  },
  {
   "cell_type": "markdown",
   "metadata": {},
   "source": [
    "## Definir Restricciones\n"
   ]
  },
  {
   "cell_type": "code",
   "execution_count": 5,
   "metadata": {},
   "outputs": [
    {
     "data": {
      "text/latex": [
       "$$ (((y ^ {2.0} - x) + l[1]) - l[2]) - 0.0 = 0 $$"
      ],
      "text/plain": [
       "(((y ^ 2.0 - x) + l[1]) - l[2]) - 0.0 == 0"
      ]
     },
     "metadata": {},
     "output_type": "display_data"
    }
   ],
   "source": [
    "@NLconstraint(model,(y^2)-x+l[1]-l[2]==0) # Obj nivel inferior"
   ]
  },
  {
   "cell_type": "code",
   "execution_count": 6,
   "metadata": {},
   "outputs": [
    {
     "data": {
      "text/plain": [
       "(x <= 2.1, -x <= -2.1, y <= 3.3, -y <= -3.3)"
      ]
     },
     "metadata": {},
     "output_type": "display_data"
    }
   ],
   "source": [
    "@constraints(model,begin\n",
    "-2.1 + x<=0  #gs\n",
    "2.1 - x<=0  #gs\n",
    "-3.3 + y<=0  #vs\n",
    "3.3 - y<=0 #vs\n",
    "end)"
   ]
  },
  {
   "cell_type": "markdown",
   "metadata": {},
   "source": [
    "## Definir variables Complementarias"
   ]
  },
  {
   "cell_type": "code",
   "execution_count": 7,
   "metadata": {},
   "outputs": [
    {
     "data": {
      "text/latex": [
       "$$ (sqrt(l[2] ^ {2.0} + (-3.3 + y) ^ {2.0} + 1.0e-8) - (l[2] + (-3.3 + y))) - 0.0 = 0 $$"
      ],
      "text/plain": [
       "(sqrt(l[2] ^ 2.0 + (-3.3 + y) ^ 2.0 + 1.0e-8) - (l[2] + (-3.3 + y))) - 0.0 == 0"
      ]
     },
     "metadata": {},
     "output_type": "display_data"
    }
   ],
   "source": [
    "@complements(model,0<=-(-3.3 + y),l[1]>=0)\n",
    "@complements(model,0<=-(3.3 - y),l[2]>=0)"
   ]
  },
  {
   "cell_type": "markdown",
   "metadata": {},
   "source": [
    "## Optimizar"
   ]
  },
  {
   "cell_type": "code",
   "execution_count": 8,
   "metadata": {},
   "outputs": [
    {
     "name": "stdout",
     "output_type": "stream",
     "text": [
      "\n",
      "******************************************************************************\n",
      "This program contains Ipopt, a library for large-scale nonlinear optimization.\n",
      " Ipopt is released as open source code under the Eclipse Public License (EPL).\n",
      "         For more information visit https://github.com/coin-or/Ipopt\n",
      "******************************************************************************\n",
      "\n",
      "This is Ipopt version 3.14.16, running with linear solver MUMPS 5.7.3.\n",
      "\n",
      "Number of nonzeros in equality constraint Jacobian...:        8\n",
      "Number of nonzeros in inequality constraint Jacobian.:        8\n",
      "Number of nonzeros in Lagrangian Hessian.............:        9\n",
      "\n",
      "Total number of variables............................:        4\n",
      "                     variables with only lower bounds:        0\n",
      "                variables with lower and upper bounds:        0\n",
      "                     variables with only upper bounds:        0\n",
      "Total number of equality constraints.................:        3\n",
      "Total number of inequality constraints...............:        8\n",
      "        inequality constraints with only lower bounds:        4\n",
      "   inequality constraints with lower and upper bounds:        0\n",
      "        inequality constraints with only upper bounds:        4\n",
      "\n",
      "iter    objective    inf_pr   inf_du lg(mu)  ||d||  lg(rg) alpha_du alpha_pr  ls\n",
      "   0  6.2500000e-02 6.60e+00 8.00e-02  -1.0 0.00e+00    -  0.00e+00 0.00e+00   0\n",
      "   1  6.1145335e-02 6.51e+00 3.31e+00  -1.0 3.58e+00    -  5.64e-02 1.32e-02h  1\n",
      "   2  6.0278328e-02 6.50e+00 1.58e+02  -1.0 4.06e+00    -  5.36e-02 1.57e-03h  1\n",
      "   3  6.0276512e-02 6.50e+00 3.15e+06  -1.0 3.49e+00    -  1.00e+00 5.19e-05h  1\n",
      "   4r 6.0276512e-02 6.50e+00 1.00e+03   0.8 0.00e+00    -  0.00e+00 4.99e-07R  2\n",
      "   5r 1.0688336e+01 1.03e+01 9.85e+02   0.8 1.60e+03    -  7.84e-01 4.02e-03f  1\n",
      "   6r 1.4153970e+01 8.72e+00 6.04e+02   0.8 1.11e+01    -  7.74e-01 1.56e-01f  1\n",
      "   7r 1.4078464e+01 8.58e+00 7.61e+02   0.8 1.81e+00    -  5.73e-03 1.57e-02h  1\n",
      "   8r 1.4016672e+01 8.41e+00 4.15e+02   0.8 4.69e+00    -  4.16e-02 2.02e-02h  1\n",
      "   9r 1.3830499e+01 6.71e+00 8.40e+02   0.8 7.43e+00    -  1.99e-02 2.02e-01f  1\n",
      "iter    objective    inf_pr   inf_du lg(mu)  ||d||  lg(rg) alpha_du alpha_pr  ls\n",
      "  10r 1.4313880e+01 1.31e-01 5.70e+02   0.8 7.18e+00    -  9.33e-01 9.81e-01f  1\n",
      "  11  1.4275192e+01 9.68e-02 1.12e+02  -1.0 1.63e-01    -  9.83e-01 2.62e-01h  1\n",
      "  12  1.4321626e+01 3.41e-02 2.16e+02  -1.0 7.20e-02    -  1.00e+00 6.48e-01h  1\n",
      "  13  1.4306196e+01 1.67e-02 3.47e+02  -1.0 4.37e-02    -  1.00e+00 5.11e-01h  1\n",
      "  14  1.4314169e+01 6.21e-03 5.83e+02  -1.0 1.77e-02    -  1.00e+00 6.28e-01h  1\n",
      "  15  1.4311492e+01 2.68e-03 1.66e+03  -1.0 1.60e-02    -  1.00e+00 5.69e-01h  1\n",
      "  16  1.4312795e+01 1.09e-03 3.76e+03  -1.0 1.57e-02    -  1.00e+00 5.93e-01h  1\n",
      "  17  1.4312329e+01 4.55e-04 9.33e+03  -1.0 2.31e-02    -  1.00e+00 5.83e-01h  1\n",
      "  18  1.4312440e+01 3.21e-04 3.80e+04  -1.0 3.49e-02    -  1.00e+00 2.94e-01f  2\n",
      "  19  1.4312517e+01 6.35e-05 1.99e+04  -1.0 4.51e-02    -  1.00e+00 8.02e-01h  1\n",
      "iter    objective    inf_pr   inf_du lg(mu)  ||d||  lg(rg) alpha_du alpha_pr  ls\n",
      "  20  1.4312502e+01 4.85e-05 2.40e+05  -1.0 8.14e-02    -  9.71e-01 2.36e-01f  2\n",
      "  21  1.4312497e+01 8.33e-06 1.08e+05  -1.0 1.01e-01    -  1.00e+00 8.28e-01h  1\n",
      "  22  1.4312499e+01 6.54e-06 9.23e+05  -1.0 1.87e-01    -  6.74e-01 2.16e-01f  2\n",
      "  23  1.4312500e+01 1.13e-06 4.95e+05  -1.0 2.29e-01    -  1.00e+00 8.27e-01h  1\n",
      "  24  1.4312500e+01 8.74e-07 2.19e+06  -1.0 4.31e-01    -  6.65e-01 2.27e-01f  2\n",
      "  25  1.4312500e+01 1.50e-08 8.23e+04  -1.0 5.37e-01    -  1.00e+00 9.83e-01h  1\n",
      "  26  1.4312500e+01 9.70e-09 1.82e+06  -1.0 1.14e+00    -  6.23e-01 3.52e-01f  2\n",
      "  27  1.4312500e+01 2.05e-09 2.71e-02  -1.0 1.61e+00    -  1.00e+00 1.00e+00f  1\n",
      "  28  1.4312500e+01 1.05e-09 5.71e+06  -8.6 3.59e+00    -  4.59e-01 1.00e+00h  1\n",
      "  29  1.4312500e+01 4.97e-10 1.94e+06  -8.6 8.02e+00    -  6.58e-01 1.00e+00h  1\n",
      "iter    objective    inf_pr   inf_du lg(mu)  ||d||  lg(rg) alpha_du alpha_pr  ls\n",
      "  30  1.4312500e+01 2.15e-10 2.78e+05  -8.6 1.71e+01    -  8.52e-01 1.00e+00h  1\n",
      "  31  1.4312500e+01 9.12e-11 3.78e+04  -8.6 3.51e+01    -  8.65e-01 1.00e+00h  1\n",
      "  32  1.4312500e+01 4.06e-11 1.31e+04  -8.6 7.08e+01    -  6.63e-01 1.00e+00h  1\n",
      "  33  1.4312500e+01 1.89e-11 2.09e+03  -8.6 1.42e+02    -  8.41e-01 1.00e+00h  1\n",
      "  34  1.4312500e+01 9.09e-12 6.28e+02  -8.6 2.84e+02    -  6.99e-01 1.00e+00h  1\n",
      "  35  1.4312500e+01 4.55e-12 1.34e+02  -8.6 5.67e+02    -  7.87e-01 1.00e+00h  1\n",
      "  36  1.4312500e+01 2.27e-12 3.57e+01  -8.6 1.13e+03    -  7.33e-01 1.00e+00h  1\n",
      "  37  1.4312500e+01 9.09e-13 8.63e+00  -8.6 2.28e+03    -  7.59e-01 1.00e+00h  1\n",
      "  38  1.4312500e+01 1.91e-11 2.00e+00  -8.6 3.21e+03    -  7.68e-01 1.00e+00h  1\n",
      "  39  1.4312500e+01 1.82e-12 3.54e-05  -8.6 5.52e+03    -  1.00e+00 1.00e+00h  1\n",
      "\n",
      "Number of Iterations....: 39\n",
      "\n",
      "                                   (scaled)                 (unscaled)\n",
      "Objective...............:   1.4312499924080473e+01    1.4312499924080473e+01\n",
      "Dual infeasibility......:   3.5360295053799007e-05    3.5360295053799007e-05\n",
      "Constraint violation....:   1.8189894035458565e-12    1.8189894035458565e-12\n",
      "Variable bound violation:   0.0000000000000000e+00    0.0000000000000000e+00\n",
      "Complementarity.........:   3.1935506556987374e-09    3.1935506556987374e-09\n",
      "Overall NLP error.......:   3.1935506556987374e-09    3.5360295053799007e-05\n",
      "\n",
      "\n",
      "Number of objective function evaluations             = 47\n",
      "Number of objective gradient evaluations             = 35\n",
      "Number of equality constraint evaluations            = 47\n",
      "Number of inequality constraint evaluations          = 47\n",
      "Number of equality constraint Jacobian evaluations   = 41\n",
      "Number of inequality constraint Jacobian evaluations = 41\n",
      "Number of Lagrangian Hessian evaluations             = 39\n",
      "Total seconds in IPOPT                               = 3.837\n",
      "\n",
      "EXIT: Optimal Solution Found.\n"
     ]
    }
   ],
   "source": [
    "# Resolver el modelo\n",
    "optimize!(model)"
   ]
  },
  {
   "cell_type": "markdown",
   "metadata": {},
   "source": [
    "# Mostrar resultados"
   ]
  },
  {
   "cell_type": "code",
   "execution_count": 9,
   "metadata": {},
   "outputs": [
    {
     "name": "stdout",
     "output_type": "stream",
     "text": [
      "Estado de la solución: LOCALLY_SOLVED\n",
      "Valor óptimo de x: 2.099999979481353\n",
      "Valor óptimo de y1: 3.2999999999999194\n",
      "Valores óptimos de l: [13261.38790055796, 13270.17790057848]\n"
     ]
    }
   ],
   "source": [
    "# Mostrar resultados\n",
    "println(\"Estado de la solución: \", termination_status(model))\n",
    "println(\"Valor óptimo de x: \", value(x))\n",
    "println(\"Valor óptimo de y1: \", value(y))\n",
    "#println(\"Valor óptimo de y2: \", value(y2))\n",
    "#println(\"Valores óptimos de s: \", value.(s))\n",
    "println(\"Valores óptimos de l: \", value.(l))"
   ]
  },
  {
   "cell_type": "code",
   "execution_count": 10,
   "metadata": {},
   "outputs": [
    {
     "data": {
      "text/plain": [
       "14.312499924080473"
      ]
     },
     "metadata": {},
     "output_type": "display_data"
    }
   ],
   "source": [
    "objective_value(model)"
   ]
  },
  {
   "cell_type": "code",
   "execution_count": 11,
   "metadata": {},
   "outputs": [],
   "source": []
  }
 ],
 "metadata": {
  "kernelspec": {
   "display_name": "Julia 1.10.5",
   "language": "julia",
   "name": "julia-1.10"
  },
  "language_info": {
   "file_extension": ".jl",
   "mimetype": "application/julia",
   "name": "julia",
   "version": "1.10.5"
  }
 },
 "nbformat": 4,
 "nbformat_minor": 2
}
