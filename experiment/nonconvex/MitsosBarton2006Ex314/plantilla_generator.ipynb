{
 "cells": [
  {
   "cell_type": "markdown",
   "metadata": {},
   "source": [
    "## Importar el módulo\n"
   ]
  },
  {
   "cell_type": "code",
   "execution_count": 1,
   "metadata": {},
   "outputs": [
    {
     "data": {
      "text/plain": [
       "RunExperiment (generic function with 1 method)"
      ]
     },
     "metadata": {},
     "output_type": "display_data"
    }
   ],
   "source": [
    "include(\"../../new_experiment.jl\")"
   ]
  },
  {
   "cell_type": "markdown",
   "metadata": {},
   "source": [
    "Crear un experimento\n"
   ]
  },
  {
   "cell_type": "code",
   "execution_count": 2,
   "metadata": {},
   "outputs": [
    {
     "data": {
      "text/plain": [
       "Experiment(OptimizationModel(Problem(Any[], nothing), LeaderRestrictionProblem[], Problem(Any[], nothing), FollowerRestrictionProblem[], Dict{Any, Any}(), Number[1], false), OptimizationModel(Problem(Any[], nothing), LeaderRestrictionProblem[], Problem(Any[], nothing), FollowerRestrictionProblem[], Dict{Any, Any}(), Number[], true), Any[], Any[])"
      ]
     },
     "metadata": {},
     "output_type": "display_data"
    }
   ],
   "source": [
    "experiment=CreateExperiment()"
   ]
  },
  {
   "cell_type": "markdown",
   "metadata": {},
   "source": [
    "### Declarar variables del líder\n"
   ]
  },
  {
   "cell_type": "code",
   "execution_count": 3,
   "metadata": {},
   "outputs": [
    {
     "data": {
      "text/latex": [
       "$$ \\begin{equation}\n",
       "\\left[\n",
       "\\begin{array}{c}\n",
       "x \\\\\n",
       "\\end{array}\n",
       "\\right]\n",
       "\\end{equation}\n",
       " $$"
      ],
      "text/plain": [
       "1-element Vector{Num}:\n",
       " x"
      ]
     },
     "metadata": {},
     "output_type": "display_data"
    }
   ],
   "source": [
    "@leader_vars experiment x"
   ]
  },
  {
   "cell_type": "markdown",
   "metadata": {},
   "source": [
    "### Declarar Variables del Follower"
   ]
  },
  {
   "cell_type": "code",
   "execution_count": 4,
   "metadata": {},
   "outputs": [
    {
     "data": {
      "text/latex": [
       "$$ \\begin{equation}\n",
       "\\left[\n",
       "\\begin{array}{c}\n",
       "y \\\\\n",
       "\\end{array}\n",
       "\\right]\n",
       "\\end{equation}\n",
       " $$"
      ],
      "text/plain": [
       "1-element Vector{Num}:\n",
       " y"
      ]
     },
     "metadata": {},
     "output_type": "display_data"
    }
   ],
   "source": [
    "@follower_vars experiment y"
   ]
  },
  {
   "cell_type": "markdown",
   "metadata": {},
   "source": [
    "### Declarar Función Objetivo del Líder"
   ]
  },
  {
   "cell_type": "code",
   "execution_count": 5,
   "metadata": {},
   "outputs": [
    {
     "data": {
      "text/latex": [
       "$$ \\begin{equation}\n",
       "\\left( -0.25 + x \\right)^{2} + y^{2}\n",
       "\\end{equation}\n",
       " $$"
      ],
      "text/plain": [
       "(-0.25 + x)^2 + y^2"
      ]
     },
     "metadata": {},
     "output_type": "display_data"
    }
   ],
   "source": [
    "SetLeaderFunction(experiment,((x-0.25)^2)+(y^2))"
   ]
  },
  {
   "cell_type": "markdown",
   "metadata": {},
   "source": [
    "Restricciones del Líder"
   ]
  },
  {
   "cell_type": "code",
   "execution_count": 6,
   "metadata": {},
   "outputs": [
    {
     "data": {
      "text/plain": [
       "1-element Vector{LeaderRestrictionProblem}:\n",
       " LeaderRestrictionProblem((-1 + x) <= 0, 0.5189480116580418, J_0_g)"
      ]
     },
     "metadata": {},
     "output_type": "display_data"
    }
   ],
   "source": [
    "SetLeaderRestriction(experiment,x-1<=0)"
   ]
  },
  {
   "cell_type": "code",
   "execution_count": 7,
   "metadata": {},
   "outputs": [
    {
     "data": {
      "text/plain": [
       "2-element Vector{LeaderRestrictionProblem}:\n",
       " LeaderRestrictionProblem((-1 + x) <= 0, 0.5189480116580418, J_0_g)\n",
       " LeaderRestrictionProblem((-1 - x) <= 0, 0.5053544274816967, J_0_g)"
      ]
     },
     "metadata": {},
     "output_type": "display_data"
    }
   ],
   "source": [
    "SetLeaderRestriction(experiment,-x-1<=0)"
   ]
  },
  {
   "cell_type": "markdown",
   "metadata": {},
   "source": [
    "### Función objetivo del Follower"
   ]
  },
  {
   "cell_type": "code",
   "execution_count": 8,
   "metadata": {},
   "outputs": [
    {
     "data": {
      "text/latex": [
       "$$ \\begin{equation}\n",
       " - x y + 0.33333 y^{3}\n",
       "\\end{equation}\n",
       " $$"
      ],
      "text/plain": [
       "-x*y + 0.3333333333333333(y^3)"
      ]
     },
     "metadata": {},
     "output_type": "display_data"
    }
   ],
   "source": [
    "SetFollowerFunction(experiment,((1/3)*(y^3))-(x*y))"
   ]
  },
  {
   "cell_type": "markdown",
   "metadata": {},
   "source": [
    "### Restricciones del Follower"
   ]
  },
  {
   "cell_type": "code",
   "execution_count": 9,
   "metadata": {},
   "outputs": [
    {
     "data": {
      "text/plain": [
       "1-element Vector{FollowerRestrictionProblem}:\n",
       " FollowerRestrictionProblem((-1 + y) <= 0, J_0_LP_v, 0.872516534465187, 0.4672404568049333, 0.7022758105854034)"
      ]
     },
     "metadata": {},
     "output_type": "display_data"
    }
   ],
   "source": [
    "SetFollowerRestriction(experiment,y-1<=0)"
   ]
  },
  {
   "cell_type": "code",
   "execution_count": 10,
   "metadata": {},
   "outputs": [
    {
     "data": {
      "text/plain": [
       "2-element Vector{FollowerRestrictionProblem}:\n",
       " FollowerRestrictionProblem((-1 + y) <= 0, J_0_LP_v, 0.872516534465187, 0.4672404568049333, 0.7022758105854034)\n",
       " FollowerRestrictionProblem((-1 - y) <= 0, J_0_LP_v, 0.4219324690703551, 0.6918967154395722, 0.626880394541236)"
      ]
     },
     "metadata": {},
     "output_type": "display_data"
    }
   ],
   "source": [
    "SetFollowerRestriction(experiment,-y-1<=0)"
   ]
  },
  {
   "cell_type": "markdown",
   "metadata": {},
   "source": [
    "### Poner el Punto Optimo"
   ]
  },
  {
   "cell_type": "code",
   "execution_count": 11,
   "metadata": {},
   "outputs": [
    {
     "data": {
      "text/plain": [
       "Dict{Any, Any} with 2 entries:\n",
       "  y => 0.822772\n",
       "  x => 0.911427"
      ]
     },
     "metadata": {},
     "output_type": "display_data"
    }
   ],
   "source": [
    "SetPoint(experiment,Dict(x=>0.25,y=>0.5))"
   ]
  },
  {
   "cell_type": "markdown",
   "metadata": {},
   "source": [
    "## Iniciar el Experimento\n"
   ]
  },
  {
   "cell_type": "code",
   "execution_count": 12,
   "metadata": {},
   "outputs": [
    {
     "name": "stdout",
     "output_type": "stream",
     "text": [
      "Va a retornar correctamente\n",
      "Leader's Objective Function:\n",
      "Variable names: [:y, :x]\n",
      "Expression (string): (-0.25 + x)^2 + y^2\n",
      "Parsed expression: (-0.25 + x)^2 + y^2\n",
      "Evaluation point: Dict{Any, Any}(\"x\" => 0.9114272031523105, \"y\" => 0.8227723540405085)\n",
      "Evaluation value: 1.1144402916432479\n",
      "Is leader function: true\n",
      "------------------------------\n",
      "Leader's Restrictions:\n",
      "++++++++++++++++++++++++++++++\n",
      "Restriction 1\n",
      "Variable names: [:x]\n",
      "Expression (string): (-1 + x) == 0\n",
      "Parsed expression: -1 + x\n",
      "Evaluation point: Dict{Any, Any}(\"x\" => 0.9114272031523105, \"y\" => 0.8227723540405085)\n",
      "Evaluation value: -0.08857279684768948\n",
      "Additional constant: 0.08857279684768948\n",
      "Restriction type: LtEq\n",
      "Restriction set type: J_0_g\n",
      "Value of miu: 0.5189480116580418\n",
      "Value of beta: 0\n",
      "Value of lambda: 0\n",
      "Value of gamma: 0\n",
      "++++++++++++++++++++++++++++++\n",
      "++++++++++++++++++++++++++++++\n",
      "Restriction 2\n",
      "Variable names: [:x]\n",
      "Expression (string): (-1 - x) == 0\n",
      "Parsed expression: -1 - x\n",
      "Evaluation point: Dict{Any, Any}(\"x\" => 0.9114272031523105, \"y\" => 0.8227723540405085)\n",
      "Evaluation value: -1.9114272031523105\n",
      "Additional constant: 1.9114272031523105\n",
      "Restriction type: LtEq\n",
      "Restriction set type: J_0_g\n",
      "Value of miu: 0.5053544274816967\n",
      "Value of beta: 0\n",
      "Value of lambda: 0\n",
      "Value of gamma: 0\n",
      "++++++++++++++++++++++++++++++\n",
      "------------------------------\n",
      "Follower's Objective Function:\n",
      "Variable names: [:y, :x]\n",
      "Expression (string): -x*y + 0.3333333333333333(y^3)\n",
      "Parsed expression: -x*y + 0.3333333333333333(y^3)\n",
      "Evaluation point: Dict{Any, Any}(\"x\" => 0.9114272031523105, \"y\" => 0.8227723540405085)\n",
      "Evaluation value: -0.5642373317048108\n",
      "Is leader function: false\n",
      "------------------------------\n",
      "Follower's Restrictions:\n",
      "++++++++++++++++++++++++++++++\n",
      "Restriction 1\n",
      "Variable names: [:y]\n",
      "Expression (string): (-1 + y) == 0\n",
      "Parsed expression: -1 + 0.3825221920988503y\n",
      "Evaluation point: Dict{Any, Any}(\"x\" => 0.9114272031523105, \"y\" => 0.8227723540405085)\n",
      "Evaluation value: -0.6852713155340933\n",
      "Additional constant: 0.6852713155340933\n",
      "Restriction type: LtEq\n",
      "Restriction set type: J_0_LP_v\n",
      "Value of miu: 0\n",
      "Value of beta: 0.872516534465187\n",
      "Value of lambda: 0.4672404568049333\n",
      "Value of gamma: 0.7022758105854034\n",
      "++++++++++++++++++++++++++++++\n",
      "++++++++++++++++++++++++++++++\n",
      "Restriction 2\n",
      "Variable names: [:y]\n",
      "Expression (string): (-1 - y) == 0\n",
      "Parsed expression: -1 - 0.3825221920988503y\n",
      "Evaluation point: Dict{Any, Any}(\"x\" => 0.9114272031523105, \"y\" => 0.8227723540405085)\n",
      "Evaluation value: -1.3147286844659067\n",
      "Additional constant: 1.3147286844659067\n",
      "Restriction type: LtEq\n",
      "Restriction set type: J_0_LP_v\n",
      "Value of miu: 0\n",
      "Value of beta: 0.4219324690703551\n",
      "Value of lambda: 0.6918967154395722\n",
      "Value of gamma: 0.626880394541236\n",
      "++++++++++++++++++++++++++++++\n",
      "------------------------------\n",
      "Evaluation Point:\n",
      "Dict{Any, Any}(\"x\" => 0.9114272031523105, \"y\" => 0.8227723540405085)\n",
      "------------------------------\n",
      "_\n",
      "\n",
      "Num[-0.7189701825798166, -2.8339904516498633]\n",
      "Va a retornar correctamente\n",
      "Leader's Objective Function:\n",
      "Variable names: [:y, :x]\n",
      "Expression (string): (-0.25 + x)^2 + y^2\n",
      "Parsed expression: (-0.25 + x)^2 + y^2\n",
      "Evaluation point: Dict{Any, Any}(\"x\" => 0.9114272031523105, \"y\" => 0.8227723540405085)\n",
      "Evaluation value: 1.1144402916432479\n",
      "Is leader function: true\n",
      "------------------------------\n",
      "Leader's Restrictions:\n",
      "++++++++++++++++++++++++++++++\n",
      "Restriction 1\n",
      "Variable names: [:x]\n",
      "Expression (string): (-1 + x) == 0\n",
      "Parsed expression: -1 + x\n",
      "Evaluation point: Dict{Any, Any}(\"x\" => 0.9114272031523105, \"y\" => 0.8227723540405085)\n",
      "Evaluation value: -0.08857279684768948\n",
      "Additional constant: 0.08857279684768948\n",
      "Restriction type: LtEq\n",
      "Restriction set type: J_0_g\n",
      "Value of miu: 0.5189480116580418\n",
      "Value of beta: 0\n",
      "Value of lambda: 0\n",
      "Value of gamma: 0\n",
      "++++++++++++++++++++++++++++++\n",
      "++++++++++++++++++++++++++++++\n",
      "Restriction 2\n",
      "Variable names: [:x]\n",
      "Expression (string): (-1 - x) == 0\n",
      "Parsed expression: -1 - x\n",
      "Evaluation point: Dict{Any, Any}(\"x\" => 0.9114272031523105, \"y\" => 0.8227723540405085)\n",
      "Evaluation value: -1.9114272031523105\n",
      "Additional constant: 1.9114272031523105\n",
      "Restriction type: LtEq\n",
      "Restriction set type: J_0_g\n",
      "Value of miu: 0.5053544274816967\n",
      "Value of beta: 0\n",
      "Value of lambda: 0\n",
      "Value of gamma: 0\n",
      "++++++++++++++++++++++++++++++\n",
      "------------------------------\n",
      "Follower's Objective Function:\n",
      "Variable names: [:y, :x]\n",
      "Expression (string): -x*y + 0.3333333333333333(y^3)\n",
      "Parsed expression: -x*y + 0.3333333333333333(y^3)\n",
      "Evaluation point: Dict{Any, Any}(\"x\" => 0.9114272031523105, \"y\" => 0.8227723540405085)\n",
      "Evaluation value: -0.5642373317048108\n",
      "Is leader function: false\n",
      "------------------------------\n",
      "Follower's Restrictions:\n",
      "++++++++++++++++++++++++++++++\n",
      "Restriction 1\n",
      "Variable names: [:y]\n",
      "Expression (string): (-1 + y) == 0\n",
      "Parsed expression: -1 + y\n",
      "Evaluation point: Dict{Any, Any}(\"x\" => 0.9114272031523105, \"y\" => 0.8227723540405085)\n",
      "Evaluation value: -0.17722764595949148\n",
      "Additional constant: 0.17722764595949148\n",
      "Restriction type: LtEq\n",
      "Restriction set type: J_0_LP_v\n",
      "Value of miu: 0\n",
      "Value of beta: 0.872516534465187\n",
      "Value of lambda: 0.4672404568049333\n",
      "Value of gamma: 0.7022758105854034\n",
      "++++++++++++++++++++++++++++++\n",
      "++++++++++++++++++++++++++++++\n",
      "Restriction 2\n",
      "Variable names: [:y]\n",
      "Expression (string): (-1 - y) == 0\n",
      "Parsed expression: -1 - y\n",
      "Evaluation point: Dict{Any, Any}(\"x\" => 0.9114272031523105, \"y\" => 0.8227723540405085)\n",
      "Evaluation value: -1.8227723540405085\n",
      "Additional constant: 1.8227723540405085\n",
      "Restriction type: LtEq\n",
      "Restriction set type: J_0_LP_v\n",
      "Value of miu: 0\n",
      "Value of beta: 0.4219324690703551\n",
      "Value of lambda: 0.6918967154395722\n",
      "Value of gamma: 0.626880394541236\n",
      "++++++++++++++++++++++++++++++\n",
      "------------------------------\n",
      "Evaluation Point:\n",
      "Dict{Any, Any}(\"x\" => 0.9114272031523105, \"y\" => 0.8227723540405085)\n",
      "------------------------------\n",
      "_\n",
      "\n",
      "Num[-1.3364479904809663, -2.096128773475849]\n",
      "Se va a crear el DataFrame\n",
      "Se va a crear el DataFrame\n",
      "Se va a crear el DataFrame\n",
      "Experimento Completado\n"
     ]
    }
   ],
   "source": [
    "RunExperiment(experiment,\"MitsosBarton2006Ex314\")"
   ]
  },
  {
   "cell_type": "code",
   "execution_count": 13,
   "metadata": {},
   "outputs": [],
   "source": []
  }
 ],
 "metadata": {
  "kernelspec": {
   "display_name": "Julia 1.10.5",
   "language": "julia",
   "name": "julia-1.10"
  },
  "language_info": {
   "file_extension": ".jl",
   "mimetype": "application/julia",
   "name": "julia",
   "version": "1.10.5"
  }
 },
 "nbformat": 4,
 "nbformat_minor": 2
}
