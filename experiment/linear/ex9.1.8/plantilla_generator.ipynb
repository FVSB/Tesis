{
 "cells": [
  {
   "cell_type": "markdown",
   "metadata": {},
   "source": [
    "## Importar el módulo\n"
   ]
  },
  {
   "cell_type": "code",
   "execution_count": 1,
   "metadata": {},
   "outputs": [
    {
     "data": {
      "text/plain": [
       "RunExperiment (generic function with 1 method)"
      ]
     },
     "metadata": {},
     "output_type": "display_data"
    }
   ],
   "source": [
    "include(\"../../new_experiment.jl\")"
   ]
  },
  {
   "cell_type": "markdown",
   "metadata": {},
   "source": [
    "Crear un experimento\n"
   ]
  },
  {
   "cell_type": "code",
   "execution_count": 2,
   "metadata": {},
   "outputs": [
    {
     "data": {
      "text/plain": [
       "Experiment(OptimizationModel(Problem(Any[], nothing), LeaderRestrictionProblem[], Problem(Any[], nothing), FollowerRestrictionProblem[], Dict{Any, Any}(), Number[1], false), OptimizationModel(Problem(Any[], nothing), LeaderRestrictionProblem[], Problem(Any[], nothing), FollowerRestrictionProblem[], Dict{Any, Any}(), Number[], true), Any[], Any[])"
      ]
     },
     "metadata": {},
     "output_type": "display_data"
    }
   ],
   "source": [
    "experiment=CreateExperiment()"
   ]
  },
  {
   "cell_type": "markdown",
   "metadata": {},
   "source": [
    "### Declarar variables del líder\n"
   ]
  },
  {
   "cell_type": "code",
   "execution_count": 3,
   "metadata": {},
   "outputs": [
    {
     "data": {
      "text/latex": [
       "$$ \\begin{equation}\n",
       "\\left[\n",
       "\\begin{array}{c}\n",
       "\\mathtt{x\\_1} \\\\\n",
       "\\mathtt{x\\_2} \\\\\n",
       "\\end{array}\n",
       "\\right]\n",
       "\\end{equation}\n",
       " $$"
      ],
      "text/plain": [
       "2-element Vector{Num}:\n",
       " x_1\n",
       " x_2"
      ]
     },
     "metadata": {},
     "output_type": "display_data"
    }
   ],
   "source": [
    "@leader_vars experiment x_1,x_2"
   ]
  },
  {
   "cell_type": "markdown",
   "metadata": {},
   "source": [
    "### Declarar Variables del Follower"
   ]
  },
  {
   "cell_type": "code",
   "execution_count": 4,
   "metadata": {},
   "outputs": [
    {
     "data": {
      "text/latex": [
       "$$ \\begin{equation}\n",
       "\\left[\n",
       "\\begin{array}{c}\n",
       "\\mathtt{y\\_1} \\\\\n",
       "\\mathtt{y\\_2} \\\\\n",
       "\\end{array}\n",
       "\\right]\n",
       "\\end{equation}\n",
       " $$"
      ],
      "text/plain": [
       "2-element Vector{Num}:\n",
       " y_1\n",
       " y_2"
      ]
     },
     "metadata": {},
     "output_type": "display_data"
    }
   ],
   "source": [
    "@follower_vars experiment y_1,y_2"
   ]
  },
  {
   "cell_type": "markdown",
   "metadata": {},
   "source": [
    "### Declarar Función Objetivo del Líder"
   ]
  },
  {
   "cell_type": "code",
   "execution_count": 5,
   "metadata": {},
   "outputs": [
    {
     "data": {
      "text/latex": [
       "$$ \\begin{equation}\n",
       " - 2 \\mathtt{x\\_1} + \\mathtt{x\\_2} + 0.5 \\mathtt{y\\_1}\n",
       "\\end{equation}\n",
       " $$"
      ],
      "text/plain": [
       "-2x_1 + x_2 + 0.5y_1"
      ]
     },
     "metadata": {},
     "output_type": "display_data"
    }
   ],
   "source": [
    "SetLeaderFunction(experiment,-2x_1+x_2+0.5y_1)"
   ]
  },
  {
   "cell_type": "markdown",
   "metadata": {},
   "source": [
    "### Función objetivo del Follower"
   ]
  },
  {
   "cell_type": "code",
   "execution_count": 6,
   "metadata": {},
   "outputs": [
    {
     "data": {
      "text/latex": [
       "$$ \\begin{equation}\n",
       "\\mathtt{x\\_1} + \\mathtt{x\\_2} - 4 \\mathtt{y\\_1} + \\mathtt{y\\_2}\n",
       "\\end{equation}\n",
       " $$"
      ],
      "text/plain": [
       "x_1 + x_2 - 4y_1 + y_2"
      ]
     },
     "metadata": {},
     "output_type": "display_data"
    }
   ],
   "source": [
    "SetFollowerFunction(experiment,x_1+x_2-4y_1+y_2)"
   ]
  },
  {
   "cell_type": "markdown",
   "metadata": {},
   "source": [
    "### Restricciones del Follower"
   ]
  },
  {
   "cell_type": "code",
   "execution_count": 7,
   "metadata": {},
   "outputs": [
    {
     "data": {
      "text/plain": [
       "1-element Vector{FollowerRestrictionProblem}:\n",
       " FollowerRestrictionProblem((-2x_1 + y_1 - y_2) <= -2.5, J_0_LP_v, 0.7469369193301915, 0.44646747963789457, 0.29255418729749694)"
      ]
     },
     "metadata": {},
     "output_type": "display_data"
    }
   ],
   "source": [
    "SetFollowerRestriction(experiment,-2x_1+y_1-y_2<=-2.5)"
   ]
  },
  {
   "cell_type": "code",
   "execution_count": 8,
   "metadata": {},
   "outputs": [
    {
     "data": {
      "text/plain": [
       "2-element Vector{FollowerRestrictionProblem}:\n",
       " FollowerRestrictionProblem((-2x_1 + y_1 - y_2) <= -2.5, J_0_LP_v, 0.7469369193301915, 0.44646747963789457, 0.29255418729749694)\n",
       " FollowerRestrictionProblem((x_1 - 3x_2 + y_2) <= 2, J_0_LP_v, 0.42680439209957155, 0.49512639097300826, 0.5515220410773972)"
      ]
     },
     "metadata": {},
     "output_type": "display_data"
    }
   ],
   "source": [
    "SetFollowerRestriction(experiment,x_1-3x_2+y_2<=2)"
   ]
  },
  {
   "cell_type": "code",
   "execution_count": 9,
   "metadata": {},
   "outputs": [
    {
     "data": {
      "text/plain": [
       "3-element Vector{FollowerRestrictionProblem}:\n",
       " FollowerRestrictionProblem((-2x_1 + y_1 - y_2) <= -2.5, J_0_LP_v, 0.7469369193301915, 0.44646747963789457, 0.29255418729749694)\n",
       " FollowerRestrictionProblem((x_1 - 3x_2 + y_2) <= 2, J_0_LP_v, 0.42680439209957155, 0.49512639097300826, 0.5515220410773972)\n",
       " FollowerRestrictionProblem((x_1 + x_2) <= 2, J_0_LP_v, 0.6775977630315244, 0.5718328019207487, 0.2960598158673713)"
      ]
     },
     "metadata": {},
     "output_type": "display_data"
    }
   ],
   "source": [
    "SetFollowerRestriction(experiment,x_1+x_2<=2)"
   ]
  },
  {
   "cell_type": "markdown",
   "metadata": {},
   "source": [
    "### Poner el Punto Optimo"
   ]
  },
  {
   "cell_type": "code",
   "execution_count": 10,
   "metadata": {},
   "outputs": [
    {
     "data": {
      "text/plain": [
       "Dict{Any, Any} with 4 entries:\n",
       "  x_1 => 2.6771\n",
       "  x_2 => 0.853565\n",
       "  y_1 => 1.94145\n",
       "  y_2 => 0.179161"
      ]
     },
     "metadata": {},
     "output_type": "display_data"
    }
   ],
   "source": [
    "SetPoint(experiment,Dict(x_1=>2,x_2=>0,y_1=>1.5,y_2=>0))"
   ]
  },
  {
   "cell_type": "markdown",
   "metadata": {},
   "source": [
    "## Iniciar el Experimento\n"
   ]
  },
  {
   "cell_type": "code",
   "execution_count": 11,
   "metadata": {},
   "outputs": [
    {
     "name": "stdout",
     "output_type": "stream",
     "text": [
      "Va a retornar correctamente\n",
      "Leader's Objective Function:\n",
      "Variable names: [:x_1, :y_1, :x_2]\n",
      "Expression (string): -2x_1 + x_2 + 0.5y_1\n",
      "Parsed expression: -2x_1 + x_2 + 0.5y_1\n",
      "Evaluation point: Dict{Any, Any}(\"x_1\" => 2.6771003560647815, \"x_2\" => 0.8535654358698849, \"y_2\" => 0.17916062830365587, \"y_1\" => 1.9414525868537407)\n",
      "Evaluation value: -3.529908982832808\n",
      "Is leader function: true\n",
      "------------------------------\n",
      "Leader's Restrictions:\n",
      "------------------------------\n",
      "Follower's Objective Function:\n",
      "Variable names: [:x_1, :y_1, :x_2, :y_2]\n",
      "Expression (string): x_1 + x_2 - 4y_1 + y_2\n",
      "Parsed expression: x_1 + x_2 - 4y_1 + y_2\n",
      "Evaluation point: Dict{Any, Any}(\"x_1\" => 2.6771003560647815, \"x_2\" => 0.8535654358698849, \"y_2\" => 0.17916062830365587, \"y_1\" => 1.9414525868537407)\n",
      "Evaluation value: -4.055983927176641\n",
      "Is leader function: false\n",
      "------------------------------\n",
      "Follower's Restrictions:\n",
      "++++++++++++++++++++++++++++++\n",
      "Restriction 1\n",
      "Variable names: [:x_1, :y_1, :y_2]\n",
      "Expression (string): (-2x_1 + y_1 - y_2) == -2.5\n",
      "Parsed expression: 2.5 - 2x_1 + 1.0064777509664282y_1 - 0.9934488650049145y_2\n",
      "Evaluation point: Dict{Any, Any}(\"x_1\" => 2.6771003560647815, \"x_2\" => 0.8535654358698849, \"y_2\" => 0.17916062830365587, \"y_1\" => 1.9414525868537407)\n",
      "Evaluation value: -1.0781588017468902\n",
      "Additional constant: 1.0781588017468902\n",
      "Restriction type: LtEq\n",
      "Restriction set type: J_0_LP_v\n",
      "Value of miu: 0\n",
      "Value of beta: 0.7469369193301915\n",
      "Value of lambda: 0.44646747963789457\n",
      "Value of gamma: 0.29255418729749694\n",
      "++++++++++++++++++++++++++++++\n",
      "++++++++++++++++++++++++++++++\n",
      "Restriction 2\n",
      "Variable names: [:x_1, :x_2, :y_2]\n",
      "Expression (string): (x_1 - 3x_2 + y_2) == 2\n",
      "Parsed expression: -2 + x_1 - 3x_2 - 0.5782814301979822y_1 + 0.4151674348069323y_2\n",
      "Evaluation point: Dict{Any, Any}(\"x_1\" => 2.6771003560647815, \"x_2\" => 0.8535654358698849, \"y_2\" => 0.17916062830365587, \"y_1\" => 1.9414525868537407)\n",
      "Evaluation value: -2.9319202716609998\n",
      "Additional constant: 2.9319202716609998\n",
      "Restriction type: LtEq\n",
      "Restriction set type: J_0_LP_v\n",
      "Value of miu: 0\n",
      "Value of beta: 0.42680439209957155\n",
      "Value of lambda: 0.49512639097300826\n",
      "Value of gamma: 0.5515220410773972\n",
      "++++++++++++++++++++++++++++++\n",
      "++++++++++++++++++++++++++++++\n",
      "Restriction 3\n",
      "Variable names: [:x_1, :x_2]\n",
      "Expression (string): (x_1 + x_2) == 2\n",
      "Parsed expression: -2 + x_1 + x_2\n",
      "Evaluation point: Dict{Any, Any}(\"x_1\" => 2.6771003560647815, \"x_2\" => 0.8535654358698849, \"y_2\" => 0.17916062830365587, \"y_1\" => 1.9414525868537407)\n",
      "Evaluation value: 1.5306657919346662\n",
      "Additional constant: -1.5306657919346662\n",
      "Restriction type: LtEq\n",
      "Restriction set type: J_0_LP_v\n",
      "Value of miu: 0\n",
      "Value of beta: 0.6775977630315244\n",
      "Value of lambda: 0.5718328019207487\n",
      "Value of gamma: 0.2960598158673713\n",
      "++++++++++++++++++++++++++++++\n",
      "------------------------------\n",
      "Evaluation Point:\n",
      "Dict{Any, Any}(\"x_1\" => 2.6771003560647815, \"x_2\" => 0.8535654358698849, \"y_2\" => 0.17916062830365587, \"y_1\" => 1.9414525868537407)\n",
      "------------------------------\n",
      "_\n",
      "\n",
      "Num[2.389471683529287, -0.3971845867328099, -1.004962336403123, 0.5648483501065348]\n",
      "Va a retornar correctamente\n",
      "Leader's Objective Function:\n",
      "Variable names: [:x_1, :y_1, :x_2]\n",
      "Expression (string): -2x_1 + x_2 + 0.5y_1\n",
      "Parsed expression: -2x_1 + x_2 + 0.5y_1\n",
      "Evaluation point: Dict{Any, Any}(\"x_1\" => 2.6771003560647815, \"x_2\" => 0.8535654358698849, \"y_2\" => 0.17916062830365587, \"y_1\" => 1.9414525868537407)\n",
      "Evaluation value: -3.529908982832808\n",
      "Is leader function: true\n",
      "------------------------------\n",
      "Leader's Restrictions:\n",
      "------------------------------\n",
      "Follower's Objective Function:\n",
      "Variable names: [:x_1, :y_1, :x_2, :y_2]\n",
      "Expression (string): x_1 + x_2 - 4y_1 + y_2\n",
      "Parsed expression: x_1 + x_2 - 4y_1 + y_2\n",
      "Evaluation point: Dict{Any, Any}(\"x_1\" => 2.6771003560647815, \"x_2\" => 0.8535654358698849, \"y_2\" => 0.17916062830365587, \"y_1\" => 1.9414525868537407)\n",
      "Evaluation value: -4.055983927176641\n",
      "Is leader function: false\n",
      "------------------------------\n",
      "Follower's Restrictions:\n",
      "++++++++++++++++++++++++++++++\n",
      "Restriction 1\n",
      "Variable names: [:x_1, :y_1, :y_2]\n",
      "Expression (string): (-2x_1 + y_1 - y_2) == -2.5\n",
      "Parsed expression: 2.5 - 2x_1 + y_1 - y_2\n",
      "Evaluation point: Dict{Any, Any}(\"x_1\" => 2.6771003560647815, \"x_2\" => 0.8535654358698849, \"y_2\" => 0.17916062830365587, \"y_1\" => 1.9414525868537407)\n",
      "Evaluation value: -1.091908753579478\n",
      "Additional constant: 1.091908753579478\n",
      "Restriction type: LtEq\n",
      "Restriction set type: J_0_LP_v\n",
      "Value of miu: 0\n",
      "Value of beta: 0.7469369193301915\n",
      "Value of lambda: 0.44646747963789457\n",
      "Value of gamma: 0.29255418729749694\n",
      "++++++++++++++++++++++++++++++\n",
      "++++++++++++++++++++++++++++++\n",
      "Restriction 2\n",
      "Variable names: [:x_1, :x_2, :y_2]\n",
      "Expression (string): (x_1 - 3x_2 + y_2) == 2\n",
      "Parsed expression: -2 + x_1 - 3x_2 + y_2\n",
      "Evaluation point: Dict{Any, Any}(\"x_1\" => 2.6771003560647815, \"x_2\" => 0.8535654358698849, \"y_2\" => 0.17916062830365587, \"y_1\" => 1.9414525868537407)\n",
      "Evaluation value: -1.7044353232412175\n",
      "Additional constant: 1.7044353232412175\n",
      "Restriction type: LtEq\n",
      "Restriction set type: J_0_LP_v\n",
      "Value of miu: 0\n",
      "Value of beta: 0.42680439209957155\n",
      "Value of lambda: 0.49512639097300826\n",
      "Value of gamma: 0.5515220410773972\n",
      "++++++++++++++++++++++++++++++\n",
      "++++++++++++++++++++++++++++++\n",
      "Restriction 3\n",
      "Variable names: [:x_1, :x_2]\n",
      "Expression (string): (x_1 + x_2) == 2\n",
      "Parsed expression: -2 + x_1 + x_2\n",
      "Evaluation point: Dict{Any, Any}(\"x_1\" => 2.6771003560647815, \"x_2\" => 0.8535654358698849, \"y_2\" => 0.17916062830365587, \"y_1\" => 1.9414525868537407)\n",
      "Evaluation value: 1.5306657919346662\n",
      "Additional constant: -1.5306657919346662\n",
      "Restriction type: LtEq\n",
      "Restriction set type: J_0_LP_v\n",
      "Value of miu: 0\n",
      "Value of beta: 0.6775977630315244\n",
      "Value of lambda: 0.5718328019207487\n",
      "Value of gamma: 0.2960598158673713\n",
      "++++++++++++++++++++++++++++++\n",
      "------------------------------\n",
      "Evaluation Point:\n",
      "Dict{Any, Any}(\"x_1\" => 2.6771003560647815, \"x_2\" => 0.8535654358698849, \"y_2\" => 0.17916062830365587, \"y_1\" => 1.9414525868537407)\n",
      "------------------------------\n",
      "_\n",
      "\n",
      "Num[2.389471683529287, -0.3971845867328099, -1.2469369193301914, 0.3201325272306199]\n",
      "Se va a crear el DataFrame\n",
      "Se va a crear el DataFrame\n",
      "Se va a crear el DataFrame\n",
      "Experimento Completado\n"
     ]
    }
   ],
   "source": [
    "RunExperiment(experiment,\"ex9.1.9(Linear)\")"
   ]
  }
 ],
 "metadata": {
  "kernelspec": {
   "display_name": "Julia 1.10.5",
   "language": "julia",
   "name": "julia-1.10"
  },
  "language_info": {
   "file_extension": ".jl",
   "mimetype": "application/julia",
   "name": "julia",
   "version": "1.10.5"
  }
 },
 "nbformat": 4,
 "nbformat_minor": 2
}
