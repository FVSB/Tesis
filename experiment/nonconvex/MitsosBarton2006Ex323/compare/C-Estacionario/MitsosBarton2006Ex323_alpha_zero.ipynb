{
 "cells": [
  {
   "cell_type": "markdown",
   "metadata": {},
   "source": [
    "## Importaciones necesarias"
   ]
  },
  {
   "cell_type": "code",
   "execution_count": 1,
   "metadata": {},
   "outputs": [],
   "source": [
    "using JuMP, Ipopt, Complementarity"
   ]
  },
  {
   "cell_type": "markdown",
   "metadata": {},
   "source": [
    "# Crear el modelo"
   ]
  },
  {
   "cell_type": "code",
   "execution_count": 2,
   "metadata": {},
   "outputs": [
    {
     "data": {
      "text/plain": [
       "A JuMP Model\n",
       "├ solver: Ipopt\n",
       "├ objective_sense: FEASIBILITY_SENSE\n",
       "├ num_variables: 0\n",
       "├ num_constraints: 0\n",
       "└ Names registered in the model: none"
      ]
     },
     "metadata": {},
     "output_type": "display_data"
    }
   ],
   "source": [
    "# Crear el modelo\n",
    "model = Model(Ipopt.Optimizer)"
   ]
  },
  {
   "cell_type": "markdown",
   "metadata": {},
   "source": [
    "## Definir Variables\n"
   ]
  },
  {
   "cell_type": "code",
   "execution_count": 3,
   "metadata": {},
   "outputs": [
    {
     "data": {
      "text/plain": [
       "3-element Vector{VariableRef}:\n",
       " l[1]\n",
       " l[2]\n",
       " l[3]"
      ]
     },
     "metadata": {},
     "output_type": "display_data"
    }
   ],
   "source": [
    "# Nivel superior\n",
    "@variable(model,x)\n",
    "# Nivel Inferior\n",
    "@variable(model,y)\n",
    "# Complementariedad\n",
    "@variable(model,l[1:3])"
   ]
  },
  {
   "cell_type": "markdown",
   "metadata": {},
   "source": [
    "## Definir Objetivo\n"
   ]
  },
  {
   "cell_type": "code",
   "execution_count": 4,
   "metadata": {},
   "outputs": [
    {
     "data": {
      "text/latex": [
       "$ x^2 $"
      ],
      "text/plain": [
       "x²"
      ]
     },
     "metadata": {},
     "output_type": "display_data"
    }
   ],
   "source": [
    "@objective(model,Min,x^2)"
   ]
  },
  {
   "cell_type": "markdown",
   "metadata": {},
   "source": [
    "## Definir Restricciones\n"
   ]
  },
  {
   "cell_type": "code",
   "execution_count": 5,
   "metadata": {},
   "outputs": [
    {
     "data": {
      "text/latex": [
       "$$ (-0.22 + (-0.5 + x) * y ^ {2.0}) - 0.0 \\leq 0 $$"
      ],
      "text/plain": [
       "(-0.22 + (-0.5 + x) * y ^ 2.0) - 0.0 <= 0"
      ]
     },
     "metadata": {},
     "output_type": "display_data"
    }
   ],
   "source": [
    "@NLconstraint(model,1+(+l[1]-l[2]+(l[3]*(2*y*(x-0.25))))==0) # Obj nivel inferior\n",
    "@NLconstraint(model,-0.22 + (-0.5 + x)*(y^2)<=0 )#vs"
   ]
  },
  {
   "cell_type": "code",
   "execution_count": 6,
   "metadata": {},
   "outputs": [
    {
     "data": {
      "text/plain": [
       "(-x <= -2.89, x <= 2.89, -9 x² + x - y <= -72.58, y <= 0.3, -y <= 2.3)"
      ]
     },
     "metadata": {},
     "output_type": "display_data"
    }
   ],
   "source": [
    "@constraints(model,begin\n",
    "2.89 - x<=0  #gs\n",
    "-2.89 + x<=0  #gs\n",
    "72.58 + x - y - 9(x^2)<=0 #gs\n",
    "-0.3 + y<=0  #vs\n",
    "-2.3 - y<=0 #vs\n",
    "\n",
    "end)"
   ]
  },
  {
   "cell_type": "markdown",
   "metadata": {},
   "source": [
    "## Definir variables Complementarias"
   ]
  },
  {
   "cell_type": "code",
   "execution_count": 7,
   "metadata": {},
   "outputs": [
    {
     "data": {
      "text/latex": [
       "$$ (sqrt(l[3] ^ {2.0} + (-((-0.22 + (-0.5 + x) * (y * y))) - 0.0) ^ {2.0} + 1.0e-8) - (l[3] + (-((-0.22 + (-0.5 + x) * (y * y))) - 0.0))) - 0.0 = 0 $$"
      ],
      "text/plain": [
       "(sqrt(l[3] ^ 2.0 + (-((-0.22 + (-0.5 + x) * (y * y))) - 0.0) ^ 2.0 + 1.0e-8) - (l[3] + (-((-0.22 + (-0.5 + x) * (y * y))) - 0.0))) - 0.0 == 0"
      ]
     },
     "metadata": {},
     "output_type": "display_data"
    }
   ],
   "source": [
    "@complements(model,0<=-(-0.3 + y),l[1]>=0)\n",
    "@complements(model,0<=-(-2.3 - y),l[2]>=0)\n",
    "@complements(model,0<=-(-0.22 + (-0.5 + x)*(y^2)),l[3]>=0)"
   ]
  },
  {
   "cell_type": "markdown",
   "metadata": {},
   "source": [
    "## Optimizar"
   ]
  },
  {
   "cell_type": "code",
   "execution_count": 8,
   "metadata": {},
   "outputs": [
    {
     "name": "stdout",
     "output_type": "stream",
     "text": [
      "\n",
      "******************************************************************************\n",
      "This program contains Ipopt, a library for large-scale nonlinear optimization.\n",
      " Ipopt is released as open source code under the Eclipse Public License (EPL).\n",
      "         For more information visit https://github.com/coin-or/Ipopt\n",
      "******************************************************************************\n",
      "\n",
      "This is Ipopt version 3.14.16, running with linear solver MUMPS 5.7.3.\n",
      "\n",
      "Number of nonzeros in equality constraint Jacobian...:       12\n",
      "Number of nonzeros in inequality constraint Jacobian.:       16\n",
      "Number of nonzeros in Lagrangian Hessian.............:       26\n",
      "\n",
      "Total number of variables............................:        5\n",
      "                     variables with only lower bounds:        0\n",
      "                variables with lower and upper bounds:        0\n",
      "                     variables with only upper bounds:        0\n",
      "Total number of equality constraints.................:        4\n",
      "Total number of inequality constraints...............:       12\n",
      "        inequality constraints with only lower bounds:        6\n",
      "   inequality constraints with lower and upper bounds:        0\n",
      "        inequality constraints with only upper bounds:        6\n",
      "\n",
      "iter    objective    inf_pr   inf_du lg(mu)  ||d||  lg(rg) alpha_du alpha_pr  ls\n",
      "   0  0.0000000e+00 7.26e+01 1.00e+00  -1.0 0.00e+00    -  0.00e+00 0.00e+00   0\n",
      "   1  4.4870654e-05 7.28e+01 2.80e+06  -1.0 1.77e+07    -  1.68e-08 1.05e-08f  3\n",
      "   2  8.9226483e-05 7.28e+01 3.21e+06  -1.0 4.19e+07    -  1.15e-08 1.33e-09f  4\n",
      "   3  1.4050321e-04 7.29e+01 3.78e+06  -1.0 4.71e+07    -  1.14e-08 1.08e-09f  4\n",
      "   4  1.5328377e-04 7.29e+01 3.84e+06  -1.0 5.03e+07    -  1.17e-08 2.43e-10f  6\n",
      "   5  1.7963786e-04 7.29e+01 4.45e+06  -1.0 5.09e+07    -  1.47e-08 5.35e-10f  5\n",
      "   6  1.8612120e-04 7.29e+01 4.55e+06  -1.0 5.18e+07    -  1.41e-08 1.24e-10f  7\n",
      "   7  1.9260134e-04 7.29e+01 4.80e+06  -1.0 5.20e+07    -  1.39e-08 1.25e-10f  7\n",
      "   8r 1.9260134e-04 7.29e+01 9.99e+02   1.9 0.00e+00    -  0.00e+00 4.80e-13R 15\n",
      "   9r 9.9909803e-02 7.11e+01 9.85e+02   1.9 7.21e+01    -  5.72e-02 1.44e-02f  1\n",
      "iter    objective    inf_pr   inf_du lg(mu)  ||d||  lg(rg) alpha_du alpha_pr  ls\n",
      "  10r 5.1807638e-02 7.17e+01 1.53e+03   1.2 1.53e-01   4.0 1.00e+00 1.00e+00f  1\n",
      "  11r 5.9007608e-02 7.16e+01 9.61e+02   1.2 2.45e-01   3.5 9.20e-01 5.73e-01f  1\n",
      "  12r 1.0003863e-01 7.12e+01 8.21e+02   1.2 6.97e-01   3.0 1.00e+00 7.52e-01f  1\n",
      "  13r 4.8168906e-01 6.74e+01 9.71e+02   0.5 2.62e+00   2.6 9.54e-01 1.00e+00f  1\n",
      "  14r 1.1391734e+00 6.11e+01 9.37e+02   0.5 7.54e+00   2.1 3.34e-01 8.48e-01f  1\n",
      "  15  1.1354910e+00 6.10e+01 2.17e+02  -1.0 2.78e+02    -  3.91e-04 1.61e-04h  2\n",
      "  16  1.1318090e+00 6.10e+01 1.98e+03  -1.0 2.67e+02    -  5.99e-04 1.70e-04h  1\n",
      "  17  1.1363249e+00 6.10e+01 1.45e+03  -1.0 7.14e+00    -  8.75e-04 6.66e-04h  1\n",
      "  18r 1.1363249e+00 6.10e+01 9.99e+02   1.8 0.00e+00    -  0.00e+00 4.08e-07R  5\n",
      "  19r 1.1639274e+00 6.08e+01 1.00e+03   1.8 1.79e+04    -  2.44e-03 1.32e-05f  1\n",
      "iter    objective    inf_pr   inf_du lg(mu)  ||d||  lg(rg) alpha_du alpha_pr  ls\n",
      "  20r 1.6208522e+01 6.92e+00 9.97e+02   1.1 2.13e+04    -  3.86e-03 2.82e-03f  1\n",
      "  21r 1.6239228e+01 6.92e+00 9.92e+02   1.1 1.46e+02    -  4.19e-01 4.13e-03f  1\n",
      "  22r 1.2654896e+01 6.45e+00 5.77e+02   1.1 1.07e+00    -  2.00e-01 4.47e-01f  1\n",
      "  23  1.2639745e+01 6.45e+00 2.91e+04  -1.0 1.59e+01    -  6.20e-01 2.22e-03h  1\n",
      "  24  1.2638377e+01 6.45e+00 1.06e+08  -1.0 2.10e+02    -  1.79e-01 4.88e-05h  1\n",
      "  25r 1.2638377e+01 6.45e+00 1.00e+03   1.7 0.00e+00    -  0.00e+00 2.46e-07R  2\n",
      "  26r 8.2372100e+00 5.76e+00 9.95e+02   1.7 4.47e+04    -  2.77e-02 9.96e-04f  1\n",
      "  27r 8.2372100e+00 5.76e+00 9.99e+02   0.8 0.00e+00    -  0.00e+00 2.53e-07R  6\n",
      "  28r 7.7421912e+00 5.67e+00 9.97e+02   0.8 3.82e+03    -  5.58e-02 1.21e-03f  1\n",
      "  29r 7.7507080e+00 5.67e+00 9.33e+02   0.8 4.20e+00    -  2.57e-02 6.41e-02f  1\n",
      "iter    objective    inf_pr   inf_du lg(mu)  ||d||  lg(rg) alpha_du alpha_pr  ls\n",
      "  30r 7.7515669e+00 5.67e+00 9.28e+02   0.8 4.67e+01    -  2.56e-02 5.70e-03f  1\n",
      "  31r 7.7613498e+00 5.68e+00 8.25e+02   0.8 7.93e-01    -  2.25e-01 1.11e-01f  1\n",
      "  32r 7.7670989e+00 5.68e+00 3.99e+02   0.8 2.62e-01    -  4.70e-01 5.16e-01f  1\n",
      "  33r 7.7854502e+00 5.68e+00 7.21e+02   0.8 6.39e-01   2.0 1.00e+00 1.00e+00f  1\n",
      "  34r 7.7841294e+00 5.68e+00 1.38e+04   0.8 4.91e+00    -  3.01e-01 1.00e+00h  1\n",
      "  35r 7.7844396e+00 5.68e+00 3.76e+02   0.8 1.75e-01   1.5 1.00e+00 1.00e+00f  1\n",
      "  36r 7.7784735e+00 5.68e+00 7.16e+02   0.8 6.14e+00    -  1.00e+00 9.66e-01F  1\n",
      "  37r 7.7798721e+00 5.68e+00 6.80e+02   0.8 4.53e+00   2.9 1.97e-02 7.37e-03h  4\n",
      "  38r 7.7781933e+00 5.68e+00 4.96e+02   0.8 1.50e+00   3.3 1.62e-01 1.01e-01h  1\n",
      "  39r 7.7747338e+00 5.68e+00 3.96e+02   0.8 1.42e+00   2.8 2.50e-01 1.61e-01h  1\n",
      "iter    objective    inf_pr   inf_du lg(mu)  ||d||  lg(rg) alpha_du alpha_pr  ls\n",
      "  40r 7.7791130e+00 5.68e+00 3.99e+02   0.8 9.54e+00    -  9.00e-02 2.04e-02f  4\n",
      "  41r 7.7670448e+00 5.68e+00 2.75e+02   0.8 4.63e-01   2.3 1.00e+00 8.80e-01h  1\n",
      "  42r 7.7473285e+00 5.67e+00 6.52e+01   0.1 2.37e-01    -  9.16e-01 1.00e+00f  1\n",
      "  43r 7.7483958e+00 5.67e+00 9.60e+01  -0.6 5.91e-01    -  8.22e-01 1.00e+00f  1\n",
      "  44r 7.7517767e+00 5.67e+00 1.33e+02  -0.6 1.23e+00    -  1.00e+00 1.00e+00f  1\n",
      "  45r 7.7517351e+00 5.67e+00 3.42e+01  -0.6 8.94e-01    -  1.00e+00 1.00e+00h  1\n",
      "  46r 7.7511880e+00 5.67e+00 2.90e+00  -0.6 4.79e-01    -  1.00e+00 1.00e+00f  1\n",
      "  47r 7.7501029e+00 5.67e+00 8.86e-01  -1.3 1.30e-02    -  1.00e+00 1.00e+00f  1\n",
      "  48r 7.7505113e+00 5.67e+00 7.08e+00  -2.0 4.11e-01    -  1.00e+00 1.00e+00f  1\n",
      "  49r 7.7510734e+00 5.67e+00 6.96e+00  -2.0 5.33e-01    -  1.00e+00 1.00e+00f  1\n",
      "iter    objective    inf_pr   inf_du lg(mu)  ||d||  lg(rg) alpha_du alpha_pr  ls\n",
      "  50r 7.7511471e+00 5.67e+00 1.18e-01  -2.0 1.56e-01    -  1.00e+00 1.00e+00h  1\n",
      "  51r 7.7510938e+00 5.67e+00 2.94e-01  -3.1 5.06e-03    -  1.00e+00 1.00e+00f  1\n",
      "  52r 7.7515401e+00 5.67e+00 5.11e+00  -3.1 5.17e-01    -  1.00e+00 1.00e+00f  1\n",
      "  53r 7.7516310e+00 5.67e+00 2.37e-01  -3.1 1.99e-01    -  1.00e+00 1.00e+00h  1\n",
      "  54r 7.7516283e+00 5.67e+00 7.75e-05  -3.1 1.17e-03    -  1.00e+00 1.00e+00h  1\n",
      "  55r 7.7516230e+00 5.67e+00 1.51e-01  -6.9 6.59e-04    -  1.00e+00 9.95e-01f  1\n",
      "  56r 7.7518978e+00 5.67e+00 4.78e+01  -6.9 5.83e-01    -  8.19e-01 7.31e-01f  1\n",
      "  57r 7.7520832e+00 5.67e+00 4.41e+01  -6.9 3.76e-01    -  8.52e-01 1.00e+00h  1\n",
      "  58r 7.7520999e+00 5.67e+00 1.03e-02  -6.9 5.81e-02    -  1.00e+00 1.00e+00h  1\n",
      "  59r 7.7520995e+00 5.67e+00 1.74e-06  -6.9 3.11e-04    -  1.00e+00 1.00e+00h  1\n",
      "iter    objective    inf_pr   inf_du lg(mu)  ||d||  lg(rg) alpha_du alpha_pr  ls\n",
      "  60r 7.7520995e+00 5.67e+00 4.89e-02  -9.0 2.00e-08    -  1.00e+00 9.96e-01h  1\n",
      "  61r 7.7521081e+00 5.67e+00 2.57e-03  -9.0 1.80e-02    -  1.00e+00 1.00e+00f  1\n",
      "  62r 7.7521082e+00 5.67e+00 9.12e-08  -9.0 1.55e-04    -  1.00e+00 1.00e+00h  1\n",
      "\n",
      "Number of Iterations....: 62\n",
      "\n",
      "                                   (scaled)                 (unscaled)\n",
      "Objective...............:   7.7521081507412832e+00    7.7521081507412832e+00\n",
      "Dual infeasibility......:   5.5685218954740519e+00    5.5685218954740519e+00\n",
      "Constraint violation....:   5.6742607618200935e+00    5.6742607618200935e+00\n",
      "Variable bound violation:   0.0000000000000000e+00    0.0000000000000000e+00\n",
      "Complementarity.........:   9.0909090909090920e-10    9.0909090909090920e-10\n",
      "Overall NLP error.......:   5.6742607618200935e+00    5.6742607618200935e+00\n",
      "\n",
      "\n",
      "Number of objective function evaluations             = 141\n",
      "Number of objective gradient evaluations             = 21\n",
      "Number of equality constraint evaluations            = 141\n",
      "Number of inequality constraint evaluations          = 141\n",
      "Number of equality constraint Jacobian evaluations   = 68\n",
      "Number of inequality constraint Jacobian evaluations = 68\n",
      "Number of Lagrangian Hessian evaluations             = 63\n",
      "Total seconds in IPOPT                               = 3.116\n",
      "\n",
      "EXIT: Converged to a point of local infeasibility. Problem may be infeasible.\n"
     ]
    }
   ],
   "source": [
    "# Resolver el modelo\n",
    "optimize!(model)"
   ]
  },
  {
   "cell_type": "markdown",
   "metadata": {},
   "source": [
    "# Mostrar resultados"
   ]
  },
  {
   "cell_type": "code",
   "execution_count": 9,
   "metadata": {},
   "outputs": [
    {
     "name": "stdout",
     "output_type": "stream",
     "text": [
      "Estado de la solución: LOCALLY_INFEASIBLE\n",
      "Valor óptimo de x: -2.784260790720094\n",
      "Valor óptimo de y1: 0.026765126854813193\n",
      "Valores óptimos de l: [1.8299267481528876e-8, 2.148913758599536e-9, 6.156697279619762]\n"
     ]
    }
   ],
   "source": [
    "# Mostrar resultados\n",
    "println(\"Estado de la solución: \", termination_status(model))\n",
    "println(\"Valor óptimo de x: \", value(x))\n",
    "println(\"Valor óptimo de y1: \", value(y))\n",
    "#println(\"Valor óptimo de y2: \", value(y2))\n",
    "#println(\"Valores óptimos de s: \", value.(s))\n",
    "println(\"Valores óptimos de l: \", value.(l))"
   ]
  },
  {
   "cell_type": "code",
   "execution_count": 10,
   "metadata": {},
   "outputs": [
    {
     "data": {
      "text/plain": [
       "7.752108150741283"
      ]
     },
     "metadata": {},
     "output_type": "display_data"
    }
   ],
   "source": [
    "objective_value(model)"
   ]
  }
 ],
 "metadata": {
  "kernelspec": {
   "display_name": "Julia 1.10.5",
   "language": "julia",
   "name": "julia-1.10"
  },
  "language_info": {
   "file_extension": ".jl",
   "mimetype": "application/julia",
   "name": "julia",
   "version": "1.10.5"
  }
 },
 "nbformat": 4,
 "nbformat_minor": 2
}
