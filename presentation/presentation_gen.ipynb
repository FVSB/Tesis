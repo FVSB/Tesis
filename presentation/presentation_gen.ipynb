{
 "cells": [
  {
   "cell_type": "markdown",
   "metadata": {},
   "source": [
    "# Importamos los módulos correspondientes"
   ]
  },
  {
   "cell_type": "code",
   "execution_count": 1,
   "metadata": {},
   "outputs": [
    {
     "data": {
      "text/plain": [
       "Make_BF"
      ]
     },
     "metadata": {},
     "output_type": "display_data"
    }
   ],
   "source": [
    "\n",
    "include(\"../def_problem/solver.jl\")"
   ]
  },
  {
   "cell_type": "code",
   "execution_count": 2,
   "metadata": {},
   "outputs": [],
   "source": [
    "\n",
    "using Symbolics\n",
    "\n"
   ]
  },
  {
   "cell_type": "markdown",
   "metadata": {},
   "source": [
    "#### Indicar las variables del lider"
   ]
  },
  {
   "cell_type": "code",
   "execution_count": 3,
   "metadata": {},
   "outputs": [
    {
     "data": {
      "text/plain": [
       "1-element Vector{String}:\n",
       " \"x\""
      ]
     },
     "metadata": {},
     "output_type": "display_data"
    }
   ],
   "source": [
    "lider_vars=[\"x\"]"
   ]
  },
  {
   "cell_type": "markdown",
   "metadata": {},
   "source": [
    "#### Indicar las variables del follower"
   ]
  },
  {
   "cell_type": "code",
   "execution_count": 4,
   "metadata": {},
   "outputs": [
    {
     "data": {
      "text/plain": [
       "1-element Vector{String}:\n",
       " \"y\""
      ]
     },
     "metadata": {},
     "output_type": "display_data"
    }
   ],
   "source": [
    "follower_vars=[\"y\"]"
   ]
  },
  {
   "cell_type": "code",
   "execution_count": 5,
   "metadata": {},
   "outputs": [
    {
     "data": {
      "text/latex": [
       "$$ \\begin{equation}\n",
       "\\left[\n",
       "\\begin{array}{c}\n",
       "y \\\\\n",
       "\\end{array}\n",
       "\\right]\n",
       "\\end{equation}\n",
       " $$"
      ],
      "text/plain": [
       "1-element Vector{Num}:\n",
       " y"
      ]
     },
     "metadata": {},
     "output_type": "display_data"
    }
   ],
   "source": [
    "follower_vars_symbolic=map(convert_Symbol_to_symbolic_num,follower_vars)"
   ]
  },
  {
   "cell_type": "markdown",
   "metadata": {},
   "source": [
    "Concatenar las variables de los dos niveles"
   ]
  },
  {
   "cell_type": "code",
   "execution_count": 6,
   "metadata": {},
   "outputs": [
    {
     "data": {
      "text/plain": [
       "2-element Vector{String}:\n",
       " \"x\"\n",
       " \"y\""
      ]
     },
     "metadata": {},
     "output_type": "display_data"
    }
   ],
   "source": [
    "problem_vars_str=vcat(lider_vars,follower_vars)"
   ]
  },
  {
   "cell_type": "markdown",
   "metadata": {},
   "source": [
    "Convertir a variables de Symbolics"
   ]
  },
  {
   "cell_type": "code",
   "execution_count": 7,
   "metadata": {},
   "outputs": [
    {
     "data": {
      "text/latex": [
       "$$ \\begin{equation}\n",
       "\\left[\n",
       "\\begin{array}{c}\n",
       "x \\\\\n",
       "y \\\\\n",
       "\\end{array}\n",
       "\\right]\n",
       "\\end{equation}\n",
       " $$"
      ],
      "text/plain": [
       "2-element Vector{Num}:\n",
       " x\n",
       " y"
      ]
     },
     "metadata": {},
     "output_type": "display_data"
    }
   ],
   "source": [
    "problem_vars=map(convert_Symbol_to_symbolic_num,problem_vars_str)"
   ]
  },
  {
   "cell_type": "markdown",
   "metadata": {},
   "source": [
    "## Declarar la funcion del lider"
   ]
  },
  {
   "cell_type": "code",
   "execution_count": 8,
   "metadata": {},
   "outputs": [
    {
     "data": {
      "text/plain": [
       "\"((x^2)+(y-10)^2)\""
      ]
     },
     "metadata": {},
     "output_type": "display_data"
    }
   ],
   "source": [
    "leader_func_str::String=\"((x^2)+(y-10)^2)\""
   ]
  },
  {
   "cell_type": "markdown",
   "metadata": {},
   "source": [
    "#### Definir las restricciones del lider"
   ]
  },
  {
   "cell_type": "code",
   "execution_count": 9,
   "metadata": {},
   "outputs": [
    {
     "data": {
      "text/plain": [
       "J_0_g::RestrictionSetType = 1"
      ]
     },
     "metadata": {},
     "output_type": "display_data"
    }
   ],
   "source": [
    "J_0_g"
   ]
  },
  {
   "cell_type": "markdown",
   "metadata": {},
   "source": [
    "$$\n",
    "\\mu = 0.3\n",
    "$$"
   ]
  },
  {
   "cell_type": "code",
   "execution_count": 10,
   "metadata": {},
   "outputs": [
    {
     "name": "stdout",
     "output_type": "stream",
     "text": [
      "Restriction Definition Details\n",
      "------------------------------\n",
      "Restriction type: LtEq\n",
      "------------------------------\n",
      "Set type: J_0_g\n",
      "------------------------------\n",
      "Belongs to leader function: true\n",
      "------------------------------\n",
      "Value of miu: 0.3\n",
      "------------------------------\n",
      "Value of beta: 0\n",
      "------------------------------\n",
      "Value of lambda: 0\n",
      "------------------------------\n",
      "Value of gamma: 0\n",
      "------------------------------\n"
     ]
    },
    {
     "data": {
      "text/plain": []
     },
     "metadata": {},
     "output_type": "display_data"
    }
   ],
   "source": [
    "g_1=Def_Restriction_init(\"-x+y==0\",J_0_g,LtEq,true,0.3,0,0,0)"
   ]
  },
  {
   "cell_type": "markdown",
   "metadata": {},
   "source": [
    "Crear un vector con las $g_s$"
   ]
  },
  {
   "cell_type": "code",
   "execution_count": 11,
   "metadata": {},
   "outputs": [
    {
     "name": "stdout",
     "output_type": "stream",
     "text": [
      "Restriction Definition Details\n",
      "------------------------------\n",
      "Restriction type: LtEq\n",
      "------------------------------\n",
      "Set type: J_0_g\n",
      "------------------------------\n",
      "Belongs to leader function: true\n",
      "------------------------------\n",
      "Value of miu: 0.3\n",
      "------------------------------\n",
      "Value of beta: 0\n",
      "------------------------------\n",
      "Value of lambda: 0\n",
      "------------------------------\n",
      "Value of gamma: 0\n",
      "------------------------------\n",
      "Restriction Definition Details\n",
      "------------------------------\n",
      "Restriction type: LtEq\n",
      "------------------------------\n",
      "Set type: J_0_g\n",
      "------------------------------\n",
      "Belongs to leader function: true\n",
      "------------------------------\n",
      "Value of miu: 0.3\n",
      "------------------------------\n",
      "Value of beta: 0\n",
      "------------------------------\n",
      "Value of lambda: 0\n",
      "------------------------------\n",
      "Value of gamma: 0\n",
      "------------------------------\n",
      "Restriction Definition Details\n",
      "------------------------------\n",
      "Restriction type: LtEq\n",
      "------------------------------\n",
      "Set type: J_0_g\n",
      "------------------------------\n",
      "Belongs to leader function: true\n",
      "------------------------------\n",
      "Value of miu: 0.3\n",
      "------------------------------\n",
      "Value of beta: 0\n",
      "------------------------------\n",
      "Value of lambda: 0\n",
      "------------------------------\n",
      "Value of gamma: 0\n",
      "------------------------------\n"
     ]
    },
    {
     "data": {
      "text/plain": [
       "1-element Vector{Def_Restriction}:\n",
       " "
      ]
     },
     "metadata": {},
     "output_type": "display_data"
    }
   ],
   "source": [
    "g_s=[g_1]"
   ]
  },
  {
   "cell_type": "markdown",
   "metadata": {},
   "source": [
    "## Definir el nivel inferior"
   ]
  },
  {
   "cell_type": "code",
   "execution_count": 12,
   "metadata": {},
   "outputs": [
    {
     "data": {
      "text/plain": [
       "\"(x+2y-30)^2\""
      ]
     },
     "metadata": {},
     "output_type": "display_data"
    }
   ],
   "source": [
    "Follower_str_expr=\"(x+2y-30)^2\""
   ]
  },
  {
   "cell_type": "markdown",
   "metadata": {},
   "source": [
    "#### Restricciones del follower"
   ]
  },
  {
   "cell_type": "markdown",
   "metadata": {},
   "source": [
    "$\\beta = 1$,  $\\lambda=0$"
   ]
  },
  {
   "cell_type": "code",
   "execution_count": 13,
   "metadata": {},
   "outputs": [
    {
     "data": {
      "text/plain": []
     },
     "metadata": {},
     "output_type": "display_data"
    },
    {
     "name": "stdout",
     "output_type": "stream",
     "text": [
      "Restriction Definition Details\n",
      "------------------------------\n",
      "Restriction type: LtEq\n",
      "------------------------------\n",
      "Set type: J_Ne_L0_v\n",
      "------------------------------\n",
      "Belongs to leader function: false\n",
      "------------------------------\n",
      "Value of miu: 0\n",
      "------------------------------\n",
      "Value of beta: 1\n",
      "------------------------------\n",
      "Value of lambda: 0\n",
      "------------------------------\n",
      "Value of gamma: 1\n",
      "------------------------------\n"
     ]
    }
   ],
   "source": [
    "v_1=Def_Restriction_init(\"x+y==20\",J_Ne_L0_v,LtEq,false,0,1,0,1)"
   ]
  },
  {
   "cell_type": "markdown",
   "metadata": {},
   "source": [
    "$\\beta = 0.5 $, $\\lambda = 1$\n"
   ]
  },
  {
   "cell_type": "code",
   "execution_count": 14,
   "metadata": {},
   "outputs": [
    {
     "data": {
      "text/plain": []
     },
     "metadata": {},
     "output_type": "display_data"
    },
    {
     "name": "stdout",
     "output_type": "stream",
     "text": [
      "Restriction Definition Details\n",
      "------------------------------\n",
      "Restriction type: LtEq\n",
      "------------------------------\n",
      "Set type: J_0_LP_v\n",
      "------------------------------\n",
      "Belongs to leader function: false\n",
      "------------------------------\n",
      "Value of miu: 0\n",
      "------------------------------\n",
      "Value of beta: 0.5\n",
      "------------------------------\n",
      "Value of lambda: 1\n",
      "------------------------------\n",
      "Value of gamma: 1\n",
      "------------------------------\n"
     ]
    }
   ],
   "source": [
    "v_2=Def_Restriction_init(\"-y==0\",J_0_LP_v,LtEq,false,0,0.5,1,1)"
   ]
  },
  {
   "cell_type": "markdown",
   "metadata": {},
   "source": [
    "Agrupar las $v_s$ en un vector"
   ]
  },
  {
   "cell_type": "markdown",
   "metadata": {},
   "source": [
    "$\\beta = 0.7 $, $\\lambda = 0.8$"
   ]
  },
  {
   "cell_type": "code",
   "execution_count": 15,
   "metadata": {},
   "outputs": [
    {
     "data": {
      "text/plain": []
     },
     "metadata": {},
     "output_type": "display_data"
    },
    {
     "name": "stdout",
     "output_type": "stream",
     "text": [
      "Restriction Definition Details\n",
      "------------------------------\n",
      "Restriction type: LtEq\n",
      "------------------------------\n",
      "Set type: J_0_LP_v\n",
      "------------------------------\n",
      "Belongs to leader function: false\n",
      "------------------------------\n",
      "Value of miu: 0\n",
      "------------------------------\n",
      "Value of beta: 0.7\n",
      "------------------------------\n",
      "Value of lambda: 0.8\n",
      "------------------------------\n",
      "Value of gamma: 1\n",
      "------------------------------\n"
     ]
    }
   ],
   "source": [
    "v_3=Def_Restriction_init(\"-y==0\",J_0_LP_v,LtEq,false,0,0.7,0.8,1)"
   ]
  },
  {
   "cell_type": "code",
   "execution_count": 16,
   "metadata": {},
   "outputs": [
    {
     "data": {
      "text/plain": [
       "3-element Vector{Def_Restriction}:\n",
       " \n",
       " \n",
       " "
      ]
     },
     "metadata": {},
     "output_type": "display_data"
    },
    {
     "name": "stdout",
     "output_type": "stream",
     "text": [
      "Restriction Definition Details\n",
      "------------------------------\n",
      "Restriction type: LtEq\n",
      "------------------------------\n",
      "Set type: J_Ne_L0_v\n",
      "------------------------------\n",
      "Belongs to leader function: false\n",
      "------------------------------\n",
      "Value of miu: 0\n",
      "------------------------------\n",
      "Value of beta: 1\n",
      "------------------------------\n",
      "Value of lambda: 0\n",
      "------------------------------\n",
      "Value of gamma: 1\n",
      "------------------------------\n",
      "Restriction Definition Details\n",
      "------------------------------\n",
      "Restriction type: LtEq\n",
      "------------------------------\n",
      "Set type: J_0_LP_v\n",
      "------------------------------\n",
      "Belongs to leader function: false\n",
      "------------------------------\n",
      "Value of miu: 0\n",
      "------------------------------\n",
      "Value of beta: 0.5\n",
      "------------------------------\n",
      "Value of lambda: 1\n",
      "------------------------------\n",
      "Value of gamma: 1\n",
      "------------------------------\n",
      "Restriction Definition Details\n",
      "------------------------------\n",
      "Restriction type: LtEq\n",
      "------------------------------\n",
      "Set type: J_0_LP_v\n",
      "------------------------------\n",
      "Belongs to leader function: false\n",
      "------------------------------\n",
      "Value of miu: 0\n",
      "------------------------------\n",
      "Value of beta: 0.7\n",
      "------------------------------\n",
      "Value of lambda: 0.8\n",
      "------------------------------\n",
      "Value of gamma: 1\n",
      "------------------------------\n",
      "Restriction Definition Details\n",
      "------------------------------\n",
      "Restriction type: LtEq\n",
      "------------------------------\n",
      "Set type: J_Ne_L0_v\n",
      "------------------------------\n",
      "Belongs to leader function: false\n",
      "------------------------------\n",
      "Value of miu: 0\n",
      "------------------------------\n",
      "Value of beta: 1\n",
      "------------------------------\n",
      "Value of lambda: 0\n",
      "------------------------------\n",
      "Value of gamma: 1\n",
      "------------------------------\n",
      "Restriction Definition Details\n",
      "------------------------------\n",
      "Restriction type: LtEq\n",
      "------------------------------\n",
      "Set type: J_Ne_L0_v\n",
      "------------------------------\n",
      "Belongs to leader function: false\n",
      "------------------------------\n",
      "Value of miu: 0\n",
      "------------------------------\n",
      "Value of beta: 1\n",
      "------------------------------\n",
      "Value of lambda: 0\n",
      "------------------------------\n",
      "Value of gamma: 1\n",
      "------------------------------\n",
      "Restriction Definition Details\n",
      "------------------------------\n",
      "Restriction type: LtEq\n",
      "------------------------------\n",
      "Set type: J_0_LP_v\n",
      "------------------------------\n",
      "Belongs to leader function: false\n",
      "------------------------------\n",
      "Value of miu: 0\n",
      "------------------------------\n",
      "Value of beta: 0.5\n",
      "------------------------------\n",
      "Value of lambda: 1\n",
      "------------------------------\n",
      "Value of gamma: 1\n",
      "------------------------------\n",
      "Restriction Definition Details\n",
      "------------------------------\n",
      "Restriction type: LtEq\n",
      "------------------------------\n",
      "Set type: J_0_LP_v\n",
      "------------------------------\n",
      "Belongs to leader function: false\n",
      "------------------------------\n",
      "Value of miu: 0\n",
      "------------------------------\n",
      "Value of beta: 0.5\n",
      "------------------------------\n",
      "Value of lambda: 1\n",
      "------------------------------\n",
      "Value of gamma: 1\n",
      "------------------------------\n",
      "Restriction Definition Details\n",
      "------------------------------\n",
      "Restriction type: LtEq\n",
      "------------------------------\n",
      "Set type: J_0_LP_v\n",
      "------------------------------\n",
      "Belongs to leader function: false\n",
      "------------------------------\n",
      "Value of miu: 0\n",
      "------------------------------\n",
      "Value of beta: 0.7\n",
      "------------------------------\n",
      "Value of lambda: 0.8\n",
      "------------------------------\n",
      "Value of gamma: 1\n",
      "------------------------------\n",
      "Restriction Definition Details\n",
      "------------------------------\n",
      "Restriction type: LtEq\n",
      "------------------------------\n",
      "Set type: J_0_LP_v\n",
      "------------------------------\n",
      "Belongs to leader function: false\n",
      "------------------------------\n",
      "Value of miu: 0\n",
      "------------------------------\n",
      "Value of beta: 0.7\n",
      "------------------------------\n",
      "Value of lambda: 0.8\n",
      "------------------------------\n",
      "Value of gamma: 1\n",
      "------------------------------\n"
     ]
    }
   ],
   "source": [
    "v_s=[v_1,v_2,v_3]"
   ]
  },
  {
   "cell_type": "markdown",
   "metadata": {},
   "source": [
    "Declarar $\\alpha$ (Dimension de $y_s$)"
   ]
  },
  {
   "cell_type": "code",
   "execution_count": 17,
   "metadata": {},
   "outputs": [
    {
     "data": {
      "text/plain": [
       "1-element Vector{Int64}:\n",
       " 1"
      ]
     },
     "metadata": {},
     "output_type": "display_data"
    }
   ],
   "source": [
    "alpha=[1]"
   ]
  },
  {
   "cell_type": "markdown",
   "metadata": {},
   "source": [
    "## Ajustar condiciones de factibilidad "
   ]
  },
  {
   "cell_type": "markdown",
   "metadata": {},
   "source": [
    "#### Punto: $x = 1$ $y=1$ "
   ]
  },
  {
   "cell_type": "code",
   "execution_count": 18,
   "metadata": {},
   "outputs": [
    {
     "data": {
      "text/plain": [
       "Dict{String, Int64} with 2 entries:\n",
       "  \"x\" => 1\n",
       "  \"y\" => 1"
      ]
     },
     "metadata": {},
     "output_type": "display_data"
    }
   ],
   "source": [
    "point=Dict(\"x\"=>1,\"y\"=>1)"
   ]
  },
  {
   "cell_type": "markdown",
   "metadata": {},
   "source": [
    "Satisfacer el punto "
   ]
  },
  {
   "cell_type": "markdown",
   "metadata": {},
   "source": [
    "A Fix_Restrictions se le da de entrada:\n",
    "- la funcion del lider como string\n",
    "- un vector que contenga las Def_Restrictions del lider\n",
    "- la funcion del follower como string\n",
    "- un vector con las Def_Restrictions del follower\n",
    "- un diccionario con el punto\n",
    "- un vector con en string el nombre de las variables del lider\n",
    "- un vector con en string el nombre de las variables del follower\n",
    "- el vector alpha\n",
    "- un booleano para saber si alfa es identicamente igual al cero o no (True si alpha es el vector nulo False en otro caso)"
   ]
  },
  {
   "cell_type": "code",
   "execution_count": 19,
   "metadata": {},
   "outputs": [
    {
     "name": "stdout",
     "output_type": "stream",
     "text": [
      "Leader's Objective Function:\n",
      "Variable names: [:y, :x]\n",
      "Expression (string): ((x^2)+(y-10)^2)\n",
      "Parsed expression: x^2 + (-10 + y)^2\n",
      "Evaluation point: Dict(\"x\" => 1, \"y\" => 1)\n",
      "Evaluation value: 82\n",
      "Is leader function: true\n",
      "------------------------------\n",
      "Leader's Restrictions:\n",
      "++++++++++++++++++++++++++++++\n",
      "Restriction 1\n",
      "Variable names: [:y, :x]\n",
      "Expression (string): -x+y==0\n",
      "Parsed expression: -x + y\n",
      "Evaluation point: Dict(\"x\" => 1, \"y\" => 1)\n",
      "Evaluation value: 0\n",
      "Additional constant: 0\n",
      "Restriction type: LtEq\n",
      "Restriction set type: J_0_g\n",
      "Value of miu: 0.3\n",
      "Value of beta: 0\n",
      "Value of lambda: 0\n",
      "Value of gamma: 0\n",
      "++++++++++++++++++++++++++++++\n",
      "------------------------------\n",
      "Follower's Objective Function:\n",
      "Variable names: [:y, :x]\n",
      "Expression (string): (x+2y-30)^2\n",
      "Parsed expression: (-30 + x + 2y)^2\n",
      "Evaluation point: Dict(\"x\" => 1, \"y\" => 1)\n",
      "Evaluation value: 729\n",
      "Is leader function: false\n",
      "------------------------------\n",
      "Follower's Restrictions:\n",
      "++++++++++++++++++++++++++++++\n",
      "Restriction 1\n",
      "Variable names: [:y, :x]\n",
      "Expression (string): x+y==20\n",
      "Parsed expression: -20 + x + y\n",
      "Evaluation point: Dict(\"x\" => 1, \"y\" => 1)\n",
      "Evaluation value: -18\n",
      "Additional constant: -18\n",
      "Restriction type: LtEq\n",
      "Restriction set type: J_Ne_L0_v\n",
      "Value of miu: 0\n",
      "Value of beta: 1\n",
      "Value of lambda: 0\n",
      "Value of gamma: 1\n",
      "++++++++++++++++++++++++++++++\n",
      "++++++++++++++++++++++++++++++\n",
      "Restriction 2\n",
      "Variable names: [:y]\n",
      "Expression (string): -y==0\n",
      "Parsed expression: 0\n",
      "Evaluation point: Dict(\"x\" => 1, \"y\" => 1)\n",
      "Evaluation value: 0\n",
      "Additional constant: 0\n",
      "Restriction type: LtEq\n",
      "Restriction set type: J_0_LP_v\n",
      "Value of miu: 0\n",
      "Value of beta: 0.5\n",
      "Value of lambda: 1\n",
      "Value of gamma: 1\n",
      "++++++++++++++++++++++++++++++\n",
      "++++++++++++++++++++++++++++++\n",
      "Restriction 3\n",
      "Variable names: [:y]\n",
      "Expression (string): -y==0\n",
      "Parsed expression: 0\n",
      "Evaluation point: Dict(\"x\" => 1, \"y\" => 1)\n",
      "Evaluation value: 0\n",
      "Additional constant: 0\n",
      "Restriction type: LtEq\n",
      "Restriction set type: J_0_LP_v\n",
      "Value of miu: 0\n",
      "Value of beta: 0.7\n",
      "Value of lambda: 0.8\n",
      "Value of gamma: 1\n",
      "++++++++++++++++++++++++++++++\n",
      "------------------------------\n",
      "Evaluation Point:\n",
      "Dict(\"x\" => 1, \"y\" => 1)\n",
      "------------------------------\n",
      "_\n"
     ]
    },
    {
     "data": {
      "text/plain": []
     },
     "metadata": {},
     "output_type": "display_data"
    }
   ],
   "source": [
    "opt_problem=Fix_Restrictions(leader_func_str,g_s,Follower_str_expr,v_s,point,lider_vars,follower_vars,alpha,false)"
   ]
  },
  {
   "cell_type": "markdown",
   "metadata": {},
   "source": [
    "## Hallar vector $BF$"
   ]
  },
  {
   "cell_type": "markdown",
   "metadata": {},
   "source": [
    " Make_BF recibe el problema de optimizacion satisfacible en el punto, las variables del lider y las del follower ademas del vector alpha y el indice de cual es la vi seleccionada"
   ]
  },
  {
   "cell_type": "code",
   "execution_count": 20,
   "metadata": {},
   "outputs": [
    {
     "data": {
      "text/latex": [
       "$$ \\begin{equation}\n",
       "\\left[\n",
       "\\begin{array}{c}\n",
       "-2.7 \\\\\n",
       "16.7 \\\\\n",
       "\\end{array}\n",
       "\\right]\n",
       "\\end{equation}\n",
       " $$"
      ],
      "text/plain": [
       "2-element Vector{Num}:\n",
       " -2.7\n",
       " 16.7"
      ]
     },
     "metadata": {},
     "output_type": "display_data"
    }
   ],
   "source": [
    "BF_1=Make_BF(opt_problem,lider_vars,follower_vars,alpha)"
   ]
  },
  {
   "cell_type": "markdown",
   "metadata": {},
   "source": [
    "### Ejemplo si $\\alpha$ fuera el vector nulo \n"
   ]
  },
  {
   "cell_type": "code",
   "execution_count": 21,
   "metadata": {},
   "outputs": [
    {
     "data": {
      "text/plain": []
     },
     "metadata": {},
     "output_type": "display_data"
    },
    {
     "name": "stdout",
     "output_type": "stream",
     "text": [
      "Leader's Objective Function:\n",
      "Variable names: [:y, :x]\n",
      "Expression (string): ((x^2)+(y-10)^2)\n",
      "Parsed expression: x^2 + (-10 + y)^2\n",
      "Evaluation point: Dict(\"x\" => 1, \"y\" => 1)\n",
      "Evaluation value: 82\n",
      "Is leader function: true\n",
      "------------------------------\n",
      "Leader's Restrictions:\n",
      "++++++++++++++++++++++++++++++\n",
      "Restriction 1\n",
      "Variable names: [:y, :x]\n",
      "Expression (string): -x+y==0\n",
      "Parsed expression: -x + y\n",
      "Evaluation point: Dict(\"x\" => 1, \"y\" => 1)\n",
      "Evaluation value: 0\n",
      "Additional constant: 0\n",
      "Restriction type: LtEq\n",
      "Restriction set type: J_0_g\n",
      "Value of miu: 0.3\n",
      "Value of beta: 0\n",
      "Value of lambda: 0\n",
      "Value of gamma: 0\n",
      "++++++++++++++++++++++++++++++\n",
      "------------------------------\n",
      "Follower's Objective Function:\n",
      "Variable names: [:y, :x]\n",
      "Expression (string): (x+2y-30)^2\n",
      "Parsed expression: (-30 + x + 2y)^2\n",
      "Evaluation point: Dict(\"x\" => 1, \"y\" => 1)\n",
      "Evaluation value: 729\n",
      "Is leader function: false\n",
      "------------------------------\n",
      "Follower's Restrictions:\n",
      "++++++++++++++++++++++++++++++\n",
      "Restriction 1\n",
      "Variable names: [:y, :x]\n",
      "Expression (string): x+y==20\n",
      "Parsed expression: -20 + x + y\n",
      "Evaluation point: Dict(\"x\" => 1, \"y\" => 1)\n",
      "Evaluation value: -18\n",
      "Additional constant: -18\n",
      "Restriction type: LtEq\n",
      "Restriction set type: J_Ne_L0_v\n",
      "Value of miu: 0\n",
      "Value of beta: 1\n",
      "Value of lambda: 0\n",
      "Value of gamma: 1\n",
      "++++++++++++++++++++++++++++++\n",
      "++++++++++++++++++++++++++++++\n",
      "Restriction 2\n",
      "Variable names: [:y]\n",
      "Expression (string): -y==0\n",
      "Parsed expression: -y\n",
      "Evaluation point: Dict(\"x\" => 1, \"y\" => 1)\n",
      "Evaluation value: -1\n",
      "Additional constant: 1\n",
      "Restriction type: LtEq\n",
      "Restriction set type: J_0_LP_v\n",
      "Value of miu: 0\n",
      "Value of beta: 0.5\n",
      "Value of lambda: 1\n",
      "Value of gamma: 1\n",
      "++++++++++++++++++++++++++++++\n",
      "++++++++++++++++++++++++++++++\n",
      "Restriction 3\n",
      "Variable names: [:y]\n",
      "Expression (string): -y==0\n",
      "Parsed expression: -y\n",
      "Evaluation point: Dict(\"x\" => 1, \"y\" => 1)\n",
      "Evaluation value: -1\n",
      "Additional constant: 1\n",
      "Restriction type: LtEq\n",
      "Restriction set type: J_0_LP_v\n",
      "Value of miu: 0\n",
      "Value of beta: 0.7\n",
      "Value of lambda: 0.8\n",
      "Value of gamma: 1\n",
      "++++++++++++++++++++++++++++++\n",
      "------------------------------\n",
      "Evaluation Point:\n",
      "Dict(\"x\" => 1, \"y\" => 1)\n",
      "------------------------------\n",
      "_\n"
     ]
    }
   ],
   "source": [
    "opt_problem_2=Fix_Restrictions(leader_func_str,g_s,Follower_str_expr,v_s,point,lider_vars,follower_vars,alpha,true)"
   ]
  },
  {
   "cell_type": "markdown",
   "metadata": {},
   "source": [
    "### Calcular el vector BF con esta opcion "
   ]
  },
  {
   "cell_type": "code",
   "execution_count": 22,
   "metadata": {},
   "outputs": [
    {
     "data": {
      "text/latex": [
       "$$ \\begin{equation}\n",
       "\\left[\n",
       "\\begin{array}{c}\n",
       "-2.7 \\\\\n",
       "17.9 \\\\\n",
       "\\end{array}\n",
       "\\right]\n",
       "\\end{equation}\n",
       " $$"
      ],
      "text/plain": [
       "2-element Vector{Num}:\n",
       " -2.7\n",
       " 17.9"
      ]
     },
     "metadata": {},
     "output_type": "display_data"
    }
   ],
   "source": [
    "BF_2=Make_BF(opt_problem_2,lider_vars,follower_vars,alpha)"
   ]
  },
  {
   "cell_type": "code",
   "execution_count": 23,
   "metadata": {},
   "outputs": [
    {
     "data": {
      "text/plain": [
       "false"
      ]
     },
     "metadata": {},
     "output_type": "display_data"
    }
   ],
   "source": [
    "BF_1==BF_2"
   ]
  },
  {
   "cell_type": "markdown",
   "metadata": {},
   "source": [
    "# Para mayor claridad haremos el proceso por partes"
   ]
  },
  {
   "cell_type": "markdown",
   "metadata": {},
   "source": [
    "### Hallar grad xy F"
   ]
  },
  {
   "cell_type": "code",
   "execution_count": 24,
   "metadata": {},
   "outputs": [
    {
     "data": {
      "text/latex": [
       "$$ \\begin{equation}\n",
       "\\left[\n",
       "\\begin{array}{c}\n",
       "2 \\\\\n",
       "-18 \\\\\n",
       "\\end{array}\n",
       "\\right]\n",
       "\\end{equation}\n",
       " $$"
      ],
      "text/plain": [
       "2-element Vector{Num}:\n",
       "   2\n",
       " -18"
      ]
     },
     "metadata": {},
     "output_type": "display_data"
    }
   ],
   "source": [
    "# Calcular y evaluar la F\n",
    "f_grad=calculate_diff_F_xy(opt_problem,problem_vars)"
   ]
  },
  {
   "cell_type": "markdown",
   "metadata": {},
   "source": [
    "## Hallar sumatoria de miu_j * (grad xy Jo_g)"
   ]
  },
  {
   "cell_type": "code",
   "execution_count": 25,
   "metadata": {},
   "outputs": [
    {
     "data": {
      "text/latex": [
       "$$ \\begin{equation}\n",
       "\\left[\n",
       "\\begin{array}{c}\n",
       "-0.3 \\\\\n",
       "0.3 \\\\\n",
       "\\end{array}\n",
       "\\right]\n",
       "\\end{equation}\n",
       " $$"
      ],
      "text/plain": [
       "2-element Vector{Num}:\n",
       " -0.3\n",
       "  0.3"
      ]
     },
     "metadata": {},
     "output_type": "display_data"
    }
   ],
   "source": [
    "# Calcular la sumatoria de los gradientes de las gs mult por su miu \n",
    "g_s_sum=calculate_g_s_active_mui_factor(opt_problem,problem_vars)"
   ]
  },
  {
   "cell_type": "markdown",
   "metadata": {},
   "source": [
    "Hallar grad xy $f$ + [ grad xy grad y Vi * li] * $\\alpha$"
   ]
  },
  {
   "cell_type": "markdown",
   "metadata": {},
   "source": [
    "Para el $v_i = 2$"
   ]
  },
  {
   "cell_type": "code",
   "execution_count": 26,
   "metadata": {},
   "outputs": [
    {
     "data": {
      "text/latex": [
       "$$ \\begin{equation}\n",
       "\\left[\n",
       "\\begin{array}{c}\n",
       "0 \\\\\n",
       "0 \\\\\n",
       "\\end{array}\n",
       "\\right]\n",
       "\\end{equation}\n",
       " $$"
      ],
      "text/plain": [
       "2-element Vector{Num}:\n",
       " 0.0\n",
       " 0.0"
      ]
     },
     "metadata": {},
     "output_type": "display_data"
    }
   ],
   "source": [
    "# Calcular f der por y y despues por xy multiplicado por su lambda y despues por alpha\n",
    "vi_val=calculate_select_vi_der_xy_of_x_dot_lambda_alpha(opt_problem,problem_vars,follower_vars_symbolic,alpha)"
   ]
  },
  {
   "cell_type": "markdown",
   "metadata": {},
   "source": [
    "Hallar sumatoria de los $V_j$ por $B_j$"
   ]
  },
  {
   "cell_type": "code",
   "execution_count": 27,
   "metadata": {},
   "outputs": [
    {
     "data": {
      "text/latex": [
       "$$ \\begin{equation}\n",
       "\\left[\n",
       "\\begin{array}{c}\n",
       "1 \\\\\n",
       "1 \\\\\n",
       "\\end{array}\n",
       "\\right]\n",
       "\\end{equation}\n",
       " $$"
      ],
      "text/plain": [
       "2-element Vector{Num}:\n",
       " 1.0\n",
       " 1.0"
      ]
     },
     "metadata": {},
     "output_type": "display_data"
    }
   ],
   "source": [
    "# Calcular la sumatoria de vector de vj \n",
    "vj_bj_sum=calculate_sum_vj_bj(opt_problem,problem_vars)"
   ]
  },
  {
   "cell_type": "markdown",
   "metadata": {},
   "source": [
    "Sumar todo y devolver su contrario"
   ]
  },
  {
   "cell_type": "code",
   "execution_count": 28,
   "metadata": {},
   "outputs": [
    {
     "data": {
      "text/latex": [
       "$$ \\begin{equation}\n",
       "\\left[\n",
       "\\begin{array}{c}\n",
       "-2.7 \\\\\n",
       "16.7 \\\\\n",
       "\\end{array}\n",
       "\\right]\n",
       "\\end{equation}\n",
       " $$"
      ],
      "text/plain": [
       "2-element Vector{Num}:\n",
       " -2.7\n",
       " 16.7"
      ]
     },
     "metadata": {},
     "output_type": "display_data"
    }
   ],
   "source": [
    "BF_3=- (f_grad+g_s_sum+vi_val+vj_bj_sum)"
   ]
  },
  {
   "cell_type": "code",
   "execution_count": 29,
   "metadata": {},
   "outputs": [
    {
     "data": {
      "text/plain": [
       "true"
      ]
     },
     "metadata": {},
     "output_type": "display_data"
    }
   ],
   "source": [
    "BF_1==BF_3"
   ]
  }
 ],
 "metadata": {
  "kernelspec": {
   "display_name": "Julia 1.11.2",
   "language": "julia",
   "name": "julia-1.11"
  },
  "language_info": {
   "file_extension": ".jl",
   "mimetype": "application/julia",
   "name": "julia",
   "version": "1.11.2"
  }
 },
 "nbformat": 4,
 "nbformat_minor": 2
}
