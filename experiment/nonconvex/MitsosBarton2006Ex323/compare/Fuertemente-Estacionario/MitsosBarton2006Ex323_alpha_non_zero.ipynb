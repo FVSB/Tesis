{
 "cells": [
  {
   "cell_type": "markdown",
   "metadata": {},
   "source": [
    "## Importaciones necesarias"
   ]
  },
  {
   "cell_type": "code",
   "execution_count": 1,
   "metadata": {},
   "outputs": [],
   "source": [
    "using JuMP, Ipopt, Complementarity"
   ]
  },
  {
   "cell_type": "markdown",
   "metadata": {},
   "source": [
    "# Crear el modelo"
   ]
  },
  {
   "cell_type": "code",
   "execution_count": 2,
   "metadata": {},
   "outputs": [
    {
     "data": {
      "text/plain": [
       "A JuMP Model\n",
       "├ solver: Ipopt\n",
       "├ objective_sense: FEASIBILITY_SENSE\n",
       "├ num_variables: 0\n",
       "├ num_constraints: 0\n",
       "└ Names registered in the model: none"
      ]
     },
     "metadata": {},
     "output_type": "display_data"
    }
   ],
   "source": [
    "# Crear el modelo\n",
    "model = Model(Ipopt.Optimizer)"
   ]
  },
  {
   "cell_type": "markdown",
   "metadata": {},
   "source": [
    "## Definir Variables\n"
   ]
  },
  {
   "cell_type": "code",
   "execution_count": 3,
   "metadata": {},
   "outputs": [
    {
     "data": {
      "text/plain": [
       "3-element Vector{VariableRef}:\n",
       " l[1]\n",
       " l[2]\n",
       " l[3]"
      ]
     },
     "metadata": {},
     "output_type": "display_data"
    }
   ],
   "source": [
    "# Nivel superior\n",
    "@variable(model,x)\n",
    "# Nivel Inferior\n",
    "@variable(model,y)\n",
    "# Complementariedad\n",
    "@variable(model,l[1:3])"
   ]
  },
  {
   "cell_type": "markdown",
   "metadata": {},
   "source": [
    "## Definir Objetivo\n"
   ]
  },
  {
   "cell_type": "code",
   "execution_count": 4,
   "metadata": {},
   "outputs": [
    {
     "data": {
      "text/latex": [
       "$ x^2 $"
      ],
      "text/plain": [
       "x²"
      ]
     },
     "metadata": {},
     "output_type": "display_data"
    }
   ],
   "source": [
    "@objective(model,Min,x^2)"
   ]
  },
  {
   "cell_type": "markdown",
   "metadata": {},
   "source": [
    "## Definir Restricciones\n"
   ]
  },
  {
   "cell_type": "code",
   "execution_count": 5,
   "metadata": {},
   "outputs": [
    {
     "data": {
      "text/latex": [
       "$$ ((4.38 - 3.81 * y) + y ^ {2.0} * (x - 0.5)) - 0.0 \\leq 0 $$"
      ],
      "text/plain": [
       "((4.38 - 3.81 * y) + y ^ 2.0 * (x - 0.5)) - 0.0 <= 0"
      ]
     },
     "metadata": {},
     "output_type": "display_data"
    }
   ],
   "source": [
    "@NLconstraint(model,1+(-1.49l[1]+3.53l[2]+(l[3]*(2*y*(x-0.25))+3.81l[3]))==0) # Obj nivel inferior\n",
    "@NLconstraint(model,4.38-3.81y+((y^2)*(x-0.5))<=0 )#vs"
   ]
  },
  {
   "cell_type": "code",
   "execution_count": 6,
   "metadata": {},
   "outputs": [
    {
     "data": {
      "text/plain": [
       "(-x <= -1.19, x <= 1.19, -9 x² + x - y <= -15.45, -1.49 y <= -5.81, 3.53 y <= 14.65)"
      ]
     },
     "metadata": {},
     "output_type": "display_data"
    }
   ],
   "source": [
    "@constraints(model,begin\n",
    "1.19 - x<=0  #gs\n",
    "-1.19 + x<=0  #gs\n",
    "15.45+x-(9*(x^2))-y<=0 #gs\n",
    "5.81 - 1.49y<=0  #vs\n",
    "-14.65 + 3.53y<=0 #vs\n",
    "\n",
    "end)"
   ]
  },
  {
   "cell_type": "markdown",
   "metadata": {},
   "source": [
    "## Definir variables Complementarias"
   ]
  },
  {
   "cell_type": "code",
   "execution_count": 7,
   "metadata": {},
   "outputs": [
    {
     "data": {
      "text/latex": [
       "$$ (sqrt(l[3] ^ {2.0} + (-(((4.38 + -3.81 * y) + (y * y) * (-0.25 + x))) - 0.0) ^ {2.0} + 1.0e-8) - (l[3] + (-(((4.38 + -3.81 * y) + (y * y) * (-0.25 + x))) - 0.0))) - 0.0 = 0 $$"
      ],
      "text/plain": [
       "(sqrt(l[3] ^ 2.0 + (-(((4.38 + -3.81 * y) + (y * y) * (-0.25 + x))) - 0.0) ^ 2.0 + 1.0e-8) - (l[3] + (-(((4.38 + -3.81 * y) + (y * y) * (-0.25 + x))) - 0.0))) - 0.0 == 0"
      ]
     },
     "metadata": {},
     "output_type": "display_data"
    }
   ],
   "source": [
    "@complements(model,0<=-(5.81 - 1.49y),l[1]>=0)\n",
    "@complements(model,0<=-(-14.65 + 3.53y),l[2]>=0)\n",
    "@complements(model,0<=-(4.38-3.81y+((y^2)*(x-0.25))),l[3]>=0)"
   ]
  },
  {
   "cell_type": "markdown",
   "metadata": {},
   "source": [
    "## Optimizar"
   ]
  },
  {
   "cell_type": "code",
   "execution_count": 8,
   "metadata": {},
   "outputs": [
    {
     "name": "stdout",
     "output_type": "stream",
     "text": [
      "\n",
      "******************************************************************************\n",
      "This program contains Ipopt, a library for large-scale nonlinear optimization.\n",
      " Ipopt is released as open source code under the Eclipse Public License (EPL).\n",
      "         For more information visit https://github.com/coin-or/Ipopt\n",
      "******************************************************************************\n",
      "\n",
      "This is Ipopt version 3.14.16, running with linear solver MUMPS 5.7.3.\n",
      "\n",
      "Number of nonzeros in equality constraint Jacobian...:       12\n",
      "Number of nonzeros in inequality constraint Jacobian.:       16\n",
      "Number of nonzeros in Lagrangian Hessian.............:       26\n",
      "\n",
      "Total number of variables............................:        5\n",
      "                     variables with only lower bounds:        0\n",
      "                variables with lower and upper bounds:        0\n",
      "                     variables with only upper bounds:        0\n",
      "Total number of equality constraints.................:        4\n",
      "Total number of inequality constraints...............:       12\n",
      "        inequality constraints with only lower bounds:        6\n",
      "   inequality constraints with lower and upper bounds:        0\n",
      "        inequality constraints with only upper bounds:        6\n",
      "\n",
      "iter    objective    inf_pr   inf_du lg(mu)  ||d||  lg(rg) alpha_du alpha_pr  ls\n",
      "   0  0.0000000e+00 1.54e+01 2.50e-01  -1.0 0.00e+00    -  0.00e+00 0.00e+00   0\n",
      "   1  9.9271917e-08 1.54e+01 9.65e-01  -1.0 1.51e+01    -  1.05e-03 2.07e-03h  1\n",
      "   2  1.0085727e-07 1.54e+01 3.71e+02  -1.0 1.50e+01    -  5.10e-03 2.07e-05h  1\n",
      "   3r 1.0085727e-07 1.54e+01 9.99e+02   1.2 0.00e+00    -  0.00e+00 1.04e-07R  2\n",
      "   4r 5.4900890e-05 1.44e+01 9.97e+02   1.2 3.91e+03    -  5.47e-03 2.11e-03f  1\n",
      "   5r 5.9139572e-05 1.43e+01 9.82e+02   1.2 1.20e+01   2.0 6.06e-01 4.24e-02f  1\n",
      "   6r 4.9988700e-02 1.40e+01 8.99e+02   1.2 2.25e+00   2.4 4.42e-01 1.68e-01f  1\n",
      "   7r 2.2500219e-01 1.26e+01 1.16e+03   0.5 2.49e+00   2.9 4.87e-01 4.02e-01f  1\n",
      "   8  2.4170360e-01 1.25e+01 2.89e+00  -1.0 2.21e+01    -  2.82e-03 3.95e-03h  1\n",
      "   9  1.4100849e+00 5.85e+00 1.95e+03  -1.0 2.63e+01    -  6.57e-03 1.50e-01h  1\n",
      "iter    objective    inf_pr   inf_du lg(mu)  ||d||  lg(rg) alpha_du alpha_pr  ls\n",
      "  10  1.4143867e+00 5.82e+00 1.94e+03  -1.0 1.19e+01    -  1.48e-03 4.87e-03h  1\n",
      "  11  1.4188652e+00 5.77e+00 1.92e+03  -1.0 5.26e+00   2.0 4.27e-01 1.00e-02h  1\n",
      "  12  1.4196885e+00 5.76e+00 1.45e+04  -1.0 7.58e+00    -  1.00e+00 1.70e-03h  1\n",
      "  13  1.4264478e+00 5.67e+00 3.07e+05  -1.0 7.72e+00    -  6.41e-01 1.42e-02h  1\n",
      "  14  1.4265149e+00 5.67e+00 3.90e+08  -1.0 7.61e+00    -  1.00e+00 1.99e-04h  1\n",
      "  15r 1.4265149e+00 5.67e+00 1.00e+03   0.8 0.00e+00    -  0.00e+00 2.54e-07R  4\n",
      "  16r 1.4268775e+00 4.44e+00 1.00e+03   0.8 5.94e+03    -  1.19e-03 7.62e-04f  1\n",
      "  17  1.4219974e+00 4.40e+00 2.35e+02  -1.0 6.31e+00    -  3.51e-05 8.31e-03f  1\n",
      "  18  1.4219992e+00 4.40e+00 2.35e+02  -1.0 6.09e+00    -  8.02e-04 2.69e-04h  1\n",
      "  19  1.4220028e+00 4.40e+00 2.50e+04  -1.0 8.89e+00    -  8.72e-02 1.49e-05h  1\n",
      "iter    objective    inf_pr   inf_du lg(mu)  ||d||  lg(rg) alpha_du alpha_pr  ls\n",
      "  20r 1.4220028e+00 4.40e+00 1.00e+03   0.6 0.00e+00    -  0.00e+00 2.10e-07R  2\n",
      "  21r 1.3947409e+00 2.90e+00 9.99e+02   0.6 1.91e+03    -  3.38e-04 1.63e-03f  1\n",
      "  22r 1.3947409e+00 2.90e+00 9.99e+02   0.5 0.00e+00    -  0.00e+00 4.40e-07R  4\n",
      "  23r 1.3137934e+00 2.97e+00 9.96e+02   0.5 2.80e+02    -  4.44e-04 3.39e-03f  1\n",
      "  24r 1.2527730e+00 2.67e+00 9.94e+02   0.5 3.73e+02    -  2.53e-03 1.19e-03f  1\n",
      "  25r 9.3143908e-01 4.33e+00 9.93e+02   0.5 1.68e+03    -  1.16e-03 1.55e-03f  1\n",
      "  26r 8.6347589e-01 4.78e+00 9.92e+02   0.5 1.45e+02    -  2.42e-02 3.92e-03f  1\n",
      "  27r 8.6558212e-01 4.76e+00 9.80e+02   0.5 5.45e+00    -  6.29e-03 1.27e-02f  1\n",
      "  28r 8.6919774e-01 4.73e+00 9.43e+02   0.5 1.86e+01    -  4.53e-02 3.74e-02f  1\n",
      "  29r 8.8133775e-01 4.62e+00 8.42e+02   0.5 1.26e+00    -  1.87e-01 1.06e-01f  1\n",
      "iter    objective    inf_pr   inf_du lg(mu)  ||d||  lg(rg) alpha_du alpha_pr  ls\n",
      "  30r 8.8615038e-01 4.55e+00 6.26e+02   0.5 7.90e-01    -  8.03e-01 4.07e-01f  1\n",
      "  31r 8.7913385e-01 4.57e+00 4.95e+02   0.5 1.08e+00    -  1.91e-01 2.31e-01f  1\n",
      "  32r 8.8335044e-01 4.55e+00 1.29e+02   0.5 3.39e-01    -  1.00e+00 6.75e-01f  1\n",
      "  33r 8.8136558e-01 4.56e+00 5.13e+01  -0.2 5.98e-01    -  1.00e+00 7.65e-01f  1\n",
      "  34r 8.8181783e-01 4.55e+00 4.00e+00  -0.2 1.02e-02    -  1.00e+00 1.00e+00f  1\n",
      "  35r 8.8176300e-01 4.55e+00 2.15e+00  -1.6 5.65e-01    -  1.00e+00 1.00e+00f  1\n",
      "  36r 8.8176623e-01 4.55e+00 5.54e-02  -1.6 2.57e-02    -  1.00e+00 1.00e+00f  1\n",
      "  37r 8.8176540e-01 4.55e+00 6.61e-01  -3.7 2.66e-01    -  1.00e+00 1.00e+00f  1\n",
      "  38r 8.8176539e-01 4.55e+00 2.56e-05  -3.7 1.78e-02    -  1.00e+00 1.00e+00h  1\n",
      "  39r 8.8176539e-01 4.55e+00 4.21e+00  -5.5 9.32e-02    -  1.00e+00 9.03e-01f  1\n",
      "iter    objective    inf_pr   inf_du lg(mu)  ||d||  lg(rg) alpha_du alpha_pr  ls\n",
      "  40r 8.8176540e-01 4.55e+00 2.61e+01  -5.5 6.40e-02    -  8.01e-01 8.68e-01f  1\n",
      "  41r 8.8176540e-01 4.55e+00 3.56e-05  -5.5 4.04e-02    -  1.00e+00 1.00e+00f  1\n",
      "  42r 8.8176540e-01 4.55e+00 2.96e+00  -8.3 1.54e-03    -  7.61e-01 7.75e-01f  1\n",
      "  43r 8.8176540e-01 4.55e+00 2.36e+01  -8.3 1.52e-01    -  6.88e-01 9.42e-01f  1\n",
      "  44r 8.8176540e-01 4.55e+00 2.28e+00  -8.3 1.77e-01    -  8.91e-01 1.00e+00f  1\n",
      "  45r 8.8176540e-01 4.55e+00 4.66e-05  -8.3 1.27e-01    -  1.00e+00 1.00e+00h  1\n",
      "  46r 8.8176540e-01 4.55e+00 1.99e-06  -8.3 3.18e-02    -  1.00e+00 1.00e+00h  1\n",
      "\n",
      "Number of Iterations....: 46\n",
      "\n",
      "                                   (scaled)                 (unscaled)\n",
      "Objective...............:   8.8176540315811835e-01    8.8176540315811835e-01\n",
      "Dual infeasibility......:   1.8780599573000545e+00    1.8780599573000545e+00\n",
      "Constraint violation....:   4.5538059993142426e+00    4.5538059993142426e+00\n",
      "Variable bound violation:   0.0000000000000000e+00    0.0000000000000000e+00\n",
      "Complementarity.........:   5.3312911794783307e-09    5.3312911794783307e-09\n",
      "Overall NLP error.......:   4.5538059993142426e+00    4.5538059993142426e+00\n",
      "\n",
      "\n",
      "Number of objective function evaluations             = 60\n",
      "Number of objective gradient evaluations             = 21\n",
      "Number of equality constraint evaluations            = 60\n",
      "Number of inequality constraint evaluations          = 60\n",
      "Number of equality constraint Jacobian evaluations   = 52\n",
      "Number of inequality constraint Jacobian evaluations = 52\n",
      "Number of Lagrangian Hessian evaluations             = 47\n",
      "Total seconds in IPOPT                               = 2.573\n",
      "\n",
      "EXIT: Converged to a point of local infeasibility. Problem may be infeasible.\n"
     ]
    }
   ],
   "source": [
    "# Resolver el modelo\n",
    "optimize!(model)"
   ]
  },
  {
   "cell_type": "markdown",
   "metadata": {},
   "source": [
    "# Mostrar resultados"
   ]
  },
  {
   "cell_type": "code",
   "execution_count": 9,
   "metadata": {},
   "outputs": [
    {
     "name": "stdout",
     "output_type": "stream",
     "text": [
      "Estado de la solución: LOCALLY_INFEASIBLE\n",
      "Valor óptimo de x: 0.9390236435564966\n",
      "Valor óptimo de y1: 3.899328861319187\n",
      "Valores óptimos de l: [1.4825449762493217, 5.647365803457169e-9, 0.13164886140368637]\n"
     ]
    }
   ],
   "source": [
    "# Mostrar resultados\n",
    "println(\"Estado de la solución: \", termination_status(model))\n",
    "println(\"Valor óptimo de x: \", value(x))\n",
    "println(\"Valor óptimo de y1: \", value(y))\n",
    "#println(\"Valor óptimo de y2: \", value(y2))\n",
    "#println(\"Valores óptimos de s: \", value.(s))\n",
    "println(\"Valores óptimos de l: \", value.(l))"
   ]
  },
  {
   "cell_type": "code",
   "execution_count": 10,
   "metadata": {},
   "outputs": [
    {
     "data": {
      "text/plain": [
       "0.8817654031581184"
      ]
     },
     "metadata": {},
     "output_type": "display_data"
    }
   ],
   "source": [
    "objective_value(model)"
   ]
  }
 ],
 "metadata": {
  "kernelspec": {
   "display_name": "Julia 1.10.5",
   "language": "julia",
   "name": "julia-1.10"
  },
  "language_info": {
   "file_extension": ".jl",
   "mimetype": "application/julia",
   "name": "julia",
   "version": "1.10.5"
  }
 },
 "nbformat": 4,
 "nbformat_minor": 2
}
