{
 "cells": [
  {
   "cell_type": "markdown",
   "metadata": {},
   "source": [
    "# Importar el modulo"
   ]
  },
  {
   "cell_type": "code",
   "execution_count": 1,
   "metadata": {},
   "outputs": [
    {
     "data": {
      "text/plain": [
       "Main.ProblemFunction"
      ]
     },
     "metadata": {},
     "output_type": "display_data"
    }
   ],
   "source": [
    "include(\"function.jl\")"
   ]
  },
  {
   "cell_type": "code",
   "execution_count": 2,
   "metadata": {},
   "outputs": [],
   "source": [
    "using .ProblemFunction"
   ]
  },
  {
   "cell_type": "markdown",
   "metadata": {},
   "source": [
    "Definir la funcion del lider"
   ]
  },
  {
   "cell_type": "code",
   "execution_count": 3,
   "metadata": {},
   "outputs": [
    {
     "data": {
      "text/plain": [
       "\"x_1+y_2+9\""
      ]
     },
     "metadata": {},
     "output_type": "display_data"
    }
   ],
   "source": [
    "leader_func_str::String=\"x_1+y_2+9\""
   ]
  },
  {
   "cell_type": "markdown",
   "metadata": {},
   "source": [
    "Definir restricciones del lider G"
   ]
  },
  {
   "cell_type": "markdown",
   "metadata": {},
   "source": [
    " Def_Restriction_init(restriction_expr_str::String,restriction_set_type::RestrictionSetType,\n",
    "    restriction_type::RestrictionType,\n",
    "    is_leader::Bool)"
   ]
  },
  {
   "cell_type": "code",
   "execution_count": 4,
   "metadata": {},
   "outputs": [
    {
     "data": {
      "text/plain": [
       "Def_Restriction(\"x_1+y_2==9\", J_0_g, Eq, true)"
      ]
     },
     "metadata": {},
     "output_type": "display_data"
    }
   ],
   "source": [
    "g_1=Def_Restriction_init(\"x_1+y_2==9\",J_0_g,Eq,true)"
   ]
  },
  {
   "cell_type": "code",
   "execution_count": 5,
   "metadata": {},
   "outputs": [
    {
     "data": {
      "text/plain": [
       "1-element Vector{Def_Restriction}:\n",
       " Def_Restriction(\"x_1+y_2==9\", J_0_g, Eq, true)"
      ]
     },
     "metadata": {},
     "output_type": "display_data"
    }
   ],
   "source": [
    "g_s=[g_1]"
   ]
  },
  {
   "cell_type": "markdown",
   "metadata": {},
   "source": [
    "definir funcion del follower"
   ]
  },
  {
   "cell_type": "code",
   "execution_count": 6,
   "metadata": {},
   "outputs": [
    {
     "data": {
      "text/plain": [
       "\"x_1-y_2\""
      ]
     },
     "metadata": {},
     "output_type": "display_data"
    }
   ],
   "source": [
    "Follower_str_expr=\"x_1-y_2\""
   ]
  },
  {
   "cell_type": "markdown",
   "metadata": {},
   "source": [
    "Follower restrictions"
   ]
  },
  {
   "cell_type": "code",
   "execution_count": 7,
   "metadata": {},
   "outputs": [
    {
     "data": {
      "text/plain": [
       "Def_Restriction(\"x_1+y_2==0\", J_Ne_L0_v, Lt, false)"
      ]
     },
     "metadata": {},
     "output_type": "display_data"
    }
   ],
   "source": [
    "v_1=Def_Restriction_init(\"x_1+y_2==0\",J_Ne_L0_v,Lt,false)"
   ]
  },
  {
   "cell_type": "code",
   "execution_count": 8,
   "metadata": {},
   "outputs": [
    {
     "data": {
      "text/plain": [
       "1-element Vector{Def_Restriction}:\n",
       " Def_Restriction(\"x_1+y_2==0\", J_Ne_L0_v, Lt, false)"
      ]
     },
     "metadata": {},
     "output_type": "display_data"
    }
   ],
   "source": [
    "v_s=[v_1]"
   ]
  },
  {
   "cell_type": "markdown",
   "metadata": {},
   "source": [
    "Fix_Restrictions(Leader_str_expr::String,leader_def_restrictions::Vector{Def_Restriction},Follower_str_expr::String,follower_def_restrictions::Vector{Def_Restriction},point::Dict)"
   ]
  },
  {
   "cell_type": "code",
   "execution_count": 9,
   "metadata": {},
   "outputs": [
    {
     "name": "stdout",
     "output_type": "stream",
     "text": [
      "Mostrar la funcion objetivo del lider\n",
      "Nombre de variables: [:x_1, :y_2] \n",
      "Expresion en str: x_1+y_2+9\n",
      "Expresion parseada 9 + x_1 + y_2\n",
      "Punto a evaluar Dict(\"x_1\" => 3, \"y_2\" => 2)\n",
      "Valor de evaluacion 14\n",
      "Es funcion lider true\n",
      "------------------------------\n",
      "Mostrar las restricciones del lider\n",
      "++++++++++++++++++++++++++++++\n",
      "Restriccion 1\n",
      "Nombre de variables: [:x_1, :y_2] \n",
      "Expresion en str: x_1+y_2==9\n",
      "Expresion parseada -9 + x_1 + y_2\n",
      "Punto a evaluar Dict(\"x_1\" => 3, \"y_2\" => 2)\n",
      "Valor de evaluacion -4\n",
      "Valor constante añadida 4\n",
      "Tipo de restriccion Eq\n",
      "Cjt ind que pertenece J_0_g\n",
      "++++++++++++++++++++++++++++++\n",
      "------------------------------\n",
      "Mostrar funcion del follower\n",
      "Nombre de variables: [:x_1, :y_2] \n",
      "Expresion en str: x_1-y_2\n",
      "Expresion parseada x_1 - y_2\n",
      "Punto a evaluar Dict(\"x_1\" => 3, \"y_2\" => 2)\n",
      "Valor de evaluacion 1\n",
      "Es funcion lider false\n",
      "------------------------------\n",
      "Mostrar las restricciones del follower\n",
      "++++++++++++++++++++++++++++++\n",
      "Restriccion 1\n",
      "Nombre de variables: [:x_1, :y_2] \n",
      "Expresion en str: x_1+y_2==0\n",
      "Expresion parseada x_1 + y_2\n",
      "Punto a evaluar Dict(\"x_1\" => 3, \"y_2\" => 2)\n",
      "Valor de evaluacion 5\n",
      "Valor constante añadida -5.863460510826021\n",
      "Tipo de restriccion Lt\n",
      "Cjt ind que pertenece J_Ne_L0_v\n",
      "++++++++++++++++++++++++++++++\n",
      "------------------------------\n",
      "_\n"
     ]
    },
    {
     "data": {
      "text/plain": []
     },
     "metadata": {},
     "output_type": "display_data"
    }
   ],
   "source": [
    "opt_problem=Fix_Restrictions(leader_func_str,g_s,Follower_str_expr,v_s,Dict(\"x_1\"=>3,\"y_2\"=>2))"
   ]
  }
 ],
 "metadata": {
  "kernelspec": {
   "display_name": "Julia 1.10.4",
   "language": "julia",
   "name": "julia-1.10"
  },
  "language_info": {
   "file_extension": ".jl",
   "mimetype": "application/julia",
   "name": "julia",
   "version": "1.10.4"
  }
 },
 "nbformat": 4,
 "nbformat_minor": 2
}
