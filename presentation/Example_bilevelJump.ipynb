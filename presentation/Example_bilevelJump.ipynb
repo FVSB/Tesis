{
 "cells": [
  {
   "cell_type": "markdown",
   "metadata": {},
   "source": [
    "# Importar las depencias necesarias"
   ]
  },
  {
   "cell_type": "code",
   "execution_count": 1,
   "metadata": {},
   "outputs": [],
   "source": [
    "include(\"../experiment/experiment.jl\")"
   ]
  },
  {
   "cell_type": "code",
   "execution_count": 2,
   "metadata": {},
   "outputs": [],
   "source": [
    "using BilevelJuMP"
   ]
  },
  {
   "cell_type": "code",
   "execution_count": 3,
   "metadata": {},
   "outputs": [
    {
     "data": {
      "text/plain": [
       "An Abstract JuMP Model\n",
       "Feasibility problem with:\n",
       "Variables: 0\n",
       "Upper Constraints: 0\n",
       "Lower Constraints: 0\n",
       "Bilevel Model\n",
       "Solution method: BilevelJuMP.NoMode{Float64}\n",
       "No solver attached"
      ]
     },
     "metadata": {},
     "output_type": "display_data"
    }
   ],
   "source": [
    "model=BilevelModel()"
   ]
  },
  {
   "cell_type": "markdown",
   "metadata": {},
   "source": [
    "## Definir variables"
   ]
  },
  {
   "cell_type": "code",
   "execution_count": 4,
   "metadata": {},
   "outputs": [
    {
     "data": {
      "text/plain": [
       "2-element Vector{BilevelVariableRef}:\n",
       " y[1]\n",
       " y[2]"
      ]
     },
     "metadata": {},
     "output_type": "display_data"
    }
   ],
   "source": [
    "BilevelJuMP.@variable(Upper(model),x[1:2])\n",
    "BilevelJuMP.@variable(Lower(model),y[1:2])"
   ]
  },
  {
   "cell_type": "markdown",
   "metadata": {},
   "source": [
    "## Definir nivel superior"
   ]
  },
  {
   "cell_type": "code",
   "execution_count": 5,
   "metadata": {},
   "outputs": [
    {
     "data": {
      "text/latex": [
       "$ x_{1}^2 + y_{1}^2 + y_{2}^2 + x_{2} $"
      ],
      "text/plain": [
       "x[1]² + y[1]² + y[2]² + x[2]"
      ]
     },
     "metadata": {},
     "output_type": "display_data"
    }
   ],
   "source": [
    "BilevelJuMP.@objective(Upper(model),Min,((x[1])^2)+((y[1])^2)+((y[2])^2)+x[2])"
   ]
  },
  {
   "cell_type": "markdown",
   "metadata": {},
   "source": [
    "### Definir restricciones\n"
   ]
  },
  {
   "cell_type": "code",
   "execution_count": 6,
   "metadata": {},
   "outputs": [
    {
     "data": {
      "text/plain": [
       "(x[1] - y[1] + y[2] = 9,)"
      ]
     },
     "metadata": {},
     "output_type": "display_data"
    }
   ],
   "source": [
    "BilevelJuMP.@constraints(Upper(model),begin\n",
    "x[1]+y[2]-y[1]==9\n",
    "end)"
   ]
  },
  {
   "cell_type": "markdown",
   "metadata": {},
   "source": [
    "## Definir Nivel inferior"
   ]
  },
  {
   "cell_type": "code",
   "execution_count": 7,
   "metadata": {},
   "outputs": [
    {
     "data": {
      "text/latex": [
       "$ x_{2}^2 + y_{1}^2 + y_{2}^2 + x_{1} $"
      ],
      "text/plain": [
       "x[2]² + y[1]² + y[2]² + x[1]"
      ]
     },
     "metadata": {},
     "output_type": "display_data"
    }
   ],
   "source": [
    "BilevelJuMP.@objective(Lower(model),Min,((x[2])^2)+((y[1])^2)+((y[2])^2)+x[1])"
   ]
  },
  {
   "cell_type": "markdown",
   "metadata": {},
   "source": [
    "### Definir restricciones"
   ]
  },
  {
   "cell_type": "code",
   "execution_count": 8,
   "metadata": {},
   "outputs": [
    {
     "data": {
      "text/plain": [
       "(x[1]² + y[1]² + x[2] = 0, x[1]² + y[1]² + x[2] + y[2] ≤ 0)"
      ]
     },
     "metadata": {},
     "output_type": "display_data"
    }
   ],
   "source": [
    "BilevelJuMP.@constraints(Lower(model),begin\n",
    "((x[1]^2)+(y[1]^2))+x[2]==0\n",
    "((x[1]^2)+(y[1]^2)+y[2])+x[2]<=0\n",
    "end)"
   ]
  },
  {
   "cell_type": "markdown",
   "metadata": {},
   "source": [
    "## Run"
   ]
  },
  {
   "cell_type": "code",
   "execution_count": 9,
   "metadata": {},
   "outputs": [
    {
     "name": "stdout",
     "output_type": "stream",
     "text": [
      "Resolviendo el problema con HiGHS\n",
      "Ocurrió un error: ErrorException(\"Constraints of the Function MathOptInterface.ScalarQuadraticFunction{Float64} in the set MathOptInterface.EqualTo{Float64} are not yet implemented.\")\n",
      "Resolviendo el problema con SOS1\n",
      "Ocurrió un error: ErrorException(\"Constraints of the Function MathOptInterface.ScalarQuadraticFunction{Float64} in the set MathOptInterface.EqualTo{Float64} are not yet implemented.\")\n",
      "Resolviendo el problema con Product Mode\n",
      "Ocurrió un error: ErrorException(\"Constraints of the Function MathOptInterface.ScalarQuadraticFunction{Float64} in the set MathOptInterface.EqualTo{Float64} are not yet implemented.\")\n"
     ]
    }
   ],
   "source": [
    "start_experiment(model,x,y,\"Example\")"
   ]
  },
  {
   "cell_type": "markdown",
   "metadata": {},
   "source": [
    "Valor óptimo del Líder"
   ]
  },
  {
   "cell_type": "code",
   "execution_count": 10,
   "metadata": {},
   "outputs": [
    {
     "ename": "MathOptInterface.ResultIndexBoundsError{MathOptInterface.ObjectiveValue}",
     "evalue": "Result index of attribute MathOptInterface.ObjectiveValue(1) out of bounds. There are currently 0 solution(s) in the model.",
     "output_type": "error",
     "traceback": [
      "Result index of attribute MathOptInterface.ObjectiveValue(1) out of bounds. There are currently 0 solution(s) in the model.\n",
      "\n",
      "Stacktrace:\n",
      " [1] check_result_index_bounds\n",
      "   @ ~/.julia/packages/MathOptInterface/gLl4d/src/attributes.jl:207 [inlined]\n",
      " [2] get\n",
      "   @ ~/.julia/packages/Ipopt/P3B1q/src/MOI_wrapper.jl:1245 [inlined]\n",
      " [3] get(b::MathOptInterface.Bridges.LazyBridgeOptimizer{Ipopt.Optimizer}, attr::MathOptInterface.ObjectiveValue)\n",
      "   @ MathOptInterface.Bridges ~/.julia/packages/MathOptInterface/gLl4d/src/Bridges/bridge_optimizer.jl:1098\n",
      " [4] objective_value(model::BilevelModel)\n",
      "   @ BilevelJuMP ~/.julia/packages/BilevelJuMP/0Me8v/src/jump_objective.jl:97\n",
      " [5] top-level scope\n",
      "   @ /workspaces/Tesis/presentation/jl_notebook_cell_df34fa98e69747e1a8f8a730347b8e2f_X23sdnNjb2RlLXJlbW90ZQ==.jl:1"
     ]
    }
   ],
   "source": [
    "BilevelJuMP.objective_value(model)"
   ]
  },
  {
   "cell_type": "markdown",
   "metadata": {},
   "source": [
    "Valor de las $x_s$"
   ]
  },
  {
   "cell_type": "code",
   "execution_count": 11,
   "metadata": {},
   "outputs": [
    {
     "ename": "MethodError",
     "evalue": "MethodError: no method matching getindex(::Nothing, ::MathOptInterface.VariableIndex)\nThe function `getindex` exists, but no method is defined for this combination of argument types.",
     "output_type": "error",
     "traceback": [
      "MethodError: no method matching getindex(::Nothing, ::MathOptInterface.VariableIndex)\n",
      "The function `getindex` exists, but no method is defined for this combination of argument types.\n",
      "\n",
      "Stacktrace:\n",
      "  [1] solver_ref(v::BilevelVariableRef)\n",
      "    @ BilevelJuMP ~/.julia/packages/BilevelJuMP/0Me8v/src/jump_variables.jl:47\n",
      "  [2] value(v::BilevelVariableRef; result::Int64)\n",
      "    @ BilevelJuMP ~/.julia/packages/BilevelJuMP/0Me8v/src/jump_variables.jl:311\n",
      "  [3] value\n",
      "    @ ~/.julia/packages/BilevelJuMP/0Me8v/src/jump_variables.jl:308 [inlined]\n",
      "  [4] _broadcast_getindex_evalf\n",
      "    @ ./broadcast.jl:673 [inlined]\n",
      "  [5] _broadcast_getindex\n",
      "    @ ./broadcast.jl:646 [inlined]\n",
      "  [6] getindex\n",
      "    @ ./broadcast.jl:605 [inlined]\n",
      "  [7] macro expansion\n",
      "    @ ./broadcast.jl:968 [inlined]\n",
      "  [8] macro expansion\n",
      "    @ ./simdloop.jl:77 [inlined]\n",
      "  [9] copyto!\n",
      "    @ ./broadcast.jl:967 [inlined]\n",
      " [10] copyto!\n",
      "    @ ./broadcast.jl:920 [inlined]\n",
      " [11] copy\n",
      "    @ ./broadcast.jl:892 [inlined]\n",
      " [12] materialize(bc::Base.Broadcast.Broadcasted{Base.Broadcast.DefaultArrayStyle{1}, Nothing, typeof(value), Tuple{Vector{BilevelVariableRef}}})\n",
      "    @ Base.Broadcast ./broadcast.jl:867\n",
      " [13] top-level scope\n",
      "    @ /workspaces/Tesis/presentation/jl_notebook_cell_df34fa98e69747e1a8f8a730347b8e2f_X25sdnNjb2RlLXJlbW90ZQ==.jl:1"
     ]
    }
   ],
   "source": [
    "BilevelJuMP.value.(x)"
   ]
  },
  {
   "cell_type": "markdown",
   "metadata": {},
   "source": [
    "Valor de las $y_s$"
   ]
  },
  {
   "cell_type": "code",
   "execution_count": 12,
   "metadata": {},
   "outputs": [
    {
     "ename": "MethodError",
     "evalue": "MethodError: no method matching getindex(::Nothing, ::MathOptInterface.VariableIndex)\nThe function `getindex` exists, but no method is defined for this combination of argument types.",
     "output_type": "error",
     "traceback": [
      "MethodError: no method matching getindex(::Nothing, ::MathOptInterface.VariableIndex)\n",
      "The function `getindex` exists, but no method is defined for this combination of argument types.\n",
      "\n",
      "Stacktrace:\n",
      "  [1] solver_ref(v::BilevelVariableRef)\n",
      "    @ BilevelJuMP ~/.julia/packages/BilevelJuMP/0Me8v/src/jump_variables.jl:47\n",
      "  [2] value(v::BilevelVariableRef; result::Int64)\n",
      "    @ BilevelJuMP ~/.julia/packages/BilevelJuMP/0Me8v/src/jump_variables.jl:311\n",
      "  [3] value\n",
      "    @ ~/.julia/packages/BilevelJuMP/0Me8v/src/jump_variables.jl:308 [inlined]\n",
      "  [4] _broadcast_getindex_evalf\n",
      "    @ ./broadcast.jl:673 [inlined]\n",
      "  [5] _broadcast_getindex\n",
      "    @ ./broadcast.jl:646 [inlined]\n",
      "  [6] getindex\n",
      "    @ ./broadcast.jl:605 [inlined]\n",
      "  [7] macro expansion\n",
      "    @ ./broadcast.jl:968 [inlined]\n",
      "  [8] macro expansion\n",
      "    @ ./simdloop.jl:77 [inlined]\n",
      "  [9] copyto!\n",
      "    @ ./broadcast.jl:967 [inlined]\n",
      " [10] copyto!\n",
      "    @ ./broadcast.jl:920 [inlined]\n",
      " [11] copy\n",
      "    @ ./broadcast.jl:892 [inlined]\n",
      " [12] materialize(bc::Base.Broadcast.Broadcasted{Base.Broadcast.DefaultArrayStyle{1}, Nothing, typeof(value), Tuple{Vector{BilevelVariableRef}}})\n",
      "    @ Base.Broadcast ./broadcast.jl:867\n",
      " [13] top-level scope\n",
      "    @ /workspaces/Tesis/presentation/jl_notebook_cell_df34fa98e69747e1a8f8a730347b8e2f_X30sdnNjb2RlLXJlbW90ZQ==.jl:1"
     ]
    }
   ],
   "source": [
    "BilevelJuMP.value.(y)"
   ]
  }
 ],
 "metadata": {
  "kernelspec": {
   "display_name": "Julia 1.11.2",
   "language": "julia",
   "name": "julia-1.11"
  },
  "language_info": {
   "file_extension": ".jl",
   "mimetype": "application/julia",
   "name": "julia",
   "version": "1.11.2"
  }
 },
 "nbformat": 4,
 "nbformat_minor": 2
}
