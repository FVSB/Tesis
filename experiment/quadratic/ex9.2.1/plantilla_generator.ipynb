{
 "cells": [
  {
   "cell_type": "markdown",
   "metadata": {},
   "source": [
    "## Importar el módulo\n"
   ]
  },
  {
   "cell_type": "code",
   "execution_count": 1,
   "metadata": {},
   "outputs": [
    {
     "data": {
      "text/plain": [
       "RunExperiment (generic function with 1 method)"
      ]
     },
     "metadata": {},
     "output_type": "display_data"
    }
   ],
   "source": [
    "include(\"../../new_experiment.jl\")"
   ]
  },
  {
   "cell_type": "markdown",
   "metadata": {},
   "source": [
    "Crear un experimento\n"
   ]
  },
  {
   "cell_type": "code",
   "execution_count": 2,
   "metadata": {},
   "outputs": [
    {
     "data": {
      "text/plain": [
       "Experiment(OptimizationModel(Problem(Any[], nothing), LeaderRestrictionProblem[], Problem(Any[], nothing), FollowerRestrictionProblem[], Dict{Any, Any}(), Number[1], false), OptimizationModel(Problem(Any[], nothing), LeaderRestrictionProblem[], Problem(Any[], nothing), FollowerRestrictionProblem[], Dict{Any, Any}(), Number[], true), Any[], Any[])"
      ]
     },
     "metadata": {},
     "output_type": "display_data"
    }
   ],
   "source": [
    "experiment=CreateExperiment()"
   ]
  },
  {
   "cell_type": "markdown",
   "metadata": {},
   "source": [
    "### Declarar variables del líder\n"
   ]
  },
  {
   "cell_type": "code",
   "execution_count": 3,
   "metadata": {},
   "outputs": [
    {
     "data": {
      "text/latex": [
       "$$ \\begin{equation}\n",
       "\\left[\n",
       "\\begin{array}{c}\n",
       "x \\\\\n",
       "\\end{array}\n",
       "\\right]\n",
       "\\end{equation}\n",
       " $$"
      ],
      "text/plain": [
       "1-element Vector{Num}:\n",
       " x"
      ]
     },
     "metadata": {},
     "output_type": "display_data"
    }
   ],
   "source": [
    "@leader_vars experiment x"
   ]
  },
  {
   "cell_type": "markdown",
   "metadata": {},
   "source": [
    "### Declarar Variables del Follower"
   ]
  },
  {
   "cell_type": "code",
   "execution_count": 4,
   "metadata": {},
   "outputs": [
    {
     "data": {
      "text/latex": [
       "$$ \\begin{equation}\n",
       "\\left[\n",
       "\\begin{array}{c}\n",
       "y \\\\\n",
       "\\end{array}\n",
       "\\right]\n",
       "\\end{equation}\n",
       " $$"
      ],
      "text/plain": [
       "1-element Vector{Num}:\n",
       " y"
      ]
     },
     "metadata": {},
     "output_type": "display_data"
    }
   ],
   "source": [
    "@follower_vars experiment y"
   ]
  },
  {
   "cell_type": "markdown",
   "metadata": {},
   "source": [
    "### Declarar Función Objetivo del Líder"
   ]
  },
  {
   "cell_type": "code",
   "execution_count": 5,
   "metadata": {},
   "outputs": [
    {
     "data": {
      "text/latex": [
       "$$ \\begin{equation}\n",
       "\\left( -5 + x \\right)^{2} + \\left( 1 + 2 y \\right)^{2}\n",
       "\\end{equation}\n",
       " $$"
      ],
      "text/plain": [
       "(-5 + x)^2 + (1 + 2y)^2"
      ]
     },
     "metadata": {},
     "output_type": "display_data"
    }
   ],
   "source": [
    "SetLeaderFunction(experiment,(x-5)^2+(2y+1)^2)"
   ]
  },
  {
   "cell_type": "markdown",
   "metadata": {},
   "source": [
    "### Función objetivo del Follower"
   ]
  },
  {
   "cell_type": "code",
   "execution_count": 6,
   "metadata": {},
   "outputs": [
    {
     "data": {
      "text/latex": [
       "$$ \\begin{equation}\n",
       " - 1.5 x y + \\left( -1 + y \\right)^{2}\n",
       "\\end{equation}\n",
       " $$"
      ],
      "text/plain": [
       "-1.5x*y + (-1 + y)^2"
      ]
     },
     "metadata": {},
     "output_type": "display_data"
    }
   ],
   "source": [
    "SetFollowerFunction(experiment,(y-1)^2-(1.5x*y))"
   ]
  },
  {
   "cell_type": "markdown",
   "metadata": {},
   "source": [
    "### Restricciones del Follower"
   ]
  },
  {
   "cell_type": "code",
   "execution_count": 7,
   "metadata": {},
   "outputs": [
    {
     "data": {
      "text/plain": [
       "1-element Vector{FollowerRestrictionProblem}:\n",
       " FollowerRestrictionProblem((-3x + y) <= -3, J_0_LP_v, 0.4209573768982755, 0.462125076619451, 0.5030945095837951)"
      ]
     },
     "metadata": {},
     "output_type": "display_data"
    }
   ],
   "source": [
    "SetFollowerRestriction(experiment,-3x+y<=-3)"
   ]
  },
  {
   "cell_type": "code",
   "execution_count": 8,
   "metadata": {},
   "outputs": [
    {
     "data": {
      "text/plain": [
       "2-element Vector{FollowerRestrictionProblem}:\n",
       " FollowerRestrictionProblem((-3x + y) <= -3, J_0_LP_v, 0.4209573768982755, 0.462125076619451, 0.5030945095837951)\n",
       " FollowerRestrictionProblem((x - 0.5y) <= 4, J_0_LP_v, 0.3198799794841446, 0.994572679691285, 0.7107205291100257)"
      ]
     },
     "metadata": {},
     "output_type": "display_data"
    }
   ],
   "source": [
    "SetFollowerRestriction(experiment,x-0.5y<=4)"
   ]
  },
  {
   "cell_type": "code",
   "execution_count": 9,
   "metadata": {},
   "outputs": [
    {
     "data": {
      "text/plain": [
       "3-element Vector{FollowerRestrictionProblem}:\n",
       " FollowerRestrictionProblem((-3x + y) <= -3, J_0_LP_v, 0.4209573768982755, 0.462125076619451, 0.5030945095837951)\n",
       " FollowerRestrictionProblem((x - 0.5y) <= 4, J_0_LP_v, 0.3198799794841446, 0.994572679691285, 0.7107205291100257)\n",
       " FollowerRestrictionProblem((x + y) <= 7, J_0_LP_v, 0.1801582196614504, 0.6748512683177337, 0.41157421741280953)"
      ]
     },
     "metadata": {},
     "output_type": "display_data"
    }
   ],
   "source": [
    "SetFollowerRestriction(experiment,x+y<=7)"
   ]
  },
  {
   "cell_type": "markdown",
   "metadata": {},
   "source": [
    "### Poner el Punto Optimo"
   ]
  },
  {
   "cell_type": "code",
   "execution_count": 10,
   "metadata": {},
   "outputs": [
    {
     "data": {
      "text/plain": [
       "Dict{Any, Any} with 2 entries:\n",
       "  y => 0.758028\n",
       "  x => 1.46133"
      ]
     },
     "metadata": {},
     "output_type": "display_data"
    }
   ],
   "source": [
    "SetPoint(experiment,Dict(x=>1,y=>0))"
   ]
  },
  {
   "cell_type": "markdown",
   "metadata": {},
   "source": [
    "## Iniciar el Experimento\n"
   ]
  },
  {
   "cell_type": "code",
   "execution_count": 11,
   "metadata": {},
   "outputs": [
    {
     "name": "stdout",
     "output_type": "stream",
     "text": [
      "Va a retornar correctamente\n",
      "Leader's Objective Function:\n",
      "Variable names: [:y, :x]\n",
      "Expression (string): (-5 + x)^2 + (1 + 2y)^2\n",
      "Parsed expression: (-5 + x)^2 + (1 + 2y)^2\n",
      "Evaluation point: Dict{Any, Any}(\"x\" => 1.4613278646830348, \"y\" => 0.7580284920199815)\n",
      "Evaluation value: 18.852743228205004\n",
      "Is leader function: true\n",
      "------------------------------\n",
      "Leader's Restrictions:\n",
      "------------------------------\n",
      "Follower's Objective Function:\n",
      "Variable names: [:y, :x]\n",
      "Expression (string): -1.5x*y + (-1 + y)^2\n",
      "Parsed expression: -1.5x*y + (-1 + y)^2\n",
      "Evaluation point: Dict{Any, Any}(\"x\" => 1.4613278646830348, \"y\" => 0.7580284920199815)\n",
      "Evaluation value: -1.6030420257445663\n",
      "Is leader function: false\n",
      "------------------------------\n",
      "Follower's Restrictions:\n",
      "++++++++++++++++++++++++++++++\n",
      "Restriction 1\n",
      "Variable names: [:y, :x]\n",
      "Expression (string): (-3x + y) == -3\n",
      "Parsed expression: 3 - 3x + 0.1454159954519224y\n",
      "Evaluation point: Dict{Any, Any}(\"x\" => 1.4613278646830348, \"y\" => 0.7580284920199815)\n",
      "Evaluation value: -1.2737541263010987\n",
      "Additional constant: 1.2737541263010987\n",
      "Restriction type: LtEq\n",
      "Restriction set type: J_0_LP_v\n",
      "Value of miu: 0\n",
      "Value of beta: 0.4209573768982755\n",
      "Value of lambda: 0.462125076619451\n",
      "Value of gamma: 0.5030945095837951\n",
      "++++++++++++++++++++++++++++++\n",
      "++++++++++++++++++++++++++++++\n",
      "Restriction 2\n",
      "Variable names: [:y, :x]\n",
      "Expression (string): (x - 0.5y) == 4\n",
      "Parsed expression: -4 + x - 0.0727079977259612y\n",
      "Evaluation point: Dict{Any, Any}(\"x\" => 1.4613278646830348, \"y\" => 0.7580284920199815)\n",
      "Evaluation value: -2.5937868691909682\n",
      "Additional constant: 2.5937868691909682\n",
      "Restriction type: LtEq\n",
      "Restriction set type: J_0_LP_v\n",
      "Value of miu: 0\n",
      "Value of beta: 0.3198799794841446\n",
      "Value of lambda: 0.994572679691285\n",
      "Value of gamma: 0.7107205291100257\n",
      "++++++++++++++++++++++++++++++\n",
      "++++++++++++++++++++++++++++++\n",
      "Restriction 3\n",
      "Variable names: [:y, :x]\n",
      "Expression (string): (x + y) == 7\n",
      "Parsed expression: -7 + x + 0.1454159954519224y\n",
      "Evaluation point: Dict{Any, Any}(\"x\" => 1.4613278646830348, \"y\" => 0.7580284920199815)\n",
      "Evaluation value: -5.4284426675689605\n",
      "Additional constant: 5.4284426675689605\n",
      "Restriction type: LtEq\n",
      "Restriction set type: J_0_LP_v\n",
      "Value of miu: 0\n",
      "Value of beta: 0.1801582196614504\n",
      "Value of lambda: 0.6748512683177337\n",
      "Value of gamma: 0.41157421741280953\n",
      "++++++++++++++++++++++++++++++\n",
      "------------------------------\n",
      "Evaluation Point:\n",
      "Dict{Any, Any}(\"x\" => 1.4613278646830348, \"y\" => 0.7580284920199815)\n",
      "------------------------------\n",
      "_\n",
      "\n",
      "Num[9.122054209005277, -11.837549935290502]\n",
      "Va a retornar correctamente\n",
      "Leader's Objective Function:\n",
      "Variable names: [:y, :x]\n",
      "Expression (string): (-5 + x)^2 + (1 + 2y)^2\n",
      "Parsed expression: (-5 + x)^2 + (1 + 2y)^2\n",
      "Evaluation point: Dict{Any, Any}(\"x\" => 1.4613278646830348, \"y\" => 0.7580284920199815)\n",
      "Evaluation value: 18.852743228205004\n",
      "Is leader function: true\n",
      "------------------------------\n",
      "Leader's Restrictions:\n",
      "------------------------------\n",
      "Follower's Objective Function:\n",
      "Variable names: [:y, :x]\n",
      "Expression (string): -1.5x*y + (-1 + y)^2\n",
      "Parsed expression: -1.5x*y + (-1 + y)^2\n",
      "Evaluation point: Dict{Any, Any}(\"x\" => 1.4613278646830348, \"y\" => 0.7580284920199815)\n",
      "Evaluation value: -1.6030420257445663\n",
      "Is leader function: false\n",
      "------------------------------\n",
      "Follower's Restrictions:\n",
      "++++++++++++++++++++++++++++++\n",
      "Restriction 1\n",
      "Variable names: [:y, :x]\n",
      "Expression (string): (-3x + y) == -3\n",
      "Parsed expression: 3 - 3x + y\n",
      "Evaluation point: Dict{Any, Any}(\"x\" => 1.4613278646830348, \"y\" => 0.7580284920199815)\n",
      "Evaluation value: -0.6259551020291223\n",
      "Additional constant: 0.6259551020291223\n",
      "Restriction type: LtEq\n",
      "Restriction set type: J_0_LP_v\n",
      "Value of miu: 0\n",
      "Value of beta: 0.4209573768982755\n",
      "Value of lambda: 0.462125076619451\n",
      "Value of gamma: 0.5030945095837951\n",
      "++++++++++++++++++++++++++++++\n",
      "++++++++++++++++++++++++++++++\n",
      "Restriction 2\n",
      "Variable names: [:y, :x]\n",
      "Expression (string): (x - 0.5y) == 4\n",
      "Parsed expression: -4 + x - 0.5y\n",
      "Evaluation point: Dict{Any, Any}(\"x\" => 1.4613278646830348, \"y\" => 0.7580284920199815)\n",
      "Evaluation value: -2.917686381326956\n",
      "Additional constant: 2.917686381326956\n",
      "Restriction type: LtEq\n",
      "Restriction set type: J_0_LP_v\n",
      "Value of miu: 0\n",
      "Value of beta: 0.3198799794841446\n",
      "Value of lambda: 0.994572679691285\n",
      "Value of gamma: 0.7107205291100257\n",
      "++++++++++++++++++++++++++++++\n",
      "++++++++++++++++++++++++++++++\n",
      "Restriction 3\n",
      "Variable names: [:y, :x]\n",
      "Expression (string): (x + y) == 7\n",
      "Parsed expression: -7 + x + y\n",
      "Evaluation point: Dict{Any, Any}(\"x\" => 1.4613278646830348, \"y\" => 0.7580284920199815)\n",
      "Evaluation value: -4.780643643296983\n",
      "Additional constant: 4.780643643296983\n",
      "Restriction type: LtEq\n",
      "Restriction set type: J_0_LP_v\n",
      "Value of miu: 0\n",
      "Value of beta: 0.1801582196614504\n",
      "Value of lambda: 0.6748512683177337\n",
      "Value of gamma: 0.41157421741280953\n",
      "++++++++++++++++++++++++++++++\n",
      "------------------------------\n",
      "Evaluation Point:\n",
      "Dict{Any, Any}(\"x\" => 1.4613278646830348, \"y\" => 0.7580284920199815)\n",
      "------------------------------\n",
      "_\n",
      "\n",
      "Num[7.840178202183162, -10.505403542977506]\n",
      "Se va a crear el DataFrame\n",
      "Se va a crear el DataFrame\n",
      "Se va a crear el DataFrame\n",
      "Experimento Completado\n"
     ]
    }
   ],
   "source": [
    "RunExperiment(experiment,\"ex9.2.1(Quadratic)\")"
   ]
  }
 ],
 "metadata": {
  "kernelspec": {
   "display_name": "Julia 1.10.5",
   "language": "julia",
   "name": "julia-1.10"
  },
  "language_info": {
   "file_extension": ".jl",
   "mimetype": "application/julia",
   "name": "julia",
   "version": "1.10.5"
  }
 },
 "nbformat": 4,
 "nbformat_minor": 2
}
