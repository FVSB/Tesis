{
 "cells": [
  {
   "cell_type": "markdown",
   "metadata": {},
   "source": [
    "## Importaciones necesarias"
   ]
  },
  {
   "cell_type": "code",
   "execution_count": 1,
   "metadata": {},
   "outputs": [],
   "source": [
    "using JuMP, Ipopt, Complementarity"
   ]
  },
  {
   "cell_type": "markdown",
   "metadata": {},
   "source": [
    "# Crear el modelo"
   ]
  },
  {
   "cell_type": "code",
   "execution_count": 2,
   "metadata": {},
   "outputs": [
    {
     "data": {
      "text/plain": [
       "A JuMP Model\n",
       "├ solver: Ipopt\n",
       "├ objective_sense: FEASIBILITY_SENSE\n",
       "├ num_variables: 0\n",
       "├ num_constraints: 0\n",
       "└ Names registered in the model: none"
      ]
     },
     "metadata": {},
     "output_type": "display_data"
    }
   ],
   "source": [
    "# Crear el modelo\n",
    "model = Model(Ipopt.Optimizer)"
   ]
  },
  {
   "cell_type": "markdown",
   "metadata": {},
   "source": [
    "## Definir Variables\n"
   ]
  },
  {
   "cell_type": "code",
   "execution_count": 3,
   "metadata": {},
   "outputs": [
    {
     "data": {
      "text/plain": [
       "2-element Vector{VariableRef}:\n",
       " l[1]\n",
       " l[2]"
      ]
     },
     "metadata": {},
     "output_type": "display_data"
    }
   ],
   "source": [
    "# Nivel superior\n",
    "@variable(model,x)\n",
    "# Nivel Inferior\n",
    "@variable(model,y)\n",
    "# Complementariedad\n",
    "@variable(model,l[1:2])"
   ]
  },
  {
   "cell_type": "markdown",
   "metadata": {},
   "source": [
    "## Definir Objetivo\n"
   ]
  },
  {
   "cell_type": "code",
   "execution_count": 4,
   "metadata": {},
   "outputs": [
    {
     "data": {
      "text/latex": [
       "$ x^2 $"
      ],
      "text/plain": [
       "x²"
      ]
     },
     "metadata": {},
     "output_type": "display_data"
    }
   ],
   "source": [
    "@objective(model,Min,x^2)"
   ]
  },
  {
   "cell_type": "markdown",
   "metadata": {},
   "source": [
    "## Definir Restricciones\n"
   ]
  },
  {
   "cell_type": "code",
   "execution_count": 5,
   "metadata": {},
   "outputs": [
    {
     "data": {
      "text/latex": [
       "$$ ((10.49 - 5.38 * y) + y ^ {2.0} * (x - 0.5)) - 0.0 \\leq 0 $$"
      ],
      "text/plain": [
       "((10.49 - 5.38 * y) + y ^ 2.0 * (x - 0.5)) - 0.0 <= 0"
      ]
     },
     "metadata": {},
     "output_type": "display_data"
    }
   ],
   "source": [
    "@NLconstraint(model,1+(-0.2l[1]+(l[2]*(2*y*(x-0.25))+5.39l[2]))==0) # Obj nivel inferior\n",
    "@NLconstraint(model,(10.49-5.38y+(y^2)*(x-0.5))<=0 )#vs"
   ]
  },
  {
   "cell_type": "code",
   "execution_count": 6,
   "metadata": {},
   "outputs": [
    {
     "data": {
      "text/plain": [
       "(-x <= -1.19, x <= 1.19, -9 x² + x - y <= -15.45, -0.2 y <= -0.78)"
      ]
     },
     "metadata": {},
     "output_type": "display_data"
    }
   ],
   "source": [
    "@constraints(model,begin\n",
    "1.19 - x<=0  #gs\n",
    "-1.19+ x<=0  #gs\n",
    "15.45+x-(9*(x^2))-y<=0 #gs\n",
    "0.78 - 0.2y<=0  #vs\n",
    "#y-1<=0 #vs\n",
    "\n",
    "end)"
   ]
  },
  {
   "cell_type": "markdown",
   "metadata": {},
   "source": [
    "## Definir variables Complementarias"
   ]
  },
  {
   "cell_type": "code",
   "execution_count": 7,
   "metadata": {},
   "outputs": [
    {
     "data": {
      "text/latex": [
       "$$ (sqrt(l[2] ^ {2.0} + (-(((10.49 + -5.38 * y) + (y * y) * (-0.5 + x))) - 0.0) ^ {2.0} + 1.0e-8) - (l[2] + (-(((10.49 + -5.38 * y) + (y * y) * (-0.5 + x))) - 0.0))) - 0.0 = 0 $$"
      ],
      "text/plain": [
       "(sqrt(l[2] ^ 2.0 + (-(((10.49 + -5.38 * y) + (y * y) * (-0.5 + x))) - 0.0) ^ 2.0 + 1.0e-8) - (l[2] + (-(((10.49 + -5.38 * y) + (y * y) * (-0.5 + x))) - 0.0))) - 0.0 == 0"
      ]
     },
     "metadata": {},
     "output_type": "display_data"
    }
   ],
   "source": [
    "@complements(model,0<=y+1,l[1]>=0)\n",
    "#@complements(model,0<=-y+1,l[2]>=0)\n",
    "@complements(model,0<=-((10.49-5.38y+(y^2)*(x-0.5))),l[2]>=0)"
   ]
  },
  {
   "cell_type": "markdown",
   "metadata": {},
   "source": [
    "## Optimizar"
   ]
  },
  {
   "cell_type": "code",
   "execution_count": 8,
   "metadata": {},
   "outputs": [
    {
     "name": "stdout",
     "output_type": "stream",
     "text": [
      "\n",
      "******************************************************************************\n",
      "This program contains Ipopt, a library for large-scale nonlinear optimization.\n",
      " Ipopt is released as open source code under the Eclipse Public License (EPL).\n",
      "         For more information visit https://github.com/coin-or/Ipopt\n",
      "******************************************************************************\n",
      "\n",
      "This is Ipopt version 3.14.16, running with linear solver MUMPS 5.7.3.\n",
      "\n",
      "Number of nonzeros in equality constraint Jacobian...:        9\n",
      "Number of nonzeros in inequality constraint Jacobian.:       13\n",
      "Number of nonzeros in Lagrangian Hessian.............:       23\n",
      "\n",
      "Total number of variables............................:        4\n",
      "                     variables with only lower bounds:        0\n",
      "                variables with lower and upper bounds:        0\n",
      "                     variables with only upper bounds:        0\n",
      "Total number of equality constraints.................:        3\n",
      "Total number of inequality constraints...............:        9\n",
      "        inequality constraints with only lower bounds:        4\n",
      "   inequality constraints with lower and upper bounds:        0\n",
      "        inequality constraints with only upper bounds:        5\n",
      "\n",
      "iter    objective    inf_pr   inf_du lg(mu)  ||d||  lg(rg) alpha_du alpha_pr  ls\n",
      "   0  0.0000000e+00 2.10e+01 2.50e-01  -1.0 0.00e+00    -  0.00e+00 0.00e+00   0\n",
      "   1  7.9149648e-06 2.07e+01 3.02e+01  -1.0 1.39e+01    -  3.45e-01 1.10e-02h  1\n",
      "   2  2.6051200e-06 2.07e+01 2.64e+04  -1.0 7.74e+00    -  1.65e-01 1.98e-04h  1\n",
      "   3r 2.6051200e-06 2.07e+01 1.00e+03   1.3 0.00e+00    -  0.00e+00 2.55e-07R  5\n",
      "   4r 9.2073746e-05 1.35e+01 9.96e+02   1.3 1.08e+04    -  2.66e-02 1.90e-03f  1\n",
      "   5  9.6340378e-05 1.35e+01 2.53e+00  -1.0 2.36e+02    -  8.94e-07 2.28e-06f  2\n",
      "   6  1.2416162e-04 1.35e+01 2.56e+00  -1.0 3.08e+02    -  3.46e-06 1.36e-05h  1\n",
      "   7  1.3881854e+00 1.11e+00 1.85e+06  -1.0 3.05e+02    -  1.81e-04 1.20e-02f  1\n",
      "   8  1.3881694e+00 1.11e+00 1.85e+06  -1.0 3.66e+00    -  9.47e-01 5.68e-04h  1\n",
      "   9  1.3928218e+00 1.03e+00 1.72e+06  -1.0 3.66e+00    -  1.00e+00 7.23e-02h  1\n",
      "iter    objective    inf_pr   inf_du lg(mu)  ||d||  lg(rg) alpha_du alpha_pr  ls\n",
      "  10  1.3928666e+00 1.03e+00 1.72e+06  -1.0 3.39e+00    -  1.00e+00 7.91e-04h  1\n",
      "  11r 1.3928666e+00 1.03e+00 1.00e+03   0.6 0.00e+00    -  0.00e+00 4.95e-07R  5\n",
      "  12r 1.3975184e+00 8.89e-01 1.30e+03   0.6 3.49e+03    -  3.13e-02 1.01e-03f  1\n",
      "  13  1.3975211e+00 8.89e-01 1.39e+03  -1.0 7.74e-01    -  3.38e-02 5.16e-05h  1\n",
      "  14  1.3976429e+00 8.89e-01 2.36e+00  -1.0 1.20e+02    -  1.28e-07 1.27e-05f  1\n",
      "  15  1.4161682e+00 8.88e-01 1.23e+03  -1.0 1.25e+02    -  1.60e-02 1.85e-03f  1\n",
      "  16r 1.4161682e+00 8.88e-01 9.99e+02  -0.1 0.00e+00    -  0.00e+00 2.58e-07R  4\n",
      "  17r 1.4164521e+00 8.60e-01 9.97e+02  -0.1 3.90e+02    -  2.66e-03 1.54e-03f  1\n",
      "  18r 1.4167968e+00 8.03e-01 9.95e+02  -0.1 4.12e+01    -  4.91e-03 1.89e-03f  1\n",
      "  19r 1.4170244e+00 2.02e-01 9.95e+02  -0.1 7.10e+02    -  2.93e-04 1.12e-03f  1\n",
      "iter    objective    inf_pr   inf_du lg(mu)  ||d||  lg(rg) alpha_du alpha_pr  ls\n",
      "  20  1.4170121e+00 2.02e-01 4.12e+03  -1.0 3.04e-01    -  9.49e-01 1.13e-03h  1\n",
      "  21  1.4170228e+00 2.02e-01 9.28e+03  -1.0 6.41e+00    -  2.53e-04 5.18e-05h  1\n",
      "  22  1.4170751e+00 2.02e-01 1.20e+04  -1.0 8.18e+00    -  2.46e-04 1.98e-04h  1\n",
      "  23r 1.4170751e+00 2.02e-01 1.00e+03  -0.7 0.00e+00    -  0.00e+00 2.52e-07R  4\n",
      "  24r 1.4170419e+00 1.79e-01 1.01e+03  -0.7 3.10e+02    -  4.10e-05 1.02e-03f  1\n",
      "  25  1.4170404e+00 1.79e-01 2.38e+00  -1.0 1.42e+01    -  4.49e-07 6.22e-07H  1\n",
      "  26  1.3498171e+00 8.27e-02 1.82e+03  -1.0 1.20e+01    -  2.43e-05 2.26e-02F  1\n",
      "  27  1.3371726e+00 8.07e-02 1.77e+03  -1.0 4.18e+00    -  2.54e-02 2.70e-02h  1\n",
      "  28  1.2977901e+00 8.34e-01 4.21e+03  -1.0 4.49e+01    -  4.26e-05 2.28e-02F  1\n",
      "  29  1.2973214e+00 7.94e-01 4.00e+03  -1.0 2.39e-01   2.0 1.00e+00 4.86e-02h  2\n",
      "iter    objective    inf_pr   inf_du lg(mu)  ||d||  lg(rg) alpha_du alpha_pr  ls\n",
      "  30  1.2980632e+00 7.74e-01 3.90e+03  -1.0 4.59e-01   1.5 1.24e-01 2.53e-02h  2\n",
      "  31  1.2981182e+00 7.73e-01 4.69e+03  -1.0 1.35e+00   1.0 1.00e+00 3.85e-04h  7\n",
      "  32  1.2979930e+00 7.73e-01 3.90e+03  -1.0 1.89e+01    -  4.60e-02 5.13e-05h  9\n",
      "  33  1.2670541e+00 7.58e-01 3.79e+03  -1.0 1.31e+01    -  1.38e-01 1.83e-02h  1\n",
      "  34  1.2704961e+00 7.40e-01 7.01e+03  -1.0 1.35e+00    -  1.43e-01 2.40e-02h  1\n",
      "  35  1.2703402e+00 7.40e-01 1.49e+07  -1.0 3.34e+00    -  1.00e+00 3.50e-04h  1\n",
      "  36  1.2702543e+00 7.40e-01 4.71e+10  -1.0 1.35e+01    -  1.59e-01 5.00e-05h  1\n",
      "  37r 1.2702543e+00 7.40e-01 1.00e+03  -0.1 0.00e+00    -  0.00e+00 2.50e-07R  2\n",
      "  38r 1.2861069e+00 1.70e-01 1.01e+03  -0.1 4.32e+02    -  4.12e-02 1.55e-03f  1\n",
      "  39  1.2861111e+00 1.70e-01 1.52e+05  -1.0 2.61e+00    -  9.66e-01 1.42e-05h  1\n",
      "iter    objective    inf_pr   inf_du lg(mu)  ||d||  lg(rg) alpha_du alpha_pr  ls\n",
      "  40r 1.2861111e+00 1.70e-01 1.00e+03  -0.8 0.00e+00    -  0.00e+00 4.72e-07R  4\n",
      "  41r 1.2908858e+00 9.04e-02 9.99e+02  -0.8 1.37e+02    -  9.28e-05 1.23e-03f  1\n",
      "  42r 1.2908858e+00 9.04e-02 9.99e+02  -1.0 0.00e+00    -  0.00e+00 4.55e-07R  4\n",
      "  43r 1.3109523e+00 8.49e-02 9.96e+02  -1.0 7.63e+01    -  1.27e-02 2.83e-03f  1\n",
      "  44r 1.3763467e+00 8.96e-02 9.79e+02  -1.0 4.39e+01    -  1.23e-01 1.70e-02f  1\n",
      "  45r 1.3612906e+00 8.38e-02 8.29e+02  -1.0 4.30e-01    -  3.15e-01 1.54e-01f  1\n",
      "  46r 1.4155939e+00 1.58e-01 9.96e+03  -1.0 8.35e-01    -  4.29e-01 5.72e-01H  1\n",
      "  47r 1.3961339e+00 1.00e-01 1.93e+03  -1.0 9.40e-02    -  9.36e-01 9.73e-01f  1\n",
      "  48r 1.3879799e+00 9.38e-02 4.61e+02  -1.0 7.96e-02    -  7.31e-01 1.00e+00h  1\n",
      "  49r 1.3795056e+00 9.00e-02 1.81e+02  -1.0 1.17e-01    -  1.00e+00 1.00e+00f  1\n",
      "iter    objective    inf_pr   inf_du lg(mu)  ||d||  lg(rg) alpha_du alpha_pr  ls\n",
      "  50r 1.3749741e+00 8.83e-02 2.99e+01  -1.0 4.53e-02    -  1.00e+00 1.00e+00h  1\n",
      "  51r 1.3740923e+00 8.80e-02 7.93e-01  -1.0 9.66e-03    -  1.00e+00 1.00e+00h  1\n",
      "  52r 1.3751109e+00 8.83e-02 1.57e+00  -2.5 1.78e-02    -  1.00e+00 1.00e+00f  1\n",
      "  53r 1.3751554e+00 8.83e-02 4.17e-02  -2.5 2.05e-03    -  1.00e+00 1.00e+00h  1\n",
      "  54r 1.3751875e+00 8.83e-02 1.57e-03  -3.8 6.82e-04    -  1.00e+00 1.00e+00f  1\n",
      "  55r 1.3751907e+00 8.83e-02 4.01e-04  -5.7 6.25e-05    -  1.00e+00 1.00e+00f  1\n",
      "  56r 1.3751910e+00 8.83e-02 7.60e+00  -5.7 6.31e-06    -  9.83e-01 1.00e+00h  1\n",
      "  57r 1.3751910e+00 8.83e-02 1.35e-08  -5.7 7.86e-10    -  1.00e+00 1.00e+00h  1\n",
      "  58r 1.3751910e+00 8.83e-02 1.35e+01  -8.6 4.34e-07    -  1.00e+00 8.80e-01f  1\n",
      "  59r 1.3751911e+00 8.83e-02 1.38e+00  -8.6 8.07e-07    -  9.51e-01 1.00e+00f  1\n",
      "\n",
      "Number of Iterations....: 59\n",
      "\n",
      "                                   (scaled)                 (unscaled)\n",
      "Objective...............:   1.3751910758704156e+00    1.3751910758704156e+00\n",
      "Dual infeasibility......:   2.3453694083435672e+00    2.3453694083435672e+00\n",
      "Constraint violation....:   8.8280083166559692e-02    8.8280083166559692e-02\n",
      "Variable bound violation:   0.0000000000000000e+00    0.0000000000000000e+00\n",
      "Complementarity.........:   2.5099551845329770e-09    2.5099551845329770e-09\n",
      "Overall NLP error.......:   9.4505945430483684e-01    2.3453694083435672e+00\n",
      "\n",
      "\n",
      "Number of objective function evaluations             = 110\n",
      "Number of objective gradient evaluations             = 42\n",
      "Number of equality constraint evaluations            = 110\n",
      "Number of inequality constraint evaluations          = 110\n",
      "Number of equality constraint Jacobian evaluations   = 68\n",
      "Number of inequality constraint Jacobian evaluations = 68\n",
      "Number of Lagrangian Hessian evaluations             = 60\n",
      "Total seconds in IPOPT                               = 2.219\n",
      "\n",
      "EXIT: Converged to a point of local infeasibility. Problem may be infeasible.\n"
     ]
    }
   ],
   "source": [
    "# Resolver el modelo\n",
    "optimize!(model)"
   ]
  },
  {
   "cell_type": "markdown",
   "metadata": {},
   "source": [
    "# Mostrar resultados"
   ]
  },
  {
   "cell_type": "code",
   "execution_count": 9,
   "metadata": {},
   "outputs": [
    {
     "name": "stdout",
     "output_type": "stream",
     "text": [
      "Estado de la solución: LOCALLY_INFEASIBLE\n",
      "Valor óptimo de x: 1.1726854121504264\n",
      "Valor óptimo de y1: 4.299277776170678\n",
      "Valores óptimos de l: [9.437050897442059e-10, -0.07505387868638456]\n"
     ]
    }
   ],
   "source": [
    "# Mostrar resultados\n",
    "println(\"Estado de la solución: \", termination_status(model))\n",
    "println(\"Valor óptimo de x: \", value(x))\n",
    "println(\"Valor óptimo de y1: \", value(y))\n",
    "#println(\"Valor óptimo de y2: \", value(y2))\n",
    "#println(\"Valores óptimos de s: \", value.(s))\n",
    "println(\"Valores óptimos de l: \", value.(l))"
   ]
  },
  {
   "cell_type": "code",
   "execution_count": 10,
   "metadata": {},
   "outputs": [
    {
     "data": {
      "text/plain": [
       "1.3751910758704156"
      ]
     },
     "metadata": {},
     "output_type": "display_data"
    }
   ],
   "source": [
    "objective_value(model)"
   ]
  }
 ],
 "metadata": {
  "kernelspec": {
   "display_name": "Julia 1.10.5",
   "language": "julia",
   "name": "julia-1.10"
  },
  "language_info": {
   "file_extension": ".jl",
   "mimetype": "application/julia",
   "name": "julia",
   "version": "1.10.5"
  }
 },
 "nbformat": 4,
 "nbformat_minor": 2
}
