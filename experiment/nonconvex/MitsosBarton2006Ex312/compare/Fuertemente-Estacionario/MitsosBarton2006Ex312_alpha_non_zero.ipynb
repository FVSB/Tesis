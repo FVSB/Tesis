{
 "cells": [
  {
   "cell_type": "markdown",
   "metadata": {},
   "source": [
    "## Importaciones necesarias"
   ]
  },
  {
   "cell_type": "code",
   "execution_count": 1,
   "metadata": {},
   "outputs": [],
   "source": [
    "using JuMP, Ipopt, Complementarity"
   ]
  },
  {
   "cell_type": "markdown",
   "metadata": {},
   "source": [
    "# Crear el modelo"
   ]
  },
  {
   "cell_type": "code",
   "execution_count": 2,
   "metadata": {},
   "outputs": [
    {
     "data": {
      "text/plain": [
       "A JuMP Model\n",
       "├ solver: Ipopt\n",
       "├ objective_sense: FEASIBILITY_SENSE\n",
       "├ num_variables: 0\n",
       "├ num_constraints: 0\n",
       "└ Names registered in the model: none"
      ]
     },
     "metadata": {},
     "output_type": "display_data"
    }
   ],
   "source": [
    "# Crear el modelo\n",
    "model = Model(Ipopt.Optimizer)"
   ]
  },
  {
   "cell_type": "markdown",
   "metadata": {},
   "source": [
    "## Definir Variables\n"
   ]
  },
  {
   "cell_type": "code",
   "execution_count": 3,
   "metadata": {},
   "outputs": [
    {
     "data": {
      "text/plain": [
       "2-element Vector{VariableRef}:\n",
       " l[1]\n",
       " l[2]"
      ]
     },
     "metadata": {},
     "output_type": "display_data"
    }
   ],
   "source": [
    "# Definir la x\n",
    "@variable(model,x)\n",
    "# Definir la y\n",
    "@variable(model,y)\n",
    "#Definir las l como variables de complementariedad\n",
    "@variable(model,l[1:2])"
   ]
  },
  {
   "cell_type": "markdown",
   "metadata": {},
   "source": [
    "## Definir Objetivo\n"
   ]
  },
  {
   "cell_type": "code",
   "execution_count": 4,
   "metadata": {},
   "outputs": [
    {
     "data": {
      "text/latex": [
       "$ x\\times y + 10 y^2 - x $"
      ],
      "text/plain": [
       "x*y + 10 y² - x"
      ]
     },
     "metadata": {},
     "output_type": "display_data"
    }
   ],
   "source": [
    "@objective(model,Min,-x+x*y+10y^2)"
   ]
  },
  {
   "cell_type": "markdown",
   "metadata": {},
   "source": [
    "## Definir Restricciones\n"
   ]
  },
  {
   "cell_type": "code",
   "execution_count": 5,
   "metadata": {},
   "outputs": [
    {
     "data": {
      "text/latex": [
       "$$ ((-2.0 * x) * y + 2.0 * y ^ {3.0} + 3.06 * l[1] + 1.58 * l[2]) - 0.0 = 0 $$"
      ],
      "text/plain": [
       "((-2.0 * x) * y + 2.0 * y ^ 3.0 + 3.06 * l[1] + 1.58 * l[2]) - 0.0 == 0"
      ]
     },
     "metadata": {},
     "output_type": "display_data"
    }
   ],
   "source": [
    "@NLconstraint(model,-2x*y+2y^3+(3.06*l[1])+(1.58*l[2])==0) # Obj nivel inferior"
   ]
  },
  {
   "cell_type": "code",
   "execution_count": 6,
   "metadata": {},
   "outputs": [
    {
     "data": {
      "text/plain": [
       "(-x <= -0.8, x <= 0.8, 3.06 y <= 5.67, -1.58 y <= -2.92)"
      ]
     },
     "metadata": {},
     "output_type": "display_data"
    }
   ],
   "source": [
    "@constraints(model,begin\n",
    "\n",
    "0.8 - x<=0  #gs\n",
    "-0.8 + x<=0  #gs\n",
    "-5.67 + 3.06y<=0  #vs\n",
    "2.92 - 1.58y<=0 #vs\n",
    "end)"
   ]
  },
  {
   "cell_type": "markdown",
   "metadata": {},
   "source": [
    "## Definir variables Complementarias"
   ]
  },
  {
   "cell_type": "code",
   "execution_count": 7,
   "metadata": {},
   "outputs": [
    {
     "data": {
      "text/latex": [
       "$$ (sqrt(l[2] ^ {2.0} + (-2.92 + 1.58 * y) ^ {2.0} + 1.0e-8) - (l[2] + (-2.92 + 1.58 * y))) - 0.0 = 0 $$"
      ],
      "text/plain": [
       "(sqrt(l[2] ^ 2.0 + (-2.92 + 1.58 * y) ^ 2.0 + 1.0e-8) - (l[2] + (-2.92 + 1.58 * y))) - 0.0 == 0"
      ]
     },
     "metadata": {},
     "output_type": "display_data"
    }
   ],
   "source": [
    "@complements(model,0<=-(-5.67 + 3.06y),l[1]>=0)\n",
    "@complements(model,0<=-(2.92 - 1.58y),l[2]>=0)"
   ]
  },
  {
   "cell_type": "markdown",
   "metadata": {},
   "source": [
    "## Optimizar"
   ]
  },
  {
   "cell_type": "code",
   "execution_count": 8,
   "metadata": {},
   "outputs": [
    {
     "name": "stdout",
     "output_type": "stream",
     "text": [
      "\n",
      "******************************************************************************\n",
      "This program contains Ipopt, a library for large-scale nonlinear optimization.\n",
      " Ipopt is released as open source code under the Eclipse Public License (EPL).\n",
      "         For more information visit https://github.com/coin-or/Ipopt\n",
      "******************************************************************************\n",
      "\n",
      "This is Ipopt version 3.14.16, running with linear solver MUMPS 5.7.3.\n",
      "\n",
      "Number of nonzeros in equality constraint Jacobian...:        8\n",
      "Number of nonzeros in inequality constraint Jacobian.:        8\n",
      "Number of nonzeros in Lagrangian Hessian.............:       11\n",
      "\n",
      "Total number of variables............................:        4\n",
      "                     variables with only lower bounds:        0\n",
      "                variables with lower and upper bounds:        0\n",
      "                     variables with only upper bounds:        0\n",
      "Total number of equality constraints.................:        3\n",
      "Total number of inequality constraints...............:        8\n",
      "        inequality constraints with only lower bounds:        4\n",
      "   inequality constraints with lower and upper bounds:        0\n",
      "        inequality constraints with only upper bounds:        4\n",
      "\n",
      "iter    objective    inf_pr   inf_du lg(mu)  ||d||  lg(rg) alpha_du alpha_pr  ls\n",
      "   0  0.0000000e+00 5.84e+00 3.33e-01  -1.0 0.00e+00    -  0.00e+00 0.00e+00   0\n",
      "   1  2.5013308e+01 5.22e+00 1.21e+02  -1.0 5.66e+00    -  2.92e-01 8.48e-01h  1\n",
      "   2  2.5040688e+01 5.20e+00 1.21e+02  -1.0 2.76e+00    -  1.91e-02 2.87e-03h  1\n",
      "   3  2.5020427e+01 5.20e+00 1.21e+02  -1.0 3.38e+00    -  2.16e-03 7.99e-04h  1\n",
      "   4  2.5020332e+01 5.20e+00 1.00e+06  -1.0 1.61e+00    -  6.38e-01 1.82e-05h  1\n",
      "   5r 2.5020332e+01 5.20e+00 1.00e+03   0.7 0.00e+00    -  0.00e+00 4.19e-07R  4\n",
      "   6r 1.3945484e+01 2.12e+00 9.86e+02   0.7 3.94e+02    -  9.28e-03 1.31e-02f  1\n",
      "   7  1.3945666e+01 2.12e+00 2.06e+02  -1.0 2.16e+00    -  7.00e-03 3.52e-05h  1\n",
      "   8r 1.3945666e+01 2.12e+00 9.99e+02   0.3 0.00e+00    -  0.00e+00 4.76e-07R  5\n",
      "   9r 1.3960907e+01 2.12e+00 1.00e+03   0.3 9.33e+01    -  3.79e-02 5.33e-05f  2\n",
      "iter    objective    inf_pr   inf_du lg(mu)  ||d||  lg(rg) alpha_du alpha_pr  ls\n",
      "  10r 1.0851804e+01 2.55e+00 9.36e+02   0.3 1.43e+01    -  2.78e-01 6.40e-02f  1\n",
      "  11r 2.2839778e+01 4.23e+00 3.89e+03   0.3 4.36e+00    -  7.92e-02 5.12e-01f  1\n",
      "  12r 2.1181495e+01 3.44e+00 3.36e+03   0.3 5.00e+00    -  6.97e-02 1.26e-01f  1\n",
      "  13r 2.5845643e+01 1.49e+00 1.72e+03   0.3 4.03e+00   2.0 3.07e-02 5.08e-01f  1\n",
      "  14  2.5849702e+01 1.49e+00 2.58e+03  -1.0 2.46e+00    -  6.32e-01 5.14e-04h  1\n",
      "  15  2.5812812e+01 1.49e+00 4.65e+03  -1.0 5.05e+00    -  1.51e-03 8.32e-04h  1\n",
      "  16  2.5811687e+01 1.49e+00 7.29e+05  -1.0 5.18e+00    -  2.99e-03 2.49e-05h  1\n",
      "  17r 2.5811687e+01 1.49e+00 1.00e+03   0.2 0.00e+00    -  0.00e+00 1.25e-07R  2\n",
      "  18r 3.0164019e+01 2.26e+00 9.96e+02   0.2 1.94e+02    -  8.67e-03 4.51e-03f  1\n",
      "  19r 3.1051341e+01 2.10e+00 9.89e+02   0.2 1.09e+02    -  1.00e+00 5.00e-03f  1\n",
      "iter    objective    inf_pr   inf_du lg(mu)  ||d||  lg(rg) alpha_du alpha_pr  ls\n",
      "  20r 3.6889209e+01 2.59e+00 8.91e+02   0.2 4.90e-01    -  1.00e+00 1.00e+00h  1\n",
      "  21r 3.6976498e+01 2.60e+00 5.76e+02   0.2 2.26e-02    -  1.00e+00 7.42e-01h  1\n",
      "  22r 3.6978526e+01 2.61e+00 5.38e+02   0.2 6.25e-03    -  1.00e+00 1.00e+00h  1\n",
      "  23r 3.6977198e+01 2.61e+00 3.54e+01   0.2 1.60e-03    -  1.00e+00 1.00e+00h  1\n",
      "  24r 3.7048123e+01 2.62e+00 2.46e+02  -0.5 5.36e-03    -  1.00e+00 1.00e+00f  1\n",
      "  25r 3.7039077e+01 2.61e+00 3.71e+02  -0.5 7.31e-04    -  1.00e+00 1.00e+00f  1\n",
      "  26r 3.7038658e+01 2.61e+00 1.71e+00  -0.5 4.15e-05    -  1.00e+00 1.00e+00h  1\n",
      "  27r 3.7051677e+01 2.62e+00 5.74e+02  -1.9 1.05e-03    -  1.00e+00 9.77e-01f  1\n",
      "  28r 3.7051309e+01 2.62e+00 7.73e+01  -1.9 6.22e-05    -  8.89e-01 1.00e+00f  1\n",
      "  29r 3.7050901e+01 2.62e+00 5.57e+01  -1.9 3.86e-05    -  1.00e+00 1.00e+00f  1\n",
      "iter    objective    inf_pr   inf_du lg(mu)  ||d||  lg(rg) alpha_du alpha_pr  ls\n",
      "  30r 3.7051020e+01 2.62e+00 5.90e+00  -1.9 1.23e-05    -  1.00e+00 1.00e+00h  1\n",
      "  31r 3.7051025e+01 2.62e+00 2.13e-02  -1.9 5.91e-07    -  1.00e+00 1.00e+00h  1\n",
      "  32r 3.7051490e+01 2.62e+00 3.72e+01  -4.3 4.23e-05    -  1.00e+00 9.02e-01f  1\n",
      "  33r 3.7051484e+01 2.62e+00 7.41e-01  -4.3 3.09e-06    -  9.88e-01 9.79e-01f  1\n",
      "  34r 3.7051478e+01 2.62e+00 1.87e-03  -4.3 5.62e-07    -  1.00e+00 1.00e+00f  1\n",
      "  35r 3.7051479e+01 2.62e+00 1.65e+00  -6.5 1.94e-07    -  8.74e-01 9.59e-01f  1\n",
      "  36r 3.7051479e+01 2.62e+00 2.75e+01  -6.5 2.29e-08    -  9.70e-01 8.78e-01f  1\n",
      "  37r 3.7051479e+01 2.62e+00 2.13e-07  -6.5 5.51e-09    -  1.00e+00 1.00e+00f  1\n",
      "  38r 3.7051479e+01 2.62e+00 5.18e-01  -9.0 1.86e-09    -  9.98e-01 9.72e-01f  1\n",
      "\n",
      "Number of Iterations....: 38\n",
      "\n",
      "                                   (scaled)                 (unscaled)\n",
      "Objective...............:   3.7051479096641557e+01    3.7051479096641557e+01\n",
      "Dual infeasibility......:   4.0377529825925798e+01    4.0377529825925798e+01\n",
      "Constraint violation....:   2.6155083404561434e+00    2.6155083404561434e+00\n",
      "Variable bound violation:   0.0000000000000000e+00    0.0000000000000000e+00\n",
      "Complementarity.........:   9.1752470071644336e-10    9.1752470071644336e-10\n",
      "Overall NLP error.......:   1.1320651414229671e+01    4.0377529825925798e+01\n",
      "\n",
      "\n",
      "Number of objective function evaluations             = 53\n",
      "Number of objective gradient evaluations             = 15\n",
      "Number of equality constraint evaluations            = 53\n",
      "Number of inequality constraint evaluations          = 53\n",
      "Number of equality constraint Jacobian evaluations   = 43\n",
      "Number of inequality constraint Jacobian evaluations = 43\n",
      "Number of Lagrangian Hessian evaluations             = 39\n",
      "Total seconds in IPOPT                               = 1.641\n",
      "\n",
      "EXIT: Converged to a point of local infeasibility. Problem may be infeasible.\n"
     ]
    }
   ],
   "source": [
    "# Resolver el modelo\n",
    "optimize!(model)"
   ]
  },
  {
   "cell_type": "markdown",
   "metadata": {},
   "source": [
    "# Mostrar resultados"
   ]
  },
  {
   "cell_type": "code",
   "execution_count": 9,
   "metadata": {},
   "outputs": [
    {
     "name": "stdout",
     "output_type": "stream",
     "text": [
      "Estado de la solución: LOCALLY_INFEASIBLE\n",
      "Valor óptimo de x: 3.4155083504561436\n",
      "Valor óptimo de y1: 1.8481012473430432\n",
      "Valores óptimos de l: [3.3760076465217707e-7, 6.983140292149431e-5]\n"
     ]
    }
   ],
   "source": [
    "# Mostrar resultados\n",
    "println(\"Estado de la solución: \", termination_status(model))\n",
    "println(\"Valor óptimo de x: \", value(x))\n",
    "println(\"Valor óptimo de y1: \", value(y))\n",
    "#println(\"Valor óptimo de y2: \", value(y2))\n",
    "#println(\"Valores óptimos de s: \", value.(s))\n",
    "println(\"Valores óptimos de l: \", value.(l))"
   ]
  },
  {
   "cell_type": "code",
   "execution_count": 10,
   "metadata": {},
   "outputs": [
    {
     "data": {
      "text/plain": [
       "37.05147909664156"
      ]
     },
     "metadata": {},
     "output_type": "display_data"
    }
   ],
   "source": [
    "objective_value(model)"
   ]
  }
 ],
 "metadata": {
  "kernelspec": {
   "display_name": "Julia 1.10.5",
   "language": "julia",
   "name": "julia-1.10"
  },
  "language_info": {
   "file_extension": ".jl",
   "mimetype": "application/julia",
   "name": "julia",
   "version": "1.10.5"
  }
 },
 "nbformat": 4,
 "nbformat_minor": 2
}
