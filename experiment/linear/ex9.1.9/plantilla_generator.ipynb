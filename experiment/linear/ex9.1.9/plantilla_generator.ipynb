{
 "cells": [
  {
   "cell_type": "markdown",
   "metadata": {},
   "source": [
    "## Importar el módulo\n"
   ]
  },
  {
   "cell_type": "code",
   "execution_count": 1,
   "metadata": {},
   "outputs": [
    {
     "data": {
      "text/plain": [
       "RunExperiment (generic function with 1 method)"
      ]
     },
     "metadata": {},
     "output_type": "display_data"
    }
   ],
   "source": [
    "include(\"../../new_experiment.jl\")"
   ]
  },
  {
   "cell_type": "markdown",
   "metadata": {},
   "source": [
    "Crear un experimento\n"
   ]
  },
  {
   "cell_type": "code",
   "execution_count": 2,
   "metadata": {},
   "outputs": [
    {
     "data": {
      "text/plain": [
       "Experiment(OptimizationModel(Problem(Any[], nothing), LeaderRestrictionProblem[], Problem(Any[], nothing), FollowerRestrictionProblem[], Dict{Any, Any}(), Number[1], false), OptimizationModel(Problem(Any[], nothing), LeaderRestrictionProblem[], Problem(Any[], nothing), FollowerRestrictionProblem[], Dict{Any, Any}(), Number[], true), Any[], Any[])"
      ]
     },
     "metadata": {},
     "output_type": "display_data"
    }
   ],
   "source": [
    "experiment=CreateExperiment()"
   ]
  },
  {
   "cell_type": "markdown",
   "metadata": {},
   "source": [
    "### Declarar variables del líder\n"
   ]
  },
  {
   "cell_type": "code",
   "execution_count": 3,
   "metadata": {},
   "outputs": [
    {
     "data": {
      "text/latex": [
       "$$ \\begin{equation}\n",
       "\\left[\n",
       "\\begin{array}{c}\n",
       "x \\\\\n",
       "\\end{array}\n",
       "\\right]\n",
       "\\end{equation}\n",
       " $$"
      ],
      "text/plain": [
       "1-element Vector{Num}:\n",
       " x"
      ]
     },
     "metadata": {},
     "output_type": "display_data"
    }
   ],
   "source": [
    "@leader_vars experiment x"
   ]
  },
  {
   "cell_type": "markdown",
   "metadata": {},
   "source": [
    "### Declarar Variables del Follower"
   ]
  },
  {
   "cell_type": "code",
   "execution_count": 4,
   "metadata": {},
   "outputs": [
    {
     "data": {
      "text/latex": [
       "$$ \\begin{equation}\n",
       "\\left[\n",
       "\\begin{array}{c}\n",
       "y \\\\\n",
       "\\end{array}\n",
       "\\right]\n",
       "\\end{equation}\n",
       " $$"
      ],
      "text/plain": [
       "1-element Vector{Num}:\n",
       " y"
      ]
     },
     "metadata": {},
     "output_type": "display_data"
    }
   ],
   "source": [
    "@follower_vars experiment y"
   ]
  },
  {
   "cell_type": "markdown",
   "metadata": {},
   "source": [
    "### Declarar Función Objetivo del Líder"
   ]
  },
  {
   "cell_type": "code",
   "execution_count": 5,
   "metadata": {},
   "outputs": [
    {
     "data": {
      "text/latex": [
       "$$ \\begin{equation}\n",
       "x + y\n",
       "\\end{equation}\n",
       " $$"
      ],
      "text/plain": [
       "x + y"
      ]
     },
     "metadata": {},
     "output_type": "display_data"
    }
   ],
   "source": [
    "SetLeaderFunction(experiment,x+y)"
   ]
  },
  {
   "cell_type": "markdown",
   "metadata": {},
   "source": [
    "## Función Objetivo del Follower"
   ]
  },
  {
   "cell_type": "code",
   "execution_count": 6,
   "metadata": {},
   "outputs": [
    {
     "data": {
      "text/latex": [
       "$$ \\begin{equation}\n",
       " - 5 x - y\n",
       "\\end{equation}\n",
       " $$"
      ],
      "text/plain": [
       "-5x - y"
      ]
     },
     "metadata": {},
     "output_type": "display_data"
    }
   ],
   "source": [
    "SetFollowerFunction(experiment,-5x-y)"
   ]
  },
  {
   "cell_type": "markdown",
   "metadata": {},
   "source": [
    "### Restricciones del Follower"
   ]
  },
  {
   "cell_type": "code",
   "execution_count": 7,
   "metadata": {},
   "outputs": [
    {
     "data": {
      "text/plain": [
       "1-element Vector{FollowerRestrictionProblem}:\n",
       " FollowerRestrictionProblem((-x - 0.5y) <= -2, J_0_LP_v, 0.13741459314737514, 0.720610243128108, 0.10954355282483784)"
      ]
     },
     "metadata": {},
     "output_type": "display_data"
    }
   ],
   "source": [
    "SetFollowerRestriction(experiment,-x-0.5y<=-2)"
   ]
  },
  {
   "cell_type": "code",
   "execution_count": 8,
   "metadata": {},
   "outputs": [
    {
     "data": {
      "text/plain": [
       "2-element Vector{FollowerRestrictionProblem}:\n",
       " FollowerRestrictionProblem((-x - 0.5y) <= -2, J_0_LP_v, 0.13741459314737514, 0.720610243128108, 0.10954355282483784)\n",
       " FollowerRestrictionProblem((-0.25x + y) <= 2, J_0_LP_v, 0.359975996077486, 0.5483608593781478, 0.0806678863420298)"
      ]
     },
     "metadata": {},
     "output_type": "display_data"
    }
   ],
   "source": [
    "SetFollowerRestriction(experiment,-0.25x+y<=2)"
   ]
  },
  {
   "cell_type": "code",
   "execution_count": 9,
   "metadata": {},
   "outputs": [
    {
     "data": {
      "text/plain": [
       "3-element Vector{FollowerRestrictionProblem}:\n",
       " FollowerRestrictionProblem((-x - 0.5y) <= -2, J_0_LP_v, 0.13741459314737514, 0.720610243128108, 0.10954355282483784)\n",
       " FollowerRestrictionProblem((-0.25x + y) <= 2, J_0_LP_v, 0.359975996077486, 0.5483608593781478, 0.0806678863420298)\n",
       " FollowerRestrictionProblem((x + 0.5y) <= 8, J_0_LP_v, 0.8293930825977598, 0.10615617940743892, 0.25283449195171626)"
      ]
     },
     "metadata": {},
     "output_type": "display_data"
    }
   ],
   "source": [
    "SetFollowerRestriction(experiment,x+0.5y<=8)"
   ]
  },
  {
   "cell_type": "code",
   "execution_count": 10,
   "metadata": {},
   "outputs": [
    {
     "data": {
      "text/plain": [
       "4-element Vector{FollowerRestrictionProblem}:\n",
       " FollowerRestrictionProblem((-x - 0.5y) <= -2, J_0_LP_v, 0.13741459314737514, 0.720610243128108, 0.10954355282483784)\n",
       " FollowerRestrictionProblem((-0.25x + y) <= 2, J_0_LP_v, 0.359975996077486, 0.5483608593781478, 0.0806678863420298)\n",
       " FollowerRestrictionProblem((x + 0.5y) <= 8, J_0_LP_v, 0.8293930825977598, 0.10615617940743892, 0.25283449195171626)\n",
       " FollowerRestrictionProblem((x - 2y) <= 2, J_0_LP_v, 0.2696768809129656, 0.026324008245458212, 0.6069861311743807)"
      ]
     },
     "metadata": {},
     "output_type": "display_data"
    }
   ],
   "source": [
    "SetFollowerRestriction(experiment,x-2y<=2)"
   ]
  },
  {
   "cell_type": "code",
   "execution_count": 11,
   "metadata": {},
   "outputs": [
    {
     "data": {
      "text/plain": [
       "5-element Vector{FollowerRestrictionProblem}:\n",
       " FollowerRestrictionProblem((-x - 0.5y) <= -2, J_0_LP_v, 0.13741459314737514, 0.720610243128108, 0.10954355282483784)\n",
       " FollowerRestrictionProblem((-0.25x + y) <= 2, J_0_LP_v, 0.359975996077486, 0.5483608593781478, 0.0806678863420298)\n",
       " FollowerRestrictionProblem((x + 0.5y) <= 8, J_0_LP_v, 0.8293930825977598, 0.10615617940743892, 0.25283449195171626)\n",
       " FollowerRestrictionProblem((x - 2y) <= 2, J_0_LP_v, 0.2696768809129656, 0.026324008245458212, 0.6069861311743807)\n",
       " FollowerRestrictionProblem((-y) <= 0, J_0_LP_v, 0.2552804535717432, 0.2387451915328862, 0.8023821270237314)"
      ]
     },
     "metadata": {},
     "output_type": "display_data"
    }
   ],
   "source": [
    "SetFollowerRestriction(experiment,-y<=0)"
   ]
  },
  {
   "cell_type": "markdown",
   "metadata": {},
   "source": [
    "### Poner el Punto Optimo"
   ]
  },
  {
   "cell_type": "code",
   "execution_count": 12,
   "metadata": {},
   "outputs": [
    {
     "data": {
      "text/plain": [
       "Dict{Any, Any} with 2 entries:\n",
       "  y => 3.12272\n",
       "  x => 1.5369"
      ]
     },
     "metadata": {},
     "output_type": "display_data"
    }
   ],
   "source": [
    "SetPoint(experiment,Dict(x=>0.88,y=>2.22))"
   ]
  },
  {
   "cell_type": "markdown",
   "metadata": {},
   "source": [
    "## Iniciar el Experimento\n"
   ]
  },
  {
   "cell_type": "code",
   "execution_count": 13,
   "metadata": {},
   "outputs": [
    {
     "name": "stdout",
     "output_type": "stream",
     "text": [
      "Va a retornar correctamente\n",
      "Leader's Objective Function:\n",
      "Variable names: [:y, :x]\n",
      "Expression (string): x + y\n",
      "Parsed expression: x + y\n",
      "Evaluation point: Dict{Any, Any}(\"x\" => 1.5368993917719562, \"y\" => 3.122722953754343)\n",
      "Evaluation value: 4.6596223455263\n",
      "Is leader function: true\n",
      "------------------------------\n",
      "Leader's Restrictions:\n",
      "------------------------------\n",
      "Follower's Objective Function:\n",
      "Variable names: [:y, :x]\n",
      "Expression (string): -5x - y\n",
      "Parsed expression: -5x - y\n",
      "Evaluation point: Dict{Any, Any}(\"x\" => 1.5368993917719562, \"y\" => 3.122722953754343)\n",
      "Evaluation value: -10.807219912614125\n",
      "Is leader function: false\n",
      "------------------------------\n",
      "Follower's Restrictions:\n",
      "++++++++++++++++++++++++++++++\n",
      "Restriction 1\n",
      "Variable names: [:y, :x]\n",
      "Expression (string): (-x - 0.5y) == -2\n",
      "Parsed expression: 2 - x - 0.437443348255138y\n",
      "Evaluation point: Dict{Any, Any}(\"x\" => 1.5368993917719562, \"y\" => 3.122722953754343)\n",
      "Evaluation value: -0.9029137763354305\n",
      "Additional constant: 0.9029137763354305\n",
      "Restriction type: LtEq\n",
      "Restriction set type: J_0_LP_v\n",
      "Value of miu: 0\n",
      "Value of beta: 0.13741459314737514\n",
      "Value of lambda: 0.720610243128108\n",
      "Value of gamma: 0.10954355282483784\n",
      "++++++++++++++++++++++++++++++\n",
      "++++++++++++++++++++++++++++++\n",
      "Restriction 2\n",
      "Variable names: [:y, :x]\n",
      "Expression (string): (-0.25x + y) == 2\n",
      "Parsed expression: -2 - 0.25x + 0.874886696510276y\n",
      "Evaluation point: Dict{Any, Any}(\"x\" => 1.5368993917719562, \"y\" => 3.122722953754343)\n",
      "Evaluation value: 0.3478039211839594\n",
      "Additional constant: -0.3478039211839594\n",
      "Restriction type: LtEq\n",
      "Restriction set type: J_0_LP_v\n",
      "Value of miu: 0\n",
      "Value of beta: 0.359975996077486\n",
      "Value of lambda: 0.5483608593781478\n",
      "Value of gamma: 0.0806678863420298\n",
      "++++++++++++++++++++++++++++++\n",
      "++++++++++++++++++++++++++++++\n",
      "Restriction 3\n",
      "Variable names: [:y, :x]\n",
      "Expression (string): (x + 0.5y) == 8\n",
      "Parsed expression: -8 + x + 0.437443348255138y\n",
      "Evaluation point: Dict{Any, Any}(\"x\" => 1.5368993917719562, \"y\" => 3.122722953754343)\n",
      "Evaluation value: -5.0970862236645695\n",
      "Additional constant: 5.0970862236645695\n",
      "Restriction type: LtEq\n",
      "Restriction set type: J_0_LP_v\n",
      "Value of miu: 0\n",
      "Value of beta: 0.8293930825977598\n",
      "Value of lambda: 0.10615617940743892\n",
      "Value of gamma: 0.25283449195171626\n",
      "++++++++++++++++++++++++++++++\n",
      "++++++++++++++++++++++++++++++\n",
      "Restriction 4\n",
      "Variable names: [:y, :x]\n",
      "Expression (string): (x - 2y) == 2\n",
      "Parsed expression: -2 + x - 1.749773393020552y\n",
      "Evaluation point: Dict{Any, Any}(\"x\" => 1.5368993917719562, \"y\" => 3.122722953754343)\n",
      "Evaluation value: -5.927158146481941\n",
      "Additional constant: 5.927158146481941\n",
      "Restriction type: LtEq\n",
      "Restriction set type: J_0_LP_v\n",
      "Value of miu: 0\n",
      "Value of beta: 0.2696768809129656\n",
      "Value of lambda: 0.026324008245458212\n",
      "Value of gamma: 0.6069861311743807\n",
      "++++++++++++++++++++++++++++++\n",
      "++++++++++++++++++++++++++++++\n",
      "Restriction 5\n",
      "Variable names: [:y]\n",
      "Expression (string): (-y) == 0\n",
      "Parsed expression: -0.874886696510276y\n",
      "Evaluation point: Dict{Any, Any}(\"x\" => 1.5368993917719562, \"y\" => 3.122722953754343)\n",
      "Evaluation value: -2.7320287691269485\n",
      "Additional constant: 2.7320287691269485\n",
      "Restriction type: LtEq\n",
      "Restriction set type: J_0_LP_v\n",
      "Value of miu: 0\n",
      "Value of beta: 0.2552804535717432\n",
      "Value of lambda: 0.2387451915328862\n",
      "Value of gamma: 0.8023821270237314\n",
      "++++++++++++++++++++++++++++++\n",
      "------------------------------\n",
      "Evaluation Point:\n",
      "Dict{Any, Any}(\"x\" => 1.5368993917719562, \"y\" => 3.122722953754343)\n",
      "------------------------------\n",
      "_\n",
      "\n",
      "Num[-1.8716613713439787, -0.9224246937336302]\n",
      "Va a retornar correctamente\n",
      "Leader's Objective Function:\n",
      "Variable names: [:y, :x]\n",
      "Expression (string): x + y\n",
      "Parsed expression: x + y\n",
      "Evaluation point: Dict{Any, Any}(\"x\" => 1.5368993917719562, \"y\" => 3.122722953754343)\n",
      "Evaluation value: 4.6596223455263\n",
      "Is leader function: true\n",
      "------------------------------\n",
      "Leader's Restrictions:\n",
      "------------------------------\n",
      "Follower's Objective Function:\n",
      "Variable names: [:y, :x]\n",
      "Expression (string): -5x - y\n",
      "Parsed expression: -5x - y\n",
      "Evaluation point: Dict{Any, Any}(\"x\" => 1.5368993917719562, \"y\" => 3.122722953754343)\n",
      "Evaluation value: -10.807219912614125\n",
      "Is leader function: false\n",
      "------------------------------\n",
      "Follower's Restrictions:\n",
      "++++++++++++++++++++++++++++++\n",
      "Restriction 1\n",
      "Variable names: [:y, :x]\n",
      "Expression (string): (-x - 0.5y) == -2\n",
      "Parsed expression: 2 - x - 0.5y\n",
      "Evaluation point: Dict{Any, Any}(\"x\" => 1.5368993917719562, \"y\" => 3.122722953754343)\n",
      "Evaluation value: -1.0982608686491278\n",
      "Additional constant: 1.0982608686491278\n",
      "Restriction type: LtEq\n",
      "Restriction set type: J_0_LP_v\n",
      "Value of miu: 0\n",
      "Value of beta: 0.13741459314737514\n",
      "Value of lambda: 0.720610243128108\n",
      "Value of gamma: 0.10954355282483784\n",
      "++++++++++++++++++++++++++++++\n",
      "++++++++++++++++++++++++++++++\n",
      "Restriction 2\n",
      "Variable names: [:y, :x]\n",
      "Expression (string): (-0.25x + y) == 2\n",
      "Parsed expression: -2 - 0.25x + y\n",
      "Evaluation point: Dict{Any, Any}(\"x\" => 1.5368993917719562, \"y\" => 3.122722953754343)\n",
      "Evaluation value: 0.738498105811354\n",
      "Additional constant: -0.738498105811354\n",
      "Restriction type: LtEq\n",
      "Restriction set type: J_0_LP_v\n",
      "Value of miu: 0\n",
      "Value of beta: 0.359975996077486\n",
      "Value of lambda: 0.5483608593781478\n",
      "Value of gamma: 0.0806678863420298\n",
      "++++++++++++++++++++++++++++++\n",
      "++++++++++++++++++++++++++++++\n",
      "Restriction 3\n",
      "Variable names: [:y, :x]\n",
      "Expression (string): (x + 0.5y) == 8\n",
      "Parsed expression: -8 + x + 0.5y\n",
      "Evaluation point: Dict{Any, Any}(\"x\" => 1.5368993917719562, \"y\" => 3.122722953754343)\n",
      "Evaluation value: -4.9017391313508725\n",
      "Additional constant: 4.9017391313508725\n",
      "Restriction type: LtEq\n",
      "Restriction set type: J_0_LP_v\n",
      "Value of miu: 0\n",
      "Value of beta: 0.8293930825977598\n",
      "Value of lambda: 0.10615617940743892\n",
      "Value of gamma: 0.25283449195171626\n",
      "++++++++++++++++++++++++++++++\n",
      "++++++++++++++++++++++++++++++\n",
      "Restriction 4\n",
      "Variable names: [:y, :x]\n",
      "Expression (string): (x - 2y) == 2\n",
      "Parsed expression: -2 + x - 2y\n",
      "Evaluation point: Dict{Any, Any}(\"x\" => 1.5368993917719562, \"y\" => 3.122722953754343)\n",
      "Evaluation value: -6.708546515736729\n",
      "Additional constant: 6.708546515736729\n",
      "Restriction type: LtEq\n",
      "Restriction set type: J_0_LP_v\n",
      "Value of miu: 0\n",
      "Value of beta: 0.2696768809129656\n",
      "Value of lambda: 0.026324008245458212\n",
      "Value of gamma: 0.6069861311743807\n",
      "++++++++++++++++++++++++++++++\n",
      "++++++++++++++++++++++++++++++\n",
      "Restriction 5\n",
      "Variable names: [:y]\n",
      "Expression (string): (-y) == 0\n",
      "Parsed expression: -y\n",
      "Evaluation point: Dict{Any, Any}(\"x\" => 1.5368993917719562, \"y\" => 3.122722953754343)\n",
      "Evaluation value: -3.122722953754343\n",
      "Additional constant: 3.122722953754343\n",
      "Restriction type: LtEq\n",
      "Restriction set type: J_0_LP_v\n",
      "Value of miu: 0\n",
      "Value of beta: 0.2552804535717432\n",
      "Value of lambda: 0.2387451915328862\n",
      "Value of gamma: 0.8023821270237314\n",
      "++++++++++++++++++++++++++++++\n",
      "------------------------------\n",
      "Evaluation Point:\n",
      "Dict{Any, Any}(\"x\" => 1.5368993917719562, \"y\" => 3.122722953754343)\n",
      "------------------------------\n",
      "_\n",
      "\n",
      "Num[-1.8716613713439787, -0.9113310254050039]\n",
      "Se va a crear el DataFrame\n",
      "Se va a crear el DataFrame\n",
      "Se va a crear el DataFrame\n",
      "Experimento Completado\n"
     ]
    }
   ],
   "source": [
    "RunExperiment(experiment,\"ex9.1.9(Linear)\")"
   ]
  }
 ],
 "metadata": {
  "kernelspec": {
   "display_name": "Julia 1.10.5",
   "language": "julia",
   "name": "julia-1.10"
  },
  "language_info": {
   "file_extension": ".jl",
   "mimetype": "application/julia",
   "name": "julia",
   "version": "1.10.5"
  }
 },
 "nbformat": 4,
 "nbformat_minor": 2
}
