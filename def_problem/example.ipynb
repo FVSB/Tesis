{
 "cells": [
  {
   "cell_type": "markdown",
   "metadata": {},
   "source": [
    "# Importamos los módulos correspondientes"
   ]
  },
  {
   "cell_type": "code",
   "execution_count": 1,
   "metadata": {},
   "outputs": [
    {
     "ename": "LoadError",
     "evalue": "LoadError: SystemError: opening file \"/home/fvsb/projects/Tesis/def_problem/restriction_types.jl\": No such file or directory\nin expression starting at /home/fvsb/projects/Tesis/def_problem/fix_restrictions.jl:8",
     "output_type": "error",
     "traceback": [
      "LoadError: SystemError: opening file \"/home/fvsb/projects/Tesis/def_problem/restriction_types.jl\": No such file or directory\n",
      "in expression starting at /home/fvsb/projects/Tesis/def_problem/fix_restrictions.jl:8\n",
      "\n",
      "Stacktrace:\n",
      "  [1] systemerror(p::String, errno::Int32; extrainfo::Nothing)\n",
      "    @ Base ./error.jl:176\n",
      "  [2] systemerror\n",
      "    @ ./error.jl:175 [inlined]\n",
      "  [3] open(fname::String; lock::Bool, read::Nothing, write::Nothing, create::Nothing, truncate::Nothing, append::Nothing)\n",
      "    @ Base ./iostream.jl:293\n",
      "  [4] open\n",
      "    @ ./iostream.jl:275 [inlined]\n",
      "  [5] open(f::Base.var\"#433#434\"{String}, args::String; kwargs::@Kwargs{})\n",
      "    @ Base ./io.jl:394\n",
      "  [6] open\n",
      "    @ ./io.jl:393 [inlined]\n",
      "  [7] read\n",
      "    @ ./io.jl:486 [inlined]\n",
      "  [8] _include(mapexpr::Function, mod::Module, _path::String)\n",
      "    @ Base ./loading.jl:2132\n",
      "  [9] include(fname::String)\n",
      "    @ Base.MainInclude ./client.jl:489\n",
      " [10] top-level scope\n",
      "    @ ~/projects/Tesis/def_problem/fix_restrictions.jl:8"
     ]
    }
   ],
   "source": [
    "#include(\"solve.jl\")\n",
    "include(\"fix_restrictions.jl\")\n",
    "include(\"solver.jl\")"
   ]
  },
  {
   "cell_type": "code",
   "execution_count": 2,
   "metadata": {},
   "outputs": [],
   "source": [
    "\n",
    "using Symbolics\n",
    "\n"
   ]
  },
  {
   "cell_type": "markdown",
   "metadata": {},
   "source": [
    "#### Indicar las variables del lider"
   ]
  },
  {
   "cell_type": "code",
   "execution_count": 3,
   "metadata": {},
   "outputs": [
    {
     "data": {
      "text/plain": [
       "2-element Vector{String}:\n",
       " \"x_1\"\n",
       " \"x_2\""
      ]
     },
     "metadata": {},
     "output_type": "display_data"
    }
   ],
   "source": [
    "lider_vars=[\"x_1\",\"x_2\"]"
   ]
  },
  {
   "cell_type": "markdown",
   "metadata": {},
   "source": [
    "#### Indicar las variables del follower"
   ]
  },
  {
   "cell_type": "code",
   "execution_count": 4,
   "metadata": {},
   "outputs": [
    {
     "data": {
      "text/plain": [
       "2-element Vector{String}:\n",
       " \"y_1\"\n",
       " \"y_2\""
      ]
     },
     "metadata": {},
     "output_type": "display_data"
    }
   ],
   "source": [
    "follower_vars=[\"y_1\",\"y_2\"]"
   ]
  },
  {
   "cell_type": "code",
   "execution_count": 5,
   "metadata": {},
   "outputs": [
    {
     "data": {
      "text/latex": [
       "$$ \\begin{equation}\n",
       "\\left[\n",
       "\\begin{array}{c}\n",
       "y_{1} \\\\\n",
       "y_{2} \\\\\n",
       "\\end{array}\n",
       "\\right]\n",
       "\\end{equation}\n",
       " $$"
      ],
      "text/plain": [
       "2-element Vector{Num}:\n",
       " y_1\n",
       " y_2"
      ]
     },
     "metadata": {},
     "output_type": "display_data"
    }
   ],
   "source": [
    "follower_vars_symbolic=map(convert_Symbol_to_symbolic_num,follower_vars)"
   ]
  },
  {
   "cell_type": "markdown",
   "metadata": {},
   "source": [
    "Concatenar las variables de los dos niveles"
   ]
  },
  {
   "cell_type": "code",
   "execution_count": 6,
   "metadata": {},
   "outputs": [
    {
     "data": {
      "text/plain": [
       "4-element Vector{String}:\n",
       " \"x_1\"\n",
       " \"x_2\"\n",
       " \"y_1\"\n",
       " \"y_2\""
      ]
     },
     "metadata": {},
     "output_type": "display_data"
    }
   ],
   "source": [
    "problem_vars_str=vcat(lider_vars,follower_vars)"
   ]
  },
  {
   "cell_type": "markdown",
   "metadata": {},
   "source": [
    "Convertir a variables de Symbolics"
   ]
  },
  {
   "cell_type": "code",
   "execution_count": 7,
   "metadata": {},
   "outputs": [
    {
     "data": {
      "text/latex": [
       "$$ \\begin{equation}\n",
       "\\left[\n",
       "\\begin{array}{c}\n",
       "x_{1} \\\\\n",
       "x_{2} \\\\\n",
       "y_{1} \\\\\n",
       "y_{2} \\\\\n",
       "\\end{array}\n",
       "\\right]\n",
       "\\end{equation}\n",
       " $$"
      ],
      "text/plain": [
       "4-element Vector{Num}:\n",
       " x_1\n",
       " x_2\n",
       " y_1\n",
       " y_2"
      ]
     },
     "metadata": {},
     "output_type": "display_data"
    }
   ],
   "source": [
    "problem_vars=map(convert_Symbol_to_symbolic_num,problem_vars_str)"
   ]
  },
  {
   "cell_type": "markdown",
   "metadata": {},
   "source": [
    "## Declarar la funcion del lider"
   ]
  },
  {
   "cell_type": "code",
   "execution_count": 8,
   "metadata": {},
   "outputs": [
    {
     "data": {
      "text/plain": [
       "\"((x_1^2)*(y_1^2)*(y_2))+x_2\""
      ]
     },
     "metadata": {},
     "output_type": "display_data"
    }
   ],
   "source": [
    "leader_func_str::String=\"((x_1^2)*(y_1^2)*(y_2))+x_2\""
   ]
  },
  {
   "cell_type": "markdown",
   "metadata": {},
   "source": [
    "#### Definir las restricciones del lider"
   ]
  },
  {
   "cell_type": "code",
   "execution_count": 9,
   "metadata": {},
   "outputs": [
    {
     "ename": "UndefVarError",
     "evalue": "UndefVarError: `J_0_g` not defined",
     "output_type": "error",
     "traceback": [
      "UndefVarError: `J_0_g` not defined\n"
     ]
    }
   ],
   "source": [
    "J_0_g"
   ]
  },
  {
   "cell_type": "markdown",
   "metadata": {},
   "source": [
    "miu tendra un valor de 0.3"
   ]
  },
  {
   "cell_type": "code",
   "execution_count": 10,
   "metadata": {},
   "outputs": [
    {
     "ename": "UndefVarError",
     "evalue": "UndefVarError: `Def_Restriction_init` not defined",
     "output_type": "error",
     "traceback": [
      "UndefVarError: `Def_Restriction_init` not defined\n",
      "\n",
      "Stacktrace:\n",
      " [1] top-level scope\n",
      "   @ ~/projects/Tesis/def_problem/jl_notebook_cell_df34fa98e69747e1a8f8a730347b8e2f_X23sdnNjb2RlLXJlbW90ZQ==.jl:1"
     ]
    }
   ],
   "source": [
    "g_1=Def_Restriction_init(\"x_1+y_2-y_1==9\",J_0_g,Eq,true,0.3,0,0,0)"
   ]
  },
  {
   "cell_type": "markdown",
   "metadata": {},
   "source": [
    "Crear un vector con las $g_s$"
   ]
  },
  {
   "cell_type": "code",
   "execution_count": 11,
   "metadata": {},
   "outputs": [
    {
     "ename": "UndefVarError",
     "evalue": "UndefVarError: `g_1` not defined",
     "output_type": "error",
     "traceback": [
      "UndefVarError: `g_1` not defined\n",
      "\n",
      "Stacktrace:\n",
      " [1] top-level scope\n",
      "   @ ~/projects/Tesis/def_problem/jl_notebook_cell_df34fa98e69747e1a8f8a730347b8e2f_X25sdnNjb2RlLXJlbW90ZQ==.jl:1"
     ]
    }
   ],
   "source": [
    "g_s=[g_1]"
   ]
  },
  {
   "cell_type": "markdown",
   "metadata": {},
   "source": [
    "## Definir el nivel inferior"
   ]
  },
  {
   "cell_type": "code",
   "execution_count": 12,
   "metadata": {},
   "outputs": [
    {
     "data": {
      "text/plain": [
       "\"((x_1^2)*(y_1^2)*(y_2))+x_2\""
      ]
     },
     "metadata": {},
     "output_type": "display_data"
    }
   ],
   "source": [
    "Follower_str_expr=\"((x_1^2)*(y_1^2)*(y_2))+x_2\""
   ]
  },
  {
   "cell_type": "markdown",
   "metadata": {},
   "source": [
    "#### Restricciones del follower"
   ]
  },
  {
   "cell_type": "markdown",
   "metadata": {},
   "source": [
    "$\\beta = 1$,  $\\lambda=0$"
   ]
  },
  {
   "cell_type": "code",
   "execution_count": 13,
   "metadata": {},
   "outputs": [
    {
     "ename": "UndefVarError",
     "evalue": "UndefVarError: `Def_Restriction_init` not defined",
     "output_type": "error",
     "traceback": [
      "UndefVarError: `Def_Restriction_init` not defined\n",
      "\n",
      "Stacktrace:\n",
      " [1] top-level scope\n",
      "   @ ~/projects/Tesis/def_problem/jl_notebook_cell_df34fa98e69747e1a8f8a730347b8e2f_X33sdnNjb2RlLXJlbW90ZQ==.jl:1"
     ]
    }
   ],
   "source": [
    "v_1=Def_Restriction_init(\"((x_1^2)*(y_1^2))+x_2==0\",J_Ne_L0_v,Lt,false,0,1,0,1)"
   ]
  },
  {
   "cell_type": "markdown",
   "metadata": {},
   "source": [
    "$\\beta = 0.5 $, $\\lambda = 1$\n"
   ]
  },
  {
   "cell_type": "code",
   "execution_count": 14,
   "metadata": {},
   "outputs": [
    {
     "ename": "UndefVarError",
     "evalue": "UndefVarError: `Def_Restriction_init` not defined",
     "output_type": "error",
     "traceback": [
      "UndefVarError: `Def_Restriction_init` not defined\n",
      "\n",
      "Stacktrace:\n",
      " [1] top-level scope\n",
      "   @ ~/projects/Tesis/def_problem/jl_notebook_cell_df34fa98e69747e1a8f8a730347b8e2f_X35sdnNjb2RlLXJlbW90ZQ==.jl:1"
     ]
    }
   ],
   "source": [
    "v_2=Def_Restriction_init(\"((x_1^2)*(y_1^2)*(y_2))+x_2==0\",J_0_LP_v,Lt,false,0,0.5,1,1)"
   ]
  },
  {
   "cell_type": "markdown",
   "metadata": {},
   "source": [
    "Agrupar las $v_s$ en un vector"
   ]
  },
  {
   "cell_type": "code",
   "execution_count": 15,
   "metadata": {},
   "outputs": [
    {
     "ename": "UndefVarError",
     "evalue": "UndefVarError: `v_1` not defined",
     "output_type": "error",
     "traceback": [
      "UndefVarError: `v_1` not defined\n",
      "\n",
      "Stacktrace:\n",
      " [1] top-level scope\n",
      "   @ ~/projects/Tesis/def_problem/jl_notebook_cell_df34fa98e69747e1a8f8a730347b8e2f_X40sdnNjb2RlLXJlbW90ZQ==.jl:1"
     ]
    }
   ],
   "source": [
    "v_s=[v_1,v_2]"
   ]
  },
  {
   "cell_type": "markdown",
   "metadata": {},
   "source": [
    "Declarar $\\alpha$ (Dimension de $y_s$)"
   ]
  },
  {
   "cell_type": "code",
   "execution_count": 16,
   "metadata": {},
   "outputs": [
    {
     "data": {
      "text/plain": [
       "2-element Vector{Int64}:\n",
       " 1\n",
       " 2"
      ]
     },
     "metadata": {},
     "output_type": "display_data"
    }
   ],
   "source": [
    "alpha=[1,2]"
   ]
  },
  {
   "cell_type": "markdown",
   "metadata": {},
   "source": [
    "## Ajustar condiciones de factibilidad "
   ]
  },
  {
   "cell_type": "markdown",
   "metadata": {},
   "source": [
    "#### Punto: $x_1 = 1$ $x_2 = 1 $ $y_1=1$ $y_2=1$"
   ]
  },
  {
   "cell_type": "code",
   "execution_count": 17,
   "metadata": {},
   "outputs": [
    {
     "data": {
      "text/plain": [
       "Dict{String, Int64} with 4 entries:\n",
       "  \"x_1\" => 1\n",
       "  \"x_2\" => 1\n",
       "  \"y_2\" => 1\n",
       "  \"y_1\" => 1"
      ]
     },
     "metadata": {},
     "output_type": "display_data"
    }
   ],
   "source": [
    "point=Dict(\"x_1\"=>1,\"x_2\"=>1,\"y_1\"=>1,\"y_2\"=>1)"
   ]
  },
  {
   "cell_type": "markdown",
   "metadata": {},
   "source": [
    "Satisfacer el punto "
   ]
  },
  {
   "cell_type": "markdown",
   "metadata": {},
   "source": [
    "A Fix_Restrictions se le da de entrada:\n",
    "- la funcion del lider como string\n",
    "- un vector que contenga las Def_Restrictions del lider\n",
    "- la funcion del follower como string\n",
    "- un vector con las Def_Restrictions del follower\n",
    "- un diccionario con el punto\n",
    "- un vector con en string el nombre de las variables del lider\n",
    "- un vector con en string el nombre de las variables del follower\n",
    "- el vector alpha\n",
    "- un booleano para saber si alfa es identicamente igual al cero o no (True si alpha es el vector nulo False en otro caso)"
   ]
  },
  {
   "cell_type": "code",
   "execution_count": 18,
   "metadata": {},
   "outputs": [
    {
     "ename": "UndefVarError",
     "evalue": "UndefVarError: `Fix_Restrictions` not defined",
     "output_type": "error",
     "traceback": [
      "UndefVarError: `Fix_Restrictions` not defined\n",
      "\n",
      "Stacktrace:\n",
      " [1] top-level scope\n",
      "   @ ~/projects/Tesis/def_problem/jl_notebook_cell_df34fa98e69747e1a8f8a730347b8e2f_X51sdnNjb2RlLXJlbW90ZQ==.jl:1"
     ]
    }
   ],
   "source": [
    "opt_problem=Fix_Restrictions(leader_func_str,g_s,Follower_str_expr,v_s,point,lider_vars,follower_vars,alpha,false)"
   ]
  },
  {
   "cell_type": "markdown",
   "metadata": {},
   "source": [
    "## Hallar vector $BF$"
   ]
  },
  {
   "cell_type": "markdown",
   "metadata": {},
   "source": [
    " Make_BF recibe el problema de optimizacion satisfacible en el punto, las variables del lider y las del follower ademas del vector alpha y el indice de cual es la vi seleccionada"
   ]
  },
  {
   "cell_type": "code",
   "execution_count": 19,
   "metadata": {},
   "outputs": [
    {
     "ename": "UndefVarError",
     "evalue": "UndefVarError: `Make_BF` not defined",
     "output_type": "error",
     "traceback": [
      "UndefVarError: `Make_BF` not defined\n",
      "\n",
      "Stacktrace:\n",
      " [1] top-level scope\n",
      "   @ ~/projects/Tesis/def_problem/jl_notebook_cell_df34fa98e69747e1a8f8a730347b8e2f_X54sdnNjb2RlLXJlbW90ZQ==.jl:1"
     ]
    }
   ],
   "source": [
    "BF_1=Make_BF(opt_problem,lider_vars,follower_vars,alpha)"
   ]
  },
  {
   "cell_type": "markdown",
   "metadata": {},
   "source": [
    "### Ejemplo si $\\alpha$ fuera el vector nulo \n"
   ]
  },
  {
   "cell_type": "code",
   "execution_count": 20,
   "metadata": {},
   "outputs": [
    {
     "ename": "UndefVarError",
     "evalue": "UndefVarError: `Fix_Restrictions` not defined",
     "output_type": "error",
     "traceback": [
      "UndefVarError: `Fix_Restrictions` not defined\n",
      "\n",
      "Stacktrace:\n",
      " [1] top-level scope\n",
      "   @ ~/projects/Tesis/def_problem/jl_notebook_cell_df34fa98e69747e1a8f8a730347b8e2f_X56sdnNjb2RlLXJlbW90ZQ==.jl:1"
     ]
    }
   ],
   "source": [
    "opt_problem_2=Fix_Restrictions(leader_func_str,g_s,Follower_str_expr,v_s,point,lider_vars,follower_vars,alpha,true)"
   ]
  },
  {
   "cell_type": "markdown",
   "metadata": {},
   "source": [
    "### Calcular el vector BF con esta opcion "
   ]
  },
  {
   "cell_type": "code",
   "execution_count": 21,
   "metadata": {},
   "outputs": [
    {
     "ename": "UndefVarError",
     "evalue": "UndefVarError: `Make_BF` not defined",
     "output_type": "error",
     "traceback": [
      "UndefVarError: `Make_BF` not defined\n",
      "\n",
      "Stacktrace:\n",
      " [1] top-level scope\n",
      "   @ ~/projects/Tesis/def_problem/jl_notebook_cell_df34fa98e69747e1a8f8a730347b8e2f_X61sdnNjb2RlLXJlbW90ZQ==.jl:1"
     ]
    }
   ],
   "source": [
    "BF_2=Make_BF(opt_problem_2,lider_vars,follower_vars,alpha)"
   ]
  },
  {
   "cell_type": "code",
   "execution_count": 22,
   "metadata": {},
   "outputs": [
    {
     "ename": "UndefVarError",
     "evalue": "UndefVarError: `BF_1` not defined",
     "output_type": "error",
     "traceback": [
      "UndefVarError: `BF_1` not defined\n",
      "\n",
      "Stacktrace:\n",
      " [1] top-level scope\n",
      "   @ ~/projects/Tesis/def_problem/jl_notebook_cell_df34fa98e69747e1a8f8a730347b8e2f_X62sdnNjb2RlLXJlbW90ZQ==.jl:1"
     ]
    }
   ],
   "source": [
    "BF_1==BF_2"
   ]
  },
  {
   "cell_type": "markdown",
   "metadata": {},
   "source": [
    "# Para mayor claridad haremos el proceso por partes"
   ]
  },
  {
   "cell_type": "markdown",
   "metadata": {},
   "source": [
    "### Hallar grad xy F"
   ]
  },
  {
   "cell_type": "code",
   "execution_count": 23,
   "metadata": {},
   "outputs": [
    {
     "ename": "UndefVarError",
     "evalue": "UndefVarError: `calculate_diff_F_xy` not defined",
     "output_type": "error",
     "traceback": [
      "UndefVarError: `calculate_diff_F_xy` not defined\n",
      "\n",
      "Stacktrace:\n",
      " [1] top-level scope\n",
      "   @ ~/projects/Tesis/def_problem/jl_notebook_cell_df34fa98e69747e1a8f8a730347b8e2f_X65sdnNjb2RlLXJlbW90ZQ==.jl:2"
     ]
    }
   ],
   "source": [
    "# Calcular y evaluar la F\n",
    "f_grad=calculate_diff_F_xy(opt_problem,problem_vars)"
   ]
  },
  {
   "cell_type": "markdown",
   "metadata": {},
   "source": [
    "## Hallar sumatoria de miu_j * (grad xy Jo_g)"
   ]
  },
  {
   "cell_type": "code",
   "execution_count": 24,
   "metadata": {},
   "outputs": [
    {
     "ename": "UndefVarError",
     "evalue": "UndefVarError: `calculate_g_s_active_mui_factor` not defined",
     "output_type": "error",
     "traceback": [
      "UndefVarError: `calculate_g_s_active_mui_factor` not defined\n",
      "\n",
      "Stacktrace:\n",
      " [1] top-level scope\n",
      "   @ ~/projects/Tesis/def_problem/jl_notebook_cell_df34fa98e69747e1a8f8a730347b8e2f_Y100sdnNjb2RlLXJlbW90ZQ==.jl:2"
     ]
    }
   ],
   "source": [
    "# Calcular la sumatoria de los gradientes de las gs mult por su miu \n",
    "g_s_sum=calculate_g_s_active_mui_factor(opt_problem,problem_vars)"
   ]
  },
  {
   "cell_type": "markdown",
   "metadata": {},
   "source": [
    "Hallar grad xy $f$ + [ grad xy grad y Vi * li] * $\\alpha$"
   ]
  },
  {
   "cell_type": "markdown",
   "metadata": {},
   "source": [
    "Para el $v_i = 2$"
   ]
  },
  {
   "cell_type": "code",
   "execution_count": 25,
   "metadata": {},
   "outputs": [
    {
     "ename": "UndefVarError",
     "evalue": "UndefVarError: `calculate_select_vi_der_xy_of_x_dot_lambda_alpha` not defined",
     "output_type": "error",
     "traceback": [
      "UndefVarError: `calculate_select_vi_der_xy_of_x_dot_lambda_alpha` not defined\n",
      "\n",
      "Stacktrace:\n",
      " [1] top-level scope\n",
      "   @ ~/projects/Tesis/def_problem/jl_notebook_cell_df34fa98e69747e1a8f8a730347b8e2f_Y103sdnNjb2RlLXJlbW90ZQ==.jl:2"
     ]
    }
   ],
   "source": [
    "# Calcular f der por y y despues por xy multiplicado por su lambda y despues por alpha\n",
    "vi_val=calculate_select_vi_der_xy_of_x_dot_lambda_alpha(opt_problem,problem_vars,follower_vars_symbolic,alpha)"
   ]
  },
  {
   "cell_type": "markdown",
   "metadata": {},
   "source": [
    "Hallar sumatoria de los $V_j$ por $B_j$"
   ]
  },
  {
   "cell_type": "code",
   "execution_count": 26,
   "metadata": {},
   "outputs": [
    {
     "ename": "UndefVarError",
     "evalue": "UndefVarError: `calculate_sum_vj_bj` not defined",
     "output_type": "error",
     "traceback": [
      "UndefVarError: `calculate_sum_vj_bj` not defined\n",
      "\n",
      "Stacktrace:\n",
      " [1] top-level scope\n",
      "   @ ~/projects/Tesis/def_problem/jl_notebook_cell_df34fa98e69747e1a8f8a730347b8e2f_Y105sdnNjb2RlLXJlbW90ZQ==.jl:2"
     ]
    }
   ],
   "source": [
    "# Calcular la sumatoria de vector de vj \n",
    "vj_bj_sum=calculate_sum_vj_bj(opt_problem,problem_vars)"
   ]
  },
  {
   "cell_type": "markdown",
   "metadata": {},
   "source": [
    "Sumar todo y devolver su contrario"
   ]
  },
  {
   "cell_type": "code",
   "execution_count": 27,
   "metadata": {},
   "outputs": [
    {
     "ename": "UndefVarError",
     "evalue": "UndefVarError: `f_grad` not defined",
     "output_type": "error",
     "traceback": [
      "UndefVarError: `f_grad` not defined\n",
      "\n",
      "Stacktrace:\n",
      " [1] top-level scope\n",
      "   @ ~/projects/Tesis/def_problem/jl_notebook_cell_df34fa98e69747e1a8f8a730347b8e2f_Y110sdnNjb2RlLXJlbW90ZQ==.jl:1"
     ]
    }
   ],
   "source": [
    "BF_3=- (f_grad+g_s_sum+vi_val+vj_bj_sum)"
   ]
  },
  {
   "cell_type": "code",
   "execution_count": 28,
   "metadata": {},
   "outputs": [
    {
     "ename": "UndefVarError",
     "evalue": "UndefVarError: `BF_1` not defined",
     "output_type": "error",
     "traceback": [
      "UndefVarError: `BF_1` not defined\n",
      "\n",
      "Stacktrace:\n",
      " [1] top-level scope\n",
      "   @ ~/projects/Tesis/def_problem/jl_notebook_cell_df34fa98e69747e1a8f8a730347b8e2f_Y111sdnNjb2RlLXJlbW90ZQ==.jl:1"
     ]
    }
   ],
   "source": [
    "BF_1==BF_3"
   ]
  }
 ],
 "metadata": {
  "kernelspec": {
   "display_name": "Julia 1.10.4",
   "language": "julia",
   "name": "julia-1.10"
  },
  "language_info": {
   "file_extension": ".jl",
   "mimetype": "application/julia",
   "name": "julia",
   "version": "1.10.4"
  }
 },
 "nbformat": 4,
 "nbformat_minor": 2
}
