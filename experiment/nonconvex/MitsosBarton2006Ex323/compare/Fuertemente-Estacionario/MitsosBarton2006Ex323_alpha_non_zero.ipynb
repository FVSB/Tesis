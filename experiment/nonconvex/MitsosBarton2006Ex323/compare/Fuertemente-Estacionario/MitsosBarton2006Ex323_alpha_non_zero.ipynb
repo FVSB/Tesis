{
 "cells": [
  {
   "cell_type": "markdown",
   "metadata": {},
   "source": [
    "## Importaciones necesarias"
   ]
  },
  {
   "cell_type": "code",
   "execution_count": 1,
   "metadata": {},
   "outputs": [],
   "source": [
    "using JuMP, Ipopt, Complementarity"
   ]
  },
  {
   "cell_type": "markdown",
   "metadata": {},
   "source": [
    "# Crear el modelo"
   ]
  },
  {
   "cell_type": "code",
   "execution_count": 2,
   "metadata": {},
   "outputs": [
    {
     "data": {
      "text/plain": [
       "A JuMP Model\n",
       "├ solver: Ipopt\n",
       "├ objective_sense: FEASIBILITY_SENSE\n",
       "├ num_variables: 0\n",
       "├ num_constraints: 0\n",
       "└ Names registered in the model: none"
      ]
     },
     "metadata": {},
     "output_type": "display_data"
    }
   ],
   "source": [
    "# Crear el modelo\n",
    "model = Model(Ipopt.Optimizer)"
   ]
  },
  {
   "cell_type": "markdown",
   "metadata": {},
   "source": [
    "## Definir Variables\n"
   ]
  },
  {
   "cell_type": "code",
   "execution_count": 3,
   "metadata": {},
   "outputs": [
    {
     "data": {
      "text/plain": [
       "3-element Vector{VariableRef}:\n",
       " l[1]\n",
       " l[2]\n",
       " l[3]"
      ]
     },
     "metadata": {},
     "output_type": "display_data"
    }
   ],
   "source": [
    "# Nivel superior\n",
    "@variable(model,x)\n",
    "# Nivel Inferior\n",
    "@variable(model,y)\n",
    "# Complementariedad\n",
    "@variable(model,l[1:3])"
   ]
  },
  {
   "cell_type": "markdown",
   "metadata": {},
   "source": [
    "## Definir Objetivo\n"
   ]
  },
  {
   "cell_type": "code",
   "execution_count": 4,
   "metadata": {},
   "outputs": [
    {
     "data": {
      "text/latex": [
       "$ x^2 $"
      ],
      "text/plain": [
       "x²"
      ]
     },
     "metadata": {},
     "output_type": "display_data"
    }
   ],
   "source": [
    "@objective(model,Min,x^2)"
   ]
  },
  {
   "cell_type": "markdown",
   "metadata": {},
   "source": [
    "## Definir Restricciones\n"
   ]
  },
  {
   "cell_type": "code",
   "execution_count": 5,
   "metadata": {},
   "outputs": [
    {
     "ename": "AssertionError",
     "evalue": "AssertionError: expr.args[1] == :(==)",
     "output_type": "error",
     "traceback": [
      "AssertionError: expr.args[1] == :(==)\n",
      "\n",
      "Stacktrace:\n",
      " [1] _expr_to_constraint(expr::Expr)\n",
      "   @ JuMP C:\\Users\\dell\\.julia\\packages\\JuMP\\i68GU\\src\\nlp.jl:507\n",
      " [2] add_nonlinear_constraint(model::Model, ex::Expr)\n",
      "   @ JuMP C:\\Users\\dell\\.julia\\packages\\JuMP\\i68GU\\src\\nlp.jl:541\n",
      " [3] macro expansion\n",
      "   @ C:\\Users\\dell\\.julia\\packages\\JuMP\\i68GU\\src\\macros\\@NL.jl:326 [inlined]\n",
      " [4] top-level scope\n",
      "   @ d:\\GitHub\\Tesis\\experiment\\nonconvex\\MitsosBarton2006Ex323\\compare\\Fuertemente-Estacionario\\jl_notebook_cell_df34fa98e69747e1a8f8a730347b8e2f_X12sZmlsZQ==.jl:2"
     ]
    }
   ],
   "source": [
    "@NLconstraint(model,1+(-0.98l[1]+4.75l[2]+(l[3]*(2*y*(x-0.25))+3.01l[3]))==0) # Obj nivel inferior\n",
    "@NLconstraint(model,-1.19 + 3.01y + (-0.5 + x)*(y^2))<=0 )#vs"
   ]
  },
  {
   "cell_type": "code",
   "execution_count": 6,
   "metadata": {},
   "outputs": [
    {
     "data": {
      "text/plain": [
       "(-x <= -2.89, x <= 2.89, -9 x² + x - y <= -72.5789, -0.98 y <= -0.29, 4.75 y <= 2.19)"
      ]
     },
     "metadata": {},
     "output_type": "display_data"
    }
   ],
   "source": [
    "@constraints(model,begin\n",
    "2.89 - x<=0  #gs\n",
    "-2.89 + x<=0  #gs\n",
    "72.5789 + x - y - 9(x^2)<=0 #gs\n",
    "0.29 - 0.98y<=0  #vs\n",
    "-2.19 + 4.75y<=0 #vs\n",
    "\n",
    "end)"
   ]
  },
  {
   "cell_type": "markdown",
   "metadata": {},
   "source": [
    "## Definir variables Complementarias"
   ]
  },
  {
   "cell_type": "code",
   "execution_count": 7,
   "metadata": {},
   "outputs": [
    {
     "data": {
      "text/latex": [
       "$$ (sqrt(l[3] ^ {2.0} + (-(((-1.19 + 3.01 * y) + (-0.5 + x) * (y * y))) - 0.0) ^ {2.0} + 1.0e-8) - (l[3] + (-(((-1.19 + 3.01 * y) + (-0.5 + x) * (y * y))) - 0.0))) - 0.0 = 0 $$"
      ],
      "text/plain": [
       "(sqrt(l[3] ^ 2.0 + (-(((-1.19 + 3.01 * y) + (-0.5 + x) * (y * y))) - 0.0) ^ 2.0 + 1.0e-8) - (l[3] + (-(((-1.19 + 3.01 * y) + (-0.5 + x) * (y * y))) - 0.0))) - 0.0 == 0"
      ]
     },
     "metadata": {},
     "output_type": "display_data"
    }
   ],
   "source": [
    "@complements(model,0<=-(0.29 - 0.98),l[1]>=0)\n",
    "@complements(model,0<=-(-2.19 + 4.75y),l[2]>=0)\n",
    "@complements(model,0<=-(-1.19 + 3.01y + (-0.5 + x)*(y^2)),l[3]>=0)"
   ]
  },
  {
   "cell_type": "markdown",
   "metadata": {},
   "source": [
    "## Optimizar"
   ]
  },
  {
   "cell_type": "code",
   "execution_count": 8,
   "metadata": {},
   "outputs": [
    {
     "name": "stdout",
     "output_type": "stream",
     "text": [
      "\n",
      "******************************************************************************\n",
      "This program contains Ipopt, a library for large-scale nonlinear optimization.\n",
      " Ipopt is released as open source code under the Eclipse Public License (EPL).\n",
      "         For more information visit https://github.com/coin-or/Ipopt\n",
      "******************************************************************************\n",
      "\n",
      "This is Ipopt version 3.14.16, running with linear solver MUMPS 5.7.3.\n",
      "\n",
      "Number of nonzeros in equality constraint Jacobian...:       11\n",
      "Number of nonzeros in inequality constraint Jacobian.:       13\n",
      "Number of nonzeros in Lagrangian Hessian.............:       21\n",
      "\n",
      "Total number of variables............................:        5\n",
      "                     variables with only lower bounds:        0\n",
      "                variables with lower and upper bounds:        0\n",
      "                     variables with only upper bounds:        0\n",
      "Total number of equality constraints.................:        4\n",
      "Total number of inequality constraints...............:       11\n",
      "        inequality constraints with only lower bounds:        6\n",
      "   inequality constraints with lower and upper bounds:        0\n",
      "        inequality constraints with only upper bounds:        5\n",
      "\n",
      "iter    objective    inf_pr   inf_du lg(mu)  ||d||  lg(rg) alpha_du alpha_pr  ls\n",
      "   0  0.0000000e+00 7.26e+01 1.00e+00  -1.0 0.00e+00    -  0.00e+00 0.00e+00   0\n",
      "   1r 0.0000000e+00 7.26e+01 9.99e+02   1.9 0.00e+00    -  0.00e+00 2.80e-10R  2\n",
      "   2r 3.5488238e-04 7.25e+01 9.97e+02   1.9 6.85e+02    -  1.22e-01 1.11e-03f  1\n",
      "   3r 3.2936175e-02 7.24e+01 8.43e+02   1.2 2.56e+00   2.0 6.17e-01 1.75e-01f  1\n",
      "   4r 9.5311817e-02 7.19e+01 1.17e+03   0.5 5.75e-01   3.3 7.62e-01 8.72e-01f  1\n",
      "   5r 1.0400775e-01 7.18e+01 1.16e+03   0.5 1.41e+01    -  1.99e-01 7.70e-03f  1\n",
      "   6r 5.6694868e-01 6.79e+01 1.62e+03   0.5 1.04e+01    -  5.78e-01 2.20e-01f  1\n",
      "   7r 5.4831644e-01 6.81e+01 9.93e+02   0.5 1.52e+00   2.9 6.57e-01 4.98e-01f  1\n",
      "   8r 1.0680333e+00 6.37e+01 1.07e+03   0.5 4.50e+00   2.4 7.34e-01 1.00e+00f  1\n",
      "   9  1.1331224e+00 6.32e+01 2.00e+01  -1.0 6.65e+00    -  1.89e-03 8.75e-03h  1\n",
      "iter    objective    inf_pr   inf_du lg(mu)  ||d||  lg(rg) alpha_du alpha_pr  ls\n",
      "  10  1.1726171e+00 6.28e+01 1.03e+02  -1.0 7.69e+00    -  4.78e-02 5.15e-03h  1\n",
      "  11  1.1729773e+00 6.28e+01 1.50e+03  -1.0 8.45e+00    -  6.97e-04 4.69e-05h  1\n",
      "  12  1.1813075e+00 6.27e+01 3.56e+02  -1.0 2.60e+03    -  2.56e-07 2.66e-05f  1\n",
      "  13  2.3586826e+00 5.26e+01 2.78e+02  -1.0 2.66e+03    -  4.08e-05 3.06e-03h  1\n",
      "  14  2.3728945e+00 5.25e+01 1.50e+04  -1.0 3.93e+03    -  1.18e-03 3.09e-05h  1\n",
      "  15  2.4534139e+00 5.18e+01 3.44e+03  -1.0 4.29e+03    -  1.28e-06 1.59e-04h  1\n",
      "  16  8.2803374e+00 6.46e-01 5.71e+03  -1.0 4.38e+03    -  3.12e-03 8.04e-03h  1\n",
      "  17  8.3559716e+00 2.22e-01 7.74e+04  -1.0 9.94e+03    -  6.98e-03 6.67e-05h  1\n",
      "  18r 8.3559716e+00 2.22e-01 1.00e+03   1.7 0.00e+00    -  0.00e+00 4.06e-07R  2\n",
      "  19r 8.3522007e+00 2.25e-01 1.00e+03   1.7 4.48e+04    -  7.86e-02 9.91e-04f  1\n",
      "iter    objective    inf_pr   inf_du lg(mu)  ||d||  lg(rg) alpha_du alpha_pr  ls\n",
      "  20  8.3522022e+00 2.25e-01 5.03e+01  -1.0 3.14e+00    -  1.09e-02 4.04e-04h  1\n",
      "  21r 8.3522022e+00 2.25e-01 9.99e+02   0.2 0.00e+00    -  0.00e+00 4.98e-07R  4\n",
      "  22r 8.3567991e+00 2.24e-01 9.90e+02   0.2 8.70e+02    -  4.35e-02 6.80e-04f  1\n",
      "  23  8.3567044e+00 2.24e-01 1.14e+02  -1.0 6.08e+00    -  1.14e-02 1.72e-04h  1\n",
      "  24r 8.3567044e+00 2.24e-01 9.99e+02   0.1 0.00e+00    -  0.00e+00 4.27e-07R  3\n",
      "  25r 8.3562006e+00 2.24e-01 9.93e+02   0.1 5.74e+02    -  5.05e-02 1.99e-03f  1\n",
      "  26  8.3561896e+00 2.24e-01 1.47e+02  -1.0 4.73e+00    -  1.20e-02 1.35e-04h  1\n",
      "  27r 8.3561896e+00 2.24e-01 9.99e+02  -0.7 0.00e+00    -  0.00e+00 3.36e-07R  3\n",
      "  28r 8.3574909e+00 2.23e-01 9.99e+02  -0.7 1.09e+02    -  1.23e-02 3.66e-04f  1\n",
      "  29r 8.3743626e+00 2.20e-01 9.90e+02  -0.7 1.66e+01    -  4.59e-03 8.85e-03f  1\n",
      "iter    objective    inf_pr   inf_du lg(mu)  ||d||  lg(rg) alpha_du alpha_pr  ls\n",
      "  30r 8.3744193e+00 2.20e-01 9.78e+02  -0.7 5.83e-01    -  4.48e-01 1.40e-02f  1\n",
      "  31r 8.3588430e+00 1.99e-01 4.95e+02  -0.7 2.67e-01    -  3.78e-01 4.96e-01f  1\n",
      "  32  8.3588900e+00 1.99e-01 3.09e+01  -1.0 3.23e+00    -  2.74e-02 1.41e-03h  1\n",
      "  33  8.3588960e+00 1.99e-01 4.31e+04  -1.0 3.43e+00    -  1.87e-02 1.43e-05h  1\n",
      "  34r 8.3588960e+00 1.99e-01 1.00e+03  -0.7 0.00e+00    -  0.00e+00 3.31e-07R  5\n",
      "  35r 8.3566028e+00 2.33e-01 9.37e+02  -0.7 6.12e-01    -  3.70e-01 6.27e-02f  1\n",
      "  36r 8.3527081e+00 2.30e-01 3.59e+02  -0.7 3.42e-02    -  2.08e-01 1.00e+00h  1\n",
      "  37r 8.3574299e+00 2.24e-01 8.69e+01  -0.7 6.69e-02    -  8.16e-01 6.25e-01f  1\n",
      "  38r 8.3552496e+00 2.19e-01 3.45e+00  -0.7 1.91e-02    -  1.00e+00 1.00e+00f  1\n",
      "  39r 8.3529195e+00 2.20e-01 9.93e-01  -1.4 2.13e-02    -  1.00e+00 1.00e+00f  1\n",
      "iter    objective    inf_pr   inf_du lg(mu)  ||d||  lg(rg) alpha_du alpha_pr  ls\n",
      "  40r 8.3525581e+00 2.21e-01 5.74e-01  -2.1 3.49e-03    -  1.00e+00 9.92e-01f  1\n",
      "  41r 8.3526248e+00 2.21e-01 8.18e-04  -2.1 5.76e-04    -  1.00e+00 1.00e+00f  1\n",
      "  42r 8.3525615e+00 2.21e-01 6.05e+00  -4.7 6.76e-04    -  1.00e+00 8.92e-01f  1\n",
      "  43r 8.3525624e+00 2.21e-01 6.86e-05  -4.7 3.16e-05    -  1.00e+00 1.00e+00f  1\n",
      "  44r 8.3525623e+00 2.21e-01 2.89e+00  -7.1 9.87e-07    -  1.00e+00 9.04e-01f  1\n",
      "  45r 8.3525623e+00 2.21e-01 4.31e+01  -7.1 9.45e-08    -  9.73e-01 7.99e-01f  1\n",
      "  46r 8.3525623e+00 2.21e-01 1.80e-08  -7.1 1.90e-08    -  1.00e+00 1.00e+00f  1\n",
      "  47r 8.3525623e+00 2.21e-01 4.66e-06  -9.0 4.14e-09    -  1.00e+00 1.00e+00f  1\n",
      "\n",
      "Number of Iterations....: 47\n",
      "\n",
      "                                   (scaled)                 (unscaled)\n",
      "Objective...............:   8.3525623225105807e+00    8.3525623225105807e+00\n",
      "Dual infeasibility......:   5.7801599749251711e+00    5.7801599749251711e+00\n",
      "Constraint violation....:   2.2080410751726487e-01    2.2080410751726487e-01\n",
      "Variable bound violation:   0.0000000000000000e+00    0.0000000000000000e+00\n",
      "Complementarity.........:   9.0921731088353560e-10    9.0921731088353560e-10\n",
      "Overall NLP error.......:   1.6218089972808034e+00    5.7801599749251711e+00\n",
      "\n",
      "\n",
      "Number of objective function evaluations             = 69\n",
      "Number of objective gradient evaluations             = 27\n",
      "Number of equality constraint evaluations            = 69\n",
      "Number of inequality constraint evaluations          = 69\n",
      "Number of equality constraint Jacobian evaluations   = 55\n",
      "Number of inequality constraint Jacobian evaluations = 55\n",
      "Number of Lagrangian Hessian evaluations             = 48\n",
      "Total seconds in IPOPT                               = 2.573\n",
      "\n",
      "EXIT: Converged to a point of local infeasibility. Problem may be infeasible.\n"
     ]
    }
   ],
   "source": [
    "# Resolver el modelo\n",
    "optimize!(model)"
   ]
  },
  {
   "cell_type": "markdown",
   "metadata": {},
   "source": [
    "# Mostrar resultados"
   ]
  },
  {
   "cell_type": "code",
   "execution_count": 9,
   "metadata": {},
   "outputs": [
    {
     "name": "stdout",
     "output_type": "stream",
     "text": [
      "Estado de la solución: LOCALLY_INFEASIBLE\n",
      "Valor óptimo de x: 2.8900799854866612\n",
      "Valor óptimo de y1: 0.2959183571489294\n",
      "Valores óptimos de l: [7.247447833190114e-9, -0.19655278627200617, -0.014515978640721506]\n"
     ]
    }
   ],
   "source": [
    "# Mostrar resultados\n",
    "println(\"Estado de la solución: \", termination_status(model))\n",
    "println(\"Valor óptimo de x: \", value(x))\n",
    "println(\"Valor óptimo de y1: \", value(y))\n",
    "#println(\"Valor óptimo de y2: \", value(y2))\n",
    "#println(\"Valores óptimos de s: \", value.(s))\n",
    "println(\"Valores óptimos de l: \", value.(l))"
   ]
  },
  {
   "cell_type": "code",
   "execution_count": 10,
   "metadata": {},
   "outputs": [
    {
     "data": {
      "text/plain": [
       "8.35256232251058"
      ]
     },
     "metadata": {},
     "output_type": "display_data"
    }
   ],
   "source": [
    "objective_value(model)"
   ]
  }
 ],
 "metadata": {
  "kernelspec": {
   "display_name": "Julia 1.10.5",
   "language": "julia",
   "name": "julia-1.10"
  },
  "language_info": {
   "file_extension": ".jl",
   "mimetype": "application/julia",
   "name": "julia",
   "version": "1.10.5"
  }
 },
 "nbformat": 4,
 "nbformat_minor": 2
}
