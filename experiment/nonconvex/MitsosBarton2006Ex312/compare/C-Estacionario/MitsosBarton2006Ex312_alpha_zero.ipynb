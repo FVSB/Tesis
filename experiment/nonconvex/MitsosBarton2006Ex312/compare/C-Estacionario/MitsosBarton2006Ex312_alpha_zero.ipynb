{
 "cells": [
  {
   "cell_type": "markdown",
   "metadata": {},
   "source": [
    "## Importaciones necesarias"
   ]
  },
  {
   "cell_type": "code",
   "execution_count": 1,
   "metadata": {},
   "outputs": [],
   "source": [
    "using JuMP, Ipopt, Complementarity"
   ]
  },
  {
   "cell_type": "markdown",
   "metadata": {},
   "source": [
    "# Crear el modelo"
   ]
  },
  {
   "cell_type": "code",
   "execution_count": 2,
   "metadata": {},
   "outputs": [
    {
     "data": {
      "text/plain": [
       "A JuMP Model\n",
       "├ solver: Ipopt\n",
       "├ objective_sense: FEASIBILITY_SENSE\n",
       "├ num_variables: 0\n",
       "├ num_constraints: 0\n",
       "└ Names registered in the model: none"
      ]
     },
     "metadata": {},
     "output_type": "display_data"
    }
   ],
   "source": [
    "# Crear el modelo\n",
    "model = Model(Ipopt.Optimizer)"
   ]
  },
  {
   "cell_type": "markdown",
   "metadata": {},
   "source": [
    "## Definir Variables\n"
   ]
  },
  {
   "cell_type": "code",
   "execution_count": 3,
   "metadata": {},
   "outputs": [
    {
     "data": {
      "text/plain": [
       "2-element Vector{VariableRef}:\n",
       " l[1]\n",
       " l[2]"
      ]
     },
     "metadata": {},
     "output_type": "display_data"
    }
   ],
   "source": [
    "# Definir la x\n",
    "@variable(model,x)\n",
    "# Definir la y\n",
    "@variable(model,y)\n",
    "#Definir las l como variables de complementariedad\n",
    "@variable(model,l[1:2])"
   ]
  },
  {
   "cell_type": "markdown",
   "metadata": {},
   "source": [
    "## Definir Objetivo\n"
   ]
  },
  {
   "cell_type": "code",
   "execution_count": 4,
   "metadata": {},
   "outputs": [
    {
     "data": {
      "text/latex": [
       "$ x\\times y + 10 y^2 - x $"
      ],
      "text/plain": [
       "x*y + 10 y² - x"
      ]
     },
     "metadata": {},
     "output_type": "display_data"
    }
   ],
   "source": [
    "@objective(model,Min,-x+x*y+10y^2)"
   ]
  },
  {
   "cell_type": "markdown",
   "metadata": {},
   "source": [
    "## Definir Restricciones\n"
   ]
  },
  {
   "cell_type": "code",
   "execution_count": 5,
   "metadata": {},
   "outputs": [
    {
     "data": {
      "text/latex": [
       "$$ ((((-2.0 * x) * y + 2.0 * y ^ {3.0}) - l[1]) + l[2]) - 0.0 = 0 $$"
      ],
      "text/plain": [
       "((((-2.0 * x) * y + 2.0 * y ^ 3.0) - l[1]) + l[2]) - 0.0 == 0"
      ]
     },
     "metadata": {},
     "output_type": "display_data"
    }
   ],
   "source": [
    "@NLconstraint(model,-2x*y+2y^3-l[1]+l[2]==0) # Obj nivel inferior"
   ]
  },
  {
   "cell_type": "code",
   "execution_count": 6,
   "metadata": {},
   "outputs": [
    {
     "data": {
      "text/plain": [
       "(-x <= -0.8, x <= 0.8, -y <= -1.85, y <= 1.85)"
      ]
     },
     "metadata": {},
     "output_type": "display_data"
    }
   ],
   "source": [
    "@constraints(model,begin\n",
    "\n",
    "0.8 - x<=0  #gs\n",
    "-0.8 + x<=0  #gs\n",
    "1.85 - y<=0  #vs\n",
    "-1.85 + y<=0 #vs\n",
    "end)"
   ]
  },
  {
   "cell_type": "markdown",
   "metadata": {},
   "source": [
    "## Definir variables Complementarias"
   ]
  },
  {
   "cell_type": "code",
   "execution_count": 7,
   "metadata": {},
   "outputs": [
    {
     "data": {
      "text/latex": [
       "$$ (sqrt(l[2] ^ {2.0} + (1.0 + -0.27 * y) ^ {2.0} + 1.0e-8) - (l[2] + (1.0 + -0.27 * y))) - 0.0 = 0 $$"
      ],
      "text/plain": [
       "(sqrt(l[2] ^ 2.0 + (1.0 + -0.27 * y) ^ 2.0 + 1.0e-8) - (l[2] + (1.0 + -0.27 * y))) - 0.0 == 0"
      ]
     },
     "metadata": {},
     "output_type": "display_data"
    }
   ],
   "source": [
    "@complements(model,0<=-(-1 - 2.17y),l[1]>=0)\n",
    "@complements(model,0<=-(-1 + 0.27y),l[2]>=0)"
   ]
  },
  {
   "cell_type": "markdown",
   "metadata": {},
   "source": [
    "## Optimizar"
   ]
  },
  {
   "cell_type": "code",
   "execution_count": 8,
   "metadata": {},
   "outputs": [
    {
     "name": "stdout",
     "output_type": "stream",
     "text": [
      "\n",
      "******************************************************************************\n",
      "This program contains Ipopt, a library for large-scale nonlinear optimization.\n",
      " Ipopt is released as open source code under the Eclipse Public License (EPL).\n",
      "         For more information visit https://github.com/coin-or/Ipopt\n",
      "******************************************************************************\n",
      "\n",
      "This is Ipopt version 3.14.16, running with linear solver MUMPS 5.7.3.\n",
      "\n",
      "Number of nonzeros in equality constraint Jacobian...:        8\n",
      "Number of nonzeros in inequality constraint Jacobian.:        8\n",
      "Number of nonzeros in Lagrangian Hessian.............:       11\n",
      "\n",
      "Total number of variables............................:        4\n",
      "                     variables with only lower bounds:        0\n",
      "                variables with lower and upper bounds:        0\n",
      "                     variables with only upper bounds:        0\n",
      "Total number of equality constraints.................:        3\n",
      "Total number of inequality constraints...............:        8\n",
      "        inequality constraints with only lower bounds:        4\n",
      "   inequality constraints with lower and upper bounds:        0\n",
      "        inequality constraints with only upper bounds:        4\n",
      "\n",
      "iter    objective    inf_pr   inf_du lg(mu)  ||d||  lg(rg) alpha_du alpha_pr  ls\n",
      "   0  0.0000000e+00 1.85e+00 1.00e+00  -1.0 0.00e+00    -  0.00e+00 0.00e+00   0\n",
      "   1 -8.8943893e-03 1.85e+00 1.51e+06  -1.0 1.87e+00    -  1.00e+00 9.80e-03h  1\n",
      "   2 -9.0079812e-03 1.85e+00 1.51e+06  -1.0 1.85e+00    -  1.00e+00 9.90e-05h  1\n",
      "   3r-9.0079812e-03 1.85e+00 1.00e+03   0.3 0.00e+00    -  0.00e+00 4.95e-07R  2\n",
      "   4r-2.7533742e-01 1.77e+00 9.97e+02   0.3 1.51e+02    -  1.93e-02 2.39e-03f  1\n",
      "   5r-7.6381146e-01 1.82e+00 8.67e+02   0.3 2.81e+00   2.0 1.00e+00 1.56e-01f  1\n",
      "   6r-7.7529985e-01 1.83e+00 6.97e+02   0.3 6.58e-02    -  1.00e+00 1.67e-01f  1\n",
      "   7r-7.9697910e-01 1.84e+00 1.10e+01   0.3 3.52e-02    -  1.00e+00 1.00e+00f  1\n",
      "   8r-7.9996795e-01 1.85e+00 8.74e-01  -1.1 1.72e-02    -  1.00e+00 9.99e-01f  1\n",
      "   9r-7.9999397e-01 1.85e+00 1.82e-01  -2.7 3.50e-04    -  1.00e+00 1.00e+00f  1\n",
      "iter    objective    inf_pr   inf_du lg(mu)  ||d||  lg(rg) alpha_du alpha_pr  ls\n",
      "  10r-7.9999375e-01 1.85e+00 5.01e-06  -2.7 4.42e-07    -  1.00e+00 1.00e+00h  1\n",
      "  11r-7.9999999e-01 1.85e+00 3.29e-02  -6.2 1.70e-05    -  1.00e+00 9.99e-01f  1\n",
      "  12r-8.0000000e-01 1.85e+00 9.52e+01  -6.2 1.79e-08    -  9.62e-01 8.05e-01f  1\n",
      "  13r-8.0000000e-01 1.85e+00 1.07e-07  -6.2 4.37e-09    -  1.00e+00 1.00e+00f  1\n",
      "  14r-8.0000000e-01 1.85e+00 4.13e+00  -9.0 5.17e-09    -  9.83e-01 9.18e-01f  1\n",
      "\n",
      "Number of Iterations....: 14\n",
      "\n",
      "                                   (scaled)                 (unscaled)\n",
      "Objective...............:  -8.0000000006058214e-01   -8.0000000006058214e-01\n",
      "Dual infeasibility......:   1.0000238493032971e+00    1.0000238493032971e+00\n",
      "Constraint violation....:   1.8499999814965822e+00    1.8499999814965822e+00\n",
      "Variable bound violation:   0.0000000000000000e+00    0.0000000000000000e+00\n",
      "Complementarity.........:   9.2668721984832657e-10    9.2668721984832657e-10\n",
      "Overall NLP error.......:   1.8499999814965822e+00    1.8499999814965822e+00\n",
      "\n",
      "\n",
      "Number of objective function evaluations             = 18\n",
      "Number of objective gradient evaluations             = 5\n",
      "Number of equality constraint evaluations            = 18\n",
      "Number of inequality constraint evaluations          = 18\n",
      "Number of equality constraint Jacobian evaluations   = 17\n",
      "Number of inequality constraint Jacobian evaluations = 17\n",
      "Number of Lagrangian Hessian evaluations             = 15\n",
      "Total seconds in IPOPT                               = 1.665\n",
      "\n",
      "EXIT: Converged to a point of local infeasibility. Problem may be infeasible.\n"
     ]
    }
   ],
   "source": [
    "# Resolver el modelo\n",
    "optimize!(model)"
   ]
  },
  {
   "cell_type": "markdown",
   "metadata": {},
   "source": [
    "# Mostrar resultados"
   ]
  },
  {
   "cell_type": "code",
   "execution_count": 9,
   "metadata": {},
   "outputs": [
    {
     "name": "stdout",
     "output_type": "stream",
     "text": [
      "Estado de la solución: LOCALLY_INFEASIBLE\n",
      "Valor óptimo de x: 0.8000000000633166\n",
      "Valor óptimo de y1: 3.418035352927474e-12\n",
      "Valores óptimos de l: [4.998175874411195e-9, 5.001779929081704e-9]\n"
     ]
    }
   ],
   "source": [
    "# Mostrar resultados\n",
    "println(\"Estado de la solución: \", termination_status(model))\n",
    "println(\"Valor óptimo de x: \", value(x))\n",
    "println(\"Valor óptimo de y1: \", value(y))\n",
    "#println(\"Valor óptimo de y2: \", value(y2))\n",
    "#println(\"Valores óptimos de s: \", value.(s))\n",
    "println(\"Valores óptimos de l: \", value.(l))"
   ]
  },
  {
   "cell_type": "code",
   "execution_count": 11,
   "metadata": {},
   "outputs": [
    {
     "data": {
      "text/plain": [
       "-0.8000000000605821"
      ]
     },
     "metadata": {},
     "output_type": "display_data"
    }
   ],
   "source": [
    "objective_value(model)"
   ]
  },
  {
   "cell_type": "code",
   "execution_count": null,
   "metadata": {},
   "outputs": [],
   "source": []
  }
 ],
 "metadata": {
  "kernelspec": {
   "display_name": "Julia 1.10.5",
   "language": "julia",
   "name": "julia-1.10"
  },
  "language_info": {
   "file_extension": ".jl",
   "mimetype": "application/julia",
   "name": "julia",
   "version": "1.10.5"
  }
 },
 "nbformat": 4,
 "nbformat_minor": 2
}
