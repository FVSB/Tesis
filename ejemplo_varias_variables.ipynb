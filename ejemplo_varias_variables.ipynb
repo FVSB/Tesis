{
 "cells": [
  {
   "cell_type": "markdown",
   "metadata": {},
   "source": [
    "# Importar modulos\n"
   ]
  },
  {
   "cell_type": "code",
   "execution_count": 1,
   "metadata": {},
   "outputs": [
    {
     "name": "stderr",
     "output_type": "stream",
     "text": [
      "WARNING: Method definition _parse_NL_expr_runtime(JuMP.Model, JuMP.NonlinearParameter, Any, Any, Any) in module JuMP at /home/fvsb/.julia/packages/JuMP/klrjG/src/parse_nlp.jl:416 overwritten in module BilevelJuMP at /home/fvsb/.julia/packages/BilevelJuMP/wSyR2/src/jump_nlp.jl:95.\n",
      "ERROR: Method overwriting is not permitted during Module precompilation. Use `__precompile__(false)` to opt-out of precompilation.\n"
     ]
    }
   ],
   "source": [
    "using BilevelJuMP\n",
    "using Ipopt"
   ]
  },
  {
   "cell_type": "markdown",
   "metadata": {},
   "source": [
    "Crear una instancia del modelo con el optimizador ProductMode"
   ]
  },
  {
   "cell_type": "code",
   "execution_count": 2,
   "metadata": {},
   "outputs": [
    {
     "data": {
      "text/plain": [
       "A JuMP Model\n",
       "Feasibility problem with:\n",
       "Variables: 0\n",
       "Upper Constraints: 0\n",
       "Lower Constraints: 0\n",
       "Bilevel Model\n",
       "Solution method: BilevelJuMP.ProductMode{Float64}(1.0e-9, false)\n",
       "Solver name: Ipopt"
      ]
     },
     "metadata": {},
     "output_type": "display_data"
    }
   ],
   "source": [
    "\n",
    "model = BilevelModel(Ipopt.Optimizer; mode = BilevelJuMP.ProductMode(1e-9))"
   ]
  },
  {
   "cell_type": "markdown",
   "metadata": {},
   "source": [
    "Declarar variables del nivel superior\n"
   ]
  },
  {
   "cell_type": "code",
   "execution_count": 3,
   "metadata": {},
   "outputs": [
    {
     "data": {
      "text/plain": [
       "2-element Vector{BilevelJuMP.BilevelVariableRef}:\n",
       " x[1]\n",
       " x[2]"
      ]
     },
     "metadata": {},
     "output_type": "display_data"
    }
   ],
   "source": [
    "BilevelJuMP.@variable(Upper(model), x[i = 1:2], start = 0)"
   ]
  },
  {
   "cell_type": "markdown",
   "metadata": {},
   "source": [
    "Variables del nivel inferior"
   ]
  },
  {
   "cell_type": "code",
   "execution_count": 4,
   "metadata": {},
   "outputs": [
    {
     "data": {
      "text/plain": [
       "2-element Vector{BilevelJuMP.BilevelVariableRef}:\n",
       " y[1]\n",
       " y[2]"
      ]
     },
     "metadata": {},
     "output_type": "display_data"
    }
   ],
   "source": [
    "BilevelJuMP.@variable(Lower(model), y[i = 1:2], start = -10)"
   ]
  },
  {
   "cell_type": "markdown",
   "metadata": {},
   "source": [
    "Funcionon objetivo del nivel superior"
   ]
  },
  {
   "cell_type": "code",
   "execution_count": 21,
   "metadata": {},
   "outputs": [
    {
     "data": {
      "text/latex": [
       "$$ 2 x_{1} + 2 x_{2} - 3 y_{1} - 3 y_{2} - 60 $$"
      ],
      "text/plain": [
       "2 x[1] + 2 x[2] - 3 y[1] - 3 y[2] - 60"
      ]
     },
     "metadata": {},
     "output_type": "display_data"
    }
   ],
   "source": [
    "BilevelJuMP.@objective(Upper(model), Min, 2x[1] + 2x[2] - 3y[1] - 3y[2] - 60)"
   ]
  },
  {
   "cell_type": "markdown",
   "metadata": {},
   "source": [
    "Restricciones nivel superior"
   ]
  },
  {
   "cell_type": "code",
   "execution_count": 22,
   "metadata": {},
   "outputs": [
    {
     "data": {
      "text/plain": [
       "2-element Vector{JuMP.ConstraintRef{BilevelModel, Int64, JuMP.ScalarShape}}:\n",
       " y[1] ≤ 20.0\n",
       " y[2] ≤ 20.0"
      ]
     },
     "metadata": {},
     "output_type": "display_data"
    }
   ],
   "source": [
    "BilevelJuMP.@constraint(Upper(model), x[1] + x[2] + y[1] - 2y[2] - 40 <= 0)\n",
    "BilevelJuMP.@constraint(Upper(model), [i = 1:2], x[i] >= 0)\n",
    "BilevelJuMP.@constraint(Upper(model), [i = 1:2], x[i] <= 50)\n",
    "BilevelJuMP.@constraint(Upper(model), [i = 1:2], y[i] >= -10)\n",
    "BilevelJuMP.@constraint(Upper(model), [i = 1:2], y[i] <= 20)"
   ]
  },
  {
   "cell_type": "markdown",
   "metadata": {},
   "source": [
    "Funcion objetivo nivel inferior"
   ]
  },
  {
   "cell_type": "code",
   "execution_count": 23,
   "metadata": {},
   "outputs": [
    {
     "data": {
      "text/latex": [
       "$$ x_{1}^2 - 2 y_{1}\\times x_{1} + y_{1}^2 + x_{2}^2 - 2 y_{2}\\times x_{2} + y_{2}^2 - 80 x_{1} + 80 y_{1} - 40 x_{2} + 40 y_{2} + 2000 $$"
      ],
      "text/plain": [
       "x[1]² - 2 y[1]*x[1] + y[1]² + x[2]² - 2 y[2]*x[2] + y[2]² - 80 x[1] + 80 y[1] - 40 x[2] + 40 y[2] + 2000"
      ]
     },
     "metadata": {},
     "output_type": "display_data"
    }
   ],
   "source": [
    "BilevelJuMP.@objective(Lower(model), Min, (-x[1] + y[1] + 40)^2 + (-x[2] + y[2] + 20)^2)"
   ]
  },
  {
   "cell_type": "code",
   "execution_count": 24,
   "metadata": {},
   "outputs": [
    {
     "data": {
      "text/plain": [
       "2-element Vector{JuMP.ConstraintRef{BilevelModel, Int64, JuMP.ScalarShape}}:\n",
       " y[1] ≤ 20.0\n",
       " y[2] ≤ 20.0"
      ]
     },
     "metadata": {},
     "output_type": "display_data"
    }
   ],
   "source": [
    "BilevelJuMP.@constraint(Lower(model), [i = 1:2], -x[i] + 2y[i] <= -10)\n",
    "BilevelJuMP.@constraint(Lower(model), [i = 1:2], y[i] >= -10)\n",
    "BilevelJuMP.@constraint(Lower(model), [i = 1:2], y[i] <= 20)"
   ]
  },
  {
   "cell_type": "code",
   "execution_count": 25,
   "metadata": {},
   "outputs": [
    {
     "name": "stdout",
     "output_type": "stream",
     "text": [
      "\n",
      "******************************************************************************\n",
      "This program contains Ipopt, a library for large-scale nonlinear optimization.\n",
      " Ipopt is released as open source code under the Eclipse Public License (EPL).\n",
      "         For more information visit https://github.com/coin-or/Ipopt\n",
      "******************************************************************************\n",
      "\n",
      "This is Ipopt version 3.13.4, running with linear solver mumps.\n",
      "NOTE: Other linear solvers might be more efficient (see Ipopt documentation).\n",
      "\n",
      "Number of nonzeros in equality constraint Jacobian...:       10\n",
      "Number of nonzeros in inequality constraint Jacobian.:       42\n",
      "Number of nonzeros in Lagrangian Hessian.............:        8\n",
      "\n",
      "Total number of variables............................:       10\n",
      "                     variables with only lower bounds:        2\n",
      "                variables with lower and upper bounds:        0\n",
      "                     variables with only upper bounds:        4\n",
      "Total number of equality constraints.................:        2\n",
      "Total number of inequality constraints...............:       21\n",
      "        inequality constraints with only lower bounds:        6\n",
      "   inequality constraints with lower and upper bounds:        0\n",
      "        inequality constraints with only upper bounds:       15\n",
      "\n",
      "iter    objective    inf_pr   inf_du lg(mu)  ||d||  lg(rg) alpha_du alpha_pr  ls\n",
      "   0  0.0000000e+00 6.00e+01 9.57e-01  -1.0 0.00e+00    -  0.00e+00 0.00e+00   0\n",
      "   1  4.4814823e-01 5.98e+01 1.28e+00  -1.0 5.21e+01    -  2.06e-03 4.18e-03h  1\n",
      "   2  1.6046697e+00 5.89e+01 2.12e+00  -1.0 4.35e+01    -  1.53e-03 1.42e-02h  1\n",
      "   3  1.6995414e+01 4.70e+01 1.06e+01  -1.0 3.84e+01    -  8.81e-03 2.02e-01h  1\n",
      "   4  1.9250234e+01 4.52e+01 3.77e+01  -1.0 3.00e+01    -  1.34e-01 3.79e-02h  1\n",
      "   5  3.5204890e+01 2.81e+01 6.90e+01  -1.0 2.11e+01    -  3.21e-02 3.78e-01h  1\n",
      "   6  3.7687463e+01 2.21e+01 1.93e+02  -1.0 1.84e+01   0.0 1.54e-02 2.14e-01h  1\n",
      "   7  3.8166798e+01 2.11e+01 8.95e+01  -1.0 1.36e+01   0.4 5.36e-01 4.66e-02h  1\n",
      "   8  3.4396171e+01 1.82e+01 3.30e+02  -1.0 5.43e+01    -  4.41e-01 1.37e-01f  1\n",
      "   9  3.3236150e+01 1.66e+01 2.79e+02  -1.0 2.52e+01    -  5.77e-02 8.71e-02f  1\n",
      "iter    objective    inf_pr   inf_du lg(mu)  ||d||  lg(rg) alpha_du alpha_pr  ls\n",
      "  10  3.0766710e+01 1.60e+01 4.15e+02  -1.0 4.61e+01    -  3.12e-01 3.79e-02f  1\n",
      "  11  1.0078764e+01 1.11e+01 3.77e+02  -1.0 8.40e+01    -  5.03e-01 3.05e-01f  1\n",
      "  12  2.4302311e-01 9.16e+00 4.41e+02  -1.0 6.72e+01    -  2.05e-02 1.75e-01f  1\n",
      "  13  1.1671615e-01 4.12e+00 3.93e+02  -1.0 9.35e+00    -  1.00e+00 5.50e-01h  1\n",
      "  14  1.7254023e-01 1.32e+00 5.89e+02  -1.0 4.03e+00    -  1.00e+00 6.79e-01h  1\n",
      "  15  1.8014838e-01 7.75e-01 3.02e+03  -1.0 1.30e+00    -  1.00e+00 4.14e-01h  1\n",
      "  16  1.9235506e-01 2.03e-01 2.82e+03  -1.0 7.56e-01    -  1.00e+00 7.38e-01h  1\n",
      "  17  1.9390169e-01 1.15e-01 1.85e+04  -1.0 1.99e-01    -  1.00e+00 4.33e-01h  1\n",
      "  18  1.9562312e-01 3.19e-02 1.96e+04  -1.0 1.12e-01    -  1.00e+00 7.22e-01h  1\n",
      "  19  1.9604520e-01 1.79e-02 1.16e+05  -1.0 3.12e-02    -  1.00e+00 4.38e-01h  1\n",
      "iter    objective    inf_pr   inf_du lg(mu)  ||d||  lg(rg) alpha_du alpha_pr  ls\n",
      "  20  1.9619242e-01 4.98e-03 1.23e+05  -1.0 1.75e-02    -  1.00e+00 7.22e-01h  1\n",
      "  21  1.9632743e-01 3.88e-03 9.52e+05  -1.0 4.75e-03    -  1.00e+00 2.21e-01f  2\n",
      "  22  1.9565901e-01 1.07e-03 6.21e+05  -1.0 4.19e-03    -  1.00e+00 7.24e-01h  1\n",
      "  23  1.9573024e-01 1.02e-03 4.02e+06  -1.0 8.16e-04    -  1.00e+00 4.36e-02f  5\n",
      "  24  1.9569163e-01 1.11e-04 7.43e+05  -1.0 7.92e-04    -  1.00e+00 8.91e-01h  1\n",
      "  25  1.9645947e-01 8.32e-05 5.40e+06  -1.0 2.01e-03    -  1.00e+00 2.51e-01f  2\n",
      "  26  1.9874099e-01 7.11e-15 6.83e+02  -1.0 1.51e-03    -  1.00e+00 1.00e+00h  1\n",
      "  27  6.8772523e-03 1.42e-14 8.22e+04  -2.5 9.71e-02    -  1.00e+00 1.00e+00f  1\n",
      "  28  5.6568726e-03 7.11e-15 3.16e+00  -2.5 1.19e-03    -  1.00e+00 1.00e+00f  1\n",
      "  29  3.0104856e-04 1.42e-14 6.46e+01  -3.8 2.68e-03    -  1.00e+00 1.00e+00f  1\n",
      "iter    objective    inf_pr   inf_du lg(mu)  ||d||  lg(rg) alpha_du alpha_pr  ls\n",
      "  30  3.0100656e-04 0.00e+00 7.46e-07  -3.8 2.57e-07    -  1.00e+00 1.00e+00h  1\n",
      "  31  1.6349148e-07 1.42e-14 5.98e+00  -8.6 1.50e-04    -  1.00e+00 1.00e+00f  1\n",
      "  32 -3.6259539e-08 2.58e-14 5.60e-03  -8.6 2.01e-06    -  1.00e+00 9.89e-01h  1\n",
      "  33 -3.2290156e-08 1.42e-14 1.03e-12  -8.6 3.05e-08    -  1.00e+00 1.00e+00f  1\n",
      "\n",
      "Number of Iterations....: 33\n",
      "\n",
      "                                   (scaled)                 (unscaled)\n",
      "Objective...............:  -3.2290156326553188e-08   -3.2290156326553188e-08\n",
      "Dual infeasibility......:   1.0293987884324451e-12    1.0293987884324451e-12\n",
      "Constraint violation....:   1.4210854715202004e-14    1.4210854715202004e-14\n",
      "Complementarity.........:   2.5157965850180788e-09    2.5157965850180788e-09\n",
      "Overall NLP error.......:   2.5157965850180788e-09    2.5157965850180788e-09\n",
      "\n",
      "\n",
      "Number of objective function evaluations             = 40\n",
      "Number of objective gradient evaluations             = 34\n",
      "Number of equality constraint evaluations            = 40\n",
      "Number of inequality constraint evaluations          = 40\n",
      "Number of equality constraint Jacobian evaluations   = 34\n",
      "Number of inequality constraint Jacobian evaluations = 34\n",
      "Number of Lagrangian Hessian evaluations             = 33\n",
      "Total CPU secs in IPOPT (w/o function evaluations)   =      0.541\n",
      "Total CPU secs in NLP function evaluations           =      0.159\n",
      "\n",
      "EXIT: Optimal Solution Found.\n"
     ]
    }
   ],
   "source": [
    "BilevelJuMP.optimize!(model)"
   ]
  },
  {
   "cell_type": "code",
   "execution_count": 26,
   "metadata": {},
   "outputs": [
    {
     "data": {
      "text/plain": [
       "FEASIBLE_POINT::ResultStatusCode = 1"
      ]
     },
     "metadata": {},
     "output_type": "display_data"
    }
   ],
   "source": [
    "BilevelJuMP.primal_status(model)"
   ]
  },
  {
   "cell_type": "code",
   "execution_count": 27,
   "metadata": {},
   "outputs": [
    {
     "data": {
      "text/plain": [
       "LOCALLY_SOLVED::TerminationStatusCode = 4"
      ]
     },
     "metadata": {},
     "output_type": "display_data"
    }
   ],
   "source": [
    "BilevelJuMP.termination_status(model)"
   ]
  },
  {
   "cell_type": "code",
   "execution_count": 28,
   "metadata": {},
   "outputs": [
    {
     "data": {
      "text/plain": [
       "-3.229015632655319e-8"
      ]
     },
     "metadata": {},
     "output_type": "display_data"
    }
   ],
   "source": [
    "BilevelJuMP.objective_value(model)"
   ]
  },
  {
   "cell_type": "code",
   "execution_count": 30,
   "metadata": {},
   "outputs": [
    {
     "data": {
      "text/plain": [
       "2-element Vector{Float64}:\n",
       " -8.747048220055642e-9\n",
       " -8.747048220161989e-9"
      ]
     },
     "metadata": {},
     "output_type": "display_data"
    }
   ],
   "source": [
    "BilevelJuMP.value.(x)"
   ]
  },
  {
   "cell_type": "code",
   "execution_count": 31,
   "metadata": {},
   "outputs": [
    {
     "data": {
      "text/plain": [
       "-8.747048220055642e-9"
      ]
     },
     "metadata": {},
     "output_type": "display_data"
    }
   ],
   "source": [
    "BilevelJuMP.value(x[1])"
   ]
  },
  {
   "cell_type": "code",
   "execution_count": 16,
   "metadata": {},
   "outputs": [
    {
     "data": {
      "text/plain": [
       "2-element Vector{BilevelJuMP.BilevelVariableRef}:\n",
       " x[1]\n",
       " x[2]"
      ]
     },
     "metadata": {},
     "output_type": "display_data"
    }
   ],
   "source": [
    "x"
   ]
  },
  {
   "cell_type": "code",
   "execution_count": 32,
   "metadata": {},
   "outputs": [
    {
     "name": "stdout",
     "output_type": "stream",
     "text": [
      "-8.747048220055642e-9\n",
      "-8.747048220161989e-9\n"
     ]
    }
   ],
   "source": [
    "for i in 1:length(x)\n",
    "    println(BilevelJuMP.value(x[i]))\n",
    "end"
   ]
  },
  {
   "cell_type": "code",
   "execution_count": null,
   "metadata": {},
   "outputs": [],
   "source": []
  },
  {
   "cell_type": "code",
   "execution_count": 37,
   "metadata": {},
   "outputs": [
    {
     "data": {
      "text/plain": [
       "write_response (generic function with 2 methods)"
      ]
     },
     "metadata": {},
     "output_type": "display_data"
    }
   ],
   "source": [
    "function write_response(model,x,y)\n",
    "    # Escribir el resultado de la solucion primal\n",
    "    p_s=BilevelJuMP.primal_status(model)\n",
    "    println(\"Primal Status: $p_s\")\n",
    "    # Escribir el codigo y tipo de terminacion\n",
    "    t_s=BilevelJuMP.termination_status(model)\n",
    "    println(\"Termination Status: $t_s\")\n",
    "    # Objetive value\n",
    "    o_v=BilevelJuMP.objective_value(model)\n",
    "    println(\"Objetive Value $o_v\")\n",
    "    # Lider Vars Value\n",
    "    l_vars=BilevelJuMP.value.(x)\n",
    "    println(\"Lider Vars: $l_vars\")\n",
    "    # Follower Vars Value\n",
    "    f_vars=BilevelJuMP.value.(y)\n",
    "    println(\"Followers Vars Value $f_vars\")\n",
    "    \n",
    "end\n",
    "    "
   ]
  },
  {
   "cell_type": "code",
   "execution_count": null,
   "metadata": {},
   "outputs": [
    {
     "name": "stdout",
     "output_type": "stream",
     "text": [
      "Primal Status: FEASIBLE_POINT\n",
      "Termination Status: LOCALLY_SOLVED\n",
      "Objetive Value -3.229015632655319e-8\n",
      "Lider Vars: [-8.747048220055642e-9, -8.747048220161989e-9]\n",
      "Followers Vars Value [-10.000000000634344, -10.000000000265]\n"
     ]
    }
   ],
   "source": [
    "write_response(model,x,y)"
   ]
  },
  {
   "cell_type": "code",
   "execution_count": 20,
   "metadata": {},
   "outputs": [],
   "source": []
  }
 ],
 "metadata": {
  "kernelspec": {
   "display_name": "Julia 1.10.4",
   "language": "julia",
   "name": "julia-1.10"
  },
  "language_info": {
   "file_extension": ".jl",
   "mimetype": "application/julia",
   "name": "julia",
   "version": "1.10.4"
  }
 },
 "nbformat": 4,
 "nbformat_minor": 2
}
