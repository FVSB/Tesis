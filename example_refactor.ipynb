{
 "cells": [
  {
   "cell_type": "markdown",
   "metadata": {},
   "source": [
    "# Importar el modulo"
   ]
  },
  {
   "cell_type": "code",
   "execution_count": 1,
   "metadata": {},
   "outputs": [
    {
     "data": {
      "text/plain": [
       "CreateProblem (generic function with 1 method)"
      ]
     },
     "metadata": {},
     "output_type": "display_data"
    }
   ],
   "source": [
    "include(\"def_problem/MiModulo.jl\")"
   ]
  },
  {
   "cell_type": "markdown",
   "metadata": {},
   "source": [
    "## Crear un modelo para el generador"
   ]
  },
  {
   "cell_type": "code",
   "execution_count": 2,
   "metadata": {},
   "outputs": [
    {
     "data": {
      "text/plain": [
       "OptimizationModel(Problem(Any[], nothing), LeaderRestrictionProblem[], Problem(Any[], nothing), FollowerRestrictionProblem[], Dict{Any, Any}(), Number[], false)"
      ]
     },
     "metadata": {},
     "output_type": "display_data"
    }
   ],
   "source": [
    "model=GeneratorModel(false)"
   ]
  },
  {
   "cell_type": "markdown",
   "metadata": {},
   "source": [
    "## Declarar variables"
   ]
  },
  {
   "cell_type": "markdown",
   "metadata": {},
   "source": [
    "### Nivel superior"
   ]
  },
  {
   "cell_type": "code",
   "execution_count": 3,
   "metadata": {},
   "outputs": [
    {
     "data": {
      "text/latex": [
       "$$ \\begin{equation}\n",
       "\\left[\n",
       "\\begin{array}{c}\n",
       "\\mathtt{x\\_1} \\\\\n",
       "\\mathtt{x\\_2} \\\\\n",
       "\\end{array}\n",
       "\\right]\n",
       "\\end{equation}\n",
       " $$"
      ],
      "text/plain": [
       "2-element Vector{Num}:\n",
       " x_1\n",
       " x_2"
      ]
     },
     "metadata": {},
     "output_type": "display_data"
    }
   ],
   "source": [
    "@myvariables Upper(model) x_1, x_2"
   ]
  },
  {
   "cell_type": "code",
   "execution_count": 4,
   "metadata": {},
   "outputs": [
    {
     "data": {
      "text/plain": [
       "OptimizationModel(Problem(Any[x_1, x_2], nothing), LeaderRestrictionProblem[], Problem(Any[], nothing), FollowerRestrictionProblem[], Dict{Any, Any}(), Number[], false)"
      ]
     },
     "metadata": {},
     "output_type": "display_data"
    }
   ],
   "source": [
    "model"
   ]
  },
  {
   "cell_type": "markdown",
   "metadata": {},
   "source": [
    "## Nivel inferior"
   ]
  },
  {
   "cell_type": "code",
   "execution_count": 5,
   "metadata": {},
   "outputs": [
    {
     "data": {
      "text/latex": [
       "$$ \\begin{equation}\n",
       "\\left[\n",
       "\\begin{array}{c}\n",
       "\\mathtt{y\\_1} \\\\\n",
       "\\mathtt{y\\_2} \\\\\n",
       "\\end{array}\n",
       "\\right]\n",
       "\\end{equation}\n",
       " $$"
      ],
      "text/plain": [
       "2-element Vector{Num}:\n",
       " y_1\n",
       " y_2"
      ]
     },
     "metadata": {},
     "output_type": "display_data"
    }
   ],
   "source": [
    "@myvariables Lower(model) y_1,y_2"
   ]
  },
  {
   "cell_type": "markdown",
   "metadata": {},
   "source": [
    "### Definicion nivel superior"
   ]
  },
  {
   "cell_type": "code",
   "execution_count": 6,
   "metadata": {},
   "outputs": [
    {
     "data": {
      "text/latex": [
       "$$ \\begin{equation}\n",
       "\\mathtt{x\\_2} + \\mathtt{y\\_1}^{2} \\mathtt{x\\_1}^{2} \\mathtt{y\\_2}\n",
       "\\end{equation}\n",
       " $$"
      ],
      "text/plain": [
       "x_2 + (x_1^2)*(y_1^2)*y_2"
      ]
     },
     "metadata": {},
     "output_type": "display_data"
    }
   ],
   "source": [
    "SetObjectiveFunction(Upper(model),((x_1^2)*(y_1^2)*(y_2))+x_2)"
   ]
  },
  {
   "cell_type": "markdown",
   "metadata": {},
   "source": [
    "### Definir la restriccion del lider"
   ]
  },
  {
   "cell_type": "code",
   "execution_count": 7,
   "metadata": {},
   "outputs": [
    {
     "data": {
      "text/plain": [
       "1-element Vector{LeaderRestrictionProblem}:\n",
       " LeaderRestrictionProblem((x_1 - y_1 + y_2) > 9, 0.3, J_0_g)"
      ]
     },
     "metadata": {},
     "output_type": "display_data"
    }
   ],
   "source": [
    "SetLeaderRestriction(model,x_1+y_2-y_1>9,J_0_g,0.3)"
   ]
  },
  {
   "cell_type": "markdown",
   "metadata": {},
   "source": [
    "### Definir el follower"
   ]
  },
  {
   "cell_type": "code",
   "execution_count": 8,
   "metadata": {},
   "outputs": [
    {
     "data": {
      "text/latex": [
       "$$ \\begin{equation}\n",
       "\\mathtt{x\\_1} + \\mathtt{y\\_1}^{2} \\mathtt{x\\_2}^{2} \\mathtt{y\\_2}\n",
       "\\end{equation}\n",
       " $$"
      ],
      "text/plain": [
       "x_1 + (x_2^2)*(y_1^2)*y_2"
      ]
     },
     "metadata": {},
     "output_type": "display_data"
    }
   ],
   "source": [
    "SetObjectiveFunction(Lower(model),((x_2^2)*(y_1^2)*(y_2))+x_1)"
   ]
  },
  {
   "cell_type": "code",
   "execution_count": 9,
   "metadata": {},
   "outputs": [
    {
     "data": {
      "text/plain": [
       "1-element Vector{FollowerRestrictionProblem}:\n",
       " FollowerRestrictionProblem((x_2 + (x_1^2)*(y_1^2)) == 0, J_Ne_L0_v, 1, 0, 1)"
      ]
     },
     "metadata": {},
     "output_type": "display_data"
    }
   ],
   "source": [
    "SetFollowerRestriction(model,((x_1^2)*(y_1^2))+x_2==0,J_Ne_L0_v,1,0,1)"
   ]
  },
  {
   "cell_type": "code",
   "execution_count": 10,
   "metadata": {},
   "outputs": [
    {
     "data": {
      "text/plain": [
       "2-element Vector{FollowerRestrictionProblem}:\n",
       " FollowerRestrictionProblem((x_2 + (x_1^2)*(y_1^2)) == 0, J_Ne_L0_v, 1, 0, 1)\n",
       " FollowerRestrictionProblem((x_2 + (x_1^2)*(y_1^2)*y_2) <= 0, J_0_LP_v, 0.5, 1, 1)"
      ]
     },
     "metadata": {},
     "output_type": "display_data"
    }
   ],
   "source": [
    "SetFollowerRestriction(model,((x_1^2)*(y_1^2)*(y_2))+x_2<=0,J_0_LP_v,0.5,1,1)"
   ]
  },
  {
   "cell_type": "code",
   "execution_count": 11,
   "metadata": {},
   "outputs": [
    {
     "data": {
      "text/plain": [
       "2-element Vector{Int64}:\n",
       " 1\n",
       " 2"
      ]
     },
     "metadata": {},
     "output_type": "display_data"
    }
   ],
   "source": [
    "SetAlpha(model,[1,2])"
   ]
  },
  {
   "cell_type": "code",
   "execution_count": 12,
   "metadata": {},
   "outputs": [
    {
     "data": {
      "text/plain": [
       "Dict{Num, Int64} with 4 entries:\n",
       "  x_1 => 1\n",
       "  x_2 => 1\n",
       "  y_1 => 1\n",
       "  y_2 => 1"
      ]
     },
     "metadata": {},
     "output_type": "display_data"
    }
   ],
   "source": [
    "SetPoint(model,Dict(x_1=>1,x_2=>1,y_1=>1,y_2=>1))"
   ]
  },
  {
   "cell_type": "code",
   "execution_count": 13,
   "metadata": {},
   "outputs": [
    {
     "name": "stdout",
     "output_type": "stream",
     "text": [
      "Leader's Objective Function:\n",
      "Variable names: [:x_1, :y_1, :x_2, :y_2]\n",
      "Expression (string): x_2 + (x_1^2)*(y_1^2)*y_2\n",
      "Parsed expression: x_2 + (x_1^2)*(y_1^2)*y_2\n",
      "Evaluation point: Dict{Any, Any}(\"x_1\" => 1, \"x_2\" => 1, \"y_2\" => 1, \"y_1\" => 1)\n",
      "Evaluation value: 2\n",
      "Is leader function: true\n",
      "------------------------------\n",
      "Leader's Restrictions:\n",
      "++++++++++++++++++++++++++++++\n",
      "Restriction 1\n",
      "Variable names: [:x_1, :y_1, :y_2]\n",
      "Expression (string): (x_1 - y_1 + y_2) == 9\n",
      "Parsed expression: 9 - x_1 + y_1 - y_2\n",
      "Evaluation point: Dict{Any, Any}(\"x_1\" => 1, \"x_2\" => 1, \"y_2\" => 1, \"y_1\" => 1)\n",
      "Evaluation value: 8\n",
      "Additional constant: -8\n",
      "Restriction type: Gt\n",
      "Restriction set type: J_0_g\n",
      "Value of miu: 0.3\n",
      "Value of beta: 0\n",
      "Value of lambda: 0\n",
      "Value of gamma: 0\n",
      "++++++++++++++++++++++++++++++\n",
      "------------------------------\n",
      "Follower's Objective Function:\n",
      "Variable names: [:x_1, :y_1, :x_2, :y_2]\n",
      "Expression (string): x_1 + (x_2^2)*(y_1^2)*y_2\n",
      "Parsed expression: x_1 + (x_2^2)*(y_1^2)*y_2\n",
      "Evaluation point: Dict{Any, Any}(\"x_1\" => 1, \"x_2\" => 1, \"y_2\" => 1, \"y_1\" => 1)\n",
      "Evaluation value: 2\n",
      "Is leader function: false\n",
      "------------------------------\n",
      "Follower's Restrictions:\n",
      "++++++++++++++++++++++++++++++\n",
      "Restriction 1\n",
      "Variable names: [:x_1, :y_1, :x_2]\n",
      "Expression (string): (x_2 + (x_1^2)*(y_1^2)) == 0\n",
      "Parsed expression: x_2 - 0.19999999999999996y_1 - 0.3999999999999999y_2 + (x_1^2)*(y_1^2)\n",
      "Evaluation point: Dict{Any, Any}(\"x_1\" => 1, \"x_2\" => 1, \"y_2\" => 1, \"y_1\" => 1)\n",
      "Evaluation value: 1.4000000000000001\n",
      "Additional constant: -2.166978679412967\n",
      "Restriction type: Eq\n",
      "Restriction set type: J_Ne_L0_v\n",
      "Value of miu: 0\n",
      "Value of beta: 1\n",
      "Value of lambda: 0\n",
      "Value of gamma: 1\n",
      "++++++++++++++++++++++++++++++\n",
      "++++++++++++++++++++++++++++++\n",
      "Restriction 2\n",
      "Variable names: [:x_1, :y_1, :x_2, :y_2]\n",
      "Expression (string): (x_2 + (x_1^2)*(y_1^2)*y_2) == 0\n",
      "Parsed expression: x_2 - 1.7888543819998317y_1 - 3.5777087639996634y_2 + (x_1^2)*(y_1^2)*y_2\n",
      "Evaluation point: Dict{Any, Any}(\"x_1\" => 1, \"x_2\" => 1, \"y_2\" => 1, \"y_1\" => 1)\n",
      "Evaluation value: -3.3665631459994954\n",
      "Additional constant: 3.3665631459994954\n",
      "Restriction type: LtEq\n",
      "Restriction set type: J_0_LP_v\n",
      "Value of miu: 0\n",
      "Value of beta: 0.5\n",
      "Value of lambda: 1\n",
      "Value of gamma: 1\n",
      "++++++++++++++++++++++++++++++\n",
      "------------------------------\n",
      "Evaluation Point:\n",
      "Dict{Any, Any}(\"x_1\" => 1, \"x_2\" => 1, \"y_2\" => 1, \"y_1\" => 1)\n",
      "------------------------------\n",
      "_\n",
      "\n",
      "Num[-12.7, -10.5, -16.205572809000085, -3.0111456180001683]\n",
      "Leader's Objective Function:\n",
      "Variable names: [:x_1, :y_1, :x_2, :y_2]\n",
      "Expression (string): x_2 + (x_1^2)*(y_1^2)*y_2\n",
      "Parsed expression: x_2 + (x_1^2)*(y_1^2)*y_2\n",
      "Evaluation point: Dict{Any, Any}(\"x_1\" => 1, \"x_2\" => 1, \"y_2\" => 1, \"y_1\" => 1)\n",
      "Evaluation value: 2\n",
      "Is leader function: true\n",
      "------------------------------\n",
      "Leader's Restrictions:\n",
      "++++++++++++++++++++++++++++++\n",
      "Restriction 1\n",
      "Variable names: [:x_1, :y_1, :y_2]\n",
      "Expression (string): (x_1 - y_1 + y_2) == 9\n",
      "Parsed expression: 9 - x_1 + y_1 - y_2\n",
      "Evaluation point: Dict{Any, Any}(\"x_1\" => 1, \"x_2\" => 1, \"y_2\" => 1, \"y_1\" => 1)\n",
      "Evaluation value: 8\n",
      "Additional constant: -8\n",
      "Restriction type: Gt\n",
      "Restriction set type: J_0_g\n",
      "Value of miu: 0.3\n",
      "Value of beta: 0\n",
      "Value of lambda: 0\n",
      "Value of gamma: 0\n",
      "++++++++++++++++++++++++++++++\n",
      "------------------------------\n",
      "Follower's Objective Function:\n",
      "Variable names: [:x_1, :y_1, :x_2, :y_2]\n",
      "Expression (string): x_1 + (x_2^2)*(y_1^2)*y_2\n",
      "Parsed expression: x_1 + (x_2^2)*(y_1^2)*y_2\n",
      "Evaluation point: Dict{Any, Any}(\"x_1\" => 1, \"x_2\" => 1, \"y_2\" => 1, \"y_1\" => 1)\n",
      "Evaluation value: 2\n",
      "Is leader function: false\n",
      "------------------------------\n",
      "Follower's Restrictions:\n",
      "++++++++++++++++++++++++++++++\n",
      "Restriction 1\n",
      "Variable names: [:x_1, :y_1, :x_2]\n",
      "Expression (string): (x_2 + (x_1^2)*(y_1^2)) == 0\n",
      "Parsed expression: x_2 - 0.19999999999999996y_1 - 0.3999999999999999y_2 + (x_1^2)*(y_1^2)\n",
      "Evaluation point: Dict{Any, Any}(\"x_1\" => 1, \"x_2\" => 1, \"y_2\" => 1, \"y_1\" => 1)\n",
      "Evaluation value: 1.4000000000000001\n",
      "Additional constant: -2.166978679412967\n",
      "Restriction type: Eq\n",
      "Restriction set type: J_Ne_L0_v\n",
      "Value of miu: 0\n",
      "Value of beta: 1\n",
      "Value of lambda: 0\n",
      "Value of gamma: 1\n",
      "++++++++++++++++++++++++++++++\n",
      "++++++++++++++++++++++++++++++\n",
      "Restriction 2\n",
      "Variable names: [:x_1, :y_1, :x_2, :y_2]\n",
      "Expression (string): (x_2 + (x_1^2)*(y_1^2)*y_2) == 0\n",
      "Parsed expression: x_2 - 1.7888543819998317y_1 - 3.5777087639996634y_2 + (x_1^2)*(y_1^2)*y_2\n",
      "Evaluation point: Dict{Any, Any}(\"x_1\" => 1, \"x_2\" => 1, \"y_2\" => 1, \"y_1\" => 1)\n",
      "Evaluation value: -3.3665631459994954\n",
      "Additional constant: 3.3665631459994954\n",
      "Restriction type: LtEq\n",
      "Restriction set type: J_0_LP_v\n",
      "Value of miu: 0\n",
      "Value of beta: 0.5\n",
      "Value of lambda: 1\n",
      "Value of gamma: 1\n",
      "++++++++++++++++++++++++++++++\n",
      "------------------------------\n",
      "Evaluation Point:\n",
      "Dict{Any, Any}(\"x_1\" => 1, \"x_2\" => 1, \"y_2\" => 1, \"y_1\" => 1)\n",
      "------------------------------\n",
      "_\n"
     ]
    },
    {
     "data": {
      "text/plain": [
       "(, Num[-12.7, -10.5, -16.205572809000085, -3.0111456180001683])"
      ]
     },
     "metadata": {},
     "output_type": "display_data"
    }
   ],
   "source": [
    "CreateProblem(model)"
   ]
  },
  {
   "cell_type": "code",
   "execution_count": 14,
   "metadata": {},
   "outputs": [],
   "source": []
  }
 ],
 "metadata": {
  "kernelspec": {
   "display_name": "Julia 1.10.5",
   "language": "julia",
   "name": "julia-1.10"
  },
  "language_info": {
   "file_extension": ".jl",
   "mimetype": "application/julia",
   "name": "julia",
   "version": "1.10.5"
  }
 },
 "nbformat": 4,
 "nbformat_minor": 2
}
