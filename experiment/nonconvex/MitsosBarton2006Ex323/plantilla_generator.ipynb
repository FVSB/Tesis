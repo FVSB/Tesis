{
 "cells": [
  {
   "cell_type": "markdown",
   "metadata": {},
   "source": [
    "## Importar el módulo\n"
   ]
  },
  {
   "cell_type": "code",
   "execution_count": 1,
   "metadata": {},
   "outputs": [
    {
     "data": {
      "text/plain": [
       "RunExperiment (generic function with 1 method)"
      ]
     },
     "metadata": {},
     "output_type": "display_data"
    }
   ],
   "source": [
    "include(\"../../new_experiment.jl\")"
   ]
  },
  {
   "cell_type": "markdown",
   "metadata": {},
   "source": [
    "Crear un experimento\n"
   ]
  },
  {
   "cell_type": "code",
   "execution_count": 2,
   "metadata": {},
   "outputs": [
    {
     "data": {
      "text/plain": [
       "Experiment(OptimizationModel(Problem(Any[], nothing), LeaderRestrictionProblem[], Problem(Any[], nothing), FollowerRestrictionProblem[], Dict{Any, Any}(), Number[1], false), OptimizationModel(Problem(Any[], nothing), LeaderRestrictionProblem[], Problem(Any[], nothing), FollowerRestrictionProblem[], Dict{Any, Any}(), Number[], true), Any[], Any[])"
      ]
     },
     "metadata": {},
     "output_type": "display_data"
    }
   ],
   "source": [
    "experiment=CreateExperiment()"
   ]
  },
  {
   "cell_type": "markdown",
   "metadata": {},
   "source": [
    "### Declarar variables del líder\n"
   ]
  },
  {
   "cell_type": "code",
   "execution_count": 3,
   "metadata": {},
   "outputs": [
    {
     "data": {
      "text/latex": [
       "$$ \\begin{equation}\n",
       "\\left[\n",
       "\\begin{array}{c}\n",
       "x \\\\\n",
       "\\end{array}\n",
       "\\right]\n",
       "\\end{equation}\n",
       " $$"
      ],
      "text/plain": [
       "1-element Vector{Num}:\n",
       " x"
      ]
     },
     "metadata": {},
     "output_type": "display_data"
    }
   ],
   "source": [
    "@leader_vars experiment x"
   ]
  },
  {
   "cell_type": "markdown",
   "metadata": {},
   "source": [
    "### Declarar Variables del Follower"
   ]
  },
  {
   "cell_type": "code",
   "execution_count": 4,
   "metadata": {},
   "outputs": [
    {
     "data": {
      "text/latex": [
       "$$ \\begin{equation}\n",
       "\\left[\n",
       "\\begin{array}{c}\n",
       "y \\\\\n",
       "\\end{array}\n",
       "\\right]\n",
       "\\end{equation}\n",
       " $$"
      ],
      "text/plain": [
       "1-element Vector{Num}:\n",
       " y"
      ]
     },
     "metadata": {},
     "output_type": "display_data"
    }
   ],
   "source": [
    "@follower_vars experiment y"
   ]
  },
  {
   "cell_type": "markdown",
   "metadata": {},
   "source": [
    "### Declarar Función Objetivo del Líder"
   ]
  },
  {
   "cell_type": "code",
   "execution_count": 5,
   "metadata": {},
   "outputs": [
    {
     "data": {
      "text/latex": [
       "$$ \\begin{equation}\n",
       "x\n",
       "\\end{equation}\n",
       " $$"
      ],
      "text/plain": [
       "x"
      ]
     },
     "metadata": {},
     "output_type": "display_data"
    }
   ],
   "source": [
    "SetLeaderFunction(experiment,x)"
   ]
  },
  {
   "cell_type": "markdown",
   "metadata": {},
   "source": [
    "Restricciones del Líder"
   ]
  },
  {
   "cell_type": "code",
   "execution_count": 6,
   "metadata": {},
   "outputs": [
    {
     "data": {
      "text/plain": [
       "1-element Vector{LeaderRestrictionProblem}:\n",
       " LeaderRestrictionProblem((-1 - x) <= 0, 0.40289256877441226, J_0_g)"
      ]
     },
     "metadata": {},
     "output_type": "display_data"
    }
   ],
   "source": [
    "SetLeaderRestriction(experiment,-x-1<=0)"
   ]
  },
  {
   "cell_type": "code",
   "execution_count": 7,
   "metadata": {},
   "outputs": [
    {
     "data": {
      "text/plain": [
       "2-element Vector{LeaderRestrictionProblem}:\n",
       " LeaderRestrictionProblem((-1 - x) <= 0, 0.40289256877441226, J_0_g)\n",
       " LeaderRestrictionProblem((-1 + x) <= 0, 0.1830031712611374, J_0_g)"
      ]
     },
     "metadata": {},
     "output_type": "display_data"
    }
   ],
   "source": [
    "SetLeaderRestriction(experiment,x-1<=0)"
   ]
  },
  {
   "cell_type": "code",
   "execution_count": 8,
   "metadata": {},
   "outputs": [
    {
     "data": {
      "text/plain": [
       "3-element Vector{LeaderRestrictionProblem}:\n",
       " LeaderRestrictionProblem((-1 - x) <= 0, 0.40289256877441226, J_0_g)\n",
       " LeaderRestrictionProblem((-1 + x) <= 0, 0.1830031712611374, J_0_g)\n",
       " LeaderRestrictionProblem((1 + x - y - 9(x^2)) <= 0, 0.9225734728776792, J_0_g)"
      ]
     },
     "metadata": {},
     "output_type": "display_data"
    }
   ],
   "source": [
    "SetLeaderRestriction(experiment,1+x-(9*(x^2))-y<=0)"
   ]
  },
  {
   "cell_type": "markdown",
   "metadata": {},
   "source": [
    "### Función objetivo del Follower"
   ]
  },
  {
   "cell_type": "code",
   "execution_count": 9,
   "metadata": {},
   "outputs": [
    {
     "data": {
      "text/latex": [
       "$$ \\begin{equation}\n",
       "y\n",
       "\\end{equation}\n",
       " $$"
      ],
      "text/plain": [
       "y"
      ]
     },
     "metadata": {},
     "output_type": "display_data"
    }
   ],
   "source": [
    "SetFollowerFunction(experiment,y)"
   ]
  },
  {
   "cell_type": "markdown",
   "metadata": {},
   "source": [
    "### Restricciones del Follower"
   ]
  },
  {
   "cell_type": "code",
   "execution_count": 10,
   "metadata": {},
   "outputs": [
    {
     "data": {
      "text/plain": [
       "1-element Vector{FollowerRestrictionProblem}:\n",
       " FollowerRestrictionProblem(((-0.5 + x)*(y^2)) <= 0, J_0_LP_v, 0.4244776064020205, 0.9439243599229785, 0.5588372646630134)"
      ]
     },
     "metadata": {},
     "output_type": "display_data"
    }
   ],
   "source": [
    "SetFollowerRestriction(experiment,(y^2)*(x-0.5)<=0 )"
   ]
  },
  {
   "cell_type": "code",
   "execution_count": 11,
   "metadata": {},
   "outputs": [
    {
     "data": {
      "text/plain": [
       "2-element Vector{FollowerRestrictionProblem}:\n",
       " FollowerRestrictionProblem(((-0.5 + x)*(y^2)) <= 0, J_0_LP_v, 0.4244776064020205, 0.9439243599229785, 0.5588372646630134)\n",
       " FollowerRestrictionProblem((-1 + y) <= 0, J_0_LP_v, 0.018752609354644394, 0.6187959829534547, 0.737475881891569)"
      ]
     },
     "metadata": {},
     "output_type": "display_data"
    }
   ],
   "source": [
    "SetFollowerRestriction(experiment,y-1<=0)"
   ]
  },
  {
   "cell_type": "code",
   "execution_count": 12,
   "metadata": {},
   "outputs": [
    {
     "data": {
      "text/plain": [
       "3-element Vector{FollowerRestrictionProblem}:\n",
       " FollowerRestrictionProblem(((-0.5 + x)*(y^2)) <= 0, J_0_LP_v, 0.4244776064020205, 0.9439243599229785, 0.5588372646630134)\n",
       " FollowerRestrictionProblem((-1 + y) <= 0, J_0_LP_v, 0.018752609354644394, 0.6187959829534547, 0.737475881891569)\n",
       " FollowerRestrictionProblem((-1 - y) <= 0, J_0_LP_v, 0.19210465336585714, 0.11271110120524051, 0.6411680129446014)"
      ]
     },
     "metadata": {},
     "output_type": "display_data"
    }
   ],
   "source": [
    "SetFollowerRestriction(experiment,-y-1<=0)"
   ]
  },
  {
   "cell_type": "markdown",
   "metadata": {},
   "source": [
    "### Poner el Punto Optimo"
   ]
  },
  {
   "cell_type": "code",
   "execution_count": 13,
   "metadata": {},
   "outputs": [
    {
     "data": {
      "text/plain": [
       "Dict{Any, Any} with 2 entries:\n",
       "  y => -0.35668\n",
       "  x => 0.31767"
      ]
     },
     "metadata": {},
     "output_type": "display_data"
    }
   ],
   "source": [
    "SetPoint(experiment,Dict(x=>-0.41,y=>-1))"
   ]
  },
  {
   "cell_type": "markdown",
   "metadata": {},
   "source": [
    "## Iniciar el Experimento\n"
   ]
  },
  {
   "cell_type": "code",
   "execution_count": 14,
   "metadata": {},
   "outputs": [
    {
     "name": "stdout",
     "output_type": "stream",
     "text": [
      "Va a retornar correctamente\n",
      "Leader's Objective Function:\n",
      "Variable names: [:x]\n",
      "Expression (string): x\n",
      "Parsed expression: x\n",
      "Evaluation point: Dict{Any, Any}(\"x\" => 0.3176698739674006, \"y\" => -0.3566798236989688)\n",
      "Evaluation value: 0.3176698739674006\n",
      "Is leader function: true\n",
      "------------------------------\n",
      "Leader's Restrictions:\n",
      "++++++++++++++++++++++++++++++\n",
      "Restriction 1\n",
      "Variable names: [:x]\n",
      "Expression (string): (-1 - x) == 0\n",
      "Parsed expression: -1 - x\n",
      "Evaluation point: Dict{Any, Any}(\"x\" => 0.3176698739674006, \"y\" => -0.3566798236989688)\n",
      "Evaluation value: -1.3176698739674007\n",
      "Additional constant: 1.3176698739674007\n",
      "Restriction type: LtEq\n",
      "Restriction set type: J_0_g\n",
      "Value of miu: 0.40289256877441226\n",
      "Value of beta: 0\n",
      "Value of lambda: 0\n",
      "Value of gamma: 0\n",
      "++++++++++++++++++++++++++++++\n",
      "++++++++++++++++++++++++++++++\n",
      "Restriction 2\n",
      "Variable names: [:x]\n",
      "Expression (string): (-1 + x) == 0\n",
      "Parsed expression: -1 + x\n",
      "Evaluation point: Dict{Any, Any}(\"x\" => 0.3176698739674006, \"y\" => -0.3566798236989688)\n",
      "Evaluation value: -0.6823301260325993\n",
      "Additional constant: 0.6823301260325993\n",
      "Restriction type: LtEq\n",
      "Restriction set type: J_0_g\n",
      "Value of miu: 0.1830031712611374\n",
      "Value of beta: 0\n",
      "Value of lambda: 0\n",
      "Value of gamma: 0\n",
      "++++++++++++++++++++++++++++++\n",
      "++++++++++++++++++++++++++++++\n",
      "Restriction 3\n",
      "Variable names: [:y, :x]\n",
      "Expression (string): (1 + x - y - 9(x^2)) == 0\n",
      "Parsed expression: 1 + x - y - 9(x^2)\n",
      "Evaluation point: Dict{Any, Any}(\"x\" => 0.3176698739674006, \"y\" => -0.3566798236989688)\n",
      "Evaluation value: 0.7661223582281917\n",
      "Additional constant: -0.7661223582281917\n",
      "Restriction type: LtEq\n",
      "Restriction set type: J_0_g\n",
      "Value of miu: 0.9225734728776792\n",
      "Value of beta: 0\n",
      "Value of lambda: 0\n",
      "Value of gamma: 0\n",
      "++++++++++++++++++++++++++++++\n",
      "------------------------------\n",
      "Follower's Objective Function:\n",
      "Variable names: [:y]\n",
      "Expression (string): y\n",
      "Parsed expression: y\n",
      "Evaluation point: Dict{Any, Any}(\"x\" => 0.3176698739674006, \"y\" => -0.3566798236989688)\n",
      "Evaluation value: -0.3566798236989688\n",
      "Is leader function: false\n",
      "------------------------------\n",
      "Follower's Restrictions:\n",
      "++++++++++++++++++++++++++++++\n",
      "Restriction 1\n",
      "Variable names: [:y, :x]\n",
      "Expression (string): ((-0.5 + x)*(y^2)) == 0\n",
      "Parsed expression: -0.08509804913166606y + (-0.5 + x)*(y^2)\n",
      "Evaluation point: Dict{Any, Any}(\"x\" => 0.3176698739674006, \"y\" => -0.3566798236989688)\n",
      "Evaluation value: 0.007156627976214955\n",
      "Additional constant: -0.007156627976214955\n",
      "Restriction type: LtEq\n",
      "Restriction set type: J_0_LP_v\n",
      "Value of miu: 0\n",
      "Value of beta: 0.4244776064020205\n",
      "Value of lambda: 0.9439243599229785\n",
      "Value of gamma: 0.5588372646630134\n",
      "++++++++++++++++++++++++++++++\n",
      "++++++++++++++++++++++++++++++\n",
      "Restriction 2\n",
      "Variable names: [:y]\n",
      "Expression (string): (-1 + y) == 0\n",
      "Parsed expression: -1 + 0.3457365899483126y\n",
      "Evaluation point: Dict{Any, Any}(\"x\" => 0.3176698739674006, \"y\" => -0.3566798236989688)\n",
      "Evaluation value: -1.123317265949047\n",
      "Additional constant: 1.123317265949047\n",
      "Restriction type: LtEq\n",
      "Restriction set type: J_0_LP_v\n",
      "Value of miu: 0\n",
      "Value of beta: 0.018752609354644394\n",
      "Value of lambda: 0.6187959829534547\n",
      "Value of gamma: 0.737475881891569\n",
      "++++++++++++++++++++++++++++++\n",
      "++++++++++++++++++++++++++++++\n",
      "Restriction 3\n",
      "Variable names: [:y]\n",
      "Expression (string): (-1 - y) == 0\n",
      "Parsed expression: -1 - 0.3457365899483126y\n",
      "Evaluation point: Dict{Any, Any}(\"x\" => 0.3176698739674006, \"y\" => -0.3566798236989688)\n",
      "Evaluation value: -0.8766827340509532\n",
      "Additional constant: 0.8766827340509532\n",
      "Restriction type: LtEq\n",
      "Restriction set type: J_0_LP_v\n",
      "Value of miu: 0\n",
      "Value of beta: 0.19210465336585714\n",
      "Value of lambda: 0.11271110120524051\n",
      "Value of gamma: 0.6411680129446014\n",
      "++++++++++++++++++++++++++++++\n",
      "------------------------------\n",
      "Evaluation Point:\n",
      "Dict{Any, Any}(\"x\" => 0.3176698739674006, \"y\" => -0.3566798236989688)\n",
      "------------------------------\n",
      "_\n",
      "\n",
      "Num[3.9591952580322674, 1.1886244415202554]\n",
      "Va a retornar correctamente\n",
      "Leader's Objective Function:\n",
      "Variable names: [:x]\n",
      "Expression (string): x\n",
      "Parsed expression: x\n",
      "Evaluation point: Dict{Any, Any}(\"x\" => 0.3176698739674006, \"y\" => -0.3566798236989688)\n",
      "Evaluation value: 0.3176698739674006\n",
      "Is leader function: true\n",
      "------------------------------\n",
      "Leader's Restrictions:\n",
      "++++++++++++++++++++++++++++++\n",
      "Restriction 1\n",
      "Variable names: [:x]\n",
      "Expression (string): (-1 - x) == 0\n",
      "Parsed expression: -1 - x\n",
      "Evaluation point: Dict{Any, Any}(\"x\" => 0.3176698739674006, \"y\" => -0.3566798236989688)\n",
      "Evaluation value: -1.3176698739674007\n",
      "Additional constant: 1.3176698739674007\n",
      "Restriction type: LtEq\n",
      "Restriction set type: J_0_g\n",
      "Value of miu: 0.40289256877441226\n",
      "Value of beta: 0\n",
      "Value of lambda: 0\n",
      "Value of gamma: 0\n",
      "++++++++++++++++++++++++++++++\n",
      "++++++++++++++++++++++++++++++\n",
      "Restriction 2\n",
      "Variable names: [:x]\n",
      "Expression (string): (-1 + x) == 0\n",
      "Parsed expression: -1 + x\n",
      "Evaluation point: Dict{Any, Any}(\"x\" => 0.3176698739674006, \"y\" => -0.3566798236989688)\n",
      "Evaluation value: -0.6823301260325993\n",
      "Additional constant: 0.6823301260325993\n",
      "Restriction type: LtEq\n",
      "Restriction set type: J_0_g\n",
      "Value of miu: 0.1830031712611374\n",
      "Value of beta: 0\n",
      "Value of lambda: 0\n",
      "Value of gamma: 0\n",
      "++++++++++++++++++++++++++++++\n",
      "++++++++++++++++++++++++++++++\n",
      "Restriction 3\n",
      "Variable names: [:y, :x]\n",
      "Expression (string): (1 + x - y - 9(x^2)) == 0\n",
      "Parsed expression: 1 + x - y - 9(x^2)\n",
      "Evaluation point: Dict{Any, Any}(\"x\" => 0.3176698739674006, \"y\" => -0.3566798236989688)\n",
      "Evaluation value: 0.7661223582281917\n",
      "Additional constant: -0.7661223582281917\n",
      "Restriction type: LtEq\n",
      "Restriction set type: J_0_g\n",
      "Value of miu: 0.9225734728776792\n",
      "Value of beta: 0\n",
      "Value of lambda: 0\n",
      "Value of gamma: 0\n",
      "++++++++++++++++++++++++++++++\n",
      "------------------------------\n",
      "Follower's Objective Function:\n",
      "Variable names: [:y]\n",
      "Expression (string): y\n",
      "Parsed expression: y\n",
      "Evaluation point: Dict{Any, Any}(\"x\" => 0.3176698739674006, \"y\" => -0.3566798236989688)\n",
      "Evaluation value: -0.3566798236989688\n",
      "Is leader function: false\n",
      "------------------------------\n",
      "Follower's Restrictions:\n",
      "++++++++++++++++++++++++++++++\n",
      "Restriction 1\n",
      "Variable names: [:y, :x]\n",
      "Expression (string): ((-0.5 + x)*(y^2)) == 0\n",
      "Parsed expression: (-0.5 + x)*(y^2)\n",
      "Evaluation point: Dict{Any, Any}(\"x\" => 0.3176698739674006, \"y\" => -0.3566798236989688)\n",
      "Evaluation value: -0.02319612918519388\n",
      "Additional constant: 0.02319612918519388\n",
      "Restriction type: LtEq\n",
      "Restriction set type: J_0_LP_v\n",
      "Value of miu: 0\n",
      "Value of beta: 0.4244776064020205\n",
      "Value of lambda: 0.9439243599229785\n",
      "Value of gamma: 0.5588372646630134\n",
      "++++++++++++++++++++++++++++++\n",
      "++++++++++++++++++++++++++++++\n",
      "Restriction 2\n",
      "Variable names: [:y]\n",
      "Expression (string): (-1 + y) == 0\n",
      "Parsed expression: -1 + y\n",
      "Evaluation point: Dict{Any, Any}(\"x\" => 0.3176698739674006, \"y\" => -0.3566798236989688)\n",
      "Evaluation value: -1.3566798236989688\n",
      "Additional constant: 1.3566798236989688\n",
      "Restriction type: LtEq\n",
      "Restriction set type: J_0_LP_v\n",
      "Value of miu: 0\n",
      "Value of beta: 0.018752609354644394\n",
      "Value of lambda: 0.6187959829534547\n",
      "Value of gamma: 0.737475881891569\n",
      "++++++++++++++++++++++++++++++\n",
      "++++++++++++++++++++++++++++++\n",
      "Restriction 3\n",
      "Variable names: [:y]\n",
      "Expression (string): (-1 - y) == 0\n",
      "Parsed expression: -1 - y\n",
      "Evaluation point: Dict{Any, Any}(\"x\" => 0.3176698739674006, \"y\" => -0.3566798236989688)\n",
      "Evaluation value: -0.6433201763010312\n",
      "Additional constant: 0.6433201763010312\n",
      "Restriction type: LtEq\n",
      "Restriction set type: J_0_LP_v\n",
      "Value of miu: 0\n",
      "Value of beta: 0.19210465336585714\n",
      "Value of lambda: 0.11271110120524051\n",
      "Value of gamma: 0.6411680129446014\n",
      "++++++++++++++++++++++++++++++\n",
      "------------------------------\n",
      "Evaluation Point:\n",
      "Dict{Any, Any}(\"x\" => 0.3176698739674006, \"y\" => -0.3566798236989688)\n",
      "------------------------------\n",
      "_\n",
      "\n",
      "Num[3.518642052124099, 1.0407150074061173]\n",
      "Se va a crear el DataFrame\n",
      "Se va a crear el DataFrame\n",
      "Se va a crear el DataFrame\n",
      "Experimento Completado\n"
     ]
    }
   ],
   "source": [
    "RunExperiment(experiment,\"MitsosBarton2006Ex323\")"
   ]
  }
 ],
 "metadata": {
  "kernelspec": {
   "display_name": "Julia 1.10.5",
   "language": "julia",
   "name": "julia-1.10"
  },
  "language_info": {
   "file_extension": ".jl",
   "mimetype": "application/julia",
   "name": "julia",
   "version": "1.10.5"
  }
 },
 "nbformat": 4,
 "nbformat_minor": 2
}
