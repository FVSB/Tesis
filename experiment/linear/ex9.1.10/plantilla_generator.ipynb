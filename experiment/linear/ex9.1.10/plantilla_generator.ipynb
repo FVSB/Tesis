{
 "cells": [
  {
   "cell_type": "markdown",
   "metadata": {},
   "source": [
    "## Importar el módulo\n"
   ]
  },
  {
   "cell_type": "code",
   "execution_count": 1,
   "metadata": {},
   "outputs": [
    {
     "data": {
      "text/plain": [
       "RunExperiment (generic function with 1 method)"
      ]
     },
     "metadata": {},
     "output_type": "display_data"
    }
   ],
   "source": [
    "include(\"../../new_experiment.jl\")"
   ]
  },
  {
   "cell_type": "markdown",
   "metadata": {},
   "source": [
    "Crear un experimento\n"
   ]
  },
  {
   "cell_type": "code",
   "execution_count": 2,
   "metadata": {},
   "outputs": [
    {
     "data": {
      "text/plain": [
       "Experiment(OptimizationModel(Problem(Any[], nothing), LeaderRestrictionProblem[], Problem(Any[], nothing), FollowerRestrictionProblem[], Dict{Any, Any}(), Number[1], false), OptimizationModel(Problem(Any[], nothing), LeaderRestrictionProblem[], Problem(Any[], nothing), FollowerRestrictionProblem[], Dict{Any, Any}(), Number[], true), Any[], Any[])"
      ]
     },
     "metadata": {},
     "output_type": "display_data"
    }
   ],
   "source": [
    "experiment=CreateExperiment()"
   ]
  },
  {
   "cell_type": "markdown",
   "metadata": {},
   "source": [
    "### Declarar variables del líder\n"
   ]
  },
  {
   "cell_type": "code",
   "execution_count": 3,
   "metadata": {},
   "outputs": [
    {
     "data": {
      "text/latex": [
       "$$ \\begin{equation}\n",
       "\\left[\n",
       "\\begin{array}{c}\n",
       "\\mathtt{x\\_1} \\\\\n",
       "\\mathtt{x\\_2} \\\\\n",
       "\\end{array}\n",
       "\\right]\n",
       "\\end{equation}\n",
       " $$"
      ],
      "text/plain": [
       "2-element Vector{Num}:\n",
       " x_1\n",
       " x_2"
      ]
     },
     "metadata": {},
     "output_type": "display_data"
    }
   ],
   "source": [
    "@leader_vars experiment x_1,x_2"
   ]
  },
  {
   "cell_type": "markdown",
   "metadata": {},
   "source": [
    "### Declarar Variables del Follower"
   ]
  },
  {
   "cell_type": "code",
   "execution_count": 4,
   "metadata": {},
   "outputs": [
    {
     "data": {
      "text/latex": [
       "$$ \\begin{equation}\n",
       "\\left[\n",
       "\\begin{array}{c}\n",
       "\\mathtt{y\\_1} \\\\\n",
       "\\mathtt{y\\_2} \\\\\n",
       "\\end{array}\n",
       "\\right]\n",
       "\\end{equation}\n",
       " $$"
      ],
      "text/plain": [
       "2-element Vector{Num}:\n",
       " y_1\n",
       " y_2"
      ]
     },
     "metadata": {},
     "output_type": "display_data"
    }
   ],
   "source": [
    "@follower_vars experiment y_1,y_2"
   ]
  },
  {
   "cell_type": "markdown",
   "metadata": {},
   "source": [
    "### Declarar Función Objetivo del Líder"
   ]
  },
  {
   "cell_type": "code",
   "execution_count": 5,
   "metadata": {},
   "outputs": [
    {
     "data": {
      "text/latex": [
       "$$ \\begin{equation}\n",
       " - 2 \\mathtt{x\\_1} + \\mathtt{x\\_2} + 0.5 \\mathtt{y\\_1}\n",
       "\\end{equation}\n",
       " $$"
      ],
      "text/plain": [
       "-2x_1 + x_2 + 0.5y_1"
      ]
     },
     "metadata": {},
     "output_type": "display_data"
    }
   ],
   "source": [
    "SetLeaderFunction(experiment,-2x_1+x_2+0.5y_1)"
   ]
  },
  {
   "cell_type": "markdown",
   "metadata": {},
   "source": [
    "### Función objetivo del Follower"
   ]
  },
  {
   "cell_type": "code",
   "execution_count": 6,
   "metadata": {},
   "outputs": [
    {
     "data": {
      "text/latex": [
       "$$ \\begin{equation}\n",
       "\\mathtt{x\\_1} + \\mathtt{x\\_2} - 4 \\mathtt{y\\_1} + \\mathtt{y\\_2}\n",
       "\\end{equation}\n",
       " $$"
      ],
      "text/plain": [
       "x_1 + x_2 - 4y_1 + y_2"
      ]
     },
     "metadata": {},
     "output_type": "display_data"
    }
   ],
   "source": [
    "SetFollowerFunction(experiment,-4y_1+y_2+x_1+x_2)"
   ]
  },
  {
   "cell_type": "markdown",
   "metadata": {},
   "source": [
    "### Restricciones del Follower"
   ]
  },
  {
   "cell_type": "code",
   "execution_count": 7,
   "metadata": {},
   "outputs": [
    {
     "data": {
      "text/plain": [
       "1-element Vector{FollowerRestrictionProblem}:\n",
       " FollowerRestrictionProblem((-2x_1 + y_1 - y_2) <= -2.5, J_0_LP_v, 0.10275444624050843, 0.7774260016834396, 0.3822015971393006)"
      ]
     },
     "metadata": {},
     "output_type": "display_data"
    }
   ],
   "source": [
    "SetFollowerRestriction(experiment,-2x_1+y_1-y_2<=-2.5)"
   ]
  },
  {
   "cell_type": "code",
   "execution_count": 8,
   "metadata": {},
   "outputs": [
    {
     "data": {
      "text/plain": [
       "2-element Vector{FollowerRestrictionProblem}:\n",
       " FollowerRestrictionProblem((-2x_1 + y_1 - y_2) <= -2.5, J_0_LP_v, 0.10275444624050843, 0.7774260016834396, 0.3822015971393006)\n",
       " FollowerRestrictionProblem((x_1 - 3x_2 + y_2) <= 2, J_0_LP_v, 0.9566475091647719, 0.39768890515544597, 0.18049454458492964)"
      ]
     },
     "metadata": {},
     "output_type": "display_data"
    }
   ],
   "source": [
    "SetFollowerRestriction(experiment,x_1-3x_2+y_2<=2)"
   ]
  },
  {
   "cell_type": "code",
   "execution_count": 9,
   "metadata": {},
   "outputs": [
    {
     "data": {
      "text/plain": [
       "3-element Vector{FollowerRestrictionProblem}:\n",
       " FollowerRestrictionProblem((-2x_1 + y_1 - y_2) <= -2.5, J_0_LP_v, 0.10275444624050843, 0.7774260016834396, 0.3822015971393006)\n",
       " FollowerRestrictionProblem((x_1 - 3x_2 + y_2) <= 2, J_0_LP_v, 0.9566475091647719, 0.39768890515544597, 0.18049454458492964)\n",
       " FollowerRestrictionProblem((-y_1) <= 0, J_0_LP_v, 0.3370826051826905, 0.20191682337459138, 0.511025655986493)"
      ]
     },
     "metadata": {},
     "output_type": "display_data"
    }
   ],
   "source": [
    "SetFollowerRestriction(experiment,-y_1<=0)"
   ]
  },
  {
   "cell_type": "code",
   "execution_count": 10,
   "metadata": {},
   "outputs": [
    {
     "data": {
      "text/plain": [
       "4-element Vector{FollowerRestrictionProblem}:\n",
       " FollowerRestrictionProblem((-2x_1 + y_1 - y_2) <= -2.5, J_0_LP_v, 0.10275444624050843, 0.7774260016834396, 0.3822015971393006)\n",
       " FollowerRestrictionProblem((x_1 - 3x_2 + y_2) <= 2, J_0_LP_v, 0.9566475091647719, 0.39768890515544597, 0.18049454458492964)\n",
       " FollowerRestrictionProblem((-y_1) <= 0, J_0_LP_v, 0.3370826051826905, 0.20191682337459138, 0.511025655986493)\n",
       " FollowerRestrictionProblem((-y_2) <= 0, J_0_LP_v, 0.4628038089727212, 0.5707039120766931, 0.5526796507913133)"
      ]
     },
     "metadata": {},
     "output_type": "display_data"
    }
   ],
   "source": [
    "SetFollowerRestriction(experiment,-y_2<=0)"
   ]
  },
  {
   "cell_type": "markdown",
   "metadata": {},
   "source": [
    "### Poner el Punto Optimo"
   ]
  },
  {
   "cell_type": "code",
   "execution_count": 11,
   "metadata": {},
   "outputs": [
    {
     "data": {
      "text/plain": [
       "Dict{Any, Any} with 4 entries:\n",
       "  x_1 => 51.7089\n",
       "  x_2 => 16.6818\n",
       "  y_1 => 100.781\n",
       "  y_2 => 0.125837"
      ]
     },
     "metadata": {},
     "output_type": "display_data"
    }
   ],
   "source": [
    "SetPoint(experiment,Dict(x_1=>51.2,x_2=>16.4,y_1=>100,y_2=>0))"
   ]
  },
  {
   "cell_type": "markdown",
   "metadata": {},
   "source": [
    "## Iniciar el Experimento\n"
   ]
  },
  {
   "cell_type": "code",
   "execution_count": 12,
   "metadata": {},
   "outputs": [
    {
     "name": "stdout",
     "output_type": "stream",
     "text": [
      "Va a retornar correctamente\n",
      "Leader's Objective Function:\n",
      "Variable names: [:x_1, :y_1, :x_2]\n",
      "Expression (string): -2x_1 + x_2 + 0.5y_1\n",
      "Parsed expression: -2x_1 + x_2 + 0.5y_1\n",
      "Evaluation point: Dict{Any, Any}(\"x_1\" => 51.708878905971076, \"x_2\" => 16.68184037478476, \"y_2\" => 0.1258370000880895, \"y_1\" => 100.78100799049925)\n",
      "Evaluation value: -36.34541344190777\n",
      "Is leader function: true\n",
      "------------------------------\n",
      "Leader's Restrictions:\n",
      "------------------------------\n",
      "Follower's Objective Function:\n",
      "Variable names: [:x_1, :y_1, :x_2, :y_2]\n",
      "Expression (string): x_1 + x_2 - 4y_1 + y_2\n",
      "Parsed expression: x_1 + x_2 - 4y_1 + y_2\n",
      "Evaluation point: Dict{Any, Any}(\"x_1\" => 51.708878905971076, \"x_2\" => 16.68184037478476, \"y_2\" => 0.1258370000880895, \"y_1\" => 100.78100799049925)\n",
      "Evaluation value: -334.60747568115306\n",
      "Is leader function: false\n",
      "------------------------------\n",
      "Follower's Restrictions:\n",
      "++++++++++++++++++++++++++++++\n",
      "Restriction 1\n",
      "Variable names: [:x_1, :y_1, :y_2]\n",
      "Expression (string): (-2x_1 + y_1 - y_2) == -2.5\n",
      "Parsed expression: 2.5 - 2x_1 + 1.2034836341083988y_1 - 0.6000649710347258y_2\n",
      "Evaluation point: Dict{Any, Any}(\"x_1\" => 51.708878905971076, \"x_2\" => 16.68184037478476, \"y_2\" => 0.1258370000880895, \"y_1\" => 100.78100799049925)\n",
      "Evaluation value: 20.295025557758503\n",
      "Additional constant: -20.295025557758503\n",
      "Restriction type: LtEq\n",
      "Restriction set type: J_0_LP_v\n",
      "Value of miu: 0\n",
      "Value of beta: 0.10275444624050843\n",
      "Value of lambda: 0.7774260016834396\n",
      "Value of gamma: 0.3822015971393006\n",
      "++++++++++++++++++++++++++++++\n",
      "++++++++++++++++++++++++++++++\n",
      "Restriction 2\n",
      "Variable names: [:x_1, :x_2, :y_2]\n",
      "Expression (string): (x_1 - 3x_2 + y_2) == 2\n",
      "Parsed expression: -2 + x_1 - 3x_2 - 0.4142512358356695y_1 + 0.1858137351990563y_2\n",
      "Evaluation point: Dict{Any, Any}(\"x_1\" => 51.708878905971076, \"x_2\" => 16.68184037478476, \"y_2\" => 0.1258370000880895, \"y_1\" => 100.78100799049925)\n",
      "Evaluation value: -42.061917084199386\n",
      "Additional constant: 42.061917084199386\n",
      "Restriction type: LtEq\n",
      "Restriction set type: J_0_LP_v\n",
      "Value of miu: 0\n",
      "Value of beta: 0.9566475091647719\n",
      "Value of lambda: 0.39768890515544597\n",
      "Value of gamma: 0.18049454458492964\n",
      "++++++++++++++++++++++++++++++\n",
      "++++++++++++++++++++++++++++++\n",
      "Restriction 3\n",
      "Variable names: [:y_1]\n",
      "Expression (string): (-y_1) == 0\n",
      "Parsed expression: -0.7892323982727293y_1 + 0.4142512358356695y_2\n",
      "Evaluation point: Dict{Any, Any}(\"x_1\" => 51.708878905971076, \"x_2\" => 16.68184037478476, \"y_2\" => 0.1258370000880895, \"y_1\" => 100.78100799049925)\n",
      "Evaluation value: -79.48750850388447\n",
      "Additional constant: 79.48750850388447\n",
      "Restriction type: LtEq\n",
      "Restriction set type: J_0_LP_v\n",
      "Value of miu: 0\n",
      "Value of beta: 0.3370826051826905\n",
      "Value of lambda: 0.20191682337459138\n",
      "Value of gamma: 0.511025655986493\n",
      "++++++++++++++++++++++++++++++\n",
      "++++++++++++++++++++++++++++++\n",
      "Restriction 4\n",
      "Variable names: [:y_2]\n",
      "Expression (string): (-y_2) == 0\n",
      "Parsed expression: 0.4142512358356695y_1 - 0.1858137351990563y_2\n",
      "Evaluation point: Dict{Any, Any}(\"x_1\" => 51.708878905971076, \"x_2\" => 16.68184037478476, \"y_2\" => 0.1258370000880895, \"y_1\" => 100.78100799049925)\n",
      "Evaluation value: 41.72527486581618\n",
      "Additional constant: -41.72527486581618\n",
      "Restriction type: LtEq\n",
      "Restriction set type: J_0_LP_v\n",
      "Value of miu: 0\n",
      "Value of beta: 0.4628038089727212\n",
      "Value of lambda: 0.5707039120766931\n",
      "Value of gamma: 0.5526796507913133\n",
      "++++++++++++++++++++++++++++++\n",
      "------------------------------\n",
      "Evaluation Point:\n",
      "Dict{Any, Any}(\"x_1\" => 51.708878905971076, \"x_2\" => 16.68184037478476, \"y_2\" => 0.1258370000880895, \"y_1\" => 100.78100799049925)\n",
      "------------------------------\n",
      "_\n",
      "\n",
      "Num[1.248861383316245, 1.8699425274943158, -0.15305141836375197, -0.1697404845058445]\n",
      "Va a retornar correctamente\n",
      "Leader's Objective Function:\n",
      "Variable names: [:x_1, :y_1, :x_2]\n",
      "Expression (string): -2x_1 + x_2 + 0.5y_1\n",
      "Parsed expression: -2x_1 + x_2 + 0.5y_1\n",
      "Evaluation point: Dict{Any, Any}(\"x_1\" => 51.708878905971076, \"x_2\" => 16.68184037478476, \"y_2\" => 0.1258370000880895, \"y_1\" => 100.78100799049925)\n",
      "Evaluation value: -36.34541344190777\n",
      "Is leader function: true\n",
      "------------------------------\n",
      "Leader's Restrictions:\n",
      "------------------------------\n",
      "Follower's Objective Function:\n",
      "Variable names: [:x_1, :y_1, :x_2, :y_2]\n",
      "Expression (string): x_1 + x_2 - 4y_1 + y_2\n",
      "Parsed expression: x_1 + x_2 - 4y_1 + y_2\n",
      "Evaluation point: Dict{Any, Any}(\"x_1\" => 51.708878905971076, \"x_2\" => 16.68184037478476, \"y_2\" => 0.1258370000880895, \"y_1\" => 100.78100799049925)\n",
      "Evaluation value: -334.60747568115306\n",
      "Is leader function: false\n",
      "------------------------------\n",
      "Follower's Restrictions:\n",
      "++++++++++++++++++++++++++++++\n",
      "Restriction 1\n",
      "Variable names: [:x_1, :y_1, :y_2]\n",
      "Expression (string): (-2x_1 + y_1 - y_2) == -2.5\n",
      "Parsed expression: 2.5 - 2x_1 + y_1 - y_2\n",
      "Evaluation point: Dict{Any, Any}(\"x_1\" => 51.708878905971076, \"x_2\" => 16.68184037478476, \"y_2\" => 0.1258370000880895, \"y_1\" => 100.78100799049925)\n",
      "Evaluation value: -0.26258682153099433\n",
      "Additional constant: 0.26258682153099433\n",
      "Restriction type: LtEq\n",
      "Restriction set type: J_0_LP_v\n",
      "Value of miu: 0\n",
      "Value of beta: 0.10275444624050843\n",
      "Value of lambda: 0.7774260016834396\n",
      "Value of gamma: 0.3822015971393006\n",
      "++++++++++++++++++++++++++++++\n",
      "++++++++++++++++++++++++++++++\n",
      "Restriction 2\n",
      "Variable names: [:x_1, :x_2, :y_2]\n",
      "Expression (string): (x_1 - 3x_2 + y_2) == 2\n",
      "Parsed expression: -2 + x_1 - 3x_2 + y_2\n",
      "Evaluation point: Dict{Any, Any}(\"x_1\" => 51.708878905971076, \"x_2\" => 16.68184037478476, \"y_2\" => 0.1258370000880895, \"y_1\" => 100.78100799049925)\n",
      "Evaluation value: -0.21080521829511478\n",
      "Additional constant: 0.21080521829511478\n",
      "Restriction type: LtEq\n",
      "Restriction set type: J_0_LP_v\n",
      "Value of miu: 0\n",
      "Value of beta: 0.9566475091647719\n",
      "Value of lambda: 0.39768890515544597\n",
      "Value of gamma: 0.18049454458492964\n",
      "++++++++++++++++++++++++++++++\n",
      "++++++++++++++++++++++++++++++\n",
      "Restriction 3\n",
      "Variable names: [:y_1]\n",
      "Expression (string): (-y_1) == 0\n",
      "Parsed expression: -y_1\n",
      "Evaluation point: Dict{Any, Any}(\"x_1\" => 51.708878905971076, \"x_2\" => 16.68184037478476, \"y_2\" => 0.1258370000880895, \"y_1\" => 100.78100799049925)\n",
      "Evaluation value: -100.78100799049925\n",
      "Additional constant: 100.78100799049925\n",
      "Restriction type: LtEq\n",
      "Restriction set type: J_0_LP_v\n",
      "Value of miu: 0\n",
      "Value of beta: 0.3370826051826905\n",
      "Value of lambda: 0.20191682337459138\n",
      "Value of gamma: 0.511025655986493\n",
      "++++++++++++++++++++++++++++++\n",
      "++++++++++++++++++++++++++++++\n",
      "Restriction 4\n",
      "Variable names: [:y_2]\n",
      "Expression (string): (-y_2) == 0\n",
      "Parsed expression: -y_2\n",
      "Evaluation point: Dict{Any, Any}(\"x_1\" => 51.708878905971076, \"x_2\" => 16.68184037478476, \"y_2\" => 0.1258370000880895, \"y_1\" => 100.78100799049925)\n",
      "Evaluation value: -0.1258370000880895\n",
      "Additional constant: 0.1258370000880895\n",
      "Restriction type: LtEq\n",
      "Restriction set type: J_0_LP_v\n",
      "Value of miu: 0\n",
      "Value of beta: 0.4628038089727212\n",
      "Value of lambda: 0.5707039120766931\n",
      "Value of gamma: 0.5526796507913133\n",
      "++++++++++++++++++++++++++++++\n",
      "------------------------------\n",
      "Evaluation Point:\n",
      "Dict{Any, Any}(\"x_1\" => 51.708878905971076, \"x_2\" => 16.68184037478476, \"y_2\" => 0.1258370000880895, \"y_1\" => 100.78100799049925)\n",
      "------------------------------\n",
      "_\n",
      "\n",
      "Num[1.248861383316245, 1.8699425274943158, -0.26567184105781794, -0.39108925395154226]\n",
      "Se va a crear el DataFrame\n",
      "Se va a crear el DataFrame\n",
      "Se va a crear el DataFrame\n",
      "Experimento Completado\n"
     ]
    }
   ],
   "source": [
    "RunExperiment(experiment,\"ex9.1.10(Linear)\")"
   ]
  }
 ],
 "metadata": {
  "kernelspec": {
   "display_name": "Julia 1.10.5",
   "language": "julia",
   "name": "julia-1.10"
  },
  "language_info": {
   "file_extension": ".jl",
   "mimetype": "application/julia",
   "name": "julia",
   "version": "1.10.5"
  }
 },
 "nbformat": 4,
 "nbformat_minor": 2
}
