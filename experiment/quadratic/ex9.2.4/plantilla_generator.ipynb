{
 "cells": [
  {
   "cell_type": "markdown",
   "metadata": {},
   "source": [
    "## Importar el módulo\n"
   ]
  },
  {
   "cell_type": "code",
   "execution_count": 1,
   "metadata": {},
   "outputs": [
    {
     "data": {
      "text/plain": [
       "RunExperiment (generic function with 1 method)"
      ]
     },
     "metadata": {},
     "output_type": "display_data"
    }
   ],
   "source": [
    "include(\"../../new_experiment.jl\")"
   ]
  },
  {
   "cell_type": "markdown",
   "metadata": {},
   "source": [
    "Crear un experimento\n"
   ]
  },
  {
   "cell_type": "code",
   "execution_count": 2,
   "metadata": {},
   "outputs": [
    {
     "data": {
      "text/plain": [
       "Experiment(OptimizationModel(Problem(Any[], nothing), LeaderRestrictionProblem[], Problem(Any[], nothing), FollowerRestrictionProblem[], Dict{Any, Any}(), Number[1], false), OptimizationModel(Problem(Any[], nothing), LeaderRestrictionProblem[], Problem(Any[], nothing), FollowerRestrictionProblem[], Dict{Any, Any}(), Number[], true), Any[], Any[])"
      ]
     },
     "metadata": {},
     "output_type": "display_data"
    }
   ],
   "source": [
    "experiment=CreateExperiment()"
   ]
  },
  {
   "cell_type": "markdown",
   "metadata": {},
   "source": [
    "### Declarar variables del líder\n"
   ]
  },
  {
   "cell_type": "code",
   "execution_count": 3,
   "metadata": {},
   "outputs": [
    {
     "data": {
      "text/latex": [
       "$$ \\begin{equation}\n",
       "\\left[\n",
       "\\begin{array}{c}\n",
       "x \\\\\n",
       "\\end{array}\n",
       "\\right]\n",
       "\\end{equation}\n",
       " $$"
      ],
      "text/plain": [
       "1-element Vector{Num}:\n",
       " x"
      ]
     },
     "metadata": {},
     "output_type": "display_data"
    }
   ],
   "source": [
    "@leader_vars experiment x"
   ]
  },
  {
   "cell_type": "markdown",
   "metadata": {},
   "source": [
    "### Declarar Variables del Follower"
   ]
  },
  {
   "cell_type": "code",
   "execution_count": 4,
   "metadata": {},
   "outputs": [
    {
     "data": {
      "text/latex": [
       "$$ \\begin{equation}\n",
       "\\left[\n",
       "\\begin{array}{c}\n",
       "\\mathtt{y\\_1} \\\\\n",
       "\\mathtt{y\\_2} \\\\\n",
       "\\end{array}\n",
       "\\right]\n",
       "\\end{equation}\n",
       " $$"
      ],
      "text/plain": [
       "2-element Vector{Num}:\n",
       " y_1\n",
       " y_2"
      ]
     },
     "metadata": {},
     "output_type": "display_data"
    }
   ],
   "source": [
    "@follower_vars experiment y_1,y_2"
   ]
  },
  {
   "cell_type": "markdown",
   "metadata": {},
   "source": [
    "### Declarar Función Objetivo del Líder"
   ]
  },
  {
   "cell_type": "code",
   "execution_count": 5,
   "metadata": {},
   "outputs": [
    {
     "data": {
      "text/latex": [
       "$$ \\begin{equation}\n",
       "0.5 \\left( \\left( -2 + \\mathtt{y\\_1} \\right)^{2} + \\left( -2 + \\mathtt{y\\_2} \\right)^{2} \\right)\n",
       "\\end{equation}\n",
       " $$"
      ],
      "text/plain": [
       "0.5((-2 + y_1)^2 + (-2 + y_2)^2)"
      ]
     },
     "metadata": {},
     "output_type": "display_data"
    }
   ],
   "source": [
    "SetLeaderFunction(experiment,0.5*((y_1-2)^2+(y_2-2)^2))"
   ]
  },
  {
   "cell_type": "markdown",
   "metadata": {},
   "source": [
    "### Función objetivo del Follower"
   ]
  },
  {
   "cell_type": "code",
   "execution_count": 6,
   "metadata": {},
   "outputs": [
    {
     "data": {
      "text/latex": [
       "$$ \\begin{equation}\n",
       "\\mathtt{y\\_2} + 0.5 \\mathtt{y\\_1}^{2}\n",
       "\\end{equation}\n",
       " $$"
      ],
      "text/plain": [
       "y_2 + 0.5(y_1^2)"
      ]
     },
     "metadata": {},
     "output_type": "display_data"
    }
   ],
   "source": [
    "SetFollowerFunction(experiment,0.5y_1^2+y_2)"
   ]
  },
  {
   "cell_type": "markdown",
   "metadata": {},
   "source": [
    "### Restricciones del Follower"
   ]
  },
  {
   "cell_type": "code",
   "execution_count": 7,
   "metadata": {},
   "outputs": [
    {
     "data": {
      "text/plain": [
       "1-element Vector{FollowerRestrictionProblem}:\n",
       " FollowerRestrictionProblem((y_1 + y_2) == x, J_0_LP_v, 0.5977918100727182, 0.5491783745046743, 0.18371196584790872)"
      ]
     },
     "metadata": {},
     "output_type": "display_data"
    }
   ],
   "source": [
    "SetFollowerRestriction(experiment,y_1+y_2==x)"
   ]
  },
  {
   "cell_type": "code",
   "execution_count": 8,
   "metadata": {},
   "outputs": [
    {
     "data": {
      "text/plain": [
       "2-element Vector{FollowerRestrictionProblem}:\n",
       " FollowerRestrictionProblem((y_1 + y_2) == x, J_0_LP_v, 0.5977918100727182, 0.5491783745046743, 0.18371196584790872)\n",
       " FollowerRestrictionProblem((-y_1) <= 0, J_0_LP_v, 0.19159305002338378, 0.721733263712401, 0.3178450518222614)"
      ]
     },
     "metadata": {},
     "output_type": "display_data"
    }
   ],
   "source": [
    "SetFollowerRestriction(experiment,-y_1<=0)"
   ]
  },
  {
   "cell_type": "code",
   "execution_count": 9,
   "metadata": {},
   "outputs": [
    {
     "data": {
      "text/plain": [
       "3-element Vector{FollowerRestrictionProblem}:\n",
       " FollowerRestrictionProblem((y_1 + y_2) == x, J_0_LP_v, 0.5977918100727182, 0.5491783745046743, 0.18371196584790872)\n",
       " FollowerRestrictionProblem((-y_1) <= 0, J_0_LP_v, 0.19159305002338378, 0.721733263712401, 0.3178450518222614)\n",
       " FollowerRestrictionProblem((-y_2) <= 0, J_0_LP_v, 0.6393782630017079, 0.06412022434956242, 0.1785764849956697)"
      ]
     },
     "metadata": {},
     "output_type": "display_data"
    }
   ],
   "source": [
    "SetFollowerRestriction(experiment,-y_2<=0)"
   ]
  },
  {
   "cell_type": "markdown",
   "metadata": {},
   "source": [
    "### Poner el Punto Optimo"
   ]
  },
  {
   "cell_type": "code",
   "execution_count": 10,
   "metadata": {},
   "outputs": [
    {
     "data": {
      "text/plain": [
       "Dict{Any, Any} with 3 entries:\n",
       "  x   => 3.73517\n",
       "  y_1 => 1.88368\n",
       "  y_2 => 2.13298"
      ]
     },
     "metadata": {},
     "output_type": "display_data"
    }
   ],
   "source": [
    "SetPoint(experiment,Dict(x=>3,y_1=>1,y_2=>2))"
   ]
  },
  {
   "cell_type": "markdown",
   "metadata": {},
   "source": [
    "## Iniciar el Experimento\n"
   ]
  },
  {
   "cell_type": "code",
   "execution_count": 11,
   "metadata": {},
   "outputs": [
    {
     "name": "stdout",
     "output_type": "stream",
     "text": [
      "Va a retornar correctamente\n",
      "Leader's Objective Function:\n",
      "Variable names: [:y_1, :y_2]\n",
      "Expression (string): 0.5((-2 + y_1)^2 + (-2 + y_2)^2)\n",
      "Parsed expression: 0.5((-2 + y_1)^2 + (-2 + y_2)^2)\n",
      "Evaluation point: Dict{Any, Any}(\"x\" => 3.735167716840371, \"y_2\" => 2.1329767744778025, \"y_1\" => 1.8836843738992308)\n",
      "Evaluation value: 0.015606073712867145\n",
      "Is leader function: true\n",
      "------------------------------\n",
      "Leader's Restrictions:\n",
      "------------------------------\n",
      "Follower's Objective Function:\n",
      "Variable names: [:y_1, :y_2]\n",
      "Expression (string): y_2 + 0.5(y_1^2)\n",
      "Parsed expression: y_2 + 0.5(y_1^2)\n",
      "Evaluation point: Dict{Any, Any}(\"x\" => 3.735167716840371, \"y_2\" => 2.1329767744778025, \"y_1\" => 1.8836843738992308)\n",
      "Evaluation value: 3.907110184713871\n",
      "Is leader function: false\n",
      "------------------------------\n",
      "Follower's Restrictions:\n",
      "++++++++++++++++++++++++++++++\n",
      "Restriction 1\n",
      "Variable names: [:y_1, :y_2, :x]\n",
      "Expression (string): (y_1 + y_2) == x\n",
      "Parsed expression: -x - 0.2921435762936171y_1 + 0.22680760350929063y_2\n",
      "Evaluation point: Dict{Any, Any}(\"x\" => 3.735167716840371, \"y_2\" => 2.1329767744778025, \"y_1\" => 1.8836843738992308)\n",
      "Evaluation value: -3.8016986558794086\n",
      "Additional constant: 3.8016986558794086\n",
      "Restriction type: Eq\n",
      "Restriction set type: J_0_LP_v\n",
      "Value of miu: 0\n",
      "Value of beta: 0.5977918100727182\n",
      "Value of lambda: 0.5491783745046743\n",
      "Value of gamma: 0.18371196584790872\n",
      "++++++++++++++++++++++++++++++\n",
      "++++++++++++++++++++++++++++++\n",
      "Restriction 2\n",
      "Variable names: [:y_1]\n",
      "Expression (string): (-y_1) == 0\n",
      "Parsed expression: -0.19159156487940032y_1 + 0.4837351411730175y_2\n",
      "Evaluation point: Dict{Any, Any}(\"x\" => 3.735167716840371, \"y_2\" => 2.1329767744778025, \"y_1\" => 1.8836843738992308)\n",
      "Evaluation value: 0.6708977841865603\n",
      "Additional constant: -0.6708977841865603\n",
      "Restriction type: LtEq\n",
      "Restriction set type: J_0_LP_v\n",
      "Value of miu: 0\n",
      "Value of beta: 0.19159305002338378\n",
      "Value of lambda: 0.721733263712401\n",
      "Value of gamma: 0.3178450518222614\n",
      "++++++++++++++++++++++++++++++\n",
      "++++++++++++++++++++++++++++++\n",
      "Restriction 3\n",
      "Variable names: [:y_2]\n",
      "Expression (string): (-y_2) == 0\n",
      "Parsed expression: 0.4837351411730175y_1 - 0.710542744682308y_2\n",
      "Evaluation point: Dict{Any, Any}(\"x\" => 3.735167716840371, \"y_2\" => 2.1329767744778025, \"y_1\" => 1.8836843738992308)\n",
      "Evaluation value: -0.6043668451475227\n",
      "Additional constant: 0.6043668451475227\n",
      "Restriction type: LtEq\n",
      "Restriction set type: J_0_LP_v\n",
      "Value of miu: 0\n",
      "Value of beta: 0.6393782630017079\n",
      "Value of lambda: 0.06412022434956242\n",
      "Value of gamma: 0.1785764849956697\n",
      "++++++++++++++++++++++++++++++\n",
      "------------------------------\n",
      "Evaluation Point:\n",
      "Dict{Any, Any}(\"x\" => 3.735167716840371, \"y_2\" => 2.1329767744778025, \"y_1\" => 1.8836843738992308)\n",
      "------------------------------\n",
      "_\n",
      "\n",
      "Num[0.5977918100727182, -0.9237103193780882, 0.09306479246473276]\n",
      "Va a retornar correctamente\n",
      "Leader's Objective Function:\n",
      "Variable names: [:y_1, :y_2]\n",
      "Expression (string): 0.5((-2 + y_1)^2 + (-2 + y_2)^2)\n",
      "Parsed expression: 0.5((-2 + y_1)^2 + (-2 + y_2)^2)\n",
      "Evaluation point: Dict{Any, Any}(\"x\" => 3.735167716840371, \"y_2\" => 2.1329767744778025, \"y_1\" => 1.8836843738992308)\n",
      "Evaluation value: 0.015606073712867145\n",
      "Is leader function: true\n",
      "------------------------------\n",
      "Leader's Restrictions:\n",
      "------------------------------\n",
      "Follower's Objective Function:\n",
      "Variable names: [:y_1, :y_2]\n",
      "Expression (string): y_2 + 0.5(y_1^2)\n",
      "Parsed expression: y_2 + 0.5(y_1^2)\n",
      "Evaluation point: Dict{Any, Any}(\"x\" => 3.735167716840371, \"y_2\" => 2.1329767744778025, \"y_1\" => 1.8836843738992308)\n",
      "Evaluation value: 3.907110184713871\n",
      "Is leader function: false\n",
      "------------------------------\n",
      "Follower's Restrictions:\n",
      "++++++++++++++++++++++++++++++\n",
      "Restriction 1\n",
      "Variable names: [:y_1, :y_2, :x]\n",
      "Expression (string): (y_1 + y_2) == x\n",
      "Parsed expression: -x + y_1 + y_2\n",
      "Evaluation point: Dict{Any, Any}(\"x\" => 3.735167716840371, \"y_2\" => 2.1329767744778025, \"y_1\" => 1.8836843738992308)\n",
      "Evaluation value: 0.2814934315366622\n",
      "Additional constant: -0.2814934315366622\n",
      "Restriction type: Eq\n",
      "Restriction set type: J_0_LP_v\n",
      "Value of miu: 0\n",
      "Value of beta: 0.5977918100727182\n",
      "Value of lambda: 0.5491783745046743\n",
      "Value of gamma: 0.18371196584790872\n",
      "++++++++++++++++++++++++++++++\n",
      "++++++++++++++++++++++++++++++\n",
      "Restriction 2\n",
      "Variable names: [:y_1]\n",
      "Expression (string): (-y_1) == 0\n",
      "Parsed expression: -y_1\n",
      "Evaluation point: Dict{Any, Any}(\"x\" => 3.735167716840371, \"y_2\" => 2.1329767744778025, \"y_1\" => 1.8836843738992308)\n",
      "Evaluation value: -1.8836843738992308\n",
      "Additional constant: 1.8836843738992308\n",
      "Restriction type: LtEq\n",
      "Restriction set type: J_0_LP_v\n",
      "Value of miu: 0\n",
      "Value of beta: 0.19159305002338378\n",
      "Value of lambda: 0.721733263712401\n",
      "Value of gamma: 0.3178450518222614\n",
      "++++++++++++++++++++++++++++++\n",
      "++++++++++++++++++++++++++++++\n",
      "Restriction 3\n",
      "Variable names: [:y_2]\n",
      "Expression (string): (-y_2) == 0\n",
      "Parsed expression: -y_2\n",
      "Evaluation point: Dict{Any, Any}(\"x\" => 3.735167716840371, \"y_2\" => 2.1329767744778025, \"y_1\" => 1.8836843738992308)\n",
      "Evaluation value: -2.1329767744778025\n",
      "Additional constant: 2.1329767744778025\n",
      "Restriction type: LtEq\n",
      "Restriction set type: J_0_LP_v\n",
      "Value of miu: 0\n",
      "Value of beta: 0.6393782630017079\n",
      "Value of lambda: 0.06412022434956242\n",
      "Value of gamma: 0.1785764849956697\n",
      "++++++++++++++++++++++++++++++\n",
      "------------------------------\n",
      "Evaluation Point:\n",
      "Dict{Any, Any}(\"x\" => 3.735167716840371, \"y_2\" => 2.1329767744778025, \"y_1\" => 1.8836843738992308)\n",
      "------------------------------\n",
      "_\n",
      "\n",
      "Num[0.5977918100727182, -0.28988313394856524, -0.09139032154881288]\n",
      "Se va a crear el DataFrame\n",
      "Se va a crear el DataFrame\n",
      "Se va a crear el DataFrame\n",
      "Experimento Completado\n"
     ]
    }
   ],
   "source": [
    "RunExperiment(experiment,\"ex9.2.4(Quadratic)\")"
   ]
  }
 ],
 "metadata": {
  "kernelspec": {
   "display_name": "Julia 1.10.5",
   "language": "julia",
   "name": "julia-1.10"
  },
  "language_info": {
   "file_extension": ".jl",
   "mimetype": "application/julia",
   "name": "julia",
   "version": "1.10.5"
  }
 },
 "nbformat": 4,
 "nbformat_minor": 2
}
