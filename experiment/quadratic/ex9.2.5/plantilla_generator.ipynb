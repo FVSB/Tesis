{
 "cells": [
  {
   "cell_type": "markdown",
   "metadata": {},
   "source": [
    "## Importar el módulo\n"
   ]
  },
  {
   "cell_type": "code",
   "execution_count": 1,
   "metadata": {},
   "outputs": [
    {
     "data": {
      "text/plain": [
       "RunExperiment (generic function with 1 method)"
      ]
     },
     "metadata": {},
     "output_type": "display_data"
    }
   ],
   "source": [
    "include(\"../../new_experiment.jl\")"
   ]
  },
  {
   "cell_type": "markdown",
   "metadata": {},
   "source": [
    "Crear un experimento\n"
   ]
  },
  {
   "cell_type": "code",
   "execution_count": 2,
   "metadata": {},
   "outputs": [
    {
     "data": {
      "text/plain": [
       "Experiment(OptimizationModel(Problem(Any[], nothing), LeaderRestrictionProblem[], Problem(Any[], nothing), FollowerRestrictionProblem[], Dict{Any, Any}(), Number[1], false), OptimizationModel(Problem(Any[], nothing), LeaderRestrictionProblem[], Problem(Any[], nothing), FollowerRestrictionProblem[], Dict{Any, Any}(), Number[], true), Any[], Any[])"
      ]
     },
     "metadata": {},
     "output_type": "display_data"
    }
   ],
   "source": [
    "experiment=CreateExperiment()"
   ]
  },
  {
   "cell_type": "markdown",
   "metadata": {},
   "source": [
    "### Declarar variables del líder\n"
   ]
  },
  {
   "cell_type": "code",
   "execution_count": 3,
   "metadata": {},
   "outputs": [
    {
     "data": {
      "text/latex": [
       "$$ \\begin{equation}\n",
       "\\left[\n",
       "\\begin{array}{c}\n",
       "x \\\\\n",
       "\\end{array}\n",
       "\\right]\n",
       "\\end{equation}\n",
       " $$"
      ],
      "text/plain": [
       "1-element Vector{Num}:\n",
       " x"
      ]
     },
     "metadata": {},
     "output_type": "display_data"
    }
   ],
   "source": [
    "@leader_vars experiment x"
   ]
  },
  {
   "cell_type": "markdown",
   "metadata": {},
   "source": [
    "### Declarar Variables del Follower"
   ]
  },
  {
   "cell_type": "code",
   "execution_count": 4,
   "metadata": {},
   "outputs": [
    {
     "data": {
      "text/latex": [
       "$$ \\begin{equation}\n",
       "\\left[\n",
       "\\begin{array}{c}\n",
       "y \\\\\n",
       "\\end{array}\n",
       "\\right]\n",
       "\\end{equation}\n",
       " $$"
      ],
      "text/plain": [
       "1-element Vector{Num}:\n",
       " y"
      ]
     },
     "metadata": {},
     "output_type": "display_data"
    }
   ],
   "source": [
    "@follower_vars experiment y"
   ]
  },
  {
   "cell_type": "markdown",
   "metadata": {},
   "source": [
    "### Declarar Función Objetivo del Líder"
   ]
  },
  {
   "cell_type": "code",
   "execution_count": 5,
   "metadata": {},
   "outputs": [
    {
     "data": {
      "text/latex": [
       "$$ \\begin{equation}\n",
       "\\left( -3 + x \\right)^{2} + \\left( -2 + y \\right)^{2}\n",
       "\\end{equation}\n",
       " $$"
      ],
      "text/plain": [
       "(-3 + x)^2 + (-2 + y)^2"
      ]
     },
     "metadata": {},
     "output_type": "display_data"
    }
   ],
   "source": [
    "SetLeaderFunction(experiment,(x-3)^2+(y-2)^2)"
   ]
  },
  {
   "cell_type": "markdown",
   "metadata": {},
   "source": [
    "### Función objetivo del Follower"
   ]
  },
  {
   "cell_type": "code",
   "execution_count": 6,
   "metadata": {},
   "outputs": [
    {
     "data": {
      "text/latex": [
       "$$ \\begin{equation}\n",
       "\\left( -5 + y \\right)^{2}\n",
       "\\end{equation}\n",
       " $$"
      ],
      "text/plain": [
       "(-5 + y)^2"
      ]
     },
     "metadata": {},
     "output_type": "display_data"
    }
   ],
   "source": [
    "SetFollowerFunction(experiment,(y-5)^2)"
   ]
  },
  {
   "cell_type": "markdown",
   "metadata": {},
   "source": [
    "### Restricciones del Follower"
   ]
  },
  {
   "cell_type": "code",
   "execution_count": 7,
   "metadata": {},
   "outputs": [
    {
     "data": {
      "text/plain": [
       "1-element Vector{FollowerRestrictionProblem}:\n",
       " FollowerRestrictionProblem((x + 2y) <= 14, J_0_LP_v, 0.5925948185631714, 0.8686174951469441, 0.5994859421956281)"
      ]
     },
     "metadata": {},
     "output_type": "display_data"
    }
   ],
   "source": [
    "SetFollowerRestriction(experiment,x+2y<=14)"
   ]
  },
  {
   "cell_type": "code",
   "execution_count": 8,
   "metadata": {},
   "outputs": [
    {
     "data": {
      "text/plain": [
       "2-element Vector{FollowerRestrictionProblem}:\n",
       " FollowerRestrictionProblem((x + 2y) <= 14, J_0_LP_v, 0.5925948185631714, 0.8686174951469441, 0.5994859421956281)\n",
       " FollowerRestrictionProblem((x - 2y) <= 2, J_0_LP_v, 0.18606679706280105, 0.25005198118788907, 0.5902787560439338)"
      ]
     },
     "metadata": {},
     "output_type": "display_data"
    }
   ],
   "source": [
    "SetFollowerRestriction(experiment,x-2y<=2)"
   ]
  },
  {
   "cell_type": "code",
   "execution_count": 9,
   "metadata": {},
   "outputs": [
    {
     "data": {
      "text/plain": [
       "3-element Vector{FollowerRestrictionProblem}:\n",
       " FollowerRestrictionProblem((x + 2y) <= 14, J_0_LP_v, 0.5925948185631714, 0.8686174951469441, 0.5994859421956281)\n",
       " FollowerRestrictionProblem((x - 2y) <= 2, J_0_LP_v, 0.18606679706280105, 0.25005198118788907, 0.5902787560439338)\n",
       " FollowerRestrictionProblem((-2x + y) <= 1, J_0_LP_v, 0.7114877379933412, 0.3256600857817662, 0.5114842512991303)"
      ]
     },
     "metadata": {},
     "output_type": "display_data"
    }
   ],
   "source": [
    "SetFollowerRestriction(experiment,-2x+y<=1)"
   ]
  },
  {
   "cell_type": "markdown",
   "metadata": {},
   "source": [
    "### Poner el Punto Optimo"
   ]
  },
  {
   "cell_type": "code",
   "execution_count": 10,
   "metadata": {},
   "outputs": [
    {
     "data": {
      "text/plain": [
       "Dict{Any, Any} with 2 entries:\n",
       "  y => 3.97216\n",
       "  x => 1.45155"
      ]
     },
     "metadata": {},
     "output_type": "display_data"
    }
   ],
   "source": [
    "SetPoint(experiment,Dict(x=>1,y=>3))"
   ]
  },
  {
   "cell_type": "markdown",
   "metadata": {},
   "source": [
    "## Iniciar el Experimento\n"
   ]
  },
  {
   "cell_type": "code",
   "execution_count": 11,
   "metadata": {},
   "outputs": [
    {
     "name": "stdout",
     "output_type": "stream",
     "text": [
      "Va a retornar correctamente\n",
      "Leader's Objective Function:\n",
      "Variable names: [:y, :x]\n",
      "Expression (string): (-3 + x)^2 + (-2 + y)^2\n",
      "Parsed expression: (-3 + x)^2 + (-2 + y)^2\n",
      "Evaluation point: Dict{Any, Any}(\"x\" => 1.4515539986522623, \"y\" => 3.9721593099418926)\n",
      "Evaluation value: 6.28709736288028\n",
      "Is leader function: true\n",
      "------------------------------\n",
      "Leader's Restrictions:\n",
      "------------------------------\n",
      "Follower's Objective Function:\n",
      "Variable names: [:y]\n",
      "Expression (string): (-5 + y)^2\n",
      "Parsed expression: (-5 + y)^2\n",
      "Evaluation point: Dict{Any, Any}(\"x\" => 1.4515539986522623, \"y\" => 3.9721593099418926)\n",
      "Evaluation value: 1.0564564841391264\n",
      "Is leader function: false\n",
      "------------------------------\n",
      "Follower's Restrictions:\n",
      "++++++++++++++++++++++++++++++\n",
      "Restriction 1\n",
      "Variable names: [:y, :x]\n",
      "Expression (string): (x + 2y) == 14\n",
      "Parsed expression: -14 + x + 0.8224319855435229y\n",
      "Evaluation point: Dict{Any, Any}(\"x\" => 1.4515539986522623, \"y\" => 3.9721593099418926)\n",
      "Evaluation value: -9.281615133177038\n",
      "Additional constant: 9.281615133177038\n",
      "Restriction type: LtEq\n",
      "Restriction set type: J_0_LP_v\n",
      "Value of miu: 0\n",
      "Value of beta: 0.5925948185631714\n",
      "Value of lambda: 0.8686174951469441\n",
      "Value of gamma: 0.5994859421956281\n",
      "++++++++++++++++++++++++++++++\n",
      "++++++++++++++++++++++++++++++\n",
      "Restriction 2\n",
      "Variable names: [:y, :x]\n",
      "Expression (string): (x - 2y) == 2\n",
      "Parsed expression: -2 + x - 0.8224319855435229y\n",
      "Evaluation point: Dict{Any, Any}(\"x\" => 1.4515539986522623, \"y\" => 3.9721593099418926)\n",
      "Evaluation value: -3.815276869518438\n",
      "Additional constant: 3.815276869518438\n",
      "Restriction type: LtEq\n",
      "Restriction set type: J_0_LP_v\n",
      "Value of miu: 0\n",
      "Value of beta: 0.18606679706280105\n",
      "Value of lambda: 0.25005198118788907\n",
      "Value of gamma: 0.5902787560439338\n",
      "++++++++++++++++++++++++++++++\n",
      "++++++++++++++++++++++++++++++\n",
      "Restriction 3\n",
      "Variable names: [:y, :x]\n",
      "Expression (string): (-2x + y) == 1\n",
      "Parsed expression: -1 - 2x + 0.41121599277176146y\n",
      "Evaluation point: Dict{Any, Any}(\"x\" => 1.4515539986522623, \"y\" => 3.9721593099418926)\n",
      "Evaluation value: -2.2696925632191745\n",
      "Additional constant: 2.2696925632191745\n",
      "Restriction type: LtEq\n",
      "Restriction set type: J_0_LP_v\n",
      "Value of miu: 0\n",
      "Value of beta: 0.7114877379933412\n",
      "Value of lambda: 0.3256600857817662\n",
      "Value of gamma: 0.5114842512991303\n",
      "++++++++++++++++++++++++++++++\n",
      "------------------------------\n",
      "Evaluation Point:\n",
      "Dict{Any, Any}(\"x\" => 1.4515539986522623, \"y\" => 3.9721593099418926)\n",
      "------------------------------\n",
      "_\n",
      "\n",
      "Num[3.7412058630561855, -5.748803418765759]\n",
      "Va a retornar correctamente\n",
      "Leader's Objective Function:\n",
      "Variable names: [:y, :x]\n",
      "Expression (string): (-3 + x)^2 + (-2 + y)^2\n",
      "Parsed expression: (-3 + x)^2 + (-2 + y)^2\n",
      "Evaluation point: Dict{Any, Any}(\"x\" => 1.4515539986522623, \"y\" => 3.9721593099418926)\n",
      "Evaluation value: 6.28709736288028\n",
      "Is leader function: true\n",
      "------------------------------\n",
      "Leader's Restrictions:\n",
      "------------------------------\n",
      "Follower's Objective Function:\n",
      "Variable names: [:y]\n",
      "Expression (string): (-5 + y)^2\n",
      "Parsed expression: (-5 + y)^2\n",
      "Evaluation point: Dict{Any, Any}(\"x\" => 1.4515539986522623, \"y\" => 3.9721593099418926)\n",
      "Evaluation value: 1.0564564841391264\n",
      "Is leader function: false\n",
      "------------------------------\n",
      "Follower's Restrictions:\n",
      "++++++++++++++++++++++++++++++\n",
      "Restriction 1\n",
      "Variable names: [:y, :x]\n",
      "Expression (string): (x + 2y) == 14\n",
      "Parsed expression: -14 + x + 2y\n",
      "Evaluation point: Dict{Any, Any}(\"x\" => 1.4515539986522623, \"y\" => 3.9721593099418926)\n",
      "Evaluation value: -4.604127381463952\n",
      "Additional constant: 4.604127381463952\n",
      "Restriction type: LtEq\n",
      "Restriction set type: J_0_LP_v\n",
      "Value of miu: 0\n",
      "Value of beta: 0.5925948185631714\n",
      "Value of lambda: 0.8686174951469441\n",
      "Value of gamma: 0.5994859421956281\n",
      "++++++++++++++++++++++++++++++\n",
      "++++++++++++++++++++++++++++++\n",
      "Restriction 2\n",
      "Variable names: [:y, :x]\n",
      "Expression (string): (x - 2y) == 2\n",
      "Parsed expression: -2 + x - 2y\n",
      "Evaluation point: Dict{Any, Any}(\"x\" => 1.4515539986522623, \"y\" => 3.9721593099418926)\n",
      "Evaluation value: -8.492764621231522\n",
      "Additional constant: 8.492764621231522\n",
      "Restriction type: LtEq\n",
      "Restriction set type: J_0_LP_v\n",
      "Value of miu: 0\n",
      "Value of beta: 0.18606679706280105\n",
      "Value of lambda: 0.25005198118788907\n",
      "Value of gamma: 0.5902787560439338\n",
      "++++++++++++++++++++++++++++++\n",
      "++++++++++++++++++++++++++++++\n",
      "Restriction 3\n",
      "Variable names: [:y, :x]\n",
      "Expression (string): (-2x + y) == 1\n",
      "Parsed expression: -1 - 2x + y\n",
      "Evaluation point: Dict{Any, Any}(\"x\" => 1.4515539986522623, \"y\" => 3.9721593099418926)\n",
      "Evaluation value: 0.06905131263736797\n",
      "Additional constant: -0.06905131263736797\n",
      "Restriction type: LtEq\n",
      "Restriction set type: J_0_LP_v\n",
      "Value of miu: 0\n",
      "Value of beta: 0.7114877379933412\n",
      "Value of lambda: 0.3256600857817662\n",
      "Value of gamma: 0.5114842512991303\n",
      "++++++++++++++++++++++++++++++\n",
      "------------------------------\n",
      "Evaluation Point:\n",
      "Dict{Any, Any}(\"x\" => 1.4515539986522623, \"y\" => 3.9721593099418926)\n",
      "------------------------------\n",
      "_\n",
      "\n",
      "Num[3.7412058630561855, -5.4688624008778675]\n",
      "Se va a crear el DataFrame\n",
      "Se va a crear el DataFrame\n",
      "Se va a crear el DataFrame\n",
      "Experimento Completado\n"
     ]
    }
   ],
   "source": [
    "RunExperiment(experiment,\"ex9.2.5(Quadratic)\")"
   ]
  }
 ],
 "metadata": {
  "kernelspec": {
   "display_name": "Julia 1.10.5",
   "language": "julia",
   "name": "julia-1.10"
  },
  "language_info": {
   "file_extension": ".jl",
   "mimetype": "application/julia",
   "name": "julia",
   "version": "1.10.5"
  }
 },
 "nbformat": 4,
 "nbformat_minor": 2
}
