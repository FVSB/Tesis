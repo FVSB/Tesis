{
 "cells": [
  {
   "cell_type": "code",
   "execution_count": 1,
   "metadata": {},
   "outputs": [
    {
     "data": {
      "text/plain": [
       "RunExperiment (generic function with 1 method)"
      ]
     },
     "metadata": {},
     "output_type": "display_data"
    }
   ],
   "source": [
    "\n",
    "include(\"new_experiment.jl\")"
   ]
  },
  {
   "cell_type": "code",
   "execution_count": 2,
   "metadata": {},
   "outputs": [
    {
     "data": {
      "text/plain": [
       "Experiment(OptimizationModel(Problem(Any[], nothing), LeaderRestrictionProblem[], Problem(Any[], nothing), FollowerRestrictionProblem[], Dict{Any, Any}(), Number[1], false), OptimizationModel(Problem(Any[], nothing), LeaderRestrictionProblem[], Problem(Any[], nothing), FollowerRestrictionProblem[], Dict{Any, Any}(), Number[], true), Any[], Any[])"
      ]
     },
     "metadata": {},
     "output_type": "display_data"
    }
   ],
   "source": [
    "\n",
    "experiment=CreateExperiment()"
   ]
  },
  {
   "cell_type": "code",
   "execution_count": 3,
   "metadata": {},
   "outputs": [
    {
     "data": {
      "text/latex": [
       "$$ \\begin{equation}\n",
       "\\left[\n",
       "\\begin{array}{c}\n",
       "x \\\\\n",
       "\\end{array}\n",
       "\\right]\n",
       "\\end{equation}\n",
       " $$"
      ],
      "text/plain": [
       "1-element Vector{Num}:\n",
       " x"
      ]
     },
     "metadata": {},
     "output_type": "display_data"
    }
   ],
   "source": [
    "@leader_vars experiment x"
   ]
  },
  {
   "cell_type": "code",
   "execution_count": 4,
   "metadata": {},
   "outputs": [
    {
     "data": {
      "text/latex": [
       "$$ \\begin{equation}\n",
       "\\left[\n",
       "\\begin{array}{c}\n",
       "\\mathtt{y\\_1} \\\\\n",
       "\\mathtt{y\\_2} \\\\\n",
       "\\end{array}\n",
       "\\right]\n",
       "\\end{equation}\n",
       " $$"
      ],
      "text/plain": [
       "2-element Vector{Num}:\n",
       " y_1\n",
       " y_2"
      ]
     },
     "metadata": {},
     "output_type": "display_data"
    }
   ],
   "source": [
    "@follower_vars experiment y_1,y_2"
   ]
  },
  {
   "cell_type": "code",
   "execution_count": 5,
   "metadata": {},
   "outputs": [
    {
     "data": {
      "text/latex": [
       "$$ \\begin{equation}\n",
       " - x - 3 \\mathtt{y\\_1} + 2 \\mathtt{y\\_2}\n",
       "\\end{equation}\n",
       " $$"
      ],
      "text/plain": [
       "-x - 3y_1 + 2y_2"
      ]
     },
     "metadata": {},
     "output_type": "display_data"
    }
   ],
   "source": [
    "SetLeaderFunction(experiment,-x-3y_1+2y_2)"
   ]
  },
  {
   "cell_type": "code",
   "execution_count": 6,
   "metadata": {},
   "outputs": [
    {
     "data": {
      "text/latex": [
       "$$ \\begin{equation}\n",
       " - \\mathtt{y\\_1}\n",
       "\\end{equation}\n",
       " $$"
      ],
      "text/plain": [
       "-y_1"
      ]
     },
     "metadata": {},
     "output_type": "display_data"
    }
   ],
   "source": [
    "SetFollowerFunction(experiment,-y_1)"
   ]
  },
  {
   "cell_type": "code",
   "execution_count": 7,
   "metadata": {},
   "outputs": [
    {
     "data": {
      "text/plain": [
       "1-element Vector{FollowerRestrictionProblem}:\n",
       " FollowerRestrictionProblem((-y_1) <= 0, J_0_LP_v, 0.8684427060477757, 0.6537046219643198, 0.3614625110350732)"
      ]
     },
     "metadata": {},
     "output_type": "display_data"
    }
   ],
   "source": [
    "SetFollowerRestriction(experiment,-y_1<=0)"
   ]
  },
  {
   "cell_type": "code",
   "execution_count": 8,
   "metadata": {},
   "outputs": [
    {
     "data": {
      "text/plain": [
       "2-element Vector{FollowerRestrictionProblem}:\n",
       " FollowerRestrictionProblem((-y_1) <= 0, J_0_LP_v, 0.8684427060477757, 0.6537046219643198, 0.3614625110350732)\n",
       " FollowerRestrictionProblem(y_1 <= 4, J_0_LP_v, 0.8909053224272901, 0.9659625052271775, 0.5185745303034763)"
      ]
     },
     "metadata": {},
     "output_type": "display_data"
    }
   ],
   "source": [
    "SetFollowerRestriction(experiment,y_1<=4)"
   ]
  },
  {
   "cell_type": "code",
   "execution_count": 9,
   "metadata": {},
   "outputs": [
    {
     "data": {
      "text/plain": [
       "3-element Vector{FollowerRestrictionProblem}:\n",
       " FollowerRestrictionProblem((-y_1) <= 0, J_0_LP_v, 0.8684427060477757, 0.6537046219643198, 0.3614625110350732)\n",
       " FollowerRestrictionProblem(y_1 <= 4, J_0_LP_v, 0.8909053224272901, 0.9659625052271775, 0.5185745303034763)\n",
       " FollowerRestrictionProblem((-2x + 5y_1) <= 16, J_0_LP_v, 0.042892611865143475, 0.6431860419272326, 0.982224066241359)"
      ]
     },
     "metadata": {},
     "output_type": "display_data"
    }
   ],
   "source": [
    "\n",
    "SetFollowerRestriction(experiment,-2x+y_1+4y_1<=16)"
   ]
  },
  {
   "cell_type": "code",
   "execution_count": 10,
   "metadata": {},
   "outputs": [
    {
     "data": {
      "text/plain": [
       "4-element Vector{FollowerRestrictionProblem}:\n",
       " FollowerRestrictionProblem((-y_1) <= 0, J_0_LP_v, 0.8684427060477757, 0.6537046219643198, 0.3614625110350732)\n",
       " FollowerRestrictionProblem(y_1 <= 4, J_0_LP_v, 0.8909053224272901, 0.9659625052271775, 0.5185745303034763)\n",
       " FollowerRestrictionProblem((-2x + 5y_1) <= 16, J_0_LP_v, 0.042892611865143475, 0.6431860419272326, 0.982224066241359)\n",
       " FollowerRestrictionProblem((8x + y_1) <= 48, J_0_LP_v, 0.37172414153317324, 0.5757941125455883, 0.13153885859680892)"
      ]
     },
     "metadata": {},
     "output_type": "display_data"
    }
   ],
   "source": [
    "\n",
    "SetFollowerRestriction(experiment,8x+3y_1-2y_1<=48)"
   ]
  },
  {
   "cell_type": "code",
   "execution_count": 11,
   "metadata": {},
   "outputs": [
    {
     "data": {
      "text/plain": [
       "5-element Vector{FollowerRestrictionProblem}:\n",
       " FollowerRestrictionProblem((-y_1) <= 0, J_0_LP_v, 0.8684427060477757, 0.6537046219643198, 0.3614625110350732)\n",
       " FollowerRestrictionProblem(y_1 <= 4, J_0_LP_v, 0.8909053224272901, 0.9659625052271775, 0.5185745303034763)\n",
       " FollowerRestrictionProblem((-2x + 5y_1) <= 16, J_0_LP_v, 0.042892611865143475, 0.6431860419272326, 0.982224066241359)\n",
       " FollowerRestrictionProblem((8x + y_1) <= 48, J_0_LP_v, 0.37172414153317324, 0.5757941125455883, 0.13153885859680892)\n",
       " FollowerRestrictionProblem((-2x - 2y_1) <= -12, J_0_LP_v, 0.8318275038943201, 0.4906888446657346, 0.5402409943908741)"
      ]
     },
     "metadata": {},
     "output_type": "display_data"
    }
   ],
   "source": [
    "\n",
    "SetFollowerRestriction(experiment,-2x+y_1-3y_1<=-12)"
   ]
  },
  {
   "cell_type": "code",
   "execution_count": 12,
   "metadata": {},
   "outputs": [
    {
     "data": {
      "text/plain": [
       "Experiment(OptimizationModel(Problem(Any[x], -x - 3y_1 + 2y_2), LeaderRestrictionProblem[], Problem(Any[y_1, y_2], -y_1), FollowerRestrictionProblem[FollowerRestrictionProblem((-y_1) <= 0, J_0_LP_v, 0.8684427060477757, 0.6537046219643198, 0.3614625110350732), FollowerRestrictionProblem(y_1 <= 4, J_0_LP_v, 0.8909053224272901, 0.9659625052271775, 0.5185745303034763), FollowerRestrictionProblem((-2x + 5y_1) <= 16, J_0_LP_v, 0.042892611865143475, 0.6431860419272326, 0.982224066241359), FollowerRestrictionProblem((8x + y_1) <= 48, J_0_LP_v, 0.37172414153317324, 0.5757941125455883, 0.13153885859680892), FollowerRestrictionProblem((-2x - 2y_1) <= -12, J_0_LP_v, 0.8318275038943201, 0.4906888446657346, 0.5402409943908741)], Dict{Any, Any}(), Number[1], false), OptimizationModel(Problem(Any[x], -x - 3y_1 + 2y_2), LeaderRestrictionProblem[], Problem(Any[y_1, y_2], -y_1), FollowerRestrictionProblem[], Dict{Any, Any}(), Number[], true), Any[x], Any[y_1, y_2])"
      ]
     },
     "metadata": {},
     "output_type": "display_data"
    }
   ],
   "source": [
    "experiment"
   ]
  },
  {
   "cell_type": "code",
   "execution_count": 13,
   "metadata": {},
   "outputs": [
    {
     "data": {
      "text/plain": [
       "Dict{Any, Any} with 3 entries:\n",
       "  x   => 5.04815\n",
       "  y_1 => 4.45755\n",
       "  y_2 => 2.94271"
      ]
     },
     "metadata": {},
     "output_type": "display_data"
    }
   ],
   "source": [
    "SetPoint(experiment,Dict(x=>5,y_1=>4,y_2=>2))"
   ]
  },
  {
   "cell_type": "code",
   "execution_count": 14,
   "metadata": {},
   "outputs": [
    {
     "name": "stdout",
     "output_type": "stream",
     "text": [
      "Leader's Objective Function:\n",
      "Variable names: [:y_1, :y_2, :x]\n",
      "Expression (string): -x - 3y_1 + 2y_2\n",
      "Parsed expression: -x - 3y_1 + 2y_2\n",
      "Evaluation point: Dict{Any, Any}(\"x\" => 5.048146464033614, \"y_2\" => 2.9427132044290625, \"y_1\" => 4.457551959416187)\n",
      "Evaluation value: -12.535375933424051\n",
      "Is leader function: true\n",
      "------------------------------\n",
      "Leader's Restrictions:\n",
      "------------------------------\n",
      "Follower's Objective Function:\n",
      "Variable names: [:y_1]\n",
      "Expression (string): -y_1\n",
      "Parsed expression: -y_1\n",
      "Evaluation point: Dict{Any, Any}(\"x\" => 5.048146464033614, \"y_2\" => 2.9427132044290625, \"y_1\" => 4.457551959416187)\n",
      "Evaluation value: -4.457551959416187\n",
      "Is leader function: false\n",
      "------------------------------\n",
      "Follower's Restrictions:\n",
      "++++++++++++++++++++++++++++++\n",
      "Restriction 1\n",
      "Variable names: [:y_1]\n",
      "Expression (string): (-y_1) == 0\n",
      "Parsed expression: -0.9983452083583482y_1 + 0.034234456659101145y_2\n",
      "Evaluation point: Dict{Any, Any}(\"x\" => 5.048146464033614, \"y_2\" => 2.9427132044290625, \"y_1\" => 4.457551959416187)\n",
      "Evaluation value: -4.349433452034325\n",
      "Additional constant: 4.349433452034325\n",
      "Restriction type: LtEq\n",
      "Restriction set type: J_0_LP_v\n",
      "Value of miu: 0\n",
      "Value of beta: 0.8684427060477757\n",
      "Value of lambda: 0.6537046219643198\n",
      "Value of gamma: 0.3614625110350732\n",
      "++++++++++++++++++++++++++++++\n",
      "++++++++++++++++++++++++++++++\n",
      "Restriction 2\n",
      "Variable names: [:y_1]\n",
      "Expression (string): y_1 == 4\n",
      "Parsed expression: -4 + 0.9983452083583482y_1 - 0.034234456659101145y_2\n",
      "Evaluation point: Dict{Any, Any}(\"x\" => 5.048146464033614, \"y_2\" => 2.9427132044290625, \"y_1\" => 4.457551959416187)\n",
      "Evaluation value: 0.349433452034325\n",
      "Additional constant: -0.349433452034325\n",
      "Restriction type: LtEq\n",
      "Restriction set type: J_0_LP_v\n",
      "Value of miu: 0\n",
      "Value of beta: 0.8909053224272901\n",
      "Value of lambda: 0.9659625052271775\n",
      "Value of gamma: 0.5185745303034763\n",
      "++++++++++++++++++++++++++++++\n",
      "++++++++++++++++++++++++++++++\n",
      "Restriction 3\n",
      "Variable names: [:y_1, :x]\n",
      "Expression (string): (-2x + 5y_1) == 16\n",
      "Parsed expression: -16 - 2x + 4.991726041791741y_1 - 0.17117228329550574y_2\n",
      "Evaluation point: Dict{Any, Any}(\"x\" => 5.048146464033614, \"y_2\" => 2.9427132044290625, \"y_1\" => 4.457551959416187)\n",
      "Evaluation value: -4.3491256678956045\n",
      "Additional constant: 4.3491256678956045\n",
      "Restriction type: LtEq\n",
      "Restriction set type: J_0_LP_v\n",
      "Value of miu: 0\n",
      "Value of beta: 0.042892611865143475\n",
      "Value of lambda: 0.6431860419272326\n",
      "Value of gamma: 0.982224066241359\n",
      "++++++++++++++++++++++++++++++\n",
      "++++++++++++++++++++++++++++++\n",
      "Restriction 4\n",
      "Variable names: [:y_1, :x]\n",
      "Expression (string): (8x + y_1) == 48\n",
      "Parsed expression: -48 + 8x + 0.9983452083583482y_1 - 0.034234456659101145y_2\n",
      "Evaluation point: Dict{Any, Any}(\"x\" => 5.048146464033614, \"y_2\" => 2.9427132044290625, \"y_1\" => 4.457551959416187)\n",
      "Evaluation value: -3.2653948356967613\n",
      "Additional constant: 3.2653948356967613\n",
      "Restriction type: LtEq\n",
      "Restriction set type: J_0_LP_v\n",
      "Value of miu: 0\n",
      "Value of beta: 0.37172414153317324\n",
      "Value of lambda: 0.5757941125455883\n",
      "Value of gamma: 0.13153885859680892\n",
      "++++++++++++++++++++++++++++++\n",
      "++++++++++++++++++++++++++++++\n",
      "Restriction 5\n",
      "Variable names: [:y_1, :x]\n",
      "Expression (string): (-2x - 2y_1) == -12\n",
      "Parsed expression: 12 - 2x - 1.9966904167166963y_1 + 0.06846891331820229y_2\n",
      "Evaluation point: Dict{Any, Any}(\"x\" => 5.048146464033614, \"y_2\" => 2.9427132044290625, \"y_1\" => 4.457551959416187)\n",
      "Evaluation value: -6.795159832135878\n",
      "Additional constant: 6.795159832135878\n",
      "Restriction type: LtEq\n",
      "Restriction set type: J_0_LP_v\n",
      "Value of miu: 0\n",
      "Value of beta: 0.8318275038943201\n",
      "Value of lambda: 0.4906888446657346\n",
      "Value of gamma: 0.5402409943908741\n",
      "++++++++++++++++++++++++++++++\n",
      "------------------------------\n",
      "Evaluation Point:\n",
      "Dict{Any, Any}(\"x\" => 5.048146464033614, \"y_2\" => 2.9427132044290625, \"y_1\" => 4.457551959416187)\n",
      "------------------------------\n",
      "_\n",
      "\n",
      "Num[-0.22435290074645886, 4.053259376779014, -2.036117529471019]\n",
      "Leader's Objective Function:\n",
      "Variable names: [:y_1, :y_2, :x]\n",
      "Expression (string): -x - 3y_1 + 2y_2\n",
      "Parsed expression: -x - 3y_1 + 2y_2\n",
      "Evaluation point: Dict{Any, Any}(\"x\" => 5.048146464033614, \"y_2\" => 2.9427132044290625, \"y_1\" => 4.457551959416187)\n",
      "Evaluation value: -12.535375933424051\n",
      "Is leader function: true\n",
      "------------------------------\n",
      "Leader's Restrictions:\n",
      "------------------------------\n",
      "Follower's Objective Function:\n",
      "Variable names: [:y_1]\n",
      "Expression (string): -y_1\n",
      "Parsed expression: -y_1\n",
      "Evaluation point: Dict{Any, Any}(\"x\" => 5.048146464033614, \"y_2\" => 2.9427132044290625, \"y_1\" => 4.457551959416187)\n",
      "Evaluation value: -4.457551959416187\n",
      "Is leader function: false\n",
      "------------------------------\n",
      "Follower's Restrictions:\n",
      "------------------------------\n",
      "Evaluation Point:\n",
      "Dict{Any, Any}(\"x\" => 5.048146464033614, \"y_2\" => 2.9427132044290625, \"y_1\" => 4.457551959416187)\n",
      "------------------------------\n",
      "_\n",
      "\n",
      "Num[1.0, 3.0, -2.0]\n",
      "Se va a crear el DataFrame\n",
      "Se va a crear el DataFrame\n",
      "Se va a crear el DataFrame\n"
     ]
    },
    {
     "data": {
      "text/plain": [
       "7-element Vector{DataFrame}:\n",
       " \u001b[1m1×2 DataFrame\u001b[0m\n",
       "\u001b[1m Row \u001b[0m│\u001b[1m Leader_Expr      \u001b[0m\u001b[1m Follower_Expr \u001b[0m\n",
       "     │\u001b[90m String           \u001b[0m\u001b[90m String        \u001b[0m\n",
       "─────┼─────────────────────────────────\n",
       "   1 │ -x - 3y_1 + 2y_2  -y_1\n",
       " \u001b[1m0×4 DataFrame\u001b[0m\n",
       "\u001b[1m Row \u001b[0m│\u001b[1m Expression \u001b[0m\u001b[1m Function_Evaluation \u001b[0m\u001b[1m Restriction_Set_Type \u001b[0m\u001b[1m MIU_value \u001b[0m\n",
       "     │\u001b[90m String     \u001b[0m\u001b[90m String              \u001b[0m\u001b[90m String               \u001b[0m\u001b[90m String    \u001b[0m\n",
       "─────┴──────────────────────────────────────────────────────────────────\n",
       " \u001b[1m0×6 DataFrame\u001b[0m\n",
       "\u001b[1m Row \u001b[0m│\u001b[1m Expression \u001b[0m\u001b[1m Function_Evaluation \u001b[0m\u001b[1m Restriction_Set_Type \u001b[0m\u001b[1m Lambda_value \u001b[0m\u001b[1m Be\u001b[0m ⋯\n",
       "     │\u001b[90m String     \u001b[0m\u001b[90m String              \u001b[0m\u001b[90m String               \u001b[0m\u001b[90m String       \u001b[0m\u001b[90m St\u001b[0m ⋯\n",
       "─────┴──────────────────────────────────────────────────────────────────────────\n",
       "\u001b[36m                                                               2 columns omitted\u001b[0m\n",
       " \u001b[1m1×3 DataFrame\u001b[0m\n",
       "\u001b[1m Row \u001b[0m│\u001b[1m x                 \u001b[0m\u001b[1m y_1               \u001b[0m\u001b[1m y_2                \u001b[0m\n",
       "     │\u001b[90m String            \u001b[0m\u001b[90m String            \u001b[0m\u001b[90m String             \u001b[0m\n",
       "─────┼──────────────────────────────────────────────────────────\n",
       "   1 │ 5.048146464033614  4.457551959416187  2.9427132044290625\n",
       " \u001b[1m2×1 DataFrame\u001b[0m\n",
       "\u001b[1m Row \u001b[0m│\u001b[1m vec_bf \u001b[0m\n",
       "     │\u001b[90m Number \u001b[0m\n",
       "─────┼────────\n",
       "   1 │      1\n",
       "   2 │      0\n",
       " \u001b[1m3×1 DataFrame\u001b[0m\n",
       "\u001b[1m Row \u001b[0m│\u001b[1m vec_BF \u001b[0m\n",
       "     │\u001b[90m Number \u001b[0m\n",
       "─────┼────────\n",
       "   1 │    1.0\n",
       "   2 │    3.0\n",
       "   3 │   -2.0\n",
       " \u001b[1m2×1 DataFrame\u001b[0m\n",
       "\u001b[1m Row \u001b[0m│\u001b[1m vec_alpha \u001b[0m\n",
       "     │\u001b[90m Number    \u001b[0m\n",
       "─────┼───────────\n",
       "   1 │ 0.0342744\n",
       "   2 │  0.709072"
      ]
     },
     "metadata": {},
     "output_type": "display_data"
    }
   ],
   "source": [
    "aa=RunExperiment(experiment,\"probando\")"
   ]
  },
  {
   "cell_type": "code",
   "execution_count": 15,
   "metadata": {},
   "outputs": [
    {
     "name": "stdout",
     "output_type": "stream",
     "text": [
      "\u001b[1m1×2 DataFrame\u001b[0m\n",
      "\u001b[1m Row \u001b[0m│\u001b[1m Leader_Expr      \u001b[0m\u001b[1m Follower_Expr \u001b[0m\n",
      "     │\u001b[90m String           \u001b[0m\u001b[90m String        \u001b[0m\n",
      "─────┼─────────────────────────────────\n",
      "   1 │ -x - 3y_1 + 2y_2  -y_1"
     ]
    }
   ],
   "source": [
    "print(aa[1])"
   ]
  },
  {
   "cell_type": "code",
   "execution_count": 16,
   "metadata": {},
   "outputs": [
    {
     "name": "stdout",
     "output_type": "stream",
     "text": [
      "\u001b[1m0×4 DataFrame\u001b[0m\n",
      "\u001b[1m Row \u001b[0m│\u001b[1m Expression \u001b[0m\u001b[1m Function_Evaluation \u001b[0m\u001b[1m Restriction_Set_Type \u001b[0m\u001b[1m MIU_value \u001b[0m\n",
      "     │\u001b[90m String     \u001b[0m\u001b[90m String              \u001b[0m\u001b[90m String               \u001b[0m\u001b[90m String    \u001b[0m\n",
      "─────┴──────────────────────────────────────────────────────────────────\n"
     ]
    }
   ],
   "source": [
    "println(aa[2])"
   ]
  },
  {
   "cell_type": "code",
   "execution_count": 17,
   "metadata": {},
   "outputs": [
    {
     "name": "stdout",
     "output_type": "stream",
     "text": [
      "\u001b[1m0×6 DataFrame\u001b[0m\n",
      "\u001b[1m Row \u001b[0m│\u001b[1m Expression \u001b[0m\u001b[1m Function_Evaluation \u001b[0m\u001b[1m Restriction_Set_Type \u001b[0m\u001b[1m Lambda_value \u001b[0m\u001b[1m Beta_value \u001b[0m\u001b[1m Gamma_value \u001b[0m\n",
      "     │\u001b[90m String     \u001b[0m\u001b[90m String              \u001b[0m\u001b[90m String               \u001b[0m\u001b[90m String       \u001b[0m\u001b[90m String     \u001b[0m\u001b[90m String      \u001b[0m\n",
      "─────┴──────────────────────────────────────────────────────────────────────────────────────────────\n"
     ]
    }
   ],
   "source": [
    "println(aa[3])"
   ]
  },
  {
   "cell_type": "code",
   "execution_count": 18,
   "metadata": {},
   "outputs": [
    {
     "name": "stdout",
     "output_type": "stream",
     "text": [
      "\u001b[1m1×3 DataFrame\u001b[0m\n",
      "\u001b[1m Row \u001b[0m│\u001b[1m x                 \u001b[0m\u001b[1m y_1               \u001b[0m\u001b[1m y_2                \u001b[0m\n",
      "     │\u001b[90m String            \u001b[0m\u001b[90m String            \u001b[0m\u001b[90m String             \u001b[0m\n",
      "─────┼──────────────────────────────────────────────────────────\n",
      "   1 │ 5.048146464033614  4.457551959416187  2.9427132044290625\n"
     ]
    }
   ],
   "source": [
    "println(aa[4])"
   ]
  },
  {
   "cell_type": "code",
   "execution_count": 19,
   "metadata": {},
   "outputs": [
    {
     "name": "stdout",
     "output_type": "stream",
     "text": [
      "\u001b[1m2×1 DataFrame\u001b[0m\n",
      "\u001b[1m Row \u001b[0m│\u001b[1m vec_bf \u001b[0m\n",
      "     │\u001b[90m Number \u001b[0m\n",
      "─────┼────────\n",
      "   1 │      1\n",
      "   2 │      0\n"
     ]
    }
   ],
   "source": [
    "println(aa[5])"
   ]
  },
  {
   "cell_type": "code",
   "execution_count": 20,
   "metadata": {},
   "outputs": [
    {
     "name": "stdout",
     "output_type": "stream",
     "text": [
      "\u001b[1m3×1 DataFrame\u001b[0m\n",
      "\u001b[1m Row \u001b[0m│\u001b[1m vec_BF \u001b[0m\n",
      "     │\u001b[90m Number \u001b[0m\n",
      "─────┼────────\n",
      "   1 │    1.0\n",
      "   2 │    3.0\n",
      "   3 │   -2.0\n"
     ]
    }
   ],
   "source": [
    "println(aa[6])"
   ]
  },
  {
   "cell_type": "code",
   "execution_count": 21,
   "metadata": {},
   "outputs": [
    {
     "name": "stdout",
     "output_type": "stream",
     "text": [
      "\u001b[1m2×1 DataFrame\u001b[0m\n",
      "\u001b[1m Row \u001b[0m│\u001b[1m vec_alpha \u001b[0m\n",
      "     │\u001b[90m Number    \u001b[0m\n",
      "─────┼───────────\n",
      "   1 │ 0.0342744\n",
      "   2 │  0.709072\n"
     ]
    }
   ],
   "source": [
    "println(aa[7])"
   ]
  },
  {
   "cell_type": "code",
   "execution_count": 22,
   "metadata": {},
   "outputs": [
    {
     "data": {
      "text/plain": [
       "J_0_g::RestrictionSetType = 1"
      ]
     },
     "metadata": {},
     "output_type": "display_data"
    }
   ],
   "source": [
    "d=J_0_g"
   ]
  },
  {
   "cell_type": "code",
   "execution_count": 23,
   "metadata": {},
   "outputs": [
    {
     "data": {
      "text/plain": [
       "\"J_0_g\""
      ]
     },
     "metadata": {},
     "output_type": "display_data"
    }
   ],
   "source": [
    "string(d)"
   ]
  },
  {
   "cell_type": "code",
   "execution_count": 24,
   "metadata": {},
   "outputs": [],
   "source": []
  }
 ],
 "metadata": {
  "kernelspec": {
   "display_name": "Julia 1.10.5",
   "language": "julia",
   "name": "julia-1.10"
  },
  "language_info": {
   "file_extension": ".jl",
   "mimetype": "application/julia",
   "name": "julia",
   "version": "1.10.5"
  }
 },
 "nbformat": 4,
 "nbformat_minor": 2
}
