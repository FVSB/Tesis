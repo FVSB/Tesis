{
 "cells": [
  {
   "cell_type": "markdown",
   "metadata": {},
   "source": [
    "## Importar el módulo\n"
   ]
  },
  {
   "cell_type": "code",
   "execution_count": 1,
   "metadata": {},
   "outputs": [
    {
     "data": {
      "text/plain": [
       "RunExperiment (generic function with 1 method)"
      ]
     },
     "metadata": {},
     "output_type": "display_data"
    }
   ],
   "source": [
    "include(\"../../new_experiment.jl\")"
   ]
  },
  {
   "cell_type": "markdown",
   "metadata": {},
   "source": [
    "Crear un experimento\n"
   ]
  },
  {
   "cell_type": "code",
   "execution_count": 2,
   "metadata": {},
   "outputs": [
    {
     "data": {
      "text/plain": [
       "Experiment(OptimizationModel(Problem(Any[], nothing), LeaderRestrictionProblem[], Problem(Any[], nothing), FollowerRestrictionProblem[], Dict{Any, Any}(), Number[1], false), OptimizationModel(Problem(Any[], nothing), LeaderRestrictionProblem[], Problem(Any[], nothing), FollowerRestrictionProblem[], Dict{Any, Any}(), Number[], true), Any[], Any[])"
      ]
     },
     "metadata": {},
     "output_type": "display_data"
    }
   ],
   "source": [
    "experiment=CreateExperiment()"
   ]
  },
  {
   "cell_type": "markdown",
   "metadata": {},
   "source": [
    "### Declarar variables del líder\n"
   ]
  },
  {
   "cell_type": "code",
   "execution_count": 3,
   "metadata": {},
   "outputs": [
    {
     "data": {
      "text/latex": [
       "$$ \\begin{equation}\n",
       "\\left[\n",
       "\\begin{array}{c}\n",
       "x \\\\\n",
       "\\end{array}\n",
       "\\right]\n",
       "\\end{equation}\n",
       " $$"
      ],
      "text/plain": [
       "1-element Vector{Num}:\n",
       " x"
      ]
     },
     "metadata": {},
     "output_type": "display_data"
    }
   ],
   "source": [
    "@leader_vars experiment x"
   ]
  },
  {
   "cell_type": "markdown",
   "metadata": {},
   "source": [
    "### Declarar Variables del Follower"
   ]
  },
  {
   "cell_type": "code",
   "execution_count": 4,
   "metadata": {},
   "outputs": [
    {
     "data": {
      "text/latex": [
       "$$ \\begin{equation}\n",
       "\\left[\n",
       "\\begin{array}{c}\n",
       "\\mathtt{y\\_1} \\\\\n",
       "\\mathtt{y\\_2} \\\\\n",
       "\\end{array}\n",
       "\\right]\n",
       "\\end{equation}\n",
       " $$"
      ],
      "text/plain": [
       "2-element Vector{Num}:\n",
       " y_1\n",
       " y_2"
      ]
     },
     "metadata": {},
     "output_type": "display_data"
    }
   ],
   "source": [
    "@follower_vars experiment y_1,y_2"
   ]
  },
  {
   "cell_type": "markdown",
   "metadata": {},
   "source": [
    "### Declarar Función Objetivo del Líder"
   ]
  },
  {
   "cell_type": "code",
   "execution_count": 5,
   "metadata": {},
   "outputs": [
    {
     "data": {
      "text/latex": [
       "$$ \\begin{equation}\n",
       " - x - 3 \\mathtt{y\\_1} + 2 \\mathtt{y\\_2}\n",
       "\\end{equation}\n",
       " $$"
      ],
      "text/plain": [
       "-x - 3y_1 + 2y_2"
      ]
     },
     "metadata": {},
     "output_type": "display_data"
    }
   ],
   "source": [
    "SetLeaderFunction(experiment,-x-3y_1+2y_2)"
   ]
  },
  {
   "cell_type": "markdown",
   "metadata": {},
   "source": [
    "### Función objetivo del Follower"
   ]
  },
  {
   "cell_type": "code",
   "execution_count": 6,
   "metadata": {},
   "outputs": [
    {
     "data": {
      "text/latex": [
       "$$ \\begin{equation}\n",
       " - \\mathtt{y\\_1}\n",
       "\\end{equation}\n",
       " $$"
      ],
      "text/plain": [
       "-y_1"
      ]
     },
     "metadata": {},
     "output_type": "display_data"
    }
   ],
   "source": [
    "SetFollowerFunction(experiment,-y_1)"
   ]
  },
  {
   "cell_type": "markdown",
   "metadata": {},
   "source": [
    "### Restricciones del Follower"
   ]
  },
  {
   "cell_type": "code",
   "execution_count": 7,
   "metadata": {},
   "outputs": [
    {
     "data": {
      "text/plain": [
       "1-element Vector{FollowerRestrictionProblem}:\n",
       " FollowerRestrictionProblem((-y_1) <= 0, J_0_LP_v, 0.9184943390167823, 0.3236788747352437, 0.938995216461284)"
      ]
     },
     "metadata": {},
     "output_type": "display_data"
    }
   ],
   "source": [
    "SetFollowerRestriction(experiment,-y_1<=0)"
   ]
  },
  {
   "cell_type": "code",
   "execution_count": 8,
   "metadata": {},
   "outputs": [
    {
     "data": {
      "text/plain": [
       "2-element Vector{FollowerRestrictionProblem}:\n",
       " FollowerRestrictionProblem((-y_1) <= 0, J_0_LP_v, 0.9184943390167823, 0.3236788747352437, 0.938995216461284)\n",
       " FollowerRestrictionProblem(y_1 <= 4, J_0_LP_v, 0.9637155069216027, 0.7893869924242224, 0.12068422852161663)"
      ]
     },
     "metadata": {},
     "output_type": "display_data"
    }
   ],
   "source": [
    "SetFollowerRestriction(experiment,y_1<=4)"
   ]
  },
  {
   "cell_type": "code",
   "execution_count": 9,
   "metadata": {},
   "outputs": [
    {
     "data": {
      "text/plain": [
       "3-element Vector{FollowerRestrictionProblem}:\n",
       " FollowerRestrictionProblem((-y_1) <= 0, J_0_LP_v, 0.9184943390167823, 0.3236788747352437, 0.938995216461284)\n",
       " FollowerRestrictionProblem(y_1 <= 4, J_0_LP_v, 0.9637155069216027, 0.7893869924242224, 0.12068422852161663)\n",
       " FollowerRestrictionProblem((-2x + 5y_1) <= 16, J_0_LP_v, 0.01347741632081211, 0.32802009393227993, 0.4141497005489849)"
      ]
     },
     "metadata": {},
     "output_type": "display_data"
    }
   ],
   "source": [
    "SetFollowerRestriction(experiment,-2x+y_1+4y_1<=16)"
   ]
  },
  {
   "cell_type": "code",
   "execution_count": 10,
   "metadata": {},
   "outputs": [
    {
     "data": {
      "text/plain": [
       "4-element Vector{FollowerRestrictionProblem}:\n",
       " FollowerRestrictionProblem((-y_1) <= 0, J_0_LP_v, 0.9184943390167823, 0.3236788747352437, 0.938995216461284)\n",
       " FollowerRestrictionProblem(y_1 <= 4, J_0_LP_v, 0.9637155069216027, 0.7893869924242224, 0.12068422852161663)\n",
       " FollowerRestrictionProblem((-2x + 5y_1) <= 16, J_0_LP_v, 0.01347741632081211, 0.32802009393227993, 0.4141497005489849)\n",
       " FollowerRestrictionProblem((8x + y_1) <= 48, J_0_LP_v, 0.059658096214405536, 0.14858257470582048, 0.6100983591877015)"
      ]
     },
     "metadata": {},
     "output_type": "display_data"
    }
   ],
   "source": [
    "SetFollowerRestriction(experiment,8x+3y_1-2y_1<=48)"
   ]
  },
  {
   "cell_type": "code",
   "execution_count": 11,
   "metadata": {},
   "outputs": [
    {
     "data": {
      "text/plain": [
       "5-element Vector{FollowerRestrictionProblem}:\n",
       " FollowerRestrictionProblem((-y_1) <= 0, J_0_LP_v, 0.9184943390167823, 0.3236788747352437, 0.938995216461284)\n",
       " FollowerRestrictionProblem(y_1 <= 4, J_0_LP_v, 0.9637155069216027, 0.7893869924242224, 0.12068422852161663)\n",
       " FollowerRestrictionProblem((-2x + 5y_1) <= 16, J_0_LP_v, 0.01347741632081211, 0.32802009393227993, 0.4141497005489849)\n",
       " FollowerRestrictionProblem((8x + y_1) <= 48, J_0_LP_v, 0.059658096214405536, 0.14858257470582048, 0.6100983591877015)\n",
       " FollowerRestrictionProblem((-2x - 2y_1) <= -12, J_0_LP_v, 0.6664869360338038, 0.11748608766642664, 0.39761306179981903)"
      ]
     },
     "metadata": {},
     "output_type": "display_data"
    }
   ],
   "source": [
    "SetFollowerRestriction(experiment,-2x+y_1-3y_1<=-12)"
   ]
  },
  {
   "cell_type": "markdown",
   "metadata": {},
   "source": [
    "### Poner el Punto Optimo"
   ]
  },
  {
   "cell_type": "code",
   "execution_count": 12,
   "metadata": {},
   "outputs": [
    {
     "data": {
      "text/plain": [
       "Dict{Any, Any} with 3 entries:\n",
       "  x   => 5.80789\n",
       "  y_1 => 4.88943\n",
       "  y_2 => 2.85857"
      ]
     },
     "metadata": {},
     "output_type": "display_data"
    }
   ],
   "source": [
    "SetPoint(experiment,Dict(x=>5,y_1=>4,y_2=>2))"
   ]
  },
  {
   "cell_type": "markdown",
   "metadata": {},
   "source": [
    "## Iniciar el Experimento\n"
   ]
  },
  {
   "cell_type": "code",
   "execution_count": 13,
   "metadata": {},
   "outputs": [
    {
     "name": "stdout",
     "output_type": "stream",
     "text": [
      "Leader's Objective Function:\n",
      "Variable names: [:y_1, :y_2, :x]\n",
      "Expression (string): -x - 3y_1 + 2y_2\n",
      "Parsed expression: -x - 3y_1 + 2y_2\n",
      "Evaluation point: Dict{Any, Any}(\"x\" => 5.807892468537205, \"y_2\" => 2.8585703245239102, \"y_1\" => 4.889425013080598)\n",
      "Evaluation value: -14.759026858731179\n",
      "Is leader function: true\n",
      "------------------------------\n",
      "Leader's Restrictions:\n",
      "------------------------------\n",
      "Follower's Objective Function:\n",
      "Variable names: [:y_1]\n",
      "Expression (string): -y_1\n",
      "Parsed expression: -y_1\n",
      "Evaluation point: Dict{Any, Any}(\"x\" => 5.807892468537205, \"y_2\" => 2.8585703245239102, \"y_1\" => 4.889425013080598)\n",
      "Evaluation value: -4.889425013080598\n",
      "Is leader function: false\n",
      "------------------------------\n",
      "Follower's Restrictions:\n",
      "++++++++++++++++++++++++++++++\n",
      "Restriction 1\n",
      "Variable names: [:y_1]\n",
      "Expression (string): (-y_1) == 0\n",
      "Parsed expression: -0.997203886232242y_1 + 0.04222076166098512y_2\n",
      "Evaluation point: Dict{Any, Any}(\"x\" => 5.807892468537205, \"y_2\" => 2.8585703245239102, \"y_1\" => 4.889425013080598)\n",
      "Evaluation value: -4.7550626081222145\n",
      "Additional constant: 4.7550626081222145\n",
      "Restriction type: LtEq\n",
      "Restriction set type: J_0_LP_v\n",
      "Value of miu: 0\n",
      "Value of beta: 0.9184943390167823\n",
      "Value of lambda: 0.3236788747352437\n",
      "Value of gamma: 0.938995216461284\n",
      "++++++++++++++++++++++++++++++\n",
      "++++++++++++++++++++++++++++++\n",
      "Restriction 2\n",
      "Variable names: [:y_1]\n",
      "Expression (string): y_1 == 4\n",
      "Parsed expression: -4 + 0.997203886232242y_1 - 0.04222076166098512y_2\n",
      "Evaluation point: Dict{Any, Any}(\"x\" => 5.807892468537205, \"y_2\" => 2.8585703245239102, \"y_1\" => 4.889425013080598)\n",
      "Evaluation value: 0.7550626081222143\n",
      "Additional constant: -0.7550626081222143\n",
      "Restriction type: LtEq\n",
      "Restriction set type: J_0_LP_v\n",
      "Value of miu: 0\n",
      "Value of beta: 0.9637155069216027\n",
      "Value of lambda: 0.7893869924242224\n",
      "Value of gamma: 0.12068422852161663\n",
      "++++++++++++++++++++++++++++++\n",
      "++++++++++++++++++++++++++++++\n",
      "Restriction 3\n",
      "Variable names: [:y_1, :x]\n",
      "Expression (string): (-2x + 5y_1) == 16\n",
      "Parsed expression: -16 - 2x + 4.98601943116121y_1 - 0.2111038083049256y_2\n",
      "Evaluation point: Dict{Any, Any}(\"x\" => 5.807892468537205, \"y_2\" => 2.8585703245239102, \"y_1\" => 4.889425013080598)\n",
      "Evaluation value: -3.840471896463341\n",
      "Additional constant: 3.840471896463341\n",
      "Restriction type: LtEq\n",
      "Restriction set type: J_0_LP_v\n",
      "Value of miu: 0\n",
      "Value of beta: 0.01347741632081211\n",
      "Value of lambda: 0.32802009393227993\n",
      "Value of gamma: 0.4141497005489849\n",
      "++++++++++++++++++++++++++++++\n",
      "++++++++++++++++++++++++++++++\n",
      "Restriction 4\n",
      "Variable names: [:y_1, :x]\n",
      "Expression (string): (8x + y_1) == 48\n",
      "Parsed expression: -48 + 8x + 0.997203886232242y_1 - 0.04222076166098512y_2\n",
      "Evaluation point: Dict{Any, Any}(\"x\" => 5.807892468537205, \"y_2\" => 2.8585703245239102, \"y_1\" => 4.889425013080598)\n",
      "Evaluation value: 3.218202356419857\n",
      "Additional constant: -3.218202356419857\n",
      "Restriction type: LtEq\n",
      "Restriction set type: J_0_LP_v\n",
      "Value of miu: 0\n",
      "Value of beta: 0.059658096214405536\n",
      "Value of lambda: 0.14858257470582048\n",
      "Value of gamma: 0.6100983591877015\n",
      "++++++++++++++++++++++++++++++\n",
      "++++++++++++++++++++++++++++++\n",
      "Restriction 5\n",
      "Variable names: [:y_1, :x]\n",
      "Expression (string): (-2x - 2y_1) == -12\n",
      "Parsed expression: 12 - 2x - 1.994407772464484y_1 + 0.08444152332197025y_2\n",
      "Evaluation point: Dict{Any, Any}(\"x\" => 5.807892468537205, \"y_2\" => 2.8585703245239102, \"y_1\" => 4.889425013080598)\n",
      "Evaluation value: -9.12591015331884\n",
      "Additional constant: 9.12591015331884\n",
      "Restriction type: LtEq\n",
      "Restriction set type: J_0_LP_v\n",
      "Value of miu: 0\n",
      "Value of beta: 0.6664869360338038\n",
      "Value of lambda: 0.11748608766642664\n",
      "Value of gamma: 0.39761306179981903\n",
      "++++++++++++++++++++++++++++++\n",
      "------------------------------\n",
      "Evaluation Point:\n",
      "Dict{Any, Any}(\"x\" => 5.807892468537205, \"y_2\" => 2.8585703245239102, \"y_1\" => 4.889425013080598)\n",
      "------------------------------\n",
      "_\n",
      "\n",
      "Num[1.8826639349939875, 4.157462056049569, -2.0490059558278952]\n",
      "Leader's Objective Function:\n",
      "Variable names: [:y_1, :y_2, :x]\n",
      "Expression (string): -x - 3y_1 + 2y_2\n",
      "Parsed expression: -x - 3y_1 + 2y_2\n",
      "Evaluation point: Dict{Any, Any}(\"x\" => 5.807892468537205, \"y_2\" => 2.8585703245239102, \"y_1\" => 4.889425013080598)\n",
      "Evaluation value: -14.759026858731179\n",
      "Is leader function: true\n",
      "------------------------------\n",
      "Leader's Restrictions:\n",
      "------------------------------\n",
      "Follower's Objective Function:\n",
      "Variable names: [:y_1]\n",
      "Expression (string): -y_1\n",
      "Parsed expression: -y_1\n",
      "Evaluation point: Dict{Any, Any}(\"x\" => 5.807892468537205, \"y_2\" => 2.8585703245239102, \"y_1\" => 4.889425013080598)\n",
      "Evaluation value: -4.889425013080598\n",
      "Is leader function: false\n",
      "------------------------------\n",
      "Follower's Restrictions:\n",
      "++++++++++++++++++++++++++++++\n",
      "Restriction 1\n",
      "Variable names: [:y_1]\n",
      "Expression (string): (-y_1) == 0\n",
      "Parsed expression: -y_1\n",
      "Evaluation point: Dict{Any, Any}(\"x\" => 5.807892468537205, \"y_2\" => 2.8585703245239102, \"y_1\" => 4.889425013080598)\n",
      "Evaluation value: -4.889425013080598\n",
      "Additional constant: 4.889425013080598\n",
      "Restriction type: LtEq\n",
      "Restriction set type: J_0_LP_v\n",
      "Value of miu: 0\n",
      "Value of beta: 0.9184943390167823\n",
      "Value of lambda: 0.3236788747352437\n",
      "Value of gamma: 0.938995216461284\n",
      "++++++++++++++++++++++++++++++\n",
      "++++++++++++++++++++++++++++++\n",
      "Restriction 2\n",
      "Variable names: [:y_1]\n",
      "Expression (string): y_1 == 4\n",
      "Parsed expression: -4 + y_1\n",
      "Evaluation point: Dict{Any, Any}(\"x\" => 5.807892468537205, \"y_2\" => 2.8585703245239102, \"y_1\" => 4.889425013080598)\n",
      "Evaluation value: 0.8894250130805981\n",
      "Additional constant: -0.8894250130805981\n",
      "Restriction type: LtEq\n",
      "Restriction set type: J_0_LP_v\n",
      "Value of miu: 0\n",
      "Value of beta: 0.9637155069216027\n",
      "Value of lambda: 0.7893869924242224\n",
      "Value of gamma: 0.12068422852161663\n",
      "++++++++++++++++++++++++++++++\n",
      "++++++++++++++++++++++++++++++\n",
      "Restriction 3\n",
      "Variable names: [:y_1, :x]\n",
      "Expression (string): (-2x + 5y_1) == 16\n",
      "Parsed expression: -16 - 2x + 5y_1\n",
      "Evaluation point: Dict{Any, Any}(\"x\" => 5.807892468537205, \"y_2\" => 2.8585703245239102, \"y_1\" => 4.889425013080598)\n",
      "Evaluation value: -3.1686598716714194\n",
      "Additional constant: 3.1686598716714194\n",
      "Restriction type: LtEq\n",
      "Restriction set type: J_0_LP_v\n",
      "Value of miu: 0\n",
      "Value of beta: 0.01347741632081211\n",
      "Value of lambda: 0.32802009393227993\n",
      "Value of gamma: 0.4141497005489849\n",
      "++++++++++++++++++++++++++++++\n",
      "++++++++++++++++++++++++++++++\n",
      "Restriction 4\n",
      "Variable names: [:y_1, :x]\n",
      "Expression (string): (8x + y_1) == 48\n",
      "Parsed expression: -48 + 8x + y_1\n",
      "Evaluation point: Dict{Any, Any}(\"x\" => 5.807892468537205, \"y_2\" => 2.8585703245239102, \"y_1\" => 4.889425013080598)\n",
      "Evaluation value: 3.3525647613782406\n",
      "Additional constant: -3.3525647613782406\n",
      "Restriction type: LtEq\n",
      "Restriction set type: J_0_LP_v\n",
      "Value of miu: 0\n",
      "Value of beta: 0.059658096214405536\n",
      "Value of lambda: 0.14858257470582048\n",
      "Value of gamma: 0.6100983591877015\n",
      "++++++++++++++++++++++++++++++\n",
      "++++++++++++++++++++++++++++++\n",
      "Restriction 5\n",
      "Variable names: [:y_1, :x]\n",
      "Expression (string): (-2x - 2y_1) == -12\n",
      "Parsed expression: 12 - 2x - 2y_1\n",
      "Evaluation point: Dict{Any, Any}(\"x\" => 5.807892468537205, \"y_2\" => 2.8585703245239102, \"y_1\" => 4.889425013080598)\n",
      "Evaluation value: -9.394634963235607\n",
      "Additional constant: 9.394634963235607\n",
      "Restriction type: LtEq\n",
      "Restriction set type: J_0_LP_v\n",
      "Value of miu: 0\n",
      "Value of beta: 0.6664869360338038\n",
      "Value of lambda: 0.11748608766642664\n",
      "Value of gamma: 0.39761306179981903\n",
      "++++++++++++++++++++++++++++++\n",
      "------------------------------\n",
      "Evaluation Point:\n",
      "Dict{Any, Any}(\"x\" => 5.807892468537205, \"y_2\" => 2.8585703245239102, \"y_1\" => 4.889425013080598)\n",
      "------------------------------\n",
      "_\n",
      "\n",
      "Num[1.8826639349939875, 4.160707526344321, -2.0]\n",
      "Se va a crear el DataFrame\n",
      "Se va a crear el DataFrame\n",
      "Se va a crear el DataFrame\n",
      "Experimento Completado\n"
     ]
    }
   ],
   "source": [
    "RunExperiment(experiment,\"(ex9.1.1(Linear))\")"
   ]
  },
  {
   "cell_type": "code",
   "execution_count": 14,
   "metadata": {},
   "outputs": [],
   "source": []
  }
 ],
 "metadata": {
  "kernelspec": {
   "display_name": "Julia 1.10.5",
   "language": "julia",
   "name": "julia-1.10"
  },
  "language_info": {
   "file_extension": ".jl",
   "mimetype": "application/julia",
   "name": "julia",
   "version": "1.10.5"
  }
 },
 "nbformat": 4,
 "nbformat_minor": 2
}
