{
 "cells": [
  {
   "cell_type": "code",
   "execution_count": 1,
   "metadata": {},
   "outputs": [
    {
     "data": {
      "text/plain": [
       "RunExperiment (generic function with 1 method)"
      ]
     },
     "metadata": {},
     "output_type": "display_data"
    }
   ],
   "source": [
    "\n",
    "include(\"new_experiment.jl\")"
   ]
  },
  {
   "cell_type": "code",
   "execution_count": 2,
   "metadata": {},
   "outputs": [
    {
     "data": {
      "text/plain": [
       "Experiment(OptimizationModel(Problem(Any[], nothing), LeaderRestrictionProblem[], Problem(Any[], nothing), FollowerRestrictionProblem[], Dict{Any, Any}(), Number[1], false), OptimizationModel(Problem(Any[], nothing), LeaderRestrictionProblem[], Problem(Any[], nothing), FollowerRestrictionProblem[], Dict{Any, Any}(), Number[], true))"
      ]
     },
     "metadata": {},
     "output_type": "display_data"
    }
   ],
   "source": [
    "\n",
    "experiment=CreateExperiment()"
   ]
  },
  {
   "cell_type": "code",
   "execution_count": 3,
   "metadata": {},
   "outputs": [
    {
     "data": {
      "text/latex": [
       "$$ \\begin{equation}\n",
       "\\left[\n",
       "\\begin{array}{c}\n",
       "x \\\\\n",
       "\\end{array}\n",
       "\\right]\n",
       "\\end{equation}\n",
       " $$"
      ],
      "text/plain": [
       "1-element Vector{Num}:\n",
       " x"
      ]
     },
     "metadata": {},
     "output_type": "display_data"
    }
   ],
   "source": [
    "@leader_vars experiment x"
   ]
  },
  {
   "cell_type": "code",
   "execution_count": 4,
   "metadata": {},
   "outputs": [
    {
     "data": {
      "text/latex": [
       "$$ \\begin{equation}\n",
       "\\left[\n",
       "\\begin{array}{c}\n",
       "\\mathtt{y\\_1} \\\\\n",
       "\\mathtt{y\\_2} \\\\\n",
       "\\end{array}\n",
       "\\right]\n",
       "\\end{equation}\n",
       " $$"
      ],
      "text/plain": [
       "2-element Vector{Num}:\n",
       " y_1\n",
       " y_2"
      ]
     },
     "metadata": {},
     "output_type": "display_data"
    }
   ],
   "source": [
    "@follower_vars experiment y_1,y_2"
   ]
  },
  {
   "cell_type": "code",
   "execution_count": 5,
   "metadata": {},
   "outputs": [
    {
     "data": {
      "text/latex": [
       "$$ \\begin{equation}\n",
       " - x - 3 \\mathtt{y\\_1} + 2 \\mathtt{y\\_2}\n",
       "\\end{equation}\n",
       " $$"
      ],
      "text/plain": [
       "-x - 3y_1 + 2y_2"
      ]
     },
     "metadata": {},
     "output_type": "display_data"
    }
   ],
   "source": [
    "SetLeaderFunction(experiment,-x-3y_1+2y_2)"
   ]
  },
  {
   "cell_type": "code",
   "execution_count": 6,
   "metadata": {},
   "outputs": [
    {
     "data": {
      "text/latex": [
       "$$ \\begin{equation}\n",
       " - \\mathtt{y\\_1}\n",
       "\\end{equation}\n",
       " $$"
      ],
      "text/plain": [
       "-y_1"
      ]
     },
     "metadata": {},
     "output_type": "display_data"
    }
   ],
   "source": [
    "SetFollowerFunction(experiment,-y_1)"
   ]
  },
  {
   "cell_type": "code",
   "execution_count": 7,
   "metadata": {},
   "outputs": [
    {
     "data": {
      "text/plain": [
       "1-element Vector{FollowerRestrictionProblem}:\n",
       " FollowerRestrictionProblem((-y_1) <= 0, J_0_LP_v, 0.5907391562766517, 0.6662959245141457, 0.8331527532836331)"
      ]
     },
     "metadata": {},
     "output_type": "display_data"
    }
   ],
   "source": [
    "SetFollowerRestriction(experiment,-y_1<=0)"
   ]
  },
  {
   "cell_type": "code",
   "execution_count": 8,
   "metadata": {},
   "outputs": [
    {
     "data": {
      "text/plain": [
       "2-element Vector{FollowerRestrictionProblem}:\n",
       " FollowerRestrictionProblem((-y_1) <= 0, J_0_LP_v, 0.5907391562766517, 0.6662959245141457, 0.8331527532836331)\n",
       " FollowerRestrictionProblem(y_1 <= 4, J_0_LP_v, 0.17658468388917026, 0.06387705993875813, 0.6790958909134694)"
      ]
     },
     "metadata": {},
     "output_type": "display_data"
    }
   ],
   "source": [
    "SetFollowerRestriction(experiment,y_1<=4)"
   ]
  },
  {
   "cell_type": "code",
   "execution_count": 9,
   "metadata": {},
   "outputs": [
    {
     "data": {
      "text/plain": [
       "3-element Vector{FollowerRestrictionProblem}:\n",
       " FollowerRestrictionProblem((-y_1) <= 0, J_0_LP_v, 0.5907391562766517, 0.6662959245141457, 0.8331527532836331)\n",
       " FollowerRestrictionProblem(y_1 <= 4, J_0_LP_v, 0.17658468388917026, 0.06387705993875813, 0.6790958909134694)\n",
       " FollowerRestrictionProblem((-2x + 5y_1) <= 16, J_0_LP_v, 0.03860102119382935, 0.1702366595854391, 0.5912893908080579)"
      ]
     },
     "metadata": {},
     "output_type": "display_data"
    }
   ],
   "source": [
    "\n",
    "SetFollowerRestriction(experiment,-2x+y_1+4y_1<=16)"
   ]
  },
  {
   "cell_type": "code",
   "execution_count": 10,
   "metadata": {},
   "outputs": [
    {
     "data": {
      "text/plain": [
       "4-element Vector{FollowerRestrictionProblem}:\n",
       " FollowerRestrictionProblem((-y_1) <= 0, J_0_LP_v, 0.5907391562766517, 0.6662959245141457, 0.8331527532836331)\n",
       " FollowerRestrictionProblem(y_1 <= 4, J_0_LP_v, 0.17658468388917026, 0.06387705993875813, 0.6790958909134694)\n",
       " FollowerRestrictionProblem((-2x + 5y_1) <= 16, J_0_LP_v, 0.03860102119382935, 0.1702366595854391, 0.5912893908080579)\n",
       " FollowerRestrictionProblem((8x + y_1) <= 48, J_0_LP_v, 0.9450711208008451, 0.28844983569459937, 0.2324941381649822)"
      ]
     },
     "metadata": {},
     "output_type": "display_data"
    }
   ],
   "source": [
    "\n",
    "SetFollowerRestriction(experiment,8x+3y_1-2y_1<=48)"
   ]
  },
  {
   "cell_type": "code",
   "execution_count": 11,
   "metadata": {},
   "outputs": [
    {
     "data": {
      "text/plain": [
       "5-element Vector{FollowerRestrictionProblem}:\n",
       " FollowerRestrictionProblem((-y_1) <= 0, J_0_LP_v, 0.5907391562766517, 0.6662959245141457, 0.8331527532836331)\n",
       " FollowerRestrictionProblem(y_1 <= 4, J_0_LP_v, 0.17658468388917026, 0.06387705993875813, 0.6790958909134694)\n",
       " FollowerRestrictionProblem((-2x + 5y_1) <= 16, J_0_LP_v, 0.03860102119382935, 0.1702366595854391, 0.5912893908080579)\n",
       " FollowerRestrictionProblem((8x + y_1) <= 48, J_0_LP_v, 0.9450711208008451, 0.28844983569459937, 0.2324941381649822)\n",
       " FollowerRestrictionProblem((-2x - 2y_1) <= -12, J_0_LP_v, 0.20514599340455375, 0.7686824630138211, 0.46923221111654756)"
      ]
     },
     "metadata": {},
     "output_type": "display_data"
    }
   ],
   "source": [
    "\n",
    "SetFollowerRestriction(experiment,-2x+y_1-3y_1<=-12)"
   ]
  },
  {
   "cell_type": "code",
   "execution_count": 12,
   "metadata": {},
   "outputs": [
    {
     "data": {
      "text/plain": [
       "Experiment(OptimizationModel(Problem(Any[x], -x - 3y_1 + 2y_2), LeaderRestrictionProblem[], Problem(Any[y_1, y_2], -y_1), FollowerRestrictionProblem[FollowerRestrictionProblem((-y_1) <= 0, J_0_LP_v, 0.5907391562766517, 0.6662959245141457, 0.8331527532836331), FollowerRestrictionProblem(y_1 <= 4, J_0_LP_v, 0.17658468388917026, 0.06387705993875813, 0.6790958909134694), FollowerRestrictionProblem((-2x + 5y_1) <= 16, J_0_LP_v, 0.03860102119382935, 0.1702366595854391, 0.5912893908080579), FollowerRestrictionProblem((8x + y_1) <= 48, J_0_LP_v, 0.9450711208008451, 0.28844983569459937, 0.2324941381649822), FollowerRestrictionProblem((-2x - 2y_1) <= -12, J_0_LP_v, 0.20514599340455375, 0.7686824630138211, 0.46923221111654756)], Dict{Any, Any}(), Number[1], false), OptimizationModel(Problem(Any[x], -x - 3y_1 + 2y_2), LeaderRestrictionProblem[], Problem(Any[y_1, y_2], -y_1), FollowerRestrictionProblem[], Dict{Any, Any}(), Number[], true))"
      ]
     },
     "metadata": {},
     "output_type": "display_data"
    }
   ],
   "source": [
    "experiment"
   ]
  },
  {
   "cell_type": "code",
   "execution_count": 13,
   "metadata": {},
   "outputs": [
    {
     "data": {
      "text/plain": [
       "Dict{Num, Int64} with 3 entries:\n",
       "  x   => 5\n",
       "  y_1 => 4\n",
       "  y_2 => 2"
      ]
     },
     "metadata": {},
     "output_type": "display_data"
    }
   ],
   "source": [
    "SetPoint(experiment,Dict(x=>5,y_1=>4,y_2=>2))"
   ]
  },
  {
   "cell_type": "code",
   "execution_count": 14,
   "metadata": {},
   "outputs": [
    {
     "name": "stdout",
     "output_type": "stream",
     "text": [
      "LLEgue aca\n",
      "Leader's Objective Function:\n",
      "Variable names: [:y_1, :y_2, :x]\n",
      "Expression (string): -x - 3y_1 + 2y_2\n",
      "Parsed expression: -x - 3y_1 + 2y_2\n",
      "Evaluation point: Dict{Any, Any}(\"x\" => 5, \"y_2\" => 2, \"y_1\" => 4)\n",
      "Evaluation value: -13\n",
      "Is leader function: true\n",
      "------------------------------\n",
      "Leader's Restrictions:\n",
      "------------------------------\n",
      "Follower's Objective Function:\n",
      "Variable names: [:y_1]\n",
      "Expression (string): -y_1\n",
      "Parsed expression: -y_1\n",
      "Evaluation point: Dict{Any, Any}(\"x\" => 5, \"y_2\" => 2, \"y_1\" => 4)\n",
      "Evaluation value: -4\n",
      "Is leader function: false\n",
      "------------------------------\n",
      "Follower's Restrictions:\n",
      "++++++++++++++++++++++++++++++\n",
      "Restriction 1\n",
      "Variable names: [:y_1]\n",
      "Expression (string): (-y_1) == 0\n",
      "Parsed expression: -0.9997053899914624y_1 + 0.01572313178959321y_2\n",
      "Evaluation point: Dict{Any, Any}(\"x\" => 5, \"y_2\" => 2, \"y_1\" => 4)\n",
      "Evaluation value: -3.9673752963866633\n",
      "Additional constant: 3.9673752963866633\n",
      "Restriction type: LtEq\n",
      "Restriction set type: J_0_LP_v\n",
      "Value of miu: 0\n",
      "Value of beta: 0.5907391562766517\n",
      "Value of lambda: 0.6662959245141457\n",
      "Value of gamma: 0.8331527532836331\n",
      "++++++++++++++++++++++++++++++\n",
      "++++++++++++++++++++++++++++++\n",
      "Restriction 2\n",
      "Variable names: [:y_1]\n",
      "Expression (string): y_1 == 4\n",
      "Parsed expression: -4 + 0.9997053899914624y_1 - 0.01572313178959321y_2\n",
      "Evaluation point: Dict{Any, Any}(\"x\" => 5, \"y_2\" => 2, \"y_1\" => 4)\n",
      "Evaluation value: -0.032624703613336775\n",
      "Additional constant: 0.032624703613336775\n",
      "Restriction type: LtEq\n",
      "Restriction set type: J_0_LP_v\n",
      "Value of miu: 0\n",
      "Value of beta: 0.17658468388917026\n",
      "Value of lambda: 0.06387705993875813\n",
      "Value of gamma: 0.6790958909134694\n",
      "++++++++++++++++++++++++++++++\n",
      "++++++++++++++++++++++++++++++\n",
      "Restriction 3\n",
      "Variable names: [:y_1, :x]\n",
      "Expression (string): (-2x + 5y_1) == 16\n",
      "Parsed expression: -16 - 2x + 4.998526949957312y_1 - 0.07861565894796604y_2\n",
      "Evaluation point: Dict{Any, Any}(\"x\" => 5, \"y_2\" => 2, \"y_1\" => 4)\n",
      "Evaluation value: -6.163123518066684\n",
      "Additional constant: 6.163123518066684\n",
      "Restriction type: LtEq\n",
      "Restriction set type: J_0_LP_v\n",
      "Value of miu: 0\n",
      "Value of beta: 0.03860102119382935\n",
      "Value of lambda: 0.1702366595854391\n",
      "Value of gamma: 0.5912893908080579\n",
      "++++++++++++++++++++++++++++++\n",
      "++++++++++++++++++++++++++++++\n",
      "Restriction 4\n",
      "Variable names: [:y_1, :x]\n",
      "Expression (string): (8x + y_1) == 48\n",
      "Parsed expression: -48 + 8x + 0.9997053899914624y_1 - 0.01572313178959321y_2\n",
      "Evaluation point: Dict{Any, Any}(\"x\" => 5, \"y_2\" => 2, \"y_1\" => 4)\n",
      "Evaluation value: -4.032624703613338\n",
      "Additional constant: 4.032624703613338\n",
      "Restriction type: LtEq\n",
      "Restriction set type: J_0_LP_v\n",
      "Value of miu: 0\n",
      "Value of beta: 0.9450711208008451\n",
      "Value of lambda: 0.28844983569459937\n",
      "Value of gamma: 0.2324941381649822\n",
      "++++++++++++++++++++++++++++++\n",
      "++++++++++++++++++++++++++++++\n",
      "Restriction 5\n",
      "Variable names: [:y_1, :x]\n",
      "Expression (string): (-2x - 2y_1) == -12\n",
      "Parsed expression: 12 - 2x - 1.9994107799829248y_1 + 0.03144626357918642y_2\n",
      "Evaluation point: Dict{Any, Any}(\"x\" => 5, \"y_2\" => 2, \"y_1\" => 4)\n",
      "Evaluation value: -5.934750592773327\n",
      "Additional constant: 5.934750592773327\n",
      "Restriction type: LtEq\n",
      "Restriction set type: J_0_LP_v\n",
      "Value of miu: 0\n",
      "Value of beta: 0.20514599340455375\n",
      "Value of lambda: 0.7686824630138211\n",
      "Value of gamma: 0.46923221111654756\n",
      "++++++++++++++++++++++++++++++\n",
      "------------------------------\n",
      "Evaluation Point:\n",
      "Dict{Any, Any}(\"x\" => 5, \"y_2\" => 2, \"y_1\" => 4)\n",
      "------------------------------\n",
      "_\n",
      "\n",
      "Num[-6.073074937209995, 2.6864626308950994, -1.995068757831304]\n",
      "Leader's Objective Function:\n",
      "Variable names: [:y_1, :y_2, :x]\n",
      "Expression (string): -x - 3y_1 + 2y_2\n",
      "Parsed expression: -x - 3y_1 + 2y_2\n",
      "Evaluation point: Dict{Any, Any}(\"x\" => 5, \"y_2\" => 2, \"y_1\" => 4)\n",
      "Evaluation value: -13\n",
      "Is leader function: true\n",
      "------------------------------\n",
      "Leader's Restrictions:\n",
      "------------------------------\n",
      "Follower's Objective Function:\n",
      "Variable names: [:y_1]\n",
      "Expression (string): -y_1\n",
      "Parsed expression: -y_1\n",
      "Evaluation point: Dict{Any, Any}(\"x\" => 5, \"y_2\" => 2, \"y_1\" => 4)\n",
      "Evaluation value: -4\n",
      "Is leader function: false\n",
      "------------------------------\n",
      "Follower's Restrictions:\n",
      "------------------------------\n",
      "Evaluation Point:\n",
      "Dict{Any, Any}(\"x\" => 5, \"y_2\" => 2, \"y_1\" => 4)\n",
      "------------------------------\n",
      "_\n",
      "\n",
      "Num[1.0, 3.0, -2.0]\n",
      "Leader's Objective Function:\n",
      "Variable names: [:y_1, :y_2, :x]\n",
      "Expression (string): -x - 3y_1 + 2y_2\n",
      "Parsed expression: -x - 3y_1 + 2y_2\n",
      "Evaluation point: Dict{Any, Any}(\"x\" => 5, \"y_2\" => 2, \"y_1\" => 4)\n",
      "Evaluation value: -13\n",
      "Is leader function: true\n",
      "------------------------------\n",
      "Leader's Restrictions:\n",
      "------------------------------\n",
      "Follower's Objective Function:\n",
      "Variable names: [:y_1]\n",
      "Expression (string): -y_1\n",
      "Parsed expression: -y_1\n",
      "Evaluation point: Dict{Any, Any}(\"x\" => 5, \"y_2\" => 2, \"y_1\" => 4)\n",
      "Evaluation value: -4\n",
      "Is leader function: false\n",
      "------------------------------\n",
      "Follower's Restrictions:\n",
      "------------------------------\n",
      "Evaluation Point:\n",
      "Dict{Any, Any}(\"x\" => 5, \"y_2\" => 2, \"y_1\" => 4)\n",
      "------------------------------\n",
      "_\n"
     ]
    },
    {
     "data": {
      "text/plain": [
       "(, Num[1.0, 3.0, -2.0])"
      ]
     },
     "metadata": {},
     "output_type": "display_data"
    }
   ],
   "source": [
    "RunExperiment(experiment)\n"
   ]
  },
  {
   "cell_type": "code",
   "execution_count": 15,
   "metadata": {},
   "outputs": [],
   "source": []
  }
 ],
 "metadata": {
  "kernelspec": {
   "display_name": "Julia 1.10.5",
   "language": "julia",
   "name": "julia-1.10"
  },
  "language_info": {
   "file_extension": ".jl",
   "mimetype": "application/julia",
   "name": "julia",
   "version": "1.10.5"
  }
 },
 "nbformat": 4,
 "nbformat_minor": 2
}
