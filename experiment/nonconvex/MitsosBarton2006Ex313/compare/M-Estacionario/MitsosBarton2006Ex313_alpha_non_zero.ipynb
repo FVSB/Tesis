{
 "cells": [
  {
   "cell_type": "markdown",
   "metadata": {},
   "source": [
    "## Importaciones necesarias"
   ]
  },
  {
   "cell_type": "code",
   "execution_count": 1,
   "metadata": {},
   "outputs": [],
   "source": [
    "using JuMP, Ipopt, Complementarity"
   ]
  },
  {
   "cell_type": "markdown",
   "metadata": {},
   "source": [
    "# Crear el modelo"
   ]
  },
  {
   "cell_type": "code",
   "execution_count": 2,
   "metadata": {},
   "outputs": [
    {
     "data": {
      "text/plain": [
       "A JuMP Model\n",
       "├ solver: Ipopt\n",
       "├ objective_sense: FEASIBILITY_SENSE\n",
       "├ num_variables: 0\n",
       "├ num_constraints: 0\n",
       "└ Names registered in the model: none"
      ]
     },
     "metadata": {},
     "output_type": "display_data"
    }
   ],
   "source": [
    "# Crear el modelo\n",
    "model = Model(Ipopt.Optimizer)"
   ]
  },
  {
   "cell_type": "markdown",
   "metadata": {},
   "source": [
    "## Definir Variables\n"
   ]
  },
  {
   "cell_type": "code",
   "execution_count": 3,
   "metadata": {},
   "outputs": [
    {
     "data": {
      "text/plain": [
       "1-element Vector{VariableRef}:\n",
       " l[1]"
      ]
     },
     "metadata": {},
     "output_type": "display_data"
    }
   ],
   "source": [
    "# Nivel superior\n",
    "@variable(model,x)\n",
    "# Nivel Inferior\n",
    "@variable(model,y)\n",
    "# Complementariedad\n",
    "@variable(model,l[1:1])"
   ]
  },
  {
   "cell_type": "markdown",
   "metadata": {},
   "source": [
    "## Definir Objetivo\n"
   ]
  },
  {
   "cell_type": "code",
   "execution_count": 4,
   "metadata": {},
   "outputs": [
    {
     "data": {
      "text/latex": [
       "$ x - y $"
      ],
      "text/plain": [
       "x - y"
      ]
     },
     "metadata": {},
     "output_type": "display_data"
    }
   ],
   "source": [
    "@objective(model,Min,x-y)"
   ]
  },
  {
   "cell_type": "markdown",
   "metadata": {},
   "source": [
    "## Definir Restricciones\n"
   ]
  },
  {
   "cell_type": "code",
   "execution_count": 5,
   "metadata": {},
   "outputs": [
    {
     "data": {
      "text/latex": [
       "$$ ((x * y - x ^ {3.0}) + 1.07 * l[1]) - 0.0 = 0 $$"
      ],
      "text/plain": [
       "((x * y - x ^ 3.0) + 1.07 * l[1]) - 0.0 == 0"
      ]
     },
     "metadata": {},
     "output_type": "display_data"
    }
   ],
   "source": [
    "@NLconstraint(model,x*y-x^3+(1.07l[1])==0) # Obj nivel inferior"
   ]
  },
  {
   "cell_type": "code",
   "execution_count": 6,
   "metadata": {},
   "outputs": [
    {
     "data": {
      "text/plain": [
       "(-x <= -2.3, x <= 2.3, 1.07 y <= 4.76)"
      ]
     },
     "metadata": {},
     "output_type": "display_data"
    }
   ],
   "source": [
    "@constraints(model,begin\n",
    "2.3 - x<=0  #gs\n",
    "-2.3 + x<=0  #gs\n",
    "#-y-1<=0  #vs\n",
    "-4.76 + 1.07y<=0 #vs\n",
    "end)"
   ]
  },
  {
   "cell_type": "markdown",
   "metadata": {},
   "source": [
    "## Definir restricciones Complementarias"
   ]
  },
  {
   "cell_type": "code",
   "execution_count": 7,
   "metadata": {},
   "outputs": [
    {
     "data": {
      "text/latex": [
       "$$ (sqrt(l[1] ^ {2.0} + (-4.76 + 1.07 * y) ^ {2.0} + 1.0e-8) - (l[1] + (-4.76 + 1.07 * y))) - 0.0 = 0 $$"
      ],
      "text/plain": [
       "(sqrt(l[1] ^ 2.0 + (-4.76 + 1.07 * y) ^ 2.0 + 1.0e-8) - (l[1] + (-4.76 + 1.07 * y))) - 0.0 == 0"
      ]
     },
     "metadata": {},
     "output_type": "display_data"
    }
   ],
   "source": [
    "@complements(model,0<=(-4.76 + 1.07y),l[1]>=0)\n",
    "#@complements(model,0<=-y+1,l[2]>=0)"
   ]
  },
  {
   "cell_type": "markdown",
   "metadata": {},
   "source": [
    "## Optimizar"
   ]
  },
  {
   "cell_type": "code",
   "execution_count": 8,
   "metadata": {},
   "outputs": [
    {
     "name": "stdout",
     "output_type": "stream",
     "text": [
      "\n",
      "******************************************************************************\n",
      "This program contains Ipopt, a library for large-scale nonlinear optimization.\n",
      " Ipopt is released as open source code under the Eclipse Public License (EPL).\n",
      "         For more information visit https://github.com/coin-or/Ipopt\n",
      "******************************************************************************\n",
      "\n",
      "This is Ipopt version 3.14.16, running with linear solver MUMPS 5.7.3.\n",
      "\n",
      "Number of nonzeros in equality constraint Jacobian...:        5\n",
      "Number of nonzeros in inequality constraint Jacobian.:        5\n",
      "Number of nonzeros in Lagrangian Hessian.............:        6\n",
      "\n",
      "Total number of variables............................:        3\n",
      "                     variables with only lower bounds:        0\n",
      "                variables with lower and upper bounds:        0\n",
      "                     variables with only upper bounds:        0\n",
      "Total number of equality constraints.................:        2\n",
      "Total number of inequality constraints...............:        5\n",
      "        inequality constraints with only lower bounds:        2\n",
      "   inequality constraints with lower and upper bounds:        0\n",
      "        inequality constraints with only upper bounds:        3\n",
      "\n",
      "iter    objective    inf_pr   inf_du lg(mu)  ||d||  lg(rg) alpha_du alpha_pr  ls\n",
      "   0  0.0000000e+00 9.52e+00 3.33e-01  -1.0 0.00e+00    -  0.00e+00 0.00e+00   0\n",
      "   1 -2.0801086e+00 1.88e+00 6.46e+01  -1.0 4.76e+00    -  1.00e+00 9.79e-01h  1\n",
      "   2 -2.1036889e+00 1.70e+00 1.14e+02  -1.0 1.97e-01    -  2.93e-01 9.85e-02h  1\n",
      "   3 -2.1101327e+00 1.65e+00 8.37e+02  -1.0 1.81e-01    -  1.00e+00 2.92e-02h  1\n",
      "   4 -2.1101970e+00 1.65e+00 4.95e+05  -1.0 1.76e-01    -  3.00e-01 2.99e-04h  1\n",
      "   5r-2.1101970e+00 1.65e+00 1.00e+03   0.2 0.00e+00    -  0.00e+00 4.00e-07R  4\n",
      "   6r-2.2727058e+00 6.16e-01 1.00e+03   0.2 1.32e+02    -  4.20e-03 8.27e-03f  1\n",
      "   7 -2.2727081e+00 6.16e-01 9.71e+01  -1.7 1.84e-01    -  6.75e-03 7.63e-05h  1\n",
      "   8 -2.2726783e+00 6.16e-01 9.22e+02  -1.7 4.02e+00    -  2.67e-04 2.34e-05h  1\n",
      "   9r-2.2726783e+00 6.16e-01 1.00e+03  -0.2 0.00e+00    -  0.00e+00 2.09e-07R  2\n",
      "iter    objective    inf_pr   inf_du lg(mu)  ||d||  lg(rg) alpha_du alpha_pr  ls\n",
      "  10r-2.3352313e+00 1.87e-01 1.00e+03  -0.2 4.23e+02    -  2.86e-03 1.44e-03f  1\n",
      "  11r-2.3352313e+00 1.87e-01 9.99e+02  -0.7 0.00e+00    -  0.00e+00 4.23e-07R  5\n",
      "  12r-2.3362366e+00 1.88e-01 9.98e+02  -0.7 4.59e+00    -  5.35e-02 1.50e-03f  1\n",
      "  13r-2.3389522e+00 1.91e-01 9.38e+02  -0.7 4.03e-01    -  1.00e+00 5.98e-02f  1\n",
      "  14r-2.3391457e+00 1.91e-01 2.10e+02  -0.7 8.65e-04    -  1.00e+00 1.00e+00f  1\n",
      "  15r-2.3388620e+00 1.90e-01 3.71e+02  -0.7 3.88e-03    -  2.60e-01 1.00e+00f  1\n",
      "  16r-2.2436494e+00 9.50e-02 3.14e+02  -0.7 7.93e-01    -  7.07e-03 1.00e+00f  1\n",
      "  17 -2.1495488e+00 6.06e-02 1.40e+00  -1.7 9.66e-01    -  1.00e+00 9.78e-01h  1\n",
      "  18 -2.1495212e+00 2.76e-02 1.33e+03  -1.7 5.72e-02    -  1.00e+00 5.45e-01h  1\n",
      "  19 -2.1486074e+00 1.37e-02 3.79e+03  -1.7 4.51e-02    -  1.00e+00 5.04e-01h  1\n",
      "iter    objective    inf_pr   inf_du lg(mu)  ||d||  lg(rg) alpha_du alpha_pr  ls\n",
      "  20 -2.1487822e+00 5.58e-03 6.59e+03  -1.7 9.65e-03    -  1.00e+00 5.93e-01h  1\n",
      "  21 -2.1486000e+00 2.30e-03 1.50e+04  -1.7 8.52e-03    -  1.00e+00 5.88e-01h  1\n",
      "  22 -2.1486297e+00 9.55e-04 3.50e+04  -1.7 1.61e-03    -  1.00e+00 5.85e-01h  1\n",
      "  23 -2.1486141e+00 6.75e-04 1.30e+05  -1.7 1.46e-03    -  1.00e+00 2.93e-01f  2\n",
      "  24 -2.1485983e+00 1.33e-04 6.14e+04  -1.7 8.41e-04    -  1.00e+00 8.03e-01h  1\n",
      "  25 -2.1485994e+00 1.01e-04 4.33e+05  -1.7 7.44e-05    -  1.00e+00 2.37e-01f  2\n",
      "  26 -2.1485987e+00 1.65e-05 1.22e+05  -1.7 1.03e-04    -  1.00e+00 8.38e-01h  1\n",
      "  27 -2.1485984e+00 1.29e-05 2.94e+05  -1.7 2.94e-05    -  1.00e+00 2.20e-01f  2\n",
      "  28 -2.1485981e+00 1.01e-06 2.57e+04  -1.7 1.54e-05    -  1.00e+00 9.22e-01h  1\n",
      "  29 -2.1485981e+00 7.45e-07 3.07e+05  -1.7 2.57e-07    -  1.00e+00 2.61e-01f  2\n",
      "iter    objective    inf_pr   inf_du lg(mu)  ||d||  lg(rg) alpha_du alpha_pr  ls\n",
      "  30 -2.1485981e+00 3.33e-15 2.00e-07  -1.7 7.82e-07    -  1.00e+00 1.00e+00h  1\n",
      "  31 -2.1485981e+00 1.33e-15 1.65e-10  -8.6 1.88e-11    -  1.00e+00 1.00e+00h  1\n",
      "  32 -2.1485981e+00 3.11e-15 3.57e-01  -8.6 4.73e-09    -  9.86e-01 1.00e+00h  1\n",
      "  33 -2.1485982e+00 1.78e-15 2.51e-14  -8.6 2.25e-07    -  1.00e+00 1.00e+00h  1\n",
      "\n",
      "Number of Iterations....: 33\n",
      "\n",
      "                                   (scaled)                 (unscaled)\n",
      "Objective...............:  -2.1485981561008525e+00   -2.1485981561008525e+00\n",
      "Dual infeasibility......:   2.5091040356528538e-14    2.5091040356528538e-14\n",
      "Constraint violation....:   1.7763568394002505e-15    1.7763568394002505e-15\n",
      "Variable bound violation:   0.0000000000000000e+00    0.0000000000000000e+00\n",
      "Complementarity.........:   4.6548440406660113e-09    4.6548440406660113e-09\n",
      "Overall NLP error.......:   4.6548440406660113e-09    4.6548440406660113e-09\n",
      "\n",
      "\n",
      "Number of objective function evaluations             = 49\n",
      "Number of objective gradient evaluations             = 30\n",
      "Number of equality constraint evaluations            = 49\n",
      "Number of inequality constraint evaluations          = 49\n",
      "Number of equality constraint Jacobian evaluations   = 37\n",
      "Number of inequality constraint Jacobian evaluations = 37\n",
      "Number of Lagrangian Hessian evaluations             = 33\n",
      "Total seconds in IPOPT                               = 3.447\n",
      "\n",
      "EXIT: Optimal Solution Found.\n"
     ]
    }
   ],
   "source": [
    "# Resolver el modelo\n",
    "optimize!(model)"
   ]
  },
  {
   "cell_type": "markdown",
   "metadata": {},
   "source": [
    "# Mostrar resultados"
   ]
  },
  {
   "cell_type": "code",
   "execution_count": 9,
   "metadata": {},
   "outputs": [
    {
     "name": "stdout",
     "output_type": "stream",
     "text": [
      "Estado de la solución: LOCALLY_SOLVED\n",
      "Valor óptimo de x: 2.299999977323949\n",
      "Valor óptimo de y1: 4.4485981334248015\n",
      "Valores óptimos de l: [1.808620592645484]\n"
     ]
    }
   ],
   "source": [
    "# Mostrar resultados\n",
    "println(\"Estado de la solución: \", termination_status(model))\n",
    "println(\"Valor óptimo de x: \", value(x))\n",
    "println(\"Valor óptimo de y1: \", value(y))\n",
    "#println(\"Valor óptimo de y2: \", value(y))\n",
    "#println(\"Valores óptimos de s: \", value.(s))\n",
    "println(\"Valores óptimos de l: \", value.(l))"
   ]
  },
  {
   "cell_type": "code",
   "execution_count": 10,
   "metadata": {},
   "outputs": [
    {
     "data": {
      "text/plain": [
       "-2.1485981561008525"
      ]
     },
     "metadata": {},
     "output_type": "display_data"
    }
   ],
   "source": [
    "objective_value(model)"
   ]
  }
 ],
 "metadata": {
  "kernelspec": {
   "display_name": "Julia 1.10.5",
   "language": "julia",
   "name": "julia-1.10"
  },
  "language_info": {
   "file_extension": ".jl",
   "mimetype": "application/julia",
   "name": "julia",
   "version": "1.10.5"
  }
 },
 "nbformat": 4,
 "nbformat_minor": 2
}
