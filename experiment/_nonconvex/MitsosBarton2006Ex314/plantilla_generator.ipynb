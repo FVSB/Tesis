{
 "cells": [
  {
   "cell_type": "markdown",
   "metadata": {},
   "source": [
    "## Importar el módulo\n"
   ]
  },
  {
   "cell_type": "code",
   "execution_count": 1,
   "metadata": {},
   "outputs": [
    {
     "data": {
      "text/plain": [
       "RunExperiment"
      ]
     },
     "metadata": {},
     "output_type": "display_data"
    }
   ],
   "source": [
    "include(\"../../new_experiment.jl\")"
   ]
  },
  {
   "cell_type": "code",
   "execution_count": 2,
   "metadata": {},
   "outputs": [
    {
     "data": {
      "text/plain": [
       "TaskLocalRNG()"
      ]
     },
     "metadata": {},
     "output_type": "display_data"
    }
   ],
   "source": [
    "using Random\n",
    "\n",
    "# Random seed\n",
    "Random.seed!(8)"
   ]
  },
  {
   "cell_type": "markdown",
   "metadata": {},
   "source": [
    "Crear un experimento\n"
   ]
  },
  {
   "cell_type": "code",
   "execution_count": 3,
   "metadata": {},
   "outputs": [
    {
     "data": {
      "text/plain": [
       "Experiment(OptimizationModel(Problem(Any[], nothing), LeaderRestrictionProblem[], Problem(Any[], nothing), FollowerRestrictionProblem[], Dict{Any, Any}(), Number[1], false), OptimizationModel(Problem(Any[], nothing), LeaderRestrictionProblem[], Problem(Any[], nothing), FollowerRestrictionProblem[], Dict{Any, Any}(), Number[], true), Any[], Any[])"
      ]
     },
     "metadata": {},
     "output_type": "display_data"
    }
   ],
   "source": [
    "experiment=CreateExperiment()"
   ]
  },
  {
   "cell_type": "markdown",
   "metadata": {},
   "source": [
    "### Declarar variables del líder\n"
   ]
  },
  {
   "cell_type": "code",
   "execution_count": 4,
   "metadata": {},
   "outputs": [
    {
     "data": {
      "text/latex": [
       "$$ \\begin{equation}\n",
       "\\left[\n",
       "\\begin{array}{c}\n",
       "x \\\\\n",
       "\\end{array}\n",
       "\\right]\n",
       "\\end{equation}\n",
       " $$"
      ],
      "text/plain": [
       "1-element Vector{Num}:\n",
       " x"
      ]
     },
     "metadata": {},
     "output_type": "display_data"
    }
   ],
   "source": [
    "@leader_vars experiment x"
   ]
  },
  {
   "cell_type": "markdown",
   "metadata": {},
   "source": [
    "### Declarar Variables del Follower"
   ]
  },
  {
   "cell_type": "code",
   "execution_count": 5,
   "metadata": {},
   "outputs": [
    {
     "data": {
      "text/latex": [
       "$$ \\begin{equation}\n",
       "\\left[\n",
       "\\begin{array}{c}\n",
       "y \\\\\n",
       "\\end{array}\n",
       "\\right]\n",
       "\\end{equation}\n",
       " $$"
      ],
      "text/plain": [
       "1-element Vector{Num}:\n",
       " y"
      ]
     },
     "metadata": {},
     "output_type": "display_data"
    }
   ],
   "source": [
    "@follower_vars experiment y"
   ]
  },
  {
   "cell_type": "markdown",
   "metadata": {},
   "source": [
    "### Declarar Función Objetivo del Líder"
   ]
  },
  {
   "cell_type": "code",
   "execution_count": 6,
   "metadata": {},
   "outputs": [
    {
     "data": {
      "text/latex": [
       "$$ \\begin{equation}\n",
       "\\left( -0.25 + x \\right)^{2} + y^{2}\n",
       "\\end{equation}\n",
       " $$"
      ],
      "text/plain": [
       "(-0.25 + x)^2 + y^2"
      ]
     },
     "metadata": {},
     "output_type": "display_data"
    }
   ],
   "source": [
    "SetLeaderFunction(experiment,((x-0.25)^2)+(y^2))"
   ]
  },
  {
   "cell_type": "markdown",
   "metadata": {},
   "source": [
    "Restricciones del Líder"
   ]
  },
  {
   "cell_type": "code",
   "execution_count": 7,
   "metadata": {},
   "outputs": [
    {
     "data": {
      "text/plain": [
       "1-element Vector{LeaderRestrictionProblem}:\n",
       " LeaderRestrictionProblem((-1 + x) <= 0, 0.42, J_0_g)"
      ]
     },
     "metadata": {},
     "output_type": "display_data"
    }
   ],
   "source": [
    "SetLeaderRestriction(experiment,x-1<=0)"
   ]
  },
  {
   "cell_type": "code",
   "execution_count": 8,
   "metadata": {},
   "outputs": [
    {
     "data": {
      "text/plain": [
       "2-element Vector{LeaderRestrictionProblem}:\n",
       " LeaderRestrictionProblem((-1 + x) <= 0, 0.42, J_0_g)\n",
       " LeaderRestrictionProblem((-1 - x) <= 0, 0.02, J_0_g)"
      ]
     },
     "metadata": {},
     "output_type": "display_data"
    }
   ],
   "source": [
    "SetLeaderRestriction(experiment,-x-1<=0)"
   ]
  },
  {
   "cell_type": "markdown",
   "metadata": {},
   "source": [
    "### Función objetivo del Follower"
   ]
  },
  {
   "cell_type": "code",
   "execution_count": 9,
   "metadata": {},
   "outputs": [
    {
     "data": {
      "text/latex": [
       "$$ \\begin{equation}\n",
       " - x y + 0.33333 y^{3}\n",
       "\\end{equation}\n",
       " $$"
      ],
      "text/plain": [
       "-x*y + 0.3333333333333333(y^3)"
      ]
     },
     "metadata": {},
     "output_type": "display_data"
    }
   ],
   "source": [
    "SetFollowerFunction(experiment,((1/3)*(y^3))-(x*y))"
   ]
  },
  {
   "cell_type": "markdown",
   "metadata": {},
   "source": [
    "### Restricciones del Follower"
   ]
  },
  {
   "cell_type": "code",
   "execution_count": 10,
   "metadata": {},
   "outputs": [
    {
     "data": {
      "text/plain": [
       "1-element Vector{FollowerRestrictionProblem}:\n",
       " FollowerRestrictionProblem((-1 + y) <= 0, J_0_LP_v, 0.76, 0.29, 0.28)"
      ]
     },
     "metadata": {},
     "output_type": "display_data"
    }
   ],
   "source": [
    "SetFollowerRestriction(experiment,y-1<=0)"
   ]
  },
  {
   "cell_type": "code",
   "execution_count": 11,
   "metadata": {},
   "outputs": [
    {
     "data": {
      "text/plain": [
       "2-element Vector{FollowerRestrictionProblem}:\n",
       " FollowerRestrictionProblem((-1 + y) <= 0, J_0_LP_v, 0.76, 0.29, 0.28)\n",
       " FollowerRestrictionProblem((-1 - y) <= 0, J_0_LP_v, 0.26, 0.52, 0.89)"
      ]
     },
     "metadata": {},
     "output_type": "display_data"
    }
   ],
   "source": [
    "SetFollowerRestriction(experiment,-y-1<=0)"
   ]
  },
  {
   "cell_type": "markdown",
   "metadata": {},
   "source": [
    "### Poner el Punto Optimo"
   ]
  },
  {
   "cell_type": "code",
   "execution_count": 12,
   "metadata": {},
   "outputs": [
    {
     "data": {
      "text/plain": [
       "Dict{Any, Any} with 2 entries:\n",
       "  y => 2.7\n",
       "  x => 0.9"
      ]
     },
     "metadata": {},
     "output_type": "display_data"
    }
   ],
   "source": [
    "SetPoint(experiment,Dict(x=>0.25,y=>0.5))"
   ]
  },
  {
   "cell_type": "markdown",
   "metadata": {},
   "source": [
    "## Iniciar el Experimento\n"
   ]
  },
  {
   "cell_type": "code",
   "execution_count": 13,
   "metadata": {},
   "outputs": [
    {
     "name": "stdout",
     "output_type": "stream",
     "text": [
      "Va a retornar correctamente\n",
      "Leader's Objective Function:\n",
      "Variable names: [:y, :x]\n",
      "Expression (string): (-0.25 + x)^2 + y^2\n",
      "Parsed expression: (-0.25 + x)^2 + y^2\n",
      "Evaluation point: Dict{Any, Any}(\"x\" => 0.9, \"y\" => 2.7)\n",
      "Evaluation value: 7.712500000000001\n",
      "Is leader function: true\n",
      "------------------------------\n",
      "Leader's Restrictions:\n",
      "++++++++++++++++++++++++++++++\n",
      "Restriction 1\n",
      "Variable names: [:x]\n",
      "Expression (string): (-1 + x) == 0\n",
      "Parsed expression: -0.9 + x\n",
      "Evaluation point: Dict{Any, Any}(\"x\" => 0.9, \"y\" => 2.7)\n",
      "Evaluation value: -0.09999999999999998\n",
      "Additional constant: 0.09999999999999998\n",
      "Restriction type: LtEq\n",
      "Restriction set type: J_0_g\n",
      "Value of miu: 0.42\n",
      "Value of beta: 0\n",
      "Value of lambda: 0\n",
      "Value of gamma: 0\n",
      "++++++++++++++++++++++++++++++\n",
      "++++++++++++++++++++++++++++++\n",
      "Restriction 2\n",
      "Variable names: [:x]\n",
      "Expression (string): (-1 - x) == 0\n",
      "Parsed expression: 0.8999999999999999 - x\n",
      "Evaluation point: Dict{Any, Any}(\"x\" => 0.9, \"y\" => 2.7)\n",
      "Evaluation value: -1.9\n",
      "Additional constant: 1.9\n",
      "Restriction type: LtEq\n",
      "Restriction set type: J_0_g\n",
      "Value of miu: 0.02\n",
      "Value of beta: 0\n",
      "Value of lambda: 0\n",
      "Value of gamma: 0\n",
      "++++++++++++++++++++++++++++++\n",
      "------------------------------\n",
      "Follower's Objective Function:\n",
      "Variable names: [:y, :x]\n",
      "Expression (string): -x*y + 0.3333333333333333(y^3)\n",
      "Parsed expression: -x*y + 0.3333333333333333(y^3)\n",
      "Evaluation point: Dict{Any, Any}(\"x\" => 0.9, \"y\" => 2.7)\n",
      "Evaluation value: 4.131\n",
      "Is leader function: false\n",
      "------------------------------\n",
      "Follower's Restrictions:\n",
      "++++++++++++++++++++++++++++++\n",
      "Restriction 1\n",
      "Variable names: [:y]\n",
      "Expression (string): (-1 + y) == 0\n",
      "Parsed expression: 0\n",
      "Evaluation point: Dict{Any, Any}(\"x\" => 0.9, \"y\" => 2.7)\n",
      "Evaluation value: -1\n",
      "Additional constant: 1\n",
      "Restriction type: LtEq\n",
      "Restriction set type: J_0_L0_v\n",
      "Value of miu: 0\n",
      "Value of beta: 0\n",
      "Value of lambda: 0.29\n",
      "Value of gamma: 0\n",
      "++++++++++++++++++++++++++++++\n",
      "++++++++++++++++++++++++++++++\n",
      "Restriction 2\n",
      "Variable names: [:y]\n",
      "Expression (string): (-1 - y) == 0\n",
      "Parsed expression: 0\n",
      "Evaluation point: Dict{Any, Any}(\"x\" => 0.9, \"y\" => 2.7)\n",
      "Evaluation value: -1\n",
      "Additional constant: 1\n",
      "Restriction type: LtEq\n",
      "Restriction set type: J_0_LP_v\n",
      "Value of miu: 0\n",
      "Value of beta: 0\n",
      "Value of lambda: 0.52\n",
      "Value of gamma: 0\n",
      "++++++++++++++++++++++++++++++\n",
      "------------------------------\n",
      "Evaluation Point:\n",
      "Dict{Any, Any}(\"x\" => 0.9, \"y\" => 2.7)\n",
      "------------------------------\n",
      "_\n",
      "\n",
      "Num[-0.9199999999999999, -9.612000000000002]\n",
      "Va a retornar correctamente\n",
      "Leader's Objective Function:\n",
      "Variable names: [:y, :x]\n",
      "Expression (string): (-0.25 + x)^2 + y^2\n",
      "Parsed expression: (-0.25 + x)^2 + y^2\n",
      "Evaluation point: Dict{Any, Any}(\"x\" => 0.9, \"y\" => 2.7)\n",
      "Evaluation value: 7.712500000000001\n",
      "Is leader function: true\n",
      "------------------------------\n",
      "Leader's Restrictions:\n",
      "++++++++++++++++++++++++++++++\n",
      "Restriction 1\n",
      "Variable names: [:x]\n",
      "Expression (string): (-1 + x) == 0\n",
      "Parsed expression: -0.9 + x\n",
      "Evaluation point: Dict{Any, Any}(\"x\" => 0.9, \"y\" => 2.7)\n",
      "Evaluation value: -0.09999999999999998\n",
      "Additional constant: 0.09999999999999998\n",
      "Restriction type: LtEq\n",
      "Restriction set type: J_0_g\n",
      "Value of miu: 0.42\n",
      "Value of beta: 0\n",
      "Value of lambda: 0\n",
      "Value of gamma: 0\n",
      "++++++++++++++++++++++++++++++\n",
      "++++++++++++++++++++++++++++++\n",
      "Restriction 2\n",
      "Variable names: [:x]\n",
      "Expression (string): (-1 - x) == 0\n",
      "Parsed expression: 0.8999999999999999 - x\n",
      "Evaluation point: Dict{Any, Any}(\"x\" => 0.9, \"y\" => 2.7)\n",
      "Evaluation value: -1.9\n",
      "Additional constant: 1.9\n",
      "Restriction type: LtEq\n",
      "Restriction set type: J_0_g\n",
      "Value of miu: 0.02\n",
      "Value of beta: 0\n",
      "Value of lambda: 0\n",
      "Value of gamma: 0\n",
      "++++++++++++++++++++++++++++++\n",
      "------------------------------\n",
      "Follower's Objective Function:\n",
      "Variable names: [:y, :x]\n",
      "Expression (string): -x*y + 0.3333333333333333(y^3)\n",
      "Parsed expression: -x*y + 0.3333333333333333(y^3)\n",
      "Evaluation point: Dict{Any, Any}(\"x\" => 0.9, \"y\" => 2.7)\n",
      "Evaluation value: 4.131\n",
      "Is leader function: false\n",
      "------------------------------\n",
      "Follower's Restrictions:\n",
      "++++++++++++++++++++++++++++++\n",
      "Restriction 1\n",
      "Variable names: [:y]\n",
      "Expression (string): (-1 + y) == 0\n",
      "Parsed expression: -2.7 + y\n",
      "Evaluation point: Dict{Any, Any}(\"x\" => 0.9, \"y\" => 2.7)\n",
      "Evaluation value: 1.7000000000000002\n",
      "Additional constant: -1.7000000000000002\n",
      "Restriction type: LtEq\n",
      "Restriction set type: J_0_L0_v\n",
      "Value of miu: 0\n",
      "Value of beta: 0\n",
      "Value of lambda: 0.29\n",
      "Value of gamma: 0\n",
      "++++++++++++++++++++++++++++++\n",
      "++++++++++++++++++++++++++++++\n",
      "Restriction 2\n",
      "Variable names: [:y]\n",
      "Expression (string): (-1 - y) == 0\n",
      "Parsed expression: 2.7 - y\n",
      "Evaluation point: Dict{Any, Any}(\"x\" => 0.9, \"y\" => 2.7)\n",
      "Evaluation value: -3.7\n",
      "Additional constant: 3.7\n",
      "Restriction type: LtEq\n",
      "Restriction set type: J_0_LP_v\n",
      "Value of miu: 0\n",
      "Value of beta: 0\n",
      "Value of lambda: 0.52\n",
      "Value of gamma: 0\n",
      "++++++++++++++++++++++++++++++\n",
      "------------------------------\n",
      "Evaluation Point:\n",
      "Dict{Any, Any}(\"x\" => 0.9, \"y\" => 2.7)\n",
      "------------------------------\n",
      "_\n",
      "\n",
      "Num[-1.7, -5.4]\n",
      "Se va a crear el DataFrame\n",
      "Se va a crear el DataFrame\n",
      "Carpeta creada: d:\\GitHub\\Tesis\\experiment\\nonconvex\\MitsosBarton2006Ex314\\Experimentos_Generador\n",
      "Se va a crear el DataFrame\n",
      "La carpeta ya existe: d:\\GitHub\\Tesis\\experiment\\nonconvex\\MitsosBarton2006Ex314\\Experimentos_Generador\n",
      "Experimento Completado\n",
      "Va a retornar correctamente\n",
      "Leader's Objective Function:\n",
      "Variable names: [:y, :x]\n",
      "Expression (string): (-0.25 + x)^2 + y^2\n",
      "Parsed expression: (-0.25 + x)^2 + y^2\n",
      "Evaluation point: Dict{Any, Any}(\"x\" => 0.9, \"y\" => 2.7)\n",
      "Evaluation value: 7.712500000000001\n",
      "Is leader function: true\n",
      "------------------------------\n",
      "Leader's Restrictions:\n",
      "++++++++++++++++++++++++++++++\n",
      "Restriction 1\n",
      "Variable names: [:x]\n",
      "Expression (string): (-1 + x) == 0\n",
      "Parsed expression: -0.9 + x\n",
      "Evaluation point: Dict{Any, Any}(\"x\" => 0.9, \"y\" => 2.7)\n",
      "Evaluation value: -0.09999999999999998\n",
      "Additional constant: 0.09999999999999998\n",
      "Restriction type: LtEq\n",
      "Restriction set type: J_0_g\n",
      "Value of miu: 0.42\n",
      "Value of beta: 0\n",
      "Value of lambda: 0\n",
      "Value of gamma: 0\n",
      "++++++++++++++++++++++++++++++\n",
      "++++++++++++++++++++++++++++++\n",
      "Restriction 2\n",
      "Variable names: [:x]\n",
      "Expression (string): (-1 - x) == 0\n",
      "Parsed expression: 0.8999999999999999 - x\n",
      "Evaluation point: Dict{Any, Any}(\"x\" => 0.9, \"y\" => 2.7)\n",
      "Evaluation value: -1.9\n",
      "Additional constant: 1.9\n",
      "Restriction type: LtEq\n",
      "Restriction set type: J_0_g\n",
      "Value of miu: 0.02\n",
      "Value of beta: 0\n",
      "Value of lambda: 0\n",
      "Value of gamma: 0\n",
      "++++++++++++++++++++++++++++++\n",
      "------------------------------\n",
      "Follower's Objective Function:\n",
      "Variable names: [:y, :x]\n",
      "Expression (string): -x*y + 0.3333333333333333(y^3)\n",
      "Parsed expression: -x*y + 0.3333333333333333(y^3)\n",
      "Evaluation point: Dict{Any, Any}(\"x\" => 0.9, \"y\" => 2.7)\n",
      "Evaluation value: 4.131\n",
      "Is leader function: false\n",
      "------------------------------\n",
      "Follower's Restrictions:\n",
      "++++++++++++++++++++++++++++++\n",
      "Restriction 1\n",
      "Variable names: [:y]\n",
      "Expression (string): (-1 + y) == 0\n",
      "Parsed expression: -28.0 + 10.37037037037037y\n",
      "Evaluation point: Dict{Any, Any}(\"x\" => 0.9, \"y\" => 2.7)\n",
      "Evaluation value: 27.0\n",
      "Additional constant: -27.0\n",
      "Restriction type: LtEq\n",
      "Restriction set type: J_0_L0_v\n",
      "Value of miu: 0\n",
      "Value of beta: 0\n",
      "Value of lambda: 0.29\n",
      "Value of gamma: 2.8000000000000003\n",
      "++++++++++++++++++++++++++++++\n",
      "++++++++++++++++++++++++++++++\n",
      "Restriction 2\n",
      "Variable names: [:y]\n",
      "Expression (string): (-1 - y) == 0\n",
      "Parsed expression: 0\n",
      "Evaluation point: Dict{Any, Any}(\"x\" => 0.9, \"y\" => 2.7)\n",
      "Evaluation value: -1\n",
      "Additional constant: 1\n",
      "Restriction type: LtEq\n",
      "Restriction set type: J_0_LP_v\n",
      "Value of miu: 0\n",
      "Value of beta: 5.8999999999999995\n",
      "Value of lambda: 0.52\n",
      "Value of gamma: 0\n",
      "++++++++++++++++++++++++++++++\n",
      "------------------------------\n",
      "Evaluation Point:\n",
      "Dict{Any, Any}(\"x\" => 0.9, \"y\" => 2.7)\n",
      "------------------------------\n",
      "_\n",
      "\n",
      "Num[-1.43, -6.8580000000000005]\n",
      "Va a retornar correctamente\n",
      "Leader's Objective Function:\n",
      "Variable names: [:y, :x]\n",
      "Expression (string): (-0.25 + x)^2 + y^2\n",
      "Parsed expression: (-0.25 + x)^2 + y^2\n",
      "Evaluation point: Dict{Any, Any}(\"x\" => 0.9, \"y\" => 2.7)\n",
      "Evaluation value: 7.712500000000001\n",
      "Is leader function: true\n",
      "------------------------------\n",
      "Leader's Restrictions:\n",
      "++++++++++++++++++++++++++++++\n",
      "Restriction 1\n",
      "Variable names: [:x]\n",
      "Expression (string): (-1 + x) == 0\n",
      "Parsed expression: -0.9 + x\n",
      "Evaluation point: Dict{Any, Any}(\"x\" => 0.9, \"y\" => 2.7)\n",
      "Evaluation value: -0.09999999999999998\n",
      "Additional constant: 0.09999999999999998\n",
      "Restriction type: LtEq\n",
      "Restriction set type: J_0_g\n",
      "Value of miu: 0.42\n",
      "Value of beta: 0\n",
      "Value of lambda: 0\n",
      "Value of gamma: 0\n",
      "++++++++++++++++++++++++++++++\n",
      "++++++++++++++++++++++++++++++\n",
      "Restriction 2\n",
      "Variable names: [:x]\n",
      "Expression (string): (-1 - x) == 0\n",
      "Parsed expression: 0.8999999999999999 - x\n",
      "Evaluation point: Dict{Any, Any}(\"x\" => 0.9, \"y\" => 2.7)\n",
      "Evaluation value: -1.9\n",
      "Additional constant: 1.9\n",
      "Restriction type: LtEq\n",
      "Restriction set type: J_0_g\n",
      "Value of miu: 0.02\n",
      "Value of beta: 0\n",
      "Value of lambda: 0\n",
      "Value of gamma: 0\n",
      "++++++++++++++++++++++++++++++\n",
      "------------------------------\n",
      "Follower's Objective Function:\n",
      "Variable names: [:y, :x]\n",
      "Expression (string): -x*y + 0.3333333333333333(y^3)\n",
      "Parsed expression: -x*y + 0.3333333333333333(y^3)\n",
      "Evaluation point: Dict{Any, Any}(\"x\" => 0.9, \"y\" => 2.7)\n",
      "Evaluation value: 4.131\n",
      "Is leader function: false\n",
      "------------------------------\n",
      "Follower's Restrictions:\n",
      "++++++++++++++++++++++++++++++\n",
      "Restriction 1\n",
      "Variable names: [:y]\n",
      "Expression (string): (-1 + y) == 0\n",
      "Parsed expression: -2.7 + y\n",
      "Evaluation point: Dict{Any, Any}(\"x\" => 0.9, \"y\" => 2.7)\n",
      "Evaluation value: 1.7000000000000002\n",
      "Additional constant: -1.7000000000000002\n",
      "Restriction type: LtEq\n",
      "Restriction set type: J_0_L0_v\n",
      "Value of miu: 0\n",
      "Value of beta: 0\n",
      "Value of lambda: 0.29\n",
      "Value of gamma: 5.300000000000001\n",
      "++++++++++++++++++++++++++++++\n",
      "++++++++++++++++++++++++++++++\n",
      "Restriction 2\n",
      "Variable names: [:y]\n",
      "Expression (string): (-1 - y) == 0\n",
      "Parsed expression: 2.7 - y\n",
      "Evaluation point: Dict{Any, Any}(\"x\" => 0.9, \"y\" => 2.7)\n",
      "Evaluation value: -3.7\n",
      "Additional constant: 3.7\n",
      "Restriction type: LtEq\n",
      "Restriction set type: J_0_LP_v\n",
      "Value of miu: 0\n",
      "Value of beta: 0\n",
      "Value of lambda: 0.52\n",
      "Value of gamma: 3.9000000000000004\n",
      "++++++++++++++++++++++++++++++\n",
      "------------------------------\n",
      "Evaluation Point:\n",
      "Dict{Any, Any}(\"x\" => 0.9, \"y\" => 2.7)\n",
      "------------------------------\n",
      "_\n",
      "\n",
      "Num[-1.7, -5.4]\n",
      "Se va a crear el DataFrame\n",
      "Se va a crear el DataFrame\n",
      "La carpeta ya existe: d:\\GitHub\\Tesis\\experiment\\nonconvex\\MitsosBarton2006Ex314\\Experimentos_Generador\n",
      "Se va a crear el DataFrame\n",
      "La carpeta ya existe: d:\\GitHub\\Tesis\\experiment\\nonconvex\\MitsosBarton2006Ex314\\Experimentos_Generador\n",
      "Experimento Completado\n",
      "Va a retornar correctamente\n",
      "Leader's Objective Function:\n",
      "Variable names: [:y, :x]\n",
      "Expression (string): (-0.25 + x)^2 + y^2\n",
      "Parsed expression: (-0.25 + x)^2 + y^2\n",
      "Evaluation point: Dict{Any, Any}(\"x\" => 0.9, \"y\" => 2.7)\n",
      "Evaluation value: 7.712500000000001\n",
      "Is leader function: true\n",
      "------------------------------\n",
      "Leader's Restrictions:\n",
      "++++++++++++++++++++++++++++++\n",
      "Restriction 1\n",
      "Variable names: [:x]\n",
      "Expression (string): (-1 + x) == 0\n",
      "Parsed expression: -0.9 + x\n",
      "Evaluation point: Dict{Any, Any}(\"x\" => 0.9, \"y\" => 2.7)\n",
      "Evaluation value: -0.09999999999999998\n",
      "Additional constant: 0.09999999999999998\n",
      "Restriction type: LtEq\n",
      "Restriction set type: J_0_g\n",
      "Value of miu: 0.42\n",
      "Value of beta: 0\n",
      "Value of lambda: 0\n",
      "Value of gamma: 0\n",
      "++++++++++++++++++++++++++++++\n",
      "++++++++++++++++++++++++++++++\n",
      "Restriction 2\n",
      "Variable names: [:x]\n",
      "Expression (string): (-1 - x) == 0\n",
      "Parsed expression: 0.8999999999999999 - x\n",
      "Evaluation point: Dict{Any, Any}(\"x\" => 0.9, \"y\" => 2.7)\n",
      "Evaluation value: -1.9\n",
      "Additional constant: 1.9\n",
      "Restriction type: LtEq\n",
      "Restriction set type: J_0_g\n",
      "Value of miu: 0.02\n",
      "Value of beta: 0\n",
      "Value of lambda: 0\n",
      "Value of gamma: 0\n",
      "++++++++++++++++++++++++++++++\n",
      "------------------------------\n",
      "Follower's Objective Function:\n",
      "Variable names: [:y, :x]\n",
      "Expression (string): -x*y + 0.3333333333333333(y^3)\n",
      "Parsed expression: -x*y + 0.3333333333333333(y^3)\n",
      "Evaluation point: Dict{Any, Any}(\"x\" => 0.9, \"y\" => 2.7)\n",
      "Evaluation value: 4.131\n",
      "Is leader function: false\n",
      "------------------------------\n",
      "Follower's Restrictions:\n",
      "++++++++++++++++++++++++++++++\n",
      "Restriction 1\n",
      "Variable names: [:y]\n",
      "Expression (string): (-1 + y) == 0\n",
      "Parsed expression: -24.666666666666668 + 9.135802469135802y\n",
      "Evaluation point: Dict{Any, Any}(\"x\" => 0.9, \"y\" => 2.7)\n",
      "Evaluation value: 23.666666666666668\n",
      "Additional constant: -23.666666666666668\n",
      "Restriction type: LtEq\n",
      "Restriction set type: J_0_L0_v\n",
      "Value of miu: 0\n",
      "Value of beta: 0.8\n",
      "Value of lambda: 0.29\n",
      "Value of gamma: 7.4\n",
      "++++++++++++++++++++++++++++++\n",
      "++++++++++++++++++++++++++++++\n",
      "Restriction 2\n",
      "Variable names: [:y]\n",
      "Expression (string): (-1 - y) == 0\n",
      "Parsed expression: 0\n",
      "Evaluation point: Dict{Any, Any}(\"x\" => 0.9, \"y\" => 2.7)\n",
      "Evaluation value: -1\n",
      "Additional constant: 1\n",
      "Restriction type: LtEq\n",
      "Restriction set type: J_0_LP_v\n",
      "Value of miu: 0\n",
      "Value of beta: 0.2\n",
      "Value of lambda: 0.52\n",
      "Value of gamma: 6.0\n",
      "++++++++++++++++++++++++++++++\n",
      "------------------------------\n",
      "Evaluation Point:\n",
      "Dict{Any, Any}(\"x\" => 0.9, \"y\" => 2.7)\n",
      "------------------------------\n",
      "_\n",
      "\n",
      "Num[-0.8899999999999999, -17.082641975308643]\n",
      "Va a retornar correctamente\n",
      "Leader's Objective Function:\n",
      "Variable names: [:y, :x]\n",
      "Expression (string): (-0.25 + x)^2 + y^2\n",
      "Parsed expression: (-0.25 + x)^2 + y^2\n",
      "Evaluation point: Dict{Any, Any}(\"x\" => 0.9, \"y\" => 2.7)\n",
      "Evaluation value: 7.712500000000001\n",
      "Is leader function: true\n",
      "------------------------------\n",
      "Leader's Restrictions:\n",
      "++++++++++++++++++++++++++++++\n",
      "Restriction 1\n",
      "Variable names: [:x]\n",
      "Expression (string): (-1 + x) == 0\n",
      "Parsed expression: -0.9 + x\n",
      "Evaluation point: Dict{Any, Any}(\"x\" => 0.9, \"y\" => 2.7)\n",
      "Evaluation value: -0.09999999999999998\n",
      "Additional constant: 0.09999999999999998\n",
      "Restriction type: LtEq\n",
      "Restriction set type: J_0_g\n",
      "Value of miu: 0.42\n",
      "Value of beta: 0\n",
      "Value of lambda: 0\n",
      "Value of gamma: 0\n",
      "++++++++++++++++++++++++++++++\n",
      "++++++++++++++++++++++++++++++\n",
      "Restriction 2\n",
      "Variable names: [:x]\n",
      "Expression (string): (-1 - x) == 0\n",
      "Parsed expression: 0.8999999999999999 - x\n",
      "Evaluation point: Dict{Any, Any}(\"x\" => 0.9, \"y\" => 2.7)\n",
      "Evaluation value: -1.9\n",
      "Additional constant: 1.9\n",
      "Restriction type: LtEq\n",
      "Restriction set type: J_0_g\n",
      "Value of miu: 0.02\n",
      "Value of beta: 0\n",
      "Value of lambda: 0\n",
      "Value of gamma: 0\n",
      "++++++++++++++++++++++++++++++\n",
      "------------------------------\n",
      "Follower's Objective Function:\n",
      "Variable names: [:y, :x]\n",
      "Expression (string): -x*y + 0.3333333333333333(y^3)\n",
      "Parsed expression: -x*y + 0.3333333333333333(y^3)\n",
      "Evaluation point: Dict{Any, Any}(\"x\" => 0.9, \"y\" => 2.7)\n",
      "Evaluation value: 4.131\n",
      "Is leader function: false\n",
      "------------------------------\n",
      "Follower's Restrictions:\n",
      "++++++++++++++++++++++++++++++\n",
      "Restriction 1\n",
      "Variable names: [:y]\n",
      "Expression (string): (-1 + y) == 0\n",
      "Parsed expression: -2.7 + y\n",
      "Evaluation point: Dict{Any, Any}(\"x\" => 0.9, \"y\" => 2.7)\n",
      "Evaluation value: 1.7000000000000002\n",
      "Additional constant: -1.7000000000000002\n",
      "Restriction type: LtEq\n",
      "Restriction set type: J_0_L0_v\n",
      "Value of miu: 0\n",
      "Value of beta: 7.5\n",
      "Value of lambda: 0.29\n",
      "Value of gamma: 9.200000000000001\n",
      "++++++++++++++++++++++++++++++\n",
      "++++++++++++++++++++++++++++++\n",
      "Restriction 2\n",
      "Variable names: [:y]\n",
      "Expression (string): (-1 - y) == 0\n",
      "Parsed expression: 2.7 - y\n",
      "Evaluation point: Dict{Any, Any}(\"x\" => 0.9, \"y\" => 2.7)\n",
      "Evaluation value: -3.7\n",
      "Additional constant: 3.7\n",
      "Restriction type: LtEq\n",
      "Restriction set type: J_0_LP_v\n",
      "Value of miu: 0\n",
      "Value of beta: 6.8999999999999995\n",
      "Value of lambda: 0.52\n",
      "Value of gamma: 7.4\n",
      "++++++++++++++++++++++++++++++\n",
      "------------------------------\n",
      "Evaluation Point:\n",
      "Dict{Any, Any}(\"x\" => 0.9, \"y\" => 2.7)\n",
      "------------------------------\n",
      "_\n",
      "\n",
      "Num[-1.7, -6.000000000000001]\n",
      "Se va a crear el DataFrame\n",
      "Se va a crear el DataFrame\n",
      "La carpeta ya existe: d:\\GitHub\\Tesis\\experiment\\nonconvex\\MitsosBarton2006Ex314\\Experimentos_Generador\n",
      "Se va a crear el DataFrame\n",
      "La carpeta ya existe: d:\\GitHub\\Tesis\\experiment\\nonconvex\\MitsosBarton2006Ex314\\Experimentos_Generador\n",
      "Experimento Completado\n",
      "Finilizado el experimento completo\n"
     ]
    }
   ],
   "source": [
    "RunExperiment(experiment,\"MitsosBarton2006Ex314\",true)"
   ]
  },
  {
   "cell_type": "code",
   "execution_count": 14,
   "metadata": {},
   "outputs": [],
   "source": []
  }
 ],
 "metadata": {
  "kernelspec": {
   "display_name": "Julia 1.11.3",
   "language": "julia",
   "name": "julia-1.11"
  },
  "language_info": {
   "file_extension": ".jl",
   "mimetype": "application/julia",
   "name": "julia",
   "version": "1.11.3"
  }
 },
 "nbformat": 4,
 "nbformat_minor": 2
}
