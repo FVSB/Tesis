{
 "cells": [
  {
   "cell_type": "code",
   "execution_count": 1,
   "metadata": {},
   "outputs": [],
   "source": [
    "using Symbolics"
   ]
  },
  {
   "cell_type": "code",
   "execution_count": 2,
   "metadata": {},
   "outputs": [
    {
     "data": {
      "text/plain": [
       "2×3 Matrix{Float64}:\n",
       " 0.0  0.0  0.0\n",
       " 0.0  0.0  0.0"
      ]
     },
     "metadata": {},
     "output_type": "display_data"
    }
   ],
   "source": [
    "a=zeros(2,3)"
   ]
  },
  {
   "cell_type": "code",
   "execution_count": 3,
   "metadata": {},
   "outputs": [
    {
     "name": "stdout",
     "output_type": "stream",
     "text": [
      "La norma dos del vector es: 5.0\n"
     ]
    }
   ],
   "source": [
    "using LinearAlgebra\n",
    "\n",
    "# Definir el vector\n",
    "v = [3, 4]\n",
    "\n",
    "# Calcular la norma dos\n",
    "norma = norm(v)\n",
    "\n",
    "# Mostrar el resultado\n",
    "println(\"La norma dos del vector es: \", norma)"
   ]
  },
  {
   "cell_type": "code",
   "execution_count": 25,
   "metadata": {},
   "outputs": [
    {
     "data": {
      "text/plain": [
       "2-element Vector{Int64}:\n",
       " 3\n",
       " 4"
      ]
     },
     "metadata": {},
     "output_type": "display_data"
    }
   ],
   "source": [
    "alpha=v"
   ]
  },
  {
   "cell_type": "code",
   "execution_count": 4,
   "metadata": {},
   "outputs": [
    {
     "data": {
      "text/plain": [
       "Main.MyParser"
      ]
     },
     "metadata": {},
     "output_type": "display_data"
    }
   ],
   "source": [
    "include(\"parser.jl\")"
   ]
  },
  {
   "cell_type": "code",
   "execution_count": 5,
   "metadata": {},
   "outputs": [],
   "source": [
    "using ..MyParser"
   ]
  },
  {
   "cell_type": "code",
   "execution_count": 6,
   "metadata": {},
   "outputs": [
    {
     "data": {
      "text/plain": [
       "\"(x_1^2)+x_2+y_1==0\""
      ]
     },
     "metadata": {},
     "output_type": "display_data"
    }
   ],
   "source": [
    "expr_str=\"(x_1^2)+x_2+y_1==0\""
   ]
  },
  {
   "cell_type": "code",
   "execution_count": 7,
   "metadata": {},
   "outputs": [],
   "source": [
    " # Tomar el nombre de las variables\n",
    " vars_name::Vector{Symbol} = MyParser.extract_variable_names(expr_str)\n",
    " # Registrar las variables\n",
    " MyParser.add_to_symbolics(vars_name)\n",
    " # Obtener las expresiones"
   ]
  },
  {
   "cell_type": "code",
   "execution_count": 8,
   "metadata": {},
   "outputs": [
    {
     "data": {
      "text/latex": [
       "$$ \\begin{equation}\n",
       "x_{2} + y_{1} + x_{1}^{2}\n",
       "\\end{equation}\n",
       " $$"
      ],
      "text/plain": [
       "x_2 + y_1 + x_1^2"
      ]
     },
     "metadata": {},
     "output_type": "display_data"
    }
   ],
   "source": [
    "left, rigth = MyParser.separate_equation(expr_str)\n",
    "#TODO: Despues añadir aca la logica para virar las inecuaciones\n",
    "# Nueva expresion de la ecuación\n",
    "new_expr = left - rigth"
   ]
  },
  {
   "cell_type": "markdown",
   "metadata": {},
   "source": [
    "Hallar las derivadas respecto a y"
   ]
  },
  {
   "cell_type": "code",
   "execution_count": 9,
   "metadata": {},
   "outputs": [
    {
     "data": {
      "text/plain": [
       "convert_Symbol_to_symbolic_num (generic function with 2 methods)"
      ]
     },
     "metadata": {},
     "output_type": "display_data"
    }
   ],
   "source": [
    "function convert_Symbol_to_symbolic_num(symbol::Symbol)::Symbolics.Num\n",
    "    # Devuelve una lista de Symbolics.Num y solo quiero devolver el primer elemento\n",
    "    return Symbolics.variables(symbol)[1]\n",
    "\n",
    "end\n",
    "function convert_Symbol_to_symbolic_num(symbol::String)::Num\n",
    "    return Symbolics.variables(symbol)[1]\n",
    "    \n",
    "end\n",
    "\n"
   ]
  },
  {
   "cell_type": "code",
   "execution_count": 39,
   "metadata": {},
   "outputs": [
    {
     "data": {
      "text/latex": [
       "$$ \\begin{equation}\n",
       "\\left[\n",
       "\\begin{array}{c}\n",
       "x_{1} \\\\\n",
       "x_{2} \\\\\n",
       "y_{1} \\\\\n",
       "y_{2} \\\\\n",
       "\\end{array}\n",
       "\\right]\n",
       "\\end{equation}\n",
       " $$"
      ],
      "text/plain": [
       "4-element Vector{Num}:\n",
       " x_1\n",
       " x_2\n",
       " y_1\n",
       " y_2"
      ]
     },
     "metadata": {},
     "output_type": "display_data"
    }
   ],
   "source": [
    "convert_Symbol_to_symbolic_num.([\"x_1\",\"x_2\",\"y_1\",\"y_2\"])\n"
   ]
  },
  {
   "cell_type": "code",
   "execution_count": 10,
   "metadata": {},
   "outputs": [
    {
     "data": {
      "text/latex": [
       "$$ \\begin{equation}\n",
       "\\left[\n",
       "\\begin{array}{c}\n",
       "x_{1} \\\\\n",
       "x_{2} \\\\\n",
       "y_{1} \\\\\n",
       "y_{2} \\\\\n",
       "\\end{array}\n",
       "\\right]\n",
       "\\end{equation}\n",
       " $$"
      ],
      "text/plain": [
       "4-element Vector{Num}:\n",
       " x_1\n",
       " x_2\n",
       " y_1\n",
       " y_2"
      ]
     },
     "metadata": {},
     "output_type": "display_data"
    }
   ],
   "source": [
    "vars=map(convert_Symbol_to_symbolic_num,[\"x_1\",\"x_2\",\"y_1\",\"y_2\"])"
   ]
  },
  {
   "cell_type": "code",
   "execution_count": 18,
   "metadata": {},
   "outputs": [
    {
     "data": {
      "text/latex": [
       "$$ \\begin{equation}\n",
       "\\left[\n",
       "\\begin{array}{c}\n",
       "y_{1} \\\\\n",
       "y_{2} \\\\\n",
       "\\end{array}\n",
       "\\right]\n",
       "\\end{equation}\n",
       " $$"
      ],
      "text/plain": [
       "2-element Vector{Num}:\n",
       " y_1\n",
       " y_2"
      ]
     },
     "metadata": {},
     "output_type": "display_data"
    }
   ],
   "source": [
    "y_vars=map(convert_Symbol_to_symbolic_num,[\"y_1\",\"y_2\"])"
   ]
  },
  {
   "cell_type": "code",
   "execution_count": 11,
   "metadata": {},
   "outputs": [
    {
     "data": {
      "text/plain": [
       "gradient_from_vector_func (generic function with 1 method)"
      ]
     },
     "metadata": {},
     "output_type": "display_data"
    }
   ],
   "source": [
    "function gradient_from_vector_func(funcs::Vector{Num},vars::Vector{Num})\n",
    "    resp=[]\n",
    "    for item in funcs\n",
    "        push!(resp,Symbolics.gradient(item,vars))\n",
    "    end\n",
    "    return resp\n",
    "end\n"
   ]
  },
  {
   "cell_type": "code",
   "execution_count": 19,
   "metadata": {},
   "outputs": [
    {
     "data": {
      "text/plain": [
       "1-element Vector{Any}:\n",
       " Num[1, 0]"
      ]
     },
     "metadata": {},
     "output_type": "display_data"
    }
   ],
   "source": [
    "grad=gradient_from_vector_func([new_expr],y_vars)"
   ]
  },
  {
   "cell_type": "code",
   "execution_count": 21,
   "metadata": {},
   "outputs": [
    {
     "data": {
      "text/plain": [
       "eval_point (generic function with 1 method)"
      ]
     },
     "metadata": {},
     "output_type": "display_data"
    }
   ],
   "source": [
    "function eval_point(expr,point::Dict)\n",
    "    # Convertir el diccionario desde strings a Symbolos\n",
    "    new_dicc=Dict(convert_Symbol_to_symbolic_num(key) => point[key] for key in keys(point))\n",
    "    # Sustituir la expresion por el punto Para substitute se tiene que enviar en forma de tupla\n",
    "    return substitute.(expr,(new_dicc,))[1]\n",
    "    \n",
    "end"
   ]
  },
  {
   "cell_type": "code",
   "execution_count": 22,
   "metadata": {},
   "outputs": [
    {
     "data": {
      "text/plain": [
       "Dict{String, Int64} with 4 entries:\n",
       "  \"x_1\" => 1\n",
       "  \"x_2\" => 1\n",
       "  \"y_2\" => 1\n",
       "  \"y_1\" => 1"
      ]
     },
     "metadata": {},
     "output_type": "display_data"
    }
   ],
   "source": [
    "point=Dict(\"x_1\"=>1,\"x_2\"=>1,\"y_1\"=>1,\"y_2\"=>1)"
   ]
  },
  {
   "cell_type": "code",
   "execution_count": 23,
   "metadata": {},
   "outputs": [
    {
     "data": {
      "text/plain": [
       "2-element Vector{Int64}:\n",
       " 1\n",
       " 0"
      ]
     },
     "metadata": {},
     "output_type": "display_data"
    }
   ],
   "source": [
    "grad_eval=eval_point(grad,point)"
   ]
  },
  {
   "cell_type": "markdown",
   "metadata": {},
   "source": [
    "Hacer el gradiente negativo\n"
   ]
  },
  {
   "cell_type": "code",
   "execution_count": 24,
   "metadata": {},
   "outputs": [
    {
     "data": {
      "text/plain": [
       "2-element Vector{Int64}:\n",
       " -1\n",
       "  0"
      ]
     },
     "metadata": {},
     "output_type": "display_data"
    }
   ],
   "source": [
    "grad_eval=-grad_eval"
   ]
  },
  {
   "cell_type": "code",
   "execution_count": 26,
   "metadata": {},
   "outputs": [
    {
     "data": {
      "text/plain": [
       "2-element Vector{Int64}:\n",
       " 3\n",
       " 4"
      ]
     },
     "metadata": {},
     "output_type": "display_data"
    }
   ],
   "source": [
    "alpha"
   ]
  },
  {
   "cell_type": "code",
   "execution_count": 32,
   "metadata": {},
   "outputs": [
    {
     "data": {
      "text/plain": [
       "-0.6"
      ]
     },
     "metadata": {},
     "output_type": "display_data"
    }
   ],
   "source": [
    "bj=dot(grad_eval,alpha)/norma"
   ]
  },
  {
   "cell_type": "code",
   "execution_count": 41,
   "metadata": {},
   "outputs": [
    {
     "data": {
      "text/plain": [
       "4"
      ]
     },
     "metadata": {},
     "output_type": "display_data"
    }
   ],
   "source": [
    "length(point)"
   ]
  },
  {
   "cell_type": "code",
   "execution_count": 43,
   "metadata": {},
   "outputs": [
    {
     "data": {
      "text/plain": [
       "0"
      ]
     },
     "metadata": {},
     "output_type": "display_data"
    }
   ],
   "source": [
    "length(Dict())"
   ]
  },
  {
   "cell_type": "code",
   "execution_count": 44,
   "metadata": {},
   "outputs": [
    {
     "data": {
      "text/plain": [
       "calculate_grad_and_evaluate_in_point (generic function with 1 method)"
      ]
     },
     "metadata": {},
     "output_type": "display_data"
    }
   ],
   "source": [
    "function calculate_grad_and_evaluate_in_point(func_expr,point::Dict,vars_grad::Vector{Num})::Vector{Number}\n",
    "    grad=Symbolics.gradient(func_expr,vars_grad)\n",
    "    return MyParser.substitute_point_in_vector(grad,point)\n",
    "    end"
   ]
  },
  {
   "cell_type": "code",
   "execution_count": 45,
   "metadata": {},
   "outputs": [
    {
     "data": {
      "text/plain": [
       "2-element Vector{Number}:\n",
       " 1\n",
       " 0"
      ]
     },
     "metadata": {},
     "output_type": "display_data"
    }
   ],
   "source": [
    "calculate_grad_and_evaluate_in_point(new_expr,point,y_vars)"
   ]
  },
  {
   "cell_type": "code",
   "execution_count": 46,
   "metadata": {},
   "outputs": [
    {
     "data": {
      "text/plain": [
       "3-element Vector{Int64}:\n",
       " 1\n",
       " 2\n",
       " 3"
      ]
     },
     "metadata": {},
     "output_type": "display_data"
    }
   ],
   "source": [
    "a=[1,2,3]"
   ]
  },
  {
   "cell_type": "code",
   "execution_count": 48,
   "metadata": {},
   "outputs": [
    {
     "ename": "Base.Meta.ParseError",
     "evalue": "ParseError:\n# Error @ /home/fvsb/projects/Tesis/evaluator/jl_notebook_cell_df34fa98e69747e1a8f8a730347b8e2f_X41sdnNjb2RlLXJlbW90ZQ==.jl:1:2\n+.a\n#╙ ── invalid identifier",
     "output_type": "error",
     "traceback": [
      "ParseError:\n",
      "# Error @ /home/fvsb/projects/Tesis/evaluator/jl_notebook_cell_df34fa98e69747e1a8f8a730347b8e2f_X41sdnNjb2RlLXJlbW90ZQ==.jl:1:2\n",
      "+.a\n",
      "#╙ ── invalid identifier\n",
      "\n",
      "Stacktrace:\n",
      " [1] top-level scope\n",
      "   @ ~/projects/Tesis/evaluator/jl_notebook_cell_df34fa98e69747e1a8f8a730347b8e2f_X41sdnNjb2RlLXJlbW90ZQ==.jl:1"
     ]
    }
   ],
   "source": []
  }
 ],
 "metadata": {
  "kernelspec": {
   "display_name": "Julia 1.10.4",
   "language": "julia",
   "name": "julia-1.10"
  },
  "language_info": {
   "file_extension": ".jl",
   "mimetype": "application/julia",
   "name": "julia",
   "version": "1.10.4"
  }
 },
 "nbformat": 4,
 "nbformat_minor": 2
}
