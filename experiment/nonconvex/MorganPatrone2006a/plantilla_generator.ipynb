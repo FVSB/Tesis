{
 "cells": [
  {
   "cell_type": "markdown",
   "metadata": {},
   "source": [
    "## Importar el módulo\n"
   ]
  },
  {
   "cell_type": "code",
   "execution_count": 1,
   "metadata": {},
   "outputs": [
    {
     "data": {
      "text/plain": [
       "RunExperiment"
      ]
     },
     "metadata": {},
     "output_type": "display_data"
    }
   ],
   "source": [
    "include(\"../../new_experiment.jl\")"
   ]
  },
  {
   "cell_type": "code",
   "execution_count": 2,
   "metadata": {},
   "outputs": [
    {
     "data": {
      "text/plain": [
       "TaskLocalRNG()"
      ]
     },
     "metadata": {},
     "output_type": "display_data"
    }
   ],
   "source": [
    "using Random\n",
    "\n",
    "# Random seed\n",
    "Random.seed!(10)"
   ]
  },
  {
   "cell_type": "markdown",
   "metadata": {},
   "source": [
    "Crear un experimento\n"
   ]
  },
  {
   "cell_type": "code",
   "execution_count": 3,
   "metadata": {},
   "outputs": [
    {
     "data": {
      "text/plain": [
       "Experiment(OptimizationModel(Problem(Any[], nothing), LeaderRestrictionProblem[], Problem(Any[], nothing), FollowerRestrictionProblem[], Dict{Any, Any}(), Number[1], false), OptimizationModel(Problem(Any[], nothing), LeaderRestrictionProblem[], Problem(Any[], nothing), FollowerRestrictionProblem[], Dict{Any, Any}(), Number[], true), Any[], Any[])"
      ]
     },
     "metadata": {},
     "output_type": "display_data"
    }
   ],
   "source": [
    "experiment=CreateExperiment()"
   ]
  },
  {
   "cell_type": "markdown",
   "metadata": {},
   "source": [
    "### Declarar variables del líder\n"
   ]
  },
  {
   "cell_type": "code",
   "execution_count": 4,
   "metadata": {},
   "outputs": [
    {
     "data": {
      "text/latex": [
       "$$ \\begin{equation}\n",
       "\\left[\n",
       "\\begin{array}{c}\n",
       "x \\\\\n",
       "\\end{array}\n",
       "\\right]\n",
       "\\end{equation}\n",
       " $$"
      ],
      "text/plain": [
       "1-element Vector{Num}:\n",
       " x"
      ]
     },
     "metadata": {},
     "output_type": "display_data"
    }
   ],
   "source": [
    "@leader_vars experiment x"
   ]
  },
  {
   "cell_type": "markdown",
   "metadata": {},
   "source": [
    "### Declarar Variables del Follower"
   ]
  },
  {
   "cell_type": "code",
   "execution_count": 5,
   "metadata": {},
   "outputs": [
    {
     "data": {
      "text/latex": [
       "$$ \\begin{equation}\n",
       "\\left[\n",
       "\\begin{array}{c}\n",
       "y \\\\\n",
       "\\end{array}\n",
       "\\right]\n",
       "\\end{equation}\n",
       " $$"
      ],
      "text/plain": [
       "1-element Vector{Num}:\n",
       " y"
      ]
     },
     "metadata": {},
     "output_type": "display_data"
    }
   ],
   "source": [
    "@follower_vars experiment y"
   ]
  },
  {
   "cell_type": "markdown",
   "metadata": {},
   "source": [
    "### Declarar Función Objetivo del Líder"
   ]
  },
  {
   "cell_type": "code",
   "execution_count": 6,
   "metadata": {},
   "outputs": [
    {
     "data": {
      "text/latex": [
       "$$ \\begin{equation}\n",
       " - x - y\n",
       "\\end{equation}\n",
       " $$"
      ],
      "text/plain": [
       "-x - y"
      ]
     },
     "metadata": {},
     "output_type": "display_data"
    }
   ],
   "source": [
    "SetLeaderFunction(experiment,-(x+y))"
   ]
  },
  {
   "cell_type": "markdown",
   "metadata": {},
   "source": [
    "Restricciones del Líder"
   ]
  },
  {
   "cell_type": "code",
   "execution_count": 7,
   "metadata": {},
   "outputs": [
    {
     "data": {
      "text/plain": [
       "1-element Vector{LeaderRestrictionProblem}:\n",
       " LeaderRestrictionProblem((-0.5 - x) <= 0, 0.3, J_0_g)"
      ]
     },
     "metadata": {},
     "output_type": "display_data"
    }
   ],
   "source": [
    "SetLeaderRestriction(experiment,-0.5-x<=0)"
   ]
  },
  {
   "cell_type": "code",
   "execution_count": 8,
   "metadata": {},
   "outputs": [
    {
     "data": {
      "text/plain": [
       "2-element Vector{LeaderRestrictionProblem}:\n",
       " LeaderRestrictionProblem((-0.5 - x) <= 0, 0.3, J_0_g)\n",
       " LeaderRestrictionProblem((-0.5 + x) <= 0, 0.09, J_0_g)"
      ]
     },
     "metadata": {},
     "output_type": "display_data"
    }
   ],
   "source": [
    "SetLeaderRestriction(experiment,x-0.5<=0)"
   ]
  },
  {
   "cell_type": "markdown",
   "metadata": {},
   "source": [
    "### Función objetivo del Follower"
   ]
  },
  {
   "cell_type": "code",
   "execution_count": 9,
   "metadata": {},
   "outputs": [
    {
     "data": {
      "text/latex": [
       "$$ \\begin{equation}\n",
       "x y\n",
       "\\end{equation}\n",
       " $$"
      ],
      "text/plain": [
       "x*y"
      ]
     },
     "metadata": {},
     "output_type": "display_data"
    }
   ],
   "source": [
    "SetFollowerFunction(experiment,x*y)"
   ]
  },
  {
   "cell_type": "markdown",
   "metadata": {},
   "source": [
    "### Restricciones del Follower"
   ]
  },
  {
   "cell_type": "code",
   "execution_count": 10,
   "metadata": {},
   "outputs": [
    {
     "data": {
      "text/plain": [
       "1-element Vector{FollowerRestrictionProblem}:\n",
       " FollowerRestrictionProblem((-1 - y) <= 0, J_0_LP_v, 0.16, 0.19, 0.46)"
      ]
     },
     "metadata": {},
     "output_type": "display_data"
    }
   ],
   "source": [
    "SetFollowerRestriction(experiment,-1-y<=0)"
   ]
  },
  {
   "cell_type": "code",
   "execution_count": 11,
   "metadata": {},
   "outputs": [
    {
     "data": {
      "text/plain": [
       "2-element Vector{FollowerRestrictionProblem}:\n",
       " FollowerRestrictionProblem((-1 - y) <= 0, J_0_LP_v, 0.16, 0.19, 0.46)\n",
       " FollowerRestrictionProblem((-1 + y) <= 0, J_0_LP_v, 0.54, 0.79, 0.61)"
      ]
     },
     "metadata": {},
     "output_type": "display_data"
    }
   ],
   "source": [
    "SetFollowerRestriction(experiment,y-1<=0)"
   ]
  },
  {
   "cell_type": "markdown",
   "metadata": {},
   "source": [
    "### Poner el Punto Optimo"
   ]
  },
  {
   "cell_type": "code",
   "execution_count": 12,
   "metadata": {},
   "outputs": [
    {
     "data": {
      "text/plain": [
       "Dict{Any, Any} with 2 entries:\n",
       "  y => 4.45\n",
       "  x => 2.85"
      ]
     },
     "metadata": {},
     "output_type": "display_data"
    }
   ],
   "source": [
    "SetPoint(experiment,Dict(x=>0,y=>1))"
   ]
  },
  {
   "cell_type": "markdown",
   "metadata": {},
   "source": [
    "## Iniciar el Experimento\n"
   ]
  },
  {
   "cell_type": "code",
   "execution_count": 13,
   "metadata": {},
   "outputs": [
    {
     "name": "stdout",
     "output_type": "stream",
     "text": [
      "Va a retornar correctamente\n",
      "Leader's Objective Function:\n",
      "Variable names: [:y, :x]\n",
      "Expression (string): -x - y\n",
      "Parsed expression: -x - y\n",
      "Evaluation point: Dict{Any, Any}(\"x\" => 2.8499999999999996, \"y\" => 4.449999999999999)\n",
      "Evaluation value: -7.299999999999999\n",
      "Is leader function: true\n",
      "------------------------------\n",
      "Leader's Restrictions:\n",
      "++++++++++++++++++++++++++++++\n",
      "Restriction 1\n",
      "Variable names: [:x]\n",
      "Expression (string): (-0.5 - x) == 0\n",
      "Parsed expression: 2.8499999999999996 - x\n",
      "Evaluation point: Dict{Any, Any}(\"x\" => 2.8499999999999996, \"y\" => 4.449999999999999)\n",
      "Evaluation value: -3.3499999999999996\n",
      "Additional constant: 3.3499999999999996\n",
      "Restriction type: LtEq\n",
      "Restriction set type: J_0_g\n",
      "Value of miu: 0.3\n",
      "Value of beta: 0\n",
      "Value of lambda: 0\n",
      "Value of gamma: 0\n",
      "++++++++++++++++++++++++++++++\n",
      "++++++++++++++++++++++++++++++\n",
      "Restriction 2\n",
      "Variable names: [:x]\n",
      "Expression (string): (-0.5 + x) == 0\n",
      "Parsed expression: -2.8499999999999996 + x\n",
      "Evaluation point: Dict{Any, Any}(\"x\" => 2.8499999999999996, \"y\" => 4.449999999999999)\n",
      "Evaluation value: 2.3499999999999996\n",
      "Additional constant: -2.3499999999999996\n",
      "Restriction type: LtEq\n",
      "Restriction set type: J_0_g\n",
      "Value of miu: 0.09\n",
      "Value of beta: 0\n",
      "Value of lambda: 0\n",
      "Value of gamma: 0\n",
      "++++++++++++++++++++++++++++++\n",
      "------------------------------\n",
      "Follower's Objective Function:\n",
      "Variable names: [:y, :x]\n",
      "Expression (string): x*y\n",
      "Parsed expression: x*y\n",
      "Evaluation point: Dict{Any, Any}(\"x\" => 2.8499999999999996, \"y\" => 4.449999999999999)\n",
      "Evaluation value: 12.682499999999996\n",
      "Is leader function: false\n",
      "------------------------------\n",
      "Follower's Restrictions:\n",
      "++++++++++++++++++++++++++++++\n",
      "Restriction 1\n",
      "Variable names: [:y]\n",
      "Expression (string): (-1 - y) == 0\n",
      "Parsed expression: 0\n",
      "Evaluation point: Dict{Any, Any}(\"x\" => 2.8499999999999996, \"y\" => 4.449999999999999)\n",
      "Evaluation value: -1\n",
      "Additional constant: 1\n",
      "Restriction type: LtEq\n",
      "Restriction set type: J_0_L0_v\n",
      "Value of miu: 0\n",
      "Value of beta: 0\n",
      "Value of lambda: 0.19\n",
      "Value of gamma: 0\n",
      "++++++++++++++++++++++++++++++\n",
      "++++++++++++++++++++++++++++++\n",
      "Restriction 2\n",
      "Variable names: [:y]\n",
      "Expression (string): (-1 + y) == 0\n",
      "Parsed expression: 0\n",
      "Evaluation point: Dict{Any, Any}(\"x\" => 2.8499999999999996, \"y\" => 4.449999999999999)\n",
      "Evaluation value: -1\n",
      "Additional constant: 1\n",
      "Restriction type: LtEq\n",
      "Restriction set type: J_0_LP_v\n",
      "Value of miu: 0\n",
      "Value of beta: -8.299999999999999\n",
      "Value of lambda: 0.79\n",
      "Value of gamma: -8.5\n",
      "++++++++++++++++++++++++++++++\n",
      "------------------------------\n",
      "Evaluation Point:\n",
      "Dict{Any, Any}(\"x\" => 2.8499999999999996, \"y\" => 4.449999999999999)\n",
      "------------------------------\n",
      "_\n",
      "\n",
      "Num[0.3699999999999999, 1.0]\n",
      "Va a retornar correctamente\n",
      "Leader's Objective Function:\n",
      "Variable names: [:y, :x]\n",
      "Expression (string): -x - y\n",
      "Parsed expression: -x - y\n",
      "Evaluation point: Dict{Any, Any}(\"x\" => 2.8499999999999996, \"y\" => 4.449999999999999)\n",
      "Evaluation value: -7.299999999999999\n",
      "Is leader function: true\n",
      "------------------------------\n",
      "Leader's Restrictions:\n",
      "++++++++++++++++++++++++++++++\n",
      "Restriction 1\n",
      "Variable names: [:x]\n",
      "Expression (string): (-0.5 - x) == 0\n",
      "Parsed expression: 2.8499999999999996 - x\n",
      "Evaluation point: Dict{Any, Any}(\"x\" => 2.8499999999999996, \"y\" => 4.449999999999999)\n",
      "Evaluation value: -3.3499999999999996\n",
      "Additional constant: 3.3499999999999996\n",
      "Restriction type: LtEq\n",
      "Restriction set type: J_0_g\n",
      "Value of miu: 0.3\n",
      "Value of beta: 0\n",
      "Value of lambda: 0\n",
      "Value of gamma: 0\n",
      "++++++++++++++++++++++++++++++\n",
      "++++++++++++++++++++++++++++++\n",
      "Restriction 2\n",
      "Variable names: [:x]\n",
      "Expression (string): (-0.5 + x) == 0\n",
      "Parsed expression: -2.8499999999999996 + x\n",
      "Evaluation point: Dict{Any, Any}(\"x\" => 2.8499999999999996, \"y\" => 4.449999999999999)\n",
      "Evaluation value: 2.3499999999999996\n",
      "Additional constant: -2.3499999999999996\n",
      "Restriction type: LtEq\n",
      "Restriction set type: J_0_g\n",
      "Value of miu: 0.09\n",
      "Value of beta: 0\n",
      "Value of lambda: 0\n",
      "Value of gamma: 0\n",
      "++++++++++++++++++++++++++++++\n",
      "------------------------------\n",
      "Follower's Objective Function:\n",
      "Variable names: [:y, :x]\n",
      "Expression (string): x*y\n",
      "Parsed expression: x*y\n",
      "Evaluation point: Dict{Any, Any}(\"x\" => 2.8499999999999996, \"y\" => 4.449999999999999)\n",
      "Evaluation value: 12.682499999999996\n",
      "Is leader function: false\n",
      "------------------------------\n",
      "Follower's Restrictions:\n",
      "++++++++++++++++++++++++++++++\n",
      "Restriction 1\n",
      "Variable names: [:y]\n",
      "Expression (string): (-1 - y) == 0\n",
      "Parsed expression: 4.449999999999999 - y\n",
      "Evaluation point: Dict{Any, Any}(\"x\" => 2.8499999999999996, \"y\" => 4.449999999999999)\n",
      "Evaluation value: -5.449999999999999\n",
      "Additional constant: 5.449999999999999\n",
      "Restriction type: LtEq\n",
      "Restriction set type: J_0_L0_v\n",
      "Value of miu: 0\n",
      "Value of beta: 0\n",
      "Value of lambda: 0.19\n",
      "Value of gamma: 0\n",
      "++++++++++++++++++++++++++++++\n",
      "++++++++++++++++++++++++++++++\n",
      "Restriction 2\n",
      "Variable names: [:y]\n",
      "Expression (string): (-1 + y) == 0\n",
      "Parsed expression: -4.449999999999999 + y\n",
      "Evaluation point: Dict{Any, Any}(\"x\" => 2.8499999999999996, \"y\" => 4.449999999999999)\n",
      "Evaluation value: 3.4499999999999993\n",
      "Additional constant: -3.4499999999999993\n",
      "Restriction type: LtEq\n",
      "Restriction set type: J_0_LP_v\n",
      "Value of miu: 0\n",
      "Value of beta: -0.6\n",
      "Value of lambda: 0.79\n",
      "Value of gamma: -0.2\n",
      "++++++++++++++++++++++++++++++\n",
      "------------------------------\n",
      "Evaluation Point:\n",
      "Dict{Any, Any}(\"x\" => 2.8499999999999996, \"y\" => 4.449999999999999)\n",
      "------------------------------\n",
      "_\n",
      "\n",
      "Num[1.21, 1.6]\n",
      "Se va a crear el DataFrame\n",
      "Se va a crear el DataFrame\n",
      "Carpeta creada: d:\\GitHub\\Tesis\\experiment\\nonconvex\\MorganPatrone2006a\\Experimentos_Generador\n",
      "Se va a crear el DataFrame\n",
      "La carpeta ya existe: d:\\GitHub\\Tesis\\experiment\\nonconvex\\MorganPatrone2006a\\Experimentos_Generador\n",
      "Experimento Completado\n",
      "Va a retornar correctamente\n",
      "Leader's Objective Function:\n",
      "Variable names: [:y, :x]\n",
      "Expression (string): -x - y\n",
      "Parsed expression: -x - y\n",
      "Evaluation point: Dict{Any, Any}(\"x\" => 2.8499999999999996, \"y\" => 4.449999999999999)\n",
      "Evaluation value: -7.299999999999999\n",
      "Is leader function: true\n",
      "------------------------------\n",
      "Leader's Restrictions:\n",
      "++++++++++++++++++++++++++++++\n",
      "Restriction 1\n",
      "Variable names: [:x]\n",
      "Expression (string): (-0.5 - x) == 0\n",
      "Parsed expression: 2.8499999999999996 - x\n",
      "Evaluation point: Dict{Any, Any}(\"x\" => 2.8499999999999996, \"y\" => 4.449999999999999)\n",
      "Evaluation value: -3.3499999999999996\n",
      "Additional constant: 3.3499999999999996\n",
      "Restriction type: LtEq\n",
      "Restriction set type: J_0_g\n",
      "Value of miu: 0.3\n",
      "Value of beta: 0\n",
      "Value of lambda: 0\n",
      "Value of gamma: 0\n",
      "++++++++++++++++++++++++++++++\n",
      "++++++++++++++++++++++++++++++\n",
      "Restriction 2\n",
      "Variable names: [:x]\n",
      "Expression (string): (-0.5 + x) == 0\n",
      "Parsed expression: -2.8499999999999996 + x\n",
      "Evaluation point: Dict{Any, Any}(\"x\" => 2.8499999999999996, \"y\" => 4.449999999999999)\n",
      "Evaluation value: 2.3499999999999996\n",
      "Additional constant: -2.3499999999999996\n",
      "Restriction type: LtEq\n",
      "Restriction set type: J_0_g\n",
      "Value of miu: 0.09\n",
      "Value of beta: 0\n",
      "Value of lambda: 0\n",
      "Value of gamma: 0\n",
      "++++++++++++++++++++++++++++++\n",
      "------------------------------\n",
      "Follower's Objective Function:\n",
      "Variable names: [:y, :x]\n",
      "Expression (string): x*y\n",
      "Parsed expression: x*y\n",
      "Evaluation point: Dict{Any, Any}(\"x\" => 2.8499999999999996, \"y\" => 4.449999999999999)\n",
      "Evaluation value: 12.682499999999996\n",
      "Is leader function: false\n",
      "------------------------------\n",
      "Follower's Restrictions:\n",
      "++++++++++++++++++++++++++++++\n",
      "Restriction 1\n",
      "Variable names: [:y]\n",
      "Expression (string): (-1 - y) == 0\n",
      "Parsed expression: 4.440892098500626e-16 - 1.1102230246251565e-16y\n",
      "Evaluation point: Dict{Any, Any}(\"x\" => 2.8499999999999996, \"y\" => 4.449999999999999)\n",
      "Evaluation value: -1.0000000000000004\n",
      "Additional constant: 1.0000000000000004\n",
      "Restriction type: LtEq\n",
      "Restriction set type: J_0_L0_v\n",
      "Value of miu: 0\n",
      "Value of beta: 0\n",
      "Value of lambda: 0.19\n",
      "Value of gamma: 0.0\n",
      "++++++++++++++++++++++++++++++\n",
      "++++++++++++++++++++++++++++++\n",
      "Restriction 2\n",
      "Variable names: [:y]\n",
      "Expression (string): (-1 + y) == 0\n",
      "Parsed expression: -4.440892098500626e-16 + 1.1102230246251565e-16y\n",
      "Evaluation point: Dict{Any, Any}(\"x\" => 2.8499999999999996, \"y\" => 4.449999999999999)\n",
      "Evaluation value: -0.9999999999999996\n",
      "Additional constant: 0.9999999999999996\n",
      "Restriction type: LtEq\n",
      "Restriction set type: J_0_LP_v\n",
      "Value of miu: 0\n",
      "Value of beta: 0\n",
      "Value of lambda: 0.79\n",
      "Value of gamma: 1.7999999999999998\n",
      "++++++++++++++++++++++++++++++\n",
      "------------------------------\n",
      "Evaluation Point:\n",
      "Dict{Any, Any}(\"x\" => 2.8499999999999996, \"y\" => 4.449999999999999)\n",
      "------------------------------\n",
      "_\n",
      "\n",
      "Num[0.49, 1.0]\n",
      "Va a retornar correctamente\n",
      "Leader's Objective Function:\n",
      "Variable names: [:y, :x]\n",
      "Expression (string): -x - y\n",
      "Parsed expression: -x - y\n",
      "Evaluation point: Dict{Any, Any}(\"x\" => 2.8499999999999996, \"y\" => 4.449999999999999)\n",
      "Evaluation value: -7.299999999999999\n",
      "Is leader function: true\n",
      "------------------------------\n",
      "Leader's Restrictions:\n",
      "++++++++++++++++++++++++++++++\n",
      "Restriction 1\n",
      "Variable names: [:x]\n",
      "Expression (string): (-0.5 - x) == 0\n",
      "Parsed expression: 2.8499999999999996 - x\n",
      "Evaluation point: Dict{Any, Any}(\"x\" => 2.8499999999999996, \"y\" => 4.449999999999999)\n",
      "Evaluation value: -3.3499999999999996\n",
      "Additional constant: 3.3499999999999996\n",
      "Restriction type: LtEq\n",
      "Restriction set type: J_0_g\n",
      "Value of miu: 0.3\n",
      "Value of beta: 0\n",
      "Value of lambda: 0\n",
      "Value of gamma: 0\n",
      "++++++++++++++++++++++++++++++\n",
      "++++++++++++++++++++++++++++++\n",
      "Restriction 2\n",
      "Variable names: [:x]\n",
      "Expression (string): (-0.5 + x) == 0\n",
      "Parsed expression: -2.8499999999999996 + x\n",
      "Evaluation point: Dict{Any, Any}(\"x\" => 2.8499999999999996, \"y\" => 4.449999999999999)\n",
      "Evaluation value: 2.3499999999999996\n",
      "Additional constant: -2.3499999999999996\n",
      "Restriction type: LtEq\n",
      "Restriction set type: J_0_g\n",
      "Value of miu: 0.09\n",
      "Value of beta: 0\n",
      "Value of lambda: 0\n",
      "Value of gamma: 0\n",
      "++++++++++++++++++++++++++++++\n",
      "------------------------------\n",
      "Follower's Objective Function:\n",
      "Variable names: [:y, :x]\n",
      "Expression (string): x*y\n",
      "Parsed expression: x*y\n",
      "Evaluation point: Dict{Any, Any}(\"x\" => 2.8499999999999996, \"y\" => 4.449999999999999)\n",
      "Evaluation value: 12.682499999999996\n",
      "Is leader function: false\n",
      "------------------------------\n",
      "Follower's Restrictions:\n",
      "++++++++++++++++++++++++++++++\n",
      "Restriction 1\n",
      "Variable names: [:y]\n",
      "Expression (string): (-1 - y) == 0\n",
      "Parsed expression: 4.449999999999999 - y\n",
      "Evaluation point: Dict{Any, Any}(\"x\" => 2.8499999999999996, \"y\" => 4.449999999999999)\n",
      "Evaluation value: -5.449999999999999\n",
      "Additional constant: 5.449999999999999\n",
      "Restriction type: LtEq\n",
      "Restriction set type: J_0_L0_v\n",
      "Value of miu: 0\n",
      "Value of beta: 0\n",
      "Value of lambda: 0.19\n",
      "Value of gamma: 2.1\n",
      "++++++++++++++++++++++++++++++\n",
      "++++++++++++++++++++++++++++++\n",
      "Restriction 2\n",
      "Variable names: [:y]\n",
      "Expression (string): (-1 + y) == 0\n",
      "Parsed expression: -4.449999999999999 + y\n",
      "Evaluation point: Dict{Any, Any}(\"x\" => 2.8499999999999996, \"y\" => 4.449999999999999)\n",
      "Evaluation value: 3.4499999999999993\n",
      "Additional constant: -3.4499999999999993\n",
      "Restriction type: LtEq\n",
      "Restriction set type: J_0_LP_v\n",
      "Value of miu: 0\n",
      "Value of beta: 0\n",
      "Value of lambda: 0.79\n",
      "Value of gamma: 9.3\n",
      "++++++++++++++++++++++++++++++\n",
      "------------------------------\n",
      "Evaluation Point:\n",
      "Dict{Any, Any}(\"x\" => 2.8499999999999996, \"y\" => 4.449999999999999)\n",
      "------------------------------\n",
      "_\n",
      "\n",
      "Num[1.21, 1.0]\n",
      "Se va a crear el DataFrame\n",
      "Se va a crear el DataFrame\n",
      "La carpeta ya existe: d:\\GitHub\\Tesis\\experiment\\nonconvex\\MorganPatrone2006a\\Experimentos_Generador\n",
      "Se va a crear el DataFrame\n",
      "La carpeta ya existe: d:\\GitHub\\Tesis\\experiment\\nonconvex\\MorganPatrone2006a\\Experimentos_Generador\n",
      "Experimento Completado\n",
      "Va a retornar correctamente\n",
      "Leader's Objective Function:\n",
      "Variable names: [:y, :x]\n",
      "Expression (string): -x - y\n",
      "Parsed expression: -x - y\n",
      "Evaluation point: Dict{Any, Any}(\"x\" => 2.8499999999999996, \"y\" => 4.449999999999999)\n",
      "Evaluation value: -7.299999999999999\n",
      "Is leader function: true\n",
      "------------------------------\n",
      "Leader's Restrictions:\n",
      "++++++++++++++++++++++++++++++\n",
      "Restriction 1\n",
      "Variable names: [:x]\n",
      "Expression (string): (-0.5 - x) == 0\n",
      "Parsed expression: 2.8499999999999996 - x\n",
      "Evaluation point: Dict{Any, Any}(\"x\" => 2.8499999999999996, \"y\" => 4.449999999999999)\n",
      "Evaluation value: -3.3499999999999996\n",
      "Additional constant: 3.3499999999999996\n",
      "Restriction type: LtEq\n",
      "Restriction set type: J_0_g\n",
      "Value of miu: 0.3\n",
      "Value of beta: 0\n",
      "Value of lambda: 0\n",
      "Value of gamma: 0\n",
      "++++++++++++++++++++++++++++++\n",
      "++++++++++++++++++++++++++++++\n",
      "Restriction 2\n",
      "Variable names: [:x]\n",
      "Expression (string): (-0.5 + x) == 0\n",
      "Parsed expression: -2.8499999999999996 + x\n",
      "Evaluation point: Dict{Any, Any}(\"x\" => 2.8499999999999996, \"y\" => 4.449999999999999)\n",
      "Evaluation value: 2.3499999999999996\n",
      "Additional constant: -2.3499999999999996\n",
      "Restriction type: LtEq\n",
      "Restriction set type: J_0_g\n",
      "Value of miu: 0.09\n",
      "Value of beta: 0\n",
      "Value of lambda: 0\n",
      "Value of gamma: 0\n",
      "++++++++++++++++++++++++++++++\n",
      "------------------------------\n",
      "Follower's Objective Function:\n",
      "Variable names: [:y, :x]\n",
      "Expression (string): x*y\n",
      "Parsed expression: x*y\n",
      "Evaluation point: Dict{Any, Any}(\"x\" => 2.8499999999999996, \"y\" => 4.449999999999999)\n",
      "Evaluation value: 12.682499999999996\n",
      "Is leader function: false\n",
      "------------------------------\n",
      "Follower's Restrictions:\n",
      "++++++++++++++++++++++++++++++\n",
      "Restriction 1\n",
      "Variable names: [:y]\n",
      "Expression (string): (-1 - y) == 0\n",
      "Parsed expression: -13.271929824561402 + 2.9824561403508776y\n",
      "Evaluation point: Dict{Any, Any}(\"x\" => 2.8499999999999996, \"y\" => 4.449999999999999)\n",
      "Evaluation value: 12.271929824561402\n",
      "Additional constant: -12.271929824561402\n",
      "Restriction type: LtEq\n",
      "Restriction set type: J_0_L0_v\n",
      "Value of miu: 0\n",
      "Value of beta: 6.0\n",
      "Value of lambda: 0.19\n",
      "Value of gamma: 6.800000000000001\n",
      "++++++++++++++++++++++++++++++\n",
      "++++++++++++++++++++++++++++++\n",
      "Restriction 2\n",
      "Variable names: [:y]\n",
      "Expression (string): (-1 + y) == 0\n",
      "Parsed expression: -4.440892098500626e-16 + 1.1102230246251565e-16y\n",
      "Evaluation point: Dict{Any, Any}(\"x\" => 2.8499999999999996, \"y\" => 4.449999999999999)\n",
      "Evaluation value: -0.9999999999999996\n",
      "Additional constant: 0.9999999999999996\n",
      "Restriction type: LtEq\n",
      "Restriction set type: J_0_LP_v\n",
      "Value of miu: 0\n",
      "Value of beta: 9.0\n",
      "Value of lambda: 0.79\n",
      "Value of gamma: 1.9\n",
      "++++++++++++++++++++++++++++++\n",
      "------------------------------\n",
      "Evaluation Point:\n",
      "Dict{Any, Any}(\"x\" => 2.8499999999999996, \"y\" => 4.449999999999999)\n",
      "------------------------------\n",
      "_\n",
      "\n",
      "Num[-1.0700000000000003, -16.894736842105267]\n",
      "Va a retornar correctamente\n",
      "Leader's Objective Function:\n",
      "Variable names: [:y, :x]\n",
      "Expression (string): -x - y\n",
      "Parsed expression: -x - y\n",
      "Evaluation point: Dict{Any, Any}(\"x\" => 2.8499999999999996, \"y\" => 4.449999999999999)\n",
      "Evaluation value: -7.299999999999999\n",
      "Is leader function: true\n",
      "------------------------------\n",
      "Leader's Restrictions:\n",
      "++++++++++++++++++++++++++++++\n",
      "Restriction 1\n",
      "Variable names: [:x]\n",
      "Expression (string): (-0.5 - x) == 0\n",
      "Parsed expression: 2.8499999999999996 - x\n",
      "Evaluation point: Dict{Any, Any}(\"x\" => 2.8499999999999996, \"y\" => 4.449999999999999)\n",
      "Evaluation value: -3.3499999999999996\n",
      "Additional constant: 3.3499999999999996\n",
      "Restriction type: LtEq\n",
      "Restriction set type: J_0_g\n",
      "Value of miu: 0.3\n",
      "Value of beta: 0\n",
      "Value of lambda: 0\n",
      "Value of gamma: 0\n",
      "++++++++++++++++++++++++++++++\n",
      "++++++++++++++++++++++++++++++\n",
      "Restriction 2\n",
      "Variable names: [:x]\n",
      "Expression (string): (-0.5 + x) == 0\n",
      "Parsed expression: -2.8499999999999996 + x\n",
      "Evaluation point: Dict{Any, Any}(\"x\" => 2.8499999999999996, \"y\" => 4.449999999999999)\n",
      "Evaluation value: 2.3499999999999996\n",
      "Additional constant: -2.3499999999999996\n",
      "Restriction type: LtEq\n",
      "Restriction set type: J_0_g\n",
      "Value of miu: 0.09\n",
      "Value of beta: 0\n",
      "Value of lambda: 0\n",
      "Value of gamma: 0\n",
      "++++++++++++++++++++++++++++++\n",
      "------------------------------\n",
      "Follower's Objective Function:\n",
      "Variable names: [:y, :x]\n",
      "Expression (string): x*y\n",
      "Parsed expression: x*y\n",
      "Evaluation point: Dict{Any, Any}(\"x\" => 2.8499999999999996, \"y\" => 4.449999999999999)\n",
      "Evaluation value: 12.682499999999996\n",
      "Is leader function: false\n",
      "------------------------------\n",
      "Follower's Restrictions:\n",
      "++++++++++++++++++++++++++++++\n",
      "Restriction 1\n",
      "Variable names: [:y]\n",
      "Expression (string): (-1 - y) == 0\n",
      "Parsed expression: 4.449999999999999 - y\n",
      "Evaluation point: Dict{Any, Any}(\"x\" => 2.8499999999999996, \"y\" => 4.449999999999999)\n",
      "Evaluation value: -5.449999999999999\n",
      "Additional constant: 5.449999999999999\n",
      "Restriction type: LtEq\n",
      "Restriction set type: J_0_L0_v\n",
      "Value of miu: 0\n",
      "Value of beta: 4.0\n",
      "Value of lambda: 0.19\n",
      "Value of gamma: 0.1\n",
      "++++++++++++++++++++++++++++++\n",
      "++++++++++++++++++++++++++++++\n",
      "Restriction 2\n",
      "Variable names: [:y]\n",
      "Expression (string): (-1 + y) == 0\n",
      "Parsed expression: -4.449999999999999 + y\n",
      "Evaluation point: Dict{Any, Any}(\"x\" => 2.8499999999999996, \"y\" => 4.449999999999999)\n",
      "Evaluation value: 3.4499999999999993\n",
      "Additional constant: -3.4499999999999993\n",
      "Restriction type: LtEq\n",
      "Restriction set type: J_0_LP_v\n",
      "Value of miu: 0\n",
      "Value of beta: 2.9\n",
      "Value of lambda: 0.79\n",
      "Value of gamma: 7.800000000000001\n",
      "++++++++++++++++++++++++++++++\n",
      "------------------------------\n",
      "Evaluation Point:\n",
      "Dict{Any, Any}(\"x\" => 2.8499999999999996, \"y\" => 4.449999999999999)\n",
      "------------------------------\n",
      "_\n",
      "\n",
      "Num[1.21, 2.1]\n",
      "Se va a crear el DataFrame\n",
      "Se va a crear el DataFrame\n",
      "La carpeta ya existe: d:\\GitHub\\Tesis\\experiment\\nonconvex\\MorganPatrone2006a\\Experimentos_Generador\n",
      "Se va a crear el DataFrame\n",
      "La carpeta ya existe: d:\\GitHub\\Tesis\\experiment\\nonconvex\\MorganPatrone2006a\\Experimentos_Generador\n",
      "Experimento Completado\n",
      "Finilizado el experimento completo\n"
     ]
    }
   ],
   "source": [
    "RunExperiment(experiment,\"MorganPatrone2006a\",true)"
   ]
  }
 ],
 "metadata": {
  "kernelspec": {
   "display_name": "Julia 1.11.3",
   "language": "julia",
   "name": "julia-1.11"
  },
  "language_info": {
   "file_extension": ".jl",
   "mimetype": "application/julia",
   "name": "julia",
   "version": "1.11.3"
  }
 },
 "nbformat": 4,
 "nbformat_minor": 2
}
