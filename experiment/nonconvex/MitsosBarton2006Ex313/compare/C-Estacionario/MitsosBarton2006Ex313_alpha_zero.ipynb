{
 "cells": [
  {
   "cell_type": "markdown",
   "metadata": {},
   "source": [
    "## Importaciones necesarias"
   ]
  },
  {
   "cell_type": "code",
   "execution_count": 1,
   "metadata": {},
   "outputs": [],
   "source": [
    "using JuMP, Ipopt, Complementarity"
   ]
  },
  {
   "cell_type": "markdown",
   "metadata": {},
   "source": [
    "# Crear el modelo"
   ]
  },
  {
   "cell_type": "code",
   "execution_count": 2,
   "metadata": {},
   "outputs": [
    {
     "data": {
      "text/plain": [
       "A JuMP Model\n",
       "├ solver: Ipopt\n",
       "├ objective_sense: FEASIBILITY_SENSE\n",
       "├ num_variables: 0\n",
       "├ num_constraints: 0\n",
       "└ Names registered in the model: none"
      ]
     },
     "metadata": {},
     "output_type": "display_data"
    }
   ],
   "source": [
    "# Crear el modelo\n",
    "model = Model(Ipopt.Optimizer)"
   ]
  },
  {
   "cell_type": "markdown",
   "metadata": {},
   "source": [
    "## Definir Variables\n"
   ]
  },
  {
   "cell_type": "code",
   "execution_count": 3,
   "metadata": {},
   "outputs": [
    {
     "data": {
      "text/plain": [
       "2-element Vector{VariableRef}:\n",
       " l[1]\n",
       " l[2]"
      ]
     },
     "metadata": {},
     "output_type": "display_data"
    }
   ],
   "source": [
    "# Nivel superior\n",
    "@variable(model,x)\n",
    "# Nivel Inferior\n",
    "@variable(model,y)\n",
    "# Complementariedad\n",
    "@variable(model,l[1:2])"
   ]
  },
  {
   "cell_type": "markdown",
   "metadata": {},
   "source": [
    "## Definir Objetivo\n"
   ]
  },
  {
   "cell_type": "code",
   "execution_count": 4,
   "metadata": {},
   "outputs": [
    {
     "data": {
      "text/latex": [
       "$ x - y $"
      ],
      "text/plain": [
       "x - y"
      ]
     },
     "metadata": {},
     "output_type": "display_data"
    }
   ],
   "source": [
    "@objective(model,Min,x-y)"
   ]
  },
  {
   "cell_type": "markdown",
   "metadata": {},
   "source": [
    "## Definir Restricciones\n"
   ]
  },
  {
   "cell_type": "code",
   "execution_count": 5,
   "metadata": {},
   "outputs": [
    {
     "data": {
      "text/latex": [
       "$$ (((x * y - x ^ {3.0}) + l[1]) - l[2]) - 0.0 = 0 $$"
      ],
      "text/plain": [
       "(((x * y - x ^ 3.0) + l[1]) - l[2]) - 0.0 == 0"
      ]
     },
     "metadata": {},
     "output_type": "display_data"
    }
   ],
   "source": [
    "@NLconstraint(model,x*y-x^3+l[1]-l[2]==0) # Obj nivel inferior"
   ]
  },
  {
   "cell_type": "code",
   "execution_count": 6,
   "metadata": {},
   "outputs": [
    {
     "data": {
      "text/plain": [
       "(-x <= -2.3, x <= 2.3, y <= 4.45, -y <= -4.45)"
      ]
     },
     "metadata": {},
     "output_type": "display_data"
    }
   ],
   "source": [
    "@constraints(model,begin\n",
    "2.3 - x<=0  #gs\n",
    "-2.3+ x<=0  #gs\n",
    "-4.45 + y<=0  #vs\n",
    "4.45 - y<=0 #vs\n",
    "end)"
   ]
  },
  {
   "cell_type": "markdown",
   "metadata": {},
   "source": [
    "## Definir restricciones Complementarias"
   ]
  },
  {
   "cell_type": "code",
   "execution_count": 7,
   "metadata": {},
   "outputs": [
    {
     "data": {
      "text/latex": [
       "$$ (sqrt(l[2] ^ {2.0} + (4.45 + -1.0 * y) ^ {2.0} + 1.0e-8) - (l[2] + (4.45 + -1.0 * y))) - 0.0 = 0 $$"
      ],
      "text/plain": [
       "(sqrt(l[2] ^ 2.0 + (4.45 + -1.0 * y) ^ 2.0 + 1.0e-8) - (l[2] + (4.45 + -1.0 * y))) - 0.0 == 0"
      ]
     },
     "metadata": {},
     "output_type": "display_data"
    }
   ],
   "source": [
    "@complements(model,0<=(-4.45 + y),l[1]>=0)\n",
    "@complements(model,0<=(4.45 - y),l[2]>=0)"
   ]
  },
  {
   "cell_type": "markdown",
   "metadata": {},
   "source": [
    "## Optimizar"
   ]
  },
  {
   "cell_type": "code",
   "execution_count": 8,
   "metadata": {},
   "outputs": [
    {
     "name": "stdout",
     "output_type": "stream",
     "text": [
      "\n",
      "******************************************************************************\n",
      "This program contains Ipopt, a library for large-scale nonlinear optimization.\n",
      " Ipopt is released as open source code under the Eclipse Public License (EPL).\n",
      "         For more information visit https://github.com/coin-or/Ipopt\n",
      "******************************************************************************\n",
      "\n",
      "This is Ipopt version 3.14.16, running with linear solver MUMPS 5.7.3.\n",
      "\n",
      "Number of nonzeros in equality constraint Jacobian...:        8\n",
      "Number of nonzeros in inequality constraint Jacobian.:        8\n",
      "Number of nonzeros in Lagrangian Hessian.............:        9\n",
      "\n",
      "Total number of variables............................:        4\n",
      "                     variables with only lower bounds:        0\n",
      "                variables with lower and upper bounds:        0\n",
      "                     variables with only upper bounds:        0\n",
      "Total number of equality constraints.................:        3\n",
      "Total number of inequality constraints...............:        8\n",
      "        inequality constraints with only lower bounds:        4\n",
      "   inequality constraints with lower and upper bounds:        0\n",
      "        inequality constraints with only upper bounds:        4\n",
      "\n",
      "iter    objective    inf_pr   inf_du lg(mu)  ||d||  lg(rg) alpha_du alpha_pr  ls\n",
      "   0  0.0000000e+00 8.90e+00 3.33e-01  -1.0 0.00e+00    -  0.00e+00 0.00e+00   0\n",
      "   1 -2.0819180e+00 1.88e+00 5.69e+01  -1.0 4.45e+00    -  1.00e+00 9.80e-01h  1\n",
      "   2 -2.1114132e+00 1.65e+00 9.63e+01  -1.0 1.97e-01    -  2.93e-01 1.23e-01h  1\n",
      "   3 -2.1117099e+00 1.65e+00 1.06e+04  -1.0 1.76e-01    -  1.00e+00 1.38e-03h  1\n",
      "   4 -2.1117144e+00 1.65e+00 2.92e+04  -1.0 2.15e-01    -  3.86e-05 1.40e-05h  1\n",
      "   5 -2.1118799e+00 1.65e+00 8.93e+03  -1.0 1.54e+01    -  7.31e-07 2.15e-05h  1\n",
      "   6 -2.1119771e+00 1.65e+00 4.57e+04  -1.0 1.49e+01    -  2.85e-05 1.30e-05h  1\n",
      "   7r-2.1119771e+00 1.65e+00 1.00e+03   0.2 0.00e+00    -  0.00e+00 6.62e-08R  2\n",
      "   8r-2.2287004e+00 1.07e+00 9.96e+02   0.2 1.45e+02    -  3.97e-03 4.07e-03f  1\n",
      "   9 -2.2287023e+00 1.07e+00 3.91e+04  -1.0 2.15e-01    -  9.17e-01 3.58e-05h  1\n",
      "iter    objective    inf_pr   inf_du lg(mu)  ||d||  lg(rg) alpha_du alpha_pr  ls\n",
      "  10r-2.2287023e+00 1.07e+00 1.00e+03   0.0 0.00e+00    -  0.00e+00 3.18e-07R  4\n",
      "  11r-2.3310993e+00 1.82e-01 9.98e+02   0.0 3.62e+02    -  2.26e-03 2.92e-03f  1\n",
      "  12 -2.3310995e+00 1.82e-01 6.58e+04  -1.7 1.90e-01    -  1.00e+00 1.66e-05h  1\n",
      "  13r-2.3310995e+00 1.82e-01 1.00e+03  -0.7 0.00e+00    -  0.00e+00 3.30e-07R  4\n",
      "  14r-2.3397973e+00 1.91e-01 9.98e+02  -0.7 3.75e+01    -  5.35e-02 2.58e-03f  1\n",
      "  15r-2.3400675e+00 1.91e-01 9.41e+02  -0.7 1.71e-01    -  7.77e-01 5.57e-02f  1\n",
      "  16r-2.3395696e+00 1.90e-01 7.56e+02  -0.7 9.85e-03    -  2.94e-01 1.97e-01f  1\n",
      "  17r-2.3395385e+00 1.90e-01 7.07e+02  -0.7 8.27e-03    -  3.85e-01 6.46e-02h  1\n",
      "  18r-2.3401310e+00 1.90e-01 5.84e+02  -0.7 6.06e-03    -  3.46e-01 1.74e-01H  1\n",
      "  19r-2.3237184e+00 1.74e-01 5.09e+02  -0.7 1.50e-01    -  2.59e-02 9.72e-01f  1\n",
      "iter    objective    inf_pr   inf_du lg(mu)  ||d||  lg(rg) alpha_du alpha_pr  ls\n",
      "  20r-2.1516897e+00 1.96e-01 4.96e+02  -0.7 6.30e+00    -  7.89e-02 2.49e-01f  1\n",
      "  21r-2.1499677e+00 1.94e-01 6.33e+02  -0.7 3.86e+00    -  9.80e-01 5.36e-03f  1\n",
      "  22r-2.1500400e+00 1.92e-01 6.41e+02  -0.7 6.73e-02   4.0 2.96e-02 1.34e-02h  1\n",
      "  23r-2.1508995e+00 1.83e-01 1.22e+03  -0.7 1.65e-02   6.2 3.14e-02 4.48e-02h  1\n",
      "  24r-2.1500737e+00 1.26e-01 8.83e+02  -0.7 2.14e-01    -  6.16e-01 3.10e-01f  1\n",
      "  25 -2.1501140e+00 1.26e-01 8.53e+02  -1.7 4.46e-02    -  1.00e+00 2.69e-03h  1\n",
      "  26 -2.1500233e+00 4.26e-02 5.77e+02  -1.7 1.28e-01    -  1.00e+00 6.62e-01h  1\n",
      "  27 -2.1500162e+00 1.80e-02 1.31e+03  -1.7 4.35e-02    -  1.00e+00 5.77e-01h  1\n",
      "  28 -2.1500040e+00 7.40e-03 1.35e+03  -1.7 1.96e-02    -  7.25e-01 5.89e-01h  1\n",
      "  29 -2.1500030e+00 3.34e-03 7.03e+03  -1.7 9.66e-03    -  1.00e+00 5.49e-01h  1\n",
      "iter    objective    inf_pr   inf_du lg(mu)  ||d||  lg(rg) alpha_du alpha_pr  ls\n",
      "  30 -2.1500007e+00 1.32e-03 6.78e+03  -1.7 6.87e-03    -  7.38e-01 6.06e-01h  1\n",
      "  31 -2.1500006e+00 9.39e-04 5.55e+04  -1.7 6.94e-03    -  1.00e+00 2.87e-01f  2\n",
      "  32 -2.1500001e+00 9.66e-05 1.14e+03  -1.7 8.19e-03    -  8.19e-01 8.97e-01h  1\n",
      "  33 -2.1500001e+00 6.83e-05 2.70e+05  -1.7 1.39e-02    -  1.00e+00 2.92e-01f  2\n",
      "  34 -2.1500000e+00 1.43e-07 3.59e+04  -1.7 1.80e-02    -  8.13e-01 1.00e+00h  1\n",
      "  35 -2.1500000e+00 7.19e-08 2.78e-01  -1.7 3.63e-02    -  1.00e+00 1.00e+00f  1\n",
      "  36 -2.1500000e+00 3.65e-08 1.38e+06  -5.7 7.45e-02    -  4.92e-01 1.00e+00h  1\n",
      "  37 -2.1500000e+00 1.88e-08 9.60e+04  -5.7 1.56e-01    -  9.30e-01 1.00e+00h  1\n",
      "  38 -2.1500000e+00 9.71e-09 2.39e+04  -5.7 3.37e-01    -  6.45e-01 1.00e+00h  1\n",
      "  39 -2.1500000e+00 4.97e-09 1.24e+03  -5.7 7.52e-01    -  9.49e-01 1.00e+00h  1\n",
      "iter    objective    inf_pr   inf_du lg(mu)  ||d||  lg(rg) alpha_du alpha_pr  ls\n",
      "  40 -2.1500000e+00 2.37e-09 9.26e+02  -5.7 1.68e+00    -  5.80e-01 1.00e+00h  1\n",
      "  41 -2.1500000e+00 1.03e-09 1.02e-04  -5.7 3.60e+00    -  1.00e+00 1.00e+00h  1\n",
      "  42 -2.1500000e+00 4.37e-10 1.16e+02  -8.6 7.40e+00    -  4.74e-01 1.00e+00h  1\n",
      "  43 -2.1500000e+00 1.94e-10 5.71e+01  -8.6 1.49e+01    -  5.22e-01 1.00e+00h  1\n",
      "  44 -2.1500000e+00 9.03e-11 5.28e+00  -8.6 2.99e+01    -  9.09e-01 1.00e+00h  1\n",
      "  45 -2.1500000e+00 4.35e-11 1.60e+00  -8.6 5.98e+01    -  7.02e-01 1.00e+00h  1\n",
      "  46 -2.1500000e+00 2.13e-11 3.71e-01  -8.6 1.20e+02    -  7.68e-01 1.00e+00h  1\n",
      "  47 -2.1500000e+00 1.05e-11 9.46e-02  -8.6 2.39e+02    -  7.45e-01 1.00e+00h  1\n",
      "  48 -2.1500000e+00 5.23e-12 2.35e-02  -8.6 4.78e+02    -  7.51e-01 1.00e+00h  1\n",
      "  49 -2.1500000e+00 2.50e-12 5.80e-03  -8.6 9.51e+02    -  7.54e-01 1.00e+00h  1\n",
      "iter    objective    inf_pr   inf_du lg(mu)  ||d||  lg(rg) alpha_du alpha_pr  ls\n",
      "  50 -2.1500000e+00 1.36e-12 1.68e-03  -8.6 2.05e+03    -  7.10e-01 1.00e+00h  1\n",
      "\n",
      "Number of Iterations....: 50\n",
      "\n",
      "                                   (scaled)                 (unscaled)\n",
      "Objective...............:  -2.1500000206301766e+00   -2.1500000206301766e+00\n",
      "Dual infeasibility......:   1.6819982938747757e-03    1.6819982938747757e-03\n",
      "Constraint violation....:   1.3642420526593924e-12    1.3642420526593924e-12\n",
      "Variable bound violation:   0.0000000000000000e+00    0.0000000000000000e+00\n",
      "Complementarity.........:   3.6866334005230217e-09    3.6866334005230217e-09\n",
      "Overall NLP error.......:   4.6988216520542218e-09    1.6819982938747757e-03\n",
      "\n",
      "\n",
      "Number of objective function evaluations             = 64\n",
      "Number of objective gradient evaluations             = 41\n",
      "Number of equality constraint evaluations            = 64\n",
      "Number of inequality constraint evaluations          = 64\n",
      "Number of equality constraint Jacobian evaluations   = 54\n",
      "Number of inequality constraint Jacobian evaluations = 54\n",
      "Number of Lagrangian Hessian evaluations             = 50\n",
      "Total seconds in IPOPT                               = 1.768\n",
      "\n",
      "EXIT: Optimal Solution Found.\n"
     ]
    }
   ],
   "source": [
    "# Resolver el modelo\n",
    "optimize!(model)"
   ]
  },
  {
   "cell_type": "markdown",
   "metadata": {},
   "source": [
    "# Mostrar resultados"
   ]
  },
  {
   "cell_type": "code",
   "execution_count": 9,
   "metadata": {},
   "outputs": [
    {
     "name": "stdout",
     "output_type": "stream",
     "text": [
      "Estado de la solución: LOCALLY_SOLVED\n",
      "Valor óptimo de x: 2.2999999793697943\n",
      "Valor óptimo de y1: 4.449999999999971\n",
      "Valores óptimos de l: [3957.177783007959, 3955.2457832435557]\n"
     ]
    }
   ],
   "source": [
    "# Mostrar resultados\n",
    "println(\"Estado de la solución: \", termination_status(model))\n",
    "println(\"Valor óptimo de x: \", value(x))\n",
    "println(\"Valor óptimo de y1: \", value(y))\n",
    "#println(\"Valor óptimo de y2: \", value(y))\n",
    "#println(\"Valores óptimos de s: \", value.(s))\n",
    "println(\"Valores óptimos de l: \", value.(l))"
   ]
  },
  {
   "cell_type": "code",
   "execution_count": 10,
   "metadata": {},
   "outputs": [
    {
     "data": {
      "text/plain": [
       "-2.1500000206301766"
      ]
     },
     "metadata": {},
     "output_type": "display_data"
    }
   ],
   "source": [
    "objective_value(model)"
   ]
  }
 ],
 "metadata": {
  "kernelspec": {
   "display_name": "Julia 1.10.5",
   "language": "julia",
   "name": "julia-1.10"
  },
  "language_info": {
   "file_extension": ".jl",
   "mimetype": "application/julia",
   "name": "julia",
   "version": "1.10.5"
  }
 },
 "nbformat": 4,
 "nbformat_minor": 2
}
