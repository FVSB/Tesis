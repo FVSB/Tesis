{
 "cells": [
  {
   "cell_type": "markdown",
   "metadata": {},
   "source": [
    "## Importaciones necesarias"
   ]
  },
  {
   "cell_type": "code",
   "execution_count": 1,
   "metadata": {},
   "outputs": [],
   "source": [
    "using JuMP, Ipopt, Complementarity"
   ]
  },
  {
   "cell_type": "markdown",
   "metadata": {},
   "source": [
    "# Crear el modelo"
   ]
  },
  {
   "cell_type": "code",
   "execution_count": 2,
   "metadata": {},
   "outputs": [
    {
     "data": {
      "text/plain": [
       "A JuMP Model\n",
       "├ solver: Ipopt\n",
       "├ objective_sense: FEASIBILITY_SENSE\n",
       "├ num_variables: 0\n",
       "├ num_constraints: 0\n",
       "└ Names registered in the model: none"
      ]
     },
     "metadata": {},
     "output_type": "display_data"
    }
   ],
   "source": [
    "# Crear el modelo\n",
    "model = Model(Ipopt.Optimizer)"
   ]
  },
  {
   "cell_type": "markdown",
   "metadata": {},
   "source": [
    "## Definir Variables\n"
   ]
  },
  {
   "cell_type": "code",
   "execution_count": 3,
   "metadata": {},
   "outputs": [
    {
     "data": {
      "text/plain": [
       "2-element Vector{VariableRef}:\n",
       " l[1]\n",
       " l[2]"
      ]
     },
     "metadata": {},
     "output_type": "display_data"
    }
   ],
   "source": [
    "# Nivel superior\n",
    "@variable(model,x)\n",
    "# Nivel Inferior\n",
    "@variable(model,y)\n",
    "# Complementariedad\n",
    "@variable(model,l[1:2])"
   ]
  },
  {
   "cell_type": "markdown",
   "metadata": {},
   "source": [
    "## Definir Objetivo\n"
   ]
  },
  {
   "cell_type": "code",
   "execution_count": 4,
   "metadata": {},
   "outputs": [
    {
     "data": {
      "text/latex": [
       "$ x^2 + y^2 - 0.5 x + 0.0625 $"
      ],
      "text/plain": [
       "x² + y² - 0.5 x + 0.0625"
      ]
     },
     "metadata": {},
     "output_type": "display_data"
    }
   ],
   "source": [
    "@objective(model,Min,((x-0.25)^2)+(y^2))"
   ]
  },
  {
   "cell_type": "markdown",
   "metadata": {},
   "source": [
    "## Definir Restricciones\n"
   ]
  },
  {
   "cell_type": "code",
   "execution_count": 5,
   "metadata": {},
   "outputs": [
    {
     "data": {
      "text/latex": [
       "$$ (((y ^ {2.0} - x) + 15.49 * l[1]) - 0.49 * l[2]) - 0.0 = 0 $$"
      ],
      "text/plain": [
       "(((y ^ 2.0 - x) + 15.49 * l[1]) - 0.49 * l[2]) - 0.0 == 0"
      ]
     },
     "metadata": {},
     "output_type": "display_data"
    }
   ],
   "source": [
    "@NLconstraint(model,(y^2)-x+(15.49l[1])-(0.49l[2])==0) # Obj nivel inferior"
   ]
  },
  {
   "cell_type": "code",
   "execution_count": 6,
   "metadata": {},
   "outputs": [
    {
     "data": {
      "text/plain": [
       "(x <= 2.1, -x <= -2.1, 15.49 y <= 51.12, -0.49 y <= -1.68)"
      ]
     },
     "metadata": {},
     "output_type": "display_data"
    }
   ],
   "source": [
    "@constraints(model,begin\n",
    "-2.1 + x<=0  #gs\n",
    "2.1 - x<=0  #gs\n",
    "-51.12 + 15.49y<=0  #vs\n",
    "1.68 - 0.49y<=0 #vs\n",
    "end)"
   ]
  },
  {
   "cell_type": "markdown",
   "metadata": {},
   "source": [
    "## Definir variables Complementarias"
   ]
  },
  {
   "cell_type": "code",
   "execution_count": 7,
   "metadata": {},
   "outputs": [
    {
     "data": {
      "text/latex": [
       "$$ (sqrt(l[2] ^ {2.0} + (-1.68 + 0.49 * y) ^ {2.0} + 1.0e-8) - (l[2] + (-1.68 + 0.49 * y))) - 0.0 = 0 $$"
      ],
      "text/plain": [
       "(sqrt(l[2] ^ 2.0 + (-1.68 + 0.49 * y) ^ 2.0 + 1.0e-8) - (l[2] + (-1.68 + 0.49 * y))) - 0.0 == 0"
      ]
     },
     "metadata": {},
     "output_type": "display_data"
    }
   ],
   "source": [
    "@complements(model,0<=-(-51.12 + 15.49y),l[1]>=0)\n",
    "@complements(model,0<=-(1.68 - 0.49y),l[2]>=0)"
   ]
  },
  {
   "cell_type": "markdown",
   "metadata": {},
   "source": [
    "## Optimizar"
   ]
  },
  {
   "cell_type": "code",
   "execution_count": 8,
   "metadata": {},
   "outputs": [
    {
     "name": "stdout",
     "output_type": "stream",
     "text": [
      "\n",
      "******************************************************************************\n",
      "This program contains Ipopt, a library for large-scale nonlinear optimization.\n",
      " Ipopt is released as open source code under the Eclipse Public License (EPL).\n",
      "         For more information visit https://github.com/coin-or/Ipopt\n",
      "******************************************************************************\n",
      "\n",
      "This is Ipopt version 3.14.16, running with linear solver MUMPS 5.7.3.\n",
      "\n",
      "Number of nonzeros in equality constraint Jacobian...:        8\n",
      "Number of nonzeros in inequality constraint Jacobian.:        8\n",
      "Number of nonzeros in Lagrangian Hessian.............:        9\n",
      "\n",
      "Total number of variables............................:        4\n",
      "                     variables with only lower bounds:        0\n",
      "                variables with lower and upper bounds:        0\n",
      "                     variables with only upper bounds:        0\n",
      "Total number of equality constraints.................:        3\n",
      "Total number of inequality constraints...............:        8\n",
      "        inequality constraints with only lower bounds:        4\n",
      "   inequality constraints with lower and upper bounds:        0\n",
      "        inequality constraints with only upper bounds:        4\n",
      "\n",
      "iter    objective    inf_pr   inf_du lg(mu)  ||d||  lg(rg) alpha_du alpha_pr  ls\n",
      "   0  6.2500000e-02 3.36e+00 9.84e-01  -1.0 0.00e+00    -  0.00e+00 0.00e+00   0\n",
      "   1  6.3523793e-02 3.33e+00 1.02e+02  -1.0 5.45e+01    -  1.00e+00 1.00e-02h  1\n",
      "   2  6.2361035e-02 3.32e+00 1.52e+02  -1.0 1.04e+02    -  6.33e-03 2.73e-03h  1\n",
      "   3  6.2358666e-02 3.32e+00 5.63e+04  -1.0 7.15e+01    -  3.87e-02 7.40e-05h  1\n",
      "   4  6.2364932e-02 3.32e+00 1.63e+09  -1.0 5.27e+01    -  1.00e+00 3.41e-05h  1\n",
      "   5r 6.2364932e-02 3.32e+00 1.00e+03   0.5 0.00e+00    -  0.00e+00 2.07e-07R  2\n",
      "   6r 9.7262364e-01 2.41e+00 9.93e+02   0.5 2.34e+03    -  6.65e-02 6.12e-03f  1\n",
      "   7  9.7318824e-01 2.41e+00 1.91e+01  -1.0 1.84e+01    -  1.79e-05 3.45e-04f  1\n",
      "   8  9.8427279e-01 2.40e+00 1.49e+02  -1.0 3.79e+01    -  6.30e-05 3.26e-03h  1\n",
      "   9  1.0189689e+00 2.38e+00 7.86e+02  -1.0 3.86e+01    -  1.00e+00 8.83e-03f  1\n",
      "iter    objective    inf_pr   inf_du lg(mu)  ||d||  lg(rg) alpha_du alpha_pr  ls\n",
      "  10  6.6334427e+00 1.59e+00 3.67e+02  -1.0 3.75e+01    -  1.20e-02 3.32e-01h  1\n",
      "  11  6.7189586e+00 1.59e+00 2.08e+03  -1.0 2.50e+01    -  2.33e-01 2.69e-03h  1\n",
      "  12  6.7197943e+00 1.59e+00 3.26e+03  -1.0 6.55e+00    -  1.34e-04 8.75e-05h  1\n",
      "  13  6.7197955e+00 1.59e+00 8.77e+04  -1.0 1.65e+00    -  3.17e-04 1.97e-05h  1\n",
      "  14r 6.7197955e+00 1.59e+00 1.00e+03   0.2 0.00e+00    -  0.00e+00 3.39e-07R  4\n",
      "  15r 6.6973542e+00 1.01e+00 1.00e+03   0.2 1.12e+03    -  1.94e-01 1.21e-03f  1\n",
      "  16r 6.6973542e+00 1.01e+00 9.99e+02   0.0 0.00e+00    -  0.00e+00 4.66e-07R  5\n",
      "  17r 6.6846557e+00 9.68e-01 9.97e+02   0.0 2.82e+02    -  4.72e-03 1.40e-03f  1\n",
      "  18r 7.2897415e+00 7.86e-01 9.91e+02   0.0 4.18e+02    -  8.21e-03 5.96e-03f  1\n",
      "  19  7.3102603e+00 7.82e-01 8.46e+01  -1.0 1.64e+01    -  2.93e-01 5.11e-03h  1\n",
      "iter    objective    inf_pr   inf_du lg(mu)  ||d||  lg(rg) alpha_du alpha_pr  ls\n",
      "  20  7.3131914e+00 7.82e-01 1.37e+03  -1.0 2.01e+01    -  2.12e-03 1.33e-04h  1\n",
      "  21  7.3197629e+00 7.82e-01 1.50e+04  -1.0 2.25e+01    -  1.83e-03 1.96e-04h  1\n",
      "  22  7.3206923e+00 7.82e-01 6.14e+08  -1.0 2.25e+01    -  1.00e+00 2.76e-05h  1\n",
      "  23r 7.3206923e+00 7.82e-01 1.00e+03  -0.1 0.00e+00    -  0.00e+00 1.39e-07R  2\n",
      "  24r 1.2575696e+01 1.11e+00 9.90e+02  -0.1 8.58e+02    -  8.33e-03 1.90e-02f  1\n",
      "  25r 1.2675608e+01 1.11e+00 9.52e+02  -0.1 1.01e+02    -  1.00e+00 2.52e-03f  1\n",
      "  26r 1.4288472e+01 4.29e-01 3.11e+02  -0.1 7.00e+00    -  7.82e-01 6.73e-01f  1\n",
      "  27  1.4306464e+01 4.21e-01 1.56e+02  -1.0 2.59e+00    -  8.64e-01 1.96e-02h  1\n",
      "  28  1.4306630e+01 4.21e-01 2.26e+02  -1.0 9.24e+01    -  9.75e-04 2.02e-04h  1\n",
      "  29r 1.4306630e+01 4.21e-01 9.99e+02  -0.4 0.00e+00    -  0.00e+00 2.64e-07R  5\n",
      "iter    objective    inf_pr   inf_du lg(mu)  ||d||  lg(rg) alpha_du alpha_pr  ls\n",
      "  30r 1.4306676e+01 6.30e-02 9.92e+02  -0.4 8.65e+02    -  2.02e-02 9.95e-04f  1\n",
      "  31r 1.4306676e+01 6.30e-02 9.98e+02  -1.0 0.00e+00    -  0.00e+00 4.89e-07R  5\n",
      "  32r 1.4307037e+01 6.30e-02 9.97e+02  -1.0 5.78e+00    -  4.14e-02 1.23e-03f  1\n",
      "  33r 1.4314157e+01 6.30e-02 9.31e+02  -1.0 2.07e+00    -  2.10e-01 6.61e-02f  1\n",
      "  34r 1.4313174e+01 6.30e-02 7.26e+02  -1.0 1.16e+01    -  6.06e-01 2.21e-01f  1\n",
      "  35r 1.4314335e+01 6.30e-02 7.51e+01  -1.0 4.09e-01    -  9.72e-01 8.97e-01f  1\n",
      "  36r 1.4313661e+01 6.30e-02 5.01e+01  -1.0 1.34e+01    -  1.00e+00 1.00e+00f  1\n",
      "  37r 1.4313693e+01 6.30e-02 2.77e-01  -1.0 4.01e+00    -  1.00e+00 1.00e+00f  1\n",
      "  38r 1.4313776e+01 6.30e-02 2.12e+00  -2.5 5.65e+00    -  1.00e+00 1.00e+00f  1\n",
      "  39r 1.4313776e+01 6.30e-02 1.78e+00  -2.5 1.80e+00    -  8.43e-01 1.00e+00h  1\n",
      "iter    objective    inf_pr   inf_du lg(mu)  ||d||  lg(rg) alpha_du alpha_pr  ls\n",
      "  40r 1.4313776e+01 6.30e-02 3.99e-03  -2.5 3.13e+00    -  1.00e+00 1.00e+00f  1\n",
      "  41r 1.4313778e+01 6.30e-02 2.17e-01  -5.7 7.75e-01    -  1.00e+00 9.82e-01f  1\n",
      "  42r 1.4313778e+01 6.30e-02 1.56e+02  -5.7 1.35e+01    -  4.51e-01 8.76e-01f  1\n",
      "  43r 1.4313778e+01 6.29e-02 5.03e+01  -5.7 1.66e+01    -  7.39e-01 8.29e-01f  1\n",
      "  44r 1.4313778e+01 6.29e-02 3.53e-02  -5.7 1.54e+01    -  1.00e+00 1.00e+00f  1\n",
      "  45r 1.4313778e+01 6.29e-02 3.73e-03  -5.7 6.74e+00    -  1.00e+00 1.00e+00h  1\n",
      "  46r 1.4313778e+01 6.29e-02 3.27e-05  -5.7 6.95e-01    -  1.00e+00 1.00e+00h  1\n",
      "  47r 1.4313778e+01 6.29e-02 1.52e+01  -8.6 2.31e-03    -  1.00e+00 8.78e-01h  1\n",
      "  48r 1.4313778e+01 6.29e-02 5.99e-02  -8.6 3.64e+01    -  1.00e+00 1.00e+00f  1\n",
      "  49r 1.4313778e+01 6.29e-02 3.16e-02  -8.6 4.61e+01    -  1.00e+00 1.00e+00h  1\n",
      "iter    objective    inf_pr   inf_du lg(mu)  ||d||  lg(rg) alpha_du alpha_pr  ls\n",
      "  50r 1.4313778e+01 6.29e-02 1.02e-02  -8.6 4.12e+01    -  1.00e+00 1.00e+00h  1\n",
      "  51r 1.4313778e+01 6.29e-02 9.57e-04  -8.6 1.65e+01    -  1.00e+00 1.00e+00h  1\n",
      "  52r 1.4313778e+01 6.29e-02 6.83e-06  -8.6 1.52e+00    -  1.00e+00 1.00e+00h  1\n",
      "\n",
      "Number of Iterations....: 52\n",
      "\n",
      "                                   (scaled)                 (unscaled)\n",
      "Objective...............:   1.4313778281196440e+01    1.4313778281196440e+01\n",
      "Dual infeasibility......:   6.6003873462726084e+00    6.6003873462726084e+00\n",
      "Constraint violation....:   6.2914130674897706e-02    6.2914130674897706e-02\n",
      "Variable bound violation:   0.0000000000000000e+00    0.0000000000000000e+00\n",
      "Complementarity.........:   2.5059954110840738e-09    2.5059954110840738e-09\n",
      "Overall NLP error.......:   2.4610797305118606e+00    6.6003873462726084e+00\n",
      "\n",
      "\n",
      "Number of objective function evaluations             = 78\n",
      "Number of objective gradient evaluations             = 30\n",
      "Number of equality constraint evaluations            = 78\n",
      "Number of inequality constraint evaluations          = 78\n",
      "Number of equality constraint Jacobian evaluations   = 60\n",
      "Number of inequality constraint Jacobian evaluations = 60\n",
      "Number of Lagrangian Hessian evaluations             = 53\n",
      "Total seconds in IPOPT                               = 3.908\n",
      "\n",
      "EXIT: Converged to a point of local infeasibility. Problem may be infeasible.\n"
     ]
    }
   ],
   "source": [
    "# Resolver el modelo\n",
    "optimize!(model)"
   ]
  },
  {
   "cell_type": "markdown",
   "metadata": {},
   "source": [
    "# Mostrar resultados"
   ]
  },
  {
   "cell_type": "code",
   "execution_count": 9,
   "metadata": {},
   "outputs": [
    {
     "name": "stdout",
     "output_type": "stream",
     "text": [
      "Estado de la solución: LOCALLY_INFEASIBLE\n",
      "Valor óptimo de x: 2.099999999998189\n",
      "Valor óptimo de y1: 3.3001936732869392\n",
      "Valores óptimos de l: [6.363066215956257, 219.09219176809668]\n"
     ]
    }
   ],
   "source": [
    "# Mostrar resultados\n",
    "println(\"Estado de la solución: \", termination_status(model))\n",
    "println(\"Valor óptimo de x: \", value(x))\n",
    "println(\"Valor óptimo de y1: \", value(y))\n",
    "#println(\"Valor óptimo de y2: \", value(y2))\n",
    "#println(\"Valores óptimos de s: \", value.(s))\n",
    "println(\"Valores óptimos de l: \", value.(l))"
   ]
  },
  {
   "cell_type": "code",
   "execution_count": 10,
   "metadata": {},
   "outputs": [
    {
     "data": {
      "text/plain": [
       "14.31377828119644"
      ]
     },
     "metadata": {},
     "output_type": "display_data"
    }
   ],
   "source": [
    "objective_value(model)"
   ]
  },
  {
   "cell_type": "code",
   "execution_count": 11,
   "metadata": {},
   "outputs": [],
   "source": []
  }
 ],
 "metadata": {
  "kernelspec": {
   "display_name": "Julia 1.10.5",
   "language": "julia",
   "name": "julia-1.10"
  },
  "language_info": {
   "file_extension": ".jl",
   "mimetype": "application/julia",
   "name": "julia",
   "version": "1.10.5"
  }
 },
 "nbformat": 4,
 "nbformat_minor": 2
}
