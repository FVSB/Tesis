{
 "cells": [
  {
   "cell_type": "markdown",
   "metadata": {},
   "source": [
    "# Importamos los módulos correspondientes"
   ]
  },
  {
   "cell_type": "code",
   "execution_count": 1,
   "metadata": {},
   "outputs": [
    {
     "name": "stderr",
     "output_type": "stream",
     "text": [
      "WARNING: replacing module MyParser.\n"
     ]
    },
    {
     "data": {
      "text/plain": [
       "Make_BF"
      ]
     },
     "metadata": {},
     "output_type": "display_data"
    }
   ],
   "source": [
    "include(\"solve.jl\")\n",
    "\n"
   ]
  },
  {
   "cell_type": "code",
   "execution_count": 2,
   "metadata": {},
   "outputs": [],
   "source": [
    "\n",
    "using Symbolics\n",
    "\n"
   ]
  },
  {
   "cell_type": "markdown",
   "metadata": {},
   "source": [
    "#### Indicar las variables del lider"
   ]
  },
  {
   "cell_type": "code",
   "execution_count": 3,
   "metadata": {},
   "outputs": [
    {
     "data": {
      "text/plain": [
       "2-element Vector{String}:\n",
       " \"x_1\"\n",
       " \"x_2\""
      ]
     },
     "metadata": {},
     "output_type": "display_data"
    }
   ],
   "source": [
    "lider_vars=[\"x_1\",\"x_2\"]"
   ]
  },
  {
   "cell_type": "markdown",
   "metadata": {},
   "source": [
    "#### Indicar las variables del follower"
   ]
  },
  {
   "cell_type": "code",
   "execution_count": 4,
   "metadata": {},
   "outputs": [
    {
     "data": {
      "text/plain": [
       "2-element Vector{String}:\n",
       " \"y_1\"\n",
       " \"y_2\""
      ]
     },
     "metadata": {},
     "output_type": "display_data"
    }
   ],
   "source": [
    "follower_vars=[\"y_1\",\"y_2\"]"
   ]
  },
  {
   "cell_type": "markdown",
   "metadata": {},
   "source": [
    "Concatenar las variables de los dos niveles"
   ]
  },
  {
   "cell_type": "code",
   "execution_count": 5,
   "metadata": {},
   "outputs": [
    {
     "data": {
      "text/plain": [
       "4-element Vector{String}:\n",
       " \"x_1\"\n",
       " \"x_2\"\n",
       " \"y_1\"\n",
       " \"y_2\""
      ]
     },
     "metadata": {},
     "output_type": "display_data"
    }
   ],
   "source": [
    "problem_vars_str=vcat(lider_vars,follower_vars)"
   ]
  },
  {
   "cell_type": "markdown",
   "metadata": {},
   "source": [
    "Convertir a variables de Symbolics"
   ]
  },
  {
   "cell_type": "code",
   "execution_count": 6,
   "metadata": {},
   "outputs": [
    {
     "data": {
      "text/latex": [
       "$$ \\begin{equation}\n",
       "\\left[\n",
       "\\begin{array}{c}\n",
       "x_{1} \\\\\n",
       "x_{2} \\\\\n",
       "y_{1} \\\\\n",
       "y_{2} \\\\\n",
       "\\end{array}\n",
       "\\right]\n",
       "\\end{equation}\n",
       " $$"
      ],
      "text/plain": [
       "4-element Vector{Num}:\n",
       " x_1\n",
       " x_2\n",
       " y_1\n",
       " y_2"
      ]
     },
     "metadata": {},
     "output_type": "display_data"
    }
   ],
   "source": [
    "problem_vars=map(ProblemFunction.convert_Symbol_to_symbolic_num,problem_vars_str)"
   ]
  },
  {
   "cell_type": "markdown",
   "metadata": {},
   "source": [
    "## Declarar la funcion del lider"
   ]
  },
  {
   "cell_type": "code",
   "execution_count": 7,
   "metadata": {},
   "outputs": [
    {
     "data": {
      "text/plain": [
       "\"((x_1^2)*(y_1^2)*(y_2))+x_2\""
      ]
     },
     "metadata": {},
     "output_type": "display_data"
    }
   ],
   "source": [
    "leader_func_str::String=\"((x_1^2)*(y_1^2)*(y_2))+x_2\""
   ]
  },
  {
   "cell_type": "markdown",
   "metadata": {},
   "source": [
    "#### Definir las restricciones del lider"
   ]
  },
  {
   "cell_type": "code",
   "execution_count": 8,
   "metadata": {},
   "outputs": [
    {
     "data": {
      "text/plain": [
       "J_0_g::RestrictionSetType = 1"
      ]
     },
     "metadata": {},
     "output_type": "display_data"
    }
   ],
   "source": [
    "J_0_g"
   ]
  },
  {
   "cell_type": "code",
   "execution_count": 9,
   "metadata": {},
   "outputs": [
    {
     "data": {
      "text/plain": []
     },
     "metadata": {},
     "output_type": "display_data"
    },
    {
     "name": "stdout",
     "output_type": "stream",
     "text": [
      "Mostrar las definiciones de las restricciones\n",
      "------------------------------\n",
      "Tipo de restriccion Eq\n",
      "------------------------------\n",
      "Conjunto de indices al que pertenece J_0_g \n",
      "------------------------------\n",
      "Es de la funcion lider true\n",
      "------------------------------\n",
      "El valor de miu es 0.3\n",
      "------------------------------\n",
      "El valor de beta es 0\n",
      "------------------------------\n",
      "El valor de lambda es 0\n",
      "------------------------------\n"
     ]
    }
   ],
   "source": [
    "g_1=Def_Restriction_init(\"x_1+y_2-y_1==9\",J_0_g,Eq,true,0.3,0,0)"
   ]
  },
  {
   "cell_type": "markdown",
   "metadata": {},
   "source": [
    "Crear un vector con las $g_s$"
   ]
  },
  {
   "cell_type": "code",
   "execution_count": 10,
   "metadata": {},
   "outputs": [
    {
     "data": {
      "text/plain": [
       "1-element Vector{Def_Restriction}:\n",
       " "
      ]
     },
     "metadata": {},
     "output_type": "display_data"
    },
    {
     "name": "stdout",
     "output_type": "stream",
     "text": [
      "Mostrar las definiciones de las restricciones\n",
      "------------------------------\n",
      "Tipo de restriccion Eq\n",
      "------------------------------\n",
      "Conjunto de indices al que pertenece J_0_g \n",
      "------------------------------\n",
      "Es de la funcion lider true\n",
      "------------------------------\n",
      "El valor de miu es 0.3\n",
      "------------------------------\n",
      "El valor de beta es 0\n",
      "------------------------------\n",
      "El valor de lambda es 0\n",
      "------------------------------\n",
      "Mostrar las definiciones de las restricciones\n",
      "------------------------------\n",
      "Tipo de restriccion Eq\n",
      "------------------------------\n",
      "Conjunto de indices al que pertenece J_0_g \n",
      "------------------------------\n",
      "Es de la funcion lider true\n",
      "------------------------------\n",
      "El valor de miu es 0.3\n",
      "------------------------------\n",
      "El valor de beta es 0\n",
      "------------------------------\n",
      "El valor de lambda es 0\n",
      "------------------------------\n",
      "Mostrar las definiciones de las restricciones\n",
      "------------------------------\n",
      "Tipo de restriccion Eq\n",
      "------------------------------\n",
      "Conjunto de indices al que pertenece J_0_g \n",
      "------------------------------\n",
      "Es de la funcion lider true\n",
      "------------------------------\n",
      "El valor de miu es 0.3\n",
      "------------------------------\n",
      "El valor de beta es 0\n",
      "------------------------------\n",
      "El valor de lambda es 0\n",
      "------------------------------\n"
     ]
    }
   ],
   "source": [
    "g_s=[g_1]"
   ]
  },
  {
   "cell_type": "markdown",
   "metadata": {},
   "source": [
    "## Definir el nivel inferior"
   ]
  },
  {
   "cell_type": "code",
   "execution_count": 11,
   "metadata": {},
   "outputs": [
    {
     "data": {
      "text/plain": [
       "\"((x_1^2)*(y_1^2)*(y_2))+x_2\""
      ]
     },
     "metadata": {},
     "output_type": "display_data"
    }
   ],
   "source": [
    "Follower_str_expr=\"((x_1^2)*(y_1^2)*(y_2))+x_2\""
   ]
  },
  {
   "cell_type": "markdown",
   "metadata": {},
   "source": [
    "#### Restricciones del follower"
   ]
  },
  {
   "cell_type": "code",
   "execution_count": 12,
   "metadata": {},
   "outputs": [
    {
     "data": {
      "text/plain": []
     },
     "metadata": {},
     "output_type": "display_data"
    },
    {
     "name": "stdout",
     "output_type": "stream",
     "text": [
      "Mostrar las definiciones de las restricciones\n",
      "------------------------------\n",
      "Tipo de restriccion Lt\n",
      "------------------------------\n",
      "Conjunto de indices al que pertenece J_Ne_L0_v \n",
      "------------------------------\n",
      "Es de la funcion lider false\n",
      "------------------------------\n",
      "El valor de miu es 0\n",
      "------------------------------\n",
      "El valor de beta es 1\n",
      "------------------------------\n",
      "El valor de lambda es 1\n",
      "------------------------------\n"
     ]
    }
   ],
   "source": [
    "v_1=Def_Restriction_init(\"((x_1^2)*(y_1^2)*(y_2))+x_2==0\",J_Ne_L0_v,Lt,false,0,1,1)"
   ]
  },
  {
   "cell_type": "markdown",
   "metadata": {},
   "source": [
    "Agrupar las $v_s$ en un vector"
   ]
  },
  {
   "cell_type": "code",
   "execution_count": 13,
   "metadata": {},
   "outputs": [
    {
     "data": {
      "text/plain": [
       "1-element Vector{Def_Restriction}:\n",
       " "
      ]
     },
     "metadata": {},
     "output_type": "display_data"
    },
    {
     "name": "stdout",
     "output_type": "stream",
     "text": [
      "Mostrar las definiciones de las restricciones\n",
      "------------------------------\n",
      "Tipo de restriccion Lt\n",
      "------------------------------\n",
      "Conjunto de indices al que pertenece J_Ne_L0_v \n",
      "------------------------------\n",
      "Es de la funcion lider false\n",
      "------------------------------\n",
      "El valor de miu es 0\n",
      "------------------------------\n",
      "El valor de beta es 1\n",
      "------------------------------\n",
      "El valor de lambda es 1\n",
      "------------------------------\n",
      "Mostrar las definiciones de las restricciones\n",
      "------------------------------\n",
      "Tipo de restriccion Lt\n",
      "------------------------------\n",
      "Conjunto de indices al que pertenece J_Ne_L0_v \n",
      "------------------------------\n",
      "Es de la funcion lider false\n",
      "------------------------------\n",
      "El valor de miu es 0\n",
      "------------------------------\n",
      "El valor de beta es 1\n",
      "------------------------------\n",
      "El valor de lambda es 1\n",
      "------------------------------\n",
      "Mostrar las definiciones de las restricciones\n",
      "------------------------------\n",
      "Tipo de restriccion Lt\n",
      "------------------------------\n",
      "Conjunto de indices al que pertenece J_Ne_L0_v \n",
      "------------------------------\n",
      "Es de la funcion lider false\n",
      "------------------------------\n",
      "El valor de miu es 0\n",
      "------------------------------\n",
      "El valor de beta es 1\n",
      "------------------------------\n",
      "El valor de lambda es 1\n",
      "------------------------------\n"
     ]
    }
   ],
   "source": [
    "v_s=[v_1]"
   ]
  },
  {
   "cell_type": "markdown",
   "metadata": {},
   "source": [
    "Declarar $\\alpha$ (Dimension de $y_s$)"
   ]
  },
  {
   "cell_type": "code",
   "execution_count": 14,
   "metadata": {},
   "outputs": [
    {
     "data": {
      "text/plain": [
       "2-element Vector{Int64}:\n",
       " 1\n",
       " 1"
      ]
     },
     "metadata": {},
     "output_type": "display_data"
    }
   ],
   "source": [
    "alpha=[1,1]"
   ]
  },
  {
   "cell_type": "markdown",
   "metadata": {},
   "source": [
    "## Ajustar condiciones de factibilidad "
   ]
  },
  {
   "cell_type": "markdown",
   "metadata": {},
   "source": [
    "#### Punto: $x_1 = 1$ $x_2 = 1 $ $y_1=1$ $y_2=1$"
   ]
  },
  {
   "cell_type": "code",
   "execution_count": 15,
   "metadata": {},
   "outputs": [
    {
     "data": {
      "text/plain": [
       "Dict{String, Int64} with 4 entries:\n",
       "  \"x_1\" => 1\n",
       "  \"x_2\" => 1\n",
       "  \"y_2\" => 1\n",
       "  \"y_1\" => 1"
      ]
     },
     "metadata": {},
     "output_type": "display_data"
    }
   ],
   "source": [
    "point=Dict(\"x_1\"=>1,\"x_2\"=>1,\"y_1\"=>1,\"y_2\"=>1)"
   ]
  },
  {
   "cell_type": "markdown",
   "metadata": {},
   "source": [
    "Satisfacer el punto "
   ]
  },
  {
   "cell_type": "code",
   "execution_count": 16,
   "metadata": {},
   "outputs": [
    {
     "name": "stdout",
     "output_type": "stream",
     "text": [
      "Mostrar la funcion objetivo del lider\n",
      "Nombre de variables: [:x_1, :y_1, :y_2, :x_2] \n",
      "Expresion en str: ((x_1^2)*(y_1^2)*(y_2))+x_2\n",
      "Expresion parseada x_2 + (x_1^2)*(y_1^2)*y_2\n",
      "Punto a evaluar Dict(\"x_1\" => 1, \"x_2\" => 1, \"y_2\" => 1, \"y_1\" => 1)\n",
      "Valor de evaluacion 2\n",
      "Es funcion lider true\n",
      "------------------------------\n",
      "Mostrar las restricciones del lider\n",
      "++++++++++++++++++++++++++++++\n",
      "Restriccion 1\n",
      "Nombre de variables: [:x_1, :y_1, :y_2] \n",
      "Expresion en str: x_1+y_2-y_1==9\n",
      "Expresion parseada -9 + x_1 - y_1 + y_2\n",
      "Punto a evaluar Dict(\"x_1\" => 1, \"x_2\" => 1, \"y_2\" => 1, \"y_1\" => 1)\n",
      "Valor de evaluacion -8\n",
      "Valor constante añadida 8\n",
      "Tipo de restriccion Eq\n",
      "Cjt ind que pertenece J_0_g\n",
      "El valor de miu es 0.3\n",
      "El valor de Beta es 0\n",
      "El valor de lambda es 0\n",
      "++++++++++++++++++++++++++++++\n",
      "------------------------------\n",
      "Mostrar funcion del follower\n",
      "Nombre de variables: [:x_1, :y_1, :y_2, :x_2] \n",
      "Expresion en str: ((x_1^2)*(y_1^2)*(y_2))+x_2\n",
      "Expresion parseada x_2 + (x_1^2)*(y_1^2)*y_2\n",
      "Punto a evaluar Dict(\"x_1\" => 1, \"x_2\" => 1, \"y_2\" => 1, \"y_1\" => 1)\n",
      "Valor de evaluacion 2\n",
      "Es funcion lider false\n",
      "------------------------------\n",
      "Mostrar las restricciones del follower\n",
      "++++++++++++++++++++++++++++++\n",
      "Restriccion 1\n",
      "Nombre de variables: [:x_1, :y_1, :y_2, :x_2] \n",
      "Expresion en str: ((x_1^2)*(y_1^2)*(y_2))+x_2==0\n",
      "Expresion parseada x_2 + (x_1^2)*(y_1^2)*y_2\n",
      "Punto a evaluar Dict(\"x_1\" => 1, \"x_2\" => 1, \"y_2\" => 1, \"y_1\" => 1)\n",
      "Valor de evaluacion 2\n",
      "Valor constante añadida -2.7526611981948053\n",
      "Tipo de restriccion Lt\n",
      "Cjt ind que pertenece J_Ne_L0_v\n",
      "El valor de miu es 0\n",
      "El valor de Beta es 1\n",
      "El valor de lambda es 1\n",
      "++++++++++++++++++++++++++++++\n",
      "------------------------------\n",
      "Evaluar en el punto Dict(\"x_1\" => 1, \"x_2\" => 1, \"y_2\" => 1, \"y_1\" => 1)\n",
      "------------------------------\n",
      "_\n"
     ]
    },
    {
     "data": {
      "text/plain": []
     },
     "metadata": {},
     "output_type": "display_data"
    }
   ],
   "source": [
    "opt_problem=Fix_Restrictions(leader_func_str,g_s,Follower_str_expr,v_s,point)"
   ]
  },
  {
   "cell_type": "markdown",
   "metadata": {},
   "source": [
    "## Hallar vector $BF$"
   ]
  },
  {
   "cell_type": "code",
   "execution_count": 23,
   "metadata": {},
   "outputs": [
    {
     "data": {
      "text/latex": [
       "$$ \\begin{equation}\n",
       "\\left[\n",
       "\\begin{array}{c}\n",
       "-10.3 \\\\\n",
       "-2 \\\\\n",
       "-7.7 \\\\\n",
       "-4.3 \\\\\n",
       "\\end{array}\n",
       "\\right]\n",
       "\\end{equation}\n",
       " $$"
      ],
      "text/plain": [
       "4-element Vector{Num}:\n",
       " -10.3\n",
       "  -2.0\n",
       "  -7.7\n",
       "  -4.3"
      ]
     },
     "metadata": {},
     "output_type": "display_data"
    }
   ],
   "source": [
    "Make_BF(opt_problem,lider_vars,follower_vars,alpha,1)"
   ]
  }
 ],
 "metadata": {
  "kernelspec": {
   "display_name": "Julia 1.10.4",
   "language": "julia",
   "name": "julia-1.10"
  },
  "language_info": {
   "file_extension": ".jl",
   "mimetype": "application/julia",
   "name": "julia",
   "version": "1.10.4"
  }
 },
 "nbformat": 4,
 "nbformat_minor": 2
}
