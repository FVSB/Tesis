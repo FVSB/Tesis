{
 "cells": [
  {
   "cell_type": "markdown",
   "metadata": {},
   "source": [
    "## Importaciones necesarias"
   ]
  },
  {
   "cell_type": "code",
   "execution_count": 1,
   "metadata": {},
   "outputs": [],
   "source": [
    "using JuMP, Ipopt, Complementarity"
   ]
  },
  {
   "cell_type": "markdown",
   "metadata": {},
   "source": [
    "# Crear el modelo"
   ]
  },
  {
   "cell_type": "code",
   "execution_count": 2,
   "metadata": {},
   "outputs": [
    {
     "data": {
      "text/plain": [
       "A JuMP Model\n",
       "├ solver: Ipopt\n",
       "├ objective_sense: FEASIBILITY_SENSE\n",
       "├ num_variables: 0\n",
       "├ num_constraints: 0\n",
       "└ Names registered in the model: none"
      ]
     },
     "metadata": {},
     "output_type": "display_data"
    }
   ],
   "source": [
    "# Crear el modelo\n",
    "model = Model(Ipopt.Optimizer)"
   ]
  },
  {
   "cell_type": "markdown",
   "metadata": {},
   "source": [
    "## Definir Variables\n"
   ]
  },
  {
   "cell_type": "code",
   "execution_count": 3,
   "metadata": {},
   "outputs": [
    {
     "data": {
      "text/plain": [
       "3-element Vector{VariableRef}:\n",
       " l[1]\n",
       " l[2]\n",
       " l[3]"
      ]
     },
     "metadata": {},
     "output_type": "display_data"
    }
   ],
   "source": [
    "# Nivel superior\n",
    "@variable(model,x)\n",
    "# Nivel Inferior\n",
    "@variable(model,y)\n",
    "# Complementariedad\n",
    "@variable(model,l[1:3])"
   ]
  },
  {
   "cell_type": "markdown",
   "metadata": {},
   "source": [
    "## Definir Objetivo\n"
   ]
  },
  {
   "cell_type": "code",
   "execution_count": 4,
   "metadata": {},
   "outputs": [
    {
     "data": {
      "text/latex": [
       "$ x^2 $"
      ],
      "text/plain": [
       "x²"
      ]
     },
     "metadata": {},
     "output_type": "display_data"
    }
   ],
   "source": [
    "@objective(model,Min,x^2)"
   ]
  },
  {
   "cell_type": "markdown",
   "metadata": {},
   "source": [
    "## Definir Restricciones\n"
   ]
  },
  {
   "cell_type": "code",
   "execution_count": 5,
   "metadata": {},
   "outputs": [
    {
     "data": {
      "text/latex": [
       "$$ (-10.49 + y ^ {2.0} * (x - 0.5)) - 0.0 \\leq 0 $$"
      ],
      "text/plain": [
       "(-10.49 + y ^ 2.0 * (x - 0.5)) - 0.0 <= 0"
      ]
     },
     "metadata": {},
     "output_type": "display_data"
    }
   ],
   "source": [
    "@NLconstraint(model,1+(+l[1]-l[2]+(l[3]*(2*y*(x-0.25))))==0) # Obj nivel inferior\n",
    "@NLconstraint(model,-10.49+(y^2)*(x-0.5)<=0 )#vs"
   ]
  },
  {
   "cell_type": "code",
   "execution_count": 6,
   "metadata": {},
   "outputs": [
    {
     "data": {
      "text/plain": [
       "(-x <= -1.19, x <= 1.19, -9 x² + x - y <= -15.45, y <= 3.9, -y <= 5.9)"
      ]
     },
     "metadata": {},
     "output_type": "display_data"
    }
   ],
   "source": [
    "@constraints(model,begin\n",
    "1.19 - x<=0  #gs\n",
    "-1.19 + x<=0  #gs\n",
    "15.45+x-(9*(x^2))-y<=0 #gs\n",
    "-3.9 + y<=0  #vs\n",
    "-5.9 - y<=0 #vs\n",
    "\n",
    "end)"
   ]
  },
  {
   "cell_type": "markdown",
   "metadata": {},
   "source": [
    "## Definir variables Complementarias"
   ]
  },
  {
   "cell_type": "code",
   "execution_count": 7,
   "metadata": {},
   "outputs": [
    {
     "data": {
      "text/latex": [
       "$$ (sqrt(l[3] ^ {2.0} + (-((-10.49 + (y * y) * (-0.25 + x))) - 0.0) ^ {2.0} + 1.0e-8) - (l[3] + (-((-10.49 + (y * y) * (-0.25 + x))) - 0.0))) - 0.0 = 0 $$"
      ],
      "text/plain": [
       "(sqrt(l[3] ^ 2.0 + (-((-10.49 + (y * y) * (-0.25 + x))) - 0.0) ^ 2.0 + 1.0e-8) - (l[3] + (-((-10.49 + (y * y) * (-0.25 + x))) - 0.0))) - 0.0 == 0"
      ]
     },
     "metadata": {},
     "output_type": "display_data"
    }
   ],
   "source": [
    "@complements(model,0<=-(-3.9 + y),l[1]>=0)\n",
    "@complements(model,0<=-(-5.9 - y),l[2]>=0)\n",
    "@complements(model,0<=-(-10.49+((y^2)*(x-0.25))),l[3]>=0)"
   ]
  },
  {
   "cell_type": "markdown",
   "metadata": {},
   "source": [
    "## Optimizar"
   ]
  },
  {
   "cell_type": "code",
   "execution_count": 8,
   "metadata": {},
   "outputs": [
    {
     "name": "stdout",
     "output_type": "stream",
     "text": [
      "\n",
      "******************************************************************************\n",
      "This program contains Ipopt, a library for large-scale nonlinear optimization.\n",
      " Ipopt is released as open source code under the Eclipse Public License (EPL).\n",
      "         For more information visit https://github.com/coin-or/Ipopt\n",
      "******************************************************************************\n",
      "\n",
      "This is Ipopt version 3.14.16, running with linear solver MUMPS 5.7.3.\n",
      "\n",
      "Number of nonzeros in equality constraint Jacobian...:       12\n",
      "Number of nonzeros in inequality constraint Jacobian.:       16\n",
      "Number of nonzeros in Lagrangian Hessian.............:       26\n",
      "\n",
      "Total number of variables............................:        5\n",
      "                     variables with only lower bounds:        0\n",
      "                variables with lower and upper bounds:        0\n",
      "                     variables with only upper bounds:        0\n",
      "Total number of equality constraints.................:        4\n",
      "Total number of inequality constraints...............:       12\n",
      "        inequality constraints with only lower bounds:        6\n",
      "   inequality constraints with lower and upper bounds:        0\n",
      "        inequality constraints with only upper bounds:        6\n",
      "\n",
      "iter    objective    inf_pr   inf_du lg(mu)  ||d||  lg(rg) alpha_du alpha_pr  ls\n",
      "   0  0.0000000e+00 1.54e+01 1.00e+00  -1.0 0.00e+00    -  0.00e+00 0.00e+00   0\n",
      "   1r 0.0000000e+00 1.54e+01 9.99e+02   1.2 0.00e+00    -  0.00e+00 3.88e-11R  2\n",
      "   2r 6.8429116e-06 1.52e+01 9.97e+02   1.2 3.36e+02    -  3.02e-02 1.13e-03f  1\n",
      "   3r 4.2714720e-02 1.41e+01 1.77e+03   1.2 1.77e+00   2.0 4.65e-01 5.23e-01f  1\n",
      "   4r 8.6718459e-02 1.38e+01 1.07e+03   1.2 5.84e-01   3.3 8.41e-01 7.59e-01f  1\n",
      "   5r 2.8956590e-01 1.23e+01 9.35e+02   1.2 1.27e+00   2.9 1.00e+00 1.00e+00f  1\n",
      "   6  2.8461412e-01 1.21e+01 2.12e+01  -1.0 8.21e+02    -  4.03e-04 1.78e-04h  3\n",
      "   7  3.0711492e-01 1.07e+01 6.95e+02  -1.0 7.43e+02    -  4.64e-04 1.95e-03f  2\n",
      "   8  3.3183324e-01 1.03e+01 7.31e+02  -1.0 7.21e+02    -  8.68e-04 5.58e-04h  4\n",
      "   9  3.5086718e-01 1.01e+01 7.34e+02  -1.0 6.17e+02    -  1.09e-03 3.02e-04h  6\n",
      "iter    objective    inf_pr   inf_du lg(mu)  ||d||  lg(rg) alpha_du alpha_pr  ls\n",
      "  10  3.7291131e-01 9.89e+00 7.37e+02  -1.0 6.15e+02    -  7.70e-02 3.37e-04h  6\n",
      "  11  1.4169937e+00 9.74e-01 1.17e+04  -1.0 6.38e+02    -  1.42e-03 9.07e-03h  1\n",
      "  12  1.4239013e+00 8.94e-01 1.18e+04  -1.0 9.39e+02    -  2.07e-02 1.49e-04h  2\n",
      "  13  1.4240979e+00 8.74e-01 1.18e+04  -1.0 1.12e+03    -  4.83e-02 9.25e-05h  6\n",
      "  14  1.4242758e+00 8.54e-01 5.56e+05  -1.0 1.12e+03    -  1.98e-01 8.90e-05h  6\n",
      "  15  1.4246464e+00 8.54e-01 1.04e+07  -1.0 1.13e+03    -  5.44e-02 1.71e-04h  5\n",
      "  16  1.4250151e+00 8.54e-01 5.16e+08  -1.0 1.15e+03    -  1.32e-01 1.59e-04h  5\n",
      "  17  1.4253715e+00 8.54e-01 1.39e+10  -1.0 1.16e+03    -  6.33e-02 1.47e-04h  5\n",
      "  18  1.4254775e+00 8.53e-01 2.38e+11  -1.0 1.18e+03    -  1.14e-01 1.35e-04h  5\n",
      "  19  1.4254886e+00 8.53e-01 4.36e+11  -1.0 1.20e+03    -  6.65e-02 1.25e-04h  5\n",
      "iter    objective    inf_pr   inf_du lg(mu)  ||d||  lg(rg) alpha_du alpha_pr  ls\n",
      "  20  1.4254944e+00 8.53e-01 4.36e+11  -1.0 1.21e+03    -  1.12e-01 1.16e-04h  5\n",
      "  21  1.4255007e+00 8.53e-01 4.36e+11  -1.0 1.23e+03    -  6.69e-02 1.07e-04h  5\n",
      "  22  1.4256112e+00 2.11e+00 1.76e+14  -1.0 1.25e+03    -  1.09e-01 1.59e-03w  1\n",
      "  23  1.4308211e+00 2.10e+00 1.76e+14  -1.0 1.96e+00  12.0 2.34e-01 3.56e-03w  1\n",
      "  24  1.4288592e+00 1.82e+00 1.53e+14  -1.0 9.52e+00    -  2.63e-01 1.33e-01w  1\n",
      "  25  1.4255076e+00 8.53e-01 4.36e+11  -1.0 8.26e+00    -  1.09e-01 9.94e-05h  4\n",
      "  26  1.4255151e+00 8.53e-01 4.36e+11  -1.0 1.27e+03    -  6.69e-02 9.18e-05h  5\n",
      "  27  1.4255235e+00 8.53e-01 4.36e+11  -1.0 1.29e+03    -  1.04e-01 8.46e-05h  5\n",
      "  28  1.4255328e+00 8.53e-01 4.36e+11  -1.0 1.32e+03    -  6.62e-02 7.75e-05h  5\n",
      "  29  1.4255545e+00 8.53e-01 4.36e+11  -1.0 1.36e+03    -  9.47e-02 1.41e-04h  4\n",
      "iter    objective    inf_pr   inf_du lg(mu)  ||d||  lg(rg) alpha_du alpha_pr  ls\n",
      "  30  1.4255928e+00 8.53e-01 4.36e+11  -1.0 1.56e+03    -  5.57e-02 1.08e-04h  4\n",
      "  31r 1.4255928e+00 8.53e-01 1.00e+03   1.0 0.00e+00    -  0.00e+00 3.68e-07R 11\n",
      "  32r 1.4247243e+00 8.52e-01 9.88e+02   1.0 9.27e+03    -  6.67e-02 9.36e-04f  1\n",
      "  33  1.4247688e+00 8.52e-01 3.83e+00  -1.0 2.63e+03    -  2.00e-04 2.80e-05h  5\n",
      "  34  1.4301073e+00 8.52e-01 3.79e+00  -1.0 1.91e+03    -  5.21e-05 2.17e-05h  1\n",
      "  35  1.4301608e+00 8.52e-01 3.59e+00  -1.0 8.31e+03    -  6.01e-07 6.01e-07s  2\n",
      "  36  1.4301613e+00 8.52e-01 3.42e+00  -1.0 3.69e+04    -  5.79e-08 5.79e-08s  2\n",
      "  37  1.4301613e+00 8.52e-01 3.34e+00  -1.0 1.83e+05    -  2.80e-09 2.80e-09s  2\n",
      "  38  1.4301613e+00 8.52e-01 3.32e+00  -1.0 1.63e+06    -  3.73e-11 3.73e-11s  2\n",
      "  39  1.4301613e+00 8.52e-01 4.39e+03  -1.0 2.63e+07    -  1.46e-13 1.46e-13s  2\n",
      "iter    objective    inf_pr   inf_du lg(mu)  ||d||  lg(rg) alpha_du alpha_pr  ls\n",
      "  40  1.4288095e+00 7.71e-01 1.56e+04  -1.0 3.23e+00    -  2.60e-01 0.00e+00S  2\n",
      "  41  1.4287850e+00 7.69e-01 5.67e+06  -1.0 3.67e+02    -  2.37e-05 1.96e-03f  2\n",
      "  42  1.4282541e+00 7.37e-01 5.43e+06  -1.0 6.86e-01    -  1.00e+00 4.17e-02h  1\n",
      "  43  1.4282488e+00 7.37e-01 5.43e+06  -1.0 6.58e-01    -  1.00e+00 4.35e-04h  1\n",
      "  44r 1.4282488e+00 7.37e-01 1.00e+03  -0.1 0.00e+00    -  0.00e+00 2.73e-07R  5\n",
      "  45r 1.4300782e+00 7.12e-01 1.10e+03  -0.1 6.47e+02    -  6.81e-03 1.18e-03f  1\n",
      "  46  1.4300758e+00 7.12e-01 8.14e+04  -1.0 2.36e+00    -  5.26e-01 1.04e-05h  1\n",
      "  47r 1.4300758e+00 7.12e-01 1.00e+03  -0.1 0.00e+00    -  0.00e+00 1.93e-07R  2\n",
      "  48r 1.4379888e+00 5.98e-01 1.03e+03  -0.1 9.13e+01    -  5.16e-03 3.48e-03f  1\n",
      "  49  1.4379855e+00 5.98e-01 1.91e+04  -1.0 2.19e+00    -  1.81e-01 1.53e-05h  1\n",
      "iter    objective    inf_pr   inf_du lg(mu)  ||d||  lg(rg) alpha_du alpha_pr  ls\n",
      "  50r 1.4379855e+00 5.98e-01 1.00e+03  -0.2 0.00e+00    -  0.00e+00 2.54e-07R  3\n",
      "  51r 1.4759523e+00 1.69e-01 9.93e+02  -0.2 8.48e+01    -  3.27e-03 6.99e-03f  1\n",
      "  52  1.4759511e+00 1.69e-01 7.16e+03  -1.0 3.29e+00    -  1.06e-01 2.25e-05h  1\n",
      "  53r 1.4759511e+00 1.69e-01 1.00e+03  -0.8 0.00e+00    -  0.00e+00 2.93e-07R  5\n",
      "  54r 1.4979646e+00 1.67e-01 9.99e+02  -0.8 1.18e+02    -  3.55e-03 1.30e-03f  1\n",
      "  55r 1.5027617e+00 1.71e-01 9.95e+02  -0.8 4.69e+01    -  7.78e-02 4.74e-03f  1\n",
      "  56r 1.4955248e+00 1.91e-01 9.11e+02  -0.8 4.21e+00    -  9.35e-01 8.33e-02f  1\n",
      "  57r 1.5277743e+00 1.79e-01 2.24e+02  -0.8 1.63e+00    -  2.69e-01 1.00e+00f  1\n",
      "  58r 1.5065892e+00 1.76e-01 1.49e+02  -0.8 4.27e+00    -  1.00e+00 2.34e-01f  2\n",
      "  59r 1.4988803e+00 1.83e-01 1.18e+02  -0.8 4.29e-01    -  1.00e+00 1.00e+00h  1\n",
      "iter    objective    inf_pr   inf_du lg(mu)  ||d||  lg(rg) alpha_du alpha_pr  ls\n",
      "  60r 1.5008647e+00 1.80e-01 2.29e+01  -0.8 9.55e-02    -  1.00e+00 1.00e+00h  1\n",
      "  61r 1.5014550e+00 1.80e-01 1.29e+00  -0.8 2.88e-02    -  1.00e+00 1.00e+00h  1\n",
      "  62r 1.5008744e+00 1.80e-01 3.08e-02  -2.2 4.06e-03    -  1.00e+00 1.00e+00f  1\n",
      "  63r 1.5008573e+00 1.80e-01 6.99e-03  -5.0 2.10e-04    -  1.00e+00 1.00e+00f  1\n",
      "  64r 1.5008573e+00 1.80e-01 5.28e-08  -5.0 1.64e-06    -  1.00e+00 1.00e+00h  1\n",
      "  65r 1.5008573e+00 1.80e-01 2.26e+01  -7.5 3.83e-07    -  1.00e+00 8.28e-01f  1\n",
      "  66r 1.5008573e+00 1.80e-01 3.92e+01  -7.5 4.40e-08    -  8.38e-01 7.27e-01f  1\n",
      "  67r 1.5008573e+00 1.80e-01 3.79e+00  -7.5 1.20e-08    -  9.59e-01 1.00e+00f  1\n",
      "\n",
      "Number of Iterations....: 67\n",
      "\n",
      "                                   (scaled)                 (unscaled)\n",
      "Objective...............:   1.5008572779676574e+00    1.5008572779676574e+00\n",
      "Dual infeasibility......:   2.4501883098526691e+00    2.4501883098526691e+00\n",
      "Constraint violation....:   1.8017528566045726e-01    1.8017528566045726e-01\n",
      "Variable bound violation:   0.0000000000000000e+00    0.0000000000000000e+00\n",
      "Complementarity.........:   3.5515533978086214e-08    3.5515533978086214e-08\n",
      "Overall NLP error.......:   1.1108756038516765e+00    2.4501883098526691e+00\n",
      "\n",
      "\n",
      "Number of objective function evaluations             = 208\n",
      "Number of objective gradient evaluations             = 52\n",
      "Number of equality constraint evaluations            = 208\n",
      "Number of inequality constraint evaluations          = 208\n",
      "Number of equality constraint Jacobian evaluations   = 75\n",
      "Number of inequality constraint Jacobian evaluations = 75\n",
      "Number of Lagrangian Hessian evaluations             = 68\n",
      "Total seconds in IPOPT                               = 2.251\n",
      "\n",
      "EXIT: Converged to a point of local infeasibility. Problem may be infeasible.\n"
     ]
    }
   ],
   "source": [
    "# Resolver el modelo\n",
    "optimize!(model)"
   ]
  },
  {
   "cell_type": "markdown",
   "metadata": {},
   "source": [
    "# Mostrar resultados"
   ]
  },
  {
   "cell_type": "code",
   "execution_count": 9,
   "metadata": {},
   "outputs": [
    {
     "name": "stdout",
     "output_type": "stream",
     "text": [
      "Estado de la solución: LOCALLY_INFEASIBLE\n",
      "Valor óptimo de x: 1.2250948036652745\n",
      "Valor óptimo de y1: 3.1673791482919302\n",
      "Valores óptimos de l: [6.795930634738244e-9, 5.8099985086712e-10, -0.1618911513186542]\n"
     ]
    }
   ],
   "source": [
    "# Mostrar resultados\n",
    "println(\"Estado de la solución: \", termination_status(model))\n",
    "println(\"Valor óptimo de x: \", value(x))\n",
    "println(\"Valor óptimo de y1: \", value(y))\n",
    "#println(\"Valor óptimo de y2: \", value(y2))\n",
    "#println(\"Valores óptimos de s: \", value.(s))\n",
    "println(\"Valores óptimos de l: \", value.(l))"
   ]
  },
  {
   "cell_type": "code",
   "execution_count": 10,
   "metadata": {},
   "outputs": [
    {
     "data": {
      "text/plain": [
       "1.5008572779676574"
      ]
     },
     "metadata": {},
     "output_type": "display_data"
    }
   ],
   "source": [
    "objective_value(model)"
   ]
  }
 ],
 "metadata": {
  "kernelspec": {
   "display_name": "Julia 1.10.5",
   "language": "julia",
   "name": "julia-1.10"
  },
  "language_info": {
   "file_extension": ".jl",
   "mimetype": "application/julia",
   "name": "julia",
   "version": "1.10.5"
  }
 },
 "nbformat": 4,
 "nbformat_minor": 2
}
