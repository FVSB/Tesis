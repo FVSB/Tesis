{
 "cells": [
  {
   "cell_type": "markdown",
   "metadata": {},
   "source": [
    "## Importar el módulo\n"
   ]
  },
  {
   "cell_type": "code",
   "execution_count": 1,
   "metadata": {},
   "outputs": [
    {
     "data": {
      "text/plain": [
       "RunExperiment"
      ]
     },
     "metadata": {},
     "output_type": "display_data"
    }
   ],
   "source": [
    "include(\"../../new_experiment.jl\")"
   ]
  },
  {
   "cell_type": "code",
   "execution_count": 2,
   "metadata": {},
   "outputs": [
    {
     "data": {
      "text/plain": [
       "TaskLocalRNG()"
      ]
     },
     "metadata": {},
     "output_type": "display_data"
    }
   ],
   "source": [
    "using Random\n",
    "\n",
    "# Random seed\n",
    "Random.seed!(7)"
   ]
  },
  {
   "cell_type": "markdown",
   "metadata": {},
   "source": [
    "Crear un experimento\n"
   ]
  },
  {
   "cell_type": "code",
   "execution_count": 3,
   "metadata": {},
   "outputs": [
    {
     "data": {
      "text/plain": [
       "Experiment(OptimizationModel(Problem(Any[], nothing), LeaderRestrictionProblem[], Problem(Any[], nothing), FollowerRestrictionProblem[], Dict{Any, Any}(), Number[1], false), OptimizationModel(Problem(Any[], nothing), LeaderRestrictionProblem[], Problem(Any[], nothing), FollowerRestrictionProblem[], Dict{Any, Any}(), Number[], true), Any[], Any[])"
      ]
     },
     "metadata": {},
     "output_type": "display_data"
    }
   ],
   "source": [
    "experiment=CreateExperiment()"
   ]
  },
  {
   "cell_type": "markdown",
   "metadata": {},
   "source": [
    "### Declarar variables del líder\n"
   ]
  },
  {
   "cell_type": "code",
   "execution_count": 4,
   "metadata": {},
   "outputs": [
    {
     "data": {
      "text/latex": [
       "$$ \\begin{equation}\n",
       "\\left[\n",
       "\\begin{array}{c}\n",
       "x \\\\\n",
       "\\end{array}\n",
       "\\right]\n",
       "\\end{equation}\n",
       " $$"
      ],
      "text/plain": [
       "1-element Vector{Num}:\n",
       " x"
      ]
     },
     "metadata": {},
     "output_type": "display_data"
    }
   ],
   "source": [
    "@leader_vars experiment x"
   ]
  },
  {
   "cell_type": "markdown",
   "metadata": {},
   "source": [
    "### Declarar Variables del Follower"
   ]
  },
  {
   "cell_type": "code",
   "execution_count": 5,
   "metadata": {},
   "outputs": [
    {
     "data": {
      "text/latex": [
       "$$ \\begin{equation}\n",
       "\\left[\n",
       "\\begin{array}{c}\n",
       "y \\\\\n",
       "\\end{array}\n",
       "\\right]\n",
       "\\end{equation}\n",
       " $$"
      ],
      "text/plain": [
       "1-element Vector{Num}:\n",
       " y"
      ]
     },
     "metadata": {},
     "output_type": "display_data"
    }
   ],
   "source": [
    "@follower_vars experiment y"
   ]
  },
  {
   "cell_type": "markdown",
   "metadata": {},
   "source": [
    "### Declarar Función Objetivo del Líder"
   ]
  },
  {
   "cell_type": "code",
   "execution_count": 6,
   "metadata": {},
   "outputs": [
    {
     "data": {
      "text/latex": [
       "$$ \\begin{equation}\n",
       "x - y\n",
       "\\end{equation}\n",
       " $$"
      ],
      "text/plain": [
       "x - y"
      ]
     },
     "metadata": {},
     "output_type": "display_data"
    }
   ],
   "source": [
    "SetLeaderFunction(experiment,x-y)"
   ]
  },
  {
   "cell_type": "markdown",
   "metadata": {},
   "source": [
    "Restricciones del Líder"
   ]
  },
  {
   "cell_type": "code",
   "execution_count": 7,
   "metadata": {},
   "outputs": [
    {
     "data": {
      "text/plain": [
       "1-element Vector{LeaderRestrictionProblem}:\n",
       " LeaderRestrictionProblem((-1 - x) <= 0, 0.24, J_0_g)"
      ]
     },
     "metadata": {},
     "output_type": "display_data"
    }
   ],
   "source": [
    "SetLeaderRestriction(experiment,-x-1<=0)"
   ]
  },
  {
   "cell_type": "code",
   "execution_count": 8,
   "metadata": {},
   "outputs": [
    {
     "data": {
      "text/plain": [
       "2-element Vector{LeaderRestrictionProblem}:\n",
       " LeaderRestrictionProblem((-1 - x) <= 0, 0.24, J_0_g)\n",
       " LeaderRestrictionProblem((-1 + x) <= 0, 0.72, J_0_g)"
      ]
     },
     "metadata": {},
     "output_type": "display_data"
    }
   ],
   "source": [
    "SetLeaderRestriction(experiment,x-1<=0)"
   ]
  },
  {
   "cell_type": "markdown",
   "metadata": {},
   "source": [
    "### Función objetivo del Follower"
   ]
  },
  {
   "cell_type": "code",
   "execution_count": 9,
   "metadata": {},
   "outputs": [
    {
     "data": {
      "text/latex": [
       "$$ \\begin{equation}\n",
       "0.5 y^{2} x - x^{3} y\n",
       "\\end{equation}\n",
       " $$"
      ],
      "text/plain": [
       "0.5x*(y^2) - (x^3)*y"
      ]
     },
     "metadata": {},
     "output_type": "display_data"
    }
   ],
   "source": [
    "SetFollowerFunction(experiment,(0.5x*(y^2))-((x^3)*y))"
   ]
  },
  {
   "cell_type": "markdown",
   "metadata": {},
   "source": [
    "### Restricciones del Follower"
   ]
  },
  {
   "cell_type": "code",
   "execution_count": 10,
   "metadata": {},
   "outputs": [
    {
     "data": {
      "text/plain": [
       "1-element Vector{FollowerRestrictionProblem}:\n",
       " FollowerRestrictionProblem((-1 + y) <= 0, J_0_LP_v, 0.81, 0.47, 0.94)"
      ]
     },
     "metadata": {},
     "output_type": "display_data"
    }
   ],
   "source": [
    "SetFollowerRestriction(experiment,y-1<=0)"
   ]
  },
  {
   "cell_type": "code",
   "execution_count": 11,
   "metadata": {},
   "outputs": [
    {
     "data": {
      "text/plain": [
       "2-element Vector{FollowerRestrictionProblem}:\n",
       " FollowerRestrictionProblem((-1 + y) <= 0, J_0_LP_v, 0.81, 0.47, 0.94)\n",
       " FollowerRestrictionProblem((-1 - y) <= 0, J_0_LP_v, 0.06, 0.88, 0.84)"
      ]
     },
     "metadata": {},
     "output_type": "display_data"
    }
   ],
   "source": [
    "SetFollowerRestriction(experiment,-y-1<=0)"
   ]
  },
  {
   "cell_type": "markdown",
   "metadata": {},
   "source": [
    "### Poner el Punto Optimo"
   ]
  },
  {
   "cell_type": "code",
   "execution_count": 12,
   "metadata": {},
   "outputs": [
    {
     "data": {
      "text/plain": [
       "Dict{Any, Any} with 2 entries:\n",
       "  y => 2.85\n",
       "  x => 1.05"
      ]
     },
     "metadata": {},
     "output_type": "display_data"
    }
   ],
   "source": [
    "SetPoint(experiment,Dict(x=>0,y=>1))"
   ]
  },
  {
   "cell_type": "markdown",
   "metadata": {},
   "source": [
    "## Iniciar el Experimento\n"
   ]
  },
  {
   "cell_type": "code",
   "execution_count": 13,
   "metadata": {},
   "outputs": [
    {
     "name": "stdout",
     "output_type": "stream",
     "text": [
      "Va a retornar correctamente\n",
      "Leader's Objective Function:\n",
      "Variable names: [:y, :x]\n",
      "Expression (string): x - y\n",
      "Parsed expression: x - y\n",
      "Evaluation point: Dict{Any, Any}(\"x\" => 1.05, \"y\" => 2.85)\n",
      "Evaluation value: -1.8\n",
      "Is leader function: true\n",
      "------------------------------\n",
      "Leader's Restrictions:\n",
      "++++++++++++++++++++++++++++++\n",
      "Restriction 1\n",
      "Variable names: [:x]\n",
      "Expression (string): (-1 - x) == 0\n",
      "Parsed expression: 1.0499999999999998 - x\n",
      "Evaluation point: Dict{Any, Any}(\"x\" => 1.05, \"y\" => 2.85)\n",
      "Evaluation value: -2.05\n",
      "Additional constant: 2.05\n",
      "Restriction type: LtEq\n",
      "Restriction set type: J_0_g\n",
      "Value of miu: 0.24\n",
      "Value of beta: 0\n",
      "Value of lambda: 0\n",
      "Value of gamma: 0\n",
      "++++++++++++++++++++++++++++++\n",
      "++++++++++++++++++++++++++++++\n",
      "Restriction 2\n",
      "Variable names: [:x]\n",
      "Expression (string): (-1 + x) == 0\n",
      "Parsed expression: -1.05 + x\n",
      "Evaluation point: Dict{Any, Any}(\"x\" => 1.05, \"y\" => 2.85)\n",
      "Evaluation value: 0.050000000000000044\n",
      "Additional constant: -0.050000000000000044\n",
      "Restriction type: LtEq\n",
      "Restriction set type: J_0_g\n",
      "Value of miu: 0.72\n",
      "Value of beta: 0\n",
      "Value of lambda: 0\n",
      "Value of gamma: 0\n",
      "++++++++++++++++++++++++++++++\n",
      "------------------------------\n",
      "Follower's Objective Function:\n",
      "Variable names: [:y, :x]\n",
      "Expression (string): 0.5x*(y^2) - (x^3)*y\n",
      "Parsed expression: 0.5x*(y^2) - (x^3)*y\n",
      "Evaluation point: Dict{Any, Any}(\"x\" => 1.05, \"y\" => 2.85)\n",
      "Evaluation value: 0.9650812500000003\n",
      "Is leader function: false\n",
      "------------------------------\n",
      "Follower's Restrictions:\n",
      "++++++++++++++++++++++++++++++\n",
      "Restriction 1\n",
      "Variable names: [:y]\n",
      "Expression (string): (-1 + y) == 0\n",
      "Parsed expression: 0\n",
      "Evaluation point: Dict{Any, Any}(\"x\" => 1.05, \"y\" => 2.85)\n",
      "Evaluation value: -1\n",
      "Additional constant: 1\n",
      "Restriction type: LtEq\n",
      "Restriction set type: J_0_L0_v\n",
      "Value of miu: 0\n",
      "Value of beta: 0\n",
      "Value of lambda: 0.47\n",
      "Value of gamma: 0\n",
      "++++++++++++++++++++++++++++++\n",
      "++++++++++++++++++++++++++++++\n",
      "Restriction 2\n",
      "Variable names: [:y]\n",
      "Expression (string): (-1 - y) == 0\n",
      "Parsed expression: 0\n",
      "Evaluation point: Dict{Any, Any}(\"x\" => 1.05, \"y\" => 2.85)\n",
      "Evaluation value: -1\n",
      "Additional constant: 1\n",
      "Restriction type: LtEq\n",
      "Restriction set type: J_0_LP_v\n",
      "Value of miu: 0\n",
      "Value of beta: 0\n",
      "Value of lambda: 0.88\n",
      "Value of gamma: 0\n",
      "++++++++++++++++++++++++++++++\n",
      "------------------------------\n",
      "Evaluation Point:\n",
      "Dict{Any, Any}(\"x\" => 1.05, \"y\" => 2.85)\n",
      "------------------------------\n",
      "_\n",
      "\n",
      "Num[-0.45062500000000005, -1.3625000000000003]\n",
      "Va a retornar correctamente\n",
      "Leader's Objective Function:\n",
      "Variable names: [:y, :x]\n",
      "Expression (string): x - y\n",
      "Parsed expression: x - y\n",
      "Evaluation point: Dict{Any, Any}(\"x\" => 1.05, \"y\" => 2.85)\n",
      "Evaluation value: -1.8\n",
      "Is leader function: true\n",
      "------------------------------\n",
      "Leader's Restrictions:\n",
      "++++++++++++++++++++++++++++++\n",
      "Restriction 1\n",
      "Variable names: [:x]\n",
      "Expression (string): (-1 - x) == 0\n",
      "Parsed expression: 1.0499999999999998 - x\n",
      "Evaluation point: Dict{Any, Any}(\"x\" => 1.05, \"y\" => 2.85)\n",
      "Evaluation value: -2.05\n",
      "Additional constant: 2.05\n",
      "Restriction type: LtEq\n",
      "Restriction set type: J_0_g\n",
      "Value of miu: 0.24\n",
      "Value of beta: 0\n",
      "Value of lambda: 0\n",
      "Value of gamma: 0\n",
      "++++++++++++++++++++++++++++++\n",
      "++++++++++++++++++++++++++++++\n",
      "Restriction 2\n",
      "Variable names: [:x]\n",
      "Expression (string): (-1 + x) == 0\n",
      "Parsed expression: -1.05 + x\n",
      "Evaluation point: Dict{Any, Any}(\"x\" => 1.05, \"y\" => 2.85)\n",
      "Evaluation value: 0.050000000000000044\n",
      "Additional constant: -0.050000000000000044\n",
      "Restriction type: LtEq\n",
      "Restriction set type: J_0_g\n",
      "Value of miu: 0.72\n",
      "Value of beta: 0\n",
      "Value of lambda: 0\n",
      "Value of gamma: 0\n",
      "++++++++++++++++++++++++++++++\n",
      "------------------------------\n",
      "Follower's Objective Function:\n",
      "Variable names: [:y, :x]\n",
      "Expression (string): 0.5x*(y^2) - (x^3)*y\n",
      "Parsed expression: 0.5x*(y^2) - (x^3)*y\n",
      "Evaluation point: Dict{Any, Any}(\"x\" => 1.05, \"y\" => 2.85)\n",
      "Evaluation value: 0.9650812500000003\n",
      "Is leader function: false\n",
      "------------------------------\n",
      "Follower's Restrictions:\n",
      "++++++++++++++++++++++++++++++\n",
      "Restriction 1\n",
      "Variable names: [:y]\n",
      "Expression (string): (-1 + y) == 0\n",
      "Parsed expression: -2.85 + y\n",
      "Evaluation point: Dict{Any, Any}(\"x\" => 1.05, \"y\" => 2.85)\n",
      "Evaluation value: 1.85\n",
      "Additional constant: -1.85\n",
      "Restriction type: LtEq\n",
      "Restriction set type: J_0_L0_v\n",
      "Value of miu: 0\n",
      "Value of beta: 0\n",
      "Value of lambda: 0.47\n",
      "Value of gamma: 0\n",
      "++++++++++++++++++++++++++++++\n",
      "++++++++++++++++++++++++++++++\n",
      "Restriction 2\n",
      "Variable names: [:y]\n",
      "Expression (string): (-1 - y) == 0\n",
      "Parsed expression: 2.85 - y\n",
      "Evaluation point: Dict{Any, Any}(\"x\" => 1.05, \"y\" => 2.85)\n",
      "Evaluation value: -3.85\n",
      "Additional constant: 3.85\n",
      "Restriction type: LtEq\n",
      "Restriction set type: J_0_LP_v\n",
      "Value of miu: 0\n",
      "Value of beta: 0\n",
      "Value of lambda: 0.88\n",
      "Value of gamma: 0\n",
      "++++++++++++++++++++++++++++++\n",
      "------------------------------\n",
      "Evaluation Point:\n",
      "Dict{Any, Any}(\"x\" => 1.05, \"y\" => 2.85)\n",
      "------------------------------\n",
      "_\n",
      "\n",
      "Num[-1.48, 1.0]\n",
      "Se va a crear el DataFrame\n",
      "Se va a crear el DataFrame\n",
      "Carpeta creada: d:\\GitHub\\Tesis\\experiment\\nonconvex\\MitsosBarton2006Ex313\\Experimentos_Generador\n",
      "Se va a crear el DataFrame\n",
      "La carpeta ya existe: d:\\GitHub\\Tesis\\experiment\\nonconvex\\MitsosBarton2006Ex313\\Experimentos_Generador\n",
      "Experimento Completado\n",
      "Va a retornar correctamente\n",
      "Leader's Objective Function:\n",
      "Variable names: [:y, :x]\n",
      "Expression (string): x - y\n",
      "Parsed expression: x - y\n",
      "Evaluation point: Dict{Any, Any}(\"x\" => 1.05, \"y\" => 2.85)\n",
      "Evaluation value: -1.8\n",
      "Is leader function: true\n",
      "------------------------------\n",
      "Leader's Restrictions:\n",
      "++++++++++++++++++++++++++++++\n",
      "Restriction 1\n",
      "Variable names: [:x]\n",
      "Expression (string): (-1 - x) == 0\n",
      "Parsed expression: 1.0499999999999998 - x\n",
      "Evaluation point: Dict{Any, Any}(\"x\" => 1.05, \"y\" => 2.85)\n",
      "Evaluation value: -2.05\n",
      "Additional constant: 2.05\n",
      "Restriction type: LtEq\n",
      "Restriction set type: J_0_g\n",
      "Value of miu: 0.24\n",
      "Value of beta: 0\n",
      "Value of lambda: 0\n",
      "Value of gamma: 0\n",
      "++++++++++++++++++++++++++++++\n",
      "++++++++++++++++++++++++++++++\n",
      "Restriction 2\n",
      "Variable names: [:x]\n",
      "Expression (string): (-1 + x) == 0\n",
      "Parsed expression: -1.05 + x\n",
      "Evaluation point: Dict{Any, Any}(\"x\" => 1.05, \"y\" => 2.85)\n",
      "Evaluation value: 0.050000000000000044\n",
      "Additional constant: -0.050000000000000044\n",
      "Restriction type: LtEq\n",
      "Restriction set type: J_0_g\n",
      "Value of miu: 0.72\n",
      "Value of beta: 0\n",
      "Value of lambda: 0\n",
      "Value of gamma: 0\n",
      "++++++++++++++++++++++++++++++\n",
      "------------------------------\n",
      "Follower's Objective Function:\n",
      "Variable names: [:y, :x]\n",
      "Expression (string): 0.5x*(y^2) - (x^3)*y\n",
      "Parsed expression: 0.5x*(y^2) - (x^3)*y\n",
      "Evaluation point: Dict{Any, Any}(\"x\" => 1.05, \"y\" => 2.85)\n",
      "Evaluation value: 0.9650812500000003\n",
      "Is leader function: false\n",
      "------------------------------\n",
      "Follower's Restrictions:\n",
      "++++++++++++++++++++++++++++++\n",
      "Restriction 1\n",
      "Variable names: [:y]\n",
      "Expression (string): (-1 + y) == 0\n",
      "Parsed expression: 0\n",
      "Evaluation point: Dict{Any, Any}(\"x\" => 1.05, \"y\" => 2.85)\n",
      "Evaluation value: -1\n",
      "Additional constant: 1\n",
      "Restriction type: LtEq\n",
      "Restriction set type: J_0_L0_v\n",
      "Value of miu: 0\n",
      "Value of beta: 3.1\n",
      "Value of lambda: 0.47\n",
      "Value of gamma: 0\n",
      "++++++++++++++++++++++++++++++\n",
      "++++++++++++++++++++++++++++++\n",
      "Restriction 2\n",
      "Variable names: [:y]\n",
      "Expression (string): (-1 - y) == 0\n",
      "Parsed expression: 0\n",
      "Evaluation point: Dict{Any, Any}(\"x\" => 1.05, \"y\" => 2.85)\n",
      "Evaluation value: -1\n",
      "Additional constant: 1\n",
      "Restriction type: LtEq\n",
      "Restriction set type: J_0_LP_v\n",
      "Value of miu: 0\n",
      "Value of beta: 0\n",
      "Value of lambda: 0.88\n",
      "Value of gamma: 6.0\n",
      "++++++++++++++++++++++++++++++\n",
      "------------------------------\n",
      "Evaluation Point:\n",
      "Dict{Any, Any}(\"x\" => 1.05, \"y\" => 2.85)\n",
      "------------------------------\n",
      "_\n",
      "\n",
      "Num[-0.12122500000000014, -2.1185]\n",
      "Va a retornar correctamente\n",
      "Leader's Objective Function:\n",
      "Variable names: [:y, :x]\n",
      "Expression (string): x - y\n",
      "Parsed expression: x - y\n",
      "Evaluation point: Dict{Any, Any}(\"x\" => 1.05, \"y\" => 2.85)\n",
      "Evaluation value: -1.8\n",
      "Is leader function: true\n",
      "------------------------------\n",
      "Leader's Restrictions:\n",
      "++++++++++++++++++++++++++++++\n",
      "Restriction 1\n",
      "Variable names: [:x]\n",
      "Expression (string): (-1 - x) == 0\n",
      "Parsed expression: 1.0499999999999998 - x\n",
      "Evaluation point: Dict{Any, Any}(\"x\" => 1.05, \"y\" => 2.85)\n",
      "Evaluation value: -2.05\n",
      "Additional constant: 2.05\n",
      "Restriction type: LtEq\n",
      "Restriction set type: J_0_g\n",
      "Value of miu: 0.24\n",
      "Value of beta: 0\n",
      "Value of lambda: 0\n",
      "Value of gamma: 0\n",
      "++++++++++++++++++++++++++++++\n",
      "++++++++++++++++++++++++++++++\n",
      "Restriction 2\n",
      "Variable names: [:x]\n",
      "Expression (string): (-1 + x) == 0\n",
      "Parsed expression: -1.05 + x\n",
      "Evaluation point: Dict{Any, Any}(\"x\" => 1.05, \"y\" => 2.85)\n",
      "Evaluation value: 0.050000000000000044\n",
      "Additional constant: -0.050000000000000044\n",
      "Restriction type: LtEq\n",
      "Restriction set type: J_0_g\n",
      "Value of miu: 0.72\n",
      "Value of beta: 0\n",
      "Value of lambda: 0\n",
      "Value of gamma: 0\n",
      "++++++++++++++++++++++++++++++\n",
      "------------------------------\n",
      "Follower's Objective Function:\n",
      "Variable names: [:y, :x]\n",
      "Expression (string): 0.5x*(y^2) - (x^3)*y\n",
      "Parsed expression: 0.5x*(y^2) - (x^3)*y\n",
      "Evaluation point: Dict{Any, Any}(\"x\" => 1.05, \"y\" => 2.85)\n",
      "Evaluation value: 0.9650812500000003\n",
      "Is leader function: false\n",
      "------------------------------\n",
      "Follower's Restrictions:\n",
      "++++++++++++++++++++++++++++++\n",
      "Restriction 1\n",
      "Variable names: [:y]\n",
      "Expression (string): (-1 + y) == 0\n",
      "Parsed expression: -2.85 + y\n",
      "Evaluation point: Dict{Any, Any}(\"x\" => 1.05, \"y\" => 2.85)\n",
      "Evaluation value: 1.85\n",
      "Additional constant: -1.85\n",
      "Restriction type: LtEq\n",
      "Restriction set type: J_0_L0_v\n",
      "Value of miu: 0\n",
      "Value of beta: 0\n",
      "Value of lambda: 0.47\n",
      "Value of gamma: 7.9\n",
      "++++++++++++++++++++++++++++++\n",
      "++++++++++++++++++++++++++++++\n",
      "Restriction 2\n",
      "Variable names: [:y]\n",
      "Expression (string): (-1 - y) == 0\n",
      "Parsed expression: 2.85 - y\n",
      "Evaluation point: Dict{Any, Any}(\"x\" => 1.05, \"y\" => 2.85)\n",
      "Evaluation value: -3.85\n",
      "Additional constant: 3.85\n",
      "Restriction type: LtEq\n",
      "Restriction set type: J_0_LP_v\n",
      "Value of miu: 0\n",
      "Value of beta: 0\n",
      "Value of lambda: 0.88\n",
      "Value of gamma: 7.9\n",
      "++++++++++++++++++++++++++++++\n",
      "------------------------------\n",
      "Evaluation Point:\n",
      "Dict{Any, Any}(\"x\" => 1.05, \"y\" => 2.85)\n",
      "------------------------------\n",
      "_\n",
      "\n",
      "Num[-1.48, 1.0]\n",
      "Se va a crear el DataFrame\n",
      "Se va a crear el DataFrame\n",
      "La carpeta ya existe: d:\\GitHub\\Tesis\\experiment\\nonconvex\\MitsosBarton2006Ex313\\Experimentos_Generador\n",
      "Se va a crear el DataFrame\n",
      "La carpeta ya existe: d:\\GitHub\\Tesis\\experiment\\nonconvex\\MitsosBarton2006Ex313\\Experimentos_Generador\n",
      "Experimento Completado\n",
      "Va a retornar correctamente\n",
      "Leader's Objective Function:\n",
      "Variable names: [:y, :x]\n",
      "Expression (string): x - y\n",
      "Parsed expression: x - y\n",
      "Evaluation point: Dict{Any, Any}(\"x\" => 1.05, \"y\" => 2.85)\n",
      "Evaluation value: -1.8\n",
      "Is leader function: true\n",
      "------------------------------\n",
      "Leader's Restrictions:\n",
      "++++++++++++++++++++++++++++++\n",
      "Restriction 1\n",
      "Variable names: [:x]\n",
      "Expression (string): (-1 - x) == 0\n",
      "Parsed expression: 1.0499999999999998 - x\n",
      "Evaluation point: Dict{Any, Any}(\"x\" => 1.05, \"y\" => 2.85)\n",
      "Evaluation value: -2.05\n",
      "Additional constant: 2.05\n",
      "Restriction type: LtEq\n",
      "Restriction set type: J_0_g\n",
      "Value of miu: 0.24\n",
      "Value of beta: 0\n",
      "Value of lambda: 0\n",
      "Value of gamma: 0\n",
      "++++++++++++++++++++++++++++++\n",
      "++++++++++++++++++++++++++++++\n",
      "Restriction 2\n",
      "Variable names: [:x]\n",
      "Expression (string): (-1 + x) == 0\n",
      "Parsed expression: -1.05 + x\n",
      "Evaluation point: Dict{Any, Any}(\"x\" => 1.05, \"y\" => 2.85)\n",
      "Evaluation value: 0.050000000000000044\n",
      "Additional constant: -0.050000000000000044\n",
      "Restriction type: LtEq\n",
      "Restriction set type: J_0_g\n",
      "Value of miu: 0.72\n",
      "Value of beta: 0\n",
      "Value of lambda: 0\n",
      "Value of gamma: 0\n",
      "++++++++++++++++++++++++++++++\n",
      "------------------------------\n",
      "Follower's Objective Function:\n",
      "Variable names: [:y, :x]\n",
      "Expression (string): 0.5x*(y^2) - (x^3)*y\n",
      "Parsed expression: 0.5x*(y^2) - (x^3)*y\n",
      "Evaluation point: Dict{Any, Any}(\"x\" => 1.05, \"y\" => 2.85)\n",
      "Evaluation value: 0.9650812500000003\n",
      "Is leader function: false\n",
      "------------------------------\n",
      "Follower's Restrictions:\n",
      "++++++++++++++++++++++++++++++\n",
      "Restriction 1\n",
      "Variable names: [:y]\n",
      "Expression (string): (-1 + y) == 0\n",
      "Parsed expression: -1 + 0.3508771929824561y\n",
      "Evaluation point: Dict{Any, Any}(\"x\" => 1.05, \"y\" => 2.85)\n",
      "Evaluation value: 0.0\n",
      "Additional constant: -0.0\n",
      "Restriction type: LtEq\n",
      "Restriction set type: J_0_L0_v\n",
      "Value of miu: 0\n",
      "Value of beta: 3.1\n",
      "Value of lambda: 0.47\n",
      "Value of gamma: 0.6\n",
      "++++++++++++++++++++++++++++++\n",
      "++++++++++++++++++++++++++++++\n",
      "Restriction 2\n",
      "Variable names: [:y]\n",
      "Expression (string): (-1 - y) == 0\n",
      "Parsed expression: -6.661338147750939e-16 + 2.220446049250313e-16y\n",
      "Evaluation point: Dict{Any, Any}(\"x\" => 1.05, \"y\" => 2.85)\n",
      "Evaluation value: -0.9999999999999993\n",
      "Additional constant: 0.9999999999999993\n",
      "Restriction type: LtEq\n",
      "Restriction set type: J_0_LP_v\n",
      "Value of miu: 0\n",
      "Value of beta: 5.8999999999999995\n",
      "Value of lambda: 0.88\n",
      "Value of gamma: 5.699999999999999\n",
      "++++++++++++++++++++++++++++++\n",
      "------------------------------\n",
      "Evaluation Point:\n",
      "Dict{Any, Any}(\"x\" => 1.05, \"y\" => 2.85)\n",
      "------------------------------\n",
      "_\n",
      "\n",
      "Num[-0.6976749999999999, -1.8832192982456155]\n",
      "Va a retornar correctamente\n",
      "Leader's Objective Function:\n",
      "Variable names: [:y, :x]\n",
      "Expression (string): x - y\n",
      "Parsed expression: x - y\n",
      "Evaluation point: Dict{Any, Any}(\"x\" => 1.05, \"y\" => 2.85)\n",
      "Evaluation value: -1.8\n",
      "Is leader function: true\n",
      "------------------------------\n",
      "Leader's Restrictions:\n",
      "++++++++++++++++++++++++++++++\n",
      "Restriction 1\n",
      "Variable names: [:x]\n",
      "Expression (string): (-1 - x) == 0\n",
      "Parsed expression: 1.0499999999999998 - x\n",
      "Evaluation point: Dict{Any, Any}(\"x\" => 1.05, \"y\" => 2.85)\n",
      "Evaluation value: -2.05\n",
      "Additional constant: 2.05\n",
      "Restriction type: LtEq\n",
      "Restriction set type: J_0_g\n",
      "Value of miu: 0.24\n",
      "Value of beta: 0\n",
      "Value of lambda: 0\n",
      "Value of gamma: 0\n",
      "++++++++++++++++++++++++++++++\n",
      "++++++++++++++++++++++++++++++\n",
      "Restriction 2\n",
      "Variable names: [:x]\n",
      "Expression (string): (-1 + x) == 0\n",
      "Parsed expression: -1.05 + x\n",
      "Evaluation point: Dict{Any, Any}(\"x\" => 1.05, \"y\" => 2.85)\n",
      "Evaluation value: 0.050000000000000044\n",
      "Additional constant: -0.050000000000000044\n",
      "Restriction type: LtEq\n",
      "Restriction set type: J_0_g\n",
      "Value of miu: 0.72\n",
      "Value of beta: 0\n",
      "Value of lambda: 0\n",
      "Value of gamma: 0\n",
      "++++++++++++++++++++++++++++++\n",
      "------------------------------\n",
      "Follower's Objective Function:\n",
      "Variable names: [:y, :x]\n",
      "Expression (string): 0.5x*(y^2) - (x^3)*y\n",
      "Parsed expression: 0.5x*(y^2) - (x^3)*y\n",
      "Evaluation point: Dict{Any, Any}(\"x\" => 1.05, \"y\" => 2.85)\n",
      "Evaluation value: 0.9650812500000003\n",
      "Is leader function: false\n",
      "------------------------------\n",
      "Follower's Restrictions:\n",
      "++++++++++++++++++++++++++++++\n",
      "Restriction 1\n",
      "Variable names: [:y]\n",
      "Expression (string): (-1 + y) == 0\n",
      "Parsed expression: -2.85 + y\n",
      "Evaluation point: Dict{Any, Any}(\"x\" => 1.05, \"y\" => 2.85)\n",
      "Evaluation value: 1.85\n",
      "Additional constant: -1.85\n",
      "Restriction type: LtEq\n",
      "Restriction set type: J_0_L0_v\n",
      "Value of miu: 0\n",
      "Value of beta: 1.3\n",
      "Value of lambda: 0.47\n",
      "Value of gamma: 1.4000000000000001\n",
      "++++++++++++++++++++++++++++++\n",
      "++++++++++++++++++++++++++++++\n",
      "Restriction 2\n",
      "Variable names: [:y]\n",
      "Expression (string): (-1 - y) == 0\n",
      "Parsed expression: 2.85 - y\n",
      "Evaluation point: Dict{Any, Any}(\"x\" => 1.05, \"y\" => 2.85)\n",
      "Evaluation value: -3.85\n",
      "Additional constant: 3.85\n",
      "Restriction type: LtEq\n",
      "Restriction set type: J_0_LP_v\n",
      "Value of miu: 0\n",
      "Value of beta: 1.6\n",
      "Value of lambda: 0.88\n",
      "Value of gamma: 6.7\n",
      "++++++++++++++++++++++++++++++\n",
      "------------------------------\n",
      "Evaluation Point:\n",
      "Dict{Any, Any}(\"x\" => 1.05, \"y\" => 2.85)\n",
      "------------------------------\n",
      "_\n",
      "\n",
      "Num[-1.48, 1.3]\n",
      "Se va a crear el DataFrame\n",
      "Se va a crear el DataFrame\n",
      "La carpeta ya existe: d:\\GitHub\\Tesis\\experiment\\nonconvex\\MitsosBarton2006Ex313\\Experimentos_Generador\n",
      "Se va a crear el DataFrame\n",
      "La carpeta ya existe: d:\\GitHub\\Tesis\\experiment\\nonconvex\\MitsosBarton2006Ex313\\Experimentos_Generador\n",
      "Experimento Completado\n",
      "Finilizado el experimento completo\n"
     ]
    }
   ],
   "source": [
    "RunExperiment(experiment,\"MitsosBarton2006Ex313\",true)"
   ]
  },
  {
   "cell_type": "code",
   "execution_count": 14,
   "metadata": {},
   "outputs": [],
   "source": []
  }
 ],
 "metadata": {
  "kernelspec": {
   "display_name": "Julia 1.11.3",
   "language": "julia",
   "name": "julia-1.11"
  },
  "language_info": {
   "file_extension": ".jl",
   "mimetype": "application/julia",
   "name": "julia",
   "version": "1.11.3"
  }
 },
 "nbformat": 4,
 "nbformat_minor": 2
}
