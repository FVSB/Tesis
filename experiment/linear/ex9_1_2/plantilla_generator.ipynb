{
 "cells": [
  {
   "cell_type": "markdown",
   "metadata": {},
   "source": [
    "## Importar el módulo\n"
   ]
  },
  {
   "cell_type": "code",
   "execution_count": 1,
   "metadata": {},
   "outputs": [
    {
     "data": {
      "text/plain": [
       "RunExperiment"
      ]
     },
     "metadata": {},
     "output_type": "display_data"
    }
   ],
   "source": [
    "include(\"../../new_experiment.jl\")"
   ]
  },
  {
   "cell_type": "code",
   "execution_count": 2,
   "metadata": {},
   "outputs": [
    {
     "data": {
      "text/plain": [
       "TaskLocalRNG()"
      ]
     },
     "metadata": {},
     "output_type": "display_data"
    }
   ],
   "source": [
    "using Random\n",
    "\n",
    "# Random seed\n",
    "Random.seed!(2)"
   ]
  },
  {
   "cell_type": "markdown",
   "metadata": {},
   "source": [
    "Crear un experimento\n"
   ]
  },
  {
   "cell_type": "code",
   "execution_count": 3,
   "metadata": {},
   "outputs": [
    {
     "data": {
      "text/plain": [
       "Experiment(OptimizationModel(Problem(Any[], nothing), LeaderRestrictionProblem[], Problem(Any[], nothing), FollowerRestrictionProblem[], Dict{Any, Any}(), Number[1], false), OptimizationModel(Problem(Any[], nothing), LeaderRestrictionProblem[], Problem(Any[], nothing), FollowerRestrictionProblem[], Dict{Any, Any}(), Number[], true), Any[], Any[])"
      ]
     },
     "metadata": {},
     "output_type": "display_data"
    }
   ],
   "source": [
    "experiment=CreateExperiment()"
   ]
  },
  {
   "cell_type": "markdown",
   "metadata": {},
   "source": [
    "### Declarar variables del líder\n"
   ]
  },
  {
   "cell_type": "code",
   "execution_count": 4,
   "metadata": {},
   "outputs": [
    {
     "data": {
      "text/latex": [
       "$$ \\begin{equation}\n",
       "\\left[\n",
       "\\begin{array}{c}\n",
       "x \\\\\n",
       "\\end{array}\n",
       "\\right]\n",
       "\\end{equation}\n",
       " $$"
      ],
      "text/plain": [
       "1-element Vector{Num}:\n",
       " x"
      ]
     },
     "metadata": {},
     "output_type": "display_data"
    }
   ],
   "source": [
    "@leader_vars experiment x"
   ]
  },
  {
   "cell_type": "markdown",
   "metadata": {},
   "source": [
    "### Declarar Variables del Follower"
   ]
  },
  {
   "cell_type": "code",
   "execution_count": 5,
   "metadata": {},
   "outputs": [
    {
     "data": {
      "text/latex": [
       "$$ \\begin{equation}\n",
       "\\left[\n",
       "\\begin{array}{c}\n",
       "y \\\\\n",
       "\\end{array}\n",
       "\\right]\n",
       "\\end{equation}\n",
       " $$"
      ],
      "text/plain": [
       "1-element Vector{Num}:\n",
       " y"
      ]
     },
     "metadata": {},
     "output_type": "display_data"
    }
   ],
   "source": [
    "@follower_vars experiment y"
   ]
  },
  {
   "cell_type": "markdown",
   "metadata": {},
   "source": [
    "### Declarar Función Objetivo del Líder"
   ]
  },
  {
   "cell_type": "code",
   "execution_count": 6,
   "metadata": {},
   "outputs": [
    {
     "data": {
      "text/latex": [
       "$$ \\begin{equation}\n",
       " - x - 3 y\n",
       "\\end{equation}\n",
       " $$"
      ],
      "text/plain": [
       "-x - 3y"
      ]
     },
     "metadata": {},
     "output_type": "display_data"
    }
   ],
   "source": [
    "SetLeaderFunction(experiment,-x-3y)"
   ]
  },
  {
   "cell_type": "markdown",
   "metadata": {},
   "source": [
    "### Función objetivo del Follower"
   ]
  },
  {
   "cell_type": "code",
   "execution_count": 7,
   "metadata": {},
   "outputs": [
    {
     "data": {
      "text/latex": [
       "$$ \\begin{equation}\n",
       "y\n",
       "\\end{equation}\n",
       " $$"
      ],
      "text/plain": [
       "y"
      ]
     },
     "metadata": {},
     "output_type": "display_data"
    }
   ],
   "source": [
    "SetFollowerFunction(experiment,y)"
   ]
  },
  {
   "cell_type": "markdown",
   "metadata": {},
   "source": [
    "### Restricciones del Follower\n"
   ]
  },
  {
   "cell_type": "code",
   "execution_count": 8,
   "metadata": {},
   "outputs": [
    {
     "data": {
      "text/plain": [
       "1-element Vector{FollowerRestrictionProblem}:\n",
       " FollowerRestrictionProblem((-y) <= 0, J_0_LP_v, 0.0, 0.68, 0.74)"
      ]
     },
     "metadata": {},
     "output_type": "display_data"
    }
   ],
   "source": [
    "SetFollowerRestriction(experiment,-y<=0)"
   ]
  },
  {
   "cell_type": "code",
   "execution_count": 9,
   "metadata": {},
   "outputs": [
    {
     "data": {
      "text/plain": [
       "2-element Vector{FollowerRestrictionProblem}:\n",
       " FollowerRestrictionProblem((-y) <= 0, J_0_LP_v, 0.0, 0.68, 0.74)\n",
       " FollowerRestrictionProblem((-x + y) <= 3, J_0_LP_v, 0.81, 0.24, 0.87)"
      ]
     },
     "metadata": {},
     "output_type": "display_data"
    }
   ],
   "source": [
    "SetFollowerRestriction(experiment,-x+y<=3)"
   ]
  },
  {
   "cell_type": "code",
   "execution_count": 10,
   "metadata": {},
   "outputs": [
    {
     "data": {
      "text/plain": [
       "3-element Vector{FollowerRestrictionProblem}:\n",
       " FollowerRestrictionProblem((-y) <= 0, J_0_LP_v, 0.0, 0.68, 0.74)\n",
       " FollowerRestrictionProblem((-x + y) <= 3, J_0_LP_v, 0.81, 0.24, 0.87)\n",
       " FollowerRestrictionProblem((x + 2y) <= 12, J_0_LP_v, 0.66, 0.44, 0.76)"
      ]
     },
     "metadata": {},
     "output_type": "display_data"
    }
   ],
   "source": [
    "SetFollowerRestriction(experiment,x+2y<=12)"
   ]
  },
  {
   "cell_type": "code",
   "execution_count": 11,
   "metadata": {},
   "outputs": [
    {
     "data": {
      "text/plain": [
       "4-element Vector{FollowerRestrictionProblem}:\n",
       " FollowerRestrictionProblem((-y) <= 0, J_0_LP_v, 0.0, 0.68, 0.74)\n",
       " FollowerRestrictionProblem((-x + y) <= 3, J_0_LP_v, 0.81, 0.24, 0.87)\n",
       " FollowerRestrictionProblem((x + 2y) <= 12, J_0_LP_v, 0.66, 0.44, 0.76)\n",
       " FollowerRestrictionProblem((4x - y) <= 12, J_0_LP_v, 0.73, 1.0, 0.74)"
      ]
     },
     "metadata": {},
     "output_type": "display_data"
    }
   ],
   "source": [
    "SetFollowerRestriction(experiment,4x-y<=12)"
   ]
  },
  {
   "cell_type": "markdown",
   "metadata": {},
   "source": [
    "### Poner el Punto Optimo"
   ]
  },
  {
   "cell_type": "code",
   "execution_count": 12,
   "metadata": {},
   "outputs": [
    {
     "data": {
      "text/plain": [
       "Dict{Any, Any} with 2 entries:\n",
       "  y => 8.95\n",
       "  x => 7.0"
      ]
     },
     "metadata": {},
     "output_type": "display_data"
    }
   ],
   "source": [
    "SetPoint(experiment,Dict(x=>4,y=>4))"
   ]
  },
  {
   "cell_type": "markdown",
   "metadata": {},
   "source": [
    "## Iniciar el Experimento\n"
   ]
  },
  {
   "cell_type": "code",
   "execution_count": 13,
   "metadata": {},
   "outputs": [
    {
     "name": "stdout",
     "output_type": "stream",
     "text": [
      "Va a retornar correctamente\n",
      "Leader's Objective Function:\n",
      "Variable names: [:y, :x]\n",
      "Expression (string): -x - 3y\n",
      "Parsed expression: -x - 3y\n",
      "Evaluation point: Dict{Any, Any}(\"x\" => 7.0, \"y\" => 8.95)\n",
      "Evaluation value: -33.849999999999994\n",
      "Is leader function: true\n",
      "------------------------------\n",
      "Leader's Restrictions:\n",
      "------------------------------\n",
      "Follower's Objective Function:\n",
      "Variable names: [:y]\n",
      "Expression (string): y\n",
      "Parsed expression: y\n",
      "Evaluation point: Dict{Any, Any}(\"x\" => 7.0, \"y\" => 8.95)\n",
      "Evaluation value: 8.95\n",
      "Is leader function: false\n",
      "------------------------------\n",
      "Follower's Restrictions:\n",
      "++++++++++++++++++++++++++++++\n",
      "Restriction 1\n",
      "Variable names: [:y]\n",
      "Expression (string): (-y) == 0\n",
      "Parsed expression: 63.49145299145298 - 7.094017094017094y\n",
      "Evaluation point: Dict{Any, Any}(\"x\" => 7.0, \"y\" => 8.95)\n",
      "Evaluation value: -63.49145299145298\n",
      "Additional constant: 63.49145299145298\n",
      "Restriction type: LtEq\n",
      "Restriction set type: J_0_L0_v\n",
      "Value of miu: 0\n",
      "Value of beta: -8.4\n",
      "Value of lambda: 0.68\n",
      "Value of gamma: -8.299999999999999\n",
      "++++++++++++++++++++++++++++++\n",
      "++++++++++++++++++++++++++++++\n",
      "Restriction 2\n",
      "Variable names: [:y, :x]\n",
      "Expression (string): (-x + y) == 3\n",
      "Parsed expression: 7.0 - x\n",
      "Evaluation point: Dict{Any, Any}(\"x\" => 7.0, \"y\" => 8.95)\n",
      "Evaluation value: -10.0\n",
      "Additional constant: 10.0\n",
      "Restriction type: LtEq\n",
      "Restriction set type: J_0_L0_v\n",
      "Value of miu: 0\n",
      "Value of beta: 0\n",
      "Value of lambda: 0.24\n",
      "Value of gamma: 0\n",
      "++++++++++++++++++++++++++++++\n",
      "++++++++++++++++++++++++++++++\n",
      "Restriction 3\n",
      "Variable names: [:y, :x]\n",
      "Expression (string): (x + 2y) == 12\n",
      "Parsed expression: -7.0 + x\n",
      "Evaluation point: Dict{Any, Any}(\"x\" => 7.0, \"y\" => 8.95)\n",
      "Evaluation value: -5.0\n",
      "Additional constant: 5.0\n",
      "Restriction type: LtEq\n",
      "Restriction set type: J_0_LP_v\n",
      "Value of miu: 0\n",
      "Value of beta: 0\n",
      "Value of lambda: 0.44\n",
      "Value of gamma: 0\n",
      "++++++++++++++++++++++++++++++\n",
      "++++++++++++++++++++++++++++++\n",
      "Restriction 4\n",
      "Variable names: [:y, :x]\n",
      "Expression (string): (4x - y) == 12\n",
      "Parsed expression: -28.82 + 4x\n",
      "Evaluation point: Dict{Any, Any}(\"x\" => 7.0, \"y\" => 8.95)\n",
      "Evaluation value: 16.0\n",
      "Additional constant: -16.82\n",
      "Restriction type: LtEq\n",
      "Restriction set type: J_Ne_L0_v\n",
      "Value of miu: 0\n",
      "Value of beta: 0\n",
      "Value of lambda: 1.0\n",
      "Value of gamma: 0\n",
      "++++++++++++++++++++++++++++++\n",
      "------------------------------\n",
      "Evaluation Point:\n",
      "Dict{Any, Any}(\"x\" => 7.0, \"y\" => 8.95)\n",
      "------------------------------\n",
      "_\n",
      "\n",
      "Num[1.0, -56.58974358974359]\n",
      "Va a retornar correctamente\n",
      "Leader's Objective Function:\n",
      "Variable names: [:y, :x]\n",
      "Expression (string): -x - 3y\n",
      "Parsed expression: -x - 3y\n",
      "Evaluation point: Dict{Any, Any}(\"x\" => 7.0, \"y\" => 8.95)\n",
      "Evaluation value: -33.849999999999994\n",
      "Is leader function: true\n",
      "------------------------------\n",
      "Leader's Restrictions:\n",
      "------------------------------\n",
      "Follower's Objective Function:\n",
      "Variable names: [:y]\n",
      "Expression (string): y\n",
      "Parsed expression: y\n",
      "Evaluation point: Dict{Any, Any}(\"x\" => 7.0, \"y\" => 8.95)\n",
      "Evaluation value: 8.95\n",
      "Is leader function: false\n",
      "------------------------------\n",
      "Follower's Restrictions:\n",
      "++++++++++++++++++++++++++++++\n",
      "Restriction 1\n",
      "Variable names: [:y]\n",
      "Expression (string): (-y) == 0\n",
      "Parsed expression: 8.95 - y\n",
      "Evaluation point: Dict{Any, Any}(\"x\" => 7.0, \"y\" => 8.95)\n",
      "Evaluation value: -8.95\n",
      "Additional constant: 8.95\n",
      "Restriction type: LtEq\n",
      "Restriction set type: J_0_L0_v\n",
      "Value of miu: 0\n",
      "Value of beta: 0\n",
      "Value of lambda: 0.68\n",
      "Value of gamma: 0\n",
      "++++++++++++++++++++++++++++++\n",
      "++++++++++++++++++++++++++++++\n",
      "Restriction 2\n",
      "Variable names: [:y, :x]\n",
      "Expression (string): (-x + y) == 3\n",
      "Parsed expression: -1.9499999999999993 - x + y\n",
      "Evaluation point: Dict{Any, Any}(\"x\" => 7.0, \"y\" => 8.95)\n",
      "Evaluation value: -1.0500000000000007\n",
      "Additional constant: 1.0500000000000007\n",
      "Restriction type: LtEq\n",
      "Restriction set type: J_0_L0_v\n",
      "Value of miu: 0\n",
      "Value of beta: 0\n",
      "Value of lambda: 0.24\n",
      "Value of gamma: 0\n",
      "++++++++++++++++++++++++++++++\n",
      "++++++++++++++++++++++++++++++\n",
      "Restriction 3\n",
      "Variable names: [:y, :x]\n",
      "Expression (string): (x + 2y) == 12\n",
      "Parsed expression: -24.9 + x + 2y\n",
      "Evaluation point: Dict{Any, Any}(\"x\" => 7.0, \"y\" => 8.95)\n",
      "Evaluation value: 12.899999999999999\n",
      "Additional constant: -12.899999999999999\n",
      "Restriction type: LtEq\n",
      "Restriction set type: J_0_LP_v\n",
      "Value of miu: 0\n",
      "Value of beta: 0\n",
      "Value of lambda: 0.44\n",
      "Value of gamma: 0\n",
      "++++++++++++++++++++++++++++++\n",
      "++++++++++++++++++++++++++++++\n",
      "Restriction 4\n",
      "Variable names: [:y, :x]\n",
      "Expression (string): (4x - y) == 12\n",
      "Parsed expression: -19.130000000000003 + 4x - y\n",
      "Evaluation point: Dict{Any, Any}(\"x\" => 7.0, \"y\" => 8.95)\n",
      "Evaluation value: 7.050000000000001\n",
      "Additional constant: -7.130000000000001\n",
      "Restriction type: LtEq\n",
      "Restriction set type: J_Ne_L0_v\n",
      "Value of miu: 0\n",
      "Value of beta: 0\n",
      "Value of lambda: 1.0\n",
      "Value of gamma: 0\n",
      "++++++++++++++++++++++++++++++\n",
      "------------------------------\n",
      "Evaluation Point:\n",
      "Dict{Any, Any}(\"x\" => 7.0, \"y\" => 8.95)\n",
      "------------------------------\n",
      "_\n",
      "\n",
      "Num[1.0, 3.0]\n",
      "Se va a crear el DataFrame\n",
      "Se va a crear el DataFrame\n",
      "Carpeta creada: d:\\GitHub\\Tesis\\experiment\\linear\\ex9.1.2\\Experimentos_Generador\n",
      "Se va a crear el DataFrame\n",
      "La carpeta ya existe: d:\\GitHub\\Tesis\\experiment\\linear\\ex9.1.2\\Experimentos_Generador\n",
      "Experimento Completado\n",
      "Va a retornar correctamente\n",
      "Leader's Objective Function:\n",
      "Variable names: [:y, :x]\n",
      "Expression (string): -x - 3y\n",
      "Parsed expression: -x - 3y\n",
      "Evaluation point: Dict{Any, Any}(\"x\" => 7.0, \"y\" => 8.95)\n",
      "Evaluation value: -33.849999999999994\n",
      "Is leader function: true\n",
      "------------------------------\n",
      "Leader's Restrictions:\n",
      "------------------------------\n",
      "Follower's Objective Function:\n",
      "Variable names: [:y]\n",
      "Expression (string): y\n",
      "Parsed expression: y\n",
      "Evaluation point: Dict{Any, Any}(\"x\" => 7.0, \"y\" => 8.95)\n",
      "Evaluation value: 8.95\n",
      "Is leader function: false\n",
      "------------------------------\n",
      "Follower's Restrictions:\n",
      "++++++++++++++++++++++++++++++\n",
      "Restriction 1\n",
      "Variable names: [:y]\n",
      "Expression (string): (-y) == 0\n",
      "Parsed expression: -11.270370370370367 + 1.259259259259259y\n",
      "Evaluation point: Dict{Any, Any}(\"x\" => 7.0, \"y\" => 8.95)\n",
      "Evaluation value: 11.270370370370367\n",
      "Additional constant: -11.270370370370367\n",
      "Restriction type: LtEq\n",
      "Restriction set type: J_0_L0_v\n",
      "Value of miu: 0\n",
      "Value of beta: 0\n",
      "Value of lambda: 0.68\n",
      "Value of gamma: 1.7000000000000002\n",
      "++++++++++++++++++++++++++++++\n",
      "++++++++++++++++++++++++++++++\n",
      "Restriction 2\n",
      "Variable names: [:y, :x]\n",
      "Expression (string): (-x + y) == 3\n",
      "Parsed expression: -0.9555555555555548 - x + 0.8888888888888888y\n",
      "Evaluation point: Dict{Any, Any}(\"x\" => 7.0, \"y\" => 8.95)\n",
      "Evaluation value: -2.044444444444445\n",
      "Additional constant: 2.044444444444445\n",
      "Restriction type: LtEq\n",
      "Restriction set type: J_0_L0_v\n",
      "Value of miu: 0\n",
      "Value of beta: 0\n",
      "Value of lambda: 0.24\n",
      "Value of gamma: 1.2\n",
      "++++++++++++++++++++++++++++++\n",
      "++++++++++++++++++++++++++++++\n",
      "Restriction 3\n",
      "Variable names: [:y, :x]\n",
      "Expression (string): (x + 2y) == 12\n",
      "Parsed expression: -7.0 + x\n",
      "Evaluation point: Dict{Any, Any}(\"x\" => 7.0, \"y\" => 8.95)\n",
      "Evaluation value: -5.0\n",
      "Additional constant: 5.0\n",
      "Restriction type: LtEq\n",
      "Restriction set type: J_0_LP_v\n",
      "Value of miu: 0\n",
      "Value of beta: 6.1\n",
      "Value of lambda: 0.44\n",
      "Value of gamma: 0\n",
      "++++++++++++++++++++++++++++++\n",
      "++++++++++++++++++++++++++++++\n",
      "Restriction 4\n",
      "Variable names: [:y, :x]\n",
      "Expression (string): (4x - y) == 12\n",
      "Parsed expression: -50.64777777777778 + 4x + 2.4444444444444446y\n",
      "Evaluation point: Dict{Any, Any}(\"x\" => 7.0, \"y\" => 8.95)\n",
      "Evaluation value: 37.87777777777778\n",
      "Additional constant: -38.64777777777778\n",
      "Restriction type: LtEq\n",
      "Restriction set type: J_Ne_L0_v\n",
      "Value of miu: 0\n",
      "Value of beta: 0\n",
      "Value of lambda: 1.0\n",
      "Value of gamma: 3.3000000000000003\n",
      "++++++++++++++++++++++++++++++\n",
      "------------------------------\n",
      "Evaluation Point:\n",
      "Dict{Any, Any}(\"x\" => 7.0, \"y\" => 8.95)\n",
      "------------------------------\n",
      "_\n",
      "\n",
      "Num[-5.1, 3.0]\n",
      "Va a retornar correctamente\n",
      "Leader's Objective Function:\n",
      "Variable names: [:y, :x]\n",
      "Expression (string): -x - 3y\n",
      "Parsed expression: -x - 3y\n",
      "Evaluation point: Dict{Any, Any}(\"x\" => 7.0, \"y\" => 8.95)\n",
      "Evaluation value: -33.849999999999994\n",
      "Is leader function: true\n",
      "------------------------------\n",
      "Leader's Restrictions:\n",
      "------------------------------\n",
      "Follower's Objective Function:\n",
      "Variable names: [:y]\n",
      "Expression (string): y\n",
      "Parsed expression: y\n",
      "Evaluation point: Dict{Any, Any}(\"x\" => 7.0, \"y\" => 8.95)\n",
      "Evaluation value: 8.95\n",
      "Is leader function: false\n",
      "------------------------------\n",
      "Follower's Restrictions:\n",
      "++++++++++++++++++++++++++++++\n",
      "Restriction 1\n",
      "Variable names: [:y]\n",
      "Expression (string): (-y) == 0\n",
      "Parsed expression: 8.95 - y\n",
      "Evaluation point: Dict{Any, Any}(\"x\" => 7.0, \"y\" => 8.95)\n",
      "Evaluation value: -8.95\n",
      "Additional constant: 8.95\n",
      "Restriction type: LtEq\n",
      "Restriction set type: J_0_L0_v\n",
      "Value of miu: 0\n",
      "Value of beta: 0\n",
      "Value of lambda: 0.68\n",
      "Value of gamma: 1.0\n",
      "++++++++++++++++++++++++++++++\n",
      "++++++++++++++++++++++++++++++\n",
      "Restriction 2\n",
      "Variable names: [:y, :x]\n",
      "Expression (string): (-x + y) == 3\n",
      "Parsed expression: -1.9499999999999993 - x + y\n",
      "Evaluation point: Dict{Any, Any}(\"x\" => 7.0, \"y\" => 8.95)\n",
      "Evaluation value: -1.0500000000000007\n",
      "Additional constant: 1.0500000000000007\n",
      "Restriction type: LtEq\n",
      "Restriction set type: J_0_L0_v\n",
      "Value of miu: 0\n",
      "Value of beta: 0\n",
      "Value of lambda: 0.24\n",
      "Value of gamma: 6.4\n",
      "++++++++++++++++++++++++++++++\n",
      "++++++++++++++++++++++++++++++\n",
      "Restriction 3\n",
      "Variable names: [:y, :x]\n",
      "Expression (string): (x + 2y) == 12\n",
      "Parsed expression: -24.9 + x + 2y\n",
      "Evaluation point: Dict{Any, Any}(\"x\" => 7.0, \"y\" => 8.95)\n",
      "Evaluation value: 12.899999999999999\n",
      "Additional constant: -12.899999999999999\n",
      "Restriction type: LtEq\n",
      "Restriction set type: J_0_LP_v\n",
      "Value of miu: 0\n",
      "Value of beta: 0\n",
      "Value of lambda: 0.44\n",
      "Value of gamma: 5.2\n",
      "++++++++++++++++++++++++++++++\n",
      "++++++++++++++++++++++++++++++\n",
      "Restriction 4\n",
      "Variable names: [:y, :x]\n",
      "Expression (string): (4x - y) == 12\n",
      "Parsed expression: -20.01 + 4x - y\n",
      "Evaluation point: Dict{Any, Any}(\"x\" => 7.0, \"y\" => 8.95)\n",
      "Evaluation value: 7.050000000000001\n",
      "Additional constant: -8.010000000000002\n",
      "Restriction type: LtEq\n",
      "Restriction set type: J_Ne_L0_v\n",
      "Value of miu: 0\n",
      "Value of beta: 0\n",
      "Value of lambda: 1.0\n",
      "Value of gamma: 5.8\n",
      "++++++++++++++++++++++++++++++\n",
      "------------------------------\n",
      "Evaluation Point:\n",
      "Dict{Any, Any}(\"x\" => 7.0, \"y\" => 8.95)\n",
      "------------------------------\n",
      "_\n",
      "\n",
      "Num[1.0, 3.0]\n",
      "Se va a crear el DataFrame\n",
      "Se va a crear el DataFrame\n",
      "La carpeta ya existe: d:\\GitHub\\Tesis\\experiment\\linear\\ex9.1.2\\Experimentos_Generador\n",
      "Se va a crear el DataFrame\n",
      "La carpeta ya existe: d:\\GitHub\\Tesis\\experiment\\linear\\ex9.1.2\\Experimentos_Generador\n",
      "Experimento Completado\n",
      "Va a retornar correctamente\n",
      "Leader's Objective Function:\n",
      "Variable names: [:y, :x]\n",
      "Expression (string): -x - 3y\n",
      "Parsed expression: -x - 3y\n",
      "Evaluation point: Dict{Any, Any}(\"x\" => 7.0, \"y\" => 8.95)\n",
      "Evaluation value: -33.849999999999994\n",
      "Is leader function: true\n",
      "------------------------------\n",
      "Leader's Restrictions:\n",
      "------------------------------\n",
      "Follower's Objective Function:\n",
      "Variable names: [:y]\n",
      "Expression (string): y\n",
      "Parsed expression: y\n",
      "Evaluation point: Dict{Any, Any}(\"x\" => 7.0, \"y\" => 8.95)\n",
      "Evaluation value: 8.95\n",
      "Is leader function: false\n",
      "------------------------------\n",
      "Follower's Restrictions:\n",
      "++++++++++++++++++++++++++++++\n",
      "Restriction 1\n",
      "Variable names: [:y]\n",
      "Expression (string): (-y) == 0\n",
      "Parsed expression: -80.54999999999998 + 8.999999999999998y\n",
      "Evaluation point: Dict{Any, Any}(\"x\" => 7.0, \"y\" => 8.95)\n",
      "Evaluation value: 80.54999999999998\n",
      "Additional constant: -80.54999999999998\n",
      "Restriction type: LtEq\n",
      "Restriction set type: J_0_L0_v\n",
      "Value of miu: 0\n",
      "Value of beta: 6.6000000000000005\n",
      "Value of lambda: 0.68\n",
      "Value of gamma: 2.7\n",
      "++++++++++++++++++++++++++++++\n",
      "++++++++++++++++++++++++++++++\n",
      "Restriction 2\n",
      "Variable names: [:y, :x]\n",
      "Expression (string): (-x + y) == 3\n",
      "Parsed expression: -166.0333333333333 - x + 19.333333333333332y\n",
      "Evaluation point: Dict{Any, Any}(\"x\" => 7.0, \"y\" => 8.95)\n",
      "Evaluation value: 163.0333333333333\n",
      "Additional constant: -163.0333333333333\n",
      "Restriction type: LtEq\n",
      "Restriction set type: J_0_L0_v\n",
      "Value of miu: 0\n",
      "Value of beta: 0.8\n",
      "Value of lambda: 0.24\n",
      "Value of gamma: 5.8\n",
      "++++++++++++++++++++++++++++++\n",
      "++++++++++++++++++++++++++++++\n",
      "Restriction 3\n",
      "Variable names: [:y, :x]\n",
      "Expression (string): (x + 2y) == 12\n",
      "Parsed expression: -7.0 + x\n",
      "Evaluation point: Dict{Any, Any}(\"x\" => 7.0, \"y\" => 8.95)\n",
      "Evaluation value: -5.0\n",
      "Additional constant: 5.0\n",
      "Restriction type: LtEq\n",
      "Restriction set type: J_0_LP_v\n",
      "Value of miu: 0\n",
      "Value of beta: 4.699999999999999\n",
      "Value of lambda: 0.44\n",
      "Value of gamma: 8.7\n",
      "++++++++++++++++++++++++++++++\n",
      "++++++++++++++++++++++++++++++\n",
      "Restriction 4\n",
      "Variable names: [:y, :x]\n",
      "Expression (string): (4x - y) == 12\n",
      "Parsed expression: -78.77666666666666 + 4x + 5.666666666666666y\n",
      "Evaluation point: Dict{Any, Any}(\"x\" => 7.0, \"y\" => 8.95)\n",
      "Evaluation value: 66.71666666666665\n",
      "Additional constant: -66.77666666666666\n",
      "Restriction type: LtEq\n",
      "Restriction set type: J_Ne_L0_v\n",
      "Value of miu: 0\n",
      "Value of beta: 3.3000000000000003\n",
      "Value of lambda: 1.0\n",
      "Value of gamma: 1.7000000000000002\n",
      "++++++++++++++++++++++++++++++\n",
      "------------------------------\n",
      "Evaluation Point:\n",
      "Dict{Any, Any}(\"x\" => 7.0, \"y\" => 8.95)\n",
      "------------------------------\n",
      "_\n",
      "\n",
      "Num[-16.1, -90.56666666666666]\n",
      "Va a retornar correctamente\n",
      "Leader's Objective Function:\n",
      "Variable names: [:y, :x]\n",
      "Expression (string): -x - 3y\n",
      "Parsed expression: -x - 3y\n",
      "Evaluation point: Dict{Any, Any}(\"x\" => 7.0, \"y\" => 8.95)\n",
      "Evaluation value: -33.849999999999994\n",
      "Is leader function: true\n",
      "------------------------------\n",
      "Leader's Restrictions:\n",
      "------------------------------\n",
      "Follower's Objective Function:\n",
      "Variable names: [:y]\n",
      "Expression (string): y\n",
      "Parsed expression: y\n",
      "Evaluation point: Dict{Any, Any}(\"x\" => 7.0, \"y\" => 8.95)\n",
      "Evaluation value: 8.95\n",
      "Is leader function: false\n",
      "------------------------------\n",
      "Follower's Restrictions:\n",
      "++++++++++++++++++++++++++++++\n",
      "Restriction 1\n",
      "Variable names: [:y]\n",
      "Expression (string): (-y) == 0\n",
      "Parsed expression: 8.95 - y\n",
      "Evaluation point: Dict{Any, Any}(\"x\" => 7.0, \"y\" => 8.95)\n",
      "Evaluation value: -8.95\n",
      "Additional constant: 8.95\n",
      "Restriction type: LtEq\n",
      "Restriction set type: J_0_L0_v\n",
      "Value of miu: 0\n",
      "Value of beta: 1.4000000000000001\n",
      "Value of lambda: 0.68\n",
      "Value of gamma: 7.800000000000001\n",
      "++++++++++++++++++++++++++++++\n",
      "++++++++++++++++++++++++++++++\n",
      "Restriction 2\n",
      "Variable names: [:y, :x]\n",
      "Expression (string): (-x + y) == 3\n",
      "Parsed expression: -1.9499999999999993 - x + y\n",
      "Evaluation point: Dict{Any, Any}(\"x\" => 7.0, \"y\" => 8.95)\n",
      "Evaluation value: -1.0500000000000007\n",
      "Additional constant: 1.0500000000000007\n",
      "Restriction type: LtEq\n",
      "Restriction set type: J_0_L0_v\n",
      "Value of miu: 0\n",
      "Value of beta: 10.0\n",
      "Value of lambda: 0.24\n",
      "Value of gamma: 5.5\n",
      "++++++++++++++++++++++++++++++\n",
      "++++++++++++++++++++++++++++++\n",
      "Restriction 3\n",
      "Variable names: [:y, :x]\n",
      "Expression (string): (x + 2y) == 12\n",
      "Parsed expression: -24.9 + x + 2y\n",
      "Evaluation point: Dict{Any, Any}(\"x\" => 7.0, \"y\" => 8.95)\n",
      "Evaluation value: 12.899999999999999\n",
      "Additional constant: -12.899999999999999\n",
      "Restriction type: LtEq\n",
      "Restriction set type: J_0_LP_v\n",
      "Value of miu: 0\n",
      "Value of beta: 0.5\n",
      "Value of lambda: 0.44\n",
      "Value of gamma: 0.8999999999999999\n",
      "++++++++++++++++++++++++++++++\n",
      "++++++++++++++++++++++++++++++\n",
      "Restriction 4\n",
      "Variable names: [:y, :x]\n",
      "Expression (string): (4x - y) == 12\n",
      "Parsed expression: -19.98 + 4x - y\n",
      "Evaluation point: Dict{Any, Any}(\"x\" => 7.0, \"y\" => 8.95)\n",
      "Evaluation value: 7.050000000000001\n",
      "Additional constant: -7.98\n",
      "Restriction type: LtEq\n",
      "Restriction set type: J_Ne_L0_v\n",
      "Value of miu: 0\n",
      "Value of beta: 2.9\n",
      "Value of lambda: 1.0\n",
      "Value of gamma: 2.4\n",
      "++++++++++++++++++++++++++++++\n",
      "------------------------------\n",
      "Evaluation Point:\n",
      "Dict{Any, Any}(\"x\" => 7.0, \"y\" => 8.95)\n",
      "------------------------------\n",
      "_\n",
      "\n",
      "Num[-1.0999999999999996, -3.6999999999999993]\n",
      "Se va a crear el DataFrame\n",
      "Se va a crear el DataFrame\n",
      "La carpeta ya existe: d:\\GitHub\\Tesis\\experiment\\linear\\ex9.1.2\\Experimentos_Generador\n",
      "Se va a crear el DataFrame\n",
      "La carpeta ya existe: d:\\GitHub\\Tesis\\experiment\\linear\\ex9.1.2\\Experimentos_Generador\n",
      "Experimento Completado\n",
      "Finilizado el experimento completo\n"
     ]
    }
   ],
   "source": [
    "RunExperiment(experiment,\"ex9.1.2(Linear)\",true)"
   ]
  },
  {
   "cell_type": "code",
   "execution_count": 14,
   "metadata": {},
   "outputs": [],
   "source": []
  }
 ],
 "metadata": {
  "kernelspec": {
   "display_name": "Julia 1.11.3",
   "language": "julia",
   "name": "julia-1.11"
  },
  "language_info": {
   "file_extension": ".jl",
   "mimetype": "application/julia",
   "name": "julia",
   "version": "1.11.3"
  }
 },
 "nbformat": 4,
 "nbformat_minor": 2
}
