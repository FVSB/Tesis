{
 "cells": [
  {
   "cell_type": "markdown",
   "metadata": {},
   "source": [
    "## Importar el módulo\n"
   ]
  },
  {
   "cell_type": "code",
   "execution_count": 1,
   "metadata": {},
   "outputs": [
    {
     "data": {
      "text/plain": [
       "RunExperiment"
      ]
     },
     "metadata": {},
     "output_type": "display_data"
    }
   ],
   "source": [
    "include(\"../../new_experiment.jl\")"
   ]
  },
  {
   "cell_type": "markdown",
   "metadata": {},
   "source": [
    "Crear un experimento\n"
   ]
  },
  {
   "cell_type": "code",
   "execution_count": 2,
   "metadata": {},
   "outputs": [
    {
     "data": {
      "text/plain": [
       "Experiment(OptimizationModel(Problem(Any[], nothing), LeaderRestrictionProblem[], Problem(Any[], nothing), FollowerRestrictionProblem[], Dict{Any, Any}(), Number[1], false), OptimizationModel(Problem(Any[], nothing), LeaderRestrictionProblem[], Problem(Any[], nothing), FollowerRestrictionProblem[], Dict{Any, Any}(), Number[], true), Any[], Any[])"
      ]
     },
     "metadata": {},
     "output_type": "display_data"
    }
   ],
   "source": [
    "experiment=CreateExperiment()"
   ]
  },
  {
   "cell_type": "markdown",
   "metadata": {},
   "source": [
    "### Declarar variables del líder\n"
   ]
  },
  {
   "cell_type": "code",
   "execution_count": 3,
   "metadata": {},
   "outputs": [
    {
     "data": {
      "text/latex": [
       "$$ \\begin{equation}\n",
       "\\left[\n",
       "\\begin{array}{c}\n",
       "x \\\\\n",
       "\\end{array}\n",
       "\\right]\n",
       "\\end{equation}\n",
       " $$"
      ],
      "text/plain": [
       "1-element Vector{Num}:\n",
       " x"
      ]
     },
     "metadata": {},
     "output_type": "display_data"
    }
   ],
   "source": [
    "@leader_vars experiment x"
   ]
  },
  {
   "cell_type": "markdown",
   "metadata": {},
   "source": [
    "### Declarar Variables del Follower"
   ]
  },
  {
   "cell_type": "code",
   "execution_count": 4,
   "metadata": {},
   "outputs": [
    {
     "data": {
      "text/latex": [
       "$$ \\begin{equation}\n",
       "\\left[\n",
       "\\begin{array}{c}\n",
       "y \\\\\n",
       "\\end{array}\n",
       "\\right]\n",
       "\\end{equation}\n",
       " $$"
      ],
      "text/plain": [
       "1-element Vector{Num}:\n",
       " y"
      ]
     },
     "metadata": {},
     "output_type": "display_data"
    }
   ],
   "source": [
    "@follower_vars experiment y"
   ]
  },
  {
   "cell_type": "markdown",
   "metadata": {},
   "source": [
    "### Declarar Función Objetivo del Líder"
   ]
  },
  {
   "cell_type": "code",
   "execution_count": 5,
   "metadata": {},
   "outputs": [
    {
     "data": {
      "text/latex": [
       "$$ \\begin{equation}\n",
       "x + y\n",
       "\\end{equation}\n",
       " $$"
      ],
      "text/plain": [
       "x + y"
      ]
     },
     "metadata": {},
     "output_type": "display_data"
    }
   ],
   "source": [
    "SetLeaderFunction(experiment,x+y)"
   ]
  },
  {
   "cell_type": "markdown",
   "metadata": {},
   "source": [
    "## Función Objetivo del Follower"
   ]
  },
  {
   "cell_type": "code",
   "execution_count": 6,
   "metadata": {},
   "outputs": [
    {
     "data": {
      "text/latex": [
       "$$ \\begin{equation}\n",
       " - 5 x - y\n",
       "\\end{equation}\n",
       " $$"
      ],
      "text/plain": [
       "-5x - y"
      ]
     },
     "metadata": {},
     "output_type": "display_data"
    }
   ],
   "source": [
    "SetFollowerFunction(experiment,-5x-y)"
   ]
  },
  {
   "cell_type": "markdown",
   "metadata": {},
   "source": [
    "### Restricciones del Follower"
   ]
  },
  {
   "cell_type": "code",
   "execution_count": 7,
   "metadata": {},
   "outputs": [
    {
     "data": {
      "text/plain": [
       "1-element Vector{FollowerRestrictionProblem}:\n",
       " FollowerRestrictionProblem((-x - 0.5y) <= -2, J_0_LP_v, 0.22135859564850657, 0.7483271429441581, 0.4442277893543902)"
      ]
     },
     "metadata": {},
     "output_type": "display_data"
    }
   ],
   "source": [
    "SetFollowerRestriction(experiment,-x-0.5y<=-2)"
   ]
  },
  {
   "cell_type": "code",
   "execution_count": 8,
   "metadata": {},
   "outputs": [
    {
     "data": {
      "text/plain": [
       "2-element Vector{FollowerRestrictionProblem}:\n",
       " FollowerRestrictionProblem((-x - 0.5y) <= -2, J_0_LP_v, 0.22135859564850657, 0.7483271429441581, 0.4442277893543902)\n",
       " FollowerRestrictionProblem((-0.25x + y) <= 2, J_0_LP_v, 0.9669835728879147, 0.8978637586635643, 0.6726520478094848)"
      ]
     },
     "metadata": {},
     "output_type": "display_data"
    }
   ],
   "source": [
    "SetFollowerRestriction(experiment,-0.25x+y<=2)"
   ]
  },
  {
   "cell_type": "code",
   "execution_count": 9,
   "metadata": {},
   "outputs": [
    {
     "data": {
      "text/plain": [
       "3-element Vector{FollowerRestrictionProblem}:\n",
       " FollowerRestrictionProblem((-x - 0.5y) <= -2, J_0_LP_v, 0.22135859564850657, 0.7483271429441581, 0.4442277893543902)\n",
       " FollowerRestrictionProblem((-0.25x + y) <= 2, J_0_LP_v, 0.9669835728879147, 0.8978637586635643, 0.6726520478094848)\n",
       " FollowerRestrictionProblem((x + 0.5y) <= 8, J_0_LP_v, 0.23987622870381153, 0.587560873369815, 0.6687973295229142)"
      ]
     },
     "metadata": {},
     "output_type": "display_data"
    }
   ],
   "source": [
    "SetFollowerRestriction(experiment,x+0.5y<=8)"
   ]
  },
  {
   "cell_type": "code",
   "execution_count": 10,
   "metadata": {},
   "outputs": [
    {
     "data": {
      "text/plain": [
       "4-element Vector{FollowerRestrictionProblem}:\n",
       " FollowerRestrictionProblem((-x - 0.5y) <= -2, J_0_LP_v, 0.22135859564850657, 0.7483271429441581, 0.4442277893543902)\n",
       " FollowerRestrictionProblem((-0.25x + y) <= 2, J_0_LP_v, 0.9669835728879147, 0.8978637586635643, 0.6726520478094848)\n",
       " FollowerRestrictionProblem((x + 0.5y) <= 8, J_0_LP_v, 0.23987622870381153, 0.587560873369815, 0.6687973295229142)\n",
       " FollowerRestrictionProblem((x - 2y) <= 2, J_0_LP_v, 0.09568118964754767, 0.5485396678316838, 0.2575315853718222)"
      ]
     },
     "metadata": {},
     "output_type": "display_data"
    }
   ],
   "source": [
    "SetFollowerRestriction(experiment,x-2y<=2)"
   ]
  },
  {
   "cell_type": "code",
   "execution_count": 11,
   "metadata": {},
   "outputs": [
    {
     "data": {
      "text/plain": [
       "5-element Vector{FollowerRestrictionProblem}:\n",
       " FollowerRestrictionProblem((-x - 0.5y) <= -2, J_0_LP_v, 0.22135859564850657, 0.7483271429441581, 0.4442277893543902)\n",
       " FollowerRestrictionProblem((-0.25x + y) <= 2, J_0_LP_v, 0.9669835728879147, 0.8978637586635643, 0.6726520478094848)\n",
       " FollowerRestrictionProblem((x + 0.5y) <= 8, J_0_LP_v, 0.23987622870381153, 0.587560873369815, 0.6687973295229142)\n",
       " FollowerRestrictionProblem((x - 2y) <= 2, J_0_LP_v, 0.09568118964754767, 0.5485396678316838, 0.2575315853718222)\n",
       " FollowerRestrictionProblem((-y) <= 0, J_0_LP_v, 0.7445181059085249, 0.10635247316048489, 0.49824217839127216)"
      ]
     },
     "metadata": {},
     "output_type": "display_data"
    }
   ],
   "source": [
    "SetFollowerRestriction(experiment,-y<=0)"
   ]
  },
  {
   "cell_type": "markdown",
   "metadata": {},
   "source": [
    "### Poner el Punto Optimo"
   ]
  },
  {
   "cell_type": "code",
   "execution_count": 12,
   "metadata": {},
   "outputs": [
    {
     "data": {
      "text/plain": [
       "Dict{Any, Any} with 2 entries:\n",
       "  y => 2.29446\n",
       "  x => 1.62114"
      ]
     },
     "metadata": {},
     "output_type": "display_data"
    }
   ],
   "source": [
    "SetPoint(experiment,Dict(x=>0.88,y=>2.22))"
   ]
  },
  {
   "cell_type": "markdown",
   "metadata": {},
   "source": [
    "## Iniciar el Experimento\n"
   ]
  },
  {
   "cell_type": "code",
   "execution_count": 13,
   "metadata": {},
   "outputs": [
    {
     "name": "stdout",
     "output_type": "stream",
     "text": [
      "Va a retornar correctamente\n",
      "Leader's Objective Function:\n",
      "Variable names: [:y, :x]\n",
      "Expression (string): x + y\n",
      "Parsed expression: x + y\n",
      "Evaluation point: Dict{Any, Any}(\"x\" => 1.621140993023543, \"y\" => 2.2944604516692935)\n",
      "Evaluation value: 3.9156014446928364\n",
      "Is leader function: true\n",
      "------------------------------\n",
      "Leader's Restrictions:\n",
      "------------------------------\n",
      "Follower's Objective Function:\n",
      "Variable names: [:y, :x]\n",
      "Expression (string): -5x - y\n",
      "Parsed expression: -5x - y\n",
      "Evaluation point: Dict{Any, Any}(\"x\" => 1.621140993023543, \"y\" => 2.2944604516692935)\n",
      "Evaluation value: -10.400165416787008\n",
      "Is leader function: false\n",
      "------------------------------\n",
      "Follower's Restrictions:\n",
      "++++++++++++++++++++++++++++++\n",
      "Restriction 1\n",
      "Variable names: [:y, :x]\n",
      "Expression (string): (-x - 0.5y) == -2\n",
      "Parsed expression: 2 - x - 0.03053662764944637y\n",
      "Evaluation point: Dict{Any, Any}(\"x\" => 1.621140993023543, \"y\" => 2.2944604516692935)\n",
      "Evaluation value: 0.3087939225074512\n",
      "Additional constant: -0.3087939225074512\n",
      "Restriction type: LtEq\n",
      "Restriction set type: J_0_LP_v\n",
      "Value of miu: 0\n",
      "Value of beta: 0.22135859564850657\n",
      "Value of lambda: 0.7483271429441581\n",
      "Value of gamma: 0.4442277893543902\n",
      "++++++++++++++++++++++++++++++\n",
      "++++++++++++++++++++++++++++++\n",
      "Restriction 2\n",
      "Variable names: [:y, :x]\n",
      "Expression (string): (-0.25x + y) == 2\n",
      "Parsed expression: -2 - 0.25x + 0.06107325529889274y\n",
      "Evaluation point: Dict{Any, Any}(\"x\" => 1.621140993023543, \"y\" => 2.2944604516692935)\n",
      "Evaluation value: -2.265155079317874\n",
      "Additional constant: 2.265155079317874\n",
      "Restriction type: LtEq\n",
      "Restriction set type: J_0_LP_v\n",
      "Value of miu: 0\n",
      "Value of beta: 0.9669835728879147\n",
      "Value of lambda: 0.8978637586635643\n",
      "Value of gamma: 0.6726520478094848\n",
      "++++++++++++++++++++++++++++++\n",
      "++++++++++++++++++++++++++++++\n",
      "Restriction 3\n",
      "Variable names: [:y, :x]\n",
      "Expression (string): (x + 0.5y) == 8\n",
      "Parsed expression: -8 + x + 0.03053662764944637y\n",
      "Evaluation point: Dict{Any, Any}(\"x\" => 1.621140993023543, \"y\" => 2.2944604516692935)\n",
      "Evaluation value: -6.308793922507451\n",
      "Additional constant: 6.308793922507451\n",
      "Restriction type: LtEq\n",
      "Restriction set type: J_0_LP_v\n",
      "Value of miu: 0\n",
      "Value of beta: 0.23987622870381153\n",
      "Value of lambda: 0.587560873369815\n",
      "Value of gamma: 0.6687973295229142\n",
      "++++++++++++++++++++++++++++++\n",
      "++++++++++++++++++++++++++++++\n",
      "Restriction 4\n",
      "Variable names: [:y, :x]\n",
      "Expression (string): (x - 2y) == 2\n",
      "Parsed expression: -2 + x - 0.12214651059778547y\n",
      "Evaluation point: Dict{Any, Any}(\"x\" => 1.621140993023543, \"y\" => 2.2944604516692935)\n",
      "Evaluation value: -0.6591193448524799\n",
      "Additional constant: 0.6591193448524799\n",
      "Restriction type: LtEq\n",
      "Restriction set type: J_0_LP_v\n",
      "Value of miu: 0\n",
      "Value of beta: 0.09568118964754767\n",
      "Value of lambda: 0.5485396678316838\n",
      "Value of gamma: 0.2575315853718222\n",
      "++++++++++++++++++++++++++++++\n",
      "++++++++++++++++++++++++++++++\n",
      "Restriction 5\n",
      "Variable names: [:y]\n",
      "Expression (string): (-y) == 0\n",
      "Parsed expression: -0.06107325529889274y\n",
      "Evaluation point: Dict{Any, Any}(\"x\" => 1.621140993023543, \"y\" => 2.2944604516692935)\n",
      "Evaluation value: -0.1401301689380115\n",
      "Additional constant: 0.1401301689380115\n",
      "Restriction type: LtEq\n",
      "Restriction set type: J_0_LP_v\n",
      "Value of miu: 0\n",
      "Value of beta: 0.7445181059085249\n",
      "Value of lambda: 0.10635247316048489\n",
      "Value of gamma: 0.49824217839127216\n",
      "++++++++++++++++++++++++++++++\n",
      "------------------------------\n",
      "Evaluation Point:\n",
      "Dict{Any, Any}(\"x\" => 1.621140993023543, \"y\" => 2.2944604516692935)\n",
      "------------------------------\n",
      "_\n",
      "\n",
      "Num[-0.8724529294808739, -1.0024650328802858]\n",
      "Va a retornar correctamente\n",
      "Leader's Objective Function:\n",
      "Variable names: [:y, :x]\n",
      "Expression (string): x + y\n",
      "Parsed expression: x + y\n",
      "Evaluation point: Dict{Any, Any}(\"x\" => 1.621140993023543, \"y\" => 2.2944604516692935)\n",
      "Evaluation value: 3.9156014446928364\n",
      "Is leader function: true\n",
      "------------------------------\n",
      "Leader's Restrictions:\n",
      "------------------------------\n",
      "Follower's Objective Function:\n",
      "Variable names: [:y, :x]\n",
      "Expression (string): -5x - y\n",
      "Parsed expression: -5x - y\n",
      "Evaluation point: Dict{Any, Any}(\"x\" => 1.621140993023543, \"y\" => 2.2944604516692935)\n",
      "Evaluation value: -10.400165416787008\n",
      "Is leader function: false\n",
      "------------------------------\n",
      "Follower's Restrictions:\n",
      "++++++++++++++++++++++++++++++\n",
      "Restriction 1\n",
      "Variable names: [:y, :x]\n",
      "Expression (string): (-x - 0.5y) == -2\n",
      "Parsed expression: 2 - x - 0.5y\n",
      "Evaluation point: Dict{Any, Any}(\"x\" => 1.621140993023543, \"y\" => 2.2944604516692935)\n",
      "Evaluation value: -0.7683712188581897\n",
      "Additional constant: 0.7683712188581897\n",
      "Restriction type: LtEq\n",
      "Restriction set type: J_0_LP_v\n",
      "Value of miu: 0\n",
      "Value of beta: 0.22135859564850657\n",
      "Value of lambda: 0.7483271429441581\n",
      "Value of gamma: 0.4442277893543902\n",
      "++++++++++++++++++++++++++++++\n",
      "++++++++++++++++++++++++++++++\n",
      "Restriction 2\n",
      "Variable names: [:y, :x]\n",
      "Expression (string): (-0.25x + y) == 2\n",
      "Parsed expression: -2 - 0.25x + y\n",
      "Evaluation point: Dict{Any, Any}(\"x\" => 1.621140993023543, \"y\" => 2.2944604516692935)\n",
      "Evaluation value: -0.11082479658659228\n",
      "Additional constant: 0.11082479658659228\n",
      "Restriction type: LtEq\n",
      "Restriction set type: J_0_LP_v\n",
      "Value of miu: 0\n",
      "Value of beta: 0.9669835728879147\n",
      "Value of lambda: 0.8978637586635643\n",
      "Value of gamma: 0.6726520478094848\n",
      "++++++++++++++++++++++++++++++\n",
      "++++++++++++++++++++++++++++++\n",
      "Restriction 3\n",
      "Variable names: [:y, :x]\n",
      "Expression (string): (x + 0.5y) == 8\n",
      "Parsed expression: -8 + x + 0.5y\n",
      "Evaluation point: Dict{Any, Any}(\"x\" => 1.621140993023543, \"y\" => 2.2944604516692935)\n",
      "Evaluation value: -5.2316287811418105\n",
      "Additional constant: 5.2316287811418105\n",
      "Restriction type: LtEq\n",
      "Restriction set type: J_0_LP_v\n",
      "Value of miu: 0\n",
      "Value of beta: 0.23987622870381153\n",
      "Value of lambda: 0.587560873369815\n",
      "Value of gamma: 0.6687973295229142\n",
      "++++++++++++++++++++++++++++++\n",
      "++++++++++++++++++++++++++++++\n",
      "Restriction 4\n",
      "Variable names: [:y, :x]\n",
      "Expression (string): (x - 2y) == 2\n",
      "Parsed expression: -2 + x - 2y\n",
      "Evaluation point: Dict{Any, Any}(\"x\" => 1.621140993023543, \"y\" => 2.2944604516692935)\n",
      "Evaluation value: -4.967779910315044\n",
      "Additional constant: 4.967779910315044\n",
      "Restriction type: LtEq\n",
      "Restriction set type: J_0_LP_v\n",
      "Value of miu: 0\n",
      "Value of beta: 0.09568118964754767\n",
      "Value of lambda: 0.5485396678316838\n",
      "Value of gamma: 0.2575315853718222\n",
      "++++++++++++++++++++++++++++++\n",
      "++++++++++++++++++++++++++++++\n",
      "Restriction 5\n",
      "Variable names: [:y]\n",
      "Expression (string): (-y) == 0\n",
      "Parsed expression: -y\n",
      "Evaluation point: Dict{Any, Any}(\"x\" => 1.621140993023543, \"y\" => 2.2944604516692935)\n",
      "Evaluation value: -2.2944604516692935\n",
      "Additional constant: 2.2944604516692935\n",
      "Restriction type: LtEq\n",
      "Restriction set type: J_0_LP_v\n",
      "Value of miu: 0\n",
      "Value of beta: 0.7445181059085249\n",
      "Value of lambda: 0.10635247316048489\n",
      "Value of gamma: 0.49824217839127216\n",
      "++++++++++++++++++++++++++++++\n",
      "------------------------------\n",
      "Evaluation Point:\n",
      "Dict{Any, Any}(\"x\" => 1.621140993023543, \"y\" => 2.2944604516692935)\n",
      "------------------------------\n",
      "_\n",
      "\n",
      "Num[-0.8724529294808739, -1.040361904211947]\n",
      "Se va a crear el DataFrame\n",
      "Se va a crear el DataFrame\n",
      "Carpeta creada: d:\\GitHub\\Tesis\\experiment\\linear\\ex9.1.9\\Experimentos_Generador\n",
      "Se va a crear el DataFrame\n",
      "La carpeta ya existe: d:\\GitHub\\Tesis\\experiment\\linear\\ex9.1.9\\Experimentos_Generador\n",
      "Experimento Completado\n"
     ]
    }
   ],
   "source": [
    "RunExperiment(experiment,\"ex9.1.9(Linear)\")"
   ]
  }
 ],
 "metadata": {
  "kernelspec": {
   "display_name": "Julia 1.10.5",
   "language": "julia",
   "name": "julia-1.10"
  },
  "language_info": {
   "file_extension": ".jl",
   "mimetype": "application/julia",
   "name": "julia",
   "version": "1.10.5"
  }
 },
 "nbformat": 4,
 "nbformat_minor": 2
}
