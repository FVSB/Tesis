{
 "cells": [
  {
   "cell_type": "markdown",
   "metadata": {},
   "source": [
    "# Importar las depencias necesarias"
   ]
  },
  {
   "cell_type": "code",
   "execution_count": 1,
   "metadata": {},
   "outputs": [],
   "source": [
    "include(\"../../experiment.jl\")"
   ]
  },
  {
   "cell_type": "code",
   "execution_count": 2,
   "metadata": {},
   "outputs": [],
   "source": [
    "using BilevelJuMP"
   ]
  },
  {
   "cell_type": "code",
   "execution_count": 3,
   "metadata": {},
   "outputs": [
    {
     "data": {
      "text/plain": [
       "An Abstract JuMP Model\n",
       "Feasibility problem with:\n",
       "Variables: 0\n",
       "Upper Constraints: 0\n",
       "Lower Constraints: 0\n",
       "Bilevel Model\n",
       "Solution method: BilevelJuMP.NoMode{Float64}\n",
       "No solver attached"
      ]
     },
     "metadata": {},
     "output_type": "display_data"
    }
   ],
   "source": [
    "model=BilevelModel()"
   ]
  },
  {
   "cell_type": "markdown",
   "metadata": {},
   "source": [
    "## Definir variables"
   ]
  },
  {
   "cell_type": "code",
   "execution_count": 4,
   "metadata": {},
   "outputs": [
    {
     "data": {
      "text/plain": [
       "4-element Vector{BilevelVariableRef}:\n",
       " y[1]\n",
       " y[2]\n",
       " y[3]\n",
       " y[4]"
      ]
     },
     "metadata": {},
     "output_type": "display_data"
    }
   ],
   "source": [
    "BilevelJuMP.@variable(Upper(model), x[1:4])\n",
    "BilevelJuMP.@variable(Upper(model), y[1:4])"
   ]
  },
  {
   "cell_type": "markdown",
   "metadata": {},
   "source": [
    "## Definir nivel superior"
   ]
  },
  {
   "cell_type": "code",
   "execution_count": 5,
   "metadata": {},
   "outputs": [
    {
     "data": {
      "text/latex": [
       "$ -y_{1} - y_{3} + 200 $"
      ],
      "text/plain": [
       "-y[1] - y[3] + 200"
      ]
     },
     "metadata": {},
     "output_type": "display_data"
    }
   ],
   "source": [
    "part_1_1=200-y[1]-y[3]"
   ]
  },
  {
   "cell_type": "code",
   "execution_count": 6,
   "metadata": {},
   "outputs": [
    {
     "data": {
      "text/latex": [
       "$ y_{1} + y_{3} $"
      ],
      "text/plain": [
       "y[1] + y[3]"
      ]
     },
     "metadata": {},
     "output_type": "display_data"
    }
   ],
   "source": [
    "part_1_2=y[1]+y[3]"
   ]
  },
  {
   "cell_type": "code",
   "execution_count": 7,
   "metadata": {},
   "outputs": [
    {
     "data": {
      "text/latex": [
       "$ -y_{1}^2 - 2 y_{3}\\times y_{1} - y_{3}^2 + 200 y_{1} + 200 y_{3} $"
      ],
      "text/plain": [
       "-y[1]² - 2 y[3]*y[1] - y[3]² + 200 y[1] + 200 y[3]"
      ]
     },
     "metadata": {},
     "output_type": "display_data"
    }
   ],
   "source": [
    "part_1=part_1_1*part_1_2"
   ]
  },
  {
   "cell_type": "code",
   "execution_count": 8,
   "metadata": {},
   "outputs": [
    {
     "data": {
      "text/latex": [
       "$ -y_{2} - y_{4} + 160 $"
      ],
      "text/plain": [
       "-y[2] - y[4] + 160"
      ]
     },
     "metadata": {},
     "output_type": "display_data"
    }
   ],
   "source": [
    "part_2_1=160-y[2]-y[4]"
   ]
  },
  {
   "cell_type": "code",
   "execution_count": 9,
   "metadata": {},
   "outputs": [
    {
     "data": {
      "text/latex": [
       "$ y_{2} + y_{4} $"
      ],
      "text/plain": [
       "y[2] + y[4]"
      ]
     },
     "metadata": {},
     "output_type": "display_data"
    }
   ],
   "source": [
    "part_2_2=y[2]+y[4]"
   ]
  },
  {
   "cell_type": "code",
   "execution_count": 10,
   "metadata": {},
   "outputs": [
    {
     "data": {
      "text/latex": [
       "$ -y_{2}^2 - 2 y_{4}\\times y_{2} - y_{4}^2 + 160 y_{2} + 160 y_{4} $"
      ],
      "text/plain": [
       "-y[2]² - 2 y[4]*y[2] - y[4]² + 160 y[2] + 160 y[4]"
      ]
     },
     "metadata": {},
     "output_type": "display_data"
    }
   ],
   "source": [
    "part_2=part_2_1*part_2_2"
   ]
  },
  {
   "cell_type": "code",
   "execution_count": 11,
   "metadata": {},
   "outputs": [
    {
     "data": {
      "text/latex": [
       "$ -y_{1}^2 - 2 y_{3}\\times y_{1} - y_{3}^2 - y_{2}^2 - 2 y_{4}\\times y_{2} - y_{4}^2 + 200 y_{1} + 200 y_{3} + 160 y_{2} + 160 y_{4} $"
      ],
      "text/plain": [
       "-y[1]² - 2 y[3]*y[1] - y[3]² - y[2]² - 2 y[4]*y[2] - y[4]² + 200 y[1] + 200 y[3] + 160 y[2] + 160 y[4]"
      ]
     },
     "metadata": {},
     "output_type": "display_data"
    }
   ],
   "source": [
    "BilevelJuMP.@objective(Upper(model),Min,part_1+part_2)"
   ]
  },
  {
   "cell_type": "code",
   "execution_count": 12,
   "metadata": {},
   "outputs": [
    {
     "data": {
      "text/plain": [
       "(x[1] + x[2] + x[3] + x[4] ≤ 40, x[1] ≤ 10, x[2] ≤ 5, x[3] ≤ 15, x[4] ≤ 20, [-x[1], -x[2], -x[3], -x[4]] ∈ MathOptInterface.Nonpositives(4))"
      ]
     },
     "metadata": {},
     "output_type": "display_data"
    }
   ],
   "source": [
    "BilevelJuMP.@constraints(Upper(model),begin\n",
    "sum(x)-40<=0\n",
    "x[1]-10<=0\n",
    "x[2]-5<=0\n",
    "x[3]-15<=0\n",
    "x[4]-20<=0\n",
    "-x<=0\n",
    "end)"
   ]
  },
  {
   "cell_type": "markdown",
   "metadata": {},
   "source": [
    "## Definir Nivel inferior"
   ]
  },
  {
   "cell_type": "code",
   "execution_count": 13,
   "metadata": {},
   "outputs": [
    {
     "data": {
      "text/latex": [
       "$ y_{1}^2 + y_{2}^2 + y_{3}^2 + y_{4}^2 - 8 y_{1} - 26 y_{2} - 70 y_{3} - 4 y_{4} + 1414 $"
      ],
      "text/plain": [
       "y[1]² + y[2]² + y[3]² + y[4]² - 8 y[1] - 26 y[2] - 70 y[3] - 4 y[4] + 1414"
      ]
     },
     "metadata": {},
     "output_type": "display_data"
    }
   ],
   "source": [
    "BilevelJuMP.@objective(Lower(model),Min,(y[1]-4)^2+(y[2]-13)^2+(y[3]-35)^2+(y[4]-2)^2)"
   ]
  },
  {
   "cell_type": "code",
   "execution_count": 14,
   "metadata": {},
   "outputs": [
    {
     "data": {
      "text/plain": [
       "(-x[1] + 0.4 y[1] + 0.7 y[2] ≤ 0, -x[2] + 0.6 y[1] + 0.3 y[2] ≤ 0, -x[3] + 1.1 y[3] ≤ 0, -x[4] + 0.6 y[3] + 0.3 y[4] ≤ 0, y[1] ≤ 20, y[2] ≤ 20, y[3] ≤ 40, y[4] ≤ 40, [-y[1], -y[2], -y[3], -y[4]] ∈ MathOptInterface.Nonpositives(4))"
      ]
     },
     "metadata": {},
     "output_type": "display_data"
    }
   ],
   "source": [
    "BilevelJuMP.@constraints(Lower(model),begin\n",
    "0.4y[1]+0.7y[2]-x[1]<=0\n",
    "0.6y[1]+0.3y[2]-x[2]<=0\n",
    "0.4y[3]+0.7y[3]-x[3]<=0\n",
    "0.6y[3]+0.3y[4]-x[4]<=0\n",
    "y[1]-20<=0\n",
    "y[2]-20<=0\n",
    "y[3]-40<=0\n",
    "y[4]-40<=0\n",
    "-y<=0\n",
    "end)"
   ]
  },
  {
   "cell_type": "markdown",
   "metadata": {},
   "source": [
    "## Run"
   ]
  },
  {
   "cell_type": "code",
   "execution_count": 15,
   "metadata": {},
   "outputs": [
    {
     "name": "stdout",
     "output_type": "stream",
     "text": [
      "Resolviendo el problema con HiGHS\n",
      "Ocurrió un error: MethodError(BilevelJuMP.get_canonical_complement, (MOIU.CachingOptimizer\n",
      "├ state: NO_OPTIMIZER\n",
      "├ mode: AUTOMATIC\n",
      "├ model_cache: MOIU.UniversalFallback{MOIU.Model{Float64}}\n",
      "│ ├ ObjectiveSense: MIN_SENSE\n",
      "│ ├ ObjectiveFunctionType: MOI.ScalarQuadraticFunction{Float64}\n",
      "│ ├ NumberOfVariables: 8\n",
      "│ └ NumberOfConstraints: 9\n",
      "│   ├ MOI.ScalarAffineFunction{Float64} in MOI.LessThan{Float64}: 8\n",
      "│   └ MOI.VectorAffineFunction{Float64} in MOI.Nonpositives: 1\n",
      "└ optimizer: nothing, Dict{MathOptInterface.ConstraintIndex, Vector{MathOptInterface.VariableIndex}}(MathOptInterface.ConstraintIndex{MathOptInterface.VectorAffineFunction{Float64}, MathOptInterface.Nonpositives}(1) => [MOI.VariableIndex(9), MOI.VariableIndex(10), MOI.VariableIndex(11), MOI.VariableIndex(12)], MathOptInterface.ConstraintIndex{MathOptInterface.ScalarAffineFunction{Float64}, MathOptInterface.LessThan{Float64}}(2) => [MOI.VariableIndex(2)], MathOptInterface.ConstraintIndex{MathOptInterface.ScalarAffineFunction{Float64}, MathOptInterface.LessThan{Float64}}(7) => [MOI.VariableIndex(7)], MathOptInterface.ConstraintIndex{MathOptInterface.ScalarAffineFunction{Float64}, MathOptInterface.LessThan{Float64}}(3) => [MOI.VariableIndex(3)], MathOptInterface.ConstraintIndex{MathOptInterface.ScalarAffineFunction{Float64}, MathOptInterface.LessThan{Float64}}(8) => [MOI.VariableIndex(8)], MathOptInterface.ConstraintIndex{MathOptInterface.ScalarAffineFunction{Float64}, MathOptInterface.LessThan{Float64}}(1) => [MOI.VariableIndex(1)], MathOptInterface.ConstraintIndex{MathOptInterface.ScalarAffineFunction{Float64}, MathOptInterface.LessThan{Float64}}(4) => [MOI.VariableIndex(4)], MathOptInterface.ConstraintIndex{MathOptInterface.ScalarAffineFunction{Float64}, MathOptInterface.LessThan{Float64}}(5) => [MOI.VariableIndex(5)], MathOptInterface.ConstraintIndex{MathOptInterface.ScalarAffineFunction{Float64}, MathOptInterface.LessThan{Float64}}(6) => [MOI.VariableIndex(6)]), MathOptInterface.ConstraintIndex{MathOptInterface.VectorAffineFunction{Float64}, MathOptInterface.Nonpositives}(1)), 0x00000000000068b4)\n",
      "Resolviendo el problema con SOS1\n",
      "Ocurrió un error: MethodError(BilevelJuMP.get_canonical_complement, (MOIU.CachingOptimizer\n",
      "├ state: NO_OPTIMIZER\n",
      "├ mode: AUTOMATIC\n",
      "├ model_cache: MOIU.UniversalFallback{MOIU.Model{Float64}}\n",
      "│ ├ ObjectiveSense: MIN_SENSE\n",
      "│ ├ ObjectiveFunctionType: MOI.ScalarQuadraticFunction{Float64}\n",
      "│ ├ NumberOfVariables: 8\n",
      "│ └ NumberOfConstraints: 9\n",
      "│   ├ MOI.ScalarAffineFunction{Float64} in MOI.LessThan{Float64}: 8\n",
      "│   └ MOI.VectorAffineFunction{Float64} in MOI.Nonpositives: 1\n",
      "└ optimizer: nothing, Dict{MathOptInterface.ConstraintIndex, Vector{MathOptInterface.VariableIndex}}(MathOptInterface.ConstraintIndex{MathOptInterface.VectorAffineFunction{Float64}, MathOptInterface.Nonpositives}(1) => [MOI.VariableIndex(9), MOI.VariableIndex(10), MOI.VariableIndex(11), MOI.VariableIndex(12)], MathOptInterface.ConstraintIndex{MathOptInterface.ScalarAffineFunction{Float64}, MathOptInterface.LessThan{Float64}}(2) => [MOI.VariableIndex(2)], MathOptInterface.ConstraintIndex{MathOptInterface.ScalarAffineFunction{Float64}, MathOptInterface.LessThan{Float64}}(7) => [MOI.VariableIndex(7)], MathOptInterface.ConstraintIndex{MathOptInterface.ScalarAffineFunction{Float64}, MathOptInterface.LessThan{Float64}}(3) => [MOI.VariableIndex(3)], MathOptInterface.ConstraintIndex{MathOptInterface.ScalarAffineFunction{Float64}, MathOptInterface.LessThan{Float64}}(8) => [MOI.VariableIndex(8)], MathOptInterface.ConstraintIndex{MathOptInterface.ScalarAffineFunction{Float64}, MathOptInterface.LessThan{Float64}}(1) => [MOI.VariableIndex(1)], MathOptInterface.ConstraintIndex{MathOptInterface.ScalarAffineFunction{Float64}, MathOptInterface.LessThan{Float64}}(4) => [MOI.VariableIndex(4)], MathOptInterface.ConstraintIndex{MathOptInterface.ScalarAffineFunction{Float64}, MathOptInterface.LessThan{Float64}}(5) => [MOI.VariableIndex(5)], MathOptInterface.ConstraintIndex{MathOptInterface.ScalarAffineFunction{Float64}, MathOptInterface.LessThan{Float64}}(6) => [MOI.VariableIndex(6)]), MathOptInterface.ConstraintIndex{MathOptInterface.VectorAffineFunction{Float64}, MathOptInterface.Nonpositives}(1)), 0x00000000000068b4)\n",
      "Resolviendo el problema con Product Mode\n",
      "Ocurrió un error: ErrorException(\"Gurobi Error 10009: No Gurobi license found (user root, host 014464f7c4ec, hostid ac110002, cores 12)\")\n"
     ]
    }
   ],
   "source": [
    "start_experiment(model,x,y,\"Bard1988Ex2(nonconvex)\")"
   ]
  },
  {
   "cell_type": "code",
   "execution_count": 16,
   "metadata": {},
   "outputs": [],
   "source": []
  }
 ],
 "metadata": {
  "kernelspec": {
   "display_name": "Julia 1.11.2",
   "language": "julia",
   "name": "julia-1.11"
  },
  "language_info": {
   "file_extension": ".jl",
   "mimetype": "application/julia",
   "name": "julia",
   "version": "1.11.2"
  }
 },
 "nbformat": 4,
 "nbformat_minor": 2
}
