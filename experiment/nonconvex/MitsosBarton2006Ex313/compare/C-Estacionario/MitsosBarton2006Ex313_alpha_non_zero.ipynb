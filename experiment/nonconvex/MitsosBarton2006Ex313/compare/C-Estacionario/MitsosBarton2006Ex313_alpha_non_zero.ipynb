{
 "cells": [
  {
   "cell_type": "markdown",
   "metadata": {},
   "source": [
    "## Importaciones necesarias"
   ]
  },
  {
   "cell_type": "code",
   "execution_count": 1,
   "metadata": {},
   "outputs": [],
   "source": [
    "using JuMP, Ipopt, Complementarity"
   ]
  },
  {
   "cell_type": "markdown",
   "metadata": {},
   "source": [
    "# Crear el modelo"
   ]
  },
  {
   "cell_type": "code",
   "execution_count": 2,
   "metadata": {},
   "outputs": [
    {
     "data": {
      "text/plain": [
       "A JuMP Model\n",
       "├ solver: Ipopt\n",
       "├ objective_sense: FEASIBILITY_SENSE\n",
       "├ num_variables: 0\n",
       "├ num_constraints: 0\n",
       "└ Names registered in the model: none"
      ]
     },
     "metadata": {},
     "output_type": "display_data"
    }
   ],
   "source": [
    "# Crear el modelo\n",
    "model = Model(Ipopt.Optimizer)"
   ]
  },
  {
   "cell_type": "markdown",
   "metadata": {},
   "source": [
    "## Definir Variables\n"
   ]
  },
  {
   "cell_type": "code",
   "execution_count": 3,
   "metadata": {},
   "outputs": [
    {
     "data": {
      "text/plain": [
       "2-element Vector{VariableRef}:\n",
       " l[1]\n",
       " l[2]"
      ]
     },
     "metadata": {},
     "output_type": "display_data"
    }
   ],
   "source": [
    "# Nivel superior\n",
    "@variable(model,x)\n",
    "# Nivel Inferior\n",
    "@variable(model,y)\n",
    "# Complementariedad\n",
    "@variable(model,l[1:2])"
   ]
  },
  {
   "cell_type": "markdown",
   "metadata": {},
   "source": [
    "## Definir Objetivo\n"
   ]
  },
  {
   "cell_type": "code",
   "execution_count": 4,
   "metadata": {},
   "outputs": [
    {
     "data": {
      "text/latex": [
       "$ x - y $"
      ],
      "text/plain": [
       "x - y"
      ]
     },
     "metadata": {},
     "output_type": "display_data"
    }
   ],
   "source": [
    "@objective(model,Min,x-y)"
   ]
  },
  {
   "cell_type": "markdown",
   "metadata": {},
   "source": [
    "## Definir Restricciones\n"
   ]
  },
  {
   "cell_type": "code",
   "execution_count": 5,
   "metadata": {},
   "outputs": [
    {
     "data": {
      "text/latex": [
       "$$ (((x * y - x ^ {3.0}) - 0.89 * l[1]) + 0.23 * l[2]) - 0.0 = 0 $$"
      ],
      "text/plain": [
       "(((x * y - x ^ 3.0) - 0.89 * l[1]) + 0.23 * l[2]) - 0.0 == 0"
      ]
     },
     "metadata": {},
     "output_type": "display_data"
    }
   ],
   "source": [
    "@NLconstraint(model,x*y-x^3-(0.89*l[1])+(0.23*l[2])==0) # Obj nivel inferior"
   ]
  },
  {
   "cell_type": "code",
   "execution_count": 6,
   "metadata": {},
   "outputs": [
    {
     "data": {
      "text/plain": [
       "(-x <= -2.3, x <= 2.3, -0.89 y <= -3.98, 0.23 y <= 1.02)"
      ]
     },
     "metadata": {},
     "output_type": "display_data"
    }
   ],
   "source": [
    "@constraints(model,begin\n",
    "2.3 - x<=0  #gs\n",
    "-2.3 + x<=0  #gs\n",
    "3.98 - 0.89y<=0  #vs\n",
    "-1.02 + 0.23y<=0 #vs\n",
    "end)"
   ]
  },
  {
   "cell_type": "markdown",
   "metadata": {},
   "source": [
    "## Definir restricciones Complementarias"
   ]
  },
  {
   "cell_type": "code",
   "execution_count": 7,
   "metadata": {},
   "outputs": [
    {
     "data": {
      "text/latex": [
       "$$ (sqrt(l[2] ^ {2.0} + (1.02 + -0.23 * y) ^ {2.0} + 1.0e-8) - (l[2] + (1.02 + -0.23 * y))) - 0.0 = 0 $$"
      ],
      "text/plain": [
       "(sqrt(l[2] ^ 2.0 + (1.02 + -0.23 * y) ^ 2.0 + 1.0e-8) - (l[2] + (1.02 + -0.23 * y))) - 0.0 == 0"
      ]
     },
     "metadata": {},
     "output_type": "display_data"
    }
   ],
   "source": [
    "@complements(model,0<=-(3.98 - 0.89y),l[1]>=0)\n",
    "@complements(model,0<=-(-1.02 + 0.23y),l[2]>=0)"
   ]
  },
  {
   "cell_type": "markdown",
   "metadata": {},
   "source": [
    "## Optimizar"
   ]
  },
  {
   "cell_type": "code",
   "execution_count": 8,
   "metadata": {},
   "outputs": [
    {
     "name": "stdout",
     "output_type": "stream",
     "text": [
      "\n",
      "******************************************************************************\n",
      "This program contains Ipopt, a library for large-scale nonlinear optimization.\n",
      " Ipopt is released as open source code under the Eclipse Public License (EPL).\n",
      "         For more information visit https://github.com/coin-or/Ipopt\n",
      "******************************************************************************\n",
      "\n",
      "This is Ipopt version 3.14.16, running with linear solver MUMPS 5.7.3.\n",
      "\n",
      "Number of nonzeros in equality constraint Jacobian...:        8\n",
      "Number of nonzeros in inequality constraint Jacobian.:        8\n",
      "Number of nonzeros in Lagrangian Hessian.............:        9\n",
      "\n",
      "Total number of variables............................:        4\n",
      "                     variables with only lower bounds:        0\n",
      "                variables with lower and upper bounds:        0\n",
      "                     variables with only upper bounds:        0\n",
      "Total number of equality constraints.................:        3\n",
      "Total number of inequality constraints...............:        8\n",
      "        inequality constraints with only lower bounds:        4\n",
      "   inequality constraints with lower and upper bounds:        0\n",
      "        inequality constraints with only upper bounds:        4\n",
      "\n",
      "iter    objective    inf_pr   inf_du lg(mu)  ||d||  lg(rg) alpha_du alpha_pr  ls\n",
      "   0  0.0000000e+00 7.96e+00 3.33e-01  -1.0 0.00e+00    -  0.00e+00 0.00e+00   0\n",
      "   1 -2.0735175e+00 1.90e+00 4.64e+01  -1.0 4.47e+00    -  1.00e+00 9.73e-01h  1\n",
      "   2 -2.1179423e+00 1.59e+00 5.92e+01  -1.0 2.08e-01    -  3.07e-01 1.67e-01h  1\n",
      "   3 -2.1244701e+00 1.54e+00 4.94e+02  -1.0 1.77e-01    -  1.00e+00 2.88e-02h  1\n",
      "   4 -2.1245407e+00 1.54e+00 1.62e+03  -1.0 1.67e-01    -  1.53e-03 3.05e-04h  1\n",
      "   5 -2.1248290e+00 1.54e+00 4.79e+02  -1.0 8.66e-01    -  6.55e-05 5.41e-04h  1\n",
      "   6 -2.1249110e+00 1.54e+00 3.18e+04  -1.0 8.68e-01    -  2.09e-03 1.53e-04h  1\n",
      "   7r-2.1249110e+00 1.54e+00 1.00e+03   0.2 0.00e+00    -  0.00e+00 3.93e-07R  3\n",
      "   8r-2.2612180e+00 6.26e-01 9.95e+02   0.2 1.76e+02    -  1.40e-03 5.43e-03f  1\n",
      "   9 -2.2612229e+00 6.26e-01 1.89e+04  -1.7 1.76e-01    -  8.03e-01 4.70e-05h  1\n",
      "iter    objective    inf_pr   inf_du lg(mu)  ||d||  lg(rg) alpha_du alpha_pr  ls\n",
      "  10 -2.2612267e+00 6.26e-01 1.21e+07  -1.7 7.99e-01    -  6.74e-03 1.03e-05h  1\n",
      "  11r-2.2612267e+00 6.26e-01 1.00e+03  -0.2 0.00e+00    -  0.00e+00 5.40e-08R  2\n",
      "  12r-2.3249574e+00 1.91e-01 1.01e+03  -0.2 4.47e+02    -  2.74e-03 1.39e-03f  1\n",
      "  13r-2.3249574e+00 1.91e-01 9.99e+02  -0.7 0.00e+00    -  0.00e+00 3.02e-07R  5\n",
      "  14r-2.3255531e+00 1.91e-01 9.99e+02  -0.7 6.09e+00    -  1.37e-03 2.56e-04f  1\n",
      "  15r-2.3310609e+00 1.96e-01 9.97e+02  -0.7 1.86e+01    -  7.98e-02 2.48e-03f  1\n",
      "  16r-2.3355865e+00 2.00e-01 9.34e+02  -0.7 2.95e-01    -  7.84e-02 6.35e-02f  1\n",
      "  17r-2.3382494e+00 1.98e-01 8.62e+02  -0.7 1.18e-01    -  1.37e-02 9.08e-02f  1\n",
      "  18r-2.3399426e+00 1.97e-01 7.67e+02  -0.7 4.16e-02    -  9.92e-02 1.17e-01f  1\n",
      "  19r-2.3468690e+00 1.90e-01 7.46e+02  -0.7 5.58e-01    -  1.44e-02 5.87e-02f  1\n",
      "iter    objective    inf_pr   inf_du lg(mu)  ||d||  lg(rg) alpha_du alpha_pr  ls\n",
      "  20r-2.3480511e+00 1.87e-01 9.89e+02  -0.7 1.48e-01    -  9.44e-01 1.40e-01f  1\n",
      "  21r-2.3561177e+00 1.84e-01 5.07e+02  -0.7 3.44e-02    -  1.00e+00 7.60e-01f  1\n",
      "  22r-2.3549403e+00 1.84e-01 4.03e+02  -0.7 5.96e-02    -  6.38e-01 4.54e-01f  1\n",
      "  23r-2.3548153e+00 1.83e-01 3.27e+02  -0.7 2.33e-01    -  2.41e-01 1.39e-01f  1\n",
      "  24r-2.3543127e+00 1.83e-01 2.94e+02  -0.7 3.78e-03   4.0 5.31e-01 8.90e-01f  1\n",
      "  25r-2.3455169e+00 1.73e-01 1.22e+02  -0.7 5.00e-01    -  2.48e-01 7.16e-01f  1\n",
      "  26r-2.2355647e+00 7.80e-02 2.39e+02  -0.7 1.24e+01    -  5.46e-01 3.49e-01f  1\n",
      "  27 -2.2350380e+00 7.77e-02 2.25e+02  -1.7 3.19e+01    -  4.79e-04 4.07e-03h  1\n",
      "  28 -2.2349570e+00 7.77e-02 2.28e+02  -1.7 1.04e+03    -  1.26e-04 4.94e-05h  1\n",
      "  29r-2.2349570e+00 7.77e-02 9.99e+02  -1.1 0.00e+00    -  0.00e+00 3.00e-07R  2\n",
      "iter    objective    inf_pr   inf_du lg(mu)  ||d||  lg(rg) alpha_du alpha_pr  ls\n",
      "  30r-2.2284094e+00 5.70e-02 9.96e+02  -1.1 6.66e+02    -  7.45e-03 3.85e-04f  1\n",
      "  31 -2.2283941e+00 5.70e-02 2.92e+01  -1.7 4.32e+00    -  2.79e-03 1.49e-04h  1\n",
      "  32r-2.2283941e+00 5.70e-02 9.99e+02  -1.2 0.00e+00    -  0.00e+00 3.75e-07R  3\n",
      "  33r-2.2298657e+00 5.85e-02 9.98e+02  -1.2 1.13e+02    -  4.40e-02 1.28e-03f  1\n",
      "  34r-2.1719897e+00 2.32e-02 9.96e+02  -1.2 1.48e+03    -  3.60e-03 1.80e-03f  1\n",
      "  35 -2.1719808e+00 2.32e-02 2.66e+01  -1.7 2.16e+00    -  2.72e-03 1.59e-04h  1\n",
      "  36r-2.1719808e+00 2.32e-02 9.99e+02  -1.6 0.00e+00    -  0.00e+00 3.98e-07R  3\n",
      "  37r-2.1719748e+00 8.43e-03 9.96e+02  -1.6 9.61e+01    -  7.66e-02 1.05e-03f  1\n",
      "  38 -2.1719733e+00 8.43e-03 1.53e+02  -1.7 2.11e+00    -  2.65e-03 2.74e-05h  1\n",
      "  39r-2.1719733e+00 8.43e-03 9.98e+02  -1.7 0.00e+00    -  0.00e+00 1.37e-07R  2\n",
      "iter    objective    inf_pr   inf_du lg(mu)  ||d||  lg(rg) alpha_du alpha_pr  ls\n",
      "  40r-2.1718664e+00 8.43e-03 9.94e+02  -1.7 1.70e+00    -  8.21e-01 4.16e-03f  1\n",
      "  41r-2.1717872e+00 8.52e-03 3.24e+02  -1.7 2.80e-02    -  1.00e+00 6.74e-01f  1\n",
      "  42r-2.1719469e+00 8.54e-03 9.60e+01  -1.7 2.96e-03    -  9.08e-01 7.04e-01f  1\n",
      "  43r-2.1719274e+00 8.55e-03 2.14e+01  -1.7 2.44e-02   2.0 1.00e+00 1.00e+00f  1\n",
      "  44r-2.1719195e+00 8.55e-03 1.59e+00  -1.7 6.20e-03    -  9.90e-01 1.00e+00f  1\n",
      "  45r-2.1719127e+00 8.54e-03 7.69e+01  -1.7 7.39e-01    -  1.49e-01 1.00e+00f  1\n",
      "  46r-2.1719223e+00 8.55e-03 1.04e-02  -1.7 1.59e+00    -  1.00e+00 1.00e+00f  1\n",
      "  47r-2.1719101e+00 8.54e-03 3.87e-02  -3.8 1.20e+00    -  1.00e+00 1.00e+00f  1\n",
      "  48r-2.1719102e+00 8.54e-03 1.26e-05  -3.8 5.00e-02    -  1.00e+00 1.00e+00h  1\n",
      "  49r-2.1719101e+00 8.54e-03 2.65e+00  -5.7 4.09e-01    -  1.00e+00 9.46e-01f  1\n",
      "iter    objective    inf_pr   inf_du lg(mu)  ||d||  lg(rg) alpha_du alpha_pr  ls\n",
      "  50r-2.1719101e+00 8.54e-03 1.11e+02  -5.7 7.14e-01    -  5.06e-01 7.94e-01f  1\n",
      "  51r-2.1719101e+00 8.54e-03 3.66e-03  -5.7 1.35e+00    -  1.00e+00 1.00e+00f  1\n",
      "  52r-2.1719101e+00 8.54e-03 2.64e-05  -5.7 1.24e-01    -  1.00e+00 1.00e+00h  1\n",
      "  53r-2.1719101e+00 8.54e-03 1.00e+01  -8.6 3.69e-03    -  7.93e-01 9.25e-01f  1\n",
      "  54r-2.1719101e+00 8.54e-03 1.15e+01  -8.6 4.82e+00    -  3.65e-01 1.00e+00f  1\n",
      "  55r-2.1719101e+00 8.54e-03 2.70e+00  -8.6 5.09e+00    -  7.61e-01 1.00e+00h  1\n",
      "  56r-2.1719101e+00 8.54e-03 1.34e-03  -8.6 2.64e+00    -  1.00e+00 1.00e+00h  1\n",
      "  57r-2.1719101e+00 8.54e-03 1.88e-05  -8.6 3.55e-01    -  1.00e+00 1.00e+00h  1\n",
      "\n",
      "Number of Iterations....: 57\n",
      "\n",
      "                                   (scaled)                 (unscaled)\n",
      "Objective...............:  -2.1719101134624998e+00   -2.1719101134624998e+00\n",
      "Dual infeasibility......:   9.9999999805942252e-01    9.9999999805942252e-01\n",
      "Constraint violation....:   8.5408551581416248e-03    8.5408551581416248e-03\n",
      "Variable bound violation:   0.0000000000000000e+00    0.0000000000000000e+00\n",
      "Complementarity.........:   2.5059954104485067e-09    2.5059954104485067e-09\n",
      "Overall NLP error.......:   3.2894198954171672e-01    9.9999999805942252e-01\n",
      "\n",
      "\n",
      "Number of objective function evaluations             = 79\n",
      "Number of objective gradient evaluations             = 28\n",
      "Number of equality constraint evaluations            = 79\n",
      "Number of inequality constraint evaluations          = 79\n",
      "Number of equality constraint Jacobian evaluations   = 66\n",
      "Number of inequality constraint Jacobian evaluations = 66\n",
      "Number of Lagrangian Hessian evaluations             = 58\n",
      "Total seconds in IPOPT                               = 2.008\n",
      "\n",
      "EXIT: Converged to a point of local infeasibility. Problem may be infeasible.\n"
     ]
    }
   ],
   "source": [
    "# Resolver el modelo\n",
    "optimize!(model)"
   ]
  },
  {
   "cell_type": "markdown",
   "metadata": {},
   "source": [
    "# Mostrar resultados"
   ]
  },
  {
   "cell_type": "code",
   "execution_count": 9,
   "metadata": {},
   "outputs": [
    {
     "name": "stdout",
     "output_type": "stream",
     "text": [
      "Estado de la solución: LOCALLY_INFEASIBLE\n",
      "Valor óptimo de x: 2.3000000002735974\n",
      "Valor óptimo de y1: 4.471910113736097\n",
      "Valores óptimos de l: [4.049051575546386, 23.84896801635542]\n"
     ]
    }
   ],
   "source": [
    "# Mostrar resultados\n",
    "println(\"Estado de la solución: \", termination_status(model))\n",
    "println(\"Valor óptimo de x: \", value(x))\n",
    "println(\"Valor óptimo de y1: \", value(y))\n",
    "#println(\"Valor óptimo de y2: \", value(y))\n",
    "#println(\"Valores óptimos de s: \", value.(s))\n",
    "println(\"Valores óptimos de l: \", value.(l))"
   ]
  },
  {
   "cell_type": "code",
   "execution_count": 10,
   "metadata": {},
   "outputs": [
    {
     "data": {
      "text/plain": [
       "-2.1719101134625"
      ]
     },
     "metadata": {},
     "output_type": "display_data"
    }
   ],
   "source": [
    "objective_value(model)"
   ]
  }
 ],
 "metadata": {
  "kernelspec": {
   "display_name": "Julia 1.10.5",
   "language": "julia",
   "name": "julia-1.10"
  },
  "language_info": {
   "file_extension": ".jl",
   "mimetype": "application/julia",
   "name": "julia",
   "version": "1.10.5"
  }
 },
 "nbformat": 4,
 "nbformat_minor": 2
}
