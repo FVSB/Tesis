{
 "cells": [
  {
   "cell_type": "markdown",
   "metadata": {},
   "source": [
    "## Importaciones necesarias"
   ]
  },
  {
   "cell_type": "code",
   "execution_count": 1,
   "metadata": {},
   "outputs": [],
   "source": [
    "using JuMP, Ipopt, Complementarity"
   ]
  },
  {
   "cell_type": "markdown",
   "metadata": {},
   "source": [
    "# Crear el modelo"
   ]
  },
  {
   "cell_type": "code",
   "execution_count": 2,
   "metadata": {},
   "outputs": [
    {
     "data": {
      "text/plain": [
       "A JuMP Model\n",
       "├ solver: Ipopt\n",
       "├ objective_sense: FEASIBILITY_SENSE\n",
       "├ num_variables: 0\n",
       "├ num_constraints: 0\n",
       "└ Names registered in the model: none"
      ]
     },
     "metadata": {},
     "output_type": "display_data"
    }
   ],
   "source": [
    "# Crear el modelo\n",
    "model = Model(Ipopt.Optimizer)"
   ]
  },
  {
   "cell_type": "markdown",
   "metadata": {},
   "source": [
    "## Definir Variables\n"
   ]
  },
  {
   "cell_type": "code",
   "execution_count": 3,
   "metadata": {},
   "outputs": [
    {
     "data": {
      "text/plain": [
       "2-element Vector{VariableRef}:\n",
       " l[1]\n",
       " l[2]"
      ]
     },
     "metadata": {},
     "output_type": "display_data"
    }
   ],
   "source": [
    "# Nivel superior\n",
    "@variable(model,x)\n",
    "# Nivel Inferior\n",
    "@variable(model,y)\n",
    "# Complementariedad\n",
    "@variable(model,l[1:2])"
   ]
  },
  {
   "cell_type": "markdown",
   "metadata": {},
   "source": [
    "## Definir Objetivo\n"
   ]
  },
  {
   "cell_type": "code",
   "execution_count": 4,
   "metadata": {},
   "outputs": [
    {
     "data": {
      "text/latex": [
       "$ x^2 + y^2 - 0.5 x + 0.0625 $"
      ],
      "text/plain": [
       "x² + y² - 0.5 x + 0.0625"
      ]
     },
     "metadata": {},
     "output_type": "display_data"
    }
   ],
   "source": [
    "@objective(model,Min,((x-0.25)^2)+(y^2))"
   ]
  },
  {
   "cell_type": "markdown",
   "metadata": {},
   "source": [
    "## Definir Restricciones\n"
   ]
  },
  {
   "cell_type": "code",
   "execution_count": 5,
   "metadata": {},
   "outputs": [
    {
     "data": {
      "text/latex": [
       "$$ ((y ^ {2.0} - x) + 3.04 * l[1] + 1.37 * l[2]) - 0.0 = 0 $$"
      ],
      "text/plain": [
       "((y ^ 2.0 - x) + 3.04 * l[1] + 1.37 * l[2]) - 0.0 == 0"
      ]
     },
     "metadata": {},
     "output_type": "display_data"
    }
   ],
   "source": [
    "@NLconstraint(model,(y^2)-x+(3.04l[1])+(1.37l[2])==0) # Obj nivel inferior"
   ]
  },
  {
   "cell_type": "code",
   "execution_count": 6,
   "metadata": {},
   "outputs": [
    {
     "data": {
      "text/plain": [
       "(x <= 2.1, -x <= -2.1, 3.04 y <= 10.03, 1.37 y <= 4.52)"
      ]
     },
     "metadata": {},
     "output_type": "display_data"
    }
   ],
   "source": [
    "@constraints(model,begin\n",
    "-2.1 + x<=0  #gs\n",
    "2.1 - x<=0  #gs\n",
    "-10.03 + 3.04y<=0  #vs\n",
    "-4.52 + 1.37y<=0 #vs\n",
    "end)"
   ]
  },
  {
   "cell_type": "markdown",
   "metadata": {},
   "source": [
    "## Definir variables Complementarias"
   ]
  },
  {
   "cell_type": "code",
   "execution_count": 7,
   "metadata": {},
   "outputs": [
    {
     "data": {
      "text/latex": [
       "$$ (sqrt(l[2] ^ {2.0} + (4.52 + -1.37 * y) ^ {2.0} + 1.0e-8) - (l[2] + (4.52 + -1.37 * y))) - 0.0 = 0 $$"
      ],
      "text/plain": [
       "(sqrt(l[2] ^ 2.0 + (4.52 + -1.37 * y) ^ 2.0 + 1.0e-8) - (l[2] + (4.52 + -1.37 * y))) - 0.0 == 0"
      ]
     },
     "metadata": {},
     "output_type": "display_data"
    }
   ],
   "source": [
    "@complements(model,0<=-(-10.03 + 3.04y),l[1]>=0)\n",
    "@complements(model,0<=-(-4.52 + 1.37y),l[2]>=0)"
   ]
  },
  {
   "cell_type": "markdown",
   "metadata": {},
   "source": [
    "## Optimizar"
   ]
  },
  {
   "cell_type": "code",
   "execution_count": 8,
   "metadata": {},
   "outputs": [
    {
     "name": "stdout",
     "output_type": "stream",
     "text": [
      "\n",
      "******************************************************************************\n",
      "This program contains Ipopt, a library for large-scale nonlinear optimization.\n",
      " Ipopt is released as open source code under the Eclipse Public License (EPL).\n",
      "         For more information visit https://github.com/coin-or/Ipopt\n",
      "******************************************************************************\n",
      "\n",
      "This is Ipopt version 3.14.16, running with linear solver MUMPS 5.7.3.\n",
      "\n",
      "Number of nonzeros in equality constraint Jacobian...:        8\n",
      "Number of nonzeros in inequality constraint Jacobian.:        8\n",
      "Number of nonzeros in Lagrangian Hessian.............:        9\n",
      "\n",
      "Total number of variables............................:        4\n",
      "                     variables with only lower bounds:        0\n",
      "                variables with lower and upper bounds:        0\n",
      "                     variables with only upper bounds:        0\n",
      "Total number of equality constraints.................:        3\n",
      "Total number of inequality constraints...............:        8\n",
      "        inequality constraints with only lower bounds:        4\n",
      "   inequality constraints with lower and upper bounds:        0\n",
      "        inequality constraints with only upper bounds:        4\n",
      "\n",
      "iter    objective    inf_pr   inf_du lg(mu)  ||d||  lg(rg) alpha_du alpha_pr  ls\n",
      "   0  6.2500000e-02 2.10e+00 1.15e+00  -1.0 0.00e+00    -  0.00e+00 0.00e+00   0\n",
      "   1  6.2500105e-02 2.10e+00 1.03e+02  -1.0 2.12e+00    -  9.90e-01 9.80e-03h  1\n",
      "   2  6.2510220e-02 2.10e+00 1.12e+05  -1.0 9.20e+01   0.0 1.08e-01 9.99e-05h  1\n",
      "   3  6.2631813e-02 2.10e+00 1.31e+03  -1.0 9.54e+02    -  1.12e-02 3.02e-05h 16\n",
      "   4  6.3256533e-02 2.10e+00 1.22e+06  -1.0 2.49e+02    -  1.00e+00 2.37e-04h  3\n",
      "   5  6.9275239e-02 2.10e+00 1.08e+06  -1.0 9.90e+01    -  1.05e-01 1.93e-03h 10\n",
      "   6  1.1561452e-01 2.06e+00 1.07e+04  -1.0 3.34e+01    -  1.00e+00 1.55e-02h  7\n",
      "   7  5.4772399e-01 1.81e+00 1.74e+02  -1.0 1.16e+01    -  9.00e-01 1.24e-01h  4\n",
      "   8  6.5246672e+00 1.09e+00 3.39e+02  -1.0 3.20e+00    -  1.00e+00 9.89e-01h  1\n",
      "   9  5.6968003e+00 1.75e-01 1.04e+02  -1.0 9.11e-01    -  1.00e+00 9.07e-01h  1\n",
      "iter    objective    inf_pr   inf_du lg(mu)  ||d||  lg(rg) alpha_du alpha_pr  ls\n",
      "  10  5.6662857e+00 1.51e-01 1.04e+04  -1.0 1.86e-01    -  1.00e+00 1.39e-01h  1\n",
      "  11  5.5560808e+00 3.37e-02 5.17e+03  -1.0 1.51e-01    -  1.00e+00 7.87e-01h  1\n",
      "  12  5.5368018e+00 1.50e-02 3.10e+04  -1.0 3.53e-02    -  1.00e+00 5.57e-01h  1\n",
      "  13  5.5286389e+00 6.15e-03 7.17e+04  -1.0 1.54e-02    -  1.00e+00 5.90e-01h  1\n",
      "  14  5.5249399e+00 2.55e-03 1.70e+05  -1.0 6.48e-03    -  1.00e+00 5.85e-01h  1\n",
      "  15  5.5235537e+00 1.05e-03 3.79e+05  -1.0 2.63e-03    -  1.00e+00 5.87e-01h  1\n",
      "  16  5.5229163e+00 4.36e-04 7.71e+05  -1.0 1.11e-03    -  1.00e+00 5.87e-01h  1\n",
      "  17  5.5226787e+00 1.79e-04 1.29e+06  -1.0 4.50e-04    -  1.00e+00 5.89e-01h  1\n",
      "  18  5.5226240e+00 1.26e-04 2.68e+06  -1.0 1.89e-04    -  1.00e+00 2.97e-01f  2\n",
      "  19  5.5225209e+00 2.20e-05 6.91e+05  -1.0 1.32e-04    -  1.00e+00 8.25e-01h  1\n",
      "iter    objective    inf_pr   inf_du lg(mu)  ||d||  lg(rg) alpha_du alpha_pr  ls\n",
      "  20  5.5225159e+00 1.64e-05 9.89e+05  -1.0 2.26e-05    -  1.00e+00 2.56e-01f  2\n",
      "  21  5.5225001e+00 3.14e-11 1.00e-06  -1.0 1.70e-05    -  1.00e+00 1.00e+00h  1\n",
      "  22  5.5225001e+00 3.30e-16 1.93e+01  -8.6 3.29e-11    -  1.00e+00 1.00e+00h  1\n",
      "In iteration 22, 1 Slack too small, adjusting variable bound\n",
      "  23  5.5224999e+00 1.09e-16 4.38e-01  -8.6 4.46e-08    -  1.00e+00 8.99e-01h  1\n",
      "  24  5.5224999e+00 5.53e-16 2.51e-14  -8.6 4.92e-10    -  1.00e+00 1.00e+00f  1\n",
      "\n",
      "Number of Iterations....: 24\n",
      "\n",
      "                                   (scaled)                 (unscaled)\n",
      "Objective...............:   5.5224999013993923e+00    5.5224999013993923e+00\n",
      "Dual infeasibility......:   2.5104918144336352e-14    2.5104918144336352e-14\n",
      "Constraint violation....:   5.5271725498674609e-16    5.5271725498674609e-16\n",
      "Variable bound violation:   0.0000000000000000e+00    0.0000000000000000e+00\n",
      "Complementarity.........:   2.7570989599319555e-09    2.7570989599319555e-09\n",
      "Overall NLP error.......:   2.7570989599319555e-09    2.7570989599319555e-09\n",
      "\n",
      "\n",
      "Number of objective function evaluations             = 70\n",
      "Number of objective gradient evaluations             = 25\n",
      "Number of equality constraint evaluations            = 72\n",
      "Number of inequality constraint evaluations          = 72\n",
      "Number of equality constraint Jacobian evaluations   = 25\n",
      "Number of inequality constraint Jacobian evaluations = 25\n",
      "Number of Lagrangian Hessian evaluations             = 24\n",
      "Total seconds in IPOPT                               = 3.810\n",
      "\n",
      "EXIT: Optimal Solution Found.\n"
     ]
    }
   ],
   "source": [
    "# Resolver el modelo\n",
    "optimize!(model)"
   ]
  },
  {
   "cell_type": "markdown",
   "metadata": {},
   "source": [
    "# Mostrar resultados"
   ]
  },
  {
   "cell_type": "code",
   "execution_count": 9,
   "metadata": {},
   "outputs": [
    {
     "name": "stdout",
     "output_type": "stream",
     "text": [
      "Estado de la solución: LOCALLY_SOLVED\n",
      "Valor óptimo de x: 2.0999999794692235\n",
      "Valor óptimo de y1: -1.4491376668085283\n",
      "Valores óptimos de l: [3.4637260917503453e-10, 7.686023606379396e-10]\n"
     ]
    }
   ],
   "source": [
    "# Mostrar resultados\n",
    "println(\"Estado de la solución: \", termination_status(model))\n",
    "println(\"Valor óptimo de x: \", value(x))\n",
    "println(\"Valor óptimo de y1: \", value(y))\n",
    "#println(\"Valor óptimo de y2: \", value(y2))\n",
    "#println(\"Valores óptimos de s: \", value.(s))\n",
    "println(\"Valores óptimos de l: \", value.(l))"
   ]
  },
  {
   "cell_type": "code",
   "execution_count": 10,
   "metadata": {},
   "outputs": [
    {
     "data": {
      "text/plain": [
       "5.522499901399392"
      ]
     },
     "metadata": {},
     "output_type": "display_data"
    }
   ],
   "source": [
    "objective_value(model)"
   ]
  },
  {
   "cell_type": "code",
   "execution_count": 11,
   "metadata": {},
   "outputs": [],
   "source": []
  }
 ],
 "metadata": {
  "kernelspec": {
   "display_name": "Julia 1.10.5",
   "language": "julia",
   "name": "julia-1.10"
  },
  "language_info": {
   "file_extension": ".jl",
   "mimetype": "application/julia",
   "name": "julia",
   "version": "1.10.5"
  }
 },
 "nbformat": 4,
 "nbformat_minor": 2
}
