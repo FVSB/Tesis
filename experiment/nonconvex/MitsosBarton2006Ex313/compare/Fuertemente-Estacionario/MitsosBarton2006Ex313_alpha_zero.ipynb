{
 "cells": [
  {
   "cell_type": "markdown",
   "metadata": {},
   "source": [
    "## Importaciones necesarias"
   ]
  },
  {
   "cell_type": "code",
   "execution_count": 1,
   "metadata": {},
   "outputs": [],
   "source": [
    "using JuMP, Ipopt, Complementarity"
   ]
  },
  {
   "cell_type": "markdown",
   "metadata": {},
   "source": [
    "# Crear el modelo"
   ]
  },
  {
   "cell_type": "code",
   "execution_count": 2,
   "metadata": {},
   "outputs": [
    {
     "data": {
      "text/plain": [
       "A JuMP Model\n",
       "├ solver: Ipopt\n",
       "├ objective_sense: FEASIBILITY_SENSE\n",
       "├ num_variables: 0\n",
       "├ num_constraints: 0\n",
       "└ Names registered in the model: none"
      ]
     },
     "metadata": {},
     "output_type": "display_data"
    }
   ],
   "source": [
    "# Crear el modelo\n",
    "model = Model(Ipopt.Optimizer)"
   ]
  },
  {
   "cell_type": "markdown",
   "metadata": {},
   "source": [
    "## Definir Variables\n"
   ]
  },
  {
   "cell_type": "code",
   "execution_count": 3,
   "metadata": {},
   "outputs": [
    {
     "data": {
      "text/plain": [
       "2-element Vector{VariableRef}:\n",
       " l[1]\n",
       " l[2]"
      ]
     },
     "metadata": {},
     "output_type": "display_data"
    }
   ],
   "source": [
    "# Nivel superior\n",
    "@variable(model,x)\n",
    "# Nivel Inferior\n",
    "@variable(model,y)\n",
    "# Complementariedad\n",
    "@variable(model,l[1:2])"
   ]
  },
  {
   "cell_type": "markdown",
   "metadata": {},
   "source": [
    "## Definir Objetivo\n"
   ]
  },
  {
   "cell_type": "code",
   "execution_count": 4,
   "metadata": {},
   "outputs": [
    {
     "data": {
      "text/latex": [
       "$ x - y $"
      ],
      "text/plain": [
       "x - y"
      ]
     },
     "metadata": {},
     "output_type": "display_data"
    }
   ],
   "source": [
    "@objective(model,Min,x-y)"
   ]
  },
  {
   "cell_type": "markdown",
   "metadata": {},
   "source": [
    "## Definir Restricciones\n"
   ]
  },
  {
   "cell_type": "code",
   "execution_count": 5,
   "metadata": {},
   "outputs": [
    {
     "data": {
      "text/latex": [
       "$$ (((x * y - x ^ {3.0}) + l[1]) - l[2]) - 0.0 = 0 $$"
      ],
      "text/plain": [
       "(((x * y - x ^ 3.0) + l[1]) - l[2]) - 0.0 == 0"
      ]
     },
     "metadata": {},
     "output_type": "display_data"
    }
   ],
   "source": [
    "@NLconstraint(model,x*y-x^3+l[1]-l[2]==0) # Obj nivel inferior"
   ]
  },
  {
   "cell_type": "code",
   "execution_count": 6,
   "metadata": {},
   "outputs": [
    {
     "data": {
      "text/plain": [
       "(-x <= -2.3, x <= 2.3, y <= 4.45, -y <= -4.45)"
      ]
     },
     "metadata": {},
     "output_type": "display_data"
    }
   ],
   "source": [
    "@constraints(model,begin\n",
    "2.3 - x<=0  #gs\n",
    "-2.3 + x<=0  #gs\n",
    "-4.45 + y<=0  #vs\n",
    "4.45 - y<=0 #vs\n",
    "end)"
   ]
  },
  {
   "cell_type": "markdown",
   "metadata": {},
   "source": [
    "## Definir restricciones Complementarias"
   ]
  },
  {
   "cell_type": "code",
   "execution_count": 7,
   "metadata": {},
   "outputs": [
    {
     "data": {
      "text/latex": [
       "$$ (sqrt(l[2] ^ {2.0} + (-4.45) ^ {2.0} + 1.0e-8) - (l[2] + -4.45)) - 0.0 = 0 $$"
      ],
      "text/plain": [
       "(sqrt(l[2] ^ 2.0 + (-4.45) ^ 2.0 + 1.0e-8) - (l[2] + -4.45)) - 0.0 == 0"
      ]
     },
     "metadata": {},
     "output_type": "display_data"
    }
   ],
   "source": [
    "@complements(model,0<=-(-4.45 + y),l[1]>=0)\n",
    "@complements(model,0<=-(4.45),l[2]>=0)"
   ]
  },
  {
   "cell_type": "markdown",
   "metadata": {},
   "source": [
    "## Optimizar"
   ]
  },
  {
   "cell_type": "code",
   "execution_count": 8,
   "metadata": {},
   "outputs": [
    {
     "name": "stdout",
     "output_type": "stream",
     "text": [
      "\n",
      "******************************************************************************\n",
      "This program contains Ipopt, a library for large-scale nonlinear optimization.\n",
      " Ipopt is released as open source code under the Eclipse Public License (EPL).\n",
      "         For more information visit https://github.com/coin-or/Ipopt\n",
      "******************************************************************************\n",
      "\n",
      "This is Ipopt version 3.14.16, running with linear solver MUMPS 5.7.3.\n",
      "\n",
      "Number of nonzeros in equality constraint Jacobian...:        7\n",
      "Number of nonzeros in inequality constraint Jacobian.:        7\n",
      "Number of nonzeros in Lagrangian Hessian.............:        7\n",
      "\n",
      "Total number of variables............................:        4\n",
      "                     variables with only lower bounds:        0\n",
      "                variables with lower and upper bounds:        0\n",
      "                     variables with only upper bounds:        0\n",
      "Total number of equality constraints.................:        3\n",
      "Total number of inequality constraints...............:        8\n",
      "        inequality constraints with only lower bounds:        4\n",
      "   inequality constraints with lower and upper bounds:        0\n",
      "        inequality constraints with only upper bounds:        4\n",
      "\n",
      "iter    objective    inf_pr   inf_du lg(mu)  ||d||  lg(rg) alpha_du alpha_pr  ls\n",
      "   0  0.0000000e+00 8.90e+00 3.33e-01  -1.0 0.00e+00    -  0.00e+00 0.00e+00   0\n",
      "   1 -4.8364366e-03 8.89e+00 1.15e+04  -1.0 5.93e+00    -  1.70e-03 2.22e-03h  1\n",
      "   2 -1.4610098e-02 8.89e+00 3.36e+04  -1.0 8.91e+02    -  4.96e-05 2.22e-05h  1\n",
      "   3r-1.4610098e-02 8.89e+00 9.99e+02   0.9 0.00e+00   6.0 0.00e+00 1.11e-07R  2\n",
      "   4r-1.3172346e-02 8.89e+00 9.99e+02   0.9 1.47e+03    -  4.24e-01 4.67e-05f  1\n",
      "   5r-9.9396998e-01 8.82e+00 8.90e+02   0.9 1.38e+01    -  7.61e-02 1.70e-01f  1\n",
      "   6r-1.4840829e+00 8.24e+00 7.57e+02   0.9 2.32e+00   2.0 2.11e-01 2.71e-01f  1\n",
      "   7r-2.8267348e+00 7.00e+00 5.45e+02   0.9 6.83e+00    -  1.01e-01 2.78e-01f  1\n",
      "   8 -2.8327633e+00 6.99e+00 4.52e+00  -1.0 1.42e+01    -  7.68e-03 1.71e-03h  1\n",
      "   9 -2.8327775e+00 6.99e+00 2.55e+03  -1.0 1.43e+01    -  7.97e-03 1.72e-05h  1\n",
      "iter    objective    inf_pr   inf_du lg(mu)  ||d||  lg(rg) alpha_du alpha_pr  ls\n",
      "  10r-2.8327775e+00 6.99e+00 1.00e+03   0.8 0.00e+00    -  0.00e+00 8.59e-08R  2\n",
      "  11r-2.8650252e+00 6.86e+00 9.98e+02   0.8 1.73e+02    -  1.56e-02 1.54e-03f  1\n",
      "  12r-3.3048991e+00 6.12e+00 9.71e+02   0.8 7.91e+01    -  1.03e-02 2.78e-02f  1\n",
      "  13 -3.3048721e+00 6.12e+00 1.85e+04  -1.0 2.50e+01    -  3.34e-02 2.29e-05h  2\n",
      "  14 -3.3048585e+00 6.12e+00 1.35e+08  -1.0 2.51e+01    -  1.69e-01 1.15e-05h  2\n",
      "  15r-3.3048585e+00 6.12e+00 1.00e+03   0.8 0.00e+00    -  0.00e+00 3.64e-07R  6\n",
      "  16r-2.1577817e+00 6.20e+00 9.92e+02   0.8 1.55e+02    -  4.86e-01 7.40e-03f  1\n",
      "  17r-2.1799458e+00 5.40e+00 9.25e+02   0.8 4.26e+01    -  3.29e-02 1.25e-01f  1\n",
      "  18r-2.1666008e+00 5.08e+00 4.96e+02   0.8 1.74e+01    -  1.00e+00 4.28e-01f  1\n",
      "  19r-2.1567605e+00 5.10e+00 1.33e+00   0.8 2.61e+00    -  1.00e+00 1.00e+00h  1\n",
      "iter    objective    inf_pr   inf_du lg(mu)  ||d||  lg(rg) alpha_du alpha_pr  ls\n",
      "  20 -2.1573041e+00 5.09e+00 3.82e+01  -1.0 1.23e+02    -  5.15e-02 1.36e-03h  1\n",
      "  21 -2.1573050e+00 5.09e+00 3.05e+05  -1.0 1.25e+02    -  1.07e-01 1.36e-05h  1\n",
      "  22r-2.1573050e+00 5.09e+00 1.00e+03   0.7 0.00e+00    -  0.00e+00 6.81e-08R  2\n",
      "  23r-2.1503311e+00 4.52e+00 9.33e+02   0.7 1.86e+03    -  9.32e-03 6.67e-02f  1\n",
      "  24 -2.1506252e+00 4.52e+00 3.21e+01  -1.0 8.86e+03    -  2.40e-03 7.56e-05h  1\n",
      "  25r-2.1506252e+00 4.52e+00 9.99e+02   0.7 0.00e+00    -  0.00e+00 3.78e-07R  2\n",
      "  26r-2.1632666e+00 4.52e+00 9.86e+02   0.7 5.21e+01    -  7.42e-01 1.27e-02f  1\n",
      "  27r-2.1412551e+00 4.46e+00 2.04e+02   0.7 7.09e+02    -  1.81e-01 1.00e+00f  1\n",
      "  28r-2.1498347e+00 4.48e+00 5.34e+00  -0.0 5.38e+02    -  1.00e+00 9.28e-01h  1\n",
      "  29r-2.1499583e+00 4.47e+00 1.38e+00  -1.4 1.06e+02    -  7.74e-01 1.00e+00h  1\n",
      "iter    objective    inf_pr   inf_du lg(mu)  ||d||  lg(rg) alpha_du alpha_pr  ls\n",
      "  30r-2.1499950e+00 4.47e+00 2.97e+00  -2.2 1.82e+02    -  8.42e-01 1.00e+00f  1\n",
      "  31r-2.1499948e+00 4.46e+00 6.72e-03  -2.2 2.39e+02    -  1.00e+00 1.00e+00f  1\n",
      "  32r-2.1500000e+00 4.46e+00 1.18e-01  -4.9 1.78e+02    -  8.33e-01 1.00e+00f  1\n",
      "  33r-2.1500000e+00 4.46e+00 3.59e-03  -4.9 4.96e+02    -  1.00e+00 1.00e+00f  1\n",
      "  34r-2.1500000e+00 4.45e+00 1.32e-03  -4.9 6.32e+02    -  1.00e+00 1.00e+00f  1\n",
      "  35r-2.1500000e+00 4.45e+00 3.22e-04  -4.9 5.79e+02    -  1.00e+00 1.00e+00h  1\n",
      "  36r-2.1500000e+00 4.45e+00 2.75e-05  -4.9 2.45e+02    -  1.00e+00 1.00e+00h  1\n",
      "  37r-2.1500000e+00 4.45e+00 6.18e+01  -7.3 2.50e+01    -  9.95e-01 7.42e-01h  1\n",
      "  38r-2.1500000e+00 4.45e+00 1.38e+01  -7.3 2.53e+00  -4.0 8.32e-01 8.08e-01h  1\n",
      "  39r-2.1500000e+00 4.45e+00 4.15e-04  -7.3 1.38e+03    -  1.00e+00 1.00e+00f  1\n",
      "iter    objective    inf_pr   inf_du lg(mu)  ||d||  lg(rg) alpha_du alpha_pr  ls\n",
      "  40r-2.1500000e+00 4.45e+00 1.39e-04  -7.3 1.63e+03    -  1.00e+00 1.00e+00f  1\n",
      "  41r-2.1500000e+00 4.45e+00 2.67e-05  -7.3 1.23e+03    -  1.00e+00 1.00e+00h  1\n",
      "  42r-2.1500000e+00 4.45e+00 1.06e-04  -7.3 2.49e+02    -  1.00e+00 1.00e+00h  1\n",
      "  43r-2.1500000e+00 4.45e+00 8.46e+02  -7.3 3.48e-03  -3.2 6.55e-02 7.84e-01h  1\n",
      "  44r-2.1500000e+00 4.45e+00 8.52e+02  -7.3 1.79e-01    -  1.00e+00 9.77e-04f 11\n",
      "  45r-2.1500000e+00 4.45e+00 3.50e-06  -7.3 1.09e-02  -3.7 1.00e+00 1.00e+00h  1\n",
      "  46r-2.1500000e+00 4.45e+00 4.23e-05  -7.3 8.28e+01    -  1.00e+00 1.00e+00f  1\n",
      "  47r-2.1500000e+00 4.45e+00 3.87e-04  -7.3 1.29e+02    -  1.00e+00 1.00e+00h  1\n",
      "  48r-2.1500000e+00 4.45e+00 3.51e-05  -7.3 9.64e+01    -  1.00e+00 1.00e+00h  1\n",
      "  49r-2.1500000e+00 4.45e+00 2.02e-06  -7.3 1.14e+01    -  1.00e+00 1.00e+00h  1\n",
      "iter    objective    inf_pr   inf_du lg(mu)  ||d||  lg(rg) alpha_du alpha_pr  ls\n",
      "  50r-2.1500000e+00 4.45e+00 7.44e-05  -9.0 3.30e-03    -  1.00e+00 1.00e+00h  1\n",
      "  51r-2.1500000e+00 4.45e+00 3.67e-05  -9.0 5.23e-01  -4.2 1.00e+00 1.00e+00f  1\n",
      "  52r-2.1500000e+00 4.45e+00 3.25e-03  -9.0 9.61e+02    -  1.00e+00 1.00e+00f  1\n",
      "In iteration 52, 1 Slack too small, adjusting variable bound\n",
      "  53r-2.1500000e+00 4.45e+00 8.10e-02  -9.0 2.04e+07    -  4.04e-04 3.93e-04f  1\n",
      "  54r-2.1500000e+00 4.45e+00 1.17e+03  -9.0 4.62e+05    -  1.00e+00 1.00e+00H  1\n",
      "  55r-2.1500000e+00 4.45e+00 4.65e-05  -9.0 5.53e+00  -5.1 1.00e+00 1.00e+00F  1\n",
      "  56r-2.1500000e+00 4.45e+00 4.28e-01  -9.0 1.23e+08    -  5.79e-05 7.33e-04f  6\n",
      "  57r-2.1500000e+00 4.45e+00 3.67e-01  -9.0 1.95e+04    -  1.00e+00 1.25e-01h  4\n",
      "  58r-2.1500000e+00 4.45e+00 3.47e-01  -9.0 2.15e+04    -  9.04e-01 6.25e-02h  5\n",
      "  59r-2.1500000e+00 4.45e+00 3.39e-01  -9.0 1.74e+04    -  1.00e+00 2.64e-02h  6\n",
      "iter    objective    inf_pr   inf_du lg(mu)  ||d||  lg(rg) alpha_du alpha_pr  ls\n",
      "  60r-2.1500000e+00 4.45e+00 3.28e-01  -9.0 3.61e+04    -  1.00e+00 3.12e-02h  6\n",
      "  61r-2.1500000e+00 4.45e+00 3.18e-01  -9.0 4.04e+04    -  1.00e+00 3.12e-02h  6\n",
      "  62r-2.1500000e+00 4.45e+00 1.73e-02  -9.0 4.08e+04    -  1.00e+00 1.00e+00h  1\n",
      "  63r-2.1500000e+00 4.45e+00 3.70e-05  -9.0 3.13e-02  -2.9 1.00e+00 1.00e+00h  1\n",
      "  64r-2.1500000e+00 4.45e+00 3.70e-05  -9.0 9.38e-02  -3.4 1.00e+00 1.00e+00f  1\n",
      "  65r-2.1500000e+00 4.45e+00 3.70e-05  -9.0 8.44e-01  -4.4 1.00e+00 1.00e+00f  1\n",
      "In iteration 65, 1 Slack too small, adjusting variable bound\n",
      "  66r-2.1500000e+00 4.45e+00 7.91e-02  -9.0 1.24e+05    -  1.16e-01 1.16e-01f  1\n",
      "  67r-2.1500000e+00 4.45e+00 8.52e-02  -9.0 5.36e+04    -  7.11e-01 3.12e-02h  6\n",
      "  68r-2.1500000e+00 4.45e+00 6.60e-02  -9.0 2.08e+04    -  1.00e+00 2.50e-01h  3\n",
      "  69r-2.1500000e+00 4.45e+00 3.64e-04  -9.0 3.76e+04    -  1.00e+00 1.00e+00f  1\n",
      "iter    objective    inf_pr   inf_du lg(mu)  ||d||  lg(rg) alpha_du alpha_pr  ls\n",
      "  70r-2.1500000e+00 4.45e+00 9.72e-04  -9.0 2.17e+03    -  1.00e+00 1.00e+00h  1\n",
      "  71r-2.1500000e+00 4.45e+00 4.14e-05  -9.0 2.55e+01  -5.8 1.00e+00 1.00e+00h  1\n",
      "  72r-2.1500000e+00 4.45e+00 4.14e-05  -9.0 2.34e-03  -1.8 1.00e+00 1.00e+00h  1\n",
      "  73r-2.1500000e+00 4.45e+00 2.71e-03  -9.0 1.06e+03    -  1.00e+00 1.00e+00f  1\n",
      "  74r-2.1500000e+00 4.45e+00 1.93e-01  -9.0 6.19e+07    -  1.35e-04 6.48e-04f  8\n",
      "  75r-2.1500000e+00 4.45e+00 3.56e-05  -9.0 1.81e-02  -2.7 1.00e+00 1.00e+00h  1\n",
      "Cannot call restoration phase at almost feasible point,\n",
      "but acceptable point from iteration 49 could be restored.\n",
      "\n",
      "Number of Iterations....: 75\n",
      "\n",
      "                                   (scaled)                 (unscaled)\n",
      "Objective...............:  -2.1500000000032613e+00   -2.1500000000032613e+00\n",
      "Dual infeasibility......:   1.0000018020027148e+00    1.0000018020027148e+00\n",
      "Constraint violation....:   4.4512961384407390e+00    4.4512961384407390e+00\n",
      "Variable bound violation:   0.0000000000000000e+00    0.0000000000000000e+00\n",
      "Complementarity.........:   5.0288822488075165e-08    5.0288822488075165e-08\n",
      "Overall NLP error.......:   4.4512961384407390e+00    4.4512961384407390e+00\n",
      "\n",
      "\n",
      "Number of objective function evaluations             = 178\n",
      "Number of objective gradient evaluations             = 20\n",
      "Number of equality constraint evaluations            = 178\n",
      "Number of inequality constraint evaluations          = 178\n",
      "Number of equality constraint Jacobian evaluations   = 83\n",
      "Number of inequality constraint Jacobian evaluations = 83\n",
      "Number of Lagrangian Hessian evaluations             = 76\n",
      "Total seconds in IPOPT                               = 3.335\n",
      "\n",
      "EXIT: Converged to a point of local infeasibility. Problem may be infeasible.\n"
     ]
    }
   ],
   "source": [
    "# Resolver el modelo\n",
    "optimize!(model)"
   ]
  },
  {
   "cell_type": "markdown",
   "metadata": {},
   "source": [
    "# Mostrar resultados"
   ]
  },
  {
   "cell_type": "code",
   "execution_count": 9,
   "metadata": {},
   "outputs": [
    {
     "name": "stdout",
     "output_type": "stream",
     "text": [
      "Estado de la solución: LOCALLY_INFEASIBLE\n",
      "Valor óptimo de x: 2.299999999994973\n",
      "Valor óptimo de y1: 4.4499999999982345\n",
      "Valores óptimos de l: [7640.968739754492, 7639.036739754545]\n"
     ]
    }
   ],
   "source": [
    "# Mostrar resultados\n",
    "println(\"Estado de la solución: \", termination_status(model))\n",
    "println(\"Valor óptimo de x: \", value(x))\n",
    "println(\"Valor óptimo de y1: \", value(y))\n",
    "#println(\"Valor óptimo de y2: \", value(y))\n",
    "#println(\"Valores óptimos de s: \", value.(s))\n",
    "println(\"Valores óptimos de l: \", value.(l))"
   ]
  },
  {
   "cell_type": "code",
   "execution_count": 10,
   "metadata": {},
   "outputs": [
    {
     "data": {
      "text/plain": [
       "-2.1500000000032613"
      ]
     },
     "metadata": {},
     "output_type": "display_data"
    }
   ],
   "source": [
    "objective_value(model)"
   ]
  }
 ],
 "metadata": {
  "kernelspec": {
   "display_name": "Julia 1.10.5",
   "language": "julia",
   "name": "julia-1.10"
  },
  "language_info": {
   "file_extension": ".jl",
   "mimetype": "application/julia",
   "name": "julia",
   "version": "1.10.5"
  }
 },
 "nbformat": 4,
 "nbformat_minor": 2
}
