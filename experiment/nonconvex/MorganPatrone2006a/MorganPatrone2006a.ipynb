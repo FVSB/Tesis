{
 "cells": [
  {
   "cell_type": "markdown",
   "metadata": {},
   "source": [
    "## Importaciones necesarias"
   ]
  },
  {
   "cell_type": "code",
   "execution_count": 1,
   "metadata": {},
   "outputs": [],
   "source": [
    "using JuMP, Ipopt, Complementarity"
   ]
  },
  {
   "cell_type": "markdown",
   "metadata": {},
   "source": [
    "# Crear el modelo"
   ]
  },
  {
   "cell_type": "code",
   "execution_count": 2,
   "metadata": {},
   "outputs": [
    {
     "data": {
      "text/plain": [
       "A JuMP Model\n",
       "├ solver: Ipopt\n",
       "├ objective_sense: FEASIBILITY_SENSE\n",
       "├ num_variables: 0\n",
       "├ num_constraints: 0\n",
       "└ Names registered in the model: none"
      ]
     },
     "metadata": {},
     "output_type": "display_data"
    }
   ],
   "source": [
    "# Crear el modelo\n",
    "model = Model(Ipopt.Optimizer)"
   ]
  },
  {
   "cell_type": "markdown",
   "metadata": {},
   "source": [
    "## Definir Variables\n"
   ]
  },
  {
   "cell_type": "code",
   "execution_count": 3,
   "metadata": {},
   "outputs": [
    {
     "data": {
      "text/plain": [
       "2-element Vector{VariableRef}:\n",
       " l[1]\n",
       " l[2]"
      ]
     },
     "metadata": {},
     "output_type": "display_data"
    }
   ],
   "source": [
    "# Nivel superior\n",
    "@variable(model,x)\n",
    "# Nivel Inferior\n",
    "@variable(model,y)\n",
    "# Complementariedad\n",
    "@variable(model,l[1:2])"
   ]
  },
  {
   "cell_type": "markdown",
   "metadata": {},
   "source": [
    "## Definir Objetivo\n"
   ]
  },
  {
   "cell_type": "code",
   "execution_count": 4,
   "metadata": {},
   "outputs": [
    {
     "data": {
      "text/latex": [
       "$ -x - y $"
      ],
      "text/plain": [
       "-x - y"
      ]
     },
     "metadata": {},
     "output_type": "display_data"
    }
   ],
   "source": [
    "@objective(model,Min,-(x+y))"
   ]
  },
  {
   "cell_type": "markdown",
   "metadata": {},
   "source": [
    "## Definir Restricciones\n"
   ]
  },
  {
   "cell_type": "code",
   "execution_count": 5,
   "metadata": {},
   "outputs": [
    {
     "data": {
      "text/plain": [
       "(x - l[1] + l[2] == 0, -x <= 0.5, x <= 0.5, -y <= 1, y <= 1)"
      ]
     },
     "metadata": {},
     "output_type": "display_data"
    }
   ],
   "source": [
    "@constraints(model,begin\n",
    "x-l[1]+l[2]==0 # kkt\n",
    "-0.5-x<=0 #gs\n",
    "x-0.5<=0   #gs\n",
    "-1-y<=0\n",
    "y-1<=0\n",
    "end)"
   ]
  },
  {
   "cell_type": "markdown",
   "metadata": {},
   "source": [
    "## Definir variables Complementarias"
   ]
  },
  {
   "cell_type": "code",
   "execution_count": 6,
   "metadata": {},
   "outputs": [
    {
     "data": {
      "text/latex": [
       "$$ (sqrt(l[2] ^ {2.0} + (1.0 + -1.0 * y) ^ {2.0} + 1.0e-8) - (l[2] + (1.0 + -1.0 * y))) - 0.0 = 0 $$"
      ],
      "text/plain": [
       "(sqrt(l[2] ^ 2.0 + (1.0 + -1.0 * y) ^ 2.0 + 1.0e-8) - (l[2] + (1.0 + -1.0 * y))) - 0.0 == 0"
      ]
     },
     "metadata": {},
     "output_type": "display_data"
    }
   ],
   "source": [
    "@complements(model,0<=y+1,l[1]>=0)\n",
    "@complements(model,0<=-y+1,l[2]>=0)"
   ]
  },
  {
   "cell_type": "markdown",
   "metadata": {},
   "source": [
    "## Optimizar"
   ]
  },
  {
   "cell_type": "code",
   "execution_count": 7,
   "metadata": {},
   "outputs": [
    {
     "name": "stdout",
     "output_type": "stream",
     "text": [
      "\n",
      "******************************************************************************\n",
      "This program contains Ipopt, a library for large-scale nonlinear optimization.\n",
      " Ipopt is released as open source code under the Eclipse Public License (EPL).\n",
      "         For more information visit https://github.com/coin-or/Ipopt\n",
      "******************************************************************************\n",
      "\n",
      "This is Ipopt version 3.14.16, running with linear solver MUMPS 5.7.3.\n",
      "\n",
      "Number of nonzeros in equality constraint Jacobian...:        7\n",
      "Number of nonzeros in inequality constraint Jacobian.:        8\n",
      "Number of nonzeros in Lagrangian Hessian.............:        6\n",
      "\n",
      "Total number of variables............................:        4\n",
      "                     variables with only lower bounds:        0\n",
      "                variables with lower and upper bounds:        0\n",
      "                     variables with only upper bounds:        0\n",
      "Total number of equality constraints.................:        3\n",
      "Total number of inequality constraints...............:        8\n",
      "        inequality constraints with only lower bounds:        4\n",
      "   inequality constraints with lower and upper bounds:        0\n",
      "        inequality constraints with only upper bounds:        4\n",
      "\n",
      "iter    objective    inf_pr   inf_du lg(mu)  ||d||  lg(rg) alpha_du alpha_pr  ls\n",
      "   0 -0.0000000e+00 5.00e-09 2.00e-01  -1.0 0.00e+00    -  0.00e+00 0.00e+00   0\n",
      "   1 -2.4750034e-01 4.57e-10 3.70e-01  -1.7 2.50e-01    -  8.05e-01 9.90e-01f  1\n",
      "   2 -9.9247500e-01 6.51e-07 3.07e+01  -1.7 8.80e-01    -  1.00e+00 8.46e-01f  1\n",
      "   3 -9.7869153e-01 1.16e-06 7.68e+02  -1.7 3.17e-02    -  1.00e+00 4.35e-01f  2\n",
      "   4 -9.6173901e-01 9.26e-08 2.86e+01  -1.7 1.71e-02    -  1.00e+00 9.91e-01h  1\n",
      "   5 -9.8126974e-01 6.96e-08 1.73e+00  -1.7 1.95e-02    -  1.00e+00 1.00e+00h  1\n",
      "   6 -9.9999672e-01 9.68e-05 8.87e+04  -3.8 9.41e-02   0.0 1.28e-01 1.99e-01f  1\n",
      "   7 -9.9989833e-01 2.15e-05 1.91e+05  -3.8 4.98e-05    -  1.14e-02 1.00e+00f  1\n",
      "   8 -9.9986170e-01 1.59e-06 3.92e+03  -3.8 1.84e-05    -  1.00e+00 1.00e+00h  1\n",
      "   9 -9.9985856e-01 8.94e-09 4.30e+01  -3.8 1.59e-06    -  1.00e+00 1.00e+00h  1\n",
      "iter    objective    inf_pr   inf_du lg(mu)  ||d||  lg(rg) alpha_du alpha_pr  ls\n",
      "  10 -9.9985846e-01 1.97e-08 1.02e+00  -3.8 1.72e-06    -  1.00e+00 1.00e+00h  1\n",
      "  11 -9.9979703e-01 1.59e-05 1.31e+00  -3.8 7.16e-05    -  1.00e+00 1.00e+00H  1\n",
      "  12 -9.9973872e-01 5.36e-06 1.17e+01  -3.8 8.38e-04   2.2 1.00e+00 1.02e-01h  2\n",
      "  13 -9.9978081e-01 5.68e-07 1.27e-01  -3.8 3.99e-05    -  1.00e+00 1.00e+00h  1\n",
      "  14 -9.9979483e-01 1.97e-07 2.57e-02  -3.8 1.69e-05    -  1.00e+00 1.00e+00h  1\n",
      "  15 -9.9989894e-01 2.19e-05 4.89e+03  -5.7 1.24e-04    -  5.88e-01 1.00e+00h  1\n",
      "  16 -9.9986215e-01 1.86e-06 7.91e+02  -5.7 2.39e-05    -  8.38e-01 1.00e+00h  1\n",
      "  17 -9.9985872e-01 7.09e-08 2.09e-02  -5.7 4.60e-06    -  1.00e+00 1.00e+00h  1\n",
      "  18 -9.9985858e-01 6.54e-09 9.21e-05  -5.7 1.03e-06    -  1.00e+00 1.00e+00h  1\n",
      "  19 -9.9985857e-01 3.58e-13 1.17e-08  -5.7 1.20e-08    -  1.00e+00 1.00e+00h  1\n",
      "iter    objective    inf_pr   inf_du lg(mu)  ||d||  lg(rg) alpha_du alpha_pr  ls\n",
      "  20 -9.9985859e-01 6.00e-09 1.70e+00  -8.6 9.33e-07    -  9.88e-01 1.00e+00h  1\n",
      "  21 -9.9985858e-01 1.27e-13 4.22e-09  -8.6 6.00e-09    -  1.00e+00 1.00e+00h  1\n",
      "\n",
      "Number of Iterations....: 21\n",
      "\n",
      "                                   (scaled)                 (unscaled)\n",
      "Objective...............:  -9.9985858114408344e-01   -9.9985858114408344e-01\n",
      "Dual infeasibility......:   4.2185192006272132e-09    4.2185192006272132e-09\n",
      "Constraint violation....:   1.2717005725380870e-13    1.2717005725380870e-13\n",
      "Variable bound violation:   0.0000000000000000e+00    0.0000000000000000e+00\n",
      "Complementarity.........:   2.5061160764799010e-09    2.5061160764799010e-09\n",
      "Overall NLP error.......:   4.2185192006272132e-09    4.2185192006272132e-09\n",
      "\n",
      "\n",
      "Number of objective function evaluations             = 25\n",
      "Number of objective gradient evaluations             = 22\n",
      "Number of equality constraint evaluations            = 25\n",
      "Number of inequality constraint evaluations          = 25\n",
      "Number of equality constraint Jacobian evaluations   = 22\n",
      "Number of inequality constraint Jacobian evaluations = 22\n",
      "Number of Lagrangian Hessian evaluations             = 21\n",
      "Total seconds in IPOPT                               = 3.345\n",
      "\n",
      "EXIT: Optimal Solution Found.\n"
     ]
    }
   ],
   "source": [
    "# Resolver el modelo\n",
    "optimize!(model)"
   ]
  },
  {
   "cell_type": "markdown",
   "metadata": {},
   "source": [
    "# Mostrar resultados"
   ]
  },
  {
   "cell_type": "code",
   "execution_count": 8,
   "metadata": {},
   "outputs": [
    {
     "name": "stdout",
     "output_type": "stream",
     "text": [
      "Estado de la solución: LOCALLY_SOLVED\n",
      "Valor óptimo de x: -7.07069290443492e-5\n",
      "Valor óptimo de y1: 0.9999292880731278\n",
      "Valores óptimos de l: [2.5000884306657654e-9, 7.070942913277987e-5]\n"
     ]
    }
   ],
   "source": [
    "# Mostrar resultados\n",
    "println(\"Estado de la solución: \", termination_status(model))\n",
    "println(\"Valor óptimo de x: \", value(x))\n",
    "println(\"Valor óptimo de y1: \", value(y))\n",
    "println(\"Valores óptimos de l: \", value.(l))"
   ]
  }
 ],
 "metadata": {
  "kernelspec": {
   "display_name": "Julia 1.10.5",
   "language": "julia",
   "name": "julia-1.10"
  },
  "language_info": {
   "file_extension": ".jl",
   "mimetype": "application/julia",
   "name": "julia",
   "version": "1.10.5"
  }
 },
 "nbformat": 4,
 "nbformat_minor": 2
}
